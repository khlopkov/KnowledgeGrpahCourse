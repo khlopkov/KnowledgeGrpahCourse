{
  "nbformat": 4,
  "nbformat_minor": 0,
  "metadata": {
    "colab": {
      "provenance": []
    },
    "kernelspec": {
      "name": "python3",
      "display_name": "Python 3"
    },
    "language_info": {
      "name": "python"
    }
  },
  "cells": [
    {
      "cell_type": "markdown",
      "source": [
        "# Обработка визуальных данных"
      ],
      "metadata": {
        "id": "NK8qY9QwWo0q"
      }
    },
    {
      "cell_type": "code",
      "execution_count": 3,
      "metadata": {
        "id": "_XuWAKZgRHOj"
      },
      "outputs": [],
      "source": [
        "import json\n",
        "\n",
        "f = open('result.json')\n",
        "\n",
        "data = json.load(f)\n",
        "\n",
        "f.close()"
      ]
    },
    {
      "cell_type": "code",
      "source": [
        "data['annotations'][0]['bbox']"
      ],
      "metadata": {
        "colab": {
          "base_uri": "https://localhost:8080/"
        },
        "id": "uDVeyRwaT94O",
        "outputId": "71010e99-4add-4375-e61b-576825ed02db"
      },
      "execution_count": 19,
      "outputs": [
        {
          "output_type": "execute_result",
          "data": {
            "text/plain": [
              "[436.49769585253455, 397.80737704918033, 57.51152073732701, 69.247950819672]"
            ]
          },
          "metadata": {},
          "execution_count": 19
        }
      ]
    },
    {
      "cell_type": "code",
      "source": [
        "import numpy as np\n",
        "\n",
        "y = int(np.floor(data['annotations'][0]['bbox'][0]))\n",
        "x = int(np.floor(data['annotations'][0]['bbox'][1]))\n",
        "h = int(np.floor(data['annotations'][0]['bbox'][2]))\n",
        "w = int(np.floor(data['annotations'][0]['bbox'][3]))"
      ],
      "metadata": {
        "id": "nBnkEqZ9VIMo"
      },
      "execution_count": 27,
      "outputs": []
    },
    {
      "cell_type": "code",
      "source": [
        "import cv2\n",
        "\n",
        "ssimg = cv2.imread('/content/01736f64-20240618153818_1.jpg')"
      ],
      "metadata": {
        "id": "NFJRm1GDUFkt"
      },
      "execution_count": 23,
      "outputs": []
    },
    {
      "cell_type": "code",
      "source": [
        "ssimggray=cv2.cvtColor(ssimg,cv2.COLOR_BGR2GRAY)"
      ],
      "metadata": {
        "collapsed": true,
        "id": "VjXtiSBnUciL"
      },
      "execution_count": 24,
      "outputs": []
    },
    {
      "cell_type": "code",
      "source": [
        "import cv2"
      ],
      "metadata": {
        "id": "9S1kd2-6msBA"
      },
      "execution_count": null,
      "outputs": []
    },
    {
      "cell_type": "code",
      "source": [
        "image = cv2.imread('/content/20240618153818_1.jpg')\n",
        "image=cv2.cvtColor(image,cv2.COLOR_BGR2GRAY)\n",
        "se=cv2.getStructuringElement(cv2.MORPH_RECT , (8,8))\n",
        "bg=cv2.morphologyEx(image, cv2.MORPH_DILATE, se)\n",
        "out_gray=cv2.divide(image, bg, scale=255)\n",
        "out_binary=cv2.threshold(out_gray, 0, 255, cv2.THRESH_OTSU )[1]"
      ],
      "metadata": {
        "id": "FOiJf__Sl1Qh"
      },
      "execution_count": null,
      "outputs": []
    },
    {
      "cell_type": "code",
      "source": [
        "from google.colab.patches import cv2_imshow\n",
        "\n",
        "cv2_imshow(out_gray)"
      ],
      "metadata": {
        "colab": {
          "base_uri": "https://localhost:8080/",
          "height": 99
        },
        "id": "RvPWa6uJmyhc",
        "outputId": "49dafa4a-a179-489c-fe99-da80b13b7226"
      },
      "execution_count": null,
      "outputs": [
        {
          "output_type": "display_data",
          "data": {
            "text/plain": [
              "<PIL.Image.Image image mode=L size=69x82>"
            ],
            "image/png": "[encoded data removed]"
          },
          "metadata": {}
        }
      ]
    }
  ]
}