{
 "cells": [
  {
   "cell_type": "markdown",
   "metadata": {
    "id": "8dc68cd5"
   },
   "source": [
    "## Reinforcement Learning (RL)\n",
    "\n",
    "\n",
    "Reinforcement Learning (Обучение с подкреплением) — это класс машинного обучения, в котором агент обучается принимать решения путем взаимодействия с окружающей средой. Агент принимает действия, получает обратную связь в виде вознаграждения или штрафа, и стремится максимизировать кумулятивное вознаграждение.\n",
    "\n",
    "## Q-learning\n",
    "[Q-learning](https://en.wikipedia.org/wiki/Q-learning) — это один из методов обучения с подкреплением, используемый для обучения агента принимать оптимальные действия в конкретной среде. Агент стремится выучить функцию Q, которая оценивает ожидаемую награду для каждой пары состояние-действие.\n",
    "\n",
    "## Тестирование и Валидация\n",
    "\n",
    "В контексте RL, тестирование и валидация играют важную роль. После обучения модели агента необходимо оценить ее производительность (тестирование) и убедиться в ее способности обобщения к различным ситуациям (валидация).\n",
    "\n",
    "Тестирование в RL включает в себя запуск обученной модели в реальной среде и измерение ее производительности на основе определенных метрик. Валидация, с другой стороны, может включать в себя проверку способности модели адаптироваться к новым условиям или изменениям в среде.\n"
   ],
   "id": "8dc68cd5"
  },
  {
   "cell_type": "markdown",
   "metadata": {
    "id": "221acc63"
   },
   "source": [
    "### Установка зависимостей\n",
    "\n",
    "На первом шаге мы начинаем с установки необходимых библиотек. Пакет [gymnasium](https://en.wikipedia.org/wiki/Q-learning#Deep_Q-learning) предоставляет различные среды для обучения с подкреплением, в то время как [stable-baselines3](https://en.wikipedia.org/wiki/Q-learning#Deep_Q-learning) предоставляет реализации различных алгоритмов обучения с подкреплением.\n",
    "\n",
    "\n",
    "Эти пакеты будут использованы в дальнейшем коде для создания среды и реализации алгоритма обучения с подкреплением."
   ],
   "id": "221acc63"
  },
  {
   "cell_type": "code",
   "execution_count": null,
   "metadata": {
    "colab": {
     "base_uri": "https://localhost:8080/"
    },
    "id": "fc3a1b2f",
    "outputId": "a91d14bd-5d43-49c0-fbd0-c675f5540b3f",
    "scrolled": true
   },
   "outputs": [
    {
     "output_type": "stream",
     "name": "stdout",
     "text": [
      "Requirement already satisfied: gym[all] in /usr/local/lib/python3.10/dist-packages (0.25.2)\n",
      "Requirement already satisfied: numpy>=1.18.0 in /usr/local/lib/python3.10/dist-packages (from gym[all]) (1.23.5)\n",
      "Requirement already satisfied: cloudpickle>=1.2.0 in /usr/local/lib/python3.10/dist-packages (from gym[all]) (2.2.1)\n",
      "Requirement already satisfied: gym-notices>=0.0.4 in /usr/local/lib/python3.10/dist-packages (from gym[all]) (0.0.8)\n",
      "Collecting box2d-py==2.3.5 (from gym[all])\n",
      "  Using cached box2d-py-2.3.5.tar.gz (374 kB)\n",
      "  Preparing metadata (setup.py) ... \u001B[?25l\u001B[?25hdone\n",
      "Requirement already satisfied: ale-py~=0.7.5 in /usr/local/lib/python3.10/dist-packages (from gym[all]) (0.7.5)\n",
      "Collecting mujoco-py<2.2,>=2.1 (from gym[all])\n",
      "  Using cached mujoco_py-2.1.2.14-py3-none-any.whl (2.4 MB)\n",
      "Collecting mujoco==2.2.0 (from gym[all])\n",
      "  Using cached mujoco-2.2.0-cp310-cp310-manylinux_2_17_x86_64.manylinux2014_x86_64.whl (3.6 MB)\n",
      "Requirement already satisfied: opencv-python>=3.0 in /usr/local/lib/python3.10/dist-packages (from gym[all]) (4.8.0.76)\n",
      "Collecting pytest==7.0.1 (from gym[all])\n",
      "  Using cached pytest-7.0.1-py3-none-any.whl (296 kB)\n",
      "Collecting pygame==2.1.0 (from gym[all])\n",
      "  Using cached pygame-2.1.0-cp310-cp310-manylinux_2_17_x86_64.manylinux2014_x86_64.whl (18.3 MB)\n",
      "Requirement already satisfied: imageio>=2.14.1 in /usr/local/lib/python3.10/dist-packages (from gym[all]) (2.31.6)\n",
      "Requirement already satisfied: matplotlib>=3.0 in /usr/local/lib/python3.10/dist-packages (from gym[all]) (3.7.1)\n",
      "Collecting lz4>=3.1.0 (from gym[all])\n",
      "  Using cached lz4-4.3.3-cp310-cp310-manylinux_2_17_x86_64.manylinux2014_x86_64.whl (1.3 MB)\n",
      "Collecting swig==4.* (from gym[all])\n",
      "  Using cached swig-4.1.1.post1-py2.py3-none-manylinux_2_5_x86_64.manylinux1_x86_64.whl (1.8 MB)\n",
      "Requirement already satisfied: absl-py in /usr/local/lib/python3.10/dist-packages (from mujoco==2.2.0->gym[all]) (1.4.0)\n",
      "Collecting glfw (from mujoco==2.2.0->gym[all])\n",
      "  Using cached glfw-2.6.4-py2.py27.py3.py30.py31.py32.py33.py34.py35.py36.py37.py38-none-manylinux2014_x86_64.whl (211 kB)\n",
      "Requirement already satisfied: pyopengl in /usr/local/lib/python3.10/dist-packages (from mujoco==2.2.0->gym[all]) (3.1.7)\n",
      "Requirement already satisfied: attrs>=19.2.0 in /usr/local/lib/python3.10/dist-packages (from pytest==7.0.1->gym[all]) (23.2.0)\n",
      "Requirement already satisfied: iniconfig in /usr/local/lib/python3.10/dist-packages (from pytest==7.0.1->gym[all]) (2.0.0)\n",
      "Requirement already satisfied: packaging in /usr/local/lib/python3.10/dist-packages (from pytest==7.0.1->gym[all]) (23.2)\n",
      "Requirement already satisfied: pluggy<2.0,>=0.12 in /usr/local/lib/python3.10/dist-packages (from pytest==7.0.1->gym[all]) (1.3.0)\n",
      "Collecting py>=1.8.2 (from pytest==7.0.1->gym[all])\n",
      "  Using cached py-1.11.0-py2.py3-none-any.whl (98 kB)\n",
      "Requirement already satisfied: tomli>=1.0.0 in /usr/local/lib/python3.10/dist-packages (from pytest==7.0.1->gym[all]) (2.0.1)\n",
      "Requirement already satisfied: importlib-resources in /usr/local/lib/python3.10/dist-packages (from ale-py~=0.7.5->gym[all]) (6.1.1)\n",
      "Requirement already satisfied: pillow<10.1.0,>=8.3.2 in /usr/local/lib/python3.10/dist-packages (from imageio>=2.14.1->gym[all]) (9.4.0)\n",
      "Requirement already satisfied: contourpy>=1.0.1 in /usr/local/lib/python3.10/dist-packages (from matplotlib>=3.0->gym[all]) (1.2.0)\n",
      "Requirement already satisfied: cycler>=0.10 in /usr/local/lib/python3.10/dist-packages (from matplotlib>=3.0->gym[all]) (0.12.1)\n",
      "Requirement already satisfied: fonttools>=4.22.0 in /usr/local/lib/python3.10/dist-packages (from matplotlib>=3.0->gym[all]) (4.47.0)\n",
      "Requirement already satisfied: kiwisolver>=1.0.1 in /usr/local/lib/python3.10/dist-packages (from matplotlib>=3.0->gym[all]) (1.4.5)\n",
      "Requirement already satisfied: pyparsing>=2.3.1 in /usr/local/lib/python3.10/dist-packages (from matplotlib>=3.0->gym[all]) (3.1.1)\n",
      "Requirement already satisfied: python-dateutil>=2.7 in /usr/local/lib/python3.10/dist-packages (from matplotlib>=3.0->gym[all]) (2.8.2)\n",
      "Requirement already satisfied: Cython>=0.27.2 in /usr/local/lib/python3.10/dist-packages (from mujoco-py<2.2,>=2.1->gym[all]) (3.0.7)\n",
      "Requirement already satisfied: cffi>=1.10 in /usr/local/lib/python3.10/dist-packages (from mujoco-py<2.2,>=2.1->gym[all]) (1.16.0)\n",
      "Collecting fasteners~=0.15 (from mujoco-py<2.2,>=2.1->gym[all])\n",
      "  Using cached fasteners-0.19-py3-none-any.whl (18 kB)\n",
      "Requirement already satisfied: pycparser in /usr/local/lib/python3.10/dist-packages (from cffi>=1.10->mujoco-py<2.2,>=2.1->gym[all]) (2.21)\n",
      "Requirement already satisfied: six>=1.5 in /usr/local/lib/python3.10/dist-packages (from python-dateutil>=2.7->matplotlib>=3.0->gym[all]) (1.16.0)\n",
      "Building wheels for collected packages: box2d-py\n",
      "  \u001B[1;31merror\u001B[0m: \u001B[1msubprocess-exited-with-error\u001B[0m\n",
      "  \n",
      "  \u001B[31m×\u001B[0m \u001B[32mpython setup.py bdist_wheel\u001B[0m did not run successfully.\n",
      "  \u001B[31m│\u001B[0m exit code: \u001B[1;36m1\u001B[0m\n",
      "  \u001B[31m╰─>\u001B[0m See above for output.\n",
      "  \n",
      "  \u001B[1;35mnote\u001B[0m: This error originates from a subprocess, and is likely not a problem with pip.\n",
      "  Building wheel for box2d-py (setup.py) ... \u001B[?25lerror\n",
      "\u001B[31m  ERROR: Failed building wheel for box2d-py\u001B[0m\u001B[31m\n",
      "\u001B[0m\u001B[?25h  Running setup.py clean for box2d-py\n",
      "Failed to build box2d-py\n",
      "\u001B[31mERROR: Could not build wheels for box2d-py, which is required to install pyproject.toml-based projects\u001B[0m\u001B[31m\n",
      "\u001B[0mRequirement already satisfied: autorom[accept-rom-license] in /usr/local/lib/python3.10/dist-packages (0.6.1)\n",
      "Requirement already satisfied: click in /usr/local/lib/python3.10/dist-packages (from autorom[accept-rom-license]) (8.1.7)\n",
      "Requirement already satisfied: requests in /usr/local/lib/python3.10/dist-packages (from autorom[accept-rom-license]) (2.31.0)\n",
      "Requirement already satisfied: AutoROM.accept-rom-license in /usr/local/lib/python3.10/dist-packages (from autorom[accept-rom-license]) (0.6.1)\n",
      "Requirement already satisfied: charset-normalizer<4,>=2 in /usr/local/lib/python3.10/dist-packages (from requests->autorom[accept-rom-license]) (3.3.2)\n",
      "Requirement already satisfied: idna<4,>=2.5 in /usr/local/lib/python3.10/dist-packages (from requests->autorom[accept-rom-license]) (3.6)\n",
      "Requirement already satisfied: urllib3<3,>=1.21.1 in /usr/local/lib/python3.10/dist-packages (from requests->autorom[accept-rom-license]) (2.0.7)\n",
      "Requirement already satisfied: certifi>=2017.4.17 in /usr/local/lib/python3.10/dist-packages (from requests->autorom[accept-rom-license]) (2023.11.17)\n",
      "Requirement already satisfied: stable-baselines3 in /usr/local/lib/python3.10/dist-packages (2.2.1)\n",
      "Requirement already satisfied: gymnasium<0.30,>=0.28.1 in /usr/local/lib/python3.10/dist-packages (from stable-baselines3) (0.29.1)\n",
      "Requirement already satisfied: numpy>=1.20 in /usr/local/lib/python3.10/dist-packages (from stable-baselines3) (1.23.5)\n",
      "Requirement already satisfied: torch>=1.13 in /usr/local/lib/python3.10/dist-packages (from stable-baselines3) (2.1.0+cu121)\n",
      "Requirement already satisfied: cloudpickle in /usr/local/lib/python3.10/dist-packages (from stable-baselines3) (2.2.1)\n",
      "Requirement already satisfied: pandas in /usr/local/lib/python3.10/dist-packages (from stable-baselines3) (1.5.3)\n",
      "Requirement already satisfied: matplotlib in /usr/local/lib/python3.10/dist-packages (from stable-baselines3) (3.7.1)\n",
      "Requirement already satisfied: typing-extensions>=4.3.0 in /usr/local/lib/python3.10/dist-packages (from gymnasium<0.30,>=0.28.1->stable-baselines3) (4.5.0)\n",
      "Requirement already satisfied: farama-notifications>=0.0.1 in /usr/local/lib/python3.10/dist-packages (from gymnasium<0.30,>=0.28.1->stable-baselines3) (0.0.4)\n",
      "Requirement already satisfied: filelock in /usr/local/lib/python3.10/dist-packages (from torch>=1.13->stable-baselines3) (3.13.1)\n",
      "Requirement already satisfied: sympy in /usr/local/lib/python3.10/dist-packages (from torch>=1.13->stable-baselines3) (1.12)\n",
      "Requirement already satisfied: networkx in /usr/local/lib/python3.10/dist-packages (from torch>=1.13->stable-baselines3) (3.2.1)\n",
      "Requirement already satisfied: jinja2 in /usr/local/lib/python3.10/dist-packages (from torch>=1.13->stable-baselines3) (3.1.2)\n",
      "Requirement already satisfied: fsspec in /usr/local/lib/python3.10/dist-packages (from torch>=1.13->stable-baselines3) (2023.6.0)\n",
      "Requirement already satisfied: triton==2.1.0 in /usr/local/lib/python3.10/dist-packages (from torch>=1.13->stable-baselines3) (2.1.0)\n",
      "Requirement already satisfied: contourpy>=1.0.1 in /usr/local/lib/python3.10/dist-packages (from matplotlib->stable-baselines3) (1.2.0)\n",
      "Requirement already satisfied: cycler>=0.10 in /usr/local/lib/python3.10/dist-packages (from matplotlib->stable-baselines3) (0.12.1)\n",
      "Requirement already satisfied: fonttools>=4.22.0 in /usr/local/lib/python3.10/dist-packages (from matplotlib->stable-baselines3) (4.47.0)\n",
      "Requirement already satisfied: kiwisolver>=1.0.1 in /usr/local/lib/python3.10/dist-packages (from matplotlib->stable-baselines3) (1.4.5)\n",
      "Requirement already satisfied: packaging>=20.0 in /usr/local/lib/python3.10/dist-packages (from matplotlib->stable-baselines3) (23.2)\n",
      "Requirement already satisfied: pillow>=6.2.0 in /usr/local/lib/python3.10/dist-packages (from matplotlib->stable-baselines3) (9.4.0)\n",
      "Requirement already satisfied: pyparsing>=2.3.1 in /usr/local/lib/python3.10/dist-packages (from matplotlib->stable-baselines3) (3.1.1)\n",
      "Requirement already satisfied: python-dateutil>=2.7 in /usr/local/lib/python3.10/dist-packages (from matplotlib->stable-baselines3) (2.8.2)\n",
      "Requirement already satisfied: pytz>=2020.1 in /usr/local/lib/python3.10/dist-packages (from pandas->stable-baselines3) (2023.3.post1)\n",
      "Requirement already satisfied: six>=1.5 in /usr/local/lib/python3.10/dist-packages (from python-dateutil>=2.7->matplotlib->stable-baselines3) (1.16.0)\n",
      "Requirement already satisfied: MarkupSafe>=2.0 in /usr/local/lib/python3.10/dist-packages (from jinja2->torch>=1.13->stable-baselines3) (2.1.3)\n",
      "Requirement already satisfied: mpmath>=0.19 in /usr/local/lib/python3.10/dist-packages (from sympy->torch>=1.13->stable-baselines3) (1.3.0)\n"
     ]
    }
   ],
   "source": [
    "# Установка необходимых библиотек\n",
    "!pip install gym[all]\n",
    "!pip install autorom[accept-rom-license]\n",
    "!pip install stable-baselines3\n",
    "!pip install PyVirtualDisplay\n",
    "!sudo apt-get install xvfb\n",
    "!pip install shimmy"
   ],
   "id": "fc3a1b2f"
  },
  {
   "cell_type": "markdown",
   "metadata": {
    "id": "f0fa5004"
   },
   "source": [
    "После установки мы импортируем два основных модуля: gym и [DQN](https://en.wikipedia.org/wiki/Q-learning#Deep_Q-learning) из stable_baselines3. gym предоставляет инструменты для создания и использования различных сред для обучения агента, в то время как DQN (Deep Q-Network) представляет собой алгоритм Q-learning с использованием нейронных сетей для оценки функции Q."
   ],
   "id": "f0fa5004"
  },
  {
   "cell_type": "code",
   "execution_count": null,
   "metadata": {
    "id": "bd3628a3"
   },
   "outputs": [],
   "source": [
    "# Импорт необходимых пакетов\n",
    "import gymnasium as gym\n",
    "from stable_baselines3 import DQN"
   ],
   "id": "bd3628a3"
  },
  {
   "cell_type": "markdown",
   "metadata": {
    "id": "c8e2713d"
   },
   "source": [
    "### Выбор среды\n",
    "Давайте определим задачу, которую мы будем решать, используя алгоритм Q-learning и библиотеки gym и stable-baselines3. В данной работе мы будем использовать среду [CartPole](https://www.gymlibrary.dev/environments/classic_control/cart_pole/), предоставляемую Gym. Эта задача заключается в управлении тележкой таким образом, чтобы удерживать шест в вертикальном положении.\n"
   ],
   "id": "c8e2713d"
  },
  {
   "cell_type": "markdown",
   "metadata": {
    "id": "8677e9b6"
   },
   "source": [
    "#### Создание среды CartPole\n",
    "\n",
    "Мы используем метод gym.make() для создания среды с именем 'CartPole-v1'. Эта среда предоставляет задачу с тележкой и шестом."
   ],
   "id": "8677e9b6"
  },
  {
   "cell_type": "code",
   "execution_count": null,
   "metadata": {
    "id": "a1f793a3"
   },
   "outputs": [],
   "source": [
    "# Создание среды CartPole\n",
    "env = gym.make(\"Taxi-v3\")"
   ],
   "id": "a1f793a3"
  },
  {
   "cell_type": "markdown",
   "metadata": {
    "id": "eac4a7d4"
   },
   "source": [
    "#### Описание задачи\n",
    "Мы сохраняем информацию о пространстве наблюдений (observation_space) и пространстве действий (action_space). observation_space представляет собой пространство всех возможных состояний в задаче, а action_space - пространство всех возможных действий, которые агент может предпринять."
   ],
   "id": "eac4a7d4"
  },
  {
   "cell_type": "code",
   "execution_count": null,
   "metadata": {
    "id": "d230741c"
   },
   "outputs": [],
   "source": [
    "# Описание задачи\n",
    "observation_space = env.observation_space\n",
    "action_space = env.action_space"
   ],
   "id": "d230741c"
  },
  {
   "cell_type": "markdown",
   "metadata": {
    "id": "ae44f0f7"
   },
   "source": [
    "Эти шаги предварительно готовят нас к использованию выбранной среды для обучения и тестирования агента с использованием алгоритма Q-learning."
   ],
   "id": "ae44f0f7"
  },
  {
   "cell_type": "markdown",
   "metadata": {
    "id": "f744ee93"
   },
   "source": [
    "### Решение задачи\n",
    "На этом шаге мы используем алгоритм Q-learning, представленный в stable-baselines3, для решения задачи CartPole. Давайте разберем каждый этап.\n"
   ],
   "id": "f744ee93"
  },
  {
   "cell_type": "markdown",
   "metadata": {
    "id": "131bbf9c"
   },
   "source": [
    "#### Инициализация модели DQN\n",
    "Мы создаем экземпляр модели Deep Q-Network (DQN) с использованием DQN(\"MlpPolicy\", env, verbose=1). Здесь \"MlpPolicy\" означает полносвязную нейронную сеть в качестве политики. env - это среда CartPole, а verbose=1 добавляет вывод для отслеживания прогресса обучения."
   ],
   "id": "131bbf9c"
  },
  {
   "cell_type": "code",
   "execution_count": null,
   "metadata": {
    "id": "4725ebc2"
   },
   "outputs": [],
   "source": [
    "# Инициализация модели DQN\n",
    "model = DQN(\"MlpPolicy\", env, verbose=1)"
   ],
   "id": "4725ebc2"
  },
  {
   "cell_type": "markdown",
   "metadata": {
    "id": "cc3bfd0a"
   },
   "source": [
    "#### Обучение модели\n",
    "Мы вызываем метод learn() для обучения модели на 100 временных шагах (total_timesteps=100)."
   ],
   "id": "cc3bfd0a"
  },
  {
   "cell_type": "code",
   "execution_count": null,
   "metadata": {
    "id": "6e2a56c9"
   },
   "outputs": [],
   "source": [
    "# Обучение модели\n",
    "timestamp=800000\n",
    "model.learn(total_timesteps=timestamp, log_interval=4)\n",
    "model.save(\"dqn_taxi\")"
   ],
   "id": "6e2a56c9"
  },
  {
   "cell_type": "markdown",
   "metadata": {
    "id": "76a16960"
   },
   "source": [
    "#### Тестирование модели\n",
    "Мы тестируем обученную модель, используя цикл, в котором агент принимает решения в соответствии с обученной политикой на каждом временном шаге. Мы используем метод render(), чтобы визуализировать среду в реальном времени."
   ],
   "id": "76a16960"
  },
  {
   "cell_type": "code",
   "execution_count": null,
   "metadata": {
    "id": "oF1OwapdWnG9"
   },
   "outputs": [],
   "source": [
    "!sudo apt-get install xvfb"
   ],
   "id": "oF1OwapdWnG9"
  },
  {
   "cell_type": "code",
   "execution_count": null,
   "metadata": {
    "id": "c2f29060"
   },
   "outputs": [],
   "source": [
    "import gym\n",
    "from IPython import display\n",
    "from pyvirtualdisplay import Display\n",
    "import matplotlib.pyplot as plt\n",
    "from matplotlib import animation\n",
    "\n",
    "\n",
    "d = Display()\n",
    "d.start()\n",
    "\n",
    "env = gym.make(\"Taxi-v3\")\n",
    "\n",
    "obs = env.reset()\n",
    "\n",
    "img = []\n",
    "for _ in range(100):\n",
    "    action, _states = model.predict(obs, deterministic=True)\n",
    "    obs, reward, terminated, truncated = env.step(int(action))\n",
    "    img.append(env.render('rgb_array'))\n",
    "\n",
    "dpi = 72\n",
    "interval = 50 # ms\n",
    "\n",
    "plt.figure(figsize=(img[0].shape[1]/dpi,img[0].shape[0]/dpi),dpi=dpi)\n",
    "patch = plt.imshow(img[0])\n",
    "plt.axis=('off')\n",
    "animate = lambda i: patch.set_data(img[i])\n",
    "ani = animation.FuncAnimation(plt.gcf(),animate,frames=len(img),interval=interval)\n",
    "display.display(display.HTML(ani.to_jshtml()))"
   ],
   "id": "c2f29060"
  },
  {
   "cell_type": "markdown",
   "metadata": {
    "id": "57c178e6"
   },
   "source": [
    "#### Закрытие среды после тестирования\n",
    "По завершении тестирования мы закрываем среду с помощью env.close()."
   ],
   "id": "57c178e6"
  },
  {
   "cell_type": "code",
   "execution_count": null,
   "metadata": {
    "id": "912717a1"
   },
   "outputs": [],
   "source": [
    "# Закрытие среды после тестирования\n",
    "env.close()"
   ],
   "id": "912717a1"
  },
  {
   "cell_type": "markdown",
   "metadata": {
    "id": "aa11d65b"
   },
   "source": [
    "В рамках самостоятельной работы попробуйте обучить и протестировать модель на другой среды доступной в gymnasium."
   ],
   "id": "aa11d65b"
  }
 ],
 "metadata": {
  "colab": {
   "provenance": [
    {
     "file_id": "1jtIuqHVjqWsDIEnSQsDMlMTsLzJUvHLO",
     "timestamp": 1705330449890
    },
    {
     "file_id": "1qig4cTbeXUOKy6h7dGrN3pARlEskp24c",
     "timestamp": 1705254685833
    }
   ]
  },
  "kernelspec": {
   "display_name": "Python 3 (ipykernel)",
   "language": "python",
   "name": "python3"
  },
  "language_info": {
   "codemirror_mode": {
    "name": "ipython",
    "version": 3
   },
   "file_extension": ".py",
   "mimetype": "text/x-python",
   "name": "python",
   "nbconvert_exporter": "python",
   "pygments_lexer": "ipython3",
   "version": "3.10.9"
  }
 },
 "nbformat": 4,
 "nbformat_minor": 5
}
