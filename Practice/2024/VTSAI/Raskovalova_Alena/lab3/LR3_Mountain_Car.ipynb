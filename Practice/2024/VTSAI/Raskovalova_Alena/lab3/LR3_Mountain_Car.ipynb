{
  "cells": [
    {
      "cell_type": "markdown",
      "metadata": {
        "id": "8dc68cd5"
      },
      "source": [
        "## Discount factor\n",
        "**Discount factor**  - это параметр, используемый в теории управления и обучении с подкреплением для оценки стоимости будущих вознаграждений. Он обозначается символом $\\gamma$ (гамма).\n",
        "\n",
        "В контексте задачи обучения с подкреплением, такой как у **DQN** алгоритма, фактор дисконтирования применяется к будущим вознаграждениям, чтобы учесть уменьшение их значения с течением времени. Фактор дисконтирования позволяет агенту принимать во внимание не только мгновенные вознаграждения, но и будущие вознаграждения, приводя к более долгосрочной стратегии.\n",
        "\n",
        "**Формула для дисконтирования будущих вознаграждений** выглядит следующим образом:\n",
        "\n",
        " $G_t$ = $R_{t+1}$ + $\\gamma$ $R_{t+2}$ + $\\gamma$^2 $R_{t+3}$ + $\\ldots$ = $\\sum_{k=0}^{\\infty}$ $\\gamma$^k $R_{t+k+1}$\n",
        "\n",
        "где:\n",
        "- $G_t$ - дисконтированная сумма вознаграждений (вознаграждение с учетом будущих шагов);\n",
        "- $R_{t+k+1}$ - вознаграждение, полученное на шаге $t+k+1$;\n",
        "- $\\gamma$ - фактор дисконтирования,  $0 \\leq \\gamma \\leq 1$.\n",
        "\n",
        "Фактор дисконтирования имеет важное значение при принятии решений в условиях неопределенности, где агенту нужно учитывать как мгновенные, так и будущие вознаграждения, с учетом их временного удаления. Выбор подходящего значения для фактора дисконтирования может влиять на стратегии обучения.\n"
      ],
      "id": "8dc68cd5"
    },
    {
      "cell_type": "markdown",
      "metadata": {
        "id": "pgaFe0w08Gg2"
      },
      "source": [
        "## Long-term и Short-term стратегия\n",
        "\n",
        "Фактор дисконтирования оказывает сильное влияние на долгосрочность стратегии.\n",
        "В контексте обучения с подкреплением и стратегий агента, термины \"краткосрочные\" и \"долгосрочные\" относятся к временным характеристикам принятия решений агентом.\n",
        "\n",
        "**Краткосрочные стратегии**:\n",
        "\n",
        "> Агент, придерживающийся краткосрочной стратегии, ориентируется в основном на текущую информацию и мгновенные вознаграждения.\n",
        "Такой агент может принимать решения, которые приносят максимальное мгновенное вознаграждение, не уделяя большого внимания будущим шагам. Такой агент может принимать решения, которые приносят максимальное мгновенное вознаграждение, не уделяя большого внимания будущим шагам.\n",
        "\n",
        "\n",
        "\n",
        "\n",
        "**Долгосрочные стратегии**:\n",
        "\n",
        "\n",
        "> Агент, придерживающийся долгосрочной стратегии, учитывает будущие вознаграждения и последствия своих действий на протяжении более длительного времени.\n",
        "Такой агент может предпочесть действия, которые могут не приносить максимальное мгновенное вознаграждение, но могут способствовать достижению более высоких наград в будущем.\n",
        "\n",
        "Когда говорят о краткосрочных или долгосрочных стратегиях в контексте обучения с подкреплением, обычно имеется в виду, как агент принимает решения, оптимизируя сумму будущих вознаграждений. Фактор дисконтирования γ в уравнении обучения с подкреплением регулирует степень учета будущих вознаграждений, и, таким образом, влияет на то, насколько агент ориентирован на краткосрочные или долгосрочные перспективы."
      ],
      "id": "pgaFe0w08Gg2"
    },
    {
      "cell_type": "markdown",
      "metadata": {
        "id": "4ZIN2MIo1pJ5"
      },
      "source": [
        "## Метрики для оценки модели\n",
        "В данной работе мы рассмотрим некоторые метрики, которые могут быть использованы для оценки обучения модели.\n",
        "Мы будем решать задачу в окружении Taxi-v3, а в качестве модели используем уже знакомый DQN. При этом мы обучим модель несколько разных с разным параметром Discount factor.\n",
        "\n",
        "Для оценки модели мы рассмотрим следущие метрики:\n",
        "\n",
        "*   Q-values, их поведение и сходимость.\n",
        "*   Средняя награда за эпизод.\n",
        "*   Время затрачиваемое на обучение модели.\n",
        "\n",
        "\n",
        "\n",
        "\n",
        "\n",
        "\n"
      ],
      "id": "4ZIN2MIo1pJ5"
    },
    {
      "cell_type": "markdown",
      "metadata": {
        "id": "221acc63"
      },
      "source": [
        "### Установка зависимостей\n",
        "\n",
        "На первом шаге мы начинаем с установки необходимых библиотек. Пакет [gymnasium](https://en.wikipedia.org/wiki/Q-learning#Deep_Q-learning) предоставляет различные среды для обучения с подкреплением, в то время как [stable-baselines3](https://en.wikipedia.org/wiki/Q-learning#Deep_Q-learning) предоставляет реализации различных алгоритмов обучения с подкреплением."
      ],
      "id": "221acc63"
    },
    {
      "cell_type": "code",
      "execution_count": null,
      "metadata": {
        "id": "fc3a1b2f",
        "scrolled": true
      },
      "outputs": [],
      "source": [
        "# Установка необходимых библиотек\n",
        "!pip install gymnasium\n",
        "!pip install stable-baselines3"
      ],
      "id": "fc3a1b2f"
    },
    {
      "cell_type": "markdown",
      "metadata": {
        "id": "Z1Fbb4br3TK2"
      },
      "source": [
        "Импортируем пакет, которые будут использованы в данной работе\n"
      ],
      "id": "Z1Fbb4br3TK2"
    },
    {
      "cell_type": "code",
      "execution_count": 9,
      "metadata": {
        "id": "IWD3A_wi5qHh",
        "colab": {
          "base_uri": "https://localhost:8080/"
        },
        "outputId": "3b899b5c-ad26-4cb2-ef5a-a0fcbd773522"
      },
      "outputs": [
        {
          "output_type": "stream",
          "name": "stderr",
          "text": [
            "/usr/local/lib/python3.10/dist-packages/ipykernel/ipkernel.py:283: DeprecationWarning: `should_run_async` will not call `transform_cell` automatically in the future. Please pass the result to `transformed_cell` argument and any exception that happen during thetransform in `preprocessing_exc_tuple` in IPython 7.17 and above.\n",
            "  and should_run_async(code)\n"
          ]
        }
      ],
      "source": [
        "# Импорт библиотек\n",
        "import torch as th\n",
        "import numpy as np\n",
        "import gymnasium as gym\n",
        "import matplotlib.pyplot as plt\n",
        "from stable_baselines3 import DQN\n",
        "from stable_baselines3.common.evaluation import evaluate_policy\n",
        "import time"
      ],
      "id": "IWD3A_wi5qHh"
    },
    {
      "cell_type": "markdown",
      "metadata": {
        "id": "ctnQDvYs3Xpe"
      },
      "source": [
        "Q-значения (Q-values) представляют собой оценки или оценочные функции, используемые в контексте обучения с подкреплением для измерения ожидаемой полезности (ценности) принятия определенного действия в конкретном состоянии.\n",
        "\n",
        "Для получения значений для нашей модели реализуем функцию, которая их извлекает из q-сети."
      ],
      "id": "ctnQDvYs3Xpe"
    },
    {
      "cell_type": "code",
      "execution_count": 10,
      "metadata": {
        "id": "JdVK2QGXDcH3"
      },
      "outputs": [],
      "source": [
        "def q_values(model: DQN, obs: np.ndarray) -> np.ndarray:\n",
        "  # Доступ к Q-network\n",
        "  q_net = model.q_net\n",
        "  # Конвертируем observation в PyTorch tensor\n",
        "  obs_tensor = th.tensor(obs, dtype=th.float32)\n",
        "  # Изменяем размерность\n",
        "  obs_tensor = obs_tensor.unsqueeze(0)\n",
        "  # Извлекаем Q-values\n",
        "  q_values = model.q_net.forward(obs_tensor)\n",
        "  return q_values.detach().numpy()[0]"
      ],
      "id": "JdVK2QGXDcH3"
    },
    {
      "cell_type": "markdown",
      "metadata": {
        "id": "BDriZ7ML4X2H"
      },
      "source": [
        "Для наглядности результатов Q-values необходимо создать функцию для составления графика по значениям."
      ],
      "id": "BDriZ7ML4X2H"
    },
    {
      "cell_type": "code",
      "execution_count": 11,
      "metadata": {
        "id": "f0ZIyURWpg8h"
      },
      "outputs": [],
      "source": [
        "def plot_q_values(q_values_list):\n",
        "  # Извлечение отдельных списков для каждого Q-значения\n",
        "  q1_values, q2_values, q3_values = zip(*q_values_list)\n",
        "\n",
        "  # Построение графика\n",
        "  plt.figure(figsize=(10, 6))\n",
        "  plt.plot(q1_values, label='Q1 Values')\n",
        "  plt.plot(q2_values, label='Q2 Values')\n",
        "  plt.plot(q3_values, label='Q3 Values')\n",
        "  plt.xlabel('Time')\n",
        "  plt.ylabel('Q-Values')\n",
        "  plt.title('Convergence of Q-Values over Time')\n",
        "  plt.legend()\n",
        "  plt.show()"
      ],
      "id": "f0ZIyURWpg8h"
    },
    {
      "cell_type": "markdown",
      "metadata": {
        "id": "kdwvvV754rHo"
      },
      "source": [
        "Следующий блок кода служит для следующих целей:\n",
        "\n",
        "*   Создание окружения\n",
        "*   Создание модели\n",
        "*   Обучение модели\n",
        "*   Оценка модели до обучения\n",
        "*   Оценка модели после обучения\n",
        "*   Измерение времени обучени\n"
      ],
      "id": "kdwvvV754rHo"
    },
    {
      "cell_type": "code",
      "execution_count": 12,
      "metadata": {
        "id": "uOdMyNh7QKER"
      },
      "outputs": [],
      "source": [
        "def mean_reward(discount_factor):\n",
        "  # Создание окружения\n",
        "  env = gym.make(\"MountainCar-v0\", render_mode=\"human\")\n",
        "\n",
        "  # Создание модели\n",
        "  model = DQN(\"MlpPolicy\", env, verbose=1, gamma=discount_factor)\n",
        "\n",
        "  # Количество эпизодов для оценки модели\n",
        "  n_eval_episodes = 250\n",
        "\n",
        "  # Оценка модели до обучения\n",
        "  mean_reward, std_reward = evaluate_policy(model, gym.make(\"MountainCar-v0\", render_mode=\"human\"), deterministic=True, n_eval_episodes=n_eval_episodes)\n",
        "  print(f\"До обучения модели с discount_factor = {discount_factor}, mean_reward:{mean_reward:.2f} +/- {std_reward:.2f}\")\n",
        "\n",
        "  # Засекаем начальное время\n",
        "  start_time = time.time()\n",
        "\n",
        "  # Обучение модели\n",
        "  model.learn(total_timesteps=10000, log_interval=100)\n",
        "\n",
        "  # Засекаем время завершения\n",
        "  end_time = time.time()\n",
        "\n",
        "  # Оценка модели после обучения\n",
        "  mean_reward, std_reward = evaluate_policy(model, gym.make(\"MountainCar-v0\", render_mode=\"human\"), deterministic=True, n_eval_episodes=n_eval_episodes)\n",
        "  print(f\"После обучения модели с discount_factor = {discount_factor}, mean_reward:{mean_reward:.2f} +/- {std_reward:.2f}\")\n",
        "  model.save(f\"dqn_cartpole_{discount_factor}\")\n",
        "  del model\n",
        "\n",
        "  # Вычисляем время обучений\n",
        "  learn_time = end_time - start_time\n",
        "  return env, learn_time"
      ],
      "id": "uOdMyNh7QKER"
    },
    {
      "cell_type": "markdown",
      "metadata": {
        "id": "9keB1T9Y519e"
      },
      "source": [
        "Q-values необходимо вычислять для некоторого набора предсказаний модели, реализуем для этого функцию"
      ],
      "id": "9keB1T9Y519e"
    },
    {
      "cell_type": "code",
      "execution_count": 13,
      "metadata": {
        "id": "G3-n6IC_cxs3"
      },
      "outputs": [],
      "source": [
        "def q_values_calculation(discount_factor, env):\n",
        "  # Загружаем созданную и созраненную модель\n",
        "  model = DQN.load(f\"dqn_cartpole_{discount_factor}\")\n",
        "\n",
        "  # В Blackjack окружении возможны 3 действия\n",
        "  action_str = ['left','no', 'right']\n",
        "  q_values_list = []\n",
        "\n",
        "  obs, info = env.reset()\n",
        "  for _ in range(100):\n",
        "      q_val = q_values(model,obs)\n",
        "      q_values_list.append(q_val)\n",
        "      action, _states = model.predict(obs, deterministic=True)\n",
        "\n",
        "      print(f\"Q-value состояния left={q_val[0]:.2f} no={q_val[1]:.2f} right={q_val[2]:.2f}\")\n",
        "      print(f\"Действие: {action_str[action]}\")\n",
        "\n",
        "      obs, reward, terminated, truncated, info = env.step(action)\n",
        "\n",
        "  return q_values_list"
      ],
      "id": "G3-n6IC_cxs3"
    },
    {
      "cell_type": "markdown",
      "metadata": {
        "id": "j37Byubd6fEI"
      },
      "source": [
        "Изменение значения discount factor (γ) в DQN может оказать существенное воздействие на обучение агента и его стратегию.\n",
        "\n",
        "Воздействие на краткосрочные или долгосрочные стратегии:\n",
        "\n",
        "*   При более высоком значении γ (ближе к 1) агент будет больше учитывать будущие вознаграждения, что может способствовать формированию более долгосрочных стратегий.\n",
        "\n",
        "*  При более низком значении γ (ближе к 0) агент будет более склонен к учету только мгновенных вознаграждений, что может привести к формированию краткосрочных стратегий.\n",
        "\n",
        "\n",
        "Влияние на стабильность обучения:\n",
        "\n",
        "*   Высокий γ может сделать обучение более стабильным, особенно в средах с большим количеством шума или случайности.\n",
        "*   Низкий γ может привести к более нестабильному обучению, так как агент будет менее чувствителен к долгосрочным последствиям своих действий.\n",
        "\n",
        "\n",
        "Влияние на временные рамки обучения:\n",
        "\n",
        "\n",
        "*   Различные значения γ могут потребовать различных временных рамок обучения для достижения оптимальных стратегий.\n",
        "*   Изменение γ может потребовать перенастройки гиперпараметров и количества шагов обучения.\n",
        "\n",
        "\n",
        "Адаптивность к задаче:\n",
        "*  Эффективное значение γ может зависеть от конкретной задачи. Например, в задачах с большой неопределенностью и случайностью, более высокий γ может быть полезен.\n",
        "\n",
        "\n",
        "Экспериментальные результаты:\n",
        "*  Чтобы определить оптимальное значение γ для вашей конкретной задачи, часто требуется провести эксперименты с различными значениями, а затем анализировать результаты."
      ],
      "id": "j37Byubd6fEI"
    },
    {
      "cell_type": "markdown",
      "metadata": {
        "id": "utVz8HWu7pXd"
      },
      "source": [
        "Рассмотрим 3 значения discount factor"
      ],
      "id": "utVz8HWu7pXd"
    },
    {
      "cell_type": "code",
      "execution_count": 14,
      "metadata": {
        "id": "Me6HrWLOvPSV"
      },
      "outputs": [],
      "source": [
        "discount_factors = [0.01,0.5,0.99]"
      ],
      "id": "Me6HrWLOvPSV"
    },
    {
      "cell_type": "code",
      "execution_count": 15,
      "metadata": {
        "colab": {
          "base_uri": "https://localhost:8080/",
          "height": 1000
        },
        "id": "f7bljIvKmNVY",
        "outputId": "3665a1b0-4149-432a-f824-59f4677effde"
      },
      "outputs": [
        {
          "output_type": "stream",
          "name": "stdout",
          "text": [
            "Using cpu device\n",
            "Wrapping the env with a `Monitor` wrapper\n",
            "Wrapping the env in a DummyVecEnv.\n"
          ]
        },
        {
          "output_type": "stream",
          "name": "stderr",
          "text": [
            "/usr/local/lib/python3.10/dist-packages/stable_baselines3/common/evaluation.py:67: UserWarning: Evaluation environment is not wrapped with a ``Monitor`` wrapper. This may result in reporting modified episode lengths and rewards, if other wrappers happen to modify these. Consider wrapping environment first with ``Monitor`` wrapper.\n",
            "  warnings.warn(\n"
          ]
        },
        {
          "output_type": "stream",
          "name": "stdout",
          "text": [
            "До обучения модели с discount_factor = 0.01, mean_reward:-200.00 +/- 0.00\n",
            "После обучения модели с discount_factor = 0.01, mean_reward:-200.00 +/- 0.00\n",
            "Q-value состояния left=0.06 no=-0.03 right=0.02\n",
            "Действие: left\n",
            "Q-value состояния left=0.06 no=-0.03 right=0.02\n",
            "Действие: left\n",
            "Q-value состояния left=0.06 no=-0.03 right=0.02\n",
            "Действие: left\n",
            "Q-value состояния left=0.06 no=-0.03 right=0.02\n",
            "Действие: left\n",
            "Q-value состояния left=0.06 no=-0.03 right=0.02\n",
            "Действие: left\n",
            "Q-value состояния left=0.06 no=-0.03 right=0.02\n",
            "Действие: left\n",
            "Q-value состояния left=0.06 no=-0.03 right=0.02\n",
            "Действие: left\n",
            "Q-value состояния left=0.06 no=-0.03 right=0.02\n",
            "Действие: left\n",
            "Q-value состояния left=0.06 no=-0.03 right=0.02\n",
            "Действие: left\n",
            "Q-value состояния left=0.06 no=-0.03 right=0.02\n",
            "Действие: left\n",
            "Q-value состояния left=0.06 no=-0.03 right=0.02\n",
            "Действие: left\n",
            "Q-value состояния left=0.06 no=-0.03 right=0.02\n",
            "Действие: left\n",
            "Q-value состояния left=0.07 no=-0.03 right=0.02\n",
            "Действие: left\n",
            "Q-value состояния left=0.07 no=-0.03 right=0.02\n",
            "Действие: left\n",
            "Q-value состояния left=0.07 no=-0.02 right=0.02\n",
            "Действие: left\n",
            "Q-value состояния left=0.07 no=-0.02 right=0.02\n",
            "Действие: left\n",
            "Q-value состояния left=0.07 no=-0.02 right=0.02\n",
            "Действие: left\n",
            "Q-value состояния left=0.07 no=-0.02 right=0.02\n",
            "Действие: left\n",
            "Q-value состояния left=0.07 no=-0.02 right=0.02\n",
            "Действие: left\n",
            "Q-value состояния left=0.07 no=-0.02 right=0.02\n",
            "Действие: left\n",
            "Q-value состояния left=0.07 no=-0.02 right=0.03\n",
            "Действие: left\n",
            "Q-value состояния left=0.07 no=-0.02 right=0.03\n",
            "Действие: left\n",
            "Q-value состояния left=0.07 no=-0.02 right=0.03\n",
            "Действие: left\n",
            "Q-value состояния left=0.07 no=-0.02 right=0.03\n",
            "Действие: left\n",
            "Q-value состояния left=0.07 no=-0.02 right=0.03\n",
            "Действие: left\n",
            "Q-value состояния left=0.07 no=-0.02 right=0.03\n",
            "Действие: left\n",
            "Q-value состояния left=0.08 no=-0.02 right=0.03\n",
            "Действие: left\n",
            "Q-value состояния left=0.08 no=-0.02 right=0.03\n",
            "Действие: left\n",
            "Q-value состояния left=0.08 no=-0.02 right=0.03\n",
            "Действие: left\n",
            "Q-value состояния left=0.08 no=-0.02 right=0.03\n",
            "Действие: left\n",
            "Q-value состояния left=0.08 no=-0.02 right=0.03\n",
            "Действие: left\n",
            "Q-value состояния left=0.08 no=-0.02 right=0.03\n",
            "Действие: left\n",
            "Q-value состояния left=0.08 no=-0.02 right=0.03\n",
            "Действие: left\n",
            "Q-value состояния left=0.08 no=-0.02 right=0.03\n",
            "Действие: left\n",
            "Q-value состояния left=0.08 no=-0.02 right=0.03\n",
            "Действие: left\n",
            "Q-value состояния left=0.08 no=-0.02 right=0.03\n",
            "Действие: left\n",
            "Q-value состояния left=0.08 no=-0.02 right=0.03\n",
            "Действие: left\n",
            "Q-value состояния left=0.08 no=-0.02 right=0.03\n",
            "Действие: left\n",
            "Q-value состояния left=0.08 no=-0.02 right=0.03\n",
            "Действие: left\n",
            "Q-value состояния left=0.08 no=-0.02 right=0.03\n",
            "Действие: left\n",
            "Q-value состояния left=0.08 no=-0.02 right=0.03\n",
            "Действие: left\n",
            "Q-value состояния left=0.08 no=-0.02 right=0.03\n",
            "Действие: left\n",
            "Q-value состояния left=0.08 no=-0.02 right=0.03\n",
            "Действие: left\n",
            "Q-value состояния left=0.08 no=-0.02 right=0.03\n",
            "Действие: left\n",
            "Q-value состояния left=0.08 no=-0.02 right=0.03\n",
            "Действие: left\n",
            "Q-value состояния left=0.08 no=-0.02 right=0.03\n",
            "Действие: left\n",
            "Q-value состояния left=0.08 no=-0.02 right=0.03\n",
            "Действие: left\n",
            "Q-value состояния left=0.08 no=-0.02 right=0.03\n",
            "Действие: left\n",
            "Q-value состояния left=0.08 no=-0.02 right=0.03\n",
            "Действие: left\n",
            "Q-value состояния left=0.08 no=-0.02 right=0.03\n",
            "Действие: left\n",
            "Q-value состояния left=0.08 no=-0.02 right=0.03\n",
            "Действие: left\n",
            "Q-value состояния left=0.08 no=-0.02 right=0.03\n",
            "Действие: left\n",
            "Q-value состояния left=0.07 no=-0.02 right=0.03\n",
            "Действие: left\n",
            "Q-value состояния left=0.07 no=-0.02 right=0.03\n",
            "Действие: left\n",
            "Q-value состояния left=0.07 no=-0.02 right=0.03\n",
            "Действие: left\n",
            "Q-value состояния left=0.07 no=-0.02 right=0.03\n",
            "Действие: left\n",
            "Q-value состояния left=0.07 no=-0.02 right=0.03\n",
            "Действие: left\n",
            "Q-value состояния left=0.07 no=-0.02 right=0.03\n",
            "Действие: left\n",
            "Q-value состояния left=0.07 no=-0.02 right=0.02\n",
            "Действие: left\n",
            "Q-value состояния left=0.07 no=-0.02 right=0.02\n",
            "Действие: left\n",
            "Q-value состояния left=0.07 no=-0.02 right=0.02\n",
            "Действие: left\n",
            "Q-value состояния left=0.07 no=-0.03 right=0.02\n",
            "Действие: left\n",
            "Q-value состояния left=0.07 no=-0.03 right=0.02\n",
            "Действие: left\n",
            "Q-value состояния left=0.07 no=-0.03 right=0.02\n",
            "Действие: left\n",
            "Q-value состояния left=0.07 no=-0.03 right=0.02\n",
            "Действие: left\n",
            "Q-value состояния left=0.07 no=-0.03 right=0.02\n",
            "Действие: left\n",
            "Q-value состояния left=0.06 no=-0.03 right=0.02\n",
            "Действие: left\n",
            "Q-value состояния left=0.06 no=-0.03 right=0.02\n",
            "Действие: left\n",
            "Q-value состояния left=0.06 no=-0.03 right=0.02\n",
            "Действие: left\n",
            "Q-value состояния left=0.06 no=-0.03 right=0.02\n",
            "Действие: left\n",
            "Q-value состояния left=0.06 no=-0.03 right=0.02\n",
            "Действие: left\n",
            "Q-value состояния left=0.06 no=-0.03 right=0.02\n",
            "Действие: left\n",
            "Q-value состояния left=0.06 no=-0.03 right=0.02\n",
            "Действие: left\n",
            "Q-value состояния left=0.06 no=-0.03 right=0.02\n",
            "Действие: left\n",
            "Q-value состояния left=0.06 no=-0.03 right=0.02\n",
            "Действие: left\n",
            "Q-value состояния left=0.06 no=-0.03 right=0.02\n",
            "Действие: left\n",
            "Q-value состояния left=0.06 no=-0.03 right=0.02\n",
            "Действие: left\n",
            "Q-value состояния left=0.06 no=-0.03 right=0.02\n",
            "Действие: left\n",
            "Q-value состояния left=0.06 no=-0.03 right=0.02\n",
            "Действие: left\n",
            "Q-value состояния left=0.06 no=-0.03 right=0.02\n",
            "Действие: left\n",
            "Q-value состояния left=0.06 no=-0.03 right=0.02\n",
            "Действие: left\n",
            "Q-value состояния left=0.06 no=-0.03 right=0.02\n",
            "Действие: left\n",
            "Q-value состояния left=0.06 no=-0.03 right=0.02\n",
            "Действие: left\n",
            "Q-value состояния left=0.06 no=-0.03 right=0.02\n",
            "Действие: left\n",
            "Q-value состояния left=0.06 no=-0.03 right=0.02\n",
            "Действие: left\n",
            "Q-value состояния left=0.06 no=-0.03 right=0.02\n",
            "Действие: left\n",
            "Q-value состояния left=0.06 no=-0.03 right=0.02\n",
            "Действие: left\n",
            "Q-value состояния left=0.06 no=-0.03 right=0.02\n",
            "Действие: left\n",
            "Q-value состояния left=0.07 no=-0.03 right=0.02\n",
            "Действие: left\n",
            "Q-value состояния left=0.07 no=-0.03 right=0.02\n",
            "Действие: left\n",
            "Q-value состояния left=0.07 no=-0.03 right=0.02\n",
            "Действие: left\n",
            "Q-value состояния left=0.07 no=-0.02 right=0.02\n",
            "Действие: left\n",
            "Q-value состояния left=0.07 no=-0.02 right=0.02\n",
            "Действие: left\n",
            "Q-value состояния left=0.07 no=-0.02 right=0.02\n",
            "Действие: left\n",
            "Q-value состояния left=0.07 no=-0.02 right=0.02\n",
            "Действие: left\n",
            "Q-value состояния left=0.07 no=-0.02 right=0.02\n",
            "Действие: left\n",
            "Q-value состояния left=0.07 no=-0.02 right=0.02\n",
            "Действие: left\n",
            "Q-value состояния left=0.07 no=-0.02 right=0.03\n",
            "Действие: left\n",
            "Q-value состояния left=0.07 no=-0.02 right=0.03\n",
            "Действие: left\n",
            "Q-value состояния left=0.07 no=-0.02 right=0.03\n",
            "Действие: left\n"
          ]
        },
        {
          "output_type": "display_data",
          "data": {
            "text/plain": [
              "<Figure size 1000x600 with 1 Axes>"
            ],
            "image/png": "[encoded data removed]"
          },
          "metadata": {}
        },
        {
          "output_type": "stream",
          "name": "stdout",
          "text": [
            "Время обучения модели при discount_factor = 0.01 : 333.2589499950409 секунд.\n"
          ]
        }
      ],
      "source": [
        "environment, time_to_lrn = mean_reward(discount_factors[0])\n",
        "q_vals = q_values_calculation(discount_factors[0], environment)\n",
        "plot_q_values(q_vals)\n",
        "print(f'Время обучения модели при discount_factor = {discount_factors[0]} : {time_to_lrn} секунд.')"
      ],
      "id": "f7bljIvKmNVY"
    },
    {
      "cell_type": "markdown",
      "metadata": {
        "id": "57c178e6"
      },
      "source": [
        "#### Закрытие среды после тестирования\n",
        "По завершении тестирования мы закрываем среду с помощью env.close()."
      ],
      "id": "57c178e6"
    },
    {
      "cell_type": "code",
      "execution_count": 16,
      "metadata": {
        "id": "912717a1"
      },
      "outputs": [],
      "source": [
        "# Закрытие среды\n",
        "environment.close()"
      ],
      "id": "912717a1"
    },
    {
      "cell_type": "markdown",
      "metadata": {
        "id": "aa11d65b"
      },
      "source": [
        "В рамках самостоятельной работы попробуйте обучить и протестировать модель на другой среды доступной в gymnasium."
      ],
      "id": "aa11d65b"
    },
    {
      "cell_type": "code",
      "execution_count": 17,
      "metadata": {
        "colab": {
          "base_uri": "https://localhost:8080/",
          "height": 1000
        },
        "id": "uGqXV8xwuuYG",
        "outputId": "011ad5e3-0758-4c13-eab4-a7e8d61bf4c5"
      },
      "outputs": [
        {
          "output_type": "stream",
          "name": "stdout",
          "text": [
            "Using cpu device\n",
            "Wrapping the env with a `Monitor` wrapper\n",
            "Wrapping the env in a DummyVecEnv.\n",
            "До обучения модели с discount_factor = 0.5, mean_reward:-200.00 +/- 0.00\n",
            "После обучения модели с discount_factor = 0.5, mean_reward:-200.00 +/- 0.00\n",
            "Q-value состояния left=-0.04 no=-0.09 right=0.15\n",
            "Действие: right\n",
            "Q-value состояния left=-0.04 no=-0.09 right=0.15\n",
            "Действие: right\n",
            "Q-value состояния left=-0.04 no=-0.09 right=0.15\n",
            "Действие: right\n",
            "Q-value состояния left=-0.04 no=-0.09 right=0.15\n",
            "Действие: right\n",
            "Q-value состояния left=-0.04 no=-0.09 right=0.15\n",
            "Действие: right\n",
            "Q-value состояния left=-0.04 no=-0.09 right=0.15\n",
            "Действие: right\n",
            "Q-value состояния left=-0.04 no=-0.09 right=0.15\n",
            "Действие: right\n",
            "Q-value состояния left=-0.04 no=-0.09 right=0.15\n",
            "Действие: right\n",
            "Q-value состояния left=-0.04 no=-0.09 right=0.14\n",
            "Действие: right\n",
            "Q-value состояния left=-0.04 no=-0.09 right=0.14\n",
            "Действие: right\n",
            "Q-value состояния left=-0.04 no=-0.09 right=0.14\n",
            "Действие: right\n",
            "Q-value состояния left=-0.04 no=-0.09 right=0.14\n",
            "Действие: right\n",
            "Q-value состояния left=-0.04 no=-0.08 right=0.14\n",
            "Действие: right\n",
            "Q-value состояния left=-0.04 no=-0.08 right=0.14\n",
            "Действие: right\n",
            "Q-value состояния left=-0.04 no=-0.08 right=0.13\n",
            "Действие: right\n",
            "Q-value состояния left=-0.04 no=-0.08 right=0.13\n",
            "Действие: right\n",
            "Q-value состояния left=-0.04 no=-0.08 right=0.13\n",
            "Действие: right\n",
            "Q-value состояния left=-0.04 no=-0.08 right=0.12\n",
            "Действие: right\n",
            "Q-value состояния left=-0.03 no=-0.08 right=0.12\n",
            "Действие: right\n",
            "Q-value состояния left=-0.03 no=-0.08 right=0.12\n",
            "Действие: right\n",
            "Q-value состояния left=-0.03 no=-0.08 right=0.12\n",
            "Действие: right\n",
            "Q-value состояния left=-0.03 no=-0.08 right=0.11\n",
            "Действие: right\n",
            "Q-value состояния left=-0.03 no=-0.08 right=0.11\n",
            "Действие: right\n",
            "Q-value состояния left=-0.03 no=-0.08 right=0.11\n",
            "Действие: right\n",
            "Q-value состояния left=-0.03 no=-0.08 right=0.11\n",
            "Действие: right\n",
            "Q-value состояния left=-0.03 no=-0.08 right=0.11\n",
            "Действие: right\n",
            "Q-value состояния left=-0.02 no=-0.08 right=0.10\n",
            "Действие: right\n",
            "Q-value состояния left=-0.02 no=-0.08 right=0.10\n",
            "Действие: right\n",
            "Q-value состояния left=-0.02 no=-0.08 right=0.10\n",
            "Действие: right\n",
            "Q-value состояния left=-0.02 no=-0.08 right=0.10\n",
            "Действие: right\n",
            "Q-value состояния left=-0.02 no=-0.08 right=0.10\n",
            "Действие: right\n",
            "Q-value состояния left=-0.02 no=-0.08 right=0.09\n",
            "Действие: right\n",
            "Q-value состояния left=-0.02 no=-0.08 right=0.09\n",
            "Действие: right\n",
            "Q-value состояния left=-0.02 no=-0.08 right=0.09\n",
            "Действие: right\n",
            "Q-value состояния left=-0.02 no=-0.08 right=0.09\n",
            "Действие: right\n",
            "Q-value состояния left=-0.02 no=-0.08 right=0.09\n",
            "Действие: right\n",
            "Q-value состояния left=-0.02 no=-0.08 right=0.09\n",
            "Действие: right\n",
            "Q-value состояния left=-0.02 no=-0.08 right=0.09\n",
            "Действие: right\n",
            "Q-value состояния left=-0.02 no=-0.08 right=0.09\n",
            "Действие: right\n",
            "Q-value состояния left=-0.02 no=-0.08 right=0.09\n",
            "Действие: right\n",
            "Q-value состояния left=-0.02 no=-0.08 right=0.09\n",
            "Действие: right\n",
            "Q-value состояния left=-0.02 no=-0.08 right=0.09\n",
            "Действие: right\n",
            "Q-value состояния left=-0.02 no=-0.08 right=0.09\n",
            "Действие: right\n",
            "Q-value состояния left=-0.02 no=-0.08 right=0.09\n",
            "Действие: right\n",
            "Q-value состояния left=-0.02 no=-0.08 right=0.09\n",
            "Действие: right\n",
            "Q-value состояния left=-0.02 no=-0.08 right=0.09\n",
            "Действие: right\n",
            "Q-value состояния left=-0.02 no=-0.08 right=0.09\n",
            "Действие: right\n",
            "Q-value состояния left=-0.02 no=-0.08 right=0.09\n",
            "Действие: right\n",
            "Q-value состояния left=-0.02 no=-0.08 right=0.10\n",
            "Действие: right\n",
            "Q-value состояния left=-0.02 no=-0.08 right=0.10\n",
            "Действие: right\n",
            "Q-value состояния left=-0.03 no=-0.08 right=0.10\n",
            "Действие: right\n",
            "Q-value состояния left=-0.03 no=-0.08 right=0.10\n",
            "Действие: right\n",
            "Q-value состояния left=-0.03 no=-0.08 right=0.10\n",
            "Действие: right\n",
            "Q-value состояния left=-0.03 no=-0.08 right=0.10\n",
            "Действие: right\n",
            "Q-value состояния left=-0.03 no=-0.08 right=0.11\n",
            "Действие: right\n",
            "Q-value состояния left=-0.03 no=-0.09 right=0.11\n",
            "Действие: right\n",
            "Q-value состояния left=-0.03 no=-0.09 right=0.11\n",
            "Действие: right\n",
            "Q-value состояния left=-0.03 no=-0.09 right=0.11\n",
            "Действие: right\n",
            "Q-value состояния left=-0.03 no=-0.09 right=0.12\n",
            "Действие: right\n",
            "Q-value состояния left=-0.04 no=-0.09 right=0.12\n",
            "Действие: right\n",
            "Q-value состояния left=-0.04 no=-0.09 right=0.12\n",
            "Действие: right\n",
            "Q-value состояния left=-0.04 no=-0.09 right=0.12\n",
            "Действие: right\n",
            "Q-value состояния left=-0.04 no=-0.09 right=0.13\n",
            "Действие: right\n",
            "Q-value состояния left=-0.04 no=-0.09 right=0.13\n",
            "Действие: right\n",
            "Q-value состояния left=-0.04 no=-0.09 right=0.13\n",
            "Действие: right\n",
            "Q-value состояния left=-0.04 no=-0.09 right=0.13\n",
            "Действие: right\n",
            "Q-value состояния left=-0.04 no=-0.09 right=0.14\n",
            "Действие: right\n",
            "Q-value состояния left=-0.04 no=-0.09 right=0.14\n",
            "Действие: right\n",
            "Q-value состояния left=-0.04 no=-0.09 right=0.14\n",
            "Действие: right\n",
            "Q-value состояния left=-0.04 no=-0.09 right=0.14\n",
            "Действие: right\n",
            "Q-value состояния left=-0.04 no=-0.09 right=0.14\n",
            "Действие: right\n",
            "Q-value состояния left=-0.04 no=-0.09 right=0.15\n",
            "Действие: right\n",
            "Q-value состояния left=-0.04 no=-0.09 right=0.15\n",
            "Действие: right\n",
            "Q-value состояния left=-0.04 no=-0.09 right=0.15\n",
            "Действие: right\n",
            "Q-value состояния left=-0.04 no=-0.09 right=0.15\n",
            "Действие: right\n",
            "Q-value состояния left=-0.04 no=-0.09 right=0.15\n",
            "Действие: right\n",
            "Q-value состояния left=-0.04 no=-0.09 right=0.15\n",
            "Действие: right\n",
            "Q-value состояния left=-0.04 no=-0.09 right=0.15\n",
            "Действие: right\n",
            "Q-value состояния left=-0.04 no=-0.09 right=0.15\n",
            "Действие: right\n",
            "Q-value состояния left=-0.04 no=-0.09 right=0.15\n",
            "Действие: right\n",
            "Q-value состояния left=-0.04 no=-0.09 right=0.15\n",
            "Действие: right\n",
            "Q-value состояния left=-0.04 no=-0.09 right=0.15\n",
            "Действие: right\n",
            "Q-value состояния left=-0.04 no=-0.09 right=0.15\n",
            "Действие: right\n",
            "Q-value состояния left=-0.04 no=-0.09 right=0.15\n",
            "Действие: right\n",
            "Q-value состояния left=-0.04 no=-0.09 right=0.15\n",
            "Действие: right\n",
            "Q-value состояния left=-0.04 no=-0.09 right=0.15\n",
            "Действие: right\n",
            "Q-value состояния left=-0.04 no=-0.09 right=0.14\n",
            "Действие: right\n",
            "Q-value состояния left=-0.04 no=-0.09 right=0.14\n",
            "Действие: right\n",
            "Q-value состояния left=-0.04 no=-0.09 right=0.14\n",
            "Действие: right\n",
            "Q-value состояния left=-0.04 no=-0.09 right=0.14\n",
            "Действие: right\n",
            "Q-value состояния left=-0.04 no=-0.08 right=0.14\n",
            "Действие: right\n",
            "Q-value состояния left=-0.04 no=-0.08 right=0.14\n",
            "Действие: right\n",
            "Q-value состояния left=-0.04 no=-0.08 right=0.13\n",
            "Действие: right\n",
            "Q-value состояния left=-0.04 no=-0.08 right=0.13\n",
            "Действие: right\n",
            "Q-value состояния left=-0.04 no=-0.08 right=0.13\n",
            "Действие: right\n",
            "Q-value состояния left=-0.04 no=-0.08 right=0.12\n",
            "Действие: right\n",
            "Q-value состояния left=-0.03 no=-0.08 right=0.12\n",
            "Действие: right\n",
            "Q-value состояния left=-0.03 no=-0.08 right=0.12\n",
            "Действие: right\n",
            "Q-value состояния left=-0.03 no=-0.08 right=0.12\n",
            "Действие: right\n",
            "Q-value состояния left=-0.03 no=-0.08 right=0.11\n",
            "Действие: right\n"
          ]
        },
        {
          "output_type": "display_data",
          "data": {
            "text/plain": [
              "<Figure size 1000x600 with 1 Axes>"
            ],
            "image/png": "[encoded data removed]"
          },
          "metadata": {}
        },
        {
          "output_type": "stream",
          "name": "stdout",
          "text": [
            "Время обучения модели при discount_factor = 0.5 : 333.2485044002533 секунд.\n"
          ]
        }
      ],
      "source": [
        "environment, time_to_lrn = mean_reward(discount_factors[1])\n",
        "q_vals = q_values_calculation(discount_factors[1], environment)\n",
        "plot_q_values(q_vals)\n",
        "print(f'Время обучения модели при discount_factor = {discount_factors[1]} : {time_to_lrn} секунд.')"
      ],
      "id": "uGqXV8xwuuYG"
    },
    {
      "cell_type": "code",
      "execution_count": 18,
      "metadata": {
        "id": "0iZn9Uywy666"
      },
      "outputs": [],
      "source": [
        "# Закрытие среды\n",
        "environment.close()"
      ],
      "id": "0iZn9Uywy666"
    },
    {
      "cell_type": "code",
      "execution_count": 19,
      "metadata": {
        "colab": {
          "base_uri": "https://localhost:8080/",
          "height": 1000
        },
        "id": "XeqFpyzbyvOl",
        "outputId": "60fb3f81-4912-4b3a-9488-4ab4d2a7b0e3"
      },
      "outputs": [
        {
          "output_type": "stream",
          "name": "stdout",
          "text": [
            "Using cpu device\n",
            "Wrapping the env with a `Monitor` wrapper\n",
            "Wrapping the env in a DummyVecEnv.\n",
            "До обучения модели с discount_factor = 0.99, mean_reward:-200.00 +/- 0.00\n",
            "После обучения модели с discount_factor = 0.99, mean_reward:-200.00 +/- 0.00\n",
            "Q-value состояния left=0.05 no=0.04 right=-0.02\n",
            "Действие: left\n",
            "Q-value состояния left=0.05 no=0.04 right=-0.02\n",
            "Действие: left\n",
            "Q-value состояния left=0.05 no=0.04 right=-0.02\n",
            "Действие: left\n",
            "Q-value состояния left=0.05 no=0.04 right=-0.02\n",
            "Действие: left\n",
            "Q-value состояния left=0.06 no=0.04 right=-0.02\n",
            "Действие: left\n",
            "Q-value состояния left=0.06 no=0.04 right=-0.02\n",
            "Действие: left\n",
            "Q-value состояния left=0.06 no=0.04 right=-0.02\n",
            "Действие: left\n",
            "Q-value состояния left=0.06 no=0.04 right=-0.02\n",
            "Действие: left\n",
            "Q-value состояния left=0.06 no=0.04 right=-0.02\n",
            "Действие: left\n",
            "Q-value состояния left=0.06 no=0.04 right=-0.02\n",
            "Действие: left\n",
            "Q-value состояния left=0.06 no=0.04 right=-0.02\n",
            "Действие: left\n",
            "Q-value состояния left=0.06 no=0.04 right=-0.02\n",
            "Действие: left\n",
            "Q-value состояния left=0.06 no=0.04 right=-0.02\n",
            "Действие: left\n",
            "Q-value состояния left=0.06 no=0.04 right=-0.02\n",
            "Действие: left\n",
            "Q-value состояния left=0.07 no=0.04 right=-0.02\n",
            "Действие: left\n",
            "Q-value состояния left=0.07 no=0.03 right=-0.02\n",
            "Действие: left\n",
            "Q-value состояния left=0.07 no=0.03 right=-0.01\n",
            "Действие: left\n",
            "Q-value состояния left=0.07 no=0.03 right=-0.01\n",
            "Действие: left\n",
            "Q-value состояния left=0.07 no=0.03 right=-0.01\n",
            "Действие: left\n",
            "Q-value состояния left=0.07 no=0.03 right=-0.01\n",
            "Действие: left\n",
            "Q-value состояния left=0.07 no=0.03 right=-0.01\n",
            "Действие: left\n",
            "Q-value состояния left=0.08 no=0.03 right=-0.01\n",
            "Действие: left\n",
            "Q-value состояния left=0.08 no=0.03 right=-0.01\n",
            "Действие: left\n",
            "Q-value состояния left=0.08 no=0.03 right=-0.01\n",
            "Действие: left\n",
            "Q-value состояния left=0.08 no=0.03 right=-0.01\n",
            "Действие: left\n",
            "Q-value состояния left=0.08 no=0.03 right=-0.01\n",
            "Действие: left\n",
            "Q-value состояния left=0.08 no=0.03 right=-0.01\n",
            "Действие: left\n",
            "Q-value состояния left=0.08 no=0.02 right=-0.01\n",
            "Действие: left\n",
            "Q-value состояния left=0.08 no=0.02 right=-0.01\n",
            "Действие: left\n",
            "Q-value состояния left=0.08 no=0.02 right=-0.01\n",
            "Действие: left\n",
            "Q-value состояния left=0.08 no=0.02 right=-0.01\n",
            "Действие: left\n",
            "Q-value состояния left=0.09 no=0.02 right=-0.01\n",
            "Действие: left\n",
            "Q-value состояния left=0.09 no=0.02 right=-0.01\n",
            "Действие: left\n",
            "Q-value состояния left=0.09 no=0.02 right=-0.01\n",
            "Действие: left\n",
            "Q-value состояния left=0.09 no=0.02 right=-0.01\n",
            "Действие: left\n",
            "Q-value состояния left=0.09 no=0.02 right=-0.01\n",
            "Действие: left\n",
            "Q-value состояния left=0.09 no=0.02 right=-0.01\n",
            "Действие: left\n",
            "Q-value состояния left=0.09 no=0.02 right=-0.01\n",
            "Действие: left\n",
            "Q-value состояния left=0.09 no=0.02 right=-0.01\n",
            "Действие: left\n",
            "Q-value состояния left=0.09 no=0.02 right=-0.01\n",
            "Действие: left\n",
            "Q-value состояния left=0.09 no=0.02 right=-0.01\n",
            "Действие: left\n",
            "Q-value состояния left=0.09 no=0.02 right=-0.01\n",
            "Действие: left\n",
            "Q-value состояния left=0.09 no=0.02 right=-0.01\n",
            "Действие: left\n",
            "Q-value состояния left=0.09 no=0.02 right=-0.01\n",
            "Действие: left\n",
            "Q-value состояния left=0.09 no=0.02 right=-0.01\n",
            "Действие: left\n",
            "Q-value состояния left=0.09 no=0.02 right=-0.02\n",
            "Действие: left\n",
            "Q-value состояния left=0.08 no=0.02 right=-0.02\n",
            "Действие: left\n",
            "Q-value состояния left=0.08 no=0.02 right=-0.02\n",
            "Действие: left\n",
            "Q-value состояния left=0.08 no=0.02 right=-0.02\n",
            "Действие: left\n",
            "Q-value состояния left=0.08 no=0.02 right=-0.02\n",
            "Действие: left\n",
            "Q-value состояния left=0.08 no=0.02 right=-0.02\n",
            "Действие: left\n",
            "Q-value состояния left=0.08 no=0.03 right=-0.02\n",
            "Действие: left\n",
            "Q-value состояния left=0.08 no=0.03 right=-0.02\n",
            "Действие: left\n",
            "Q-value состояния left=0.08 no=0.03 right=-0.02\n",
            "Действие: left\n",
            "Q-value состояния left=0.08 no=0.03 right=-0.02\n",
            "Действие: left\n",
            "Q-value состояния left=0.08 no=0.03 right=-0.02\n",
            "Действие: left\n",
            "Q-value состояния left=0.07 no=0.03 right=-0.02\n",
            "Действие: left\n",
            "Q-value состояния left=0.07 no=0.03 right=-0.02\n",
            "Действие: left\n",
            "Q-value состояния left=0.07 no=0.03 right=-0.02\n",
            "Действие: left\n",
            "Q-value состояния left=0.07 no=0.03 right=-0.02\n",
            "Действие: left\n",
            "Q-value состояния left=0.07 no=0.03 right=-0.02\n",
            "Действие: left\n",
            "Q-value состояния left=0.07 no=0.03 right=-0.02\n",
            "Действие: left\n",
            "Q-value состояния left=0.07 no=0.04 right=-0.02\n",
            "Действие: left\n",
            "Q-value состояния left=0.06 no=0.04 right=-0.02\n",
            "Действие: left\n",
            "Q-value состояния left=0.06 no=0.04 right=-0.02\n",
            "Действие: left\n",
            "Q-value состояния left=0.06 no=0.04 right=-0.02\n",
            "Действие: left\n",
            "Q-value состояния left=0.06 no=0.04 right=-0.02\n",
            "Действие: left\n",
            "Q-value состояния left=0.06 no=0.04 right=-0.02\n",
            "Действие: left\n",
            "Q-value состояния left=0.06 no=0.04 right=-0.02\n",
            "Действие: left\n",
            "Q-value состояния left=0.06 no=0.04 right=-0.02\n",
            "Действие: left\n",
            "Q-value состояния left=0.06 no=0.04 right=-0.02\n",
            "Действие: left\n",
            "Q-value состояния left=0.06 no=0.04 right=-0.02\n",
            "Действие: left\n",
            "Q-value состояния left=0.06 no=0.04 right=-0.02\n",
            "Действие: left\n",
            "Q-value состояния left=0.05 no=0.04 right=-0.02\n",
            "Действие: left\n",
            "Q-value состояния left=0.05 no=0.04 right=-0.02\n",
            "Действие: left\n",
            "Q-value состояния left=0.05 no=0.04 right=-0.02\n",
            "Действие: left\n",
            "Q-value состояния left=0.05 no=0.04 right=-0.02\n",
            "Действие: left\n",
            "Q-value состояния left=0.05 no=0.04 right=-0.02\n",
            "Действие: left\n",
            "Q-value состояния left=0.05 no=0.04 right=-0.02\n",
            "Действие: left\n",
            "Q-value состояния left=0.05 no=0.04 right=-0.02\n",
            "Действие: left\n",
            "Q-value состояния left=0.05 no=0.04 right=-0.02\n",
            "Действие: left\n",
            "Q-value состояния left=0.06 no=0.04 right=-0.02\n",
            "Действие: left\n",
            "Q-value состояния left=0.06 no=0.04 right=-0.02\n",
            "Действие: left\n",
            "Q-value состояния left=0.06 no=0.04 right=-0.02\n",
            "Действие: left\n",
            "Q-value состояния left=0.06 no=0.04 right=-0.02\n",
            "Действие: left\n",
            "Q-value состояния left=0.06 no=0.04 right=-0.02\n",
            "Действие: left\n",
            "Q-value состояния left=0.06 no=0.04 right=-0.02\n",
            "Действие: left\n",
            "Q-value состояния left=0.06 no=0.04 right=-0.02\n",
            "Действие: left\n",
            "Q-value состояния left=0.06 no=0.04 right=-0.02\n",
            "Действие: left\n",
            "Q-value состояния left=0.06 no=0.04 right=-0.02\n",
            "Действие: left\n",
            "Q-value состояния left=0.06 no=0.04 right=-0.02\n",
            "Действие: left\n",
            "Q-value состояния left=0.07 no=0.04 right=-0.02\n",
            "Действие: left\n",
            "Q-value состояния left=0.07 no=0.04 right=-0.02\n",
            "Действие: left\n",
            "Q-value состояния left=0.07 no=0.03 right=-0.01\n",
            "Действие: left\n",
            "Q-value состояния left=0.07 no=0.03 right=-0.01\n",
            "Действие: left\n",
            "Q-value состояния left=0.07 no=0.03 right=-0.01\n",
            "Действие: left\n",
            "Q-value состояния left=0.07 no=0.03 right=-0.01\n",
            "Действие: left\n",
            "Q-value состояния left=0.07 no=0.03 right=-0.01\n",
            "Действие: left\n",
            "Q-value состояния left=0.07 no=0.03 right=-0.01\n",
            "Действие: left\n",
            "Q-value состояния left=0.08 no=0.03 right=-0.01\n",
            "Действие: left\n"
          ]
        },
        {
          "output_type": "display_data",
          "data": {
            "text/plain": [
              "<Figure size 1000x600 with 1 Axes>"
            ],
            "image/png": "[encoded data removed]"
          },
          "metadata": {}
        },
        {
          "output_type": "stream",
          "name": "stdout",
          "text": [
            "Время обучения модели при discount_factor = 0.99 : 333.35367012023926 секунд.\n"
          ]
        }
      ],
      "source": [
        "environment, time_to_lrn = mean_reward(discount_factors[2])\n",
        "q_vals = q_values_calculation(discount_factors[2], environment)\n",
        "plot_q_values(q_vals)\n",
        "print(f'Время обучения модели при discount_factor = {discount_factors[2]} : {time_to_lrn} секунд.')"
      ],
      "id": "XeqFpyzbyvOl"
    },
    {
      "cell_type": "code",
      "execution_count": 20,
      "metadata": {
        "id": "6uQqaFsiy9ai"
      },
      "outputs": [],
      "source": [
        "# Закрытие среды\n",
        "environment.close()"
      ],
      "id": "6uQqaFsiy9ai"
    },
    {
      "cell_type": "markdown",
      "metadata": {
        "id": "DRO6Jtru73mo"
      },
      "source": [
        "Мы завершили лабораторную работу, посвященную изучению дисконтного фактора и ряда метрик, связанных с обучением с подкреплением на примере алгоритма DQN.\n",
        "\n",
        "Для того чтобы закрепить полученные знания, предлагается подобрать наиболее оптимальный параметр для рассмторенной задачи или самостоятельно реализовать решение другой задачи, настраивая дисконтный фактор и анализируя изученные метрики. Это позволит лучше понять влияние дисконтного фактора на обучение агента в различных контекстах и освоить навыки тюнинга параметров для достижения оптимальных результатов.\n"
      ],
      "id": "DRO6Jtru73mo"
    }
  ],
  "metadata": {
    "colab": {
      "provenance": []
    },
    "kernelspec": {
      "display_name": "Python 3",
      "name": "python3"
    },
    "language_info": {
      "codemirror_mode": {
        "name": "ipython",
        "version": 3
      },
      "file_extension": ".py",
      "mimetype": "text/x-python",
      "name": "python",
      "nbconvert_exporter": "python",
      "pygments_lexer": "ipython3",
      "version": "3.10.9"
    }
  },
  "nbformat": 4,
  "nbformat_minor": 5
}