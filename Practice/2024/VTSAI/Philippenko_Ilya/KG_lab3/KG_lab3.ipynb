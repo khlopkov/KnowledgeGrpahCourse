{
 "cells": [
  {
   "cell_type": "markdown",
   "id": "098bb4f9",
   "metadata": {
    "id": "098bb4f9"
   },
   "source": [
    "## Link Prediction\n",
    "**Link Prediction** (предсказание связей) - это задача в области графовых знаний, направленная на предсказание отношений (рёбер) между сущностями в графовой структуре. В контексте баз данных знаний, где информация представлена в виде графа, задача link prediction становится важным инструментом для дополнения или обновления существующей сети отношений.\n",
    "\n",
    "Задача link prediction заключается в предсказании отсутствующих рёбер между сущностями, основываясь на известных связях в графе.\n",
    "\n",
    "Применения link prediction включают:\n",
    "\n",
    "> Предсказание новых связей между пользователями или группами.\n",
    "\n",
    "> Предсказание взаимодействий между белками в биологических сетях.\n",
    "\n",
    "> Предсказание связей между пользователями и товарами.\n",
    "\n",
    "> Пополнение базы знаний новыми фактами.\n",
    "\n",
    "В контексте машинного обучения и графовых моделей, задача link prediction решается с использованием методов, таких как графовые эмбеддинги, глубокие нейронные сети, и другие алгоритмы, специфичные для графовых данных."
   ]
  },
  {
   "cell_type": "markdown",
   "id": "656296c5",
   "metadata": {
    "id": "656296c5"
   },
   "source": [
    "### Установка зависимостей\n"
   ]
  },
  {
   "cell_type": "markdown",
   "id": "NbAA7e2dRX7P",
   "metadata": {
    "id": "NbAA7e2dRX7P"
   },
   "source": [
    "Устанавливаем необходимые для работы зависимости"
   ]
  },
  {
   "cell_type": "code",
   "execution_count": null,
   "id": "678f20f5",
   "metadata": {},
   "outputs": [],
   "source": [
    "!pip install pykeen matplotlib"
   ]
  },
  {
   "cell_type": "markdown",
   "id": "6f7634ba",
   "metadata": {
    "id": "6f7634ba"
   },
   "source": [
    "Далее, импортируем необходимых модулей"
   ]
  },
  {
   "cell_type": "code",
   "execution_count": null,
   "id": "Jg-WgPAU5y2d",
   "metadata": {},
   "outputs": [],
   "source": [
    "import pykeen\n",
    "import torch\n",
    "import matplotlib.pyplot as plt\n",
    "from pykeen.pipeline import pipeline\n",
    "from pykeen.evaluation import ClassificationEvaluator\n",
    "from pykeen.datasets import Nations, Countries"
   ]
  },
  {
   "cell_type": "markdown",
   "id": "CQMEHcLQyf1U",
   "metadata": {
    "id": "CQMEHcLQyf1U"
   },
   "source": [
    "В этой работе мы снова будем использовать уже известный dataset Nations"
   ]
  },
  {
   "cell_type": "code",
   "execution_count": null,
   "id": "SacNIzg_h84W",
   "metadata": {},
   "outputs": [],
   "source": [
    "# Загрузка графового датасета Nations\n",
    "nations_dataset = Countries()"
   ]
  },
  {
   "cell_type": "markdown",
   "id": "iZBR7Wbvyl5N",
   "metadata": {
    "id": "iZBR7Wbvyl5N"
   },
   "source": [
    "Проверяем доступность GPU для вычислений"
   ]
  },
  {
   "cell_type": "code",
   "execution_count": null,
   "id": "vRvgXYx8h-vN",
   "metadata": {},
   "outputs": [],
   "source": [
    "device = torch.device(\"cuda\" if torch.cuda.is_available() else \"cpu\")\n",
    "print(f\"Using device: {device}\")"
   ]
  },
  {
   "cell_type": "markdown",
   "id": "WNzvnsVdyrTi",
   "metadata": {
    "id": "WNzvnsVdyrTi"
   },
   "source": []
  },
  {
   "cell_type": "code",
   "execution_count": null,
   "id": "vqv2rNqlohgA",
   "metadata": {},
   "outputs": [],
   "source": [
    "#Объявим переменные для хранения рассчитанных метрик\n",
    "roc_auc_score = []\n",
    "precision = []\n",
    "accuracy = []\n",
    "f1 = []\n",
    "\n",
    "#Переменная для хранения рразличных пайплайнов pykeen\n",
    "pipeline_results_list = []"
   ]
  },
  {
   "cell_type": "markdown",
   "id": "Y1Qi-I3_10wl",
   "metadata": {
    "id": "Y1Qi-I3_10wl"
   },
   "source": [
    " Чтобы ценить работу модели на наборе данных будем использовать ClassificationEvaluator() позволяющий рассчитывать рассмотренные ранее метрики"
   ]
  },
  {
   "cell_type": "code",
   "execution_count": null,
   "id": "vaPTHLIHmhON",
   "metadata": {},
   "outputs": [],
   "source": [
    "evaluator = ClassificationEvaluator()"
   ]
  },
  {
   "cell_type": "markdown",
   "id": "-T7ojmhy2HSx",
   "metadata": {
    "id": "-T7ojmhy2HSx"
   },
   "source": [
    "Обучим модель ComplEx для разного количества эпох, для каждой модели рассчитаем и сохраним значения метрик"
   ]
  },
  {
   "cell_type": "code",
   "execution_count": null,
   "id": "qDJLuIKJmpw2",
   "metadata": {},
   "outputs": [],
   "source": [
    "# Список значений количества эпох\n",
    "epochs = [1,20,50,100,250]\n",
    "\n",
    "for epoch in epochs:\n",
    "\n",
    "  # Обучаем модель\n",
    "  pipeline_results = pipeline(\n",
    "      model=\"ComplEx\",\n",
    "      dataset=nations_dataset,\n",
    "      training_kwargs=dict(num_epochs=epoch),\n",
    "      device=device\n",
    "  )\n",
    "\n",
    "  # Сохраняем обученную модель\n",
    "  pipeline_results_list.append(pipeline_results)\n",
    "\n",
    "  model = pipeline_results.model\n",
    "  # Рассчитываем метрики для обученной модели и датасета Nations\n",
    "  metrics = evaluator.evaluate(model, nations_dataset.testing.mapped_triples,\n",
    "                             additional_filter_triples=[nations_dataset.training.mapped_triples,\n",
    "                                                        nations_dataset.validation.mapped_triples])\n",
    "\n",
    "  # Сохраняем рассчитанные метрики\n",
    "  roc_auc_score.append(metrics.get_metric('roc_auc_score'))\n",
    "  precision.append(metrics.get_metric('average_precision_score'))\n",
    "  accuracy.append(metrics.get_metric('accuracy_score'))\n",
    "  f1.append(metrics.get_metric('f1_score'))"
   ]
  },
  {
   "cell_type": "markdown",
   "id": "nC42EdLB2wEW",
   "metadata": {
    "id": "nC42EdLB2wEW"
   },
   "source": [
    "После того как метрики рассчитаны для разного количества эпох обучения визуализируем полученные метрики"
   ]
  },
  {
   "cell_type": "code",
   "execution_count": null,
   "id": "kkXzK2yPs-wj",
   "metadata": {},
   "outputs": [],
   "source": [
    "# В качесте лейблов используем список значений эпох\n",
    "labels = epochs\n",
    "\n",
    "# Plotting ROC AUC scores\n",
    "plt.plot(labels, roc_auc_score, label='ROC_AUC')\n",
    "\n",
    "# Plotting precision scores\n",
    "plt.plot(labels, precision, label='Precision')\n",
    "\n",
    "# Plotting accuracy scores\n",
    "plt.plot(labels, accuracy, label='Accuracy')\n",
    "\n",
    "# Plotting F1\n",
    "plt.plot(labels, f1, label='F1')\n",
    "\n",
    "# Добавляем легенду, лейблы и название\n",
    "plt.legend()\n",
    "plt.xlabel('Epochs')\n",
    "plt.ylabel('Scores')\n",
    "plt.title('Model Evaluation Metrics')\n",
    "\n",
    "# Отрисовываем график\n",
    "plt.show()\n"
   ]
  },
  {
   "cell_type": "markdown",
   "id": "NsfUAixZ3JkS",
   "metadata": {
    "id": "NsfUAixZ3JkS"
   },
   "source": [
    "Далее рассмотрим  метод predict_target(). Основной вариант использования pykeen.predict.predict_target() — прогнозирование ссылок или прогнозирование отношений. Например, мы можем использовать наши модели для оценки всех возможных tail объектов запроса (finland, neighbor, ?)."
   ]
  },
  {
   "cell_type": "code",
   "execution_count": null,
   "id": "FHHweBlfb-cv",
   "metadata": {},
   "outputs": [],
   "source": [
    "from pykeen.predict import predict_target\n",
    "for idx, ep in enumerate(epochs):\n",
    "  pipeline_result = pipeline_results_list[idx]\n",
    "  pred = predict_target(\n",
    "      model=pipeline_result.model,\n",
    "      head=\"finland\",\n",
    "      relation=\"neighbor\",\n",
    "      triples_factory=pipeline_result.training,\n",
    "  )\n",
    "\n",
    "  pred_filtered = pred.filter_triples(nations_dataset.training)\n",
    "  pred_annotated = pred_filtered.add_membership_columns(validation=nations_dataset.validation, testing=nations_dataset.testing)\n",
    "  pred_df = pred_annotated.df[['tail_label','score']]\n",
    "  print(f'Результат при вычислении {ep} эпох')\n",
    "  print(pred_df)\n",
    "  print('__________________________')"
   ]
  },
  {
   "cell_type": "markdown",
   "id": "xB_FuPdhJS0Q",
   "metadata": {
    "id": "xB_FuPdhJS0Q"
   },
   "source": [
    "## Rinse and repeat for TransE"
   ]
  },
  {
   "cell_type": "code",
   "execution_count": null,
   "id": "kix3aTRsJNnG",
   "metadata": {},
   "outputs": [],
   "source": [
    "nations_dataset = Countries()\n",
    "\n",
    "device = torch.device(\"cuda\" if torch.cuda.is_available() else \"cpu\")\n",
    "print(f\"Using device: {device}\")\n",
    "\n",
    "#Объявим переменные для хранения рассчитанных метрик\n",
    "roc_auc_score = []\n",
    "precision = []\n",
    "accuracy = []\n",
    "f1 = []\n",
    "\n",
    "#Переменная для хранения рразличных пайплайнов pykeen\n",
    "pipeline_results_list = []\n",
    "epochs = [1,20,50,100,250]\n",
    "\n",
    "for epoch in epochs:\n",
    "\n",
    "  # Обучаем модель\n",
    "  pipeline_results = pipeline(\n",
    "      model=\"TransE\",\n",
    "      dataset=nations_dataset,\n",
    "      training_kwargs=dict(num_epochs=epoch),\n",
    "      device=device\n",
    "  )\n",
    "\n",
    "  # Сохраняем обученную модель\n",
    "  pipeline_results_list.append(pipeline_results)\n",
    "\n",
    "  model = pipeline_results.model\n",
    "  # Рассчитываем метрики для обученной модели и датасета Nations\n",
    "  metrics = evaluator.evaluate(model, nations_dataset.testing.mapped_triples,\n",
    "                             additional_filter_triples=[nations_dataset.training.mapped_triples,\n",
    "                                                        nations_dataset.validation.mapped_triples])\n",
    "\n",
    "  # Сохраняем рассчитанные метрики\n",
    "  roc_auc_score.append(metrics.get_metric('roc_auc_score'))\n",
    "  precision.append(metrics.get_metric('average_precision_score'))\n",
    "  accuracy.append(metrics.get_metric('accuracy_score'))\n",
    "  f1.append(metrics.get_metric('f1_score'))"
   ]
  },
  {
   "cell_type": "markdown",
   "id": "MJzywICzJ0JO",
   "metadata": {
    "id": "MJzywICzJ0JO"
   },
   "source": [
    "График метрик"
   ]
  },
  {
   "cell_type": "code",
   "execution_count": null,
   "id": "_NGhbCk1Jr2J",
   "metadata": {},
   "outputs": [],
   "source": [
    "# В качесте лейблов используем список значений эпох\n",
    "labels = epochs\n",
    "\n",
    "# Plotting ROC AUC scores\n",
    "plt.plot(labels, roc_auc_score, label='ROC_AUC')\n",
    "\n",
    "# Plotting precision scores\n",
    "plt.plot(labels, precision, label='Precision')\n",
    "\n",
    "# Plotting accuracy scores\n",
    "plt.plot(labels, accuracy, label='Accuracy')\n",
    "\n",
    "# Plotting F1\n",
    "plt.plot(labels, f1, label='F1')\n",
    "\n",
    "# Добавляем легенду, лейблы и название\n",
    "plt.legend()\n",
    "plt.xlabel('Epochs')\n",
    "plt.ylabel('Scores')\n",
    "plt.title('Model Evaluation Metrics')\n",
    "\n",
    "# Отрисовываем график\n",
    "plt.show()"
   ]
  },
  {
   "cell_type": "markdown",
   "id": "TJL2ylyVJ3OK",
   "metadata": {
    "id": "TJL2ylyVJ3OK"
   },
   "source": [
    "Инференс"
   ]
  },
  {
   "cell_type": "code",
   "execution_count": null,
   "id": "e50SsuJXJsc-",
   "metadata": {},
   "outputs": [],
   "source": [
    "from pykeen.predict import predict_target\n",
    "for idx, ep in enumerate(epochs):\n",
    "  pipeline_result = pipeline_results_list[idx]\n",
    "  pred = predict_target(\n",
    "      model=pipeline_result.model,\n",
    "      head=\"finland\",\n",
    "      relation=\"neighbor\",\n",
    "      triples_factory=pipeline_result.training,\n",
    "  )\n",
    "\n",
    "  pred_filtered = pred.filter_triples(nations_dataset.training)\n",
    "  pred_annotated = pred_filtered.add_membership_columns(validation=nations_dataset.validation, testing=nations_dataset.testing)\n",
    "  pred_df = pred_annotated.df[['tail_label','score']]\n",
    "  print(f'Результат при вычислении {ep} эпох')\n",
    "  print(pred_df)\n",
    "  print('__________________________')"
   ]
  },
  {
   "cell_type": "markdown",
   "id": "O4FvNu0r4klY",
   "metadata": {
    "id": "O4FvNu0r4klY"
   },
   "source": [
    "В результате выполнения лабораторной работы была успешно обучены модели, способная предсказывать связи между сущностями в графовой структуре.\n",
    "\n",
    "Проведенный анализ с использованием метрик precision, accuracy, F1 и ROC-AUC позволяет сделать следующие выводы:\n",
    "\n",
    "**Precision, Accuracy, и F1:**\n",
    "\n",
    "Метрики precision, accuracy и F1 предоставляют информацию о качестве классификации модели. Высокие значения этих метрик указывают на эффективность модели в правильном предсказании связей.\n",
    "\n",
    "**ROC-AUC:**\n",
    "\n",
    "ROC-AUC метрика измеряет способность модели различать между положительными и отрицательными классами при различных порогах. Значение ROC-AUC близкое к 1.0 говорит о высокой дискриминации, что подтверждает успешное обучение модели.\n"
   ]
  },
  {
   "cell_type": "markdown",
   "id": "vBNqq5jv5D4u",
   "metadata": {
    "id": "vBNqq5jv5D4u"
   },
   "source": [
    "Попробуйте обучыить другую модель. Примените обученную модель к другому датасету. Проанализируйте результаты. Хорошим вариантом будет преднамеренно удалить существующую связку и исследовать работу модели на предсказании удаленной связи."
   ]
  }
 ],
 "metadata": {
  "language_info": {
   "name": "python"
  }
 },
 "nbformat": 4,
 "nbformat_minor": 5
}
