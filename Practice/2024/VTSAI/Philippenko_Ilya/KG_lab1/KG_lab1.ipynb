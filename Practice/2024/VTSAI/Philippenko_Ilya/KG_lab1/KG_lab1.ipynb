{
 "cells": [
  {
   "cell_type": "code",
   "execution_count": null,
   "id": "vMu9u3_oJQIw",
   "metadata": {},
   "outputs": [],
   "source": [
    "!pip install pykeen -q"
   ]
  },
  {
   "cell_type": "code",
   "execution_count": null,
   "id": "0eF3sKohJPcM",
   "metadata": {},
   "outputs": [],
   "source": [
    "import pykeen\n",
    "from pykeen.datasets import BioKG, Kinships, Countries\n",
    "from pykeen.pipeline import pipeline\n",
    "from pykeen.predict import predict_triples\n",
    "import torch"
   ]
  },
  {
   "cell_type": "code",
   "execution_count": null,
   "id": "yMsDHFuTHXCh",
   "metadata": {},
   "outputs": [],
   "source": [
    "dataset = Countries()\n",
    "\n",
    "training_data = dataset.training.mapped_triples\n",
    "\n",
    "device = torch.device(\"cuda\" if torch.cuda.is_available() else \"cpu\")\n",
    "\n",
    "\n",
    "pipeline_results = pipeline(\n",
    "    model=\"TransE\",  # TransE model for relation prediction\n",
    "    dataset=dataset,  # Nations dataset\n",
    "    training_kwargs=dict(num_epochs=20),  # Number of training epochs\n",
    "    device=device\n",
    ")\n",
    "\n",
    "print(pipeline_results)"
   ]
  },
  {
   "cell_type": "code",
   "execution_count": null,
   "id": "Q2bH5tkgHXb1",
   "metadata": {},
   "outputs": [],
   "source": [
    "pack = predict_triples(model=pipeline_results.model, triples=dataset.validation)\n",
    "df = pack.process(factory=pipeline_results.training).df\n",
    "\n",
    "df.nlargest(n=10, columns=\"score\")"
   ]
  }
 ],
 "metadata": {
  "language_info": {
   "name": "python"
  }
 },
 "nbformat": 4,
 "nbformat_minor": 5
}
