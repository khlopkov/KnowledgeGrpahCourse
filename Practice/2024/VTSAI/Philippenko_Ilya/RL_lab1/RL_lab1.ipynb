{
 "cells": [
  {
   "cell_type": "markdown",
   "metadata": {
    "id": "RDq8egb08J7s"
   },
   "source": [
    "Установка зависимостей."
   ]
  },
  {
   "cell_type": "code",
   "execution_count": null,
   "metadata": {},
   "outputs": [],
   "source": [
    "!sudo apt install xvfb"
   ]
  },
  {
   "cell_type": "code",
   "execution_count": null,
   "metadata": {},
   "outputs": [],
   "source": [
    "!pip install gymnasium[atari,accept-rom-license]\n",
    "!pip install stable-baselines3\n",
    "!pip install PyVirtualDisplay"
   ]
  },
  {
   "cell_type": "code",
   "execution_count": null,
   "metadata": {},
   "outputs": [],
   "source": []
  },
  {
   "cell_type": "markdown",
   "metadata": {
    "id": "EtFSIwm68T9Y"
   },
   "source": [
    "Проверяем что скачали"
   ]
  },
  {
   "cell_type": "code",
   "execution_count": null,
   "metadata": {},
   "outputs": [],
   "source": [
    "from stable_baselines3 import DQN, A2C"
   ]
  },
  {
   "cell_type": "code",
   "execution_count": null,
   "metadata": {},
   "outputs": [],
   "source": [
    "import gymnasium as gym\n",
    "import ale_py\n",
    "print('gym:', gym.__version__)\n",
    "print('ale_py:', ale_py.__version__)\n",
    "\n",
    "gym.envs.registration.registry.keys()"
   ]
  },
  {
   "cell_type": "markdown",
   "metadata": {
    "id": "b1apveHO9E9f"
   },
   "source": [
    "Инициализируем среду"
   ]
  },
  {
   "cell_type": "code",
   "execution_count": null,
   "metadata": {},
   "outputs": [],
   "source": [
    "env = gym.make(\"ALE/Pong-v5\", difficulty=2, mode=0, render_mode='rgb_array')\n",
    "env.unwrapped.get_action_meanings()"
   ]
  },
  {
   "cell_type": "markdown",
   "metadata": {
    "id": "jTHwj3z69Kkm"
   },
   "source": [
    "... и ее пространства"
   ]
  },
  {
   "cell_type": "code",
   "execution_count": null,
   "metadata": {},
   "outputs": [],
   "source": [
    "observation_space = env.observation_space\n",
    "action_space = env.action_space"
   ]
  },
  {
   "cell_type": "code",
   "execution_count": null,
   "metadata": {},
   "outputs": [],
   "source": [
    "model = DQN(\"MlpPolicy\", env, verbose=1)\n",
    "timestamp=100\n",
    "model.learn(total_timesteps=timestamp, log_interval=4)\n",
    "model.save(\"dqn_pong\")"
   ]
  },
  {
   "cell_type": "code",
   "execution_count": null,
   "metadata": {},
   "outputs": [],
   "source": [
    "import gymnasium as gym # кто вставил здесь старый gym, уууть\n",
    "from IPython import display\n",
    "from pyvirtualdisplay import Display\n",
    "import matplotlib.pyplot as plt\n",
    "from matplotlib import animation\n",
    "\n",
    "\n",
    "d = Display()\n",
    "d.start()\n",
    "\n",
    "env = gym.make(\"ALE/Pong-v5\",  render_mode='rgb_array', difficulty=1, mode=0)\n",
    "obs, info = env.reset()\n",
    "\n",
    "img = []\n",
    "for _ in range(200):\n",
    "    action, _states = model.predict(obs, deterministic=True)\n",
    "    obs, reward, terminated, truncated, _ = env.step(action)\n",
    "\n",
    "    # display.clear_output(wait=True)\n",
    "    img.append(env.render())\n",
    "\n",
    "    if terminated or truncated:\n",
    "        env.reset()\n",
    "\n",
    "env.close()\n",
    "dpi = 72\n",
    "interval = 50 # ms\n",
    "\n",
    "plt.figure(figsize=(img[0].shape[1]/dpi,img[0].shape[0]/dpi),dpi=dpi)\n",
    "patch = plt.imshow(img[0])\n",
    "plt.axis=('off')\n",
    "animate = lambda i: patch.set_data(img[i])\n",
    "ani = animation.FuncAnimation(plt.gcf(),animate,frames=len(img),interval=interval)\n",
    "display.display(display.HTML(ani.to_jshtml()))"
   ]
  }
 ],
 "metadata": {
  "language_info": {
   "name": "python"
  }
 },
 "nbformat": 4,
 "nbformat_minor": 0
}
