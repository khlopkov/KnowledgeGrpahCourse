{
 "cells": [
  {
   "cell_type": "code",
   "execution_count": null,
   "id": "M_c0OOUjMuIh",
   "metadata": {},
   "outputs": [],
   "source": [
    "!nvidia-smi"
   ]
  },
  {
   "cell_type": "code",
   "execution_count": null,
   "id": "678f20f5",
   "metadata": {},
   "outputs": [],
   "source": [
    "!pip install pykeen networkx matplotlib -q"
   ]
  },
  {
   "cell_type": "code",
   "execution_count": null,
   "id": "_tBzplZxMnBR",
   "metadata": {},
   "outputs": [],
   "source": [
    "import torch\n",
    "import pykeen\n",
    "import numpy as np\n",
    "import matplotlib.pyplot as plt\n",
    "from pykeen.pipeline import pipeline\n",
    "from pykeen.evaluation import RankBasedEvaluator\n",
    "from sklearn.metrics.pairwise import cosine_similarity, euclidean_distances, manhattan_distances\n",
    "from pykeen.datasets import DBpedia50\n",
    "from sklearn.neighbors import NearestNeighbors"
   ]
  },
  {
   "cell_type": "code",
   "execution_count": null,
   "id": "gXP3qhZ-Ly_O",
   "metadata": {},
   "outputs": [],
   "source": [
    "# Function for visualizing node embeddings\n",
    "def visualize_embeddings(embeddings, labels):\n",
    "    plt.figure(figsize=(10, 8))\n",
    "    plt.scatter(embeddings[:, 0], embeddings[:, 1], c=np.arange(len(labels)), cmap='viridis', s=25)\n",
    "    for i, label in enumerate(labels):\n",
    "        plt.annotate(label, (embeddings[i, 0], embeddings[i, 1]), alpha=1)\n",
    "    plt.title('Scatter Plot of Embeddings')\n",
    "    plt.show()\n",
    "\n",
    "\n",
    "# Function for visualizing the similarity matrix\n",
    "def display_matrix(similarity_matrix, title='Node Similarity Matrix'):\n",
    "    plt.figure(figsize=(8, 8))\n",
    "    plt.imshow(similarity_matrix, cmap='viridis', interpolation='nearest')\n",
    "    plt.colorbar()\n",
    "    plt.title(title)\n",
    "    plt.show()"
   ]
  },
  {
   "cell_type": "code",
   "execution_count": null,
   "id": "dEQmLjsOL0pY",
   "metadata": {},
   "outputs": [],
   "source": [
    "# Loading the graph dataset DBpedia50\n",
    "dbpedia_dataset = DBpedia50()\n",
    "entity_labels = list(dbpedia_dataset.testing.entity_id_to_label.values())\n",
    "\n",
    "# Parameters for research\n",
    "num_epochs_list = [5, 25, 125]\n",
    "models = [\"HolE\", \"DistMult\"]\n",
    "node_indices = [1324, 12240, 15386, 17242]  # Example node indices for analysis\n",
    "\n",
    "for model_name in models:\n",
    "    for num_epochs in num_epochs_list:\n",
    "        # Model training\n",
    "        pipeline_results = pipeline(\n",
    "            model=model_name,\n",
    "            dataset=dbpedia_dataset,\n",
    "            training_kwargs=dict(num_epochs=num_epochs, batch_size=128),\n",
    "            evaluation_kwargs=dict(batch_size=64),\n",
    "            device=torch.device(\"cuda\" if torch.cuda.is_available() else \"cpu\"),\n",
    "\n",
    "        )\n",
    "\n",
    "        # Obtaining node embeddings\n",
    "        node_embeddings = pipeline_results.model.entity_representations[0]._embeddings.weight.data.cpu().numpy()\n",
    "\n",
    "        # Visualizing nodes\n",
    "        visualize_embeddings(node_embeddings[:25], entity_labels[:25])\n",
    "\n",
    "        # Measuring Node Similarity for selected nodes\n",
    "        nodes = node_embeddings[node_indices]\n",
    "        for method in [euclidean_distances, cosine_similarity, manhattan_distances]:\n",
    "            similarity_matrix = method(nodes)\n",
    "            display_matrix(similarity_matrix, title=f'{model_name} - {num_epochs} epochs')\n",
    "\n",
    "        # Searching for neighbors for random nodes\n",
    "        nn_model = NearestNeighbors(n_neighbors=5, metric='euclidean')\n",
    "        nn_model.fit(node_embeddings)\n",
    "        for node_index in node_indices:\n",
    "            distances, indices = nn_model.kneighbors([node_embeddings[node_index]])\n",
    "            neighbor_labels = [entity_labels[i] for i in indices.flatten()]\n",
    "            print(f\"Closest neighbors of node {entity_labels[node_index]}: {neighbor_labels}\")"
   ]
  }
 ],
 "metadata": {
  "language_info": {
   "name": "python"
  }
 },
 "nbformat": 4,
 "nbformat_minor": 5
}
