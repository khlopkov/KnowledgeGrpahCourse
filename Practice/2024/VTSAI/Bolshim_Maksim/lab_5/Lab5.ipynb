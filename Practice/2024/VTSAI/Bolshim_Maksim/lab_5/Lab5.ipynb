{
 "cells": [
  {
   "cell_type": "markdown",
   "id": "NbAA7e2dRX7P",
   "metadata": {
    "id": "NbAA7e2dRX7P"
   },
   "source": [
    "Устанавливаем необходимые для работы зависимости"
   ]
  },
  {
   "cell_type": "code",
   "execution_count": 93,
   "id": "678f20f5",
   "metadata": {
    "ExecuteTime": {
     "end_time": "2024-01-26T17:57:51.391365133Z",
     "start_time": "2024-01-26T17:57:49.770165393Z"
    }
   },
   "outputs": [
    {
     "name": "stdout",
     "output_type": "stream",
     "text": [
      "Requirement already satisfied: pykeen in /home/maxim/workspace/Testing/.venv/lib/python3.10/site-packages (1.10.1)\r\n",
      "Requirement already satisfied: networkx in /home/maxim/workspace/Testing/.venv/lib/python3.10/site-packages (3.2.1)\r\n",
      "Requirement already satisfied: matplotlib in /home/maxim/workspace/Testing/.venv/lib/python3.10/site-packages (3.8.2)\r\n",
      "Requirement already satisfied: seaborn in /home/maxim/workspace/Testing/.venv/lib/python3.10/site-packages (0.13.2)\r\n",
      "Requirement already satisfied: dataclasses-json in /home/maxim/workspace/Testing/.venv/lib/python3.10/site-packages (from pykeen) (0.6.3)\r\n",
      "Requirement already satisfied: numpy in /home/maxim/workspace/Testing/.venv/lib/python3.10/site-packages (from pykeen) (1.26.3)\r\n",
      "Requirement already satisfied: scipy>=1.7.0 in /home/maxim/workspace/Testing/.venv/lib/python3.10/site-packages (from pykeen) (1.12.0)\r\n",
      "Requirement already satisfied: click in /home/maxim/workspace/Testing/.venv/lib/python3.10/site-packages (from pykeen) (8.1.7)\r\n",
      "Requirement already satisfied: click-default-group in /home/maxim/workspace/Testing/.venv/lib/python3.10/site-packages (from pykeen) (1.2.4)\r\n",
      "Requirement already satisfied: scikit-learn in /home/maxim/workspace/Testing/.venv/lib/python3.10/site-packages (from pykeen) (1.4.0)\r\n",
      "Requirement already satisfied: tqdm in /home/maxim/workspace/Testing/.venv/lib/python3.10/site-packages (from pykeen) (4.66.1)\r\n",
      "Requirement already satisfied: requests in /home/maxim/workspace/Testing/.venv/lib/python3.10/site-packages (from pykeen) (2.31.0)\r\n",
      "Requirement already satisfied: optuna>=2.0.0 in /home/maxim/workspace/Testing/.venv/lib/python3.10/site-packages (from pykeen) (3.5.0)\r\n",
      "Requirement already satisfied: pandas>=1.0.0 in /home/maxim/workspace/Testing/.venv/lib/python3.10/site-packages (from pykeen) (2.2.0)\r\n",
      "Requirement already satisfied: tabulate in /home/maxim/workspace/Testing/.venv/lib/python3.10/site-packages (from pykeen) (0.9.0)\r\n",
      "Requirement already satisfied: more-click in /home/maxim/workspace/Testing/.venv/lib/python3.10/site-packages (from pykeen) (0.1.2)\r\n",
      "Requirement already satisfied: more-itertools in /home/maxim/workspace/Testing/.venv/lib/python3.10/site-packages (from pykeen) (10.2.0)\r\n",
      "Requirement already satisfied: pystow>=0.4.3 in /home/maxim/workspace/Testing/.venv/lib/python3.10/site-packages (from pykeen) (0.5.2)\r\n",
      "Requirement already satisfied: docdata in /home/maxim/workspace/Testing/.venv/lib/python3.10/site-packages (from pykeen) (0.0.3)\r\n",
      "Requirement already satisfied: class-resolver>=0.3.10 in /home/maxim/workspace/Testing/.venv/lib/python3.10/site-packages (from pykeen) (0.4.2)\r\n",
      "Requirement already satisfied: pyyaml in /home/maxim/workspace/Testing/.venv/lib/python3.10/site-packages (from pykeen) (6.0.1)\r\n",
      "Requirement already satisfied: rexmex>=0.1.3 in /home/maxim/workspace/Testing/.venv/lib/python3.10/site-packages (from pykeen) (0.1.3)\r\n",
      "Requirement already satisfied: torch-max-mem>=0.0.4 in /home/maxim/workspace/Testing/.venv/lib/python3.10/site-packages (from pykeen) (0.1.3)\r\n",
      "Requirement already satisfied: torch-ppr>=0.0.7 in /home/maxim/workspace/Testing/.venv/lib/python3.10/site-packages (from pykeen) (0.0.8)\r\n",
      "Requirement already satisfied: protobuf<4.0.0 in /home/maxim/workspace/Testing/.venv/lib/python3.10/site-packages (from pykeen) (3.20.3)\r\n",
      "Requirement already satisfied: typing-extensions in /home/maxim/workspace/Testing/.venv/lib/python3.10/site-packages (from pykeen) (4.9.0)\r\n",
      "Requirement already satisfied: torch>=1.10 in /home/maxim/workspace/Testing/.venv/lib/python3.10/site-packages (from pykeen) (2.1.2)\r\n",
      "Requirement already satisfied: contourpy>=1.0.1 in /home/maxim/workspace/Testing/.venv/lib/python3.10/site-packages (from matplotlib) (1.2.0)\r\n",
      "Requirement already satisfied: cycler>=0.10 in /home/maxim/workspace/Testing/.venv/lib/python3.10/site-packages (from matplotlib) (0.12.1)\r\n",
      "Requirement already satisfied: fonttools>=4.22.0 in /home/maxim/workspace/Testing/.venv/lib/python3.10/site-packages (from matplotlib) (4.47.2)\r\n",
      "Requirement already satisfied: kiwisolver>=1.3.1 in /home/maxim/workspace/Testing/.venv/lib/python3.10/site-packages (from matplotlib) (1.4.5)\r\n",
      "Requirement already satisfied: packaging>=20.0 in /home/maxim/workspace/Testing/.venv/lib/python3.10/site-packages (from matplotlib) (23.2)\r\n",
      "Requirement already satisfied: pillow>=8 in /home/maxim/workspace/Testing/.venv/lib/python3.10/site-packages (from matplotlib) (10.2.0)\r\n",
      "Requirement already satisfied: pyparsing>=2.3.1 in /home/maxim/workspace/Testing/.venv/lib/python3.10/site-packages (from matplotlib) (3.1.1)\r\n",
      "Requirement already satisfied: python-dateutil>=2.7 in /home/maxim/workspace/Testing/.venv/lib/python3.10/site-packages (from matplotlib) (2.8.2)\r\n",
      "Requirement already satisfied: alembic>=1.5.0 in /home/maxim/workspace/Testing/.venv/lib/python3.10/site-packages (from optuna>=2.0.0->pykeen) (1.13.1)\r\n",
      "Requirement already satisfied: colorlog in /home/maxim/workspace/Testing/.venv/lib/python3.10/site-packages (from optuna>=2.0.0->pykeen) (6.8.2)\r\n",
      "Requirement already satisfied: sqlalchemy>=1.3.0 in /home/maxim/workspace/Testing/.venv/lib/python3.10/site-packages (from optuna>=2.0.0->pykeen) (2.0.25)\r\n",
      "Requirement already satisfied: pytz>=2020.1 in /home/maxim/workspace/Testing/.venv/lib/python3.10/site-packages (from pandas>=1.0.0->pykeen) (2023.3.post1)\r\n",
      "Requirement already satisfied: tzdata>=2022.7 in /home/maxim/workspace/Testing/.venv/lib/python3.10/site-packages (from pandas>=1.0.0->pykeen) (2023.4)\r\n",
      "Requirement already satisfied: six>=1.5 in /home/maxim/workspace/Testing/.venv/lib/python3.10/site-packages (from python-dateutil>=2.7->matplotlib) (1.16.0)\r\n",
      "Requirement already satisfied: filelock in /home/maxim/workspace/Testing/.venv/lib/python3.10/site-packages (from torch>=1.10->pykeen) (3.13.1)\r\n",
      "Requirement already satisfied: sympy in /home/maxim/workspace/Testing/.venv/lib/python3.10/site-packages (from torch>=1.10->pykeen) (1.12)\r\n",
      "Requirement already satisfied: jinja2 in /home/maxim/workspace/Testing/.venv/lib/python3.10/site-packages (from torch>=1.10->pykeen) (3.1.3)\r\n",
      "Requirement already satisfied: fsspec in /home/maxim/workspace/Testing/.venv/lib/python3.10/site-packages (from torch>=1.10->pykeen) (2023.12.2)\r\n",
      "Requirement already satisfied: nvidia-cuda-nvrtc-cu12==12.1.105 in /home/maxim/workspace/Testing/.venv/lib/python3.10/site-packages (from torch>=1.10->pykeen) (12.1.105)\r\n",
      "Requirement already satisfied: nvidia-cuda-runtime-cu12==12.1.105 in /home/maxim/workspace/Testing/.venv/lib/python3.10/site-packages (from torch>=1.10->pykeen) (12.1.105)\r\n",
      "Requirement already satisfied: nvidia-cuda-cupti-cu12==12.1.105 in /home/maxim/workspace/Testing/.venv/lib/python3.10/site-packages (from torch>=1.10->pykeen) (12.1.105)\r\n",
      "Requirement already satisfied: nvidia-cudnn-cu12==8.9.2.26 in /home/maxim/workspace/Testing/.venv/lib/python3.10/site-packages (from torch>=1.10->pykeen) (8.9.2.26)\r\n",
      "Requirement already satisfied: nvidia-cublas-cu12==12.1.3.1 in /home/maxim/workspace/Testing/.venv/lib/python3.10/site-packages (from torch>=1.10->pykeen) (12.1.3.1)\r\n",
      "Requirement already satisfied: nvidia-cufft-cu12==11.0.2.54 in /home/maxim/workspace/Testing/.venv/lib/python3.10/site-packages (from torch>=1.10->pykeen) (11.0.2.54)\r\n",
      "Requirement already satisfied: nvidia-curand-cu12==10.3.2.106 in /home/maxim/workspace/Testing/.venv/lib/python3.10/site-packages (from torch>=1.10->pykeen) (10.3.2.106)\r\n",
      "Requirement already satisfied: nvidia-cusolver-cu12==11.4.5.107 in /home/maxim/workspace/Testing/.venv/lib/python3.10/site-packages (from torch>=1.10->pykeen) (11.4.5.107)\r\n",
      "Requirement already satisfied: nvidia-cusparse-cu12==12.1.0.106 in /home/maxim/workspace/Testing/.venv/lib/python3.10/site-packages (from torch>=1.10->pykeen) (12.1.0.106)\r\n",
      "Requirement already satisfied: nvidia-nccl-cu12==2.18.1 in /home/maxim/workspace/Testing/.venv/lib/python3.10/site-packages (from torch>=1.10->pykeen) (2.18.1)\r\n",
      "Requirement already satisfied: nvidia-nvtx-cu12==12.1.105 in /home/maxim/workspace/Testing/.venv/lib/python3.10/site-packages (from torch>=1.10->pykeen) (12.1.105)\r\n",
      "Requirement already satisfied: triton==2.1.0 in /home/maxim/workspace/Testing/.venv/lib/python3.10/site-packages (from torch>=1.10->pykeen) (2.1.0)\r\n",
      "Requirement already satisfied: nvidia-nvjitlink-cu12 in /home/maxim/workspace/Testing/.venv/lib/python3.10/site-packages (from nvidia-cusolver-cu12==11.4.5.107->torch>=1.10->pykeen) (12.3.101)\r\n",
      "Requirement already satisfied: marshmallow<4.0.0,>=3.18.0 in /home/maxim/workspace/Testing/.venv/lib/python3.10/site-packages (from dataclasses-json->pykeen) (3.20.2)\r\n",
      "Requirement already satisfied: typing-inspect<1,>=0.4.0 in /home/maxim/workspace/Testing/.venv/lib/python3.10/site-packages (from dataclasses-json->pykeen) (0.9.0)\r\n",
      "Requirement already satisfied: charset-normalizer<4,>=2 in /home/maxim/workspace/Testing/.venv/lib/python3.10/site-packages (from requests->pykeen) (3.3.2)\r\n",
      "Requirement already satisfied: idna<4,>=2.5 in /home/maxim/workspace/Testing/.venv/lib/python3.10/site-packages (from requests->pykeen) (3.6)\r\n",
      "Requirement already satisfied: urllib3<3,>=1.21.1 in /home/maxim/workspace/Testing/.venv/lib/python3.10/site-packages (from requests->pykeen) (2.1.0)\r\n",
      "Requirement already satisfied: certifi>=2017.4.17 in /home/maxim/workspace/Testing/.venv/lib/python3.10/site-packages (from requests->pykeen) (2023.11.17)\r\n",
      "Requirement already satisfied: joblib>=1.2.0 in /home/maxim/workspace/Testing/.venv/lib/python3.10/site-packages (from scikit-learn->pykeen) (1.3.2)\r\n",
      "Requirement already satisfied: threadpoolctl>=2.0.0 in /home/maxim/workspace/Testing/.venv/lib/python3.10/site-packages (from scikit-learn->pykeen) (3.2.0)\r\n",
      "Requirement already satisfied: Mako in /home/maxim/workspace/Testing/.venv/lib/python3.10/site-packages (from alembic>=1.5.0->optuna>=2.0.0->pykeen) (1.3.0)\r\n",
      "Requirement already satisfied: greenlet!=0.4.17 in /home/maxim/workspace/Testing/.venv/lib/python3.10/site-packages (from sqlalchemy>=1.3.0->optuna>=2.0.0->pykeen) (3.0.3)\r\n",
      "Requirement already satisfied: mypy-extensions>=0.3.0 in /home/maxim/workspace/Testing/.venv/lib/python3.10/site-packages (from typing-inspect<1,>=0.4.0->dataclasses-json->pykeen) (1.0.0)\r\n",
      "Requirement already satisfied: MarkupSafe>=2.0 in /home/maxim/workspace/Testing/.venv/lib/python3.10/site-packages (from jinja2->torch>=1.10->pykeen) (2.1.4)\r\n",
      "Requirement already satisfied: mpmath>=0.19 in /home/maxim/workspace/Testing/.venv/lib/python3.10/site-packages (from sympy->torch>=1.10->pykeen) (1.3.0)\r\n"
     ]
    }
   ],
   "source": [
    "!pip install pykeen networkx matplotlib seaborn"
   ]
  },
  {
   "cell_type": "markdown",
   "id": "6f7634ba",
   "metadata": {
    "id": "6f7634ba"
   },
   "source": [
    "Далее, импортируем необходимых модулей"
   ]
  },
  {
   "cell_type": "code",
   "execution_count": 94,
   "id": "e028f8c7",
   "metadata": {
    "ExecuteTime": {
     "end_time": "2024-01-26T17:57:51.399993847Z",
     "start_time": "2024-01-26T17:57:51.395563015Z"
    }
   },
   "outputs": [],
   "source": [
    "import torch\n",
    "import pykeen\n",
    "import numpy as np\n",
    "import networkx as nx\n",
    "import matplotlib.pyplot as plt\n",
    "from pykeen.pipeline import pipeline\n",
    "from sklearn.neighbors import NearestNeighbors\n",
    "from pykeen.evaluation import RankBasedEvaluator\n",
    "from sklearn.metrics.pairwise import cosine_similarity, euclidean_distances, manhattan_distances"
   ]
  },
  {
   "cell_type": "markdown",
   "id": "3b5ca842",
   "metadata": {
    "id": "3b5ca842"
   },
   "source": [
    "Здесь мы устанавливаем необходимые библиотеки и импортируем модули, которые будут использоваться в лабораторной работе."
   ]
  },
  {
   "cell_type": "markdown",
   "id": "c499eb1a",
   "metadata": {
    "id": "c499eb1a"
   },
   "source": [
    "## Взаимодействие с графовым датасетом и описание данных\n",
    "\n",
    "В данной работе мы будем использовать графовый датасет [DBpedia50](https://arxiv.org/abs/1711.03438), предоставляющий собой выборку менее 50 тысяч сущностей из графа dbpedia.\n"
   ]
  },
  {
   "cell_type": "code",
   "execution_count": 95,
   "id": "147c83b7",
   "metadata": {
    "ExecuteTime": {
     "end_time": "2024-01-26T17:57:51.408476124Z",
     "start_time": "2024-01-26T17:57:51.398847869Z"
    }
   },
   "outputs": [],
   "source": [
    "from pykeen.datasets import CoDExMedium"
   ]
  },
  {
   "cell_type": "code",
   "execution_count": 96,
   "id": "2107c8b4",
   "metadata": {
    "ExecuteTime": {
     "end_time": "2024-01-26T17:57:51.412066106Z",
     "start_time": "2024-01-26T17:57:51.406815923Z"
    }
   },
   "outputs": [],
   "source": [
    "# Загрузка графового датасета DBpedia50\n",
    "dbpedia_dataset = CoDExMedium()"
   ]
  },
  {
   "cell_type": "code",
   "execution_count": 97,
   "id": "6f00ce2f",
   "metadata": {
    "ExecuteTime": {
     "end_time": "2024-01-26T17:57:51.458443123Z",
     "start_time": "2024-01-26T17:57:51.413095112Z"
    }
   },
   "outputs": [
    {
     "name": "stdout",
     "output_type": "stream",
     "text": [
      "CoDExMedium(training_path=\"/home/maxim/.data/pykeen/datasets/codexmedium/train.txt\", testing_path=\"/home/maxim/.data/pykeen/datasets/codexmedium/test.txt\", validation_path=\"/home/maxim/.data/pykeen/datasets/codexmedium/valid.txt\")\n"
     ]
    }
   ],
   "source": [
    "# Просмотр описания датасета\n",
    "print(dbpedia_dataset)"
   ]
  },
  {
   "cell_type": "markdown",
   "id": "df7c3f40",
   "metadata": {
    "id": "df7c3f40"
   },
   "source": [
    "# Обучение модели ComplEx на 100 эпохах\n"
   ]
  },
  {
   "cell_type": "markdown",
   "id": "971f2981",
   "metadata": {
    "id": "971f2981"
   },
   "source": [
    "Использеум pipeline() предоставляемый пакетом pykeen для обучения модели, в качестве аргументов указываем тип модели, набор данных, количество эпох обучения и устройство на котором проводится обучений"
   ]
  },
  {
   "cell_type": "markdown",
   "id": "77cd56b4",
   "metadata": {
    "id": "77cd56b4"
   },
   "source": [
    "Проверяем наличие GPU устройства и вызываем функцию pipeline(), которая запускает процесс обучения модели, тестирования и валидации."
   ]
  },
  {
   "cell_type": "code",
   "execution_count": 98,
   "id": "HLz5MBy3kTGe",
   "metadata": {
    "ExecuteTime": {
     "end_time": "2024-01-26T17:57:51.460029103Z",
     "start_time": "2024-01-26T17:57:51.454762249Z"
    }
   },
   "outputs": [
    {
     "name": "stdout",
     "output_type": "stream",
     "text": [
      "Using device: cuda\n"
     ]
    }
   ],
   "source": [
    "import torch\n",
    "device = torch.device(\"cuda\" if torch.cuda.is_available() else \"cpu\")\n",
    "print(f\"Using device: {device}\")"
   ]
  },
  {
   "cell_type": "markdown",
   "id": "aYoXhMaw0yK3",
   "metadata": {
    "id": "aYoXhMaw0yK3"
   },
   "source": [
    "Запускаем пайплайн обучения модели, в этот раз использем модель [ComplEx](https://pykeen.readthedocs.io/en/stable/api/pykeen.models.ComplEx.html)"
   ]
  },
  {
   "cell_type": "code",
   "execution_count": 99,
   "id": "6f827ec4",
   "metadata": {
    "ExecuteTime": {
     "end_time": "2024-01-26T18:07:42.840063931Z",
     "start_time": "2024-01-26T17:57:51.454953692Z"
    }
   },
   "outputs": [
    {
     "name": "stderr",
     "output_type": "stream",
     "text": [
      "WARNING:pykeen.pipeline.api:No random seed is specified. Setting to 1495362086.\n",
      "INFO:pykeen.pipeline.api:Using device: cuda\n"
     ]
    },
    {
     "data": {
      "text/plain": "Training epochs on cuda:0:   0%|          | 0/100 [00:00<?, ?epoch/s]",
      "application/vnd.jupyter.widget-view+json": {
       "version_major": 2,
       "version_minor": 0,
       "model_id": "32efe77690404964ae1e52aa4362c7a3"
      }
     },
     "metadata": {},
     "output_type": "display_data"
    },
    {
     "data": {
      "text/plain": "Training batches on cuda:0:   0%|          | 0/725 [00:00<?, ?batch/s]",
      "application/vnd.jupyter.widget-view+json": {
       "version_major": 2,
       "version_minor": 0,
       "model_id": "bb3f661987164316961c1e1f36355113"
      }
     },
     "metadata": {},
     "output_type": "display_data"
    },
    {
     "data": {
      "text/plain": "Training batches on cuda:0:   0%|          | 0/725 [00:00<?, ?batch/s]",
      "application/vnd.jupyter.widget-view+json": {
       "version_major": 2,
       "version_minor": 0,
       "model_id": "920c0d9f631f4f8b8434deda03920826"
      }
     },
     "metadata": {},
     "output_type": "display_data"
    },
    {
     "data": {
      "text/plain": "Training batches on cuda:0:   0%|          | 0/725 [00:00<?, ?batch/s]",
      "application/vnd.jupyter.widget-view+json": {
       "version_major": 2,
       "version_minor": 0,
       "model_id": "ba8509b1b46e4f7ea06b2591979ae74f"
      }
     },
     "metadata": {},
     "output_type": "display_data"
    },
    {
     "data": {
      "text/plain": "Training batches on cuda:0:   0%|          | 0/725 [00:00<?, ?batch/s]",
      "application/vnd.jupyter.widget-view+json": {
       "version_major": 2,
       "version_minor": 0,
       "model_id": "8688d35daedd4d8a8a90a9863d52dede"
      }
     },
     "metadata": {},
     "output_type": "display_data"
    },
    {
     "data": {
      "text/plain": "Training batches on cuda:0:   0%|          | 0/725 [00:00<?, ?batch/s]",
      "application/vnd.jupyter.widget-view+json": {
       "version_major": 2,
       "version_minor": 0,
       "model_id": "a51d58975f3d44468f706c27047e09b7"
      }
     },
     "metadata": {},
     "output_type": "display_data"
    },
    {
     "data": {
      "text/plain": "Training batches on cuda:0:   0%|          | 0/725 [00:00<?, ?batch/s]",
      "application/vnd.jupyter.widget-view+json": {
       "version_major": 2,
       "version_minor": 0,
       "model_id": "9f9c6f73ddfa4b4b9761465c415c03c7"
      }
     },
     "metadata": {},
     "output_type": "display_data"
    },
    {
     "data": {
      "text/plain": "Training batches on cuda:0:   0%|          | 0/725 [00:00<?, ?batch/s]",
      "application/vnd.jupyter.widget-view+json": {
       "version_major": 2,
       "version_minor": 0,
       "model_id": "15461bc082fe41a382b852d8537d1b84"
      }
     },
     "metadata": {},
     "output_type": "display_data"
    },
    {
     "data": {
      "text/plain": "Training batches on cuda:0:   0%|          | 0/725 [00:00<?, ?batch/s]",
      "application/vnd.jupyter.widget-view+json": {
       "version_major": 2,
       "version_minor": 0,
       "model_id": "2a7427249e43449891c69415236cba1e"
      }
     },
     "metadata": {},
     "output_type": "display_data"
    },
    {
     "data": {
      "text/plain": "Training batches on cuda:0:   0%|          | 0/725 [00:00<?, ?batch/s]",
      "application/vnd.jupyter.widget-view+json": {
       "version_major": 2,
       "version_minor": 0,
       "model_id": "8d99566042f3424880899f6124707d74"
      }
     },
     "metadata": {},
     "output_type": "display_data"
    },
    {
     "data": {
      "text/plain": "Training batches on cuda:0:   0%|          | 0/725 [00:00<?, ?batch/s]",
      "application/vnd.jupyter.widget-view+json": {
       "version_major": 2,
       "version_minor": 0,
       "model_id": "bfd144e307db494f8d9c4d919c9da472"
      }
     },
     "metadata": {},
     "output_type": "display_data"
    },
    {
     "data": {
      "text/plain": "Training batches on cuda:0:   0%|          | 0/725 [00:00<?, ?batch/s]",
      "application/vnd.jupyter.widget-view+json": {
       "version_major": 2,
       "version_minor": 0,
       "model_id": "7bc8128b266148ea82e3ed6ee50787e3"
      }
     },
     "metadata": {},
     "output_type": "display_data"
    },
    {
     "data": {
      "text/plain": "Training batches on cuda:0:   0%|          | 0/725 [00:00<?, ?batch/s]",
      "application/vnd.jupyter.widget-view+json": {
       "version_major": 2,
       "version_minor": 0,
       "model_id": "f283675a53fb47c39ac13e2aeeeffd8c"
      }
     },
     "metadata": {},
     "output_type": "display_data"
    },
    {
     "data": {
      "text/plain": "Training batches on cuda:0:   0%|          | 0/725 [00:00<?, ?batch/s]",
      "application/vnd.jupyter.widget-view+json": {
       "version_major": 2,
       "version_minor": 0,
       "model_id": "af39c90f50254babb0114841eab228ea"
      }
     },
     "metadata": {},
     "output_type": "display_data"
    },
    {
     "data": {
      "text/plain": "Training batches on cuda:0:   0%|          | 0/725 [00:00<?, ?batch/s]",
      "application/vnd.jupyter.widget-view+json": {
       "version_major": 2,
       "version_minor": 0,
       "model_id": "83d2af384b5c44b1ab022335da6fa12c"
      }
     },
     "metadata": {},
     "output_type": "display_data"
    },
    {
     "data": {
      "text/plain": "Training batches on cuda:0:   0%|          | 0/725 [00:00<?, ?batch/s]",
      "application/vnd.jupyter.widget-view+json": {
       "version_major": 2,
       "version_minor": 0,
       "model_id": "48b14dbcc52b4822a87c070bbbcb1b56"
      }
     },
     "metadata": {},
     "output_type": "display_data"
    },
    {
     "data": {
      "text/plain": "Training batches on cuda:0:   0%|          | 0/725 [00:00<?, ?batch/s]",
      "application/vnd.jupyter.widget-view+json": {
       "version_major": 2,
       "version_minor": 0,
       "model_id": "bcc7c85b212544978668ede372d8c164"
      }
     },
     "metadata": {},
     "output_type": "display_data"
    },
    {
     "data": {
      "text/plain": "Training batches on cuda:0:   0%|          | 0/725 [00:00<?, ?batch/s]",
      "application/vnd.jupyter.widget-view+json": {
       "version_major": 2,
       "version_minor": 0,
       "model_id": "4ef3cebaba8d46929227ad8b76c660bf"
      }
     },
     "metadata": {},
     "output_type": "display_data"
    },
    {
     "data": {
      "text/plain": "Training batches on cuda:0:   0%|          | 0/725 [00:00<?, ?batch/s]",
      "application/vnd.jupyter.widget-view+json": {
       "version_major": 2,
       "version_minor": 0,
       "model_id": "547c052d362a4a17834d065028646284"
      }
     },
     "metadata": {},
     "output_type": "display_data"
    },
    {
     "data": {
      "text/plain": "Training batches on cuda:0:   0%|          | 0/725 [00:00<?, ?batch/s]",
      "application/vnd.jupyter.widget-view+json": {
       "version_major": 2,
       "version_minor": 0,
       "model_id": "2324e80d1938454b8603b7143769e089"
      }
     },
     "metadata": {},
     "output_type": "display_data"
    },
    {
     "data": {
      "text/plain": "Training batches on cuda:0:   0%|          | 0/725 [00:00<?, ?batch/s]",
      "application/vnd.jupyter.widget-view+json": {
       "version_major": 2,
       "version_minor": 0,
       "model_id": "64eb55f467c64512afb6b4f2449fc93b"
      }
     },
     "metadata": {},
     "output_type": "display_data"
    },
    {
     "data": {
      "text/plain": "Training batches on cuda:0:   0%|          | 0/725 [00:00<?, ?batch/s]",
      "application/vnd.jupyter.widget-view+json": {
       "version_major": 2,
       "version_minor": 0,
       "model_id": "b68907c716ee4a219ab51a3ab81eb02a"
      }
     },
     "metadata": {},
     "output_type": "display_data"
    },
    {
     "data": {
      "text/plain": "Training batches on cuda:0:   0%|          | 0/725 [00:00<?, ?batch/s]",
      "application/vnd.jupyter.widget-view+json": {
       "version_major": 2,
       "version_minor": 0,
       "model_id": "a3877ccfa62f415e9c99acf9836b372b"
      }
     },
     "metadata": {},
     "output_type": "display_data"
    },
    {
     "data": {
      "text/plain": "Training batches on cuda:0:   0%|          | 0/725 [00:00<?, ?batch/s]",
      "application/vnd.jupyter.widget-view+json": {
       "version_major": 2,
       "version_minor": 0,
       "model_id": "d8a592a96c8e494ca4216d9c5767605b"
      }
     },
     "metadata": {},
     "output_type": "display_data"
    },
    {
     "data": {
      "text/plain": "Training batches on cuda:0:   0%|          | 0/725 [00:00<?, ?batch/s]",
      "application/vnd.jupyter.widget-view+json": {
       "version_major": 2,
       "version_minor": 0,
       "model_id": "4f6b63ebdf6f47e2a347a64e0665c701"
      }
     },
     "metadata": {},
     "output_type": "display_data"
    },
    {
     "data": {
      "text/plain": "Training batches on cuda:0:   0%|          | 0/725 [00:00<?, ?batch/s]",
      "application/vnd.jupyter.widget-view+json": {
       "version_major": 2,
       "version_minor": 0,
       "model_id": "eca6d1279294466cadcde525a1f3bde7"
      }
     },
     "metadata": {},
     "output_type": "display_data"
    },
    {
     "data": {
      "text/plain": "Training batches on cuda:0:   0%|          | 0/725 [00:00<?, ?batch/s]",
      "application/vnd.jupyter.widget-view+json": {
       "version_major": 2,
       "version_minor": 0,
       "model_id": "9684eb9c732b4ae7bcc68520a0d7cb64"
      }
     },
     "metadata": {},
     "output_type": "display_data"
    },
    {
     "data": {
      "text/plain": "Training batches on cuda:0:   0%|          | 0/725 [00:00<?, ?batch/s]",
      "application/vnd.jupyter.widget-view+json": {
       "version_major": 2,
       "version_minor": 0,
       "model_id": "d30fa75bbf624d8cae6b488a3717fad0"
      }
     },
     "metadata": {},
     "output_type": "display_data"
    },
    {
     "data": {
      "text/plain": "Training batches on cuda:0:   0%|          | 0/725 [00:00<?, ?batch/s]",
      "application/vnd.jupyter.widget-view+json": {
       "version_major": 2,
       "version_minor": 0,
       "model_id": "1ee9c55df49b40399e6fd8fe3e9dfc44"
      }
     },
     "metadata": {},
     "output_type": "display_data"
    },
    {
     "data": {
      "text/plain": "Training batches on cuda:0:   0%|          | 0/725 [00:00<?, ?batch/s]",
      "application/vnd.jupyter.widget-view+json": {
       "version_major": 2,
       "version_minor": 0,
       "model_id": "17fd48fe872746d5a62a911bb7172539"
      }
     },
     "metadata": {},
     "output_type": "display_data"
    },
    {
     "data": {
      "text/plain": "Training batches on cuda:0:   0%|          | 0/725 [00:00<?, ?batch/s]",
      "application/vnd.jupyter.widget-view+json": {
       "version_major": 2,
       "version_minor": 0,
       "model_id": "b99d9c1367474d0294eb2fb57eb7615f"
      }
     },
     "metadata": {},
     "output_type": "display_data"
    },
    {
     "data": {
      "text/plain": "Training batches on cuda:0:   0%|          | 0/725 [00:00<?, ?batch/s]",
      "application/vnd.jupyter.widget-view+json": {
       "version_major": 2,
       "version_minor": 0,
       "model_id": "07118359631148228573d185c0f6ddc5"
      }
     },
     "metadata": {},
     "output_type": "display_data"
    },
    {
     "data": {
      "text/plain": "Training batches on cuda:0:   0%|          | 0/725 [00:00<?, ?batch/s]",
      "application/vnd.jupyter.widget-view+json": {
       "version_major": 2,
       "version_minor": 0,
       "model_id": "bf16ece8b2f04bd58ab35228768392e9"
      }
     },
     "metadata": {},
     "output_type": "display_data"
    },
    {
     "data": {
      "text/plain": "Training batches on cuda:0:   0%|          | 0/725 [00:00<?, ?batch/s]",
      "application/vnd.jupyter.widget-view+json": {
       "version_major": 2,
       "version_minor": 0,
       "model_id": "e87fa07decac436fbdbfd069f96ea7e8"
      }
     },
     "metadata": {},
     "output_type": "display_data"
    },
    {
     "data": {
      "text/plain": "Training batches on cuda:0:   0%|          | 0/725 [00:00<?, ?batch/s]",
      "application/vnd.jupyter.widget-view+json": {
       "version_major": 2,
       "version_minor": 0,
       "model_id": "44acabf476524c539651f4febb57b31c"
      }
     },
     "metadata": {},
     "output_type": "display_data"
    },
    {
     "data": {
      "text/plain": "Training batches on cuda:0:   0%|          | 0/725 [00:00<?, ?batch/s]",
      "application/vnd.jupyter.widget-view+json": {
       "version_major": 2,
       "version_minor": 0,
       "model_id": "f05f1e54ab1d4ba8947ce8a02976cbfd"
      }
     },
     "metadata": {},
     "output_type": "display_data"
    },
    {
     "data": {
      "text/plain": "Training batches on cuda:0:   0%|          | 0/725 [00:00<?, ?batch/s]",
      "application/vnd.jupyter.widget-view+json": {
       "version_major": 2,
       "version_minor": 0,
       "model_id": "7129bcf7067441209811d18d37b90029"
      }
     },
     "metadata": {},
     "output_type": "display_data"
    },
    {
     "data": {
      "text/plain": "Training batches on cuda:0:   0%|          | 0/725 [00:00<?, ?batch/s]",
      "application/vnd.jupyter.widget-view+json": {
       "version_major": 2,
       "version_minor": 0,
       "model_id": "33aa8d8f840c4ff2bd669922c72ff322"
      }
     },
     "metadata": {},
     "output_type": "display_data"
    },
    {
     "data": {
      "text/plain": "Training batches on cuda:0:   0%|          | 0/725 [00:00<?, ?batch/s]",
      "application/vnd.jupyter.widget-view+json": {
       "version_major": 2,
       "version_minor": 0,
       "model_id": "b37ac382cd1b4b3f82a6323f4c00e754"
      }
     },
     "metadata": {},
     "output_type": "display_data"
    },
    {
     "data": {
      "text/plain": "Training batches on cuda:0:   0%|          | 0/725 [00:00<?, ?batch/s]",
      "application/vnd.jupyter.widget-view+json": {
       "version_major": 2,
       "version_minor": 0,
       "model_id": "3938460d8ae0459788a2fbdf6cd1e05d"
      }
     },
     "metadata": {},
     "output_type": "display_data"
    },
    {
     "data": {
      "text/plain": "Training batches on cuda:0:   0%|          | 0/725 [00:00<?, ?batch/s]",
      "application/vnd.jupyter.widget-view+json": {
       "version_major": 2,
       "version_minor": 0,
       "model_id": "d4f7b0980c6845bf90b92ea73ea2d8c7"
      }
     },
     "metadata": {},
     "output_type": "display_data"
    },
    {
     "data": {
      "text/plain": "Training batches on cuda:0:   0%|          | 0/725 [00:00<?, ?batch/s]",
      "application/vnd.jupyter.widget-view+json": {
       "version_major": 2,
       "version_minor": 0,
       "model_id": "389cb08229a641218a9385a6eeb030de"
      }
     },
     "metadata": {},
     "output_type": "display_data"
    },
    {
     "data": {
      "text/plain": "Training batches on cuda:0:   0%|          | 0/725 [00:00<?, ?batch/s]",
      "application/vnd.jupyter.widget-view+json": {
       "version_major": 2,
       "version_minor": 0,
       "model_id": "deed1cbae3ca467190d0f675de7c5011"
      }
     },
     "metadata": {},
     "output_type": "display_data"
    },
    {
     "data": {
      "text/plain": "Training batches on cuda:0:   0%|          | 0/725 [00:00<?, ?batch/s]",
      "application/vnd.jupyter.widget-view+json": {
       "version_major": 2,
       "version_minor": 0,
       "model_id": "4438d6f8c2f946d89f88c3ede6e221e7"
      }
     },
     "metadata": {},
     "output_type": "display_data"
    },
    {
     "data": {
      "text/plain": "Training batches on cuda:0:   0%|          | 0/725 [00:00<?, ?batch/s]",
      "application/vnd.jupyter.widget-view+json": {
       "version_major": 2,
       "version_minor": 0,
       "model_id": "d299a0ca00f748079860dc9f0aae2929"
      }
     },
     "metadata": {},
     "output_type": "display_data"
    },
    {
     "data": {
      "text/plain": "Training batches on cuda:0:   0%|          | 0/725 [00:00<?, ?batch/s]",
      "application/vnd.jupyter.widget-view+json": {
       "version_major": 2,
       "version_minor": 0,
       "model_id": "1966df6e72924445bd63ab7975bed1e1"
      }
     },
     "metadata": {},
     "output_type": "display_data"
    },
    {
     "data": {
      "text/plain": "Training batches on cuda:0:   0%|          | 0/725 [00:00<?, ?batch/s]",
      "application/vnd.jupyter.widget-view+json": {
       "version_major": 2,
       "version_minor": 0,
       "model_id": "409a2afe344c4f91bda34dd203317bbb"
      }
     },
     "metadata": {},
     "output_type": "display_data"
    },
    {
     "data": {
      "text/plain": "Training batches on cuda:0:   0%|          | 0/725 [00:00<?, ?batch/s]",
      "application/vnd.jupyter.widget-view+json": {
       "version_major": 2,
       "version_minor": 0,
       "model_id": "2df2cfa6bbb34a2a9cb42a05bac059ae"
      }
     },
     "metadata": {},
     "output_type": "display_data"
    },
    {
     "data": {
      "text/plain": "Training batches on cuda:0:   0%|          | 0/725 [00:00<?, ?batch/s]",
      "application/vnd.jupyter.widget-view+json": {
       "version_major": 2,
       "version_minor": 0,
       "model_id": "eb0ddef8fe0945acb06f74e0add505bc"
      }
     },
     "metadata": {},
     "output_type": "display_data"
    },
    {
     "data": {
      "text/plain": "Training batches on cuda:0:   0%|          | 0/725 [00:00<?, ?batch/s]",
      "application/vnd.jupyter.widget-view+json": {
       "version_major": 2,
       "version_minor": 0,
       "model_id": "ae6a516e4ae3472f9942eea3515299cf"
      }
     },
     "metadata": {},
     "output_type": "display_data"
    },
    {
     "data": {
      "text/plain": "Training batches on cuda:0:   0%|          | 0/725 [00:00<?, ?batch/s]",
      "application/vnd.jupyter.widget-view+json": {
       "version_major": 2,
       "version_minor": 0,
       "model_id": "6ad756ebd2084b91a81d78a06e57d7b1"
      }
     },
     "metadata": {},
     "output_type": "display_data"
    },
    {
     "data": {
      "text/plain": "Training batches on cuda:0:   0%|          | 0/725 [00:00<?, ?batch/s]",
      "application/vnd.jupyter.widget-view+json": {
       "version_major": 2,
       "version_minor": 0,
       "model_id": "f5f6a3f0841c4341a61d3d4bb40639d0"
      }
     },
     "metadata": {},
     "output_type": "display_data"
    },
    {
     "data": {
      "text/plain": "Training batches on cuda:0:   0%|          | 0/725 [00:00<?, ?batch/s]",
      "application/vnd.jupyter.widget-view+json": {
       "version_major": 2,
       "version_minor": 0,
       "model_id": "40491ab4346644f2addd493769f8e842"
      }
     },
     "metadata": {},
     "output_type": "display_data"
    },
    {
     "data": {
      "text/plain": "Training batches on cuda:0:   0%|          | 0/725 [00:00<?, ?batch/s]",
      "application/vnd.jupyter.widget-view+json": {
       "version_major": 2,
       "version_minor": 0,
       "model_id": "52c07c26bc6640b2a72a4c76fc0ae225"
      }
     },
     "metadata": {},
     "output_type": "display_data"
    },
    {
     "data": {
      "text/plain": "Training batches on cuda:0:   0%|          | 0/725 [00:00<?, ?batch/s]",
      "application/vnd.jupyter.widget-view+json": {
       "version_major": 2,
       "version_minor": 0,
       "model_id": "4e5cd71f6c954cf0a27eb02bf352558f"
      }
     },
     "metadata": {},
     "output_type": "display_data"
    },
    {
     "data": {
      "text/plain": "Training batches on cuda:0:   0%|          | 0/725 [00:00<?, ?batch/s]",
      "application/vnd.jupyter.widget-view+json": {
       "version_major": 2,
       "version_minor": 0,
       "model_id": "74da6ed325fc489eb9a738db3f3cf136"
      }
     },
     "metadata": {},
     "output_type": "display_data"
    },
    {
     "data": {
      "text/plain": "Training batches on cuda:0:   0%|          | 0/725 [00:00<?, ?batch/s]",
      "application/vnd.jupyter.widget-view+json": {
       "version_major": 2,
       "version_minor": 0,
       "model_id": "4937285efa94470cbb771a5c52538d81"
      }
     },
     "metadata": {},
     "output_type": "display_data"
    },
    {
     "data": {
      "text/plain": "Training batches on cuda:0:   0%|          | 0/725 [00:00<?, ?batch/s]",
      "application/vnd.jupyter.widget-view+json": {
       "version_major": 2,
       "version_minor": 0,
       "model_id": "21fd4ce143b84bb398635ebfb188e25c"
      }
     },
     "metadata": {},
     "output_type": "display_data"
    },
    {
     "data": {
      "text/plain": "Training batches on cuda:0:   0%|          | 0/725 [00:00<?, ?batch/s]",
      "application/vnd.jupyter.widget-view+json": {
       "version_major": 2,
       "version_minor": 0,
       "model_id": "c431d5f4d49544e38cbada28f76dfb77"
      }
     },
     "metadata": {},
     "output_type": "display_data"
    },
    {
     "data": {
      "text/plain": "Training batches on cuda:0:   0%|          | 0/725 [00:00<?, ?batch/s]",
      "application/vnd.jupyter.widget-view+json": {
       "version_major": 2,
       "version_minor": 0,
       "model_id": "0a5f63f3557c4e9ab9d246cf0d163f0f"
      }
     },
     "metadata": {},
     "output_type": "display_data"
    },
    {
     "data": {
      "text/plain": "Training batches on cuda:0:   0%|          | 0/725 [00:00<?, ?batch/s]",
      "application/vnd.jupyter.widget-view+json": {
       "version_major": 2,
       "version_minor": 0,
       "model_id": "fb83ee88d63c4c418fe25cf9905ac386"
      }
     },
     "metadata": {},
     "output_type": "display_data"
    },
    {
     "data": {
      "text/plain": "Training batches on cuda:0:   0%|          | 0/725 [00:00<?, ?batch/s]",
      "application/vnd.jupyter.widget-view+json": {
       "version_major": 2,
       "version_minor": 0,
       "model_id": "ae9aa5788fa340beb412296bfd7fa2e6"
      }
     },
     "metadata": {},
     "output_type": "display_data"
    },
    {
     "data": {
      "text/plain": "Training batches on cuda:0:   0%|          | 0/725 [00:00<?, ?batch/s]",
      "application/vnd.jupyter.widget-view+json": {
       "version_major": 2,
       "version_minor": 0,
       "model_id": "8f32ec87b43e48329730d3681f3b39a5"
      }
     },
     "metadata": {},
     "output_type": "display_data"
    },
    {
     "data": {
      "text/plain": "Training batches on cuda:0:   0%|          | 0/725 [00:00<?, ?batch/s]",
      "application/vnd.jupyter.widget-view+json": {
       "version_major": 2,
       "version_minor": 0,
       "model_id": "908ce14827f64b81b5035a4ba65d0318"
      }
     },
     "metadata": {},
     "output_type": "display_data"
    },
    {
     "data": {
      "text/plain": "Training batches on cuda:0:   0%|          | 0/725 [00:00<?, ?batch/s]",
      "application/vnd.jupyter.widget-view+json": {
       "version_major": 2,
       "version_minor": 0,
       "model_id": "88e4fd2d92374b62b414d6792b478b5d"
      }
     },
     "metadata": {},
     "output_type": "display_data"
    },
    {
     "data": {
      "text/plain": "Training batches on cuda:0:   0%|          | 0/725 [00:00<?, ?batch/s]",
      "application/vnd.jupyter.widget-view+json": {
       "version_major": 2,
       "version_minor": 0,
       "model_id": "9d234b87a261426f8492b31bdefc2ddd"
      }
     },
     "metadata": {},
     "output_type": "display_data"
    },
    {
     "data": {
      "text/plain": "Training batches on cuda:0:   0%|          | 0/725 [00:00<?, ?batch/s]",
      "application/vnd.jupyter.widget-view+json": {
       "version_major": 2,
       "version_minor": 0,
       "model_id": "e145fb1ae6d8480bb3063e0a4c4bf264"
      }
     },
     "metadata": {},
     "output_type": "display_data"
    },
    {
     "data": {
      "text/plain": "Training batches on cuda:0:   0%|          | 0/725 [00:00<?, ?batch/s]",
      "application/vnd.jupyter.widget-view+json": {
       "version_major": 2,
       "version_minor": 0,
       "model_id": "2c5053cba3494fe1b404d57376782f85"
      }
     },
     "metadata": {},
     "output_type": "display_data"
    },
    {
     "data": {
      "text/plain": "Training batches on cuda:0:   0%|          | 0/725 [00:00<?, ?batch/s]",
      "application/vnd.jupyter.widget-view+json": {
       "version_major": 2,
       "version_minor": 0,
       "model_id": "768049c338b34710a4d28cb1ac31a6a1"
      }
     },
     "metadata": {},
     "output_type": "display_data"
    },
    {
     "data": {
      "text/plain": "Training batches on cuda:0:   0%|          | 0/725 [00:00<?, ?batch/s]",
      "application/vnd.jupyter.widget-view+json": {
       "version_major": 2,
       "version_minor": 0,
       "model_id": "64c24bc336814bcb89246c454aa89de1"
      }
     },
     "metadata": {},
     "output_type": "display_data"
    },
    {
     "data": {
      "text/plain": "Training batches on cuda:0:   0%|          | 0/725 [00:00<?, ?batch/s]",
      "application/vnd.jupyter.widget-view+json": {
       "version_major": 2,
       "version_minor": 0,
       "model_id": "dd4cc8030a9248c18c205ff11376bace"
      }
     },
     "metadata": {},
     "output_type": "display_data"
    },
    {
     "data": {
      "text/plain": "Training batches on cuda:0:   0%|          | 0/725 [00:00<?, ?batch/s]",
      "application/vnd.jupyter.widget-view+json": {
       "version_major": 2,
       "version_minor": 0,
       "model_id": "4bd1bd8d19844f1c9c9f25592ac7eb29"
      }
     },
     "metadata": {},
     "output_type": "display_data"
    },
    {
     "data": {
      "text/plain": "Training batches on cuda:0:   0%|          | 0/725 [00:00<?, ?batch/s]",
      "application/vnd.jupyter.widget-view+json": {
       "version_major": 2,
       "version_minor": 0,
       "model_id": "860a273cf4784df0bc5ab37b6efe1558"
      }
     },
     "metadata": {},
     "output_type": "display_data"
    },
    {
     "data": {
      "text/plain": "Training batches on cuda:0:   0%|          | 0/725 [00:00<?, ?batch/s]",
      "application/vnd.jupyter.widget-view+json": {
       "version_major": 2,
       "version_minor": 0,
       "model_id": "9ab9277a6bee4bb185ba4a76c9726e84"
      }
     },
     "metadata": {},
     "output_type": "display_data"
    },
    {
     "data": {
      "text/plain": "Training batches on cuda:0:   0%|          | 0/725 [00:00<?, ?batch/s]",
      "application/vnd.jupyter.widget-view+json": {
       "version_major": 2,
       "version_minor": 0,
       "model_id": "ab531273f51a44f9a690120c74a8b453"
      }
     },
     "metadata": {},
     "output_type": "display_data"
    },
    {
     "data": {
      "text/plain": "Training batches on cuda:0:   0%|          | 0/725 [00:00<?, ?batch/s]",
      "application/vnd.jupyter.widget-view+json": {
       "version_major": 2,
       "version_minor": 0,
       "model_id": "df990b615f944648b811d5a9fabc49b9"
      }
     },
     "metadata": {},
     "output_type": "display_data"
    },
    {
     "data": {
      "text/plain": "Training batches on cuda:0:   0%|          | 0/725 [00:00<?, ?batch/s]",
      "application/vnd.jupyter.widget-view+json": {
       "version_major": 2,
       "version_minor": 0,
       "model_id": "3831863fc37b410c9b7871cb5e6197e3"
      }
     },
     "metadata": {},
     "output_type": "display_data"
    },
    {
     "data": {
      "text/plain": "Training batches on cuda:0:   0%|          | 0/725 [00:00<?, ?batch/s]",
      "application/vnd.jupyter.widget-view+json": {
       "version_major": 2,
       "version_minor": 0,
       "model_id": "99815d0bab8a438199907237d56bd6c8"
      }
     },
     "metadata": {},
     "output_type": "display_data"
    },
    {
     "data": {
      "text/plain": "Training batches on cuda:0:   0%|          | 0/725 [00:00<?, ?batch/s]",
      "application/vnd.jupyter.widget-view+json": {
       "version_major": 2,
       "version_minor": 0,
       "model_id": "83cab4fc98fd409fa5677f555a1e3074"
      }
     },
     "metadata": {},
     "output_type": "display_data"
    },
    {
     "data": {
      "text/plain": "Training batches on cuda:0:   0%|          | 0/725 [00:00<?, ?batch/s]",
      "application/vnd.jupyter.widget-view+json": {
       "version_major": 2,
       "version_minor": 0,
       "model_id": "dea7109138fd40b0a80c64273da4cd62"
      }
     },
     "metadata": {},
     "output_type": "display_data"
    },
    {
     "data": {
      "text/plain": "Training batches on cuda:0:   0%|          | 0/725 [00:00<?, ?batch/s]",
      "application/vnd.jupyter.widget-view+json": {
       "version_major": 2,
       "version_minor": 0,
       "model_id": "7afc30aa37c64a0d8c94820c5e83627b"
      }
     },
     "metadata": {},
     "output_type": "display_data"
    },
    {
     "data": {
      "text/plain": "Training batches on cuda:0:   0%|          | 0/725 [00:00<?, ?batch/s]",
      "application/vnd.jupyter.widget-view+json": {
       "version_major": 2,
       "version_minor": 0,
       "model_id": "8fd311d79ad64f76a06fe378cbecb4b1"
      }
     },
     "metadata": {},
     "output_type": "display_data"
    },
    {
     "data": {
      "text/plain": "Training batches on cuda:0:   0%|          | 0/725 [00:00<?, ?batch/s]",
      "application/vnd.jupyter.widget-view+json": {
       "version_major": 2,
       "version_minor": 0,
       "model_id": "7b9fc47aa45f4d92a834d2d01e36a56e"
      }
     },
     "metadata": {},
     "output_type": "display_data"
    },
    {
     "data": {
      "text/plain": "Training batches on cuda:0:   0%|          | 0/725 [00:00<?, ?batch/s]",
      "application/vnd.jupyter.widget-view+json": {
       "version_major": 2,
       "version_minor": 0,
       "model_id": "e515671f88bb4083baed38e73fc92446"
      }
     },
     "metadata": {},
     "output_type": "display_data"
    },
    {
     "data": {
      "text/plain": "Training batches on cuda:0:   0%|          | 0/725 [00:00<?, ?batch/s]",
      "application/vnd.jupyter.widget-view+json": {
       "version_major": 2,
       "version_minor": 0,
       "model_id": "7f1412c4219e4ddd8f250be841b7ef2b"
      }
     },
     "metadata": {},
     "output_type": "display_data"
    },
    {
     "data": {
      "text/plain": "Training batches on cuda:0:   0%|          | 0/725 [00:00<?, ?batch/s]",
      "application/vnd.jupyter.widget-view+json": {
       "version_major": 2,
       "version_minor": 0,
       "model_id": "6ae2413f7be1454e92501b41c5550a09"
      }
     },
     "metadata": {},
     "output_type": "display_data"
    },
    {
     "data": {
      "text/plain": "Training batches on cuda:0:   0%|          | 0/725 [00:00<?, ?batch/s]",
      "application/vnd.jupyter.widget-view+json": {
       "version_major": 2,
       "version_minor": 0,
       "model_id": "d61bd3bb13b242618028ba1436a18573"
      }
     },
     "metadata": {},
     "output_type": "display_data"
    },
    {
     "data": {
      "text/plain": "Training batches on cuda:0:   0%|          | 0/725 [00:00<?, ?batch/s]",
      "application/vnd.jupyter.widget-view+json": {
       "version_major": 2,
       "version_minor": 0,
       "model_id": "427c0cd4261348b88c78af48854f3e9e"
      }
     },
     "metadata": {},
     "output_type": "display_data"
    },
    {
     "data": {
      "text/plain": "Training batches on cuda:0:   0%|          | 0/725 [00:00<?, ?batch/s]",
      "application/vnd.jupyter.widget-view+json": {
       "version_major": 2,
       "version_minor": 0,
       "model_id": "0208f97e0e7647f98844d32a1924ce0d"
      }
     },
     "metadata": {},
     "output_type": "display_data"
    },
    {
     "data": {
      "text/plain": "Training batches on cuda:0:   0%|          | 0/725 [00:00<?, ?batch/s]",
      "application/vnd.jupyter.widget-view+json": {
       "version_major": 2,
       "version_minor": 0,
       "model_id": "ea007926398d47a383e62b6f81e36048"
      }
     },
     "metadata": {},
     "output_type": "display_data"
    },
    {
     "data": {
      "text/plain": "Training batches on cuda:0:   0%|          | 0/725 [00:00<?, ?batch/s]",
      "application/vnd.jupyter.widget-view+json": {
       "version_major": 2,
       "version_minor": 0,
       "model_id": "3e23d708f05a4dbc8c78ed5a0d47cc52"
      }
     },
     "metadata": {},
     "output_type": "display_data"
    },
    {
     "data": {
      "text/plain": "Training batches on cuda:0:   0%|          | 0/725 [00:00<?, ?batch/s]",
      "application/vnd.jupyter.widget-view+json": {
       "version_major": 2,
       "version_minor": 0,
       "model_id": "2e8e1b1d255d4130b6df1a4939bdfbd7"
      }
     },
     "metadata": {},
     "output_type": "display_data"
    },
    {
     "data": {
      "text/plain": "Training batches on cuda:0:   0%|          | 0/725 [00:00<?, ?batch/s]",
      "application/vnd.jupyter.widget-view+json": {
       "version_major": 2,
       "version_minor": 0,
       "model_id": "25d1900fe5bc4c59aeb072c09580e93b"
      }
     },
     "metadata": {},
     "output_type": "display_data"
    },
    {
     "data": {
      "text/plain": "Training batches on cuda:0:   0%|          | 0/725 [00:00<?, ?batch/s]",
      "application/vnd.jupyter.widget-view+json": {
       "version_major": 2,
       "version_minor": 0,
       "model_id": "a3b8bd19592c42b5b12b16d6ff98694c"
      }
     },
     "metadata": {},
     "output_type": "display_data"
    },
    {
     "data": {
      "text/plain": "Training batches on cuda:0:   0%|          | 0/725 [00:00<?, ?batch/s]",
      "application/vnd.jupyter.widget-view+json": {
       "version_major": 2,
       "version_minor": 0,
       "model_id": "7d4180d1124240d7a3188ed2d6a2d2ef"
      }
     },
     "metadata": {},
     "output_type": "display_data"
    },
    {
     "data": {
      "text/plain": "Training batches on cuda:0:   0%|          | 0/725 [00:00<?, ?batch/s]",
      "application/vnd.jupyter.widget-view+json": {
       "version_major": 2,
       "version_minor": 0,
       "model_id": "dfc38d45d2ce42a39bcc71079b830e67"
      }
     },
     "metadata": {},
     "output_type": "display_data"
    },
    {
     "data": {
      "text/plain": "Training batches on cuda:0:   0%|          | 0/725 [00:00<?, ?batch/s]",
      "application/vnd.jupyter.widget-view+json": {
       "version_major": 2,
       "version_minor": 0,
       "model_id": "2f39a164cc3a4a4dac9a97e05d1ab2fe"
      }
     },
     "metadata": {},
     "output_type": "display_data"
    },
    {
     "data": {
      "text/plain": "Training batches on cuda:0:   0%|          | 0/725 [00:00<?, ?batch/s]",
      "application/vnd.jupyter.widget-view+json": {
       "version_major": 2,
       "version_minor": 0,
       "model_id": "07796eeb5428494a86ca6d7d83277706"
      }
     },
     "metadata": {},
     "output_type": "display_data"
    },
    {
     "data": {
      "text/plain": "Training batches on cuda:0:   0%|          | 0/725 [00:00<?, ?batch/s]",
      "application/vnd.jupyter.widget-view+json": {
       "version_major": 2,
       "version_minor": 0,
       "model_id": "879e30c8443046718b9e5fb2039fa3f5"
      }
     },
     "metadata": {},
     "output_type": "display_data"
    },
    {
     "data": {
      "text/plain": "Training batches on cuda:0:   0%|          | 0/725 [00:00<?, ?batch/s]",
      "application/vnd.jupyter.widget-view+json": {
       "version_major": 2,
       "version_minor": 0,
       "model_id": "0a66c3961ebf41e0b55d0ecaf236d2a8"
      }
     },
     "metadata": {},
     "output_type": "display_data"
    },
    {
     "data": {
      "text/plain": "Training batches on cuda:0:   0%|          | 0/725 [00:00<?, ?batch/s]",
      "application/vnd.jupyter.widget-view+json": {
       "version_major": 2,
       "version_minor": 0,
       "model_id": "4010857ee323443fb6615cde675e16c6"
      }
     },
     "metadata": {},
     "output_type": "display_data"
    },
    {
     "name": "stderr",
     "output_type": "stream",
     "text": [
      "INFO:pykeen.evaluation.evaluator:Starting batch_size search for evaluation now...\n",
      "INFO:pykeen.evaluation.evaluator:Concluded batch_size search with batch_size=4.\n"
     ]
    },
    {
     "data": {
      "text/plain": "Evaluating on cuda:0:   0%|          | 0.00/10.3k [00:00<?, ?triple/s]",
      "application/vnd.jupyter.widget-view+json": {
       "version_major": 2,
       "version_minor": 0,
       "model_id": "5d67f814be04452e8f55745513602e1f"
      }
     },
     "metadata": {},
     "output_type": "display_data"
    },
    {
     "name": "stderr",
     "output_type": "stream",
     "text": [
      "INFO:pykeen.evaluation.evaluator:Evaluation took 10.42s seconds\n"
     ]
    }
   ],
   "source": [
    "# Задаем параметры для pipeline\n",
    "pipeline_results = pipeline(\n",
    "    model=\"ComplEx\",\n",
    "    dataset=dbpedia_dataset,\n",
    "    training_kwargs=dict(num_epochs=100),\n",
    "    device=device\n",
    ")"
   ]
  },
  {
   "cell_type": "markdown",
   "id": "FH-UylfmU3qW",
   "metadata": {
    "id": "FH-UylfmU3qW"
   },
   "source": [
    "\n",
    "В PyKEEN, функция plot_losses используется для визуализации изменения значений функции потерь во времени (по эпохам) в процессе обучения модели. Эта функция часто используется для мониторинга производительности модели во время тренировки и может быть полезной для оценки, насколько хорошо модель учится на обучающем наборе данных.\n"
   ]
  },
  {
   "cell_type": "code",
   "execution_count": 100,
   "id": "f9SlekR_Uguu",
   "metadata": {
    "ExecuteTime": {
     "end_time": "2024-01-26T18:07:43.072691544Z",
     "start_time": "2024-01-26T18:07:42.840405267Z"
    }
   },
   "outputs": [
    {
     "data": {
      "text/plain": "<Axes: title={'center': 'Losses Plot'}, xlabel='Epoch', ylabel='marginranking Loss'>"
     },
     "execution_count": 100,
     "metadata": {},
     "output_type": "execute_result"
    },
    {
     "data": {
      "text/plain": "<Figure size 640x480 with 1 Axes>",
      "image/png": "[encoded data removed]"
     },
     "metadata": {},
     "output_type": "display_data"
    }
   ],
   "source": [
    "# Обученная модель хранится в pipeline_results\n",
    "model = pipeline_results.model\n",
    "\n",
    "#plot loss\n",
    "pipeline_results.plot_losses()"
   ]
  },
  {
   "cell_type": "markdown",
   "id": "RpBkovA7J8aT",
   "metadata": {
    "id": "RpBkovA7J8aT"
   },
   "source": [
    "## Метрики оценки работы модели\n",
    "\n",
    "В PyKEEN пакет metrics предоставляет реализацию различных метрик, которые могут быть использованы для оценки качества работы моделей знаний (knowledge graph embedding models). Эти метрики позволяют оценивать, насколько хорошо модель справляется с предсказанием троек в графе знаний.\n",
    "\n",
    "Некоторые из основных метрик, доступных в пакете metrics:\n",
    "\n",
    "*   Rank-based Metrics - которые измеряют позицию верного ответа (положительной тройки) в отсортированном списке всех возможных троек\n",
    "*   Top-K Metrics - которые оценивают качество предсказаний в топ-K результатах.\n",
    "*   Clustering Metrics - которые измеряют качество кластеризации.\n",
    "\n",
    "Рассчитаем некоторые из них далее."
   ]
  },
  {
   "cell_type": "code",
   "execution_count": 101,
   "id": "HLKH6w0aAeYG",
   "metadata": {
    "ExecuteTime": {
     "end_time": "2024-01-26T18:08:17.244259967Z",
     "start_time": "2024-01-26T18:07:43.058665805Z"
    }
   },
   "outputs": [
    {
     "name": "stderr",
     "output_type": "stream",
     "text": [
      "INFO:pykeen.evaluation.evaluator:Starting batch_size search for evaluation now...\n",
      "INFO:pykeen.evaluation.evaluator:Concluded batch_size search with batch_size=4.\n"
     ]
    },
    {
     "data": {
      "text/plain": "Evaluating on cuda:0:   0%|          | 0.00/10.3k [00:00<?, ?triple/s]",
      "application/vnd.jupyter.widget-view+json": {
       "version_major": 2,
       "version_minor": 0,
       "model_id": "f093163dbb63410b879be052de859591"
      }
     },
     "metadata": {},
     "output_type": "display_data"
    },
    {
     "name": "stderr",
     "output_type": "stream",
     "text": [
      "INFO:pykeen.evaluation.evaluator:Evaluation took 28.19s seconds\n"
     ]
    },
    {
     "name": "stdout",
     "output_type": "stream",
     "text": [
      "Hits@1: 0.0031034817185530018\n",
      "Hits@3: 0.009504412763068567\n",
      "Hits@5: 0.014402094850160023\n",
      "Hits@10: 0.02526428086509553\n",
      "Mean Reciprocal Rank: 0.011825311928987503\n"
     ]
    }
   ],
   "source": [
    "# Создаем evaluator объект\n",
    "evaluator = RankBasedEvaluator()\n",
    "\n",
    "# Оценить работу модели\n",
    "metrics = evaluator.evaluate(pipeline_results.model, dbpedia_dataset.testing.mapped_triples,\n",
    "                             additional_filter_triples=[dbpedia_dataset.training.mapped_triples,\n",
    "                                                        dbpedia_dataset.validation.mapped_triples])\n",
    "\n",
    "# Print the metrics\n",
    "print(f\"Hits@1: {metrics.get_metric('hits@1')}\")\n",
    "print(f\"Hits@3: {metrics.get_metric('hits@3')}\")\n",
    "print(f\"Hits@5: {metrics.get_metric('hits@5')}\")\n",
    "print(f\"Hits@10: {metrics.get_metric('hits@10')}\")\n",
    "print(f\"Mean Reciprocal Rank: {metrics.get_metric('mean_reciprocal_rank')}\")"
   ]
  },
  {
   "cell_type": "markdown",
   "id": "_kzrnI2ut7Uk",
   "metadata": {
    "id": "_kzrnI2ut7Uk"
   },
   "source": [
    "## Получение представлений узлов"
   ]
  },
  {
   "cell_type": "markdown",
   "id": "XIQ8JQ6qV1Va",
   "metadata": {
    "id": "XIQ8JQ6qV1Va"
   },
   "source": [
    "После того как модель обучена, мы можем полчить представления узлов и отношений из результатов работы пайплайна."
   ]
  },
  {
   "cell_type": "code",
   "execution_count": 102,
   "id": "fwnsqFyBt6Na",
   "metadata": {
    "ExecuteTime": {
     "end_time": "2024-01-26T18:08:17.256539211Z",
     "start_time": "2024-01-26T18:08:17.243622861Z"
    }
   },
   "outputs": [],
   "source": [
    "node_embeddings = pipeline_results.model.entity_representations\n",
    "\n",
    "embedding_matrix = node_embeddings[0]._embeddings.weight.data\n",
    "\n",
    "# Конвертируем матрицу весов в NumPy array\n",
    "embedding_numpy = embedding_matrix.cpu().numpy()"
   ]
  },
  {
   "cell_type": "markdown",
   "id": "K1b8LioDu7NI",
   "metadata": {
    "id": "K1b8LioDu7NI"
   },
   "source": [
    "Мы извлекаем представления узлов из обученной модели. В этом контексте, представления узлов - это векторы, представляющие сущности в графе.\n"
   ]
  },
  {
   "cell_type": "markdown",
   "id": "FAIauQGFWKwd",
   "metadata": {
    "id": "FAIauQGFWKwd"
   },
   "source": [
    "Далее извлечем лейблы для сущнойстей и визуализируем некоторые из сущностей на плоскости."
   ]
  },
  {
   "cell_type": "code",
   "execution_count": 103,
   "id": "1tA1kxj6u7de",
   "metadata": {
    "ExecuteTime": {
     "end_time": "2024-01-26T18:08:17.433787882Z",
     "start_time": "2024-01-26T18:08:17.250749872Z"
    }
   },
   "outputs": [
    {
     "data": {
      "text/plain": "<Figure size 1000x800 with 1 Axes>",
      "image/png": "[encoded data removed]"
     },
     "metadata": {},
     "output_type": "display_data"
    }
   ],
   "source": [
    "#Созраняем названия сущностей в отдельной переменной\n",
    "id_to_lable = list(dbpedia_dataset.testing.entity_id_to_label.values())\n",
    "\n",
    "def visualize_embeddings(embeddings, labels):\n",
    "    # Scatter plot\n",
    "    plt.figure(figsize=(10, 8))\n",
    "    plt.scatter(embeddings[:, 0], embeddings[:, 1], c=np.arange(len(labels)), cmap='viridis', s=25)\n",
    "\n",
    "    # Добавляем лейблы к точкаи на графике\n",
    "    for i, label in enumerate(labels):\n",
    "        plt.annotate(label, (embeddings[i, 0], embeddings[i, 1]), alpha=1)\n",
    "\n",
    "    plt.title('Точечная диаграмма представлений')\n",
    "    plt.show()\n",
    "\n",
    "#Количество точек которые необходимо отобразить на графике\n",
    "number = 25\n",
    "\n",
    "visualize_embeddings(embedding_numpy[:number], id_to_lable[:number])"
   ]
  },
  {
   "cell_type": "markdown",
   "id": "ATIn2jyOwPrh",
   "metadata": {
    "id": "ATIn2jyOwPrh"
   },
   "source": [
    "Мы используем NetworkX и Matplotlib для визуализации представлений узлов на графе. Каждая сущность представлена точкой в двумерном пространстве, и близкие точки соответствуют похожим узлам в графе.\n"
   ]
  },
  {
   "cell_type": "markdown",
   "id": "92WYnqfTwV07",
   "metadata": {
    "id": "92WYnqfTwV07"
   },
   "source": [
    "## Измерение Node Similarity\n",
    "\n",
    "Добавим код для измерения близости узлов на основе представлений. Расчитаем близость между несколькими случайными узлами. Используем для этого косинусную схожесть, манхэттенское и евклидово расстояние. Визуализируем полученные результаты как матрицу близости.\n"
   ]
  },
  {
   "cell_type": "code",
   "execution_count": 104,
   "id": "tGd7j6OewX4H",
   "metadata": {
    "ExecuteTime": {
     "end_time": "2024-01-26T18:08:18.098808348Z",
     "start_time": "2024-01-26T18:08:17.443308464Z"
    }
   },
   "outputs": [
    {
     "name": "stdout",
     "output_type": "stream",
     "text": [
      "[[ 0.       26.73357  29.559807 28.183432]\n",
      " [26.73357   0.       26.064272 27.169495]\n",
      " [29.559807 26.064272  0.       26.955559]\n",
      " [28.183432 27.169495 26.955559  0.      ]]\n"
     ]
    },
    {
     "data": {
      "text/plain": "<Figure size 800x800 with 2 Axes>",
      "image/png": "[encoded data removed]"
     },
     "metadata": {},
     "output_type": "display_data"
    },
    {
     "name": "stdout",
     "output_type": "stream",
     "text": [
      "[[ 1.0000002  -0.0244894  -0.19546232 -0.04143407]\n",
      " [-0.0244894   1.0000002  -0.00124465 -0.03948618]\n",
      " [-0.19546232 -0.00124465  1.          0.02283196]\n",
      " [-0.04143407 -0.03948618  0.02283196  1.        ]]\n"
     ]
    },
    {
     "data": {
      "text/plain": "<Figure size 800x800 with 2 Axes>",
      "image/png": "[encoded data removed]"
     },
     "metadata": {},
     "output_type": "display_data"
    },
    {
     "name": "stdout",
     "output_type": "stream",
     "text": [
      "[[  0.         424.31790916 473.19724347 448.52134309]\n",
      " [424.31790916   0.         411.70706966 433.1118699 ]\n",
      " [473.19724347 411.70706966   0.         438.23075668]\n",
      " [448.52134309 433.1118699  438.23075668   0.        ]]\n"
     ]
    },
    {
     "data": {
      "text/plain": "<Figure size 800x800 with 2 Axes>",
      "image/png": "[encoded data removed]"
     },
     "metadata": {},
     "output_type": "display_data"
    }
   ],
   "source": [
    "def diplay_matrix(similarity_matrix):\n",
    "  # Визуализация матрицы близости\n",
    "  plt.figure(figsize=(8, 8))\n",
    "  plt.imshow(similarity_matrix, cmap='viridis', interpolation='nearest')\n",
    "  plt.colorbar()\n",
    "  plt.title('Node Similarity Matrix')\n",
    "  plt.show()\n",
    "\n",
    "\n",
    "# Рассчет близости между узлами\n",
    "methods = [euclidean_distances,cosine_similarity,manhattan_distances]\n",
    "#Узлы\n",
    "nodes = [embedding_numpy[1324],embedding_numpy[12240],embedding_numpy[15386],embedding_numpy[12456]]\n",
    "for method in methods:\n",
    "  similarity_matrix = method(nodes)\n",
    "  print(similarity_matrix)\n",
    "  diplay_matrix(similarity_matrix)"
   ]
  },
  {
   "cell_type": "markdown",
   "id": "fXT9QW6Qwc-X",
   "metadata": {
    "id": "fXT9QW6Qwc-X"
   },
   "source": [
    "Этот код использует euclidean_distances,cosine_similarity и manhattan_distances из scikit-learn для вычисления матрицы близости между узлами на основе их представлений. Затем мы визуализируем эту матрицу для наглядного представления Node Similarity."
   ]
  },
  {
   "cell_type": "markdown",
   "id": "7A2FAGRTwf-B",
   "metadata": {
    "id": "7A2FAGRTwf-B"
   },
   "source": [
    "## Поиск соседей узла\n",
    "Одной из задач где используется схожесть узлов является задача поиска ближайших соседей конкретного узла в графе.\n",
    "Рассмотрии применение NearestNeighbors на созданных представлениях с использованием только что рассмотренных методов рассчета близости."
   ]
  },
  {
   "cell_type": "code",
   "execution_count": 105,
   "id": "LxwmgryVwjWb",
   "metadata": {
    "ExecuteTime": {
     "end_time": "2024-01-26T18:08:18.202956023Z",
     "start_time": "2024-01-26T18:08:18.042754401Z"
    }
   },
   "outputs": [
    {
     "name": "stdout",
     "output_type": "stream",
     "text": [
      "Метрика:nan_euclidean\n",
      "Дистанции:[[ 0.       20.079067 20.38766  20.400259]]\n",
      "Индексы:[[  517 13034  2590  5615]]\n",
      "Ближайшие соседи узла Q108175: ['Q108175', 'Q5862903', 'Q156539', 'Q22955657'] \n",
      "\n",
      "Метрика:cosine\n",
      "Дистанции:[[0.         0.785138   0.7953862  0.81194055]]\n",
      "Индексы:[[  517  2140 16906   977]]\n",
      "Ближайшие соседи узла Q108175: ['Q108175', 'Q1446181', 'Q97871', 'Q117688'] \n",
      "\n",
      "Метрика:manhattan\n",
      "Дистанции:[[  0.         312.14370728 326.58300781 329.18478394]]\n",
      "Индексы:[[  517 13034  5615  2306]]\n",
      "Ближайшие соседи узла Q108175: ['Q108175', 'Q5862903', 'Q22955657', 'Q151825'] \n"
     ]
    }
   ],
   "source": [
    "# Выбираем случайный узел\n",
    "random_node_index = 517\n",
    "methods = ['nan_euclidean','cosine','manhattan']\n",
    "def nearest_nodes(method):\n",
    "  nn_model = NearestNeighbors(n_neighbors=4, metric=method)\n",
    "  nn_model.fit(embedding_numpy)\n",
    "  distances, indices = nn_model.kneighbors([embedding_numpy[random_node_index]])\n",
    "  print('Метрика:'+method )\n",
    "  print(f'Дистанции:{distances}' )\n",
    "  print(f'Индексы:{indices}' )\n",
    "  # Визуализация ближайших соседей\n",
    "  neighbors_labels = [id_to_lable[i] for i in indices.flatten()]\n",
    "  print(f\"Ближайшие соседи узла {id_to_lable[random_node_index]}: {neighbors_labels} \\n\")\n",
    "\n",
    "for method in methods: nearest_nodes(method)"
   ]
  },
  {
   "cell_type": "code",
   "execution_count": 106,
   "id": "k1ZU7o0SjKA6",
   "metadata": {
    "ExecuteTime": {
     "end_time": "2024-01-26T18:08:18.297795538Z",
     "start_time": "2024-01-26T18:08:18.203683941Z"
    }
   },
   "outputs": [
    {
     "name": "stdout",
     "output_type": "stream",
     "text": [
      "Метрика:nan_euclidean\n",
      "Дистанции:[[ 0.       20.100378 20.718916 20.75352 ]]\n",
      "Индексы:[[ 2738 13034  3209  2306]]\n",
      "Ближайшие соседи узла Q159551: ['Q159551', 'Q5862903', 'Q1691611', 'Q151825'] \n",
      "\n",
      "Метрика:cosine\n",
      "Дистанции:[[0.         0.8024982  0.80774677 0.8099388 ]]\n",
      "Индексы:[[ 2738  1683  4941 13587]]\n",
      "Ближайшие соседи узла Q159551: ['Q159551', 'Q1325743', 'Q213355', 'Q63960'] \n",
      "\n",
      "Метрика:manhattan\n",
      "Дистанции:[[  0.         308.27288818 327.68127441 328.07608032]]\n",
      "Индексы:[[ 2738 13034  8924  2590]]\n",
      "Ближайшие соседи узла Q159551: ['Q159551', 'Q5862903', 'Q328695', 'Q156539'] \n"
     ]
    }
   ],
   "source": [
    "# Выбираем второй случайный узел\n",
    "random_node_index = 2738\n",
    "methods = ['nan_euclidean','cosine','manhattan']\n",
    "def nearest_nodes(method):\n",
    "  nn_model = NearestNeighbors(n_neighbors=4, metric=method)\n",
    "  nn_model.fit(embedding_numpy)\n",
    "  distances, indices = nn_model.kneighbors([embedding_numpy[random_node_index]])\n",
    "  print('Метрика:'+method )\n",
    "  print(f'Дистанции:{distances}' )\n",
    "  print(f'Индексы:{indices}' )\n",
    "  # Визуализация ближайших соседей\n",
    "  neighbors_labels = [id_to_lable[i] for i in indices.flatten()]\n",
    "  print(f\"Ближайшие соседи узла {id_to_lable[random_node_index]}: {neighbors_labels} \\n\")\n",
    "\n",
    "for method in methods: nearest_nodes(method)"
   ]
  },
  {
   "cell_type": "markdown",
   "source": [
    "## Эксперименты"
   ],
   "metadata": {
    "collapsed": false
   },
   "id": "250befd15e471b00"
  },
  {
   "cell_type": "markdown",
   "source": [
    "Для экспериментов была выбрана модель HolE, \n",
    "\n",
    "Сравните эффективность модели выше и HolE в предсказании отношений и измерении Node Similarity."
   ],
   "metadata": {
    "collapsed": false
   },
   "id": "f79a82774ba02478"
  },
  {
   "cell_type": "markdown",
   "id": "d-QG-GJbg-Yt",
   "metadata": {
    "id": "d-QG-GJbg-Yt"
   },
   "source": [
    "# Модель ComplEx на 20 эпохах обучений"
   ]
  },
  {
   "cell_type": "code",
   "execution_count": 107,
   "id": "vpt2-7m2g0dk",
   "metadata": {
    "ExecuteTime": {
     "end_time": "2024-01-26T18:10:28.078069629Z",
     "start_time": "2024-01-26T18:08:18.297601120Z"
    }
   },
   "outputs": [
    {
     "name": "stderr",
     "output_type": "stream",
     "text": [
      "WARNING:pykeen.pipeline.api:No random seed is specified. Setting to 44919656.\n",
      "INFO:pykeen.pipeline.api:Using device: cuda\n"
     ]
    },
    {
     "data": {
      "text/plain": "Training epochs on cuda:0:   0%|          | 0/20 [00:00<?, ?epoch/s]",
      "application/vnd.jupyter.widget-view+json": {
       "version_major": 2,
       "version_minor": 0,
       "model_id": "a82331b03a5b47c38abc0af8144731da"
      }
     },
     "metadata": {},
     "output_type": "display_data"
    },
    {
     "data": {
      "text/plain": "Training batches on cuda:0:   0%|          | 0/725 [00:00<?, ?batch/s]",
      "application/vnd.jupyter.widget-view+json": {
       "version_major": 2,
       "version_minor": 0,
       "model_id": "4ba5bc30771e4a97899226a403120a98"
      }
     },
     "metadata": {},
     "output_type": "display_data"
    },
    {
     "data": {
      "text/plain": "Training batches on cuda:0:   0%|          | 0/725 [00:00<?, ?batch/s]",
      "application/vnd.jupyter.widget-view+json": {
       "version_major": 2,
       "version_minor": 0,
       "model_id": "b817303f63f743fa8049e1cbe93b897c"
      }
     },
     "metadata": {},
     "output_type": "display_data"
    },
    {
     "data": {
      "text/plain": "Training batches on cuda:0:   0%|          | 0/725 [00:00<?, ?batch/s]",
      "application/vnd.jupyter.widget-view+json": {
       "version_major": 2,
       "version_minor": 0,
       "model_id": "0e9ea63105fa467ebf8dd692ca4ddfa6"
      }
     },
     "metadata": {},
     "output_type": "display_data"
    },
    {
     "data": {
      "text/plain": "Training batches on cuda:0:   0%|          | 0/725 [00:00<?, ?batch/s]",
      "application/vnd.jupyter.widget-view+json": {
       "version_major": 2,
       "version_minor": 0,
       "model_id": "5d650493ba9e41e3a375f6b7a62727a3"
      }
     },
     "metadata": {},
     "output_type": "display_data"
    },
    {
     "data": {
      "text/plain": "Training batches on cuda:0:   0%|          | 0/725 [00:00<?, ?batch/s]",
      "application/vnd.jupyter.widget-view+json": {
       "version_major": 2,
       "version_minor": 0,
       "model_id": "dbd255d6c6af42e08bc26da520f42d01"
      }
     },
     "metadata": {},
     "output_type": "display_data"
    },
    {
     "data": {
      "text/plain": "Training batches on cuda:0:   0%|          | 0/725 [00:00<?, ?batch/s]",
      "application/vnd.jupyter.widget-view+json": {
       "version_major": 2,
       "version_minor": 0,
       "model_id": "0fb09458c4b140368fa6ba3ea2103fd7"
      }
     },
     "metadata": {},
     "output_type": "display_data"
    },
    {
     "data": {
      "text/plain": "Training batches on cuda:0:   0%|          | 0/725 [00:00<?, ?batch/s]",
      "application/vnd.jupyter.widget-view+json": {
       "version_major": 2,
       "version_minor": 0,
       "model_id": "7e895f0dd81844959623b8dcbd7ed9d7"
      }
     },
     "metadata": {},
     "output_type": "display_data"
    },
    {
     "data": {
      "text/plain": "Training batches on cuda:0:   0%|          | 0/725 [00:00<?, ?batch/s]",
      "application/vnd.jupyter.widget-view+json": {
       "version_major": 2,
       "version_minor": 0,
       "model_id": "f2aad71df21646b29ab5f7a004aee310"
      }
     },
     "metadata": {},
     "output_type": "display_data"
    },
    {
     "data": {
      "text/plain": "Training batches on cuda:0:   0%|          | 0/725 [00:00<?, ?batch/s]",
      "application/vnd.jupyter.widget-view+json": {
       "version_major": 2,
       "version_minor": 0,
       "model_id": "e0068cebe2444d5ca1767a7133308f3b"
      }
     },
     "metadata": {},
     "output_type": "display_data"
    },
    {
     "data": {
      "text/plain": "Training batches on cuda:0:   0%|          | 0/725 [00:00<?, ?batch/s]",
      "application/vnd.jupyter.widget-view+json": {
       "version_major": 2,
       "version_minor": 0,
       "model_id": "4dda6ea5454943c89163f718c0ed723f"
      }
     },
     "metadata": {},
     "output_type": "display_data"
    },
    {
     "data": {
      "text/plain": "Training batches on cuda:0:   0%|          | 0/725 [00:00<?, ?batch/s]",
      "application/vnd.jupyter.widget-view+json": {
       "version_major": 2,
       "version_minor": 0,
       "model_id": "ccb673c508e349a6b22d7870b9d3b258"
      }
     },
     "metadata": {},
     "output_type": "display_data"
    },
    {
     "data": {
      "text/plain": "Training batches on cuda:0:   0%|          | 0/725 [00:00<?, ?batch/s]",
      "application/vnd.jupyter.widget-view+json": {
       "version_major": 2,
       "version_minor": 0,
       "model_id": "6a03a5b6413f43ff9198a1f6525a1b98"
      }
     },
     "metadata": {},
     "output_type": "display_data"
    },
    {
     "data": {
      "text/plain": "Training batches on cuda:0:   0%|          | 0/725 [00:00<?, ?batch/s]",
      "application/vnd.jupyter.widget-view+json": {
       "version_major": 2,
       "version_minor": 0,
       "model_id": "16b8ffd2d201477fb80748ba2e094513"
      }
     },
     "metadata": {},
     "output_type": "display_data"
    },
    {
     "data": {
      "text/plain": "Training batches on cuda:0:   0%|          | 0/725 [00:00<?, ?batch/s]",
      "application/vnd.jupyter.widget-view+json": {
       "version_major": 2,
       "version_minor": 0,
       "model_id": "58ac7955532046b6b4fce14a41936de9"
      }
     },
     "metadata": {},
     "output_type": "display_data"
    },
    {
     "data": {
      "text/plain": "Training batches on cuda:0:   0%|          | 0/725 [00:00<?, ?batch/s]",
      "application/vnd.jupyter.widget-view+json": {
       "version_major": 2,
       "version_minor": 0,
       "model_id": "dc3c7a2f82fc43818c9d686d72229567"
      }
     },
     "metadata": {},
     "output_type": "display_data"
    },
    {
     "data": {
      "text/plain": "Training batches on cuda:0:   0%|          | 0/725 [00:00<?, ?batch/s]",
      "application/vnd.jupyter.widget-view+json": {
       "version_major": 2,
       "version_minor": 0,
       "model_id": "0e4e9e32c49242afbc7974ff78cf2f2e"
      }
     },
     "metadata": {},
     "output_type": "display_data"
    },
    {
     "data": {
      "text/plain": "Training batches on cuda:0:   0%|          | 0/725 [00:00<?, ?batch/s]",
      "application/vnd.jupyter.widget-view+json": {
       "version_major": 2,
       "version_minor": 0,
       "model_id": "7d2215c5c36a411bb463aefd1a3ce69e"
      }
     },
     "metadata": {},
     "output_type": "display_data"
    },
    {
     "data": {
      "text/plain": "Training batches on cuda:0:   0%|          | 0/725 [00:00<?, ?batch/s]",
      "application/vnd.jupyter.widget-view+json": {
       "version_major": 2,
       "version_minor": 0,
       "model_id": "b5580ced6b3e4fd192d2dc9bea0cfbf0"
      }
     },
     "metadata": {},
     "output_type": "display_data"
    },
    {
     "data": {
      "text/plain": "Training batches on cuda:0:   0%|          | 0/725 [00:00<?, ?batch/s]",
      "application/vnd.jupyter.widget-view+json": {
       "version_major": 2,
       "version_minor": 0,
       "model_id": "d9996d07e91e4d6c912d9125002d6178"
      }
     },
     "metadata": {},
     "output_type": "display_data"
    },
    {
     "data": {
      "text/plain": "Training batches on cuda:0:   0%|          | 0/725 [00:00<?, ?batch/s]",
      "application/vnd.jupyter.widget-view+json": {
       "version_major": 2,
       "version_minor": 0,
       "model_id": "f144d3bcc2d34923806cee3dfc9e9911"
      }
     },
     "metadata": {},
     "output_type": "display_data"
    },
    {
     "name": "stderr",
     "output_type": "stream",
     "text": [
      "INFO:pykeen.evaluation.evaluator:Starting batch_size search for evaluation now...\n",
      "INFO:pykeen.evaluation.evaluator:Concluded batch_size search with batch_size=16.\n"
     ]
    },
    {
     "data": {
      "text/plain": "Evaluating on cuda:0:   0%|          | 0.00/10.3k [00:00<?, ?triple/s]",
      "application/vnd.jupyter.widget-view+json": {
       "version_major": 2,
       "version_minor": 0,
       "model_id": "5f5cf1cf17e444429c8081b16d122f51"
      }
     },
     "metadata": {},
     "output_type": "display_data"
    },
    {
     "name": "stderr",
     "output_type": "stream",
     "text": [
      "INFO:pykeen.evaluation.evaluator:Evaluation took 7.54s seconds\n"
     ]
    }
   ],
   "source": [
    "pipeline_results = pipeline(\n",
    "    model=\"ComplEx\",\n",
    "    dataset=dbpedia_dataset,\n",
    "    training_kwargs=dict(num_epochs=20),\n",
    "    device=device\n",
    ")"
   ]
  },
  {
   "cell_type": "code",
   "execution_count": 108,
   "id": "-1cXQa79hfXw",
   "metadata": {
    "ExecuteTime": {
     "end_time": "2024-01-26T18:10:28.325141944Z",
     "start_time": "2024-01-26T18:10:28.094904488Z"
    }
   },
   "outputs": [
    {
     "data": {
      "text/plain": "<Axes: title={'center': 'Losses Plot'}, xlabel='Epoch', ylabel='marginranking Loss'>"
     },
     "execution_count": 108,
     "metadata": {},
     "output_type": "execute_result"
    },
    {
     "data": {
      "text/plain": "<Figure size 640x480 with 1 Axes>",
      "image/png": "[encoded data removed]"
     },
     "metadata": {},
     "output_type": "display_data"
    }
   ],
   "source": [
    "pipeline_results.plot_losses()"
   ]
  },
  {
   "cell_type": "code",
   "execution_count": 109,
   "id": "RvyXfEc4hf-8",
   "metadata": {
    "ExecuteTime": {
     "end_time": "2024-01-26T18:10:41.158172541Z",
     "start_time": "2024-01-26T18:10:28.318686267Z"
    }
   },
   "outputs": [
    {
     "name": "stderr",
     "output_type": "stream",
     "text": [
      "INFO:pykeen.evaluation.evaluator:Starting batch_size search for evaluation now...\n",
      "INFO:pykeen.evaluation.evaluator:Concluded batch_size search with batch_size=16.\n"
     ]
    },
    {
     "data": {
      "text/plain": "Evaluating on cuda:0:   0%|          | 0.00/10.3k [00:00<?, ?triple/s]",
      "application/vnd.jupyter.widget-view+json": {
       "version_major": 2,
       "version_minor": 0,
       "model_id": "6a7a6af2328542dab3aaa92fa54ca729"
      }
     },
     "metadata": {},
     "output_type": "display_data"
    },
    {
     "name": "stderr",
     "output_type": "stream",
     "text": [
      "INFO:pykeen.evaluation.evaluator:Evaluation took 8.48s seconds\n"
     ]
    },
    {
     "name": "stdout",
     "output_type": "stream",
     "text": [
      "Hits@1: 0.00014547570555717196\n",
      "Hits@3: 0.0006303947240810785\n",
      "Hits@5: 0.000969838037047813\n",
      "Hits@10: 0.0018426922703908446\n",
      "Mean Reciprocal Rank: 0.0012262363452464342\n"
     ]
    }
   ],
   "source": [
    "# Создаем evaluator объект\n",
    "evaluator = RankBasedEvaluator()\n",
    "model_v2 = pipeline_results.model\n",
    "\n",
    "# Оценить работу модели\n",
    "metrics = evaluator.evaluate(model_v2, dbpedia_dataset.testing.mapped_triples,\n",
    "                             additional_filter_triples=[dbpedia_dataset.training.mapped_triples,\n",
    "                                                        dbpedia_dataset.validation.mapped_triples])\n",
    "\n",
    "# Print the metrics\n",
    "print(f\"Hits@1: {metrics.get_metric('hits@1')}\")\n",
    "print(f\"Hits@3: {metrics.get_metric('hits@3')}\")\n",
    "print(f\"Hits@5: {metrics.get_metric('hits@5')}\")\n",
    "print(f\"Hits@10: {metrics.get_metric('hits@10')}\")\n",
    "print(f\"Mean Reciprocal Rank: {metrics.get_metric('mean_reciprocal_rank')}\")"
   ]
  },
  {
   "cell_type": "code",
   "execution_count": 110,
   "id": "0jP1X87kh5Uj",
   "metadata": {
    "ExecuteTime": {
     "end_time": "2024-01-26T18:10:41.215753823Z",
     "start_time": "2024-01-26T18:10:41.157802616Z"
    }
   },
   "outputs": [],
   "source": [
    "node_embeddings = model_v2.entity_representations\n",
    "\n",
    "embedding_matrix = node_embeddings[0]._embeddings.weight.data\n",
    "\n",
    "# Конвертируем матрицу весов в NumPy array\n",
    "embedding_numpy = embedding_matrix.cpu().numpy()"
   ]
  },
  {
   "cell_type": "code",
   "execution_count": 111,
   "id": "90GmXwKRh-Wy",
   "metadata": {
    "ExecuteTime": {
     "end_time": "2024-01-26T18:10:41.365554301Z",
     "start_time": "2024-01-26T18:10:41.202804399Z"
    }
   },
   "outputs": [
    {
     "data": {
      "text/plain": "<Figure size 1000x800 with 1 Axes>",
      "image/png": "[encoded data removed]"
     },
     "metadata": {},
     "output_type": "display_data"
    }
   ],
   "source": [
    "#Созраняем названия сущностей в отдельной переменной\n",
    "id_to_lable = list(dbpedia_dataset.testing.entity_id_to_label.values())\n",
    "\n",
    "#Количество точек которые необходимо отобразить на графике\n",
    "number = 25\n",
    "\n",
    "visualize_embeddings(embedding_numpy[:number], id_to_lable[:number])"
   ]
  },
  {
   "cell_type": "code",
   "execution_count": 112,
   "id": "yV-db2-AiSvG",
   "metadata": {
    "ExecuteTime": {
     "end_time": "2024-01-26T18:10:41.582648138Z",
     "start_time": "2024-01-26T18:10:41.366159824Z"
    }
   },
   "outputs": [
    {
     "name": "stdout",
     "output_type": "stream",
     "text": [
      "Метрика:nan_euclidean\n",
      "Дистанции:[[ 0.       24.87713  25.045351 25.13326 ]]\n",
      "Индексы:[[  678 14221  5181 11720]]\n",
      "Ближайшие соседи узла Q111436: ['Q111436', 'Q707607', 'Q216582', 'Q47221'] \n",
      "\n",
      "Метрика:cosine\n",
      "Дистанции:[[0.        0.8257593 0.8258805 0.8262654]]\n",
      "Индексы:[[  678  5282 11720  5181]]\n",
      "Ближайшие соседи узла Q111436: ['Q111436', 'Q219622', 'Q47221', 'Q216582'] \n",
      "\n",
      "Метрика:manhattan\n",
      "Дистанции:[[  0.         394.52432251 395.91934204 398.440979  ]]\n",
      "Индексы:[[  678 14221  5181 13434]]\n",
      "Ближайшие соседи узла Q111436: ['Q111436', 'Q707607', 'Q216582', 'Q622683'] \n"
     ]
    }
   ],
   "source": [
    "# Выбираем случайный узел\n",
    "random_node_index = 678\n",
    "methods = ['nan_euclidean','cosine','manhattan']\n",
    "def nearest_nodes(method):\n",
    "  nn_model = NearestNeighbors(n_neighbors=4, metric=method)\n",
    "  nn_model.fit(embedding_numpy)\n",
    "  distances, indices = nn_model.kneighbors([embedding_numpy[random_node_index]])\n",
    "  print('Метрика:'+method )\n",
    "  print(f'Дистанции:{distances}' )\n",
    "  print(f'Индексы:{indices}' )\n",
    "  # Визуализация ближайших соседей\n",
    "  neighbors_labels = [id_to_lable[i] for i in indices.flatten()]\n",
    "  print(f\"Ближайшие соседи узла {id_to_lable[random_node_index]}: {neighbors_labels} \\n\")\n",
    "\n",
    "for method in methods: nearest_nodes(method)"
   ]
  },
  {
   "cell_type": "code",
   "execution_count": 113,
   "id": "jQg2hAcijT38",
   "metadata": {
    "ExecuteTime": {
     "end_time": "2024-01-26T18:10:41.716155413Z",
     "start_time": "2024-01-26T18:10:41.578752810Z"
    }
   },
   "outputs": [
    {
     "name": "stdout",
     "output_type": "stream",
     "text": [
      "Метрика:nan_euclidean\n",
      "Дистанции:[[ 0.       23.598957 24.089354 24.190401]]\n",
      "Индексы:[[   43  7985  3881 15501]]\n",
      "Ближайшие соседи узла Q101437: ['Q101437', 'Q30', 'Q1860', 'Q822146'] \n",
      "\n",
      "Метрика:cosine\n",
      "Дистанции:[[0.        0.8120749 0.8137176 0.8152195]]\n",
      "Индексы:[[   43 10478 11998  6796]]\n",
      "Ближайшие соседи узла Q101437: ['Q101437', 'Q40852', 'Q49683', 'Q257165'] \n",
      "Метрика:manhattan\n",
      "Дистанции:[[  0.         380.41296387 382.72796631 386.62045288]]\n",
      "Индексы:[[  43 3881 7985 9854]]\n",
      "Ближайшие соседи узла Q101437: ['Q101437', 'Q1860', 'Q30', 'Q366956'] \n"
     ]
    }
   ],
   "source": [
    "# Выбираем второй случайный узел\n",
    "random_node_index = 43\n",
    "methods = ['nan_euclidean','cosine','manhattan']\n",
    "def nearest_nodes(method):\n",
    "  nn_model = NearestNeighbors(n_neighbors=4, metric=method)\n",
    "  nn_model.fit(embedding_numpy)\n",
    "  distances, indices = nn_model.kneighbors([embedding_numpy[random_node_index]])\n",
    "  print('Метрика:'+method )\n",
    "  print(f'Дистанции:{distances}' )\n",
    "  print(f'Индексы:{indices}' )\n",
    "  # Визуализация ближайших соседей\n",
    "  neighbors_labels = [id_to_lable[i] for i in indices.flatten()]\n",
    "  print(f\"Ближайшие соседи узла {id_to_lable[random_node_index]}: {neighbors_labels} \\n\")\n",
    "\n",
    "for method in methods: nearest_nodes(method)"
   ]
  },
  {
   "cell_type": "markdown",
   "id": "zmULZ6G0iZMN",
   "metadata": {
    "id": "zmULZ6G0iZMN"
   },
   "source": [
    "# Модель HolE, число эпох 100"
   ]
  },
  {
   "cell_type": "code",
   "execution_count": 114,
   "id": "eURINYd2iVSs",
   "metadata": {
    "ExecuteTime": {
     "end_time": "2024-01-26T18:18:28.075407128Z",
     "start_time": "2024-01-26T18:10:41.716622142Z"
    }
   },
   "outputs": [
    {
     "name": "stderr",
     "output_type": "stream",
     "text": [
      "WARNING:pykeen.pipeline.api:No random seed is specified. Setting to 2766573095.\n",
      "INFO:pykeen.pipeline.api:Using device: cuda\n"
     ]
    },
    {
     "data": {
      "text/plain": "Training epochs on cuda:0:   0%|          | 0/100 [00:00<?, ?epoch/s]",
      "application/vnd.jupyter.widget-view+json": {
       "version_major": 2,
       "version_minor": 0,
       "model_id": "3ab57ac2ab3040b9a955524c7539100d"
      }
     },
     "metadata": {},
     "output_type": "display_data"
    },
    {
     "data": {
      "text/plain": "Training batches on cuda:0:   0%|          | 0/725 [00:00<?, ?batch/s]",
      "application/vnd.jupyter.widget-view+json": {
       "version_major": 2,
       "version_minor": 0,
       "model_id": "1c19e618f0874ddcbe0c210b4dc8657c"
      }
     },
     "metadata": {},
     "output_type": "display_data"
    },
    {
     "data": {
      "text/plain": "Training batches on cuda:0:   0%|          | 0/725 [00:00<?, ?batch/s]",
      "application/vnd.jupyter.widget-view+json": {
       "version_major": 2,
       "version_minor": 0,
       "model_id": "6ebe3a1048db479d9b9d0e44071904ef"
      }
     },
     "metadata": {},
     "output_type": "display_data"
    },
    {
     "data": {
      "text/plain": "Training batches on cuda:0:   0%|          | 0/725 [00:00<?, ?batch/s]",
      "application/vnd.jupyter.widget-view+json": {
       "version_major": 2,
       "version_minor": 0,
       "model_id": "29f0606b208a4e3084ef4a5df0548bb2"
      }
     },
     "metadata": {},
     "output_type": "display_data"
    },
    {
     "data": {
      "text/plain": "Training batches on cuda:0:   0%|          | 0/725 [00:00<?, ?batch/s]",
      "application/vnd.jupyter.widget-view+json": {
       "version_major": 2,
       "version_minor": 0,
       "model_id": "fa739507f9a44a0cbba3054e12bdcbcd"
      }
     },
     "metadata": {},
     "output_type": "display_data"
    },
    {
     "data": {
      "text/plain": "Training batches on cuda:0:   0%|          | 0/725 [00:00<?, ?batch/s]",
      "application/vnd.jupyter.widget-view+json": {
       "version_major": 2,
       "version_minor": 0,
       "model_id": "a0c85f3ccc0e45a090cc3609750d9c37"
      }
     },
     "metadata": {},
     "output_type": "display_data"
    },
    {
     "data": {
      "text/plain": "Training batches on cuda:0:   0%|          | 0/725 [00:00<?, ?batch/s]",
      "application/vnd.jupyter.widget-view+json": {
       "version_major": 2,
       "version_minor": 0,
       "model_id": "c44c5cf221b84d79bd1eacd82626778e"
      }
     },
     "metadata": {},
     "output_type": "display_data"
    },
    {
     "data": {
      "text/plain": "Training batches on cuda:0:   0%|          | 0/725 [00:00<?, ?batch/s]",
      "application/vnd.jupyter.widget-view+json": {
       "version_major": 2,
       "version_minor": 0,
       "model_id": "55921e0d4a6c482cb8aea80e95722b6c"
      }
     },
     "metadata": {},
     "output_type": "display_data"
    },
    {
     "data": {
      "text/plain": "Training batches on cuda:0:   0%|          | 0/725 [00:00<?, ?batch/s]",
      "application/vnd.jupyter.widget-view+json": {
       "version_major": 2,
       "version_minor": 0,
       "model_id": "aa31d4564789425d888423f47f0ac99b"
      }
     },
     "metadata": {},
     "output_type": "display_data"
    },
    {
     "data": {
      "text/plain": "Training batches on cuda:0:   0%|          | 0/725 [00:00<?, ?batch/s]",
      "application/vnd.jupyter.widget-view+json": {
       "version_major": 2,
       "version_minor": 0,
       "model_id": "1ff3d3b103414ca5ab85f572b0aa4dec"
      }
     },
     "metadata": {},
     "output_type": "display_data"
    },
    {
     "data": {
      "text/plain": "Training batches on cuda:0:   0%|          | 0/725 [00:00<?, ?batch/s]",
      "application/vnd.jupyter.widget-view+json": {
       "version_major": 2,
       "version_minor": 0,
       "model_id": "5a0fe584795c4d9f83c78a651c4a0459"
      }
     },
     "metadata": {},
     "output_type": "display_data"
    },
    {
     "data": {
      "text/plain": "Training batches on cuda:0:   0%|          | 0/725 [00:00<?, ?batch/s]",
      "application/vnd.jupyter.widget-view+json": {
       "version_major": 2,
       "version_minor": 0,
       "model_id": "1160104cc1864f9da0487641e74f6d92"
      }
     },
     "metadata": {},
     "output_type": "display_data"
    },
    {
     "data": {
      "text/plain": "Training batches on cuda:0:   0%|          | 0/725 [00:00<?, ?batch/s]",
      "application/vnd.jupyter.widget-view+json": {
       "version_major": 2,
       "version_minor": 0,
       "model_id": "05500695349b4361b897f3b997fed168"
      }
     },
     "metadata": {},
     "output_type": "display_data"
    },
    {
     "data": {
      "text/plain": "Training batches on cuda:0:   0%|          | 0/725 [00:00<?, ?batch/s]",
      "application/vnd.jupyter.widget-view+json": {
       "version_major": 2,
       "version_minor": 0,
       "model_id": "b45ae7368e914e68a0943888fb1ebdfa"
      }
     },
     "metadata": {},
     "output_type": "display_data"
    },
    {
     "data": {
      "text/plain": "Training batches on cuda:0:   0%|          | 0/725 [00:00<?, ?batch/s]",
      "application/vnd.jupyter.widget-view+json": {
       "version_major": 2,
       "version_minor": 0,
       "model_id": "75c63833d41d4f9c9024092bd3303caf"
      }
     },
     "metadata": {},
     "output_type": "display_data"
    },
    {
     "data": {
      "text/plain": "Training batches on cuda:0:   0%|          | 0/725 [00:00<?, ?batch/s]",
      "application/vnd.jupyter.widget-view+json": {
       "version_major": 2,
       "version_minor": 0,
       "model_id": "d3d805db008a48a89667a614a4d90379"
      }
     },
     "metadata": {},
     "output_type": "display_data"
    },
    {
     "data": {
      "text/plain": "Training batches on cuda:0:   0%|          | 0/725 [00:00<?, ?batch/s]",
      "application/vnd.jupyter.widget-view+json": {
       "version_major": 2,
       "version_minor": 0,
       "model_id": "c18752764cea4db1a9c67e9641c37179"
      }
     },
     "metadata": {},
     "output_type": "display_data"
    },
    {
     "data": {
      "text/plain": "Training batches on cuda:0:   0%|          | 0/725 [00:00<?, ?batch/s]",
      "application/vnd.jupyter.widget-view+json": {
       "version_major": 2,
       "version_minor": 0,
       "model_id": "aa4ba106d4f84f39bcb0530a76135030"
      }
     },
     "metadata": {},
     "output_type": "display_data"
    },
    {
     "data": {
      "text/plain": "Training batches on cuda:0:   0%|          | 0/725 [00:00<?, ?batch/s]",
      "application/vnd.jupyter.widget-view+json": {
       "version_major": 2,
       "version_minor": 0,
       "model_id": "6288e0ff3ad046b29553e2fbe14ed388"
      }
     },
     "metadata": {},
     "output_type": "display_data"
    },
    {
     "data": {
      "text/plain": "Training batches on cuda:0:   0%|          | 0/725 [00:00<?, ?batch/s]",
      "application/vnd.jupyter.widget-view+json": {
       "version_major": 2,
       "version_minor": 0,
       "model_id": "f0826d897b9c43159e5649220ce1179f"
      }
     },
     "metadata": {},
     "output_type": "display_data"
    },
    {
     "data": {
      "text/plain": "Training batches on cuda:0:   0%|          | 0/725 [00:00<?, ?batch/s]",
      "application/vnd.jupyter.widget-view+json": {
       "version_major": 2,
       "version_minor": 0,
       "model_id": "364004b32a6d40a5bf008b68cdbe18b6"
      }
     },
     "metadata": {},
     "output_type": "display_data"
    },
    {
     "data": {
      "text/plain": "Training batches on cuda:0:   0%|          | 0/725 [00:00<?, ?batch/s]",
      "application/vnd.jupyter.widget-view+json": {
       "version_major": 2,
       "version_minor": 0,
       "model_id": "657a1e7527ee4863a312e0acd04d0ec2"
      }
     },
     "metadata": {},
     "output_type": "display_data"
    },
    {
     "data": {
      "text/plain": "Training batches on cuda:0:   0%|          | 0/725 [00:00<?, ?batch/s]",
      "application/vnd.jupyter.widget-view+json": {
       "version_major": 2,
       "version_minor": 0,
       "model_id": "e5362502e9e0458d9761a8091854c011"
      }
     },
     "metadata": {},
     "output_type": "display_data"
    },
    {
     "data": {
      "text/plain": "Training batches on cuda:0:   0%|          | 0/725 [00:00<?, ?batch/s]",
      "application/vnd.jupyter.widget-view+json": {
       "version_major": 2,
       "version_minor": 0,
       "model_id": "8d0ab7fe60b743c395f19ec7d5be5e3b"
      }
     },
     "metadata": {},
     "output_type": "display_data"
    },
    {
     "data": {
      "text/plain": "Training batches on cuda:0:   0%|          | 0/725 [00:00<?, ?batch/s]",
      "application/vnd.jupyter.widget-view+json": {
       "version_major": 2,
       "version_minor": 0,
       "model_id": "1acc3f821fa84e0497e58c07b034d5f0"
      }
     },
     "metadata": {},
     "output_type": "display_data"
    },
    {
     "data": {
      "text/plain": "Training batches on cuda:0:   0%|          | 0/725 [00:00<?, ?batch/s]",
      "application/vnd.jupyter.widget-view+json": {
       "version_major": 2,
       "version_minor": 0,
       "model_id": "447225f792644418ba3a86e0d3dd1692"
      }
     },
     "metadata": {},
     "output_type": "display_data"
    },
    {
     "data": {
      "text/plain": "Training batches on cuda:0:   0%|          | 0/725 [00:00<?, ?batch/s]",
      "application/vnd.jupyter.widget-view+json": {
       "version_major": 2,
       "version_minor": 0,
       "model_id": "00e0592603534a76858d2da548db8d2a"
      }
     },
     "metadata": {},
     "output_type": "display_data"
    },
    {
     "data": {
      "text/plain": "Training batches on cuda:0:   0%|          | 0/725 [00:00<?, ?batch/s]",
      "application/vnd.jupyter.widget-view+json": {
       "version_major": 2,
       "version_minor": 0,
       "model_id": "1e949399403542939aa4703e28ab99e8"
      }
     },
     "metadata": {},
     "output_type": "display_data"
    },
    {
     "data": {
      "text/plain": "Training batches on cuda:0:   0%|          | 0/725 [00:00<?, ?batch/s]",
      "application/vnd.jupyter.widget-view+json": {
       "version_major": 2,
       "version_minor": 0,
       "model_id": "58c74712b8534d2f99b872227f5715b5"
      }
     },
     "metadata": {},
     "output_type": "display_data"
    },
    {
     "data": {
      "text/plain": "Training batches on cuda:0:   0%|          | 0/725 [00:00<?, ?batch/s]",
      "application/vnd.jupyter.widget-view+json": {
       "version_major": 2,
       "version_minor": 0,
       "model_id": "f724621c7a4947fcb45f5fc1950fd40e"
      }
     },
     "metadata": {},
     "output_type": "display_data"
    },
    {
     "data": {
      "text/plain": "Training batches on cuda:0:   0%|          | 0/725 [00:00<?, ?batch/s]",
      "application/vnd.jupyter.widget-view+json": {
       "version_major": 2,
       "version_minor": 0,
       "model_id": "45ddc6bba3cc41a8ac58b999c582a975"
      }
     },
     "metadata": {},
     "output_type": "display_data"
    },
    {
     "data": {
      "text/plain": "Training batches on cuda:0:   0%|          | 0/725 [00:00<?, ?batch/s]",
      "application/vnd.jupyter.widget-view+json": {
       "version_major": 2,
       "version_minor": 0,
       "model_id": "8bfc4101fb034d13b5c01c2636b8dbe7"
      }
     },
     "metadata": {},
     "output_type": "display_data"
    },
    {
     "data": {
      "text/plain": "Training batches on cuda:0:   0%|          | 0/725 [00:00<?, ?batch/s]",
      "application/vnd.jupyter.widget-view+json": {
       "version_major": 2,
       "version_minor": 0,
       "model_id": "d8894da0e7164ae6bb5690eccf161c21"
      }
     },
     "metadata": {},
     "output_type": "display_data"
    },
    {
     "data": {
      "text/plain": "Training batches on cuda:0:   0%|          | 0/725 [00:00<?, ?batch/s]",
      "application/vnd.jupyter.widget-view+json": {
       "version_major": 2,
       "version_minor": 0,
       "model_id": "2aa11eab1ba14b33b60eca6f67516ee6"
      }
     },
     "metadata": {},
     "output_type": "display_data"
    },
    {
     "data": {
      "text/plain": "Training batches on cuda:0:   0%|          | 0/725 [00:00<?, ?batch/s]",
      "application/vnd.jupyter.widget-view+json": {
       "version_major": 2,
       "version_minor": 0,
       "model_id": "974ed53542db4718b112cad5e8a4c201"
      }
     },
     "metadata": {},
     "output_type": "display_data"
    },
    {
     "data": {
      "text/plain": "Training batches on cuda:0:   0%|          | 0/725 [00:00<?, ?batch/s]",
      "application/vnd.jupyter.widget-view+json": {
       "version_major": 2,
       "version_minor": 0,
       "model_id": "095acea142b545999d9ac224795eaab7"
      }
     },
     "metadata": {},
     "output_type": "display_data"
    },
    {
     "data": {
      "text/plain": "Training batches on cuda:0:   0%|          | 0/725 [00:00<?, ?batch/s]",
      "application/vnd.jupyter.widget-view+json": {
       "version_major": 2,
       "version_minor": 0,
       "model_id": "82ab7f1364194e3ba0c5793490b8d12a"
      }
     },
     "metadata": {},
     "output_type": "display_data"
    },
    {
     "data": {
      "text/plain": "Training batches on cuda:0:   0%|          | 0/725 [00:00<?, ?batch/s]",
      "application/vnd.jupyter.widget-view+json": {
       "version_major": 2,
       "version_minor": 0,
       "model_id": "afc14a4952294d7794c2126cd43d1b36"
      }
     },
     "metadata": {},
     "output_type": "display_data"
    },
    {
     "data": {
      "text/plain": "Training batches on cuda:0:   0%|          | 0/725 [00:00<?, ?batch/s]",
      "application/vnd.jupyter.widget-view+json": {
       "version_major": 2,
       "version_minor": 0,
       "model_id": "edf09a0d5d134d568716098180a4fee5"
      }
     },
     "metadata": {},
     "output_type": "display_data"
    },
    {
     "data": {
      "text/plain": "Training batches on cuda:0:   0%|          | 0/725 [00:00<?, ?batch/s]",
      "application/vnd.jupyter.widget-view+json": {
       "version_major": 2,
       "version_minor": 0,
       "model_id": "f82efeaefb9741f5a4691641ffb3474e"
      }
     },
     "metadata": {},
     "output_type": "display_data"
    },
    {
     "data": {
      "text/plain": "Training batches on cuda:0:   0%|          | 0/725 [00:00<?, ?batch/s]",
      "application/vnd.jupyter.widget-view+json": {
       "version_major": 2,
       "version_minor": 0,
       "model_id": "7d91ca1457ac40d18aa9c4b566bb0e0c"
      }
     },
     "metadata": {},
     "output_type": "display_data"
    },
    {
     "data": {
      "text/plain": "Training batches on cuda:0:   0%|          | 0/725 [00:00<?, ?batch/s]",
      "application/vnd.jupyter.widget-view+json": {
       "version_major": 2,
       "version_minor": 0,
       "model_id": "2f4fe4251bfd41d0a2ab708865a3b1e3"
      }
     },
     "metadata": {},
     "output_type": "display_data"
    },
    {
     "data": {
      "text/plain": "Training batches on cuda:0:   0%|          | 0/725 [00:00<?, ?batch/s]",
      "application/vnd.jupyter.widget-view+json": {
       "version_major": 2,
       "version_minor": 0,
       "model_id": "f4cbeec40f8b4c07afae459d7a1586c0"
      }
     },
     "metadata": {},
     "output_type": "display_data"
    },
    {
     "data": {
      "text/plain": "Training batches on cuda:0:   0%|          | 0/725 [00:00<?, ?batch/s]",
      "application/vnd.jupyter.widget-view+json": {
       "version_major": 2,
       "version_minor": 0,
       "model_id": "794b55a28b48457aa288bddb46d31a9b"
      }
     },
     "metadata": {},
     "output_type": "display_data"
    },
    {
     "data": {
      "text/plain": "Training batches on cuda:0:   0%|          | 0/725 [00:00<?, ?batch/s]",
      "application/vnd.jupyter.widget-view+json": {
       "version_major": 2,
       "version_minor": 0,
       "model_id": "20100d33ced74dc3bd8174ce686fd6a8"
      }
     },
     "metadata": {},
     "output_type": "display_data"
    },
    {
     "data": {
      "text/plain": "Training batches on cuda:0:   0%|          | 0/725 [00:00<?, ?batch/s]",
      "application/vnd.jupyter.widget-view+json": {
       "version_major": 2,
       "version_minor": 0,
       "model_id": "2db9a3bc55be4a889fb43e13e6a932b5"
      }
     },
     "metadata": {},
     "output_type": "display_data"
    },
    {
     "data": {
      "text/plain": "Training batches on cuda:0:   0%|          | 0/725 [00:00<?, ?batch/s]",
      "application/vnd.jupyter.widget-view+json": {
       "version_major": 2,
       "version_minor": 0,
       "model_id": "1e898ebc6a60438694e1ccc7afbb6fe6"
      }
     },
     "metadata": {},
     "output_type": "display_data"
    },
    {
     "data": {
      "text/plain": "Training batches on cuda:0:   0%|          | 0/725 [00:00<?, ?batch/s]",
      "application/vnd.jupyter.widget-view+json": {
       "version_major": 2,
       "version_minor": 0,
       "model_id": "daf74b5c3f1649cba1b5243cae73dfa7"
      }
     },
     "metadata": {},
     "output_type": "display_data"
    },
    {
     "data": {
      "text/plain": "Training batches on cuda:0:   0%|          | 0/725 [00:00<?, ?batch/s]",
      "application/vnd.jupyter.widget-view+json": {
       "version_major": 2,
       "version_minor": 0,
       "model_id": "8c02ca76190a4f979f7e8f64eb51ff36"
      }
     },
     "metadata": {},
     "output_type": "display_data"
    },
    {
     "data": {
      "text/plain": "Training batches on cuda:0:   0%|          | 0/725 [00:00<?, ?batch/s]",
      "application/vnd.jupyter.widget-view+json": {
       "version_major": 2,
       "version_minor": 0,
       "model_id": "2cb2761d0cb14dd1b4e1746d62a74236"
      }
     },
     "metadata": {},
     "output_type": "display_data"
    },
    {
     "data": {
      "text/plain": "Training batches on cuda:0:   0%|          | 0/725 [00:00<?, ?batch/s]",
      "application/vnd.jupyter.widget-view+json": {
       "version_major": 2,
       "version_minor": 0,
       "model_id": "707796ec83ce46f98e8499b791647f56"
      }
     },
     "metadata": {},
     "output_type": "display_data"
    },
    {
     "data": {
      "text/plain": "Training batches on cuda:0:   0%|          | 0/725 [00:00<?, ?batch/s]",
      "application/vnd.jupyter.widget-view+json": {
       "version_major": 2,
       "version_minor": 0,
       "model_id": "c8c0363654bb4a83b77829730129e110"
      }
     },
     "metadata": {},
     "output_type": "display_data"
    },
    {
     "data": {
      "text/plain": "Training batches on cuda:0:   0%|          | 0/725 [00:00<?, ?batch/s]",
      "application/vnd.jupyter.widget-view+json": {
       "version_major": 2,
       "version_minor": 0,
       "model_id": "ff087af02c364f7a886956744bd52836"
      }
     },
     "metadata": {},
     "output_type": "display_data"
    },
    {
     "data": {
      "text/plain": "Training batches on cuda:0:   0%|          | 0/725 [00:00<?, ?batch/s]",
      "application/vnd.jupyter.widget-view+json": {
       "version_major": 2,
       "version_minor": 0,
       "model_id": "140cde3430644635bf435f2e5de39bae"
      }
     },
     "metadata": {},
     "output_type": "display_data"
    },
    {
     "data": {
      "text/plain": "Training batches on cuda:0:   0%|          | 0/725 [00:00<?, ?batch/s]",
      "application/vnd.jupyter.widget-view+json": {
       "version_major": 2,
       "version_minor": 0,
       "model_id": "c32784b6c0074c2b9c2fc712717c95b5"
      }
     },
     "metadata": {},
     "output_type": "display_data"
    },
    {
     "data": {
      "text/plain": "Training batches on cuda:0:   0%|          | 0/725 [00:00<?, ?batch/s]",
      "application/vnd.jupyter.widget-view+json": {
       "version_major": 2,
       "version_minor": 0,
       "model_id": "1c512983954c431daf3c072e66f996da"
      }
     },
     "metadata": {},
     "output_type": "display_data"
    },
    {
     "data": {
      "text/plain": "Training batches on cuda:0:   0%|          | 0/725 [00:00<?, ?batch/s]",
      "application/vnd.jupyter.widget-view+json": {
       "version_major": 2,
       "version_minor": 0,
       "model_id": "82f96444e81c4759a9a0581c2009a0e7"
      }
     },
     "metadata": {},
     "output_type": "display_data"
    },
    {
     "data": {
      "text/plain": "Training batches on cuda:0:   0%|          | 0/725 [00:00<?, ?batch/s]",
      "application/vnd.jupyter.widget-view+json": {
       "version_major": 2,
       "version_minor": 0,
       "model_id": "2edddf5b0a0342498572f495531cbd64"
      }
     },
     "metadata": {},
     "output_type": "display_data"
    },
    {
     "data": {
      "text/plain": "Training batches on cuda:0:   0%|          | 0/725 [00:00<?, ?batch/s]",
      "application/vnd.jupyter.widget-view+json": {
       "version_major": 2,
       "version_minor": 0,
       "model_id": "c2ef1cefacd74f9199d422ea93104aac"
      }
     },
     "metadata": {},
     "output_type": "display_data"
    },
    {
     "data": {
      "text/plain": "Training batches on cuda:0:   0%|          | 0/725 [00:00<?, ?batch/s]",
      "application/vnd.jupyter.widget-view+json": {
       "version_major": 2,
       "version_minor": 0,
       "model_id": "178806f67187487ebb50726ff0db59b3"
      }
     },
     "metadata": {},
     "output_type": "display_data"
    },
    {
     "data": {
      "text/plain": "Training batches on cuda:0:   0%|          | 0/725 [00:00<?, ?batch/s]",
      "application/vnd.jupyter.widget-view+json": {
       "version_major": 2,
       "version_minor": 0,
       "model_id": "19b3eca8418e47e68bf344cbb853ec61"
      }
     },
     "metadata": {},
     "output_type": "display_data"
    },
    {
     "data": {
      "text/plain": "Training batches on cuda:0:   0%|          | 0/725 [00:00<?, ?batch/s]",
      "application/vnd.jupyter.widget-view+json": {
       "version_major": 2,
       "version_minor": 0,
       "model_id": "28ee36caa1064cc3a2aca825d96b623c"
      }
     },
     "metadata": {},
     "output_type": "display_data"
    },
    {
     "data": {
      "text/plain": "Training batches on cuda:0:   0%|          | 0/725 [00:00<?, ?batch/s]",
      "application/vnd.jupyter.widget-view+json": {
       "version_major": 2,
       "version_minor": 0,
       "model_id": "9114362fdbbe4eed90255689f15c3f21"
      }
     },
     "metadata": {},
     "output_type": "display_data"
    },
    {
     "data": {
      "text/plain": "Training batches on cuda:0:   0%|          | 0/725 [00:00<?, ?batch/s]",
      "application/vnd.jupyter.widget-view+json": {
       "version_major": 2,
       "version_minor": 0,
       "model_id": "41b532fb953846cdb8bd9840f7b5e282"
      }
     },
     "metadata": {},
     "output_type": "display_data"
    },
    {
     "data": {
      "text/plain": "Training batches on cuda:0:   0%|          | 0/725 [00:00<?, ?batch/s]",
      "application/vnd.jupyter.widget-view+json": {
       "version_major": 2,
       "version_minor": 0,
       "model_id": "486c49bf787a4d97bef02d5ce9106ac1"
      }
     },
     "metadata": {},
     "output_type": "display_data"
    },
    {
     "data": {
      "text/plain": "Training batches on cuda:0:   0%|          | 0/725 [00:00<?, ?batch/s]",
      "application/vnd.jupyter.widget-view+json": {
       "version_major": 2,
       "version_minor": 0,
       "model_id": "8c01bf5959b14ad994da541e6d8a425e"
      }
     },
     "metadata": {},
     "output_type": "display_data"
    },
    {
     "data": {
      "text/plain": "Training batches on cuda:0:   0%|          | 0/725 [00:00<?, ?batch/s]",
      "application/vnd.jupyter.widget-view+json": {
       "version_major": 2,
       "version_minor": 0,
       "model_id": "f82b3cf4d1c345df9164e0a955b377a1"
      }
     },
     "metadata": {},
     "output_type": "display_data"
    },
    {
     "data": {
      "text/plain": "Training batches on cuda:0:   0%|          | 0/725 [00:00<?, ?batch/s]",
      "application/vnd.jupyter.widget-view+json": {
       "version_major": 2,
       "version_minor": 0,
       "model_id": "7f006b022bc941a587530793fa7b0c75"
      }
     },
     "metadata": {},
     "output_type": "display_data"
    },
    {
     "data": {
      "text/plain": "Training batches on cuda:0:   0%|          | 0/725 [00:00<?, ?batch/s]",
      "application/vnd.jupyter.widget-view+json": {
       "version_major": 2,
       "version_minor": 0,
       "model_id": "0e9f8d024430467dae501cd97eb07dbc"
      }
     },
     "metadata": {},
     "output_type": "display_data"
    },
    {
     "data": {
      "text/plain": "Training batches on cuda:0:   0%|          | 0/725 [00:00<?, ?batch/s]",
      "application/vnd.jupyter.widget-view+json": {
       "version_major": 2,
       "version_minor": 0,
       "model_id": "ec94010ccd6a401a96c6bb5d58c894c5"
      }
     },
     "metadata": {},
     "output_type": "display_data"
    },
    {
     "data": {
      "text/plain": "Training batches on cuda:0:   0%|          | 0/725 [00:00<?, ?batch/s]",
      "application/vnd.jupyter.widget-view+json": {
       "version_major": 2,
       "version_minor": 0,
       "model_id": "26a06c01411f46eb9766babf2915728f"
      }
     },
     "metadata": {},
     "output_type": "display_data"
    },
    {
     "data": {
      "text/plain": "Training batches on cuda:0:   0%|          | 0/725 [00:00<?, ?batch/s]",
      "application/vnd.jupyter.widget-view+json": {
       "version_major": 2,
       "version_minor": 0,
       "model_id": "efeb1279c2f249bca1eb33ed037d7e6d"
      }
     },
     "metadata": {},
     "output_type": "display_data"
    },
    {
     "data": {
      "text/plain": "Training batches on cuda:0:   0%|          | 0/725 [00:00<?, ?batch/s]",
      "application/vnd.jupyter.widget-view+json": {
       "version_major": 2,
       "version_minor": 0,
       "model_id": "13622ab1ef714652b46f422f6c52a32d"
      }
     },
     "metadata": {},
     "output_type": "display_data"
    },
    {
     "data": {
      "text/plain": "Training batches on cuda:0:   0%|          | 0/725 [00:00<?, ?batch/s]",
      "application/vnd.jupyter.widget-view+json": {
       "version_major": 2,
       "version_minor": 0,
       "model_id": "cc80f6ae271b44a488bae95f9d722db6"
      }
     },
     "metadata": {},
     "output_type": "display_data"
    },
    {
     "data": {
      "text/plain": "Training batches on cuda:0:   0%|          | 0/725 [00:00<?, ?batch/s]",
      "application/vnd.jupyter.widget-view+json": {
       "version_major": 2,
       "version_minor": 0,
       "model_id": "1015708f1c0044fc96f358e4bc84cc26"
      }
     },
     "metadata": {},
     "output_type": "display_data"
    },
    {
     "data": {
      "text/plain": "Training batches on cuda:0:   0%|          | 0/725 [00:00<?, ?batch/s]",
      "application/vnd.jupyter.widget-view+json": {
       "version_major": 2,
       "version_minor": 0,
       "model_id": "c97f9f44c486460ea59dbb7cea105dbb"
      }
     },
     "metadata": {},
     "output_type": "display_data"
    },
    {
     "data": {
      "text/plain": "Training batches on cuda:0:   0%|          | 0/725 [00:00<?, ?batch/s]",
      "application/vnd.jupyter.widget-view+json": {
       "version_major": 2,
       "version_minor": 0,
       "model_id": "12cc417830bd49628e89495075ca890c"
      }
     },
     "metadata": {},
     "output_type": "display_data"
    },
    {
     "data": {
      "text/plain": "Training batches on cuda:0:   0%|          | 0/725 [00:00<?, ?batch/s]",
      "application/vnd.jupyter.widget-view+json": {
       "version_major": 2,
       "version_minor": 0,
       "model_id": "108df5078e1a4473856adba6af10f152"
      }
     },
     "metadata": {},
     "output_type": "display_data"
    },
    {
     "data": {
      "text/plain": "Training batches on cuda:0:   0%|          | 0/725 [00:00<?, ?batch/s]",
      "application/vnd.jupyter.widget-view+json": {
       "version_major": 2,
       "version_minor": 0,
       "model_id": "8ccba700df104615928c7d07baac9f94"
      }
     },
     "metadata": {},
     "output_type": "display_data"
    },
    {
     "data": {
      "text/plain": "Training batches on cuda:0:   0%|          | 0/725 [00:00<?, ?batch/s]",
      "application/vnd.jupyter.widget-view+json": {
       "version_major": 2,
       "version_minor": 0,
       "model_id": "c944a8f8cab2416f8386f9850340f5f2"
      }
     },
     "metadata": {},
     "output_type": "display_data"
    },
    {
     "data": {
      "text/plain": "Training batches on cuda:0:   0%|          | 0/725 [00:00<?, ?batch/s]",
      "application/vnd.jupyter.widget-view+json": {
       "version_major": 2,
       "version_minor": 0,
       "model_id": "98f2d411db73438eb3448fdd81328b67"
      }
     },
     "metadata": {},
     "output_type": "display_data"
    },
    {
     "data": {
      "text/plain": "Training batches on cuda:0:   0%|          | 0/725 [00:00<?, ?batch/s]",
      "application/vnd.jupyter.widget-view+json": {
       "version_major": 2,
       "version_minor": 0,
       "model_id": "1833c16640dd440f835d99bb09a03082"
      }
     },
     "metadata": {},
     "output_type": "display_data"
    },
    {
     "data": {
      "text/plain": "Training batches on cuda:0:   0%|          | 0/725 [00:00<?, ?batch/s]",
      "application/vnd.jupyter.widget-view+json": {
       "version_major": 2,
       "version_minor": 0,
       "model_id": "7f02b5da38fa4c798a00b63156b84b63"
      }
     },
     "metadata": {},
     "output_type": "display_data"
    },
    {
     "data": {
      "text/plain": "Training batches on cuda:0:   0%|          | 0/725 [00:00<?, ?batch/s]",
      "application/vnd.jupyter.widget-view+json": {
       "version_major": 2,
       "version_minor": 0,
       "model_id": "19dd60f76ce644fa807a407fa51b2ad2"
      }
     },
     "metadata": {},
     "output_type": "display_data"
    },
    {
     "data": {
      "text/plain": "Training batches on cuda:0:   0%|          | 0/725 [00:00<?, ?batch/s]",
      "application/vnd.jupyter.widget-view+json": {
       "version_major": 2,
       "version_minor": 0,
       "model_id": "b285e5f76381491ca066fc5b1d1d12ba"
      }
     },
     "metadata": {},
     "output_type": "display_data"
    },
    {
     "data": {
      "text/plain": "Training batches on cuda:0:   0%|          | 0/725 [00:00<?, ?batch/s]",
      "application/vnd.jupyter.widget-view+json": {
       "version_major": 2,
       "version_minor": 0,
       "model_id": "390c41698a6a4f3f80657f8558a5ee32"
      }
     },
     "metadata": {},
     "output_type": "display_data"
    },
    {
     "data": {
      "text/plain": "Training batches on cuda:0:   0%|          | 0/725 [00:00<?, ?batch/s]",
      "application/vnd.jupyter.widget-view+json": {
       "version_major": 2,
       "version_minor": 0,
       "model_id": "f6b7df13deea415981e2a7835d1f3f5d"
      }
     },
     "metadata": {},
     "output_type": "display_data"
    },
    {
     "data": {
      "text/plain": "Training batches on cuda:0:   0%|          | 0/725 [00:00<?, ?batch/s]",
      "application/vnd.jupyter.widget-view+json": {
       "version_major": 2,
       "version_minor": 0,
       "model_id": "3aada4b5b5324d558a2b0e2bd1cb7bc5"
      }
     },
     "metadata": {},
     "output_type": "display_data"
    },
    {
     "data": {
      "text/plain": "Training batches on cuda:0:   0%|          | 0/725 [00:00<?, ?batch/s]",
      "application/vnd.jupyter.widget-view+json": {
       "version_major": 2,
       "version_minor": 0,
       "model_id": "af2c1fe065e147b0b63158b7ca64f779"
      }
     },
     "metadata": {},
     "output_type": "display_data"
    },
    {
     "data": {
      "text/plain": "Training batches on cuda:0:   0%|          | 0/725 [00:00<?, ?batch/s]",
      "application/vnd.jupyter.widget-view+json": {
       "version_major": 2,
       "version_minor": 0,
       "model_id": "e3e3a47c2b084873944feb0d9af9d0eb"
      }
     },
     "metadata": {},
     "output_type": "display_data"
    },
    {
     "data": {
      "text/plain": "Training batches on cuda:0:   0%|          | 0/725 [00:00<?, ?batch/s]",
      "application/vnd.jupyter.widget-view+json": {
       "version_major": 2,
       "version_minor": 0,
       "model_id": "c0334e87ebd14453bd93f817425dadfc"
      }
     },
     "metadata": {},
     "output_type": "display_data"
    },
    {
     "data": {
      "text/plain": "Training batches on cuda:0:   0%|          | 0/725 [00:00<?, ?batch/s]",
      "application/vnd.jupyter.widget-view+json": {
       "version_major": 2,
       "version_minor": 0,
       "model_id": "33ff070af92341488bb2e2f289197595"
      }
     },
     "metadata": {},
     "output_type": "display_data"
    },
    {
     "data": {
      "text/plain": "Training batches on cuda:0:   0%|          | 0/725 [00:00<?, ?batch/s]",
      "application/vnd.jupyter.widget-view+json": {
       "version_major": 2,
       "version_minor": 0,
       "model_id": "3bbcacfaa1474084abbe784e6b77786c"
      }
     },
     "metadata": {},
     "output_type": "display_data"
    },
    {
     "data": {
      "text/plain": "Training batches on cuda:0:   0%|          | 0/725 [00:00<?, ?batch/s]",
      "application/vnd.jupyter.widget-view+json": {
       "version_major": 2,
       "version_minor": 0,
       "model_id": "da47fe2db42d4a789d071817a78bba21"
      }
     },
     "metadata": {},
     "output_type": "display_data"
    },
    {
     "data": {
      "text/plain": "Training batches on cuda:0:   0%|          | 0/725 [00:00<?, ?batch/s]",
      "application/vnd.jupyter.widget-view+json": {
       "version_major": 2,
       "version_minor": 0,
       "model_id": "128e65f8a9bd46bc87bbd719d35c3f8f"
      }
     },
     "metadata": {},
     "output_type": "display_data"
    },
    {
     "data": {
      "text/plain": "Training batches on cuda:0:   0%|          | 0/725 [00:00<?, ?batch/s]",
      "application/vnd.jupyter.widget-view+json": {
       "version_major": 2,
       "version_minor": 0,
       "model_id": "47d0a24d626b431cade0a48224be8831"
      }
     },
     "metadata": {},
     "output_type": "display_data"
    },
    {
     "data": {
      "text/plain": "Training batches on cuda:0:   0%|          | 0/725 [00:00<?, ?batch/s]",
      "application/vnd.jupyter.widget-view+json": {
       "version_major": 2,
       "version_minor": 0,
       "model_id": "3dac4ac27292489aa3a3ba68a048f9f2"
      }
     },
     "metadata": {},
     "output_type": "display_data"
    },
    {
     "data": {
      "text/plain": "Training batches on cuda:0:   0%|          | 0/725 [00:00<?, ?batch/s]",
      "application/vnd.jupyter.widget-view+json": {
       "version_major": 2,
       "version_minor": 0,
       "model_id": "8c91d5e6ca73487fb08459ae18657f0d"
      }
     },
     "metadata": {},
     "output_type": "display_data"
    },
    {
     "data": {
      "text/plain": "Training batches on cuda:0:   0%|          | 0/725 [00:00<?, ?batch/s]",
      "application/vnd.jupyter.widget-view+json": {
       "version_major": 2,
       "version_minor": 0,
       "model_id": "bc7761ad79974cc49d35d04855c60531"
      }
     },
     "metadata": {},
     "output_type": "display_data"
    },
    {
     "data": {
      "text/plain": "Training batches on cuda:0:   0%|          | 0/725 [00:00<?, ?batch/s]",
      "application/vnd.jupyter.widget-view+json": {
       "version_major": 2,
       "version_minor": 0,
       "model_id": "b96513713d5a412da36c8f7440a23649"
      }
     },
     "metadata": {},
     "output_type": "display_data"
    },
    {
     "data": {
      "text/plain": "Training batches on cuda:0:   0%|          | 0/725 [00:00<?, ?batch/s]",
      "application/vnd.jupyter.widget-view+json": {
       "version_major": 2,
       "version_minor": 0,
       "model_id": "f26ed7bb5118496495b05310306067ec"
      }
     },
     "metadata": {},
     "output_type": "display_data"
    },
    {
     "name": "stderr",
     "output_type": "stream",
     "text": [
      "INFO:pykeen.evaluation.evaluator:Starting batch_size search for evaluation now...\n",
      "INFO:pykeen.evaluation.evaluator:Concluded batch_size search with batch_size=2.\n"
     ]
    },
    {
     "data": {
      "text/plain": "Evaluating on cuda:0:   0%|          | 0.00/10.3k [00:00<?, ?triple/s]",
      "application/vnd.jupyter.widget-view+json": {
       "version_major": 2,
       "version_minor": 0,
       "model_id": "46c5b5d7529648deab7d7dbb5f4c2126"
      }
     },
     "metadata": {},
     "output_type": "display_data"
    },
    {
     "name": "stderr",
     "output_type": "stream",
     "text": [
      "INFO:pykeen.evaluation.evaluator:Evaluation took 39.29s seconds\n"
     ]
    }
   ],
   "source": [
    "pipeline_results = pipeline(\n",
    "    model=\"HolE\",\n",
    "    dataset=dbpedia_dataset,\n",
    "    training_kwargs=dict(num_epochs=100),\n",
    "    device=device\n",
    ")"
   ]
  },
  {
   "cell_type": "code",
   "execution_count": 115,
   "id": "rUpflMnyif9I",
   "metadata": {
    "ExecuteTime": {
     "end_time": "2024-01-26T18:18:28.285228782Z",
     "start_time": "2024-01-26T18:18:28.114691948Z"
    }
   },
   "outputs": [
    {
     "data": {
      "text/plain": "<Axes: title={'center': 'Losses Plot'}, xlabel='Epoch', ylabel='marginranking Loss'>"
     },
     "execution_count": 115,
     "metadata": {},
     "output_type": "execute_result"
    },
    {
     "data": {
      "text/plain": "<Figure size 640x480 with 1 Axes>",
      "image/png": "[encoded data removed]"
     },
     "metadata": {},
     "output_type": "display_data"
    }
   ],
   "source": [
    "pipeline_results.plot_losses()"
   ]
  },
  {
   "cell_type": "code",
   "execution_count": 116,
   "id": "u0X-EhZkik8G",
   "metadata": {
    "ExecuteTime": {
     "end_time": "2024-01-26T18:19:04.742521877Z",
     "start_time": "2024-01-26T18:18:28.275039972Z"
    }
   },
   "outputs": [
    {
     "name": "stderr",
     "output_type": "stream",
     "text": [
      "INFO:pykeen.evaluation.evaluator:Starting batch_size search for evaluation now...\n",
      "INFO:pykeen.evaluation.evaluator:Concluded batch_size search with batch_size=4.\n"
     ]
    },
    {
     "data": {
      "text/plain": "Evaluating on cuda:0:   0%|          | 0.00/10.3k [00:00<?, ?triple/s]",
      "application/vnd.jupyter.widget-view+json": {
       "version_major": 2,
       "version_minor": 0,
       "model_id": "aeaaf7f63af34fcabaa6154f1995836a"
      }
     },
     "metadata": {},
     "output_type": "display_data"
    },
    {
     "name": "stderr",
     "output_type": "stream",
     "text": [
      "INFO:pykeen.evaluation.evaluator:Evaluation took 28.78s seconds\n"
     ]
    },
    {
     "name": "stdout",
     "output_type": "stream",
     "text": [
      "Hits@1: 0.06386383473959849\n",
      "Hits@3: 0.11735040248278537\n",
      "Hits@5: 0.1508098147609349\n",
      "Hits@10: 0.2007079817670449\n",
      "Mean Reciprocal Rank: 0.11000106483697891\n"
     ]
    }
   ],
   "source": [
    "# Создаем evaluator объект\n",
    "evaluator = RankBasedEvaluator()\n",
    "\n",
    "model_v3 = pipeline_results.model\n",
    "\n",
    "# Оценить работу модели\n",
    "metrics = evaluator.evaluate(model_v3, dbpedia_dataset.testing.mapped_triples,\n",
    "                             additional_filter_triples=[dbpedia_dataset.training.mapped_triples,\n",
    "                                                        dbpedia_dataset.validation.mapped_triples])\n",
    "\n",
    "# Print the metrics\n",
    "print(f\"Hits@1: {metrics.get_metric('hits@1')}\")\n",
    "print(f\"Hits@3: {metrics.get_metric('hits@3')}\")\n",
    "print(f\"Hits@5: {metrics.get_metric('hits@5')}\")\n",
    "print(f\"Hits@10: {metrics.get_metric('hits@10')}\")\n",
    "print(f\"Mean Reciprocal Rank: {metrics.get_metric('mean_reciprocal_rank')}\")"
   ]
  },
  {
   "cell_type": "code",
   "execution_count": 117,
   "id": "iq-L9Pyeio8b",
   "metadata": {
    "ExecuteTime": {
     "end_time": "2024-01-26T18:19:04.743569887Z",
     "start_time": "2024-01-26T18:19:03.662834466Z"
    }
   },
   "outputs": [],
   "source": [
    "node_embeddings = model_v3.entity_representations\n",
    "\n",
    "embedding_matrix = node_embeddings[0]._embeddings.weight.data\n",
    "\n",
    "# Конвертируем матрицу весов в NumPy array\n",
    "embedding_numpy = embedding_matrix.cpu().numpy()"
   ]
  },
  {
   "cell_type": "code",
   "execution_count": 118,
   "id": "EhWaFqy5ivB8",
   "metadata": {
    "ExecuteTime": {
     "end_time": "2024-01-26T18:19:04.765129618Z",
     "start_time": "2024-01-26T18:19:03.663086495Z"
    }
   },
   "outputs": [
    {
     "data": {
      "text/plain": "<Figure size 1000x800 with 1 Axes>",
      "image/png": "[encoded data removed]"
     },
     "metadata": {},
     "output_type": "display_data"
    }
   ],
   "source": [
    "#Созраняем названия сущностей в отдельной переменной\n",
    "id_to_lable = list(dbpedia_dataset.testing.entity_id_to_label.values())\n",
    "\n",
    "#Количество точек которые необходимо отобразить на графике\n",
    "number = 25\n",
    "\n",
    "visualize_embeddings(embedding_numpy[:number], id_to_lable[:number])"
   ]
  },
  {
   "cell_type": "code",
   "execution_count": 119,
   "id": "Qy1TYmNaizr0",
   "metadata": {
    "ExecuteTime": {
     "end_time": "2024-01-26T18:19:04.776524577Z",
     "start_time": "2024-01-26T18:19:03.797896764Z"
    }
   },
   "outputs": [
    {
     "name": "stdout",
     "output_type": "stream",
     "text": [
      "Метрика:nan_euclidean\n",
      "Дистанции:[[0.        1.0601114 1.0634245 1.0699457]]\n",
      "Индексы:[[  345 15762 14848 13056]]\n",
      "Ближайшие соседи узла Q106134: ['Q106134', 'Q85715', 'Q75727', 'Q58845'] \n",
      "\n",
      "Метрика:cosine\n",
      "Дистанции:[[0.         0.5660563  0.5864762  0.59378046]]\n",
      "Индексы:[[  345 15762 16041 13605]]\n",
      "Ближайшие соседи узла Q106134: ['Q106134', 'Q85715', 'Q89689', 'Q64176'] \n",
      "\n",
      "Метрика:manhattan\n",
      "Дистанции:[[ 0.         12.02219582 12.10659409 12.15245342]]\n",
      "Индексы:[[  345 13056 15762   375]]\n",
      "Ближайшие соседи узла Q106134: ['Q106134', 'Q58845', 'Q85715', 'Q106429'] \n"
     ]
    }
   ],
   "source": [
    "# Выбираем случайный узел\n",
    "random_node_index = 345\n",
    "methods = ['nan_euclidean','cosine','manhattan']\n",
    "def nearest_nodes(method):\n",
    "  nn_model = NearestNeighbors(n_neighbors=4, metric=method)\n",
    "  nn_model.fit(embedding_numpy)\n",
    "  distances, indices = nn_model.kneighbors([embedding_numpy[random_node_index]])\n",
    "  print('Метрика:'+method )\n",
    "  print(f'Дистанции:{distances}' )\n",
    "  print(f'Индексы:{indices}' )\n",
    "  # Визуализация ближайших соседей\n",
    "  neighbors_labels = [id_to_lable[i] for i in indices.flatten()]\n",
    "  print(f\"Ближайшие соседи узла {id_to_lable[random_node_index]}: {neighbors_labels} \\n\")\n",
    "\n",
    "for method in methods: nearest_nodes(method)"
   ]
  },
  {
   "cell_type": "code",
   "execution_count": 120,
   "id": "5ci5bxH1jVKn",
   "metadata": {
    "ExecuteTime": {
     "end_time": "2024-01-26T18:19:04.778756455Z",
     "start_time": "2024-01-26T18:19:03.913322052Z"
    }
   },
   "outputs": [
    {
     "name": "stdout",
     "output_type": "stream",
     "text": [
      "Метрика:nan_euclidean\n",
      "Дистанции:[[0.        1.048177  1.0572133 1.063795 ]]\n",
      "Индексы:[[ 631 9401  569 3260]]\n",
      "Ближайшие соседи узла Q110397: ['Q110397', 'Q348534', 'Q108946', 'Q170564'] \n",
      "\n",
      "Метрика:cosine\n",
      "Дистанции:[[0.         0.58962166 0.5998814  0.60740936]]\n",
      "Индексы:[[ 631 9401  569 3260]]\n",
      "Ближайшие соседи узла Q110397: ['Q110397', 'Q348534', 'Q108946', 'Q170564'] \n",
      "\n",
      "Метрика:manhattan\n",
      "Дистанции:[[ 0.         11.58180904 11.87732506 12.0430994 ]]\n",
      "Индексы:[[ 631 4364  148 4616]]\n",
      "Ближайшие соседи узла Q110397: ['Q110397', 'Q195402', 'Q103569', 'Q204374'] \n"
     ]
    }
   ],
   "source": [
    "# Выбираем второй случайный узел\n",
    "random_node_index = 631\n",
    "methods = ['nan_euclidean','cosine','manhattan']\n",
    "def nearest_nodes(method):\n",
    "  nn_model = NearestNeighbors(n_neighbors=4, metric=method)\n",
    "  nn_model.fit(embedding_numpy)\n",
    "  distances, indices = nn_model.kneighbors([embedding_numpy[random_node_index]])\n",
    "  print('Метрика:'+method )\n",
    "  print(f'Дистанции:{distances}' )\n",
    "  print(f'Индексы:{indices}' )\n",
    "  # Визуализация ближайших соседей\n",
    "  neighbors_labels = [id_to_lable[i] for i in indices.flatten()]\n",
    "  print(f\"Ближайшие соседи узла {id_to_lable[random_node_index]}: {neighbors_labels} \\n\")\n",
    "\n",
    "for method in methods: nearest_nodes(method)"
   ]
  },
  {
   "cell_type": "code",
   "outputs": [],
   "source": [],
   "metadata": {
    "collapsed": false,
    "ExecuteTime": {
     "end_time": "2024-01-26T18:19:04.779851354Z",
     "start_time": "2024-01-26T18:19:04.035385216Z"
    }
   },
   "id": "ee8716abbbce99d1",
   "execution_count": 120
  },
  {
   "cell_type": "code",
   "outputs": [],
   "source": [],
   "metadata": {
    "collapsed": false,
    "ExecuteTime": {
     "end_time": "2024-01-26T18:19:04.781226966Z",
     "start_time": "2024-01-26T18:19:04.037966588Z"
    }
   },
   "id": "8f1d3578efadb6e5",
   "execution_count": 120
  },
  {
   "cell_type": "code",
   "outputs": [],
   "source": [],
   "metadata": {
    "collapsed": false,
    "ExecuteTime": {
     "end_time": "2024-01-26T18:19:04.792135641Z",
     "start_time": "2024-01-26T18:19:04.078691192Z"
    }
   },
   "id": "487a4e12de1fabba",
   "execution_count": 120
  },
  {
   "cell_type": "code",
   "outputs": [],
   "source": [],
   "metadata": {
    "collapsed": false,
    "ExecuteTime": {
     "end_time": "2024-01-26T18:19:04.793777079Z",
     "start_time": "2024-01-26T18:19:04.078801010Z"
    }
   },
   "id": "e48b7392040a5d46",
   "execution_count": 120
  },
  {
   "cell_type": "code",
   "outputs": [],
   "source": [],
   "metadata": {
    "collapsed": false,
    "ExecuteTime": {
     "end_time": "2024-01-26T18:19:04.794728806Z",
     "start_time": "2024-01-26T18:19:04.078854762Z"
    }
   },
   "id": "a773fc5bc71a98c8",
   "execution_count": 120
  }
 ],
 "metadata": {
  "language_info": {
   "name": "python"
  },
  "kernelspec": {
   "name": "python3",
   "language": "python",
   "display_name": "Python 3 (ipykernel)"
  }
 },
 "nbformat": 4,
 "nbformat_minor": 5
}
