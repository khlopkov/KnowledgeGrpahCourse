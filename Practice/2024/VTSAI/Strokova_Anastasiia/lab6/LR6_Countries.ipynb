{
  "cells": [
    {
      "cell_type": "markdown",
      "source": [
        "# Лабораторная работа №6\n",
        "https://pykeen.readthedocs.io/en/stable/api/pykeen.datasets.Countries.html\n",
        "\n",
        "Работу выполнили:\n",
        "\n",
        "Расковалова Алёна, P4241\n",
        "Строкова Анастасия, P4240"
      ],
      "metadata": {
        "id": "0qGmxFDzkVLU"
      },
      "id": "0qGmxFDzkVLU"
    },
    {
      "cell_type": "markdown",
      "id": "098bb4f9",
      "metadata": {
        "id": "098bb4f9"
      },
      "source": [
        "## Link Prediction\n",
        "**Link Prediction** (предсказание связей) - это задача в области графовых знаний, направленная на предсказание отношений (рёбер) между сущностями в графовой структуре. В контексте баз данных знаний, где информация представлена в виде графа, задача link prediction становится важным инструментом для дополнения или обновления существующей сети отношений.\n",
        "\n",
        "Задача link prediction заключается в предсказании отсутствующих рёбер между сущностями, основываясь на известных связях в графе.\n",
        "\n",
        "Применения link prediction включают:\n",
        "\n",
        "> Предсказание новых связей между пользователями или группами.\n",
        "\n",
        "> Предсказание взаимодействий между белками в биологических сетях.\n",
        "\n",
        "> Предсказание связей между пользователями и товарами.\n",
        "\n",
        "> Пополнение базы знаний новыми фактами.\n",
        "\n",
        "В контексте машинного обучения и графовых моделей, задача link prediction решается с использованием методов, таких как графовые эмбеддинги, глубокие нейронные сети, и другие алгоритмы, специфичные для графовых данных."
      ]
    },
    {
      "cell_type": "markdown",
      "id": "656296c5",
      "metadata": {
        "id": "656296c5"
      },
      "source": [
        "### Установка зависимостей\n"
      ]
    },
    {
      "cell_type": "markdown",
      "source": [
        "Устанавливаем необходимые для работы зависимости"
      ],
      "metadata": {
        "id": "NbAA7e2dRX7P"
      },
      "id": "NbAA7e2dRX7P"
    },
    {
      "cell_type": "code",
      "execution_count": null,
      "id": "678f20f5",
      "metadata": {
        "id": "678f20f5"
      },
      "outputs": [],
      "source": [
        "!pip install pykeen matplotlib"
      ]
    },
    {
      "cell_type": "markdown",
      "id": "6f7634ba",
      "metadata": {
        "id": "6f7634ba"
      },
      "source": [
        "Далее, импортируем необходимых модулей"
      ]
    },
    {
      "cell_type": "code",
      "source": [
        "import pykeen\n",
        "import torch\n",
        "import matplotlib.pyplot as plt\n",
        "from pykeen.pipeline import pipeline\n",
        "from pykeen.evaluation import ClassificationEvaluator\n",
        "from pykeen.datasets import Countries"
      ],
      "metadata": {
        "id": "Jg-WgPAU5y2d"
      },
      "id": "Jg-WgPAU5y2d",
      "execution_count": 5,
      "outputs": []
    },
    {
      "cell_type": "markdown",
      "source": [
        "В этой работе мы снова будем использовать уже известный dataset Countries"
      ],
      "metadata": {
        "id": "CQMEHcLQyf1U"
      },
      "id": "CQMEHcLQyf1U"
    },
    {
      "cell_type": "code",
      "source": [
        "# Загрузка графового датасета Countries\n",
        "countries_dataset = Countries()"
      ],
      "metadata": {
        "id": "SacNIzg_h84W",
        "colab": {
          "base_uri": "https://localhost:8080/",
          "height": 17,
          "referenced_widgets": [
            "35a29e33ca954ef0afe28d0a6150bd30",
            "2859fd682907432180b90c6e642902bf",
            "54a3c8bec2444c79b557560ba824b0ce",
            "fc5ca5240cf940939b344ba1a310aa60",
            "b0cc2d8cf5de46d1bc6b908ff2816606",
            "ad601e528bc44914af50b8df32c27580",
            "720564b35ec740c688d9a5f56a3a1362",
            "24a132c1826a4cf4895884d92c07a5e7",
            "df9574e8a63a435ca6bd5187c2b3caae",
            "014444d33b8d484caa545f3adde8f995",
            "348cec27a3ca4e249f592af82ec6234c",
            "d53604ce21d74f81848e39183ce3adf7",
            "6a220a0eaf3644eeb370591b2f3bd74a",
            "6e27346bba6542ef8ae6ff300121c1b8",
            "4a9bbd98e9964050a43dc079facc3fb5",
            "95a33b8ed8634f65beb7c9954994f334",
            "6800772b938e47c7b55ed2c3dee9e08b",
            "8af74149859c4093ad783be42e6b607d",
            "538af5d849c840b58d6655ff1f280dbc",
            "85fbb8f2102c4109a320564a33a16549",
            "5769fd5e520f4aa0898546e68a63cc45",
            "d0ad343cd2464de2a7437c84a47465e4",
            "6f7257bb7e1b451f8f6c69480f099335",
            "7f3fb9acf7fd433a93e655c3762183eb",
            "af51b943fe694d70bdfb1e1c1857c6ba",
            "084cfed48d534bbd8a6c816962bb0692",
            "7024a29d8a684eaa900b3d8f07d7edfb",
            "cc333500b6234517ad91b89e32a3f1c5",
            "7ff910f436724097b938dfe2cabaa30d",
            "1f9fb36f288b4bb396accf843eb87ba9",
            "865458f9911446a08302580ebaa001c3",
            "9430fca829c8422fb8d8a577e4a9026d",
            "d43dedf532f649b2a6f27fb2b83a3a4e"
          ]
        },
        "outputId": "aa2c256e-5e7c-44c5-efda-74fe4219d92b"
      },
      "id": "SacNIzg_h84W",
      "execution_count": 6,
      "outputs": [
        {
          "output_type": "display_data",
          "data": {
            "text/plain": [
              "Downloading train.txt: 0.00B [00:00, ?B/s]"
            ],
            "application/vnd.jupyter.widget-view+json": {
              "version_major": 2,
              "version_minor": 0,
              "model_id": "35a29e33ca954ef0afe28d0a6150bd30"
            }
          },
          "metadata": {}
        },
        {
          "output_type": "display_data",
          "data": {
            "text/plain": [
              "Downloading test.txt: 0.00B [00:00, ?B/s]"
            ],
            "application/vnd.jupyter.widget-view+json": {
              "version_major": 2,
              "version_minor": 0,
              "model_id": "d53604ce21d74f81848e39183ce3adf7"
            }
          },
          "metadata": {}
        },
        {
          "output_type": "display_data",
          "data": {
            "text/plain": [
              "Downloading valid.txt: 0.00B [00:00, ?B/s]"
            ],
            "application/vnd.jupyter.widget-view+json": {
              "version_major": 2,
              "version_minor": 0,
              "model_id": "6f7257bb7e1b451f8f6c69480f099335"
            }
          },
          "metadata": {}
        }
      ]
    },
    {
      "cell_type": "markdown",
      "source": [
        "Проверяем доступность GPU для вычислений"
      ],
      "metadata": {
        "id": "iZBR7Wbvyl5N"
      },
      "id": "iZBR7Wbvyl5N"
    },
    {
      "cell_type": "code",
      "source": [
        "device = torch.device(\"cuda\" if torch.cuda.is_available() else \"cpu\")\n",
        "print(f\"Using device: {device}\")"
      ],
      "metadata": {
        "colab": {
          "base_uri": "https://localhost:8080/"
        },
        "id": "vRvgXYx8h-vN",
        "outputId": "666b285f-0795-4cd1-932f-1f383072d513"
      },
      "id": "vRvgXYx8h-vN",
      "execution_count": 7,
      "outputs": [
        {
          "output_type": "stream",
          "name": "stdout",
          "text": [
            "Using device: cuda\n"
          ]
        }
      ]
    },
    {
      "cell_type": "markdown",
      "source": [
        "## Метрики для оценки работы модели\n",
        "\n",
        "В рамках этой работы мы рассмотрим несколько classification метрик.\n",
        "\n",
        "#### **ROC-AUC Score (Receiver Operating Characteristic - Площадь под кривой):**\n",
        "\n",
        "> **ROC-AUC** - это метрика, используемая для оценки производительности бинарной классификационной модели.\n",
        "\n",
        "> Измеряет площадь под кривой ROC, которая отображает соотношение верно положительных случаев к ложно положительным случаям при различных значениях порога.\n",
        "\n",
        "> Более высокий показатель ROC-AUC указывает на лучшую дискриминацию между положительными и отрицательными случаями.\n",
        "\n",
        "#### **Precision:**\n",
        "\n",
        "> **Precision** - это метрика, оценивающая точность положительных предсказаний классификационной модели.\n",
        "\n",
        "> Рассчитывается как отношение верно положительных предсказаний к общему числу положительных предсказаний (верно положительные + ложно положительные).\n",
        "\n",
        "> Precision особенно важна, когда стоимость ложно положительных случаев высока.\n",
        "\n",
        "#### **Accuracy:**\n",
        "\n",
        ">  **Accuracy** - простая метрика, измеряющая общую правильность классификационной модели.\n",
        "\n",
        "> Рассчитывается как отношение правильно предсказанных случаев (верно положительные + верно отрицательные) к общему числу случаев.\n",
        "\n",
        "> В то время как Accuracy легко интерпретировать, она может быть несостоятельной для несбалансированных наборов данных, где один класс значительно превосходит другой.\n",
        "\n",
        "#### **F1-мера (F1 Score):**\n",
        "\n",
        "> **F1-мера** - это гармоническое среднее точности и полноты.\n",
        "\n",
        "> Обеспечивает баланс между точностью и полнотой, что делает ее подходящей метрикой для несбалансированных наборов данных.\n",
        "\n",
        "Эти метрики часто используются для оценки моделей, и их выбор зависит от конкретных целей и характеристик решаемой проблемы. Например, в сценариях, где ложно положительные или ложно отрицательные случаи имеют разные стоимости, могут быть более актуальными точность или полнота. ROC-AUC обеспечивает всесторонний обзор способности модели к дискриминации между классами при различных значениях порога."
      ],
      "metadata": {
        "id": "WNzvnsVdyrTi"
      },
      "id": "WNzvnsVdyrTi"
    },
    {
      "cell_type": "code",
      "source": [
        "# Объявим переменные для хранения рассчитанных метрик\n",
        "roc_auc_score = []\n",
        "precision = []\n",
        "accuracy = []\n",
        "f1 = []\n",
        "\n",
        "# Переменная для хранения рразличных пайплайнов pykeen\n",
        "pipeline_results_list = []"
      ],
      "metadata": {
        "id": "vqv2rNqlohgA"
      },
      "id": "vqv2rNqlohgA",
      "execution_count": 8,
      "outputs": []
    },
    {
      "cell_type": "markdown",
      "source": [
        " Чтобы ценить работу модели на наборе данных будем использовать ClassificationEvaluator() позволяющий рассчитывать рассмотренные ранее метрики"
      ],
      "metadata": {
        "id": "Y1Qi-I3_10wl"
      },
      "id": "Y1Qi-I3_10wl"
    },
    {
      "cell_type": "code",
      "source": [
        "evaluator = ClassificationEvaluator()"
      ],
      "metadata": {
        "id": "vaPTHLIHmhON"
      },
      "execution_count": 9,
      "outputs": [],
      "id": "vaPTHLIHmhON"
    },
    {
      "cell_type": "markdown",
      "source": [
        "Обучим модель ComplEx для разного количества эпох, для каждой модели рассчитаем и сохраним значения метрик"
      ],
      "metadata": {
        "id": "-T7ojmhy2HSx"
      },
      "id": "-T7ojmhy2HSx"
    },
    {
      "cell_type": "code",
      "source": [
        "# Список значений количества эпох\n",
        "epochs = [1,20,50,100,250]\n",
        "\n",
        "for epoch in epochs:\n",
        "\n",
        "  # Обучаем модель\n",
        "  pipeline_results = pipeline(\n",
        "      model=\"ComplEx\",\n",
        "      dataset=countries_dataset,\n",
        "      training_kwargs=dict(num_epochs=epoch),\n",
        "      device=device\n",
        "  )\n",
        "\n",
        "  # Сохраняем обученную модель\n",
        "  pipeline_results_list.append(pipeline_results)\n",
        "\n",
        "  model = pipeline_results.model\n",
        "  # Рассчитываем метрики для обученной модели и датасета Countries\n",
        "  metrics = evaluator.evaluate(model, countries_dataset.testing.mapped_triples,\n",
        "                             additional_filter_triples=[countries_dataset.training.mapped_triples,\n",
        "                                                        countries_dataset.validation.mapped_triples])\n",
        "\n",
        "  # Сохраняем рассчитанные метрики\n",
        "  roc_auc_score.append(metrics.get_metric('roc_auc_score'))\n",
        "  precision.append(metrics.get_metric('average_precision_score'))\n",
        "  accuracy.append(metrics.get_metric('accuracy_score'))\n",
        "  f1.append(metrics.get_metric('f1_score'))"
      ],
      "metadata": {
        "id": "qDJLuIKJmpw2"
      },
      "id": "qDJLuIKJmpw2",
      "execution_count": null,
      "outputs": []
    },
    {
      "cell_type": "markdown",
      "source": [
        "После того как метрики рассчитаны для разного количества эпох обучения визуализируем полученные метрики"
      ],
      "metadata": {
        "id": "nC42EdLB2wEW"
      },
      "id": "nC42EdLB2wEW"
    },
    {
      "cell_type": "code",
      "source": [
        "# В качесте лейблов используем список значений эпох\n",
        "labels = epochs\n",
        "\n",
        "# Plotting ROC AUC scores\n",
        "plt.plot(labels, roc_auc_score, label='ROC_AUC')\n",
        "\n",
        "# Plotting precision scores\n",
        "plt.plot(labels, precision, label='Precision')\n",
        "\n",
        "# Plotting accuracy scores\n",
        "plt.plot(labels, accuracy, label='Accuracy')\n",
        "\n",
        "# Plotting F1\n",
        "plt.plot(labels, f1, label='F1')\n",
        "\n",
        "# Добавляем легенду, лейблы и название\n",
        "plt.legend()\n",
        "plt.xlabel('Epochs')\n",
        "plt.ylabel('Scores')\n",
        "plt.title('Model Evaluation Metrics')\n",
        "\n",
        "# Отрисовываем график\n",
        "plt.show()"
      ],
      "metadata": {
        "colab": {
          "base_uri": "https://localhost:8080/",
          "height": 472
        },
        "id": "kkXzK2yPs-wj",
        "outputId": "467fddf0-6f0c-481a-d0cc-522eddda5761"
      },
      "id": "kkXzK2yPs-wj",
      "execution_count": 11,
      "outputs": [
        {
          "output_type": "display_data",
          "data": {
            "text/plain": [
              "<Figure size 640x480 with 1 Axes>"
            ],
            "image/png": "[encoded data removed]"
          },
          "metadata": {}
        }
      ]
    },
    {
      "cell_type": "markdown",
      "source": [
        "Далее рассмотрим  метод predict_target(). Основной вариант использования pykeen.predict.predict_target() — прогнозирование ссылок или прогнозирование отношений."
      ],
      "metadata": {
        "id": "NsfUAixZ3JkS"
      },
      "id": "NsfUAixZ3JkS"
    },
    {
      "cell_type": "code",
      "source": [
        "from pykeen.predict import predict_target\n",
        "\n",
        "for idx, ep in enumerate(epochs):\n",
        "    pipeline_result = pipeline_results_list[idx]\n",
        "\n",
        "    # Получаем доступное отношение и сущность\n",
        "    available_relation = next(iter(countries_dataset.relation_to_id))\n",
        "    available_entity = next(iter(countries_dataset.entity_to_id))\n",
        "\n",
        "    # Используем predict_target с доступным отношением и сущностью\n",
        "    pred = predict_target(\n",
        "        model=pipeline_result.model,\n",
        "        relation=available_relation,\n",
        "        head=available_entity,\n",
        "        triples_factory=pipeline_result.training,\n",
        "    )\n",
        "\n",
        "    pred_filtered = pred.filter_triples(countries_dataset.training)\n",
        "    pred_annotated = pred_filtered.add_membership_columns(validation=countries_dataset.validation, testing=countries_dataset.testing)\n",
        "    pred_df = pred_annotated.df[['tail_label', 'score']]\n",
        "    print(f'Результат при вычислении {ep} эпох')\n",
        "    print(pred_df)\n",
        "    print('__________________________')\n"
      ],
      "metadata": {
        "colab": {
          "base_uri": "https://localhost:8080/"
        },
        "id": "FOfcBzPfjISU",
        "outputId": "1197b0a1-1731-4b58-f0fa-6da3342a83b6"
      },
      "id": "FOfcBzPfjISU",
      "execution_count": 12,
      "outputs": [
        {
          "output_type": "stream",
          "name": "stdout",
          "text": [
            "Результат при вычислении 1 эпох\n",
            "          tail_label      score\n",
            "143       martinique  83.225182\n",
            "96         guatemala  76.590172\n",
            "122           kosovo  69.273865\n",
            "158          myanmar  67.321686\n",
            "231           sweden  61.568439\n",
            "..               ...        ...\n",
            "173  northern_europe -61.502663\n",
            "222  southern_africa -61.912941\n",
            "8           anguilla -66.707008\n",
            "132        lithuania -67.442352\n",
            "50             china -69.859322\n",
            "\n",
            "[269 rows x 2 columns]\n",
            "__________________________\n",
            "Результат при вычислении 20 эпох\n",
            "           tail_label      score\n",
            "116             japan  77.045273\n",
            "126            latvia  66.581688\n",
            "179             palau  63.806797\n",
            "49              chile  60.589691\n",
            "78   falkland_islands  56.354527\n",
            "..                ...        ...\n",
            "153          mongolia -55.037544\n",
            "84   french_polynesia -56.582275\n",
            "113             italy -60.490192\n",
            "220       south_korea -71.789307\n",
            "232       switzerland -73.920486\n",
            "\n",
            "[269 rows x 2 columns]\n",
            "__________________________\n",
            "Результат при вычислении 50 эпох\n",
            "                               tail_label      score\n",
            "156                               morocco  78.580376\n",
            "145                             mauritius  69.196350\n",
            "212                              slovakia  60.799904\n",
            "193                               romania  55.268417\n",
            "150                         middle_africa  53.567978\n",
            "..                                    ...        ...\n",
            "181                                panama -54.638714\n",
            "18                                bahamas -57.157333\n",
            "254  united_states_minor_outlying_islands -61.207516\n",
            "79                          faroe_islands -65.339737\n",
            "199                           saint_lucia -77.462280\n",
            "\n",
            "[269 rows x 2 columns]\n",
            "__________________________\n",
            "Результат при вычислении 100 эпох\n",
            "               tail_label      score\n",
            "20             bangladesh  75.825493\n",
            "126                latvia  68.337143\n",
            "245                turkey  64.230133\n",
            "243   trinidad_and_tobago  61.999287\n",
            "269              zimbabwe  58.607800\n",
            "..                    ...        ...\n",
            "6                 andorra -56.923515\n",
            "34                 brunei -57.379700\n",
            "81                finland -67.593094\n",
            "216    south-eastern_asia -72.412239\n",
            "251  united_arab_emirates -77.810844\n",
            "\n",
            "[269 rows x 2 columns]\n",
            "__________________________\n",
            "Результат при вычислении 250 эпох\n",
            "          tail_label      score\n",
            "165        nicaragua  63.842434\n",
            "34            brunei  61.306374\n",
            "150    middle_africa  52.967754\n",
            "267            yemen  50.212997\n",
            "107        indonesia  49.404606\n",
            "..               ...        ...\n",
            "152           monaco -55.109062\n",
            "171  northern_africa -59.976517\n",
            "81           finland -61.380062\n",
            "194           russia -67.035553\n",
            "269         zimbabwe -72.633102\n",
            "\n",
            "[269 rows x 2 columns]\n",
            "__________________________\n"
          ]
        }
      ]
    },
    {
      "cell_type": "markdown",
      "source": [
        "Попробуйте обучыить другую модель. Примените обученную модель к другому датасету. Проанализируйте результаты. Хорошим вариантом будет преднамеренно удалить существующую связку и исследовать работу модели на предсказании удаленной связи."
      ],
      "metadata": {
        "id": "vBNqq5jv5D4u"
      },
      "id": "vBNqq5jv5D4u"
    },
    {
      "cell_type": "markdown",
      "source": [
        "# TransE"
      ],
      "metadata": {
        "id": "zaYP34NNla47"
      },
      "id": "zaYP34NNla47"
    },
    {
      "cell_type": "code",
      "source": [
        "import pykeen\n",
        "import torch\n",
        "import matplotlib.pyplot as plt\n",
        "from pykeen.pipeline import pipeline\n",
        "from pykeen.evaluation import ClassificationEvaluator\n",
        "from pykeen.datasets import Countries\n",
        "from pykeen.models import TransE\n",
        "\n",
        "# Загрузка графового датасета Countries\n",
        "Countries_dataset = Countries()\n",
        "device = torch.device(\"cuda\" if torch.cuda.is_available() else \"cpu\")\n",
        "print(f\"Using device: {device}\")\n",
        "\n",
        "# Объявим переменные для хранения рассчитанных метрик\n",
        "roc_auc_score = []\n",
        "precision = []\n",
        "accuracy = []\n",
        "f1 = []\n",
        "\n",
        "# Переменная для хранения различных пайплайнов pykeen\n",
        "pipeline_results_list = []\n",
        "evaluator = ClassificationEvaluator()\n",
        "\n",
        "# Список значений количества эпох\n",
        "epochs = [1, 20, 50, 100, 250]\n",
        "\n",
        "for epoch in epochs:\n",
        "    # Обучаем модель TransE\n",
        "    pipeline_results = pipeline(\n",
        "        model=TransE,\n",
        "        dataset=Countries_dataset,\n",
        "        training_kwargs=dict(num_epochs=epoch),\n",
        "        device=device\n",
        "    )\n",
        "\n",
        "    # Сохраняем обученную модель\n",
        "    pipeline_results_list.append(pipeline_results)\n",
        "\n",
        "    model = pipeline_results.model\n",
        "    # Рассчитываем метрики для обученной модели и датасета Countries\n",
        "    metrics = evaluator.evaluate(model, Countries_dataset.testing.mapped_triples,\n",
        "                                 additional_filter_triples=[Countries_dataset.training.mapped_triples,\n",
        "                                                            Countries_dataset.validation.mapped_triples])\n",
        "\n",
        "    # Сохраняем рассчитанные метрики\n",
        "    roc_auc_score.append(metrics.get_metric('roc_auc_score'))\n",
        "    precision.append(metrics.get_metric('average_precision_score'))\n",
        "    accuracy.append(metrics.get_metric('accuracy_score'))\n",
        "    f1.append(metrics.get_metric('f1_score'))"
      ],
      "metadata": {
        "id": "n9J-lxo3UhHT"
      },
      "id": "n9J-lxo3UhHT",
      "execution_count": null,
      "outputs": []
    },
    {
      "cell_type": "code",
      "source": [
        "# В качестве лейблов используем список значений эпох\n",
        "labels = epochs\n",
        "\n",
        "# Plotting ROC AUC scores\n",
        "plt.plot(labels, roc_auc_score, label='ROC_AUC')\n",
        "\n",
        "# Plotting precision scores\n",
        "plt.plot(labels, precision, label='Precision')\n",
        "\n",
        "# Plotting accuracy scores\n",
        "plt.plot(labels, accuracy, label='Accuracy')\n",
        "\n",
        "# Plotting F1\n",
        "plt.plot(labels, f1, label='F1')\n",
        "\n",
        "# Добавляем легенду, лейблы и название\n",
        "plt.legend()\n",
        "plt.xlabel('Epochs')\n",
        "plt.ylabel('Scores')\n",
        "plt.title('Model Evaluation Metrics')\n",
        "\n",
        "# Отрисовываем график\n",
        "plt.show()"
      ],
      "metadata": {
        "colab": {
          "base_uri": "https://localhost:8080/",
          "height": 472
        },
        "id": "grGDv_09lOfM",
        "outputId": "2fcf5188-2845-4ee7-ff88-cf1d8c34468b"
      },
      "id": "grGDv_09lOfM",
      "execution_count": 14,
      "outputs": [
        {
          "output_type": "display_data",
          "data": {
            "text/plain": [
              "<Figure size 640x480 with 1 Axes>"
            ],
            "image/png": "[encoded data removed]"
          },
          "metadata": {}
        }
      ]
    },
    {
      "cell_type": "code",
      "source": [
        "from pykeen.predict import predict_target\n",
        "\n",
        "for idx, ep in enumerate(epochs):\n",
        "    pipeline_result = pipeline_results_list[idx]\n",
        "\n",
        "    # Получаем доступное отношение и сущность\n",
        "    available_relation = next(iter(countries_dataset.relation_to_id))\n",
        "    available_entity = next(iter(countries_dataset.entity_to_id))\n",
        "\n",
        "    # Используем predict_target с доступным отношением и сущностью\n",
        "    pred = predict_target(\n",
        "        model=pipeline_result.model,\n",
        "        relation=available_relation,\n",
        "        head=available_entity,\n",
        "        triples_factory=pipeline_result.training,\n",
        "    )\n",
        "\n",
        "    pred_filtered = pred.filter_triples(countries_dataset.training)\n",
        "    pred_annotated = pred_filtered.add_membership_columns(validation=countries_dataset.validation, testing=countries_dataset.testing)\n",
        "    pred_df = pred_annotated.df[['tail_label', 'score']]\n",
        "    print(f'Результат при вычислении {ep} эпох')\n",
        "    print(pred_df)\n",
        "    print('__________________________')"
      ],
      "metadata": {
        "colab": {
          "base_uri": "https://localhost:8080/"
        },
        "id": "8zI1c7JPlQ01",
        "outputId": "e9d57ac0-7cf1-47ac-c1b7-99226530dacd"
      },
      "id": "8zI1c7JPlQ01",
      "execution_count": 15,
      "outputs": [
        {
          "output_type": "stream",
          "name": "stdout",
          "text": [
            "Результат при вычислении 1 эпох\n",
            "              tail_label      score\n",
            "0            afghanistan  -6.192972\n",
            "262    wallis_and_futuna  -6.948261\n",
            "196              réunion  -7.700821\n",
            "107            indonesia  -7.730798\n",
            "4         american_samoa  -7.771756\n",
            "..                   ...        ...\n",
            "19               bahrain -10.918293\n",
            "165            nicaragua -10.922810\n",
            "230            swaziland -10.945824\n",
            "9    antigua_and_barbuda -11.452105\n",
            "100               guyana -11.489244\n",
            "\n",
            "[269 rows x 2 columns]\n",
            "__________________________\n",
            "Результат при вычислении 20 эпох\n",
            "                       tail_label      score\n",
            "0                     afghanistan  -6.668587\n",
            "262             wallis_and_futuna  -7.909776\n",
            "2                         albania  -7.984665\n",
            "43                 cayman_islands  -8.199989\n",
            "45                central_america  -8.351480\n",
            "..                            ...        ...\n",
            "64                       dominica -11.589756\n",
            "117                        jersey -11.693492\n",
            "255  united_states_virgin_islands -11.856720\n",
            "191                         qatar -11.867273\n",
            "119                    kazakhstan -11.909519\n",
            "\n",
            "[269 rows x 2 columns]\n",
            "__________________________\n",
            "Результат при вычислении 50 эпох\n",
            "          tail_label      score\n",
            "0        afghanistan  -6.427958\n",
            "176          oceania  -8.082561\n",
            "67    eastern_africa  -8.165373\n",
            "264     western_asia  -8.335126\n",
            "45   central_america  -8.416683\n",
            "..               ...        ...\n",
            "16           austria -11.872709\n",
            "270    Åland_islands -11.880522\n",
            "193          romania -11.887597\n",
            "113            italy -12.006956\n",
            "21          barbados -12.162027\n",
            "\n",
            "[269 rows x 2 columns]\n",
            "__________________________\n",
            "Результат при вычислении 100 эпох\n",
            "           tail_label      score\n",
            "0         afghanistan  -6.757822\n",
            "1              africa  -7.941876\n",
            "176           oceania  -7.966697\n",
            "150     middle_africa  -8.128423\n",
            "100            guyana  -8.145830\n",
            "..                ...        ...\n",
            "157        mozambique -11.459877\n",
            "219     south_georgia -11.502416\n",
            "84   french_polynesia -11.514348\n",
            "137            malawi -11.758064\n",
            "122            kosovo -12.049505\n",
            "\n",
            "[269 rows x 2 columns]\n",
            "__________________________\n",
            "Результат при вычислении 250 эпох\n",
            "                   tail_label      score\n",
            "0                 afghanistan  -6.836699\n",
            "224           southern_europe  -7.051126\n",
            "216        south-eastern_asia  -7.441464\n",
            "46               central_asia  -7.455674\n",
            "42                  caribbean  -7.590933\n",
            "..                        ...        ...\n",
            "66                   dr_congo -10.884925\n",
            "132                 lithuania -11.050665\n",
            "22                    belarus -11.058443\n",
            "167                   nigeria -11.133930\n",
            "44   central_african_republic -11.309478\n",
            "\n",
            "[269 rows x 2 columns]\n",
            "__________________________\n"
          ]
        }
      ]
    }
  ],
  "metadata": {
    "kernelspec": {
      "display_name": "Python 3",
      "name": "python3"
    },
    "language_info": {
      "codemirror_mode": {
        "name": "ipython",
        "version": 3
      },
      "file_extension": ".py",
      "mimetype": "text/x-python",
      "name": "python",
      "nbconvert_exporter": "python",
      "pygments_lexer": "ipython3",
      "version": "3.10.9"
    },
    "colab": {
      "provenance": [],
      "gpuType": "T4"
    },
    "accelerator": "GPU",
    "widgets": {
      "application/vnd.jupyter.widget-state+json": {
        "35a29e33ca954ef0afe28d0a6150bd30": {
          "model_module": "@jupyter-widgets/controls",
          "model_name": "HBoxModel",
          "model_module_version": "1.5.0",
          "state": {
            "_dom_classes": [],
            "_model_module": "@jupyter-widgets/controls",
            "_model_module_version": "1.5.0",
            "_model_name": "HBoxModel",
            "_view_count": null,
            "_view_module": "@jupyter-widgets/controls",
            "_view_module_version": "1.5.0",
            "_view_name": "HBoxView",
            "box_style": "",
            "children": [
              "IPY_MODEL_2859fd682907432180b90c6e642902bf",
              "IPY_MODEL_54a3c8bec2444c79b557560ba824b0ce",
              "IPY_MODEL_fc5ca5240cf940939b344ba1a310aa60"
            ],
            "layout": "IPY_MODEL_b0cc2d8cf5de46d1bc6b908ff2816606"
          }
        },
        "2859fd682907432180b90c6e642902bf": {
          "model_module": "@jupyter-widgets/controls",
          "model_name": "HTMLModel",
          "model_module_version": "1.5.0",
          "state": {
            "_dom_classes": [],
            "_model_module": "@jupyter-widgets/controls",
            "_model_module_version": "1.5.0",
            "_model_name": "HTMLModel",
            "_view_count": null,
            "_view_module": "@jupyter-widgets/controls",
            "_view_module_version": "1.5.0",
            "_view_name": "HTMLView",
            "description": "",
            "description_tooltip": null,
            "layout": "IPY_MODEL_ad601e528bc44914af50b8df32c27580",
            "placeholder": "​",
            "style": "IPY_MODEL_720564b35ec740c688d9a5f56a3a1362",
            "value": "Downloading train.txt:  26%"
          }
        },
        "54a3c8bec2444c79b557560ba824b0ce": {
          "model_module": "@jupyter-widgets/controls",
          "model_name": "FloatProgressModel",
          "model_module_version": "1.5.0",
          "state": {
            "_dom_classes": [],
            "_model_module": "@jupyter-widgets/controls",
            "_model_module_version": "1.5.0",
            "_model_name": "FloatProgressModel",
            "_view_count": null,
            "_view_module": "@jupyter-widgets/controls",
            "_view_module_version": "1.5.0",
            "_view_name": "ProgressView",
            "bar_style": "info",
            "description": "",
            "description_tooltip": null,
            "layout": "IPY_MODEL_24a132c1826a4cf4895884d92c07a5e7",
            "max": 1,
            "min": 0,
            "orientation": "horizontal",
            "style": "IPY_MODEL_df9574e8a63a435ca6bd5187c2b3caae",
            "value": 1
          }
        },
        "fc5ca5240cf940939b344ba1a310aa60": {
          "model_module": "@jupyter-widgets/controls",
          "model_name": "HTMLModel",
          "model_module_version": "1.5.0",
          "state": {
            "_dom_classes": [],
            "_model_module": "@jupyter-widgets/controls",
            "_model_module_version": "1.5.0",
            "_model_name": "HTMLModel",
            "_view_count": null,
            "_view_module": "@jupyter-widgets/controls",
            "_view_module_version": "1.5.0",
            "_view_name": "HTMLView",
            "description": "",
            "description_tooltip": null,
            "layout": "IPY_MODEL_014444d33b8d484caa545f3adde8f995",
            "placeholder": "​",
            "style": "IPY_MODEL_348cec27a3ca4e249f592af82ec6234c",
            "value": " 8.00k/31.1k [00:00&lt;00:00, 47.8kB/s]"
          }
        },
        "b0cc2d8cf5de46d1bc6b908ff2816606": {
          "model_module": "@jupyter-widgets/base",
          "model_name": "LayoutModel",
          "model_module_version": "1.2.0",
          "state": {
            "_model_module": "@jupyter-widgets/base",
            "_model_module_version": "1.2.0",
            "_model_name": "LayoutModel",
            "_view_count": null,
            "_view_module": "@jupyter-widgets/base",
            "_view_module_version": "1.2.0",
            "_view_name": "LayoutView",
            "align_content": null,
            "align_items": null,
            "align_self": null,
            "border": null,
            "bottom": null,
            "display": null,
            "flex": null,
            "flex_flow": null,
            "grid_area": null,
            "grid_auto_columns": null,
            "grid_auto_flow": null,
            "grid_auto_rows": null,
            "grid_column": null,
            "grid_gap": null,
            "grid_row": null,
            "grid_template_areas": null,
            "grid_template_columns": null,
            "grid_template_rows": null,
            "height": null,
            "justify_content": null,
            "justify_items": null,
            "left": null,
            "margin": null,
            "max_height": null,
            "max_width": null,
            "min_height": null,
            "min_width": null,
            "object_fit": null,
            "object_position": null,
            "order": null,
            "overflow": null,
            "overflow_x": null,
            "overflow_y": null,
            "padding": null,
            "right": null,
            "top": null,
            "visibility": "hidden",
            "width": null
          }
        },
        "ad601e528bc44914af50b8df32c27580": {
          "model_module": "@jupyter-widgets/base",
          "model_name": "LayoutModel",
          "model_module_version": "1.2.0",
          "state": {
            "_model_module": "@jupyter-widgets/base",
            "_model_module_version": "1.2.0",
            "_model_name": "LayoutModel",
            "_view_count": null,
            "_view_module": "@jupyter-widgets/base",
            "_view_module_version": "1.2.0",
            "_view_name": "LayoutView",
            "align_content": null,
            "align_items": null,
            "align_self": null,
            "border": null,
            "bottom": null,
            "display": null,
            "flex": null,
            "flex_flow": null,
            "grid_area": null,
            "grid_auto_columns": null,
            "grid_auto_flow": null,
            "grid_auto_rows": null,
            "grid_column": null,
            "grid_gap": null,
            "grid_row": null,
            "grid_template_areas": null,
            "grid_template_columns": null,
            "grid_template_rows": null,
            "height": null,
            "justify_content": null,
            "justify_items": null,
            "left": null,
            "margin": null,
            "max_height": null,
            "max_width": null,
            "min_height": null,
            "min_width": null,
            "object_fit": null,
            "object_position": null,
            "order": null,
            "overflow": null,
            "overflow_x": null,
            "overflow_y": null,
            "padding": null,
            "right": null,
            "top": null,
            "visibility": null,
            "width": null
          }
        },
        "720564b35ec740c688d9a5f56a3a1362": {
          "model_module": "@jupyter-widgets/controls",
          "model_name": "DescriptionStyleModel",
          "model_module_version": "1.5.0",
          "state": {
            "_model_module": "@jupyter-widgets/controls",
            "_model_module_version": "1.5.0",
            "_model_name": "DescriptionStyleModel",
            "_view_count": null,
            "_view_module": "@jupyter-widgets/base",
            "_view_module_version": "1.2.0",
            "_view_name": "StyleView",
            "description_width": ""
          }
        },
        "24a132c1826a4cf4895884d92c07a5e7": {
          "model_module": "@jupyter-widgets/base",
          "model_name": "LayoutModel",
          "model_module_version": "1.2.0",
          "state": {
            "_model_module": "@jupyter-widgets/base",
            "_model_module_version": "1.2.0",
            "_model_name": "LayoutModel",
            "_view_count": null,
            "_view_module": "@jupyter-widgets/base",
            "_view_module_version": "1.2.0",
            "_view_name": "LayoutView",
            "align_content": null,
            "align_items": null,
            "align_self": null,
            "border": null,
            "bottom": null,
            "display": null,
            "flex": null,
            "flex_flow": null,
            "grid_area": null,
            "grid_auto_columns": null,
            "grid_auto_flow": null,
            "grid_auto_rows": null,
            "grid_column": null,
            "grid_gap": null,
            "grid_row": null,
            "grid_template_areas": null,
            "grid_template_columns": null,
            "grid_template_rows": null,
            "height": null,
            "justify_content": null,
            "justify_items": null,
            "left": null,
            "margin": null,
            "max_height": null,
            "max_width": null,
            "min_height": null,
            "min_width": null,
            "object_fit": null,
            "object_position": null,
            "order": null,
            "overflow": null,
            "overflow_x": null,
            "overflow_y": null,
            "padding": null,
            "right": null,
            "top": null,
            "visibility": null,
            "width": "20px"
          }
        },
        "df9574e8a63a435ca6bd5187c2b3caae": {
          "model_module": "@jupyter-widgets/controls",
          "model_name": "ProgressStyleModel",
          "model_module_version": "1.5.0",
          "state": {
            "_model_module": "@jupyter-widgets/controls",
            "_model_module_version": "1.5.0",
            "_model_name": "ProgressStyleModel",
            "_view_count": null,
            "_view_module": "@jupyter-widgets/base",
            "_view_module_version": "1.2.0",
            "_view_name": "StyleView",
            "bar_color": null,
            "description_width": ""
          }
        },
        "014444d33b8d484caa545f3adde8f995": {
          "model_module": "@jupyter-widgets/base",
          "model_name": "LayoutModel",
          "model_module_version": "1.2.0",
          "state": {
            "_model_module": "@jupyter-widgets/base",
            "_model_module_version": "1.2.0",
            "_model_name": "LayoutModel",
            "_view_count": null,
            "_view_module": "@jupyter-widgets/base",
            "_view_module_version": "1.2.0",
            "_view_name": "LayoutView",
            "align_content": null,
            "align_items": null,
            "align_self": null,
            "border": null,
            "bottom": null,
            "display": null,
            "flex": null,
            "flex_flow": null,
            "grid_area": null,
            "grid_auto_columns": null,
            "grid_auto_flow": null,
            "grid_auto_rows": null,
            "grid_column": null,
            "grid_gap": null,
            "grid_row": null,
            "grid_template_areas": null,
            "grid_template_columns": null,
            "grid_template_rows": null,
            "height": null,
            "justify_content": null,
            "justify_items": null,
            "left": null,
            "margin": null,
            "max_height": null,
            "max_width": null,
            "min_height": null,
            "min_width": null,
            "object_fit": null,
            "object_position": null,
            "order": null,
            "overflow": null,
            "overflow_x": null,
            "overflow_y": null,
            "padding": null,
            "right": null,
            "top": null,
            "visibility": null,
            "width": null
          }
        },
        "348cec27a3ca4e249f592af82ec6234c": {
          "model_module": "@jupyter-widgets/controls",
          "model_name": "DescriptionStyleModel",
          "model_module_version": "1.5.0",
          "state": {
            "_model_module": "@jupyter-widgets/controls",
            "_model_module_version": "1.5.0",
            "_model_name": "DescriptionStyleModel",
            "_view_count": null,
            "_view_module": "@jupyter-widgets/base",
            "_view_module_version": "1.2.0",
            "_view_name": "StyleView",
            "description_width": ""
          }
        },
        "d53604ce21d74f81848e39183ce3adf7": {
          "model_module": "@jupyter-widgets/controls",
          "model_name": "HBoxModel",
          "model_module_version": "1.5.0",
          "state": {
            "_dom_classes": [],
            "_model_module": "@jupyter-widgets/controls",
            "_model_module_version": "1.5.0",
            "_model_name": "HBoxModel",
            "_view_count": null,
            "_view_module": "@jupyter-widgets/controls",
            "_view_module_version": "1.5.0",
            "_view_name": "HBoxView",
            "box_style": "",
            "children": [
              "IPY_MODEL_6a220a0eaf3644eeb370591b2f3bd74a",
              "IPY_MODEL_6e27346bba6542ef8ae6ff300121c1b8",
              "IPY_MODEL_4a9bbd98e9964050a43dc079facc3fb5"
            ],
            "layout": "IPY_MODEL_95a33b8ed8634f65beb7c9954994f334"
          }
        },
        "6a220a0eaf3644eeb370591b2f3bd74a": {
          "model_module": "@jupyter-widgets/controls",
          "model_name": "HTMLModel",
          "model_module_version": "1.5.0",
          "state": {
            "_dom_classes": [],
            "_model_module": "@jupyter-widgets/controls",
            "_model_module_version": "1.5.0",
            "_model_name": "HTMLModel",
            "_view_count": null,
            "_view_module": "@jupyter-widgets/controls",
            "_view_module_version": "1.5.0",
            "_view_name": "HTMLView",
            "description": "",
            "description_tooltip": null,
            "layout": "IPY_MODEL_6800772b938e47c7b55ed2c3dee9e08b",
            "placeholder": "​",
            "style": "IPY_MODEL_8af74149859c4093ad783be42e6b607d",
            "value": "Downloading test.txt: "
          }
        },
        "6e27346bba6542ef8ae6ff300121c1b8": {
          "model_module": "@jupyter-widgets/controls",
          "model_name": "FloatProgressModel",
          "model_module_version": "1.5.0",
          "state": {
            "_dom_classes": [],
            "_model_module": "@jupyter-widgets/controls",
            "_model_module_version": "1.5.0",
            "_model_name": "FloatProgressModel",
            "_view_count": null,
            "_view_module": "@jupyter-widgets/controls",
            "_view_module_version": "1.5.0",
            "_view_name": "ProgressView",
            "bar_style": "info",
            "description": "",
            "description_tooltip": null,
            "layout": "IPY_MODEL_538af5d849c840b58d6655ff1f280dbc",
            "max": 1,
            "min": 0,
            "orientation": "horizontal",
            "style": "IPY_MODEL_85fbb8f2102c4109a320564a33a16549",
            "value": 1
          }
        },
        "4a9bbd98e9964050a43dc079facc3fb5": {
          "model_module": "@jupyter-widgets/controls",
          "model_name": "HTMLModel",
          "model_module_version": "1.5.0",
          "state": {
            "_dom_classes": [],
            "_model_module": "@jupyter-widgets/controls",
            "_model_module_version": "1.5.0",
            "_model_name": "HTMLModel",
            "_view_count": null,
            "_view_module": "@jupyter-widgets/controls",
            "_view_module_version": "1.5.0",
            "_view_name": "HTMLView",
            "description": "",
            "description_tooltip": null,
            "layout": "IPY_MODEL_5769fd5e520f4aa0898546e68a63cc45",
            "placeholder": "​",
            "style": "IPY_MODEL_d0ad343cd2464de2a7437c84a47465e4",
            "value": " 8.00k/? [00:00&lt;00:00, 54.9kB/s]"
          }
        },
        "95a33b8ed8634f65beb7c9954994f334": {
          "model_module": "@jupyter-widgets/base",
          "model_name": "LayoutModel",
          "model_module_version": "1.2.0",
          "state": {
            "_model_module": "@jupyter-widgets/base",
            "_model_module_version": "1.2.0",
            "_model_name": "LayoutModel",
            "_view_count": null,
            "_view_module": "@jupyter-widgets/base",
            "_view_module_version": "1.2.0",
            "_view_name": "LayoutView",
            "align_content": null,
            "align_items": null,
            "align_self": null,
            "border": null,
            "bottom": null,
            "display": null,
            "flex": null,
            "flex_flow": null,
            "grid_area": null,
            "grid_auto_columns": null,
            "grid_auto_flow": null,
            "grid_auto_rows": null,
            "grid_column": null,
            "grid_gap": null,
            "grid_row": null,
            "grid_template_areas": null,
            "grid_template_columns": null,
            "grid_template_rows": null,
            "height": null,
            "justify_content": null,
            "justify_items": null,
            "left": null,
            "margin": null,
            "max_height": null,
            "max_width": null,
            "min_height": null,
            "min_width": null,
            "object_fit": null,
            "object_position": null,
            "order": null,
            "overflow": null,
            "overflow_x": null,
            "overflow_y": null,
            "padding": null,
            "right": null,
            "top": null,
            "visibility": "hidden",
            "width": null
          }
        },
        "6800772b938e47c7b55ed2c3dee9e08b": {
          "model_module": "@jupyter-widgets/base",
          "model_name": "LayoutModel",
          "model_module_version": "1.2.0",
          "state": {
            "_model_module": "@jupyter-widgets/base",
            "_model_module_version": "1.2.0",
            "_model_name": "LayoutModel",
            "_view_count": null,
            "_view_module": "@jupyter-widgets/base",
            "_view_module_version": "1.2.0",
            "_view_name": "LayoutView",
            "align_content": null,
            "align_items": null,
            "align_self": null,
            "border": null,
            "bottom": null,
            "display": null,
            "flex": null,
            "flex_flow": null,
            "grid_area": null,
            "grid_auto_columns": null,
            "grid_auto_flow": null,
            "grid_auto_rows": null,
            "grid_column": null,
            "grid_gap": null,
            "grid_row": null,
            "grid_template_areas": null,
            "grid_template_columns": null,
            "grid_template_rows": null,
            "height": null,
            "justify_content": null,
            "justify_items": null,
            "left": null,
            "margin": null,
            "max_height": null,
            "max_width": null,
            "min_height": null,
            "min_width": null,
            "object_fit": null,
            "object_position": null,
            "order": null,
            "overflow": null,
            "overflow_x": null,
            "overflow_y": null,
            "padding": null,
            "right": null,
            "top": null,
            "visibility": null,
            "width": null
          }
        },
        "8af74149859c4093ad783be42e6b607d": {
          "model_module": "@jupyter-widgets/controls",
          "model_name": "DescriptionStyleModel",
          "model_module_version": "1.5.0",
          "state": {
            "_model_module": "@jupyter-widgets/controls",
            "_model_module_version": "1.5.0",
            "_model_name": "DescriptionStyleModel",
            "_view_count": null,
            "_view_module": "@jupyter-widgets/base",
            "_view_module_version": "1.2.0",
            "_view_name": "StyleView",
            "description_width": ""
          }
        },
        "538af5d849c840b58d6655ff1f280dbc": {
          "model_module": "@jupyter-widgets/base",
          "model_name": "LayoutModel",
          "model_module_version": "1.2.0",
          "state": {
            "_model_module": "@jupyter-widgets/base",
            "_model_module_version": "1.2.0",
            "_model_name": "LayoutModel",
            "_view_count": null,
            "_view_module": "@jupyter-widgets/base",
            "_view_module_version": "1.2.0",
            "_view_name": "LayoutView",
            "align_content": null,
            "align_items": null,
            "align_self": null,
            "border": null,
            "bottom": null,
            "display": null,
            "flex": null,
            "flex_flow": null,
            "grid_area": null,
            "grid_auto_columns": null,
            "grid_auto_flow": null,
            "grid_auto_rows": null,
            "grid_column": null,
            "grid_gap": null,
            "grid_row": null,
            "grid_template_areas": null,
            "grid_template_columns": null,
            "grid_template_rows": null,
            "height": null,
            "justify_content": null,
            "justify_items": null,
            "left": null,
            "margin": null,
            "max_height": null,
            "max_width": null,
            "min_height": null,
            "min_width": null,
            "object_fit": null,
            "object_position": null,
            "order": null,
            "overflow": null,
            "overflow_x": null,
            "overflow_y": null,
            "padding": null,
            "right": null,
            "top": null,
            "visibility": null,
            "width": "20px"
          }
        },
        "85fbb8f2102c4109a320564a33a16549": {
          "model_module": "@jupyter-widgets/controls",
          "model_name": "ProgressStyleModel",
          "model_module_version": "1.5.0",
          "state": {
            "_model_module": "@jupyter-widgets/controls",
            "_model_module_version": "1.5.0",
            "_model_name": "ProgressStyleModel",
            "_view_count": null,
            "_view_module": "@jupyter-widgets/base",
            "_view_module_version": "1.2.0",
            "_view_name": "StyleView",
            "bar_color": null,
            "description_width": ""
          }
        },
        "5769fd5e520f4aa0898546e68a63cc45": {
          "model_module": "@jupyter-widgets/base",
          "model_name": "LayoutModel",
          "model_module_version": "1.2.0",
          "state": {
            "_model_module": "@jupyter-widgets/base",
            "_model_module_version": "1.2.0",
            "_model_name": "LayoutModel",
            "_view_count": null,
            "_view_module": "@jupyter-widgets/base",
            "_view_module_version": "1.2.0",
            "_view_name": "LayoutView",
            "align_content": null,
            "align_items": null,
            "align_self": null,
            "border": null,
            "bottom": null,
            "display": null,
            "flex": null,
            "flex_flow": null,
            "grid_area": null,
            "grid_auto_columns": null,
            "grid_auto_flow": null,
            "grid_auto_rows": null,
            "grid_column": null,
            "grid_gap": null,
            "grid_row": null,
            "grid_template_areas": null,
            "grid_template_columns": null,
            "grid_template_rows": null,
            "height": null,
            "justify_content": null,
            "justify_items": null,
            "left": null,
            "margin": null,
            "max_height": null,
            "max_width": null,
            "min_height": null,
            "min_width": null,
            "object_fit": null,
            "object_position": null,
            "order": null,
            "overflow": null,
            "overflow_x": null,
            "overflow_y": null,
            "padding": null,
            "right": null,
            "top": null,
            "visibility": null,
            "width": null
          }
        },
        "d0ad343cd2464de2a7437c84a47465e4": {
          "model_module": "@jupyter-widgets/controls",
          "model_name": "DescriptionStyleModel",
          "model_module_version": "1.5.0",
          "state": {
            "_model_module": "@jupyter-widgets/controls",
            "_model_module_version": "1.5.0",
            "_model_name": "DescriptionStyleModel",
            "_view_count": null,
            "_view_module": "@jupyter-widgets/base",
            "_view_module_version": "1.2.0",
            "_view_name": "StyleView",
            "description_width": ""
          }
        },
        "6f7257bb7e1b451f8f6c69480f099335": {
          "model_module": "@jupyter-widgets/controls",
          "model_name": "HBoxModel",
          "model_module_version": "1.5.0",
          "state": {
            "_dom_classes": [],
            "_model_module": "@jupyter-widgets/controls",
            "_model_module_version": "1.5.0",
            "_model_name": "HBoxModel",
            "_view_count": null,
            "_view_module": "@jupyter-widgets/controls",
            "_view_module_version": "1.5.0",
            "_view_name": "HBoxView",
            "box_style": "",
            "children": [
              "IPY_MODEL_7f3fb9acf7fd433a93e655c3762183eb",
              "IPY_MODEL_af51b943fe694d70bdfb1e1c1857c6ba",
              "IPY_MODEL_084cfed48d534bbd8a6c816962bb0692"
            ],
            "layout": "IPY_MODEL_7024a29d8a684eaa900b3d8f07d7edfb"
          }
        },
        "7f3fb9acf7fd433a93e655c3762183eb": {
          "model_module": "@jupyter-widgets/controls",
          "model_name": "HTMLModel",
          "model_module_version": "1.5.0",
          "state": {
            "_dom_classes": [],
            "_model_module": "@jupyter-widgets/controls",
            "_model_module_version": "1.5.0",
            "_model_name": "HTMLModel",
            "_view_count": null,
            "_view_module": "@jupyter-widgets/controls",
            "_view_module_version": "1.5.0",
            "_view_name": "HTMLView",
            "description": "",
            "description_tooltip": null,
            "layout": "IPY_MODEL_cc333500b6234517ad91b89e32a3f1c5",
            "placeholder": "​",
            "style": "IPY_MODEL_7ff910f436724097b938dfe2cabaa30d",
            "value": "Downloading valid.txt: "
          }
        },
        "af51b943fe694d70bdfb1e1c1857c6ba": {
          "model_module": "@jupyter-widgets/controls",
          "model_name": "FloatProgressModel",
          "model_module_version": "1.5.0",
          "state": {
            "_dom_classes": [],
            "_model_module": "@jupyter-widgets/controls",
            "_model_module_version": "1.5.0",
            "_model_name": "FloatProgressModel",
            "_view_count": null,
            "_view_module": "@jupyter-widgets/controls",
            "_view_module_version": "1.5.0",
            "_view_name": "ProgressView",
            "bar_style": "info",
            "description": "",
            "description_tooltip": null,
            "layout": "IPY_MODEL_1f9fb36f288b4bb396accf843eb87ba9",
            "max": 1,
            "min": 0,
            "orientation": "horizontal",
            "style": "IPY_MODEL_865458f9911446a08302580ebaa001c3",
            "value": 1
          }
        },
        "084cfed48d534bbd8a6c816962bb0692": {
          "model_module": "@jupyter-widgets/controls",
          "model_name": "HTMLModel",
          "model_module_version": "1.5.0",
          "state": {
            "_dom_classes": [],
            "_model_module": "@jupyter-widgets/controls",
            "_model_module_version": "1.5.0",
            "_model_name": "HTMLModel",
            "_view_count": null,
            "_view_module": "@jupyter-widgets/controls",
            "_view_module_version": "1.5.0",
            "_view_name": "HTMLView",
            "description": "",
            "description_tooltip": null,
            "layout": "IPY_MODEL_9430fca829c8422fb8d8a577e4a9026d",
            "placeholder": "​",
            "style": "IPY_MODEL_d43dedf532f649b2a6f27fb2b83a3a4e",
            "value": " 8.00k/? [00:00&lt;00:00, 37.7kB/s]"
          }
        },
        "7024a29d8a684eaa900b3d8f07d7edfb": {
          "model_module": "@jupyter-widgets/base",
          "model_name": "LayoutModel",
          "model_module_version": "1.2.0",
          "state": {
            "_model_module": "@jupyter-widgets/base",
            "_model_module_version": "1.2.0",
            "_model_name": "LayoutModel",
            "_view_count": null,
            "_view_module": "@jupyter-widgets/base",
            "_view_module_version": "1.2.0",
            "_view_name": "LayoutView",
            "align_content": null,
            "align_items": null,
            "align_self": null,
            "border": null,
            "bottom": null,
            "display": null,
            "flex": null,
            "flex_flow": null,
            "grid_area": null,
            "grid_auto_columns": null,
            "grid_auto_flow": null,
            "grid_auto_rows": null,
            "grid_column": null,
            "grid_gap": null,
            "grid_row": null,
            "grid_template_areas": null,
            "grid_template_columns": null,
            "grid_template_rows": null,
            "height": null,
            "justify_content": null,
            "justify_items": null,
            "left": null,
            "margin": null,
            "max_height": null,
            "max_width": null,
            "min_height": null,
            "min_width": null,
            "object_fit": null,
            "object_position": null,
            "order": null,
            "overflow": null,
            "overflow_x": null,
            "overflow_y": null,
            "padding": null,
            "right": null,
            "top": null,
            "visibility": "hidden",
            "width": null
          }
        },
        "cc333500b6234517ad91b89e32a3f1c5": {
          "model_module": "@jupyter-widgets/base",
          "model_name": "LayoutModel",
          "model_module_version": "1.2.0",
          "state": {
            "_model_module": "@jupyter-widgets/base",
            "_model_module_version": "1.2.0",
            "_model_name": "LayoutModel",
            "_view_count": null,
            "_view_module": "@jupyter-widgets/base",
            "_view_module_version": "1.2.0",
            "_view_name": "LayoutView",
            "align_content": null,
            "align_items": null,
            "align_self": null,
            "border": null,
            "bottom": null,
            "display": null,
            "flex": null,
            "flex_flow": null,
            "grid_area": null,
            "grid_auto_columns": null,
            "grid_auto_flow": null,
            "grid_auto_rows": null,
            "grid_column": null,
            "grid_gap": null,
            "grid_row": null,
            "grid_template_areas": null,
            "grid_template_columns": null,
            "grid_template_rows": null,
            "height": null,
            "justify_content": null,
            "justify_items": null,
            "left": null,
            "margin": null,
            "max_height": null,
            "max_width": null,
            "min_height": null,
            "min_width": null,
            "object_fit": null,
            "object_position": null,
            "order": null,
            "overflow": null,
            "overflow_x": null,
            "overflow_y": null,
            "padding": null,
            "right": null,
            "top": null,
            "visibility": null,
            "width": null
          }
        },
        "7ff910f436724097b938dfe2cabaa30d": {
          "model_module": "@jupyter-widgets/controls",
          "model_name": "DescriptionStyleModel",
          "model_module_version": "1.5.0",
          "state": {
            "_model_module": "@jupyter-widgets/controls",
            "_model_module_version": "1.5.0",
            "_model_name": "DescriptionStyleModel",
            "_view_count": null,
            "_view_module": "@jupyter-widgets/base",
            "_view_module_version": "1.2.0",
            "_view_name": "StyleView",
            "description_width": ""
          }
        },
        "1f9fb36f288b4bb396accf843eb87ba9": {
          "model_module": "@jupyter-widgets/base",
          "model_name": "LayoutModel",
          "model_module_version": "1.2.0",
          "state": {
            "_model_module": "@jupyter-widgets/base",
            "_model_module_version": "1.2.0",
            "_model_name": "LayoutModel",
            "_view_count": null,
            "_view_module": "@jupyter-widgets/base",
            "_view_module_version": "1.2.0",
            "_view_name": "LayoutView",
            "align_content": null,
            "align_items": null,
            "align_self": null,
            "border": null,
            "bottom": null,
            "display": null,
            "flex": null,
            "flex_flow": null,
            "grid_area": null,
            "grid_auto_columns": null,
            "grid_auto_flow": null,
            "grid_auto_rows": null,
            "grid_column": null,
            "grid_gap": null,
            "grid_row": null,
            "grid_template_areas": null,
            "grid_template_columns": null,
            "grid_template_rows": null,
            "height": null,
            "justify_content": null,
            "justify_items": null,
            "left": null,
            "margin": null,
            "max_height": null,
            "max_width": null,
            "min_height": null,
            "min_width": null,
            "object_fit": null,
            "object_position": null,
            "order": null,
            "overflow": null,
            "overflow_x": null,
            "overflow_y": null,
            "padding": null,
            "right": null,
            "top": null,
            "visibility": null,
            "width": "20px"
          }
        },
        "865458f9911446a08302580ebaa001c3": {
          "model_module": "@jupyter-widgets/controls",
          "model_name": "ProgressStyleModel",
          "model_module_version": "1.5.0",
          "state": {
            "_model_module": "@jupyter-widgets/controls",
            "_model_module_version": "1.5.0",
            "_model_name": "ProgressStyleModel",
            "_view_count": null,
            "_view_module": "@jupyter-widgets/base",
            "_view_module_version": "1.2.0",
            "_view_name": "StyleView",
            "bar_color": null,
            "description_width": ""
          }
        },
        "9430fca829c8422fb8d8a577e4a9026d": {
          "model_module": "@jupyter-widgets/base",
          "model_name": "LayoutModel",
          "model_module_version": "1.2.0",
          "state": {
            "_model_module": "@jupyter-widgets/base",
            "_model_module_version": "1.2.0",
            "_model_name": "LayoutModel",
            "_view_count": null,
            "_view_module": "@jupyter-widgets/base",
            "_view_module_version": "1.2.0",
            "_view_name": "LayoutView",
            "align_content": null,
            "align_items": null,
            "align_self": null,
            "border": null,
            "bottom": null,
            "display": null,
            "flex": null,
            "flex_flow": null,
            "grid_area": null,
            "grid_auto_columns": null,
            "grid_auto_flow": null,
            "grid_auto_rows": null,
            "grid_column": null,
            "grid_gap": null,
            "grid_row": null,
            "grid_template_areas": null,
            "grid_template_columns": null,
            "grid_template_rows": null,
            "height": null,
            "justify_content": null,
            "justify_items": null,
            "left": null,
            "margin": null,
            "max_height": null,
            "max_width": null,
            "min_height": null,
            "min_width": null,
            "object_fit": null,
            "object_position": null,
            "order": null,
            "overflow": null,
            "overflow_x": null,
            "overflow_y": null,
            "padding": null,
            "right": null,
            "top": null,
            "visibility": null,
            "width": null
          }
        },
        "d43dedf532f649b2a6f27fb2b83a3a4e": {
          "model_module": "@jupyter-widgets/controls",
          "model_name": "DescriptionStyleModel",
          "model_module_version": "1.5.0",
          "state": {
            "_model_module": "@jupyter-widgets/controls",
            "_model_module_version": "1.5.0",
            "_model_name": "DescriptionStyleModel",
            "_view_count": null,
            "_view_module": "@jupyter-widgets/base",
            "_view_module_version": "1.2.0",
            "_view_name": "StyleView",
            "description_width": ""
          }
        }
      }
    }
  },
  "nbformat": 4,
  "nbformat_minor": 5
}