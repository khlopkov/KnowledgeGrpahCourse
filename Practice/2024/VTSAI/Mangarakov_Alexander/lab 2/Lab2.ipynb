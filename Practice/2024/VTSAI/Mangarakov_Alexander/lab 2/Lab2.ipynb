{
 "cells": [
  {
   "cell_type": "markdown",
   "id": "2cdaac2eec25c72e",
   "metadata": {
    "collapsed": false,
    "id": "2cdaac2eec25c72e"
   },
   "source": [
    "# Лабораторная работа 2"
   ]
  },
  {
   "cell_type": "markdown",
   "id": "59129d2042514364",
   "metadata": {
    "collapsed": false,
    "id": "59129d2042514364"
   },
   "source": [
    "### Импорт зависимостей"
   ]
  },
  {
   "cell_type": "code",
   "execution_count": null,
   "id": "1ea4d0b5fbecec01",
   "metadata": {
    "id": "1ea4d0b5fbecec01"
   },
   "outputs": [],
   "source": [
    "import gymnasium as gym\n",
    "from stable_baselines3 import SAC, DDPG\n",
    "import matplotlib.pyplot as plt\n",
    "from matplotlib import animation\n",
    "from IPython.display import HTML\n",
    "import numpy as np"
   ]
  },
  {
   "cell_type": "markdown",
   "id": "86389a99264299d7",
   "metadata": {
    "collapsed": false,
    "id": "86389a99264299d7"
   },
   "source": [
    "### Создание среды"
   ]
  },
  {
   "cell_type": "code",
   "execution_count": null,
   "id": "42dc0bdfc1f15d5",
   "metadata": {
    "id": "42dc0bdfc1f15d5"
   },
   "outputs": [],
   "source": [
    "env = gym.make(\"BipedalWalker-v3\" , render_mode='rgb_array')"
   ]
  },
  {
   "cell_type": "code",
   "execution_count": null,
   "id": "dc03bd50f29fc822",
   "metadata": {
    "id": "dc03bd50f29fc822"
   },
   "outputs": [],
   "source": [
    "observation_space = env.observation_space\n",
    "action_space = env.action_space"
   ]
  },
  {
   "cell_type": "markdown",
   "id": "d06b13007efb7231",
   "metadata": {
    "collapsed": false,
    "id": "d06b13007efb7231"
   },
   "source": [
    "### Функция для визуализации результатов работы моделей"
   ]
  },
  {
   "cell_type": "code",
   "execution_count": null,
   "id": "26e61103ca366ade",
   "metadata": {
    "id": "26e61103ca366ade"
   },
   "outputs": [],
   "source": [
    "def visualize(model, env, step_limit=1000):\n",
    "\n",
    "    obs = env.reset()[0]\n",
    "\n",
    "    img = []\n",
    "    step_num = 0\n",
    "    while True:\n",
    "        action, _states = model.predict(obs, deterministic=True)\n",
    "        obs, reward, terminated, truncated, _ = env.step(action)\n",
    "\n",
    "        img.append(env.render())\n",
    "        step_num += 1\n",
    "\n",
    "        if terminated or step_num >= step_limit:\n",
    "            break\n",
    "\n",
    "    dpi = 72\n",
    "    interval = 50 # ms\n",
    "\n",
    "    plt.figure(figsize=(img[0].shape[1]/dpi,img[0].shape[0]/dpi),dpi=dpi)\n",
    "    patch = plt.imshow(img[0])\n",
    "    plt.axis=('off')\n",
    "    animate = lambda i: patch.set_data(img[i])\n",
    "    ani = animation.FuncAnimation(plt.gcf(),animate,frames=len(img),interval=interval)\n",
    "    return HTML(ani.to_jshtml())"
   ]
  },
  {
   "cell_type": "markdown",
   "id": "23671f4fccebb164",
   "metadata": {
    "collapsed": false,
    "id": "23671f4fccebb164"
   },
   "source": [
    "### Функция оценки модели"
   ]
  },
  {
   "cell_type": "code",
   "execution_count": null,
   "id": "1b7cb93b51f9c2df",
   "metadata": {
    "id": "1b7cb93b51f9c2df"
   },
   "outputs": [],
   "source": [
    "def evaluate(model, env, step_limit=1000):\n",
    "\n",
    "    obs = env.reset()[0]\n",
    "\n",
    "    total_reward = 0\n",
    "\n",
    "    step_num = 0\n",
    "    while True:\n",
    "        action, _states = model.predict(obs, deterministic=True)\n",
    "        obs, reward, terminated, truncated, _ = env.step(action)\n",
    "\n",
    "        total_reward += reward\n",
    "        step_num += 1\n",
    "\n",
    "        if terminated or step_num >= step_limit:\n",
    "            break\n",
    "\n",
    "    return total_reward / step_num"
   ]
  },
  {
   "cell_type": "markdown",
   "id": "d03f2105bc425ad9",
   "metadata": {
    "collapsed": false,
    "id": "d03f2105bc425ad9"
   },
   "source": [
    "### Epsilon-Greedy = 0.15"
   ]
  },
  {
   "cell_type": "code",
   "execution_count": null,
   "id": "78d8803951b9b1f7",
   "metadata": {
    "id": "78d8803951b9b1f7",
    "outputId": "f541fe96-d8d3-4f89-bf8f-9bb666c64c31"
   },
   "outputs": [],
   "source": [
    "from stable_baselines3.common.noise import NormalActionNoise, OrnsteinUhlenbeckActionNoise\n",
    "\n",
    "n_actions = env.action_space.shape[-1]\n",
    "action_noise = NormalActionNoise(mean=np.zeros(n_actions), sigma=0.15 * np.ones(n_actions))\n",
    "\n",
    "model = DDPG(\"MlpPolicy\", env, action_noise=action_noise, verbose=1)\n",
    "model.learn(total_timesteps=50000, log_interval=1)\n",
    "model.save(\"ddpg_01\")\n",
    "print(\"Mean reward:\", evaluate(model, env))\n",
    "visualize(model, env)"
   ]
  },
  {
   "cell_type": "markdown",
   "id": "2f38fa73a87863c9",
   "metadata": {
    "collapsed": false,
    "id": "2f38fa73a87863c9"
   },
   "source": [
    "### Epsilon-Greedy = 0.05"
   ]
  },
  {
   "cell_type": "code",
   "execution_count": null,
   "id": "30379f83a99fb253",
   "metadata": {
    "id": "30379f83a99fb253",
    "outputId": "26faca92-219f-4731-f548-2d0f3d6cbd26"
   },
   "outputs": [],
   "source": [
    "action_noise = NormalActionNoise(mean=np.zeros(n_actions), sigma=0.05 * np.ones(n_actions))\n",
    "\n",
    "model = DDPG(\"MlpPolicy\", env, action_noise=action_noise, verbose=1)\n",
    "model.learn(total_timesteps=50000, log_interval=1)\n",
    "model.save(\"ddpg_005\")\n",
    "print(\"Mean reward:\", evaluate(model, env))\n",
    "visualize(model, env)"
   ]
  },
  {
   "cell_type": "markdown",
   "id": "9db6f05bea26897d",
   "metadata": {
    "collapsed": false,
    "id": "9db6f05bea26897d"
   },
   "source": [
    "### Epsilon-Greedy = 0.4"
   ]
  },
  {
   "cell_type": "code",
   "execution_count": null,
   "id": "3dcc5bc629286449",
   "metadata": {
    "id": "3dcc5bc629286449",
    "outputId": "5caecf41-523c-4444-d139-235a0305172f"
   },
   "outputs": [],
   "source": [
    "action_noise = NormalActionNoise(mean=np.zeros(n_actions), sigma=0.4 * np.ones(n_actions))\n",
    "\n",
    "model = DDPG(\"MlpPolicy\", env, action_noise=action_noise, verbose=1)\n",
    "model.learn(total_timesteps=50000, log_interval=1)\n",
    "model.save(\"ddpg_03\")\n",
    "print(\"Mean reward:\", evaluate(model, env))\n",
    "visualize(model, env)"
   ]
  },
  {
   "cell_type": "markdown",
   "id": "5dd12fa0e6ef5e33",
   "metadata": {
    "collapsed": false,
    "id": "5dd12fa0e6ef5e33"
   },
   "source": [
    "### SAC (lr 1e-2)"
   ]
  },
  {
   "cell_type": "code",
   "execution_count": null,
   "id": "e2aa019e3bbbfd7c",
   "metadata": {
    "id": "e2aa019e3bbbfd7c",
    "outputId": "b6739241-c9c5-447c-a7b8-91c52934c651"
   },
   "outputs": [],
   "source": [
    "model = SAC(\"MlpPolicy\", env, verbose=1, learning_rate=1e-2)\n",
    "model.learn(total_timesteps=50000, log_interval=1)\n",
    "model.save(\"sac_1e-2\")\n",
    "print(\"Mean reward:\", evaluate(model, env))\n",
    "visualize(model, env)"
   ]
  },
  {
   "cell_type": "markdown",
   "id": "c4da492c64f0dada",
   "metadata": {
    "collapsed": false,
    "id": "c4da492c64f0dada"
   },
   "source": [
    "### SAC (lr 1e-3)"
   ]
  },
  {
   "cell_type": "code",
   "execution_count": null,
   "id": "b9d28a10e31471e5",
   "metadata": {
    "id": "b9d28a10e31471e5",
    "outputId": "18ff4579-f6a5-4c9d-cb36-91a9558a3491"
   },
   "outputs": [],
   "source": [
    "model = SAC(\"MlpPolicy\", env, verbose=1, learning_rate=1e-3)\n",
    "model.learn(total_timesteps=50000, log_interval=1)\n",
    "model.save(\"sac_1e-3\")\n",
    "print(\"Mean reward:\", evaluate(model, env))\n",
    "visualize(model, env)"
   ]
  },
  {
   "cell_type": "markdown",
   "id": "592d282ad76717af",
   "metadata": {
    "collapsed": false,
    "id": "592d282ad76717af"
   },
   "source": [
    "### SAC (lr 1e-4)"
   ]
  },
  {
   "cell_type": "code",
   "execution_count": null,
   "id": "414986b5b49ba4bb",
   "metadata": {
    "id": "414986b5b49ba4bb",
    "outputId": "512c4b38-59ad-4d4c-f69d-14d59c1a189a"
   },
   "outputs": [],
   "source": [
    "model = SAC(\"MlpPolicy\", env, verbose=1, learning_rate=1e-4)\n",
    "model.learn(total_timesteps=50000, log_interval=1)\n",
    "model.save(\"sac_1e-4\")\n",
    "print(\"Mean reward:\", evaluate(model, env))\n",
    "visualize(model, env)"
   ]
  },
  {
   "cell_type": "markdown",
   "id": "fde73424688257aa",
   "metadata": {
    "collapsed": false,
    "id": "fde73424688257aa"
   },
   "source": [
    "### SAC (lr 1e-5)"
   ]
  },
  {
   "cell_type": "code",
   "execution_count": null,
   "id": "6e826744965ff594",
   "metadata": {
    "id": "6e826744965ff594",
    "outputId": "7d685850-50c3-412c-d7ce-654893b4b5a8"
   },
   "outputs": [],
   "source": [
    "model = SAC(\"MlpPolicy\", env, verbose=1, learning_rate=1e-5)\n",
    "model.learn(total_timesteps=50000, log_interval=1)\n",
    "model.save(\"sac_1e-5\")\n",
    "print(\"Mean reward:\", evaluate(model, env))\n",
    "visualize(model, env)"
   ]
  },
  {
   "cell_type": "code",
   "execution_count": null,
   "id": "521a96ee827ab41b",
   "metadata": {
    "id": "521a96ee827ab41b"
   },
   "outputs": [],
   "source": []
  }
 ],
 "metadata": {
  "kernelspec": {
   "display_name": "Python 3 (ipykernel)",
   "language": "python",
   "name": "python3"
  },
  "language_info": {
   "codemirror_mode": {
    "name": "ipython",
    "version": 3
   },
   "file_extension": ".py",
   "mimetype": "text/x-python",
   "name": "python",
   "nbconvert_exporter": "python",
   "pygments_lexer": "ipython3",
   "version": "3.11.7"
  },
  "colab": {
   "provenance": []
  }
 },
 "nbformat": 4,
 "nbformat_minor": 5
}
