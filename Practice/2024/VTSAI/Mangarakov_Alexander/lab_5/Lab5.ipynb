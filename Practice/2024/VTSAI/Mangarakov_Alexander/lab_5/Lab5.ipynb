{
 "cells": [
  {
   "cell_type": "markdown",
   "id": "NbAA7e2dRX7P",
   "metadata": {
    "id": "NbAA7e2dRX7P"
   },
   "source": [
    "Устанавливаем необходимые для работы зависимости"
   ]
  },
  {
   "cell_type": "code",
   "execution_count": 1,
   "id": "678f20f5",
   "metadata": {
    "ExecuteTime": {
     "end_time": "2024-01-26T17:37:25.453059218Z",
     "start_time": "2024-01-26T17:37:23.847840198Z"
    }
   },
   "outputs": [
    {
     "name": "stdout",
     "output_type": "stream",
     "text": [
      "Requirement already satisfied: pykeen in /home/maxim/workspace/Testing/.venv/lib/python3.10/site-packages (1.10.1)\r\n",
      "Requirement already satisfied: networkx in /home/maxim/workspace/Testing/.venv/lib/python3.10/site-packages (3.2.1)\r\n",
      "Requirement already satisfied: matplotlib in /home/maxim/workspace/Testing/.venv/lib/python3.10/site-packages (3.8.2)\r\n",
      "Requirement already satisfied: seaborn in /home/maxim/workspace/Testing/.venv/lib/python3.10/site-packages (0.13.2)\r\n",
      "Requirement already satisfied: dataclasses-json in /home/maxim/workspace/Testing/.venv/lib/python3.10/site-packages (from pykeen) (0.6.3)\r\n",
      "Requirement already satisfied: numpy in /home/maxim/workspace/Testing/.venv/lib/python3.10/site-packages (from pykeen) (1.26.3)\r\n",
      "Requirement already satisfied: scipy>=1.7.0 in /home/maxim/workspace/Testing/.venv/lib/python3.10/site-packages (from pykeen) (1.12.0)\r\n",
      "Requirement already satisfied: click in /home/maxim/workspace/Testing/.venv/lib/python3.10/site-packages (from pykeen) (8.1.7)\r\n",
      "Requirement already satisfied: click-default-group in /home/maxim/workspace/Testing/.venv/lib/python3.10/site-packages (from pykeen) (1.2.4)\r\n",
      "Requirement already satisfied: scikit-learn in /home/maxim/workspace/Testing/.venv/lib/python3.10/site-packages (from pykeen) (1.4.0)\r\n",
      "Requirement already satisfied: tqdm in /home/maxim/workspace/Testing/.venv/lib/python3.10/site-packages (from pykeen) (4.66.1)\r\n",
      "Requirement already satisfied: requests in /home/maxim/workspace/Testing/.venv/lib/python3.10/site-packages (from pykeen) (2.31.0)\r\n",
      "Requirement already satisfied: optuna>=2.0.0 in /home/maxim/workspace/Testing/.venv/lib/python3.10/site-packages (from pykeen) (3.5.0)\r\n",
      "Requirement already satisfied: pandas>=1.0.0 in /home/maxim/workspace/Testing/.venv/lib/python3.10/site-packages (from pykeen) (2.2.0)\r\n",
      "Requirement already satisfied: tabulate in /home/maxim/workspace/Testing/.venv/lib/python3.10/site-packages (from pykeen) (0.9.0)\r\n",
      "Requirement already satisfied: more-click in /home/maxim/workspace/Testing/.venv/lib/python3.10/site-packages (from pykeen) (0.1.2)\r\n",
      "Requirement already satisfied: more-itertools in /home/maxim/workspace/Testing/.venv/lib/python3.10/site-packages (from pykeen) (10.2.0)\r\n",
      "Requirement already satisfied: pystow>=0.4.3 in /home/maxim/workspace/Testing/.venv/lib/python3.10/site-packages (from pykeen) (0.5.2)\r\n",
      "Requirement already satisfied: docdata in /home/maxim/workspace/Testing/.venv/lib/python3.10/site-packages (from pykeen) (0.0.3)\r\n",
      "Requirement already satisfied: class-resolver>=0.3.10 in /home/maxim/workspace/Testing/.venv/lib/python3.10/site-packages (from pykeen) (0.4.2)\r\n",
      "Requirement already satisfied: pyyaml in /home/maxim/workspace/Testing/.venv/lib/python3.10/site-packages (from pykeen) (6.0.1)\r\n",
      "Requirement already satisfied: rexmex>=0.1.3 in /home/maxim/workspace/Testing/.venv/lib/python3.10/site-packages (from pykeen) (0.1.3)\r\n",
      "Requirement already satisfied: torch-max-mem>=0.0.4 in /home/maxim/workspace/Testing/.venv/lib/python3.10/site-packages (from pykeen) (0.1.3)\r\n",
      "Requirement already satisfied: torch-ppr>=0.0.7 in /home/maxim/workspace/Testing/.venv/lib/python3.10/site-packages (from pykeen) (0.0.8)\r\n",
      "Requirement already satisfied: protobuf<4.0.0 in /home/maxim/workspace/Testing/.venv/lib/python3.10/site-packages (from pykeen) (3.20.3)\r\n",
      "Requirement already satisfied: typing-extensions in /home/maxim/workspace/Testing/.venv/lib/python3.10/site-packages (from pykeen) (4.9.0)\r\n",
      "Requirement already satisfied: torch>=1.10 in /home/maxim/workspace/Testing/.venv/lib/python3.10/site-packages (from pykeen) (2.1.2)\r\n",
      "Requirement already satisfied: contourpy>=1.0.1 in /home/maxim/workspace/Testing/.venv/lib/python3.10/site-packages (from matplotlib) (1.2.0)\r\n",
      "Requirement already satisfied: cycler>=0.10 in /home/maxim/workspace/Testing/.venv/lib/python3.10/site-packages (from matplotlib) (0.12.1)\r\n",
      "Requirement already satisfied: fonttools>=4.22.0 in /home/maxim/workspace/Testing/.venv/lib/python3.10/site-packages (from matplotlib) (4.47.2)\r\n",
      "Requirement already satisfied: kiwisolver>=1.3.1 in /home/maxim/workspace/Testing/.venv/lib/python3.10/site-packages (from matplotlib) (1.4.5)\r\n",
      "Requirement already satisfied: packaging>=20.0 in /home/maxim/workspace/Testing/.venv/lib/python3.10/site-packages (from matplotlib) (23.2)\r\n",
      "Requirement already satisfied: pillow>=8 in /home/maxim/workspace/Testing/.venv/lib/python3.10/site-packages (from matplotlib) (10.2.0)\r\n",
      "Requirement already satisfied: pyparsing>=2.3.1 in /home/maxim/workspace/Testing/.venv/lib/python3.10/site-packages (from matplotlib) (3.1.1)\r\n",
      "Requirement already satisfied: python-dateutil>=2.7 in /home/maxim/workspace/Testing/.venv/lib/python3.10/site-packages (from matplotlib) (2.8.2)\r\n",
      "Requirement already satisfied: alembic>=1.5.0 in /home/maxim/workspace/Testing/.venv/lib/python3.10/site-packages (from optuna>=2.0.0->pykeen) (1.13.1)\r\n",
      "Requirement already satisfied: colorlog in /home/maxim/workspace/Testing/.venv/lib/python3.10/site-packages (from optuna>=2.0.0->pykeen) (6.8.2)\r\n",
      "Requirement already satisfied: sqlalchemy>=1.3.0 in /home/maxim/workspace/Testing/.venv/lib/python3.10/site-packages (from optuna>=2.0.0->pykeen) (2.0.25)\r\n",
      "Requirement already satisfied: pytz>=2020.1 in /home/maxim/workspace/Testing/.venv/lib/python3.10/site-packages (from pandas>=1.0.0->pykeen) (2023.3.post1)\r\n",
      "Requirement already satisfied: tzdata>=2022.7 in /home/maxim/workspace/Testing/.venv/lib/python3.10/site-packages (from pandas>=1.0.0->pykeen) (2023.4)\r\n",
      "Requirement already satisfied: six>=1.5 in /home/maxim/workspace/Testing/.venv/lib/python3.10/site-packages (from python-dateutil>=2.7->matplotlib) (1.16.0)\r\n",
      "Requirement already satisfied: filelock in /home/maxim/workspace/Testing/.venv/lib/python3.10/site-packages (from torch>=1.10->pykeen) (3.13.1)\r\n",
      "Requirement already satisfied: sympy in /home/maxim/workspace/Testing/.venv/lib/python3.10/site-packages (from torch>=1.10->pykeen) (1.12)\r\n",
      "Requirement already satisfied: jinja2 in /home/maxim/workspace/Testing/.venv/lib/python3.10/site-packages (from torch>=1.10->pykeen) (3.1.3)\r\n",
      "Requirement already satisfied: fsspec in /home/maxim/workspace/Testing/.venv/lib/python3.10/site-packages (from torch>=1.10->pykeen) (2023.12.2)\r\n",
      "Requirement already satisfied: nvidia-cuda-nvrtc-cu12==12.1.105 in /home/maxim/workspace/Testing/.venv/lib/python3.10/site-packages (from torch>=1.10->pykeen) (12.1.105)\r\n",
      "Requirement already satisfied: nvidia-cuda-runtime-cu12==12.1.105 in /home/maxim/workspace/Testing/.venv/lib/python3.10/site-packages (from torch>=1.10->pykeen) (12.1.105)\r\n",
      "Requirement already satisfied: nvidia-cuda-cupti-cu12==12.1.105 in /home/maxim/workspace/Testing/.venv/lib/python3.10/site-packages (from torch>=1.10->pykeen) (12.1.105)\r\n",
      "Requirement already satisfied: nvidia-cudnn-cu12==8.9.2.26 in /home/maxim/workspace/Testing/.venv/lib/python3.10/site-packages (from torch>=1.10->pykeen) (8.9.2.26)\r\n",
      "Requirement already satisfied: nvidia-cublas-cu12==12.1.3.1 in /home/maxim/workspace/Testing/.venv/lib/python3.10/site-packages (from torch>=1.10->pykeen) (12.1.3.1)\r\n",
      "Requirement already satisfied: nvidia-cufft-cu12==11.0.2.54 in /home/maxim/workspace/Testing/.venv/lib/python3.10/site-packages (from torch>=1.10->pykeen) (11.0.2.54)\r\n",
      "Requirement already satisfied: nvidia-curand-cu12==10.3.2.106 in /home/maxim/workspace/Testing/.venv/lib/python3.10/site-packages (from torch>=1.10->pykeen) (10.3.2.106)\r\n",
      "Requirement already satisfied: nvidia-cusolver-cu12==11.4.5.107 in /home/maxim/workspace/Testing/.venv/lib/python3.10/site-packages (from torch>=1.10->pykeen) (11.4.5.107)\r\n",
      "Requirement already satisfied: nvidia-cusparse-cu12==12.1.0.106 in /home/maxim/workspace/Testing/.venv/lib/python3.10/site-packages (from torch>=1.10->pykeen) (12.1.0.106)\r\n",
      "Requirement already satisfied: nvidia-nccl-cu12==2.18.1 in /home/maxim/workspace/Testing/.venv/lib/python3.10/site-packages (from torch>=1.10->pykeen) (2.18.1)\r\n",
      "Requirement already satisfied: nvidia-nvtx-cu12==12.1.105 in /home/maxim/workspace/Testing/.venv/lib/python3.10/site-packages (from torch>=1.10->pykeen) (12.1.105)\r\n",
      "Requirement already satisfied: triton==2.1.0 in /home/maxim/workspace/Testing/.venv/lib/python3.10/site-packages (from torch>=1.10->pykeen) (2.1.0)\r\n",
      "Requirement already satisfied: nvidia-nvjitlink-cu12 in /home/maxim/workspace/Testing/.venv/lib/python3.10/site-packages (from nvidia-cusolver-cu12==11.4.5.107->torch>=1.10->pykeen) (12.3.101)\r\n",
      "Requirement already satisfied: marshmallow<4.0.0,>=3.18.0 in /home/maxim/workspace/Testing/.venv/lib/python3.10/site-packages (from dataclasses-json->pykeen) (3.20.2)\r\n",
      "Requirement already satisfied: typing-inspect<1,>=0.4.0 in /home/maxim/workspace/Testing/.venv/lib/python3.10/site-packages (from dataclasses-json->pykeen) (0.9.0)\r\n",
      "Requirement already satisfied: charset-normalizer<4,>=2 in /home/maxim/workspace/Testing/.venv/lib/python3.10/site-packages (from requests->pykeen) (3.3.2)\r\n",
      "Requirement already satisfied: idna<4,>=2.5 in /home/maxim/workspace/Testing/.venv/lib/python3.10/site-packages (from requests->pykeen) (3.6)\r\n",
      "Requirement already satisfied: urllib3<3,>=1.21.1 in /home/maxim/workspace/Testing/.venv/lib/python3.10/site-packages (from requests->pykeen) (2.1.0)\r\n",
      "Requirement already satisfied: certifi>=2017.4.17 in /home/maxim/workspace/Testing/.venv/lib/python3.10/site-packages (from requests->pykeen) (2023.11.17)\r\n",
      "Requirement already satisfied: joblib>=1.2.0 in /home/maxim/workspace/Testing/.venv/lib/python3.10/site-packages (from scikit-learn->pykeen) (1.3.2)\r\n",
      "Requirement already satisfied: threadpoolctl>=2.0.0 in /home/maxim/workspace/Testing/.venv/lib/python3.10/site-packages (from scikit-learn->pykeen) (3.2.0)\r\n",
      "Requirement already satisfied: Mako in /home/maxim/workspace/Testing/.venv/lib/python3.10/site-packages (from alembic>=1.5.0->optuna>=2.0.0->pykeen) (1.3.0)\r\n",
      "Requirement already satisfied: greenlet!=0.4.17 in /home/maxim/workspace/Testing/.venv/lib/python3.10/site-packages (from sqlalchemy>=1.3.0->optuna>=2.0.0->pykeen) (3.0.3)\r\n",
      "Requirement already satisfied: mypy-extensions>=0.3.0 in /home/maxim/workspace/Testing/.venv/lib/python3.10/site-packages (from typing-inspect<1,>=0.4.0->dataclasses-json->pykeen) (1.0.0)\r\n",
      "Requirement already satisfied: MarkupSafe>=2.0 in /home/maxim/workspace/Testing/.venv/lib/python3.10/site-packages (from jinja2->torch>=1.10->pykeen) (2.1.4)\r\n",
      "Requirement already satisfied: mpmath>=0.19 in /home/maxim/workspace/Testing/.venv/lib/python3.10/site-packages (from sympy->torch>=1.10->pykeen) (1.3.0)\r\n"
     ]
    }
   ],
   "source": [
    "!pip install pykeen networkx matplotlib seaborn"
   ]
  },
  {
   "cell_type": "markdown",
   "id": "6f7634ba",
   "metadata": {
    "id": "6f7634ba"
   },
   "source": [
    "Далее, импортируем необходимых модулей"
   ]
  },
  {
   "cell_type": "code",
   "execution_count": 2,
   "id": "e028f8c7",
   "metadata": {
    "ExecuteTime": {
     "end_time": "2024-01-26T17:37:27.692090558Z",
     "start_time": "2024-01-26T17:37:25.451270332Z"
    }
   },
   "outputs": [],
   "source": [
    "import torch\n",
    "import pykeen\n",
    "import numpy as np\n",
    "import networkx as nx\n",
    "import matplotlib.pyplot as plt\n",
    "from pykeen.pipeline import pipeline\n",
    "from sklearn.neighbors import NearestNeighbors\n",
    "from pykeen.evaluation import RankBasedEvaluator\n",
    "from sklearn.metrics.pairwise import cosine_similarity, euclidean_distances, manhattan_distances"
   ]
  },
  {
   "cell_type": "markdown",
   "id": "3b5ca842",
   "metadata": {
    "id": "3b5ca842"
   },
   "source": [
    "Здесь мы устанавливаем необходимые библиотеки и импортируем модули, которые будут использоваться в лабораторной работе."
   ]
  },
  {
   "cell_type": "markdown",
   "id": "c499eb1a",
   "metadata": {
    "id": "c499eb1a"
   },
   "source": [
    "## Взаимодействие с графовым датасетом и описание данных\n",
    "\n",
    "В данной работе мы будем использовать графовый датасет [DBpedia50](https://arxiv.org/abs/1711.03438), предоставляющий собой выборку менее 50 тысяч сущностей из графа dbpedia.\n"
   ]
  },
  {
   "cell_type": "code",
   "execution_count": 3,
   "id": "147c83b7",
   "metadata": {
    "ExecuteTime": {
     "end_time": "2024-01-26T17:37:27.696541789Z",
     "start_time": "2024-01-26T17:37:27.693294847Z"
    }
   },
   "outputs": [],
   "source": [
    "from pykeen.datasets import FB15k"
   ]
  },
  {
   "cell_type": "code",
   "execution_count": 4,
   "id": "2107c8b4",
   "metadata": {
    "ExecuteTime": {
     "end_time": "2024-01-26T17:37:27.708291804Z",
     "start_time": "2024-01-26T17:37:27.696407928Z"
    }
   },
   "outputs": [],
   "source": [
    "# Загрузка графового датасета DBpedia50\n",
    "dbpedia_dataset = FB15k()"
   ]
  },
  {
   "cell_type": "code",
   "execution_count": 5,
   "id": "6f00ce2f",
   "metadata": {
    "ExecuteTime": {
     "end_time": "2024-01-26T17:37:27.710260337Z",
     "start_time": "2024-01-26T17:37:27.702634440Z"
    }
   },
   "outputs": [
    {
     "name": "stdout",
     "output_type": "stream",
     "text": [
      "FB15k(training_path=\"/home/maxim/.data/pykeen/datasets/fb15k/FB15k/freebase_mtr100_mte100-train.txt\", testing_path=\"/home/maxim/.data/pykeen/datasets/fb15k/FB15k/freebase_mtr100_mte100-test.txt\", validation_path=\"/home/maxim/.data/pykeen/datasets/fb15k/FB15k/freebase_mtr100_mte100-valid.txt\")\n"
     ]
    }
   ],
   "source": [
    "# Просмотр описания датасета\n",
    "print(dbpedia_dataset)"
   ]
  },
  {
   "cell_type": "markdown",
   "id": "df7c3f40",
   "metadata": {
    "id": "df7c3f40"
   },
   "source": [
    "# Обучение модели ComplEx на 100 эпохах\n"
   ]
  },
  {
   "cell_type": "markdown",
   "id": "971f2981",
   "metadata": {
    "id": "971f2981"
   },
   "source": [
    "Использеум pipeline() предоставляемый пакетом pykeen для обучения модели, в качестве аргументов указываем тип модели, набор данных, количество эпох обучения и устройство на котором проводится обучений"
   ]
  },
  {
   "cell_type": "markdown",
   "id": "77cd56b4",
   "metadata": {
    "id": "77cd56b4"
   },
   "source": [
    "Проверяем наличие GPU устройства и вызываем функцию pipeline(), которая запускает процесс обучения модели, тестирования и валидации."
   ]
  },
  {
   "cell_type": "code",
   "execution_count": 6,
   "id": "HLz5MBy3kTGe",
   "metadata": {
    "ExecuteTime": {
     "end_time": "2024-01-26T17:37:28.429759433Z",
     "start_time": "2024-01-26T17:37:28.425544715Z"
    }
   },
   "outputs": [
    {
     "name": "stdout",
     "output_type": "stream",
     "text": [
      "Using device: cuda\n"
     ]
    }
   ],
   "source": [
    "import torch\n",
    "device = torch.device(\"cuda\" if torch.cuda.is_available() else \"cpu\")\n",
    "print(f\"Using device: {device}\")"
   ]
  },
  {
   "cell_type": "markdown",
   "id": "aYoXhMaw0yK3",
   "metadata": {
    "id": "aYoXhMaw0yK3"
   },
   "source": [
    "Запускаем пайплайн обучения модели, в этот раз использем модель [ComplEx](https://pykeen.readthedocs.io/en/stable/api/pykeen.models.ComplEx.html)"
   ]
  },
  {
   "cell_type": "code",
   "execution_count": 7,
   "id": "6f827ec4",
   "metadata": {
    "ExecuteTime": {
     "end_time": "2024-01-26T17:58:23.678839338Z",
     "start_time": "2024-01-26T17:37:28.429902672Z"
    }
   },
   "outputs": [
    {
     "name": "stderr",
     "output_type": "stream",
     "text": [
      "No random seed is specified. Setting to 22350757.\n"
     ]
    },
    {
     "data": {
      "text/plain": "Training epochs on cuda:0:   0%|          | 0/100 [00:00<?, ?epoch/s]",
      "application/vnd.jupyter.widget-view+json": {
       "version_major": 2,
       "version_minor": 0,
       "model_id": "285641a76ccc428c9d429db5170a365d"
      }
     },
     "metadata": {},
     "output_type": "display_data"
    },
    {
     "data": {
      "text/plain": "Training batches on cuda:0:   0%|          | 0/1888 [00:00<?, ?batch/s]",
      "application/vnd.jupyter.widget-view+json": {
       "version_major": 2,
       "version_minor": 0,
       "model_id": "69ab8365c8e94107a4775c9befe1509e"
      }
     },
     "metadata": {},
     "output_type": "display_data"
    },
    {
     "data": {
      "text/plain": "Training batches on cuda:0:   0%|          | 0/1888 [00:00<?, ?batch/s]",
      "application/vnd.jupyter.widget-view+json": {
       "version_major": 2,
       "version_minor": 0,
       "model_id": "047d2606512941799ff901a4b109f3df"
      }
     },
     "metadata": {},
     "output_type": "display_data"
    },
    {
     "data": {
      "text/plain": "Training batches on cuda:0:   0%|          | 0/1888 [00:00<?, ?batch/s]",
      "application/vnd.jupyter.widget-view+json": {
       "version_major": 2,
       "version_minor": 0,
       "model_id": "0889d8de74624e458eee9c96e6000e8d"
      }
     },
     "metadata": {},
     "output_type": "display_data"
    },
    {
     "data": {
      "text/plain": "Training batches on cuda:0:   0%|          | 0/1888 [00:00<?, ?batch/s]",
      "application/vnd.jupyter.widget-view+json": {
       "version_major": 2,
       "version_minor": 0,
       "model_id": "b85e29dab1e04c75ad86363105348e1a"
      }
     },
     "metadata": {},
     "output_type": "display_data"
    },
    {
     "data": {
      "text/plain": "Training batches on cuda:0:   0%|          | 0/1888 [00:00<?, ?batch/s]",
      "application/vnd.jupyter.widget-view+json": {
       "version_major": 2,
       "version_minor": 0,
       "model_id": "0415d48a87af4d3eb8d1c46f7ec829fd"
      }
     },
     "metadata": {},
     "output_type": "display_data"
    },
    {
     "data": {
      "text/plain": "Training batches on cuda:0:   0%|          | 0/1888 [00:00<?, ?batch/s]",
      "application/vnd.jupyter.widget-view+json": {
       "version_major": 2,
       "version_minor": 0,
       "model_id": "63f8cde696f94c338f3069bc3a4c409f"
      }
     },
     "metadata": {},
     "output_type": "display_data"
    },
    {
     "data": {
      "text/plain": "Training batches on cuda:0:   0%|          | 0/1888 [00:00<?, ?batch/s]",
      "application/vnd.jupyter.widget-view+json": {
       "version_major": 2,
       "version_minor": 0,
       "model_id": "e55398642cee48ccabe5a1fa3c81bdc1"
      }
     },
     "metadata": {},
     "output_type": "display_data"
    },
    {
     "data": {
      "text/plain": "Training batches on cuda:0:   0%|          | 0/1888 [00:00<?, ?batch/s]",
      "application/vnd.jupyter.widget-view+json": {
       "version_major": 2,
       "version_minor": 0,
       "model_id": "6b5cb02d010b4d538f7c70e23e898ad7"
      }
     },
     "metadata": {},
     "output_type": "display_data"
    },
    {
     "data": {
      "text/plain": "Training batches on cuda:0:   0%|          | 0/1888 [00:00<?, ?batch/s]",
      "application/vnd.jupyter.widget-view+json": {
       "version_major": 2,
       "version_minor": 0,
       "model_id": "2d04f0b513174ad88b59926553d63d27"
      }
     },
     "metadata": {},
     "output_type": "display_data"
    },
    {
     "data": {
      "text/plain": "Training batches on cuda:0:   0%|          | 0/1888 [00:00<?, ?batch/s]",
      "application/vnd.jupyter.widget-view+json": {
       "version_major": 2,
       "version_minor": 0,
       "model_id": "02f8ff53316a49bca8a01ba9a4db36f1"
      }
     },
     "metadata": {},
     "output_type": "display_data"
    },
    {
     "data": {
      "text/plain": "Training batches on cuda:0:   0%|          | 0/1888 [00:00<?, ?batch/s]",
      "application/vnd.jupyter.widget-view+json": {
       "version_major": 2,
       "version_minor": 0,
       "model_id": "0ec0d8f4b8ac44f8bb929ec8942da21d"
      }
     },
     "metadata": {},
     "output_type": "display_data"
    },
    {
     "data": {
      "text/plain": "Training batches on cuda:0:   0%|          | 0/1888 [00:00<?, ?batch/s]",
      "application/vnd.jupyter.widget-view+json": {
       "version_major": 2,
       "version_minor": 0,
       "model_id": "f7e132b86eb84fd0839ed6dc95ec9a97"
      }
     },
     "metadata": {},
     "output_type": "display_data"
    },
    {
     "data": {
      "text/plain": "Training batches on cuda:0:   0%|          | 0/1888 [00:00<?, ?batch/s]",
      "application/vnd.jupyter.widget-view+json": {
       "version_major": 2,
       "version_minor": 0,
       "model_id": "a641781724494893b69c6af71f64a8c5"
      }
     },
     "metadata": {},
     "output_type": "display_data"
    },
    {
     "data": {
      "text/plain": "Training batches on cuda:0:   0%|          | 0/1888 [00:00<?, ?batch/s]",
      "application/vnd.jupyter.widget-view+json": {
       "version_major": 2,
       "version_minor": 0,
       "model_id": "7eec4856a835440ab70839b258b02c68"
      }
     },
     "metadata": {},
     "output_type": "display_data"
    },
    {
     "data": {
      "text/plain": "Training batches on cuda:0:   0%|          | 0/1888 [00:00<?, ?batch/s]",
      "application/vnd.jupyter.widget-view+json": {
       "version_major": 2,
       "version_minor": 0,
       "model_id": "55b6514ab63b4dccbe8290bd7deee6ae"
      }
     },
     "metadata": {},
     "output_type": "display_data"
    },
    {
     "data": {
      "text/plain": "Training batches on cuda:0:   0%|          | 0/1888 [00:00<?, ?batch/s]",
      "application/vnd.jupyter.widget-view+json": {
       "version_major": 2,
       "version_minor": 0,
       "model_id": "fce693381efb486d82ca3e3b57030e10"
      }
     },
     "metadata": {},
     "output_type": "display_data"
    },
    {
     "data": {
      "text/plain": "Training batches on cuda:0:   0%|          | 0/1888 [00:00<?, ?batch/s]",
      "application/vnd.jupyter.widget-view+json": {
       "version_major": 2,
       "version_minor": 0,
       "model_id": "82c1bdd699ed4537b9709971abb1b8c9"
      }
     },
     "metadata": {},
     "output_type": "display_data"
    },
    {
     "data": {
      "text/plain": "Training batches on cuda:0:   0%|          | 0/1888 [00:00<?, ?batch/s]",
      "application/vnd.jupyter.widget-view+json": {
       "version_major": 2,
       "version_minor": 0,
       "model_id": "eeba34886cd1454ab6ed29165af17591"
      }
     },
     "metadata": {},
     "output_type": "display_data"
    },
    {
     "data": {
      "text/plain": "Training batches on cuda:0:   0%|          | 0/1888 [00:00<?, ?batch/s]",
      "application/vnd.jupyter.widget-view+json": {
       "version_major": 2,
       "version_minor": 0,
       "model_id": "8d3581f1bfa14597a29f932afa819319"
      }
     },
     "metadata": {},
     "output_type": "display_data"
    },
    {
     "data": {
      "text/plain": "Training batches on cuda:0:   0%|          | 0/1888 [00:00<?, ?batch/s]",
      "application/vnd.jupyter.widget-view+json": {
       "version_major": 2,
       "version_minor": 0,
       "model_id": "aa5e10d20c244159b195f6cc6683c14d"
      }
     },
     "metadata": {},
     "output_type": "display_data"
    },
    {
     "data": {
      "text/plain": "Training batches on cuda:0:   0%|          | 0/1888 [00:00<?, ?batch/s]",
      "application/vnd.jupyter.widget-view+json": {
       "version_major": 2,
       "version_minor": 0,
       "model_id": "74c1fa27e0ab4ac6aef9e22a27649403"
      }
     },
     "metadata": {},
     "output_type": "display_data"
    },
    {
     "data": {
      "text/plain": "Training batches on cuda:0:   0%|          | 0/1888 [00:00<?, ?batch/s]",
      "application/vnd.jupyter.widget-view+json": {
       "version_major": 2,
       "version_minor": 0,
       "model_id": "df0224b0bb4142e3acc70e73fac04126"
      }
     },
     "metadata": {},
     "output_type": "display_data"
    },
    {
     "data": {
      "text/plain": "Training batches on cuda:0:   0%|          | 0/1888 [00:00<?, ?batch/s]",
      "application/vnd.jupyter.widget-view+json": {
       "version_major": 2,
       "version_minor": 0,
       "model_id": "a26bf8beaba74bfd92a209725213e77e"
      }
     },
     "metadata": {},
     "output_type": "display_data"
    },
    {
     "data": {
      "text/plain": "Training batches on cuda:0:   0%|          | 0/1888 [00:00<?, ?batch/s]",
      "application/vnd.jupyter.widget-view+json": {
       "version_major": 2,
       "version_minor": 0,
       "model_id": "daf8d30ce05342af9b42b21c51dadab1"
      }
     },
     "metadata": {},
     "output_type": "display_data"
    },
    {
     "data": {
      "text/plain": "Training batches on cuda:0:   0%|          | 0/1888 [00:00<?, ?batch/s]",
      "application/vnd.jupyter.widget-view+json": {
       "version_major": 2,
       "version_minor": 0,
       "model_id": "9a9bdc445f944a56aa441558392fcc99"
      }
     },
     "metadata": {},
     "output_type": "display_data"
    },
    {
     "data": {
      "text/plain": "Training batches on cuda:0:   0%|          | 0/1888 [00:00<?, ?batch/s]",
      "application/vnd.jupyter.widget-view+json": {
       "version_major": 2,
       "version_minor": 0,
       "model_id": "e4e553a492534fa38e54dc449a218403"
      }
     },
     "metadata": {},
     "output_type": "display_data"
    },
    {
     "data": {
      "text/plain": "Training batches on cuda:0:   0%|          | 0/1888 [00:00<?, ?batch/s]",
      "application/vnd.jupyter.widget-view+json": {
       "version_major": 2,
       "version_minor": 0,
       "model_id": "ab3738e04eb3405581f34948159732cf"
      }
     },
     "metadata": {},
     "output_type": "display_data"
    },
    {
     "data": {
      "text/plain": "Training batches on cuda:0:   0%|          | 0/1888 [00:00<?, ?batch/s]",
      "application/vnd.jupyter.widget-view+json": {
       "version_major": 2,
       "version_minor": 0,
       "model_id": "c1e696a723854d22bea114135fb62186"
      }
     },
     "metadata": {},
     "output_type": "display_data"
    },
    {
     "data": {
      "text/plain": "Training batches on cuda:0:   0%|          | 0/1888 [00:00<?, ?batch/s]",
      "application/vnd.jupyter.widget-view+json": {
       "version_major": 2,
       "version_minor": 0,
       "model_id": "9d446654d74d41b98c418b88189c4a85"
      }
     },
     "metadata": {},
     "output_type": "display_data"
    },
    {
     "data": {
      "text/plain": "Training batches on cuda:0:   0%|          | 0/1888 [00:00<?, ?batch/s]",
      "application/vnd.jupyter.widget-view+json": {
       "version_major": 2,
       "version_minor": 0,
       "model_id": "6c93cb49a7b44a0fbfa8e2af15f7c0b6"
      }
     },
     "metadata": {},
     "output_type": "display_data"
    },
    {
     "data": {
      "text/plain": "Training batches on cuda:0:   0%|          | 0/1888 [00:00<?, ?batch/s]",
      "application/vnd.jupyter.widget-view+json": {
       "version_major": 2,
       "version_minor": 0,
       "model_id": "abb2f479f2bd4a15889c92a5c3dc9216"
      }
     },
     "metadata": {},
     "output_type": "display_data"
    },
    {
     "data": {
      "text/plain": "Training batches on cuda:0:   0%|          | 0/1888 [00:00<?, ?batch/s]",
      "application/vnd.jupyter.widget-view+json": {
       "version_major": 2,
       "version_minor": 0,
       "model_id": "9b40c1436cff4efdac58e4f7a3671f8a"
      }
     },
     "metadata": {},
     "output_type": "display_data"
    },
    {
     "data": {
      "text/plain": "Training batches on cuda:0:   0%|          | 0/1888 [00:00<?, ?batch/s]",
      "application/vnd.jupyter.widget-view+json": {
       "version_major": 2,
       "version_minor": 0,
       "model_id": "31c599af4555420a9d14cdcd0cc3bd5b"
      }
     },
     "metadata": {},
     "output_type": "display_data"
    },
    {
     "data": {
      "text/plain": "Training batches on cuda:0:   0%|          | 0/1888 [00:00<?, ?batch/s]",
      "application/vnd.jupyter.widget-view+json": {
       "version_major": 2,
       "version_minor": 0,
       "model_id": "a21b46a1a5e64b4ea5a76638633154d9"
      }
     },
     "metadata": {},
     "output_type": "display_data"
    },
    {
     "data": {
      "text/plain": "Training batches on cuda:0:   0%|          | 0/1888 [00:00<?, ?batch/s]",
      "application/vnd.jupyter.widget-view+json": {
       "version_major": 2,
       "version_minor": 0,
       "model_id": "ccc82516267541e1832f00023d5abe94"
      }
     },
     "metadata": {},
     "output_type": "display_data"
    },
    {
     "data": {
      "text/plain": "Training batches on cuda:0:   0%|          | 0/1888 [00:00<?, ?batch/s]",
      "application/vnd.jupyter.widget-view+json": {
       "version_major": 2,
       "version_minor": 0,
       "model_id": "e83aeea78474475792555c4badd93986"
      }
     },
     "metadata": {},
     "output_type": "display_data"
    },
    {
     "data": {
      "text/plain": "Training batches on cuda:0:   0%|          | 0/1888 [00:00<?, ?batch/s]",
      "application/vnd.jupyter.widget-view+json": {
       "version_major": 2,
       "version_minor": 0,
       "model_id": "4193cf9692234b828a38c2dc732953e7"
      }
     },
     "metadata": {},
     "output_type": "display_data"
    },
    {
     "data": {
      "text/plain": "Training batches on cuda:0:   0%|          | 0/1888 [00:00<?, ?batch/s]",
      "application/vnd.jupyter.widget-view+json": {
       "version_major": 2,
       "version_minor": 0,
       "model_id": "5af19ef9282f4af887df882f8449dde4"
      }
     },
     "metadata": {},
     "output_type": "display_data"
    },
    {
     "data": {
      "text/plain": "Training batches on cuda:0:   0%|          | 0/1888 [00:00<?, ?batch/s]",
      "application/vnd.jupyter.widget-view+json": {
       "version_major": 2,
       "version_minor": 0,
       "model_id": "f5e6ff39b1584412ba0d42d7740496a4"
      }
     },
     "metadata": {},
     "output_type": "display_data"
    },
    {
     "data": {
      "text/plain": "Training batches on cuda:0:   0%|          | 0/1888 [00:00<?, ?batch/s]",
      "application/vnd.jupyter.widget-view+json": {
       "version_major": 2,
       "version_minor": 0,
       "model_id": "5bd77395b3d041e0847558cc1fb90abc"
      }
     },
     "metadata": {},
     "output_type": "display_data"
    },
    {
     "data": {
      "text/plain": "Training batches on cuda:0:   0%|          | 0/1888 [00:00<?, ?batch/s]",
      "application/vnd.jupyter.widget-view+json": {
       "version_major": 2,
       "version_minor": 0,
       "model_id": "600ff62afddf4e5c961432749570031f"
      }
     },
     "metadata": {},
     "output_type": "display_data"
    },
    {
     "data": {
      "text/plain": "Training batches on cuda:0:   0%|          | 0/1888 [00:00<?, ?batch/s]",
      "application/vnd.jupyter.widget-view+json": {
       "version_major": 2,
       "version_minor": 0,
       "model_id": "d8c111be954d4f81881d42bb2c413546"
      }
     },
     "metadata": {},
     "output_type": "display_data"
    },
    {
     "data": {
      "text/plain": "Training batches on cuda:0:   0%|          | 0/1888 [00:00<?, ?batch/s]",
      "application/vnd.jupyter.widget-view+json": {
       "version_major": 2,
       "version_minor": 0,
       "model_id": "6868ffb034cc42baa1abcca17da62836"
      }
     },
     "metadata": {},
     "output_type": "display_data"
    },
    {
     "data": {
      "text/plain": "Training batches on cuda:0:   0%|          | 0/1888 [00:00<?, ?batch/s]",
      "application/vnd.jupyter.widget-view+json": {
       "version_major": 2,
       "version_minor": 0,
       "model_id": "faedbab8332d4712b53651c067c097d1"
      }
     },
     "metadata": {},
     "output_type": "display_data"
    },
    {
     "data": {
      "text/plain": "Training batches on cuda:0:   0%|          | 0/1888 [00:00<?, ?batch/s]",
      "application/vnd.jupyter.widget-view+json": {
       "version_major": 2,
       "version_minor": 0,
       "model_id": "15477db88b6a42f1a5d3d66cd434f487"
      }
     },
     "metadata": {},
     "output_type": "display_data"
    },
    {
     "data": {
      "text/plain": "Training batches on cuda:0:   0%|          | 0/1888 [00:00<?, ?batch/s]",
      "application/vnd.jupyter.widget-view+json": {
       "version_major": 2,
       "version_minor": 0,
       "model_id": "b57b6c94295842b2b48f25186607c2cb"
      }
     },
     "metadata": {},
     "output_type": "display_data"
    },
    {
     "data": {
      "text/plain": "Training batches on cuda:0:   0%|          | 0/1888 [00:00<?, ?batch/s]",
      "application/vnd.jupyter.widget-view+json": {
       "version_major": 2,
       "version_minor": 0,
       "model_id": "e3513d0fd1a4435baa1e19ed47f449e6"
      }
     },
     "metadata": {},
     "output_type": "display_data"
    },
    {
     "data": {
      "text/plain": "Training batches on cuda:0:   0%|          | 0/1888 [00:00<?, ?batch/s]",
      "application/vnd.jupyter.widget-view+json": {
       "version_major": 2,
       "version_minor": 0,
       "model_id": "a5756197cde34f3881db1ba0a1a9be36"
      }
     },
     "metadata": {},
     "output_type": "display_data"
    },
    {
     "data": {
      "text/plain": "Training batches on cuda:0:   0%|          | 0/1888 [00:00<?, ?batch/s]",
      "application/vnd.jupyter.widget-view+json": {
       "version_major": 2,
       "version_minor": 0,
       "model_id": "4fcb7437f69046d6ac57f045e1eab1a8"
      }
     },
     "metadata": {},
     "output_type": "display_data"
    },
    {
     "data": {
      "text/plain": "Training batches on cuda:0:   0%|          | 0/1888 [00:00<?, ?batch/s]",
      "application/vnd.jupyter.widget-view+json": {
       "version_major": 2,
       "version_minor": 0,
       "model_id": "d99de90c2bd448b5bb38dcb29ddc8aab"
      }
     },
     "metadata": {},
     "output_type": "display_data"
    },
    {
     "data": {
      "text/plain": "Training batches on cuda:0:   0%|          | 0/1888 [00:00<?, ?batch/s]",
      "application/vnd.jupyter.widget-view+json": {
       "version_major": 2,
       "version_minor": 0,
       "model_id": "e68c510ca4bc4f8b92e98e15503612a2"
      }
     },
     "metadata": {},
     "output_type": "display_data"
    },
    {
     "data": {
      "text/plain": "Training batches on cuda:0:   0%|          | 0/1888 [00:00<?, ?batch/s]",
      "application/vnd.jupyter.widget-view+json": {
       "version_major": 2,
       "version_minor": 0,
       "model_id": "f80f389f8a2648ea8c3ec020bd298a50"
      }
     },
     "metadata": {},
     "output_type": "display_data"
    },
    {
     "data": {
      "text/plain": "Training batches on cuda:0:   0%|          | 0/1888 [00:00<?, ?batch/s]",
      "application/vnd.jupyter.widget-view+json": {
       "version_major": 2,
       "version_minor": 0,
       "model_id": "6fca8d861e2c46869ea263cdecd84099"
      }
     },
     "metadata": {},
     "output_type": "display_data"
    },
    {
     "data": {
      "text/plain": "Training batches on cuda:0:   0%|          | 0/1888 [00:00<?, ?batch/s]",
      "application/vnd.jupyter.widget-view+json": {
       "version_major": 2,
       "version_minor": 0,
       "model_id": "c93f7d428a7242128ea6783e1fadd28c"
      }
     },
     "metadata": {},
     "output_type": "display_data"
    },
    {
     "data": {
      "text/plain": "Training batches on cuda:0:   0%|          | 0/1888 [00:00<?, ?batch/s]",
      "application/vnd.jupyter.widget-view+json": {
       "version_major": 2,
       "version_minor": 0,
       "model_id": "9c5eebbb75b04b429a666ee7e081fa6c"
      }
     },
     "metadata": {},
     "output_type": "display_data"
    },
    {
     "data": {
      "text/plain": "Training batches on cuda:0:   0%|          | 0/1888 [00:00<?, ?batch/s]",
      "application/vnd.jupyter.widget-view+json": {
       "version_major": 2,
       "version_minor": 0,
       "model_id": "da4bc8aeb76143799e1a0422558d3eb0"
      }
     },
     "metadata": {},
     "output_type": "display_data"
    },
    {
     "data": {
      "text/plain": "Training batches on cuda:0:   0%|          | 0/1888 [00:00<?, ?batch/s]",
      "application/vnd.jupyter.widget-view+json": {
       "version_major": 2,
       "version_minor": 0,
       "model_id": "cfd302ec135642f8b72d49481a3774af"
      }
     },
     "metadata": {},
     "output_type": "display_data"
    },
    {
     "data": {
      "text/plain": "Training batches on cuda:0:   0%|          | 0/1888 [00:00<?, ?batch/s]",
      "application/vnd.jupyter.widget-view+json": {
       "version_major": 2,
       "version_minor": 0,
       "model_id": "46726dbe935546a49294ecdc49bb930d"
      }
     },
     "metadata": {},
     "output_type": "display_data"
    },
    {
     "data": {
      "text/plain": "Training batches on cuda:0:   0%|          | 0/1888 [00:00<?, ?batch/s]",
      "application/vnd.jupyter.widget-view+json": {
       "version_major": 2,
       "version_minor": 0,
       "model_id": "3e085f8a581844a390737c486b6e9d62"
      }
     },
     "metadata": {},
     "output_type": "display_data"
    },
    {
     "data": {
      "text/plain": "Training batches on cuda:0:   0%|          | 0/1888 [00:00<?, ?batch/s]",
      "application/vnd.jupyter.widget-view+json": {
       "version_major": 2,
       "version_minor": 0,
       "model_id": "3f433551174a4b048c18434aa6cab4b1"
      }
     },
     "metadata": {},
     "output_type": "display_data"
    },
    {
     "data": {
      "text/plain": "Training batches on cuda:0:   0%|          | 0/1888 [00:00<?, ?batch/s]",
      "application/vnd.jupyter.widget-view+json": {
       "version_major": 2,
       "version_minor": 0,
       "model_id": "cf2918fd9b60439a971db8bbfa521948"
      }
     },
     "metadata": {},
     "output_type": "display_data"
    },
    {
     "data": {
      "text/plain": "Training batches on cuda:0:   0%|          | 0/1888 [00:00<?, ?batch/s]",
      "application/vnd.jupyter.widget-view+json": {
       "version_major": 2,
       "version_minor": 0,
       "model_id": "20f93b44958a492e8b750e059dcaa102"
      }
     },
     "metadata": {},
     "output_type": "display_data"
    },
    {
     "data": {
      "text/plain": "Training batches on cuda:0:   0%|          | 0/1888 [00:00<?, ?batch/s]",
      "application/vnd.jupyter.widget-view+json": {
       "version_major": 2,
       "version_minor": 0,
       "model_id": "f107849b73a14b07870397518707d7e3"
      }
     },
     "metadata": {},
     "output_type": "display_data"
    },
    {
     "data": {
      "text/plain": "Training batches on cuda:0:   0%|          | 0/1888 [00:00<?, ?batch/s]",
      "application/vnd.jupyter.widget-view+json": {
       "version_major": 2,
       "version_minor": 0,
       "model_id": "184cb068a4854ebf8a2e22fece6fcbcb"
      }
     },
     "metadata": {},
     "output_type": "display_data"
    },
    {
     "data": {
      "text/plain": "Training batches on cuda:0:   0%|          | 0/1888 [00:00<?, ?batch/s]",
      "application/vnd.jupyter.widget-view+json": {
       "version_major": 2,
       "version_minor": 0,
       "model_id": "a3ea2d191e9d4bea89eb61d1f497063c"
      }
     },
     "metadata": {},
     "output_type": "display_data"
    },
    {
     "data": {
      "text/plain": "Training batches on cuda:0:   0%|          | 0/1888 [00:00<?, ?batch/s]",
      "application/vnd.jupyter.widget-view+json": {
       "version_major": 2,
       "version_minor": 0,
       "model_id": "613df59427b04e7288916f56b624dc6b"
      }
     },
     "metadata": {},
     "output_type": "display_data"
    },
    {
     "data": {
      "text/plain": "Training batches on cuda:0:   0%|          | 0/1888 [00:00<?, ?batch/s]",
      "application/vnd.jupyter.widget-view+json": {
       "version_major": 2,
       "version_minor": 0,
       "model_id": "0572948e51764121ba88963a41952f2b"
      }
     },
     "metadata": {},
     "output_type": "display_data"
    },
    {
     "data": {
      "text/plain": "Training batches on cuda:0:   0%|          | 0/1888 [00:00<?, ?batch/s]",
      "application/vnd.jupyter.widget-view+json": {
       "version_major": 2,
       "version_minor": 0,
       "model_id": "680c5b175c5e4a1698adb08c77b3b569"
      }
     },
     "metadata": {},
     "output_type": "display_data"
    },
    {
     "data": {
      "text/plain": "Training batches on cuda:0:   0%|          | 0/1888 [00:00<?, ?batch/s]",
      "application/vnd.jupyter.widget-view+json": {
       "version_major": 2,
       "version_minor": 0,
       "model_id": "ad970c5fcce244c49093e85ce28d82e1"
      }
     },
     "metadata": {},
     "output_type": "display_data"
    },
    {
     "data": {
      "text/plain": "Training batches on cuda:0:   0%|          | 0/1888 [00:00<?, ?batch/s]",
      "application/vnd.jupyter.widget-view+json": {
       "version_major": 2,
       "version_minor": 0,
       "model_id": "faaea37f76904ca286399f36332edc29"
      }
     },
     "metadata": {},
     "output_type": "display_data"
    },
    {
     "data": {
      "text/plain": "Training batches on cuda:0:   0%|          | 0/1888 [00:00<?, ?batch/s]",
      "application/vnd.jupyter.widget-view+json": {
       "version_major": 2,
       "version_minor": 0,
       "model_id": "36ee04f54f934c7692bab1cad796a7d6"
      }
     },
     "metadata": {},
     "output_type": "display_data"
    },
    {
     "data": {
      "text/plain": "Training batches on cuda:0:   0%|          | 0/1888 [00:00<?, ?batch/s]",
      "application/vnd.jupyter.widget-view+json": {
       "version_major": 2,
       "version_minor": 0,
       "model_id": "458d47d23baa485aabe4f9da6651cb57"
      }
     },
     "metadata": {},
     "output_type": "display_data"
    },
    {
     "data": {
      "text/plain": "Training batches on cuda:0:   0%|          | 0/1888 [00:00<?, ?batch/s]",
      "application/vnd.jupyter.widget-view+json": {
       "version_major": 2,
       "version_minor": 0,
       "model_id": "f2a8cb30d2844fbf8ce484a7a602532c"
      }
     },
     "metadata": {},
     "output_type": "display_data"
    },
    {
     "data": {
      "text/plain": "Training batches on cuda:0:   0%|          | 0/1888 [00:00<?, ?batch/s]",
      "application/vnd.jupyter.widget-view+json": {
       "version_major": 2,
       "version_minor": 0,
       "model_id": "5427d564504340ea8e6ad3f69e484388"
      }
     },
     "metadata": {},
     "output_type": "display_data"
    },
    {
     "data": {
      "text/plain": "Training batches on cuda:0:   0%|          | 0/1888 [00:00<?, ?batch/s]",
      "application/vnd.jupyter.widget-view+json": {
       "version_major": 2,
       "version_minor": 0,
       "model_id": "29223189c53e4925bf938a009b2a4806"
      }
     },
     "metadata": {},
     "output_type": "display_data"
    },
    {
     "data": {
      "text/plain": "Training batches on cuda:0:   0%|          | 0/1888 [00:00<?, ?batch/s]",
      "application/vnd.jupyter.widget-view+json": {
       "version_major": 2,
       "version_minor": 0,
       "model_id": "290c7eecd78148c0b0a10ae55aaf04a1"
      }
     },
     "metadata": {},
     "output_type": "display_data"
    },
    {
     "data": {
      "text/plain": "Training batches on cuda:0:   0%|          | 0/1888 [00:00<?, ?batch/s]",
      "application/vnd.jupyter.widget-view+json": {
       "version_major": 2,
       "version_minor": 0,
       "model_id": "4f3a0eab11ec434aa0f791213a2920e1"
      }
     },
     "metadata": {},
     "output_type": "display_data"
    },
    {
     "data": {
      "text/plain": "Training batches on cuda:0:   0%|          | 0/1888 [00:00<?, ?batch/s]",
      "application/vnd.jupyter.widget-view+json": {
       "version_major": 2,
       "version_minor": 0,
       "model_id": "89c2a2d9870842ff9224607bada31ead"
      }
     },
     "metadata": {},
     "output_type": "display_data"
    },
    {
     "data": {
      "text/plain": "Training batches on cuda:0:   0%|          | 0/1888 [00:00<?, ?batch/s]",
      "application/vnd.jupyter.widget-view+json": {
       "version_major": 2,
       "version_minor": 0,
       "model_id": "3315573af0654f948572af696f7bae4f"
      }
     },
     "metadata": {},
     "output_type": "display_data"
    },
    {
     "data": {
      "text/plain": "Training batches on cuda:0:   0%|          | 0/1888 [00:00<?, ?batch/s]",
      "application/vnd.jupyter.widget-view+json": {
       "version_major": 2,
       "version_minor": 0,
       "model_id": "c22be775e34a441dae3659845ad7bf49"
      }
     },
     "metadata": {},
     "output_type": "display_data"
    },
    {
     "data": {
      "text/plain": "Training batches on cuda:0:   0%|          | 0/1888 [00:00<?, ?batch/s]",
      "application/vnd.jupyter.widget-view+json": {
       "version_major": 2,
       "version_minor": 0,
       "model_id": "ecd5b9249356435e87c95e09d4a3d883"
      }
     },
     "metadata": {},
     "output_type": "display_data"
    },
    {
     "data": {
      "text/plain": "Training batches on cuda:0:   0%|          | 0/1888 [00:00<?, ?batch/s]",
      "application/vnd.jupyter.widget-view+json": {
       "version_major": 2,
       "version_minor": 0,
       "model_id": "319992b911f4424c8c12dac9c8812998"
      }
     },
     "metadata": {},
     "output_type": "display_data"
    },
    {
     "data": {
      "text/plain": "Training batches on cuda:0:   0%|          | 0/1888 [00:00<?, ?batch/s]",
      "application/vnd.jupyter.widget-view+json": {
       "version_major": 2,
       "version_minor": 0,
       "model_id": "3fe625a39ea041b5a3a49f56db0e5085"
      }
     },
     "metadata": {},
     "output_type": "display_data"
    },
    {
     "data": {
      "text/plain": "Training batches on cuda:0:   0%|          | 0/1888 [00:00<?, ?batch/s]",
      "application/vnd.jupyter.widget-view+json": {
       "version_major": 2,
       "version_minor": 0,
       "model_id": "76c016a8f198493481c0f5c0c537e649"
      }
     },
     "metadata": {},
     "output_type": "display_data"
    },
    {
     "data": {
      "text/plain": "Training batches on cuda:0:   0%|          | 0/1888 [00:00<?, ?batch/s]",
      "application/vnd.jupyter.widget-view+json": {
       "version_major": 2,
       "version_minor": 0,
       "model_id": "379c1bfe9f6d4b8f8b75dc3a58301bfd"
      }
     },
     "metadata": {},
     "output_type": "display_data"
    },
    {
     "data": {
      "text/plain": "Training batches on cuda:0:   0%|          | 0/1888 [00:00<?, ?batch/s]",
      "application/vnd.jupyter.widget-view+json": {
       "version_major": 2,
       "version_minor": 0,
       "model_id": "c1f5a1c7fcec44c8bd083d428afd782e"
      }
     },
     "metadata": {},
     "output_type": "display_data"
    },
    {
     "data": {
      "text/plain": "Training batches on cuda:0:   0%|          | 0/1888 [00:00<?, ?batch/s]",
      "application/vnd.jupyter.widget-view+json": {
       "version_major": 2,
       "version_minor": 0,
       "model_id": "a56e039d21db42c6b9de5c7d0ae0717f"
      }
     },
     "metadata": {},
     "output_type": "display_data"
    },
    {
     "data": {
      "text/plain": "Training batches on cuda:0:   0%|          | 0/1888 [00:00<?, ?batch/s]",
      "application/vnd.jupyter.widget-view+json": {
       "version_major": 2,
       "version_minor": 0,
       "model_id": "30ff14dea705422c870f608f4438d78c"
      }
     },
     "metadata": {},
     "output_type": "display_data"
    },
    {
     "data": {
      "text/plain": "Training batches on cuda:0:   0%|          | 0/1888 [00:00<?, ?batch/s]",
      "application/vnd.jupyter.widget-view+json": {
       "version_major": 2,
       "version_minor": 0,
       "model_id": "aa3b7d18abeb4057ade220eafa434a07"
      }
     },
     "metadata": {},
     "output_type": "display_data"
    },
    {
     "data": {
      "text/plain": "Training batches on cuda:0:   0%|          | 0/1888 [00:00<?, ?batch/s]",
      "application/vnd.jupyter.widget-view+json": {
       "version_major": 2,
       "version_minor": 0,
       "model_id": "12949cb44a1f49919d19cda7b52bd2dd"
      }
     },
     "metadata": {},
     "output_type": "display_data"
    },
    {
     "data": {
      "text/plain": "Training batches on cuda:0:   0%|          | 0/1888 [00:00<?, ?batch/s]",
      "application/vnd.jupyter.widget-view+json": {
       "version_major": 2,
       "version_minor": 0,
       "model_id": "a4b3337d22724c16b9ba57884aa45236"
      }
     },
     "metadata": {},
     "output_type": "display_data"
    },
    {
     "data": {
      "text/plain": "Training batches on cuda:0:   0%|          | 0/1888 [00:00<?, ?batch/s]",
      "application/vnd.jupyter.widget-view+json": {
       "version_major": 2,
       "version_minor": 0,
       "model_id": "b20e45db622045389d05017402ac13fd"
      }
     },
     "metadata": {},
     "output_type": "display_data"
    },
    {
     "data": {
      "text/plain": "Training batches on cuda:0:   0%|          | 0/1888 [00:00<?, ?batch/s]",
      "application/vnd.jupyter.widget-view+json": {
       "version_major": 2,
       "version_minor": 0,
       "model_id": "47be3d43f1f842c8b0baa8508e4cdbaa"
      }
     },
     "metadata": {},
     "output_type": "display_data"
    },
    {
     "data": {
      "text/plain": "Training batches on cuda:0:   0%|          | 0/1888 [00:00<?, ?batch/s]",
      "application/vnd.jupyter.widget-view+json": {
       "version_major": 2,
       "version_minor": 0,
       "model_id": "a1f99dbb1bc94c91a273f59023334d66"
      }
     },
     "metadata": {},
     "output_type": "display_data"
    },
    {
     "data": {
      "text/plain": "Training batches on cuda:0:   0%|          | 0/1888 [00:00<?, ?batch/s]",
      "application/vnd.jupyter.widget-view+json": {
       "version_major": 2,
       "version_minor": 0,
       "model_id": "123c4d621fd54e0ab11b0514ce795954"
      }
     },
     "metadata": {},
     "output_type": "display_data"
    },
    {
     "data": {
      "text/plain": "Training batches on cuda:0:   0%|          | 0/1888 [00:00<?, ?batch/s]",
      "application/vnd.jupyter.widget-view+json": {
       "version_major": 2,
       "version_minor": 0,
       "model_id": "c895845c19eb46e7bf936d688488b78a"
      }
     },
     "metadata": {},
     "output_type": "display_data"
    },
    {
     "data": {
      "text/plain": "Training batches on cuda:0:   0%|          | 0/1888 [00:00<?, ?batch/s]",
      "application/vnd.jupyter.widget-view+json": {
       "version_major": 2,
       "version_minor": 0,
       "model_id": "2d496d55c6c2489cac2a598c532cc76d"
      }
     },
     "metadata": {},
     "output_type": "display_data"
    },
    {
     "data": {
      "text/plain": "Training batches on cuda:0:   0%|          | 0/1888 [00:00<?, ?batch/s]",
      "application/vnd.jupyter.widget-view+json": {
       "version_major": 2,
       "version_minor": 0,
       "model_id": "2b22fd86e6ef4cf39c20fed52d7f024e"
      }
     },
     "metadata": {},
     "output_type": "display_data"
    },
    {
     "data": {
      "text/plain": "Training batches on cuda:0:   0%|          | 0/1888 [00:00<?, ?batch/s]",
      "application/vnd.jupyter.widget-view+json": {
       "version_major": 2,
       "version_minor": 0,
       "model_id": "3d0ce9bfe4eb4fa28a68739bacc80f55"
      }
     },
     "metadata": {},
     "output_type": "display_data"
    },
    {
     "data": {
      "text/plain": "Training batches on cuda:0:   0%|          | 0/1888 [00:00<?, ?batch/s]",
      "application/vnd.jupyter.widget-view+json": {
       "version_major": 2,
       "version_minor": 0,
       "model_id": "83fa195518f442e89562122a9899639d"
      }
     },
     "metadata": {},
     "output_type": "display_data"
    },
    {
     "name": "stderr",
     "output_type": "stream",
     "text": [
      "INFO:pykeen.evaluation.evaluator:Starting batch_size search for evaluation now...\n",
      "INFO:pykeen.evaluation.evaluator:Concluded batch_size search with batch_size=16.\n"
     ]
    },
    {
     "data": {
      "text/plain": "Evaluating on cuda:0:   0%|          | 0.00/59.1k [00:00<?, ?triple/s]",
      "application/vnd.jupyter.widget-view+json": {
       "version_major": 2,
       "version_minor": 0,
       "model_id": "9db06c97c6404d46aa9a7c351e59d5fa"
      }
     },
     "metadata": {},
     "output_type": "display_data"
    },
    {
     "name": "stderr",
     "output_type": "stream",
     "text": [
      "INFO:pykeen.evaluation.evaluator:Evaluation took 42.02s seconds\n"
     ]
    }
   ],
   "source": [
    "# Задаем параметры для pipeline\n",
    "pipeline_results = pipeline(\n",
    "    model=\"ComplEx\",\n",
    "    dataset=dbpedia_dataset,\n",
    "    training_kwargs=dict(num_epochs=100),\n",
    "    device=device\n",
    ")"
   ]
  },
  {
   "cell_type": "markdown",
   "id": "FH-UylfmU3qW",
   "metadata": {
    "id": "FH-UylfmU3qW"
   },
   "source": [
    "\n",
    "В PyKEEN, функция plot_losses используется для визуализации изменения значений функции потерь во времени (по эпохам) в процессе обучения модели. Эта функция часто используется для мониторинга производительности модели во время тренировки и может быть полезной для оценки, насколько хорошо модель учится на обучающем наборе данных.\n"
   ]
  },
  {
   "cell_type": "code",
   "execution_count": 8,
   "id": "f9SlekR_Uguu",
   "metadata": {
    "ExecuteTime": {
     "end_time": "2024-01-26T17:58:23.879309283Z",
     "start_time": "2024-01-26T17:58:23.671684732Z"
    }
   },
   "outputs": [
    {
     "data": {
      "text/plain": "<Axes: title={'center': 'Losses Plot'}, xlabel='Epoch', ylabel='marginranking Loss'>"
     },
     "execution_count": 8,
     "metadata": {},
     "output_type": "execute_result"
    },
    {
     "data": {
      "text/plain": "<Figure size 640x480 with 1 Axes>",
      "image/png": "[encoded data removed]"
     },
     "metadata": {},
     "output_type": "display_data"
    }
   ],
   "source": [
    "# Обученная модель хранится в pipeline_results\n",
    "model = pipeline_results.model\n",
    "\n",
    "#plot loss\n",
    "pipeline_results.plot_losses()"
   ]
  },
  {
   "cell_type": "markdown",
   "id": "RpBkovA7J8aT",
   "metadata": {
    "id": "RpBkovA7J8aT"
   },
   "source": [
    "## Метрики оценки работы модели\n",
    "\n",
    "В PyKEEN пакет metrics предоставляет реализацию различных метрик, которые могут быть использованы для оценки качества работы моделей знаний (knowledge graph embedding models). Эти метрики позволяют оценивать, насколько хорошо модель справляется с предсказанием троек в графе знаний.\n",
    "\n",
    "Некоторые из основных метрик, доступных в пакете metrics:\n",
    "\n",
    "*   Rank-based Metrics - которые измеряют позицию верного ответа (положительной тройки) в отсортированном списке всех возможных троек\n",
    "*   Top-K Metrics - которые оценивают качество предсказаний в топ-K результатах.\n",
    "*   Clustering Metrics - которые измеряют качество кластеризации.\n",
    "\n",
    "Рассчитаем некоторые из них далее."
   ]
  },
  {
   "cell_type": "code",
   "execution_count": 9,
   "id": "HLKH6w0aAeYG",
   "metadata": {
    "ExecuteTime": {
     "end_time": "2024-01-26T17:59:19.522716751Z",
     "start_time": "2024-01-26T17:58:23.879058077Z"
    }
   },
   "outputs": [
    {
     "name": "stderr",
     "output_type": "stream",
     "text": [
      "INFO:pykeen.evaluation.evaluator:Starting batch_size search for evaluation now...\n",
      "INFO:pykeen.evaluation.evaluator:Concluded batch_size search with batch_size=16.\n"
     ]
    },
    {
     "data": {
      "text/plain": "Evaluating on cuda:0:   0%|          | 0.00/59.1k [00:00<?, ?triple/s]",
      "application/vnd.jupyter.widget-view+json": {
       "version_major": 2,
       "version_minor": 0,
       "model_id": "e44274ce687c4066aaa2b9d71a87635f"
      }
     },
     "metadata": {},
     "output_type": "display_data"
    },
    {
     "name": "stderr",
     "output_type": "stream",
     "text": [
      "INFO:pykeen.evaluation.evaluator:Evaluation took 46.89s seconds\n"
     ]
    },
    {
     "name": "stdout",
     "output_type": "stream",
     "text": [
      "Hits@1: 0.07804167865788628\n",
      "Hits@3: 0.15405190364138072\n",
      "Hits@5: 0.2013932386450204\n",
      "Hits@10: 0.2787069797362496\n",
      "Mean Reciprocal Rank: 0.1446741372346878\n"
     ]
    }
   ],
   "source": [
    "# Создаем evaluator объект\n",
    "evaluator = RankBasedEvaluator()\n",
    "\n",
    "# Оценить работу модели\n",
    "metrics = evaluator.evaluate(pipeline_results.model, dbpedia_dataset.testing.mapped_triples,\n",
    "                             additional_filter_triples=[dbpedia_dataset.training.mapped_triples,\n",
    "                                                        dbpedia_dataset.validation.mapped_triples])\n",
    "\n",
    "# Print the metrics\n",
    "print(f\"Hits@1: {metrics.get_metric('hits@1')}\")\n",
    "print(f\"Hits@3: {metrics.get_metric('hits@3')}\")\n",
    "print(f\"Hits@5: {metrics.get_metric('hits@5')}\")\n",
    "print(f\"Hits@10: {metrics.get_metric('hits@10')}\")\n",
    "print(f\"Mean Reciprocal Rank: {metrics.get_metric('mean_reciprocal_rank')}\")"
   ]
  },
  {
   "cell_type": "markdown",
   "id": "_kzrnI2ut7Uk",
   "metadata": {
    "id": "_kzrnI2ut7Uk"
   },
   "source": [
    "## Получение представлений узлов"
   ]
  },
  {
   "cell_type": "markdown",
   "id": "XIQ8JQ6qV1Va",
   "metadata": {
    "id": "XIQ8JQ6qV1Va"
   },
   "source": [
    "После того как модель обучена, мы можем полчить представления узлов и отношений из результатов работы пайплайна."
   ]
  },
  {
   "cell_type": "code",
   "execution_count": 10,
   "id": "fwnsqFyBt6Na",
   "metadata": {
    "ExecuteTime": {
     "end_time": "2024-01-26T17:59:19.566941417Z",
     "start_time": "2024-01-26T17:59:19.524448017Z"
    }
   },
   "outputs": [],
   "source": [
    "node_embeddings = pipeline_results.model.entity_representations\n",
    "\n",
    "embedding_matrix = node_embeddings[0]._embeddings.weight.data\n",
    "\n",
    "# Конвертируем матрицу весов в NumPy array\n",
    "embedding_numpy = embedding_matrix.cpu().numpy()"
   ]
  },
  {
   "cell_type": "markdown",
   "id": "K1b8LioDu7NI",
   "metadata": {
    "id": "K1b8LioDu7NI"
   },
   "source": [
    "Мы извлекаем представления узлов из обученной модели. В этом контексте, представления узлов - это векторы, представляющие сущности в графе.\n"
   ]
  },
  {
   "cell_type": "markdown",
   "id": "FAIauQGFWKwd",
   "metadata": {
    "id": "FAIauQGFWKwd"
   },
   "source": [
    "Далее извлечем лейблы для сущнойстей и визуализируем некоторые из сущностей на плоскости."
   ]
  },
  {
   "cell_type": "code",
   "execution_count": 11,
   "id": "1tA1kxj6u7de",
   "metadata": {
    "ExecuteTime": {
     "end_time": "2024-01-26T17:59:19.725485375Z",
     "start_time": "2024-01-26T17:59:19.566834926Z"
    }
   },
   "outputs": [
    {
     "data": {
      "text/plain": "<Figure size 1000x800 with 1 Axes>",
      "image/png": "[encoded data removed]"
     },
     "metadata": {},
     "output_type": "display_data"
    }
   ],
   "source": [
    "#Созраняем названия сущностей в отдельной переменной\n",
    "id_to_lable = list(dbpedia_dataset.testing.entity_id_to_label.values())\n",
    "\n",
    "def visualize_embeddings(embeddings, labels):\n",
    "    # Scatter plot\n",
    "    plt.figure(figsize=(10, 8))\n",
    "    plt.scatter(embeddings[:, 0], embeddings[:, 1], c=np.arange(len(labels)), cmap='viridis', s=25)\n",
    "\n",
    "    # Добавляем лейблы к точкаи на графике\n",
    "    for i, label in enumerate(labels):\n",
    "        plt.annotate(label, (embeddings[i, 0], embeddings[i, 1]), alpha=1)\n",
    "\n",
    "    plt.title('Точечная диаграмма представлений')\n",
    "    plt.show()\n",
    "\n",
    "#Количество точек которые необходимо отобразить на графике\n",
    "number = 25\n",
    "\n",
    "visualize_embeddings(embedding_numpy[:number], id_to_lable[:number])"
   ]
  },
  {
   "cell_type": "markdown",
   "id": "ATIn2jyOwPrh",
   "metadata": {
    "id": "ATIn2jyOwPrh"
   },
   "source": [
    "Мы используем NetworkX и Matplotlib для визуализации представлений узлов на графе. Каждая сущность представлена точкой в двумерном пространстве, и близкие точки соответствуют похожим узлам в графе.\n"
   ]
  },
  {
   "cell_type": "markdown",
   "id": "92WYnqfTwV07",
   "metadata": {
    "id": "92WYnqfTwV07"
   },
   "source": [
    "## Измерение Node Similarity\n",
    "\n",
    "Добавим код для измерения близости узлов на основе представлений. Расчитаем близость между несколькими случайными узлами. Используем для этого косинусную схожесть, манхэттенское и евклидово расстояние. Визуализируем полученные результаты как матрицу близости.\n"
   ]
  },
  {
   "cell_type": "code",
   "execution_count": 13,
   "id": "tGd7j6OewX4H",
   "metadata": {
    "ExecuteTime": {
     "end_time": "2024-01-26T18:01:29.289927447Z",
     "start_time": "2024-01-26T18:01:28.694070732Z"
    }
   },
   "outputs": [
    {
     "name": "stdout",
     "output_type": "stream",
     "text": [
      "[[ 0.       15.637672 17.244972 17.251188]\n",
      " [15.637672  0.       23.799467 22.217339]\n",
      " [17.244972 23.799467  0.       23.803463]\n",
      " [17.251188 22.217339 23.803463  0.      ]]\n"
     ]
    },
    {
     "data": {
      "text/plain": "<Figure size 800x800 with 2 Axes>",
      "image/png": "[encoded data removed]"
     },
     "metadata": {},
     "output_type": "display_data"
    },
    {
     "name": "stdout",
     "output_type": "stream",
     "text": [
      "[[ 0.9999999  -0.00345517  0.05951827 -0.0497946 ]\n",
      " [-0.00345517  1.         -0.04673169  0.08080155]\n",
      " [ 0.05951827 -0.04673169  0.99999994  0.04343323]\n",
      " [-0.0497946   0.08080155  0.04343323  0.99999976]]\n"
     ]
    },
    {
     "data": {
      "text/plain": "<Figure size 800x800 with 2 Axes>",
      "image/png": "[encoded data removed]"
     },
     "metadata": {},
     "output_type": "display_data"
    },
    {
     "name": "stdout",
     "output_type": "stream",
     "text": [
      "[[  0.         252.72880812 268.20991448 275.63711954]\n",
      " [252.72880812   0.         385.50847205 342.97671352]\n",
      " [268.20991448 385.50847205   0.         385.90780397]\n",
      " [275.63711954 342.97671352 385.90780397   0.        ]]\n"
     ]
    },
    {
     "data": {
      "text/plain": "<Figure size 800x800 with 2 Axes>",
      "image/png": "[encoded data removed]"
     },
     "metadata": {},
     "output_type": "display_data"
    }
   ],
   "source": [
    "def diplay_matrix(similarity_matrix):\n",
    "  # Визуализация матрицы близости\n",
    "  plt.figure(figsize=(8, 8))\n",
    "  plt.imshow(similarity_matrix, cmap='viridis', interpolation='nearest')\n",
    "  plt.colorbar()\n",
    "  plt.title('Node Similarity Matrix')\n",
    "  plt.show()\n",
    "\n",
    "\n",
    "# Рассчет близости между узлами\n",
    "methods = [euclidean_distances,cosine_similarity,manhattan_distances]\n",
    "#Узлы\n",
    "nodes = [embedding_numpy[1324],embedding_numpy[12240],embedding_numpy[4543],embedding_numpy[7242]]\n",
    "for method in methods:\n",
    "  similarity_matrix = method(nodes)\n",
    "  print(similarity_matrix)\n",
    "  diplay_matrix(similarity_matrix)"
   ]
  },
  {
   "cell_type": "markdown",
   "id": "fXT9QW6Qwc-X",
   "metadata": {
    "id": "fXT9QW6Qwc-X"
   },
   "source": [
    "Этот код использует euclidean_distances,cosine_similarity и manhattan_distances из scikit-learn для вычисления матрицы близости между узлами на основе их представлений. Затем мы визуализируем эту матрицу для наглядного представления Node Similarity."
   ]
  },
  {
   "cell_type": "markdown",
   "id": "7A2FAGRTwf-B",
   "metadata": {
    "id": "7A2FAGRTwf-B"
   },
   "source": [
    "## Поиск соседей узла\n",
    "Одной из задач где используется схожесть узлов является задача поиска ближайших соседей конкретного узла в графе.\n",
    "Рассмотрии применение NearestNeighbors на созданных представлениях с использованием только что рассмотренных методов рассчета близости."
   ]
  },
  {
   "cell_type": "code",
   "execution_count": 14,
   "id": "LxwmgryVwjWb",
   "metadata": {
    "ExecuteTime": {
     "end_time": "2024-01-26T18:01:31.242885161Z",
     "start_time": "2024-01-26T18:01:31.104072594Z"
    }
   },
   "outputs": [
    {
     "name": "stdout",
     "output_type": "stream",
     "text": [
      "Метрика:nan_euclidean\n",
      "Дистанции:[[2.3841858e-07 1.5493086e+01 1.5527471e+01 1.5543561e+01]]\n",
      "Индексы:[[  517  7456 13346  2240]]\n",
      "Ближайшие соседи узла /m/015mrk: ['/m/015mrk', '/m/049vhf', '/m/0j__m', '/m/01nvdc'] \n",
      "\n",
      "Метрика:cosine\n",
      "Дистанции:[[0.        0.7186457 0.7307321 0.747646 ]]\n",
      "Индексы:[[  517  1733  9474 11334]]\n",
      "Ближайшие соседи узла /m/015mrk: ['/m/015mrk', '/m/01hgwkr', '/m/06rgq', '/m/0bqsy'] \n",
      "\n",
      "Метрика:manhattan\n",
      "Дистанции:[[  0.         245.84286499 245.93019104 246.18638611]]\n",
      "Индексы:[[  517 14437  2991 13048]]\n",
      "Ближайшие соседи узла /m/015mrk: ['/m/015mrk', '/m/0ps1q', '/m/01wx7k', '/m/0gyr_7'] \n"
     ]
    }
   ],
   "source": [
    "# Выбираем случайный узел\n",
    "random_node_index = 517\n",
    "methods = ['nan_euclidean','cosine','manhattan']\n",
    "def nearest_nodes(method):\n",
    "  nn_model = NearestNeighbors(n_neighbors=4, metric=method)\n",
    "  nn_model.fit(embedding_numpy)\n",
    "  distances, indices = nn_model.kneighbors([embedding_numpy[random_node_index]])\n",
    "  print('Метрика:'+method )\n",
    "  print(f'Дистанции:{distances}' )\n",
    "  print(f'Индексы:{indices}' )\n",
    "  # Визуализация ближайших соседей\n",
    "  neighbors_labels = [id_to_lable[i] for i in indices.flatten()]\n",
    "  print(f\"Ближайшие соседи узла {id_to_lable[random_node_index]}: {neighbors_labels} \\n\")\n",
    "\n",
    "for method in methods: nearest_nodes(method)"
   ]
  },
  {
   "cell_type": "code",
   "execution_count": 15,
   "id": "k1ZU7o0SjKA6",
   "metadata": {
    "ExecuteTime": {
     "end_time": "2024-01-26T18:01:31.433685828Z",
     "start_time": "2024-01-26T18:01:31.316987410Z"
    }
   },
   "outputs": [
    {
     "name": "stdout",
     "output_type": "stream",
     "text": [
      "Метрика:nan_euclidean\n",
      "Дистанции:[[2.3841858e-07 1.2415047e+01 1.2450486e+01 1.2459221e+01]]\n",
      "Индексы:[[ 2738 11100  6172  9827]]\n",
      "Ближайшие соседи узла /m/01vcnl: ['/m/01vcnl', '/m/0b256b', '/m/03cwqpm', '/m/07b8m1'] \n",
      "\n",
      "Метрика:cosine\n",
      "Дистанции:[[0.         0.7401142  0.74925923 0.7655916 ]]\n",
      "Индексы:[[ 2738  6172 11100  9827]]\n",
      "Ближайшие соседи узла /m/01vcnl: ['/m/01vcnl', '/m/03cwqpm', '/m/0b256b', '/m/07b8m1'] \n",
      "\n",
      "Метрика:manhattan\n",
      "Дистанции:[[  0.         188.98616028 189.43945312 190.06274414]]\n",
      "Индексы:[[2738 6966 9827 9316]]\n",
      "Ближайшие соседи узла /m/01vcnl: ['/m/01vcnl', '/m/03yhgp', '/m/07b8m1', '/m/06jwys'] \n"
     ]
    }
   ],
   "source": [
    "# Выбираем второй случайный узел\n",
    "random_node_index = 2738\n",
    "methods = ['nan_euclidean','cosine','manhattan']\n",
    "def nearest_nodes(method):\n",
    "  nn_model = NearestNeighbors(n_neighbors=4, metric=method)\n",
    "  nn_model.fit(embedding_numpy)\n",
    "  distances, indices = nn_model.kneighbors([embedding_numpy[random_node_index]])\n",
    "  print('Метрика:'+method )\n",
    "  print(f'Дистанции:{distances}' )\n",
    "  print(f'Индексы:{indices}' )\n",
    "  # Визуализация ближайших соседей\n",
    "  neighbors_labels = [id_to_lable[i] for i in indices.flatten()]\n",
    "  print(f\"Ближайшие соседи узла {id_to_lable[random_node_index]}: {neighbors_labels} \\n\")\n",
    "\n",
    "for method in methods: nearest_nodes(method)"
   ]
  },
  {
   "cell_type": "markdown",
   "source": [
    "## Эксперименты"
   ],
   "metadata": {
    "collapsed": false
   },
   "id": "250befd15e471b00"
  },
  {
   "cell_type": "markdown",
   "source": [
    "Для экспериментов была выбрана модель HolE, \n",
    "\n",
    "Сравните эффективность модели выше и HolE в предсказании отношений и измерении Node Similarity."
   ],
   "metadata": {
    "collapsed": false
   },
   "id": "f79a82774ba02478"
  },
  {
   "cell_type": "markdown",
   "id": "d-QG-GJbg-Yt",
   "metadata": {
    "id": "d-QG-GJbg-Yt"
   },
   "source": [
    "# Модель ComplEx на 20 эпохах обучений"
   ]
  },
  {
   "cell_type": "code",
   "execution_count": 16,
   "id": "vpt2-7m2g0dk",
   "metadata": {
    "ExecuteTime": {
     "end_time": "2024-01-26T18:07:35.938386096Z",
     "start_time": "2024-01-26T18:01:31.919081050Z"
    }
   },
   "outputs": [
    {
     "name": "stderr",
     "output_type": "stream",
     "text": [
      "WARNING:pykeen.pipeline.api:No random seed is specified. Setting to 356050174.\n",
      "INFO:pykeen.pipeline.api:Using device: cuda\n"
     ]
    },
    {
     "data": {
      "text/plain": "Training epochs on cuda:0:   0%|          | 0/20 [00:00<?, ?epoch/s]",
      "application/vnd.jupyter.widget-view+json": {
       "version_major": 2,
       "version_minor": 0,
       "model_id": "8e61e8f61f994ce3ab41191f9bddb5a8"
      }
     },
     "metadata": {},
     "output_type": "display_data"
    },
    {
     "data": {
      "text/plain": "Training batches on cuda:0:   0%|          | 0/1888 [00:00<?, ?batch/s]",
      "application/vnd.jupyter.widget-view+json": {
       "version_major": 2,
       "version_minor": 0,
       "model_id": "8d323168253e4fb0b23e59ca47952523"
      }
     },
     "metadata": {},
     "output_type": "display_data"
    },
    {
     "data": {
      "text/plain": "Training batches on cuda:0:   0%|          | 0/1888 [00:00<?, ?batch/s]",
      "application/vnd.jupyter.widget-view+json": {
       "version_major": 2,
       "version_minor": 0,
       "model_id": "8b6295d2fdd247f99ecb75aeccb50651"
      }
     },
     "metadata": {},
     "output_type": "display_data"
    },
    {
     "data": {
      "text/plain": "Training batches on cuda:0:   0%|          | 0/1888 [00:00<?, ?batch/s]",
      "application/vnd.jupyter.widget-view+json": {
       "version_major": 2,
       "version_minor": 0,
       "model_id": "ef74f8d51fa34627808482dbadcb885d"
      }
     },
     "metadata": {},
     "output_type": "display_data"
    },
    {
     "data": {
      "text/plain": "Training batches on cuda:0:   0%|          | 0/1888 [00:00<?, ?batch/s]",
      "application/vnd.jupyter.widget-view+json": {
       "version_major": 2,
       "version_minor": 0,
       "model_id": "b86976645dd94d8a8777f86a2e63e44f"
      }
     },
     "metadata": {},
     "output_type": "display_data"
    },
    {
     "data": {
      "text/plain": "Training batches on cuda:0:   0%|          | 0/1888 [00:00<?, ?batch/s]",
      "application/vnd.jupyter.widget-view+json": {
       "version_major": 2,
       "version_minor": 0,
       "model_id": "34670b384ebf41e5a6bfb50717fb185d"
      }
     },
     "metadata": {},
     "output_type": "display_data"
    },
    {
     "data": {
      "text/plain": "Training batches on cuda:0:   0%|          | 0/1888 [00:00<?, ?batch/s]",
      "application/vnd.jupyter.widget-view+json": {
       "version_major": 2,
       "version_minor": 0,
       "model_id": "86bba338a35147b58deb4d04531160e8"
      }
     },
     "metadata": {},
     "output_type": "display_data"
    },
    {
     "data": {
      "text/plain": "Training batches on cuda:0:   0%|          | 0/1888 [00:00<?, ?batch/s]",
      "application/vnd.jupyter.widget-view+json": {
       "version_major": 2,
       "version_minor": 0,
       "model_id": "2b7d25cd2c9a45edba000b5103784048"
      }
     },
     "metadata": {},
     "output_type": "display_data"
    },
    {
     "data": {
      "text/plain": "Training batches on cuda:0:   0%|          | 0/1888 [00:00<?, ?batch/s]",
      "application/vnd.jupyter.widget-view+json": {
       "version_major": 2,
       "version_minor": 0,
       "model_id": "f9740a38535949b98471231b2c919a98"
      }
     },
     "metadata": {},
     "output_type": "display_data"
    },
    {
     "data": {
      "text/plain": "Training batches on cuda:0:   0%|          | 0/1888 [00:00<?, ?batch/s]",
      "application/vnd.jupyter.widget-view+json": {
       "version_major": 2,
       "version_minor": 0,
       "model_id": "776f2eb5b5894747b2433f3d62e086a8"
      }
     },
     "metadata": {},
     "output_type": "display_data"
    },
    {
     "data": {
      "text/plain": "Training batches on cuda:0:   0%|          | 0/1888 [00:00<?, ?batch/s]",
      "application/vnd.jupyter.widget-view+json": {
       "version_major": 2,
       "version_minor": 0,
       "model_id": "ce2f02b7d24f4f7f8d9c877331255582"
      }
     },
     "metadata": {},
     "output_type": "display_data"
    },
    {
     "data": {
      "text/plain": "Training batches on cuda:0:   0%|          | 0/1888 [00:00<?, ?batch/s]",
      "application/vnd.jupyter.widget-view+json": {
       "version_major": 2,
       "version_minor": 0,
       "model_id": "cf8ab839113747f2aac74366ad5c4815"
      }
     },
     "metadata": {},
     "output_type": "display_data"
    },
    {
     "data": {
      "text/plain": "Training batches on cuda:0:   0%|          | 0/1888 [00:00<?, ?batch/s]",
      "application/vnd.jupyter.widget-view+json": {
       "version_major": 2,
       "version_minor": 0,
       "model_id": "aff233d4eb0c41b6baa5281fac3aec45"
      }
     },
     "metadata": {},
     "output_type": "display_data"
    },
    {
     "data": {
      "text/plain": "Training batches on cuda:0:   0%|          | 0/1888 [00:00<?, ?batch/s]",
      "application/vnd.jupyter.widget-view+json": {
       "version_major": 2,
       "version_minor": 0,
       "model_id": "a5f9cd7c953746528513a1f1f03d0726"
      }
     },
     "metadata": {},
     "output_type": "display_data"
    },
    {
     "data": {
      "text/plain": "Training batches on cuda:0:   0%|          | 0/1888 [00:00<?, ?batch/s]",
      "application/vnd.jupyter.widget-view+json": {
       "version_major": 2,
       "version_minor": 0,
       "model_id": "d543b7866b414a09a0035481ad77e1df"
      }
     },
     "metadata": {},
     "output_type": "display_data"
    },
    {
     "data": {
      "text/plain": "Training batches on cuda:0:   0%|          | 0/1888 [00:00<?, ?batch/s]",
      "application/vnd.jupyter.widget-view+json": {
       "version_major": 2,
       "version_minor": 0,
       "model_id": "7a65dc2d71874d7ea7327dd524967ca5"
      }
     },
     "metadata": {},
     "output_type": "display_data"
    },
    {
     "data": {
      "text/plain": "Training batches on cuda:0:   0%|          | 0/1888 [00:00<?, ?batch/s]",
      "application/vnd.jupyter.widget-view+json": {
       "version_major": 2,
       "version_minor": 0,
       "model_id": "29421e4b47a34fc3b2a3a178e29b3dcf"
      }
     },
     "metadata": {},
     "output_type": "display_data"
    },
    {
     "data": {
      "text/plain": "Training batches on cuda:0:   0%|          | 0/1888 [00:00<?, ?batch/s]",
      "application/vnd.jupyter.widget-view+json": {
       "version_major": 2,
       "version_minor": 0,
       "model_id": "b5063817dafa41cdb5b288ade887588a"
      }
     },
     "metadata": {},
     "output_type": "display_data"
    },
    {
     "data": {
      "text/plain": "Training batches on cuda:0:   0%|          | 0/1888 [00:00<?, ?batch/s]",
      "application/vnd.jupyter.widget-view+json": {
       "version_major": 2,
       "version_minor": 0,
       "model_id": "1d29d5eaaa534de2879a44948b7fe065"
      }
     },
     "metadata": {},
     "output_type": "display_data"
    },
    {
     "data": {
      "text/plain": "Training batches on cuda:0:   0%|          | 0/1888 [00:00<?, ?batch/s]",
      "application/vnd.jupyter.widget-view+json": {
       "version_major": 2,
       "version_minor": 0,
       "model_id": "72e44445a5fb41eca5021ecb9da22ff2"
      }
     },
     "metadata": {},
     "output_type": "display_data"
    },
    {
     "data": {
      "text/plain": "Training batches on cuda:0:   0%|          | 0/1888 [00:00<?, ?batch/s]",
      "application/vnd.jupyter.widget-view+json": {
       "version_major": 2,
       "version_minor": 0,
       "model_id": "39b5f88874ec4645975301d462900b42"
      }
     },
     "metadata": {},
     "output_type": "display_data"
    },
    {
     "name": "stderr",
     "output_type": "stream",
     "text": [
      "INFO:pykeen.evaluation.evaluator:Starting batch_size search for evaluation now...\n",
      "INFO:pykeen.evaluation.evaluator:Concluded batch_size search with batch_size=16.\n"
     ]
    },
    {
     "data": {
      "text/plain": "Evaluating on cuda:0:   0%|          | 0.00/59.1k [00:00<?, ?triple/s]",
      "application/vnd.jupyter.widget-view+json": {
       "version_major": 2,
       "version_minor": 0,
       "model_id": "53ab9265944a4ec1b6b067be373477c2"
      }
     },
     "metadata": {},
     "output_type": "display_data"
    },
    {
     "name": "stderr",
     "output_type": "stream",
     "text": [
      "INFO:pykeen.evaluation.evaluator:Evaluation took 44.67s seconds\n"
     ]
    }
   ],
   "source": [
    "pipeline_results = pipeline(\n",
    "    model=\"ComplEx\",\n",
    "    dataset=dbpedia_dataset,\n",
    "    training_kwargs=dict(num_epochs=20),\n",
    "    device=device\n",
    ")"
   ]
  },
  {
   "cell_type": "code",
   "execution_count": 17,
   "id": "-1cXQa79hfXw",
   "metadata": {
    "ExecuteTime": {
     "end_time": "2024-01-26T18:07:36.114839945Z",
     "start_time": "2024-01-26T18:07:35.951435286Z"
    }
   },
   "outputs": [
    {
     "data": {
      "text/plain": "<Axes: title={'center': 'Losses Plot'}, xlabel='Epoch', ylabel='marginranking Loss'>"
     },
     "execution_count": 17,
     "metadata": {},
     "output_type": "execute_result"
    },
    {
     "data": {
      "text/plain": "<Figure size 640x480 with 1 Axes>",
      "image/png": "[encoded data removed]"
     },
     "metadata": {},
     "output_type": "display_data"
    }
   ],
   "source": [
    "pipeline_results.plot_losses()"
   ]
  },
  {
   "cell_type": "code",
   "execution_count": 18,
   "id": "RvyXfEc4hf-8",
   "metadata": {
    "ExecuteTime": {
     "end_time": "2024-01-26T18:08:28.755846565Z",
     "start_time": "2024-01-26T18:07:36.116789245Z"
    }
   },
   "outputs": [
    {
     "name": "stderr",
     "output_type": "stream",
     "text": [
      "INFO:pykeen.evaluation.evaluator:Starting batch_size search for evaluation now...\n",
      "INFO:pykeen.evaluation.evaluator:Concluded batch_size search with batch_size=16.\n"
     ]
    },
    {
     "data": {
      "text/plain": "Evaluating on cuda:0:   0%|          | 0.00/59.1k [00:00<?, ?triple/s]",
      "application/vnd.jupyter.widget-view+json": {
       "version_major": 2,
       "version_minor": 0,
       "model_id": "24d2170d5b13473381ec6e738a16777b"
      }
     },
     "metadata": {},
     "output_type": "display_data"
    },
    {
     "name": "stderr",
     "output_type": "stream",
     "text": [
      "INFO:pykeen.evaluation.evaluator:Evaluation took 43.63s seconds\n"
     ]
    },
    {
     "name": "stdout",
     "output_type": "stream",
     "text": [
      "Hits@1: 0.006712261515803016\n",
      "Hits@3: 0.01599769768583569\n",
      "Hits@5: 0.02213438066056102\n",
      "Hits@10: 0.03467860709993059\n",
      "Mean Reciprocal Rank: 0.018129849806427956\n"
     ]
    }
   ],
   "source": [
    "# Создаем evaluator объект\n",
    "evaluator = RankBasedEvaluator()\n",
    "model_v2 = pipeline_results.model\n",
    "\n",
    "# Оценить работу модели\n",
    "metrics = evaluator.evaluate(model_v2, dbpedia_dataset.testing.mapped_triples,\n",
    "                             additional_filter_triples=[dbpedia_dataset.training.mapped_triples,\n",
    "                                                        dbpedia_dataset.validation.mapped_triples])\n",
    "\n",
    "# Print the metrics\n",
    "print(f\"Hits@1: {metrics.get_metric('hits@1')}\")\n",
    "print(f\"Hits@3: {metrics.get_metric('hits@3')}\")\n",
    "print(f\"Hits@5: {metrics.get_metric('hits@5')}\")\n",
    "print(f\"Hits@10: {metrics.get_metric('hits@10')}\")\n",
    "print(f\"Mean Reciprocal Rank: {metrics.get_metric('mean_reciprocal_rank')}\")"
   ]
  },
  {
   "cell_type": "code",
   "execution_count": 19,
   "id": "0jP1X87kh5Uj",
   "metadata": {
    "ExecuteTime": {
     "end_time": "2024-01-26T18:08:28.756480475Z",
     "start_time": "2024-01-26T18:08:28.754885585Z"
    }
   },
   "outputs": [],
   "source": [
    "node_embeddings = model_v2.entity_representations\n",
    "\n",
    "embedding_matrix = node_embeddings[0]._embeddings.weight.data\n",
    "\n",
    "# Конвертируем матрицу весов в NumPy array\n",
    "embedding_numpy = embedding_matrix.cpu().numpy()"
   ]
  },
  {
   "cell_type": "code",
   "execution_count": 20,
   "id": "90GmXwKRh-Wy",
   "metadata": {
    "ExecuteTime": {
     "end_time": "2024-01-26T18:08:28.901740825Z",
     "start_time": "2024-01-26T18:08:28.755049365Z"
    }
   },
   "outputs": [
    {
     "data": {
      "text/plain": "<Figure size 1000x800 with 1 Axes>",
      "image/png": "[encoded data removed]"
     },
     "metadata": {},
     "output_type": "display_data"
    }
   ],
   "source": [
    "#Созраняем названия сущностей в отдельной переменной\n",
    "id_to_lable = list(dbpedia_dataset.testing.entity_id_to_label.values())\n",
    "\n",
    "#Количество точек которые необходимо отобразить на графике\n",
    "number = 25\n",
    "\n",
    "visualize_embeddings(embedding_numpy[:number], id_to_lable[:number])"
   ]
  },
  {
   "cell_type": "code",
   "execution_count": 21,
   "id": "yV-db2-AiSvG",
   "metadata": {
    "ExecuteTime": {
     "end_time": "2024-01-26T18:08:29.103617628Z",
     "start_time": "2024-01-26T18:08:28.900338431Z"
    }
   },
   "outputs": [
    {
     "name": "stdout",
     "output_type": "stream",
     "text": [
      "Метрика:nan_euclidean\n",
      "Дистанции:[[ 0.       22.127115 22.610144 23.305634]]\n",
      "Индексы:[[  678 10505 10504 12764]]\n",
      "Ближайшие соседи узла /m/016k6x: ['/m/016k6x', '/m/08mbj5d', '/m/08mbj32', '/m/0g8g6'] \n",
      "\n",
      "Метрика:cosine\n",
      "Дистанции:[[2.3841858e-07 7.9606235e-01 7.9832649e-01 8.0675799e-01]]\n",
      "Индексы:[[  678 12279 12764  5828]]\n",
      "Ближайшие соседи узла /m/016k6x: ['/m/016k6x', '/m/0f1jhc', '/m/0g8g6', '/m/034ls'] \n",
      "\n",
      "Метрика:manhattan\n",
      "Дистанции:[[  0.         354.72567749 369.59909058 372.68280029]]\n",
      "Индексы:[[  678 10505 10504  9479]]\n",
      "Ближайшие соседи узла /m/016k6x: ['/m/016k6x', '/m/08mbj5d', '/m/08mbj32', '/m/06rkl'] \n"
     ]
    }
   ],
   "source": [
    "# Выбираем случайный узел\n",
    "random_node_index = 678\n",
    "methods = ['nan_euclidean','cosine','manhattan']\n",
    "def nearest_nodes(method):\n",
    "  nn_model = NearestNeighbors(n_neighbors=4, metric=method)\n",
    "  nn_model.fit(embedding_numpy)\n",
    "  distances, indices = nn_model.kneighbors([embedding_numpy[random_node_index]])\n",
    "  print('Метрика:'+method )\n",
    "  print(f'Дистанции:{distances}' )\n",
    "  print(f'Индексы:{indices}' )\n",
    "  # Визуализация ближайших соседей\n",
    "  neighbors_labels = [id_to_lable[i] for i in indices.flatten()]\n",
    "  print(f\"Ближайшие соседи узла {id_to_lable[random_node_index]}: {neighbors_labels} \\n\")\n",
    "\n",
    "for method in methods: nearest_nodes(method)"
   ]
  },
  {
   "cell_type": "code",
   "execution_count": 22,
   "id": "jQg2hAcijT38",
   "metadata": {
    "ExecuteTime": {
     "end_time": "2024-01-26T18:08:29.207777648Z",
     "start_time": "2024-01-26T18:08:29.102781506Z"
    }
   },
   "outputs": [
    {
     "name": "stdout",
     "output_type": "stream",
     "text": [
      "Метрика:nan_euclidean\n",
      "Дистанции:[[ 0.       22.346127 23.820166 23.983608]]\n",
      "Индексы:[[   43 10505 10504  5336]]\n",
      "Ближайшие соседи узла /m/011s0: ['/m/011s0', '/m/08mbj5d', '/m/08mbj32', '/m/02vxfw_'] \n",
      "\n",
      "Метрика:cosine\n",
      "Дистанции:[[5.9604645e-08 7.9115367e-01 8.1217963e-01 8.1505072e-01]]\n",
      "Индексы:[[   43  8196 14780  3793]]\n",
      "Ближайшие соседи узла /m/011s0: ['/m/011s0', '/m/053j4w4', '/m/0x25q', '/m/026vcc'] \n",
      "Метрика:manhattan\n",
      "Дистанции:[[  0.         359.17050171 376.4821167  376.71179199]]\n",
      "Индексы:[[   43 10505  5336  6387]]\n",
      "Ближайшие соседи узла /m/011s0: ['/m/011s0', '/m/08mbj5d', '/m/02vxfw_', '/m/03hjv97'] \n"
     ]
    }
   ],
   "source": [
    "# Выбираем второй случайный узел\n",
    "random_node_index = 43\n",
    "methods = ['nan_euclidean','cosine','manhattan']\n",
    "def nearest_nodes(method):\n",
    "  nn_model = NearestNeighbors(n_neighbors=4, metric=method)\n",
    "  nn_model.fit(embedding_numpy)\n",
    "  distances, indices = nn_model.kneighbors([embedding_numpy[random_node_index]])\n",
    "  print('Метрика:'+method )\n",
    "  print(f'Дистанции:{distances}' )\n",
    "  print(f'Индексы:{indices}' )\n",
    "  # Визуализация ближайших соседей\n",
    "  neighbors_labels = [id_to_lable[i] for i in indices.flatten()]\n",
    "  print(f\"Ближайшие соседи узла {id_to_lable[random_node_index]}: {neighbors_labels} \\n\")\n",
    "\n",
    "for method in methods: nearest_nodes(method)"
   ]
  },
  {
   "cell_type": "markdown",
   "id": "zmULZ6G0iZMN",
   "metadata": {
    "id": "zmULZ6G0iZMN"
   },
   "source": [
    "# Модель HolE, число эпох 100"
   ]
  },
  {
   "cell_type": "code",
   "execution_count": 23,
   "id": "eURINYd2iVSs",
   "metadata": {
    "ExecuteTime": {
     "end_time": "2024-01-26T18:24:56.288935528Z",
     "start_time": "2024-01-26T18:08:29.208398884Z"
    }
   },
   "outputs": [
    {
     "name": "stderr",
     "output_type": "stream",
     "text": [
      "WARNING:pykeen.pipeline.api:No random seed is specified. Setting to 645941853.\n",
      "INFO:pykeen.pipeline.api:Using device: cuda\n"
     ]
    },
    {
     "data": {
      "text/plain": "Training epochs on cuda:0:   0%|          | 0/100 [00:00<?, ?epoch/s]",
      "application/vnd.jupyter.widget-view+json": {
       "version_major": 2,
       "version_minor": 0,
       "model_id": "92187b41f6f14d249b807d3508f9c5ac"
      }
     },
     "metadata": {},
     "output_type": "display_data"
    },
    {
     "data": {
      "text/plain": "Training batches on cuda:0:   0%|          | 0/1888 [00:00<?, ?batch/s]",
      "application/vnd.jupyter.widget-view+json": {
       "version_major": 2,
       "version_minor": 0,
       "model_id": "7290dec9516348f0843a66fe9d35335b"
      }
     },
     "metadata": {},
     "output_type": "display_data"
    },
    {
     "data": {
      "text/plain": "Training batches on cuda:0:   0%|          | 0/1888 [00:00<?, ?batch/s]",
      "application/vnd.jupyter.widget-view+json": {
       "version_major": 2,
       "version_minor": 0,
       "model_id": "709042f77f274930ac0d7d56403875b2"
      }
     },
     "metadata": {},
     "output_type": "display_data"
    },
    {
     "data": {
      "text/plain": "Training batches on cuda:0:   0%|          | 0/1888 [00:00<?, ?batch/s]",
      "application/vnd.jupyter.widget-view+json": {
       "version_major": 2,
       "version_minor": 0,
       "model_id": "96ed5883d22d411da5f116f07571575a"
      }
     },
     "metadata": {},
     "output_type": "display_data"
    },
    {
     "data": {
      "text/plain": "Training batches on cuda:0:   0%|          | 0/1888 [00:00<?, ?batch/s]",
      "application/vnd.jupyter.widget-view+json": {
       "version_major": 2,
       "version_minor": 0,
       "model_id": "43c76cbb6132400790b0315a1881591a"
      }
     },
     "metadata": {},
     "output_type": "display_data"
    },
    {
     "data": {
      "text/plain": "Training batches on cuda:0:   0%|          | 0/1888 [00:00<?, ?batch/s]",
      "application/vnd.jupyter.widget-view+json": {
       "version_major": 2,
       "version_minor": 0,
       "model_id": "dda738f91ca246bf8e60ec2a7e90e8d3"
      }
     },
     "metadata": {},
     "output_type": "display_data"
    },
    {
     "data": {
      "text/plain": "Training batches on cuda:0:   0%|          | 0/1888 [00:00<?, ?batch/s]",
      "application/vnd.jupyter.widget-view+json": {
       "version_major": 2,
       "version_minor": 0,
       "model_id": "ad2fb88bde5649fb97c1286a6ce66ffe"
      }
     },
     "metadata": {},
     "output_type": "display_data"
    },
    {
     "data": {
      "text/plain": "Training batches on cuda:0:   0%|          | 0/1888 [00:00<?, ?batch/s]",
      "application/vnd.jupyter.widget-view+json": {
       "version_major": 2,
       "version_minor": 0,
       "model_id": "17a64687ae7f4293a88aa20f6f522fdc"
      }
     },
     "metadata": {},
     "output_type": "display_data"
    },
    {
     "data": {
      "text/plain": "Training batches on cuda:0:   0%|          | 0/1888 [00:00<?, ?batch/s]",
      "application/vnd.jupyter.widget-view+json": {
       "version_major": 2,
       "version_minor": 0,
       "model_id": "a0c16d9dc2a7484bb5cbe9e1c284c28e"
      }
     },
     "metadata": {},
     "output_type": "display_data"
    },
    {
     "data": {
      "text/plain": "Training batches on cuda:0:   0%|          | 0/1888 [00:00<?, ?batch/s]",
      "application/vnd.jupyter.widget-view+json": {
       "version_major": 2,
       "version_minor": 0,
       "model_id": "bfce9b79fdc146ebbdd1bbd1ce942007"
      }
     },
     "metadata": {},
     "output_type": "display_data"
    },
    {
     "data": {
      "text/plain": "Training batches on cuda:0:   0%|          | 0/1888 [00:00<?, ?batch/s]",
      "application/vnd.jupyter.widget-view+json": {
       "version_major": 2,
       "version_minor": 0,
       "model_id": "bf95ea66ed494776981cdc4ecf41ebba"
      }
     },
     "metadata": {},
     "output_type": "display_data"
    },
    {
     "data": {
      "text/plain": "Training batches on cuda:0:   0%|          | 0/1888 [00:00<?, ?batch/s]",
      "application/vnd.jupyter.widget-view+json": {
       "version_major": 2,
       "version_minor": 0,
       "model_id": "c01910ebc8cf42c3826c219a529352b1"
      }
     },
     "metadata": {},
     "output_type": "display_data"
    },
    {
     "data": {
      "text/plain": "Training batches on cuda:0:   0%|          | 0/1888 [00:00<?, ?batch/s]",
      "application/vnd.jupyter.widget-view+json": {
       "version_major": 2,
       "version_minor": 0,
       "model_id": "5dea09d1add64fdabed6d690d95b7d34"
      }
     },
     "metadata": {},
     "output_type": "display_data"
    },
    {
     "data": {
      "text/plain": "Training batches on cuda:0:   0%|          | 0/1888 [00:00<?, ?batch/s]",
      "application/vnd.jupyter.widget-view+json": {
       "version_major": 2,
       "version_minor": 0,
       "model_id": "3c0aa165c8e84df4854b79b336f283b7"
      }
     },
     "metadata": {},
     "output_type": "display_data"
    },
    {
     "data": {
      "text/plain": "Training batches on cuda:0:   0%|          | 0/1888 [00:00<?, ?batch/s]",
      "application/vnd.jupyter.widget-view+json": {
       "version_major": 2,
       "version_minor": 0,
       "model_id": "6a5798faf7fc4ac78c637c4fb2898072"
      }
     },
     "metadata": {},
     "output_type": "display_data"
    },
    {
     "data": {
      "text/plain": "Training batches on cuda:0:   0%|          | 0/1888 [00:00<?, ?batch/s]",
      "application/vnd.jupyter.widget-view+json": {
       "version_major": 2,
       "version_minor": 0,
       "model_id": "ce1045eabb8644b8bae235f7a91a0fab"
      }
     },
     "metadata": {},
     "output_type": "display_data"
    },
    {
     "data": {
      "text/plain": "Training batches on cuda:0:   0%|          | 0/1888 [00:00<?, ?batch/s]",
      "application/vnd.jupyter.widget-view+json": {
       "version_major": 2,
       "version_minor": 0,
       "model_id": "3d50814e620f4ae09d5f277fea8486d4"
      }
     },
     "metadata": {},
     "output_type": "display_data"
    },
    {
     "data": {
      "text/plain": "Training batches on cuda:0:   0%|          | 0/1888 [00:00<?, ?batch/s]",
      "application/vnd.jupyter.widget-view+json": {
       "version_major": 2,
       "version_minor": 0,
       "model_id": "8bb523a09dd34343bc4e4e069ce39e91"
      }
     },
     "metadata": {},
     "output_type": "display_data"
    },
    {
     "data": {
      "text/plain": "Training batches on cuda:0:   0%|          | 0/1888 [00:00<?, ?batch/s]",
      "application/vnd.jupyter.widget-view+json": {
       "version_major": 2,
       "version_minor": 0,
       "model_id": "1fc0579e74244e55b2e1bd39b14f4123"
      }
     },
     "metadata": {},
     "output_type": "display_data"
    },
    {
     "data": {
      "text/plain": "Training batches on cuda:0:   0%|          | 0/1888 [00:00<?, ?batch/s]",
      "application/vnd.jupyter.widget-view+json": {
       "version_major": 2,
       "version_minor": 0,
       "model_id": "5d5be70141e24b1aae923016c6ae0eab"
      }
     },
     "metadata": {},
     "output_type": "display_data"
    },
    {
     "data": {
      "text/plain": "Training batches on cuda:0:   0%|          | 0/1888 [00:00<?, ?batch/s]",
      "application/vnd.jupyter.widget-view+json": {
       "version_major": 2,
       "version_minor": 0,
       "model_id": "4f9ca54531da43638d97757771f57587"
      }
     },
     "metadata": {},
     "output_type": "display_data"
    },
    {
     "data": {
      "text/plain": "Training batches on cuda:0:   0%|          | 0/1888 [00:00<?, ?batch/s]",
      "application/vnd.jupyter.widget-view+json": {
       "version_major": 2,
       "version_minor": 0,
       "model_id": "1c8b637dbb9f465eb33b942e9adaf1ff"
      }
     },
     "metadata": {},
     "output_type": "display_data"
    },
    {
     "data": {
      "text/plain": "Training batches on cuda:0:   0%|          | 0/1888 [00:00<?, ?batch/s]",
      "application/vnd.jupyter.widget-view+json": {
       "version_major": 2,
       "version_minor": 0,
       "model_id": "ec72d0c2c2f94e9180341a6aa4721738"
      }
     },
     "metadata": {},
     "output_type": "display_data"
    },
    {
     "data": {
      "text/plain": "Training batches on cuda:0:   0%|          | 0/1888 [00:00<?, ?batch/s]",
      "application/vnd.jupyter.widget-view+json": {
       "version_major": 2,
       "version_minor": 0,
       "model_id": "9a340c7758ff40ea830be848522bd9f1"
      }
     },
     "metadata": {},
     "output_type": "display_data"
    },
    {
     "data": {
      "text/plain": "Training batches on cuda:0:   0%|          | 0/1888 [00:00<?, ?batch/s]",
      "application/vnd.jupyter.widget-view+json": {
       "version_major": 2,
       "version_minor": 0,
       "model_id": "1a0120c5a3b74c35a8f07f7d27d281b7"
      }
     },
     "metadata": {},
     "output_type": "display_data"
    },
    {
     "data": {
      "text/plain": "Training batches on cuda:0:   0%|          | 0/1888 [00:00<?, ?batch/s]",
      "application/vnd.jupyter.widget-view+json": {
       "version_major": 2,
       "version_minor": 0,
       "model_id": "d6e5165976e54e4aa45508e2cde3958c"
      }
     },
     "metadata": {},
     "output_type": "display_data"
    },
    {
     "data": {
      "text/plain": "Training batches on cuda:0:   0%|          | 0/1888 [00:00<?, ?batch/s]",
      "application/vnd.jupyter.widget-view+json": {
       "version_major": 2,
       "version_minor": 0,
       "model_id": "42dc5563f6ae409ab235f60eebb8dabb"
      }
     },
     "metadata": {},
     "output_type": "display_data"
    },
    {
     "data": {
      "text/plain": "Training batches on cuda:0:   0%|          | 0/1888 [00:00<?, ?batch/s]",
      "application/vnd.jupyter.widget-view+json": {
       "version_major": 2,
       "version_minor": 0,
       "model_id": "719de43f0bf6472bba75db9439f1a645"
      }
     },
     "metadata": {},
     "output_type": "display_data"
    },
    {
     "data": {
      "text/plain": "Training batches on cuda:0:   0%|          | 0/1888 [00:00<?, ?batch/s]",
      "application/vnd.jupyter.widget-view+json": {
       "version_major": 2,
       "version_minor": 0,
       "model_id": "396274bf291548a2a752a006f6883a63"
      }
     },
     "metadata": {},
     "output_type": "display_data"
    },
    {
     "data": {
      "text/plain": "Training batches on cuda:0:   0%|          | 0/1888 [00:00<?, ?batch/s]",
      "application/vnd.jupyter.widget-view+json": {
       "version_major": 2,
       "version_minor": 0,
       "model_id": "e418d95e1f954f69b89cbe59c9ea37ad"
      }
     },
     "metadata": {},
     "output_type": "display_data"
    },
    {
     "data": {
      "text/plain": "Training batches on cuda:0:   0%|          | 0/1888 [00:00<?, ?batch/s]",
      "application/vnd.jupyter.widget-view+json": {
       "version_major": 2,
       "version_minor": 0,
       "model_id": "91fb26614f5c4cb6bcf6487aac06eaf6"
      }
     },
     "metadata": {},
     "output_type": "display_data"
    },
    {
     "data": {
      "text/plain": "Training batches on cuda:0:   0%|          | 0/1888 [00:00<?, ?batch/s]",
      "application/vnd.jupyter.widget-view+json": {
       "version_major": 2,
       "version_minor": 0,
       "model_id": "f956889626c545d0b67a3c3c694a1b03"
      }
     },
     "metadata": {},
     "output_type": "display_data"
    },
    {
     "data": {
      "text/plain": "Training batches on cuda:0:   0%|          | 0/1888 [00:00<?, ?batch/s]",
      "application/vnd.jupyter.widget-view+json": {
       "version_major": 2,
       "version_minor": 0,
       "model_id": "9a47919961954f73be180ea92ba6f04a"
      }
     },
     "metadata": {},
     "output_type": "display_data"
    },
    {
     "data": {
      "text/plain": "Training batches on cuda:0:   0%|          | 0/1888 [00:00<?, ?batch/s]",
      "application/vnd.jupyter.widget-view+json": {
       "version_major": 2,
       "version_minor": 0,
       "model_id": "50a6148c0adc40ccb1adbaddb6c832c5"
      }
     },
     "metadata": {},
     "output_type": "display_data"
    },
    {
     "data": {
      "text/plain": "Training batches on cuda:0:   0%|          | 0/1888 [00:00<?, ?batch/s]",
      "application/vnd.jupyter.widget-view+json": {
       "version_major": 2,
       "version_minor": 0,
       "model_id": "650c35a9b7b14a9c80770299b9255770"
      }
     },
     "metadata": {},
     "output_type": "display_data"
    },
    {
     "data": {
      "text/plain": "Training batches on cuda:0:   0%|          | 0/1888 [00:00<?, ?batch/s]",
      "application/vnd.jupyter.widget-view+json": {
       "version_major": 2,
       "version_minor": 0,
       "model_id": "41e8c95f642c4ddc9e21e3074e66b26f"
      }
     },
     "metadata": {},
     "output_type": "display_data"
    },
    {
     "data": {
      "text/plain": "Training batches on cuda:0:   0%|          | 0/1888 [00:00<?, ?batch/s]",
      "application/vnd.jupyter.widget-view+json": {
       "version_major": 2,
       "version_minor": 0,
       "model_id": "843e22fb9d664becaf0b35a1bac4ea29"
      }
     },
     "metadata": {},
     "output_type": "display_data"
    },
    {
     "data": {
      "text/plain": "Training batches on cuda:0:   0%|          | 0/1888 [00:00<?, ?batch/s]",
      "application/vnd.jupyter.widget-view+json": {
       "version_major": 2,
       "version_minor": 0,
       "model_id": "09a15e55b8334cd9a953db8a6c154004"
      }
     },
     "metadata": {},
     "output_type": "display_data"
    },
    {
     "data": {
      "text/plain": "Training batches on cuda:0:   0%|          | 0/1888 [00:00<?, ?batch/s]",
      "application/vnd.jupyter.widget-view+json": {
       "version_major": 2,
       "version_minor": 0,
       "model_id": "60c737e3e13b42609de4f4c47934036a"
      }
     },
     "metadata": {},
     "output_type": "display_data"
    },
    {
     "data": {
      "text/plain": "Training batches on cuda:0:   0%|          | 0/1888 [00:00<?, ?batch/s]",
      "application/vnd.jupyter.widget-view+json": {
       "version_major": 2,
       "version_minor": 0,
       "model_id": "f6c4fe6f2ed04de5be83e18d54a711fa"
      }
     },
     "metadata": {},
     "output_type": "display_data"
    },
    {
     "data": {
      "text/plain": "Training batches on cuda:0:   0%|          | 0/1888 [00:00<?, ?batch/s]",
      "application/vnd.jupyter.widget-view+json": {
       "version_major": 2,
       "version_minor": 0,
       "model_id": "8d8affc1e3314e5f967d11fe278096ec"
      }
     },
     "metadata": {},
     "output_type": "display_data"
    },
    {
     "data": {
      "text/plain": "Training batches on cuda:0:   0%|          | 0/1888 [00:00<?, ?batch/s]",
      "application/vnd.jupyter.widget-view+json": {
       "version_major": 2,
       "version_minor": 0,
       "model_id": "920b537f2e7f4a24b3b30e1e7bf6310b"
      }
     },
     "metadata": {},
     "output_type": "display_data"
    },
    {
     "data": {
      "text/plain": "Training batches on cuda:0:   0%|          | 0/1888 [00:00<?, ?batch/s]",
      "application/vnd.jupyter.widget-view+json": {
       "version_major": 2,
       "version_minor": 0,
       "model_id": "ea943fca03764cb784a38c6389179242"
      }
     },
     "metadata": {},
     "output_type": "display_data"
    },
    {
     "data": {
      "text/plain": "Training batches on cuda:0:   0%|          | 0/1888 [00:00<?, ?batch/s]",
      "application/vnd.jupyter.widget-view+json": {
       "version_major": 2,
       "version_minor": 0,
       "model_id": "ce8671eb5d094288a7f56ee03b2a490a"
      }
     },
     "metadata": {},
     "output_type": "display_data"
    },
    {
     "data": {
      "text/plain": "Training batches on cuda:0:   0%|          | 0/1888 [00:00<?, ?batch/s]",
      "application/vnd.jupyter.widget-view+json": {
       "version_major": 2,
       "version_minor": 0,
       "model_id": "f1741341a4244dcda8c0ca41fb8526ec"
      }
     },
     "metadata": {},
     "output_type": "display_data"
    },
    {
     "data": {
      "text/plain": "Training batches on cuda:0:   0%|          | 0/1888 [00:00<?, ?batch/s]",
      "application/vnd.jupyter.widget-view+json": {
       "version_major": 2,
       "version_minor": 0,
       "model_id": "b93416f044e34a03bf70afa371b5d50f"
      }
     },
     "metadata": {},
     "output_type": "display_data"
    },
    {
     "data": {
      "text/plain": "Training batches on cuda:0:   0%|          | 0/1888 [00:00<?, ?batch/s]",
      "application/vnd.jupyter.widget-view+json": {
       "version_major": 2,
       "version_minor": 0,
       "model_id": "06e766659c3b4c58aa26b0693fb39fc2"
      }
     },
     "metadata": {},
     "output_type": "display_data"
    },
    {
     "data": {
      "text/plain": "Training batches on cuda:0:   0%|          | 0/1888 [00:00<?, ?batch/s]",
      "application/vnd.jupyter.widget-view+json": {
       "version_major": 2,
       "version_minor": 0,
       "model_id": "b956cc913d384e5b8ee736edaf5f2328"
      }
     },
     "metadata": {},
     "output_type": "display_data"
    },
    {
     "data": {
      "text/plain": "Training batches on cuda:0:   0%|          | 0/1888 [00:00<?, ?batch/s]",
      "application/vnd.jupyter.widget-view+json": {
       "version_major": 2,
       "version_minor": 0,
       "model_id": "6b90a3d7631643029c34cb6b180df7d9"
      }
     },
     "metadata": {},
     "output_type": "display_data"
    },
    {
     "data": {
      "text/plain": "Training batches on cuda:0:   0%|          | 0/1888 [00:00<?, ?batch/s]",
      "application/vnd.jupyter.widget-view+json": {
       "version_major": 2,
       "version_minor": 0,
       "model_id": "0353cc1bdfbe4cdabd0371a7fdf86747"
      }
     },
     "metadata": {},
     "output_type": "display_data"
    },
    {
     "data": {
      "text/plain": "Training batches on cuda:0:   0%|          | 0/1888 [00:00<?, ?batch/s]",
      "application/vnd.jupyter.widget-view+json": {
       "version_major": 2,
       "version_minor": 0,
       "model_id": "7f391eac8efd4091b14dfd2650c79847"
      }
     },
     "metadata": {},
     "output_type": "display_data"
    },
    {
     "data": {
      "text/plain": "Training batches on cuda:0:   0%|          | 0/1888 [00:00<?, ?batch/s]",
      "application/vnd.jupyter.widget-view+json": {
       "version_major": 2,
       "version_minor": 0,
       "model_id": "5ce5eee9a0084cee90ef63d5b3c2cf95"
      }
     },
     "metadata": {},
     "output_type": "display_data"
    },
    {
     "data": {
      "text/plain": "Training batches on cuda:0:   0%|          | 0/1888 [00:00<?, ?batch/s]",
      "application/vnd.jupyter.widget-view+json": {
       "version_major": 2,
       "version_minor": 0,
       "model_id": "db014a24961b4ab29090210cd4fde493"
      }
     },
     "metadata": {},
     "output_type": "display_data"
    },
    {
     "data": {
      "text/plain": "Training batches on cuda:0:   0%|          | 0/1888 [00:00<?, ?batch/s]",
      "application/vnd.jupyter.widget-view+json": {
       "version_major": 2,
       "version_minor": 0,
       "model_id": "26e7e9c3634545c7aeb176a58cd58dd6"
      }
     },
     "metadata": {},
     "output_type": "display_data"
    },
    {
     "data": {
      "text/plain": "Training batches on cuda:0:   0%|          | 0/1888 [00:00<?, ?batch/s]",
      "application/vnd.jupyter.widget-view+json": {
       "version_major": 2,
       "version_minor": 0,
       "model_id": "d87ad58e18f64843a40c4a620978cb1f"
      }
     },
     "metadata": {},
     "output_type": "display_data"
    },
    {
     "data": {
      "text/plain": "Training batches on cuda:0:   0%|          | 0/1888 [00:00<?, ?batch/s]",
      "application/vnd.jupyter.widget-view+json": {
       "version_major": 2,
       "version_minor": 0,
       "model_id": "432d31909e1e4e5e83c01444365b114b"
      }
     },
     "metadata": {},
     "output_type": "display_data"
    },
    {
     "data": {
      "text/plain": "Training batches on cuda:0:   0%|          | 0/1888 [00:00<?, ?batch/s]",
      "application/vnd.jupyter.widget-view+json": {
       "version_major": 2,
       "version_minor": 0,
       "model_id": "e13456e398f04422889eba6f2ba382af"
      }
     },
     "metadata": {},
     "output_type": "display_data"
    },
    {
     "data": {
      "text/plain": "Training batches on cuda:0:   0%|          | 0/1888 [00:00<?, ?batch/s]",
      "application/vnd.jupyter.widget-view+json": {
       "version_major": 2,
       "version_minor": 0,
       "model_id": "10cc2819881043bfb4d0b6ee6e105929"
      }
     },
     "metadata": {},
     "output_type": "display_data"
    },
    {
     "data": {
      "text/plain": "Training batches on cuda:0:   0%|          | 0/1888 [00:00<?, ?batch/s]",
      "application/vnd.jupyter.widget-view+json": {
       "version_major": 2,
       "version_minor": 0,
       "model_id": "feb52fbc3cbd41eb8da5e4c62ad5b30a"
      }
     },
     "metadata": {},
     "output_type": "display_data"
    },
    {
     "data": {
      "text/plain": "Training batches on cuda:0:   0%|          | 0/1888 [00:00<?, ?batch/s]",
      "application/vnd.jupyter.widget-view+json": {
       "version_major": 2,
       "version_minor": 0,
       "model_id": "731c86d09c6045a7a9b32e12ad0c85e4"
      }
     },
     "metadata": {},
     "output_type": "display_data"
    },
    {
     "data": {
      "text/plain": "Training batches on cuda:0:   0%|          | 0/1888 [00:00<?, ?batch/s]",
      "application/vnd.jupyter.widget-view+json": {
       "version_major": 2,
       "version_minor": 0,
       "model_id": "e6a05bc7d45144559de2ee75deb32ef6"
      }
     },
     "metadata": {},
     "output_type": "display_data"
    },
    {
     "data": {
      "text/plain": "Training batches on cuda:0:   0%|          | 0/1888 [00:00<?, ?batch/s]",
      "application/vnd.jupyter.widget-view+json": {
       "version_major": 2,
       "version_minor": 0,
       "model_id": "cf251e7481af480291f8020594cca391"
      }
     },
     "metadata": {},
     "output_type": "display_data"
    },
    {
     "data": {
      "text/plain": "Training batches on cuda:0:   0%|          | 0/1888 [00:00<?, ?batch/s]",
      "application/vnd.jupyter.widget-view+json": {
       "version_major": 2,
       "version_minor": 0,
       "model_id": "32f4ab5c484f4f3b90ab1b7e4b3a8ce1"
      }
     },
     "metadata": {},
     "output_type": "display_data"
    },
    {
     "data": {
      "text/plain": "Training batches on cuda:0:   0%|          | 0/1888 [00:00<?, ?batch/s]",
      "application/vnd.jupyter.widget-view+json": {
       "version_major": 2,
       "version_minor": 0,
       "model_id": "564803b80de84bb5bfb155b8cf0d1d3e"
      }
     },
     "metadata": {},
     "output_type": "display_data"
    },
    {
     "data": {
      "text/plain": "Training batches on cuda:0:   0%|          | 0/1888 [00:00<?, ?batch/s]",
      "application/vnd.jupyter.widget-view+json": {
       "version_major": 2,
       "version_minor": 0,
       "model_id": "eadbf734d9a34c4d9dc2269787e7fc39"
      }
     },
     "metadata": {},
     "output_type": "display_data"
    },
    {
     "data": {
      "text/plain": "Training batches on cuda:0:   0%|          | 0/1888 [00:00<?, ?batch/s]",
      "application/vnd.jupyter.widget-view+json": {
       "version_major": 2,
       "version_minor": 0,
       "model_id": "1573c2090b6843a4b1244b24c94bffcb"
      }
     },
     "metadata": {},
     "output_type": "display_data"
    },
    {
     "data": {
      "text/plain": "Training batches on cuda:0:   0%|          | 0/1888 [00:00<?, ?batch/s]",
      "application/vnd.jupyter.widget-view+json": {
       "version_major": 2,
       "version_minor": 0,
       "model_id": "b17cce64ee24420d8db35bcbd9d3fd44"
      }
     },
     "metadata": {},
     "output_type": "display_data"
    },
    {
     "data": {
      "text/plain": "Training batches on cuda:0:   0%|          | 0/1888 [00:00<?, ?batch/s]",
      "application/vnd.jupyter.widget-view+json": {
       "version_major": 2,
       "version_minor": 0,
       "model_id": "f054c64bb8794cf7bcb2bd11cff4db31"
      }
     },
     "metadata": {},
     "output_type": "display_data"
    },
    {
     "data": {
      "text/plain": "Training batches on cuda:0:   0%|          | 0/1888 [00:00<?, ?batch/s]",
      "application/vnd.jupyter.widget-view+json": {
       "version_major": 2,
       "version_minor": 0,
       "model_id": "d06daab70e8c4786b56c93f6ebb5017c"
      }
     },
     "metadata": {},
     "output_type": "display_data"
    },
    {
     "data": {
      "text/plain": "Training batches on cuda:0:   0%|          | 0/1888 [00:00<?, ?batch/s]",
      "application/vnd.jupyter.widget-view+json": {
       "version_major": 2,
       "version_minor": 0,
       "model_id": "a813e226caac4ec59e50e59c97059e4e"
      }
     },
     "metadata": {},
     "output_type": "display_data"
    },
    {
     "data": {
      "text/plain": "Training batches on cuda:0:   0%|          | 0/1888 [00:00<?, ?batch/s]",
      "application/vnd.jupyter.widget-view+json": {
       "version_major": 2,
       "version_minor": 0,
       "model_id": "76233309f436457a88e6681c8f25145f"
      }
     },
     "metadata": {},
     "output_type": "display_data"
    },
    {
     "data": {
      "text/plain": "Training batches on cuda:0:   0%|          | 0/1888 [00:00<?, ?batch/s]",
      "application/vnd.jupyter.widget-view+json": {
       "version_major": 2,
       "version_minor": 0,
       "model_id": "1e6d52f3da454e27bf30101db4f08778"
      }
     },
     "metadata": {},
     "output_type": "display_data"
    },
    {
     "data": {
      "text/plain": "Training batches on cuda:0:   0%|          | 0/1888 [00:00<?, ?batch/s]",
      "application/vnd.jupyter.widget-view+json": {
       "version_major": 2,
       "version_minor": 0,
       "model_id": "1fd31a921d154bd899b94b427029cfa8"
      }
     },
     "metadata": {},
     "output_type": "display_data"
    },
    {
     "data": {
      "text/plain": "Training batches on cuda:0:   0%|          | 0/1888 [00:00<?, ?batch/s]",
      "application/vnd.jupyter.widget-view+json": {
       "version_major": 2,
       "version_minor": 0,
       "model_id": "6884d77d57564770a6387fb114c7f57c"
      }
     },
     "metadata": {},
     "output_type": "display_data"
    },
    {
     "data": {
      "text/plain": "Training batches on cuda:0:   0%|          | 0/1888 [00:00<?, ?batch/s]",
      "application/vnd.jupyter.widget-view+json": {
       "version_major": 2,
       "version_minor": 0,
       "model_id": "bb8c2a73c241462384197d4c69ba1b38"
      }
     },
     "metadata": {},
     "output_type": "display_data"
    },
    {
     "data": {
      "text/plain": "Training batches on cuda:0:   0%|          | 0/1888 [00:00<?, ?batch/s]",
      "application/vnd.jupyter.widget-view+json": {
       "version_major": 2,
       "version_minor": 0,
       "model_id": "7a270cc6fd6c476c99b84455dd740843"
      }
     },
     "metadata": {},
     "output_type": "display_data"
    },
    {
     "data": {
      "text/plain": "Training batches on cuda:0:   0%|          | 0/1888 [00:00<?, ?batch/s]",
      "application/vnd.jupyter.widget-view+json": {
       "version_major": 2,
       "version_minor": 0,
       "model_id": "bf24d499685342ec89363fbc2c1dc4ce"
      }
     },
     "metadata": {},
     "output_type": "display_data"
    },
    {
     "data": {
      "text/plain": "Training batches on cuda:0:   0%|          | 0/1888 [00:00<?, ?batch/s]",
      "application/vnd.jupyter.widget-view+json": {
       "version_major": 2,
       "version_minor": 0,
       "model_id": "0e859ddc0e1e4565af590fa0c29fa236"
      }
     },
     "metadata": {},
     "output_type": "display_data"
    },
    {
     "data": {
      "text/plain": "Training batches on cuda:0:   0%|          | 0/1888 [00:00<?, ?batch/s]",
      "application/vnd.jupyter.widget-view+json": {
       "version_major": 2,
       "version_minor": 0,
       "model_id": "fc52b8b5dbe64132915c09fec97fa5e5"
      }
     },
     "metadata": {},
     "output_type": "display_data"
    },
    {
     "data": {
      "text/plain": "Training batches on cuda:0:   0%|          | 0/1888 [00:00<?, ?batch/s]",
      "application/vnd.jupyter.widget-view+json": {
       "version_major": 2,
       "version_minor": 0,
       "model_id": "b9fda051417d45f0917a8c07cb11226d"
      }
     },
     "metadata": {},
     "output_type": "display_data"
    },
    {
     "data": {
      "text/plain": "Training batches on cuda:0:   0%|          | 0/1888 [00:00<?, ?batch/s]",
      "application/vnd.jupyter.widget-view+json": {
       "version_major": 2,
       "version_minor": 0,
       "model_id": "c341db9f616e42058d587f399f6e360b"
      }
     },
     "metadata": {},
     "output_type": "display_data"
    },
    {
     "data": {
      "text/plain": "Training batches on cuda:0:   0%|          | 0/1888 [00:00<?, ?batch/s]",
      "application/vnd.jupyter.widget-view+json": {
       "version_major": 2,
       "version_minor": 0,
       "model_id": "256a8e676bae4d3ea5274edc01d31dde"
      }
     },
     "metadata": {},
     "output_type": "display_data"
    },
    {
     "data": {
      "text/plain": "Training batches on cuda:0:   0%|          | 0/1888 [00:00<?, ?batch/s]",
      "application/vnd.jupyter.widget-view+json": {
       "version_major": 2,
       "version_minor": 0,
       "model_id": "5e91ce6245884f5f819929f5ea201b1d"
      }
     },
     "metadata": {},
     "output_type": "display_data"
    },
    {
     "data": {
      "text/plain": "Training batches on cuda:0:   0%|          | 0/1888 [00:00<?, ?batch/s]",
      "application/vnd.jupyter.widget-view+json": {
       "version_major": 2,
       "version_minor": 0,
       "model_id": "ff7306cf496040be990c5e318fbbb956"
      }
     },
     "metadata": {},
     "output_type": "display_data"
    },
    {
     "data": {
      "text/plain": "Training batches on cuda:0:   0%|          | 0/1888 [00:00<?, ?batch/s]",
      "application/vnd.jupyter.widget-view+json": {
       "version_major": 2,
       "version_minor": 0,
       "model_id": "28523624cc2a4327a084f877a3fcc8cf"
      }
     },
     "metadata": {},
     "output_type": "display_data"
    },
    {
     "data": {
      "text/plain": "Training batches on cuda:0:   0%|          | 0/1888 [00:00<?, ?batch/s]",
      "application/vnd.jupyter.widget-view+json": {
       "version_major": 2,
       "version_minor": 0,
       "model_id": "25ce8029dc074152b913011c1482e641"
      }
     },
     "metadata": {},
     "output_type": "display_data"
    },
    {
     "data": {
      "text/plain": "Training batches on cuda:0:   0%|          | 0/1888 [00:00<?, ?batch/s]",
      "application/vnd.jupyter.widget-view+json": {
       "version_major": 2,
       "version_minor": 0,
       "model_id": "909c34e9181144caa3f341e938f1689c"
      }
     },
     "metadata": {},
     "output_type": "display_data"
    },
    {
     "data": {
      "text/plain": "Training batches on cuda:0:   0%|          | 0/1888 [00:00<?, ?batch/s]",
      "application/vnd.jupyter.widget-view+json": {
       "version_major": 2,
       "version_minor": 0,
       "model_id": "2a4052c9d5de4c12ae8210e36ba4c6b7"
      }
     },
     "metadata": {},
     "output_type": "display_data"
    },
    {
     "data": {
      "text/plain": "Training batches on cuda:0:   0%|          | 0/1888 [00:00<?, ?batch/s]",
      "application/vnd.jupyter.widget-view+json": {
       "version_major": 2,
       "version_minor": 0,
       "model_id": "5a011c0d4de449e7b2410c2965181ade"
      }
     },
     "metadata": {},
     "output_type": "display_data"
    },
    {
     "data": {
      "text/plain": "Training batches on cuda:0:   0%|          | 0/1888 [00:00<?, ?batch/s]",
      "application/vnd.jupyter.widget-view+json": {
       "version_major": 2,
       "version_minor": 0,
       "model_id": "a69b9456f34f497f8fd65eaf3a6998a1"
      }
     },
     "metadata": {},
     "output_type": "display_data"
    },
    {
     "data": {
      "text/plain": "Training batches on cuda:0:   0%|          | 0/1888 [00:00<?, ?batch/s]",
      "application/vnd.jupyter.widget-view+json": {
       "version_major": 2,
       "version_minor": 0,
       "model_id": "6e406add51bc41a8871c4ca68feb36f9"
      }
     },
     "metadata": {},
     "output_type": "display_data"
    },
    {
     "data": {
      "text/plain": "Training batches on cuda:0:   0%|          | 0/1888 [00:00<?, ?batch/s]",
      "application/vnd.jupyter.widget-view+json": {
       "version_major": 2,
       "version_minor": 0,
       "model_id": "b26b4c14ac3f4cc5a546d90fdc2a7ea3"
      }
     },
     "metadata": {},
     "output_type": "display_data"
    },
    {
     "data": {
      "text/plain": "Training batches on cuda:0:   0%|          | 0/1888 [00:00<?, ?batch/s]",
      "application/vnd.jupyter.widget-view+json": {
       "version_major": 2,
       "version_minor": 0,
       "model_id": "a6d7d89c35554bdf96aadc6e2feb33cb"
      }
     },
     "metadata": {},
     "output_type": "display_data"
    },
    {
     "data": {
      "text/plain": "Training batches on cuda:0:   0%|          | 0/1888 [00:00<?, ?batch/s]",
      "application/vnd.jupyter.widget-view+json": {
       "version_major": 2,
       "version_minor": 0,
       "model_id": "299288fc34c3416c96ccb606a2603901"
      }
     },
     "metadata": {},
     "output_type": "display_data"
    },
    {
     "data": {
      "text/plain": "Training batches on cuda:0:   0%|          | 0/1888 [00:00<?, ?batch/s]",
      "application/vnd.jupyter.widget-view+json": {
       "version_major": 2,
       "version_minor": 0,
       "model_id": "b2729c564dd54eafac62c471cce5d3fe"
      }
     },
     "metadata": {},
     "output_type": "display_data"
    },
    {
     "data": {
      "text/plain": "Training batches on cuda:0:   0%|          | 0/1888 [00:00<?, ?batch/s]",
      "application/vnd.jupyter.widget-view+json": {
       "version_major": 2,
       "version_minor": 0,
       "model_id": "81d0d77e9fae4421921972431c84427f"
      }
     },
     "metadata": {},
     "output_type": "display_data"
    },
    {
     "data": {
      "text/plain": "Training batches on cuda:0:   0%|          | 0/1888 [00:00<?, ?batch/s]",
      "application/vnd.jupyter.widget-view+json": {
       "version_major": 2,
       "version_minor": 0,
       "model_id": "2c9255199e264d83bf64783cc08135e5"
      }
     },
     "metadata": {},
     "output_type": "display_data"
    },
    {
     "data": {
      "text/plain": "Training batches on cuda:0:   0%|          | 0/1888 [00:00<?, ?batch/s]",
      "application/vnd.jupyter.widget-view+json": {
       "version_major": 2,
       "version_minor": 0,
       "model_id": "56d9575d972441b79406a00173122e6e"
      }
     },
     "metadata": {},
     "output_type": "display_data"
    },
    {
     "data": {
      "text/plain": "Training batches on cuda:0:   0%|          | 0/1888 [00:00<?, ?batch/s]",
      "application/vnd.jupyter.widget-view+json": {
       "version_major": 2,
       "version_minor": 0,
       "model_id": "61e25580f2284f4fb2c7642d3e947876"
      }
     },
     "metadata": {},
     "output_type": "display_data"
    },
    {
     "data": {
      "text/plain": "Training batches on cuda:0:   0%|          | 0/1888 [00:00<?, ?batch/s]",
      "application/vnd.jupyter.widget-view+json": {
       "version_major": 2,
       "version_minor": 0,
       "model_id": "2c2b9c8176ed4b16a0f1b6317923d9f0"
      }
     },
     "metadata": {},
     "output_type": "display_data"
    },
    {
     "data": {
      "text/plain": "Training batches on cuda:0:   0%|          | 0/1888 [00:00<?, ?batch/s]",
      "application/vnd.jupyter.widget-view+json": {
       "version_major": 2,
       "version_minor": 0,
       "model_id": "e68cbf8fd424485db229582e3b4bc3ea"
      }
     },
     "metadata": {},
     "output_type": "display_data"
    },
    {
     "name": "stderr",
     "output_type": "stream",
     "text": [
      "INFO:pykeen.evaluation.evaluator:Starting batch_size search for evaluation now...\n",
      "INFO:pykeen.evaluation.evaluator:Concluded batch_size search with batch_size=4.\n"
     ]
    },
    {
     "data": {
      "text/plain": "Evaluating on cuda:0:   0%|          | 0.00/59.1k [00:00<?, ?triple/s]",
      "application/vnd.jupyter.widget-view+json": {
       "version_major": 2,
       "version_minor": 0,
       "model_id": "8d725c0e326e453dadfb7c34a1eb57ac"
      }
     },
     "metadata": {},
     "output_type": "display_data"
    },
    {
     "name": "stderr",
     "output_type": "stream",
     "text": [
      "INFO:pykeen.evaluation.evaluator:Evaluation took 84.89s seconds\n"
     ]
    }
   ],
   "source": [
    "pipeline_results = pipeline(\n",
    "    model=\"HolE\",\n",
    "    dataset=dbpedia_dataset,\n",
    "    training_kwargs=dict(num_epochs=100),\n",
    "    device=device\n",
    ")"
   ]
  },
  {
   "cell_type": "code",
   "execution_count": 24,
   "id": "rUpflMnyif9I",
   "metadata": {
    "ExecuteTime": {
     "end_time": "2024-01-26T18:24:56.439667806Z",
     "start_time": "2024-01-26T18:24:56.300068459Z"
    }
   },
   "outputs": [
    {
     "data": {
      "text/plain": "<Axes: title={'center': 'Losses Plot'}, xlabel='Epoch', ylabel='marginranking Loss'>"
     },
     "execution_count": 24,
     "metadata": {},
     "output_type": "execute_result"
    },
    {
     "data": {
      "text/plain": "<Figure size 640x480 with 1 Axes>",
      "image/png": "[encoded data removed]"
     },
     "metadata": {},
     "output_type": "display_data"
    }
   ],
   "source": [
    "pipeline_results.plot_losses()"
   ]
  },
  {
   "cell_type": "code",
   "execution_count": 25,
   "id": "u0X-EhZkik8G",
   "metadata": {
    "ExecuteTime": {
     "end_time": "2024-01-26T18:26:34.195552441Z",
     "start_time": "2024-01-26T18:24:56.441732383Z"
    }
   },
   "outputs": [
    {
     "name": "stderr",
     "output_type": "stream",
     "text": [
      "INFO:pykeen.evaluation.evaluator:Starting batch_size search for evaluation now...\n",
      "INFO:pykeen.evaluation.evaluator:Concluded batch_size search with batch_size=4.\n"
     ]
    },
    {
     "data": {
      "text/plain": "Evaluating on cuda:0:   0%|          | 0.00/59.1k [00:00<?, ?triple/s]",
      "application/vnd.jupyter.widget-view+json": {
       "version_major": 2,
       "version_minor": 0,
       "model_id": "0fddfb396af94838bd0ad2da3e48ea20"
      }
     },
     "metadata": {},
     "output_type": "display_data"
    },
    {
     "name": "stderr",
     "output_type": "stream",
     "text": [
      "INFO:pykeen.evaluation.evaluator:Evaluation took 85.77s seconds\n"
     ]
    },
    {
     "name": "stdout",
     "output_type": "stream",
     "text": [
      "Hits@1: 0.14425860405275007\n",
      "Hits@3: 0.2551929034551641\n",
      "Hits@5: 0.3157217585617308\n",
      "Hits@10: 0.40750114269269183\n",
      "Mean Reciprocal Rank: 0.2322118729352951\n"
     ]
    }
   ],
   "source": [
    "# Создаем evaluator объект\n",
    "evaluator = RankBasedEvaluator()\n",
    "\n",
    "model_v3 = pipeline_results.model\n",
    "\n",
    "# Оценить работу модели\n",
    "metrics = evaluator.evaluate(model_v3, dbpedia_dataset.testing.mapped_triples,\n",
    "                             additional_filter_triples=[dbpedia_dataset.training.mapped_triples,\n",
    "                                                        dbpedia_dataset.validation.mapped_triples])\n",
    "\n",
    "# Print the metrics\n",
    "print(f\"Hits@1: {metrics.get_metric('hits@1')}\")\n",
    "print(f\"Hits@3: {metrics.get_metric('hits@3')}\")\n",
    "print(f\"Hits@5: {metrics.get_metric('hits@5')}\")\n",
    "print(f\"Hits@10: {metrics.get_metric('hits@10')}\")\n",
    "print(f\"Mean Reciprocal Rank: {metrics.get_metric('mean_reciprocal_rank')}\")"
   ]
  },
  {
   "cell_type": "code",
   "execution_count": 26,
   "id": "iq-L9Pyeio8b",
   "metadata": {
    "ExecuteTime": {
     "end_time": "2024-01-26T18:26:34.198272842Z",
     "start_time": "2024-01-26T18:26:34.196389599Z"
    }
   },
   "outputs": [],
   "source": [
    "node_embeddings = model_v3.entity_representations\n",
    "\n",
    "embedding_matrix = node_embeddings[0]._embeddings.weight.data\n",
    "\n",
    "# Конвертируем матрицу весов в NumPy array\n",
    "embedding_numpy = embedding_matrix.cpu().numpy()"
   ]
  },
  {
   "cell_type": "code",
   "execution_count": 27,
   "id": "EhWaFqy5ivB8",
   "metadata": {
    "ExecuteTime": {
     "end_time": "2024-01-26T18:26:34.377983797Z",
     "start_time": "2024-01-26T18:26:34.199970643Z"
    }
   },
   "outputs": [
    {
     "data": {
      "text/plain": "<Figure size 1000x800 with 1 Axes>",
      "image/png": "[encoded data removed]"
     },
     "metadata": {},
     "output_type": "display_data"
    }
   ],
   "source": [
    "#Созраняем названия сущностей в отдельной переменной\n",
    "id_to_lable = list(dbpedia_dataset.testing.entity_id_to_label.values())\n",
    "\n",
    "#Количество точек которые необходимо отобразить на графике\n",
    "number = 25\n",
    "\n",
    "visualize_embeddings(embedding_numpy[:number], id_to_lable[:number])"
   ]
  },
  {
   "cell_type": "code",
   "execution_count": 28,
   "id": "Qy1TYmNaizr0",
   "metadata": {
    "ExecuteTime": {
     "end_time": "2024-01-26T18:26:34.537030794Z",
     "start_time": "2024-01-26T18:26:34.380300933Z"
    }
   },
   "outputs": [
    {
     "name": "stdout",
     "output_type": "stream",
     "text": [
      "Метрика:nan_euclidean\n",
      "Дистанции:[[1.4901161e-08 9.8100823e-01 9.8310715e-01 9.8411834e-01]]\n",
      "Индексы:[[ 345 2831 4097  309]]\n",
      "Ближайшие соседи узла /m/0147dk: ['/m/0147dk', '/m/01vw20h', '/m/02_fj', '/m/013w7j'] \n",
      "\n",
      "Метрика:cosine\n",
      "Дистанции:[[0.         0.48118854 0.48324984 0.48424447]]\n",
      "Индексы:[[ 345 2831 4097  309]]\n",
      "Ближайшие соседи узла /m/0147dk: ['/m/0147dk', '/m/01vw20h', '/m/02_fj', '/m/013w7j'] \n",
      "\n",
      "Метрика:manhattan\n",
      "Дистанции:[[ 0.         10.68804073 11.03137779 11.0669117 ]]\n",
      "Индексы:[[ 345 4097  309 1382]]\n",
      "Ближайшие соседи узла /m/0147dk: ['/m/0147dk', '/m/02_fj', '/m/013w7j', '/m/01d1st'] \n"
     ]
    }
   ],
   "source": [
    "# Выбираем случайный узел\n",
    "random_node_index = 345\n",
    "methods = ['nan_euclidean','cosine','manhattan']\n",
    "def nearest_nodes(method):\n",
    "  nn_model = NearestNeighbors(n_neighbors=4, metric=method)\n",
    "  nn_model.fit(embedding_numpy)\n",
    "  distances, indices = nn_model.kneighbors([embedding_numpy[random_node_index]])\n",
    "  print('Метрика:'+method )\n",
    "  print(f'Дистанции:{distances}' )\n",
    "  print(f'Индексы:{indices}' )\n",
    "  # Визуализация ближайших соседей\n",
    "  neighbors_labels = [id_to_lable[i] for i in indices.flatten()]\n",
    "  print(f\"Ближайшие соседи узла {id_to_lable[random_node_index]}: {neighbors_labels} \\n\")\n",
    "\n",
    "for method in methods: nearest_nodes(method)"
   ]
  },
  {
   "cell_type": "code",
   "execution_count": 29,
   "id": "5ci5bxH1jVKn",
   "metadata": {
    "ExecuteTime": {
     "end_time": "2024-01-26T18:26:34.607976976Z",
     "start_time": "2024-01-26T18:26:34.530725263Z"
    }
   },
   "outputs": [
    {
     "name": "stdout",
     "output_type": "stream",
     "text": [
      "Метрика:nan_euclidean\n",
      "Дистанции:[[0.        1.0594245 1.0673707 1.0715344]]\n",
      "Индексы:[[ 631 9092 7744 4494]]\n",
      "Ближайшие соседи узла /m/0168ql: ['/m/0168ql', '/m/066l3y', '/m/04l19_', '/m/02h8hr'] \n",
      "\n",
      "Метрика:cosine\n",
      "Дистанции:[[0.         0.5678296  0.5785427  0.60392153]]\n",
      "Индексы:[[ 631 9092 4494 7744]]\n",
      "Ближайшие соседи узла /m/0168ql: ['/m/0168ql', '/m/066l3y', '/m/02h8hr', '/m/04l19_'] \n",
      "\n",
      "Метрика:manhattan\n",
      "Дистанции:[[ 0.         11.83116627 12.02114487 12.16853142]]\n",
      "Индексы:[[ 631 9092 4494 7744]]\n",
      "Ближайшие соседи узла /m/0168ql: ['/m/0168ql', '/m/066l3y', '/m/02h8hr', '/m/04l19_'] \n"
     ]
    }
   ],
   "source": [
    "# Выбираем второй случайный узел\n",
    "random_node_index = 631\n",
    "methods = ['nan_euclidean','cosine','manhattan']\n",
    "def nearest_nodes(method):\n",
    "  nn_model = NearestNeighbors(n_neighbors=4, metric=method)\n",
    "  nn_model.fit(embedding_numpy)\n",
    "  distances, indices = nn_model.kneighbors([embedding_numpy[random_node_index]])\n",
    "  print('Метрика:'+method )\n",
    "  print(f'Дистанции:{distances}' )\n",
    "  print(f'Индексы:{indices}' )\n",
    "  # Визуализация ближайших соседей\n",
    "  neighbors_labels = [id_to_lable[i] for i in indices.flatten()]\n",
    "  print(f\"Ближайшие соседи узла {id_to_lable[random_node_index]}: {neighbors_labels} \\n\")\n",
    "\n",
    "for method in methods: nearest_nodes(method)"
   ]
  },
  {
   "cell_type": "code",
   "outputs": [],
   "source": [],
   "metadata": {
    "collapsed": false,
    "ExecuteTime": {
     "end_time": "2024-01-26T18:26:34.610454456Z",
     "start_time": "2024-01-26T18:26:34.608056146Z"
    }
   },
   "id": "ee8716abbbce99d1",
   "execution_count": 29
  },
  {
   "cell_type": "code",
   "outputs": [],
   "source": [],
   "metadata": {
    "collapsed": false,
    "ExecuteTime": {
     "start_time": "2024-01-26T17:59:19.990335031Z"
    }
   },
   "id": "8f1d3578efadb6e5",
   "execution_count": null
  },
  {
   "cell_type": "code",
   "outputs": [],
   "source": [],
   "metadata": {
    "collapsed": false,
    "ExecuteTime": {
     "start_time": "2024-01-26T17:59:19.990386018Z"
    }
   },
   "id": "487a4e12de1fabba",
   "execution_count": null
  },
  {
   "cell_type": "code",
   "outputs": [],
   "source": [],
   "metadata": {
    "collapsed": false,
    "ExecuteTime": {
     "start_time": "2024-01-26T17:59:19.990671698Z"
    }
   },
   "id": "e48b7392040a5d46",
   "execution_count": null
  },
  {
   "cell_type": "code",
   "outputs": [],
   "source": [],
   "metadata": {
    "collapsed": false,
    "ExecuteTime": {
     "start_time": "2024-01-26T17:59:19.996208465Z"
    }
   },
   "id": "a773fc5bc71a98c8"
  }
 ],
 "metadata": {
  "language_info": {
   "name": "python"
  },
  "kernelspec": {
   "name": "python3",
   "language": "python",
   "display_name": "Python 3 (ipykernel)"
  }
 },
 "nbformat": 4,
 "nbformat_minor": 5
}
