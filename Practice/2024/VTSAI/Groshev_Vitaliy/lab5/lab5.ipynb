{
 "cells": [
  {
   "cell_type": "markdown",
   "id": "NbAA7e2dRX7P",
   "metadata": {
    "id": "NbAA7e2dRX7P"
   },
   "source": [
    "Устанавливаем необходимые для работы зависимости"
   ]
  },
  {
   "cell_type": "code",
   "execution_count": null,
   "id": "678f20f5",
   "metadata": {},
   "outputs": [],
   "source": [
    "!pip install pykeen networkx matplotlib seaborn"
   ]
  },
  {
   "cell_type": "markdown",
   "id": "6f7634ba",
   "metadata": {
    "id": "6f7634ba"
   },
   "source": [
    "Далее, импортируем необходимых модулей"
   ]
  },
  {
   "cell_type": "code",
   "execution_count": null,
   "id": "e028f8c7",
   "metadata": {},
   "outputs": [],
   "source": [
    "import torch\n",
    "import pykeen\n",
    "import numpy as np\n",
    "import networkx as nx\n",
    "import matplotlib.pyplot as plt\n",
    "from pykeen.pipeline import pipeline\n",
    "from sklearn.neighbors import NearestNeighbors\n",
    "from pykeen.evaluation import RankBasedEvaluator\n",
    "from sklearn.metrics.pairwise import cosine_similarity, euclidean_distances, manhattan_distances"
   ]
  },
  {
   "cell_type": "markdown",
   "id": "3b5ca842",
   "metadata": {
    "id": "3b5ca842"
   },
   "source": [
    "Здесь мы устанавливаем необходимые библиотеки и импортируем модули, которые будут использоваться в лабораторной работе."
   ]
  },
  {
   "cell_type": "markdown",
   "id": "c499eb1a",
   "metadata": {
    "id": "c499eb1a"
   },
   "source": [
    "## Взаимодействие с графовым датасетом и описание данных\n",
    "\n",
    "В данной работе мы будем использовать графовый датасет [DBpedia50](https://arxiv.org/abs/1711.03438), предоставляющий собой выборку менее 50 тысяч сущностей из графа dbpedia.\n"
   ]
  },
  {
   "cell_type": "code",
   "execution_count": null,
   "id": "147c83b7",
   "metadata": {},
   "outputs": [],
   "source": [
    "from pykeen.datasets import CoDExMedium"
   ]
  },
  {
   "cell_type": "code",
   "execution_count": null,
   "id": "2107c8b4",
   "metadata": {},
   "outputs": [],
   "source": [
    "# Загрузка графового датасета DBpedia50\n",
    "dbpedia_dataset = CoDExMedium()"
   ]
  },
  {
   "cell_type": "code",
   "execution_count": null,
   "id": "6f00ce2f",
   "metadata": {},
   "outputs": [],
   "source": [
    "# Просмотр описания датасета\n",
    "print(dbpedia_dataset)"
   ]
  },
  {
   "cell_type": "markdown",
   "id": "df7c3f40",
   "metadata": {
    "id": "df7c3f40"
   },
   "source": [
    "# Обучение модели ComplEx на 100 эпохах\n"
   ]
  },
  {
   "cell_type": "markdown",
   "id": "971f2981",
   "metadata": {
    "id": "971f2981"
   },
   "source": [
    "Использеум pipeline() предоставляемый пакетом pykeen для обучения модели, в качестве аргументов указываем тип модели, набор данных, количество эпох обучения и устройство на котором проводится обучений"
   ]
  },
  {
   "cell_type": "markdown",
   "id": "77cd56b4",
   "metadata": {
    "id": "77cd56b4"
   },
   "source": [
    "Проверяем наличие GPU устройства и вызываем функцию pipeline(), которая запускает процесс обучения модели, тестирования и валидации."
   ]
  },
  {
   "cell_type": "code",
   "execution_count": null,
   "id": "HLz5MBy3kTGe",
   "metadata": {},
   "outputs": [],
   "source": [
    "import torch\n",
    "device = torch.device(\"cuda\" if torch.cuda.is_available() else \"cpu\")\n",
    "print(f\"Using device: {device}\")"
   ]
  },
  {
   "cell_type": "markdown",
   "id": "aYoXhMaw0yK3",
   "metadata": {
    "id": "aYoXhMaw0yK3"
   },
   "source": [
    "Запускаем пайплайн обучения модели, в этот раз использем модель [ComplEx](https://pykeen.readthedocs.io/en/stable/api/pykeen.models.ComplEx.html)"
   ]
  },
  {
   "cell_type": "code",
   "execution_count": null,
   "id": "6f827ec4",
   "metadata": {},
   "outputs": [],
   "source": [
    "# Задаем параметры для pipeline\n",
    "pipeline_results = pipeline(\n",
    "    model=\"ComplEx\",\n",
    "    dataset=dbpedia_dataset,\n",
    "    training_kwargs=dict(num_epochs=100),\n",
    "    device=device\n",
    ")"
   ]
  },
  {
   "cell_type": "markdown",
   "id": "FH-UylfmU3qW",
   "metadata": {
    "id": "FH-UylfmU3qW"
   },
   "source": [
    "\n",
    "В PyKEEN, функция plot_losses используется для визуализации изменения значений функции потерь во времени (по эпохам) в процессе обучения модели. Эта функция часто используется для мониторинга производительности модели во время тренировки и может быть полезной для оценки, насколько хорошо модель учится на обучающем наборе данных.\n"
   ]
  },
  {
   "cell_type": "code",
   "execution_count": null,
   "id": "f9SlekR_Uguu",
   "metadata": {},
   "outputs": [],
   "source": [
    "# Обученная модель хранится в pipeline_results\n",
    "model = pipeline_results.model\n",
    "\n",
    "#plot loss\n",
    "pipeline_results.plot_losses()"
   ]
  },
  {
   "cell_type": "markdown",
   "id": "RpBkovA7J8aT",
   "metadata": {
    "id": "RpBkovA7J8aT"
   },
   "source": [
    "## Метрики оценки работы модели\n",
    "\n",
    "В PyKEEN пакет metrics предоставляет реализацию различных метрик, которые могут быть использованы для оценки качества работы моделей знаний (knowledge graph embedding models). Эти метрики позволяют оценивать, насколько хорошо модель справляется с предсказанием троек в графе знаний.\n",
    "\n",
    "Некоторые из основных метрик, доступных в пакете metrics:\n",
    "\n",
    "*   Rank-based Metrics - которые измеряют позицию верного ответа (положительной тройки) в отсортированном списке всех возможных троек\n",
    "*   Top-K Metrics - которые оценивают качество предсказаний в топ-K результатах.\n",
    "*   Clustering Metrics - которые измеряют качество кластеризации.\n",
    "\n",
    "Рассчитаем некоторые из них далее."
   ]
  },
  {
   "cell_type": "code",
   "execution_count": null,
   "id": "HLKH6w0aAeYG",
   "metadata": {},
   "outputs": [],
   "source": [
    "# Создаем evaluator объект\n",
    "evaluator = RankBasedEvaluator()\n",
    "\n",
    "# Оценить работу модели\n",
    "metrics = evaluator.evaluate(pipeline_results.model, dbpedia_dataset.testing.mapped_triples,\n",
    "                             additional_filter_triples=[dbpedia_dataset.training.mapped_triples,\n",
    "                                                        dbpedia_dataset.validation.mapped_triples])\n",
    "\n",
    "# Print the metrics\n",
    "print(f\"Hits@1: {metrics.get_metric('hits@1')}\")\n",
    "print(f\"Hits@3: {metrics.get_metric('hits@3')}\")\n",
    "print(f\"Hits@5: {metrics.get_metric('hits@5')}\")\n",
    "print(f\"Hits@10: {metrics.get_metric('hits@10')}\")\n",
    "print(f\"Mean Reciprocal Rank: {metrics.get_metric('mean_reciprocal_rank')}\")"
   ]
  },
  {
   "cell_type": "markdown",
   "id": "_kzrnI2ut7Uk",
   "metadata": {
    "id": "_kzrnI2ut7Uk"
   },
   "source": [
    "## Получение представлений узлов"
   ]
  },
  {
   "cell_type": "markdown",
   "id": "XIQ8JQ6qV1Va",
   "metadata": {
    "id": "XIQ8JQ6qV1Va"
   },
   "source": [
    "После того как модель обучена, мы можем полчить представления узлов и отношений из результатов работы пайплайна."
   ]
  },
  {
   "cell_type": "code",
   "execution_count": null,
   "id": "fwnsqFyBt6Na",
   "metadata": {},
   "outputs": [],
   "source": [
    "node_embeddings = pipeline_results.model.entity_representations\n",
    "\n",
    "embedding_matrix = node_embeddings[0]._embeddings.weight.data\n",
    "\n",
    "# Конвертируем матрицу весов в NumPy array\n",
    "embedding_numpy = embedding_matrix.cpu().numpy()"
   ]
  },
  {
   "cell_type": "markdown",
   "id": "K1b8LioDu7NI",
   "metadata": {
    "id": "K1b8LioDu7NI"
   },
   "source": [
    "Мы извлекаем представления узлов из обученной модели. В этом контексте, представления узлов - это векторы, представляющие сущности в графе.\n"
   ]
  },
  {
   "cell_type": "markdown",
   "id": "FAIauQGFWKwd",
   "metadata": {
    "id": "FAIauQGFWKwd"
   },
   "source": [
    "Далее извлечем лейблы для сущнойстей и визуализируем некоторые из сущностей на плоскости."
   ]
  },
  {
   "cell_type": "code",
   "execution_count": null,
   "id": "1tA1kxj6u7de",
   "metadata": {},
   "outputs": [],
   "source": [
    "#Созраняем названия сущностей в отдельной переменной\n",
    "id_to_lable = list(dbpedia_dataset.testing.entity_id_to_label.values())\n",
    "\n",
    "def visualize_embeddings(embeddings, labels):\n",
    "    # Scatter plot\n",
    "    plt.figure(figsize=(10, 8))\n",
    "    plt.scatter(embeddings[:, 0], embeddings[:, 1], c=np.arange(len(labels)), cmap='viridis', s=25)\n",
    "\n",
    "    # Добавляем лейблы к точкаи на графике\n",
    "    for i, label in enumerate(labels):\n",
    "        plt.annotate(label, (embeddings[i, 0], embeddings[i, 1]), alpha=1)\n",
    "\n",
    "    plt.title('Точечная диаграмма представлений')\n",
    "    plt.show()\n",
    "\n",
    "#Количество точек которые необходимо отобразить на графике\n",
    "number = 25\n",
    "\n",
    "visualize_embeddings(embedding_numpy[:number], id_to_lable[:number])"
   ]
  },
  {
   "cell_type": "markdown",
   "id": "ATIn2jyOwPrh",
   "metadata": {
    "id": "ATIn2jyOwPrh"
   },
   "source": [
    "Мы используем NetworkX и Matplotlib для визуализации представлений узлов на графе. Каждая сущность представлена точкой в двумерном пространстве, и близкие точки соответствуют похожим узлам в графе.\n"
   ]
  },
  {
   "cell_type": "markdown",
   "id": "92WYnqfTwV07",
   "metadata": {
    "id": "92WYnqfTwV07"
   },
   "source": [
    "## Измерение Node Similarity\n",
    "\n",
    "Добавим код для измерения близости узлов на основе представлений. Расчитаем близость между несколькими случайными узлами. Используем для этого косинусную схожесть, манхэттенское и евклидово расстояние. Визуализируем полученные результаты как матрицу близости.\n"
   ]
  },
  {
   "cell_type": "code",
   "execution_count": null,
   "id": "tGd7j6OewX4H",
   "metadata": {},
   "outputs": [],
   "source": [
    "def diplay_matrix(similarity_matrix):\n",
    "  # Визуализация матрицы близости\n",
    "  plt.figure(figsize=(8, 8))\n",
    "  plt.imshow(similarity_matrix, cmap='viridis', interpolation='nearest')\n",
    "  plt.colorbar()\n",
    "  plt.title('Node Similarity Matrix')\n",
    "  plt.show()\n",
    "\n",
    "\n",
    "# Рассчет близости между узлами\n",
    "methods = [euclidean_distances,cosine_similarity,manhattan_distances]\n",
    "#Узлы\n",
    "nodes = [embedding_numpy[1324],embedding_numpy[12240],embedding_numpy[15386],embedding_numpy[12456]]\n",
    "for method in methods:\n",
    "  similarity_matrix = method(nodes)\n",
    "  print(similarity_matrix)\n",
    "  diplay_matrix(similarity_matrix)"
   ]
  },
  {
   "cell_type": "markdown",
   "id": "fXT9QW6Qwc-X",
   "metadata": {
    "id": "fXT9QW6Qwc-X"
   },
   "source": [
    "Этот код использует euclidean_distances,cosine_similarity и manhattan_distances из scikit-learn для вычисления матрицы близости между узлами на основе их представлений. Затем мы визуализируем эту матрицу для наглядного представления Node Similarity."
   ]
  },
  {
   "cell_type": "markdown",
   "id": "7A2FAGRTwf-B",
   "metadata": {
    "id": "7A2FAGRTwf-B"
   },
   "source": [
    "## Поиск соседей узла\n",
    "Одной из задач где используется схожесть узлов является задача поиска ближайших соседей конкретного узла в графе.\n",
    "Рассмотрии применение NearestNeighbors на созданных представлениях с использованием только что рассмотренных методов рассчета близости."
   ]
  },
  {
   "cell_type": "code",
   "execution_count": null,
   "id": "LxwmgryVwjWb",
   "metadata": {},
   "outputs": [],
   "source": [
    "# Выбираем случайный узел\n",
    "random_node_index = 517\n",
    "methods = ['nan_euclidean','cosine','manhattan']\n",
    "def nearest_nodes(method):\n",
    "  nn_model = NearestNeighbors(n_neighbors=4, metric=method)\n",
    "  nn_model.fit(embedding_numpy)\n",
    "  distances, indices = nn_model.kneighbors([embedding_numpy[random_node_index]])\n",
    "  print('Метрика:'+method )\n",
    "  print(f'Дистанции:{distances}' )\n",
    "  print(f'Индексы:{indices}' )\n",
    "  # Визуализация ближайших соседей\n",
    "  neighbors_labels = [id_to_lable[i] for i in indices.flatten()]\n",
    "  print(f\"Ближайшие соседи узла {id_to_lable[random_node_index]}: {neighbors_labels} \\n\")\n",
    "\n",
    "for method in methods: nearest_nodes(method)"
   ]
  },
  {
   "cell_type": "code",
   "execution_count": null,
   "id": "k1ZU7o0SjKA6",
   "metadata": {},
   "outputs": [],
   "source": [
    "# Выбираем второй случайный узел\n",
    "random_node_index = 2738\n",
    "methods = ['nan_euclidean','cosine','manhattan']\n",
    "def nearest_nodes(method):\n",
    "  nn_model = NearestNeighbors(n_neighbors=4, metric=method)\n",
    "  nn_model.fit(embedding_numpy)\n",
    "  distances, indices = nn_model.kneighbors([embedding_numpy[random_node_index]])\n",
    "  print('Метрика:'+method )\n",
    "  print(f'Дистанции:{distances}' )\n",
    "  print(f'Индексы:{indices}' )\n",
    "  # Визуализация ближайших соседей\n",
    "  neighbors_labels = [id_to_lable[i] for i in indices.flatten()]\n",
    "  print(f\"Ближайшие соседи узла {id_to_lable[random_node_index]}: {neighbors_labels} \\n\")\n",
    "\n",
    "for method in methods: nearest_nodes(method)"
   ]
  },
  {
   "cell_type": "markdown",
   "source": [
    "## Эксперименты"
   ],
   "metadata": {
    "collapsed": false
   },
   "id": "250befd15e471b00"
  },
  {
   "cell_type": "markdown",
   "source": [
    "Для экспериментов была выбрана модель HolE, \n",
    "\n",
    "Сравните эффективность модели выше и HolE в предсказании отношений и измерении Node Similarity."
   ],
   "metadata": {
    "collapsed": false
   },
   "id": "f79a82774ba02478"
  },
  {
   "cell_type": "markdown",
   "id": "d-QG-GJbg-Yt",
   "metadata": {
    "id": "d-QG-GJbg-Yt"
   },
   "source": [
    "# Модель ComplEx на 20 эпохах обучений"
   ]
  },
  {
   "cell_type": "code",
   "execution_count": null,
   "id": "vpt2-7m2g0dk",
   "metadata": {},
   "outputs": [],
   "source": [
    "pipeline_results = pipeline(\n",
    "    model=\"ComplEx\",\n",
    "    dataset=dbpedia_dataset,\n",
    "    training_kwargs=dict(num_epochs=20),\n",
    "    device=device\n",
    ")"
   ]
  },
  {
   "cell_type": "code",
   "execution_count": null,
   "id": "-1cXQa79hfXw",
   "metadata": {},
   "outputs": [],
   "source": [
    "pipeline_results.plot_losses()"
   ]
  },
  {
   "cell_type": "code",
   "execution_count": null,
   "id": "RvyXfEc4hf-8",
   "metadata": {},
   "outputs": [],
   "source": [
    "# Создаем evaluator объект\n",
    "evaluator = RankBasedEvaluator()\n",
    "model_v2 = pipeline_results.model\n",
    "\n",
    "# Оценить работу модели\n",
    "metrics = evaluator.evaluate(model_v2, dbpedia_dataset.testing.mapped_triples,\n",
    "                             additional_filter_triples=[dbpedia_dataset.training.mapped_triples,\n",
    "                                                        dbpedia_dataset.validation.mapped_triples])\n",
    "\n",
    "# Print the metrics\n",
    "print(f\"Hits@1: {metrics.get_metric('hits@1')}\")\n",
    "print(f\"Hits@3: {metrics.get_metric('hits@3')}\")\n",
    "print(f\"Hits@5: {metrics.get_metric('hits@5')}\")\n",
    "print(f\"Hits@10: {metrics.get_metric('hits@10')}\")\n",
    "print(f\"Mean Reciprocal Rank: {metrics.get_metric('mean_reciprocal_rank')}\")"
   ]
  },
  {
   "cell_type": "code",
   "execution_count": null,
   "id": "0jP1X87kh5Uj",
   "metadata": {},
   "outputs": [],
   "source": [
    "node_embeddings = model_v2.entity_representations\n",
    "\n",
    "embedding_matrix = node_embeddings[0]._embeddings.weight.data\n",
    "\n",
    "# Конвертируем матрицу весов в NumPy array\n",
    "embedding_numpy = embedding_matrix.cpu().numpy()"
   ]
  },
  {
   "cell_type": "code",
   "execution_count": null,
   "id": "90GmXwKRh-Wy",
   "metadata": {},
   "outputs": [],
   "source": [
    "#Созраняем названия сущностей в отдельной переменной\n",
    "id_to_lable = list(dbpedia_dataset.testing.entity_id_to_label.values())\n",
    "\n",
    "#Количество точек которые необходимо отобразить на графике\n",
    "number = 25\n",
    "\n",
    "visualize_embeddings(embedding_numpy[:number], id_to_lable[:number])"
   ]
  },
  {
   "cell_type": "code",
   "execution_count": null,
   "id": "yV-db2-AiSvG",
   "metadata": {},
   "outputs": [],
   "source": [
    "# Выбираем случайный узел\n",
    "random_node_index = 678\n",
    "methods = ['nan_euclidean','cosine','manhattan']\n",
    "def nearest_nodes(method):\n",
    "  nn_model = NearestNeighbors(n_neighbors=4, metric=method)\n",
    "  nn_model.fit(embedding_numpy)\n",
    "  distances, indices = nn_model.kneighbors([embedding_numpy[random_node_index]])\n",
    "  print('Метрика:'+method )\n",
    "  print(f'Дистанции:{distances}' )\n",
    "  print(f'Индексы:{indices}' )\n",
    "  # Визуализация ближайших соседей\n",
    "  neighbors_labels = [id_to_lable[i] for i in indices.flatten()]\n",
    "  print(f\"Ближайшие соседи узла {id_to_lable[random_node_index]}: {neighbors_labels} \\n\")\n",
    "\n",
    "for method in methods: nearest_nodes(method)"
   ]
  },
  {
   "cell_type": "code",
   "execution_count": null,
   "id": "jQg2hAcijT38",
   "metadata": {},
   "outputs": [],
   "source": [
    "# Выбираем второй случайный узел\n",
    "random_node_index = 43\n",
    "methods = ['nan_euclidean','cosine','manhattan']\n",
    "def nearest_nodes(method):\n",
    "  nn_model = NearestNeighbors(n_neighbors=4, metric=method)\n",
    "  nn_model.fit(embedding_numpy)\n",
    "  distances, indices = nn_model.kneighbors([embedding_numpy[random_node_index]])\n",
    "  print('Метрика:'+method )\n",
    "  print(f'Дистанции:{distances}' )\n",
    "  print(f'Индексы:{indices}' )\n",
    "  # Визуализация ближайших соседей\n",
    "  neighbors_labels = [id_to_lable[i] for i in indices.flatten()]\n",
    "  print(f\"Ближайшие соседи узла {id_to_lable[random_node_index]}: {neighbors_labels} \\n\")\n",
    "\n",
    "for method in methods: nearest_nodes(method)"
   ]
  },
  {
   "cell_type": "markdown",
   "id": "zmULZ6G0iZMN",
   "metadata": {
    "id": "zmULZ6G0iZMN"
   },
   "source": [
    "# Модель HolE, число эпох 100"
   ]
  },
  {
   "cell_type": "code",
   "execution_count": null,
   "id": "eURINYd2iVSs",
   "metadata": {},
   "outputs": [],
   "source": [
    "pipeline_results = pipeline(\n",
    "    model=\"HolE\",\n",
    "    dataset=dbpedia_dataset,\n",
    "    training_kwargs=dict(num_epochs=100),\n",
    "    device=device\n",
    ")"
   ]
  },
  {
   "cell_type": "code",
   "execution_count": null,
   "id": "rUpflMnyif9I",
   "metadata": {},
   "outputs": [],
   "source": [
    "pipeline_results.plot_losses()"
   ]
  },
  {
   "cell_type": "code",
   "execution_count": null,
   "id": "u0X-EhZkik8G",
   "metadata": {},
   "outputs": [],
   "source": [
    "# Создаем evaluator объект\n",
    "evaluator = RankBasedEvaluator()\n",
    "\n",
    "model_v3 = pipeline_results.model\n",
    "\n",
    "# Оценить работу модели\n",
    "metrics = evaluator.evaluate(model_v3, dbpedia_dataset.testing.mapped_triples,\n",
    "                             additional_filter_triples=[dbpedia_dataset.training.mapped_triples,\n",
    "                                                        dbpedia_dataset.validation.mapped_triples])\n",
    "\n",
    "# Print the metrics\n",
    "print(f\"Hits@1: {metrics.get_metric('hits@1')}\")\n",
    "print(f\"Hits@3: {metrics.get_metric('hits@3')}\")\n",
    "print(f\"Hits@5: {metrics.get_metric('hits@5')}\")\n",
    "print(f\"Hits@10: {metrics.get_metric('hits@10')}\")\n",
    "print(f\"Mean Reciprocal Rank: {metrics.get_metric('mean_reciprocal_rank')}\")"
   ]
  },
  {
   "cell_type": "code",
   "execution_count": null,
   "id": "iq-L9Pyeio8b",
   "metadata": {},
   "outputs": [],
   "source": [
    "node_embeddings = model_v3.entity_representations\n",
    "\n",
    "embedding_matrix = node_embeddings[0]._embeddings.weight.data\n",
    "\n",
    "# Конвертируем матрицу весов в NumPy array\n",
    "embedding_numpy = embedding_matrix.cpu().numpy()"
   ]
  },
  {
   "cell_type": "code",
   "execution_count": null,
   "id": "EhWaFqy5ivB8",
   "metadata": {},
   "outputs": [],
   "source": [
    "#Созраняем названия сущностей в отдельной переменной\n",
    "id_to_lable = list(dbpedia_dataset.testing.entity_id_to_label.values())\n",
    "\n",
    "#Количество точек которые необходимо отобразить на графике\n",
    "number = 25\n",
    "\n",
    "visualize_embeddings(embedding_numpy[:number], id_to_lable[:number])"
   ]
  },
  {
   "cell_type": "code",
   "execution_count": null,
   "id": "Qy1TYmNaizr0",
   "metadata": {},
   "outputs": [],
   "source": [
    "# Выбираем случайный узел\n",
    "random_node_index = 345\n",
    "methods = ['nan_euclidean','cosine','manhattan']\n",
    "def nearest_nodes(method):\n",
    "  nn_model = NearestNeighbors(n_neighbors=4, metric=method)\n",
    "  nn_model.fit(embedding_numpy)\n",
    "  distances, indices = nn_model.kneighbors([embedding_numpy[random_node_index]])\n",
    "  print('Метрика:'+method )\n",
    "  print(f'Дистанции:{distances}' )\n",
    "  print(f'Индексы:{indices}' )\n",
    "  # Визуализация ближайших соседей\n",
    "  neighbors_labels = [id_to_lable[i] for i in indices.flatten()]\n",
    "  print(f\"Ближайшие соседи узла {id_to_lable[random_node_index]}: {neighbors_labels} \\n\")\n",
    "\n",
    "for method in methods: nearest_nodes(method)"
   ]
  },
  {
   "cell_type": "code",
   "execution_count": null,
   "id": "5ci5bxH1jVKn",
   "metadata": {},
   "outputs": [],
   "source": [
    "# Выбираем второй случайный узел\n",
    "random_node_index = 631\n",
    "methods = ['nan_euclidean','cosine','manhattan']\n",
    "def nearest_nodes(method):\n",
    "  nn_model = NearestNeighbors(n_neighbors=4, metric=method)\n",
    "  nn_model.fit(embedding_numpy)\n",
    "  distances, indices = nn_model.kneighbors([embedding_numpy[random_node_index]])\n",
    "  print('Метрика:'+method )\n",
    "  print(f'Дистанции:{distances}' )\n",
    "  print(f'Индексы:{indices}' )\n",
    "  # Визуализация ближайших соседей\n",
    "  neighbors_labels = [id_to_lable[i] for i in indices.flatten()]\n",
    "  print(f\"Ближайшие соседи узла {id_to_lable[random_node_index]}: {neighbors_labels} \\n\")\n",
    "\n",
    "for method in methods: nearest_nodes(method)"
   ]
  },
  {
   "cell_type": "code",
   "outputs": [],
   "source": [],
   "metadata": {
    "collapsed": false
   },
   "id": "ee8716abbbce99d1",
   "execution_count": null
  },
  {
   "cell_type": "code",
   "outputs": [],
   "source": [],
   "metadata": {
    "collapsed": false
   },
   "id": "8f1d3578efadb6e5",
   "execution_count": null
  },
  {
   "cell_type": "code",
   "outputs": [],
   "source": [],
   "metadata": {
    "collapsed": false
   },
   "id": "487a4e12de1fabba",
   "execution_count": null
  },
  {
   "cell_type": "code",
   "outputs": [],
   "source": [],
   "metadata": {
    "collapsed": false
   },
   "id": "e48b7392040a5d46",
   "execution_count": null
  },
  {
   "cell_type": "code",
   "outputs": [],
   "source": [],
   "metadata": {
    "collapsed": false
   },
   "id": "a773fc5bc71a98c8",
   "execution_count": null
  }
 ],
 "metadata": {
  "language_info": {
   "name": "python"
  },
  "kernelspec": {
   "name": "python3",
   "language": "python",
   "display_name": "Python 3 (ipykernel)"
  }
 },
 "nbformat": 4,
 "nbformat_minor": 5
}
