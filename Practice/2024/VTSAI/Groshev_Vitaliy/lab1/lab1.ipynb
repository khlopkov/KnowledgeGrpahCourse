{
 "nbformat": 4,
 "nbformat_minor": 0,
 "metadata": {
  "colab": {
   "provenance": []
  },
  "kernelspec": {
   "name": "python3",
   "display_name": "Python 3"
  },
  "language_info": {
   "name": "python"
  }
 },
 "cells": [
  {
   "cell_type": "markdown",
   "source": [
    "# Лабораторная работа 1\n",
    "\n",
    "Грошев Виталий"
   ],
   "metadata": {
    "id": "7K9lUBjiWCzE"
   }
  },
  {
   "cell_type": "markdown",
   "source": [
    "Установка необходимых библиотек и зависимостей."
   ],
   "metadata": {
    "id": "eJbztumvWnth"
   }
  },
  {
   "cell_type": "code",
   "source": [
    "# Установка необходимых библиотек\n",
    "!pip install gymnasium\n",
    "!pip install stable-baselines3\n",
    "!pip install PyVirtualDisplay\n",
    "!sudo apt-get install xvfb"
   ],
   "metadata": {
    "id": "bTKbPtaPWibP"
   },
   "execution_count": null,
   "outputs": []
  },
  {
   "cell_type": "markdown",
   "source": [
    "# Импорт gym и DQN"
   ],
   "metadata": {
    "id": "RMDq_lrQXhXm"
   }
  },
  {
   "cell_type": "code",
   "source": [
    "# Импорт необходимых пакетов\n",
    "import gymnasium as gym\n",
    "from stable_baselines3 import DQN"
   ],
   "metadata": {
    "id": "dhB2l6H2Xkpv"
   },
   "execution_count": null,
   "outputs": []
  },
  {
   "cell_type": "markdown",
   "source": [
    "# Создание среды Mountain Car\n",
    "\n",
    "Инициализация среды MountainCar-v0"
   ],
   "metadata": {
    "id": "64R8HYG3YL7P"
   }
  },
  {
   "cell_type": "code",
   "source": [
    "# Создание среды\n",
    "env = gym.make(\"MountainCar-v0\")"
   ],
   "metadata": {
    "id": "dft-CCggY0Pc"
   },
   "execution_count": null,
   "outputs": []
  },
  {
   "cell_type": "code",
   "source": [
    "# Описание задачи\n",
    "observation_space = env.observation_space\n",
    "action_space = env.action_space"
   ],
   "metadata": {
    "id": "8rcjICx6x5BJ"
   },
   "execution_count": null,
   "outputs": []
  },
  {
   "cell_type": "markdown",
   "source": [
    "# Инициализация модели DQN с использованием \"MlpPolicy\" и обучение по примеру из лекции\n",
    "\n",
    "Обучение модели на 100 временных шагах и сохранение обученной модели в файл \"dqn_mountain_car\"."
   ],
   "metadata": {
    "id": "NzJj5IokyDTN"
   }
  },
  {
   "cell_type": "code",
   "source": [
    "# Инициализация модели\n",
    "model = DQN(\"MlpPolicy\", env, verbose=1)\n",
    "\n",
    "# Обучение модели\n",
    "timestamp = 100  #количество шагов обучения\n",
    "model.learn(total_timesteps=timestamp, log_interval=4)\n",
    "model.save(\"dqn_mountain_car\")  #cохранение обученной модели в файл"
   ],
   "metadata": {
    "id": "r6w7PKCWyTwF"
   },
   "execution_count": null,
   "outputs": []
  },
  {
   "cell_type": "markdown",
   "source": [
    "#  Тестирование модели"
   ],
   "metadata": {
    "id": "wqVSGrCSyrsZ"
   }
  },
  {
   "cell_type": "code",
   "source": [
    "import gym\n",
    "from IPython import display\n",
    "from pyvirtualdisplay import Display\n",
    "import matplotlib.pyplot as plt\n",
    "from matplotlib import animation"
   ],
   "metadata": {
    "id": "8ZQRS4eszEzd"
   },
   "execution_count": null,
   "outputs": []
  },
  {
   "cell_type": "markdown",
   "source": [
    "Инициализация, запуск виртуального дисплей. Создание среды для тестирования, и ее сброс."
   ],
   "metadata": {
    "id": "cyUVOjCMzSEa"
   }
  },
  {
   "cell_type": "code",
   "source": [
    "# Запуск виртуального дисплея\n",
    "d = Display()\n",
    "d.start()\n",
    "\n",
    "# Создание среды для тестирования\n",
    "env = gym.make('MountainCar-v0')\n",
    "\n",
    "# Сброс среды и получение начального наблюдения\n",
    "obs = env.reset()"
   ],
   "metadata": {
    "id": "CzdjaUY1z8lQ"
   },
   "execution_count": null,
   "outputs": []
  },
  {
   "cell_type": "markdown",
   "source": [
    "В данной части кода осуществляется процесс, в котором модель используется для предсказания действий. Затем эти действия применяются к среде, и текущий кадр среды сохраняется в формате изображения для последующего использования в анимации."
   ],
   "metadata": {
    "id": "GBEgNoOu0SNI"
   }
  },
  {
   "cell_type": "code",
   "source": [
    "# Запись изображений для создания анимации\n",
    "img = []\n",
    "for _ in range(100):\n",
    "    # Прогноз действия с использованием обученной модели\n",
    "    action, _states = model.predict(obs, deterministic=True)\n",
    "    # Применение действия к среде\n",
    "    obs, reward, terminated, truncated = env.step(action)\n",
    "\n",
    "    # Очистка вывода для анимации\n",
    "    display.clear_output(wait=True)\n",
    "    # Запись текущего кадра среды в виде изображения\n",
    "    img.append(env.render('rgb_array'))\n",
    "\n",
    "    # Сброс среды (если используется виртуальный дисплей)\n",
    "    if d:\n",
    "        env.reset()"
   ],
   "metadata": {
    "id": "tUNs4Ftf14v-"
   },
   "execution_count": null,
   "outputs": []
  },
  {
   "cell_type": "markdown",
   "source": [
    "Определение параметров для анимации. Создание анимации и отображение."
   ],
   "metadata": {
    "id": "WcS2zzxR2P3o"
   }
  },
  {
   "cell_type": "code",
   "source": [
    "# Параметры для создания анимации\n",
    "dpi = 72\n",
    "interval = 50  # ms\n",
    "\n",
    "# Создание и отображение анимации\n",
    "plt.figure(figsize=(img[0].shape[1] / dpi, img[0].shape[0] / dpi), dpi=dpi)\n",
    "patch = plt.imshow(img[0])\n",
    "plt.axis = ('off')\n",
    "animate = lambda i: patch.set_data(img[i])\n",
    "ani = animation.FuncAnimation(plt.gcf(), animate, frames=len(img), interval=interval)\n",
    "display.display(display.HTML(ani.to_jshtml()))"
   ],
   "metadata": {
    "id": "H8XApjYG2kZ9"
   },
   "execution_count": null,
   "outputs": []
  },
  {
   "cell_type": "markdown",
   "source": [
    "# Закрытие среды после тестирования\n",
    "\n",
    "По завершении тестирования мы закрываем среду с помощью env.close()."
   ],
   "metadata": {
    "id": "X62bmB-82xru"
   }
  },
  {
   "cell_type": "code",
   "source": [
    "# Закрытие среды после тестирования\n",
    "env.close()"
   ],
   "metadata": {
    "id": "wvCQcj8826wc"
   },
   "execution_count": null,
   "outputs": []
  },
  {
   "cell_type": "markdown",
   "source": [
    "# Выводы\n",
    "\n",
    "В ходе работы, было продемонстрированы применение библиотек для работы с обучение с подкреплением gymnasium, обучение модели на примере MountainCar-v0, а также визуализация результатов обучения.\n",
    "\n",
    "# Этапы рыботы:\n",
    "\n",
    "1. Установка библиотек.\n",
    "\n",
    "Установка библиотек и зависимостей: Gym, Stable-Baselines3, PyVirtualDisplay и Xvfb. С целью работы с окружением, обучения моделей и визуализации конечного результата.\n",
    "\n",
    "2. Import и настройка окружения.\n",
    "\n",
    "Импорт библиотек: Gym, Stable-Baselines3.\n",
    "Создано окружение для MountainCar-v0.\n",
    "Извлечено пространство наблюдения,действий для обучения.\n",
    "\n",
    "3. Обучение.\n",
    "\n",
    "Обучение модели с помощью алгоритма\n",
    "DQN на среде MountainCar-v0.\n",
    "Обучение происходило на заданном количестве (по умолчанию 100) временных шагов и результаты были сохранены в файл.\n",
    "\n",
    "4. Анимация.\n",
    "\n",
    "Обученная модель используется для предсказания действий в среде на основе входных данных. Для каждого выбранного действия отрисовывается кадр, которые потом составляются в анимацию.\n",
    "\n",
    "\n",
    "5. Закрытие среды.\n",
    "\n",
    "Закрытие среды для освобождения ресурсов."
   ],
   "metadata": {
    "id": "3h8Zp6gB3Aiw"
   }
  }
 ]
}
