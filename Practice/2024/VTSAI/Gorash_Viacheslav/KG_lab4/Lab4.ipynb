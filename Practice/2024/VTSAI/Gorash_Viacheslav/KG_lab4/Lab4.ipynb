{
 "cells": [
  {
   "cell_type": "markdown",
   "id": "35f214f4-fd23-4954-bb7e-80aa8e257b53",
   "metadata": {
    "collapsed": true,
    "jupyter": {
     "outputs_hidden": true
    }
   },
   "source": [
    "# Лабораторная работа 4 "
   ]
  },
  {
   "cell_type": "markdown",
   "id": "f4dc7557-f3c7-44df-9971-e75e00ae5ae0",
   "metadata": {},
   "source": [
    "### Импорт зависимостей"
   ]
  },
  {
   "cell_type": "code",
   "execution_count": 14,
   "id": "2ab30d47-e209-4c56-b4f0-761e36d81b5e",
   "metadata": {},
   "outputs": [],
   "source": [
    "import pykeen\n",
    "import torch\n",
    "from pykeen.datasets import PharmKG8k\n",
    "from pykeen.pipeline import pipeline\n",
    "from pykeen.predict import predict_triples"
   ]
  },
  {
   "cell_type": "markdown",
   "id": "78872bda-6f9a-4c82-a53f-1be9cd75d47c",
   "metadata": {},
   "source": [
    "### Загрузка датасета"
   ]
  },
  {
   "cell_type": "code",
   "execution_count": 5,
   "id": "7bc23280-6e1b-4a31-bfdb-08bda55643a9",
   "metadata": {},
   "outputs": [
    {
     "data": {
      "application/vnd.jupyter.widget-view+json": {
       "model_id": "",
       "version_major": 2,
       "version_minor": 0
      },
      "text/plain": [
       "Downloading train.tsv: 0.00B [00:00, ?B/s]"
      ]
     },
     "metadata": {},
     "output_type": "display_data"
    },
    {
     "data": {
      "application/vnd.jupyter.widget-view+json": {
       "model_id": "",
       "version_major": 2,
       "version_minor": 0
      },
      "text/plain": [
       "Downloading test.tsv: 0.00B [00:00, ?B/s]"
      ]
     },
     "metadata": {},
     "output_type": "display_data"
    },
    {
     "data": {
      "application/vnd.jupyter.widget-view+json": {
       "model_id": "",
       "version_major": 2,
       "version_minor": 0
      },
      "text/plain": [
       "Downloading valid.tsv: 0.00B [00:00, ?B/s]"
      ]
     },
     "metadata": {},
     "output_type": "display_data"
    }
   ],
   "source": [
    "dataset = PharmKG8k()"
   ]
  },
  {
   "cell_type": "code",
   "execution_count": 6,
   "id": "35c731be-b540-4ea0-af2d-5fa7515d9cae",
   "metadata": {},
   "outputs": [
    {
     "name": "stdout",
     "output_type": "stream",
     "text": [
      "PharmKG8k(training_path=\"C:\\Users\\goras\\.data\\pykeen\\datasets\\pharmkg8k\\train.tsv\", testing_path=\"C:\\Users\\goras\\.data\\pykeen\\datasets\\pharmkg8k\\test.tsv\", validation_path=\"C:\\Users\\goras\\.data\\pykeen\\datasets\\pharmkg8k\\valid.tsv\")\n"
     ]
    }
   ],
   "source": [
    "print(dataset)"
   ]
  },
  {
   "cell_type": "code",
   "execution_count": 7,
   "id": "1c23cc85-f032-4c3f-90b0-b58f48c5513b",
   "metadata": {},
   "outputs": [
    {
     "name": "stderr",
     "output_type": "stream",
     "text": [
      "You're trying to map triples with 7 entities and 0 relations that are not in the training set. These triples will be excluded from the mapping.\n",
      "In total 7 from 50036 triples were filtered out\n"
     ]
    },
    {
     "name": "stdout",
     "output_type": "stream",
     "text": [
      "tensor([[   0,   13, 6562],\n",
      "        [   2,   13, 4427],\n",
      "        [   2,   13, 6038],\n",
      "        [   2,   13, 6986],\n",
      "        [   2,   26,  330]])\n"
     ]
    }
   ],
   "source": [
    "training_data = dataset.training.mapped_triples\n",
    "print(training_data[:5])"
   ]
  },
  {
   "cell_type": "markdown",
   "id": "3e52d622-6cd8-4dfd-b3cb-56991abad9b7",
   "metadata": {},
   "source": [
    "### Инициализация и обучение модели"
   ]
  },
  {
   "cell_type": "code",
   "execution_count": 11,
   "id": "3d020be2-9d2d-44cb-b1e2-ade281ed81b4",
   "metadata": {},
   "outputs": [
    {
     "name": "stdout",
     "output_type": "stream",
     "text": [
      "Using device: cuda\n"
     ]
    }
   ],
   "source": [
    "device = torch.device(\"cuda\" if torch.cuda.is_available() else \"cpu\")\n",
    "print(f\"Using device: {device}\")"
   ]
  },
  {
   "cell_type": "code",
   "execution_count": 12,
   "id": "c185d8cb-38d8-40e4-b6ea-a29b9d4661af",
   "metadata": {},
   "outputs": [
    {
     "name": "stderr",
     "output_type": "stream",
     "text": [
      "No random seed is specified. Setting to 3097829094.\n",
      "You're trying to map triples with 12 entities and 0 relations that are not in the training set. These triples will be excluded from the mapping.\n",
      "In total 12 from 49536 triples were filtered out\n"
     ]
    },
    {
     "data": {
      "application/vnd.jupyter.widget-view+json": {
       "model_id": "35ac6dae67f04bfb8447247fb3289d8b",
       "version_major": 2,
       "version_minor": 0
      },
      "text/plain": [
       "Training epochs on cuda:0:   0%|          | 0/20 [00:00<?, ?epoch/s]"
      ]
     },
     "metadata": {},
     "output_type": "display_data"
    },
    {
     "data": {
      "application/vnd.jupyter.widget-view+json": {
       "model_id": "",
       "version_major": 2,
       "version_minor": 0
      },
      "text/plain": [
       "Training batches on cuda:0:   0%|          | 0/1511 [00:00<?, ?batch/s]"
      ]
     },
     "metadata": {},
     "output_type": "display_data"
    },
    {
     "data": {
      "application/vnd.jupyter.widget-view+json": {
       "model_id": "",
       "version_major": 2,
       "version_minor": 0
      },
      "text/plain": [
       "Training batches on cuda:0:   0%|          | 0/1511 [00:00<?, ?batch/s]"
      ]
     },
     "metadata": {},
     "output_type": "display_data"
    },
    {
     "data": {
      "application/vnd.jupyter.widget-view+json": {
       "model_id": "",
       "version_major": 2,
       "version_minor": 0
      },
      "text/plain": [
       "Training batches on cuda:0:   0%|          | 0/1511 [00:00<?, ?batch/s]"
      ]
     },
     "metadata": {},
     "output_type": "display_data"
    },
    {
     "data": {
      "application/vnd.jupyter.widget-view+json": {
       "model_id": "",
       "version_major": 2,
       "version_minor": 0
      },
      "text/plain": [
       "Training batches on cuda:0:   0%|          | 0/1511 [00:00<?, ?batch/s]"
      ]
     },
     "metadata": {},
     "output_type": "display_data"
    },
    {
     "data": {
      "application/vnd.jupyter.widget-view+json": {
       "model_id": "",
       "version_major": 2,
       "version_minor": 0
      },
      "text/plain": [
       "Training batches on cuda:0:   0%|          | 0/1511 [00:00<?, ?batch/s]"
      ]
     },
     "metadata": {},
     "output_type": "display_data"
    },
    {
     "data": {
      "application/vnd.jupyter.widget-view+json": {
       "model_id": "",
       "version_major": 2,
       "version_minor": 0
      },
      "text/plain": [
       "Training batches on cuda:0:   0%|          | 0/1511 [00:00<?, ?batch/s]"
      ]
     },
     "metadata": {},
     "output_type": "display_data"
    },
    {
     "data": {
      "application/vnd.jupyter.widget-view+json": {
       "model_id": "",
       "version_major": 2,
       "version_minor": 0
      },
      "text/plain": [
       "Training batches on cuda:0:   0%|          | 0/1511 [00:00<?, ?batch/s]"
      ]
     },
     "metadata": {},
     "output_type": "display_data"
    },
    {
     "data": {
      "application/vnd.jupyter.widget-view+json": {
       "model_id": "",
       "version_major": 2,
       "version_minor": 0
      },
      "text/plain": [
       "Training batches on cuda:0:   0%|          | 0/1511 [00:00<?, ?batch/s]"
      ]
     },
     "metadata": {},
     "output_type": "display_data"
    },
    {
     "data": {
      "application/vnd.jupyter.widget-view+json": {
       "model_id": "",
       "version_major": 2,
       "version_minor": 0
      },
      "text/plain": [
       "Training batches on cuda:0:   0%|          | 0/1511 [00:00<?, ?batch/s]"
      ]
     },
     "metadata": {},
     "output_type": "display_data"
    },
    {
     "data": {
      "application/vnd.jupyter.widget-view+json": {
       "model_id": "",
       "version_major": 2,
       "version_minor": 0
      },
      "text/plain": [
       "Training batches on cuda:0:   0%|          | 0/1511 [00:00<?, ?batch/s]"
      ]
     },
     "metadata": {},
     "output_type": "display_data"
    },
    {
     "data": {
      "application/vnd.jupyter.widget-view+json": {
       "model_id": "",
       "version_major": 2,
       "version_minor": 0
      },
      "text/plain": [
       "Training batches on cuda:0:   0%|          | 0/1511 [00:00<?, ?batch/s]"
      ]
     },
     "metadata": {},
     "output_type": "display_data"
    },
    {
     "data": {
      "application/vnd.jupyter.widget-view+json": {
       "model_id": "",
       "version_major": 2,
       "version_minor": 0
      },
      "text/plain": [
       "Training batches on cuda:0:   0%|          | 0/1511 [00:00<?, ?batch/s]"
      ]
     },
     "metadata": {},
     "output_type": "display_data"
    },
    {
     "data": {
      "application/vnd.jupyter.widget-view+json": {
       "model_id": "",
       "version_major": 2,
       "version_minor": 0
      },
      "text/plain": [
       "Training batches on cuda:0:   0%|          | 0/1511 [00:00<?, ?batch/s]"
      ]
     },
     "metadata": {},
     "output_type": "display_data"
    },
    {
     "data": {
      "application/vnd.jupyter.widget-view+json": {
       "model_id": "",
       "version_major": 2,
       "version_minor": 0
      },
      "text/plain": [
       "Training batches on cuda:0:   0%|          | 0/1511 [00:00<?, ?batch/s]"
      ]
     },
     "metadata": {},
     "output_type": "display_data"
    },
    {
     "data": {
      "application/vnd.jupyter.widget-view+json": {
       "model_id": "",
       "version_major": 2,
       "version_minor": 0
      },
      "text/plain": [
       "Training batches on cuda:0:   0%|          | 0/1511 [00:00<?, ?batch/s]"
      ]
     },
     "metadata": {},
     "output_type": "display_data"
    },
    {
     "data": {
      "application/vnd.jupyter.widget-view+json": {
       "model_id": "",
       "version_major": 2,
       "version_minor": 0
      },
      "text/plain": [
       "Training batches on cuda:0:   0%|          | 0/1511 [00:00<?, ?batch/s]"
      ]
     },
     "metadata": {},
     "output_type": "display_data"
    },
    {
     "data": {
      "application/vnd.jupyter.widget-view+json": {
       "model_id": "",
       "version_major": 2,
       "version_minor": 0
      },
      "text/plain": [
       "Training batches on cuda:0:   0%|          | 0/1511 [00:00<?, ?batch/s]"
      ]
     },
     "metadata": {},
     "output_type": "display_data"
    },
    {
     "data": {
      "application/vnd.jupyter.widget-view+json": {
       "model_id": "",
       "version_major": 2,
       "version_minor": 0
      },
      "text/plain": [
       "Training batches on cuda:0:   0%|          | 0/1511 [00:00<?, ?batch/s]"
      ]
     },
     "metadata": {},
     "output_type": "display_data"
    },
    {
     "data": {
      "application/vnd.jupyter.widget-view+json": {
       "model_id": "",
       "version_major": 2,
       "version_minor": 0
      },
      "text/plain": [
       "Training batches on cuda:0:   0%|          | 0/1511 [00:00<?, ?batch/s]"
      ]
     },
     "metadata": {},
     "output_type": "display_data"
    },
    {
     "data": {
      "application/vnd.jupyter.widget-view+json": {
       "model_id": "",
       "version_major": 2,
       "version_minor": 0
      },
      "text/plain": [
       "Training batches on cuda:0:   0%|          | 0/1511 [00:00<?, ?batch/s]"
      ]
     },
     "metadata": {},
     "output_type": "display_data"
    },
    {
     "name": "stderr",
     "output_type": "stream",
     "text": [
      "INFO:pykeen.evaluation.evaluator:Starting batch_size search for evaluation now...\n",
      "C:\\Users\\goras\\miniconda3\\envs\\AI_testing\\Lib\\site-packages\\pykeen\\utils.py:545: RuntimeWarning: overflow encountered in scalar add\n",
      "  return sum(\n",
      "INFO:pykeen.evaluation.evaluator:Concluded batch_size search with batch_size=4096.\n"
     ]
    },
    {
     "data": {
      "application/vnd.jupyter.widget-view+json": {
       "model_id": "f4737e0e458f40a89b56fa80c8098dde",
       "version_major": 2,
       "version_minor": 0
      },
      "text/plain": [
       "Evaluating on cuda:0:   0%|          | 0.00/49.8k [00:00<?, ?triple/s]"
      ]
     },
     "metadata": {},
     "output_type": "display_data"
    },
    {
     "name": "stderr",
     "output_type": "stream",
     "text": [
      "INFO:pykeen.evaluation.evaluator:Evaluation took 14.15s seconds\n"
     ]
    }
   ],
   "source": [
    "pipeline_results = pipeline(\n",
    "    model=\"TransE\",      # Выбираем модель (TransE - одна из моделей для предсказания отношений)\n",
    "    dataset=dataset,     # Выбираем графовый датасет (Nations)\n",
    "    training_kwargs=dict(num_epochs=20),   # Количество эпох обучения\n",
    "    device=device\n",
    ")"
   ]
  },
  {
   "cell_type": "code",
   "execution_count": 13,
   "id": "78cc725b-99d8-4b7b-a8af-3a37c1b7c8e6",
   "metadata": {},
   "outputs": [
    {
     "name": "stdout",
     "output_type": "stream",
     "text": [
      "PipelineResult(random_seed=3097829094, model=TransE(\n",
      "  (loss): MarginRankingLoss(\n",
      "    (margin_activation): ReLU()\n",
      "  )\n",
      "  (interaction): TransEInteraction()\n",
      "  (entity_representations): ModuleList(\n",
      "    (0): Embedding(\n",
      "      (_embeddings): Embedding(7247, 50)\n",
      "    )\n",
      "  )\n",
      "  (relation_representations): ModuleList(\n",
      "    (0): Embedding(\n",
      "      (_embeddings): Embedding(28, 50)\n",
      "    )\n",
      "  )\n",
      "  (weight_regularizers): ModuleList()\n",
      "), training=TriplesFactory(num_entities=7247, num_relations=28, create_inverse_triples=False, num_triples=386768, path=\"C:\\Users\\goras\\.data\\pykeen\\datasets\\pharmkg8k\\train.tsv\"), training_loop=<pykeen.training.slcwa.SLCWATrainingLoop object at 0x0000021F2DA8FB50>, losses=[0.9050896000893679, 0.4821024591326319, 0.30059280515229914, 0.22956995663068533, 0.19556266196136204, 0.17271366865330387, 0.15925558402019965, 0.1458574859320644, 0.13915810684231555, 0.1307797398760885, 0.12624521926538507, 0.1220932830122628, 0.11928821837345864, 0.11655168867442563, 0.11368695187458212, 0.1113193619338035, 0.11075702292596876, 0.10887996211381719, 0.10643503658626349, 0.10615530719303833], metric_results=<pykeen.evaluation.rank_based_evaluator.RankBasedMetricResults object at 0x0000021F1A700BD0>, train_seconds=63.51335382461548, evaluate_seconds=25.321192741394043, stopper=<pykeen.stoppers.stopper.NopStopper object at 0x0000021F263EBB90>, configuration={'dataset': 'pharmkg8k', 'dataset_kwargs': None, 'model': 'TransE', 'model_kwargs': {'random_seed': 3097829094, 'loss': MarginRankingLoss(\n",
      "  (margin_activation): ReLU()\n",
      "), 'embedding_dim': 50, 'scoring_fct_norm': 1, 'entity_initializer': <function xavier_uniform_ at 0x0000021F09F0B560>, 'entity_constrainer': <function normalize at 0x0000021F5C88F740>, 'relation_initializer': <pykeen.utils.compose object at 0x0000021F0983DCD0>, 'relation_constrainer': None, 'regularizer': None, 'regularizer_kwargs': None}, 'loss_kwargs': None, 'regularizer_kwargs': None, 'optimizer': 'Adam', 'optimizer_kwargs': {'lr': 0.001, 'betas': (0.9, 0.999), 'eps': 1e-08, 'weight_decay': 0, 'amsgrad': False, 'maximize': False, 'foreach': None, 'capturable': False, 'differentiable': False, 'fused': None}, 'training_loop': 'SLCWATrainingLoop', 'training_loop_kwargs': {}, 'evaluator': 'RankBasedEvaluator', 'evaluator_kwargs': {}, 'num_epochs': 20, 'batch_size': 256, 'evaluation_kwargs': {'additional_filter_triples': {'training': {'sha512': '039ce1a54111fb94986e939ed9808c729dcbb1f368e563a7982c366bed60237afe59d9df96063d30297c8ddde00558e13642929f1d9a18fddb15f967fc374969'}, 'validation': {'sha512': 'fa09ad42cafad55888e0b70e5e666e5d653625b26b11a0f908d68c25eacf7fb417fccf01657fa71597ac637b0e4deaaf41033d666ad9d853d131e06dfdd70167'}}}}, metadata={}, version='1.10.1', git_hash='UNHASHED')\n"
     ]
    }
   ],
   "source": [
    "print(pipeline_results)"
   ]
  },
  {
   "cell_type": "markdown",
   "id": "a9b3e9d6-35b6-4160-adcb-514f19d69268",
   "metadata": {},
   "source": [
    "### Triple Scoring"
   ]
  },
  {
   "cell_type": "code",
   "execution_count": 15,
   "id": "286f4971-cb99-4948-98a8-d57b1eef694a",
   "metadata": {},
   "outputs": [
    {
     "name": "stderr",
     "output_type": "stream",
     "text": [
      "WARNING:torch_max_mem.api:Encountered tensors on device_types={'cpu'} while only ['cuda'] are considered safe for automatic memory utilization maximization. This may lead to undocumented crashes (but can be safe, too).\n"
     ]
    }
   ],
   "source": [
    "pack = predict_triples(model=pipeline_results.model, triples=dataset.validation)\n",
    "df = pack.process(factory=pipeline_results.training).df"
   ]
  },
  {
   "cell_type": "code",
   "execution_count": 17,
   "id": "0b61fd16-12b7-45d2-bc8b-4b640056de04",
   "metadata": {},
   "outputs": [
    {
     "data": {
      "text/html": [
       "<div>\n",
       "<style scoped>\n",
       "    .dataframe tbody tr th:only-of-type {\n",
       "        vertical-align: middle;\n",
       "    }\n",
       "\n",
       "    .dataframe tbody tr th {\n",
       "        vertical-align: top;\n",
       "    }\n",
       "\n",
       "    .dataframe thead th {\n",
       "        text-align: right;\n",
       "    }\n",
       "</style>\n",
       "<table border=\"1\" class=\"dataframe\">\n",
       "  <thead>\n",
       "    <tr style=\"text-align: right;\">\n",
       "      <th></th>\n",
       "      <th>head_id</th>\n",
       "      <th>head_label</th>\n",
       "      <th>relation_id</th>\n",
       "      <th>relation_label</th>\n",
       "      <th>tail_id</th>\n",
       "      <th>tail_label</th>\n",
       "      <th>score</th>\n",
       "    </tr>\n",
       "  </thead>\n",
       "  <tbody>\n",
       "    <tr>\n",
       "      <th>161</th>\n",
       "      <td>19</td>\n",
       "      <td>abcb11</td>\n",
       "      <td>20</td>\n",
       "      <td>Ra</td>\n",
       "      <td>19</td>\n",
       "      <td>abcb11</td>\n",
       "      <td>-2.153477</td>\n",
       "    </tr>\n",
       "    <tr>\n",
       "      <th>1484</th>\n",
       "      <td>219</td>\n",
       "      <td>ahsg</td>\n",
       "      <td>20</td>\n",
       "      <td>Ra</td>\n",
       "      <td>219</td>\n",
       "      <td>ahsg</td>\n",
       "      <td>-2.153477</td>\n",
       "    </tr>\n",
       "    <tr>\n",
       "      <th>2781</th>\n",
       "      <td>442</td>\n",
       "      <td>apoe</td>\n",
       "      <td>20</td>\n",
       "      <td>Ra</td>\n",
       "      <td>442</td>\n",
       "      <td>apoe</td>\n",
       "      <td>-2.153477</td>\n",
       "    </tr>\n",
       "    <tr>\n",
       "      <th>2971</th>\n",
       "      <td>461</td>\n",
       "      <td>ar</td>\n",
       "      <td>20</td>\n",
       "      <td>Ra</td>\n",
       "      <td>461</td>\n",
       "      <td>ar</td>\n",
       "      <td>-2.153477</td>\n",
       "    </tr>\n",
       "    <tr>\n",
       "      <th>4344</th>\n",
       "      <td>696</td>\n",
       "      <td>bcor</td>\n",
       "      <td>20</td>\n",
       "      <td>Ra</td>\n",
       "      <td>696</td>\n",
       "      <td>bcor</td>\n",
       "      <td>-2.153477</td>\n",
       "    </tr>\n",
       "    <tr>\n",
       "      <th>...</th>\n",
       "      <td>...</td>\n",
       "      <td>...</td>\n",
       "      <td>...</td>\n",
       "      <td>...</td>\n",
       "      <td>...</td>\n",
       "      <td>...</td>\n",
       "      <td>...</td>\n",
       "    </tr>\n",
       "    <tr>\n",
       "      <th>9295</th>\n",
       "      <td>1344</td>\n",
       "      <td>cish</td>\n",
       "      <td>21</td>\n",
       "      <td>Rg</td>\n",
       "      <td>1344</td>\n",
       "      <td>cish</td>\n",
       "      <td>-2.284354</td>\n",
       "    </tr>\n",
       "    <tr>\n",
       "      <th>9471</th>\n",
       "      <td>1360</td>\n",
       "      <td>clcn2</td>\n",
       "      <td>21</td>\n",
       "      <td>Rg</td>\n",
       "      <td>1360</td>\n",
       "      <td>clcn2</td>\n",
       "      <td>-2.284354</td>\n",
       "    </tr>\n",
       "    <tr>\n",
       "      <th>9492</th>\n",
       "      <td>1367</td>\n",
       "      <td>cldn1</td>\n",
       "      <td>21</td>\n",
       "      <td>Rg</td>\n",
       "      <td>1367</td>\n",
       "      <td>cldn1</td>\n",
       "      <td>-2.284354</td>\n",
       "    </tr>\n",
       "    <tr>\n",
       "      <th>9501</th>\n",
       "      <td>1370</td>\n",
       "      <td>cldn18</td>\n",
       "      <td>21</td>\n",
       "      <td>Rg</td>\n",
       "      <td>1370</td>\n",
       "      <td>cldn18</td>\n",
       "      <td>-2.284354</td>\n",
       "    </tr>\n",
       "    <tr>\n",
       "      <th>9898</th>\n",
       "      <td>1437</td>\n",
       "      <td>coch</td>\n",
       "      <td>21</td>\n",
       "      <td>Rg</td>\n",
       "      <td>1437</td>\n",
       "      <td>coch</td>\n",
       "      <td>-2.284354</td>\n",
       "    </tr>\n",
       "  </tbody>\n",
       "</table>\n",
       "<p>100 rows × 7 columns</p>\n",
       "</div>"
      ],
      "text/plain": [
       "      head_id head_label  relation_id relation_label  tail_id tail_label  \\\n",
       "161        19     abcb11           20             Ra       19     abcb11   \n",
       "1484      219       ahsg           20             Ra      219       ahsg   \n",
       "2781      442       apoe           20             Ra      442       apoe   \n",
       "2971      461         ar           20             Ra      461         ar   \n",
       "4344      696       bcor           20             Ra      696       bcor   \n",
       "...       ...        ...          ...            ...      ...        ...   \n",
       "9295     1344       cish           21             Rg     1344       cish   \n",
       "9471     1360      clcn2           21             Rg     1360      clcn2   \n",
       "9492     1367      cldn1           21             Rg     1367      cldn1   \n",
       "9501     1370     cldn18           21             Rg     1370     cldn18   \n",
       "9898     1437       coch           21             Rg     1437       coch   \n",
       "\n",
       "         score  \n",
       "161  -2.153477  \n",
       "1484 -2.153477  \n",
       "2781 -2.153477  \n",
       "2971 -2.153477  \n",
       "4344 -2.153477  \n",
       "...        ...  \n",
       "9295 -2.284354  \n",
       "9471 -2.284354  \n",
       "9492 -2.284354  \n",
       "9501 -2.284354  \n",
       "9898 -2.284354  \n",
       "\n",
       "[100 rows x 7 columns]"
      ]
     },
     "execution_count": 17,
     "metadata": {},
     "output_type": "execute_result"
    }
   ],
   "source": [
    "df.nlargest(n=100, columns=\"score\")"
   ]
  },
  {
   "cell_type": "code",
   "execution_count": null,
   "id": "034e97f3-9045-4e20-938f-d0e091e48bbe",
   "metadata": {},
   "outputs": [],
   "source": []
  }
 ],
 "metadata": {
  "kernelspec": {
   "display_name": "Python 3 (ipykernel)",
   "language": "python",
   "name": "python3"
  },
  "language_info": {
   "codemirror_mode": {
    "name": "ipython",
    "version": 3
   },
   "file_extension": ".py",
   "mimetype": "text/x-python",
   "name": "python",
   "nbconvert_exporter": "python",
   "pygments_lexer": "ipython3",
   "version": "3.11.7"
  }
 },
 "nbformat": 4,
 "nbformat_minor": 5
}
