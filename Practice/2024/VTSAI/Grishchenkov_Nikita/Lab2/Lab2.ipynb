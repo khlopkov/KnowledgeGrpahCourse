{
  "cells": [
    {
      "cell_type": "code",
      "execution_count": null,
      "metadata": {
        "id": "Gs8SbQycjR2N"
      },
      "outputs": [],
      "source": [
        "!pip install gymnasium\n",
        "!pip install stable-baselines3\n",
        "!pip install pyvirtualdisplay\n",
        "!sudo apt-get install xvfb\n",
        "!pip install swig\n",
        "!pip install gymnasium[box2d]"
      ]
    },
    {
      "cell_type": "code",
      "execution_count": 2,
      "metadata": {
        "id": "0KyFBKMqjWoH"
      },
      "outputs": [],
      "source": [
        "import gymnasium as gym\n",
        "from stable_baselines3 import SAC,DDPG\n",
        "import numpy as np\n",
        "import matplotlib.pyplot as plt"
      ]
    },
    {
      "cell_type": "code",
      "execution_count": 3,
      "metadata": {
        "colab": {
          "base_uri": "https://localhost:8080/"
        },
        "id": "CNryk_JxjZVU",
        "outputId": "5479729c-44d8-4132-d04a-8fedbe17b93f"
      },
      "outputs": [
        {
          "name": "stderr",
          "output_type": "stream",
          "text": [
            "/usr/local/lib/python3.10/dist-packages/ipykernel/ipkernel.py:283: DeprecationWarning: `should_run_async` will not call `transform_cell` automatically in the future. Please pass the result to `transformed_cell` argument and any exception that happen during thetransform in `preprocessing_exc_tuple` in IPython 7.17 and above.\n",
            "  and should_run_async(code)\n"
          ]
        }
      ],
      "source": [
        "env = gym.make(\"CarRacing-v2\")"
      ]
    },
    {
      "cell_type": "code",
      "execution_count": 4,
      "metadata": {
        "id": "PxY5nwT1jbjY"
      },
      "outputs": [],
      "source": [
        "def epsilon_greedy(Q_values, epsilon):\n",
        "    if np.random.rand() < epsilon:\n",
        "        return np.random.choice(len(Q_values))\n",
        "    else:\n",
        "        return np.argmax(Q_values)"
      ]
    },
    {
      "cell_type": "code",
      "execution_count": 5,
      "metadata": {
        "id": "J6rp6glyjy2U"
      },
      "outputs": [],
      "source": [
        "def ucb1(Q_values, counts, total_counts):\n",
        "    ucb_values = Q_values + np.sqrt((2 * np.log(total_counts)) / counts)\n",
        "    return np.argmax(ucb_values)"
      ]
    },
    {
      "cell_type": "code",
      "execution_count": 6,
      "metadata": {
        "colab": {
          "base_uri": "https://localhost:8080/"
        },
        "id": "WqKIkMcVj5ev",
        "outputId": "3f9ca194-dcce-4cfd-f659-d6742be5a717"
      },
      "outputs": [
        {
          "name": "stderr",
          "output_type": "stream",
          "text": [
            "/usr/local/lib/python3.10/dist-packages/stable_baselines3/common/buffers.py:241: UserWarning: This system does not have apparently enough memory to store the complete replay buffer 55.32GB > 12.08GB\n",
            "  warnings.warn(\n"
          ]
        },
        {
          "name": "stdout",
          "output_type": "stream",
          "text": [
            "Using cuda device\n",
            "Wrapping the env with a `Monitor` wrapper\n",
            "Wrapping the env in a DummyVecEnv.\n",
            "Wrapping the env in a VecTransposeImage.\n",
            "---------------------------------\n",
            "| rollout/           |          |\n",
            "|    ep_len_mean     | 1e+03    |\n",
            "|    ep_rew_mean     | -35.2    |\n",
            "| time/              |          |\n",
            "|    episodes        | 1        |\n",
            "|    fps             | 55       |\n",
            "|    time_elapsed    | 17       |\n",
            "|    total_timesteps | 1000     |\n",
            "---------------------------------\n",
            "---------------------------------\n",
            "| rollout/           |          |\n",
            "|    ep_len_mean     | 1e+03    |\n",
            "|    ep_rew_mean     | -64.2    |\n",
            "| time/              |          |\n",
            "|    episodes        | 2        |\n",
            "|    fps             | 38       |\n",
            "|    time_elapsed    | 51       |\n",
            "|    total_timesteps | 2000     |\n",
            "| train/             |          |\n",
            "|    actor_loss      | -0.0198  |\n",
            "|    critic_loss     | 0.638    |\n",
            "|    learning_rate   | 0.001    |\n",
            "|    n_updates       | 1000     |\n",
            "---------------------------------\n",
            "---------------------------------\n",
            "| rollout/           |          |\n",
            "|    ep_len_mean     | 1e+03    |\n",
            "|    ep_rew_mean     | -72.6    |\n",
            "| time/              |          |\n",
            "|    episodes        | 3        |\n",
            "|    fps             | 35       |\n",
            "|    time_elapsed    | 83       |\n",
            "|    total_timesteps | 3000     |\n",
            "| train/             |          |\n",
            "|    actor_loss      | 0.755    |\n",
            "|    critic_loss     | 0.103    |\n",
            "|    learning_rate   | 0.001    |\n",
            "|    n_updates       | 2000     |\n",
            "---------------------------------\n",
            "---------------------------------\n",
            "| rollout/           |          |\n",
            "|    ep_len_mean     | 1e+03    |\n",
            "|    ep_rew_mean     | -77.8    |\n",
            "| time/              |          |\n",
            "|    episodes        | 4        |\n",
            "|    fps             | 34       |\n",
            "|    time_elapsed    | 115      |\n",
            "|    total_timesteps | 4000     |\n",
            "| train/             |          |\n",
            "|    actor_loss      | 1.4      |\n",
            "|    critic_loss     | 0.0664   |\n",
            "|    learning_rate   | 0.001    |\n",
            "|    n_updates       | 3000     |\n",
            "---------------------------------\n",
            "---------------------------------\n",
            "| rollout/           |          |\n",
            "|    ep_len_mean     | 1e+03    |\n",
            "|    ep_rew_mean     | -81      |\n",
            "| time/              |          |\n",
            "|    episodes        | 5        |\n",
            "|    fps             | 33       |\n",
            "|    time_elapsed    | 148      |\n",
            "|    total_timesteps | 5000     |\n",
            "| train/             |          |\n",
            "|    actor_loss      | 1.93     |\n",
            "|    critic_loss     | 0.0454   |\n",
            "|    learning_rate   | 0.001    |\n",
            "|    n_updates       | 4000     |\n",
            "---------------------------------\n"
          ]
        }
      ],
      "source": [
        "from stable_baselines3.common.noise import NormalActionNoise, OrnsteinUhlenbeckActionNoise\n",
        "n_actions = env.action_space.shape[-1]\n",
        "action_noise = NormalActionNoise(mean=np.zeros(n_actions), sigma=0.1 * np.ones(n_actions))\n",
        "model = DDPG(\"MlpPolicy\", env, action_noise=action_noise, verbose=1)\n",
        "model.learn(total_timesteps=5000, log_interval=1)\n",
        "model.save(\"ddpg_car_racing\")"
      ]
    },
    {
      "cell_type": "code",
      "execution_count": 7,
      "metadata": {
        "colab": {
          "base_uri": "https://localhost:8080/"
        },
        "id": "LjNVz36aj8kh",
        "outputId": "86b5c75d-81fc-4761-ee25-a25033b65121"
      },
      "outputs": [
        {
          "name": "stderr",
          "output_type": "stream",
          "text": [
            "/usr/local/lib/python3.10/dist-packages/ipykernel/ipkernel.py:283: DeprecationWarning: `should_run_async` will not call `transform_cell` automatically in the future. Please pass the result to `transformed_cell` argument and any exception that happen during thetransform in `preprocessing_exc_tuple` in IPython 7.17 and above.\n",
            "  and should_run_async(code)\n"
          ]
        }
      ],
      "source": [
        "import gym\n",
        "from IPython import display\n",
        "from pyvirtualdisplay import Display\n",
        "from matplotlib import animation"
      ]
    },
    {
      "cell_type": "code",
      "execution_count": 8,
      "metadata": {
        "colab": {
          "base_uri": "https://localhost:8080/"
        },
        "id": "Pfj17rRikAzL",
        "outputId": "2bdd917b-ab2a-4221-cfcf-31b45458f5da"
      },
      "outputs": [
        {
          "name": "stderr",
          "output_type": "stream",
          "text": [
            "/usr/local/lib/python3.10/dist-packages/gym/core.py:43: DeprecationWarning: \u001b[33mWARN: The argument mode in render method is deprecated; use render_mode during environment initialization instead.\n",
            "See here for more information: https://www.gymlibrary.ml/content/api/\u001b[0m\n",
            "  deprecation(\n"
          ]
        }
      ],
      "source": [
        "del model\n",
        "timestamp = 1000\n",
        "model = DDPG.load(\"ddpg_car_racing\")\n",
        "ddpg_reward = []\n",
        "d = Display()\n",
        "d.start()\n",
        "env = gym.make('CarRacing-v2')\n",
        "obs = env.reset()\n",
        "img = []\n",
        "for i in range(timestamp):\n",
        "    action, _states = model.predict(obs)\n",
        "    obs, reward, terminated, truncated = env.step(action)\n",
        "    ddpg_reward.append(reward)\n",
        "    display.clear_output(wait=True)\n",
        "    img.append(env.render('rgb_array'))\n",
        "    if d:\n",
        "        env.reset()"
      ]
    },
    {
      "cell_type": "code",
      "execution_count": 9,
      "metadata": {
        "colab": {
          "base_uri": "https://localhost:8080/"
        },
        "id": "1mifBUDfnJt_",
        "outputId": "d8ff3e4a-b98b-4842-866c-04976141cf63"
      },
      "outputs": [
        {
          "name": "stderr",
          "output_type": "stream",
          "text": [
            "/usr/local/lib/python3.10/dist-packages/ipykernel/ipkernel.py:283: DeprecationWarning: `should_run_async` will not call `transform_cell` automatically in the future. Please pass the result to `transformed_cell` argument and any exception that happen during thetransform in `preprocessing_exc_tuple` in IPython 7.17 and above.\n",
            "  and should_run_async(code)\n"
          ]
        }
      ],
      "source": [
        "dpi = 10\n",
        "interval = 1"
      ]
    },
    {
      "cell_type": "code",
      "execution_count": 10,
      "metadata": {
        "colab": {
          "base_uri": "https://localhost:8080/"
        },
        "id": "BOHnzbEakWTj",
        "outputId": "bea6879d-a2f9-46d3-b894-0543f1ed37bf"
      },
      "outputs": [
        {
          "name": "stderr",
          "output_type": "stream",
          "text": [
            "WARNING:matplotlib.animation:Animation size has reached 20982920 bytes, exceeding the limit of 20971520.0. If you're sure you want a larger animation embedded, set the animation.embed_limit rc parameter to a larger value (in MB). This and further frames will be dropped.\n"
          ]
        }
      ],
      "source": [
        "plt.figure(figsize=(img[0].shape[1]/dpi,img[0].shape[0]/dpi),dpi=dpi)\n",
        "patch = plt.imshow(img[0])\n",
        "plt.axis=('off')\n",
        "animate = lambda i: patch.set_data(img[i])\n",
        "ani = animation.FuncAnimation(plt.gcf(),animate,frames=len(img),interval=interval)\n",
        "display.display(display.HTML(ani.to_jshtml()))\n",
        "env.close()"
      ]
    },
    {
      "cell_type": "code",
      "execution_count": 28,
      "metadata": {
        "colab": {
          "base_uri": "https://localhost:8080/"
        },
        "id": "oSBw59vxkbSa",
        "outputId": "af921f36-bc19-4e7c-ec3d-4c61cfc0fd61"
      },
      "outputs": [
        {
          "name": "stdout",
          "output_type": "stream",
          "text": [
            "Using cuda device\n",
            "Wrapping the env with a `Monitor` wrapper\n",
            "Wrapping the env in a DummyVecEnv.\n",
            "Wrapping the env in a VecTransposeImage.\n"
          ]
        },
        {
          "name": "stderr",
          "output_type": "stream",
          "text": [
            "/usr/local/lib/python3.10/dist-packages/stable_baselines3/common/buffers.py:241: UserWarning: This system does not have apparently enough memory to store the complete replay buffer 55.32GB > 9.12GB\n",
            "  warnings.warn(\n"
          ]
        },
        {
          "name": "stdout",
          "output_type": "stream",
          "text": [
            "---------------------------------\n",
            "| rollout/           |          |\n",
            "|    ep_len_mean     | 1e+03    |\n",
            "|    ep_rew_mean     | -33.3    |\n",
            "| time/              |          |\n",
            "|    episodes        | 1        |\n",
            "|    fps             | 21       |\n",
            "|    time_elapsed    | 45       |\n",
            "|    total_timesteps | 1000     |\n",
            "| train/             |          |\n",
            "|    actor_loss      | -10.2    |\n",
            "|    critic_loss     | 0.541    |\n",
            "|    ent_coef        | 0.763    |\n",
            "|    ent_coef_loss   | -1.36    |\n",
            "|    learning_rate   | 0.0003   |\n",
            "|    n_updates       | 899      |\n",
            "---------------------------------\n",
            "---------------------------------\n",
            "| rollout/           |          |\n",
            "|    ep_len_mean     | 1e+03    |\n",
            "|    ep_rew_mean     | -33.7    |\n",
            "| time/              |          |\n",
            "|    episodes        | 2        |\n",
            "|    fps             | 22       |\n",
            "|    time_elapsed    | 90       |\n",
            "|    total_timesteps | 2000     |\n",
            "| train/             |          |\n",
            "|    actor_loss      | -14.9    |\n",
            "|    critic_loss     | 0.253    |\n",
            "|    ent_coef        | 0.565    |\n",
            "|    ent_coef_loss   | -2.89    |\n",
            "|    learning_rate   | 0.0003   |\n",
            "|    n_updates       | 1899     |\n",
            "---------------------------------\n",
            "---------------------------------\n",
            "| rollout/           |          |\n",
            "|    ep_len_mean     | 1e+03    |\n",
            "|    ep_rew_mean     | -33.8    |\n",
            "| time/              |          |\n",
            "|    episodes        | 3        |\n",
            "|    fps             | 22       |\n",
            "|    time_elapsed    | 136      |\n",
            "|    total_timesteps | 3000     |\n",
            "| train/             |          |\n",
            "|    actor_loss      | -18.3    |\n",
            "|    critic_loss     | 0.324    |\n",
            "|    ent_coef        | 0.419    |\n",
            "|    ent_coef_loss   | -4.4     |\n",
            "|    learning_rate   | 0.0003   |\n",
            "|    n_updates       | 2899     |\n",
            "---------------------------------\n",
            "---------------------------------\n",
            "| rollout/           |          |\n",
            "|    ep_len_mean     | 1e+03    |\n",
            "|    ep_rew_mean     | -32.7    |\n",
            "| time/              |          |\n",
            "|    episodes        | 4        |\n",
            "|    fps             | 22       |\n",
            "|    time_elapsed    | 181      |\n",
            "|    total_timesteps | 4000     |\n",
            "| train/             |          |\n",
            "|    actor_loss      | -20      |\n",
            "|    critic_loss     | 0.197    |\n",
            "|    ent_coef        | 0.31     |\n",
            "|    ent_coef_loss   | -5.9     |\n",
            "|    learning_rate   | 0.0003   |\n",
            "|    n_updates       | 3899     |\n",
            "---------------------------------\n",
            "---------------------------------\n",
            "| rollout/           |          |\n",
            "|    ep_len_mean     | 1e+03    |\n",
            "|    ep_rew_mean     | -31.8    |\n",
            "| time/              |          |\n",
            "|    episodes        | 5        |\n",
            "|    fps             | 21       |\n",
            "|    time_elapsed    | 228      |\n",
            "|    total_timesteps | 5000     |\n",
            "| train/             |          |\n",
            "|    actor_loss      | -21.4    |\n",
            "|    critic_loss     | 0.362    |\n",
            "|    ent_coef        | 0.23     |\n",
            "|    ent_coef_loss   | -7.42    |\n",
            "|    learning_rate   | 0.0003   |\n",
            "|    n_updates       | 4899     |\n",
            "---------------------------------\n"
          ]
        }
      ],
      "source": [
        "import gymnasium as gym\n",
        "env = gym.make('CarRacing-v2', render_mode=\"rgb_array\")\n",
        "model = SAC(\"MlpPolicy\", env, verbose=1)\n",
        "model.learn(total_timesteps=5000, log_interval=1)\n",
        "model.save(\"sac_car_racing\")"
      ]
    },
    {
      "cell_type": "code",
      "execution_count": 12,
      "metadata": {
        "id": "i23b0eFUkpa9"
      },
      "outputs": [],
      "source": [
        "import gym"
      ]
    },
    {
      "cell_type": "code",
      "execution_count": null,
      "metadata": {
        "colab": {
          "base_uri": "https://localhost:8080/",
          "height": 471
        },
        "id": "1v0CbM71krUy",
        "outputId": "da09e2e2-ec67-47af-fb2a-106b5e41f7ef"
      },
      "outputs": [],
      "source": [
        "del model\n",
        "model = SAC.load(\"sac_car_racing\")\n",
        "sac_reward = []\n",
        "d = Display()\n",
        "d.start()\n",
        "env = gym.make('CarRacing-v2')\n",
        "obs = env.reset()\n",
        "img = []\n",
        "for i in range(timestamp):\n",
        "    action, _states = model.predict(obs, deterministic=True)\n",
        "    obs, reward, terminated, truncated = env.step(action)\n",
        "    sac_reward.append(reward)\n",
        "    display.clear_output(wait=True)\n",
        "    img.append(env.render('rgb_array'))\n",
        "    if d:\n",
        "        env.reset()"
      ]
    },
    {
      "cell_type": "code",
      "execution_count": 14,
      "metadata": {
        "colab": {
          "base_uri": "https://localhost:8080/"
        },
        "id": "r5a4EUeFkv7t",
        "outputId": "10a1a62f-2b14-4433-c575-0a3de57625a3"
      },
      "outputs": [
        {
          "name": "stderr",
          "output_type": "stream",
          "text": [
            "/usr/local/lib/python3.10/dist-packages/ipykernel/ipkernel.py:283: DeprecationWarning: `should_run_async` will not call `transform_cell` automatically in the future. Please pass the result to `transformed_cell` argument and any exception that happen during thetransform in `preprocessing_exc_tuple` in IPython 7.17 and above.\n",
            "  and should_run_async(code)\n"
          ]
        }
      ],
      "source": [
        "dpi = 72\n",
        "interval = 1"
      ]
    },
    {
      "cell_type": "code",
      "execution_count": null,
      "metadata": {
        "colab": {
          "base_uri": "https://localhost:8080/"
        },
        "id": "bpADwdeHkxtj",
        "outputId": "b7c6d39e-18d0-4039-ecbb-8d83c6d84643"
      },
      "outputs": [
        {
          "name": "stderr",
          "output_type": "stream",
          "text": [
            "WARNING:matplotlib.animation:Animation size has reached 21016951 bytes, exceeding the limit of 20971520.0. If you're sure you want a larger animation embedded, set the animation.embed_limit rc parameter to a larger value (in MB). This and further frames will be dropped.\n"
          ]
        }
      ],
      "source": [
        "plt.figure(figsize=(img[0].shape[1]/dpi,img[0].shape[0]/dpi),dpi=dpi)\n",
        "patch = plt.imshow(img[0])\n",
        "plt.axis=('off')\n",
        "animate = lambda i: patch.set_data(img[i])\n",
        "ani = animation.FuncAnimation(plt.gcf(),animate,frames=len(img),interval=interval)\n",
        "display.display(display.HTML(ani.to_jshtml()))\n",
        "env.close()"
      ]
    },
    {
      "cell_type": "code",
      "execution_count": null,
      "metadata": {
        "id": "nw2_wfMokzx_"
      },
      "outputs": [],
      "source": [
        "def plot_training_results(model_logs, model_names, total_steps=100):\n",
        "    plt.figure(figsize=(12, 6))\n",
        "    for i, logs in enumerate(model_logs):\n",
        "        plt.plot(np.arange(0, total_steps, 1), logs[\"reward\"][:total_steps], label=model_names[i])\n",
        "    plt.title(\"Comparison: SAC vs DDPG\")\n",
        "    plt.xlabel(\"Steps\")\n",
        "    plt.ylabel(\"Reward\")\n",
        "    plt.legend()\n",
        "    plt.grid(True)\n",
        "    plt.show()"
      ]
    },
    {
      "cell_type": "code",
      "execution_count": null,
      "metadata": {
        "id": "UTlBOeXBlQmI"
      },
      "outputs": [],
      "source": [
        "ddpg_logs = {\"reward\": []}\n",
        "sac_logs = {\"reward\": []}"
      ]
    },
    {
      "cell_type": "code",
      "execution_count": null,
      "metadata": {
        "id": "wp73l8hnlUY2"
      },
      "outputs": [],
      "source": [
        "ddpg_logs[\"reward\"] = ddpg_reward\n",
        "sac_logs[\"reward\"] = sac_reward"
      ]
    },
    {
      "cell_type": "code",
      "execution_count": null,
      "metadata": {
        "id": "zA1Ku57alV7Q"
      },
      "outputs": [],
      "source": [
        "plot_training_results([ddpg_logs, sac_logs], [\"DDPG\", \"SAC\"])"
      ]
    },
    {
      "cell_type": "code",
      "execution_count": null,
      "metadata": {
        "id": "JI8RpHAOlX_Y"
      },
      "outputs": [],
      "source": [
        "import gymnasium as gym\n",
        "\n",
        "env = gym.make('CarRacing-v2')\n",
        "\n",
        "learning_rates = [0.0001, 0.001, 0.01]\n",
        "sac_reward = {0.0001:[],0.001:[],0.01:[]}"
      ]
    },
    {
      "cell_type": "code",
      "execution_count": 21,
      "metadata": {
        "colab": {
          "base_uri": "https://localhost:8080/"
        },
        "id": "WZlYApTylbtL",
        "outputId": "10040a72-f9f5-48a0-a24d-c610cc52d737"
      },
      "outputs": [
        {
          "name": "stdout",
          "output_type": "stream",
          "text": [
            "Using cuda device\n",
            "Wrapping the env with a `Monitor` wrapper\n",
            "Wrapping the env in a DummyVecEnv.\n",
            "Wrapping the env in a VecTransposeImage.\n"
          ]
        },
        {
          "name": "stderr",
          "output_type": "stream",
          "text": [
            "/usr/local/lib/python3.10/dist-packages/stable_baselines3/common/buffers.py:241: UserWarning: This system does not have apparently enough memory to store the complete replay buffer 55.32GB > 10.27GB\n",
            "  warnings.warn(\n"
          ]
        },
        {
          "name": "stdout",
          "output_type": "stream",
          "text": [
            "---------------------------------\n",
            "| rollout/           |          |\n",
            "|    ep_len_mean     | 1e+03    |\n",
            "|    ep_rew_mean     | -33.5    |\n",
            "| time/              |          |\n",
            "|    episodes        | 4        |\n",
            "|    fps             | 22       |\n",
            "|    time_elapsed    | 179      |\n",
            "|    total_timesteps | 4000     |\n",
            "| train/             |          |\n",
            "|    actor_loss      | -30.3    |\n",
            "|    critic_loss     | 0.188    |\n",
            "|    ent_coef        | 0.677    |\n",
            "|    ent_coef_loss   | -1.97    |\n",
            "|    learning_rate   | 0.0001   |\n",
            "|    n_updates       | 3899     |\n",
            "---------------------------------\n",
            "Using cuda device\n",
            "Wrapping the env with a `Monitor` wrapper\n",
            "Wrapping the env in a DummyVecEnv.\n",
            "Wrapping the env in a VecTransposeImage.\n"
          ]
        },
        {
          "name": "stderr",
          "output_type": "stream",
          "text": [
            "/usr/local/lib/python3.10/dist-packages/stable_baselines3/common/buffers.py:241: UserWarning: This system does not have apparently enough memory to store the complete replay buffer 55.32GB > 9.91GB\n",
            "  warnings.warn(\n"
          ]
        },
        {
          "name": "stdout",
          "output_type": "stream",
          "text": [
            "---------------------------------\n",
            "| rollout/           |          |\n",
            "|    ep_len_mean     | 1e+03    |\n",
            "|    ep_rew_mean     | -34.5    |\n",
            "| time/              |          |\n",
            "|    episodes        | 4        |\n",
            "|    fps             | 22       |\n",
            "|    time_elapsed    | 177      |\n",
            "|    total_timesteps | 4000     |\n",
            "| train/             |          |\n",
            "|    actor_loss      | -3.12    |\n",
            "|    critic_loss     | 0.216    |\n",
            "|    ent_coef        | 0.0224   |\n",
            "|    ent_coef_loss   | -17.7    |\n",
            "|    learning_rate   | 0.001    |\n",
            "|    n_updates       | 3899     |\n",
            "---------------------------------\n",
            "Using cuda device\n",
            "Wrapping the env with a `Monitor` wrapper\n",
            "Wrapping the env in a DummyVecEnv.\n",
            "Wrapping the env in a VecTransposeImage.\n"
          ]
        },
        {
          "name": "stderr",
          "output_type": "stream",
          "text": [
            "/usr/local/lib/python3.10/dist-packages/stable_baselines3/common/buffers.py:241: UserWarning: This system does not have apparently enough memory to store the complete replay buffer 55.32GB > 9.95GB\n",
            "  warnings.warn(\n"
          ]
        },
        {
          "name": "stdout",
          "output_type": "stream",
          "text": [
            "----------------------------------\n",
            "| rollout/           |           |\n",
            "|    ep_len_mean     | 1e+03     |\n",
            "|    ep_rew_mean     | -92       |\n",
            "| time/              |           |\n",
            "|    episodes        | 4         |\n",
            "|    fps             | 22        |\n",
            "|    time_elapsed    | 176       |\n",
            "|    total_timesteps | 4000      |\n",
            "| train/             |           |\n",
            "|    actor_loss      | 8.28e+18  |\n",
            "|    critic_loss     | inf       |\n",
            "|    ent_coef        | 8.39e+16  |\n",
            "|    ent_coef_loss   | -3.73e+03 |\n",
            "|    learning_rate   | 0.01      |\n",
            "|    n_updates       | 3899      |\n",
            "----------------------------------\n"
          ]
        }
      ],
      "source": [
        "for lr in learning_rates:\n",
        "    model = SAC('MlpPolicy', env, learning_rate=lr, verbose=1)\n",
        "\n",
        "    model.learn(total_timesteps=5000)\n",
        "\n",
        "    model.save(f'sac_car_racing_lr_{lr}')\n",
        "    obs, info = env.reset()\n",
        "    for i in range(50):\n",
        "        action, _states = model.predict(obs, deterministic=True)\n",
        "        obs, reward, terminated, truncated, info = env.step(action)\n",
        "        sac_reward[lr].append(reward)\n",
        "        if terminated or truncated:\n",
        "            obs, info = env.reset()\n",
        "\n",
        "env.close()"
      ]
    },
    {
      "cell_type": "code",
      "execution_count": 22,
      "metadata": {
        "colab": {
          "base_uri": "https://localhost:8080/"
        },
        "id": "zHaPlgO1lfKq",
        "outputId": "121d70ce-0abf-41e6-afa2-cc53ffad74e1"
      },
      "outputs": [
        {
          "name": "stdout",
          "output_type": "stream",
          "text": [
            "0.10761245674740522\n",
            "0.08927444794952716\n",
            "0.03888888888888906\n"
          ]
        }
      ],
      "source": [
        "print(sum(sac_reward[0.0001])/len(sac_reward[0.0001]))\n",
        "print(sum(sac_reward[0.001])/len(sac_reward[0.001]))\n",
        "print(sum(sac_reward[0.01])/len(sac_reward[0.01]))"
      ]
    },
    {
      "cell_type": "code",
      "execution_count": 23,
      "metadata": {
        "colab": {
          "base_uri": "https://localhost:8080/",
          "height": 564
        },
        "id": "YdQLRo_SlhZt",
        "outputId": "3ea07996-4793-432b-ba9c-1daf1ae4da9a"
      },
      "outputs": [
        {
          "data": {
            "image/png": "[encoded data removed]",
            "text/plain": [
              "<Figure size 1200x600 with 1 Axes>"
            ]
          },
          "metadata": {},
          "output_type": "display_data"
        }
      ],
      "source": [
        "sac_e4,sac_e3,sac_e2 = {}, {}, {}\n",
        "\n",
        "sac_e4[\"reward\"] = sac_reward[0.0001]\n",
        "sac_e3[\"reward\"] = sac_reward[0.001]\n",
        "sac_e2[\"reward\"] = sac_reward[0.01]\n",
        "\n",
        "plot_training_results([sac_e4, sac_e3, sac_e2], [\"0,0001\", \"0,001\", \"0,01\"], total_steps=50)"
      ]
    },
    {
      "cell_type": "code",
      "execution_count": 23,
      "metadata": {
        "id": "3hFdge94nivj"
      },
      "outputs": [],
      "source": []
    }
  ],
  "metadata": {
    "accelerator": "GPU",
    "colab": {
      "provenance": []
    },
    "kernelspec": {
      "display_name": "Python 3",
      "name": "python3"
    },
    "language_info": {
      "name": "python"
    }
  },
  "nbformat": 4,
  "nbformat_minor": 0
}
