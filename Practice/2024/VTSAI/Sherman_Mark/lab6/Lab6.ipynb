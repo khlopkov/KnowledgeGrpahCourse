{
 "cells": [
  {
   "cell_type": "markdown",
   "id": "I0IcIYUveJ3x",
   "metadata": {
    "id": "I0IcIYUveJ3x"
   },
   "source": [
    "# Предсказание связей\n",
    "\n",
    "Link Prediction (предсказание связей) - это задача из области\n",
    "графовых методов, направленная на предсказание отношений\n",
    "(рёбер) между сущностями в графовой структуре. В контексте баз\n",
    "знаний, где информация представлена в виде графа, задача link\n",
    "prediction становится важным инструментом для дополнения или\n",
    "обновления существующей сети отношений.\n",
    "\n",
    "\n",
    "Задача link prediction заключается в предсказании отсутствующих\n",
    "рёбер между сущностями, основываясь на известных связях в графе.\n",
    "\n",
    "Практическое применение link prediction:\n",
    "* Предсказание новых связей между пользователями или\n",
    "группами.\n",
    "* Предсказание взаимодействий между белками в\n",
    "биологических сетях.\n",
    "* Предсказание связей между пользователями и товарами.\n",
    "* Пополнение базы знаний новыми фактами.\n",
    "\n",
    "В контексте машинного обучения и графовых моделей, задача\n",
    "link prediction решается с использованием методов, таких как\n",
    "графовые эмбеддинги, глубокие нейронные сети, и другие\n",
    "алгоритмы, специфичные для графовых данных."
   ]
  },
  {
   "cell_type": "code",
   "execution_count": 1,
   "id": "tQasC3KEVmQO",
   "metadata": {},
   "outputs": [
    {
     "name": "stdout",
     "output_type": "stream",
     "text": [
      "\u001b[2K     \u001b[90m━━━━━━━━━━━━━━━━━━━━━━━━━━━━━━━━━━━━━━━━\u001b[0m \u001b[32m739.3/739.3 kB\u001b[0m \u001b[31m8.2 MB/s\u001b[0m eta \u001b[36m0:00:00\u001b[0m\n",
      "\u001b[2K     \u001b[90m━━━━━━━━━━━━━━━━━━━━━━━━━━━━━━━━━━━━━━━━\u001b[0m \u001b[32m413.4/413.4 kB\u001b[0m \u001b[31m16.7 MB/s\u001b[0m eta \u001b[36m0:00:00\u001b[0m\n",
      "\u001b[?25h  Installing build dependencies ... \u001b[?25l\u001b[?25hdone\n",
      "  Getting requirements to build wheel ... \u001b[?25l\u001b[?25hdone\n",
      "  Installing backend dependencies ... \u001b[?25l\u001b[?25hdone\n",
      "  Preparing metadata (pyproject.toml) ... \u001b[?25l\u001b[?25hdone\n",
      "\u001b[2K     \u001b[90m━━━━━━━━━━━━━━━━━━━━━━━━━━━━━━━━━━━━━━━━\u001b[0m \u001b[32m233.4/233.4 kB\u001b[0m \u001b[31m19.7 MB/s\u001b[0m eta \u001b[36m0:00:00\u001b[0m\n",
      "\u001b[2K     \u001b[90m━━━━━━━━━━━━━━━━━━━━━━━━━━━━━━━━━━━━━━━━\u001b[0m \u001b[32m49.4/49.4 kB\u001b[0m \u001b[31m6.1 MB/s\u001b[0m eta \u001b[36m0:00:00\u001b[0m\n",
      "\u001b[2K     \u001b[90m━━━━━━━━━━━━━━━━━━━━━━━━━━━━━━━━━━━━━━━━\u001b[0m \u001b[32m78.6/78.6 kB\u001b[0m \u001b[31m10.4 MB/s\u001b[0m eta \u001b[36m0:00:00\u001b[0m\n",
      "\u001b[?25h  Building wheel for rexmex (pyproject.toml) ... \u001b[?25l\u001b[?25hdone\n"
     ]
    }
   ],
   "source": [
    "!pip install pykeen matplotlib -q"
   ]
  },
  {
   "cell_type": "code",
   "execution_count": 15,
   "id": "wBpjAkLTVkAt",
   "metadata": {},
   "outputs": [],
   "source": [
    "import torch\n",
    "import matplotlib.pyplot as plt\n",
    "from pykeen.pipeline import pipeline\n",
    "from pykeen.evaluation import ClassificationEvaluator\n",
    "from pykeen.datasets import CoDExSmall\n",
    "from pykeen.predict import predict_target"
   ]
  },
  {
   "cell_type": "code",
   "execution_count": 16,
   "id": "n9U2KnJnf8Zf",
   "metadata": {},
   "outputs": [],
   "source": [
    "# Load the CoDExSmall dataset\n",
    "dataset = CoDExSmall()"
   ]
  },
  {
   "cell_type": "code",
   "execution_count": 17,
   "id": "XsWMgFNrgBAu",
   "metadata": {},
   "outputs": [],
   "source": [
    "# Metrics storage\n",
    "\n",
    "roc_auc_score = {\"ComplEx\": [], \"HolE\": []}\n",
    "precision = {\"ComplEx\": [], \"HolE\": []}\n",
    "accuracy = {\"ComplEx\": [], \"HolE\": []}\n",
    "f1 = {\"ComplEx\": [], \"HolE\": []}\n",
    "\n",
    "# Store results for different pipelines\n",
    "pipeline_results_list = {\"ComplEx\": [], \"HolE\": []}"
   ]
  },
  {
   "cell_type": "code",
   "execution_count": 18,
   "id": "I9g4QbJYgIbF",
   "metadata": {},
   "outputs": [
    {
     "name": "stdout",
     "output_type": "stream",
     "text": [
      "Using device: cuda\n"
     ]
    }
   ],
   "source": [
    "# Check for GPU availability\n",
    "device = torch.device(\"cuda\" if torch.cuda.is_available() else \"cpu\")\n",
    "print(f\"Using device: {device}\")"
   ]
  },
  {
   "cell_type": "code",
   "execution_count": 26,
   "id": "VU6vHUQAU0-R",
   "metadata": {},
   "outputs": [],
   "source": [
    "# Use ClassificationEvaluator for metrics calculation\n",
    "evaluator = ClassificationEvaluator()\n",
    "\n",
    "# Train the ComplEx model for different epochs and calculate metrics\n",
    "epochs = [1, 20, 50, 100, 250]\n",
    "for model_name in [\"ComplEx\", \"HolE\"]:\n",
    "    for epoch in epochs:\n",
    "        pipeline_results = pipeline(\n",
    "            model=model_name,\n",
    "            dataset=dataset,\n",
    "            training_kwargs=dict(num_epochs=epoch),\n",
    "            device=device\n",
    "        )\n",
    "        pipeline_results_list[model_name].append(pipeline_results)\n",
    "\n",
    "        model = pipeline_results.model\n",
    "        metrics = evaluator.evaluate(\n",
    "            model,\n",
    "            dataset.testing.mapped_triples,\n",
    "            additional_filter_triples=[\n",
    "                dataset.training.mapped_triples,\n",
    "                dataset.validation.mapped_triples\n",
    "            ]\n",
    "        )\n",
    "\n",
    "        roc_auc_score[model_name].append(metrics.get_metric('roc_auc_score'))\n",
    "        precision[model_name].append(metrics.get_metric('average_precision_score'))\n",
    "        accuracy[model_name].append(metrics.get_metric('accuracy_score'))\n",
    "        f1[model_name].append(metrics.get_metric('f1_score'))"
   ]
  },
  {
   "cell_type": "markdown",
   "id": "Qn0MjoJlglsE",
   "metadata": {
    "id": "Qn0MjoJlglsE"
   },
   "source": [
    "## Визуализация метрик"
   ]
  },
  {
   "cell_type": "code",
   "execution_count": 20,
   "id": "YC854_Vsgk7k",
   "metadata": {},
   "outputs": [],
   "source": [
    "def plot_metrics(roc_auc_score, precision, accuracy, f1, name, epochs):\n",
    "    # В качесте лейблов используем список значений эпох\n",
    "    labels = epochs\n",
    "\n",
    "    # Plotting ROC AUC scores\n",
    "    plt.plot(labels, roc_auc_score[name], label='ROC_AUC')\n",
    "\n",
    "    # Plotting precision scores\n",
    "    plt.plot(labels, precision[name], label='Precision')\n",
    "\n",
    "    # Plotting accuracy scores\n",
    "    plt.plot(labels, accuracy[name], label='Accuracy')\n",
    "\n",
    "    # Plotting F1\n",
    "    plt.plot(labels, f1[name], label='F1')\n",
    "\n",
    "    # Добавляем легенду, лейблы и название\n",
    "    plt.legend()\n",
    "    plt.xlabel('Epochs')\n",
    "    plt.ylabel('Scores')\n",
    "    plt.title('Model Evaluation Metrics for ' + name)\n",
    "\n",
    "    # Отрисовываем график\n",
    "    plt.show()"
   ]
  },
  {
   "cell_type": "code",
   "execution_count": 21,
   "id": "xqP93KcRg1z2",
   "metadata": {},
   "outputs": [
    {
     "data": {
      "image/png": "[encoded data removed]",
      "text/plain": [
       "<Figure size 640x480 with 1 Axes>"
      ]
     },
     "metadata": {},
     "output_type": "display_data"
    }
   ],
   "source": [
    "plot_metrics(roc_auc_score, precision, accuracy, f1, \"ComplEx\", epochs)"
   ]
  },
  {
   "cell_type": "code",
   "execution_count": 22,
   "id": "9mtxdNIwg3-G",
   "metadata": {},
   "outputs": [
    {
     "data": {
      "image/png": "[encoded data removed]",
      "text/plain": [
       "<Figure size 640x480 with 1 Axes>"
      ]
     },
     "metadata": {},
     "output_type": "display_data"
    }
   ],
   "source": [
    "plot_metrics(roc_auc_score, precision, accuracy, f1, \"HolE\", epochs)"
   ]
  },
  {
   "cell_type": "markdown",
   "id": "vJ3z8nv-hEFe",
   "metadata": {
    "id": "vJ3z8nv-hEFe"
   },
   "source": [
    "## Link prediction"
   ]
  },
  {
   "cell_type": "code",
   "execution_count": 23,
   "id": "zTLn1KzrhDlN",
   "metadata": {},
   "outputs": [],
   "source": [
    "def print_prediction_results(pipeline_results_list, dataset, name):\n",
    "    print(f'Модель {name}')\n",
    "    print('---------------------')\n",
    "    for idx, ep in enumerate(epochs):\n",
    "        pipeline_result = pipeline_results_list[name][idx]\n",
    "\n",
    "        # Получаем доступное отношение и сущность\n",
    "        available_relation = next(iter(dataset.relation_to_id))\n",
    "        available_entity = next(iter(dataset.entity_to_id))\n",
    "\n",
    "        # Используем predict_target с доступным отношением и сущностью\n",
    "        pred = predict_target(\n",
    "            model=pipeline_result.model,\n",
    "            relation=available_relation,\n",
    "            head=available_entity,\n",
    "            triples_factory=pipeline_result.training,\n",
    "        )\n",
    "\n",
    "        pred_filtered = pred.filter_triples(dataset.training)\n",
    "        pred_annotated = pred_filtered.add_membership_columns(validation=dataset.validation, testing=dataset.testing)\n",
    "        pred_df = pred_annotated.df[['tail_label', 'score']]\n",
    "        print(f'Результат при вычислении {ep} эпох для сущности \"{available_entity}\" и отношения \"{available_relation}\"')\n",
    "        print(pred_df)\n",
    "        print('__________________________')"
   ]
  },
  {
   "cell_type": "code",
   "execution_count": 24,
   "id": "jsjO1TqphZ0-",
   "metadata": {},
   "outputs": [
    {
     "name": "stdout",
     "output_type": "stream",
     "text": [
      "Модель ComplEx\n",
      "---------------------\n",
      "Результат при вычислении 1 эпох для сущности \"Q100\" и отношения \"P101\"\n",
      "     tail_label      score\n",
      "1029     Q29999  90.957657\n",
      "0          Q100  90.715485\n",
      "1944       Q892  77.095901\n",
      "1510     Q50764  75.991158\n",
      "442     Q173061  75.948784\n",
      "...         ...        ...\n",
      "621     Q198962 -72.578537\n",
      "1099        Q32 -74.336235\n",
      "923     Q261812 -75.455811\n",
      "1170     Q34787 -78.477631\n",
      "729     Q217191 -80.607742\n",
      "\n",
      "[2034 rows x 2 columns]\n",
      "__________________________\n",
      "Результат при вычислении 20 эпох для сущности \"Q100\" и отношения \"P101\"\n",
      "     tail_label      score\n",
      "565     Q190251  86.198204\n",
      "886     Q242418  84.275833\n",
      "790     Q230068  83.109673\n",
      "1496     Q49734  82.039536\n",
      "1542     Q54860  78.609352\n",
      "...         ...        ...\n",
      "752     Q221364 -79.430359\n",
      "167     Q126399 -80.605377\n",
      "909      Q25320 -84.310822\n",
      "1154     Q34433 -89.924164\n",
      "1705    Q704931 -92.627266\n",
      "\n",
      "[2034 rows x 2 columns]\n",
      "__________________________\n",
      "Результат при вычислении 50 эпох для сущности \"Q100\" и отношения \"P101\"\n",
      "     tail_label      score\n",
      "2000    Q952491  89.847580\n",
      "361      Q15975  77.854950\n",
      "904     Q251287  77.454430\n",
      "2021      Q9734  74.961533\n",
      "1255    Q380381  74.779663\n",
      "...         ...        ...\n",
      "713      Q21578 -74.451759\n",
      "760     Q224159 -77.909386\n",
      "327     Q155786 -78.006271\n",
      "316     Q154756 -81.684631\n",
      "374     Q161885 -93.913177\n",
      "\n",
      "[2034 rows x 2 columns]\n",
      "__________________________\n",
      "Результат при вычислении 100 эпох для сущности \"Q100\" и отношения \"P101\"\n",
      "     tail_label      score\n",
      "1551    Q554406  80.225143\n",
      "129     Q119546  79.464645\n",
      "747     Q220480  71.108002\n",
      "347     Q158078  70.259811\n",
      "231    Q1351177  69.527725\n",
      "...         ...        ...\n",
      "1403     Q45321 -63.124077\n",
      "1499     Q49767 -64.726151\n",
      "295     Q152513 -66.978493\n",
      "1165       Q347 -71.712257\n",
      "1300     Q40874 -81.925613\n",
      "\n",
      "[2034 rows x 2 columns]\n",
      "__________________________\n",
      "Результат при вычислении 250 эпох для сущности \"Q100\" и отношения \"P101\"\n",
      "     tail_label      score\n",
      "1900       Q837  76.701347\n",
      "1231    Q367634  61.151089\n",
      "1560   Q5611262  60.391289\n",
      "1465    Q483203  59.427597\n",
      "1708      Q7066  58.481762\n",
      "...         ...        ...\n",
      "1633     Q61407 -63.450924\n",
      "1406    Q455236 -63.728554\n",
      "132      Q11998 -66.712814\n",
      "1665      Q6607 -71.477074\n",
      "0          Q100 -77.540283\n",
      "\n",
      "[2034 rows x 2 columns]\n",
      "__________________________\n"
     ]
    }
   ],
   "source": [
    "print_prediction_results(pipeline_results_list, dataset, \"ComplEx\")"
   ]
  },
  {
   "cell_type": "code",
   "execution_count": 25,
   "id": "z1T54jedhxPK",
   "metadata": {},
   "outputs": [
    {
     "name": "stdout",
     "output_type": "stream",
     "text": [
      "Модель HolE\n",
      "---------------------\n",
      "Результат при вычислении 1 эпох для сущности \"Q100\" и отношения \"P101\"\n",
      "     tail_label     score\n",
      "470     Q180468  0.366779\n",
      "418     Q168992  0.355372\n",
      "1093    Q318004  0.317357\n",
      "1305     Q41042  0.310453\n",
      "1711    Q708963  0.302363\n",
      "...         ...       ...\n",
      "1563       Q563 -0.295985\n",
      "761     Q224650 -0.335334\n",
      "1053    Q310755 -0.335856\n",
      "1215     Q36233 -0.341906\n",
      "1333     Q42398 -0.342358\n",
      "\n",
      "[2034 rows x 2 columns]\n",
      "__________________________\n",
      "Результат при вычислении 20 эпох для сущности \"Q100\" и отношения \"P101\"\n",
      "     tail_label     score\n",
      "1744      Q7314  1.794383\n",
      "329     Q155860  1.747312\n",
      "1290      Q4029  1.682600\n",
      "691     Q213512  1.658115\n",
      "1479     Q48990  1.610746\n",
      "...         ...       ...\n",
      "1949       Q902 -1.358379\n",
      "364         Q16 -1.379659\n",
      "2024       Q977 -1.444387\n",
      "353        Q159 -1.481950\n",
      "1673       Q668 -1.643478\n",
      "\n",
      "[2034 rows x 2 columns]\n",
      "__________________________\n",
      "Результат при вычислении 50 эпох для сущности \"Q100\" и отношения \"P101\"\n",
      "     tail_label     score\n",
      "257        Q145  1.699007\n",
      "1712       Q709  1.390058\n",
      "258    Q1468277  1.361075\n",
      "1610        Q60  1.275506\n",
      "11        Q1013  1.256080\n",
      "...         ...       ...\n",
      "90      Q108941 -1.411945\n",
      "733     Q217557 -1.419772\n",
      "1048    Q310060 -1.431408\n",
      "132      Q11998 -1.569832\n",
      "114     Q117012 -1.676366\n",
      "\n",
      "[2034 rows x 2 columns]\n",
      "__________________________\n",
      "Результат при вычислении 100 эпох для сущности \"Q100\" и отношения \"P101\"\n",
      "     tail_label     score\n",
      "666     Q207628  1.515725\n",
      "662     Q207036  1.334867\n",
      "1462       Q482  1.300969\n",
      "518       Q1860  1.137005\n",
      "534      Q18805  1.100971\n",
      "...         ...       ...\n",
      "1661    Q654283 -1.236689\n",
      "1371   Q4413456 -1.252647\n",
      "1444     Q47164 -1.259444\n",
      "1081    Q313509 -1.273444\n",
      "1272     Q38903 -1.369262\n",
      "\n",
      "[2034 rows x 2 columns]\n",
      "__________________________\n",
      "Результат при вычислении 250 эпох для сущности \"Q100\" и отношения \"P101\"\n",
      "     tail_label     score\n",
      "312       Q1545  1.487914\n",
      "336     Q156814  1.481538\n",
      "804     Q231276  1.458876\n",
      "1940    Q888152  1.456214\n",
      "415      Q16867  1.376180\n",
      "...         ...       ...\n",
      "1539    Q543804 -1.100168\n",
      "1485     Q49084 -1.180132\n",
      "263         Q15 -1.218385\n",
      "222     Q134102 -1.273596\n",
      "1638        Q62 -1.296703\n",
      "\n",
      "[2034 rows x 2 columns]\n",
      "__________________________\n"
     ]
    }
   ],
   "source": [
    "print_prediction_results(pipeline_results_list, dataset, \"HolE\")"
   ]
  },
  {
   "cell_type": "code",
   "execution_count": null,
   "id": "AE_RjqQ8iPHb",
   "metadata": {},
   "outputs": [],
   "source": []
  },
  {
   "cell_type": "code",
   "execution_count": null,
   "id": "q8Qj3OBviO7W",
   "metadata": {},
   "outputs": [],
   "source": []
  },
  {
   "cell_type": "code",
   "execution_count": null,
   "id": "R4bf6rATXg9H",
   "metadata": {},
   "outputs": [],
   "source": []
  }
 ],
 "metadata": {
  "language_info": {
   "name": "python"
  }
 },
 "nbformat": 4,
 "nbformat_minor": 5
}
