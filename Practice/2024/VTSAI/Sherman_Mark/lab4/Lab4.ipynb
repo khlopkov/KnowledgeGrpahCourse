{
 "cells": [
  {
   "cell_type": "markdown",
   "id": "098bb4f9",
   "metadata": {
    "id": "098bb4f9"
   },
   "source": [
    "## Графовые нейронные сети (GNNs)\n",
    "\n",
    "Графовые нейронные сети представляют собой класс нейронных сетей, специально разработанный для работы с графовыми структурами данных. Они могут моделировать зависимости и взаимодействия между сущностями в графе, позволяя учитывать контекст и структуру данных при выполнении задач.\n",
    "\n",
    "В GNN каждая вершина графа обновляется на основе её соседей, что позволяет модели учить представления вершин, учитывая их окружение. Такие модели широко применяются в задачах, связанных с анализом социальных сетей, биологических сетей, рекомендательных систем и графовых знаний.\n",
    "\n",
    "## Graph embedding\n",
    "Эмбеддинги в контексте графовых нейронных сетей представляют собой векторные представления вершин графа. Они извлекаются из GNN и представляют сущности в пространстве низкой размерности. Эти векторы обладают свойством сохранять структурную информацию о графе и могут использоваться для различных задач, таких как предсказание отношений или классификация вершин.\n",
    "\n",
    "## Тестирование и Валидация\n",
    "\n",
    "Тестирование и валидация важны для оценки работы графовых нейронных сетей.\n",
    "\n",
    "Тестирование позволяет оценить обобщающую способность модели на новых данных, которые не участвовали в обучении. Это важно для проверки, насколько хорошо модель обобщает свои знания на новые сценарии.\n",
    "\n",
    "Валидация используется для подбора оптимальных гиперпараметров модели. Настройка параметров происходит на основе производительности модели на отложенной валидационной выборке."
   ]
  },
  {
   "cell_type": "markdown",
   "id": "656296c5",
   "metadata": {
    "id": "656296c5"
   },
   "source": [
    "### Установка зависимостей\n",
    "\n",
    "Для работы с графовыми нейронными сетями будем использовать [Pykeen](https://pykeen.readthedocs.io/en/stable/). Необходимо импортировать соответствующую библиотеку. В данном шаге мы устанавливаем Pykeen. Этот шаг включает установку библиотеки Pykeen с использованием команды !pip install pykeen. Pykeen предоставляет реализацию различных моделей графовых знаний и инструменты для работы с ними."
   ]
  },
  {
   "cell_type": "code",
   "execution_count": 1,
   "id": "678f20f5",
   "metadata": {},
   "outputs": [
    {
     "name": "stdout",
     "output_type": "stream",
     "text": [
      "Collecting pykeen\n",
      "  Downloading pykeen-1.10.1-py3-none-any.whl (739 kB)\n",
      "\u001b[2K     \u001b[90m━━━━━━━━━━━━━━━━━━━━━━━━━━━━━━━━━━━━━━━━\u001b[0m \u001b[32m739.3/739.3 kB\u001b[0m \u001b[31m9.5 MB/s\u001b[0m eta \u001b[36m0:00:00\u001b[0m\n",
      "\u001b[?25hCollecting dataclasses-json (from pykeen)\n",
      "  Downloading dataclasses_json-0.6.3-py3-none-any.whl (28 kB)\n",
      "Requirement already satisfied: numpy in /usr/local/lib/python3.10/dist-packages (from pykeen) (1.23.5)\n",
      "Requirement already satisfied: scipy>=1.7.0 in /usr/local/lib/python3.10/dist-packages (from pykeen) (1.11.4)\n",
      "Requirement already satisfied: click in /usr/local/lib/python3.10/dist-packages (from pykeen) (8.1.7)\n",
      "Collecting click-default-group (from pykeen)\n",
      "  Downloading click_default_group-1.2.4-py2.py3-none-any.whl (4.1 kB)\n",
      "Requirement already satisfied: scikit-learn in /usr/local/lib/python3.10/dist-packages (from pykeen) (1.2.2)\n",
      "Requirement already satisfied: tqdm in /usr/local/lib/python3.10/dist-packages (from pykeen) (4.66.1)\n",
      "Requirement already satisfied: requests in /usr/local/lib/python3.10/dist-packages (from pykeen) (2.31.0)\n",
      "Collecting optuna>=2.0.0 (from pykeen)\n",
      "  Downloading optuna-3.5.0-py3-none-any.whl (413 kB)\n",
      "\u001b[2K     \u001b[90m━━━━━━━━━━━━━━━━━━━━━━━━━━━━━━━━━━━━━━━━\u001b[0m \u001b[32m413.4/413.4 kB\u001b[0m \u001b[31m22.7 MB/s\u001b[0m eta \u001b[36m0:00:00\u001b[0m\n",
      "\u001b[?25hRequirement already satisfied: pandas>=1.0.0 in /usr/local/lib/python3.10/dist-packages (from pykeen) (1.5.3)\n",
      "Requirement already satisfied: tabulate in /usr/local/lib/python3.10/dist-packages (from pykeen) (0.9.0)\n",
      "Collecting more-click (from pykeen)\n",
      "  Downloading more_click-0.1.2-py3-none-any.whl (6.7 kB)\n",
      "Requirement already satisfied: more-itertools in /usr/local/lib/python3.10/dist-packages (from pykeen) (10.1.0)\n",
      "Collecting pystow>=0.4.3 (from pykeen)\n",
      "  Downloading pystow-0.5.2-py3-none-any.whl (31 kB)\n",
      "Collecting docdata (from pykeen)\n",
      "  Downloading docdata-0.0.3-py3-none-any.whl (5.8 kB)\n",
      "Collecting class-resolver>=0.3.10 (from pykeen)\n",
      "  Downloading class_resolver-0.4.2-py3-none-any.whl (24 kB)\n",
      "Requirement already satisfied: pyyaml in /usr/local/lib/python3.10/dist-packages (from pykeen) (6.0.1)\n",
      "Collecting rexmex>=0.1.3 (from pykeen)\n",
      "  Downloading rexmex-0.1.3.tar.gz (21 kB)\n",
      "  Installing build dependencies ... \u001b[?25l\u001b[?25hdone\n",
      "  Getting requirements to build wheel ... \u001b[?25l\u001b[?25hdone\n",
      "  Installing backend dependencies ... \u001b[?25l\u001b[?25hdone\n",
      "  Preparing metadata (pyproject.toml) ... \u001b[?25l\u001b[?25hdone\n",
      "Collecting torch-max-mem>=0.0.4 (from pykeen)\n",
      "  Downloading torch_max_mem-0.1.3-py3-none-any.whl (10 kB)\n",
      "Collecting torch-ppr>=0.0.7 (from pykeen)\n",
      "  Downloading torch_ppr-0.0.8-py3-none-any.whl (12 kB)\n",
      "Requirement already satisfied: protobuf<4.0.0 in /usr/local/lib/python3.10/dist-packages (from pykeen) (3.20.3)\n",
      "Requirement already satisfied: typing-extensions in /usr/local/lib/python3.10/dist-packages (from pykeen) (4.5.0)\n",
      "Requirement already satisfied: torch>=1.10 in /usr/local/lib/python3.10/dist-packages (from pykeen) (2.1.0+cu121)\n",
      "Collecting alembic>=1.5.0 (from optuna>=2.0.0->pykeen)\n",
      "  Downloading alembic-1.13.1-py3-none-any.whl (233 kB)\n",
      "\u001b[2K     \u001b[90m━━━━━━━━━━━━━━━━━━━━━━━━━━━━━━━━━━━━━━━━\u001b[0m \u001b[32m233.4/233.4 kB\u001b[0m \u001b[31m31.5 MB/s\u001b[0m eta \u001b[36m0:00:00\u001b[0m\n",
      "\u001b[?25hCollecting colorlog (from optuna>=2.0.0->pykeen)\n",
      "  Downloading colorlog-6.8.0-py3-none-any.whl (11 kB)\n",
      "Requirement already satisfied: packaging>=20.0 in /usr/local/lib/python3.10/dist-packages (from optuna>=2.0.0->pykeen) (23.2)\n",
      "Requirement already satisfied: sqlalchemy>=1.3.0 in /usr/local/lib/python3.10/dist-packages (from optuna>=2.0.0->pykeen) (2.0.24)\n",
      "Requirement already satisfied: python-dateutil>=2.8.1 in /usr/local/lib/python3.10/dist-packages (from pandas>=1.0.0->pykeen) (2.8.2)\n",
      "Requirement already satisfied: pytz>=2020.1 in /usr/local/lib/python3.10/dist-packages (from pandas>=1.0.0->pykeen) (2023.3.post1)\n",
      "Requirement already satisfied: filelock in /usr/local/lib/python3.10/dist-packages (from torch>=1.10->pykeen) (3.13.1)\n",
      "Requirement already satisfied: sympy in /usr/local/lib/python3.10/dist-packages (from torch>=1.10->pykeen) (1.12)\n",
      "Requirement already satisfied: networkx in /usr/local/lib/python3.10/dist-packages (from torch>=1.10->pykeen) (3.2.1)\n",
      "Requirement already satisfied: jinja2 in /usr/local/lib/python3.10/dist-packages (from torch>=1.10->pykeen) (3.1.3)\n",
      "Requirement already satisfied: fsspec in /usr/local/lib/python3.10/dist-packages (from torch>=1.10->pykeen) (2023.6.0)\n",
      "Requirement already satisfied: triton==2.1.0 in /usr/local/lib/python3.10/dist-packages (from torch>=1.10->pykeen) (2.1.0)\n",
      "Collecting marshmallow<4.0.0,>=3.18.0 (from dataclasses-json->pykeen)\n",
      "  Downloading marshmallow-3.20.2-py3-none-any.whl (49 kB)\n",
      "\u001b[2K     \u001b[90m━━━━━━━━━━━━━━━━━━━━━━━━━━━━━━━━━━━━━━━━\u001b[0m \u001b[32m49.4/49.4 kB\u001b[0m \u001b[31m6.9 MB/s\u001b[0m eta \u001b[36m0:00:00\u001b[0m\n",
      "\u001b[?25hCollecting typing-inspect<1,>=0.4.0 (from dataclasses-json->pykeen)\n",
      "  Downloading typing_inspect-0.9.0-py3-none-any.whl (8.8 kB)\n",
      "Requirement already satisfied: charset-normalizer<4,>=2 in /usr/local/lib/python3.10/dist-packages (from requests->pykeen) (3.3.2)\n",
      "Requirement already satisfied: idna<4,>=2.5 in /usr/local/lib/python3.10/dist-packages (from requests->pykeen) (3.6)\n",
      "Requirement already satisfied: urllib3<3,>=1.21.1 in /usr/local/lib/python3.10/dist-packages (from requests->pykeen) (2.0.7)\n",
      "Requirement already satisfied: certifi>=2017.4.17 in /usr/local/lib/python3.10/dist-packages (from requests->pykeen) (2023.11.17)\n",
      "Requirement already satisfied: joblib>=1.1.1 in /usr/local/lib/python3.10/dist-packages (from scikit-learn->pykeen) (1.3.2)\n",
      "Requirement already satisfied: threadpoolctl>=2.0.0 in /usr/local/lib/python3.10/dist-packages (from scikit-learn->pykeen) (3.2.0)\n",
      "Collecting Mako (from alembic>=1.5.0->optuna>=2.0.0->pykeen)\n",
      "  Downloading Mako-1.3.1-py3-none-any.whl (78 kB)\n",
      "\u001b[2K     \u001b[90m━━━━━━━━━━━━━━━━━━━━━━━━━━━━━━━━━━━━━━━━\u001b[0m \u001b[32m78.7/78.7 kB\u001b[0m \u001b[31m11.2 MB/s\u001b[0m eta \u001b[36m0:00:00\u001b[0m\n",
      "\u001b[?25hRequirement already satisfied: six>=1.5 in /usr/local/lib/python3.10/dist-packages (from python-dateutil>=2.8.1->pandas>=1.0.0->pykeen) (1.16.0)\n",
      "Requirement already satisfied: greenlet!=0.4.17 in /usr/local/lib/python3.10/dist-packages (from sqlalchemy>=1.3.0->optuna>=2.0.0->pykeen) (3.0.3)\n",
      "Collecting mypy-extensions>=0.3.0 (from typing-inspect<1,>=0.4.0->dataclasses-json->pykeen)\n",
      "  Downloading mypy_extensions-1.0.0-py3-none-any.whl (4.7 kB)\n",
      "Requirement already satisfied: MarkupSafe>=2.0 in /usr/local/lib/python3.10/dist-packages (from jinja2->torch>=1.10->pykeen) (2.1.4)\n",
      "Requirement already satisfied: mpmath>=0.19 in /usr/local/lib/python3.10/dist-packages (from sympy->torch>=1.10->pykeen) (1.3.0)\n",
      "Building wheels for collected packages: rexmex\n",
      "  Building wheel for rexmex (pyproject.toml) ... \u001b[?25l\u001b[?25hdone\n",
      "  Created wheel for rexmex: filename=rexmex-0.1.3-py3-none-any.whl size=19952 sha256=57f36fde43e4a16cd575f84eee955a63e8f08a11e85956b2b9a0f6d541f3ce3b\n",
      "  Stored in directory: /root/.cache/pip/wheels/13/31/9d/51fb64454e6012bc88dd72b57609646432e478ba35772736d6\n",
      "Successfully built rexmex\n",
      "Installing collected packages: mypy-extensions, more-click, marshmallow, Mako, docdata, colorlog, click-default-group, class-resolver, typing-inspect, pystow, alembic, torch-max-mem, rexmex, optuna, dataclasses-json, torch-ppr, pykeen\n",
      "Successfully installed Mako-1.3.1 alembic-1.13.1 class-resolver-0.4.2 click-default-group-1.2.4 colorlog-6.8.0 dataclasses-json-0.6.3 docdata-0.0.3 marshmallow-3.20.2 more-click-0.1.2 mypy-extensions-1.0.0 optuna-3.5.0 pykeen-1.10.1 pystow-0.5.2 rexmex-0.1.3 torch-max-mem-0.1.3 torch-ppr-0.0.8 typing-inspect-0.9.0\n"
     ]
    }
   ],
   "source": [
    "# Установка Pykeen\n",
    "!pip install pykeen"
   ]
  },
  {
   "cell_type": "markdown",
   "id": "6f7634ba",
   "metadata": {
    "id": "6f7634ba"
   },
   "source": [
    "Далее, мы импортируем библиотеку Pykeen для использования её функциональности в нашем коде."
   ]
  },
  {
   "cell_type": "code",
   "execution_count": 2,
   "id": "e028f8c7",
   "metadata": {},
   "outputs": [],
   "source": [
    "import pykeen"
   ]
  },
  {
   "cell_type": "markdown",
   "id": "3b5ca842",
   "metadata": {
    "id": "3b5ca842"
   },
   "source": [
    "После выполнения этого шага, мы готовы к использованию Pykeen для создания, обучения и оценки моделей графовых знаний."
   ]
  },
  {
   "cell_type": "markdown",
   "id": "c499eb1a",
   "metadata": {
    "id": "c499eb1a"
   },
   "source": [
    "## Взаимодействие с графовым датасетом и описание данных\n",
    "\n",
    "В данной работе мы будем использовать графовый датасет [Nations](https://paperswithcode.com/dataset/nations), предоставляющий информацию о связях между стран и их политических отношений. Этот небольшой датасет хорошо подходит для погружения в задачу предсказания отношений между сущностями.\n"
   ]
  },
  {
   "cell_type": "markdown",
   "id": "a8482dd4",
   "metadata": {
    "id": "a8482dd4"
   },
   "source": [
    "Импорт необходимого модуля Pykeen. Мы импортируем модуль datasets из Pykeen для работы с графовыми датасетами."
   ]
  },
  {
   "cell_type": "code",
   "execution_count": 3,
   "id": "147c83b7",
   "metadata": {},
   "outputs": [
    {
     "name": "stderr",
     "output_type": "stream",
     "text": [
      "INFO:pykeen.utils:Using opt_einsum\n"
     ]
    }
   ],
   "source": [
    "from pykeen.datasets import CoDExSmall"
   ]
  },
  {
   "cell_type": "markdown",
   "id": "f3d26f7a",
   "metadata": {
    "id": "f3d26f7a"
   },
   "source": [
    "Загружаем графовый датасет CoDExSmall из Pykeen. В результате выполнения этой команды будет создан объект, представляющий графовый датасет."
   ]
  },
  {
   "cell_type": "code",
   "execution_count": 4,
   "id": "2107c8b4",
   "metadata": {},
   "outputs": [
    {
     "data": {
      "application/vnd.jupyter.widget-view+json": {
       "model_id": "6239e2f5fc5145cfa0c7d959a5cdd8c8",
       "version_major": 2,
       "version_minor": 0
      },
      "text/plain": [
       "Downloading train.txt: 0.00B [00:00, ?B/s]"
      ]
     },
     "metadata": {},
     "output_type": "display_data"
    },
    {
     "data": {
      "application/vnd.jupyter.widget-view+json": {
       "model_id": "c2158c940dfd4aedb751be0dc6d3105b",
       "version_major": 2,
       "version_minor": 0
      },
      "text/plain": [
       "Downloading test.txt: 0.00B [00:00, ?B/s]"
      ]
     },
     "metadata": {},
     "output_type": "display_data"
    },
    {
     "data": {
      "application/vnd.jupyter.widget-view+json": {
       "model_id": "c6d0fcce929b4f639a22a1b2dad1a006",
       "version_major": 2,
       "version_minor": 0
      },
      "text/plain": [
       "Downloading valid.txt: 0.00B [00:00, ?B/s]"
      ]
     },
     "metadata": {},
     "output_type": "display_data"
    }
   ],
   "source": [
    "# Загрузка графового датасета CoDExSmall\n",
    "codex_dataset = CoDExSmall()"
   ]
  },
  {
   "cell_type": "markdown",
   "id": "b97df61a",
   "metadata": {
    "id": "b97df61a"
   },
   "source": [
    "Мы можем вывести описание датасета, чтобы получить информацию о количестве сущностей, отношений и других характеристиках."
   ]
  },
  {
   "cell_type": "code",
   "execution_count": 5,
   "id": "6f00ce2f",
   "metadata": {},
   "outputs": [
    {
     "name": "stdout",
     "output_type": "stream",
     "text": [
      "CoDExSmall(training_path=\"/root/.data/pykeen/datasets/codexsmall/train.txt\", testing_path=\"/root/.data/pykeen/datasets/codexsmall/test.txt\", validation_path=\"/root/.data/pykeen/datasets/codexsmall/valid.txt\")\n"
     ]
    }
   ],
   "source": [
    "# Просмотр описания датасета\n",
    "print(codex_dataset)"
   ]
  },
  {
   "cell_type": "markdown",
   "id": "eec4a92c",
   "metadata": {
    "id": "eec4a92c"
   },
   "source": [
    "#### Получение тренировочных данных\n",
    "Мы можем получить тренировочные факты, представленные в виде троек сущность-отношение-сущность.\n",
    "Таким образом, после выполнения этих шагов, у нас есть загруженный графовый датасет, и мы можем использовать его для обучения и тестирования моделей графовых знаний в Pykeen."
   ]
  },
  {
   "cell_type": "code",
   "execution_count": 6,
   "id": "65d3ec09",
   "metadata": {},
   "outputs": [
    {
     "name": "stdout",
     "output_type": "stream",
     "text": [
      "tensor([[  1,  23, 263],\n",
      "        [  1,  28, 264],\n",
      "        [  1,  31, 222],\n",
      "        [  1,  31, 452],\n",
      "        [  1,  31, 576]])\n"
     ]
    }
   ],
   "source": [
    "# Получение тренировочных фактов (троек сущность-отношение-сущность)\n",
    "training_data = codex_dataset.training.mapped_triples\n",
    "print(training_data[:5])"
   ]
  },
  {
   "cell_type": "markdown",
   "id": "df7c3f40",
   "metadata": {
    "id": "df7c3f40"
   },
   "source": [
    "## Описание базовой задачи\n",
    "\n",
    "В данном контексте базовой задачей является предсказание отношений между сущностями в графовом датасете. Каждая тройка в графе представляет отношение между двумя сущностями. Например, в социальной сети, где сущности - пользователи и страницы, отношения могут быть \"пользователь подписан на страницу\"."
   ]
  },
  {
   "cell_type": "code",
   "execution_count": 7,
   "id": "ee76ca9e",
   "metadata": {},
   "outputs": [],
   "source": [
    "# Импорт необходимых модулей Pykeen\n",
    "from pykeen.pipeline import pipeline"
   ]
  },
  {
   "cell_type": "markdown",
   "id": "971f2981",
   "metadata": {
    "id": "971f2981"
   },
   "source": [
    "\n",
    "#### Выбор модели\n",
    "Мы выбираем модель для решения задачи предсказания отношений. В данном случае, мы используем модель [TransE](https://paperswithcode.com/method/transe), одну из популярных моделей для этой задачи.\n",
    "\n",
    "#### Выбор датасета\n",
    "Мы указываем графовый датасет, с которым будем работать. В данном примере - nations_dataset, который содержит данные о связях в между странами.\n",
    "\n",
    "#### Количество эпох обучения\n",
    "Задаем количество эпох обучения (итераций по всему датасету)."
   ]
  },
  {
   "cell_type": "markdown",
   "id": "77cd56b4",
   "metadata": {
    "id": "77cd56b4"
   },
   "source": [
    "Проверяем наличие GPU устройства и вызываем функцию pipeline(), которая запускает процесс обучения модели, тестирования и валидации."
   ]
  },
  {
   "cell_type": "code",
   "execution_count": 8,
   "id": "HLz5MBy3kTGe",
   "metadata": {},
   "outputs": [
    {
     "name": "stdout",
     "output_type": "stream",
     "text": [
      "Using device: cuda\n"
     ]
    }
   ],
   "source": [
    "import torch\n",
    "device = torch.device(\"cuda\" if torch.cuda.is_available() else \"cpu\")\n",
    "print(f\"Using device: {device}\")"
   ]
  },
  {
   "cell_type": "code",
   "execution_count": 9,
   "id": "6f827ec4",
   "metadata": {},
   "outputs": [
    {
     "name": "stderr",
     "output_type": "stream",
     "text": [
      "WARNING:pykeen.pipeline.api:No random seed is specified. Setting to 3711796473.\n",
      "INFO:pykeen.pipeline.api:Using device: cuda\n"
     ]
    },
    {
     "data": {
      "application/vnd.jupyter.widget-view+json": {
       "model_id": "1e3063386d714c8baa46b33899cf8233",
       "version_major": 2,
       "version_minor": 0
      },
      "text/plain": [
       "Training epochs on cuda:0:   0%|          | 0/20 [00:00<?, ?epoch/s]"
      ]
     },
     "metadata": {},
     "output_type": "display_data"
    },
    {
     "data": {
      "application/vnd.jupyter.widget-view+json": {
       "model_id": "44e246b2414b4e6483c750894061e7c2",
       "version_major": 2,
       "version_minor": 0
      },
      "text/plain": [
       "Training batches on cuda:0:   0%|          | 0/129 [00:00<?, ?batch/s]"
      ]
     },
     "metadata": {},
     "output_type": "display_data"
    },
    {
     "data": {
      "application/vnd.jupyter.widget-view+json": {
       "model_id": "fbafadd438b84654a5bf64f73306cf83",
       "version_major": 2,
       "version_minor": 0
      },
      "text/plain": [
       "Training batches on cuda:0:   0%|          | 0/129 [00:00<?, ?batch/s]"
      ]
     },
     "metadata": {},
     "output_type": "display_data"
    },
    {
     "data": {
      "application/vnd.jupyter.widget-view+json": {
       "model_id": "5999ccbeac91418a9dfc9c2b3b2ddedc",
       "version_major": 2,
       "version_minor": 0
      },
      "text/plain": [
       "Training batches on cuda:0:   0%|          | 0/129 [00:00<?, ?batch/s]"
      ]
     },
     "metadata": {},
     "output_type": "display_data"
    },
    {
     "data": {
      "application/vnd.jupyter.widget-view+json": {
       "model_id": "99cc8047c8154c66bc2ffa980ebb5a2f",
       "version_major": 2,
       "version_minor": 0
      },
      "text/plain": [
       "Training batches on cuda:0:   0%|          | 0/129 [00:00<?, ?batch/s]"
      ]
     },
     "metadata": {},
     "output_type": "display_data"
    },
    {
     "data": {
      "application/vnd.jupyter.widget-view+json": {
       "model_id": "c92c947e8ac4417aadfb227b6a810d81",
       "version_major": 2,
       "version_minor": 0
      },
      "text/plain": [
       "Training batches on cuda:0:   0%|          | 0/129 [00:00<?, ?batch/s]"
      ]
     },
     "metadata": {},
     "output_type": "display_data"
    },
    {
     "data": {
      "application/vnd.jupyter.widget-view+json": {
       "model_id": "ae5d42ae8a924e778d59c2db7c36e97c",
       "version_major": 2,
       "version_minor": 0
      },
      "text/plain": [
       "Training batches on cuda:0:   0%|          | 0/129 [00:00<?, ?batch/s]"
      ]
     },
     "metadata": {},
     "output_type": "display_data"
    },
    {
     "data": {
      "application/vnd.jupyter.widget-view+json": {
       "model_id": "81ac3d330d274eeabfb5cc634bd7697a",
       "version_major": 2,
       "version_minor": 0
      },
      "text/plain": [
       "Training batches on cuda:0:   0%|          | 0/129 [00:00<?, ?batch/s]"
      ]
     },
     "metadata": {},
     "output_type": "display_data"
    },
    {
     "data": {
      "application/vnd.jupyter.widget-view+json": {
       "model_id": "660b7389b29a44e7a54b8657d7fba56c",
       "version_major": 2,
       "version_minor": 0
      },
      "text/plain": [
       "Training batches on cuda:0:   0%|          | 0/129 [00:00<?, ?batch/s]"
      ]
     },
     "metadata": {},
     "output_type": "display_data"
    },
    {
     "data": {
      "application/vnd.jupyter.widget-view+json": {
       "model_id": "0869d73d89c24fa484d785b05336dc28",
       "version_major": 2,
       "version_minor": 0
      },
      "text/plain": [
       "Training batches on cuda:0:   0%|          | 0/129 [00:00<?, ?batch/s]"
      ]
     },
     "metadata": {},
     "output_type": "display_data"
    },
    {
     "data": {
      "application/vnd.jupyter.widget-view+json": {
       "model_id": "28831a2d67664c33bcf429b1098c99f1",
       "version_major": 2,
       "version_minor": 0
      },
      "text/plain": [
       "Training batches on cuda:0:   0%|          | 0/129 [00:00<?, ?batch/s]"
      ]
     },
     "metadata": {},
     "output_type": "display_data"
    },
    {
     "data": {
      "application/vnd.jupyter.widget-view+json": {
       "model_id": "d93474931dd64b3b8f72e390dc65ab3c",
       "version_major": 2,
       "version_minor": 0
      },
      "text/plain": [
       "Training batches on cuda:0:   0%|          | 0/129 [00:00<?, ?batch/s]"
      ]
     },
     "metadata": {},
     "output_type": "display_data"
    },
    {
     "data": {
      "application/vnd.jupyter.widget-view+json": {
       "model_id": "506f19f4c445466ba54a2c5a441ad906",
       "version_major": 2,
       "version_minor": 0
      },
      "text/plain": [
       "Training batches on cuda:0:   0%|          | 0/129 [00:00<?, ?batch/s]"
      ]
     },
     "metadata": {},
     "output_type": "display_data"
    },
    {
     "data": {
      "application/vnd.jupyter.widget-view+json": {
       "model_id": "4014f0d1b00244f9b61fc826ebc04860",
       "version_major": 2,
       "version_minor": 0
      },
      "text/plain": [
       "Training batches on cuda:0:   0%|          | 0/129 [00:00<?, ?batch/s]"
      ]
     },
     "metadata": {},
     "output_type": "display_data"
    },
    {
     "data": {
      "application/vnd.jupyter.widget-view+json": {
       "model_id": "e2c80eb2801247539c18102b817a1e82",
       "version_major": 2,
       "version_minor": 0
      },
      "text/plain": [
       "Training batches on cuda:0:   0%|          | 0/129 [00:00<?, ?batch/s]"
      ]
     },
     "metadata": {},
     "output_type": "display_data"
    },
    {
     "data": {
      "application/vnd.jupyter.widget-view+json": {
       "model_id": "11b9e3d099ac4429ae291f92a7cc622f",
       "version_major": 2,
       "version_minor": 0
      },
      "text/plain": [
       "Training batches on cuda:0:   0%|          | 0/129 [00:00<?, ?batch/s]"
      ]
     },
     "metadata": {},
     "output_type": "display_data"
    },
    {
     "data": {
      "application/vnd.jupyter.widget-view+json": {
       "model_id": "89e50673b6cf47f58a4118dba3acc996",
       "version_major": 2,
       "version_minor": 0
      },
      "text/plain": [
       "Training batches on cuda:0:   0%|          | 0/129 [00:00<?, ?batch/s]"
      ]
     },
     "metadata": {},
     "output_type": "display_data"
    },
    {
     "data": {
      "application/vnd.jupyter.widget-view+json": {
       "model_id": "37475f7be7e344a0a7a6c27eb95941fa",
       "version_major": 2,
       "version_minor": 0
      },
      "text/plain": [
       "Training batches on cuda:0:   0%|          | 0/129 [00:00<?, ?batch/s]"
      ]
     },
     "metadata": {},
     "output_type": "display_data"
    },
    {
     "data": {
      "application/vnd.jupyter.widget-view+json": {
       "model_id": "4366d961646546c0856e66b2a919ca27",
       "version_major": 2,
       "version_minor": 0
      },
      "text/plain": [
       "Training batches on cuda:0:   0%|          | 0/129 [00:00<?, ?batch/s]"
      ]
     },
     "metadata": {},
     "output_type": "display_data"
    },
    {
     "data": {
      "application/vnd.jupyter.widget-view+json": {
       "model_id": "8decf5ebe2b74ab5998548cb2b5028f6",
       "version_major": 2,
       "version_minor": 0
      },
      "text/plain": [
       "Training batches on cuda:0:   0%|          | 0/129 [00:00<?, ?batch/s]"
      ]
     },
     "metadata": {},
     "output_type": "display_data"
    },
    {
     "data": {
      "application/vnd.jupyter.widget-view+json": {
       "model_id": "137313ef2a604a44bc2e71cb9972dec8",
       "version_major": 2,
       "version_minor": 0
      },
      "text/plain": [
       "Training batches on cuda:0:   0%|          | 0/129 [00:00<?, ?batch/s]"
      ]
     },
     "metadata": {},
     "output_type": "display_data"
    },
    {
     "name": "stderr",
     "output_type": "stream",
     "text": [
      "INFO:pykeen.evaluation.evaluator:Starting batch_size search for evaluation now...\n",
      "INFO:pykeen.evaluation.evaluator:Concluded batch_size search with batch_size=2048.\n"
     ]
    },
    {
     "data": {
      "application/vnd.jupyter.widget-view+json": {
       "model_id": "ec599ef3775b4a62890e516b9e04fe1e",
       "version_major": 2,
       "version_minor": 0
      },
      "text/plain": [
       "Evaluating on cuda:0:   0%|          | 0.00/1.83k [00:00<?, ?triple/s]"
      ]
     },
     "metadata": {},
     "output_type": "display_data"
    },
    {
     "name": "stderr",
     "output_type": "stream",
     "text": [
      "INFO:pykeen.evaluation.evaluator:Evaluation took 0.24s seconds\n"
     ]
    }
   ],
   "source": [
    "# Задаем параметры для pipeline\n",
    "pipeline_results = pipeline(\n",
    "    model=\"TransE\",      # Выбираем модель (TransE - одна из моделей для предсказания отношений)\n",
    "    dataset=codex_dataset,     # Выбираем графовый датасет (CoDExSmall)\n",
    "    training_kwargs=dict(num_epochs=20),   # Количество эпох обучения\n",
    "    device=device\n",
    ")"
   ]
  },
  {
   "cell_type": "markdown",
   "id": "c7756e2d",
   "metadata": {
    "id": "c7756e2d"
   },
   "source": [
    "\n",
    "Этот код инициирует обучение модели на выбранном датасете, используя выбранную архитектуру (TransE) и указанные параметры. После завершения обучения, результаты выводятся, и можно провести анализ производительности модели.\n"
   ]
  },
  {
   "cell_type": "markdown",
   "id": "356b5eca",
   "metadata": {
    "id": "356b5eca"
   },
   "source": [
    "Печатаем результаты, которые могут включать в себя метрики производительности, потери на тренировочных данных, а также результаты на тестовом и валидационном наборах данных."
   ]
  },
  {
   "cell_type": "code",
   "execution_count": 10,
   "id": "2aeab501",
   "metadata": {},
   "outputs": [
    {
     "name": "stdout",
     "output_type": "stream",
     "text": [
      "PipelineResult(random_seed=3711796473, model=TransE(\n",
      "  (loss): MarginRankingLoss(\n",
      "    (margin_activation): ReLU()\n",
      "  )\n",
      "  (interaction): TransEInteraction()\n",
      "  (entity_representations): ModuleList(\n",
      "    (0): Embedding(\n",
      "      (_embeddings): Embedding(2034, 50)\n",
      "    )\n",
      "  )\n",
      "  (relation_representations): ModuleList(\n",
      "    (0): Embedding(\n",
      "      (_embeddings): Embedding(42, 50)\n",
      "    )\n",
      "  )\n",
      "  (weight_regularizers): ModuleList()\n",
      "), training=TriplesFactory(num_entities=2034, num_relations=42, create_inverse_triples=False, num_triples=32888, path=\"/root/.data/pykeen/datasets/codexsmall/train.txt\"), training_loop=<pykeen.training.slcwa.SLCWATrainingLoop object at 0x7a5764863ac0>, losses=[0.9927115352578866, 0.7803277525790903, 0.6704185082930927, 0.5716791859892911, 0.4831737194412438, 0.4222018404524456, 0.368776166623877, 0.3247196473354517, 0.2922595475995263, 0.26631468476713166, 0.2500592708125595, 0.23120561785014102, 0.21804110417070316, 0.20564645182254704, 0.19508513565673385, 0.18405162127212035, 0.1783147976379986, 0.1683791164279908, 0.1605065034687981, 0.15274136715619138], metric_results=<pykeen.evaluation.rank_based_evaluator.RankBasedMetricResults object at 0x7a57482af220>, train_seconds=17.083386182785034, evaluate_seconds=2.870504140853882, stopper=<pykeen.stoppers.stopper.NopStopper object at 0x7a57482af640>, configuration={'dataset': 'codexsmall', 'dataset_kwargs': None, 'model': 'TransE', 'model_kwargs': {'random_seed': 3711796473, 'loss': MarginRankingLoss(\n",
      "  (margin_activation): ReLU()\n",
      "), 'embedding_dim': 50, 'scoring_fct_norm': 1, 'entity_initializer': <function xavier_uniform_ at 0x7a5760f40c10>, 'entity_constrainer': <function normalize at 0x7a576c3fa170>, 'relation_initializer': <pykeen.utils.compose object at 0x7a5760f503a0>, 'relation_constrainer': None, 'regularizer': None, 'regularizer_kwargs': None}, 'loss_kwargs': None, 'regularizer_kwargs': None, 'optimizer': 'Adam', 'optimizer_kwargs': {'lr': 0.001, 'betas': (0.9, 0.999), 'eps': 1e-08, 'weight_decay': 0, 'amsgrad': False, 'maximize': False, 'foreach': None, 'capturable': False, 'differentiable': False, 'fused': None}, 'training_loop': 'SLCWATrainingLoop', 'training_loop_kwargs': {}, 'evaluator': 'RankBasedEvaluator', 'evaluator_kwargs': {}, 'num_epochs': 20, 'batch_size': 256, 'evaluation_kwargs': {'additional_filter_triples': {'training': {'sha512': '5221ff2c916de29e113cef5297fbf85352e388e70307ce6378c54a475ab30ed5eec7e73af54ead6e2d89be9c19ab7bcb6611fea10523e5683d04329418b4f997'}, 'validation': {'sha512': '9e77d5fc40383a8eab449d511125bbc828ec2990524903f0f62c71e582c391dd9d4d33c4959b153d46d93dfd06547e890bbb2013181e6f7a06aef39b86840eaf'}}}}, metadata={}, version='1.10.1', git_hash='UNHASHED')\n"
     ]
    }
   ],
   "source": [
    "# Выводим результаты\n",
    "print(pipeline_results)"
   ]
  },
  {
   "cell_type": "markdown",
   "id": "e11f9b42",
   "metadata": {
    "id": "e11f9b42"
   },
   "source": [
    "### Triple Scoring"
   ]
  },
  {
   "cell_type": "markdown",
   "id": "62d8ed60",
   "metadata": {
    "id": "62d8ed60"
   },
   "source": [
    "Импортируем [predict_triples](https://pykeen.readthedocs.io/en/stable/api/pykeen.predict.predict_triples.html)"
   ]
  },
  {
   "cell_type": "code",
   "execution_count": 11,
   "id": "c609ecc5",
   "metadata": {},
   "outputs": [],
   "source": [
    "from pykeen.predict import predict_triples"
   ]
  },
  {
   "cell_type": "markdown",
   "id": "e5b52004",
   "metadata": {
    "id": "e5b52004"
   },
   "source": [
    "Рассчитаем оценки для всех validation троек из набора данных, на котором мы обучали модель."
   ]
  },
  {
   "cell_type": "code",
   "execution_count": 12,
   "id": "6f425f72",
   "metadata": {},
   "outputs": [
    {
     "name": "stderr",
     "output_type": "stream",
     "text": [
      "WARNING:torch_max_mem.api:Encountered tensors on device_types={'cpu'} while only ['cuda'] are considered safe for automatic memory utilization maximization. This may lead to undocumented crashes (but can be safe, too).\n"
     ]
    }
   ],
   "source": [
    "pack = predict_triples(model=pipeline_results.model, triples=codex_dataset.validation)\n",
    "df = pack.process(factory=pipeline_results.training).df"
   ]
  },
  {
   "cell_type": "markdown",
   "id": "5d1c180b",
   "metadata": {
    "id": "5d1c180b"
   },
   "source": [
    "Показаны тройки, получившие наивысший score"
   ]
  },
  {
   "cell_type": "code",
   "execution_count": 13,
   "id": "eea5b956",
   "metadata": {},
   "outputs": [
    {
     "data": {
      "text/html": [
       "\n",
       "  <div id=\"df-cf32508b-6597-41cc-beeb-7059d12d91e7\" class=\"colab-df-container\">\n",
       "    <div>\n",
       "<style scoped>\n",
       "    .dataframe tbody tr th:only-of-type {\n",
       "        vertical-align: middle;\n",
       "    }\n",
       "\n",
       "    .dataframe tbody tr th {\n",
       "        vertical-align: top;\n",
       "    }\n",
       "\n",
       "    .dataframe thead th {\n",
       "        text-align: right;\n",
       "    }\n",
       "</style>\n",
       "<table border=\"1\" class=\"dataframe\">\n",
       "  <thead>\n",
       "    <tr style=\"text-align: right;\">\n",
       "      <th></th>\n",
       "      <th>head_id</th>\n",
       "      <th>head_label</th>\n",
       "      <th>relation_id</th>\n",
       "      <th>relation_label</th>\n",
       "      <th>tail_id</th>\n",
       "      <th>tail_label</th>\n",
       "      <th>score</th>\n",
       "    </tr>\n",
       "  </thead>\n",
       "  <tbody>\n",
       "    <tr>\n",
       "      <th>1051</th>\n",
       "      <td>1179</td>\n",
       "      <td>Q35</td>\n",
       "      <td>23</td>\n",
       "      <td>P30</td>\n",
       "      <td>1413</td>\n",
       "      <td>Q46</td>\n",
       "      <td>-4.827008</td>\n",
       "    </tr>\n",
       "    <tr>\n",
       "      <th>204</th>\n",
       "      <td>247</td>\n",
       "      <td>Q142</td>\n",
       "      <td>34</td>\n",
       "      <td>P530</td>\n",
       "      <td>358</td>\n",
       "      <td>Q159583</td>\n",
       "      <td>-5.673005</td>\n",
       "    </tr>\n",
       "    <tr>\n",
       "      <th>785</th>\n",
       "      <td>881</td>\n",
       "      <td>Q241660</td>\n",
       "      <td>16</td>\n",
       "      <td>P172</td>\n",
       "      <td>1486</td>\n",
       "      <td>Q49085</td>\n",
       "      <td>-5.968920</td>\n",
       "    </tr>\n",
       "    <tr>\n",
       "      <th>1317</th>\n",
       "      <td>1472</td>\n",
       "      <td>Q484523</td>\n",
       "      <td>22</td>\n",
       "      <td>P27</td>\n",
       "      <td>1030</td>\n",
       "      <td>Q30</td>\n",
       "      <td>-5.970389</td>\n",
       "    </tr>\n",
       "    <tr>\n",
       "      <th>1434</th>\n",
       "      <td>1669</td>\n",
       "      <td>Q664</td>\n",
       "      <td>28</td>\n",
       "      <td>P37</td>\n",
       "      <td>518</td>\n",
       "      <td>Q1860</td>\n",
       "      <td>-5.970803</td>\n",
       "    </tr>\n",
       "  </tbody>\n",
       "</table>\n",
       "</div>\n",
       "    <div class=\"colab-df-buttons\">\n",
       "\n",
       "  <div class=\"colab-df-container\">\n",
       "    <button class=\"colab-df-convert\" onclick=\"convertToInteractive('df-cf32508b-6597-41cc-beeb-7059d12d91e7')\"\n",
       "            title=\"Convert this dataframe to an interactive table.\"\n",
       "            style=\"display:none;\">\n",
       "\n",
       "  <svg xmlns=\"http://www.w3.org/2000/svg\" height=\"24px\" viewBox=\"0 -960 960 960\">\n",
       "    <path d=\"M120-120v-720h720v720H120Zm60-500h600v-160H180v160Zm220 220h160v-160H400v160Zm0 220h160v-160H400v160ZM180-400h160v-160H180v160Zm440 0h160v-160H620v160ZM180-180h160v-160H180v160Zm440 0h160v-160H620v160Z\"/>\n",
       "  </svg>\n",
       "    </button>\n",
       "\n",
       "  <style>\n",
       "    .colab-df-container {\n",
       "      display:flex;\n",
       "      gap: 12px;\n",
       "    }\n",
       "\n",
       "    .colab-df-convert {\n",
       "      background-color: #E8F0FE;\n",
       "      border: none;\n",
       "      border-radius: 50%;\n",
       "      cursor: pointer;\n",
       "      display: none;\n",
       "      fill: #1967D2;\n",
       "      height: 32px;\n",
       "      padding: 0 0 0 0;\n",
       "      width: 32px;\n",
       "    }\n",
       "\n",
       "    .colab-df-convert:hover {\n",
       "      background-color: #E2EBFA;\n",
       "      box-shadow: 0px 1px 2px rgba(60, 64, 67, 0.3), 0px 1px 3px 1px rgba(60, 64, 67, 0.15);\n",
       "      fill: #174EA6;\n",
       "    }\n",
       "\n",
       "    .colab-df-buttons div {\n",
       "      margin-bottom: 4px;\n",
       "    }\n",
       "\n",
       "    [theme=dark] .colab-df-convert {\n",
       "      background-color: #3B4455;\n",
       "      fill: #D2E3FC;\n",
       "    }\n",
       "\n",
       "    [theme=dark] .colab-df-convert:hover {\n",
       "      background-color: #434B5C;\n",
       "      box-shadow: 0px 1px 3px 1px rgba(0, 0, 0, 0.15);\n",
       "      filter: drop-shadow(0px 1px 2px rgba(0, 0, 0, 0.3));\n",
       "      fill: #FFFFFF;\n",
       "    }\n",
       "  </style>\n",
       "\n",
       "    <script>\n",
       "      const buttonEl =\n",
       "        document.querySelector('#df-cf32508b-6597-41cc-beeb-7059d12d91e7 button.colab-df-convert');\n",
       "      buttonEl.style.display =\n",
       "        google.colab.kernel.accessAllowed ? 'block' : 'none';\n",
       "\n",
       "      async function convertToInteractive(key) {\n",
       "        const element = document.querySelector('#df-cf32508b-6597-41cc-beeb-7059d12d91e7');\n",
       "        const dataTable =\n",
       "          await google.colab.kernel.invokeFunction('convertToInteractive',\n",
       "                                                    [key], {});\n",
       "        if (!dataTable) return;\n",
       "\n",
       "        const docLinkHtml = 'Like what you see? Visit the ' +\n",
       "          '<a target=\"_blank\" href=https://colab.research.google.com/notebooks/data_table.ipynb>data table notebook</a>'\n",
       "          + ' to learn more about interactive tables.';\n",
       "        element.innerHTML = '';\n",
       "        dataTable['output_type'] = 'display_data';\n",
       "        await google.colab.output.renderOutput(dataTable, element);\n",
       "        const docLink = document.createElement('div');\n",
       "        docLink.innerHTML = docLinkHtml;\n",
       "        element.appendChild(docLink);\n",
       "      }\n",
       "    </script>\n",
       "  </div>\n",
       "\n",
       "\n",
       "<div id=\"df-d84af331-04c5-4846-b774-86879e88fd7e\">\n",
       "  <button class=\"colab-df-quickchart\" onclick=\"quickchart('df-d84af331-04c5-4846-b774-86879e88fd7e')\"\n",
       "            title=\"Suggest charts\"\n",
       "            style=\"display:none;\">\n",
       "\n",
       "<svg xmlns=\"http://www.w3.org/2000/svg\" height=\"24px\"viewBox=\"0 0 24 24\"\n",
       "     width=\"24px\">\n",
       "    <g>\n",
       "        <path d=\"M19 3H5c-1.1 0-2 .9-2 2v14c0 1.1.9 2 2 2h14c1.1 0 2-.9 2-2V5c0-1.1-.9-2-2-2zM9 17H7v-7h2v7zm4 0h-2V7h2v10zm4 0h-2v-4h2v4z\"/>\n",
       "    </g>\n",
       "</svg>\n",
       "  </button>\n",
       "\n",
       "<style>\n",
       "  .colab-df-quickchart {\n",
       "      --bg-color: #E8F0FE;\n",
       "      --fill-color: #1967D2;\n",
       "      --hover-bg-color: #E2EBFA;\n",
       "      --hover-fill-color: #174EA6;\n",
       "      --disabled-fill-color: #AAA;\n",
       "      --disabled-bg-color: #DDD;\n",
       "  }\n",
       "\n",
       "  [theme=dark] .colab-df-quickchart {\n",
       "      --bg-color: #3B4455;\n",
       "      --fill-color: #D2E3FC;\n",
       "      --hover-bg-color: #434B5C;\n",
       "      --hover-fill-color: #FFFFFF;\n",
       "      --disabled-bg-color: #3B4455;\n",
       "      --disabled-fill-color: #666;\n",
       "  }\n",
       "\n",
       "  .colab-df-quickchart {\n",
       "    background-color: var(--bg-color);\n",
       "    border: none;\n",
       "    border-radius: 50%;\n",
       "    cursor: pointer;\n",
       "    display: none;\n",
       "    fill: var(--fill-color);\n",
       "    height: 32px;\n",
       "    padding: 0;\n",
       "    width: 32px;\n",
       "  }\n",
       "\n",
       "  .colab-df-quickchart:hover {\n",
       "    background-color: var(--hover-bg-color);\n",
       "    box-shadow: 0 1px 2px rgba(60, 64, 67, 0.3), 0 1px 3px 1px rgba(60, 64, 67, 0.15);\n",
       "    fill: var(--button-hover-fill-color);\n",
       "  }\n",
       "\n",
       "  .colab-df-quickchart-complete:disabled,\n",
       "  .colab-df-quickchart-complete:disabled:hover {\n",
       "    background-color: var(--disabled-bg-color);\n",
       "    fill: var(--disabled-fill-color);\n",
       "    box-shadow: none;\n",
       "  }\n",
       "\n",
       "  .colab-df-spinner {\n",
       "    border: 2px solid var(--fill-color);\n",
       "    border-color: transparent;\n",
       "    border-bottom-color: var(--fill-color);\n",
       "    animation:\n",
       "      spin 1s steps(1) infinite;\n",
       "  }\n",
       "\n",
       "  @keyframes spin {\n",
       "    0% {\n",
       "      border-color: transparent;\n",
       "      border-bottom-color: var(--fill-color);\n",
       "      border-left-color: var(--fill-color);\n",
       "    }\n",
       "    20% {\n",
       "      border-color: transparent;\n",
       "      border-left-color: var(--fill-color);\n",
       "      border-top-color: var(--fill-color);\n",
       "    }\n",
       "    30% {\n",
       "      border-color: transparent;\n",
       "      border-left-color: var(--fill-color);\n",
       "      border-top-color: var(--fill-color);\n",
       "      border-right-color: var(--fill-color);\n",
       "    }\n",
       "    40% {\n",
       "      border-color: transparent;\n",
       "      border-right-color: var(--fill-color);\n",
       "      border-top-color: var(--fill-color);\n",
       "    }\n",
       "    60% {\n",
       "      border-color: transparent;\n",
       "      border-right-color: var(--fill-color);\n",
       "    }\n",
       "    80% {\n",
       "      border-color: transparent;\n",
       "      border-right-color: var(--fill-color);\n",
       "      border-bottom-color: var(--fill-color);\n",
       "    }\n",
       "    90% {\n",
       "      border-color: transparent;\n",
       "      border-bottom-color: var(--fill-color);\n",
       "    }\n",
       "  }\n",
       "</style>\n",
       "\n",
       "  <script>\n",
       "    async function quickchart(key) {\n",
       "      const quickchartButtonEl =\n",
       "        document.querySelector('#' + key + ' button');\n",
       "      quickchartButtonEl.disabled = true;  // To prevent multiple clicks.\n",
       "      quickchartButtonEl.classList.add('colab-df-spinner');\n",
       "      try {\n",
       "        const charts = await google.colab.kernel.invokeFunction(\n",
       "            'suggestCharts', [key], {});\n",
       "      } catch (error) {\n",
       "        console.error('Error during call to suggestCharts:', error);\n",
       "      }\n",
       "      quickchartButtonEl.classList.remove('colab-df-spinner');\n",
       "      quickchartButtonEl.classList.add('colab-df-quickchart-complete');\n",
       "    }\n",
       "    (() => {\n",
       "      let quickchartButtonEl =\n",
       "        document.querySelector('#df-d84af331-04c5-4846-b774-86879e88fd7e button');\n",
       "      quickchartButtonEl.style.display =\n",
       "        google.colab.kernel.accessAllowed ? 'block' : 'none';\n",
       "    })();\n",
       "  </script>\n",
       "</div>\n",
       "    </div>\n",
       "  </div>\n"
      ],
      "text/plain": [
       "      head_id head_label  relation_id relation_label  tail_id tail_label  \\\n",
       "1051     1179        Q35           23            P30     1413        Q46   \n",
       "204       247       Q142           34           P530      358    Q159583   \n",
       "785       881    Q241660           16           P172     1486     Q49085   \n",
       "1317     1472    Q484523           22            P27     1030        Q30   \n",
       "1434     1669       Q664           28            P37      518      Q1860   \n",
       "\n",
       "         score  \n",
       "1051 -4.827008  \n",
       "204  -5.673005  \n",
       "785  -5.968920  \n",
       "1317 -5.970389  \n",
       "1434 -5.970803  "
      ]
     },
     "execution_count": 13,
     "metadata": {},
     "output_type": "execute_result"
    }
   ],
   "source": [
    "df.nlargest(n=5, columns=\"score\")"
   ]
  },
  {
   "cell_type": "markdown",
   "id": "84ce9eac",
   "metadata": {
    "id": "84ce9eac"
   },
   "source": [
    "В рамках самостоятельной работы попробуйте обучить и протестировать модель на любом другом датасете доступном на https://pykeen.readthedocs.io/en/stable/reference/datasets.html."
   ]
  }
 ],
 "metadata": {
  "language_info": {
   "name": "python"
  }
 },
 "nbformat": 4,
 "nbformat_minor": 5
}
