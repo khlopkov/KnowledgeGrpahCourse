{
  "nbformat": 4,
  "nbformat_minor": 0,
  "metadata": {
    "colab": {
      "name": "Books.ipynb",
      "provenance": [],
      "collapsed_sections": []
    },
    "kernelspec": {
      "name": "python3",
      "display_name": "Python 3"
    },
    "language_info": {
      "name": "python"
    }
  },
  "cells": [
    {
      "cell_type": "code",
      "execution_count": 24,
      "metadata": {
        "colab": {
          "base_uri": "https://localhost:8080/"
        },
        "id": "MgOTEDSDSMWr",
        "outputId": "26f7b650-11eb-42d0-baa3-5a9aa0cb1c76"
      },
      "outputs": [
        {
          "output_type": "stream",
          "name": "stdout",
          "text": [
            "Requirement already satisfied: rdflib in /usr/local/lib/python3.7/dist-packages (6.1.1)\n",
            "Requirement already satisfied: importlib-metadata in /usr/local/lib/python3.7/dist-packages (from rdflib) (4.11.3)\n",
            "Requirement already satisfied: setuptools in /usr/local/lib/python3.7/dist-packages (from rdflib) (57.4.0)\n",
            "Requirement already satisfied: isodate in /usr/local/lib/python3.7/dist-packages (from rdflib) (0.6.1)\n",
            "Requirement already satisfied: pyparsing in /usr/local/lib/python3.7/dist-packages (from rdflib) (3.0.9)\n",
            "Requirement already satisfied: typing-extensions>=3.6.4 in /usr/local/lib/python3.7/dist-packages (from importlib-metadata->rdflib) (4.2.0)\n",
            "Requirement already satisfied: zipp>=0.5 in /usr/local/lib/python3.7/dist-packages (from importlib-metadata->rdflib) (3.8.0)\n",
            "Requirement already satisfied: six in /usr/local/lib/python3.7/dist-packages (from isodate->rdflib) (1.15.0)\n"
          ]
        }
      ],
      "source": [
        "!pip install rdflib"
      ]
    },
    {
      "cell_type": "code",
      "source": [
        "from rdflib import URIRef, BNode, Literal, Namespace, Graph\n",
        "from rdflib.namespace import Namespace, NamespaceManager\n",
        "from rdflib.plugins import sparql\n",
        "from rdflib.void import generateVoID\n",
        "from rdflib.namespace import RDF, RDFS\n",
        "from rdflib.serializer import Serializer"
      ],
      "metadata": {
        "id": "Xm1ZuvAfSYk5"
      },
      "execution_count": null,
      "outputs": []
    },
    {
      "cell_type": "code",
      "source": [
        "import rdflib\n",
        "graph = Graph()\n",
        "url = 'books.owl'\n",
        "graph = graph.parse(url)\n",
        "void = rdflib.void.generateVoID(graph)"
      ],
      "metadata": {
        "id": "_Yg0GUC3CNze"
      },
      "execution_count": 48,
      "outputs": []
    },
    {
      "cell_type": "code",
      "source": [
        "void[0].serialize(destination=\"status.owl\")"
      ],
      "metadata": {
        "colab": {
          "base_uri": "https://localhost:8080/"
        },
        "id": "3nwxF4AxGOqT",
        "outputId": "61626d7a-551a-43aa-ede1-dcd78f53a30f"
      },
      "execution_count": 49,
      "outputs": [
        {
          "output_type": "execute_result",
          "data": {
            "text/plain": [
              "<Graph identifier=Nfa645393e71c48239765cba560aedbf3 (<class 'rdflib.graph.Graph'>)>"
            ]
          },
          "metadata": {},
          "execution_count": 49
        }
      ]
    },
    {
      "cell_type": "code",
      "source": [
        "prefixes = \"\"\"\n",
        "PREFIX rdf: <http://www.w3.org/1999/02/22-rdf-syntax-ns#>\n",
        "PREFIX owl: <http://www.w3.org/2002/07/owl#>\n",
        "PREFIX rdfs: <http://www.w3.org/2000/01/rdf-schema#>\n",
        "PREFIX xsd: <http://www.w3.org/2001/XMLSchema#>\n",
        "PREFIX xml: <http://www.w3.org/XML/1998/namespace#>\n",
        "PREFIX ontobooks: <http://www.semanticweb.org/e1izabeth/ontobooks#>\n",
        "\"\"\""
      ],
      "metadata": {
        "id": "fFbIJMuJPt6g"
      },
      "execution_count": 25,
      "outputs": []
    },
    {
      "cell_type": "code",
      "source": [
        "res = graph.query(prefixes + \"\"\"\n",
        "\n",
        "\n",
        "select distinct \n",
        "\t?bookTitle ?movieTitle \n",
        "{\n",
        "\t?book rdf:type ontobooks:Books.\n",
        "\t?book ontobooks:hasTitle ?bookTitle.\n",
        "\t?movie ontobooks:isBasedOnBook ?book .\n",
        "  ?movie ontobooks:hasTitle ?movieTitle.\n",
        "}\n",
        "ORDER BY (?movieTitle)\n",
        "\n",
        "\"\"\")\n",
        "\n",
        "for row in res:\n",
        "    print(str(row))"
      ],
      "metadata": {
        "colab": {
          "base_uri": "https://localhost:8080/"
        },
        "id": "xtoyVOPVQ4sv",
        "outputId": "9b1a683d-4ae4-493a-d28e-378b4c82362e"
      },
      "execution_count": 50,
      "outputs": [
        {
          "output_type": "stream",
          "name": "stdout",
          "text": [
            "(rdflib.term.Literal('A Theory of Justice', datatype=rdflib.term.URIRef('http://www.w3.org/2001/XMLSchema#string')), rdflib.term.Literal('A Theory of Justice: The Musical!', datatype=rdflib.term.URIRef('http://www.w3.org/2001/XMLSchema#string')))\n",
            "(rdflib.term.Literal('American Psycho', datatype=rdflib.term.URIRef('http://www.w3.org/2001/XMLSchema#string')), rdflib.term.Literal('American Psycho (musical)', datatype=rdflib.term.URIRef('http://www.w3.org/2001/XMLSchema#string')))\n",
            "(rdflib.term.Literal('The Beautiful and Damned', datatype=rdflib.term.URIRef('http://www.w3.org/2001/XMLSchema#string')), rdflib.term.Literal('Beautiful and Damned', datatype=rdflib.term.URIRef('http://www.w3.org/2001/XMLSchema#string')))\n",
            "(rdflib.term.Literal('Big Fish: A Novel of Mythic Proportions', datatype=rdflib.term.URIRef('http://www.w3.org/2001/XMLSchema#string')), rdflib.term.Literal('Big Fish (musical)', datatype=rdflib.term.URIRef('http://www.w3.org/2001/XMLSchema#string')))\n",
            "(rdflib.term.Literal('Billy Liar', datatype=rdflib.term.URIRef('http://www.w3.org/2001/XMLSchema#string')), rdflib.term.Literal('Billy (musical)', datatype=rdflib.term.URIRef('http://www.w3.org/2001/XMLSchema#string')))\n",
            "(rdflib.term.Literal('Breakfast on Pluto', datatype=rdflib.term.URIRef('http://www.w3.org/2001/XMLSchema#string')), rdflib.term.Literal('Breakfast on Pluto (musical)', datatype=rdflib.term.URIRef('http://www.w3.org/2001/XMLSchema#string')))\n",
            "(rdflib.term.Literal(\"Bridget Jones's Diary (novel)\", datatype=rdflib.term.URIRef('http://www.w3.org/2001/XMLSchema#string')), rdflib.term.Literal(\"Bridget Jones' Diary (musical)\", datatype=rdflib.term.URIRef('http://www.w3.org/2001/XMLSchema#string')))\n",
            "(rdflib.term.Literal('The Fire Next Time', datatype=rdflib.term.URIRef('http://www.w3.org/2001/XMLSchema#string')), rdflib.term.Literal('Can I Get a Witness? The Gospel of James Baldwin', datatype=rdflib.term.URIRef('http://www.w3.org/2001/XMLSchema#string')))\n",
            "(rdflib.term.Literal('Carrie (novel)', datatype=rdflib.term.URIRef('http://www.w3.org/2001/XMLSchema#string')), rdflib.term.Literal('Carrie (musical)', datatype=rdflib.term.URIRef('http://www.w3.org/2001/XMLSchema#string')))\n",
            "(rdflib.term.Literal(\"Charlotte's Web\", datatype=rdflib.term.URIRef('http://www.w3.org/2001/XMLSchema#string')), rdflib.term.Literal(\"Charlotte's Web (musical)\", datatype=rdflib.term.URIRef('http://www.w3.org/2001/XMLSchema#string')))\n",
            "(rdflib.term.Literal('Chronicle of a Death Foretold', datatype=rdflib.term.URIRef('http://www.w3.org/2001/XMLSchema#string')), rdflib.term.Literal('Chronicle of a Death Foretold (musical)', datatype=rdflib.term.URIRef('http://www.w3.org/2001/XMLSchema#string')))\n",
            "(rdflib.term.Literal('Coraline', datatype=rdflib.term.URIRef('http://www.w3.org/2001/XMLSchema#string')), rdflib.term.Literal('Coraline (musical)', datatype=rdflib.term.URIRef('http://www.w3.org/2001/XMLSchema#string')))\n",
            "(rdflib.term.Literal('How the Grinch Stole Christmas!', datatype=rdflib.term.URIRef('http://www.w3.org/2001/XMLSchema#string')), rdflib.term.Literal(\"Dr. Seuss' How the Grinch Stole Christmas! The Musical\", datatype=rdflib.term.URIRef('http://www.w3.org/2001/XMLSchema#string')))\n",
            "(rdflib.term.Literal('Fancy Nancy', datatype=rdflib.term.URIRef('http://www.w3.org/2001/XMLSchema#string')), rdflib.term.Literal('Fancy Nancy the Musical', datatype=rdflib.term.URIRef('http://www.w3.org/2001/XMLSchema#string')))\n",
            "(rdflib.term.Literal('Fantastic Mr Fox', datatype=rdflib.term.URIRef('http://www.w3.org/2001/XMLSchema#string')), rdflib.term.Literal('Fantastic Mr Fox (musical)', datatype=rdflib.term.URIRef('http://www.w3.org/2001/XMLSchema#string')))\n",
            "(rdflib.term.Literal('Fun Home', datatype=rdflib.term.URIRef('http://www.w3.org/2001/XMLSchema#string')), rdflib.term.Literal('Fun Home (musical)', datatype=rdflib.term.URIRef('http://www.w3.org/2001/XMLSchema#string')))\n",
            "(rdflib.term.Literal('Gentlemen Prefer Blondes (novel)', datatype=rdflib.term.URIRef('http://www.w3.org/2001/XMLSchema#string')), rdflib.term.Literal('Gentlemen Prefer Blondes (musical)', datatype=rdflib.term.URIRef('http://www.w3.org/2001/XMLSchema#string')))\n",
            "(rdflib.term.Literal('Gone with the Wind (novel)', datatype=rdflib.term.URIRef('http://www.w3.org/2001/XMLSchema#string')), rdflib.term.Literal('Gone with the Wind (musical)', datatype=rdflib.term.URIRef('http://www.w3.org/2001/XMLSchema#string')))\n",
            "(rdflib.term.Literal('East of Eden (novel)', datatype=rdflib.term.URIRef('http://www.w3.org/2001/XMLSchema#string')), rdflib.term.Literal(\"Here's Where I Belong\", datatype=rdflib.term.URIRef('http://www.w3.org/2001/XMLSchema#string')))\n",
            "(rdflib.term.Literal('High Fidelity (novel)', datatype=rdflib.term.URIRef('http://www.w3.org/2001/XMLSchema#string')), rdflib.term.Literal('High Fidelity (musical)', datatype=rdflib.term.URIRef('http://www.w3.org/2001/XMLSchema#string')))\n",
            "(rdflib.term.Literal('Strange Case of Dr Jekyll and Mr Hyde', datatype=rdflib.term.URIRef('http://www.w3.org/2001/XMLSchema#string')), rdflib.term.Literal('Jekyll & Hyde (musical)', datatype=rdflib.term.URIRef('http://www.w3.org/2001/XMLSchema#string')))\n",
            "(rdflib.term.Literal('Cry, the Beloved Country', datatype=rdflib.term.URIRef('http://www.w3.org/2001/XMLSchema#string')), rdflib.term.Literal('Lost in the Stars', datatype=rdflib.term.URIRef('http://www.w3.org/2001/XMLSchema#string')))\n",
            "(rdflib.term.Literal('The Phantom of Manhattan', datatype=rdflib.term.URIRef('http://www.w3.org/2001/XMLSchema#string')), rdflib.term.Literal('Love Never Dies (musical)', datatype=rdflib.term.URIRef('http://www.w3.org/2001/XMLSchema#string')))\n",
            "(rdflib.term.Literal('Sweet Thursday', datatype=rdflib.term.URIRef('http://www.w3.org/2001/XMLSchema#string')), rdflib.term.Literal('Pipe Dream (musical)', datatype=rdflib.term.URIRef('http://www.w3.org/2001/XMLSchema#string')))\n",
            "(rdflib.term.Literal('Ragtime (novel)', datatype=rdflib.term.URIRef('http://www.w3.org/2001/XMLSchema#string')), rdflib.term.Literal('Ragtime (musical)', datatype=rdflib.term.URIRef('http://www.w3.org/2001/XMLSchema#string')))\n",
            "(rdflib.term.Literal('Gone with the Wind (novel)', datatype=rdflib.term.URIRef('http://www.w3.org/2001/XMLSchema#string')), rdflib.term.Literal('Scarlett (musical)', datatype=rdflib.term.URIRef('http://www.w3.org/2001/XMLSchema#string')))\n",
            "(rdflib.term.Literal('Seven Little Australians', datatype=rdflib.term.URIRef('http://www.w3.org/2001/XMLSchema#string')), rdflib.term.Literal('Seven Little Australians (musical)', datatype=rdflib.term.URIRef('http://www.w3.org/2001/XMLSchema#string')))\n",
            "(rdflib.term.Literal('Lost Horizon', datatype=rdflib.term.URIRef('http://www.w3.org/2001/XMLSchema#string')), rdflib.term.Literal('Shangri-La (musical)', datatype=rdflib.term.URIRef('http://www.w3.org/2001/XMLSchema#string')))\n",
            "(rdflib.term.Literal('Shōgun (novel)', datatype=rdflib.term.URIRef('http://www.w3.org/2001/XMLSchema#string')), rdflib.term.Literal('Shōgun: The Musical', datatype=rdflib.term.URIRef('http://www.w3.org/2001/XMLSchema#string')))\n",
            "(rdflib.term.Literal('Starship Troopers', datatype=rdflib.term.URIRef('http://www.w3.org/2001/XMLSchema#string')), rdflib.term.Literal('Starship (musical)', datatype=rdflib.term.URIRef('http://www.w3.org/2001/XMLSchema#string')))\n",
            "(rdflib.term.Literal('State Fair (novel)', datatype=rdflib.term.URIRef('http://www.w3.org/2001/XMLSchema#string')), rdflib.term.Literal('State Fair (musical)', datatype=rdflib.term.URIRef('http://www.w3.org/2001/XMLSchema#string')))\n",
            "(rdflib.term.Literal('The Boy in the Dress (novel)', datatype=rdflib.term.URIRef('http://www.w3.org/2001/XMLSchema#string')), rdflib.term.Literal('The Boy in the Dress (musical)', datatype=rdflib.term.URIRef('http://www.w3.org/2001/XMLSchema#string')))\n",
            "(rdflib.term.Literal('The Bridges of Madison County', datatype=rdflib.term.URIRef('http://www.w3.org/2001/XMLSchema#string')), rdflib.term.Literal('The Bridges of Madison County (musical)', datatype=rdflib.term.URIRef('http://www.w3.org/2001/XMLSchema#string')))\n",
            "(rdflib.term.Literal('The Color Purple', datatype=rdflib.term.URIRef('http://www.w3.org/2001/XMLSchema#string')), rdflib.term.Literal('The Color Purple (musical)', datatype=rdflib.term.URIRef('http://www.w3.org/2001/XMLSchema#string')))\n",
            "(rdflib.term.Literal('The Commitments (novel)', datatype=rdflib.term.URIRef('http://www.w3.org/2001/XMLSchema#string')), rdflib.term.Literal('The Commitments (musical)', datatype=rdflib.term.URIRef('http://www.w3.org/2001/XMLSchema#string')))\n",
            "(rdflib.term.Literal('The Fortress of Solitude (novel)', datatype=rdflib.term.URIRef('http://www.w3.org/2001/XMLSchema#string')), rdflib.term.Literal('The Fortress of Solitude (musical)', datatype=rdflib.term.URIRef('http://www.w3.org/2001/XMLSchema#string')))\n",
            "(rdflib.term.Literal('The Kid (book)', datatype=rdflib.term.URIRef('http://www.w3.org/2001/XMLSchema#string')), rdflib.term.Literal('The Kid (musical)', datatype=rdflib.term.URIRef('http://www.w3.org/2001/XMLSchema#string')))\n",
            "(rdflib.term.Literal('The Lightning Thief', datatype=rdflib.term.URIRef('http://www.w3.org/2001/XMLSchema#string')), rdflib.term.Literal('The Lightning Thief (musical)', datatype=rdflib.term.URIRef('http://www.w3.org/2001/XMLSchema#string')))\n",
            "(rdflib.term.Literal('The Lorax', datatype=rdflib.term.URIRef('http://www.w3.org/2001/XMLSchema#string')), rdflib.term.Literal('The Lorax (musical)', datatype=rdflib.term.URIRef('http://www.w3.org/2001/XMLSchema#string')))\n",
            "(rdflib.term.Literal(\"The Magician's Elephant\", datatype=rdflib.term.URIRef('http://www.w3.org/2001/XMLSchema#string')), rdflib.term.Literal(\"The Magician's Elephant (musical)\", datatype=rdflib.term.URIRef('http://www.w3.org/2001/XMLSchema#string')))\n",
            "(rdflib.term.Literal('The Notebook (novel)', datatype=rdflib.term.URIRef('http://www.w3.org/2001/XMLSchema#string')), rdflib.term.Literal('The Notebook (musical)', datatype=rdflib.term.URIRef('http://www.w3.org/2001/XMLSchema#string')))\n",
            "(rdflib.term.Literal('Grania: She-King of the Irish Seas', datatype=rdflib.term.URIRef('http://www.w3.org/2001/XMLSchema#string')), rdflib.term.Literal('The Pirate Queen', datatype=rdflib.term.URIRef('http://www.w3.org/2001/XMLSchema#string')))\n",
            "(rdflib.term.Literal('The Remains of the Day', datatype=rdflib.term.URIRef('http://www.w3.org/2001/XMLSchema#string')), rdflib.term.Literal('The Remains of the Day (musical)', datatype=rdflib.term.URIRef('http://www.w3.org/2001/XMLSchema#string')))\n",
            "(rdflib.term.Literal('The Secret Diary of Adrian Mole, Aged 13¾', datatype=rdflib.term.URIRef('http://www.w3.org/2001/XMLSchema#string')), rdflib.term.Literal('The Secret Diary of Adrian Mole Aged 13¾ (musical)', datatype=rdflib.term.URIRef('http://www.w3.org/2001/XMLSchema#string')))\n",
            "(rdflib.term.Literal('The Songs of a Sentimental Bloke', datatype=rdflib.term.URIRef('http://www.w3.org/2001/XMLSchema#string')), rdflib.term.Literal('The Sentimental Bloke (1961 musical)', datatype=rdflib.term.URIRef('http://www.w3.org/2001/XMLSchema#string')))\n",
            "(rdflib.term.Literal('Wicked (Maguire novel)', datatype=rdflib.term.URIRef('http://www.w3.org/2001/XMLSchema#string')), rdflib.term.Literal('Wicked (musical)', datatype=rdflib.term.URIRef('http://www.w3.org/2001/XMLSchema#string')))\n"
          ]
        }
      ]
    },
    {
      "cell_type": "code",
      "source": [
        "res = graph.query(prefixes + \"\"\"\n",
        "\n",
        "\n",
        "select ?bookTitle ?rating ?authorName ?authorBirthPlace\n",
        "{\n",
        "\t?book rdf:type ontobooks:Books.\n",
        "  ?book ontobooks:hasTitle ?bookTitle.\n",
        "\t?book ontobooks:hasRating ?rating.\n",
        "  ?book ontobooks:hasAuthoredBy ?author.\n",
        "  ?author rdfs:label ?authorName.\n",
        "  ?author ontobooks:origin ?authorBirthPlace.\n",
        "  ?authorBirthPlace rdfs:label ?placeName.\n",
        "  FILTER(?rating >= 4 && regex(?placeName, \"Russia\")) \n",
        "}\n",
        "\"\"\")\n",
        "\n",
        "for row in res:\n",
        "    print(str(row))"
      ],
      "metadata": {
        "colab": {
          "base_uri": "https://localhost:8080/"
        },
        "id": "bt1rWftpS15A",
        "outputId": "9a810a49-851f-464f-db34-a78ea2f4b7c6"
      },
      "execution_count": 46,
      "outputs": [
        {
          "output_type": "stream",
          "name": "stdout",
          "text": [
            "(rdflib.term.Literal('Nightfall (Asimov novelette and novel)', datatype=rdflib.term.URIRef('http://www.w3.org/2001/XMLSchema#string')), rdflib.term.Literal('4.17', datatype=rdflib.term.URIRef('http://www.w3.org/2001/XMLSchema#float')), rdflib.term.Literal('Isaac Asimov'), rdflib.term.URIRef('http://dbpedia.org/resource/Russian_Soviet_Federative_Socialist_Republic'))\n",
            "(rdflib.term.Literal('Robots and Empire', datatype=rdflib.term.URIRef('http://www.w3.org/2001/XMLSchema#string')), rdflib.term.Literal('4.0', datatype=rdflib.term.URIRef('http://www.w3.org/2001/XMLSchema#float')), rdflib.term.Literal('Isaac Asimov'), rdflib.term.URIRef('http://dbpedia.org/resource/Russian_Soviet_Federative_Socialist_Republic'))\n",
            "(rdflib.term.Literal('The Return of the Black Widowers', datatype=rdflib.term.URIRef('http://www.w3.org/2001/XMLSchema#string')), rdflib.term.Literal('4.0', datatype=rdflib.term.URIRef('http://www.w3.org/2001/XMLSchema#float')), rdflib.term.Literal('Isaac Asimov'), rdflib.term.URIRef('http://dbpedia.org/resource/Russian_Soviet_Federative_Socialist_Republic'))\n",
            "(rdflib.term.Literal('The Bicentennial Man and Other Stories', datatype=rdflib.term.URIRef('http://www.w3.org/2001/XMLSchema#string')), rdflib.term.Literal('4.0', datatype=rdflib.term.URIRef('http://www.w3.org/2001/XMLSchema#float')), rdflib.term.Literal('Isaac Asimov'), rdflib.term.URIRef('http://dbpedia.org/resource/Russian_Soviet_Federative_Socialist_Republic'))\n",
            "(rdflib.term.Literal('The Gods Themselves', datatype=rdflib.term.URIRef('http://www.w3.org/2001/XMLSchema#string')), rdflib.term.Literal('4.05', datatype=rdflib.term.URIRef('http://www.w3.org/2001/XMLSchema#float')), rdflib.term.Literal('Isaac Asimov'), rdflib.term.URIRef('http://dbpedia.org/resource/Russian_Soviet_Federative_Socialist_Republic'))\n",
            "(rdflib.term.Literal('Foundation (Asimov novel)', datatype=rdflib.term.URIRef('http://www.w3.org/2001/XMLSchema#string')), rdflib.term.Literal('4.03', datatype=rdflib.term.URIRef('http://www.w3.org/2001/XMLSchema#float')), rdflib.term.Literal('Isaac Asimov'), rdflib.term.URIRef('http://dbpedia.org/resource/Russian_Soviet_Federative_Socialist_Republic'))\n",
            "(rdflib.term.Literal('Dubrovsky (novel)', datatype=rdflib.term.URIRef('http://www.w3.org/2001/XMLSchema#string')), rdflib.term.Literal('5.0', datatype=rdflib.term.URIRef('http://www.w3.org/2001/XMLSchema#float')), rdflib.term.Literal('Alexander Pushkin'), rdflib.term.URIRef('http://dbpedia.org/resource/Russian_Empire'))\n"
          ]
        }
      ]
    },
    {
      "cell_type": "code",
      "source": [
        "res = graph.query(prefixes + \"\"\"\n",
        "\n",
        "\n",
        "select distinct \n",
        "\t?bookTitle ?bookPages\n",
        "{\n",
        "\t?book rdf:type ontobooks:Books.\n",
        "\t?book ontobooks:hasTitle ?bookTitle.\n",
        "\t?book ontobooks:hasNoOfPages ?bookPages.\n",
        "\t?book ontobooks:hasGenre ?genre .\n",
        "  ?genre rdfs:label ?genreName.\n",
        "  FILTER(?bookPages <= 200 && regex(?genreName, \"Fiction\")) \n",
        "}\n",
        "ORDER BY (?bookTitle)\n",
        "\n",
        "\"\"\")\n",
        "\n",
        "for row in res:\n",
        "    print(str(row))"
      ],
      "metadata": {
        "colab": {
          "base_uri": "https://localhost:8080/"
        },
        "id": "sZM7gPUhSOPu",
        "outputId": "fe22931d-19ab-4658-f638-33e00828dc48"
      },
      "execution_count": 51,
      "outputs": [
        {
          "output_type": "stream",
          "name": "stdout",
          "text": [
            "(rdflib.term.Literal('A Corner of the Universe', datatype=rdflib.term.URIRef('http://www.w3.org/2001/XMLSchema#string')), rdflib.term.Literal('191', datatype=rdflib.term.URIRef('http://www.w3.org/2001/XMLSchema#integer')))\n",
            "(rdflib.term.Literal('A Horse Walks into a Bar', datatype=rdflib.term.URIRef('http://www.w3.org/2001/XMLSchema#string')), rdflib.term.Literal('194', datatype=rdflib.term.URIRef('http://www.w3.org/2001/XMLSchema#integer')))\n",
            "(rdflib.term.Literal('A Season in Sinji', datatype=rdflib.term.URIRef('http://www.w3.org/2001/XMLSchema#string')), rdflib.term.Literal('192', datatype=rdflib.term.URIRef('http://www.w3.org/2001/XMLSchema#integer')))\n",
            "(rdflib.term.Literal('Chewing Gum (novel)', datatype=rdflib.term.URIRef('http://www.w3.org/2001/XMLSchema#string')), rdflib.term.Literal('125', datatype=rdflib.term.URIRef('http://www.w3.org/2001/XMLSchema#integer')))\n",
            "(rdflib.term.Literal('Closed for the Season (novel)', datatype=rdflib.term.URIRef('http://www.w3.org/2001/XMLSchema#string')), rdflib.term.Literal('192', datatype=rdflib.term.URIRef('http://www.w3.org/2001/XMLSchema#integer')))\n",
            "(rdflib.term.Literal('Hit and Run (novel)', datatype=rdflib.term.URIRef('http://www.w3.org/2001/XMLSchema#string')), rdflib.term.Literal('176', datatype=rdflib.term.URIRef('http://www.w3.org/2001/XMLSchema#integer')))\n",
            "(rdflib.term.Literal('Julian: A Christmas Story', datatype=rdflib.term.URIRef('http://www.w3.org/2001/XMLSchema#string')), rdflib.term.Literal('86', datatype=rdflib.term.URIRef('http://www.w3.org/2001/XMLSchema#integer')))\n",
            "(rdflib.term.Literal('Mere Anarchy', datatype=rdflib.term.URIRef('http://www.w3.org/2001/XMLSchema#string')), rdflib.term.Literal('176', datatype=rdflib.term.URIRef('http://www.w3.org/2001/XMLSchema#integer')))\n",
            "(rdflib.term.Literal('More Sideways Arithmetic from Wayside School', datatype=rdflib.term.URIRef('http://www.w3.org/2001/XMLSchema#string')), rdflib.term.Literal('94', datatype=rdflib.term.URIRef('http://www.w3.org/2001/XMLSchema#integer')))\n",
            "(rdflib.term.Literal('Motown and Didi', datatype=rdflib.term.URIRef('http://www.w3.org/2001/XMLSchema#string')), rdflib.term.Literal('176', datatype=rdflib.term.URIRef('http://www.w3.org/2001/XMLSchema#integer')))\n",
            "(rdflib.term.Literal('On Chesil Beach', datatype=rdflib.term.URIRef('http://www.w3.org/2001/XMLSchema#string')), rdflib.term.Literal('166', datatype=rdflib.term.URIRef('http://www.w3.org/2001/XMLSchema#integer')))\n",
            "(rdflib.term.Literal('Shopgirl (novella)', datatype=rdflib.term.URIRef('http://www.w3.org/2001/XMLSchema#string')), rdflib.term.Literal('130', datatype=rdflib.term.URIRef('http://www.w3.org/2001/XMLSchema#integer')))\n",
            "(rdflib.term.Literal('Skellig', datatype=rdflib.term.URIRef('http://www.w3.org/2001/XMLSchema#string')), rdflib.term.Literal('176', datatype=rdflib.term.URIRef('http://www.w3.org/2001/XMLSchema#integer')))\n",
            "(rdflib.term.Literal('The Battle of Pollocks Crossing', datatype=rdflib.term.URIRef('http://www.w3.org/2001/XMLSchema#string')), rdflib.term.Literal('176', datatype=rdflib.term.URIRef('http://www.w3.org/2001/XMLSchema#integer')))\n",
            "(rdflib.term.Literal('The Harpole Report', datatype=rdflib.term.URIRef('http://www.w3.org/2001/XMLSchema#string')), rdflib.term.Literal('164', datatype=rdflib.term.URIRef('http://www.w3.org/2001/XMLSchema#integer')))\n",
            "(rdflib.term.Literal('The Small Hand', datatype=rdflib.term.URIRef('http://www.w3.org/2001/XMLSchema#string')), rdflib.term.Literal('176', datatype=rdflib.term.URIRef('http://www.w3.org/2001/XMLSchema#integer')))\n",
            "(rdflib.term.Literal('The Tiger Rising', datatype=rdflib.term.URIRef('http://www.w3.org/2001/XMLSchema#string')), rdflib.term.Literal('116', datatype=rdflib.term.URIRef('http://www.w3.org/2001/XMLSchema#integer')))\n",
            "(rdflib.term.Literal('What Hetty Did', datatype=rdflib.term.URIRef('http://www.w3.org/2001/XMLSchema#string')), rdflib.term.Literal('183', datatype=rdflib.term.URIRef('http://www.w3.org/2001/XMLSchema#integer')))\n",
            "(rdflib.term.Literal('Who Will Run the Frog Hospital?', datatype=rdflib.term.URIRef('http://www.w3.org/2001/XMLSchema#string')), rdflib.term.Literal('160', datatype=rdflib.term.URIRef('http://www.w3.org/2001/XMLSchema#integer')))\n"
          ]
        }
      ]
    },
    {
      "cell_type": "code",
      "source": [
        "res = graph.query(prefixes + \"\"\"\n",
        "\n",
        "\n",
        "select distinct \n",
        "\t?bookTitle ?bookPages ?publishYear\n",
        "{\n",
        "\t?book rdf:type ontobooks:Books.\n",
        "\t?book ontobooks:hasTitle ?bookTitle.\n",
        "\t?book ontobooks:hasNoOfPages ?bookPages.\n",
        "\t?book ontobooks:hasPublishedYear ?publishYear .\n",
        "  FILTER(?bookPages >= 500 && ?publishYear > 2010) \n",
        "}\n",
        "ORDER BY (?publishYear)\n",
        "LIMIT 10\n",
        "\"\"\")\n",
        "\n",
        "for row in res:\n",
        "    print(str(row))"
      ],
      "metadata": {
        "colab": {
          "base_uri": "https://localhost:8080/"
        },
        "id": "wrwIlFUyapO2",
        "outputId": "37df1b1a-0198-4628-ff51-1e597ef99f9a"
      },
      "execution_count": 61,
      "outputs": [
        {
          "output_type": "stream",
          "name": "stdout",
          "text": [
            "(rdflib.term.Literal('Matters of Discretion', datatype=rdflib.term.URIRef('http://www.w3.org/2001/XMLSchema#string')), rdflib.term.Literal('519', datatype=rdflib.term.URIRef('http://www.w3.org/2001/XMLSchema#integer')), rdflib.term.Literal('2011', datatype=rdflib.term.URIRef('http://www.w3.org/2001/XMLSchema#integer')))\n",
            "(rdflib.term.Literal('My Opposition', datatype=rdflib.term.URIRef('http://www.w3.org/2001/XMLSchema#string')), rdflib.term.Literal('520', datatype=rdflib.term.URIRef('http://www.w3.org/2001/XMLSchema#integer')), rdflib.term.Literal('2011', datatype=rdflib.term.URIRef('http://www.w3.org/2001/XMLSchema#integer')))\n",
            "(rdflib.term.Literal('Out of Oz', datatype=rdflib.term.URIRef('http://www.w3.org/2001/XMLSchema#string')), rdflib.term.Literal('592', datatype=rdflib.term.URIRef('http://www.w3.org/2001/XMLSchema#integer')), rdflib.term.Literal('2011', datatype=rdflib.term.URIRef('http://www.w3.org/2001/XMLSchema#integer')))\n",
            "(rdflib.term.Literal('The Essential Tagore', datatype=rdflib.term.URIRef('http://www.w3.org/2001/XMLSchema#string')), rdflib.term.Literal('819', datatype=rdflib.term.URIRef('http://www.w3.org/2001/XMLSchema#integer')), rdflib.term.Literal('2011', datatype=rdflib.term.URIRef('http://www.w3.org/2001/XMLSchema#integer')))\n",
            "(rdflib.term.Literal('The Omen Machine', datatype=rdflib.term.URIRef('http://www.w3.org/2001/XMLSchema#string')), rdflib.term.Literal('525', datatype=rdflib.term.URIRef('http://www.w3.org/2001/XMLSchema#integer')), rdflib.term.Literal('2011', datatype=rdflib.term.URIRef('http://www.w3.org/2001/XMLSchema#integer')))\n",
            "(rdflib.term.Literal('11/22/63', datatype=rdflib.term.URIRef('http://www.w3.org/2001/XMLSchema#string')), rdflib.term.Literal('849', datatype=rdflib.term.URIRef('http://www.w3.org/2001/XMLSchema#integer')), rdflib.term.Literal('2011', datatype=rdflib.term.URIRef('http://www.w3.org/2001/XMLSchema#integer')))\n",
            "(rdflib.term.Literal('Fizz (novel)', datatype=rdflib.term.URIRef('http://www.w3.org/2001/XMLSchema#string')), rdflib.term.Literal('526', datatype=rdflib.term.URIRef('http://www.w3.org/2001/XMLSchema#integer')), rdflib.term.Literal('2011', datatype=rdflib.term.URIRef('http://www.w3.org/2001/XMLSchema#integer')))\n",
            "(rdflib.term.Literal('Steve Jobs (book)', datatype=rdflib.term.URIRef('http://www.w3.org/2001/XMLSchema#string')), rdflib.term.Literal('656', datatype=rdflib.term.URIRef('http://www.w3.org/2001/XMLSchema#integer')), rdflib.term.Literal('2011', datatype=rdflib.term.URIRef('http://www.w3.org/2001/XMLSchema#integer')))\n",
            "(rdflib.term.Literal('Fire World', datatype=rdflib.term.URIRef('http://www.w3.org/2001/XMLSchema#string')), rdflib.term.Literal('562', datatype=rdflib.term.URIRef('http://www.w3.org/2001/XMLSchema#integer')), rdflib.term.Literal('2011', datatype=rdflib.term.URIRef('http://www.w3.org/2001/XMLSchema#integer')))\n",
            "(rdflib.term.Literal('Scarecrow and the Army of Thieves', datatype=rdflib.term.URIRef('http://www.w3.org/2001/XMLSchema#string')), rdflib.term.Literal('576', datatype=rdflib.term.URIRef('http://www.w3.org/2001/XMLSchema#integer')), rdflib.term.Literal('2011', datatype=rdflib.term.URIRef('http://www.w3.org/2001/XMLSchema#integer')))\n"
          ]
        }
      ]
    },
    {
      "cell_type": "code",
      "source": [
        "pip install pylode"
      ],
      "metadata": {
        "colab": {
          "base_uri": "https://localhost:8080/"
        },
        "id": "xUTk6YsTg9x_",
        "outputId": "ceffb0cf-ffaa-41d8-bef2-90c53270f1fb"
      },
      "execution_count": 71,
      "outputs": [
        {
          "output_type": "stream",
          "name": "stdout",
          "text": [
            "Requirement already satisfied: pylode in /usr/local/lib/python3.7/dist-packages (3.0.1)\n",
            "Requirement already satisfied: rdflib in /usr/local/lib/python3.7/dist-packages (from pylode) (6.1.1)\n",
            "Requirement already satisfied: markdown in /usr/local/lib/python3.7/dist-packages (from pylode) (3.3.7)\n",
            "Requirement already satisfied: dominate in /usr/local/lib/python3.7/dist-packages (from pylode) (2.6.0)\n",
            "Requirement already satisfied: importlib-metadata>=4.4 in /usr/local/lib/python3.7/dist-packages (from markdown->pylode) (4.11.3)\n",
            "Requirement already satisfied: typing-extensions>=3.6.4 in /usr/local/lib/python3.7/dist-packages (from importlib-metadata>=4.4->markdown->pylode) (4.2.0)\n",
            "Requirement already satisfied: zipp>=0.5 in /usr/local/lib/python3.7/dist-packages (from importlib-metadata>=4.4->markdown->pylode) (3.8.0)\n",
            "Requirement already satisfied: setuptools in /usr/local/lib/python3.7/dist-packages (from rdflib->pylode) (57.4.0)\n",
            "Requirement already satisfied: isodate in /usr/local/lib/python3.7/dist-packages (from rdflib->pylode) (0.6.1)\n",
            "Requirement already satisfied: pyparsing in /usr/local/lib/python3.7/dist-packages (from rdflib->pylode) (3.0.9)\n",
            "Requirement already satisfied: six in /usr/local/lib/python3.7/dist-packages (from isodate->rdflib->pylode) (1.15.0)\n"
          ]
        }
      ]
    },
    {
      "cell_type": "code",
      "source": [
        "import pylode"
      ],
      "metadata": {
        "id": "QQZ3ph6Vid9h"
      },
      "execution_count": 72,
      "outputs": []
    },
    {
      "cell_type": "code",
      "source": [
        "html = pylode.MakeDocco(\n",
        "    input_data_file=\"books.owl\",\n",
        "    outputformat=\"html\",\n",
        "    profile=\"ontdoc\"\n",
        ").document()"
      ],
      "metadata": {
        "id": "KoWuJm57iUb-"
      },
      "execution_count": null,
      "outputs": []
    },
    {
      "cell_type": "code",
      "source": [
        "f = open(\"books.html\", \"a\")\n",
        "f.write(html)\n",
        "f.close()"
      ],
      "metadata": {
        "id": "V-6D5NJDomMV"
      },
      "execution_count": null,
      "outputs": []
    }
  ]
}