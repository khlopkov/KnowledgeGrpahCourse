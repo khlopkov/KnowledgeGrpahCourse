{
 "nbformat": 4,
 "nbformat_minor": 0,
 "metadata": {
  "colab": {
   "name": "f1_graph_embeddings.ipynb",
   "provenance": [],
   "collapsed_sections": [],
   "mount_file_id": "1suBYElPMYVKxJZXx6vvJmn6DtsyGIYPJ",
   "authorship_tag": "ABX9TyODZDmoypMG4c1388obX9ua"
  },
  "kernelspec": {
   "name": "python3",
   "display_name": "Python 3"
  },
  "language_info": {
   "name": "python"
  },
  "accelerator": "GPU",
  "gpuClass": "standard"
 },
 "cells": [
  {
   "cell_type": "markdown",
   "source": [
    "# Creating embeddings model"
   ],
   "metadata": {
    "collapsed": false,
    "pycharm": {
     "name": "#%% md\n"
    }
   }
  },
  {
   "cell_type": "markdown",
   "source": [
    "Preparing an environment, importing required libs"
   ],
   "metadata": {
    "collapsed": false,
    "pycharm": {
     "name": "#%% md\n"
    }
   }
  },
  {
   "cell_type": "code",
   "execution_count": 1,
   "metadata": {
    "colab": {
     "base_uri": "https://localhost:8080/",
     "height": 1000
    },
    "id": "NpiqNs_6BHJD",
    "executionInfo": {
     "status": "ok",
     "timestamp": 1655820584513,
     "user_tz": -180,
     "elapsed": 62521,
     "user": {
      "displayName": "Никита Рогаленко",
      "userId": "07335219348058713837"
     }
    },
    "outputId": "e77c8871-5dd7-4059-b211-55129b26c4bc",
    "pycharm": {
     "name": "#%%\n"
    }
   },
   "outputs": [
    {
     "name": "stdout",
     "output_type": "stream",
     "text": [
      "Requirement already satisfied: tensorflow-gpu<2.0,>=1.15.2 in ./venv/lib/python3.7/site-packages (1.15.5)\r\n",
      "Requirement already satisfied: ampligraph in ./venv/lib/python3.7/site-packages (1.4.0)\r\n",
      "Requirement already satisfied: wrapt>=1.11.1 in ./venv/lib/python3.7/site-packages (from tensorflow-gpu<2.0,>=1.15.2) (1.14.1)\r\n",
      "Requirement already satisfied: absl-py>=0.7.0 in ./venv/lib/python3.7/site-packages (from tensorflow-gpu<2.0,>=1.15.2) (1.1.0)\r\n",
      "Collecting numpy<1.19.0,>=1.16.0\r\n",
      "  Using cached numpy-1.18.5-cp37-cp37m-manylinux1_x86_64.whl (20.1 MB)\r\n",
      "Requirement already satisfied: h5py<=2.10.0 in ./venv/lib/python3.7/site-packages (from tensorflow-gpu<2.0,>=1.15.2) (2.10.0)\r\n",
      "Requirement already satisfied: tensorflow-estimator==1.15.1 in ./venv/lib/python3.7/site-packages (from tensorflow-gpu<2.0,>=1.15.2) (1.15.1)\r\n",
      "Requirement already satisfied: six>=1.10.0 in ./venv/lib/python3.7/site-packages (from tensorflow-gpu<2.0,>=1.15.2) (1.16.0)\r\n",
      "Requirement already satisfied: astor>=0.6.0 in ./venv/lib/python3.7/site-packages (from tensorflow-gpu<2.0,>=1.15.2) (0.8.1)\r\n",
      "Requirement already satisfied: google-pasta>=0.1.6 in ./venv/lib/python3.7/site-packages (from tensorflow-gpu<2.0,>=1.15.2) (0.2.0)\r\n",
      "Requirement already satisfied: opt-einsum>=2.3.2 in ./venv/lib/python3.7/site-packages (from tensorflow-gpu<2.0,>=1.15.2) (3.3.0)\r\n",
      "Requirement already satisfied: protobuf>=3.6.1 in ./venv/lib/python3.7/site-packages (from tensorflow-gpu<2.0,>=1.15.2) (4.21.1)\r\n",
      "Requirement already satisfied: gast==0.2.2 in ./venv/lib/python3.7/site-packages (from tensorflow-gpu<2.0,>=1.15.2) (0.2.2)\r\n",
      "Requirement already satisfied: keras-preprocessing>=1.0.5 in ./venv/lib/python3.7/site-packages (from tensorflow-gpu<2.0,>=1.15.2) (1.1.2)\r\n",
      "Requirement already satisfied: tensorboard<1.16.0,>=1.15.0 in ./venv/lib/python3.7/site-packages (from tensorflow-gpu<2.0,>=1.15.2) (1.15.0)\r\n",
      "Requirement already satisfied: termcolor>=1.1.0 in ./venv/lib/python3.7/site-packages (from tensorflow-gpu<2.0,>=1.15.2) (1.1.0)\r\n",
      "Requirement already satisfied: wheel>=0.26 in ./venv/lib/python3.7/site-packages (from tensorflow-gpu<2.0,>=1.15.2) (0.37.1)\r\n",
      "Requirement already satisfied: grpcio>=1.8.6 in ./venv/lib/python3.7/site-packages (from tensorflow-gpu<2.0,>=1.15.2) (1.46.3)\r\n",
      "Requirement already satisfied: keras-applications>=1.0.8 in ./venv/lib/python3.7/site-packages (from tensorflow-gpu<2.0,>=1.15.2) (1.0.8)\r\n",
      "Requirement already satisfied: sphinx-rtd-theme==0.4.3 in ./venv/lib/python3.7/site-packages (from ampligraph) (0.4.3)\r\n",
      "Requirement already satisfied: flake8>=3.7.7 in ./venv/lib/python3.7/site-packages (from ampligraph) (4.0.1)\r\n",
      "Requirement already satisfied: pytest>=3.5.1 in ./venv/lib/python3.7/site-packages (from ampligraph) (7.1.2)\r\n",
      "Requirement already satisfied: sphinxcontrib-bibtex==0.4.2 in ./venv/lib/python3.7/site-packages (from ampligraph) (0.4.2)\r\n",
      "Requirement already satisfied: setuptools>=36 in ./venv/lib/python3.7/site-packages (from ampligraph) (60.2.0)\r\n",
      "Requirement already satisfied: scipy>=1.3.0 in ./venv/lib/python3.7/site-packages (from ampligraph) (1.7.3)\r\n",
      "Requirement already satisfied: tqdm>=4.23.4 in ./venv/lib/python3.7/site-packages (from ampligraph) (4.64.0)\r\n",
      "Requirement already satisfied: pandas>=0.23.1 in ./venv/lib/python3.7/site-packages (from ampligraph) (1.3.5)\r\n",
      "Requirement already satisfied: pyyaml>=3.13 in ./venv/lib/python3.7/site-packages (from ampligraph) (6.0)\r\n",
      "Requirement already satisfied: rdflib>=4.2.2 in ./venv/lib/python3.7/site-packages (from ampligraph) (6.1.1)\r\n",
      "Requirement already satisfied: networkx>=2.3 in ./venv/lib/python3.7/site-packages (from ampligraph) (2.6.3)\r\n",
      "Requirement already satisfied: beautifultable>=0.7.0 in ./venv/lib/python3.7/site-packages (from ampligraph) (1.1.0)\r\n",
      "Requirement already satisfied: sphinx<3,>=2.2 in ./venv/lib/python3.7/site-packages (from ampligraph) (2.4.5)\r\n",
      "Requirement already satisfied: recommonmark==0.4.0 in ./venv/lib/python3.7/site-packages (from ampligraph) (0.4.0)\r\n",
      "Requirement already satisfied: scikit-learn>=0.19.1 in ./venv/lib/python3.7/site-packages (from ampligraph) (1.0.2)\r\n",
      "Requirement already satisfied: docutils>=0.11 in ./venv/lib/python3.7/site-packages (from recommonmark==0.4.0->ampligraph) (0.17.1)\r\n",
      "Requirement already satisfied: commonmark<=0.5.4 in ./venv/lib/python3.7/site-packages (from recommonmark==0.4.0->ampligraph) (0.5.4)\r\n",
      "Requirement already satisfied: pybtex>=0.20 in ./venv/lib/python3.7/site-packages (from sphinxcontrib-bibtex==0.4.2->ampligraph) (0.24.0)\r\n",
      "Requirement already satisfied: oset>=0.1.3 in ./venv/lib/python3.7/site-packages (from sphinxcontrib-bibtex==0.4.2->ampligraph) (0.1.3)\r\n",
      "Requirement already satisfied: pybtex-docutils>=0.2.0 in ./venv/lib/python3.7/site-packages (from sphinxcontrib-bibtex==0.4.2->ampligraph) (1.0.2)\r\n",
      "Requirement already satisfied: wcwidth in ./venv/lib/python3.7/site-packages (from beautifultable>=0.7.0->ampligraph) (0.2.5)\r\n",
      "Requirement already satisfied: mccabe<0.7.0,>=0.6.0 in ./venv/lib/python3.7/site-packages (from flake8>=3.7.7->ampligraph) (0.6.1)\r\n",
      "Requirement already satisfied: importlib-metadata<4.3 in ./venv/lib/python3.7/site-packages (from flake8>=3.7.7->ampligraph) (4.2.0)\r\n",
      "Requirement already satisfied: pycodestyle<2.9.0,>=2.8.0 in ./venv/lib/python3.7/site-packages (from flake8>=3.7.7->ampligraph) (2.8.0)\r\n",
      "Requirement already satisfied: pyflakes<2.5.0,>=2.4.0 in ./venv/lib/python3.7/site-packages (from flake8>=3.7.7->ampligraph) (2.4.0)\r\n",
      "Requirement already satisfied: python-dateutil>=2.7.3 in ./venv/lib/python3.7/site-packages (from pandas>=0.23.1->ampligraph) (2.8.2)\r\n",
      "Requirement already satisfied: pytz>=2017.3 in ./venv/lib/python3.7/site-packages (from pandas>=0.23.1->ampligraph) (2022.1)\r\n",
      "Requirement already satisfied: py>=1.8.2 in ./venv/lib/python3.7/site-packages (from pytest>=3.5.1->ampligraph) (1.11.0)\r\n",
      "Requirement already satisfied: iniconfig in ./venv/lib/python3.7/site-packages (from pytest>=3.5.1->ampligraph) (1.1.1)\r\n",
      "Requirement already satisfied: pluggy<2.0,>=0.12 in ./venv/lib/python3.7/site-packages (from pytest>=3.5.1->ampligraph) (1.0.0)\r\n",
      "Requirement already satisfied: attrs>=19.2.0 in ./venv/lib/python3.7/site-packages (from pytest>=3.5.1->ampligraph) (21.4.0)\r\n",
      "Requirement already satisfied: tomli>=1.0.0 in ./venv/lib/python3.7/site-packages (from pytest>=3.5.1->ampligraph) (2.0.1)\r\n",
      "Requirement already satisfied: packaging in ./venv/lib/python3.7/site-packages (from pytest>=3.5.1->ampligraph) (21.3)\r\n",
      "Requirement already satisfied: pyparsing in ./venv/lib/python3.7/site-packages (from rdflib>=4.2.2->ampligraph) (3.0.9)\r\n",
      "Requirement already satisfied: isodate in ./venv/lib/python3.7/site-packages (from rdflib>=4.2.2->ampligraph) (0.6.1)\r\n",
      "Requirement already satisfied: joblib>=0.11 in ./venv/lib/python3.7/site-packages (from scikit-learn>=0.19.1->ampligraph) (1.1.0)\r\n",
      "Requirement already satisfied: threadpoolctl>=2.0.0 in ./venv/lib/python3.7/site-packages (from scikit-learn>=0.19.1->ampligraph) (3.1.0)\r\n",
      "Requirement already satisfied: sphinxcontrib-jsmath in ./venv/lib/python3.7/site-packages (from sphinx<3,>=2.2->ampligraph) (1.0.1)\r\n",
      "Requirement already satisfied: sphinxcontrib-qthelp in ./venv/lib/python3.7/site-packages (from sphinx<3,>=2.2->ampligraph) (1.0.3)\r\n",
      "Requirement already satisfied: requests>=2.5.0 in ./venv/lib/python3.7/site-packages (from sphinx<3,>=2.2->ampligraph) (2.28.0)\r\n",
      "Requirement already satisfied: Pygments>=2.0 in ./venv/lib/python3.7/site-packages (from sphinx<3,>=2.2->ampligraph) (2.12.0)\r\n",
      "Requirement already satisfied: snowballstemmer>=1.1 in ./venv/lib/python3.7/site-packages (from sphinx<3,>=2.2->ampligraph) (2.2.0)\r\n",
      "Requirement already satisfied: alabaster<0.8,>=0.7 in ./venv/lib/python3.7/site-packages (from sphinx<3,>=2.2->ampligraph) (0.7.12)\r\n",
      "Requirement already satisfied: imagesize in ./venv/lib/python3.7/site-packages (from sphinx<3,>=2.2->ampligraph) (1.3.0)\r\n",
      "Requirement already satisfied: babel!=2.0,>=1.3 in ./venv/lib/python3.7/site-packages (from sphinx<3,>=2.2->ampligraph) (2.10.3)\r\n",
      "Requirement already satisfied: sphinxcontrib-htmlhelp in ./venv/lib/python3.7/site-packages (from sphinx<3,>=2.2->ampligraph) (2.0.0)\r\n",
      "Requirement already satisfied: sphinxcontrib-applehelp in ./venv/lib/python3.7/site-packages (from sphinx<3,>=2.2->ampligraph) (1.0.2)\r\n",
      "Requirement already satisfied: sphinxcontrib-serializinghtml in ./venv/lib/python3.7/site-packages (from sphinx<3,>=2.2->ampligraph) (1.1.5)\r\n",
      "Requirement already satisfied: Jinja2>=2.3 in ./venv/lib/python3.7/site-packages (from sphinx<3,>=2.2->ampligraph) (3.1.2)\r\n",
      "Requirement already satisfied: sphinxcontrib-devhelp in ./venv/lib/python3.7/site-packages (from sphinx<3,>=2.2->ampligraph) (1.0.2)\r\n",
      "Requirement already satisfied: markdown>=2.6.8 in ./venv/lib/python3.7/site-packages (from tensorboard<1.16.0,>=1.15.0->tensorflow-gpu<2.0,>=1.15.2) (3.3.4)\r\n",
      "Requirement already satisfied: werkzeug>=0.11.15 in ./venv/lib/python3.7/site-packages (from tensorboard<1.16.0,>=1.15.0->tensorflow-gpu<2.0,>=1.15.2) (2.1.2)\r\n",
      "Requirement already satisfied: typing-extensions>=3.6.4 in ./venv/lib/python3.7/site-packages (from importlib-metadata<4.3->flake8>=3.7.7->ampligraph) (4.2.0)\r\n",
      "Requirement already satisfied: zipp>=0.5 in ./venv/lib/python3.7/site-packages (from importlib-metadata<4.3->flake8>=3.7.7->ampligraph) (3.8.0)\r\n",
      "Requirement already satisfied: MarkupSafe>=2.0 in ./venv/lib/python3.7/site-packages (from Jinja2>=2.3->sphinx<3,>=2.2->ampligraph) (2.1.1)\r\n",
      "Requirement already satisfied: latexcodec>=1.0.4 in ./venv/lib/python3.7/site-packages (from pybtex>=0.20->sphinxcontrib-bibtex==0.4.2->ampligraph) (2.0.1)\r\n",
      "Requirement already satisfied: charset-normalizer~=2.0.0 in ./venv/lib/python3.7/site-packages (from requests>=2.5.0->sphinx<3,>=2.2->ampligraph) (2.0.12)\r\n",
      "Requirement already satisfied: urllib3<1.27,>=1.21.1 in ./venv/lib/python3.7/site-packages (from requests>=2.5.0->sphinx<3,>=2.2->ampligraph) (1.26.9)\r\n",
      "Requirement already satisfied: idna<4,>=2.5 in ./venv/lib/python3.7/site-packages (from requests>=2.5.0->sphinx<3,>=2.2->ampligraph) (3.3)\r\n",
      "Requirement already satisfied: certifi>=2017.4.17 in ./venv/lib/python3.7/site-packages (from requests>=2.5.0->sphinx<3,>=2.2->ampligraph) (2022.6.15)\r\n",
      "\u001B[33mWARNING: Error parsing requirements for numpy: [Errno 2] No such file or directory: '/home/dell/f1-knowledge-base/F1-knowledge-base/graph-embeddings/venv/lib/python3.7/site-packages/numpy-1.21.6.dist-info/METADATA'\u001B[0m\r\n",
      "Installing collected packages: numpy\r\n",
      "  Attempting uninstall: numpy\r\n",
      "    Found existing installation: numpy 1.21.6\r\n",
      "\u001B[31mERROR: Cannot uninstall numpy 1.21.6, RECORD file not found. You might be able to recover from this via: 'pip install --force-reinstall --no-deps numpy==1.21.6'.\u001B[0m\r\n",
      "\u001B[33mWARNING: You are using pip version 21.3.1; however, version 22.1.2 is available.\r\n",
      "You should consider upgrading via the '/home/dell/f1-knowledge-base/F1-knowledge-base/graph-embeddings/venv/bin/python -m pip install --upgrade pip' command.\u001B[0m\r\n"
     ]
    }
   ],
   "source": [
    "!pip install \"tensorflow-gpu>=1.15.2,<2.0\" ampligraph"
   ]
  },
  {
   "cell_type": "code",
   "source": [
    "import tensorflow as tf\n",
    "import numpy as np\n",
    "import pandas as pd\n",
    "import ampligraph\n",
    "\n",
    "print(tf.version.VERSION)\n",
    "ampligraph.__version__"
   ],
   "metadata": {
    "colab": {
     "base_uri": "https://localhost:8080/",
     "height": 35
    },
    "id": "POQPYcW9C4ae",
    "executionInfo": {
     "status": "ok",
     "timestamp": 1655820593945,
     "user_tz": -180,
     "elapsed": 2912,
     "user": {
      "displayName": "Никита Рогаленко",
      "userId": "07335219348058713837"
     }
    },
    "outputId": "8ef146e6-a367-4ccb-8c64-7dd8fac90c09",
    "pycharm": {
     "name": "#%%\n"
    }
   },
   "execution_count": 1,
   "outputs": [
    {
     "name": "stderr",
     "output_type": "stream",
     "text": [
      "/home/dell/anaconda3/lib/python3.6/site-packages/h5py/__init__.py:34: FutureWarning: Conversion of the second argument of issubdtype from `float` to `np.floating` is deprecated. In future, it will be treated as `np.float64 == np.dtype(float).type`.\n",
      "  from ._conv import register_converters as _register_converters\n"
     ]
    },
    {
     "name": "stdout",
     "output_type": "stream",
     "text": [
      "1.15.5\n"
     ]
    },
    {
     "data": {
      "text/plain": "'1.4.0'"
     },
     "execution_count": 1,
     "metadata": {},
     "output_type": "execute_result"
    }
   ]
  },
  {
   "cell_type": "markdown",
   "source": [
    "At first, we have to create pandas dataframe from triples extracted from ontology populated with individuals\n"
   ],
   "metadata": {
    "id": "KmY9rCUKEBYt",
    "pycharm": {
     "name": "#%% md\n"
    }
   }
  },
  {
   "cell_type": "code",
   "source": [
    "from rdflib import Graph, URIRef\n",
    "\n",
    "\n",
    "ONTOLOGY_IRI = \"https://github.com/RogoGit/F1-knowledge-base/f1-ontology\"\n",
    "ONTOLOGY_PREFIX = \"f1\"\n",
    "POPULATED_ONTOLOGY_PATH  = '../ontology-with-individuals.owl'\n",
    "\n",
    "\n",
    "f1_graph = Graph().parse(POPULATED_ONTOLOGY_PATH, format=\"turtle\")\n",
    "triples_list = []\n",
    "\n",
    "for subject, predicate, triple_object in f1_graph.triples((None, None, None)):\n",
    "    if predicate.startswith(URIRef(ONTOLOGY_IRI)):\n",
    "        triples_list.append([ent.replace(ONTOLOGY_IRI + \"#\", ONTOLOGY_PREFIX + \":\") for ent in [subject, predicate, triple_object]])\n",
    "\n",
    "f1_df = pd.DataFrame(triples_list, columns = ['Subject', 'Predicate', 'Object'])\n",
    "print(f1_df)\n"
   ],
   "metadata": {
    "colab": {
     "base_uri": "https://localhost:8080/"
    },
    "id": "3TBWScGIEOT3",
    "executionInfo": {
     "status": "ok",
     "timestamp": 1655820632111,
     "user_tz": -180,
     "elapsed": 32147,
     "user": {
      "displayName": "Никита Рогаленко",
      "userId": "07335219348058713837"
     }
    },
    "outputId": "dde48c24-040b-4d0a-8f83-9e2c8bffc154",
    "pycharm": {
     "name": "#%%\n"
    }
   },
   "execution_count": 2,
   "outputs": [
    {
     "name": "stdout",
     "output_type": "stream",
     "text": [
      "                                                  Subject  \\\n",
      "0       f1:race_result_2009_brazilian_grand_prix_heidfeld   \n",
      "1                              f1:driver_michele_alboreto   \n",
      "2                                          f1:season_1995   \n",
      "3           f1:race_result_1981_german_grand_prix_salazar   \n",
      "4                    f1:constructor_standing_1981_toleman   \n",
      "...                                                   ...   \n",
      "362467    f1:race_result_1960_portuguese_grand_prix_clark   \n",
      "362468  f1:race_result_1975_brazilian_grand_prix_mario...   \n",
      "362469  f1:race_result_1953_german_grand_prix_graffenried   \n",
      "362470  f1:race_result_1963_south_african_grand_prix_g...   \n",
      "362471      f1:race_result_2012_canadian_grand_prix_resta   \n",
      "\n",
      "                            Predicate  \\\n",
      "0       f1:grandPrixResultIsRelatedTo   \n",
      "1         f1:hasDriverGrandPrixResult   \n",
      "2                        f1:hasResult   \n",
      "3                           f1:points   \n",
      "4                    f1:totalPosition   \n",
      "...                               ...   \n",
      "362467               f1:lapsCompleted   \n",
      "362468  f1:grandPrixResultIsRelatedTo   \n",
      "362469               f1:lapsCompleted   \n",
      "362470                f1:driverNumber   \n",
      "362471              f1:driverPosition   \n",
      "\n",
      "                                                 Object  \n",
      "0                               f1:driver_nick_heidfeld  \n",
      "1       f1:race_result_1987_mexican_grand_prix_alboreto  \n",
      "2                 f1:constructor_standing_1995_williams  \n",
      "3                                                   0.0  \n",
      "4                                                    17  \n",
      "...                                                 ...  \n",
      "362467                                               55  \n",
      "362468                         f1:driver_mario_andretti  \n",
      "362469                                               17  \n",
      "362470                                                9  \n",
      "362471                                               11  \n",
      "\n",
      "[362472 rows x 3 columns]\n"
     ]
    }
   ]
  },
  {
   "cell_type": "markdown",
   "source": [
    "Next step is to create train and test samples for graph embedding training"
   ],
   "metadata": {
    "id": "rPstkqZRWtDk",
    "pycharm": {
     "name": "#%% md\n"
    }
   }
  },
  {
   "cell_type": "code",
   "execution_count": 3,
   "outputs": [
    {
     "name": "stdout",
     "output_type": "stream",
     "text": [
      "Train set size:  (326225, 3)\n",
      "Test set size:  (36247, 3)\n"
     ]
    }
   ],
   "source": [
    "from ampligraph.evaluation import train_test_split_no_unseen \n",
    "\n",
    "X_train, X_test = train_test_split_no_unseen(np.array(triples_list), test_size=0.10, seed=0)\n",
    "\n",
    "print('Train set size: ', X_train.shape)\n",
    "print('Test set size: ', X_test.shape)"
   ],
   "metadata": {
    "collapsed": false,
    "pycharm": {
     "name": "#%%\n"
    }
   }
  },
  {
   "cell_type": "markdown",
   "source": [
    "Now it is time to define ComplEx model and train model with train sample"
   ],
   "metadata": {
    "collapsed": false,
    "pycharm": {
     "name": "#%% md\n"
    }
   }
  },
  {
   "cell_type": "code",
   "execution_count": 6,
   "outputs": [
    {
     "name": "stderr",
     "output_type": "stream",
     "text": [
      "Average ComplEx Loss:   0.110975: 100%|██████████| 300/300 [3:23:58<00:00, 40.79s/epoch]  \n"
     ]
    }
   ],
   "source": [
    "import tensorflow.contrib\n",
    "from ampligraph.latent_features import ComplEx, save_model\n",
    "\n",
    "model = ComplEx(batches_count=100,\n",
    "                epochs=300,\n",
    "                k=100,\n",
    "                eta=20,\n",
    "                optimizer='adam',\n",
    "                optimizer_params={'lr':1e-4},\n",
    "                loss='multiclass_nll',\n",
    "                regularizer='LP',\n",
    "                regularizer_params={'p':3, 'lambda':1e-5},\n",
    "                seed=0,\n",
    "                verbose=True)\n",
    "\n",
    "model.fit(X_train)\n",
    "save_model(model, './embedding_model.pkl')"
   ],
   "metadata": {
    "collapsed": false,
    "pycharm": {
     "name": "#%%\n"
    }
   }
  },
  {
   "cell_type": "markdown",
   "source": [
    "In order to use already trained model we can run:"
   ],
   "metadata": {
    "collapsed": false,
    "pycharm": {
     "name": "#%% md\n"
    }
   }
  },
  {
   "cell_type": "code",
   "execution_count": 5,
   "outputs": [],
   "source": [
    "import tensorflow.contrib\n",
    "from ampligraph.latent_features import restore_model\n",
    "\n",
    "model = restore_model('./embedding_model.pkl')"
   ],
   "metadata": {
    "collapsed": false,
    "pycharm": {
     "name": "#%%\n"
    }
   }
  },
  {
   "cell_type": "markdown",
   "source": [
    "Next step is to ensure the model can be trained and evaluated correctly. The first of these is defining the filter that will be used to ensure that no negative statements generated by the corruption procedure are actually positives."
   ],
   "metadata": {
    "collapsed": false,
    "pycharm": {
     "name": "#%% md\n"
    }
   }
  },
  {
   "cell_type": "code",
   "execution_count": null,
   "outputs": [],
   "source": [
    "from ampligraph.evaluation import evaluate_performance\n",
    "\n",
    "filter_triples = np.concatenate((X_train, X_test))\n",
    "ranks = evaluate_performance(X_test,\n",
    "                             model=model,\n",
    "                             filter_triples=filter_triples,\n",
    "                             use_default_protocol=True,\n",
    "                             verbose=True)"
   ],
   "metadata": {
    "collapsed": false,
    "pycharm": {
     "name": "#%%\n"
    }
   }
  },
  {
   "cell_type": "markdown",
   "source": [
    "Now let's use mrr_score (mean reciprocal rank) and hits_at_n_score functions"
   ],
   "metadata": {
    "collapsed": false,
    "pycharm": {
     "name": "#%% md\n"
    }
   }
  },
  {
   "cell_type": "code",
   "execution_count": 7,
   "outputs": [
    {
     "name": "stdout",
     "output_type": "stream",
     "text": [
      "MRR: 0.83\n",
      "MR: 388.64\n",
      "Hits@10: 0.93\n",
      "Hits@3: 0.88\n",
      "Hits@1: 0.76\n"
     ]
    }
   ],
   "source": [
    "from ampligraph.evaluation import mr_score, mrr_score, hits_at_n_score\n",
    "\n",
    "mr = mr_score(ranks)\n",
    "mrr = mrr_score(ranks)\n",
    "\n",
    "print(\"MRR: %.2f\" % mrr)\n",
    "print(\"MR: %.2f\" % mr)\n",
    "\n",
    "hits_10 = hits_at_n_score(ranks, n=10)\n",
    "print(\"Hits@10: %.2f\" % hits_10)\n",
    "hits_3 = hits_at_n_score(ranks, n=3)\n",
    "print(\"Hits@3: %.2f\" % hits_3)\n",
    "hits_1 = hits_at_n_score(ranks, n=1)\n",
    "print(\"Hits@1: %.2f\" % hits_1)"
   ],
   "metadata": {
    "collapsed": false,
    "pycharm": {
     "name": "#%%\n"
    }
   }
  },
  {
   "cell_type": "markdown",
   "source": [
    "Examples of generated embeddings can be seen below:"
   ],
   "metadata": {
    "collapsed": false,
    "pycharm": {
     "name": "#%% md\n"
    }
   }
  },
  {
   "cell_type": "code",
   "execution_count": 6,
   "outputs": [
    {
     "name": "stdout",
     "output_type": "stream",
     "text": [
      "['f1:team_participation_1968_john_surtees_honda']\n",
      "[('f1:team_participation_1968_john_surtees_honda', array([ 0.15058921,  0.2814807 ,  0.18882453,  0.17621101, -0.01801558,\n",
      "       -0.19745371, -0.15330258,  0.19007845, -0.14624396, -0.18978721,\n",
      "        0.01731578,  0.16899933,  0.19650525, -0.16436966, -0.16565551,\n",
      "        0.00911854, -0.01223622,  0.1442946 ,  0.07178091, -0.13925822,\n",
      "       -0.17620327, -0.17334235,  0.15280165, -0.19565189, -0.1704562 ,\n",
      "        0.01307552,  0.15865031, -0.17643066,  0.15020834, -0.10737054,\n",
      "       -0.00249887, -0.20082456, -0.10074502, -0.15203606, -0.17853774,\n",
      "       -0.09260228, -0.12076462, -0.07302562,  0.17158657,  0.00034421,\n",
      "       -0.19432108,  0.14239483,  0.06417444, -0.14825055, -0.12346714,\n",
      "        0.1280998 ,  0.02698476,  0.15995395, -0.13690637,  0.2305665 ,\n",
      "       -0.23822747,  0.12913081, -0.10044429, -0.05091096,  0.2150847 ,\n",
      "       -0.1700849 ,  0.11347755,  0.05339024,  0.01367681, -0.00865733,\n",
      "        0.05937546, -0.1170646 , -0.07530995, -0.15010785, -0.03708335,\n",
      "        0.16549496, -0.17855884, -0.03426253,  0.10851699,  0.05425003,\n",
      "        0.12244487, -0.15571827, -0.01624299,  0.12326472, -0.23439342,\n",
      "       -0.08498389, -0.11396585,  0.15412918,  0.16101296, -0.16810994,\n",
      "       -0.09313691, -0.15200067,  0.19957225, -0.09207788, -0.06387929,\n",
      "       -0.16068542,  0.06938475, -0.15176946, -0.10176845,  0.1834098 ,\n",
      "        0.17485467, -0.14646493,  0.07239559,  0.02146329,  0.1407396 ,\n",
      "        0.12915401,  0.15302633, -0.24159184, -0.17824638,  0.18512799,\n",
      "        0.17201394,  0.11424655, -0.01312427, -0.17180528,  0.08584708,\n",
      "       -0.10238337, -0.02167735, -0.15867457,  0.14552414, -0.02792607,\n",
      "       -0.15839164,  0.14743073, -0.09558995, -0.12361094,  0.18628137,\n",
      "        0.16392405, -0.04014075,  0.16816385,  0.02543117, -0.04903262,\n",
      "       -0.11826843,  0.09864112,  0.22209756,  0.06114629,  0.0139038 ,\n",
      "        0.00965577, -0.06498235, -0.13298643, -0.15752952,  0.08374743,\n",
      "       -0.14738603, -0.04174134,  0.2215502 ,  0.12686099,  0.0062921 ,\n",
      "        0.06033245,  0.13155288, -0.03886628, -0.16578221, -0.01055437,\n",
      "        0.09473327,  0.1248242 ,  0.16820066, -0.15999587, -0.00677373,\n",
      "       -0.26304728,  0.25919977,  0.17644356,  0.02127725,  0.03541031,\n",
      "       -0.06312405,  0.17038442, -0.20223932, -0.05704362,  0.0738796 ,\n",
      "        0.04627137,  0.00847953,  0.17691985, -0.13263129,  0.05438019,\n",
      "       -0.17260309, -0.15895064,  0.16424435, -0.18195477,  0.1437106 ,\n",
      "        0.07216861, -0.14284393, -0.16365595, -0.14138018, -0.16318916,\n",
      "        0.17647868,  0.1638122 ,  0.21199714,  0.20386045, -0.18108226,\n",
      "        0.19454463,  0.17333272, -0.05980541, -0.19440192,  0.16577747,\n",
      "        0.15504912,  0.16927114, -0.09439207,  0.13183144,  0.04854184,\n",
      "        0.17058828, -0.07810619, -0.01307606,  0.19409807, -0.10423522,\n",
      "        0.17077562,  0.11233367, -0.13574891, -0.06370654,  0.15574872,\n",
      "       -0.02027042,  0.1402075 ,  0.13131663,  0.13954449,  0.13152042],\n",
      "      dtype=float32))]\n",
      "[[ 0.15058921  0.2814807   0.18882453  0.17621101 -0.01801558 -0.19745371\n",
      "  -0.15330258  0.19007845 -0.14624396 -0.18978721  0.01731578  0.16899933\n",
      "   0.19650525 -0.16436966 -0.16565551  0.00911854 -0.01223622  0.1442946\n",
      "   0.07178091 -0.13925822 -0.17620327 -0.17334235  0.15280165 -0.19565189\n",
      "  -0.1704562   0.01307552  0.15865031 -0.17643066  0.15020834 -0.10737054\n",
      "  -0.00249887 -0.20082456 -0.10074502 -0.15203606 -0.17853774 -0.09260228\n",
      "  -0.12076462 -0.07302562  0.17158657  0.00034421 -0.19432108  0.14239483\n",
      "   0.06417444 -0.14825055 -0.12346714  0.1280998   0.02698476  0.15995395\n",
      "  -0.13690637  0.2305665  -0.23822747  0.12913081 -0.10044429 -0.05091096\n",
      "   0.2150847  -0.1700849   0.11347755  0.05339024  0.01367681 -0.00865733\n",
      "   0.05937546 -0.1170646  -0.07530995 -0.15010785 -0.03708335  0.16549496\n",
      "  -0.17855884 -0.03426253  0.10851699  0.05425003  0.12244487 -0.15571827\n",
      "  -0.01624299  0.12326472 -0.23439342 -0.08498389 -0.11396585  0.15412918\n",
      "   0.16101296 -0.16810994 -0.09313691 -0.15200067  0.19957225 -0.09207788\n",
      "  -0.06387929 -0.16068542  0.06938475 -0.15176946 -0.10176845  0.1834098\n",
      "   0.17485467 -0.14646493  0.07239559  0.02146329  0.1407396   0.12915401\n",
      "   0.15302633 -0.24159184 -0.17824638  0.18512799  0.17201394  0.11424655\n",
      "  -0.01312427 -0.17180528  0.08584708 -0.10238337 -0.02167735 -0.15867457\n",
      "   0.14552414 -0.02792607 -0.15839164  0.14743073 -0.09558995 -0.12361094\n",
      "   0.18628137  0.16392405 -0.04014075  0.16816385  0.02543117 -0.04903262\n",
      "  -0.11826843  0.09864112  0.22209756  0.06114629  0.0139038   0.00965577\n",
      "  -0.06498235 -0.13298643 -0.15752952  0.08374743 -0.14738603 -0.04174134\n",
      "   0.2215502   0.12686099  0.0062921   0.06033245  0.13155288 -0.03886628\n",
      "  -0.16578221 -0.01055437  0.09473327  0.1248242   0.16820066 -0.15999587\n",
      "  -0.00677373 -0.26304728  0.25919977  0.17644356  0.02127725  0.03541031\n",
      "  -0.06312405  0.17038442 -0.20223932 -0.05704362  0.0738796   0.04627137\n",
      "   0.00847953  0.17691985 -0.13263129  0.05438019 -0.17260309 -0.15895064\n",
      "   0.16424435 -0.18195477  0.1437106   0.07216861 -0.14284393 -0.16365595\n",
      "  -0.14138018 -0.16318916  0.17647868  0.1638122   0.21199714  0.20386045\n",
      "  -0.18108226  0.19454463  0.17333272 -0.05980541 -0.19440192  0.16577747\n",
      "   0.15504912  0.16927114 -0.09439207  0.13183144  0.04854184  0.17058828\n",
      "  -0.07810619 -0.01307606  0.19409807 -0.10423522  0.17077562  0.11233367\n",
      "  -0.13574891 -0.06370654  0.15574872 -0.02027042  0.1402075   0.13131663\n",
      "   0.13954449  0.13152042]]\n"
     ]
    }
   ],
   "source": [
    "teams = f1_df.Subject[f1_df.Subject.str.startswith('f1:team_')].unique()\n",
    "print(teams[:1])\n",
    "team_embeddings = dict(zip(teams, model.get_embeddings(teams)))\n",
    "print(list(team_embeddings.items())[:1])\n",
    "team_embeddings_array = np.array([i for i in team_embeddings.values()])\n",
    "print(team_embeddings_array[:1])\n"
   ],
   "metadata": {
    "collapsed": false,
    "pycharm": {
     "name": "#%%\n"
    }
   }
  },
  {
   "cell_type": "markdown",
   "source": [
    "# Link prediction"
   ],
   "metadata": {
    "collapsed": false,
    "pycharm": {
     "name": "#%% md\n"
    }
   }
  },
  {
   "cell_type": "markdown",
   "source": [
    "Now it's time to try to predict missing link. We will try to predict race result for specified driver based on embeddings. First step is to add some new triples with result data, but without position of the driver at the end of race. Assume we already know driver number and starting grid and want to predict his finishing position. Let us take existing result of Lewis Hamilton in 2022 Azerbaijan grand prix, which is not present in knowledge graph yet"
   ],
   "metadata": {
    "collapsed": false,
    "pycharm": {
     "name": "#%% md\n"
    }
   }
  },
  {
   "cell_type": "code",
   "execution_count": 7,
   "outputs": [
    {
     "name": "stdout",
     "output_type": "stream",
     "text": [
      "                                                  Subject  \\\n",
      "0          f1:race_result_1978_italian_grand_prix_laffite   \n",
      "1                 f1:grand_prix_2022_abu_dhabi_grand_prix   \n",
      "2             f1:race_result_1980_monaco_grand_prix_prost   \n",
      "3                   f1:driver_standing_1998_olivier_panis   \n",
      "4           f1:race_result_1983_british_grand_prix_jarier   \n",
      "...                                                   ...   \n",
      "326225  f1:race_result_2022_azerbaijan_grand_prix_hami...   \n",
      "326226                           f1:driver_lewis_hamilton   \n",
      "326227  f1:race_result_2022_azerbaijan_grand_prix_hami...   \n",
      "326228  f1:race_result_2022_azerbaijan_grand_prix_hami...   \n",
      "326229           f1:grand_prix_2022_azerbaijan_grand_prix   \n",
      "\n",
      "                            Predicate  \\\n",
      "0                      f1:finalStatus   \n",
      "1                         f1:isPartOf   \n",
      "2       f1:grandPrixResultIsRelatedTo   \n",
      "3                      f1:totalPoints   \n",
      "4                      f1:finalStatus   \n",
      "...                               ...   \n",
      "326225  f1:grandPrixResultIsRelatedTo   \n",
      "326226    f1:hasDriverGrandPrixResult   \n",
      "326227                        f1:grid   \n",
      "326228                f1:driverNumber   \n",
      "326229          f1:hasGrandPrixResult   \n",
      "\n",
      "                                                   Object  \n",
      "0                                                Finished  \n",
      "1                                          f1:season_2022  \n",
      "2                                   f1:driver_alain_prost  \n",
      "3                                                     0.0  \n",
      "4                                                 +2 Laps  \n",
      "...                                                   ...  \n",
      "326225                           f1:driver_lewis_hamilton  \n",
      "326226  f1:race_result_2022_azerbaijan_grand_prix_hami...  \n",
      "326227                                                  7  \n",
      "326228                                                 44  \n",
      "326229  f1:race_result_2022_azerbaijan_grand_prix_hami...  \n",
      "\n",
      "[326230 rows x 3 columns]\n"
     ]
    }
   ],
   "source": [
    "df_with_new_data = pd.DataFrame(X_train, columns = ['Subject','Predicate','Object'])\n",
    "df_with_new_data.loc[len(df_with_new_data)] = \\\n",
    "    [\"f1:race_result_2022_azerbaijan_grand_prix_hamilton\", \"f1:grandPrixResultIsRelatedTo\", \"f1:driver_lewis_hamilton\"]\n",
    "df_with_new_data.loc[len(df_with_new_data)] = \\\n",
    "    [\"f1:driver_lewis_hamilton\", \"f1:hasDriverGrandPrixResult\", \"f1:race_result_2022_azerbaijan_grand_prix_hamilton\"]\n",
    "df_with_new_data.loc[len(df_with_new_data)] = \\\n",
    "    [\"f1:race_result_2022_azerbaijan_grand_prix_hamilton\", \"f1:grid\", \"7\"]\n",
    "df_with_new_data.loc[len(df_with_new_data)] = \\\n",
    "    [\"f1:race_result_2022_azerbaijan_grand_prix_hamilton\", \"f1:driverNumber\", \"44\"]\n",
    "df_with_new_data.loc[len(df_with_new_data)] = \\\n",
    "    [\"f1:grand_prix_2022_azerbaijan_grand_prix\", \"f1:hasGrandPrixResult\", \"f1:race_result_2022_azerbaijan_grand_prix_hamilton\"]\n",
    "print(df_with_new_data)"
   ],
   "metadata": {
    "collapsed": false,
    "pycharm": {
     "name": "#%%\n"
    }
   }
  },
  {
   "cell_type": "markdown",
   "source": [
    "Fit model on triples with new incomplete race result"
   ],
   "metadata": {
    "collapsed": false,
    "pycharm": {
     "name": "#%% md\n"
    }
   }
  },
  {
   "cell_type": "code",
   "execution_count": 8,
   "outputs": [
    {
     "name": "stderr",
     "output_type": "stream",
     "text": [
      "Average ComplEx Loss:   0.057507: 100%|██████████| 300/300 [3:14:23<00:00, 38.88s/epoch]  \n"
     ]
    }
   ],
   "source": [
    "import tensorflow.contrib\n",
    "from ampligraph.latent_features import save_model\n",
    "\n",
    "model.fit(np.array(df_with_new_data))\n",
    "save_model(model, './embedding_model_new_data.pkl')"
   ],
   "metadata": {
    "collapsed": false,
    "pycharm": {
     "name": "#%%\n"
    }
   }
  },
  {
   "cell_type": "markdown",
   "source": [
    "Restore model if necessary"
   ],
   "metadata": {
    "collapsed": false,
    "pycharm": {
     "name": "#%% md\n"
    }
   }
  },
  {
   "cell_type": "code",
   "execution_count": null,
   "outputs": [],
   "source": [
    "import tensorflow.contrib\n",
    "from ampligraph.latent_features import restore_model\n",
    "\n",
    "model_new_data = restore_model('./embedding_model_new_data.pkl')"
   ],
   "metadata": {
    "collapsed": false,
    "pycharm": {
     "name": "#%%\n"
    }
   }
  },
  {
   "cell_type": "markdown",
   "source": [
    "Create statements to evaluate probability. There are total 20 drivers in 2022 Azerbaijan Grand Prix. So finishing position of Hamilton can be from 1 to 20"
   ],
   "metadata": {
    "collapsed": false,
    "pycharm": {
     "name": "#%% md\n"
    }
   }
  },
  {
   "cell_type": "code",
   "execution_count": 9,
   "outputs": [],
   "source": [
    "result_statements = np.array([\n",
    "    ['f1:race_result_2022_azerbaijan_grand_prix_hamilton', 'f1:driverPosition', '1'],\n",
    "    ['f1:race_result_2022_azerbaijan_grand_prix_hamilton', 'f1:driverPosition', '2'],\n",
    "    ['f1:race_result_2022_azerbaijan_grand_prix_hamilton', 'f1:driverPosition', '3'],\n",
    "    ['f1:race_result_2022_azerbaijan_grand_prix_hamilton', 'f1:driverPosition', '4'],\n",
    "    ['f1:race_result_2022_azerbaijan_grand_prix_hamilton', 'f1:driverPosition', '5'],\n",
    "    ['f1:race_result_2022_azerbaijan_grand_prix_hamilton', 'f1:driverPosition', '6'],\n",
    "    ['f1:race_result_2022_azerbaijan_grand_prix_hamilton', 'f1:driverPosition', '7'],\n",
    "    ['f1:race_result_2022_azerbaijan_grand_prix_hamilton', 'f1:driverPosition', '8'],\n",
    "    ['f1:race_result_2022_azerbaijan_grand_prix_hamilton', 'f1:driverPosition', '9'],\n",
    "    ['f1:race_result_2022_azerbaijan_grand_prix_hamilton', 'f1:driverPosition', '10'],\n",
    "    ['f1:race_result_2022_azerbaijan_grand_prix_hamilton', 'f1:driverPosition', '11'],\n",
    "    ['f1:race_result_2022_azerbaijan_grand_prix_hamilton', 'f1:driverPosition', '12'],\n",
    "    ['f1:race_result_2022_azerbaijan_grand_prix_hamilton', 'f1:driverPosition', '13'],\n",
    "    ['f1:race_result_2022_azerbaijan_grand_prix_hamilton', 'f1:driverPosition', '14'],\n",
    "    ['f1:race_result_2022_azerbaijan_grand_prix_hamilton', 'f1:driverPosition', '15'],\n",
    "    ['f1:race_result_2022_azerbaijan_grand_prix_hamilton', 'f1:driverPosition', '16'],\n",
    "    ['f1:race_result_2022_azerbaijan_grand_prix_hamilton', 'f1:driverPosition', '17'],\n",
    "    ['f1:race_result_2022_azerbaijan_grand_prix_hamilton', 'f1:driverPosition', '18'],\n",
    "    ['f1:race_result_2022_azerbaijan_grand_prix_hamilton', 'f1:driverPosition', '19'],\n",
    "    ['f1:race_result_2022_azerbaijan_grand_prix_hamilton', 'f1:driverPosition', '20'],\n",
    "])"
   ],
   "metadata": {
    "collapsed": false,
    "pycharm": {
     "name": "#%%\n"
    }
   }
  },
  {
   "cell_type": "markdown",
   "source": [
    "Unite the triplets of the graph and the proposed statements"
   ],
   "metadata": {
    "collapsed": false,
    "pycharm": {
     "name": "#%% md\n"
    }
   }
  },
  {
   "cell_type": "code",
   "execution_count": 10,
   "outputs": [
    {
     "name": "stdout",
     "output_type": "stream",
     "text": [
      "326250\n",
      "[['f1:race_result_1994_japanese_grand_prix_irvine' 'f1:lapsCompleted'\n",
      "  '50']\n",
      " ['f1:race_result_1953_french_grand_prix_gerard' 'f1:driverPosition' '11']\n",
      " ['f1:season_1953' 'f1:hasResult' 'f1:driver_standing_1953_tony_crook']\n",
      " ...\n",
      " ['f1:team_participation_1974_jean-pierre_beltoise_brm' 'f1:hasTeam'\n",
      "  'f1:team_brm']\n",
      " ['f1:race_result_1963_italian_grand_prix_cabral' 'f1:finalStatus'\n",
      "  'Did not qualify']\n",
      " ['f1:qualifying_result_2004_bahrain_grand_prix_michael_schumacher'\n",
      "  'f1:Q1Time' '1:30.139']]\n"
     ]
    }
   ],
   "source": [
    "results_statements_filter = np.array(list({tuple(i) for i in np.vstack((df_with_new_data, result_statements))}))\n",
    "print(len(results_statements_filter))\n",
    "print(results_statements_filter)"
   ],
   "metadata": {
    "collapsed": false,
    "pycharm": {
     "name": "#%%\n"
    }
   }
  },
  {
   "cell_type": "code",
   "execution_count": 12,
   "outputs": [
    {
     "name": "stdout",
     "output_type": "stream",
     "text": [
      "WARNING - You are attempting to use 76776 distinct entities to generate synthetic negatives in the evaluation\n",
      "    protocol. This may be unnecessary and will lead to a 'harder' task. Besides, it will lead to a much slower\n",
      "    evaluation procedure. We recommended to set the 'corruption_entities' argument to a reasonably sized set\n",
      "    of entities. The size of corruption_entities depends on your domain-specific task.\n"
     ]
    },
    {
     "name": "stderr",
     "output_type": "stream",
     "text": [
      "/home/dell/anaconda3/lib/python3.6/site-packages/ampligraph/evaluation/protocol.py:952: UserWarning: You are attempting to use 76776 distinct entities to generate synthetic negatives in the evaluation\n",
      "    protocol. This may be unnecessary and will lead to a 'harder' task. Besides, it will lead to a much slower\n",
      "    evaluation procedure. We recommended to set the 'corruption_entities' argument to a reasonably sized set\n",
      "    of entities. The size of corruption_entities depends on your domain-specific task.\n",
      "  warnings.warn(warn_msg % ent_for_corruption_size)\n",
      "100%|██████████| 20/20 [00:04<00:00,  4.48it/s]\n"
     ]
    }
   ],
   "source": [
    "from ampligraph.evaluation import evaluate_performance\n",
    "\n",
    "ranks_statements = evaluate_performance(\n",
    "    result_statements,\n",
    "    model=model,\n",
    "    filter_triples=results_statements_filter,\n",
    "    corrupt_side = 's+o',\n",
    "    use_default_protocol=False,\n",
    "    verbose=True)"
   ],
   "metadata": {
    "collapsed": false,
    "pycharm": {
     "name": "#%%\n"
    }
   }
  },
  {
   "cell_type": "code",
   "execution_count": 13,
   "outputs": [
    {
     "name": "stdout",
     "output_type": "stream",
     "text": [
      "[ 6.6163654   7.8188457   1.028274    6.0552807   4.988968    2.7382526\n",
      "  6.4778404   1.3771429   5.653017    2.2260032   1.7458227   0.7691908\n",
      " -1.0101306  -0.66524905  1.690872    3.1159573   0.99193525 -1.9479747\n",
      "  0.85791004 -0.00974441]\n"
     ]
    }
   ],
   "source": [
    "scores = model.predict(result_statements)\n",
    "print(scores)"
   ],
   "metadata": {
    "collapsed": false,
    "pycharm": {
     "name": "#%%\n"
    }
   }
  },
  {
   "cell_type": "markdown",
   "source": [
    "Present the result of predictions"
   ],
   "metadata": {
    "collapsed": false,
    "pycharm": {
     "name": "#%% md\n"
    }
   }
  },
  {
   "cell_type": "code",
   "execution_count": 14,
   "outputs": [
    {
     "data": {
      "text/plain": "                                            statement    rank     score  \\\n17  f1:race_result_2022_azerbaijan_grand_prix_hami...  122005 -1.947975   \n12  f1:race_result_2022_azerbaijan_grand_prix_hami...  116362 -1.010131   \n13  f1:race_result_2022_azerbaijan_grand_prix_hami...  107985 -0.665249   \n19  f1:race_result_2022_azerbaijan_grand_prix_hami...   72788 -0.009744   \n11  f1:race_result_2022_azerbaijan_grand_prix_hami...   41536  0.769191   \n18  f1:race_result_2022_azerbaijan_grand_prix_hami...   42165  0.857910   \n16  f1:race_result_2022_azerbaijan_grand_prix_hami...   38889  0.991935   \n2   f1:race_result_2022_azerbaijan_grand_prix_hami...   40258  1.028274   \n7   f1:race_result_2022_azerbaijan_grand_prix_hami...   38289  1.377143   \n14  f1:race_result_2022_azerbaijan_grand_prix_hami...   36152  1.690872   \n10  f1:race_result_2022_azerbaijan_grand_prix_hami...   35744  1.745823   \n9   f1:race_result_2022_azerbaijan_grand_prix_hami...   33942  2.226003   \n5   f1:race_result_2022_azerbaijan_grand_prix_hami...   32011  2.738253   \n15  f1:race_result_2022_azerbaijan_grand_prix_hami...   32216  3.115957   \n4   f1:race_result_2022_azerbaijan_grand_prix_hami...   23877  4.988968   \n8   f1:race_result_2022_azerbaijan_grand_prix_hami...   24118  5.653017   \n3   f1:race_result_2022_azerbaijan_grand_prix_hami...   19816  6.055281   \n6   f1:race_result_2022_azerbaijan_grand_prix_hami...   21257  6.477840   \n0   f1:race_result_2022_azerbaijan_grand_prix_hami...   16438  6.616365   \n1   f1:race_result_2022_azerbaijan_grand_prix_hami...   15495  7.818846   \n\n        prob  \n17  0.124774  \n12  0.266954  \n13  0.339561  \n19  0.497564  \n11  0.683346  \n18  0.702224  \n16  0.729470  \n2   0.736581  \n7   0.798532  \n14  0.844339  \n10  0.851425  \n9   0.902560  \n5   0.939246  \n15  0.957546  \n4   0.993233  \n8   0.996505  \n3   0.997660  \n6   0.998465  \n0   0.998664  \n1   0.999598  ",
      "text/html": "<div>\n<style scoped>\n    .dataframe tbody tr th:only-of-type {\n        vertical-align: middle;\n    }\n\n    .dataframe tbody tr th {\n        vertical-align: top;\n    }\n\n    .dataframe thead th {\n        text-align: right;\n    }\n</style>\n<table border=\"1\" class=\"dataframe\">\n  <thead>\n    <tr style=\"text-align: right;\">\n      <th></th>\n      <th>statement</th>\n      <th>rank</th>\n      <th>score</th>\n      <th>prob</th>\n    </tr>\n  </thead>\n  <tbody>\n    <tr>\n      <th>17</th>\n      <td>f1:race_result_2022_azerbaijan_grand_prix_hami...</td>\n      <td>122005</td>\n      <td>-1.947975</td>\n      <td>0.124774</td>\n    </tr>\n    <tr>\n      <th>12</th>\n      <td>f1:race_result_2022_azerbaijan_grand_prix_hami...</td>\n      <td>116362</td>\n      <td>-1.010131</td>\n      <td>0.266954</td>\n    </tr>\n    <tr>\n      <th>13</th>\n      <td>f1:race_result_2022_azerbaijan_grand_prix_hami...</td>\n      <td>107985</td>\n      <td>-0.665249</td>\n      <td>0.339561</td>\n    </tr>\n    <tr>\n      <th>19</th>\n      <td>f1:race_result_2022_azerbaijan_grand_prix_hami...</td>\n      <td>72788</td>\n      <td>-0.009744</td>\n      <td>0.497564</td>\n    </tr>\n    <tr>\n      <th>11</th>\n      <td>f1:race_result_2022_azerbaijan_grand_prix_hami...</td>\n      <td>41536</td>\n      <td>0.769191</td>\n      <td>0.683346</td>\n    </tr>\n    <tr>\n      <th>18</th>\n      <td>f1:race_result_2022_azerbaijan_grand_prix_hami...</td>\n      <td>42165</td>\n      <td>0.857910</td>\n      <td>0.702224</td>\n    </tr>\n    <tr>\n      <th>16</th>\n      <td>f1:race_result_2022_azerbaijan_grand_prix_hami...</td>\n      <td>38889</td>\n      <td>0.991935</td>\n      <td>0.729470</td>\n    </tr>\n    <tr>\n      <th>2</th>\n      <td>f1:race_result_2022_azerbaijan_grand_prix_hami...</td>\n      <td>40258</td>\n      <td>1.028274</td>\n      <td>0.736581</td>\n    </tr>\n    <tr>\n      <th>7</th>\n      <td>f1:race_result_2022_azerbaijan_grand_prix_hami...</td>\n      <td>38289</td>\n      <td>1.377143</td>\n      <td>0.798532</td>\n    </tr>\n    <tr>\n      <th>14</th>\n      <td>f1:race_result_2022_azerbaijan_grand_prix_hami...</td>\n      <td>36152</td>\n      <td>1.690872</td>\n      <td>0.844339</td>\n    </tr>\n    <tr>\n      <th>10</th>\n      <td>f1:race_result_2022_azerbaijan_grand_prix_hami...</td>\n      <td>35744</td>\n      <td>1.745823</td>\n      <td>0.851425</td>\n    </tr>\n    <tr>\n      <th>9</th>\n      <td>f1:race_result_2022_azerbaijan_grand_prix_hami...</td>\n      <td>33942</td>\n      <td>2.226003</td>\n      <td>0.902560</td>\n    </tr>\n    <tr>\n      <th>5</th>\n      <td>f1:race_result_2022_azerbaijan_grand_prix_hami...</td>\n      <td>32011</td>\n      <td>2.738253</td>\n      <td>0.939246</td>\n    </tr>\n    <tr>\n      <th>15</th>\n      <td>f1:race_result_2022_azerbaijan_grand_prix_hami...</td>\n      <td>32216</td>\n      <td>3.115957</td>\n      <td>0.957546</td>\n    </tr>\n    <tr>\n      <th>4</th>\n      <td>f1:race_result_2022_azerbaijan_grand_prix_hami...</td>\n      <td>23877</td>\n      <td>4.988968</td>\n      <td>0.993233</td>\n    </tr>\n    <tr>\n      <th>8</th>\n      <td>f1:race_result_2022_azerbaijan_grand_prix_hami...</td>\n      <td>24118</td>\n      <td>5.653017</td>\n      <td>0.996505</td>\n    </tr>\n    <tr>\n      <th>3</th>\n      <td>f1:race_result_2022_azerbaijan_grand_prix_hami...</td>\n      <td>19816</td>\n      <td>6.055281</td>\n      <td>0.997660</td>\n    </tr>\n    <tr>\n      <th>6</th>\n      <td>f1:race_result_2022_azerbaijan_grand_prix_hami...</td>\n      <td>21257</td>\n      <td>6.477840</td>\n      <td>0.998465</td>\n    </tr>\n    <tr>\n      <th>0</th>\n      <td>f1:race_result_2022_azerbaijan_grand_prix_hami...</td>\n      <td>16438</td>\n      <td>6.616365</td>\n      <td>0.998664</td>\n    </tr>\n    <tr>\n      <th>1</th>\n      <td>f1:race_result_2022_azerbaijan_grand_prix_hami...</td>\n      <td>15495</td>\n      <td>7.818846</td>\n      <td>0.999598</td>\n    </tr>\n  </tbody>\n</table>\n</div>"
     },
     "execution_count": 14,
     "metadata": {},
     "output_type": "execute_result"
    }
   ],
   "source": [
    "from scipy.special import expit\n",
    "probs = expit(scores)\n",
    "\n",
    "pd.DataFrame(list(zip([' '.join(x) for x in result_statements],\n",
    "                      ranks_statements,\n",
    "                      np.squeeze(scores),\n",
    "                      np.squeeze(probs))),\n",
    "             columns=['statement', 'rank', 'score', 'prob']).sort_values(\"prob\")"
   ],
   "metadata": {
    "collapsed": false,
    "pycharm": {
     "name": "#%%\n"
    }
   }
  },
  {
   "cell_type": "markdown",
   "source": [
    "As we can see low positions are less probable (as Lewis Hamilton is one of the best drivers indeed), high positions have higher probability. The real result for this race can be seen in https://ergast.com/api/f1/2022/results?limit=200. Hamilton finished 4th, which has 0.997660 probability in our model"
   ],
   "metadata": {
    "collapsed": false,
    "pycharm": {
     "name": "#%% md\n"
    }
   }
  }
 ]
}