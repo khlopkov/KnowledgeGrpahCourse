{
 "cells": [
  {
   "cell_type": "markdown",
   "metadata": {},
   "source": [
    "---\n",
    "# Requirements\n",
    "---"
   ]
  },
  {
   "cell_type": "code",
   "execution_count": 3,
   "metadata": {},
   "outputs": [
    {
     "name": "stdout",
     "output_type": "stream",
     "text": [
      "Collecting rdflib\n",
      "  Downloading rdflib-6.1.1-py3-none-any.whl (482 kB)\n",
      "Collecting pyparsing\n",
      "  Downloading pyparsing-3.0.7-py3-none-any.whl (98 kB)\n",
      "Collecting isodate\n",
      "  Downloading isodate-0.6.1-py2.py3-none-any.whl (41 kB)\n",
      "Requirement already satisfied: setuptools in h:\\programs\\ontology\\crawlers\\scrapy-env\\lib\\site-packages (from rdflib) (58.0.4)\n",
      "Requirement already satisfied: six in h:\\programs\\ontology\\crawlers\\scrapy-env\\lib\\site-packages (from isodate->rdflib) (1.16.0)\n",
      "Installing collected packages: pyparsing, isodate, rdflib\n",
      "Successfully installed isodate-0.6.1 pyparsing-3.0.7 rdflib-6.1.1\n"
     ]
    }
   ],
   "source": [
    "!pip install rdflib"
   ]
  },
  {
   "cell_type": "code",
   "execution_count": 4,
   "metadata": {},
   "outputs": [
    {
     "data": {
      "text/plain": [
       "<Graph identifier=Nf6e85818a26545c89d40fc3b417d7449 (<class 'rdflib.graph.Graph'>)>"
      ]
     },
     "execution_count": 4,
     "metadata": {},
     "output_type": "execute_result"
    }
   ],
   "source": [
    "from rdflib import URIRef, BNode, Literal, Namespace, Graph\n",
    "\n",
    "g = Graph()\n",
    "\n",
    "url = 'https://gist.github.com/kiarro/6cf6891fc9b702c19f9b1a676299a71f/raw'\n",
    "\n",
    "g.parse(url, format=\"turtle\")"
   ]
  },
  {
   "cell_type": "code",
   "execution_count": 15,
   "metadata": {},
   "outputs": [
    {
     "data": {
      "text/plain": [
       "<Graph identifier=Nec2f87eb56614a80b032673efbb725bd (<class 'rdflib.graph.Graph'>)>"
      ]
     },
     "execution_count": 15,
     "metadata": {},
     "output_type": "execute_result"
    }
   ],
   "source": [
    "import rdflib.void\n",
    "\n",
    "ggg, r = rdflib.void.generateVoID(g)\n",
    "ggg.serialize(destination=\"status.owl\", format=\"n3\")"
   ]
  }
 ],
 "metadata": {
  "interpreter": {
   "hash": "c7a9e9337c738c1c6abebbff4e05db5526b8bc0657601cbb2c8639512dd77cd2"
  },
  "kernelspec": {
   "display_name": "Python 3.9.7 (conda)",
   "language": "python",
   "name": "python3"
  },
  "language_info": {
   "codemirror_mode": {
    "name": "ipython",
    "version": 3
   },
   "file_extension": ".py",
   "mimetype": "text/x-python",
   "name": "python",
   "nbconvert_exporter": "python",
   "pygments_lexer": "ipython3",
   "version": "3.9.7"
  },
  "orig_nbformat": 4
 },
 "nbformat": 4,
 "nbformat_minor": 2
}
