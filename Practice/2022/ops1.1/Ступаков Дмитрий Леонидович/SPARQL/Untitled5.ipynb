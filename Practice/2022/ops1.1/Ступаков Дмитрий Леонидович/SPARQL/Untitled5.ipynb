{
  "cells": [
    {
      "cell_type": "code",
      "execution_count": 2,
      "metadata": {
        "colab": {
          "base_uri": "https://localhost:8080/"
        },
        "id": "or9KPrGvtjcs",
        "outputId": "11781e0b-4cf1-41d9-d524-2839f2b95f88"
      },
      "outputs": [
        {
          "name": "stdout",
          "output_type": "stream",
          "text": [
            "Looking in indexes: https://pypi.org/simple, https://us-python.pkg.dev/colab-wheels/public/simple/\n",
            "Collecting rdflib\n",
            "  Downloading rdflib-6.2.0-py3-none-any.whl (500 kB)\n",
            "\u001b[K     |████████████████████████████████| 500 kB 8.0 MB/s \n",
            "\u001b[?25hRequirement already satisfied: pyparsing in /usr/local/lib/python3.8/dist-packages (from rdflib) (3.0.9)\n",
            "Requirement already satisfied: setuptools in /usr/local/lib/python3.8/dist-packages (from rdflib) (57.4.0)\n",
            "Collecting isodate\n",
            "  Downloading isodate-0.6.1-py2.py3-none-any.whl (41 kB)\n",
            "\u001b[K     |████████████████████████████████| 41 kB 528 kB/s \n",
            "\u001b[?25hRequirement already satisfied: six in /usr/local/lib/python3.8/dist-packages (from isodate->rdflib) (1.15.0)\n",
            "Installing collected packages: isodate, rdflib\n",
            "Successfully installed isodate-0.6.1 rdflib-6.2.0\n",
            "Looking in indexes: https://pypi.org/simple, https://us-python.pkg.dev/colab-wheels/public/simple/\n",
            "Requirement already satisfied: PyDrive in /usr/local/lib/python3.8/dist-packages (1.3.1)\n",
            "Requirement already satisfied: PyYAML>=3.0 in /usr/local/lib/python3.8/dist-packages (from PyDrive) (6.0)\n",
            "Requirement already satisfied: oauth2client>=4.0.0 in /usr/local/lib/python3.8/dist-packages (from PyDrive) (4.1.3)\n",
            "Requirement already satisfied: google-api-python-client>=1.2 in /usr/local/lib/python3.8/dist-packages (from PyDrive) (1.12.11)\n",
            "Requirement already satisfied: uritemplate<4dev,>=3.0.0 in /usr/local/lib/python3.8/dist-packages (from google-api-python-client>=1.2->PyDrive) (3.0.1)\n",
            "Requirement already satisfied: six<2dev,>=1.13.0 in /usr/local/lib/python3.8/dist-packages (from google-api-python-client>=1.2->PyDrive) (1.15.0)\n",
            "Requirement already satisfied: google-api-core<3dev,>=1.21.0 in /usr/local/lib/python3.8/dist-packages (from google-api-python-client>=1.2->PyDrive) (2.8.2)\n",
            "Requirement already satisfied: google-auth<3dev,>=1.16.0 in /usr/local/lib/python3.8/dist-packages (from google-api-python-client>=1.2->PyDrive) (2.15.0)\n",
            "Requirement already satisfied: google-auth-httplib2>=0.0.3 in /usr/local/lib/python3.8/dist-packages (from google-api-python-client>=1.2->PyDrive) (0.0.4)\n",
            "Requirement already satisfied: httplib2<1dev,>=0.15.0 in /usr/local/lib/python3.8/dist-packages (from google-api-python-client>=1.2->PyDrive) (0.17.4)\n",
            "Requirement already satisfied: googleapis-common-protos<2.0dev,>=1.56.2 in /usr/local/lib/python3.8/dist-packages (from google-api-core<3dev,>=1.21.0->google-api-python-client>=1.2->PyDrive) (1.57.0)\n",
            "Requirement already satisfied: protobuf<5.0.0dev,>=3.15.0 in /usr/local/lib/python3.8/dist-packages (from google-api-core<3dev,>=1.21.0->google-api-python-client>=1.2->PyDrive) (3.19.6)\n",
            "Requirement already satisfied: requests<3.0.0dev,>=2.18.0 in /usr/local/lib/python3.8/dist-packages (from google-api-core<3dev,>=1.21.0->google-api-python-client>=1.2->PyDrive) (2.23.0)\n",
            "Requirement already satisfied: pyasn1-modules>=0.2.1 in /usr/local/lib/python3.8/dist-packages (from google-auth<3dev,>=1.16.0->google-api-python-client>=1.2->PyDrive) (0.2.8)\n",
            "Requirement already satisfied: rsa<5,>=3.1.4 in /usr/local/lib/python3.8/dist-packages (from google-auth<3dev,>=1.16.0->google-api-python-client>=1.2->PyDrive) (4.9)\n",
            "Requirement already satisfied: cachetools<6.0,>=2.0.0 in /usr/local/lib/python3.8/dist-packages (from google-auth<3dev,>=1.16.0->google-api-python-client>=1.2->PyDrive) (5.2.0)\n",
            "Requirement already satisfied: pyasn1>=0.1.7 in /usr/local/lib/python3.8/dist-packages (from oauth2client>=4.0.0->PyDrive) (0.4.8)\n",
            "Requirement already satisfied: chardet<4,>=3.0.2 in /usr/local/lib/python3.8/dist-packages (from requests<3.0.0dev,>=2.18.0->google-api-core<3dev,>=1.21.0->google-api-python-client>=1.2->PyDrive) (3.0.4)\n",
            "Requirement already satisfied: certifi>=2017.4.17 in /usr/local/lib/python3.8/dist-packages (from requests<3.0.0dev,>=2.18.0->google-api-core<3dev,>=1.21.0->google-api-python-client>=1.2->PyDrive) (2022.12.7)\n",
            "Requirement already satisfied: urllib3!=1.25.0,!=1.25.1,<1.26,>=1.21.1 in /usr/local/lib/python3.8/dist-packages (from requests<3.0.0dev,>=2.18.0->google-api-core<3dev,>=1.21.0->google-api-python-client>=1.2->PyDrive) (1.24.3)\n",
            "Requirement already satisfied: idna<3,>=2.5 in /usr/local/lib/python3.8/dist-packages (from requests<3.0.0dev,>=2.18.0->google-api-core<3dev,>=1.21.0->google-api-python-client>=1.2->PyDrive) (2.10)\n"
          ]
        }
      ],
      "source": [
        "!pip install rdflib\n",
        "!pip install PyDrive"
      ]
    },
    {
      "cell_type": "code",
      "execution_count": 3,
      "metadata": {
        "id": "db7FejARxxsA"
      },
      "outputs": [],
      "source": [
        "from rdflib import URIRef, BNode, Literal, Namespace, Graph\n",
        "from rdflib.namespace import Namespace, NamespaceManager\n",
        "from rdflib.plugins import sparql\n",
        "from rdflib.namespace import RDF, RDFS, XSD\n",
        "from rdflib.serializer import Serializer"
      ]
    },
    {
      "cell_type": "code",
      "execution_count": 5,
      "metadata": {
        "colab": {
          "base_uri": "https://localhost:8080/"
        },
        "id": "-wD0lVdDx0kW",
        "outputId": "4cba7c17-a6f1-4c44-c469-590694403862"
      },
      "outputs": [
        {
          "name": "stdout",
          "output_type": "stream",
          "text": [
            "Mounted at /content/drive\n"
          ]
        }
      ],
      "source": [
        "from google.colab import drive\n",
        "drive.mount('/content/drive')\n",
        "#!ls '/content/drive/MyDrive/Colab Notebooks/IIP+ATO'"
      ]
    },
    {
      "cell_type": "code",
      "execution_count": 6,
      "metadata": {
        "colab": {
          "base_uri": "https://localhost:8080/"
        },
        "id": "2229LK4Xx_Rq",
        "outputId": "bf1426c3-837f-4bf8-b3b1-6a5c0f908eef"
      },
      "outputs": [
        {
          "name": "stdout",
          "output_type": "stream",
          "text": [
            "4460\n"
          ]
        }
      ],
      "source": [
        "g = Graph()\n",
        "ontology_url = '/content/drive/MyDrive/Colab Notebooks/dota/Untitled.owl'\n",
        "\n",
        "g.parse(ontology_url, format=\"json-ld\")\n",
        "print(len(g))"
      ]
    },
    {
      "cell_type": "code",
      "execution_count": 36,
      "metadata": {
        "id": "A-jG1vTWYh4O"
      },
      "outputs": [],
      "source": [
        "# print (g.serialize(format='n3'))"
      ]
    },
    {
      "cell_type": "markdown",
      "metadata": {
        "id": "ufafFETBdePY"
      },
      "source": [
        "Сколько героев, которые имеют роль Nuker и мили атаку"
      ]
    },
    {
      "cell_type": "code",
      "execution_count": 99,
      "metadata": {
        "colab": {
          "base_uri": "https://localhost:8080/"
        },
        "id": "WP0mJ2wuyi0J",
        "outputId": "c3ff3d8e-3205-4f18-fb12-1309b4d2f957"
      },
      "outputs": [
        {
          "name": "stdout",
          "output_type": "stream",
          "text": [
            "38\n"
          ]
        }
      ],
      "source": [
        "q_1 = \"\"\"\n",
        "    SELECT (COUNT(?hero) as ?heroCount) WHERE{\n",
        "      ?hero a ns1:Heroes .\n",
        "      ?hero ns1:hasRole ns1:Nuker .\n",
        "      ?hero ns1:hasAttackType ns1:Melee .\n",
        "    }\n",
        "\"\"\"\n",
        "\n",
        "for row in g.query(q_1):\n",
        "    print(row.heroCount)"
      ]
    },
    {
      "cell_type": "markdown",
      "metadata": {
        "id": "Of4yeM7ye5VF"
      },
      "source": [
        "Количество героев под каждую роль"
      ]
    },
    {
      "cell_type": "code",
      "execution_count": 105,
      "metadata": {
        "colab": {
          "base_uri": "https://localhost:8080/"
        },
        "id": "qssM2FZEemg-",
        "outputId": "9ab93c3c-d4eb-4225-ab29-38a87b5681c9"
      },
      "outputs": [
        {
          "name": "stdout",
          "output_type": "stream",
          "text": [
            "http://www.semanticweb.org/dmitriystupakov/ontologies/2022/11/Dotaaaaaaa#Carry\n",
            "65\n",
            "http://www.semanticweb.org/dmitriystupakov/ontologies/2022/11/Dotaaaaaaa#Durable\n",
            "47\n",
            "http://www.semanticweb.org/dmitriystupakov/ontologies/2022/11/Dotaaaaaaa#Support\n",
            "44\n",
            "http://www.semanticweb.org/dmitriystupakov/ontologies/2022/11/Dotaaaaaaa#Disabler\n",
            "89\n",
            "http://www.semanticweb.org/dmitriystupakov/ontologies/2022/11/Dotaaaaaaa#Initiator\n",
            "53\n",
            "http://www.semanticweb.org/dmitriystupakov/ontologies/2022/11/Dotaaaaaaa#Nuker\n",
            "87\n",
            "http://www.semanticweb.org/dmitriystupakov/ontologies/2022/11/Dotaaaaaaa#Escape\n",
            "50\n",
            "http://www.semanticweb.org/dmitriystupakov/ontologies/2022/11/Dotaaaaaaa#Jungler\n",
            "15\n",
            "http://www.semanticweb.org/dmitriystupakov/ontologies/2022/11/Dotaaaaaaa#Pusher\n",
            "29\n"
          ]
        }
      ],
      "source": [
        "q_1 = \"\"\"\n",
        "    SELECT ?hero ?role (COUNT(?picks) as ?picksCount) WHERE{\n",
        "      ?hero ns1:hasRole ?role .\n",
        "      ?hero ns1:picks ?picks .\n",
        "    }\n",
        "    GROUP BY ?role\n",
        "\"\"\"\n",
        "\n",
        "for row in g.query(q_1):\n",
        "    print(row.role)\n",
        "    print(row.picksCount)"
      ]
    },
    {
      "cell_type": "markdown",
      "metadata": {
        "id": "cPHP2mM9rrN3"
      },
      "source": [
        "Какую роль чаще всего пикают"
      ]
    },
    {
      "cell_type": "code",
      "execution_count": 106,
      "metadata": {
        "colab": {
          "base_uri": "https://localhost:8080/"
        },
        "id": "40AvsSpordY_",
        "outputId": "a4f7bc2a-f58a-40d5-b3bb-e59b468a972c"
      },
      "outputs": [
        {
          "name": "stdout",
          "output_type": "stream",
          "text": [
            "http://www.semanticweb.org/dmitriystupakov/ontologies/2022/11/Dotaaaaaaa#Nuker\n",
            "2671392\n"
          ]
        }
      ],
      "source": [
        "q_1 = \"\"\"\n",
        "    SELECT ?hero ?role (SUM(?picks) as ?picksSum) WHERE{\n",
        "      ?hero ns1:hasRole ?role .\n",
        "      ?hero ns1:picks ?picks .\n",
        "    }\n",
        "    GROUP BY ?role\n",
        "    ORDER BY DESC(?picksSum)\n",
        "    LIMIT 1\n",
        "\"\"\"\n",
        "\n",
        "for row in g.query(q_1):\n",
        "    print(row.role)\n",
        "    print(row.picksSum)"
      ]
    },
    {
      "cell_type": "markdown",
      "metadata": {
        "id": "hM21VdpKsRyg"
      },
      "source": [
        "Средний винрейт героев в зависимости от количества ног"
      ]
    },
    {
      "cell_type": "code",
      "execution_count": 116,
      "metadata": {
        "colab": {
          "base_uri": "https://localhost:8080/"
        },
        "id": "nlxFPy92sNeM",
        "outputId": "840907c6-be3a-40c4-e45f-69b85627219e"
      },
      "outputs": [
        {
          "name": "stdout",
          "output_type": "stream",
          "text": [
            "http://www.semanticweb.org/dmitriystupakov/ontologies/2022/11/Dotaaaaaaa#hero_Abaddon\n",
            "2\n",
            "49.86300043281962458348395873\n",
            "http://www.semanticweb.org/dmitriystupakov/ontologies/2022/11/Dotaaaaaaa#hero_Bane\n",
            "4\n",
            "49.16747890325963713361748627\n",
            "http://www.semanticweb.org/dmitriystupakov/ontologies/2022/11/Dotaaaaaaa#hero_Broodmother\n",
            "8\n",
            "56.85852608929532436832232634\n",
            "http://www.semanticweb.org/dmitriystupakov/ontologies/2022/11/Dotaaaaaaa#hero_Enigma\n",
            "0\n",
            "49.68223136589918712243988094\n",
            "http://www.semanticweb.org/dmitriystupakov/ontologies/2022/11/Dotaaaaaaa#hero_Nyx_Assassin\n",
            "6\n",
            "51.39971155591225245492144798\n"
          ]
        }
      ],
      "source": [
        "q_1 = \"\"\"\n",
        "    SELECT ?hero ?legs (Sum(?winrate)/count(?winrate) as ?sumW) WHERE{\n",
        "      ?hero ns1:legs ?legs .\n",
        "      ?hero ns1:winrate ?winrate .\n",
        "    }\n",
        "    GROUP BY ?legs\n",
        "\n",
        "\"\"\"\n",
        "\n",
        "for row in g.query(q_1):\n",
        "    print(row.hero)\n",
        "    print(row.legs)\n",
        "    print(row.sumW)"
      ]
    }
  ],
  "metadata": {
    "colab": {
      "provenance": []
    },
    "kernelspec": {
      "display_name": "Python 3",
      "language": "python",
      "name": "python3"
    },
    "language_info": {
      "name": "python",
      "version": "3.11.0 (main, Oct 25 2022, 14:13:24) [Clang 14.0.0 (clang-1400.0.29.202)]"
    },
    "vscode": {
      "interpreter": {
        "hash": "1a1af0ee75eeea9e2e1ee996c87e7a2b11a0bebd85af04bb136d915cefc0abce"
      }
    }
  },
  "nbformat": 4,
  "nbformat_minor": 0
}
