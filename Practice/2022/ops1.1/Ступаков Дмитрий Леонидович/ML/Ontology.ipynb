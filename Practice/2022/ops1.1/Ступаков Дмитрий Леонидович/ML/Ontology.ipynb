{
 "cells": [
  {
   "cell_type": "code",
   "execution_count": 1,
   "id": "f04b55da",
   "metadata": {},
   "outputs": [
    {
     "data": {
      "text/plain": [
       "1"
      ]
     },
     "execution_count": 1,
     "metadata": {},
     "output_type": "execute_result"
    }
   ],
   "source": [
    "1"
   ]
  },
  {
   "cell_type": "code",
   "execution_count": 2,
   "id": "24814755",
   "metadata": {},
   "outputs": [
    {
     "name": "stdout",
     "output_type": "stream",
     "text": [
      "Python 3.6.13 :: Anaconda, Inc.\r\n"
     ]
    }
   ],
   "source": [
    "!python --version"
   ]
  },
  {
   "cell_type": "code",
   "execution_count": 3,
   "id": "b1639467",
   "metadata": {},
   "outputs": [
    {
     "name": "stdout",
     "output_type": "stream",
     "text": [
      "Requirement already satisfied: tensorflow<2.0,>=1.15.2 in /Users/dmitriystupakov/.conda/envs/pythonProject11/lib/python3.6/site-packages (1.15.5)\n",
      "Requirement already satisfied: ampligraph in /Users/dmitriystupakov/.conda/envs/pythonProject11/lib/python3.6/site-packages (1.4.0)\n",
      "Requirement already satisfied: tensorboard<1.16.0,>=1.15.0 in /Users/dmitriystupakov/.conda/envs/pythonProject11/lib/python3.6/site-packages (from tensorflow<2.0,>=1.15.2) (1.15.0)\n",
      "Requirement already satisfied: numpy<1.19.0,>=1.16.0 in /Users/dmitriystupakov/.conda/envs/pythonProject11/lib/python3.6/site-packages (from tensorflow<2.0,>=1.15.2) (1.18.5)\n",
      "Requirement already satisfied: six>=1.10.0 in /Users/dmitriystupakov/.conda/envs/pythonProject11/lib/python3.6/site-packages (from tensorflow<2.0,>=1.15.2) (1.16.0)\n",
      "Requirement already satisfied: astor>=0.6.0 in /Users/dmitriystupakov/.conda/envs/pythonProject11/lib/python3.6/site-packages (from tensorflow<2.0,>=1.15.2) (0.8.1)\n",
      "Requirement already satisfied: protobuf>=3.6.1 in /Users/dmitriystupakov/.conda/envs/pythonProject11/lib/python3.6/site-packages (from tensorflow<2.0,>=1.15.2) (3.19.6)\n",
      "Requirement already satisfied: h5py<=2.10.0 in /Users/dmitriystupakov/.conda/envs/pythonProject11/lib/python3.6/site-packages (from tensorflow<2.0,>=1.15.2) (2.10.0)\n",
      "Requirement already satisfied: grpcio>=1.8.6 in /Users/dmitriystupakov/.conda/envs/pythonProject11/lib/python3.6/site-packages (from tensorflow<2.0,>=1.15.2) (1.48.2)\n",
      "Requirement already satisfied: absl-py>=0.7.0 in /Users/dmitriystupakov/.conda/envs/pythonProject11/lib/python3.6/site-packages (from tensorflow<2.0,>=1.15.2) (1.3.0)\n",
      "Requirement already satisfied: wrapt>=1.11.1 in /Users/dmitriystupakov/.conda/envs/pythonProject11/lib/python3.6/site-packages (from tensorflow<2.0,>=1.15.2) (1.14.1)\n",
      "Requirement already satisfied: termcolor>=1.1.0 in /Users/dmitriystupakov/.conda/envs/pythonProject11/lib/python3.6/site-packages (from tensorflow<2.0,>=1.15.2) (1.1.0)\n",
      "Requirement already satisfied: gast==0.2.2 in /Users/dmitriystupakov/.conda/envs/pythonProject11/lib/python3.6/site-packages (from tensorflow<2.0,>=1.15.2) (0.2.2)\n",
      "Requirement already satisfied: opt-einsum>=2.3.2 in /Users/dmitriystupakov/.conda/envs/pythonProject11/lib/python3.6/site-packages (from tensorflow<2.0,>=1.15.2) (3.3.0)\n",
      "Requirement already satisfied: tensorflow-estimator==1.15.1 in /Users/dmitriystupakov/.conda/envs/pythonProject11/lib/python3.6/site-packages (from tensorflow<2.0,>=1.15.2) (1.15.1)\n",
      "Requirement already satisfied: wheel>=0.26 in /Users/dmitriystupakov/.conda/envs/pythonProject11/lib/python3.6/site-packages (from tensorflow<2.0,>=1.15.2) (0.37.1)\n",
      "Requirement already satisfied: google-pasta>=0.1.6 in /Users/dmitriystupakov/.conda/envs/pythonProject11/lib/python3.6/site-packages (from tensorflow<2.0,>=1.15.2) (0.2.0)\n",
      "Requirement already satisfied: keras-applications>=1.0.8 in /Users/dmitriystupakov/.conda/envs/pythonProject11/lib/python3.6/site-packages (from tensorflow<2.0,>=1.15.2) (1.0.8)\n",
      "Requirement already satisfied: keras-preprocessing>=1.0.5 in /Users/dmitriystupakov/.conda/envs/pythonProject11/lib/python3.6/site-packages (from tensorflow<2.0,>=1.15.2) (1.1.2)\n",
      "Requirement already satisfied: pytest>=3.5.1 in /Users/dmitriystupakov/.conda/envs/pythonProject11/lib/python3.6/site-packages (from ampligraph) (7.0.1)\n",
      "Requirement already satisfied: sphinxcontrib-bibtex==0.4.2 in /Users/dmitriystupakov/.conda/envs/pythonProject11/lib/python3.6/site-packages (from ampligraph) (0.4.2)\n",
      "Requirement already satisfied: scipy>=1.3.0 in /Users/dmitriystupakov/.conda/envs/pythonProject11/lib/python3.6/site-packages (from ampligraph) (1.5.4)\n",
      "Requirement already satisfied: setuptools>=36 in /Users/dmitriystupakov/.conda/envs/pythonProject11/lib/python3.6/site-packages (from ampligraph) (58.0.4)\n",
      "Requirement already satisfied: scikit-learn>=0.19.1 in /Users/dmitriystupakov/.conda/envs/pythonProject11/lib/python3.6/site-packages (from ampligraph) (0.24.2)\n",
      "Requirement already satisfied: pyyaml>=3.13 in /Users/dmitriystupakov/.conda/envs/pythonProject11/lib/python3.6/site-packages (from ampligraph) (6.0)\n",
      "Requirement already satisfied: tqdm>=4.23.4 in /Users/dmitriystupakov/.conda/envs/pythonProject11/lib/python3.6/site-packages (from ampligraph) (4.64.1)\n",
      "Requirement already satisfied: beautifultable>=0.7.0 in /Users/dmitriystupakov/.conda/envs/pythonProject11/lib/python3.6/site-packages (from ampligraph) (1.1.0)\n",
      "Requirement already satisfied: rdflib>=4.2.2 in /Users/dmitriystupakov/.conda/envs/pythonProject11/lib/python3.6/site-packages (from ampligraph) (5.0.0)\n",
      "Requirement already satisfied: networkx>=2.3 in /Users/dmitriystupakov/.conda/envs/pythonProject11/lib/python3.6/site-packages (from ampligraph) (2.5.1)\n",
      "Requirement already satisfied: pandas>=0.23.1 in /Users/dmitriystupakov/.conda/envs/pythonProject11/lib/python3.6/site-packages (from ampligraph) (1.1.5)\n",
      "Requirement already satisfied: sphinx-rtd-theme==0.4.3 in /Users/dmitriystupakov/.conda/envs/pythonProject11/lib/python3.6/site-packages (from ampligraph) (0.4.3)\n",
      "Requirement already satisfied: recommonmark==0.4.0 in /Users/dmitriystupakov/.conda/envs/pythonProject11/lib/python3.6/site-packages (from ampligraph) (0.4.0)\n",
      "Requirement already satisfied: flake8>=3.7.7 in /Users/dmitriystupakov/.conda/envs/pythonProject11/lib/python3.6/site-packages (from ampligraph) (5.0.4)\n",
      "Requirement already satisfied: sphinx<3,>=2.2 in /Users/dmitriystupakov/.conda/envs/pythonProject11/lib/python3.6/site-packages (from ampligraph) (2.4.5)\n",
      "Requirement already satisfied: commonmark<=0.5.4 in /Users/dmitriystupakov/.conda/envs/pythonProject11/lib/python3.6/site-packages (from recommonmark==0.4.0->ampligraph) (0.5.4)\n",
      "Requirement already satisfied: docutils>=0.11 in /Users/dmitriystupakov/.conda/envs/pythonProject11/lib/python3.6/site-packages (from recommonmark==0.4.0->ampligraph) (0.17.1)\n",
      "Requirement already satisfied: pybtex>=0.20 in /Users/dmitriystupakov/.conda/envs/pythonProject11/lib/python3.6/site-packages (from sphinxcontrib-bibtex==0.4.2->ampligraph) (0.24.0)\n",
      "Requirement already satisfied: oset>=0.1.3 in /Users/dmitriystupakov/.conda/envs/pythonProject11/lib/python3.6/site-packages (from sphinxcontrib-bibtex==0.4.2->ampligraph) (0.1.3)\n",
      "Requirement already satisfied: pybtex-docutils>=0.2.0 in /Users/dmitriystupakov/.conda/envs/pythonProject11/lib/python3.6/site-packages (from sphinxcontrib-bibtex==0.4.2->ampligraph) (1.0.2)\n",
      "Requirement already satisfied: wcwidth in /Users/dmitriystupakov/.conda/envs/pythonProject11/lib/python3.6/site-packages (from beautifultable>=0.7.0->ampligraph) (0.2.5)\n",
      "Requirement already satisfied: pyflakes<2.6.0,>=2.5.0 in /Users/dmitriystupakov/.conda/envs/pythonProject11/lib/python3.6/site-packages (from flake8>=3.7.7->ampligraph) (2.5.0)\n",
      "Requirement already satisfied: mccabe<0.8.0,>=0.7.0 in /Users/dmitriystupakov/.conda/envs/pythonProject11/lib/python3.6/site-packages (from flake8>=3.7.7->ampligraph) (0.7.0)\n",
      "Requirement already satisfied: pycodestyle<2.10.0,>=2.9.0 in /Users/dmitriystupakov/.conda/envs/pythonProject11/lib/python3.6/site-packages (from flake8>=3.7.7->ampligraph) (2.9.1)\n",
      "Requirement already satisfied: importlib-metadata<4.3,>=1.1.0 in /Users/dmitriystupakov/.conda/envs/pythonProject11/lib/python3.6/site-packages (from flake8>=3.7.7->ampligraph) (4.2.0)\n",
      "Requirement already satisfied: typing-extensions>=3.6.4 in /Users/dmitriystupakov/.conda/envs/pythonProject11/lib/python3.6/site-packages (from importlib-metadata<4.3,>=1.1.0->flake8>=3.7.7->ampligraph) (4.1.1)\n",
      "Requirement already satisfied: zipp>=0.5 in /Users/dmitriystupakov/.conda/envs/pythonProject11/lib/python3.6/site-packages (from importlib-metadata<4.3,>=1.1.0->flake8>=3.7.7->ampligraph) (3.6.0)\n",
      "Requirement already satisfied: decorator<5,>=4.3 in /Users/dmitriystupakov/.conda/envs/pythonProject11/lib/python3.6/site-packages (from networkx>=2.3->ampligraph) (4.4.2)\n",
      "Requirement already satisfied: python-dateutil>=2.7.3 in /Users/dmitriystupakov/.conda/envs/pythonProject11/lib/python3.6/site-packages (from pandas>=0.23.1->ampligraph) (2.8.2)\n",
      "Requirement already satisfied: pytz>=2017.2 in /Users/dmitriystupakov/.conda/envs/pythonProject11/lib/python3.6/site-packages (from pandas>=0.23.1->ampligraph) (2022.7)\n",
      "Requirement already satisfied: latexcodec>=1.0.4 in /Users/dmitriystupakov/.conda/envs/pythonProject11/lib/python3.6/site-packages (from pybtex>=0.20->sphinxcontrib-bibtex==0.4.2->ampligraph) (2.0.1)\n",
      "Requirement already satisfied: iniconfig in /Users/dmitriystupakov/.conda/envs/pythonProject11/lib/python3.6/site-packages (from pytest>=3.5.1->ampligraph) (1.1.1)\n",
      "Requirement already satisfied: pluggy<2.0,>=0.12 in /Users/dmitriystupakov/.conda/envs/pythonProject11/lib/python3.6/site-packages (from pytest>=3.5.1->ampligraph) (1.0.0)\n",
      "Requirement already satisfied: packaging in /Users/dmitriystupakov/.conda/envs/pythonProject11/lib/python3.6/site-packages (from pytest>=3.5.1->ampligraph) (21.3)\n",
      "Requirement already satisfied: py>=1.8.2 in /Users/dmitriystupakov/.conda/envs/pythonProject11/lib/python3.6/site-packages (from pytest>=3.5.1->ampligraph) (1.11.0)\n",
      "Requirement already satisfied: attrs>=19.2.0 in /Users/dmitriystupakov/.conda/envs/pythonProject11/lib/python3.6/site-packages (from pytest>=3.5.1->ampligraph) (22.2.0)\n",
      "Requirement already satisfied: tomli>=1.0.0 in /Users/dmitriystupakov/.conda/envs/pythonProject11/lib/python3.6/site-packages (from pytest>=3.5.1->ampligraph) (1.2.3)\n",
      "Requirement already satisfied: pyparsing in /Users/dmitriystupakov/.conda/envs/pythonProject11/lib/python3.6/site-packages (from rdflib>=4.2.2->ampligraph) (3.0.9)\n",
      "Requirement already satisfied: isodate in /Users/dmitriystupakov/.conda/envs/pythonProject11/lib/python3.6/site-packages (from rdflib>=4.2.2->ampligraph) (0.6.1)\n",
      "Requirement already satisfied: joblib>=0.11 in /Users/dmitriystupakov/.conda/envs/pythonProject11/lib/python3.6/site-packages (from scikit-learn>=0.19.1->ampligraph) (1.1.1)\n",
      "Requirement already satisfied: threadpoolctl>=2.0.0 in /Users/dmitriystupakov/.conda/envs/pythonProject11/lib/python3.6/site-packages (from scikit-learn>=0.19.1->ampligraph) (3.1.0)\n",
      "Requirement already satisfied: requests>=2.5.0 in /Users/dmitriystupakov/.conda/envs/pythonProject11/lib/python3.6/site-packages (from sphinx<3,>=2.2->ampligraph) (2.27.1)\n",
      "Requirement already satisfied: sphinxcontrib-htmlhelp in /Users/dmitriystupakov/.conda/envs/pythonProject11/lib/python3.6/site-packages (from sphinx<3,>=2.2->ampligraph) (2.0.0)\n",
      "Requirement already satisfied: babel!=2.0,>=1.3 in /Users/dmitriystupakov/.conda/envs/pythonProject11/lib/python3.6/site-packages (from sphinx<3,>=2.2->ampligraph) (2.11.0)\n",
      "Requirement already satisfied: sphinxcontrib-devhelp in /Users/dmitriystupakov/.conda/envs/pythonProject11/lib/python3.6/site-packages (from sphinx<3,>=2.2->ampligraph) (1.0.2)\n",
      "Requirement already satisfied: Pygments>=2.0 in /Users/dmitriystupakov/.conda/envs/pythonProject11/lib/python3.6/site-packages (from sphinx<3,>=2.2->ampligraph) (2.13.0)\n",
      "Requirement already satisfied: snowballstemmer>=1.1 in /Users/dmitriystupakov/.conda/envs/pythonProject11/lib/python3.6/site-packages (from sphinx<3,>=2.2->ampligraph) (2.2.0)\n",
      "Requirement already satisfied: sphinxcontrib-qthelp in /Users/dmitriystupakov/.conda/envs/pythonProject11/lib/python3.6/site-packages (from sphinx<3,>=2.2->ampligraph) (1.0.3)\n",
      "Requirement already satisfied: alabaster<0.8,>=0.7 in /Users/dmitriystupakov/.conda/envs/pythonProject11/lib/python3.6/site-packages (from sphinx<3,>=2.2->ampligraph) (0.7.12)\n",
      "Requirement already satisfied: sphinxcontrib-applehelp in /Users/dmitriystupakov/.conda/envs/pythonProject11/lib/python3.6/site-packages (from sphinx<3,>=2.2->ampligraph) (1.0.2)\n",
      "Requirement already satisfied: imagesize in /Users/dmitriystupakov/.conda/envs/pythonProject11/lib/python3.6/site-packages (from sphinx<3,>=2.2->ampligraph) (1.4.1)\n",
      "Requirement already satisfied: sphinxcontrib-serializinghtml in /Users/dmitriystupakov/.conda/envs/pythonProject11/lib/python3.6/site-packages (from sphinx<3,>=2.2->ampligraph) (1.1.5)\n",
      "Requirement already satisfied: Jinja2>=2.3 in /Users/dmitriystupakov/.conda/envs/pythonProject11/lib/python3.6/site-packages (from sphinx<3,>=2.2->ampligraph) (3.0.3)\n",
      "Requirement already satisfied: sphinxcontrib-jsmath in /Users/dmitriystupakov/.conda/envs/pythonProject11/lib/python3.6/site-packages (from sphinx<3,>=2.2->ampligraph) (1.0.1)\n",
      "Requirement already satisfied: MarkupSafe>=2.0 in /Users/dmitriystupakov/.conda/envs/pythonProject11/lib/python3.6/site-packages (from Jinja2>=2.3->sphinx<3,>=2.2->ampligraph) (2.0.1)\n",
      "Requirement already satisfied: urllib3<1.27,>=1.21.1 in /Users/dmitriystupakov/.conda/envs/pythonProject11/lib/python3.6/site-packages (from requests>=2.5.0->sphinx<3,>=2.2->ampligraph) (1.26.13)\n",
      "Requirement already satisfied: charset-normalizer~=2.0.0 in /Users/dmitriystupakov/.conda/envs/pythonProject11/lib/python3.6/site-packages (from requests>=2.5.0->sphinx<3,>=2.2->ampligraph) (2.0.12)\n",
      "Requirement already satisfied: certifi>=2017.4.17 in /Users/dmitriystupakov/.conda/envs/pythonProject11/lib/python3.6/site-packages (from requests>=2.5.0->sphinx<3,>=2.2->ampligraph) (2021.5.30)\n",
      "Requirement already satisfied: idna<4,>=2.5 in /Users/dmitriystupakov/.conda/envs/pythonProject11/lib/python3.6/site-packages (from requests>=2.5.0->sphinx<3,>=2.2->ampligraph) (3.4)\n",
      "Requirement already satisfied: markdown>=2.6.8 in /Users/dmitriystupakov/.conda/envs/pythonProject11/lib/python3.6/site-packages (from tensorboard<1.16.0,>=1.15.0->tensorflow<2.0,>=1.15.2) (3.3.4)\n",
      "Requirement already satisfied: werkzeug>=0.11.15 in /Users/dmitriystupakov/.conda/envs/pythonProject11/lib/python3.6/site-packages (from tensorboard<1.16.0,>=1.15.0->tensorflow<2.0,>=1.15.2) (2.0.3)\n",
      "Requirement already satisfied: importlib-resources in /Users/dmitriystupakov/.conda/envs/pythonProject11/lib/python3.6/site-packages (from tqdm>=4.23.4->ampligraph) (5.4.0)\n",
      "Requirement already satisfied: dataclasses in /Users/dmitriystupakov/.conda/envs/pythonProject11/lib/python3.6/site-packages (from werkzeug>=0.11.15->tensorboard<1.16.0,>=1.15.0->tensorflow<2.0,>=1.15.2) (0.8)\n"
     ]
    }
   ],
   "source": [
    "!pip install \"tensorflow>=1.15.2,<2.0\" ampligraph"
   ]
  },
  {
   "cell_type": "code",
   "execution_count": 486,
   "id": "4fc6cced",
   "metadata": {},
   "outputs": [
    {
     "data": {
      "text/plain": [
       "'1.4.0'"
      ]
     },
     "execution_count": 486,
     "metadata": {},
     "output_type": "execute_result"
    }
   ],
   "source": [
    "import numpy as np\n",
    "import pandas as pd\n",
    "import ampligraph\n",
    "\n",
    "ampligraph.__version__"
   ]
  },
  {
   "cell_type": "code",
   "execution_count": 487,
   "id": "14e3b9d8",
   "metadata": {},
   "outputs": [],
   "source": [
    "import tensorflow as tf"
   ]
  },
  {
   "cell_type": "code",
   "execution_count": 488,
   "id": "c11b9376",
   "metadata": {
    "scrolled": true
   },
   "outputs": [],
   "source": [
    "data_set = 'heroes_data.csv'\n",
    "df = pd.read_csv(data_set)"
   ]
  },
  {
   "cell_type": "code",
   "execution_count": 489,
   "id": "8b5dba08",
   "metadata": {},
   "outputs": [
    {
     "data": {
      "text/plain": [
       "Unnamed: 0           0\n",
       "id                   0\n",
       "name                 0\n",
       "localized_name       0\n",
       "primary_attr         0\n",
       "attack_type          0\n",
       "roles                0\n",
       "img                  0\n",
       "icon                 0\n",
       "base_health          0\n",
       "base_health_regen    0\n",
       "base_mana            0\n",
       "base_mana_regen      0\n",
       "base_armor           0\n",
       "base_mr              0\n",
       "base_attack_min      0\n",
       "base_attack_max      0\n",
       "base_str             0\n",
       "base_agi             0\n",
       "base_int             0\n",
       "str_gain             0\n",
       "agi_gain             0\n",
       "int_gain             0\n",
       "attack_range         0\n",
       "projectile_speed     0\n",
       "attack_rate          0\n",
       "move_speed           0\n",
       "turn_rate            0\n",
       "cm_enabled           0\n",
       "legs                 0\n",
       "hero_id              0\n",
       "turbo_picks          0\n",
       "turbo_wins           0\n",
       "pro_ban              0\n",
       "pro_win              0\n",
       "pro_pick             0\n",
       "1_pick               0\n",
       "1_win                0\n",
       "2_pick               0\n",
       "2_win                0\n",
       "3_pick               0\n",
       "3_win                0\n",
       "4_pick               0\n",
       "4_win                0\n",
       "5_pick               0\n",
       "5_win                0\n",
       "6_pick               0\n",
       "6_win                0\n",
       "7_pick               0\n",
       "7_win                0\n",
       "8_pick               0\n",
       "8_win                0\n",
       "winrate              0\n",
       "lane                 0\n",
       "main_role            0\n",
       "dtype: int64"
      ]
     },
     "execution_count": 489,
     "metadata": {},
     "output_type": "execute_result"
    }
   ],
   "source": [
    "df.isna().sum()"
   ]
  },
  {
   "cell_type": "markdown",
   "id": "c4a0d884",
   "metadata": {},
   "source": []
  },
  {
   "cell_type": "code",
   "execution_count": 490,
   "id": "1fb08f96",
   "metadata": {},
   "outputs": [
    {
     "data": {
      "text/plain": [
       "True     109\n",
       "False     11\n",
       "Name: train, dtype: int64"
      ]
     },
     "execution_count": 490,
     "metadata": {},
     "output_type": "execute_result"
    }
   ],
   "source": [
    "# Тестовый набор это герои у кого 2 и менее ноги, учебный набор - это герои с большим количеством ног\n",
    "df[\"train\"] = df.legs < 3\n",
    "df.train.value_counts()"
   ]
  },
  {
   "cell_type": "code",
   "execution_count": 491,
   "id": "18a8f842",
   "metadata": {},
   "outputs": [
    {
     "data": {
      "text/plain": [
       "['Unnamed: 0',\n",
       " 'id',\n",
       " 'name',\n",
       " 'localized_name',\n",
       " 'primary_attr',\n",
       " 'attack_type',\n",
       " 'roles',\n",
       " 'img',\n",
       " 'icon',\n",
       " 'base_health',\n",
       " 'base_health_regen',\n",
       " 'base_mana',\n",
       " 'base_mana_regen',\n",
       " 'base_armor',\n",
       " 'base_mr',\n",
       " 'base_attack_min',\n",
       " 'base_attack_max',\n",
       " 'base_str',\n",
       " 'base_agi',\n",
       " 'base_int',\n",
       " 'str_gain',\n",
       " 'agi_gain',\n",
       " 'int_gain',\n",
       " 'attack_range',\n",
       " 'projectile_speed',\n",
       " 'attack_rate',\n",
       " 'move_speed',\n",
       " 'turn_rate',\n",
       " 'cm_enabled',\n",
       " 'legs',\n",
       " 'hero_id',\n",
       " 'turbo_picks',\n",
       " 'turbo_wins',\n",
       " 'pro_ban',\n",
       " 'pro_win',\n",
       " 'pro_pick',\n",
       " '1_pick',\n",
       " '1_win',\n",
       " '2_pick',\n",
       " '2_win',\n",
       " '3_pick',\n",
       " '3_win',\n",
       " '4_pick',\n",
       " '4_win',\n",
       " '5_pick',\n",
       " '5_win',\n",
       " '6_pick',\n",
       " '6_win',\n",
       " '7_pick',\n",
       " '7_win',\n",
       " '8_pick',\n",
       " '8_win',\n",
       " 'winrate',\n",
       " 'lane',\n",
       " 'main_role',\n",
       " 'train',\n",
       " 'name_id',\n",
       " 'attr_id',\n",
       " 'attack_type_id',\n",
       " 'main_role_id']"
      ]
     },
     "execution_count": 491,
     "metadata": {},
     "output_type": "execute_result"
    }
   ],
   "source": [
    "# Entities naming\n",
    "df[\"id\"] = df.index.values.astype(str)\n",
    "df[\"hero_id\"] =  \"Hero\" + df.id\n",
    "df[\"name_id\"] =  \"Name\" + df.localized_name.str.title().str.replace(\" \", \"\").str.replace(\"-\", \"\")\n",
    "df[\"attr_id\"] =  \"Attr\" + df.primary_attr.str.title().str.capitalize()\n",
    "df[\"attack_type_id\"] = \"AttackType\" + df.attack_type.str.title()\n",
    "df[\"main_role_id\"] = \"MainRole\" + df.main_role.str.title().str.capitalize().str.replace(\"_\", \"\")\n",
    "list(df.columns)\n",
    "\n",
    "\n"
   ]
  },
  {
   "cell_type": "code",
   "execution_count": 492,
   "id": "c7c7ecc5",
   "metadata": {},
   "outputs": [],
   "source": [
    "triples = []\n",
    "for _, row in df[df[\"train\"]].iterrows():\n",
    "    # object properties\n",
    "    hero_name = (row[\"hero_id\"], \"hasName\", row[\"name_id\"])\n",
    "    hero_attr = (row[\"hero_id\"], \"hasAttribute\", row[\"attr_id\"])\n",
    "    hero_attack_type = (row[\"hero_id\"], \"hasAttackType\", row[\"attack_type_id\"])\n",
    "    main_role = (row[\"hero_id\"], \"hasMainRole\", row[\"main_role_id\"])\n",
    "    # value properties\n",
    "    base_health = (row[\"hero_id\"], \"baseHealth\", int(row[\"base_health\"]))\n",
    "    base_health_regen = (row[\"hero_id\"], \"baseHealthRegen\", float(row[\"base_health_regen\"]))\n",
    "    base_mana = (row[\"hero_id\"], \"baseMana\", int(row[\"base_mana\"]))\n",
    "    base_mana_regen = (row[\"hero_id\"], \"baseManaRegen\", float(row[\"base_mana_regen\"]))\n",
    "    base_armor = (row[\"hero_id\"], \"baseArmor\", float(row[\"base_armor\"]))\n",
    "    base_attack_min = (row[\"hero_id\"], \"baseAttackMin\", int(row[\"base_attack_min\"]))\n",
    "    base_attack_max = (row[\"hero_id\"], \"baseAttackMax\", int(row[\"base_attack_max\"]))\n",
    "    base_str = (row[\"hero_id\"], \"baseStr\", int(row[\"base_str\"]))\n",
    "    base_agi = (row[\"hero_id\"], \"baseAgi\", int(row[\"base_agi\"]))\n",
    "    base_int = (row[\"hero_id\"], \"baseInt\", int(row[\"base_int\"]))\n",
    "    str_gain = (row[\"hero_id\"], \"strGain\", float(row[\"str_gain\"]))\n",
    "    agi_gain = (row[\"hero_id\"], \"agiGain\", float(row[\"agi_gain\"]))\n",
    "    int_gain = (row[\"hero_id\"], \"intGain\", float(row[\"int_gain\"]))\n",
    "    attack_range = (row[\"hero_id\"], \"attackRange\", int(row[\"attack_range\"]))\n",
    "    projectile_speed = (row[\"hero_id\"], \"projectileSpeed\", int(row[\"projectile_speed\"]))\n",
    "    attack_rate = (row[\"hero_id\"], \"attackRate\", float(row[\"attack_rate\"]))\n",
    "    move_speed = (row[\"hero_id\"], \"moveSpeed\", int(row[\"move_speed\"]))\n",
    "    turn_rate = (row[\"hero_id\"], \"turnRate\", float(row[\"turn_rate\"]))\n",
    "    legs = (row[\"hero_id\"], \"legs\", int(row[\"legs\"]))\n",
    "    picks = (row[\"hero_id\"], \"picks\", int(row[\"turbo_picks\"]))  \n",
    "    wins = (row[\"hero_id\"], \"wins\", int(row[\"turbo_wins\"]))\n",
    "    winrate = (row[\"hero_id\"], \"winrate\", float(row[\"winrate\"]))\n",
    "    \n",
    "    triples.extend((hero_name, hero_attr, hero_attack_type, main_role, base_health, base_health_regen, base_mana, base_mana_regen,\n",
    "                   base_armor, base_attack_min, base_attack_max, base_str, base_agi, base_int, str_gain,\n",
    "                   agi_gain, int_gain, attack_range, projectile_speed, attack_rate, move_speed,\n",
    "                   turn_rate, legs, picks, wins, winrate))\n",
    "                           \n",
    "                       \n",
    "                       \n",
    "    \n",
    "    \n",
    "    \n",
    "    \n",
    "    "
   ]
  },
  {
   "cell_type": "raw",
   "id": "da55c460",
   "metadata": {},
   "source": []
  },
  {
   "cell_type": "code",
   "execution_count": 493,
   "id": "26f4988d",
   "metadata": {},
   "outputs": [
    {
     "data": {
      "text/plain": [
       "2834"
      ]
     },
     "execution_count": 493,
     "metadata": {},
     "output_type": "execute_result"
    }
   ],
   "source": [
    "triples_df = pd.DataFrame(triples, columns=[\"subject\", \"predicate\", \"object\"])\n",
    "len(triples_df)"
   ]
  },
  {
   "cell_type": "code",
   "execution_count": 494,
   "id": "7ccb5cf9",
   "metadata": {},
   "outputs": [],
   "source": [
    "from ampligraph.evaluation import train_test_split_no_unseen \n",
    "\n",
    "X_train, X_valid = train_test_split_no_unseen(np.array(triples), test_size=1000)"
   ]
  },
  {
   "cell_type": "code",
   "execution_count": 495,
   "id": "8a8514c1",
   "metadata": {},
   "outputs": [
    {
     "name": "stdout",
     "output_type": "stream",
     "text": [
      "Train set size:  (1834, 3)\n",
      "Test set size:  (1000, 3)\n"
     ]
    }
   ],
   "source": [
    "print('Train set size: ', X_train.shape)\n",
    "print('Test set size: ', X_valid.shape)"
   ]
  },
  {
   "cell_type": "code",
   "execution_count": 496,
   "id": "7f9b3abe",
   "metadata": {},
   "outputs": [],
   "source": [
    "from ampligraph.latent_features import ComplEx\n",
    "\n",
    "model = ComplEx(batches_count=50,\n",
    "                epochs=300,\n",
    "                k=100,\n",
    "                eta=20,\n",
    "                optimizer='adam', \n",
    "                optimizer_params={'lr':1e-4},\n",
    "                loss='multiclass_nll',\n",
    "                regularizer='LP', \n",
    "                regularizer_params={'p':3, 'lambda':1e-5}, \n",
    "                seed=0, \n",
    "                verbose=True)"
   ]
  },
  {
   "cell_type": "code",
   "execution_count": 497,
   "id": "6545e4a8",
   "metadata": {},
   "outputs": [
    {
     "name": "stderr",
     "output_type": "stream",
     "text": [
      "Average ComplEx Loss:   0.225842: 100%|██████████| 300/300 [00:46<00:00,  6.40epoch/s]\n"
     ]
    }
   ],
   "source": [
    "import tensorflow as tf\n",
    "tf.logging.set_verbosity(tf.logging.ERROR)\n",
    "\n",
    "model.fit(X_train)"
   ]
  },
  {
   "cell_type": "code",
   "execution_count": 498,
   "id": "e4dcc745",
   "metadata": {},
   "outputs": [],
   "source": [
    "filter_triples = np.concatenate((X_train, X_valid))"
   ]
  },
  {
   "cell_type": "code",
   "execution_count": 499,
   "id": "1608bb65",
   "metadata": {},
   "outputs": [
    {
     "name": "stdout",
     "output_type": "stream",
     "text": [
      "WARNING - DeprecationWarning: use_default_protocol will be removed in future. Please use corrupt_side argument instead.\n"
     ]
    },
    {
     "name": "stderr",
     "output_type": "stream",
     "text": [
      "100%|██████████| 1000/1000 [00:01<00:00, 553.86it/s]\n"
     ]
    }
   ],
   "source": [
    "from ampligraph.evaluation import evaluate_performance\n",
    "\n",
    "ranks = evaluate_performance(X_valid,\n",
    "                             model=model, \n",
    "                             filter_triples=filter_triples,\n",
    "                             use_default_protocol=True,\n",
    "                             verbose=True)"
   ]
  },
  {
   "cell_type": "markdown",
   "id": "4d3b8def",
   "metadata": {},
   "source": [
    "Мы собираемся использовать функции mrr_score (средний обратный рейтинг) и hits_at_n_score.\n",
    "mrr_score: функция вычисляет среднее значение обратной величины элементов вектора ранжирования.\n",
    "hits_at_n_score: функция вычисляет, сколько элементов вектора ранжирования занимают первые n позиций."
   ]
  },
  {
   "cell_type": "code",
   "execution_count": 500,
   "id": "bf7c47a2",
   "metadata": {},
   "outputs": [
    {
     "name": "stdout",
     "output_type": "stream",
     "text": [
      "MRR: 0.37\n",
      "MR: 25.83\n",
      "Hits@10: 0.57\n",
      "Hits@3: 0.39\n",
      "Hits@1: 0.28\n"
     ]
    }
   ],
   "source": [
    "from ampligraph.evaluation import mr_score, mrr_score, hits_at_n_score\n",
    "\n",
    "mr = mr_score(ranks)\n",
    "mrr = mrr_score(ranks)\n",
    "\n",
    "print(\"MRR: %.2f\" % (mrr))\n",
    "print(\"MR: %.2f\" % (mr))\n",
    "\n",
    "hits_10 = hits_at_n_score(ranks, n=10)\n",
    "print(\"Hits@10: %.2f\" % (hits_10))\n",
    "hits_3 = hits_at_n_score(ranks, n=3)\n",
    "print(\"Hits@3: %.2f\" % (hits_3))\n",
    "hits_1 = hits_at_n_score(ranks, n=1)\n",
    "print(\"Hits@1: %.2f\" % (hits_1))"
   ]
  },
  {
   "cell_type": "code",
   "execution_count": 40,
   "id": "2e01eaa4",
   "metadata": {},
   "outputs": [
    {
     "name": "stdout",
     "output_type": "stream",
     "text": [
      "Клонирование в «incf.countryutils»...\n",
      "remote: Enumerating objects: 132, done.\u001b[K\n",
      "remote: Counting objects: 100% (45/45), done.\u001b[K\n",
      "remote: Compressing objects: 100% (27/27), done.\u001b[K\n",
      "remote: Total 132 (delta 20), reused 39 (delta 16), pack-reused 87\u001b[K\n",
      "Получение объектов: 100% (132/132), 66.24 КиБ | 1.08 МиБ/с, готово.\n",
      "Определение изменений: 100% (58/58), готово.\n",
      "\u001b[31mERROR: You must give at least one requirement to install (see \"pip help install\")\u001b[0m\n"
     ]
    }
   ],
   "source": [
    "!git clone https://github.com/wyldebeast-wunderliebe/incf.countryutils.git\n"
   ]
  },
  {
   "cell_type": "code",
   "execution_count": 43,
   "id": "044dd3c1",
   "metadata": {},
   "outputs": [
    {
     "name": "stdout",
     "output_type": "stream",
     "text": [
      "Processing /Users/dmitriystupakov/PycharmProjects/pythonProject11/incf.countryutils\n",
      "\u001b[33m  DEPRECATION: A future pip version will change local packages to be built in-place without first copying to a temporary directory. We recommend you use --use-feature=in-tree-build to test your packages with this new behavior before it becomes the default.\n",
      "   pip 21.3 will remove support for this functionality. You can find discussion regarding this at https://github.com/pypa/pip/issues/7555.\u001b[0m\n",
      "Requirement already satisfied: setuptools in /Users/dmitriystupakov/.conda/envs/pythonProject11/lib/python3.6/site-packages (from incf.countryutils==1.2) (58.0.4)\n",
      "Building wheels for collected packages: incf.countryutils\n",
      "  Building wheel for incf.countryutils (setup.py) ... \u001b[?25ldone\n",
      "\u001b[?25h  Created wheel for incf.countryutils: filename=incf.countryutils-1.2-py3-none-any.whl size=21662 sha256=144c07855f5da78f443938285488bd9d3f7b8af3a1d51efdf74f03c9085d30a4\n",
      "  Stored in directory: /private/var/folders/l3/h4yqh7751wn_ztwyp5n3w77w0000gn/T/pip-ephem-wheel-cache-93iyccy4/wheels/40/31/4a/09e544221eacef6707c10f7cb0317a12b05eee4f280a73f556\n",
      "Successfully built incf.countryutils\n",
      "Installing collected packages: incf.countryutils\n",
      "Successfully installed incf.countryutils-1.2\n"
     ]
    }
   ],
   "source": [
    "!cd incf.countryutils && pip install ."
   ]
  },
  {
   "cell_type": "code",
   "execution_count": 44,
   "id": "506170da",
   "metadata": {},
   "outputs": [
    {
     "name": "stdout",
     "output_type": "stream",
     "text": [
      "Collecting adjustText\n",
      "  Downloading adjustText-0.7.3.tar.gz (7.5 kB)\n",
      "Requirement already satisfied: numpy in /Users/dmitriystupakov/.conda/envs/pythonProject11/lib/python3.6/site-packages (from adjustText) (1.18.5)\n",
      "Collecting matplotlib\n",
      "  Downloading matplotlib-3.3.4-cp36-cp36m-macosx_10_9_x86_64.whl (8.5 MB)\n",
      "\u001b[K     |████████████████████████████████| 8.5 MB 2.1 MB/s eta 0:00:01\n",
      "\u001b[?25hCollecting cycler>=0.10\n",
      "  Using cached cycler-0.11.0-py3-none-any.whl (6.4 kB)\n",
      "Collecting kiwisolver>=1.0.1\n",
      "  Downloading kiwisolver-1.3.1-cp36-cp36m-macosx_10_9_x86_64.whl (61 kB)\n",
      "\u001b[K     |████████████████████████████████| 61 kB 2.7 MB/s eta 0:00:011\n",
      "\u001b[?25hRequirement already satisfied: pyparsing!=2.0.4,!=2.1.2,!=2.1.6,>=2.0.3 in /Users/dmitriystupakov/.conda/envs/pythonProject11/lib/python3.6/site-packages (from matplotlib->adjustText) (3.0.9)\n",
      "Collecting pillow>=6.2.0\n",
      "  Downloading Pillow-8.4.0-cp36-cp36m-macosx_10_10_x86_64.whl (3.0 MB)\n",
      "\u001b[K     |████████████████████████████████| 3.0 MB 5.9 MB/s eta 0:00:01\n",
      "\u001b[?25hRequirement already satisfied: python-dateutil>=2.1 in /Users/dmitriystupakov/.conda/envs/pythonProject11/lib/python3.6/site-packages (from matplotlib->adjustText) (2.8.2)\n",
      "Requirement already satisfied: six>=1.5 in /Users/dmitriystupakov/.conda/envs/pythonProject11/lib/python3.6/site-packages (from python-dateutil>=2.1->matplotlib->adjustText) (1.16.0)\n",
      "Building wheels for collected packages: adjustText\n",
      "  Building wheel for adjustText (setup.py) ... \u001b[?25ldone\n",
      "\u001b[?25h  Created wheel for adjustText: filename=adjustText-0.7.3-py3-none-any.whl size=7097 sha256=80b77d1ff8b07f194f9a6dd0a7607c9d480852f074a1c1c0d1e660fbe1fd4517\n",
      "  Stored in directory: /Users/dmitriystupakov/Library/Caches/pip/wheels/70/86/f9/89161c891b07f90e2b15b5e4b6dfe70cc8f54c5ef26c0116f1\n",
      "Successfully built adjustText\n",
      "Installing collected packages: pillow, kiwisolver, cycler, matplotlib, adjustText\n",
      "Successfully installed adjustText-0.7.3 cycler-0.11.0 kiwisolver-1.3.1 matplotlib-3.3.4 pillow-8.4.0\n"
     ]
    }
   ],
   "source": [
    "!pip install adjustText"
   ]
  },
  {
   "cell_type": "code",
   "execution_count": 47,
   "id": "68824f94",
   "metadata": {},
   "outputs": [
    {
     "name": "stdout",
     "output_type": "stream",
     "text": [
      "Collecting seaborn\n",
      "  Using cached seaborn-0.11.2-py3-none-any.whl (292 kB)\n",
      "Requirement already satisfied: scipy>=1.0 in /Users/dmitriystupakov/.conda/envs/pythonProject11/lib/python3.6/site-packages (from seaborn) (1.5.4)\n",
      "Requirement already satisfied: matplotlib>=2.2 in /Users/dmitriystupakov/.conda/envs/pythonProject11/lib/python3.6/site-packages (from seaborn) (3.3.4)\n",
      "Requirement already satisfied: numpy>=1.15 in /Users/dmitriystupakov/.conda/envs/pythonProject11/lib/python3.6/site-packages (from seaborn) (1.18.5)\n",
      "Requirement already satisfied: pandas>=0.23 in /Users/dmitriystupakov/.conda/envs/pythonProject11/lib/python3.6/site-packages (from seaborn) (1.1.5)\n",
      "Requirement already satisfied: python-dateutil>=2.1 in /Users/dmitriystupakov/.conda/envs/pythonProject11/lib/python3.6/site-packages (from matplotlib>=2.2->seaborn) (2.8.2)\n",
      "Requirement already satisfied: pyparsing!=2.0.4,!=2.1.2,!=2.1.6,>=2.0.3 in /Users/dmitriystupakov/.conda/envs/pythonProject11/lib/python3.6/site-packages (from matplotlib>=2.2->seaborn) (3.0.9)\n",
      "Requirement already satisfied: pillow>=6.2.0 in /Users/dmitriystupakov/.conda/envs/pythonProject11/lib/python3.6/site-packages (from matplotlib>=2.2->seaborn) (8.4.0)\n",
      "Requirement already satisfied: kiwisolver>=1.0.1 in /Users/dmitriystupakov/.conda/envs/pythonProject11/lib/python3.6/site-packages (from matplotlib>=2.2->seaborn) (1.3.1)\n",
      "Requirement already satisfied: cycler>=0.10 in /Users/dmitriystupakov/.conda/envs/pythonProject11/lib/python3.6/site-packages (from matplotlib>=2.2->seaborn) (0.11.0)\n",
      "Requirement already satisfied: pytz>=2017.2 in /Users/dmitriystupakov/.conda/envs/pythonProject11/lib/python3.6/site-packages (from pandas>=0.23->seaborn) (2022.7)\n",
      "Requirement already satisfied: six>=1.5 in /Users/dmitriystupakov/.conda/envs/pythonProject11/lib/python3.6/site-packages (from python-dateutil>=2.1->matplotlib>=2.2->seaborn) (1.16.0)\n",
      "Installing collected packages: seaborn\n",
      "Successfully installed seaborn-0.11.2\n"
     ]
    }
   ],
   "source": [
    "!pip install seaborn"
   ]
  },
  {
   "cell_type": "code",
   "execution_count": 501,
   "id": "00494c5e",
   "metadata": {},
   "outputs": [],
   "source": [
    "\n",
    "from sklearn.decomposition import PCA\n",
    "import matplotlib.pyplot as plt\n",
    "import seaborn as sns\n",
    "from adjustText import adjust_text\n",
    "from incf.countryutils import transformations\n",
    "%matplotlib inline"
   ]
  },
  {
   "cell_type": "code",
   "execution_count": 507,
   "id": "a9431cfd",
   "metadata": {},
   "outputs": [],
   "source": [
    "id_to_name_map = {**dict(zip(df.hero_id, df.name_id))}"
   ]
  },
  {
   "cell_type": "code",
   "execution_count": null,
   "id": "fc88966c",
   "metadata": {},
   "outputs": [],
   "source": []
  },
  {
   "cell_type": "code",
   "execution_count": 503,
   "id": "b4595e33",
   "metadata": {},
   "outputs": [],
   "source": [
    "heroes = df.hero_id[df[\"train\"]].unique()\n",
    "hero_embeddings = dict(zip(heroes, model.get_embeddings(heroes)))"
   ]
  },
  {
   "cell_type": "code",
   "execution_count": null,
   "id": "18e9e9f8",
   "metadata": {},
   "outputs": [],
   "source": []
  },
  {
   "cell_type": "code",
   "execution_count": 511,
   "id": "916dea23",
   "metadata": {},
   "outputs": [],
   "source": [
    "embeddings_2d = PCA(n_components=2).fit_transform(np.array([i for i in hero_embeddings.values()]))"
   ]
  },
  {
   "cell_type": "code",
   "execution_count": null,
   "id": "0281ebed",
   "metadata": {},
   "outputs": [],
   "source": []
  },
  {
   "cell_type": "code",
   "execution_count": 514,
   "id": "a5f96baf",
   "metadata": {},
   "outputs": [],
   "source": [
    "from ampligraph.discovery import find_clusters\n",
    "from sklearn.cluster import KMeans\n",
    "\n",
    "clustering_algorithm = KMeans(n_clusters=6, n_init=50, max_iter=500, random_state=0)\n",
    "clusters = find_clusters(heroes, model, clustering_algorithm, mode='entity')"
   ]
  },
  {
   "cell_type": "code",
   "execution_count": 515,
   "id": "354a04cb",
   "metadata": {},
   "outputs": [],
   "source": [
    "def cn_to_ctn(role):\n",
    "    try:\n",
    "        return transformations.cn_to_ctn(id_to_name_map[role])\n",
    "    except KeyError:\n",
    "        return \"unk\""
   ]
  },
  {
   "cell_type": "code",
   "execution_count": 516,
   "id": "011c3687",
   "metadata": {},
   "outputs": [],
   "source": [
    "plot_df = pd.DataFrame({\"heroes\": heroes, \n",
    "                        \"embedding1\": embeddings_2d[:, 0], \n",
    "                        \"embedding2\": embeddings_2d[:, 1],\n",
    "                        \"role\": pd.Series(heroes).apply(cn_to_ctn),\n",
    "                        \"cluster\": \"cluster\" + pd.Series(clusters).astype(str)})"
   ]
  },
  {
   "cell_type": "code",
   "execution_count": 517,
   "id": "2158084f",
   "metadata": {},
   "outputs": [],
   "source": [
    "top20heroes = [\"Hero1\", \"Hero1\", \"Hero3\", \"Hero4\", \n",
    "               \"Hero5\", \"Hero6\", \"Hero7\", \"Hero8\", \n",
    "               \"Hero9\", \"Hero10\", \"Hero11\", \"Hero12\", \n",
    "               \"Hero13\", \"Hero14\", \"Hero15\", \"Hero16\", \n",
    "               \"Hero17\", \"Hero18\", \"Hero19\", \"Hero20\"]\n",
    "\n",
    "def plot_clusters(hue):\n",
    "    np.random.seed(0)\n",
    "    plt.figure(figsize=(12, 12))\n",
    "    plt.title(\"{} embeddings\".format(hue).capitalize())\n",
    "    ax = sns.scatterplot(data=plot_df[plot_df.role!=\"unk\"], x=\"embedding1\", y=\"embedding2\", hue=hue)\n",
    "    texts = []\n",
    "    for i, point in plot_df.iterrows():\n",
    "        if point[\"heroes\"] in top10heroes or np.random.random() < 0.1:\n",
    "            texts.append(plt.text(point['embedding1']+0.01, point['embedding2']+0.02, str(point[\"heroes\"])))\n",
    "    adjust_text(texts)"
   ]
  },
  {
   "cell_type": "code",
   "execution_count": 518,
   "id": "288ee0a8",
   "metadata": {},
   "outputs": [
    {
     "data": {
      "image/png": "[encoded data removed]",
      "text/plain": [
       "<Figure size 864x864 with 1 Axes>"
      ]
     },
     "metadata": {
      "needs_background": "light"
     },
     "output_type": "display_data"
    }
   ],
   "source": [
    "plot_clusters(\"role\")"
   ]
  },
  {
   "cell_type": "code",
   "execution_count": 400,
   "id": "bfd96896",
   "metadata": {},
   "outputs": [
    {
     "data": {
      "text/plain": [
       "0.0"
      ]
     },
     "execution_count": 400,
     "metadata": {},
     "output_type": "execute_result"
    }
   ],
   "source": [
    "from sklearn import metrics\n",
    "metrics.adjusted_rand_score(plot_df.role, plot_df.cluster)"
   ]
  },
  {
   "cell_type": "markdown",
   "id": "3517394a",
   "metadata": {},
   "source": [
    "2"
   ]
  },
  {
   "cell_type": "markdown",
   "id": "6ad48593",
   "metadata": {},
   "source": [
    "# classification"
   ]
  },
  {
   "cell_type": "code",
   "execution_count": 401,
   "id": "32f09ffe",
   "metadata": {},
   "outputs": [],
   "source": [
    "df[\"results\"] = df.winrate/100"
   ]
  },
  {
   "cell_type": "code",
   "execution_count": 402,
   "id": "c131a1a9",
   "metadata": {},
   "outputs": [
    {
     "data": {
      "text/plain": [
       "0.471859    0.008333\n",
       "0.517617    0.008333\n",
       "0.513394    0.008333\n",
       "0.466893    0.008333\n",
       "0.467038    0.008333\n",
       "              ...   \n",
       "0.504269    0.008333\n",
       "0.477253    0.008333\n",
       "0.502432    0.008333\n",
       "0.473509    0.008333\n",
       "0.474201    0.008333\n",
       "Name: results, Length: 120, dtype: float64"
      ]
     },
     "execution_count": 402,
     "metadata": {},
     "output_type": "execute_result"
    }
   ],
   "source": [
    "df.results.value_counts(normalize=True)"
   ]
  },
  {
   "cell_type": "code",
   "execution_count": 382,
   "id": "25d557f0",
   "metadata": {},
   "outputs": [
    {
     "name": "stdout",
     "output_type": "stream",
     "text": [
      "Requirement already satisfied: xgboost in /Users/dmitriystupakov/.conda/envs/pythonProject11/lib/python3.6/site-packages (1.5.2)\r\n",
      "Requirement already satisfied: scipy in /Users/dmitriystupakov/.conda/envs/pythonProject11/lib/python3.6/site-packages (from xgboost) (1.5.4)\r\n",
      "Requirement already satisfied: numpy in /Users/dmitriystupakov/.conda/envs/pythonProject11/lib/python3.6/site-packages (from xgboost) (1.18.5)\r\n"
     ]
    }
   ],
   "source": [
    "!pip install xgboost"
   ]
  },
  {
   "cell_type": "code",
   "execution_count": 403,
   "id": "a7958527",
   "metadata": {},
   "outputs": [
    {
     "data": {
      "text/html": [
       "<div>\n",
       "<style scoped>\n",
       "    .dataframe tbody tr th:only-of-type {\n",
       "        vertical-align: middle;\n",
       "    }\n",
       "\n",
       "    .dataframe tbody tr th {\n",
       "        vertical-align: top;\n",
       "    }\n",
       "\n",
       "    .dataframe thead th {\n",
       "        text-align: right;\n",
       "    }\n",
       "</style>\n",
       "<table border=\"1\" class=\"dataframe\">\n",
       "  <thead>\n",
       "    <tr style=\"text-align: right;\">\n",
       "      <th></th>\n",
       "      <th>results</th>\n",
       "      <th>train</th>\n",
       "    </tr>\n",
       "  </thead>\n",
       "  <tbody>\n",
       "    <tr>\n",
       "      <th>0</th>\n",
       "      <td>0.478671</td>\n",
       "      <td>True</td>\n",
       "    </tr>\n",
       "    <tr>\n",
       "      <th>1</th>\n",
       "      <td>0.487116</td>\n",
       "      <td>True</td>\n",
       "    </tr>\n",
       "    <tr>\n",
       "      <th>2</th>\n",
       "      <td>0.526917</td>\n",
       "      <td>False</td>\n",
       "    </tr>\n",
       "    <tr>\n",
       "      <th>3</th>\n",
       "      <td>0.494001</td>\n",
       "      <td>True</td>\n",
       "    </tr>\n",
       "    <tr>\n",
       "      <th>4</th>\n",
       "      <td>0.498610</td>\n",
       "      <td>True</td>\n",
       "    </tr>\n",
       "    <tr>\n",
       "      <th>...</th>\n",
       "      <td>...</td>\n",
       "      <td>...</td>\n",
       "    </tr>\n",
       "    <tr>\n",
       "      <th>115</th>\n",
       "      <td>0.465906</td>\n",
       "      <td>True</td>\n",
       "    </tr>\n",
       "    <tr>\n",
       "      <th>116</th>\n",
       "      <td>0.507814</td>\n",
       "      <td>True</td>\n",
       "    </tr>\n",
       "    <tr>\n",
       "      <th>117</th>\n",
       "      <td>0.506217</td>\n",
       "      <td>True</td>\n",
       "    </tr>\n",
       "    <tr>\n",
       "      <th>118</th>\n",
       "      <td>0.463165</td>\n",
       "      <td>True</td>\n",
       "    </tr>\n",
       "    <tr>\n",
       "      <th>119</th>\n",
       "      <td>0.477598</td>\n",
       "      <td>True</td>\n",
       "    </tr>\n",
       "  </tbody>\n",
       "</table>\n",
       "<p>120 rows × 2 columns</p>\n",
       "</div>"
      ],
      "text/plain": [
       "      results  train\n",
       "0    0.478671   True\n",
       "1    0.487116   True\n",
       "2    0.526917  False\n",
       "3    0.494001   True\n",
       "4    0.498610   True\n",
       "..        ...    ...\n",
       "115  0.465906   True\n",
       "116  0.507814   True\n",
       "117  0.506217   True\n",
       "118  0.463165   True\n",
       "119  0.477598   True\n",
       "\n",
       "[120 rows x 2 columns]"
      ]
     },
     "execution_count": 403,
     "metadata": {},
     "output_type": "execute_result"
    }
   ],
   "source": [
    "new_df = df[[\"results\", \"train\"]].copy()\n",
    "new_df"
   ]
  },
  {
   "cell_type": "markdown",
   "id": "7409a046",
   "metadata": {},
   "source": []
  },
  {
   "cell_type": "code",
   "execution_count": 404,
   "id": "e504addb",
   "metadata": {},
   "outputs": [],
   "source": [
    "new_df[\"base_health_regen\"] = df[\"base_health_regen\"]\n",
    "new_df[\"base_mana_regen\"] = df[\"base_mana_regen\"]\n",
    "new_df[\"base_armor\"] = df[\"base_armor\"]\n",
    "new_df[\"base_attack_min\"] = df[\"base_attack_min\"]\n",
    "new_df[\"base_attack_max\"] = df[\"base_attack_max\"]\n",
    "new_df[\"base_str\"] = df[\"base_str\"]\n",
    "new_df[\"base_agi\"] = df[\"base_agi\"]\n",
    "new_df[\"base_int\"] = df[\"base_int\"]\n",
    "new_df[\"str_gain\"] = df[\"str_gain\"]\n",
    "new_df[\"agi_gain\"] = df[\"agi_gain\"]\n",
    "new_df[\"int_gain\"] = df[\"int_gain\"]\n",
    "new_df[\"attack_range\"] = df[\"attack_range\"]\n",
    "new_df[\"projectile_speed\"] = df[\"projectile_speed\"]\n",
    "new_df[\"attack_rate\"] = df[\"attack_rate\"]\n",
    "new_df[\"move_speed\"] = df[\"move_speed\"]\n",
    "new_df[\"legs\"] = df[\"legs\"]\n",
    "new_df[\"turbo_picks\"] = df[\"turbo_picks\"]\n",
    "new_df[\"turbo_wins\"] = df[\"turbo_wins\"]\n",
    "\n"
   ]
  },
  {
   "cell_type": "code",
   "execution_count": 405,
   "id": "09126f02",
   "metadata": {},
   "outputs": [
    {
     "data": {
      "text/html": [
       "<div>\n",
       "<style scoped>\n",
       "    .dataframe tbody tr th:only-of-type {\n",
       "        vertical-align: middle;\n",
       "    }\n",
       "\n",
       "    .dataframe tbody tr th {\n",
       "        vertical-align: top;\n",
       "    }\n",
       "\n",
       "    .dataframe thead th {\n",
       "        text-align: right;\n",
       "    }\n",
       "</style>\n",
       "<table border=\"1\" class=\"dataframe\">\n",
       "  <thead>\n",
       "    <tr style=\"text-align: right;\">\n",
       "      <th></th>\n",
       "      <th>name_id_NameAbaddon</th>\n",
       "      <th>name_id_NameAlchemist</th>\n",
       "      <th>name_id_NameAncientApparition</th>\n",
       "      <th>name_id_NameAntiMage</th>\n",
       "      <th>name_id_NameArcWarden</th>\n",
       "      <th>name_id_NameAxe</th>\n",
       "      <th>name_id_NameBane</th>\n",
       "      <th>name_id_NameBatrider</th>\n",
       "      <th>name_id_NameBeastmaster</th>\n",
       "      <th>name_id_NameBloodseeker</th>\n",
       "      <th>...</th>\n",
       "      <th>attr_id_AttrAgi</th>\n",
       "      <th>attr_id_AttrInt</th>\n",
       "      <th>attr_id_AttrStr</th>\n",
       "      <th>attack_type_id_AttackTypeMelee</th>\n",
       "      <th>attack_type_id_AttackTypeRanged</th>\n",
       "      <th>main_role_id_MainRoleHardsupport</th>\n",
       "      <th>main_role_id_MainRoleMid</th>\n",
       "      <th>main_role_id_MainRoleOfflane</th>\n",
       "      <th>main_role_id_MainRoleSafelane</th>\n",
       "      <th>main_role_id_MainRoleSupport</th>\n",
       "    </tr>\n",
       "  </thead>\n",
       "  <tbody>\n",
       "    <tr>\n",
       "      <th>0</th>\n",
       "      <td>0</td>\n",
       "      <td>0</td>\n",
       "      <td>0</td>\n",
       "      <td>1</td>\n",
       "      <td>0</td>\n",
       "      <td>0</td>\n",
       "      <td>0</td>\n",
       "      <td>0</td>\n",
       "      <td>0</td>\n",
       "      <td>0</td>\n",
       "      <td>...</td>\n",
       "      <td>1</td>\n",
       "      <td>0</td>\n",
       "      <td>0</td>\n",
       "      <td>1</td>\n",
       "      <td>0</td>\n",
       "      <td>0</td>\n",
       "      <td>0</td>\n",
       "      <td>0</td>\n",
       "      <td>1</td>\n",
       "      <td>0</td>\n",
       "    </tr>\n",
       "    <tr>\n",
       "      <th>1</th>\n",
       "      <td>0</td>\n",
       "      <td>0</td>\n",
       "      <td>0</td>\n",
       "      <td>0</td>\n",
       "      <td>0</td>\n",
       "      <td>1</td>\n",
       "      <td>0</td>\n",
       "      <td>0</td>\n",
       "      <td>0</td>\n",
       "      <td>0</td>\n",
       "      <td>...</td>\n",
       "      <td>0</td>\n",
       "      <td>0</td>\n",
       "      <td>1</td>\n",
       "      <td>1</td>\n",
       "      <td>0</td>\n",
       "      <td>0</td>\n",
       "      <td>0</td>\n",
       "      <td>1</td>\n",
       "      <td>0</td>\n",
       "      <td>0</td>\n",
       "    </tr>\n",
       "    <tr>\n",
       "      <th>2</th>\n",
       "      <td>0</td>\n",
       "      <td>0</td>\n",
       "      <td>0</td>\n",
       "      <td>0</td>\n",
       "      <td>0</td>\n",
       "      <td>0</td>\n",
       "      <td>1</td>\n",
       "      <td>0</td>\n",
       "      <td>0</td>\n",
       "      <td>0</td>\n",
       "      <td>...</td>\n",
       "      <td>0</td>\n",
       "      <td>1</td>\n",
       "      <td>0</td>\n",
       "      <td>0</td>\n",
       "      <td>1</td>\n",
       "      <td>1</td>\n",
       "      <td>0</td>\n",
       "      <td>0</td>\n",
       "      <td>0</td>\n",
       "      <td>0</td>\n",
       "    </tr>\n",
       "    <tr>\n",
       "      <th>3</th>\n",
       "      <td>0</td>\n",
       "      <td>0</td>\n",
       "      <td>0</td>\n",
       "      <td>0</td>\n",
       "      <td>0</td>\n",
       "      <td>0</td>\n",
       "      <td>0</td>\n",
       "      <td>0</td>\n",
       "      <td>0</td>\n",
       "      <td>1</td>\n",
       "      <td>...</td>\n",
       "      <td>1</td>\n",
       "      <td>0</td>\n",
       "      <td>0</td>\n",
       "      <td>1</td>\n",
       "      <td>0</td>\n",
       "      <td>0</td>\n",
       "      <td>0</td>\n",
       "      <td>0</td>\n",
       "      <td>1</td>\n",
       "      <td>0</td>\n",
       "    </tr>\n",
       "    <tr>\n",
       "      <th>4</th>\n",
       "      <td>0</td>\n",
       "      <td>0</td>\n",
       "      <td>0</td>\n",
       "      <td>0</td>\n",
       "      <td>0</td>\n",
       "      <td>0</td>\n",
       "      <td>0</td>\n",
       "      <td>0</td>\n",
       "      <td>0</td>\n",
       "      <td>0</td>\n",
       "      <td>...</td>\n",
       "      <td>0</td>\n",
       "      <td>1</td>\n",
       "      <td>0</td>\n",
       "      <td>0</td>\n",
       "      <td>1</td>\n",
       "      <td>1</td>\n",
       "      <td>0</td>\n",
       "      <td>0</td>\n",
       "      <td>0</td>\n",
       "      <td>0</td>\n",
       "    </tr>\n",
       "    <tr>\n",
       "      <th>...</th>\n",
       "      <td>...</td>\n",
       "      <td>...</td>\n",
       "      <td>...</td>\n",
       "      <td>...</td>\n",
       "      <td>...</td>\n",
       "      <td>...</td>\n",
       "      <td>...</td>\n",
       "      <td>...</td>\n",
       "      <td>...</td>\n",
       "      <td>...</td>\n",
       "      <td>...</td>\n",
       "      <td>...</td>\n",
       "      <td>...</td>\n",
       "      <td>...</td>\n",
       "      <td>...</td>\n",
       "      <td>...</td>\n",
       "      <td>...</td>\n",
       "      <td>...</td>\n",
       "      <td>...</td>\n",
       "      <td>...</td>\n",
       "      <td>...</td>\n",
       "    </tr>\n",
       "    <tr>\n",
       "      <th>115</th>\n",
       "      <td>0</td>\n",
       "      <td>0</td>\n",
       "      <td>0</td>\n",
       "      <td>0</td>\n",
       "      <td>0</td>\n",
       "      <td>0</td>\n",
       "      <td>0</td>\n",
       "      <td>0</td>\n",
       "      <td>0</td>\n",
       "      <td>0</td>\n",
       "      <td>...</td>\n",
       "      <td>0</td>\n",
       "      <td>1</td>\n",
       "      <td>0</td>\n",
       "      <td>0</td>\n",
       "      <td>1</td>\n",
       "      <td>1</td>\n",
       "      <td>0</td>\n",
       "      <td>0</td>\n",
       "      <td>0</td>\n",
       "      <td>0</td>\n",
       "    </tr>\n",
       "    <tr>\n",
       "      <th>116</th>\n",
       "      <td>0</td>\n",
       "      <td>0</td>\n",
       "      <td>0</td>\n",
       "      <td>0</td>\n",
       "      <td>0</td>\n",
       "      <td>0</td>\n",
       "      <td>0</td>\n",
       "      <td>0</td>\n",
       "      <td>0</td>\n",
       "      <td>0</td>\n",
       "      <td>...</td>\n",
       "      <td>1</td>\n",
       "      <td>0</td>\n",
       "      <td>0</td>\n",
       "      <td>0</td>\n",
       "      <td>1</td>\n",
       "      <td>0</td>\n",
       "      <td>0</td>\n",
       "      <td>1</td>\n",
       "      <td>0</td>\n",
       "      <td>0</td>\n",
       "    </tr>\n",
       "    <tr>\n",
       "      <th>117</th>\n",
       "      <td>0</td>\n",
       "      <td>0</td>\n",
       "      <td>0</td>\n",
       "      <td>0</td>\n",
       "      <td>0</td>\n",
       "      <td>0</td>\n",
       "      <td>0</td>\n",
       "      <td>0</td>\n",
       "      <td>0</td>\n",
       "      <td>0</td>\n",
       "      <td>...</td>\n",
       "      <td>0</td>\n",
       "      <td>1</td>\n",
       "      <td>0</td>\n",
       "      <td>1</td>\n",
       "      <td>0</td>\n",
       "      <td>0</td>\n",
       "      <td>1</td>\n",
       "      <td>0</td>\n",
       "      <td>0</td>\n",
       "      <td>0</td>\n",
       "    </tr>\n",
       "    <tr>\n",
       "      <th>118</th>\n",
       "      <td>0</td>\n",
       "      <td>0</td>\n",
       "      <td>0</td>\n",
       "      <td>0</td>\n",
       "      <td>0</td>\n",
       "      <td>0</td>\n",
       "      <td>0</td>\n",
       "      <td>0</td>\n",
       "      <td>0</td>\n",
       "      <td>0</td>\n",
       "      <td>...</td>\n",
       "      <td>0</td>\n",
       "      <td>0</td>\n",
       "      <td>1</td>\n",
       "      <td>0</td>\n",
       "      <td>1</td>\n",
       "      <td>0</td>\n",
       "      <td>0</td>\n",
       "      <td>0</td>\n",
       "      <td>0</td>\n",
       "      <td>1</td>\n",
       "    </tr>\n",
       "    <tr>\n",
       "      <th>119</th>\n",
       "      <td>0</td>\n",
       "      <td>0</td>\n",
       "      <td>0</td>\n",
       "      <td>0</td>\n",
       "      <td>0</td>\n",
       "      <td>0</td>\n",
       "      <td>0</td>\n",
       "      <td>0</td>\n",
       "      <td>0</td>\n",
       "      <td>0</td>\n",
       "      <td>...</td>\n",
       "      <td>0</td>\n",
       "      <td>0</td>\n",
       "      <td>1</td>\n",
       "      <td>1</td>\n",
       "      <td>0</td>\n",
       "      <td>0</td>\n",
       "      <td>0</td>\n",
       "      <td>1</td>\n",
       "      <td>0</td>\n",
       "      <td>0</td>\n",
       "    </tr>\n",
       "  </tbody>\n",
       "</table>\n",
       "<p>120 rows × 130 columns</p>\n",
       "</div>"
      ],
      "text/plain": [
       "     name_id_NameAbaddon  name_id_NameAlchemist  \\\n",
       "0                      0                      0   \n",
       "1                      0                      0   \n",
       "2                      0                      0   \n",
       "3                      0                      0   \n",
       "4                      0                      0   \n",
       "..                   ...                    ...   \n",
       "115                    0                      0   \n",
       "116                    0                      0   \n",
       "117                    0                      0   \n",
       "118                    0                      0   \n",
       "119                    0                      0   \n",
       "\n",
       "     name_id_NameAncientApparition  name_id_NameAntiMage  \\\n",
       "0                                0                     1   \n",
       "1                                0                     0   \n",
       "2                                0                     0   \n",
       "3                                0                     0   \n",
       "4                                0                     0   \n",
       "..                             ...                   ...   \n",
       "115                              0                     0   \n",
       "116                              0                     0   \n",
       "117                              0                     0   \n",
       "118                              0                     0   \n",
       "119                              0                     0   \n",
       "\n",
       "     name_id_NameArcWarden  name_id_NameAxe  name_id_NameBane  \\\n",
       "0                        0                0                 0   \n",
       "1                        0                1                 0   \n",
       "2                        0                0                 1   \n",
       "3                        0                0                 0   \n",
       "4                        0                0                 0   \n",
       "..                     ...              ...               ...   \n",
       "115                      0                0                 0   \n",
       "116                      0                0                 0   \n",
       "117                      0                0                 0   \n",
       "118                      0                0                 0   \n",
       "119                      0                0                 0   \n",
       "\n",
       "     name_id_NameBatrider  name_id_NameBeastmaster  name_id_NameBloodseeker  \\\n",
       "0                       0                        0                        0   \n",
       "1                       0                        0                        0   \n",
       "2                       0                        0                        0   \n",
       "3                       0                        0                        1   \n",
       "4                       0                        0                        0   \n",
       "..                    ...                      ...                      ...   \n",
       "115                     0                        0                        0   \n",
       "116                     0                        0                        0   \n",
       "117                     0                        0                        0   \n",
       "118                     0                        0                        0   \n",
       "119                     0                        0                        0   \n",
       "\n",
       "     ...  attr_id_AttrAgi  attr_id_AttrInt  attr_id_AttrStr  \\\n",
       "0    ...                1                0                0   \n",
       "1    ...                0                0                1   \n",
       "2    ...                0                1                0   \n",
       "3    ...                1                0                0   \n",
       "4    ...                0                1                0   \n",
       "..   ...              ...              ...              ...   \n",
       "115  ...                0                1                0   \n",
       "116  ...                1                0                0   \n",
       "117  ...                0                1                0   \n",
       "118  ...                0                0                1   \n",
       "119  ...                0                0                1   \n",
       "\n",
       "     attack_type_id_AttackTypeMelee  attack_type_id_AttackTypeRanged  \\\n",
       "0                                 1                                0   \n",
       "1                                 1                                0   \n",
       "2                                 0                                1   \n",
       "3                                 1                                0   \n",
       "4                                 0                                1   \n",
       "..                              ...                              ...   \n",
       "115                               0                                1   \n",
       "116                               0                                1   \n",
       "117                               1                                0   \n",
       "118                               0                                1   \n",
       "119                               1                                0   \n",
       "\n",
       "     main_role_id_MainRoleHardsupport  main_role_id_MainRoleMid  \\\n",
       "0                                   0                         0   \n",
       "1                                   0                         0   \n",
       "2                                   1                         0   \n",
       "3                                   0                         0   \n",
       "4                                   1                         0   \n",
       "..                                ...                       ...   \n",
       "115                                 1                         0   \n",
       "116                                 0                         0   \n",
       "117                                 0                         1   \n",
       "118                                 0                         0   \n",
       "119                                 0                         0   \n",
       "\n",
       "     main_role_id_MainRoleOfflane  main_role_id_MainRoleSafelane  \\\n",
       "0                               0                              1   \n",
       "1                               1                              0   \n",
       "2                               0                              0   \n",
       "3                               0                              1   \n",
       "4                               0                              0   \n",
       "..                            ...                            ...   \n",
       "115                             0                              0   \n",
       "116                             1                              0   \n",
       "117                             0                              0   \n",
       "118                             0                              0   \n",
       "119                             1                              0   \n",
       "\n",
       "     main_role_id_MainRoleSupport  \n",
       "0                               0  \n",
       "1                               0  \n",
       "2                               0  \n",
       "3                               0  \n",
       "4                               0  \n",
       "..                            ...  \n",
       "115                             0  \n",
       "116                             0  \n",
       "117                             0  \n",
       "118                             1  \n",
       "119                             0  \n",
       "\n",
       "[120 rows x 130 columns]"
      ]
     },
     "execution_count": 405,
     "metadata": {},
     "output_type": "execute_result"
    }
   ],
   "source": [
    "encoded_cols = pd.get_dummies(df[[\"name_id\", \"attr_id\", \"attack_type_id\", \"main_role_id\",]])\n",
    "\n",
    "encoded_cols"
   ]
  },
  {
   "cell_type": "code",
   "execution_count": 406,
   "id": "83a977b3",
   "metadata": {},
   "outputs": [
    {
     "data": {
      "text/html": [
       "<div>\n",
       "<style scoped>\n",
       "    .dataframe tbody tr th:only-of-type {\n",
       "        vertical-align: middle;\n",
       "    }\n",
       "\n",
       "    .dataframe tbody tr th {\n",
       "        vertical-align: top;\n",
       "    }\n",
       "\n",
       "    .dataframe thead th {\n",
       "        text-align: right;\n",
       "    }\n",
       "</style>\n",
       "<table border=\"1\" class=\"dataframe\">\n",
       "  <thead>\n",
       "    <tr style=\"text-align: right;\">\n",
       "      <th></th>\n",
       "      <th>results</th>\n",
       "      <th>train</th>\n",
       "      <th>base_health_regen</th>\n",
       "      <th>base_mana_regen</th>\n",
       "      <th>base_armor</th>\n",
       "      <th>base_attack_min</th>\n",
       "      <th>base_attack_max</th>\n",
       "      <th>base_str</th>\n",
       "      <th>base_agi</th>\n",
       "      <th>base_int</th>\n",
       "      <th>...</th>\n",
       "      <th>attr_id_AttrAgi</th>\n",
       "      <th>attr_id_AttrInt</th>\n",
       "      <th>attr_id_AttrStr</th>\n",
       "      <th>attack_type_id_AttackTypeMelee</th>\n",
       "      <th>attack_type_id_AttackTypeRanged</th>\n",
       "      <th>main_role_id_MainRoleHardsupport</th>\n",
       "      <th>main_role_id_MainRoleMid</th>\n",
       "      <th>main_role_id_MainRoleOfflane</th>\n",
       "      <th>main_role_id_MainRoleSafelane</th>\n",
       "      <th>main_role_id_MainRoleSupport</th>\n",
       "    </tr>\n",
       "  </thead>\n",
       "  <tbody>\n",
       "    <tr>\n",
       "      <th>0</th>\n",
       "      <td>0.478671</td>\n",
       "      <td>True</td>\n",
       "      <td>0.25</td>\n",
       "      <td>0.0</td>\n",
       "      <td>2.0</td>\n",
       "      <td>29</td>\n",
       "      <td>33</td>\n",
       "      <td>23</td>\n",
       "      <td>24</td>\n",
       "      <td>12</td>\n",
       "      <td>...</td>\n",
       "      <td>1</td>\n",
       "      <td>0</td>\n",
       "      <td>0</td>\n",
       "      <td>1</td>\n",
       "      <td>0</td>\n",
       "      <td>0</td>\n",
       "      <td>0</td>\n",
       "      <td>0</td>\n",
       "      <td>1</td>\n",
       "      <td>0</td>\n",
       "    </tr>\n",
       "    <tr>\n",
       "      <th>1</th>\n",
       "      <td>0.487116</td>\n",
       "      <td>True</td>\n",
       "      <td>2.75</td>\n",
       "      <td>0.0</td>\n",
       "      <td>2.0</td>\n",
       "      <td>27</td>\n",
       "      <td>31</td>\n",
       "      <td>25</td>\n",
       "      <td>20</td>\n",
       "      <td>18</td>\n",
       "      <td>...</td>\n",
       "      <td>0</td>\n",
       "      <td>0</td>\n",
       "      <td>1</td>\n",
       "      <td>1</td>\n",
       "      <td>0</td>\n",
       "      <td>0</td>\n",
       "      <td>0</td>\n",
       "      <td>1</td>\n",
       "      <td>0</td>\n",
       "      <td>0</td>\n",
       "    </tr>\n",
       "    <tr>\n",
       "      <th>2</th>\n",
       "      <td>0.526917</td>\n",
       "      <td>False</td>\n",
       "      <td>0.00</td>\n",
       "      <td>0.0</td>\n",
       "      <td>4.0</td>\n",
       "      <td>35</td>\n",
       "      <td>41</td>\n",
       "      <td>22</td>\n",
       "      <td>22</td>\n",
       "      <td>22</td>\n",
       "      <td>...</td>\n",
       "      <td>0</td>\n",
       "      <td>1</td>\n",
       "      <td>0</td>\n",
       "      <td>0</td>\n",
       "      <td>1</td>\n",
       "      <td>1</td>\n",
       "      <td>0</td>\n",
       "      <td>0</td>\n",
       "      <td>0</td>\n",
       "      <td>0</td>\n",
       "    </tr>\n",
       "    <tr>\n",
       "      <th>3</th>\n",
       "      <td>0.494001</td>\n",
       "      <td>True</td>\n",
       "      <td>0.00</td>\n",
       "      <td>0.0</td>\n",
       "      <td>5.0</td>\n",
       "      <td>35</td>\n",
       "      <td>41</td>\n",
       "      <td>24</td>\n",
       "      <td>22</td>\n",
       "      <td>17</td>\n",
       "      <td>...</td>\n",
       "      <td>1</td>\n",
       "      <td>0</td>\n",
       "      <td>0</td>\n",
       "      <td>1</td>\n",
       "      <td>0</td>\n",
       "      <td>0</td>\n",
       "      <td>0</td>\n",
       "      <td>0</td>\n",
       "      <td>1</td>\n",
       "      <td>0</td>\n",
       "    </tr>\n",
       "    <tr>\n",
       "      <th>4</th>\n",
       "      <td>0.498610</td>\n",
       "      <td>True</td>\n",
       "      <td>0.00</td>\n",
       "      <td>1.0</td>\n",
       "      <td>2.0</td>\n",
       "      <td>28</td>\n",
       "      <td>34</td>\n",
       "      <td>18</td>\n",
       "      <td>16</td>\n",
       "      <td>16</td>\n",
       "      <td>...</td>\n",
       "      <td>0</td>\n",
       "      <td>1</td>\n",
       "      <td>0</td>\n",
       "      <td>0</td>\n",
       "      <td>1</td>\n",
       "      <td>1</td>\n",
       "      <td>0</td>\n",
       "      <td>0</td>\n",
       "      <td>0</td>\n",
       "      <td>0</td>\n",
       "    </tr>\n",
       "    <tr>\n",
       "      <th>...</th>\n",
       "      <td>...</td>\n",
       "      <td>...</td>\n",
       "      <td>...</td>\n",
       "      <td>...</td>\n",
       "      <td>...</td>\n",
       "      <td>...</td>\n",
       "      <td>...</td>\n",
       "      <td>...</td>\n",
       "      <td>...</td>\n",
       "      <td>...</td>\n",
       "      <td>...</td>\n",
       "      <td>...</td>\n",
       "      <td>...</td>\n",
       "      <td>...</td>\n",
       "      <td>...</td>\n",
       "      <td>...</td>\n",
       "      <td>...</td>\n",
       "      <td>...</td>\n",
       "      <td>...</td>\n",
       "      <td>...</td>\n",
       "      <td>...</td>\n",
       "    </tr>\n",
       "    <tr>\n",
       "      <th>115</th>\n",
       "      <td>0.465906</td>\n",
       "      <td>True</td>\n",
       "      <td>0.00</td>\n",
       "      <td>0.0</td>\n",
       "      <td>3.0</td>\n",
       "      <td>21</td>\n",
       "      <td>25</td>\n",
       "      <td>21</td>\n",
       "      <td>18</td>\n",
       "      <td>25</td>\n",
       "      <td>...</td>\n",
       "      <td>0</td>\n",
       "      <td>1</td>\n",
       "      <td>0</td>\n",
       "      <td>0</td>\n",
       "      <td>1</td>\n",
       "      <td>1</td>\n",
       "      <td>0</td>\n",
       "      <td>0</td>\n",
       "      <td>0</td>\n",
       "      <td>0</td>\n",
       "    </tr>\n",
       "    <tr>\n",
       "      <th>116</th>\n",
       "      <td>0.507814</td>\n",
       "      <td>True</td>\n",
       "      <td>0.25</td>\n",
       "      <td>0.0</td>\n",
       "      <td>3.0</td>\n",
       "      <td>22</td>\n",
       "      <td>29</td>\n",
       "      <td>17</td>\n",
       "      <td>28</td>\n",
       "      <td>21</td>\n",
       "      <td>...</td>\n",
       "      <td>1</td>\n",
       "      <td>0</td>\n",
       "      <td>0</td>\n",
       "      <td>0</td>\n",
       "      <td>1</td>\n",
       "      <td>0</td>\n",
       "      <td>0</td>\n",
       "      <td>1</td>\n",
       "      <td>0</td>\n",
       "      <td>0</td>\n",
       "    </tr>\n",
       "    <tr>\n",
       "      <th>117</th>\n",
       "      <td>0.506217</td>\n",
       "      <td>True</td>\n",
       "      <td>0.00</td>\n",
       "      <td>0.6</td>\n",
       "      <td>2.0</td>\n",
       "      <td>32</td>\n",
       "      <td>36</td>\n",
       "      <td>22</td>\n",
       "      <td>19</td>\n",
       "      <td>24</td>\n",
       "      <td>...</td>\n",
       "      <td>0</td>\n",
       "      <td>1</td>\n",
       "      <td>0</td>\n",
       "      <td>1</td>\n",
       "      <td>0</td>\n",
       "      <td>0</td>\n",
       "      <td>1</td>\n",
       "      <td>0</td>\n",
       "      <td>0</td>\n",
       "      <td>0</td>\n",
       "    </tr>\n",
       "    <tr>\n",
       "      <th>118</th>\n",
       "      <td>0.463165</td>\n",
       "      <td>True</td>\n",
       "      <td>0.00</td>\n",
       "      <td>0.0</td>\n",
       "      <td>3.0</td>\n",
       "      <td>26</td>\n",
       "      <td>32</td>\n",
       "      <td>20</td>\n",
       "      <td>16</td>\n",
       "      <td>18</td>\n",
       "      <td>...</td>\n",
       "      <td>0</td>\n",
       "      <td>0</td>\n",
       "      <td>1</td>\n",
       "      <td>0</td>\n",
       "      <td>1</td>\n",
       "      <td>0</td>\n",
       "      <td>0</td>\n",
       "      <td>0</td>\n",
       "      <td>0</td>\n",
       "      <td>1</td>\n",
       "    </tr>\n",
       "    <tr>\n",
       "      <th>119</th>\n",
       "      <td>0.477598</td>\n",
       "      <td>True</td>\n",
       "      <td>0.00</td>\n",
       "      <td>0.5</td>\n",
       "      <td>2.0</td>\n",
       "      <td>29</td>\n",
       "      <td>37</td>\n",
       "      <td>23</td>\n",
       "      <td>20</td>\n",
       "      <td>21</td>\n",
       "      <td>...</td>\n",
       "      <td>0</td>\n",
       "      <td>0</td>\n",
       "      <td>1</td>\n",
       "      <td>1</td>\n",
       "      <td>0</td>\n",
       "      <td>0</td>\n",
       "      <td>0</td>\n",
       "      <td>1</td>\n",
       "      <td>0</td>\n",
       "      <td>0</td>\n",
       "    </tr>\n",
       "  </tbody>\n",
       "</table>\n",
       "<p>120 rows × 150 columns</p>\n",
       "</div>"
      ],
      "text/plain": [
       "      results  train  base_health_regen  base_mana_regen  base_armor  \\\n",
       "0    0.478671   True               0.25              0.0         2.0   \n",
       "1    0.487116   True               2.75              0.0         2.0   \n",
       "2    0.526917  False               0.00              0.0         4.0   \n",
       "3    0.494001   True               0.00              0.0         5.0   \n",
       "4    0.498610   True               0.00              1.0         2.0   \n",
       "..        ...    ...                ...              ...         ...   \n",
       "115  0.465906   True               0.00              0.0         3.0   \n",
       "116  0.507814   True               0.25              0.0         3.0   \n",
       "117  0.506217   True               0.00              0.6         2.0   \n",
       "118  0.463165   True               0.00              0.0         3.0   \n",
       "119  0.477598   True               0.00              0.5         2.0   \n",
       "\n",
       "     base_attack_min  base_attack_max  base_str  base_agi  base_int  ...  \\\n",
       "0                 29               33        23        24        12  ...   \n",
       "1                 27               31        25        20        18  ...   \n",
       "2                 35               41        22        22        22  ...   \n",
       "3                 35               41        24        22        17  ...   \n",
       "4                 28               34        18        16        16  ...   \n",
       "..               ...              ...       ...       ...       ...  ...   \n",
       "115               21               25        21        18        25  ...   \n",
       "116               22               29        17        28        21  ...   \n",
       "117               32               36        22        19        24  ...   \n",
       "118               26               32        20        16        18  ...   \n",
       "119               29               37        23        20        21  ...   \n",
       "\n",
       "     attr_id_AttrAgi  attr_id_AttrInt  attr_id_AttrStr  \\\n",
       "0                  1                0                0   \n",
       "1                  0                0                1   \n",
       "2                  0                1                0   \n",
       "3                  1                0                0   \n",
       "4                  0                1                0   \n",
       "..               ...              ...              ...   \n",
       "115                0                1                0   \n",
       "116                1                0                0   \n",
       "117                0                1                0   \n",
       "118                0                0                1   \n",
       "119                0                0                1   \n",
       "\n",
       "     attack_type_id_AttackTypeMelee  attack_type_id_AttackTypeRanged  \\\n",
       "0                                 1                                0   \n",
       "1                                 1                                0   \n",
       "2                                 0                                1   \n",
       "3                                 1                                0   \n",
       "4                                 0                                1   \n",
       "..                              ...                              ...   \n",
       "115                               0                                1   \n",
       "116                               0                                1   \n",
       "117                               1                                0   \n",
       "118                               0                                1   \n",
       "119                               1                                0   \n",
       "\n",
       "     main_role_id_MainRoleHardsupport  main_role_id_MainRoleMid  \\\n",
       "0                                   0                         0   \n",
       "1                                   0                         0   \n",
       "2                                   1                         0   \n",
       "3                                   0                         0   \n",
       "4                                   1                         0   \n",
       "..                                ...                       ...   \n",
       "115                                 1                         0   \n",
       "116                                 0                         0   \n",
       "117                                 0                         1   \n",
       "118                                 0                         0   \n",
       "119                                 0                         0   \n",
       "\n",
       "     main_role_id_MainRoleOfflane  main_role_id_MainRoleSafelane  \\\n",
       "0                               0                              1   \n",
       "1                               1                              0   \n",
       "2                               0                              0   \n",
       "3                               0                              1   \n",
       "4                               0                              0   \n",
       "..                            ...                            ...   \n",
       "115                             0                              0   \n",
       "116                             1                              0   \n",
       "117                             0                              0   \n",
       "118                             0                              0   \n",
       "119                             1                              0   \n",
       "\n",
       "     main_role_id_MainRoleSupport  \n",
       "0                               0  \n",
       "1                               0  \n",
       "2                               0  \n",
       "3                               0  \n",
       "4                               0  \n",
       "..                            ...  \n",
       "115                             0  \n",
       "116                             0  \n",
       "117                             0  \n",
       "118                             1  \n",
       "119                             0  \n",
       "\n",
       "[120 rows x 150 columns]"
      ]
     },
     "execution_count": 406,
     "metadata": {},
     "output_type": "execute_result"
    }
   ],
   "source": [
    "new_df = new_df.join(encoded_cols)\n",
    "new_df"
   ]
  },
  {
   "cell_type": "code",
   "execution_count": 407,
   "id": "ee2b663f",
   "metadata": {},
   "outputs": [],
   "source": [
    "from xgboost import XGBClassifier"
   ]
  },
  {
   "cell_type": "code",
   "execution_count": 412,
   "id": "4309436c",
   "metadata": {},
   "outputs": [],
   "source": [
    "clf_model = XGBClassifier(n_estimators=500, max_depth=5, objective=\"multi:softmax\", use_label_encoder=True)"
   ]
  },
  {
   "cell_type": "code",
   "execution_count": 413,
   "id": "8787d7e4",
   "metadata": {},
   "outputs": [],
   "source": [
    "X_train = new_df[df[\"train\"]].drop([\"results\"], axis=1)\n",
    "y_train = new_df[df[\"train\"]].results\n",
    "X_val = new_df[~df[\"train\"]].drop([\"results\"], axis=1)\n",
    "y_val = new_df[~df[\"train\"]].results"
   ]
  },
  {
   "cell_type": "code",
   "execution_count": 414,
   "id": "15cfefc1",
   "metadata": {},
   "outputs": [
    {
     "name": "stderr",
     "output_type": "stream",
     "text": [
      "/Users/dmitriystupakov/.conda/envs/pythonProject11/lib/python3.6/site-packages/xgboost/sklearn.py:1224: UserWarning: The use of label encoder in XGBClassifier is deprecated and will be removed in a future release. To remove this warning, do the following: 1) Pass option use_label_encoder=False when constructing XGBClassifier object; and 2) Encode your labels (y) as integers starting with 0, i.e. 0, 1, 2, ..., [num_class - 1].\n",
      "  warnings.warn(label_encoder_deprecation_msg, UserWarning)\n"
     ]
    },
    {
     "name": "stdout",
     "output_type": "stream",
     "text": [
      "[14:57:36] WARNING: /Users/runner/work/xgboost/xgboost/src/learner.cc:1115: Starting in XGBoost 1.3.0, the default evaluation metric used with the objective 'multi:softprob' was changed from 'merror' to 'mlogloss'. Explicitly set eval_metric if you'd like to restore the old behavior.\n"
     ]
    },
    {
     "data": {
      "text/plain": [
       "XGBClassifier(base_score=0.5, booster='gbtree', colsample_bylevel=1,\n",
       "              colsample_bynode=1, colsample_bytree=1, enable_categorical=False,\n",
       "              gamma=0, gpu_id=-1, importance_type=None,\n",
       "              interaction_constraints='', learning_rate=0.300000012,\n",
       "              max_delta_step=0, max_depth=5, min_child_weight=1, missing=nan,\n",
       "              monotone_constraints='()', n_estimators=500, n_jobs=8,\n",
       "              num_parallel_tree=1, objective='multi:softprob', predictor='auto',\n",
       "              random_state=0, reg_alpha=0, reg_lambda=1, scale_pos_weight=None,\n",
       "              subsample=1, tree_method='exact', validate_parameters=1,\n",
       "              verbosity=None)"
      ]
     },
     "execution_count": 414,
     "metadata": {},
     "output_type": "execute_result"
    }
   ],
   "source": [
    "clf_model.fit(X_train, y_train, verbose=1)"
   ]
  },
  {
   "cell_type": "code",
   "execution_count": 415,
   "id": "d7051c56",
   "metadata": {},
   "outputs": [
    {
     "ename": "ValueError",
     "evalue": "continuous is not supported",
     "output_type": "error",
     "traceback": [
      "\u001b[0;31m---------------------------------------------------------------------------\u001b[0m",
      "\u001b[0;31mValueError\u001b[0m                                Traceback (most recent call last)",
      "\u001b[0;32m<ipython-input-415-8f8e524d5f28>\u001b[0m in \u001b[0;36m<module>\u001b[0;34m\u001b[0m\n\u001b[1;32m      1\u001b[0m \u001b[0;32mfrom\u001b[0m \u001b[0msklearn\u001b[0m \u001b[0;32mimport\u001b[0m \u001b[0mmetrics\u001b[0m\u001b[0;34m\u001b[0m\u001b[0;34m\u001b[0m\u001b[0m\n\u001b[0;32m----> 2\u001b[0;31m \u001b[0mmetrics\u001b[0m\u001b[0;34m.\u001b[0m\u001b[0maccuracy_score\u001b[0m\u001b[0;34m(\u001b[0m\u001b[0my_val\u001b[0m\u001b[0;34m,\u001b[0m \u001b[0mclf_model\u001b[0m\u001b[0;34m.\u001b[0m\u001b[0mpredict\u001b[0m\u001b[0;34m(\u001b[0m\u001b[0mX_val\u001b[0m\u001b[0;34m)\u001b[0m\u001b[0;34m)\u001b[0m\u001b[0;34m\u001b[0m\u001b[0;34m\u001b[0m\u001b[0m\n\u001b[0m",
      "\u001b[0;32m~/.conda/envs/pythonProject11/lib/python3.6/site-packages/sklearn/utils/validation.py\u001b[0m in \u001b[0;36minner_f\u001b[0;34m(*args, **kwargs)\u001b[0m\n\u001b[1;32m     61\u001b[0m             \u001b[0mextra_args\u001b[0m \u001b[0;34m=\u001b[0m \u001b[0mlen\u001b[0m\u001b[0;34m(\u001b[0m\u001b[0margs\u001b[0m\u001b[0;34m)\u001b[0m \u001b[0;34m-\u001b[0m \u001b[0mlen\u001b[0m\u001b[0;34m(\u001b[0m\u001b[0mall_args\u001b[0m\u001b[0;34m)\u001b[0m\u001b[0;34m\u001b[0m\u001b[0;34m\u001b[0m\u001b[0m\n\u001b[1;32m     62\u001b[0m             \u001b[0;32mif\u001b[0m \u001b[0mextra_args\u001b[0m \u001b[0;34m<=\u001b[0m \u001b[0;36m0\u001b[0m\u001b[0;34m:\u001b[0m\u001b[0;34m\u001b[0m\u001b[0;34m\u001b[0m\u001b[0m\n\u001b[0;32m---> 63\u001b[0;31m                 \u001b[0;32mreturn\u001b[0m \u001b[0mf\u001b[0m\u001b[0;34m(\u001b[0m\u001b[0;34m*\u001b[0m\u001b[0margs\u001b[0m\u001b[0;34m,\u001b[0m \u001b[0;34m**\u001b[0m\u001b[0mkwargs\u001b[0m\u001b[0;34m)\u001b[0m\u001b[0;34m\u001b[0m\u001b[0;34m\u001b[0m\u001b[0m\n\u001b[0m\u001b[1;32m     64\u001b[0m \u001b[0;34m\u001b[0m\u001b[0m\n\u001b[1;32m     65\u001b[0m             \u001b[0;31m# extra_args > 0\u001b[0m\u001b[0;34m\u001b[0m\u001b[0;34m\u001b[0m\u001b[0;34m\u001b[0m\u001b[0m\n",
      "\u001b[0;32m~/.conda/envs/pythonProject11/lib/python3.6/site-packages/sklearn/metrics/_classification.py\u001b[0m in \u001b[0;36maccuracy_score\u001b[0;34m(y_true, y_pred, normalize, sample_weight)\u001b[0m\n\u001b[1;32m    200\u001b[0m \u001b[0;34m\u001b[0m\u001b[0m\n\u001b[1;32m    201\u001b[0m     \u001b[0;31m# Compute accuracy for each possible representation\u001b[0m\u001b[0;34m\u001b[0m\u001b[0;34m\u001b[0m\u001b[0;34m\u001b[0m\u001b[0m\n\u001b[0;32m--> 202\u001b[0;31m     \u001b[0my_type\u001b[0m\u001b[0;34m,\u001b[0m \u001b[0my_true\u001b[0m\u001b[0;34m,\u001b[0m \u001b[0my_pred\u001b[0m \u001b[0;34m=\u001b[0m \u001b[0m_check_targets\u001b[0m\u001b[0;34m(\u001b[0m\u001b[0my_true\u001b[0m\u001b[0;34m,\u001b[0m \u001b[0my_pred\u001b[0m\u001b[0;34m)\u001b[0m\u001b[0;34m\u001b[0m\u001b[0;34m\u001b[0m\u001b[0m\n\u001b[0m\u001b[1;32m    203\u001b[0m     \u001b[0mcheck_consistent_length\u001b[0m\u001b[0;34m(\u001b[0m\u001b[0my_true\u001b[0m\u001b[0;34m,\u001b[0m \u001b[0my_pred\u001b[0m\u001b[0;34m,\u001b[0m \u001b[0msample_weight\u001b[0m\u001b[0;34m)\u001b[0m\u001b[0;34m\u001b[0m\u001b[0;34m\u001b[0m\u001b[0m\n\u001b[1;32m    204\u001b[0m     \u001b[0;32mif\u001b[0m \u001b[0my_type\u001b[0m\u001b[0;34m.\u001b[0m\u001b[0mstartswith\u001b[0m\u001b[0;34m(\u001b[0m\u001b[0;34m'multilabel'\u001b[0m\u001b[0;34m)\u001b[0m\u001b[0;34m:\u001b[0m\u001b[0;34m\u001b[0m\u001b[0;34m\u001b[0m\u001b[0m\n",
      "\u001b[0;32m~/.conda/envs/pythonProject11/lib/python3.6/site-packages/sklearn/metrics/_classification.py\u001b[0m in \u001b[0;36m_check_targets\u001b[0;34m(y_true, y_pred)\u001b[0m\n\u001b[1;32m     98\u001b[0m     \u001b[0;31m# No metrics support \"multiclass-multioutput\" format\u001b[0m\u001b[0;34m\u001b[0m\u001b[0;34m\u001b[0m\u001b[0;34m\u001b[0m\u001b[0m\n\u001b[1;32m     99\u001b[0m     \u001b[0;32mif\u001b[0m \u001b[0;34m(\u001b[0m\u001b[0my_type\u001b[0m \u001b[0;32mnot\u001b[0m \u001b[0;32min\u001b[0m \u001b[0;34m[\u001b[0m\u001b[0;34m\"binary\"\u001b[0m\u001b[0;34m,\u001b[0m \u001b[0;34m\"multiclass\"\u001b[0m\u001b[0;34m,\u001b[0m \u001b[0;34m\"multilabel-indicator\"\u001b[0m\u001b[0;34m]\u001b[0m\u001b[0;34m)\u001b[0m\u001b[0;34m:\u001b[0m\u001b[0;34m\u001b[0m\u001b[0;34m\u001b[0m\u001b[0m\n\u001b[0;32m--> 100\u001b[0;31m         \u001b[0;32mraise\u001b[0m \u001b[0mValueError\u001b[0m\u001b[0;34m(\u001b[0m\u001b[0;34m\"{0} is not supported\"\u001b[0m\u001b[0;34m.\u001b[0m\u001b[0mformat\u001b[0m\u001b[0;34m(\u001b[0m\u001b[0my_type\u001b[0m\u001b[0;34m)\u001b[0m\u001b[0;34m)\u001b[0m\u001b[0;34m\u001b[0m\u001b[0;34m\u001b[0m\u001b[0m\n\u001b[0m\u001b[1;32m    101\u001b[0m \u001b[0;34m\u001b[0m\u001b[0m\n\u001b[1;32m    102\u001b[0m     \u001b[0;32mif\u001b[0m \u001b[0my_type\u001b[0m \u001b[0;32min\u001b[0m \u001b[0;34m[\u001b[0m\u001b[0;34m\"binary\"\u001b[0m\u001b[0;34m,\u001b[0m \u001b[0;34m\"multiclass\"\u001b[0m\u001b[0;34m]\u001b[0m\u001b[0;34m:\u001b[0m\u001b[0;34m\u001b[0m\u001b[0;34m\u001b[0m\u001b[0m\n",
      "\u001b[0;31mValueError\u001b[0m: continuous is not supported"
     ]
    }
   ],
   "source": [
    "from sklearn import metrics\n",
    "metrics.accuracy_score(y_val, clf_model.predict(X_val))"
   ]
  },
  {
   "cell_type": "markdown",
   "id": "da8b3c59",
   "metadata": {},
   "source": [
    "# GRAPH EMBENDING"
   ]
  },
  {
   "cell_type": "code",
   "execution_count": 483,
   "id": "cd4d2e15",
   "metadata": {},
   "outputs": [
    {
     "ename": "SyntaxError",
     "evalue": "invalid syntax (<ipython-input-483-ca3dcc070f05>, line 7)",
     "output_type": "error",
     "traceback": [
      "\u001b[0;36m  File \u001b[0;32m\"<ipython-input-483-ca3dcc070f05>\"\u001b[0;36m, line \u001b[0;32m7\u001b[0m\n\u001b[0;31m    y = df[mask].results.values\u001b[0m\n\u001b[0m    ^\u001b[0m\n\u001b[0;31mSyntaxError\u001b[0m\u001b[0;31m:\u001b[0m invalid syntax\n"
     ]
    }
   ],
   "source": [
    "def get_features_target(mask):\n",
    "    \n",
    "    def get_embeddings(hero):\n",
    "        return team_embeddings.get(hero, np.full(200, np.nan))\n",
    "    \n",
    "    X = np.hstack((np.vstack(df[mask].hero_id.apply(get_embeddings).values),\n",
    "                )\n",
    "    y = df[mask].results.values\n",
    "    return X, y"
   ]
  },
  {
   "cell_type": "code",
   "execution_count": 485,
   "id": "dec145f1",
   "metadata": {},
   "outputs": [
    {
     "ename": "KeyError",
     "evalue": "'train'",
     "output_type": "error",
     "traceback": [
      "\u001b[0;31m---------------------------------------------------------------------------\u001b[0m",
      "\u001b[0;31mKeyError\u001b[0m                                  Traceback (most recent call last)",
      "\u001b[0;32m~/.conda/envs/pythonProject11/lib/python3.6/site-packages/pandas/core/indexes/base.py\u001b[0m in \u001b[0;36mget_loc\u001b[0;34m(self, key, method, tolerance)\u001b[0m\n\u001b[1;32m   2897\u001b[0m             \u001b[0;32mtry\u001b[0m\u001b[0;34m:\u001b[0m\u001b[0;34m\u001b[0m\u001b[0;34m\u001b[0m\u001b[0m\n\u001b[0;32m-> 2898\u001b[0;31m                 \u001b[0;32mreturn\u001b[0m \u001b[0mself\u001b[0m\u001b[0;34m.\u001b[0m\u001b[0m_engine\u001b[0m\u001b[0;34m.\u001b[0m\u001b[0mget_loc\u001b[0m\u001b[0;34m(\u001b[0m\u001b[0mcasted_key\u001b[0m\u001b[0;34m)\u001b[0m\u001b[0;34m\u001b[0m\u001b[0;34m\u001b[0m\u001b[0m\n\u001b[0m\u001b[1;32m   2899\u001b[0m             \u001b[0;32mexcept\u001b[0m \u001b[0mKeyError\u001b[0m \u001b[0;32mas\u001b[0m \u001b[0merr\u001b[0m\u001b[0;34m:\u001b[0m\u001b[0;34m\u001b[0m\u001b[0;34m\u001b[0m\u001b[0m\n",
      "\u001b[0;32mpandas/_libs/index.pyx\u001b[0m in \u001b[0;36mpandas._libs.index.IndexEngine.get_loc\u001b[0;34m()\u001b[0m\n",
      "\u001b[0;32mpandas/_libs/index.pyx\u001b[0m in \u001b[0;36mpandas._libs.index.IndexEngine.get_loc\u001b[0;34m()\u001b[0m\n",
      "\u001b[0;32mpandas/_libs/hashtable_class_helper.pxi\u001b[0m in \u001b[0;36mpandas._libs.hashtable.PyObjectHashTable.get_item\u001b[0;34m()\u001b[0m\n",
      "\u001b[0;32mpandas/_libs/hashtable_class_helper.pxi\u001b[0m in \u001b[0;36mpandas._libs.hashtable.PyObjectHashTable.get_item\u001b[0;34m()\u001b[0m\n",
      "\u001b[0;31mKeyError\u001b[0m: 'train'",
      "\nThe above exception was the direct cause of the following exception:\n",
      "\u001b[0;31mKeyError\u001b[0m                                  Traceback (most recent call last)",
      "\u001b[0;32m<ipython-input-485-fda538401a35>\u001b[0m in \u001b[0;36m<module>\u001b[0;34m\u001b[0m\n\u001b[0;32m----> 1\u001b[0;31m \u001b[0mclf_X_train\u001b[0m\u001b[0;34m,\u001b[0m \u001b[0my_train\u001b[0m \u001b[0;34m=\u001b[0m \u001b[0mget_features_target\u001b[0m\u001b[0;34m(\u001b[0m\u001b[0;34m(\u001b[0m\u001b[0mdf\u001b[0m\u001b[0;34m[\u001b[0m\u001b[0;34m\"train\"\u001b[0m\u001b[0;34m]\u001b[0m\u001b[0;34m)\u001b[0m\u001b[0;34m)\u001b[0m\u001b[0;34m\u001b[0m\u001b[0;34m\u001b[0m\u001b[0m\n\u001b[0m\u001b[1;32m      2\u001b[0m \u001b[0mclf_X_test\u001b[0m\u001b[0;34m,\u001b[0m \u001b[0my_test\u001b[0m \u001b[0;34m=\u001b[0m \u001b[0mget_features_target\u001b[0m\u001b[0;34m(\u001b[0m\u001b[0;34m(\u001b[0m\u001b[0;34m~\u001b[0m\u001b[0mdf\u001b[0m\u001b[0;34m[\u001b[0m\u001b[0;34m\"train\"\u001b[0m\u001b[0;34m]\u001b[0m\u001b[0;34m)\u001b[0m\u001b[0;34m)\u001b[0m\u001b[0;34m\u001b[0m\u001b[0;34m\u001b[0m\u001b[0m\n",
      "\u001b[0;32m~/.conda/envs/pythonProject11/lib/python3.6/site-packages/pandas/core/frame.py\u001b[0m in \u001b[0;36m__getitem__\u001b[0;34m(self, key)\u001b[0m\n\u001b[1;32m   2904\u001b[0m             \u001b[0;32mif\u001b[0m \u001b[0mself\u001b[0m\u001b[0;34m.\u001b[0m\u001b[0mcolumns\u001b[0m\u001b[0;34m.\u001b[0m\u001b[0mnlevels\u001b[0m \u001b[0;34m>\u001b[0m \u001b[0;36m1\u001b[0m\u001b[0;34m:\u001b[0m\u001b[0;34m\u001b[0m\u001b[0;34m\u001b[0m\u001b[0m\n\u001b[1;32m   2905\u001b[0m                 \u001b[0;32mreturn\u001b[0m \u001b[0mself\u001b[0m\u001b[0;34m.\u001b[0m\u001b[0m_getitem_multilevel\u001b[0m\u001b[0;34m(\u001b[0m\u001b[0mkey\u001b[0m\u001b[0;34m)\u001b[0m\u001b[0;34m\u001b[0m\u001b[0;34m\u001b[0m\u001b[0m\n\u001b[0;32m-> 2906\u001b[0;31m             \u001b[0mindexer\u001b[0m \u001b[0;34m=\u001b[0m \u001b[0mself\u001b[0m\u001b[0;34m.\u001b[0m\u001b[0mcolumns\u001b[0m\u001b[0;34m.\u001b[0m\u001b[0mget_loc\u001b[0m\u001b[0;34m(\u001b[0m\u001b[0mkey\u001b[0m\u001b[0;34m)\u001b[0m\u001b[0;34m\u001b[0m\u001b[0;34m\u001b[0m\u001b[0m\n\u001b[0m\u001b[1;32m   2907\u001b[0m             \u001b[0;32mif\u001b[0m \u001b[0mis_integer\u001b[0m\u001b[0;34m(\u001b[0m\u001b[0mindexer\u001b[0m\u001b[0;34m)\u001b[0m\u001b[0;34m:\u001b[0m\u001b[0;34m\u001b[0m\u001b[0;34m\u001b[0m\u001b[0m\n\u001b[1;32m   2908\u001b[0m                 \u001b[0mindexer\u001b[0m \u001b[0;34m=\u001b[0m \u001b[0;34m[\u001b[0m\u001b[0mindexer\u001b[0m\u001b[0;34m]\u001b[0m\u001b[0;34m\u001b[0m\u001b[0;34m\u001b[0m\u001b[0m\n",
      "\u001b[0;32m~/.conda/envs/pythonProject11/lib/python3.6/site-packages/pandas/core/indexes/base.py\u001b[0m in \u001b[0;36mget_loc\u001b[0;34m(self, key, method, tolerance)\u001b[0m\n\u001b[1;32m   2898\u001b[0m                 \u001b[0;32mreturn\u001b[0m \u001b[0mself\u001b[0m\u001b[0;34m.\u001b[0m\u001b[0m_engine\u001b[0m\u001b[0;34m.\u001b[0m\u001b[0mget_loc\u001b[0m\u001b[0;34m(\u001b[0m\u001b[0mcasted_key\u001b[0m\u001b[0;34m)\u001b[0m\u001b[0;34m\u001b[0m\u001b[0;34m\u001b[0m\u001b[0m\n\u001b[1;32m   2899\u001b[0m             \u001b[0;32mexcept\u001b[0m \u001b[0mKeyError\u001b[0m \u001b[0;32mas\u001b[0m \u001b[0merr\u001b[0m\u001b[0;34m:\u001b[0m\u001b[0;34m\u001b[0m\u001b[0;34m\u001b[0m\u001b[0m\n\u001b[0;32m-> 2900\u001b[0;31m                 \u001b[0;32mraise\u001b[0m \u001b[0mKeyError\u001b[0m\u001b[0;34m(\u001b[0m\u001b[0mkey\u001b[0m\u001b[0;34m)\u001b[0m \u001b[0;32mfrom\u001b[0m \u001b[0merr\u001b[0m\u001b[0;34m\u001b[0m\u001b[0;34m\u001b[0m\u001b[0m\n\u001b[0m\u001b[1;32m   2901\u001b[0m \u001b[0;34m\u001b[0m\u001b[0m\n\u001b[1;32m   2902\u001b[0m         \u001b[0;32mif\u001b[0m \u001b[0mtolerance\u001b[0m \u001b[0;32mis\u001b[0m \u001b[0;32mnot\u001b[0m \u001b[0;32mNone\u001b[0m\u001b[0;34m:\u001b[0m\u001b[0;34m\u001b[0m\u001b[0;34m\u001b[0m\u001b[0m\n",
      "\u001b[0;31mKeyError\u001b[0m: 'train'"
     ]
    }
   ],
   "source": [
    "clf_X_train, y_train = get_features_target((df[\"train\"]))\n",
    "clf_X_test, y_test = get_features_target((~df[\"train\"]))"
   ]
  },
  {
   "cell_type": "code",
   "execution_count": 479,
   "id": "76e5b9dc",
   "metadata": {},
   "outputs": [
    {
     "data": {
      "text/plain": [
       "array([[ 0.36460689, -0.27083418,  0.14476576, ...,         nan,\n",
       "                nan,         nan],\n",
       "       [ 0.14715391, -0.28927842, -0.38653088, ...,         nan,\n",
       "                nan,         nan],\n",
       "       [-0.36357623, -0.18903318, -0.05461784, ...,         nan,\n",
       "                nan,         nan],\n",
       "       ...,\n",
       "       [ 0.13610551, -0.43715224, -0.11657327, ...,         nan,\n",
       "                nan,         nan],\n",
       "       [ 0.17172661, -0.27165863, -0.15668282, ...,         nan,\n",
       "                nan,         nan],\n",
       "       [ 0.47387296, -0.39172977, -0.38238174, ...,         nan,\n",
       "                nan,         nan]])"
      ]
     },
     "execution_count": 479,
     "metadata": {},
     "output_type": "execute_result"
    }
   ],
   "source": [
    "clf_X_train\n"
   ]
  },
  {
   "cell_type": "code",
   "execution_count": 478,
   "id": "82f57c9e",
   "metadata": {},
   "outputs": [
    {
     "data": {
      "text/plain": [
       "((109, 400), (11, 400))"
      ]
     },
     "execution_count": 478,
     "metadata": {},
     "output_type": "execute_result"
    }
   ],
   "source": [
    "clf_X_train.shape, clf_X_test.shape"
   ]
  },
  {
   "cell_type": "code",
   "execution_count": 419,
   "id": "1b144c76",
   "metadata": {},
   "outputs": [
    {
     "data": {
      "text/plain": [
       "11.0"
      ]
     },
     "execution_count": 419,
     "metadata": {},
     "output_type": "execute_result"
    }
   ],
   "source": [
    "np.isnan(clf_X_test).sum()/clf_X_test.shape[1]"
   ]
  },
  {
   "cell_type": "code",
   "execution_count": 420,
   "id": "b0d92bd7",
   "metadata": {},
   "outputs": [],
   "source": [
    "clf_model = XGBClassifier(n_estimators=500, max_depth=5, objective=\"multi:softmax\")"
   ]
  },
  {
   "cell_type": "code",
   "execution_count": 421,
   "id": "8e7b0805",
   "metadata": {},
   "outputs": [
    {
     "name": "stderr",
     "output_type": "stream",
     "text": [
      "/Users/dmitriystupakov/.conda/envs/pythonProject11/lib/python3.6/site-packages/xgboost/sklearn.py:1224: UserWarning: The use of label encoder in XGBClassifier is deprecated and will be removed in a future release. To remove this warning, do the following: 1) Pass option use_label_encoder=False when constructing XGBClassifier object; and 2) Encode your labels (y) as integers starting with 0, i.e. 0, 1, 2, ..., [num_class - 1].\n",
      "  warnings.warn(label_encoder_deprecation_msg, UserWarning)\n"
     ]
    },
    {
     "name": "stdout",
     "output_type": "stream",
     "text": [
      "[15:00:12] WARNING: /Users/runner/work/xgboost/xgboost/src/learner.cc:1115: Starting in XGBoost 1.3.0, the default evaluation metric used with the objective 'multi:softprob' was changed from 'merror' to 'mlogloss'. Explicitly set eval_metric if you'd like to restore the old behavior.\n"
     ]
    },
    {
     "data": {
      "text/plain": [
       "XGBClassifier(base_score=0.5, booster='gbtree', colsample_bylevel=1,\n",
       "              colsample_bynode=1, colsample_bytree=1, enable_categorical=False,\n",
       "              gamma=0, gpu_id=-1, importance_type=None,\n",
       "              interaction_constraints='', learning_rate=0.300000012,\n",
       "              max_delta_step=0, max_depth=5, min_child_weight=1, missing=nan,\n",
       "              monotone_constraints='()', n_estimators=500, n_jobs=8,\n",
       "              num_parallel_tree=1, objective='multi:softprob', predictor='auto',\n",
       "              random_state=0, reg_alpha=0, reg_lambda=1, scale_pos_weight=None,\n",
       "              subsample=1, tree_method='exact', validate_parameters=1,\n",
       "              verbosity=None)"
      ]
     },
     "execution_count": 421,
     "metadata": {},
     "output_type": "execute_result"
    }
   ],
   "source": [
    "clf_model.fit(clf_X_train, y_train)"
   ]
  },
  {
   "cell_type": "code",
   "execution_count": 422,
   "id": "87b742b6",
   "metadata": {},
   "outputs": [
    {
     "data": {
      "text/plain": [
       "0.526917    0.090909\n",
       "0.505346    0.090909\n",
       "0.496124    0.090909\n",
       "0.506086    0.090909\n",
       "0.531753    0.090909\n",
       "0.444742    0.090909\n",
       "0.568585    0.090909\n",
       "0.511560    0.090909\n",
       "0.474201    0.090909\n",
       "0.488306    0.090909\n",
       "0.498678    0.090909\n",
       "Name: results, dtype: float64"
      ]
     },
     "execution_count": 422,
     "metadata": {},
     "output_type": "execute_result"
    }
   ],
   "source": [
    "df[~df[\"train\"]].results.value_counts(normalize=True)"
   ]
  },
  {
   "cell_type": "code",
   "execution_count": 460,
   "id": "17c52f7b",
   "metadata": {},
   "outputs": [
    {
     "data": {
      "text/plain": [
       "array([[nan, nan, nan, ..., nan, nan, nan],\n",
       "       [nan, nan, nan, ..., nan, nan, nan],\n",
       "       [nan, nan, nan, ..., nan, nan, nan],\n",
       "       ...,\n",
       "       [nan, nan, nan, ..., nan, nan, nan],\n",
       "       [nan, nan, nan, ..., nan, nan, nan],\n",
       "       [nan, nan, nan, ..., nan, nan, nan]])"
      ]
     },
     "execution_count": 460,
     "metadata": {},
     "output_type": "execute_result"
    }
   ],
   "source": []
  },
  {
   "cell_type": "code",
   "execution_count": 423,
   "id": "64a81b1f",
   "metadata": {},
   "outputs": [
    {
     "ename": "ValueError",
     "evalue": "continuous is not supported",
     "output_type": "error",
     "traceback": [
      "\u001b[0;31m---------------------------------------------------------------------------\u001b[0m",
      "\u001b[0;31mValueError\u001b[0m                                Traceback (most recent call last)",
      "\u001b[0;32m<ipython-input-423-14c80e6a91a7>\u001b[0m in \u001b[0;36m<module>\u001b[0;34m\u001b[0m\n\u001b[0;32m----> 1\u001b[0;31m \u001b[0mmetrics\u001b[0m\u001b[0;34m.\u001b[0m\u001b[0maccuracy_score\u001b[0m\u001b[0;34m(\u001b[0m\u001b[0my_test\u001b[0m\u001b[0;34m,\u001b[0m \u001b[0mclf_model\u001b[0m\u001b[0;34m.\u001b[0m\u001b[0mpredict\u001b[0m\u001b[0;34m(\u001b[0m\u001b[0mclf_X_test\u001b[0m\u001b[0;34m)\u001b[0m\u001b[0;34m)\u001b[0m\u001b[0;34m\u001b[0m\u001b[0;34m\u001b[0m\u001b[0m\n\u001b[0m",
      "\u001b[0;32m~/.conda/envs/pythonProject11/lib/python3.6/site-packages/sklearn/utils/validation.py\u001b[0m in \u001b[0;36minner_f\u001b[0;34m(*args, **kwargs)\u001b[0m\n\u001b[1;32m     61\u001b[0m             \u001b[0mextra_args\u001b[0m \u001b[0;34m=\u001b[0m \u001b[0mlen\u001b[0m\u001b[0;34m(\u001b[0m\u001b[0margs\u001b[0m\u001b[0;34m)\u001b[0m \u001b[0;34m-\u001b[0m \u001b[0mlen\u001b[0m\u001b[0;34m(\u001b[0m\u001b[0mall_args\u001b[0m\u001b[0;34m)\u001b[0m\u001b[0;34m\u001b[0m\u001b[0;34m\u001b[0m\u001b[0m\n\u001b[1;32m     62\u001b[0m             \u001b[0;32mif\u001b[0m \u001b[0mextra_args\u001b[0m \u001b[0;34m<=\u001b[0m \u001b[0;36m0\u001b[0m\u001b[0;34m:\u001b[0m\u001b[0;34m\u001b[0m\u001b[0;34m\u001b[0m\u001b[0m\n\u001b[0;32m---> 63\u001b[0;31m                 \u001b[0;32mreturn\u001b[0m \u001b[0mf\u001b[0m\u001b[0;34m(\u001b[0m\u001b[0;34m*\u001b[0m\u001b[0margs\u001b[0m\u001b[0;34m,\u001b[0m \u001b[0;34m**\u001b[0m\u001b[0mkwargs\u001b[0m\u001b[0;34m)\u001b[0m\u001b[0;34m\u001b[0m\u001b[0;34m\u001b[0m\u001b[0m\n\u001b[0m\u001b[1;32m     64\u001b[0m \u001b[0;34m\u001b[0m\u001b[0m\n\u001b[1;32m     65\u001b[0m             \u001b[0;31m# extra_args > 0\u001b[0m\u001b[0;34m\u001b[0m\u001b[0;34m\u001b[0m\u001b[0;34m\u001b[0m\u001b[0m\n",
      "\u001b[0;32m~/.conda/envs/pythonProject11/lib/python3.6/site-packages/sklearn/metrics/_classification.py\u001b[0m in \u001b[0;36maccuracy_score\u001b[0;34m(y_true, y_pred, normalize, sample_weight)\u001b[0m\n\u001b[1;32m    200\u001b[0m \u001b[0;34m\u001b[0m\u001b[0m\n\u001b[1;32m    201\u001b[0m     \u001b[0;31m# Compute accuracy for each possible representation\u001b[0m\u001b[0;34m\u001b[0m\u001b[0;34m\u001b[0m\u001b[0;34m\u001b[0m\u001b[0m\n\u001b[0;32m--> 202\u001b[0;31m     \u001b[0my_type\u001b[0m\u001b[0;34m,\u001b[0m \u001b[0my_true\u001b[0m\u001b[0;34m,\u001b[0m \u001b[0my_pred\u001b[0m \u001b[0;34m=\u001b[0m \u001b[0m_check_targets\u001b[0m\u001b[0;34m(\u001b[0m\u001b[0my_true\u001b[0m\u001b[0;34m,\u001b[0m \u001b[0my_pred\u001b[0m\u001b[0;34m)\u001b[0m\u001b[0;34m\u001b[0m\u001b[0;34m\u001b[0m\u001b[0m\n\u001b[0m\u001b[1;32m    203\u001b[0m     \u001b[0mcheck_consistent_length\u001b[0m\u001b[0;34m(\u001b[0m\u001b[0my_true\u001b[0m\u001b[0;34m,\u001b[0m \u001b[0my_pred\u001b[0m\u001b[0;34m,\u001b[0m \u001b[0msample_weight\u001b[0m\u001b[0;34m)\u001b[0m\u001b[0;34m\u001b[0m\u001b[0;34m\u001b[0m\u001b[0m\n\u001b[1;32m    204\u001b[0m     \u001b[0;32mif\u001b[0m \u001b[0my_type\u001b[0m\u001b[0;34m.\u001b[0m\u001b[0mstartswith\u001b[0m\u001b[0;34m(\u001b[0m\u001b[0;34m'multilabel'\u001b[0m\u001b[0;34m)\u001b[0m\u001b[0;34m:\u001b[0m\u001b[0;34m\u001b[0m\u001b[0;34m\u001b[0m\u001b[0m\n",
      "\u001b[0;32m~/.conda/envs/pythonProject11/lib/python3.6/site-packages/sklearn/metrics/_classification.py\u001b[0m in \u001b[0;36m_check_targets\u001b[0;34m(y_true, y_pred)\u001b[0m\n\u001b[1;32m     98\u001b[0m     \u001b[0;31m# No metrics support \"multiclass-multioutput\" format\u001b[0m\u001b[0;34m\u001b[0m\u001b[0;34m\u001b[0m\u001b[0;34m\u001b[0m\u001b[0m\n\u001b[1;32m     99\u001b[0m     \u001b[0;32mif\u001b[0m \u001b[0;34m(\u001b[0m\u001b[0my_type\u001b[0m \u001b[0;32mnot\u001b[0m \u001b[0;32min\u001b[0m \u001b[0;34m[\u001b[0m\u001b[0;34m\"binary\"\u001b[0m\u001b[0;34m,\u001b[0m \u001b[0;34m\"multiclass\"\u001b[0m\u001b[0;34m,\u001b[0m \u001b[0;34m\"multilabel-indicator\"\u001b[0m\u001b[0;34m]\u001b[0m\u001b[0;34m)\u001b[0m\u001b[0;34m:\u001b[0m\u001b[0;34m\u001b[0m\u001b[0;34m\u001b[0m\u001b[0m\n\u001b[0;32m--> 100\u001b[0;31m         \u001b[0;32mraise\u001b[0m \u001b[0mValueError\u001b[0m\u001b[0;34m(\u001b[0m\u001b[0;34m\"{0} is not supported\"\u001b[0m\u001b[0;34m.\u001b[0m\u001b[0mformat\u001b[0m\u001b[0;34m(\u001b[0m\u001b[0my_type\u001b[0m\u001b[0;34m)\u001b[0m\u001b[0;34m)\u001b[0m\u001b[0;34m\u001b[0m\u001b[0;34m\u001b[0m\u001b[0m\n\u001b[0m\u001b[1;32m    101\u001b[0m \u001b[0;34m\u001b[0m\u001b[0m\n\u001b[1;32m    102\u001b[0m     \u001b[0;32mif\u001b[0m \u001b[0my_type\u001b[0m \u001b[0;32min\u001b[0m \u001b[0;34m[\u001b[0m\u001b[0;34m\"binary\"\u001b[0m\u001b[0;34m,\u001b[0m \u001b[0;34m\"multiclass\"\u001b[0m\u001b[0;34m]\u001b[0m\u001b[0;34m:\u001b[0m\u001b[0;34m\u001b[0m\u001b[0;34m\u001b[0m\u001b[0m\n",
      "\u001b[0;31mValueError\u001b[0m: continuous is not supported"
     ]
    }
   ],
   "source": [
    "metrics.accuracy_score(y_test, clf_model.predict(clf_X_test))"
   ]
  },
  {
   "cell_type": "markdown",
   "id": "46e0ea22",
   "metadata": {},
   "source": [
    "# Linked Prediction\n"
   ]
  },
  {
   "cell_type": "code",
   "execution_count": 438,
   "id": "8c793e6f",
   "metadata": {},
   "outputs": [],
   "source": [
    "X_train, X_valid = train_test_split_no_unseen(np.array(triples), test_size=1000)"
   ]
  },
  {
   "cell_type": "code",
   "execution_count": 439,
   "id": "37bbad0f",
   "metadata": {},
   "outputs": [
    {
     "name": "stdout",
     "output_type": "stream",
     "text": [
      "     subject        predicate              object\n",
      "53     Hero7    baseAttackMin                  16\n",
      "69     Hero7            picks               94697\n",
      "83     Hero7      hasMainRole    MainRoleSafelane\n",
      "121    Hero7          hasName      NameJuggernaut\n",
      "177    Hero7    baseManaRegen                 0.0\n",
      "447    Hero7             wins               50057\n",
      "466    Hero7        moveSpeed                 305\n",
      "484    Hero7  projectileSpeed                   0\n",
      "698    Hero7          agiGain                 2.8\n",
      "718    Hero7          intGain                 1.4\n",
      "999    Hero7    baseAttackMax                  20\n",
      "1227   Hero7          baseAgi                  34\n",
      "1298   Hero7             legs                   2\n",
      "1361   Hero7        baseArmor                 3.0\n",
      "1474   Hero7          strGain                 2.2\n",
      "1547   Hero7          baseStr                  20\n",
      "1613   Hero7         turnRate                 0.6\n",
      "1621   Hero7          winrate  51.307863031071655\n",
      "1810   Hero7       baseHealth                 200\n"
     ]
    }
   ],
   "source": [
    "df = pd.DataFrame(X_train,columns = ['subject','predicate','object'])\n",
    "heroSubject = \"Hero7\"\n",
    "print(df[df.subject==heroSubject])"
   ]
  },
  {
   "cell_type": "code",
   "execution_count": 450,
   "id": "9e0998b5",
   "metadata": {},
   "outputs": [
    {
     "name": "stdout",
     "output_type": "stream",
     "text": [
      "      subject    predicate               object\n",
      "6      Hero38  hasMainRole      MainRoleSupport\n",
      "66      Hero4  hasMainRole  MainRoleHardsupport\n",
      "68     Hero63  hasMainRole          MainRoleMid\n",
      "78     Hero14  hasMainRole      MainRoleOfflane\n",
      "83      Hero7  hasMainRole     MainRoleSafelane\n",
      "...       ...          ...                  ...\n",
      "1563   Hero36  hasMainRole      MainRoleOfflane\n",
      "1638   Hero29  hasMainRole  MainRoleHardsupport\n",
      "1758  Hero117  hasMainRole          MainRoleMid\n",
      "1785   Hero28  hasMainRole  MainRoleHardsupport\n",
      "1821    Hero0  hasMainRole     MainRoleSafelane\n",
      "\n",
      "[64 rows x 3 columns]\n"
     ]
    }
   ],
   "source": [
    "print(df[df.predicate==\"hasMainRole\"])"
   ]
  },
  {
   "cell_type": "code",
   "execution_count": 452,
   "id": "04f27f88",
   "metadata": {},
   "outputs": [],
   "source": [
    "dfFiltered = np.array(df[(df.subject!=heroSubject) | ((df.subject==heroSubject) & ~df.predicate.isin([\"hasMainRole\"]))])"
   ]
  },
  {
   "cell_type": "code",
   "execution_count": 453,
   "id": "d958bcc6",
   "metadata": {},
   "outputs": [
    {
     "name": "stderr",
     "output_type": "stream",
     "text": [
      "Average ComplEx Loss:   0.243345: 100%|██████████| 300/300 [00:49<00:00,  6.05epoch/s]\n"
     ]
    }
   ],
   "source": [
    "model.fit(dfFiltered)"
   ]
  },
  {
   "cell_type": "code",
   "execution_count": 454,
   "id": "a5557fba",
   "metadata": {},
   "outputs": [],
   "source": [
    "statements = np.array([\n",
    "    [f'{heroSubject}', 'hasMainRole', 'MainRoleSafelane'],\n",
    "    [f'{heroSubject}', 'hasMainRole', 'MainRoleOfflane'],\n",
    "    [f'{heroSubject}', 'hasMainRole', 'MainRoleMid'],\n",
    "    [f'{heroSubject}', 'hasMainRole', 'MainRoleHardsupport'],\n",
    "    [f'{heroSubject}', 'hasMainRole', 'MainRoleSupport'],\n",
    "])"
   ]
  },
  {
   "cell_type": "code",
   "execution_count": 455,
   "id": "5876fd7d",
   "metadata": {},
   "outputs": [
    {
     "data": {
      "text/plain": [
       "array([['Hero41', 'hasName', 'NameDeathProphet'],\n",
       "       ['Hero34', 'hasMainRole', 'MainRoleOfflane'],\n",
       "       ['Hero26', 'hasAttackType', 'AttackTypeMelee'],\n",
       "       ...,\n",
       "       ['Hero24', 'baseArmor', '3.0'],\n",
       "       ['Hero3', 'strGain', '2.7'],\n",
       "       ['Hero97', 'hasAttackType', 'AttackTypeMelee']], dtype='<U21')"
      ]
     },
     "execution_count": 455,
     "metadata": {},
     "output_type": "execute_result"
    }
   ],
   "source": [
    "statements_filter = np.array(list({tuple(i) for i in np.vstack((dfFiltered, statements))}))\n",
    "len(statements_filter)\n",
    "statements_filter"
   ]
  },
  {
   "cell_type": "code",
   "execution_count": 456,
   "id": "4eabe72c",
   "metadata": {},
   "outputs": [
    {
     "name": "stderr",
     "output_type": "stream",
     "text": [
      "100%|██████████| 5/5 [00:00<00:00, 75.47it/s]\n"
     ]
    }
   ],
   "source": [
    "ranks_statements = evaluate_performance(\n",
    "    statements, \n",
    "    model=model, \n",
    "    filter_triples=statements_filter, \n",
    "    corrupt_side = 's+o',\n",
    "    use_default_protocol=False,\n",
    "    verbose=True)"
   ]
  },
  {
   "cell_type": "code",
   "execution_count": 457,
   "id": "48bb25b4",
   "metadata": {},
   "outputs": [
    {
     "data": {
      "text/plain": [
       "array([4.283038 , 4.459559 , 4.4706717, 4.74881  , 3.7870803],\n",
       "      dtype=float32)"
      ]
     },
     "execution_count": 457,
     "metadata": {},
     "output_type": "execute_result"
    }
   ],
   "source": [
    "scores = model.predict(statements)\n",
    "scores"
   ]
  },
  {
   "cell_type": "code",
   "execution_count": 458,
   "id": "c9278f62",
   "metadata": {},
   "outputs": [
    {
     "data": {
      "text/html": [
       "<div>\n",
       "<style scoped>\n",
       "    .dataframe tbody tr th:only-of-type {\n",
       "        vertical-align: middle;\n",
       "    }\n",
       "\n",
       "    .dataframe tbody tr th {\n",
       "        vertical-align: top;\n",
       "    }\n",
       "\n",
       "    .dataframe thead th {\n",
       "        text-align: right;\n",
       "    }\n",
       "</style>\n",
       "<table border=\"1\" class=\"dataframe\">\n",
       "  <thead>\n",
       "    <tr style=\"text-align: right;\">\n",
       "      <th></th>\n",
       "      <th>statement</th>\n",
       "      <th>rank</th>\n",
       "      <th>score</th>\n",
       "      <th>prob</th>\n",
       "    </tr>\n",
       "  </thead>\n",
       "  <tbody>\n",
       "    <tr>\n",
       "      <th>4</th>\n",
       "      <td>Hero7 hasMainRole MainRoleSupport</td>\n",
       "      <td>70</td>\n",
       "      <td>3.787080</td>\n",
       "      <td>0.977840</td>\n",
       "    </tr>\n",
       "    <tr>\n",
       "      <th>0</th>\n",
       "      <td>Hero7 hasMainRole MainRoleSafelane</td>\n",
       "      <td>40</td>\n",
       "      <td>4.283038</td>\n",
       "      <td>0.986387</td>\n",
       "    </tr>\n",
       "    <tr>\n",
       "      <th>1</th>\n",
       "      <td>Hero7 hasMainRole MainRoleOfflane</td>\n",
       "      <td>63</td>\n",
       "      <td>4.459559</td>\n",
       "      <td>0.988565</td>\n",
       "    </tr>\n",
       "    <tr>\n",
       "      <th>2</th>\n",
       "      <td>Hero7 hasMainRole MainRoleMid</td>\n",
       "      <td>72</td>\n",
       "      <td>4.470672</td>\n",
       "      <td>0.988690</td>\n",
       "    </tr>\n",
       "    <tr>\n",
       "      <th>3</th>\n",
       "      <td>Hero7 hasMainRole MainRoleHardsupport</td>\n",
       "      <td>30</td>\n",
       "      <td>4.748810</td>\n",
       "      <td>0.991412</td>\n",
       "    </tr>\n",
       "  </tbody>\n",
       "</table>\n",
       "</div>"
      ],
      "text/plain": [
       "                               statement  rank     score      prob\n",
       "4      Hero7 hasMainRole MainRoleSupport    70  3.787080  0.977840\n",
       "0     Hero7 hasMainRole MainRoleSafelane    40  4.283038  0.986387\n",
       "1      Hero7 hasMainRole MainRoleOfflane    63  4.459559  0.988565\n",
       "2          Hero7 hasMainRole MainRoleMid    72  4.470672  0.988690\n",
       "3  Hero7 hasMainRole MainRoleHardsupport    30  4.748810  0.991412"
      ]
     },
     "execution_count": 458,
     "metadata": {},
     "output_type": "execute_result"
    }
   ],
   "source": [
    "from scipy.special import expit\n",
    "probs = expit(scores)\n",
    "\n",
    "pd.DataFrame(list(zip([' '.join(x) for x in statements], \n",
    "                      ranks_statements, \n",
    "                      np.squeeze(scores),\n",
    "                      np.squeeze(probs))), \n",
    "             columns=['statement', 'rank', 'score', 'prob']).sort_values(\"prob\")"
   ]
  },
  {
   "cell_type": "code",
   "execution_count": null,
   "id": "c4276d49",
   "metadata": {},
   "outputs": [],
   "source": []
  }
 ],
 "metadata": {
  "kernelspec": {
   "display_name": "Python 3",
   "language": "python",
   "name": "python3"
  },
  "language_info": {
   "codemirror_mode": {
    "name": "ipython",
    "version": 3
   },
   "file_extension": ".py",
   "mimetype": "text/x-python",
   "name": "python",
   "nbconvert_exporter": "python",
   "pygments_lexer": "ipython3",
   "version": "3.6.13"
  }
 },
 "nbformat": 4,
 "nbformat_minor": 5
}
