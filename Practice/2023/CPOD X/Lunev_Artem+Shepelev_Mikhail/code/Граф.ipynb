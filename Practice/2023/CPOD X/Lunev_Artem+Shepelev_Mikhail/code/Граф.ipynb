{
  "nbformat": 4,
  "nbformat_minor": 0,
  "metadata": {
    "colab": {
      "provenance": []
    },
    "kernelspec": {
      "name": "python3",
      "display_name": "Python 3"
    },
    "language_info": {
      "name": "python"
    }
  },
  "cells": [
    {
      "cell_type": "code",
      "metadata": {
        "colab": {
          "base_uri": "https://localhost:8080/"
        },
        "id": "HwWQePfh8Bw4",
        "outputId": "e0387404-e093-4671-c613-b2fea8241e83"
      },
      "source": [
        "!pip install rdflib\n",
        "!pip install PyDrive"
      ],
      "execution_count": 44,
      "outputs": [
        {
          "output_type": "stream",
          "name": "stdout",
          "text": [
            "Looking in indexes: https://pypi.org/simple, https://us-python.pkg.dev/colab-wheels/public/simple/\n",
            "Requirement already satisfied: rdflib in /usr/local/lib/python3.10/dist-packages (6.3.2)\n",
            "Requirement already satisfied: isodate<0.7.0,>=0.6.0 in /usr/local/lib/python3.10/dist-packages (from rdflib) (0.6.1)\n",
            "Requirement already satisfied: pyparsing<4,>=2.1.0 in /usr/local/lib/python3.10/dist-packages (from rdflib) (3.0.9)\n",
            "Requirement already satisfied: six in /usr/local/lib/python3.10/dist-packages (from isodate<0.7.0,>=0.6.0->rdflib) (1.16.0)\n",
            "Looking in indexes: https://pypi.org/simple, https://us-python.pkg.dev/colab-wheels/public/simple/\n",
            "Requirement already satisfied: PyDrive in /usr/local/lib/python3.10/dist-packages (1.3.1)\n",
            "Requirement already satisfied: google-api-python-client>=1.2 in /usr/local/lib/python3.10/dist-packages (from PyDrive) (2.84.0)\n",
            "Requirement already satisfied: oauth2client>=4.0.0 in /usr/local/lib/python3.10/dist-packages (from PyDrive) (4.1.3)\n",
            "Requirement already satisfied: PyYAML>=3.0 in /usr/local/lib/python3.10/dist-packages (from PyDrive) (6.0)\n",
            "Requirement already satisfied: httplib2<1dev,>=0.15.0 in /usr/local/lib/python3.10/dist-packages (from google-api-python-client>=1.2->PyDrive) (0.21.0)\n",
            "Requirement already satisfied: google-auth<3.0.0dev,>=1.19.0 in /usr/local/lib/python3.10/dist-packages (from google-api-python-client>=1.2->PyDrive) (2.17.3)\n",
            "Requirement already satisfied: google-auth-httplib2>=0.1.0 in /usr/local/lib/python3.10/dist-packages (from google-api-python-client>=1.2->PyDrive) (0.1.0)\n",
            "Requirement already satisfied: google-api-core!=2.0.*,!=2.1.*,!=2.2.*,!=2.3.0,<3.0.0dev,>=1.31.5 in /usr/local/lib/python3.10/dist-packages (from google-api-python-client>=1.2->PyDrive) (2.11.0)\n",
            "Requirement already satisfied: uritemplate<5,>=3.0.1 in /usr/local/lib/python3.10/dist-packages (from google-api-python-client>=1.2->PyDrive) (4.1.1)\n",
            "Requirement already satisfied: pyasn1>=0.1.7 in /usr/local/lib/python3.10/dist-packages (from oauth2client>=4.0.0->PyDrive) (0.5.0)\n",
            "Requirement already satisfied: pyasn1-modules>=0.0.5 in /usr/local/lib/python3.10/dist-packages (from oauth2client>=4.0.0->PyDrive) (0.3.0)\n",
            "Requirement already satisfied: rsa>=3.1.4 in /usr/local/lib/python3.10/dist-packages (from oauth2client>=4.0.0->PyDrive) (4.9)\n",
            "Requirement already satisfied: six>=1.6.1 in /usr/local/lib/python3.10/dist-packages (from oauth2client>=4.0.0->PyDrive) (1.16.0)\n",
            "Requirement already satisfied: googleapis-common-protos<2.0dev,>=1.56.2 in /usr/local/lib/python3.10/dist-packages (from google-api-core!=2.0.*,!=2.1.*,!=2.2.*,!=2.3.0,<3.0.0dev,>=1.31.5->google-api-python-client>=1.2->PyDrive) (1.59.0)\n",
            "Requirement already satisfied: protobuf!=3.20.0,!=3.20.1,!=4.21.0,!=4.21.1,!=4.21.2,!=4.21.3,!=4.21.4,!=4.21.5,<5.0.0dev,>=3.19.5 in /usr/local/lib/python3.10/dist-packages (from google-api-core!=2.0.*,!=2.1.*,!=2.2.*,!=2.3.0,<3.0.0dev,>=1.31.5->google-api-python-client>=1.2->PyDrive) (3.20.3)\n",
            "Requirement already satisfied: requests<3.0.0dev,>=2.18.0 in /usr/local/lib/python3.10/dist-packages (from google-api-core!=2.0.*,!=2.1.*,!=2.2.*,!=2.3.0,<3.0.0dev,>=1.31.5->google-api-python-client>=1.2->PyDrive) (2.27.1)\n",
            "Requirement already satisfied: cachetools<6.0,>=2.0.0 in /usr/local/lib/python3.10/dist-packages (from google-auth<3.0.0dev,>=1.19.0->google-api-python-client>=1.2->PyDrive) (5.3.0)\n",
            "Requirement already satisfied: pyparsing!=3.0.0,!=3.0.1,!=3.0.2,!=3.0.3,<4,>=2.4.2 in /usr/local/lib/python3.10/dist-packages (from httplib2<1dev,>=0.15.0->google-api-python-client>=1.2->PyDrive) (3.0.9)\n",
            "Requirement already satisfied: urllib3<1.27,>=1.21.1 in /usr/local/lib/python3.10/dist-packages (from requests<3.0.0dev,>=2.18.0->google-api-core!=2.0.*,!=2.1.*,!=2.2.*,!=2.3.0,<3.0.0dev,>=1.31.5->google-api-python-client>=1.2->PyDrive) (1.26.15)\n",
            "Requirement already satisfied: certifi>=2017.4.17 in /usr/local/lib/python3.10/dist-packages (from requests<3.0.0dev,>=2.18.0->google-api-core!=2.0.*,!=2.1.*,!=2.2.*,!=2.3.0,<3.0.0dev,>=1.31.5->google-api-python-client>=1.2->PyDrive) (2022.12.7)\n",
            "Requirement already satisfied: charset-normalizer~=2.0.0 in /usr/local/lib/python3.10/dist-packages (from requests<3.0.0dev,>=2.18.0->google-api-core!=2.0.*,!=2.1.*,!=2.2.*,!=2.3.0,<3.0.0dev,>=1.31.5->google-api-python-client>=1.2->PyDrive) (2.0.12)\n",
            "Requirement already satisfied: idna<4,>=2.5 in /usr/local/lib/python3.10/dist-packages (from requests<3.0.0dev,>=2.18.0->google-api-core!=2.0.*,!=2.1.*,!=2.2.*,!=2.3.0,<3.0.0dev,>=1.31.5->google-api-python-client>=1.2->PyDrive) (3.4)\n"
          ]
        }
      ]
    },
    {
      "cell_type": "code",
      "metadata": {
        "id": "sKzl-L8P9c4S"
      },
      "source": [
        "from rdflib import URIRef, BNode, Literal, Namespace, Graph\n",
        "from rdflib.namespace import Namespace, NamespaceManager\n",
        "from rdflib.plugins import sparql\n",
        "from rdflib.namespace import RDF, RDFS, XSD\n",
        "from rdflib.serializer import Serializer"
      ],
      "execution_count": 45,
      "outputs": []
    },
    {
      "cell_type": "code",
      "metadata": {
        "colab": {
          "base_uri": "https://localhost:8080/"
        },
        "id": "MR3XiYkm_1fZ",
        "outputId": "b74df99a-d4e9-4d00-e3a8-9e01848372a4"
      },
      "source": [
        "g = Graph()\n",
        "g.parse('Ontology.ttl', format=\"turtle\")"
      ],
      "execution_count": 46,
      "outputs": [
        {
          "output_type": "execute_result",
          "data": {
            "text/plain": [
              "<Graph identifier=Nfeb0488448434c15a9c4f46e596c9ac0 (<class 'rdflib.graph.Graph'>)>"
            ]
          },
          "metadata": {},
          "execution_count": 46
        }
      ]
    },
    {
      "cell_type": "code",
      "source": [
        "from rdflib.namespace import RDF, RDFS, OWL\n",
        "\n",
        "# Query for all classes defined in the ontology\n",
        "results = g.query(\"\"\"\n",
        "    SELECT ?class\n",
        "    WHERE {\n",
        "        ?class a owl:Class .\n",
        "    }\n",
        "\"\"\")\n",
        "\n",
        "# Print out the results\n",
        "for row in results:\n",
        "    print(row[\"class\"])"
      ],
      "metadata": {
        "colab": {
          "base_uri": "https://localhost:8080/"
        },
        "id": "aPA5KswhTpUY",
        "outputId": "302459b0-b5b8-4da6-9dc0-8705643ef5dd"
      },
      "execution_count": 47,
      "outputs": [
        {
          "output_type": "stream",
          "name": "stdout",
          "text": [
            "http://xmlns.com/vid_adv/0.1/Video\n",
            "http://xmlns.com/vid_adv/0.1/Timecode\n",
            "http://xmlns.com/vid_adv/0.1/Advertising\n",
            "http://xmlns.com/vid_adv/0.1/Reference\n",
            "http://xmlns.com/vid_adv/0.1/AdvRef\n",
            "http://xmlns.com/vid_adv/0.1/End\n",
            "http://xmlns.com/vid_adv/0.1/Start\n",
            "http://xmlns.com/vid_adv/0.1/VidRef\n",
            "http://xmlns.com/vid_adv/0.1/Chanel\n",
            "http://xmlns.com/vid_adv/0.1/AudioPath\n",
            "http://xmlns.com/vid_adv/0.1/VideoPath\n",
            "http://xmlns.com/vid_adv/0.1/Path\n"
          ]
        }
      ]
    },
    {
      "cell_type": "code",
      "source": [
        "print(len(g))"
      ],
      "metadata": {
        "colab": {
          "base_uri": "https://localhost:8080/"
        },
        "id": "Pm3nIc-JZCS6",
        "outputId": "865cb137-ec3b-41e5-cfbd-fc084ef4fe40"
      },
      "execution_count": 48,
      "outputs": [
        {
          "output_type": "stream",
          "name": "stdout",
          "text": [
            "85\n"
          ]
        }
      ]
    },
    {
      "cell_type": "code",
      "source": [
        "for subj, pred, obj in g:\n",
        "  print(subj, pred, obj)"
      ],
      "metadata": {
        "colab": {
          "base_uri": "https://localhost:8080/"
        },
        "id": "12u4a9bCZOF_",
        "outputId": "68d3d31d-c11a-4205-e3ca-c77fb92e1fcb"
      },
      "execution_count": 49,
      "outputs": [
        {
          "output_type": "stream",
          "name": "stdout",
          "text": [
            "http://xmlns.com/vid_adv/0.1/ref_value http://www.w3.org/2000/01/rdf-schema#label ref_value\n",
            "http://xmlns.com/vid_adv/0.1/ends http://www.w3.org/2000/01/rdf-schema#domain http://xmlns.com/vid_adv/0.1/Advertising\n",
            "http://xmlns.com/vid_adv/0.1/Advertising http://www.w3.org/1999/02/22-rdf-syntax-ns#type http://www.w3.org/2002/07/owl#Class\n",
            "http://xmlns.com/vid_adv/0.1/AdvRef http://www.w3.org/2000/01/rdf-schema#label AdvRef\n",
            "http://xmlns.com/vid_adv/0.1/End http://www.w3.org/1999/02/22-rdf-syntax-ns#type http://www.w3.org/2002/07/owl#Class\n",
            "http://xmlns.com/vid_adv/0.1/starts http://www.w3.org/2000/01/rdf-schema#label starts\n",
            "http://xmlns.com/vid_adv/0.1/Video http://www.w3.org/1999/02/22-rdf-syntax-ns#type http://www.w3.org/2002/07/owl#Class\n",
            "http://xmlns.com/vid_adv/0.1/name http://www.w3.org/2000/01/rdf-schema#domain http://xmlns.com/vid_adv/0.1/Chanel\n",
            "http://xmlns.com/vid_adv/0.1/Chanel http://www.w3.org/1999/02/22-rdf-syntax-ns#type http://www.w3.org/2002/07/owl#Class\n",
            "http://xmlns.com/vid_adv/0.1/refs_to_vid http://www.w3.org/1999/02/22-rdf-syntax-ns#type http://www.w3.org/2002/07/owl#ObjectProperty\n",
            "http://xmlns.com/vid_adv/0.1/AdvRef http://www.w3.org/2000/01/rdf-schema#subClassOf http://xmlns.com/vid_adv/0.1/Reference\n",
            "http://xmlns.com/vid_adv/0.1/contains http://www.w3.org/2000/01/rdf-schema#range http://xmlns.com/vid_adv/0.1/Video\n",
            "http://xmlns.com/vid_adv/0.1/ref_value http://www.w3.org/2000/01/rdf-schema#range http://www.w3.org/2001/XMLSchema#string\n",
            "http://xmlns.com/vid_adv/0.1/AudioPath http://www.w3.org/1999/02/22-rdf-syntax-ns#type http://www.w3.org/2002/07/owl#Class\n",
            "http://xmlns.com/vid_adv/0.1/Timecode http://www.w3.org/1999/02/22-rdf-syntax-ns#type http://www.w3.org/2002/07/owl#Class\n",
            "http://xmlns.com/vid_adv/0.1/VideoPath http://www.w3.org/2000/01/rdf-schema#subClassOf http://xmlns.com/vid_adv/0.1/Path\n",
            "http://xmlns.com/vid_adv/0.1/path_to_audio http://www.w3.org/1999/02/22-rdf-syntax-ns#type http://www.w3.org/2002/07/owl#ObjectProperty\n",
            "http://xmlns.com/vid_adv/0.1/FolderPath http://www.w3.org/2000/01/rdf-schema#domain http://xmlns.com/vid_adv/0.1/Path\n",
            "http://xmlns.com/vid_adv/0.1/second http://www.w3.org/2000/01/rdf-schema#range http://www.w3.org/2001/XMLSchema#integer\n",
            "http://xmlns.com/vid_adv/0.1/AudioPath http://www.w3.org/2000/01/rdf-schema#label AudioPath\n",
            "http://xmlns.com/vid_adv/0.1/CompanyName http://www.w3.org/2000/01/rdf-schema#label CompanyName\n",
            "http://xmlns.com/vid_adv/0.1/FolderPath http://www.w3.org/1999/02/22-rdf-syntax-ns#type http://www.w3.org/2002/07/owl#DatatypeProperty\n",
            "http://xmlns.com/vid_adv/0.1/Path http://www.w3.org/1999/02/22-rdf-syntax-ns#type http://www.w3.org/2002/07/owl#Class\n",
            "http://xmlns.com/vid_adv/0.1/name http://www.w3.org/1999/02/22-rdf-syntax-ns#type http://www.w3.org/2002/07/owl#DatatypeProperty\n",
            "http://xmlns.com/vid_adv/0.1/refs_to_adv http://www.w3.org/2000/01/rdf-schema#range http://xmlns.com/vid_adv/0.1/AdvRef\n",
            "http://xmlns.com/vid_adv/0.1/has http://www.w3.org/2000/01/rdf-schema#label has\n",
            "http://xmlns.com/vid_adv/0.1/Timecode http://www.w3.org/2000/01/rdf-schema#label Timecode\n",
            "http://xmlns.com/vid_adv/0.1/second http://www.w3.org/2000/01/rdf-schema#label second\n",
            "http://xmlns.com/vid_adv/0.1/starts http://www.w3.org/2000/01/rdf-schema#domain http://xmlns.com/vid_adv/0.1/Advertising\n",
            "http://xmlns.com/vid_adv/0.1/has http://www.w3.org/1999/02/22-rdf-syntax-ns#type http://www.w3.org/2002/07/owl#ObjectProperty\n",
            "http://xmlns.com/vid_adv/0.1/FolderPath http://www.w3.org/2000/01/rdf-schema#label FolderPath\n",
            "http://xmlns.com/vid_adv/0.1/refs_to_adv http://www.w3.org/1999/02/22-rdf-syntax-ns#type http://www.w3.org/2002/07/owl#ObjectProperty\n",
            "http://xmlns.com/vid_adv/0.1/VidRef http://www.w3.org/1999/02/22-rdf-syntax-ns#type http://www.w3.org/2002/07/owl#Class\n",
            "http://xmlns.com/vid_adv/0.1/ends http://www.w3.org/2000/01/rdf-schema#range http://xmlns.com/vid_adv/0.1/End\n",
            "http://xmlns.com/vid_adv/0.1/VidRef http://www.w3.org/2000/01/rdf-schema#label VidRef\n",
            "http://xmlns.com/vid_adv/0.1/VideoPath http://www.w3.org/2000/01/rdf-schema#label VideoPath\n",
            "http://xmlns.com/vid_adv/0.1/Start http://www.w3.org/2000/01/rdf-schema#label Start\n",
            "http://xmlns.com/vid_adv/0.1/Path http://www.w3.org/2000/01/rdf-schema#label Path\n",
            "http://xmlns.com/vid_adv/0.1/contains http://www.w3.org/2000/01/rdf-schema#label contains\n",
            "http://xmlns.com/vid_adv/0.1/starts http://www.w3.org/2000/01/rdf-schema#range http://xmlns.com/vid_adv/0.1/Start\n",
            "http://xmlns.com/vid_adv/0.1/Video http://www.w3.org/2000/01/rdf-schema#label Video\n",
            "http://xmlns.com/vid_adv/0.1/path_to_video http://www.w3.org/2000/01/rdf-schema#range http://xmlns.com/vid_adv/0.1/VideoPath\n",
            "http://xmlns.com/vid_adv/0.1/refs_to_vid http://www.w3.org/2000/01/rdf-schema#label refs_to_vid\n",
            "http://xmlns.com/vid_adv/0.1/path_to_video http://www.w3.org/1999/02/22-rdf-syntax-ns#type http://www.w3.org/2002/07/owl#ObjectProperty\n",
            "http://xmlns.com/vid_adv/0.1/End http://www.w3.org/2000/01/rdf-schema#subClassOf http://xmlns.com/vid_adv/0.1/Timecode\n",
            "http://xmlns.com/vid_adv/0.1/name http://www.w3.org/2000/01/rdf-schema#range http://www.w3.org/2001/XMLSchema#string\n",
            "http://xmlns.com/vid_adv/0.1/End http://www.w3.org/2000/01/rdf-schema#label End\n",
            "http://xmlns.com/vid_adv/0.1/refs_to_adv http://www.w3.org/2000/01/rdf-schema#domain http://xmlns.com/vid_adv/0.1/Advertising\n",
            "http://xmlns.com/vid_adv/0.1/CompanyName http://www.w3.org/2000/01/rdf-schema#domain http://xmlns.com/vid_adv/0.1/Advertising\n",
            "http://xmlns.com/vid_adv/0.1/Reference http://www.w3.org/2000/01/rdf-schema#label Reference\n",
            "http://xmlns.com/vid_adv/0.1/ http://purl.org/dc/elements/1.1/title Video advertisment\n",
            "http://xmlns.com/vid_adv/0.1/has http://www.w3.org/2000/01/rdf-schema#range http://xmlns.com/vid_adv/0.1/Advertising\n",
            "http://xmlns.com/vid_adv/0.1/path_to_audio http://www.w3.org/2000/01/rdf-schema#range http://xmlns.com/vid_adv/0.1/AudioPath\n",
            "http://xmlns.com/vid_adv/0.1/CompanyName http://www.w3.org/2000/01/rdf-schema#range http://www.w3.org/2001/XMLSchema#string\n",
            "http://xmlns.com/vid_adv/0.1/ http://www.w3.org/1999/02/22-rdf-syntax-ns#type http://www.w3.org/2002/07/owl#Ontology\n",
            "http://xmlns.com/vid_adv/0.1/second http://www.w3.org/2000/01/rdf-schema#domain http://xmlns.com/vid_adv/0.1/Timecode\n",
            "http://xmlns.com/vid_adv/0.1/ http://purl.org/dc/elements/1.1/description The Video advertisment RDF vocabularyLanguage.\n",
            "http://xmlns.com/vid_adv/0.1/Chanel http://www.w3.org/2000/01/rdf-schema#label Chanel\n",
            "http://xmlns.com/vid_adv/0.1/path_to_audio http://www.w3.org/2000/01/rdf-schema#label path_to_audio\n",
            "http://xmlns.com/vid_adv/0.1/AdvRef http://www.w3.org/1999/02/22-rdf-syntax-ns#type http://www.w3.org/2002/07/owl#Class\n",
            "http://xmlns.com/vid_adv/0.1/refs_to_vid http://www.w3.org/2000/01/rdf-schema#domain http://xmlns.com/vid_adv/0.1/Video\n",
            "http://xmlns.com/vid_adv/0.1/Start http://www.w3.org/1999/02/22-rdf-syntax-ns#type http://www.w3.org/2002/07/owl#Class\n",
            "http://xmlns.com/vid_adv/0.1/starts http://www.w3.org/1999/02/22-rdf-syntax-ns#type http://www.w3.org/2002/07/owl#ObjectProperty\n",
            "http://xmlns.com/vid_adv/0.1/ends http://www.w3.org/2000/01/rdf-schema#label ends\n",
            "http://xmlns.com/vid_adv/0.1/Start http://www.w3.org/2000/01/rdf-schema#subClassOf http://xmlns.com/vid_adv/0.1/Timecode\n",
            "http://xmlns.com/vid_adv/0.1/second http://www.w3.org/1999/02/22-rdf-syntax-ns#type http://www.w3.org/2002/07/owl#DatatypeProperty\n",
            "http://xmlns.com/vid_adv/0.1/VidRef http://www.w3.org/2000/01/rdf-schema#subClassOf http://xmlns.com/vid_adv/0.1/Reference\n",
            "http://xmlns.com/vid_adv/0.1/AudioPath http://www.w3.org/2000/01/rdf-schema#subClassOf http://xmlns.com/vid_adv/0.1/Path\n",
            "http://xmlns.com/vid_adv/0.1/VideoPath http://www.w3.org/1999/02/22-rdf-syntax-ns#type http://www.w3.org/2002/07/owl#Class\n",
            "http://xmlns.com/vid_adv/0.1/ref_value http://www.w3.org/2000/01/rdf-schema#domain http://xmlns.com/vid_adv/0.1/Reference\n",
            "http://xmlns.com/vid_adv/0.1/path_to_audio http://www.w3.org/2000/01/rdf-schema#domain http://xmlns.com/vid_adv/0.1/Video\n",
            "http://xmlns.com/vid_adv/0.1/refs_to_adv http://www.w3.org/2000/01/rdf-schema#label refs_to_adv\n",
            "http://xmlns.com/vid_adv/0.1/name http://www.w3.org/2000/01/rdf-schema#label ChanelName\n",
            "http://xmlns.com/vid_adv/0.1/contains http://www.w3.org/2000/01/rdf-schema#domain http://xmlns.com/vid_adv/0.1/Chanel\n",
            "http://xmlns.com/vid_adv/0.1/ends http://www.w3.org/1999/02/22-rdf-syntax-ns#type http://www.w3.org/2002/07/owl#ObjectProperty\n",
            "http://xmlns.com/vid_adv/0.1/has http://www.w3.org/2000/01/rdf-schema#domain http://xmlns.com/vid_adv/0.1/Video\n",
            "http://xmlns.com/vid_adv/0.1/Advertising http://www.w3.org/2000/01/rdf-schema#label Advertising\n",
            "http://xmlns.com/vid_adv/0.1/ref_value http://www.w3.org/1999/02/22-rdf-syntax-ns#type http://www.w3.org/2002/07/owl#DatatypeProperty\n",
            "http://xmlns.com/vid_adv/0.1/Reference http://www.w3.org/1999/02/22-rdf-syntax-ns#type http://www.w3.org/2002/07/owl#Class\n",
            "http://xmlns.com/vid_adv/0.1/CompanyName http://www.w3.org/1999/02/22-rdf-syntax-ns#type http://www.w3.org/2002/07/owl#DatatypeProperty\n",
            "http://xmlns.com/vid_adv/0.1/refs_to_vid http://www.w3.org/2000/01/rdf-schema#range http://xmlns.com/vid_adv/0.1/VidRef\n",
            "http://xmlns.com/vid_adv/0.1/FolderPath http://www.w3.org/2000/01/rdf-schema#range http://www.w3.org/2000/01/rdf-schema#Literal\n",
            "http://xmlns.com/vid_adv/0.1/path_to_video http://www.w3.org/2000/01/rdf-schema#label path_to_video\n",
            "http://xmlns.com/vid_adv/0.1/path_to_video http://www.w3.org/2000/01/rdf-schema#domain http://xmlns.com/vid_adv/0.1/Video\n",
            "http://xmlns.com/vid_adv/0.1/contains http://www.w3.org/1999/02/22-rdf-syntax-ns#type http://www.w3.org/2002/07/owl#ObjectProperty\n"
          ]
        }
      ]
    },
    {
      "cell_type": "code",
      "source": [
        "# classes\n",
        "video_class = URIRef(\"http://xmlns.com/vid_adv/0.1/Video\")\n",
        "video_path_class = URIRef(\"http://xmlns.com/vid_adv/0.1/VideoPath\")\n",
        "audio_path_class = URIRef(\"http://xmlns.com/vid_adv/0.1/AudioPath\")\n",
        "timecode_class = URIRef(\"http://xmlns.com/vid_adv/0.1/Timecode\")\n",
        "advertising_class = URIRef(\"http://xmlns.com/vid_adv/0.1/Advertising\")\n",
        "chanel_class = URIRef(\"http://xmlns.com/vid_adv/0.1/Chanel\")\n",
        "vid_ref_class = URIRef(\"http://xmlns.com/vid_adv/0.1/VidRef\")\n",
        "adv_ref_class = URIRef(\"http://xmlns.com/vid_adv/0.1/AdvRef\")\n",
        "end_class = URIRef(\"http://xmlns.com/vid_adv/0.1/End\")\n",
        "start_class = URIRef(\"http://xmlns.com/vid_adv/0.1/Start\")"
      ],
      "metadata": {
        "id": "BQ2YT5MJP1Xq"
      },
      "execution_count": 36,
      "outputs": []
    },
    {
      "cell_type": "code",
      "source": [
        "# properties\n",
        "contains = URIRef(\"http://xmlns.com/vid_adv/0.1/contains\")\n",
        "refs_to_vid = URIRef(\"http://xmlns.com/vid_adv/0.1/refs_to_vid\")\n",
        "refs_to_adv = URIRef(\"http://xmlns.com/vid_adv/0.1/refs_to_adv\")\n",
        "has = URIRef(\"http://xmlns.com/vid_adv/0.1/has\")\n",
        "starts = URIRef(\"http://xmlns.com/vid_adv/0.1/starts\")\n",
        "ends = URIRef(\"http://xmlns.com/vid_adv/0.1/ends\")\n",
        "path_to_audio = URIRef(\"http://xmlns.com/vid_adv/0.1/path_to_audio\")\n",
        "path_to_video = URIRef(\"http://xmlns.com/vid_adv/0.1/path_to_video\")"
      ],
      "metadata": {
        "id": "o3X2N2CUBE05"
      },
      "execution_count": 37,
      "outputs": []
    },
    {
      "cell_type": "code",
      "source": [
        "# atributes\n",
        "chanel_name_attr = URIRef(\"http://xmlns.com/vid_adv/0.1/ChanelName\")\n",
        "ref_value_attr = URIRef(\"http://xmlns.com/vid_adv/0.1/ref_value\")\n",
        "company_name_attr = URIRef(\"http://xmlns.com/vid_adv/0.1/companyName\")\n",
        "second_attr = URIRef(\"http://xmlns.com/vid_adv/0.1/second\")\n",
        "folder_path_attr = URIRef(\"http://xmlns.com/vid_adv/0.1/FolderPath\")"
      ],
      "metadata": {
        "id": "Haw-EvLNhnEk"
      },
      "execution_count": 38,
      "outputs": []
    },
    {
      "cell_type": "code",
      "source": [
        "def add_chanel(chanel_name):\n",
        "  new_chanel = URIRef(f\"http://xmlns.com/vid_adv/0.1/chanels/{chanel_name}\")\n",
        "  g.add((new_chanel, RDF.type, chanel_class))\n",
        "  g.add((new_chanel, chanel_name_attr, Literal(chanel_name, lang=\"en\")))\n",
        "\n",
        "  return new_chanel\n",
        "\n",
        "def add_video(video_name, chanel, video_ref, audio_folder, video_folder):\n",
        "  new_video = URIRef(f\"http://xmlns.com/vid_adv/0.1/videos/{video_name}\")\n",
        "\n",
        "  new_video_ref = URIRef(f\"http://xmlns.com/vid_adv/0.1/videos_ref/{video_ref}\")\n",
        "  g.add((new_video_ref, RDF.type, vid_ref_class))\n",
        "  g.add((new_video_ref, ref_value_attr, Literal(video_ref, lang=\"en\")))\n",
        "\n",
        "  if video_folder:\n",
        "    new_video_path = URIRef(f\"http://xmlns.com/vid_adv/0.1/videos_paths_ref/{video_folder}\")\n",
        "    g.add((new_video_path, RDF.type, video_path_class))\n",
        "    g.add((new_video, path_to_video, new_video_path))\n",
        "\n",
        "  if audio_folder:\n",
        "    new_audio_path = URIRef(f\"http://xmlns.com/vid_adv/0.1/audio_paths_ref/{audio_folder}\")\n",
        "    g.add((new_audio_path, RDF.type, audio_path_class))\n",
        "    g.add((new_video, path_to_audio, new_audio_path))\n",
        "\n",
        "  g.add((new_video, RDF.type, video_class))\n",
        "  g.add((new_video, refs_to_vid, new_video_ref))\n",
        "\n",
        "  return new_video\n",
        "\n",
        "def add_advertisment(video, adv_company, adv_ref, start, end):\n",
        "  new_adv = URIRef(f\"http://xmlns.com/vid_adv/0.1/adverisments/{adv_company}\")\n",
        "\n",
        "  new_adv_ref = URIRef(f\"http://xmlns.com/vid_adv/0.1/adv_ref/{adv_ref}\")\n",
        "  new_start_timecode = URIRef(f\"http://xmlns.com/vid_adv/0.1/timecodes/{start}\")\n",
        "  new_end_timecode = URIRef(f\"http://xmlns.com/vid_adv/0.1/timecodes/{end}\")\n",
        "\n",
        "  g.add((new_adv_ref, RDF.type, adv_ref_class))\n",
        "  g.add((new_start_timecode, RDF.type, start_class))\n",
        "  g.add((new_end_timecode, RDF.type, end_class))\n",
        "\n",
        "  g.add((new_start_timecode, second_attr, Literal(start)))\n",
        "  g.add((new_end_timecode, second_attr, Literal(end)))\n",
        "\n",
        "  g.add((new_adv_ref, ref_value_attr, Literal(adv_ref, lang=\"en\")))\n",
        "  g.add((new_adv, company_name_attr, Literal(adv_company, lang=\"en\")))\n",
        "  g.add((new_adv, starts, new_start_timecode))\n",
        "  g.add((new_adv, ends, new_end_timecode))\n",
        "\n",
        "  g.add((new_adv, RDF.type, advertising_class))\n",
        "  g.add((new_adv, ref_value_attr, Literal(adv_ref, lang=\"en\")))\n",
        "  g.add((new_adv, refs_to_adv, new_adv_ref))\n",
        "\n",
        "  return new_adv\n",
        "\n",
        "footbal_chanel = add_chanel(\"FootballNick\")\n",
        "video1 = add_video(\"_rjZFgZYsKM\", footbal_chanel, 'www.youtube.com/watch?v=_rjZFgZYsKM&ab_channel=%D0%A4%D0%A3%D0%A2%D0%91%D0%9E%D0%9B%D0%AC%D0%9D%D0%98%D0%9A', 'audio/footbolnick/cl_mc_inter_1_0_2023', 'imgs_embs/footbolnick/cl_mc_inter_1_0_2023.csv')\n",
        "add_advertisment(video1, \"pari\", 'goodclick.pro/footballniknew', 328, 365)\n",
        "\n",
        "video2 = add_video(\"moV_rjHUJl8\", footbal_chanel, 'www.youtube.com/watch?v=moV_rjHUJl8&ab_channel=%D0%A4%D0%A3%D0%A2%D0%91%D0%9E%D0%9B%D0%AC%D0%9D%D0%98%D0%9A', None, 'imgs_embs/footbolnick/cl_mc_lpz_7_0_2023.csv')\n",
        "add_advertisment(video2, \"okko\", 'vk.cc/cmcwYs', 0, 23)\n",
        "\n",
        "video3 = add_video(\"2XE8Dh-NTUM\", footbal_chanel, 'www.youtube.com/watch?v=moV_rjHUJl8&ab_channel=%D0%A4%D0%A3%D0%A2%D0%91%D0%9E%D0%9B%D0%AC%D0%9D%D0%98%D0%9A', None, 'imgs_embs/footbolnick/cl_mc_lpz_7_0_2023.csv')\n",
        "add_advertisment(video3, \"yandex\", 'vk.cc/cmcwYs', 29, 76)\n",
        "\n",
        "rozetked_chanel = add_chanel(\"Rozetked\")\n",
        "video1 = add_video(\"5kpN_9rlA70\", rozetked_chanel, 'www.youtube.com/watch?v=Oj1vBI_TI7Q&ab_channel=Rozetked', 'audio/rozetked/living_map_xiaomi_2023', 'imgs_embs/rozetked/living_map_xiaomi_2023.csv')\n",
        "add_advertisment(video1, \"rustore\", 'vk.cc/cgUvWK', 359, 455)\n",
        "\n",
        "video2 = add_video(\"Oj1vBI_TI7Q\", rozetked_chanel, 'www.youtube.com/watch?v=5kpN_9rlA70&ab_channel=Rozetked', None, None)\n",
        "add_advertisment(video2, \"megafon\", 'bit.ly/42wqblS', 180, 261)\n",
        "\n",
        "video3 = add_video(\"PNAPhtknS6U\", rozetked_chanel, 'www.youtube.com/watch?v=PNAPhtknS6U&ab_channel=Rozetked', None, None)\n",
        "add_advertisment(video3, \"yandex_practicum\", 'ya.cc/t/jO7JBpHT47JzCR', 284, 388)\n",
        "\n",
        "marvel_chanel = add_chanel(\"MarvelDCRU\")\n",
        "video1 = add_video(\"GJYNc2mo6UE\", marvel_chanel, 'www.youtube.com/watch?v=ihNcaEUPSUA&ab_channel=Marvel%2FDC%3AGeekMovies', 'audio/marveldcru/secret_invasion_1e_2023', 'imgs_embs/marveldcru/secret_invasion_1e_2023.csv')\n",
        "add_advertisment(video1, \"tinkoff\", 'l.tinkoff.ru/geekmoviesjune', 62, 122)\n",
        "\n",
        "video2 = add_video(\"ihNcaEUPSUA\", marvel_chanel, 'www.youtube.com/watch?v=GJYNc2mo6UE&ab_channel=Marvel%2FDC%3AGeekMovies', None, None)\n",
        "add_advertisment(video2, \"mozabrick\", 'mozabrick.ru/?utm_source=geekm&utm_medium=0623', 60, 151)\n",
        "\n",
        "video3 = add_video(\"tXAr3izOP5I\", marvel_chanel, 'www.youtube.com/watch?v=tXAr3izOP5I&ab_channel=Marvel%2FDC%3AGeekMovies', None, None)\n",
        "add_advertisment(video3, \"sinergia\", 'clck.ru/34G7zH', 70, 131)\n",
        "\n",
        "video4 = add_video(\"Jvlgsfc3w5k\", marvel_chanel, 'www.youtube.com/watch?v=Jvlgsfc3w5k&ab_channel=Marvel%2FDC%3AGeekMovies', None, None)\n",
        "add_advertisment(video4, \"vsemayki\", 'bit.ly/3z63Nm0', 0, 32)"
      ],
      "metadata": {
        "colab": {
          "base_uri": "https://localhost:8080/",
          "height": 34
        },
        "id": "n_eI6mwDV6Nk",
        "outputId": "87b4ca6d-8220-406e-8915-577d484f9da7"
      },
      "execution_count": 50,
      "outputs": [
        {
          "output_type": "execute_result",
          "data": {
            "text/plain": [
              "rdflib.term.URIRef('http://xmlns.com/vid_adv/0.1/adverisments/vsemayki')"
            ],
            "application/vnd.google.colaboratory.intrinsic+json": {
              "type": "string"
            }
          },
          "metadata": {},
          "execution_count": 50
        }
      ]
    },
    {
      "cell_type": "code",
      "source": [
        "g.serialize(destination='ontology_res.owl', format='n3')"
      ],
      "metadata": {
        "colab": {
          "base_uri": "https://localhost:8080/"
        },
        "id": "CZVY8ckJm9ZD",
        "outputId": "8a5e4572-ae18-4f20-9690-68fd02861f3f"
      },
      "execution_count": 51,
      "outputs": [
        {
          "output_type": "execute_result",
          "data": {
            "text/plain": [
              "<Graph identifier=Nfeb0488448434c15a9c4f46e596c9ac0 (<class 'rdflib.graph.Graph'>)>"
            ]
          },
          "metadata": {},
          "execution_count": 51
        }
      ]
    }
  ]
}