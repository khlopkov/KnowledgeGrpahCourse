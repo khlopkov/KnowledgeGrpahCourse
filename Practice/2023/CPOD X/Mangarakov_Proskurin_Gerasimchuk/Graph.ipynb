{
  "nbformat": 4,
  "nbformat_minor": 0,
  "metadata": {
    "colab": {
      "provenance": []
    },
    "kernelspec": {
      "name": "python3",
      "display_name": "Python 3"
    },
    "language_info": {
      "name": "python"
    }
  },
  "cells": [
    {
      "cell_type": "code",
      "source": [
        "!pip install rdflib"
      ],
      "metadata": {
        "colab": {
          "base_uri": "https://localhost:8080/"
        },
        "id": "kITnW87U2k-w",
        "outputId": "61ce2c67-0b4d-45f2-caf3-80aeef22562a"
      },
      "execution_count": null,
      "outputs": [
        {
          "output_type": "stream",
          "name": "stdout",
          "text": [
            "Looking in indexes: https://pypi.org/simple, https://us-python.pkg.dev/colab-wheels/public/simple/\n",
            "Collecting rdflib\n",
            "  Downloading rdflib-6.3.2-py3-none-any.whl (528 kB)\n",
            "\u001b[2K     \u001b[90m━━━━━━━━━━━━━━━━━━━━━━━━━━━━━━━━━━━━━━\u001b[0m \u001b[32m528.1/528.1 kB\u001b[0m \u001b[31m16.5 MB/s\u001b[0m eta \u001b[36m0:00:00\u001b[0m\n",
            "\u001b[?25hCollecting isodate<0.7.0,>=0.6.0 (from rdflib)\n",
            "  Downloading isodate-0.6.1-py2.py3-none-any.whl (41 kB)\n",
            "\u001b[2K     \u001b[90m━━━━━━━━━━━━━━━━━━━━━━━━━━━━━━━━━━━━━━━━\u001b[0m \u001b[32m41.7/41.7 kB\u001b[0m \u001b[31m5.0 MB/s\u001b[0m eta \u001b[36m0:00:00\u001b[0m\n",
            "\u001b[?25hRequirement already satisfied: pyparsing<4,>=2.1.0 in /usr/local/lib/python3.10/dist-packages (from rdflib) (3.0.9)\n",
            "Requirement already satisfied: six in /usr/local/lib/python3.10/dist-packages (from isodate<0.7.0,>=0.6.0->rdflib) (1.16.0)\n",
            "Installing collected packages: isodate, rdflib\n",
            "Successfully installed isodate-0.6.1 rdflib-6.3.2\n"
          ]
        }
      ]
    },
    {
      "cell_type": "markdown",
      "source": [
        "#Запросеки"
      ],
      "metadata": {
        "id": "sR-7eKst-YWN"
      }
    },
    {
      "cell_type": "code",
      "source": [
        "knows_query = \"\"\"\n",
        "PREFIX :  <http://www.semanticweb.org/owl/owlapi/turtle#>\n",
        "SELECT ?assSize\n",
        "WHERE {\n",
        "    ?pizda :assSize ?assSize .\n",
        "}\"\"\""
      ],
      "metadata": {
        "colab": {
          "base_uri": "https://localhost:8080/"
        },
        "id": "hxqV3r1J-YBr",
        "outputId": "2bb3eca7-2a0a-4dc0-cb12-89aa4d36f8e8"
      },
      "execution_count": null,
      "outputs": [
        {
          "output_type": "stream",
          "name": "stdout",
          "text": [
            "42\n",
            "42\n"
          ]
        }
      ]
    },
    {
      "cell_type": "code",
      "source": [
        "knows_query1 = \"\"\"\n",
        "SELECT ?cls ?clsLabel WHERE {\n",
        " ?cls s:subClassOf <http://visualdataweb.org/newOntology/Emmotion> ;\n",
        "      s:label ?clsLabel\n",
        "}\"\"\"\n"
      ],
      "metadata": {
        "id": "FdaOQWwSX_gp"
      },
      "execution_count": null,
      "outputs": []
    },
    {
      "cell_type": "code",
      "source": [
        "qres = g.query(knows_query1)\n",
        "for row in qres:\n",
        "    print(f\"{row}\")"
      ],
      "metadata": {
        "id": "2pKO-bWxYC06"
      },
      "execution_count": null,
      "outputs": []
    },
    {
      "cell_type": "code",
      "source": [
        "g.serialize(destination='test.ttl',format='ttl')"
      ],
      "metadata": {
        "id": "O-ddlxQ6E_kY",
        "colab": {
          "base_uri": "https://localhost:8080/"
        },
        "outputId": "a9d43de9-8452-410d-80b8-be8bb6838b4c"
      },
      "execution_count": null,
      "outputs": [
        {
          "output_type": "execute_result",
          "data": {
            "text/plain": [
              "<Graph identifier=Nf0bd236bfbab41809ae3ddd536712831 (<class 'rdflib.graph.Graph'>)>"
            ]
          },
          "metadata": {},
          "execution_count": 118
        }
      ]
    },
    {
      "cell_type": "markdown",
      "source": [
        "#(тыкать сюда)\n"
      ],
      "metadata": {
        "id": "yKKtu_r5CFkO"
      }
    },
    {
      "cell_type": "code",
      "source": [
        "from rdflib import Graph\n",
        "\n",
        "from rdflib import Namespace\n",
        "\n",
        "OWL = Namespace(\"http://visualdataweb.org/newOntology/\")\n",
        "RDF_SCHEMA = Namespace('http://www.w3.org/2000/01/rdf-schema#')\n",
        "RDF_TYPE = Namespace('http://www.w3.org/1999/02/22-rdf-syntax-ns#')\n",
        "OWL_CLASS = Namespace('http://www.w3.org/2002/07/owl#')\n",
        "\n",
        "g = Graph()\n",
        "g.parse(\"prod_0.3.ttl\", format='turtle')\n",
        "g"
      ],
      "metadata": {
        "colab": {
          "base_uri": "https://localhost:8080/"
        },
        "id": "vO49VHSoCBy0",
        "outputId": "a956a0e9-5137-4c93-c2b7-6a3b7c99cf3c"
      },
      "execution_count": null,
      "outputs": [
        {
          "output_type": "execute_result",
          "data": {
            "text/plain": [
              "<Graph identifier=N54de05c16bec4a418a9c7c5bbee2a411 (<class 'rdflib.graph.Graph'>)>"
            ]
          },
          "metadata": {},
          "execution_count": 99
        }
      ]
    },
    {
      "cell_type": "code",
      "source": [
        "print(g.serialize(format='ttl'))"
      ],
      "metadata": {
        "colab": {
          "base_uri": "https://localhost:8080/"
        },
        "id": "rY69KkCzClRF",
        "outputId": "e3831480-d266-4c1b-ec7f-9c3cccbc580a"
      },
      "execution_count": null,
      "outputs": [
        {
          "output_type": "stream",
          "name": "stdout",
          "text": [
            "@prefix : <http://visualdataweb.org/newOntology/> .\n",
            "@prefix dc1: <http://purl.org/dc/elements/1.1/#> .\n",
            "@prefix owl: <http://www.w3.org/2002/07/owl#> .\n",
            "@prefix s: <http://www.w3.org/2000/01/rdf-schema#> .\n",
            "\n",
            ":Angry a owl:Class ;\n",
            "    s:label \"Angry\"@IRI-based,\n",
            "        \"Angry\"@en ;\n",
            "    s:subClassOf :Emmotion ;\n",
            "    owl:disjointWith :Disgust,\n",
            "        :Surprised .\n",
            "\n",
            ":Sad a owl:Class ;\n",
            "    s:label \"Sad\"@IRI-based,\n",
            "        \"Sad\"@en ;\n",
            "    s:subClassOf :Emmotion ;\n",
            "    owl:disjointWith :Calm,\n",
            "        :Neutral .\n",
            "\n",
            ":class_number a owl:ObjectProperty ;\n",
            "    s:label \"class_number\"@IRI-based,\n",
            "        \"class_number\"@en ;\n",
            "    s:domain :Emmotion ;\n",
            "    s:range s:Datatype .\n",
            "\n",
            ":description a owl:ObjectProperty ;\n",
            "    s:label \"description\"@IRI-based,\n",
            "        \"description\"@en ;\n",
            "    s:domain :Text ;\n",
            "    s:range :Image .\n",
            "\n",
            ":represent a owl:ObjectProperty ;\n",
            "    s:label \"represent\"@IRI-based,\n",
            "        \"represent\"@en ;\n",
            "    s:domain :Image ;\n",
            "    s:range :Emmotion .\n",
            "\n",
            ":sounds_like a owl:ObjectProperty ;\n",
            "    s:label \"sounds_like\"@en ;\n",
            "    s:domain :Audio ;\n",
            "    s:range :Emmotion .\n",
            "\n",
            ":transcription a owl:ObjectProperty ;\n",
            "    s:label \"transcription\"@en ;\n",
            "    s:domain :Transcript ;\n",
            "    s:range :Audio .\n",
            "\n",
            "<http://www.semanticweb.org/owl/owlapi/turtle#> a owl:Ontology ;\n",
            "    dc1:description \"New ontology description\"@en ;\n",
            "    dc1:title \"New ontology\"@en .\n",
            "\n",
            ":Calm a owl:Class ;\n",
            "    s:label \"Calm\"@IRI-based,\n",
            "        \"Calm\"@en ;\n",
            "    s:subClassOf :Emmotion ;\n",
            "    owl:disjointWith :Surprised .\n",
            "\n",
            ":Disgust a owl:Class ;\n",
            "    s:label \"Disgust\"@IRI-based,\n",
            "        \"Disgust\"@en ;\n",
            "    s:subClassOf :Emmotion ;\n",
            "    owl:disjointWith :Fearful .\n",
            "\n",
            ":Fearful a owl:Class ;\n",
            "    s:label \"Fearful\"@IRI-based,\n",
            "        \"Fearful\"@en ;\n",
            "    s:subClassOf :Emmotion ;\n",
            "    owl:disjointWith :Happy .\n",
            "\n",
            ":Neutral a owl:Class ;\n",
            "    s:label \"Neutral\"@IRI-based,\n",
            "        \"Neutral\"@en ;\n",
            "    s:subClassOf :Emmotion ;\n",
            "    owl:disjointWith :Happy .\n",
            "\n",
            ":Text a owl:Class ;\n",
            "    s:label \"Text\"@IRI-based,\n",
            "        \"Text\"@en .\n",
            "\n",
            ":Transcript a owl:Class ;\n",
            "    s:label \"Transcript\"@en .\n",
            "\n",
            "s:Datatype a owl:Class ;\n",
            "    s:label \"Datatype\"@IRI-based .\n",
            "\n",
            ":Audio a owl:Class ;\n",
            "    s:label \"Audio\"@en .\n",
            "\n",
            ":Happy a owl:Class ;\n",
            "    s:label \"Happy\"@IRI-based,\n",
            "        \"Happy\"@en ;\n",
            "    s:subClassOf :Emmotion .\n",
            "\n",
            ":Image a owl:Class ;\n",
            "    s:label \"Image\"@IRI-based,\n",
            "        \"Image\"@en .\n",
            "\n",
            ":Surprised a owl:Class ;\n",
            "    s:label \"Surprised\"@IRI-based,\n",
            "        \"Surprised\"@en ;\n",
            "    s:subClassOf :Emmotion .\n",
            "\n",
            ":Emmotion a owl:Class ;\n",
            "    s:label \"Emmotion\"@IRI-based,\n",
            "        \"Emmotion\"@en .\n",
            "\n",
            "\n"
          ]
        }
      ]
    },
    {
      "cell_type": "code",
      "source": [
        "g.add((OWL.Neutral, OWL.class_number, Literal(1)))\n",
        "g.add((OWL.Calm, OWL.class_number, Literal(2)))\n",
        "g.add((OWL.Happy, OWL.class_number, Literal(3)))\n",
        "g.add((OWL.Sad, OWL.class_number, Literal(4)))\n",
        "g.add((OWL.Angry, OWL.class_number, Literal(5)))\n",
        "g.add((OWL.Fearful, OWL.class_number, Literal(6)))\n",
        "g.add((OWL.Disgust, OWL.class_number, Literal(7)))\n",
        "g.add((OWL.Surprised, OWL.class_number, Literal(8)))"
      ],
      "metadata": {
        "colab": {
          "base_uri": "https://localhost:8080/"
        },
        "id": "4omnvN2jCp_6",
        "outputId": "ee525a77-13cf-4bbb-8ce6-151a28c705da"
      },
      "execution_count": null,
      "outputs": [
        {
          "output_type": "execute_result",
          "data": {
            "text/plain": [
              "<Graph identifier=N54de05c16bec4a418a9c7c5bbee2a411 (<class 'rdflib.graph.Graph'>)>"
            ]
          },
          "metadata": {},
          "execution_count": 101
        }
      ]
    },
    {
      "cell_type": "code",
      "source": [
        "print(g.serialize(format='ttl'))"
      ],
      "metadata": {
        "colab": {
          "base_uri": "https://localhost:8080/"
        },
        "id": "ahtkKwM0D5c2",
        "outputId": "af354b24-e098-4f50-bd43-7d25fed97e67"
      },
      "execution_count": null,
      "outputs": [
        {
          "output_type": "stream",
          "name": "stdout",
          "text": [
            "@prefix : <http://visualdataweb.org/newOntology/> .\n",
            "@prefix dc1: <http://purl.org/dc/elements/1.1/#> .\n",
            "@prefix owl: <http://www.w3.org/2002/07/owl#> .\n",
            "@prefix s: <http://www.w3.org/2000/01/rdf-schema#> .\n",
            "@prefix xsd: <http://www.w3.org/2001/XMLSchema#> .\n",
            "\n",
            ":Angry a owl:Class ;\n",
            "    s:label \"Angry\"@IRI-based,\n",
            "        \"Angry\"@en ;\n",
            "    :class_number 5 ;\n",
            "    s:subClassOf :Emmotion ;\n",
            "    owl:disjointWith :Disgust,\n",
            "        :Surprised .\n",
            "\n",
            ":Sad a owl:Class ;\n",
            "    s:label \"Sad\"@IRI-based,\n",
            "        \"Sad\"@en ;\n",
            "    :class_number 4 ;\n",
            "    s:subClassOf :Emmotion ;\n",
            "    owl:disjointWith :Calm,\n",
            "        :Neutral .\n",
            "\n",
            ":class_number a owl:ObjectProperty ;\n",
            "    s:label \"class_number\"@IRI-based,\n",
            "        \"class_number\"@en ;\n",
            "    s:domain :Emmotion ;\n",
            "    s:range s:Datatype .\n",
            "\n",
            ":description a owl:ObjectProperty ;\n",
            "    s:label \"description\"@IRI-based,\n",
            "        \"description\"@en ;\n",
            "    s:domain :Text ;\n",
            "    s:range :Image .\n",
            "\n",
            ":represent a owl:ObjectProperty ;\n",
            "    s:label \"represent\"@IRI-based,\n",
            "        \"represent\"@en ;\n",
            "    s:domain :Image ;\n",
            "    s:range :Emmotion .\n",
            "\n",
            ":sounds_like a owl:ObjectProperty ;\n",
            "    s:label \"sounds_like\"@en ;\n",
            "    s:domain :Audio ;\n",
            "    s:range :Emmotion .\n",
            "\n",
            ":transcription a owl:ObjectProperty ;\n",
            "    s:label \"transcription\"@en ;\n",
            "    s:domain :Transcript ;\n",
            "    s:range :Audio .\n",
            "\n",
            "<http://www.semanticweb.org/owl/owlapi/turtle#> a owl:Ontology ;\n",
            "    dc1:description \"New ontology description\"@en ;\n",
            "    dc1:title \"New ontology\"@en .\n",
            "\n",
            ":Calm a owl:Class ;\n",
            "    s:label \"Calm\"@IRI-based,\n",
            "        \"Calm\"@en ;\n",
            "    :class_number 2 ;\n",
            "    s:subClassOf :Emmotion ;\n",
            "    owl:disjointWith :Surprised .\n",
            "\n",
            ":Disgust a owl:Class ;\n",
            "    s:label \"Disgust\"@IRI-based,\n",
            "        \"Disgust\"@en ;\n",
            "    :class_number 7 ;\n",
            "    s:subClassOf :Emmotion ;\n",
            "    owl:disjointWith :Fearful .\n",
            "\n",
            ":Fearful a owl:Class ;\n",
            "    s:label \"Fearful\"@IRI-based,\n",
            "        \"Fearful\"@en ;\n",
            "    :class_number 6 ;\n",
            "    s:subClassOf :Emmotion ;\n",
            "    owl:disjointWith :Happy .\n",
            "\n",
            ":Neutral a owl:Class ;\n",
            "    s:label \"Neutral\"@IRI-based,\n",
            "        \"Neutral\"@en ;\n",
            "    :class_number 1 ;\n",
            "    s:subClassOf :Emmotion ;\n",
            "    owl:disjointWith :Happy .\n",
            "\n",
            ":Text a owl:Class ;\n",
            "    s:label \"Text\"@IRI-based,\n",
            "        \"Text\"@en .\n",
            "\n",
            ":Transcript a owl:Class ;\n",
            "    s:label \"Transcript\"@en .\n",
            "\n",
            "s:Datatype a owl:Class ;\n",
            "    s:label \"Datatype\"@IRI-based .\n",
            "\n",
            ":Audio a owl:Class ;\n",
            "    s:label \"Audio\"@en .\n",
            "\n",
            ":Happy a owl:Class ;\n",
            "    s:label \"Happy\"@IRI-based,\n",
            "        \"Happy\"@en ;\n",
            "    :class_number 3 ;\n",
            "    s:subClassOf :Emmotion .\n",
            "\n",
            ":Image a owl:Class ;\n",
            "    s:label \"Image\"@IRI-based,\n",
            "        \"Image\"@en .\n",
            "\n",
            ":Surprised a owl:Class ;\n",
            "    s:label \"Surprised\"@IRI-based,\n",
            "        \"Surprised\"@en ;\n",
            "    :class_number 8 ;\n",
            "    s:subClassOf :Emmotion .\n",
            "\n",
            ":Emmotion a owl:Class ;\n",
            "    s:label \"Emmotion\"@IRI-based,\n",
            "        \"Emmotion\"@en .\n",
            "\n",
            "\n"
          ]
        }
      ]
    },
    {
      "cell_type": "code",
      "source": [
        "print(\"--- printing raw triples ---\")\n",
        "for s, p, o in g:\n",
        "    print((s, p, o))"
      ],
      "metadata": {
        "colab": {
          "base_uri": "https://localhost:8080/"
        },
        "id": "AXyYhNd3Ens7",
        "outputId": "ec9db20c-7ef0-4686-db62-e9433659af94"
      },
      "execution_count": null,
      "outputs": [
        {
          "output_type": "stream",
          "name": "stdout",
          "text": [
            "--- printing raw triples ---\n",
            "(rdflib.term.URIRef('http://visualdataweb.org/newOntology/Image'), rdflib.term.URIRef('http://www.w3.org/1999/02/22-rdf-syntax-ns#type'), rdflib.term.URIRef('http://www.w3.org/2002/07/owl#Class'))\n",
            "(rdflib.term.URIRef('http://visualdataweb.org/newOntology/Angry'), rdflib.term.URIRef('http://www.w3.org/2000/01/rdf-schema#label'), rdflib.term.Literal('Angry', lang='IRI-based'))\n",
            "(rdflib.term.URIRef('http://visualdataweb.org/newOntology/Neutral'), rdflib.term.URIRef('http://www.w3.org/2002/07/owl#disjointWith'), rdflib.term.URIRef('http://visualdataweb.org/newOntology/Happy'))\n",
            "(rdflib.term.URIRef('http://visualdataweb.org/newOntology/Disgust'), rdflib.term.URIRef('http://www.w3.org/1999/02/22-rdf-syntax-ns#type'), rdflib.term.URIRef('http://www.w3.org/2002/07/owl#Class'))\n",
            "(rdflib.term.URIRef('http://visualdataweb.org/newOntology/Calm'), rdflib.term.URIRef('http://www.w3.org/2000/01/rdf-schema#label'), rdflib.term.Literal('Calm', lang='en'))\n",
            "(rdflib.term.URIRef('http://visualdataweb.org/newOntology/Sad'), rdflib.term.URIRef('http://visualdataweb.org/newOntology/class_number'), rdflib.term.Literal('4', datatype=rdflib.term.URIRef('http://www.w3.org/2001/XMLSchema#integer')))\n",
            "(rdflib.term.URIRef('http://visualdataweb.org/newOntology/Angry'), rdflib.term.URIRef('http://www.w3.org/2002/07/owl#disjointWith'), rdflib.term.URIRef('http://visualdataweb.org/newOntology/Disgust'))\n",
            "(rdflib.term.URIRef('http://visualdataweb.org/newOntology/Emmotion'), rdflib.term.URIRef('http://www.w3.org/1999/02/22-rdf-syntax-ns#type'), rdflib.term.URIRef('http://www.w3.org/2002/07/owl#Class'))\n",
            "(rdflib.term.URIRef('http://visualdataweb.org/newOntology/Text'), rdflib.term.URIRef('http://www.w3.org/1999/02/22-rdf-syntax-ns#type'), rdflib.term.URIRef('http://www.w3.org/2002/07/owl#Class'))\n",
            "(rdflib.term.URIRef('http://visualdataweb.org/newOntology/Sad'), rdflib.term.URIRef('http://www.w3.org/2002/07/owl#disjointWith'), rdflib.term.URIRef('http://visualdataweb.org/newOntology/Neutral'))\n",
            "(rdflib.term.URIRef('http://visualdataweb.org/newOntology/Sad'), rdflib.term.URIRef('http://www.w3.org/1999/02/22-rdf-syntax-ns#type'), rdflib.term.URIRef('http://www.w3.org/2002/07/owl#Class'))\n",
            "(rdflib.term.URIRef('http://visualdataweb.org/newOntology/represent'), rdflib.term.URIRef('http://www.w3.org/2000/01/rdf-schema#label'), rdflib.term.Literal('represent', lang='en'))\n",
            "(rdflib.term.URIRef('http://visualdataweb.org/newOntology/description'), rdflib.term.URIRef('http://www.w3.org/2000/01/rdf-schema#domain'), rdflib.term.URIRef('http://visualdataweb.org/newOntology/Text'))\n",
            "(rdflib.term.URIRef('http://visualdataweb.org/newOntology/Emmotion'), rdflib.term.URIRef('http://www.w3.org/2000/01/rdf-schema#label'), rdflib.term.Literal('Emmotion', lang='IRI-based'))\n",
            "(rdflib.term.URIRef('http://visualdataweb.org/newOntology/represent'), rdflib.term.URIRef('http://www.w3.org/2000/01/rdf-schema#range'), rdflib.term.URIRef('http://visualdataweb.org/newOntology/Emmotion'))\n",
            "(rdflib.term.URIRef('http://visualdataweb.org/newOntology/Neutral'), rdflib.term.URIRef('http://visualdataweb.org/newOntology/class_number'), rdflib.term.Literal('1', datatype=rdflib.term.URIRef('http://www.w3.org/2001/XMLSchema#integer')))\n",
            "(rdflib.term.URIRef('http://visualdataweb.org/newOntology/Image'), rdflib.term.URIRef('http://www.w3.org/2000/01/rdf-schema#label'), rdflib.term.Literal('Image', lang='IRI-based'))\n",
            "(rdflib.term.URIRef('http://visualdataweb.org/newOntology/Calm'), rdflib.term.URIRef('http://visualdataweb.org/newOntology/class_number'), rdflib.term.Literal('2', datatype=rdflib.term.URIRef('http://www.w3.org/2001/XMLSchema#integer')))\n",
            "(rdflib.term.URIRef('http://visualdataweb.org/newOntology/Surprised'), rdflib.term.URIRef('http://www.w3.org/2000/01/rdf-schema#label'), rdflib.term.Literal('Surprised', lang='IRI-based'))\n",
            "(rdflib.term.URIRef('http://visualdataweb.org/newOntology/description'), rdflib.term.URIRef('http://www.w3.org/2000/01/rdf-schema#label'), rdflib.term.Literal('description', lang='en'))\n",
            "(rdflib.term.URIRef('http://visualdataweb.org/newOntology/Fearful'), rdflib.term.URIRef('http://www.w3.org/2002/07/owl#disjointWith'), rdflib.term.URIRef('http://visualdataweb.org/newOntology/Happy'))\n",
            "(rdflib.term.URIRef('http://visualdataweb.org/newOntology/Fearful'), rdflib.term.URIRef('http://www.w3.org/1999/02/22-rdf-syntax-ns#type'), rdflib.term.URIRef('http://www.w3.org/2002/07/owl#Class'))\n",
            "(rdflib.term.URIRef('http://visualdataweb.org/newOntology/Happy'), rdflib.term.URIRef('http://visualdataweb.org/newOntology/class_number'), rdflib.term.Literal('3', datatype=rdflib.term.URIRef('http://www.w3.org/2001/XMLSchema#integer')))\n",
            "(rdflib.term.URIRef('http://visualdataweb.org/newOntology/Surprised'), rdflib.term.URIRef('http://visualdataweb.org/newOntology/class_number'), rdflib.term.Literal('8', datatype=rdflib.term.URIRef('http://www.w3.org/2001/XMLSchema#integer')))\n",
            "(rdflib.term.URIRef('http://visualdataweb.org/newOntology/represent'), rdflib.term.URIRef('http://www.w3.org/2000/01/rdf-schema#label'), rdflib.term.Literal('represent', lang='IRI-based'))\n",
            "(rdflib.term.URIRef('http://visualdataweb.org/newOntology/description'), rdflib.term.URIRef('http://www.w3.org/2000/01/rdf-schema#range'), rdflib.term.URIRef('http://visualdataweb.org/newOntology/Image'))\n",
            "(rdflib.term.URIRef('http://visualdataweb.org/newOntology/Happy'), rdflib.term.URIRef('http://www.w3.org/2000/01/rdf-schema#subClassOf'), rdflib.term.URIRef('http://visualdataweb.org/newOntology/Emmotion'))\n",
            "(rdflib.term.URIRef('http://visualdataweb.org/newOntology/Sad'), rdflib.term.URIRef('http://www.w3.org/2000/01/rdf-schema#subClassOf'), rdflib.term.URIRef('http://visualdataweb.org/newOntology/Emmotion'))\n",
            "(rdflib.term.URIRef('http://visualdataweb.org/newOntology/Neutral'), rdflib.term.URIRef('http://www.w3.org/2000/01/rdf-schema#label'), rdflib.term.Literal('Neutral', lang='IRI-based'))\n",
            "(rdflib.term.URIRef('http://visualdataweb.org/newOntology/Surprised'), rdflib.term.URIRef('http://www.w3.org/2000/01/rdf-schema#subClassOf'), rdflib.term.URIRef('http://visualdataweb.org/newOntology/Emmotion'))\n",
            "(rdflib.term.URIRef('http://visualdataweb.org/newOntology/Angry'), rdflib.term.URIRef('http://visualdataweb.org/newOntology/class_number'), rdflib.term.Literal('5', datatype=rdflib.term.URIRef('http://www.w3.org/2001/XMLSchema#integer')))\n",
            "(rdflib.term.URIRef('http://visualdataweb.org/newOntology/description'), rdflib.term.URIRef('http://www.w3.org/2000/01/rdf-schema#label'), rdflib.term.Literal('description', lang='IRI-based'))\n",
            "(rdflib.term.URIRef('http://visualdataweb.org/newOntology/Disgust'), rdflib.term.URIRef('http://www.w3.org/2002/07/owl#disjointWith'), rdflib.term.URIRef('http://visualdataweb.org/newOntology/Fearful'))\n",
            "(rdflib.term.URIRef('http://visualdataweb.org/newOntology/Angry'), rdflib.term.URIRef('http://www.w3.org/2000/01/rdf-schema#label'), rdflib.term.Literal('Angry', lang='en'))\n",
            "(rdflib.term.URIRef('http://visualdataweb.org/newOntology/Text'), rdflib.term.URIRef('http://www.w3.org/2000/01/rdf-schema#label'), rdflib.term.Literal('Text', lang='IRI-based'))\n",
            "(rdflib.term.URIRef('http://visualdataweb.org/newOntology/Neutral'), rdflib.term.URIRef('http://www.w3.org/1999/02/22-rdf-syntax-ns#type'), rdflib.term.URIRef('http://www.w3.org/2002/07/owl#Class'))\n",
            "(rdflib.term.URIRef('http://visualdataweb.org/newOntology/class_number'), rdflib.term.URIRef('http://www.w3.org/1999/02/22-rdf-syntax-ns#type'), rdflib.term.URIRef('http://www.w3.org/2002/07/owl#DatatypeProperty'))\n",
            "(rdflib.term.URIRef('http://visualdataweb.org/newOntology/Text'), rdflib.term.URIRef('http://www.w3.org/2000/01/rdf-schema#label'), rdflib.term.Literal('Text', lang='en'))\n",
            "(rdflib.term.URIRef('http://visualdataweb.org/newOntology/Angry'), rdflib.term.URIRef('http://www.w3.org/2000/01/rdf-schema#subClassOf'), rdflib.term.URIRef('http://visualdataweb.org/newOntology/Emmotion'))\n",
            "(rdflib.term.URIRef('http://visualdataweb.org/newOntology/Fearful'), rdflib.term.URIRef('http://www.w3.org/2000/01/rdf-schema#subClassOf'), rdflib.term.URIRef('http://visualdataweb.org/newOntology/Emmotion'))\n",
            "(rdflib.term.URIRef('http://visualdataweb.org/newOntology/Calm'), rdflib.term.URIRef('http://www.w3.org/2000/01/rdf-schema#subClassOf'), rdflib.term.URIRef('http://visualdataweb.org/newOntology/Emmotion'))\n",
            "(rdflib.term.URIRef('http://visualdataweb.org/newOntology/class_number'), rdflib.term.URIRef('http://www.w3.org/2000/01/rdf-schema#label'), rdflib.term.Literal('class_number', lang='en'))\n",
            "(rdflib.term.URIRef('http://visualdataweb.org/newOntology/Calm'), rdflib.term.URIRef('http://www.w3.org/2002/07/owl#disjointWith'), rdflib.term.URIRef('http://visualdataweb.org/newOntology/Surprised'))\n",
            "(rdflib.term.URIRef('http://visualdataweb.org/newOntology/Happy'), rdflib.term.URIRef('http://www.w3.org/2000/01/rdf-schema#label'), rdflib.term.Literal('Happy', lang='IRI-based'))\n",
            "(rdflib.term.URIRef('http://www.semanticweb.org/owl/owlapi/turtle#'), rdflib.term.URIRef('http://www.w3.org/1999/02/22-rdf-syntax-ns#type'), rdflib.term.URIRef('http://www.w3.org/2002/07/owl#Ontology'))\n",
            "(rdflib.term.URIRef('http://visualdataweb.org/newOntology/Sad'), rdflib.term.URIRef('http://www.w3.org/2000/01/rdf-schema#label'), rdflib.term.Literal('Sad', lang='IRI-based'))\n",
            "(rdflib.term.URIRef('http://visualdataweb.org/newOntology/class_number'), rdflib.term.URIRef('http://www.w3.org/2000/01/rdf-schema#range'), rdflib.term.URIRef('http://www.w3.org/2000/01/rdf-schema#Datatype'))\n",
            "(rdflib.term.URIRef('http://visualdataweb.org/newOntology/description'), rdflib.term.URIRef('http://www.w3.org/1999/02/22-rdf-syntax-ns#type'), rdflib.term.URIRef('http://www.w3.org/2002/07/owl#ObjectProperty'))\n",
            "(rdflib.term.URIRef('http://visualdataweb.org/newOntology/Surprised'), rdflib.term.URIRef('http://www.w3.org/1999/02/22-rdf-syntax-ns#type'), rdflib.term.URIRef('http://www.w3.org/2002/07/owl#Class'))\n",
            "(rdflib.term.URIRef('http://visualdataweb.org/newOntology/Angry'), rdflib.term.URIRef('http://www.w3.org/2002/07/owl#disjointWith'), rdflib.term.URIRef('http://visualdataweb.org/newOntology/Surprised'))\n",
            "(rdflib.term.URIRef('http://visualdataweb.org/newOntology/class_number'), rdflib.term.URIRef('http://www.w3.org/2000/01/rdf-schema#label'), rdflib.term.Literal('class_number', lang='IRI-based'))\n",
            "(rdflib.term.URIRef('http://visualdataweb.org/newOntology/Disgust'), rdflib.term.URIRef('http://www.w3.org/2000/01/rdf-schema#label'), rdflib.term.Literal('Disgust', lang='en'))\n",
            "(rdflib.term.URIRef('http://visualdataweb.org/newOntology/Fearful'), rdflib.term.URIRef('http://visualdataweb.org/newOntology/class_number'), rdflib.term.Literal('6', datatype=rdflib.term.URIRef('http://www.w3.org/2001/XMLSchema#integer')))\n",
            "(rdflib.term.URIRef('http://visualdataweb.org/newOntology/Neutral'), rdflib.term.URIRef('http://www.w3.org/2000/01/rdf-schema#label'), rdflib.term.Literal('Neutral', lang='en'))\n",
            "(rdflib.term.URIRef('http://visualdataweb.org/newOntology/Happy'), rdflib.term.URIRef('http://www.w3.org/1999/02/22-rdf-syntax-ns#type'), rdflib.term.URIRef('http://www.w3.org/2002/07/owl#Class'))\n",
            "(rdflib.term.URIRef('http://visualdataweb.org/newOntology/represent'), rdflib.term.URIRef('http://www.w3.org/1999/02/22-rdf-syntax-ns#type'), rdflib.term.URIRef('http://www.w3.org/2002/07/owl#ObjectProperty'))\n",
            "(rdflib.term.URIRef('http://visualdataweb.org/newOntology/Disgust'), rdflib.term.URIRef('http://visualdataweb.org/newOntology/class_number'), rdflib.term.Literal('7', datatype=rdflib.term.URIRef('http://www.w3.org/2001/XMLSchema#integer')))\n",
            "(rdflib.term.URIRef('http://visualdataweb.org/newOntology/Fearful'), rdflib.term.URIRef('http://www.w3.org/2000/01/rdf-schema#label'), rdflib.term.Literal('Fearful', lang='en'))\n",
            "(rdflib.term.URIRef('http://visualdataweb.org/newOntology/Disgust'), rdflib.term.URIRef('http://www.w3.org/2000/01/rdf-schema#label'), rdflib.term.Literal('Disgust', lang='IRI-based'))\n",
            "(rdflib.term.URIRef('http://visualdataweb.org/newOntology/represent'), rdflib.term.URIRef('http://www.w3.org/2000/01/rdf-schema#domain'), rdflib.term.URIRef('http://visualdataweb.org/newOntology/Image'))\n",
            "(rdflib.term.URIRef('http://visualdataweb.org/newOntology/Happy'), rdflib.term.URIRef('http://www.w3.org/2000/01/rdf-schema#label'), rdflib.term.Literal('Happy', lang='en'))\n",
            "(rdflib.term.URIRef('http://visualdataweb.org/newOntology/Fearful'), rdflib.term.URIRef('http://www.w3.org/2000/01/rdf-schema#label'), rdflib.term.Literal('Fearful', lang='IRI-based'))\n",
            "(rdflib.term.URIRef('http://visualdataweb.org/newOntology/Angry'), rdflib.term.URIRef('http://www.w3.org/1999/02/22-rdf-syntax-ns#type'), rdflib.term.URIRef('http://www.w3.org/2002/07/owl#Class'))\n",
            "(rdflib.term.URIRef('http://visualdataweb.org/newOntology/Emmotion'), rdflib.term.URIRef('http://www.w3.org/2000/01/rdf-schema#label'), rdflib.term.Literal('Emmotion', lang='en'))\n",
            "(rdflib.term.URIRef('http://visualdataweb.org/newOntology/Calm'), rdflib.term.URIRef('http://www.w3.org/1999/02/22-rdf-syntax-ns#type'), rdflib.term.URIRef('http://www.w3.org/2002/07/owl#Class'))\n",
            "(rdflib.term.URIRef('http://visualdataweb.org/newOntology/Sad'), rdflib.term.URIRef('http://www.w3.org/2002/07/owl#disjointWith'), rdflib.term.URIRef('http://visualdataweb.org/newOntology/Calm'))\n",
            "(rdflib.term.URIRef('http://visualdataweb.org/newOntology/Calm'), rdflib.term.URIRef('http://www.w3.org/2000/01/rdf-schema#label'), rdflib.term.Literal('Calm', lang='IRI-based'))\n",
            "(rdflib.term.URIRef('http://visualdataweb.org/newOntology/Image'), rdflib.term.URIRef('http://www.w3.org/2000/01/rdf-schema#label'), rdflib.term.Literal('Image', lang='en'))\n",
            "(rdflib.term.URIRef('http://www.semanticweb.org/owl/owlapi/turtle#'), rdflib.term.URIRef('http://purl.org/dc/elements/1.1/#title'), rdflib.term.Literal('New ontology', lang='en'))\n",
            "(rdflib.term.URIRef('http://www.semanticweb.org/owl/owlapi/turtle#'), rdflib.term.URIRef('http://purl.org/dc/elements/1.1/#description'), rdflib.term.Literal('New ontology description', lang='en'))\n",
            "(rdflib.term.URIRef('http://visualdataweb.org/newOntology/Neutral'), rdflib.term.URIRef('http://www.w3.org/2000/01/rdf-schema#subClassOf'), rdflib.term.URIRef('http://visualdataweb.org/newOntology/Emmotion'))\n",
            "(rdflib.term.URIRef('http://visualdataweb.org/newOntology/Disgust'), rdflib.term.URIRef('http://www.w3.org/2000/01/rdf-schema#subClassOf'), rdflib.term.URIRef('http://visualdataweb.org/newOntology/Emmotion'))\n",
            "(rdflib.term.URIRef('http://visualdataweb.org/newOntology/Sad'), rdflib.term.URIRef('http://www.w3.org/2000/01/rdf-schema#label'), rdflib.term.Literal('Sad', lang='en'))\n",
            "(rdflib.term.URIRef('http://visualdataweb.org/newOntology/class_number'), rdflib.term.URIRef('http://www.w3.org/2000/01/rdf-schema#domain'), rdflib.term.URIRef('http://visualdataweb.org/newOntology/Emmotion'))\n",
            "(rdflib.term.URIRef('http://visualdataweb.org/newOntology/Surprised'), rdflib.term.URIRef('http://www.w3.org/2000/01/rdf-schema#label'), rdflib.term.Literal('Surprised', lang='en'))\n"
          ]
        }
      ]
    },
    {
      "cell_type": "code",
      "source": [
        "# пример: immage = \"c.png\", emotional = 1\n",
        "def put_immage(immage, emotional):\n",
        "\n",
        "  owls = [OWL.Neutral, OWL.Calm, OWL.Happy, OWL.Sad, OWL.Angry, OWL.Fearful, OWL.Disgust, OWL.Surprised]\n",
        "  owl = owls[emotional - 1]\n",
        "  img = URIRef(immage)\n",
        "\n",
        "  g.add((img, RDF_TYPE['type'], OWL.Image))\n",
        "  g.add((img,OWL.represent, owl))"
      ],
      "metadata": {
        "id": "uYrFZ_dPRDk-"
      },
      "execution_count": null,
      "outputs": []
    },
    {
      "cell_type": "code",
      "source": [
        "# пример: text = \"mytext\", img = \"immage.png\",\n",
        "def put_text(text, img):\n",
        "\n",
        "  g.add((text, RDF_TYPE['type'], OWL.Text))\n",
        "  g.add((text, OWL.description, img))"
      ],
      "metadata": {
        "id": "djhLtZWDU7PJ"
      },
      "execution_count": null,
      "outputs": []
    },
    {
      "cell_type": "code",
      "source": [
        "# пример: audio_name = \"immage.png\", emotional = 1\n",
        "def put_audio(audio_name, emotional):\n",
        "\n",
        "  owls = [OWL.Neutral, OWL.Calm, OWL.Happy, OWL.Sad, OWL.Angry, OWL.Fearful, OWL.Disgust, OWL.Surprised]\n",
        "  owl = owls[emotional - 1]\n",
        "  audio = URIRef(audio_name)\n",
        "\n",
        "  g.add((audio, RDF_TYPE['type'], OWL.Audio))\n",
        "  g.add((audio,OWL.sounds_like, owl))"
      ],
      "metadata": {
        "id": "u46LtBaMWhQY"
      },
      "execution_count": null,
      "outputs": []
    },
    {
      "cell_type": "code",
      "source": [
        "# пример: text = \"mytext\", img = \"immage.png\",\n",
        "def put_transcript(trans, audio):\n",
        "\n",
        "  g.add((trans, RDF_TYPE['type'], OWL.Transcript))\n",
        "  g.add((trans, OWL.transcription, audio))"
      ],
      "metadata": {
        "id": "VDV14gQkXeHI"
      },
      "execution_count": null,
      "outputs": []
    },
    {
      "cell_type": "code",
      "source": [
        "g.serialize(destination='prod_x.x.ttl',format='ttl')"
      ],
      "metadata": {
        "id": "dspYvj1YMZsC"
      },
      "execution_count": null,
      "outputs": []
    }
  ]
}