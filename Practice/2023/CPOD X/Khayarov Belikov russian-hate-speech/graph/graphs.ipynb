{
 "cells": [
  {
   "cell_type": "code",
   "execution_count": 2,
   "metadata": {
    "collapsed": true
   },
   "outputs": [
    {
     "data": {
      "text/plain": "'0.3.2'"
     },
     "execution_count": 2,
     "metadata": {},
     "output_type": "execute_result"
    }
   ],
   "source": [
    "import pandas as pd\n",
    "from pyvis.network import Network\n",
    "import pyvis\n",
    "\n",
    "pyvis.__version__"
   ]
  },
  {
   "cell_type": "code",
   "execution_count": 3,
   "outputs": [],
   "source": [
    "DATA_SOURCE = \"../classification_script/out_swapped.csv\""
   ],
   "metadata": {
    "collapsed": false
   }
  },
  {
   "cell_type": "code",
   "execution_count": 4,
   "outputs": [
    {
     "data": {
      "text/plain": "   Unnamed: 0                                            comment  toxic\n0           0  Нашёл как то работу отличную с зп в районе 50-...    0.0\n1           1  просто я ватсаппом никогда не пользовался, а п...    0.0\n2           2                          Что б он сам здох мразь\\n    3.0\n3           3  Э че бля а? Ты че нах бл иди сюда епты.. Ты за...    2.0\n4           4  Я согласен, что энергия от ВИЭ на текущий моме...    0.0",
      "text/html": "<div>\n<style scoped>\n    .dataframe tbody tr th:only-of-type {\n        vertical-align: middle;\n    }\n\n    .dataframe tbody tr th {\n        vertical-align: top;\n    }\n\n    .dataframe thead th {\n        text-align: right;\n    }\n</style>\n<table border=\"1\" class=\"dataframe\">\n  <thead>\n    <tr style=\"text-align: right;\">\n      <th></th>\n      <th>Unnamed: 0</th>\n      <th>comment</th>\n      <th>toxic</th>\n    </tr>\n  </thead>\n  <tbody>\n    <tr>\n      <th>0</th>\n      <td>0</td>\n      <td>Нашёл как то работу отличную с зп в районе 50-...</td>\n      <td>0.0</td>\n    </tr>\n    <tr>\n      <th>1</th>\n      <td>1</td>\n      <td>просто я ватсаппом никогда не пользовался, а п...</td>\n      <td>0.0</td>\n    </tr>\n    <tr>\n      <th>2</th>\n      <td>2</td>\n      <td>Что б он сам здох мразь\\n</td>\n      <td>3.0</td>\n    </tr>\n    <tr>\n      <th>3</th>\n      <td>3</td>\n      <td>Э че бля а? Ты че нах бл иди сюда епты.. Ты за...</td>\n      <td>2.0</td>\n    </tr>\n    <tr>\n      <th>4</th>\n      <td>4</td>\n      <td>Я согласен, что энергия от ВИЭ на текущий моме...</td>\n      <td>0.0</td>\n    </tr>\n  </tbody>\n</table>\n</div>"
     },
     "execution_count": 4,
     "metadata": {},
     "output_type": "execute_result"
    }
   ],
   "source": [
    "df = pd.read_csv(DATA_SOURCE)\n",
    "\n",
    "df.head()"
   ],
   "metadata": {
    "collapsed": false
   }
  },
  {
   "cell_type": "code",
   "execution_count": 10,
   "outputs": [
    {
     "data": {
      "text/plain": "                                             comment  toxic\n0  Нашёл как то работу отличную с зп в районе 50-...    0.0\n1  просто я ватсаппом никогда не пользовался, а п...    0.0\n2                          Что б он сам здох мразь\\n    3.0\n3  Э че бля а? Ты че нах бл иди сюда епты.. Ты за...    2.0\n4  Я согласен, что энергия от ВИЭ на текущий моме...    0.0",
      "text/html": "<div>\n<style scoped>\n    .dataframe tbody tr th:only-of-type {\n        vertical-align: middle;\n    }\n\n    .dataframe tbody tr th {\n        vertical-align: top;\n    }\n\n    .dataframe thead th {\n        text-align: right;\n    }\n</style>\n<table border=\"1\" class=\"dataframe\">\n  <thead>\n    <tr style=\"text-align: right;\">\n      <th></th>\n      <th>comment</th>\n      <th>toxic</th>\n    </tr>\n  </thead>\n  <tbody>\n    <tr>\n      <th>0</th>\n      <td>Нашёл как то работу отличную с зп в районе 50-...</td>\n      <td>0.0</td>\n    </tr>\n    <tr>\n      <th>1</th>\n      <td>просто я ватсаппом никогда не пользовался, а п...</td>\n      <td>0.0</td>\n    </tr>\n    <tr>\n      <th>2</th>\n      <td>Что б он сам здох мразь\\n</td>\n      <td>3.0</td>\n    </tr>\n    <tr>\n      <th>3</th>\n      <td>Э че бля а? Ты че нах бл иди сюда епты.. Ты за...</td>\n      <td>2.0</td>\n    </tr>\n    <tr>\n      <th>4</th>\n      <td>Я согласен, что энергия от ВИЭ на текущий моме...</td>\n      <td>0.0</td>\n    </tr>\n  </tbody>\n</table>\n</div>"
     },
     "execution_count": 10,
     "metadata": {},
     "output_type": "execute_result"
    }
   ],
   "source": [
    "df =  df.iloc[:, 1:]\n",
    "df.head()"
   ],
   "metadata": {
    "collapsed": false
   }
  },
  {
   "cell_type": "code",
   "execution_count": 63,
   "outputs": [],
   "source": [
    "df_to_graph = df.sample(40)"
   ],
   "metadata": {
    "collapsed": false
   }
  },
  {
   "cell_type": "code",
   "execution_count": 64,
   "outputs": [
    {
     "data": {
      "text/plain": "[251,\n 775,\n 911,\n 207,\n 535,\n 191,\n 908,\n 458,\n 388,\n 367,\n 886,\n 418,\n 859,\n 240,\n 613,\n 648,\n 428,\n 513,\n 117,\n 33,\n 803,\n 934,\n 687,\n 32,\n 626,\n 132,\n 731,\n 808,\n 854,\n 796,\n 197,\n 759,\n 41,\n 43,\n 659,\n 974,\n 347,\n 905,\n 989,\n 52]"
     },
     "execution_count": 64,
     "metadata": {},
     "output_type": "execute_result"
    }
   ],
   "source": [
    "list(df_to_graph.index)"
   ],
   "metadata": {
    "collapsed": false
   }
  },
  {
   "cell_type": "code",
   "execution_count": 65,
   "outputs": [
    {
     "data": {
      "text/plain": "'Твоя мать настолько жирная, что больше... про это шутеячка ? Я вижу так, для меня мама имеет большее значение чем вся та здоровая хуйня\\n'"
     },
     "execution_count": 65,
     "metadata": {},
     "output_type": "execute_result"
    }
   ],
   "source": [
    "list(df_to_graph[\"comment\"])[0]"
   ],
   "metadata": {
    "collapsed": false
   }
  },
  {
   "cell_type": "code",
   "execution_count": 66,
   "outputs": [],
   "source": [
    "from itertools import combinations"
   ],
   "metadata": {
    "collapsed": false
   }
  },
  {
   "cell_type": "code",
   "execution_count": 67,
   "outputs": [],
   "source": [
    "net = Network(notebook=True, cdn_resources=\"remote\")\n",
    "\n",
    "net.add_nodes(\n",
    "    list(df_to_graph.index),\n",
    "    label=list(df_to_graph[\"comment\"])\n",
    ")"
   ],
   "metadata": {
    "collapsed": false
   }
  },
  {
   "cell_type": "code",
   "execution_count": 68,
   "outputs": [
    {
     "data": {
      "text/plain": "array([0., 1., 4., 3., 2.])"
     },
     "execution_count": 68,
     "metadata": {},
     "output_type": "execute_result"
    }
   ],
   "source": [
    "classes = df_to_graph[\"toxic\"].unique()\n",
    "classes"
   ],
   "metadata": {
    "collapsed": false
   }
  },
  {
   "cell_type": "code",
   "execution_count": 69,
   "outputs": [
    {
     "name": "stderr",
     "output_type": "stream",
     "text": [
      "/var/folders/z_/pnpxs3hd3kj02hq03589yfq40000gn/T/ipykernel_71157/983649600.py:3: FutureWarning: In a future version of pandas, a length 1 tuple will be returned when iterating over a groupby with a grouper equal to a list of length 1. Don't supply a list with a single grouper to avoid this warning.\n",
      "  for gr_name, df_gr in df_to_graph.groupby(by=[\"toxic\"]):\n"
     ]
    },
    {
     "data": {
      "text/plain": "[(251, 775),\n (251, 911),\n (251, 207),\n (251, 535),\n (251, 458),\n (251, 388),\n (251, 859),\n (251, 613),\n (251, 513),\n (251, 117),\n (251, 33),\n (251, 803),\n (251, 731),\n (251, 854),\n (251, 796),\n (251, 197),\n (251, 974),\n (251, 989),\n (251, 52),\n (775, 911),\n (775, 207),\n (775, 535),\n (775, 458),\n (775, 388),\n (775, 859),\n (775, 613),\n (775, 513),\n (775, 117),\n (775, 33),\n (775, 803),\n (775, 731),\n (775, 854),\n (775, 796),\n (775, 197),\n (775, 974),\n (775, 989),\n (775, 52),\n (911, 207),\n (911, 535),\n (911, 458),\n (911, 388),\n (911, 859),\n (911, 613),\n (911, 513),\n (911, 117),\n (911, 33),\n (911, 803),\n (911, 731),\n (911, 854),\n (911, 796),\n (911, 197),\n (911, 974),\n (911, 989),\n (911, 52),\n (207, 535),\n (207, 458),\n (207, 388),\n (207, 859),\n (207, 613),\n (207, 513),\n (207, 117),\n (207, 33),\n (207, 803),\n (207, 731),\n (207, 854),\n (207, 796),\n (207, 197),\n (207, 974),\n (207, 989),\n (207, 52),\n (535, 458),\n (535, 388),\n (535, 859),\n (535, 613),\n (535, 513),\n (535, 117),\n (535, 33),\n (535, 803),\n (535, 731),\n (535, 854),\n (535, 796),\n (535, 197),\n (535, 974),\n (535, 989),\n (535, 52),\n (458, 388),\n (458, 859),\n (458, 613),\n (458, 513),\n (458, 117),\n (458, 33),\n (458, 803),\n (458, 731),\n (458, 854),\n (458, 796),\n (458, 197),\n (458, 974),\n (458, 989),\n (458, 52),\n (388, 859),\n (388, 613),\n (388, 513),\n (388, 117),\n (388, 33),\n (388, 803),\n (388, 731),\n (388, 854),\n (388, 796),\n (388, 197),\n (388, 974),\n (388, 989),\n (388, 52),\n (859, 613),\n (859, 513),\n (859, 117),\n (859, 33),\n (859, 803),\n (859, 731),\n (859, 854),\n (859, 796),\n (859, 197),\n (859, 974),\n (859, 989),\n (859, 52),\n (613, 513),\n (613, 117),\n (613, 33),\n (613, 803),\n (613, 731),\n (613, 854),\n (613, 796),\n (613, 197),\n (613, 974),\n (613, 989),\n (613, 52),\n (513, 117),\n (513, 33),\n (513, 803),\n (513, 731),\n (513, 854),\n (513, 796),\n (513, 197),\n (513, 974),\n (513, 989),\n (513, 52),\n (117, 33),\n (117, 803),\n (117, 731),\n (117, 854),\n (117, 796),\n (117, 197),\n (117, 974),\n (117, 989),\n (117, 52),\n (33, 803),\n (33, 731),\n (33, 854),\n (33, 796),\n (33, 197),\n (33, 974),\n (33, 989),\n (33, 52),\n (803, 731),\n (803, 854),\n (803, 796),\n (803, 197),\n (803, 974),\n (803, 989),\n (803, 52),\n (731, 854),\n (731, 796),\n (731, 197),\n (731, 974),\n (731, 989),\n (731, 52),\n (854, 796),\n (854, 197),\n (854, 974),\n (854, 989),\n (854, 52),\n (796, 197),\n (796, 974),\n (796, 989),\n (796, 52),\n (197, 974),\n (197, 989),\n (197, 52),\n (974, 989),\n (974, 52),\n (989, 52),\n (886, 240),\n (886, 687),\n (886, 32),\n (886, 626),\n (886, 41),\n (886, 347),\n (240, 687),\n (240, 32),\n (240, 626),\n (240, 41),\n (240, 347),\n (687, 32),\n (687, 626),\n (687, 41),\n (687, 347),\n (32, 626),\n (32, 41),\n (32, 347),\n (626, 41),\n (626, 347),\n (41, 347),\n (367, 418),\n (367, 648),\n (367, 428),\n (367, 808),\n (367, 43),\n (367, 659),\n (418, 648),\n (418, 428),\n (418, 808),\n (418, 43),\n (418, 659),\n (648, 428),\n (648, 808),\n (648, 43),\n (648, 659),\n (428, 808),\n (428, 43),\n (428, 659),\n (808, 43),\n (808, 659),\n (43, 659),\n (908, 934),\n (908, 132),\n (908, 759),\n (908, 905),\n (934, 132),\n (934, 759),\n (934, 905),\n (132, 759),\n (132, 905),\n (759, 905)]"
     },
     "execution_count": 69,
     "metadata": {},
     "output_type": "execute_result"
    }
   ],
   "source": [
    "edges = []\n",
    "\n",
    "for gr_name, df_gr in df_to_graph.groupby(by=[\"toxic\"]):\n",
    "    edges = edges + list(combinations(list(df_gr.index), 2))\n",
    "\n",
    "edges"
   ],
   "metadata": {
    "collapsed": false
   }
  },
  {
   "cell_type": "code",
   "execution_count": 70,
   "outputs": [],
   "source": [
    "net.add_edges(\n",
    "    edges\n",
    ")"
   ],
   "metadata": {
    "collapsed": false
   }
  },
  {
   "cell_type": "code",
   "execution_count": 71,
   "outputs": [
    {
     "name": "stdout",
     "output_type": "stream",
     "text": [
      "comments.html\n"
     ]
    },
    {
     "data": {
      "text/plain": "<IPython.lib.display.IFrame at 0x1334fa890>",
      "text/html": "\n        <iframe\n            width=\"100%\"\n            height=\"600px\"\n            src=\"comments.html\"\n            frameborder=\"0\"\n            allowfullscreen\n            \n        ></iframe>\n        "
     },
     "execution_count": 71,
     "metadata": {},
     "output_type": "execute_result"
    }
   ],
   "source": [
    "net.show(\"comments.html\")"
   ],
   "metadata": {
    "collapsed": false
   }
  },
  {
   "cell_type": "code",
   "execution_count": 71,
   "outputs": [],
   "source": [],
   "metadata": {
    "collapsed": false
   }
  }
 ],
 "metadata": {
  "kernelspec": {
   "display_name": "Python 3",
   "language": "python",
   "name": "python3"
  },
  "language_info": {
   "codemirror_mode": {
    "name": "ipython",
    "version": 2
   },
   "file_extension": ".py",
   "mimetype": "text/x-python",
   "name": "python",
   "nbconvert_exporter": "python",
   "pygments_lexer": "ipython2",
   "version": "2.7.6"
  }
 },
 "nbformat": 4,
 "nbformat_minor": 0
}
