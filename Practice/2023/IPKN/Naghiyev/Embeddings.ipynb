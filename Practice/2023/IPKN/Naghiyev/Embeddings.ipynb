{
 "cells": [
  {
   "cell_type": "code",
   "execution_count": 1,
   "metadata": {
    "colab": {
     "base_uri": "https://localhost:8080/"
    },
    "id": "UCDTGqo4nv-g",
    "outputId": "d8feb315-4e5f-4b6f-80af-fe4add79990d"
   },
   "outputs": [
    {
     "name": "stdout",
     "output_type": "stream",
     "text": [
      "Traceback (most recent call last):\n",
      "  File \"/usr/local/bin/pip3\", line 8, in <module>\n",
      "    sys.exit(main())\n",
      "  File \"/usr/local/lib/python3.10/dist-packages/pip/_internal/cli/main.py\", line 77, in main\n",
      "    command = create_command(cmd_name, isolated=(\"--isolated\" in cmd_args))\n",
      "  File \"/usr/local/lib/python3.10/dist-packages/pip/_internal/commands/__init__.py\", line 114, in create_command\n",
      "    module = importlib.import_module(module_path)\n",
      "  File \"/usr/lib/python3.10/importlib/__init__.py\", line 126, in import_module\n",
      "    return _bootstrap._gcd_import(name[level:], package, level)\n",
      "  File \"<frozen importlib._bootstrap>\", line 1050, in _gcd_import\n",
      "  File \"<frozen importlib._bootstrap>\", line 1027, in _find_and_load\n",
      "  File \"<frozen importlib._bootstrap>\", line 1006, in _find_and_load_unlocked\n",
      "  File \"<frozen importlib._bootstrap>\", line 688, in _load_unlocked\n",
      "  File \"<frozen importlib._bootstrap_external>\", line 883, in exec_module\n",
      "  File \"<frozen importlib._bootstrap>\", line 241, in _call_with_frames_removed\n",
      "  File \"/usr/local/lib/python3.10/dist-packages/pip/_internal/commands/install.py\", line 15, in <module>\n",
      "    from pip._internal.cli.req_command import (\n",
      "  File \"/usr/local/lib/python3.10/dist-packages/pip/_internal/cli/req_command.py\", line 21, in <module>\n",
      "    from pip._internal.index.package_finder import PackageFinder\n",
      "  File \"/usr/local/lib/python3.10/dist-packages/pip/_internal/index/package_finder.py\", line 30, in <module>\n",
      "    from pip._internal.req import InstallRequirement\n",
      "  File \"/usr/local/lib/python3.10/dist-packages/pip/_internal/req/__init__.py\", line 8, in <module>\n",
      "    from .req_install import InstallRequirement\n",
      "  File \"/usr/local/lib/python3.10/dist-packages/pip/_internal/req/req_install.py\", line 36, in <module>\n",
      "    from pip._internal.operations.build.metadata_legacy import (\n",
      "  File \"/usr/local/lib/python3.10/dist-packages/pip/_internal/operations/build/metadata_legacy.py\", line 14, in <module>\n",
      "    from pip._internal.utils.setuptools_build import make_setuptools_egg_info_args\n",
      "  File \"<frozen importlib._bootstrap>\", line 1027, in _find_and_load\n",
      "  File \"<frozen importlib._bootstrap>\", line 1006, in _find_and_load_unlocked\n",
      "  File \"<frozen importlib._bootstrap>\", line 674, in _load_unlocked\n",
      "  File \"<frozen importlib._bootstrap>\", line 577, in module_from_spec\n",
      "KeyboardInterrupt\n",
      "^C\n"
     ]
    }
   ],
   "source": [
    "!pip install tensorflow==2.9.0 ampligraph==2.0.1"
   ]
  },
  {
   "cell_type": "code",
   "execution_count": 2,
   "metadata": {
    "colab": {
     "base_uri": "https://localhost:8080/"
    },
    "id": "G-ue8-8_n2vG",
    "outputId": "115b18c4-3511-42a5-8cdc-5b1c6b9f25f1"
   },
   "outputs": [
    {
     "name": "stdout",
     "output_type": "stream",
     "text": [
      "Requirement already satisfied: rdflib in /usr/local/lib/python3.10/dist-packages (7.0.0)\n",
      "Requirement already satisfied: isodate<0.7.0,>=0.6.0 in /usr/local/lib/python3.10/dist-packages (from rdflib) (0.6.1)\n",
      "Requirement already satisfied: pyparsing<4,>=2.1.0 in /usr/local/lib/python3.10/dist-packages (from rdflib) (3.1.1)\n",
      "Requirement already satisfied: six in /usr/local/lib/python3.10/dist-packages (from isodate<0.7.0,>=0.6.0->rdflib) (1.16.0)\n"
     ]
    }
   ],
   "source": [
    "!pip install rdflib"
   ]
  },
  {
   "cell_type": "code",
   "execution_count": 7,
   "metadata": {
    "id": "87P2QtLcnkTJ"
   },
   "outputs": [],
   "source": [
    "import numpy as np\n",
    "import pandas as pd\n",
    "import ampligraph\n"
   ]
  },
  {
   "cell_type": "code",
   "execution_count": 1,
   "metadata": {
    "colab": {
     "base_uri": "https://localhost:8080/"
    },
    "id": "wA_Sc9L3nnx1",
    "outputId": "5b99cf35-fc69-4611-b6e0-1e0b5409ca14"
   },
   "outputs": [
    {
     "data": {
      "text/plain": [
       "<Graph identifier=N63be09a408fd4492b681f53da217b43e (<class 'rdflib.graph.Graph'>)>"
      ]
     },
     "execution_count": 1,
     "metadata": {},
     "output_type": "execute_result"
    }
   ],
   "source": [
    "from rdflib import URIRef, BNode, Literal, Namespace, Graph\n",
    "from rdflib.namespace import Namespace, NamespaceManager\n",
    "from rdflib.plugins import sparql\n",
    "from rdflib.namespace import RDF, RDFS, XSD\n",
    "from rdflib.serializer import Serializer\n",
    "\n",
    "# Create a Graph\n",
    "gt = Graph()\n",
    "gt.parse(\"ontology (6).rdf\")\n",
    "#gt.serialize(destination=\"sm.rdf\", format='application/rdf+xml')"
   ]
  },
  {
   "cell_type": "code",
   "execution_count": 84,
   "metadata": {
    "colab": {
     "base_uri": "https://localhost:8080/"
    },
    "id": "XsX0KFozoQKj",
    "outputId": "76518031-1a4a-4c7d-c897-8e62e24ae83b"
   },
   "outputs": [
    {
     "data": {
      "text/plain": [
       "array([['http://www.semanticweb.org/jalal/ontologies/2023/10/movie-ontology#Person_16580',\n",
       "        'http://www.semanticweb.org/jalal/ontologies/2023/10/movie-ontology#gender',\n",
       "        '2'],\n",
       "       ['http://www.semanticweb.org/jalal/ontologies/2023/10/movie-ontology#Character_101886_1834',\n",
       "        'http://www.semanticweb.org/jalal/ontologies/2023/10/movie-ontology#appearsIn',\n",
       "        'http://www.semanticweb.org/jalal/ontologies/2023/10/movie-ontology#Movie_1834'],\n",
       "       ['http://www.semanticweb.org/jalal/ontologies/2023/10/movie-ontology#Movie_1813',\n",
       "        'http://www.semanticweb.org/jalal/ontologies/2023/10/movie-ontology#budget',\n",
       "        '57000000'],\n",
       "       ...,\n",
       "       ['http://www.semanticweb.org/jalal/ontologies/2023/10/movie-ontology#Character_3236657_1630',\n",
       "        'http://www.semanticweb.org/jalal/ontologies/2023/10/movie-ontology#name',\n",
       "        'Georgia Reporter'],\n",
       "       ['http://www.semanticweb.org/jalal/ontologies/2023/10/movie-ontology#Person_1486457',\n",
       "        'http://www.semanticweb.org/jalal/ontologies/2023/10/movie-ontology#portrays',\n",
       "        'http://www.semanticweb.org/jalal/ontologies/2023/10/movie-ontology#Character_1486457_1572'],\n",
       "       ['http://www.semanticweb.org/jalal/ontologies/2023/10/movie-ontology#Movie_1955',\n",
       "        'http://www.semanticweb.org/jalal/ontologies/2023/10/movie-ontology#hasActor',\n",
       "        'http://www.semanticweb.org/jalal/ontologies/2023/10/movie-ontology#Person_2328096']],\n",
       "      dtype=object)"
      ]
     },
     "execution_count": 84,
     "metadata": {},
     "output_type": "execute_result"
    }
   ],
   "source": [
    "from ampligraph.datasets import load_from_rdf\n",
    "triples = load_from_rdf(folder_name=\"/Users/jalal/DataspellProjects/KG/\", file_name=\"sm.rdf\", rdf_format='application/rdf+xml')\n",
    "triples"
   ]
  },
  {
   "cell_type": "code",
   "execution_count": 86,
   "metadata": {
    "colab": {
     "base_uri": "https://localhost:8080/"
    },
    "id": "XsX0KFozoQKj",
    "outputId": "76518031-1a4a-4c7d-c897-8e62e24ae83b"
   },
   "outputs": [
    {
     "data": {
      "text/plain": [
       "array([['http://www.semanticweb.org/jalal/ontologies/2023/10/movie-ontology#Person_16580',\n",
       "        'http://www.semanticweb.org/jalal/ontologies/2023/10/movie-ontology#gender',\n",
       "        '2'],\n",
       "       ['http://www.semanticweb.org/jalal/ontologies/2023/10/movie-ontology#Character_101886_1834',\n",
       "        'http://www.semanticweb.org/jalal/ontologies/2023/10/movie-ontology#appearsIn',\n",
       "        'http://www.semanticweb.org/jalal/ontologies/2023/10/movie-ontology#Movie_1834'],\n",
       "       ['http://www.semanticweb.org/jalal/ontologies/2023/10/movie-ontology#Movie_1813',\n",
       "        'http://www.semanticweb.org/jalal/ontologies/2023/10/movie-ontology#budget',\n",
       "        '57000000'],\n",
       "       ...,\n",
       "       ['http://www.semanticweb.org/jalal/ontologies/2023/10/movie-ontology#Character_3236657_1630',\n",
       "        'http://www.semanticweb.org/jalal/ontologies/2023/10/movie-ontology#name',\n",
       "        'Georgia Reporter'],\n",
       "       ['http://www.semanticweb.org/jalal/ontologies/2023/10/movie-ontology#Person_1486457',\n",
       "        'http://www.semanticweb.org/jalal/ontologies/2023/10/movie-ontology#portrays',\n",
       "        'http://www.semanticweb.org/jalal/ontologies/2023/10/movie-ontology#Character_1486457_1572'],\n",
       "       ['http://www.semanticweb.org/jalal/ontologies/2023/10/movie-ontology#Movie_1955',\n",
       "        'http://www.semanticweb.org/jalal/ontologies/2023/10/movie-ontology#hasActor',\n",
       "        'http://www.semanticweb.org/jalal/ontologies/2023/10/movie-ontology#Person_2328096']],\n",
       "      dtype=object)"
      ]
     },
     "execution_count": 86,
     "metadata": {},
     "output_type": "execute_result"
    }
   ],
   "source": [
    "triples"
   ]
  },
  {
   "cell_type": "code",
   "execution_count": null,
   "metadata": {
    "id": "z0slxoV0oTUy"
   },
   "outputs": [],
   "source": [
    "df = pd.DataFrame(triples, columns=['Subject', 'Predicate', 'Object'])\n",
    "\n",
    "# Display the DataFrame\n",
    "print(df.size)"
   ]
  },
  {
   "cell_type": "code",
   "execution_count": 93,
   "metadata": {
    "id": "z0slxoV0oTUy"
   },
   "outputs": [],
   "source": [
    "filtered_df = df[~df.apply(lambda row: row.astype(str).str.contains('Character').any(), axis=1)]\n",
    "filtered_df2 = filtered_df[~filtered_df.apply(lambda row: row.astype(str).str.contains('gender').any(), axis=1)]\n"
   ]
  },
  {
   "cell_type": "code",
   "execution_count": 98,
   "metadata": {
    "id": "z0slxoV0oTUy"
   },
   "outputs": [],
   "source": [
    "filtered_df3 = filtered_df2[~filtered_df2.apply(lambda row: row.astype(str).str.contains('nationality').any(), axis=1)]"
   ]
  },
  {
   "cell_type": "code",
   "execution_count": 99,
   "metadata": {
    "id": "z0slxoV0oTUy"
   },
   "outputs": [],
   "source": [
    "filtered_df4 = filtered_df3[~filtered_df3.apply(lambda row: row.astype(str).str.contains('birthDate').any(), axis=1)]"
   ]
  },
  {
   "cell_type": "code",
   "execution_count": 138,
   "metadata": {
    "id": "z0slxoV0oTUy"
   },
   "outputs": [
    {
     "data": {
      "text/plain": [
       "507420"
      ]
     },
     "execution_count": 138,
     "metadata": {},
     "output_type": "execute_result"
    }
   ],
   "source": [
    "filtered_df4.size"
   ]
  },
  {
   "cell_type": "code",
   "execution_count": null,
   "metadata": {
    "id": "z0slxoV0oTUy"
   },
   "outputs": [],
   "source": [
    "search_string = 'placeOfBirth'  # Replace with the string you want to search for\n",
    "\n",
    "# Use str.contains() to create a boolean mask\n",
    "mask = filtered_df4.apply(lambda column: column.astype(str).str.contains(search_string, case=False, na=False))\n",
    "\n",
    "# Filter the DataFrame using the mask\n",
    "result = filtered_df4[mask.any(axis=1)]\n",
    "\n",
    "# Display the filtered DataFrame\n",
    "print(result.head())"
   ]
  },
  {
   "cell_type": "code",
   "execution_count": null,
   "metadata": {
    "id": "z0slxoV0oTUy"
   },
   "outputs": [],
   "source": [
    "text_to_replace = 'http://www.semanticweb.org/jalal/ontologies/2023/10/movie-ontology#'  # Replace spaces with underscores\n",
    "replacement_string = ''\n",
    "\n",
    "# Use the .replace() method to replace text in all columns\n",
    "df_replaced = filtered_df4.apply(lambda col: col.str.replace(text_to_replace, replacement_string))\n",
    "\n",
    "# Display the DataFrame with replaced text\n",
    "print(df_replaced)"
   ]
  },
  {
   "cell_type": "code",
   "execution_count": 170,
   "metadata": {
    "id": "z0slxoV0oTUy"
   },
   "outputs": [
    {
     "data": {
      "text/html": [
       "<div>\n",
       "<style scoped>\n",
       "    .dataframe tbody tr th:only-of-type {\n",
       "        vertical-align: middle;\n",
       "    }\n",
       "\n",
       "    .dataframe tbody tr th {\n",
       "        vertical-align: top;\n",
       "    }\n",
       "\n",
       "    .dataframe thead th {\n",
       "        text-align: right;\n",
       "    }\n",
       "</style>\n",
       "<table border=\"1\" class=\"dataframe\">\n",
       "  <thead>\n",
       "    <tr style=\"text-align: right;\">\n",
       "      <th></th>\n",
       "      <th>Subject</th>\n",
       "      <th>Predicate</th>\n",
       "      <th>Object</th>\n",
       "    </tr>\n",
       "  </thead>\n",
       "  <tbody>\n",
       "    <tr>\n",
       "      <th>2</th>\n",
       "      <td>Movie_1813</td>\n",
       "      <td>budget</td>\n",
       "      <td>57000000</td>\n",
       "    </tr>\n",
       "    <tr>\n",
       "      <th>6</th>\n",
       "      <td>Person_2053286</td>\n",
       "      <td>name</td>\n",
       "      <td>Abraham Abraham</td>\n",
       "    </tr>\n",
       "    <tr>\n",
       "      <th>14</th>\n",
       "      <td>Person_13741</td>\n",
       "      <td>name</td>\n",
       "      <td>Peter Pauli</td>\n",
       "    </tr>\n",
       "    <tr>\n",
       "      <th>16</th>\n",
       "      <td>Person_1676797</td>\n",
       "      <td>actedIn</td>\n",
       "      <td>Movie_1422</td>\n",
       "    </tr>\n",
       "    <tr>\n",
       "      <th>17</th>\n",
       "      <td>Person_1185375</td>\n",
       "      <td>actedIn</td>\n",
       "      <td>Movie_483</td>\n",
       "    </tr>\n",
       "    <tr>\n",
       "      <th>...</th>\n",
       "      <td>...</td>\n",
       "      <td>...</td>\n",
       "      <td>...</td>\n",
       "    </tr>\n",
       "    <tr>\n",
       "      <th>518952</th>\n",
       "      <td>Movie_244</td>\n",
       "      <td>hasActor</td>\n",
       "      <td>Person_1152705</td>\n",
       "    </tr>\n",
       "    <tr>\n",
       "      <th>518954</th>\n",
       "      <td>Person_11392</td>\n",
       "      <td>actedIn</td>\n",
       "      <td>Movie_746</td>\n",
       "    </tr>\n",
       "    <tr>\n",
       "      <th>518963</th>\n",
       "      <td>Person_205</td>\n",
       "      <td>actedIn</td>\n",
       "      <td>Movie_1443</td>\n",
       "    </tr>\n",
       "    <tr>\n",
       "      <th>518964</th>\n",
       "      <td>Movie_885</td>\n",
       "      <td>releaseDate</td>\n",
       "      <td>1928-09-16</td>\n",
       "    </tr>\n",
       "    <tr>\n",
       "      <th>518969</th>\n",
       "      <td>Movie_1955</td>\n",
       "      <td>hasActor</td>\n",
       "      <td>Person_2328096</td>\n",
       "    </tr>\n",
       "  </tbody>\n",
       "</table>\n",
       "<p>169140 rows × 3 columns</p>\n",
       "</div>"
      ],
      "text/plain": [
       "               Subject    Predicate           Object\n",
       "2           Movie_1813       budget         57000000\n",
       "6       Person_2053286         name  Abraham Abraham\n",
       "14        Person_13741         name      Peter Pauli\n",
       "16      Person_1676797      actedIn       Movie_1422\n",
       "17      Person_1185375      actedIn        Movie_483\n",
       "...                ...          ...              ...\n",
       "518952       Movie_244     hasActor   Person_1152705\n",
       "518954    Person_11392      actedIn        Movie_746\n",
       "518963      Person_205      actedIn       Movie_1443\n",
       "518964       Movie_885  releaseDate       1928-09-16\n",
       "518969      Movie_1955     hasActor   Person_2328096\n",
       "\n",
       "[169140 rows x 3 columns]"
      ]
     },
     "execution_count": 170,
     "metadata": {},
     "output_type": "execute_result"
    }
   ],
   "source": [
    "df_replaced"
   ]
  },
  {
   "cell_type": "code",
   "execution_count": null,
   "metadata": {
    "id": "z0slxoV0oTUy"
   },
   "outputs": [],
   "source": [
    "from ampligraph.evaluation import train_test_split_no_unseen\n",
    "\n",
    "X_train, X_valid = train_test_split_no_unseen(np.array(filtered_df4), test_size=0.2)"
   ]
  },
  {
   "cell_type": "code",
   "execution_count": 194,
   "metadata": {
    "id": "z0slxoV0oTUy"
   },
   "outputs": [
    {
     "data": {
      "text/plain": [
       "array([['http://www.semanticweb.org/jalal/ontologies/2023/10/movie-ontology#Person_7063',\n",
       "        'http://www.semanticweb.org/jalal/ontologies/2023/10/movie-ontology#actedIn',\n",
       "        'http://www.semanticweb.org/jalal/ontologies/2023/10/movie-ontology#Movie_1951'],\n",
       "       ['http://www.semanticweb.org/jalal/ontologies/2023/10/movie-ontology#Person_31210',\n",
       "        'http://www.semanticweb.org/jalal/ontologies/2023/10/movie-ontology#actedIn',\n",
       "        'http://www.semanticweb.org/jalal/ontologies/2023/10/movie-ontology#Movie_912'],\n",
       "       ['http://www.semanticweb.org/jalal/ontologies/2023/10/movie-ontology#Person_19639',\n",
       "        'http://www.semanticweb.org/jalal/ontologies/2023/10/movie-ontology#directs',\n",
       "        'http://www.semanticweb.org/jalal/ontologies/2023/10/movie-ontology#Movie_1871'],\n",
       "       ...,\n",
       "       ['http://www.semanticweb.org/jalal/ontologies/2023/10/movie-ontology#Person_83816',\n",
       "        'http://www.semanticweb.org/jalal/ontologies/2023/10/movie-ontology#name',\n",
       "        'John Henshaw'],\n",
       "       ['http://www.semanticweb.org/jalal/ontologies/2023/10/movie-ontology#Person_5980',\n",
       "        'http://www.semanticweb.org/jalal/ontologies/2023/10/movie-ontology#actedIn',\n",
       "        'http://www.semanticweb.org/jalal/ontologies/2023/10/movie-ontology#Movie_442'],\n",
       "       ['http://www.semanticweb.org/jalal/ontologies/2023/10/movie-ontology#Person_1595501',\n",
       "        'http://www.semanticweb.org/jalal/ontologies/2023/10/movie-ontology#actedIn',\n",
       "        'http://www.semanticweb.org/jalal/ontologies/2023/10/movie-ontology#Movie_682']],\n",
       "      dtype=object)"
      ]
     },
     "execution_count": 194,
     "metadata": {},
     "output_type": "execute_result"
    }
   ],
   "source": [
    "X_train"
   ]
  },
  {
   "cell_type": "code",
   "execution_count": 172,
   "metadata": {
    "id": "yOxK0rWopU8Z"
   },
   "outputs": [],
   "source": [
    "import tensorflow as tf"
   ]
  },
  {
   "cell_type": "code",
   "execution_count": 186,
   "metadata": {
    "id": "fVD653QUoT1z"
   },
   "outputs": [
    {
     "name": "stdout",
     "output_type": "stream",
     "text": [
      "WARNING - At this time, the v2.11+ optimizer `tf.keras.optimizers.Adam` runs slowly on M1/M2 Macs, please use the legacy Keras optimizer instead, located at `tf.keras.optimizers.legacy.Adam`.\n"
     ]
    }
   ],
   "source": [
    "from ampligraph.latent_features import ScoringBasedEmbeddingModel\n",
    "from ampligraph.latent_features.loss_functions import get as get_loss\n",
    "from ampligraph.latent_features.regularizers import get as get_regularizer\n",
    "\n",
    "# Initialize a ComplEx neural embedding model\n",
    "model = ScoringBasedEmbeddingModel(k=100,\n",
    "                                   eta=20,\n",
    "                                   scoring_type='ComplEx')\n",
    "\n",
    "\n",
    "# Optimizer, loss and regularizer definition\n",
    "optim = tf.keras.optimizers.Adam(learning_rate=1e-2)\n",
    "loss = get_loss('multiclass_nll')\n",
    "regularizer = get_regularizer('LP', {'p': 3, 'lambda': 1e-5})\n",
    "\n",
    "# Compilation of the model\n",
    "model.compile(optimizer=optim,\n",
    "              loss=loss,\n",
    "              entity_relation_regularizer=regularizer)"
   ]
  },
  {
   "cell_type": "code",
   "execution_count": 187,
   "metadata": {
    "colab": {
     "base_uri": "https://localhost:8080/"
    },
    "id": "7XTUPntgoYIU",
    "outputId": "1386a759-4811-4ee0-c17d-8508ded7bd1e"
   },
   "outputs": [
    {
     "name": "stdout",
     "output_type": "stream",
     "text": [
      "Epoch 1/100\n",
      "52/52 [==============================] - 7s 126ms/step - loss: 7935.5264\n",
      "Epoch 2/100\n",
      "52/52 [==============================] - 6s 106ms/step - loss: 5622.5869\n",
      "Epoch 3/100\n",
      "52/52 [==============================] - 5s 103ms/step - loss: 3835.4697\n",
      "Epoch 4/100\n",
      "52/52 [==============================] - 5s 104ms/step - loss: 2886.1199\n",
      "Epoch 5/100\n",
      "52/52 [==============================] - 6s 108ms/step - loss: 2317.1592\n",
      "Epoch 6/100\n",
      "52/52 [==============================] - 6s 117ms/step - loss: 1938.8344\n",
      "Epoch 7/100\n",
      "52/52 [==============================] - 5s 104ms/step - loss: 1668.7712\n",
      "Epoch 8/100\n",
      "52/52 [==============================] - 6s 112ms/step - loss: 1466.9379\n",
      "Epoch 9/100\n",
      "52/52 [==============================] - 7s 128ms/step - loss: 1310.0320\n",
      "Epoch 10/100\n",
      "52/52 [==============================] - 7s 128ms/step - loss: 1184.8124\n",
      "Epoch 11/100\n",
      "52/52 [==============================] - 6s 113ms/step - loss: 1082.0446\n",
      "Epoch 12/100\n",
      "52/52 [==============================] - 10s 189ms/step - loss: 996.9554\n",
      "Epoch 13/100\n",
      "52/52 [==============================] - 10s 199ms/step - loss: 924.7221\n",
      "Epoch 14/100\n",
      "52/52 [==============================] - 8s 162ms/step - loss: 863.1848\n",
      "Epoch 15/100\n",
      "52/52 [==============================] - 7s 132ms/step - loss: 809.3358\n",
      "Epoch 16/100\n",
      "52/52 [==============================] - 6s 121ms/step - loss: 762.3572\n",
      "Epoch 17/100\n",
      "52/52 [==============================] - 7s 138ms/step - loss: 720.8782\n",
      "Epoch 18/100\n",
      "52/52 [==============================] - 6s 125ms/step - loss: 684.2789\n",
      "Epoch 19/100\n",
      "52/52 [==============================] - 10s 198ms/step - loss: 651.3371\n",
      "Epoch 20/100\n",
      "52/52 [==============================] - 11s 203ms/step - loss: 621.8812\n",
      "Epoch 21/100\n",
      "52/52 [==============================] - 6s 116ms/step - loss: 594.7601\n",
      "Epoch 22/100\n",
      "52/52 [==============================] - 12s 231ms/step - loss: 570.0696\n",
      "Epoch 23/100\n",
      "52/52 [==============================] - 9s 183ms/step - loss: 547.6658\n",
      "Epoch 24/100\n",
      "52/52 [==============================] - 8s 159ms/step - loss: 527.2946\n",
      "Epoch 25/100\n",
      "52/52 [==============================] - 7s 130ms/step - loss: 508.2018\n",
      "Epoch 26/100\n",
      "52/52 [==============================] - 6s 116ms/step - loss: 490.5951\n",
      "Epoch 27/100\n",
      "52/52 [==============================] - 6s 115ms/step - loss: 474.3580\n",
      "Epoch 28/100\n",
      "52/52 [==============================] - 6s 116ms/step - loss: 459.2153\n",
      "Epoch 29/100\n",
      "52/52 [==============================] - 10s 186ms/step - loss: 445.0957\n",
      "Epoch 30/100\n",
      "52/52 [==============================] - 6s 119ms/step - loss: 431.9842\n",
      "Epoch 31/100\n",
      "52/52 [==============================] - 7s 128ms/step - loss: 419.7156\n",
      "Epoch 32/100\n",
      "52/52 [==============================] - 7s 141ms/step - loss: 408.2885\n",
      "Epoch 33/100\n",
      "52/52 [==============================] - 7s 128ms/step - loss: 397.2961\n",
      "Epoch 34/100\n",
      "52/52 [==============================] - 6s 106ms/step - loss: 386.9636\n",
      "Epoch 35/100\n",
      "52/52 [==============================] - 6s 110ms/step - loss: 377.2990\n",
      "Epoch 36/100\n",
      "52/52 [==============================] - 12s 233ms/step - loss: 368.1407\n",
      "Epoch 37/100\n",
      "52/52 [==============================] - 7s 137ms/step - loss: 359.5990\n",
      "Epoch 38/100\n",
      "52/52 [==============================] - 6s 114ms/step - loss: 351.3193\n",
      "Epoch 39/100\n",
      "52/52 [==============================] - 6s 123ms/step - loss: 343.4357\n",
      "Epoch 40/100\n",
      "52/52 [==============================] - 6s 112ms/step - loss: 335.8613\n",
      "Epoch 41/100\n",
      "52/52 [==============================] - 6s 108ms/step - loss: 328.7950\n",
      "Epoch 42/100\n",
      "52/52 [==============================] - 6s 106ms/step - loss: 322.0998\n",
      "Epoch 43/100\n",
      "52/52 [==============================] - 6s 106ms/step - loss: 315.7115\n",
      "Epoch 44/100\n",
      "52/52 [==============================] - 5s 105ms/step - loss: 309.6194\n",
      "Epoch 45/100\n",
      "52/52 [==============================] - 8s 145ms/step - loss: 303.6788\n",
      "Epoch 46/100\n",
      "52/52 [==============================] - 5s 101ms/step - loss: 298.0780\n",
      "Epoch 47/100\n",
      "52/52 [==============================] - 5s 99ms/step - loss: 292.7090\n",
      "Epoch 48/100\n",
      "52/52 [==============================] - 6s 115ms/step - loss: 287.5697\n",
      "Epoch 49/100\n",
      "52/52 [==============================] - 6s 125ms/step - loss: 282.4975\n",
      "Epoch 50/100\n",
      "52/52 [==============================] - 7s 138ms/step - loss: 277.7874\n",
      "Epoch 51/100\n",
      "52/52 [==============================] - 6s 107ms/step - loss: 273.2126\n",
      "Epoch 52/100\n",
      "52/52 [==============================] - 8s 155ms/step - loss: 268.7858\n",
      "Epoch 53/100\n",
      "52/52 [==============================] - 6s 117ms/step - loss: 264.5298\n",
      "Epoch 54/100\n",
      "52/52 [==============================] - 6s 113ms/step - loss: 260.3772\n",
      "Epoch 55/100\n",
      "52/52 [==============================] - 6s 124ms/step - loss: 256.4297\n",
      "Epoch 56/100\n",
      "52/52 [==============================] - 8s 161ms/step - loss: 252.6062\n",
      "Epoch 57/100\n",
      "52/52 [==============================] - 6s 119ms/step - loss: 249.0024\n",
      "Epoch 58/100\n",
      "52/52 [==============================] - 6s 108ms/step - loss: 245.3856\n",
      "Epoch 59/100\n",
      "52/52 [==============================] - 6s 109ms/step - loss: 241.9256\n",
      "Epoch 60/100\n",
      "52/52 [==============================] - 5s 105ms/step - loss: 238.6306\n",
      "Epoch 61/100\n",
      "52/52 [==============================] - 9s 172ms/step - loss: 235.4640\n",
      "Epoch 62/100\n",
      "52/52 [==============================] - 6s 122ms/step - loss: 232.3652\n",
      "Epoch 63/100\n",
      "52/52 [==============================] - 6s 107ms/step - loss: 229.3768\n",
      "Epoch 64/100\n",
      "52/52 [==============================] - 7s 126ms/step - loss: 226.4736\n",
      "Epoch 65/100\n",
      "52/52 [==============================] - 6s 114ms/step - loss: 223.6570\n",
      "Epoch 66/100\n",
      "52/52 [==============================] - 7s 131ms/step - loss: 220.8496\n",
      "Epoch 67/100\n",
      "52/52 [==============================] - 8s 146ms/step - loss: 218.1821\n",
      "Epoch 68/100\n",
      "52/52 [==============================] - 7s 136ms/step - loss: 215.6025\n",
      "Epoch 69/100\n",
      "52/52 [==============================] - 5s 102ms/step - loss: 213.1536\n",
      "Epoch 70/100\n",
      "52/52 [==============================] - 7s 128ms/step - loss: 210.7392\n",
      "Epoch 71/100\n",
      "52/52 [==============================] - 6s 115ms/step - loss: 208.3594\n",
      "Epoch 72/100\n",
      "52/52 [==============================] - 6s 108ms/step - loss: 206.1048\n",
      "Epoch 73/100\n",
      "52/52 [==============================] - 6s 107ms/step - loss: 203.8398\n",
      "Epoch 74/100\n",
      "52/52 [==============================] - 7s 137ms/step - loss: 201.6490\n",
      "Epoch 75/100\n",
      "52/52 [==============================] - 6s 107ms/step - loss: 199.5090\n",
      "Epoch 76/100\n",
      "52/52 [==============================] - 6s 122ms/step - loss: 197.4163\n",
      "Epoch 77/100\n",
      "52/52 [==============================] - 6s 113ms/step - loss: 195.4467\n",
      "Epoch 78/100\n",
      "52/52 [==============================] - 5s 104ms/step - loss: 193.5144\n",
      "Epoch 79/100\n",
      "52/52 [==============================] - 5s 104ms/step - loss: 191.6364\n",
      "Epoch 80/100\n",
      "52/52 [==============================] - 5s 101ms/step - loss: 189.7416\n",
      "Epoch 81/100\n",
      "52/52 [==============================] - 5s 104ms/step - loss: 187.8936\n",
      "Epoch 82/100\n",
      "52/52 [==============================] - 5s 105ms/step - loss: 186.1725\n",
      "Epoch 83/100\n",
      "52/52 [==============================] - 6s 111ms/step - loss: 184.4191\n",
      "Epoch 84/100\n",
      "52/52 [==============================] - 6s 106ms/step - loss: 182.7184\n",
      "Epoch 85/100\n",
      "52/52 [==============================] - 5s 102ms/step - loss: 181.0309\n",
      "Epoch 86/100\n",
      "52/52 [==============================] - 6s 109ms/step - loss: 179.4173\n",
      "Epoch 87/100\n",
      "52/52 [==============================] - 8s 147ms/step - loss: 177.8423\n",
      "Epoch 88/100\n",
      "52/52 [==============================] - 6s 115ms/step - loss: 176.3033\n",
      "Epoch 89/100\n",
      "52/52 [==============================] - 6s 123ms/step - loss: 174.7448\n",
      "Epoch 90/100\n",
      "52/52 [==============================] - 6s 111ms/step - loss: 173.3291\n",
      "Epoch 91/100\n",
      "52/52 [==============================] - 6s 116ms/step - loss: 171.9164\n",
      "Epoch 92/100\n",
      "52/52 [==============================] - 6s 108ms/step - loss: 170.5009\n",
      "Epoch 93/100\n",
      "52/52 [==============================] - 5s 99ms/step - loss: 169.0828\n",
      "Epoch 94/100\n",
      "52/52 [==============================] - 5s 98ms/step - loss: 167.6995\n",
      "Epoch 95/100\n",
      "52/52 [==============================] - 5s 102ms/step - loss: 166.3794\n",
      "Epoch 96/100\n",
      "52/52 [==============================] - 6s 110ms/step - loss: 165.0709\n",
      "Epoch 97/100\n",
      "52/52 [==============================] - 7s 137ms/step - loss: 163.7905\n",
      "Epoch 98/100\n",
      "52/52 [==============================] - 6s 108ms/step - loss: 162.5284\n",
      "Epoch 99/100\n",
      "52/52 [==============================] - 6s 113ms/step - loss: 161.2913\n",
      "Epoch 100/100\n",
      "52/52 [==============================] - 6s 111ms/step - loss: 160.0797\n"
     ]
    },
    {
     "data": {
      "text/plain": [
       "<tensorflow.python.keras.callbacks.History at 0x30fcd7400>"
      ]
     },
     "execution_count": 187,
     "metadata": {},
     "output_type": "execute_result"
    }
   ],
   "source": [
    "import tensorflow as tf\n",
    "# tf.logging.set_verbosity(tf.logging.ERROR)\n",
    "\n",
    "# Fit the model\n",
    "model.fit(X_train,\n",
    "          batch_size=int(X_train.shape[0] / 50),\n",
    "          epochs=100,  # Number of training epochs\n",
    "          verbose=True  # Enable stdout messages\n",
    "          )"
   ]
  },
  {
   "cell_type": "code",
   "execution_count": 188,
   "metadata": {
    "id": "akC6lYAzoZob"
   },
   "outputs": [],
   "source": [
    "filter_triples = {'test': np.concatenate((X_train, X_valid))}"
   ]
  },
  {
   "cell_type": "code",
   "execution_count": 189,
   "metadata": {
    "colab": {
     "base_uri": "https://localhost:8080/"
    },
    "id": "7dYt4VQUoaDh",
    "outputId": "33ebe372-d5a4-4e97-880f-9568078d1a86"
   },
   "outputs": [
    {
     "name": "stdout",
     "output_type": "stream",
     "text": [
      "1059/1059 [==============================] - 391s 369ms/step\n"
     ]
    }
   ],
   "source": [
    "ranks = model.evaluate(X_valid,\n",
    "                      #  model=model,\n",
    "                        use_filter=filter_triples,\n",
    "                      #  use_default_protocol=True,\n",
    "                        verbose=True)"
   ]
  },
  {
   "cell_type": "code",
   "execution_count": 190,
   "metadata": {
    "colab": {
     "base_uri": "https://localhost:8080/"
    },
    "id": "EH9Ytgh664f3",
    "outputId": "27649b23-cd94-4e34-9748-e66432d57d88"
   },
   "outputs": [
    {
     "name": "stdout",
     "output_type": "stream",
     "text": [
      "MRR: 0.48\n",
      "MR: 9183.53\n",
      "Hits@10: 0.56\n",
      "Hits@3: 0.50\n",
      "Hits@1: 0.43\n"
     ]
    }
   ],
   "source": [
    "from ampligraph.evaluation import mr_score, mrr_score, hits_at_n_score\n",
    "\n",
    "mr = mr_score(ranks)\n",
    "mrr = mrr_score(ranks)\n",
    "\n",
    "print(\"MRR: %.2f\" % (mrr))\n",
    "print(\"MR: %.2f\" % (mr))\n",
    "\n",
    "hits_10 = hits_at_n_score(ranks, n=10)\n",
    "print(\"Hits@10: %.2f\" % (hits_10))\n",
    "hits_3 = hits_at_n_score(ranks, n=3)\n",
    "print(\"Hits@3: %.2f\" % (hits_3))\n",
    "hits_1 = hits_at_n_score(ranks, n=1)\n",
    "print(\"Hits@1: %.2f\" % (hits_1))"
   ]
  },
  {
   "cell_type": "code",
   "execution_count": null,
   "metadata": {
    "id": "RIrsfMQBOgtB",
    "pycharm": {
     "is_executing": true
    }
   },
   "outputs": [],
   "source": [
    "from ampligraph.evaluation import train_test_split_no_unseen \n",
    "from sklearn.model_selection import train_test_split\n",
    "\n",
    "relations = df['Predicate'].unique()\n",
    "print(relations)"
   ]
  },
  {
   "cell_type": "code",
   "execution_count": null,
   "metadata": {
    "id": "RIrsfMQBOgtB",
    "pycharm": {
     "is_executing": true
    }
   },
   "outputs": [],
   "source": [
    "st_set, test_subset])\n",
    "\n",
    "# Shuffle the datasets\n",
    "train_set = train_set.sample(frac=1, random_state=42).reset_index(drop=True)\n",
    "test_set = test_set.sample(frac=1, random_state=42).reset_index(drop=True)\n",
    "\n",
    "triplets_array = df.to_numpy()\n",
    "train, test = train_test_split_no_unseen(triplets_array, test_size=0.2)"
   ]
  },
  {
   "cell_type": "code",
   "execution_count": 62,
   "metadata": {
    "id": "RIrsfMQBOgtB",
    "pycharm": {
     "is_executing": true
    }
   },
   "outputs": [],
   "source": [
    "from ampligraph.evaluation import train_test_split_no_unseen\n",
    "\n",
    "X_train, X_valid = train_test_split_no_unseen(np.array(triples), test_size=100000)"
   ]
  },
  {
   "cell_type": "code",
   "execution_count": 72,
   "metadata": {
    "colab": {
     "base_uri": "https://localhost:8080/"
    },
    "id": "p9ZcRkG8Jn1u",
    "outputId": "d5c28154-563f-4325-ca85-53e4b0aa9412",
    "pycharm": {
     "is_executing": true
    }
   },
   "outputs": [],
   "source": [
    "filter_triples = {'test': np.concatenate((X_train, X_valid))}"
   ]
  },
  {
   "cell_type": "code",
   "execution_count": 127,
   "metadata": {},
   "outputs": [
    {
     "data": {
      "text/plain": [
       "array([['http://www.semanticweb.org/jalal/ontologies/2023/10/movie-ontology#Person_1269602',\n",
       "        'http://www.semanticweb.org/jalal/ontologies/2023/10/movie-ontology#actedIn',\n",
       "        'http://www.semanticweb.org/jalal/ontologies/2023/10/movie-ontology#Movie_22'],\n",
       "       ['http://www.semanticweb.org/jalal/ontologies/2023/10/movie-ontology#Movie_1961',\n",
       "        'http://www.semanticweb.org/jalal/ontologies/2023/10/movie-ontology#hasActor',\n",
       "        'http://www.semanticweb.org/jalal/ontologies/2023/10/movie-ontology#Person_2759525'],\n",
       "       ['http://www.semanticweb.org/jalal/ontologies/2023/10/movie-ontology#Person_2757418',\n",
       "        'http://www.semanticweb.org/jalal/ontologies/2023/10/movie-ontology#actedIn',\n",
       "        'http://www.semanticweb.org/jalal/ontologies/2023/10/movie-ontology#Movie_664'],\n",
       "       ...,\n",
       "       ['http://www.semanticweb.org/jalal/ontologies/2023/10/movie-ontology#Person_3130',\n",
       "        'http://www.semanticweb.org/jalal/ontologies/2023/10/movie-ontology#actedIn',\n",
       "        'http://www.semanticweb.org/jalal/ontologies/2023/10/movie-ontology#Movie_5'],\n",
       "       ['http://www.semanticweb.org/jalal/ontologies/2023/10/movie-ontology#Movie_1073',\n",
       "        'http://www.semanticweb.org/jalal/ontologies/2023/10/movie-ontology#writtenBy',\n",
       "        'http://www.semanticweb.org/jalal/ontologies/2023/10/movie-ontology#Person_15244'],\n",
       "       ['http://www.semanticweb.org/jalal/ontologies/2023/10/movie-ontology#Person_2283686',\n",
       "        'http://www.semanticweb.org/jalal/ontologies/2023/10/movie-ontology#actedIn',\n",
       "        'http://www.semanticweb.org/jalal/ontologies/2023/10/movie-ontology#Movie_1491']],\n",
       "      dtype=object)"
      ]
     },
     "execution_count": 127,
     "metadata": {},
     "output_type": "execute_result"
    }
   ],
   "source": [
    "X_valid"
   ]
  },
  {
   "cell_type": "code",
   "execution_count": 198,
   "metadata": {},
   "outputs": [
    {
     "data": {
      "text/html": [
       "<div>\n",
       "<style scoped>\n",
       "    .dataframe tbody tr th:only-of-type {\n",
       "        vertical-align: middle;\n",
       "    }\n",
       "\n",
       "    .dataframe tbody tr th {\n",
       "        vertical-align: top;\n",
       "    }\n",
       "\n",
       "    .dataframe thead th {\n",
       "        text-align: right;\n",
       "    }\n",
       "</style>\n",
       "<table border=\"1\" class=\"dataframe\">\n",
       "  <thead>\n",
       "    <tr style=\"text-align: right;\">\n",
       "      <th></th>\n",
       "      <th>Subject</th>\n",
       "      <th>Object</th>\n",
       "    </tr>\n",
       "    <tr>\n",
       "      <th>Predicate</th>\n",
       "      <th></th>\n",
       "      <th></th>\n",
       "    </tr>\n",
       "  </thead>\n",
       "  <tbody>\n",
       "    <tr>\n",
       "      <th>http://swrl.stanford.edu/ontologies/3.3/swrla.owl#isRuleEnabled</th>\n",
       "      <td>1</td>\n",
       "      <td>1</td>\n",
       "    </tr>\n",
       "    <tr>\n",
       "      <th>http://www.semanticweb.org/jalal/ontologies/2023/10/movie-ontology#actedIn</th>\n",
       "      <td>52279</td>\n",
       "      <td>52279</td>\n",
       "    </tr>\n",
       "    <tr>\n",
       "      <th>http://www.semanticweb.org/jalal/ontologies/2023/10/movie-ontology#budget</th>\n",
       "      <td>1354</td>\n",
       "      <td>1354</td>\n",
       "    </tr>\n",
       "    <tr>\n",
       "      <th>http://www.semanticweb.org/jalal/ontologies/2023/10/movie-ontology#cinematographyFor</th>\n",
       "      <td>1428</td>\n",
       "      <td>1428</td>\n",
       "    </tr>\n",
       "    <tr>\n",
       "      <th>http://www.semanticweb.org/jalal/ontologies/2023/10/movie-ontology#composedMusicFor</th>\n",
       "      <td>1318</td>\n",
       "      <td>1318</td>\n",
       "    </tr>\n",
       "    <tr>\n",
       "      <th>http://www.semanticweb.org/jalal/ontologies/2023/10/movie-ontology#directedBy</th>\n",
       "      <td>1445</td>\n",
       "      <td>1445</td>\n",
       "    </tr>\n",
       "    <tr>\n",
       "      <th>http://www.semanticweb.org/jalal/ontologies/2023/10/movie-ontology#directs</th>\n",
       "      <td>1445</td>\n",
       "      <td>1445</td>\n",
       "    </tr>\n",
       "    <tr>\n",
       "      <th>http://www.semanticweb.org/jalal/ontologies/2023/10/movie-ontology#filmedBy</th>\n",
       "      <td>1428</td>\n",
       "      <td>1428</td>\n",
       "    </tr>\n",
       "    <tr>\n",
       "      <th>http://www.semanticweb.org/jalal/ontologies/2023/10/movie-ontology#genreOf</th>\n",
       "      <td>3326</td>\n",
       "      <td>3326</td>\n",
       "    </tr>\n",
       "    <tr>\n",
       "      <th>http://www.semanticweb.org/jalal/ontologies/2023/10/movie-ontology#hasActor</th>\n",
       "      <td>52279</td>\n",
       "      <td>52279</td>\n",
       "    </tr>\n",
       "    <tr>\n",
       "      <th>http://www.semanticweb.org/jalal/ontologies/2023/10/movie-ontology#hasSoundtrackBy</th>\n",
       "      <td>1318</td>\n",
       "      <td>1318</td>\n",
       "    </tr>\n",
       "    <tr>\n",
       "      <th>http://www.semanticweb.org/jalal/ontologies/2023/10/movie-ontology#name</th>\n",
       "      <td>39573</td>\n",
       "      <td>39573</td>\n",
       "    </tr>\n",
       "    <tr>\n",
       "      <th>http://www.semanticweb.org/jalal/ontologies/2023/10/movie-ontology#originalLanguage</th>\n",
       "      <td>1354</td>\n",
       "      <td>1354</td>\n",
       "    </tr>\n",
       "    <tr>\n",
       "      <th>http://www.semanticweb.org/jalal/ontologies/2023/10/movie-ontology#overview</th>\n",
       "      <td>1351</td>\n",
       "      <td>1351</td>\n",
       "    </tr>\n",
       "    <tr>\n",
       "      <th>http://www.semanticweb.org/jalal/ontologies/2023/10/movie-ontology#releaseDate</th>\n",
       "      <td>1354</td>\n",
       "      <td>1354</td>\n",
       "    </tr>\n",
       "    <tr>\n",
       "      <th>http://www.semanticweb.org/jalal/ontologies/2023/10/movie-ontology#runtime</th>\n",
       "      <td>1354</td>\n",
       "      <td>1354</td>\n",
       "    </tr>\n",
       "    <tr>\n",
       "      <th>http://www.semanticweb.org/jalal/ontologies/2023/10/movie-ontology#title</th>\n",
       "      <td>1354</td>\n",
       "      <td>1354</td>\n",
       "    </tr>\n",
       "    <tr>\n",
       "      <th>http://www.semanticweb.org/jalal/ontologies/2023/10/movie-ontology#writtenBy</th>\n",
       "      <td>1789</td>\n",
       "      <td>1789</td>\n",
       "    </tr>\n",
       "    <tr>\n",
       "      <th>http://www.semanticweb.org/jalal/ontologies/2023/10/movie-ontology#wroteScriptFor</th>\n",
       "      <td>1789</td>\n",
       "      <td>1789</td>\n",
       "    </tr>\n",
       "    <tr>\n",
       "      <th>http://www.w3.org/1999/02/22-rdf-syntax-ns#first</th>\n",
       "      <td>6</td>\n",
       "      <td>6</td>\n",
       "    </tr>\n",
       "    <tr>\n",
       "      <th>http://www.w3.org/1999/02/22-rdf-syntax-ns#rest</th>\n",
       "      <td>6</td>\n",
       "      <td>6</td>\n",
       "    </tr>\n",
       "    <tr>\n",
       "      <th>http://www.w3.org/1999/02/22-rdf-syntax-ns#type</th>\n",
       "      <td>1451</td>\n",
       "      <td>1451</td>\n",
       "    </tr>\n",
       "    <tr>\n",
       "      <th>http://www.w3.org/2000/01/rdf-schema#comment</th>\n",
       "      <td>2</td>\n",
       "      <td>2</td>\n",
       "    </tr>\n",
       "    <tr>\n",
       "      <th>http://www.w3.org/2000/01/rdf-schema#domain</th>\n",
       "      <td>33</td>\n",
       "      <td>33</td>\n",
       "    </tr>\n",
       "    <tr>\n",
       "      <th>http://www.w3.org/2000/01/rdf-schema#range</th>\n",
       "      <td>38</td>\n",
       "      <td>38</td>\n",
       "    </tr>\n",
       "    <tr>\n",
       "      <th>http://www.w3.org/2000/01/rdf-schema#subClassOf</th>\n",
       "      <td>5</td>\n",
       "      <td>5</td>\n",
       "    </tr>\n",
       "    <tr>\n",
       "      <th>http://www.w3.org/2000/01/rdf-schema#subPropertyOf</th>\n",
       "      <td>41</td>\n",
       "      <td>41</td>\n",
       "    </tr>\n",
       "    <tr>\n",
       "      <th>http://www.w3.org/2002/07/owl#inverseOf</th>\n",
       "      <td>3</td>\n",
       "      <td>3</td>\n",
       "    </tr>\n",
       "    <tr>\n",
       "      <th>http://www.w3.org/2003/11/swrl#argument1</th>\n",
       "      <td>6</td>\n",
       "      <td>6</td>\n",
       "    </tr>\n",
       "    <tr>\n",
       "      <th>http://www.w3.org/2003/11/swrl#argument2</th>\n",
       "      <td>3</td>\n",
       "      <td>3</td>\n",
       "    </tr>\n",
       "    <tr>\n",
       "      <th>http://www.w3.org/2003/11/swrl#body</th>\n",
       "      <td>1</td>\n",
       "      <td>1</td>\n",
       "    </tr>\n",
       "    <tr>\n",
       "      <th>http://www.w3.org/2003/11/swrl#classPredicate</th>\n",
       "      <td>2</td>\n",
       "      <td>2</td>\n",
       "    </tr>\n",
       "    <tr>\n",
       "      <th>http://www.w3.org/2003/11/swrl#head</th>\n",
       "      <td>1</td>\n",
       "      <td>1</td>\n",
       "    </tr>\n",
       "    <tr>\n",
       "      <th>http://www.w3.org/2003/11/swrl#propertyPredicate</th>\n",
       "      <td>3</td>\n",
       "      <td>3</td>\n",
       "    </tr>\n",
       "  </tbody>\n",
       "</table>\n",
       "</div>"
      ],
      "text/plain": [
       "                                                    Subject  Object\n",
       "Predicate                                                          \n",
       "http://swrl.stanford.edu/ontologies/3.3/swrla.o...        1       1\n",
       "http://www.semanticweb.org/jalal/ontologies/202...    52279   52279\n",
       "http://www.semanticweb.org/jalal/ontologies/202...     1354    1354\n",
       "http://www.semanticweb.org/jalal/ontologies/202...     1428    1428\n",
       "http://www.semanticweb.org/jalal/ontologies/202...     1318    1318\n",
       "http://www.semanticweb.org/jalal/ontologies/202...     1445    1445\n",
       "http://www.semanticweb.org/jalal/ontologies/202...     1445    1445\n",
       "http://www.semanticweb.org/jalal/ontologies/202...     1428    1428\n",
       "http://www.semanticweb.org/jalal/ontologies/202...     3326    3326\n",
       "http://www.semanticweb.org/jalal/ontologies/202...    52279   52279\n",
       "http://www.semanticweb.org/jalal/ontologies/202...     1318    1318\n",
       "http://www.semanticweb.org/jalal/ontologies/202...    39573   39573\n",
       "http://www.semanticweb.org/jalal/ontologies/202...     1354    1354\n",
       "http://www.semanticweb.org/jalal/ontologies/202...     1351    1351\n",
       "http://www.semanticweb.org/jalal/ontologies/202...     1354    1354\n",
       "http://www.semanticweb.org/jalal/ontologies/202...     1354    1354\n",
       "http://www.semanticweb.org/jalal/ontologies/202...     1354    1354\n",
       "http://www.semanticweb.org/jalal/ontologies/202...     1789    1789\n",
       "http://www.semanticweb.org/jalal/ontologies/202...     1789    1789\n",
       "http://www.w3.org/1999/02/22-rdf-syntax-ns#first          6       6\n",
       "http://www.w3.org/1999/02/22-rdf-syntax-ns#rest           6       6\n",
       "http://www.w3.org/1999/02/22-rdf-syntax-ns#type        1451    1451\n",
       "http://www.w3.org/2000/01/rdf-schema#comment              2       2\n",
       "http://www.w3.org/2000/01/rdf-schema#domain              33      33\n",
       "http://www.w3.org/2000/01/rdf-schema#range               38      38\n",
       "http://www.w3.org/2000/01/rdf-schema#subClassOf           5       5\n",
       "http://www.w3.org/2000/01/rdf-schema#subPropertyOf       41      41\n",
       "http://www.w3.org/2002/07/owl#inverseOf                   3       3\n",
       "http://www.w3.org/2003/11/swrl#argument1                  6       6\n",
       "http://www.w3.org/2003/11/swrl#argument2                  3       3\n",
       "http://www.w3.org/2003/11/swrl#body                       1       1\n",
       "http://www.w3.org/2003/11/swrl#classPredicate             2       2\n",
       "http://www.w3.org/2003/11/swrl#head                       1       1\n",
       "http://www.w3.org/2003/11/swrl#propertyPredicate          3       3"
      ]
     },
     "execution_count": 198,
     "metadata": {},
     "output_type": "execute_result"
    }
   ],
   "source": [
    "filtered_df4.groupby(filtered_df4.Predicate).count()"
   ]
  },
  {
   "cell_type": "code",
   "execution_count": null,
   "metadata": {},
   "outputs": [],
   "source": [
    "!pip install seaborn"
   ]
  },
  {
   "cell_type": "code",
   "execution_count": 136,
   "metadata": {},
   "outputs": [
    {
     "name": "stdout",
     "output_type": "stream",
     "text": [
      "Collecting adjustText==0.8\n",
      "  Downloading adjustText-0.8-py3-none-any.whl (9.1 kB)\n",
      "Requirement already satisfied: numpy in /Users/jalal/anaconda3/envs/KG/lib/python3.8/site-packages (from adjustText==0.8) (1.24.3)\n",
      "Requirement already satisfied: matplotlib in /Users/jalal/anaconda3/envs/KG/lib/python3.8/site-packages (from adjustText==0.8) (3.7.4)\n",
      "Requirement already satisfied: contourpy>=1.0.1 in /Users/jalal/anaconda3/envs/KG/lib/python3.8/site-packages (from matplotlib->adjustText==0.8) (1.1.1)\n",
      "Requirement already satisfied: cycler>=0.10 in /Users/jalal/anaconda3/envs/KG/lib/python3.8/site-packages (from matplotlib->adjustText==0.8) (0.12.1)\n",
      "Requirement already satisfied: fonttools>=4.22.0 in /Users/jalal/anaconda3/envs/KG/lib/python3.8/site-packages (from matplotlib->adjustText==0.8) (4.46.0)\n",
      "Requirement already satisfied: kiwisolver>=1.0.1 in /Users/jalal/anaconda3/envs/KG/lib/python3.8/site-packages (from matplotlib->adjustText==0.8) (1.4.5)\n",
      "Requirement already satisfied: packaging>=20.0 in /Users/jalal/anaconda3/envs/KG/lib/python3.8/site-packages (from matplotlib->adjustText==0.8) (23.2)\n",
      "Requirement already satisfied: pillow>=6.2.0 in /Users/jalal/anaconda3/envs/KG/lib/python3.8/site-packages (from matplotlib->adjustText==0.8) (10.1.0)\n",
      "Requirement already satisfied: pyparsing>=2.3.1 in /Users/jalal/anaconda3/envs/KG/lib/python3.8/site-packages (from matplotlib->adjustText==0.8) (3.1.1)\n",
      "Requirement already satisfied: python-dateutil>=2.7 in /Users/jalal/anaconda3/envs/KG/lib/python3.8/site-packages (from matplotlib->adjustText==0.8) (2.8.2)\n",
      "Requirement already satisfied: importlib-resources>=3.2.0 in /Users/jalal/anaconda3/envs/KG/lib/python3.8/site-packages (from matplotlib->adjustText==0.8) (6.1.1)\n",
      "Requirement already satisfied: zipp>=3.1.0 in /Users/jalal/anaconda3/envs/KG/lib/python3.8/site-packages (from importlib-resources>=3.2.0->matplotlib->adjustText==0.8) (3.17.0)\n",
      "Requirement already satisfied: six>=1.5 in /Users/jalal/anaconda3/envs/KG/lib/python3.8/site-packages (from python-dateutil>=2.7->matplotlib->adjustText==0.8) (1.16.0)\n",
      "Installing collected packages: adjustText\n",
      "Successfully installed adjustText-0.8\n"
     ]
    }
   ],
   "source": [
    "!pip install adjustText==0.8"
   ]
  },
  {
   "cell_type": "code",
   "execution_count": 137,
   "metadata": {},
   "outputs": [],
   "source": [
    "from sklearn.decomposition import PCA\n",
    "import matplotlib.pyplot as plt\n",
    "import seaborn as sns\n",
    "from adjustText import adjust_text\n",
    "%matplotlib inline"
   ]
  },
  {
   "cell_type": "code",
   "execution_count": 199,
   "metadata": {},
   "outputs": [],
   "source": [
    "pattern = r'(http://www.semanticweb.org/jalal/ontologies/2023/10/movie-ontology#Movie_\\d+)'\n",
    "\n",
    "# Extract links matching the pattern from the DataFrame\n",
    "matches = filtered_df4['Subject'].str.extract(pattern, expand=False)\n",
    "import math\n",
    "# Create a set of the matched links\n",
    "link_set = set(matches)\n",
    "filtered_set = {x for x in link_set if not (isinstance(x, float) and math.isnan(x))}"
   ]
  },
  {
   "cell_type": "code",
   "execution_count": null,
   "metadata": {},
   "outputs": [],
   "source": [
    "filtered_set"
   ]
  },
  {
   "cell_type": "code",
   "execution_count": 209,
   "metadata": {},
   "outputs": [],
   "source": [
    "embeddings_array = np.array(list(filtered_set))"
   ]
  },
  {
   "cell_type": "code",
   "execution_count": 210,
   "metadata": {},
   "outputs": [],
   "source": [
    "movie_embeddings = dict(zip(embeddings_array, model.get_embeddings(filtered_set)))"
   ]
  },
  {
   "cell_type": "code",
   "execution_count": 211,
   "metadata": {},
   "outputs": [],
   "source": [
    "embeddings_2d = PCA(n_components=2).fit_transform(np.array([i for i in movie_embeddings.values()]))"
   ]
  },
  {
   "cell_type": "code",
   "execution_count": 213,
   "metadata": {},
   "outputs": [],
   "source": [
    "from ampligraph.discovery import find_clusters\n",
    "from sklearn.cluster import KMeans\n",
    "\n",
    "clustering_algorithm = KMeans(n_clusters=6, n_init=50, max_iter=500, random_state=0)\n",
    "clusters = find_clusters(embeddings_array, model, clustering_algorithm, mode='e')"
   ]
  },
  {
   "cell_type": "code",
   "execution_count": 214,
   "metadata": {},
   "outputs": [
    {
     "data": {
      "text/plain": [
       "array([4, 0, 3, ..., 0, 3, 5], dtype=int32)"
      ]
     },
     "execution_count": 214,
     "metadata": {},
     "output_type": "execute_result"
    }
   ],
   "source": [
    "clusters"
   ]
  },
  {
   "cell_type": "code",
   "execution_count": 220,
   "metadata": {},
   "outputs": [
    {
     "data": {
      "image/png": "[encoded data removed]",
      "text/plain": [
       "<Figure size 1000x800 with 1 Axes>"
      ]
     },
     "metadata": {},
     "output_type": "display_data"
    }
   ],
   "source": [
    "plt.figure(figsize=(10, 8))\n",
    "scatter = plt.scatter(embeddings_2d[:, 0], embeddings_2d[:, 1], c=clusters, cmap='viridis')\n",
    "\n",
    "# Optional: Add a legend\n",
    "plt.legend(*scatter.legend_elements(), title=\"Clusters\")\n",
    "\n",
    "plt.xlabel('PCA Component 1')\n",
    "plt.ylabel('PCA Component 2')\n",
    "plt.title('Node Clusters')\n",
    "plt.show()"
   ]
  },
  {
   "cell_type": "code",
   "execution_count": 222,
   "metadata": {},
   "outputs": [
    {
     "data": {
      "image/png": "[encoded data removed]",
      "text/plain": [
       "<Figure size 640x480 with 1 Axes>"
      ]
     },
     "metadata": {},
     "output_type": "display_data"
    }
   ],
   "source": [
    "for i, movie in enumerate(movie_embeddings.keys()):\n",
    "    plt.annotate(i, (embeddings_2d[i, 0], embeddings_2d[i, 1]))\n",
    "\n",
    "plt.xlabel('PCA Component 1')\n",
    "plt.ylabel('PCA Component 2')\n",
    "plt.title('2D Visualization of Movie Embeddings')\n",
    "plt.show()"
   ]
  },
  {
   "cell_type": "code",
   "execution_count": 251,
   "metadata": {},
   "outputs": [],
   "source": [
    "dfe = pd.DataFrame({'Movie ID': embeddings_array, 'Cluster ID': clusters})"
   ]
  },
  {
   "cell_type": "code",
   "execution_count": 252,
   "metadata": {},
   "outputs": [
    {
     "data": {
      "text/html": [
       "<div>\n",
       "<style scoped>\n",
       "    .dataframe tbody tr th:only-of-type {\n",
       "        vertical-align: middle;\n",
       "    }\n",
       "\n",
       "    .dataframe tbody tr th {\n",
       "        vertical-align: top;\n",
       "    }\n",
       "\n",
       "    .dataframe thead th {\n",
       "        text-align: right;\n",
       "    }\n",
       "</style>\n",
       "<table border=\"1\" class=\"dataframe\">\n",
       "  <thead>\n",
       "    <tr style=\"text-align: right;\">\n",
       "      <th></th>\n",
       "      <th>Movie ID</th>\n",
       "      <th>Cluster ID</th>\n",
       "    </tr>\n",
       "  </thead>\n",
       "  <tbody>\n",
       "    <tr>\n",
       "      <th>0</th>\n",
       "      <td>http://www.semanticweb.org/jalal/ontologies/20...</td>\n",
       "      <td>4</td>\n",
       "    </tr>\n",
       "    <tr>\n",
       "      <th>1</th>\n",
       "      <td>http://www.semanticweb.org/jalal/ontologies/20...</td>\n",
       "      <td>0</td>\n",
       "    </tr>\n",
       "    <tr>\n",
       "      <th>2</th>\n",
       "      <td>http://www.semanticweb.org/jalal/ontologies/20...</td>\n",
       "      <td>3</td>\n",
       "    </tr>\n",
       "    <tr>\n",
       "      <th>3</th>\n",
       "      <td>http://www.semanticweb.org/jalal/ontologies/20...</td>\n",
       "      <td>0</td>\n",
       "    </tr>\n",
       "    <tr>\n",
       "      <th>4</th>\n",
       "      <td>http://www.semanticweb.org/jalal/ontologies/20...</td>\n",
       "      <td>0</td>\n",
       "    </tr>\n",
       "    <tr>\n",
       "      <th>...</th>\n",
       "      <td>...</td>\n",
       "      <td>...</td>\n",
       "    </tr>\n",
       "    <tr>\n",
       "      <th>1349</th>\n",
       "      <td>http://www.semanticweb.org/jalal/ontologies/20...</td>\n",
       "      <td>2</td>\n",
       "    </tr>\n",
       "    <tr>\n",
       "      <th>1350</th>\n",
       "      <td>http://www.semanticweb.org/jalal/ontologies/20...</td>\n",
       "      <td>1</td>\n",
       "    </tr>\n",
       "    <tr>\n",
       "      <th>1351</th>\n",
       "      <td>http://www.semanticweb.org/jalal/ontologies/20...</td>\n",
       "      <td>0</td>\n",
       "    </tr>\n",
       "    <tr>\n",
       "      <th>1352</th>\n",
       "      <td>http://www.semanticweb.org/jalal/ontologies/20...</td>\n",
       "      <td>3</td>\n",
       "    </tr>\n",
       "    <tr>\n",
       "      <th>1353</th>\n",
       "      <td>http://www.semanticweb.org/jalal/ontologies/20...</td>\n",
       "      <td>5</td>\n",
       "    </tr>\n",
       "  </tbody>\n",
       "</table>\n",
       "<p>1354 rows × 2 columns</p>\n",
       "</div>"
      ],
      "text/plain": [
       "                                               Movie ID  Cluster ID\n",
       "0     http://www.semanticweb.org/jalal/ontologies/20...           4\n",
       "1     http://www.semanticweb.org/jalal/ontologies/20...           0\n",
       "2     http://www.semanticweb.org/jalal/ontologies/20...           3\n",
       "3     http://www.semanticweb.org/jalal/ontologies/20...           0\n",
       "4     http://www.semanticweb.org/jalal/ontologies/20...           0\n",
       "...                                                 ...         ...\n",
       "1349  http://www.semanticweb.org/jalal/ontologies/20...           2\n",
       "1350  http://www.semanticweb.org/jalal/ontologies/20...           1\n",
       "1351  http://www.semanticweb.org/jalal/ontologies/20...           0\n",
       "1352  http://www.semanticweb.org/jalal/ontologies/20...           3\n",
       "1353  http://www.semanticweb.org/jalal/ontologies/20...           5\n",
       "\n",
       "[1354 rows x 2 columns]"
      ]
     },
     "execution_count": 252,
     "metadata": {},
     "output_type": "execute_result"
    }
   ],
   "source": [
    "dfe"
   ]
  },
  {
   "cell_type": "code",
   "execution_count": 253,
   "metadata": {},
   "outputs": [
    {
     "name": "stdout",
     "output_type": "stream",
     "text": [
      "                                               Movie ID  \\\n",
      "0     http://www.semanticweb.org/jalal/ontologies/20...   \n",
      "1     http://www.semanticweb.org/jalal/ontologies/20...   \n",
      "2     http://www.semanticweb.org/jalal/ontologies/20...   \n",
      "3     http://www.semanticweb.org/jalal/ontologies/20...   \n",
      "4     http://www.semanticweb.org/jalal/ontologies/20...   \n",
      "...                                                 ...   \n",
      "1349  http://www.semanticweb.org/jalal/ontologies/20...   \n",
      "1350  http://www.semanticweb.org/jalal/ontologies/20...   \n",
      "1351  http://www.semanticweb.org/jalal/ontologies/20...   \n",
      "1352  http://www.semanticweb.org/jalal/ontologies/20...   \n",
      "1353  http://www.semanticweb.org/jalal/ontologies/20...   \n",
      "\n",
      "                    Movie Title  \n",
      "0                  Office Space  \n",
      "1            As It Is in Heaven  \n",
      "2                   Apur Sansar  \n",
      "3                     Malcolm X  \n",
      "4     The Man Who Fell to Earth  \n",
      "...                         ...  \n",
      "1349                Rear Window  \n",
      "1350                     Brazil  \n",
      "1351              Belle de Jour  \n",
      "1352               Ghostbusters  \n",
      "1353         The King of Comedy  \n",
      "\n",
      "[1354 rows x 2 columns]\n"
     ]
    }
   ],
   "source": [
    "def extract_movie_id(uri):\n",
    "    return uri.split('#')[-1]\n",
    "\n",
    "# Create an empty list to store movie titles\n",
    "movie_titles = []\n",
    "\n",
    "# Iterate over each row in the DataFrame\n",
    "for index, row in dfe.iterrows():\n",
    "    movie_uri = row['Movie ID']\n",
    "    movie_id = movie_uri\n",
    "    \n",
    "    # Assuming you have a triple pattern to query for movie titles (adjust based on your ontology)\n",
    "    query = f\"\"\"\n",
    "    SELECT ?title\n",
    "    WHERE {{\n",
    "        <{movie_uri}> <http://www.semanticweb.org/jalal/ontologies/2023/10/movie-ontology#title> ?title .\n",
    "    }}\n",
    "    \"\"\"\n",
    "    \n",
    "    # Query the graph for the movie title\n",
    "    results = gt.query(query)\n",
    "    \n",
    "    # Extract and store the movie title (assuming there is only one title per movie)\n",
    "    for result in results:\n",
    "        movie_title = result['title'].toPython()\n",
    "        movie_titles.append({'Movie ID': movie_id, 'Movie Title': movie_title})\n",
    "\n",
    "# Create a new DataFrame with movie titles\n",
    "df_titles = pd.DataFrame(movie_titles)\n",
    "\n",
    "# Display the DataFrame with movie titles\n",
    "print(df_titles.head)"
   ]
  },
  {
   "cell_type": "code",
   "execution_count": 254,
   "metadata": {},
   "outputs": [
    {
     "data": {
      "text/html": [
       "<div>\n",
       "<style scoped>\n",
       "    .dataframe tbody tr th:only-of-type {\n",
       "        vertical-align: middle;\n",
       "    }\n",
       "\n",
       "    .dataframe tbody tr th {\n",
       "        vertical-align: top;\n",
       "    }\n",
       "\n",
       "    .dataframe thead th {\n",
       "        text-align: right;\n",
       "    }\n",
       "</style>\n",
       "<table border=\"1\" class=\"dataframe\">\n",
       "  <thead>\n",
       "    <tr style=\"text-align: right;\">\n",
       "      <th></th>\n",
       "      <th>Movie ID</th>\n",
       "      <th>Movie Title</th>\n",
       "    </tr>\n",
       "  </thead>\n",
       "  <tbody>\n",
       "    <tr>\n",
       "      <th>0</th>\n",
       "      <td>http://www.semanticweb.org/jalal/ontologies/20...</td>\n",
       "      <td>Office Space</td>\n",
       "    </tr>\n",
       "    <tr>\n",
       "      <th>1</th>\n",
       "      <td>http://www.semanticweb.org/jalal/ontologies/20...</td>\n",
       "      <td>As It Is in Heaven</td>\n",
       "    </tr>\n",
       "    <tr>\n",
       "      <th>2</th>\n",
       "      <td>http://www.semanticweb.org/jalal/ontologies/20...</td>\n",
       "      <td>Apur Sansar</td>\n",
       "    </tr>\n",
       "    <tr>\n",
       "      <th>3</th>\n",
       "      <td>http://www.semanticweb.org/jalal/ontologies/20...</td>\n",
       "      <td>Malcolm X</td>\n",
       "    </tr>\n",
       "    <tr>\n",
       "      <th>4</th>\n",
       "      <td>http://www.semanticweb.org/jalal/ontologies/20...</td>\n",
       "      <td>The Man Who Fell to Earth</td>\n",
       "    </tr>\n",
       "    <tr>\n",
       "      <th>...</th>\n",
       "      <td>...</td>\n",
       "      <td>...</td>\n",
       "    </tr>\n",
       "    <tr>\n",
       "      <th>1349</th>\n",
       "      <td>http://www.semanticweb.org/jalal/ontologies/20...</td>\n",
       "      <td>Rear Window</td>\n",
       "    </tr>\n",
       "    <tr>\n",
       "      <th>1350</th>\n",
       "      <td>http://www.semanticweb.org/jalal/ontologies/20...</td>\n",
       "      <td>Brazil</td>\n",
       "    </tr>\n",
       "    <tr>\n",
       "      <th>1351</th>\n",
       "      <td>http://www.semanticweb.org/jalal/ontologies/20...</td>\n",
       "      <td>Belle de Jour</td>\n",
       "    </tr>\n",
       "    <tr>\n",
       "      <th>1352</th>\n",
       "      <td>http://www.semanticweb.org/jalal/ontologies/20...</td>\n",
       "      <td>Ghostbusters</td>\n",
       "    </tr>\n",
       "    <tr>\n",
       "      <th>1353</th>\n",
       "      <td>http://www.semanticweb.org/jalal/ontologies/20...</td>\n",
       "      <td>The King of Comedy</td>\n",
       "    </tr>\n",
       "  </tbody>\n",
       "</table>\n",
       "<p>1354 rows × 2 columns</p>\n",
       "</div>"
      ],
      "text/plain": [
       "                                               Movie ID  \\\n",
       "0     http://www.semanticweb.org/jalal/ontologies/20...   \n",
       "1     http://www.semanticweb.org/jalal/ontologies/20...   \n",
       "2     http://www.semanticweb.org/jalal/ontologies/20...   \n",
       "3     http://www.semanticweb.org/jalal/ontologies/20...   \n",
       "4     http://www.semanticweb.org/jalal/ontologies/20...   \n",
       "...                                                 ...   \n",
       "1349  http://www.semanticweb.org/jalal/ontologies/20...   \n",
       "1350  http://www.semanticweb.org/jalal/ontologies/20...   \n",
       "1351  http://www.semanticweb.org/jalal/ontologies/20...   \n",
       "1352  http://www.semanticweb.org/jalal/ontologies/20...   \n",
       "1353  http://www.semanticweb.org/jalal/ontologies/20...   \n",
       "\n",
       "                    Movie Title  \n",
       "0                  Office Space  \n",
       "1            As It Is in Heaven  \n",
       "2                   Apur Sansar  \n",
       "3                     Malcolm X  \n",
       "4     The Man Who Fell to Earth  \n",
       "...                         ...  \n",
       "1349                Rear Window  \n",
       "1350                     Brazil  \n",
       "1351              Belle de Jour  \n",
       "1352               Ghostbusters  \n",
       "1353         The King of Comedy  \n",
       "\n",
       "[1354 rows x 2 columns]"
      ]
     },
     "execution_count": 254,
     "metadata": {},
     "output_type": "execute_result"
    }
   ],
   "source": [
    "df_titles"
   ]
  },
  {
   "cell_type": "code",
   "execution_count": 255,
   "metadata": {},
   "outputs": [],
   "source": [
    "merged_df = pd.merge(dfe, df_titles, on='Movie ID', how='inner')"
   ]
  },
  {
   "cell_type": "code",
   "execution_count": 256,
   "metadata": {},
   "outputs": [
    {
     "data": {
      "text/html": [
       "<div>\n",
       "<style scoped>\n",
       "    .dataframe tbody tr th:only-of-type {\n",
       "        vertical-align: middle;\n",
       "    }\n",
       "\n",
       "    .dataframe tbody tr th {\n",
       "        vertical-align: top;\n",
       "    }\n",
       "\n",
       "    .dataframe thead th {\n",
       "        text-align: right;\n",
       "    }\n",
       "</style>\n",
       "<table border=\"1\" class=\"dataframe\">\n",
       "  <thead>\n",
       "    <tr style=\"text-align: right;\">\n",
       "      <th></th>\n",
       "      <th>Movie ID</th>\n",
       "      <th>Cluster ID</th>\n",
       "      <th>Movie Title</th>\n",
       "    </tr>\n",
       "  </thead>\n",
       "  <tbody>\n",
       "    <tr>\n",
       "      <th>0</th>\n",
       "      <td>http://www.semanticweb.org/jalal/ontologies/20...</td>\n",
       "      <td>4</td>\n",
       "      <td>Office Space</td>\n",
       "    </tr>\n",
       "    <tr>\n",
       "      <th>1</th>\n",
       "      <td>http://www.semanticweb.org/jalal/ontologies/20...</td>\n",
       "      <td>0</td>\n",
       "      <td>As It Is in Heaven</td>\n",
       "    </tr>\n",
       "    <tr>\n",
       "      <th>2</th>\n",
       "      <td>http://www.semanticweb.org/jalal/ontologies/20...</td>\n",
       "      <td>3</td>\n",
       "      <td>Apur Sansar</td>\n",
       "    </tr>\n",
       "    <tr>\n",
       "      <th>3</th>\n",
       "      <td>http://www.semanticweb.org/jalal/ontologies/20...</td>\n",
       "      <td>0</td>\n",
       "      <td>Malcolm X</td>\n",
       "    </tr>\n",
       "    <tr>\n",
       "      <th>4</th>\n",
       "      <td>http://www.semanticweb.org/jalal/ontologies/20...</td>\n",
       "      <td>0</td>\n",
       "      <td>The Man Who Fell to Earth</td>\n",
       "    </tr>\n",
       "    <tr>\n",
       "      <th>...</th>\n",
       "      <td>...</td>\n",
       "      <td>...</td>\n",
       "      <td>...</td>\n",
       "    </tr>\n",
       "    <tr>\n",
       "      <th>1349</th>\n",
       "      <td>http://www.semanticweb.org/jalal/ontologies/20...</td>\n",
       "      <td>2</td>\n",
       "      <td>Rear Window</td>\n",
       "    </tr>\n",
       "    <tr>\n",
       "      <th>1350</th>\n",
       "      <td>http://www.semanticweb.org/jalal/ontologies/20...</td>\n",
       "      <td>1</td>\n",
       "      <td>Brazil</td>\n",
       "    </tr>\n",
       "    <tr>\n",
       "      <th>1351</th>\n",
       "      <td>http://www.semanticweb.org/jalal/ontologies/20...</td>\n",
       "      <td>0</td>\n",
       "      <td>Belle de Jour</td>\n",
       "    </tr>\n",
       "    <tr>\n",
       "      <th>1352</th>\n",
       "      <td>http://www.semanticweb.org/jalal/ontologies/20...</td>\n",
       "      <td>3</td>\n",
       "      <td>Ghostbusters</td>\n",
       "    </tr>\n",
       "    <tr>\n",
       "      <th>1353</th>\n",
       "      <td>http://www.semanticweb.org/jalal/ontologies/20...</td>\n",
       "      <td>5</td>\n",
       "      <td>The King of Comedy</td>\n",
       "    </tr>\n",
       "  </tbody>\n",
       "</table>\n",
       "<p>1354 rows × 3 columns</p>\n",
       "</div>"
      ],
      "text/plain": [
       "                                               Movie ID  Cluster ID  \\\n",
       "0     http://www.semanticweb.org/jalal/ontologies/20...           4   \n",
       "1     http://www.semanticweb.org/jalal/ontologies/20...           0   \n",
       "2     http://www.semanticweb.org/jalal/ontologies/20...           3   \n",
       "3     http://www.semanticweb.org/jalal/ontologies/20...           0   \n",
       "4     http://www.semanticweb.org/jalal/ontologies/20...           0   \n",
       "...                                                 ...         ...   \n",
       "1349  http://www.semanticweb.org/jalal/ontologies/20...           2   \n",
       "1350  http://www.semanticweb.org/jalal/ontologies/20...           1   \n",
       "1351  http://www.semanticweb.org/jalal/ontologies/20...           0   \n",
       "1352  http://www.semanticweb.org/jalal/ontologies/20...           3   \n",
       "1353  http://www.semanticweb.org/jalal/ontologies/20...           5   \n",
       "\n",
       "                    Movie Title  \n",
       "0                  Office Space  \n",
       "1            As It Is in Heaven  \n",
       "2                   Apur Sansar  \n",
       "3                     Malcolm X  \n",
       "4     The Man Who Fell to Earth  \n",
       "...                         ...  \n",
       "1349                Rear Window  \n",
       "1350                     Brazil  \n",
       "1351              Belle de Jour  \n",
       "1352               Ghostbusters  \n",
       "1353         The King of Comedy  \n",
       "\n",
       "[1354 rows x 3 columns]"
      ]
     },
     "execution_count": 256,
     "metadata": {},
     "output_type": "execute_result"
    }
   ],
   "source": [
    "merged_df"
   ]
  },
  {
   "cell_type": "code",
   "execution_count": 307,
   "metadata": {},
   "outputs": [],
   "source": [
    "sorted_df = merged_df.sort_values(by='Cluster ID')\n",
    "\n",
    "# Display the sorted DataFrame\n",
    "sorted_df.to_csv(\"out.csv\", index=False)"
   ]
  },
  {
   "cell_type": "code",
   "execution_count": 287,
   "metadata": {},
   "outputs": [],
   "source": [
    "dfs = pd.DataFrame(X_train,columns = ['subject','predicate','object'])\n",
    "dfv = pd.DataFrame(X_valid,columns = ['subject','predicate','object'])\n",
    "matchSubject = \"http://www.semanticweb.org/jalal/ontologies/2023/10/movie-ontology#budget\"\n",
    "budget_df_train =dfs[dfs.predicate==matchSubject]\n",
    "budget_df_val =dfv[dfv.predicate==matchSubject]"
   ]
  },
  {
   "cell_type": "code",
   "execution_count": 288,
   "metadata": {},
   "outputs": [
    {
     "data": {
      "text/html": [
       "<div>\n",
       "<style scoped>\n",
       "    .dataframe tbody tr th:only-of-type {\n",
       "        vertical-align: middle;\n",
       "    }\n",
       "\n",
       "    .dataframe tbody tr th {\n",
       "        vertical-align: top;\n",
       "    }\n",
       "\n",
       "    .dataframe thead th {\n",
       "        text-align: right;\n",
       "    }\n",
       "</style>\n",
       "<table border=\"1\" class=\"dataframe\">\n",
       "  <thead>\n",
       "    <tr style=\"text-align: right;\">\n",
       "      <th></th>\n",
       "      <th>subject</th>\n",
       "      <th>predicate</th>\n",
       "      <th>object</th>\n",
       "    </tr>\n",
       "  </thead>\n",
       "  <tbody>\n",
       "    <tr>\n",
       "      <th>287</th>\n",
       "      <td>http://www.semanticweb.org/jalal/ontologies/20...</td>\n",
       "      <td>http://www.semanticweb.org/jalal/ontologies/20...</td>\n",
       "      <td>12899867</td>\n",
       "    </tr>\n",
       "    <tr>\n",
       "      <th>348</th>\n",
       "      <td>http://www.semanticweb.org/jalal/ontologies/20...</td>\n",
       "      <td>http://www.semanticweb.org/jalal/ontologies/20...</td>\n",
       "      <td>6400000</td>\n",
       "    </tr>\n",
       "    <tr>\n",
       "      <th>369</th>\n",
       "      <td>http://www.semanticweb.org/jalal/ontologies/20...</td>\n",
       "      <td>http://www.semanticweb.org/jalal/ontologies/20...</td>\n",
       "      <td>2883848</td>\n",
       "    </tr>\n",
       "    <tr>\n",
       "      <th>454</th>\n",
       "      <td>http://www.semanticweb.org/jalal/ontologies/20...</td>\n",
       "      <td>http://www.semanticweb.org/jalal/ontologies/20...</td>\n",
       "      <td>0</td>\n",
       "    </tr>\n",
       "    <tr>\n",
       "      <th>609</th>\n",
       "      <td>http://www.semanticweb.org/jalal/ontologies/20...</td>\n",
       "      <td>http://www.semanticweb.org/jalal/ontologies/20...</td>\n",
       "      <td>0</td>\n",
       "    </tr>\n",
       "    <tr>\n",
       "      <th>...</th>\n",
       "      <td>...</td>\n",
       "      <td>...</td>\n",
       "      <td>...</td>\n",
       "    </tr>\n",
       "    <tr>\n",
       "      <th>134754</th>\n",
       "      <td>http://www.semanticweb.org/jalal/ontologies/20...</td>\n",
       "      <td>http://www.semanticweb.org/jalal/ontologies/20...</td>\n",
       "      <td>34000000</td>\n",
       "    </tr>\n",
       "    <tr>\n",
       "      <th>134833</th>\n",
       "      <td>http://www.semanticweb.org/jalal/ontologies/20...</td>\n",
       "      <td>http://www.semanticweb.org/jalal/ontologies/20...</td>\n",
       "      <td>70000000</td>\n",
       "    </tr>\n",
       "    <tr>\n",
       "      <th>135155</th>\n",
       "      <td>http://www.semanticweb.org/jalal/ontologies/20...</td>\n",
       "      <td>http://www.semanticweb.org/jalal/ontologies/20...</td>\n",
       "      <td>60000000</td>\n",
       "    </tr>\n",
       "    <tr>\n",
       "      <th>135214</th>\n",
       "      <td>http://www.semanticweb.org/jalal/ontologies/20...</td>\n",
       "      <td>http://www.semanticweb.org/jalal/ontologies/20...</td>\n",
       "      <td>180000000</td>\n",
       "    </tr>\n",
       "    <tr>\n",
       "      <th>135259</th>\n",
       "      <td>http://www.semanticweb.org/jalal/ontologies/20...</td>\n",
       "      <td>http://www.semanticweb.org/jalal/ontologies/20...</td>\n",
       "      <td>923000</td>\n",
       "    </tr>\n",
       "  </tbody>\n",
       "</table>\n",
       "<p>1053 rows × 3 columns</p>\n",
       "</div>"
      ],
      "text/plain": [
       "                                                  subject  \\\n",
       "287     http://www.semanticweb.org/jalal/ontologies/20...   \n",
       "348     http://www.semanticweb.org/jalal/ontologies/20...   \n",
       "369     http://www.semanticweb.org/jalal/ontologies/20...   \n",
       "454     http://www.semanticweb.org/jalal/ontologies/20...   \n",
       "609     http://www.semanticweb.org/jalal/ontologies/20...   \n",
       "...                                                   ...   \n",
       "134754  http://www.semanticweb.org/jalal/ontologies/20...   \n",
       "134833  http://www.semanticweb.org/jalal/ontologies/20...   \n",
       "135155  http://www.semanticweb.org/jalal/ontologies/20...   \n",
       "135214  http://www.semanticweb.org/jalal/ontologies/20...   \n",
       "135259  http://www.semanticweb.org/jalal/ontologies/20...   \n",
       "\n",
       "                                                predicate     object  \n",
       "287     http://www.semanticweb.org/jalal/ontologies/20...   12899867  \n",
       "348     http://www.semanticweb.org/jalal/ontologies/20...    6400000  \n",
       "369     http://www.semanticweb.org/jalal/ontologies/20...    2883848  \n",
       "454     http://www.semanticweb.org/jalal/ontologies/20...          0  \n",
       "609     http://www.semanticweb.org/jalal/ontologies/20...          0  \n",
       "...                                                   ...        ...  \n",
       "134754  http://www.semanticweb.org/jalal/ontologies/20...   34000000  \n",
       "134833  http://www.semanticweb.org/jalal/ontologies/20...   70000000  \n",
       "135155  http://www.semanticweb.org/jalal/ontologies/20...   60000000  \n",
       "135214  http://www.semanticweb.org/jalal/ontologies/20...  180000000  \n",
       "135259  http://www.semanticweb.org/jalal/ontologies/20...     923000  \n",
       "\n",
       "[1053 rows x 3 columns]"
      ]
     },
     "execution_count": 288,
     "metadata": {},
     "output_type": "execute_result"
    }
   ],
   "source": [
    "budget_df_train"
   ]
  },
  {
   "cell_type": "code",
   "execution_count": 290,
   "metadata": {},
   "outputs": [
    {
     "data": {
      "text/html": [
       "<div>\n",
       "<style scoped>\n",
       "    .dataframe tbody tr th:only-of-type {\n",
       "        vertical-align: middle;\n",
       "    }\n",
       "\n",
       "    .dataframe tbody tr th {\n",
       "        vertical-align: top;\n",
       "    }\n",
       "\n",
       "    .dataframe thead th {\n",
       "        text-align: right;\n",
       "    }\n",
       "</style>\n",
       "<table border=\"1\" class=\"dataframe\">\n",
       "  <thead>\n",
       "    <tr style=\"text-align: right;\">\n",
       "      <th></th>\n",
       "      <th>subject</th>\n",
       "      <th>predicate</th>\n",
       "      <th>object</th>\n",
       "    </tr>\n",
       "  </thead>\n",
       "  <tbody>\n",
       "    <tr>\n",
       "      <th>195</th>\n",
       "      <td>http://www.semanticweb.org/jalal/ontologies/20...</td>\n",
       "      <td>http://www.semanticweb.org/jalal/ontologies/20...</td>\n",
       "      <td>31000000</td>\n",
       "    </tr>\n",
       "    <tr>\n",
       "      <th>273</th>\n",
       "      <td>http://www.semanticweb.org/jalal/ontologies/20...</td>\n",
       "      <td>http://www.semanticweb.org/jalal/ontologies/20...</td>\n",
       "      <td>36000000</td>\n",
       "    </tr>\n",
       "    <tr>\n",
       "      <th>427</th>\n",
       "      <td>http://www.semanticweb.org/jalal/ontologies/20...</td>\n",
       "      <td>http://www.semanticweb.org/jalal/ontologies/20...</td>\n",
       "      <td>0</td>\n",
       "    </tr>\n",
       "    <tr>\n",
       "      <th>492</th>\n",
       "      <td>http://www.semanticweb.org/jalal/ontologies/20...</td>\n",
       "      <td>http://www.semanticweb.org/jalal/ontologies/20...</td>\n",
       "      <td>100000</td>\n",
       "    </tr>\n",
       "    <tr>\n",
       "      <th>517</th>\n",
       "      <td>http://www.semanticweb.org/jalal/ontologies/20...</td>\n",
       "      <td>http://www.semanticweb.org/jalal/ontologies/20...</td>\n",
       "      <td>25000000</td>\n",
       "    </tr>\n",
       "    <tr>\n",
       "      <th>...</th>\n",
       "      <td>...</td>\n",
       "      <td>...</td>\n",
       "      <td>...</td>\n",
       "    </tr>\n",
       "    <tr>\n",
       "      <th>33211</th>\n",
       "      <td>http://www.semanticweb.org/jalal/ontologies/20...</td>\n",
       "      <td>http://www.semanticweb.org/jalal/ontologies/20...</td>\n",
       "      <td>5500000</td>\n",
       "    </tr>\n",
       "    <tr>\n",
       "      <th>33313</th>\n",
       "      <td>http://www.semanticweb.org/jalal/ontologies/20...</td>\n",
       "      <td>http://www.semanticweb.org/jalal/ontologies/20...</td>\n",
       "      <td>40000000</td>\n",
       "    </tr>\n",
       "    <tr>\n",
       "      <th>33318</th>\n",
       "      <td>http://www.semanticweb.org/jalal/ontologies/20...</td>\n",
       "      <td>http://www.semanticweb.org/jalal/ontologies/20...</td>\n",
       "      <td>4000000</td>\n",
       "    </tr>\n",
       "    <tr>\n",
       "      <th>33618</th>\n",
       "      <td>http://www.semanticweb.org/jalal/ontologies/20...</td>\n",
       "      <td>http://www.semanticweb.org/jalal/ontologies/20...</td>\n",
       "      <td>5000000</td>\n",
       "    </tr>\n",
       "    <tr>\n",
       "      <th>33647</th>\n",
       "      <td>http://www.semanticweb.org/jalal/ontologies/20...</td>\n",
       "      <td>http://www.semanticweb.org/jalal/ontologies/20...</td>\n",
       "      <td>55000000</td>\n",
       "    </tr>\n",
       "  </tbody>\n",
       "</table>\n",
       "<p>301 rows × 3 columns</p>\n",
       "</div>"
      ],
      "text/plain": [
       "                                                 subject  \\\n",
       "195    http://www.semanticweb.org/jalal/ontologies/20...   \n",
       "273    http://www.semanticweb.org/jalal/ontologies/20...   \n",
       "427    http://www.semanticweb.org/jalal/ontologies/20...   \n",
       "492    http://www.semanticweb.org/jalal/ontologies/20...   \n",
       "517    http://www.semanticweb.org/jalal/ontologies/20...   \n",
       "...                                                  ...   \n",
       "33211  http://www.semanticweb.org/jalal/ontologies/20...   \n",
       "33313  http://www.semanticweb.org/jalal/ontologies/20...   \n",
       "33318  http://www.semanticweb.org/jalal/ontologies/20...   \n",
       "33618  http://www.semanticweb.org/jalal/ontologies/20...   \n",
       "33647  http://www.semanticweb.org/jalal/ontologies/20...   \n",
       "\n",
       "                                               predicate    object  \n",
       "195    http://www.semanticweb.org/jalal/ontologies/20...  31000000  \n",
       "273    http://www.semanticweb.org/jalal/ontologies/20...  36000000  \n",
       "427    http://www.semanticweb.org/jalal/ontologies/20...         0  \n",
       "492    http://www.semanticweb.org/jalal/ontologies/20...    100000  \n",
       "517    http://www.semanticweb.org/jalal/ontologies/20...  25000000  \n",
       "...                                                  ...       ...  \n",
       "33211  http://www.semanticweb.org/jalal/ontologies/20...   5500000  \n",
       "33313  http://www.semanticweb.org/jalal/ontologies/20...  40000000  \n",
       "33318  http://www.semanticweb.org/jalal/ontologies/20...   4000000  \n",
       "33618  http://www.semanticweb.org/jalal/ontologies/20...   5000000  \n",
       "33647  http://www.semanticweb.org/jalal/ontologies/20...  55000000  \n",
       "\n",
       "[301 rows x 3 columns]"
      ]
     },
     "execution_count": 290,
     "metadata": {},
     "output_type": "execute_result"
    }
   ],
   "source": [
    "budget_df_val"
   ]
  },
  {
   "cell_type": "code",
   "execution_count": null,
   "metadata": {},
   "outputs": [],
   "source": [
    "statements_filter = {'test': np.array(list({tuple(i) for i in np.vstack((budget_df_val, statements))}))}\n",
    "statements_filter"
   ]
  },
  {
   "cell_type": "code",
   "execution_count": 302,
   "metadata": {},
   "outputs": [],
   "source": [
    "# Prepare the validation triplets without the budget value\n",
    "validation_triplets = budget_df_val[['subject', 'predicate','object']].values.tolist()\n",
    "# Add a placeholder for the object\n",
    "validation_triplets = [(subject, predicate, object) for subject, predicate,object in validation_triplets]\n"
   ]
  },
  {
   "cell_type": "code",
   "execution_count": 303,
   "metadata": {},
   "outputs": [],
   "source": [
    "predictions = model.predict(validation_triplets)\n"
   ]
  },
  {
   "cell_type": "code",
   "execution_count": 304,
   "metadata": {},
   "outputs": [
    {
     "data": {
      "text/plain": [
       "array([ 4.0601764 ,  1.1238883 , 12.944666  ,  7.8117323 , 19.499327  ,\n",
       "        3.3409064 , 14.686313  ,  5.250355  ,  8.245543  ,  7.2797956 ,\n",
       "        2.4952593 ,  5.9487634 ,  2.2581685 ,  6.577239  ,  4.6679354 ,\n",
       "        6.424439  ,  5.7131634 , 15.185833  ,  4.7736654 , 10.77527   ,\n",
       "        6.1160984 ,  6.0336556 , 15.079583  ,  3.45546   ,  7.1510267 ,\n",
       "        5.0466065 ,  8.864119  ,  4.975538  ,  6.271205  ,  9.289109  ,\n",
       "        3.6230898 ,  6.7632055 ,  6.7937984 , 19.158731  ,  5.6788125 ,\n",
       "        5.206519  ,  2.9173353 , 10.863496  , 16.48786   , 18.455122  ,\n",
       "       10.81954   , 10.4641    ,  8.133771  , 12.900391  , 13.080646  ,\n",
       "        5.6366425 ,  9.791602  , 19.31995   ,  4.8766675 , 17.175993  ,\n",
       "        5.4454226 ,  3.2722492 , 13.257053  ,  1.217551  , 13.238123  ,\n",
       "       15.272682  , 17.168388  ,  4.3605266 ,  4.2662563 , 10.925162  ,\n",
       "        7.1298876 ,  5.3040056 ,  5.712574  ,  3.857632  , 10.5062    ,\n",
       "       11.231892  ,  8.2008705 ,  0.6011585 ,  5.627629  ,  5.991212  ,\n",
       "        6.30892   , 12.202048  ,  5.9795465 , 10.210796  ,  5.0590878 ,\n",
       "       -0.5248686 ,  6.897139  , 18.26368   , 15.469257  ,  5.083298  ,\n",
       "        1.4342753 ,  9.637373  ,  6.0720186 , 20.161856  ,  1.5453196 ,\n",
       "       16.920769  ,  4.049212  ,  5.8569245 , 11.679685  ,  5.1369457 ,\n",
       "        1.416085  ,  5.5602303 ,  2.5380826 , 12.615177  ,  4.1599236 ,\n",
       "        7.8215456 ,  8.401615  ,  2.9494634 ,  6.680252  ,  5.854809  ,\n",
       "       13.045409  ,  1.0694463 , 10.361936  ,  6.068616  , 21.862093  ,\n",
       "        7.4961624 ,  7.3926997 , 12.595585  ,  9.084453  , 11.868536  ,\n",
       "       11.27035   ,  6.4953866 ,  6.6380153 ,  5.7575173 ,  4.513111  ,\n",
       "       13.676689  , 13.494444  ,  3.6506162 ,  7.3596444 , 13.149336  ,\n",
       "        4.7409344 ,  7.7349954 ,  6.6991854 ,  8.479685  ,  2.4092054 ,\n",
       "       13.567265  , 14.253916  ,  4.508599  , 10.058103  ,  6.5903654 ,\n",
       "       11.888496  ,  3.7644467 ,  3.8618402 , 11.609512  ,  9.212057  ,\n",
       "       10.483843  ,  7.576309  ,  1.21123   ,  3.5054483 ,  0.8431316 ,\n",
       "        8.900566  , 13.79023   ,  9.510924  ,  3.4327736 ,  1.4105446 ,\n",
       "       11.784552  ,  1.5186313 ,  7.1665745 , 14.569181  ,  7.8605337 ,\n",
       "        4.9645286 , 14.683724  , 14.566664  ,  7.428717  ,  8.919948  ,\n",
       "        3.2757013 ,  4.180503  ,  1.5054636 , 10.080381  ,  7.944254  ,\n",
       "       11.587626  , 11.913164  ,  7.857383  ,  6.69083   , 10.858704  ,\n",
       "        0.6888417 ,  7.612338  ,  6.074133  , 15.769173  ,  4.1173553 ,\n",
       "       12.815127  ,  2.6236012 ,  4.941266  ,  2.7533352 , 10.313531  ,\n",
       "       13.345419  , 13.362082  ,  2.1171784 ,  5.4678555 ,  7.180836  ,\n",
       "        8.340851  , 10.111088  ,  4.254013  ,  2.10463   , 13.288752  ,\n",
       "       17.335276  ,  6.457275  , 10.400439  ,  5.2441916 , 13.4327545 ,\n",
       "        9.680044  ,  3.9787827 ,  3.6032548 ,  2.2557201 ,  7.283743  ,\n",
       "        1.9218851 ,  1.6446072 , 11.679645  ,  3.4569411 ,  8.80536   ,\n",
       "       19.691126  , 16.771935  ,  2.3053045 ,  3.5346792 ,  0.87711203,\n",
       "        7.700268  ,  0.7366759 ,  5.168365  ,  4.9738407 , 15.68136   ,\n",
       "        7.946633  ,  8.563804  ,  8.339457  , 10.339746  , -3.0309815 ,\n",
       "       18.777552  ,  2.5699708 ,  3.6323996 ,  1.1570731 ,  8.291464  ,\n",
       "        2.1341915 ,  8.796025  ,  4.824233  ,  1.2894597 ,  1.1390711 ,\n",
       "        6.5522623 ,  7.418386  , 11.451586  , 20.644003  ,  7.706224  ,\n",
       "        7.816433  ,  6.7578297 ,  6.305523  ,  6.188101  ,  3.0527406 ,\n",
       "        8.225706  ,  9.124903  , 13.290824  , 11.555008  , 10.25275   ,\n",
       "        4.844268  , 15.482438  , 14.61411   , 10.397354  ,  5.1107626 ,\n",
       "        5.60824   ,  3.9316957 ,  2.3728263 ,  3.4572992 , 12.433492  ,\n",
       "        9.089745  , 12.6299095 ,  5.1110473 ,  3.553615  , 12.173891  ,\n",
       "        2.511848  ,  4.9117384 ,  5.612582  ,  2.9536743 ,  5.7491074 ,\n",
       "        4.9007707 , 14.419872  ,  3.469948  ,  1.8482143 ,  9.44028   ,\n",
       "        7.428904  ,  5.007296  , 19.046839  ,  2.9551525 ,  3.2022157 ,\n",
       "        7.8319387 ,  0.5149178 , 10.49444   ,  4.3282075 , 10.969646  ,\n",
       "       10.384085  , 14.049255  ,  4.3946524 , 16.494379  , 17.498856  ,\n",
       "       11.846935  ,  2.4941325 ,  0.9223335 ,  3.1650538 ,  5.7503324 ,\n",
       "        8.589987  , 13.517191  ,  3.759471  ,  1.7644625 ,  7.7591734 ,\n",
       "        8.61553   ,  7.108469  ,  8.940359  , 15.808074  ,  3.6316    ,\n",
       "       13.029846  ,  6.05979   ,  6.35307   ,  5.8759995 ,  6.1549735 ,\n",
       "        2.4446666 ], dtype=float32)"
      ]
     },
     "execution_count": 304,
     "metadata": {},
     "output_type": "execute_result"
    }
   ],
   "source": [
    "predictions"
   ]
  },
  {
   "cell_type": "code",
   "execution_count": null,
   "metadata": {},
   "outputs": [],
   "source": []
  }
 ],
 "metadata": {
  "accelerator": "GPU",
  "colab": {
   "gpuType": "T4",
   "provenance": []
  },
  "kernelspec": {
   "display_name": "Python 3 (ipykernel)",
   "language": "python",
   "name": "python3"
  },
  "language_info": {
   "codemirror_mode": {
    "name": "ipython",
    "version": 3
   },
   "file_extension": ".py",
   "mimetype": "text/x-python",
   "name": "python",
   "nbconvert_exporter": "python",
   "pygments_lexer": "ipython3",
   "version": "3.8.18"
  }
 },
 "nbformat": 4,
 "nbformat_minor": 4
}
