{
  "cells": [
    {
      "cell_type": "code",
      "execution_count": 1,
      "metadata": {
        "colab": {
          "base_uri": "https://localhost:8080/"
        },
        "id": "lHLy9vPnwiIc",
        "outputId": "718aa3d6-60f3-4d1a-dfa8-10767e5b69e5"
      },
      "outputs": [
        {
          "output_type": "stream",
          "name": "stdout",
          "text": [
            "Requirement already satisfied: rdflib in /usr/local/lib/python3.10/dist-packages (7.0.0)\n",
            "Requirement already satisfied: isodate<0.7.0,>=0.6.0 in /usr/local/lib/python3.10/dist-packages (from rdflib) (0.6.1)\n",
            "Requirement already satisfied: pyparsing<4,>=2.1.0 in /usr/local/lib/python3.10/dist-packages (from rdflib) (3.1.1)\n",
            "Requirement already satisfied: six in /usr/local/lib/python3.10/dist-packages (from isodate<0.7.0,>=0.6.0->rdflib) (1.16.0)\n",
            "Requirement already satisfied: SPARQLWrapper in /usr/local/lib/python3.10/dist-packages (2.0.0)\n",
            "Requirement already satisfied: rdflib>=6.1.1 in /usr/local/lib/python3.10/dist-packages (from SPARQLWrapper) (7.0.0)\n",
            "Requirement already satisfied: isodate<0.7.0,>=0.6.0 in /usr/local/lib/python3.10/dist-packages (from rdflib>=6.1.1->SPARQLWrapper) (0.6.1)\n",
            "Requirement already satisfied: pyparsing<4,>=2.1.0 in /usr/local/lib/python3.10/dist-packages (from rdflib>=6.1.1->SPARQLWrapper) (3.1.1)\n",
            "Requirement already satisfied: six in /usr/local/lib/python3.10/dist-packages (from isodate<0.7.0,>=0.6.0->rdflib>=6.1.1->SPARQLWrapper) (1.16.0)\n"
          ]
        }
      ],
      "source": [
        "!pip install rdflib\n",
        "!pip install SPARQLWrapper"
      ]
    },
    {
      "cell_type": "code",
      "execution_count": 2,
      "metadata": {
        "colab": {
          "base_uri": "https://localhost:8080/"
        },
        "id": "r7-7VizQ9NfK",
        "outputId": "19a703dc-b360-4f85-8784-4f6da0b7ac88"
      },
      "outputs": [
        {
          "output_type": "stream",
          "name": "stdout",
          "text": [
            "Requirement already satisfied: tqdm in /usr/local/lib/python3.10/dist-packages (4.66.1)\n",
            "\u001b[31mERROR: Operation cancelled by user\u001b[0m\u001b[31m\n",
            "\u001b[0m"
          ]
        }
      ],
      "source": [
        "!pip install tqdm"
      ]
    },
    {
      "cell_type": "markdown",
      "metadata": {
        "id": "elAvSEiaFx-x"
      },
      "source": [
        "## Initialization code"
      ]
    },
    {
      "cell_type": "code",
      "source": [
        "from bs4 import BeautifulSoup\n",
        "from SPARQLWrapper import SPARQLWrapper, JSON"
      ],
      "metadata": {
        "id": "MAfFyUkcw_fQ"
      },
      "execution_count": 2,
      "outputs": []
    },
    {
      "cell_type": "code",
      "execution_count": 3,
      "metadata": {
        "id": "0pwVR2Il-B1u"
      },
      "outputs": [],
      "source": [
        "import requests\n",
        "import rdflib\n",
        "from rdflib import URIRef, Literal, Namespace\n",
        "from rdflib.namespace import RDF, RDFS\n",
        "\n",
        "g = rdflib.Graph()\n",
        "g.parse(\"movie.rdf\", format=\"xml\")\n",
        "MOVIE = Namespace(\"http://www.semanticweb.org/jalal/ontologies/2023/10/movie-ontology#\")\n",
        "g.bind(\"movie\", MOVIE)\n",
        "bearer_token = \"xxx\"\n"
      ]
    },
    {
      "cell_type": "code",
      "source": [
        "MOVIE_NS = Namespace(\"http://www.semanticweb.org/jalal/ontologies/2023/10/movie-ontology#\")"
      ],
      "metadata": {
        "id": "nJ8_OUjA7aUN"
      },
      "execution_count": 4,
      "outputs": []
    },
    {
      "cell_type": "code",
      "execution_count": 5,
      "metadata": {
        "id": "olaBYWfy-E6J"
      },
      "outputs": [],
      "source": [
        "def tmdb_api_request(endpoint, params=None):\n",
        "    base_url = \"https://api.themoviedb.org/3\"\n",
        "    headers = {\n",
        "        \"Authorization\": f\"Bearer {bearer_token}\",\n",
        "        \"Accept\": \"application/json\"\n",
        "    }\n",
        "    params = params or {}\n",
        "    response = requests.get(f\"{base_url}/{endpoint}\", params=params, headers=headers)\n",
        "    return response.json()"
      ]
    },
    {
      "cell_type": "code",
      "source": [
        "def add_person(movie_uri,person_member,graph):\n",
        "        person_id = f\"Person_{person_member['id']}\"\n",
        "        person_uri = URIRef(MOVIE_NS[person_id])\n",
        "        g.add((person_uri, RDF.type, MOVIE.Person))\n",
        "        if (person_uri, None, None) in graph:\n",
        "            existing_name = next(graph.objects(person_uri, MOVIE_NS.name), None)\n",
        "            if existing_name:\n",
        "                new_name = person_member['name']\n",
        "                if new_name != existing_name:\n",
        "                    graph.set((person_uri, MOVIE_NS.name, Literal(new_name, datatype=XSD.string)))\n",
        "            else:\n",
        "                graph.add((person_uri, MOVIE_NS.name, Literal(person_member['name'], datatype=XSD.string)))\n",
        "\n",
        "            if 'nationality' in person_member:\n",
        "                existing_nationality = next(graph.objects(person_uri, MOVIE_NS.nationality), None)\n",
        "                if existing_nationality:\n",
        "                    new_nationality = person_member['nationality']\n",
        "                    if new_nationality != existing_nationality:\n",
        "                        graph.set((person_uri, MOVIE_NS.nationality, Literal(new_nationality, datatype=XSD.string)))\n",
        "                else:\n",
        "                    graph.add((person_uri, MOVIE_NS.nationality, Literal(person_member['nationality'], datatype=XSD.string)))\n",
        "\n",
        "            if 'birthday' in person_member:\n",
        "                existing_birth_date = next(graph.objects(person_uri, MOVIE_NS.birthDate), None)\n",
        "                if existing_birth_date:\n",
        "                    new_birth_date = person_member['birthday']\n",
        "                    if new_birth_date != existing_birth_date:\n",
        "                        graph.set((person_uri, MOVIE_NS.birthDate, Literal(new_birth_date, datatype=XSD.date)))\n",
        "                else:\n",
        "                    graph.add((person_uri, MOVIE_NS.birthDate, Literal(person_member['birthday'], datatype=XSD.date)))\n",
        "\n",
        "            if 'place_of_birth' in person_member:\n",
        "                existing_place_of_birth = next(graph.objects(person_uri, MOVIE_NS.placeOfBirth), None)\n",
        "                if existing_place_of_birth:\n",
        "                    new_place_of_birth = person_member['place_of_birth']\n",
        "                    if new_place_of_birth != existing_place_of_birth:\n",
        "                        graph.set((person_uri, MOVIE_NS.placeOfBirth, Literal(new_place_of_birth, datatype=XSD.string)))\n",
        "                else:\n",
        "                    graph.add((person_uri, MOVIE_NS.placeOfBirth, Literal(person_member['place_of_birth'], datatype=XSD.string)))\n",
        "\n",
        "            if 'gender' in person_member:\n",
        "                existing_gender = next(graph.objects(person_uri, MOVIE_NS.gender), None)\n",
        "                if existing_gender:\n",
        "                    new_gender = person_member['gender']\n",
        "                    if new_gender != existing_gender:\n",
        "                        graph.set((person_uri, MOVIE_NS.gender, Literal(new_gender, datatype=XSD.string)))\n",
        "                else:\n",
        "                    graph.add((person_uri, MOVIE_NS.gender, Literal(person_member['gender'], datatype=XSD.string)))"
      ],
      "metadata": {
        "id": "OIbgipJKRShO"
      },
      "execution_count": 6,
      "outputs": []
    },
    {
      "cell_type": "code",
      "source": [
        "def add_persons_to_graph(movie_uri, person_data, job, graph):\n",
        "    for person_member in person_data:\n",
        "        if job == \"Actor\":\n",
        "            person_id = f\"Person_{person_member['id']}\"\n",
        "            person_uri = URIRef(MOVIE_NS[person_id])\n",
        "            g.add((person_uri, RDF.type, MOVIE.Person))\n",
        "            g.add((movie_uri, MOVIE_NS.hasActor, person_uri))\n",
        "            g.add((person_uri, MOVIE_NS.actedIn, movie_uri))\n",
        "            add_person(movie_uri,person_member,graph)\n",
        "        elif job == \"Director of Photography\":\n",
        "            person_id = f\"Person_{person_member['id']}\"\n",
        "            person_uri = URIRef(MOVIE_NS[person_id])\n",
        "            g.add((person_uri, RDF.type, MOVIE.Person))\n",
        "            g.add((movie_uri, MOVIE_NS.filmedBy, person_uri))\n",
        "            g.add((person_uri, MOVIE_NS.cinematographyFor, movie_uri))\n",
        "            add_person(movie_uri,person_member,graph)\n",
        "        elif job == \"Producer\":\n",
        "            person_id = f\"Person_{person_member['id']}\"\n",
        "            person_uri = URIRef(MOVIE_NS[person_id])\n",
        "            g.add((person_uri, RDF.type, MOVIE.Person))\n",
        "            g.add((movie_uri, MOVIE_NS.filmedBy, person_uri))\n",
        "            #print(person_uri)\n",
        "            g.add((person_uri, MOVIE_NS.cinematographyFor, movie_uri))\n",
        "            add_person(movie_uri,person_member,graph)\n",
        "        elif job == \"Director\":\n",
        "            person_id = f\"Person_{person_member['id']}\"\n",
        "            person_uri = URIRef(MOVIE_NS[person_id])\n",
        "            g.add((person_uri, RDF.type, MOVIE.Person))\n",
        "            g.add((movie_uri, MOVIE_NS.directedBy, person_uri))\n",
        "            g.add((person_uri, MOVIE_NS.directs, movie_uri))\n",
        "            add_person(movie_uri,person_member,graph)\n",
        "        elif job == \"Original Music Composer\":\n",
        "            person_id = f\"Person_{person_member['id']}\"\n",
        "            person_uri = URIRef(MOVIE_NS[person_id])\n",
        "            g.add((person_uri, RDF.type, MOVIE.Person))\n",
        "            g.add((movie_uri, MOVIE_NS.hasSoundtrackBy, person_uri))\n",
        "            g.add((person_uri, MOVIE_NS.composedMusicFor, movie_uri))\n",
        "            add_person(movie_uri,person_member,graph)\n",
        "        elif job == \"Screenplay\":\n",
        "            person_id = f\"Person_{person_member['id']}\"\n",
        "            person_uri = URIRef(MOVIE_NS[person_id])\n",
        "            g.add((person_uri, RDF.type, MOVIE.Person))\n",
        "            g.add((movie_uri, MOVIE_NS.writtenBy, person_uri))\n",
        "            g.add((person_uri, MOVIE_NS.wroteScriptFor, movie_uri))\n",
        "            add_person(movie_uri,person_member,graph)"
      ],
      "metadata": {
        "id": "XXH-r1As6TIp"
      },
      "execution_count": 7,
      "outputs": []
    },
    {
      "cell_type": "code",
      "source": [
        "from rdflib import Graph, Namespace, URIRef, RDF, Literal, XSD\n",
        "\n",
        "def add_movie_genre_association(movie_uri, movie_data, graph):\n",
        "    if 'genres' in movie_data:\n",
        "        for genre in movie_data['genres']:\n",
        "            genre_name = genre['name'].replace(\" \", \"_\")\n",
        "            genre_uri = URIRef(MOVIE_NS[genre_name])\n",
        "         #   print(genre_name)\n",
        "         #   print(genre_uri)\n",
        "            if (genre_uri, None, None) not in graph:\n",
        "                graph.add((genre_uri, RDF.type, MOVIE_NS.Genre))\n",
        "                graph.add((genre_uri, MOVIE_NS.genreName, Literal(genre['name'], datatype=XSD.string)))\n",
        "\n",
        "        for genre in movie_data['genres']:\n",
        "            genre_name = genre['name'].replace(\" \", \"_\")\n",
        "            genre_uri = URIRef(MOVIE_NS[genre_name])\n",
        "            graph.add((movie_uri, MOVIE_NS.genreOf, genre_uri))\n",
        "\n",
        "    return graph\n"
      ],
      "metadata": {
        "id": "_Vxu9A37K9pH"
      },
      "execution_count": 8,
      "outputs": []
    },
    {
      "cell_type": "code",
      "source": [
        "def add_characters_to_graph(movie_uri,movie_id, credits_data, graph):\n",
        "    if 'cast' in credits_data:\n",
        "        for character_info in credits_data['cast']:\n",
        "            character_name = character_info.get('character', '')\n",
        "            actor_id = character_info.get('id', None)\n",
        "\n",
        "            if not character_name or actor_id is None:\n",
        "                continue\n",
        "\n",
        "            character_id = f\"Character_{actor_id}_{movie_id}\"\n",
        "            character_uri = URIRef(MOVIE_NS[character_id])\n",
        "\n",
        "            actor_id = f\"Person_{actor_id}\"\n",
        "            actor_uri = URIRef(MOVIE_NS[actor_id])\n",
        "\n",
        "            graph.add((character_uri, RDF.type, MOVIE_NS.Character))\n",
        "            graph.add((character_uri, MOVIE_NS.characterName, Literal(character_name, datatype=XSD.string)))\n",
        "            graph.add((movie_uri, MOVIE_NS.hasCharacter, character_uri))\n",
        "            graph.add((character_uri, MOVIE_NS.appearsIn, movie_uri))\n",
        "\n",
        "            graph.add((character_uri, MOVIE_NS.portrayedBy, actor_uri))\n",
        "            graph.add((actor_uri, MOVIE_NS.portrays, character_uri))\n",
        "    return graph"
      ],
      "metadata": {
        "id": "o13ImqX-Mmb3"
      },
      "execution_count": 9,
      "outputs": []
    },
    {
      "cell_type": "code",
      "source": [
        "def fetch_and_add_movie_awards_to_graph(movie_title, movie_uri, graph):\n",
        "    def get_wikidata_id_by_title(movie_title):\n",
        "        sparql = SPARQLWrapper(\"https://query.wikidata.org/sparql\")\n",
        "        query = \"\"\"\n",
        "        SELECT ?movie WHERE {\n",
        "          ?movie wdt:P31 wd:Q11424;\n",
        "                 rdfs:label \"%s\"@en.\n",
        "        } LIMIT 1\n",
        "        \"\"\" % movie_title.replace('\"', '\\\\\"')\n",
        "\n",
        "        sparql.setQuery(query)\n",
        "        sparql.setReturnFormat(JSON)\n",
        "        results = sparql.query().convert()\n",
        "\n",
        "        for result in results[\"results\"][\"bindings\"]:\n",
        "            return result[\"movie\"][\"value\"].split('/')[-1]\n",
        "        return None\n",
        "\n",
        "    def get_movie_awards(wikidata_id):\n",
        "        \"\"\"Fetches the awards for a movie based on its Wikidata ID.\"\"\"\n",
        "        sparql = SPARQLWrapper(\"https://query.wikidata.org/sparql\")\n",
        "        query = \"\"\"\n",
        "        SELECT ?awardLabel WHERE {\n",
        "          wd:%s p:P166 ?awardStatement .\n",
        "          ?awardStatement ps:P166 ?award .\n",
        "          SERVICE wikibase:label { bd:serviceParam wikibase:language \"en\". }\n",
        "        }\n",
        "        \"\"\" % wikidata_id\n",
        "\n",
        "        sparql.setQuery(query)\n",
        "        sparql.setReturnFormat(JSON)\n",
        "        results = sparql.query().convert()\n",
        "\n",
        "        awards = [result['awardLabel']['value'] for result in results[\"results\"][\"bindings\"]]\n",
        "        return awards\n",
        "    wikidata_id = get_wikidata_id_by_title(movie_title)\n",
        "    if not wikidata_id:\n",
        "        print(f\"No Wikidata entry found for {movie_title}\")\n",
        "        return\n",
        "\n",
        "    awards = get_movie_awards(wikidata_id)\n",
        "\n",
        "    for award in awards:\n",
        "        award_uri = URIRef(f\"http://www.wikidata.org/entity/{award.replace(' ', '_')}\")\n",
        "        graph.add((award_uri, RDF.type, MOVIE.Award))\n",
        "        graph.add((award_uri, MOVIE.awardedTo, movie_uri))\n",
        "        graph.add((movie_uri, MOVIE.hasAward, award_uri))\n",
        "        graph.add((award_uri, RDFS.label, Literal(award)))\n",
        "        graph.add((award_uri, MOVIE.awardName, Literal(award)))"
      ],
      "metadata": {
        "id": "dQM4dDvBv-Zy"
      },
      "execution_count": 10,
      "outputs": []
    },
    {
      "cell_type": "code",
      "source": [
        "def add_filmedAt_locations_to_graph(movie_uri, movie_data, graph):\n",
        "\n",
        "    if 'production_countries' in movie_data:\n",
        "        countries_data = movie_data['production_countries']\n",
        "        print(movie_data['production_countries'])\n",
        "        for country_info in countries_data:\n",
        "            country_name = country_info.get('name', '')\n",
        "\n",
        "            if not country_name:\n",
        "                continue\n",
        "\n",
        "            location_id = f\"Location_{country_name}_{movie_uri}\"\n",
        "            location_uri = URIRef(MOVIE_NS[location_id])\n",
        "\n",
        "            country_id = f\"Country_{country_name}\"\n",
        "            country_uri = URIRef(MOVIE_NS[country_id])\n",
        "\n",
        "            graph.add((location_uri, RDF.type, MOVIE_NS.Location))\n",
        "            graph.add((location_uri, MOVIE_NS.name, Literal(country_name, datatype=XSD.string)))\n",
        "            graph.add((movie_uri, MOVIE_NS.filmedAt, location_uri))\n",
        "\n",
        "            graph.add((location_uri, MOVIE_NS.isInCountry, country_uri))\n",
        "\n",
        "    return graph"
      ],
      "metadata": {
        "id": "cWRAMdufOkJC"
      },
      "execution_count": 11,
      "outputs": []
    },
    {
      "cell_type": "code",
      "source": [
        "def create_movie_rdf_graph(movie_id):\n",
        "    MOVIE = Namespace(\"http://www.semanticweb.org/jalal/ontologies/2023/10/movie-ontology#\")\n",
        "    movie_data = tmdb_api_request(f\"movie/{movie_id}\")\n",
        "    movie_id_in = f\"Movie_{movie_id}\"\n",
        "    movie_uri = URIRef(MOVIE[str(movie_id_in)])\n",
        "    if 'success' in movie_data:\n",
        "        return\n",
        "    else:\n",
        "        pass\n",
        "    if (movie_uri, None, None) in g:\n",
        "        print(f\"Movie {movie_id} already exists in the graph.\")\n",
        "    else:\n",
        "        g.add((movie_uri, RDF.type, MOVIE.Movie))\n",
        "        g.add((movie_uri, MOVIE.title, Literal(movie_data['title'], datatype=XSD.string)))\n",
        "        g.add((movie_uri, MOVIE.releaseDate, Literal(movie_data['release_date'], datatype=XSD.date)))\n",
        "        g.add((movie_uri, MOVIE.budget, Literal(movie_data['budget'], datatype=XSD.int)))\n",
        "        g.add((movie_uri, MOVIE.originalLanguage, Literal(movie_data['original_language'], datatype=XSD.string)))\n",
        "    credits_data = tmdb_api_request(f\"movie/{movie_id}/credits\")\n",
        "\n",
        "    fetch_and_add_movie_awards_to_graph(movie_data['title'], movie_uri, g)\n",
        "    #add_filmedAt_locations_to_graph(movie_uri,movie_data,g)\n",
        "    add_characters_to_graph(movie_uri, movie_id, credits_data, g)\n",
        "\n",
        "    for cast_member in credits_data['cast']:\n",
        "        add_persons_to_graph(movie_uri, [cast_member], \"Actor\", g)\n",
        "\n",
        "    for crew_member in credits_data['crew']:\n",
        "        job = crew_member['job']\n",
        "        add_persons_to_graph(movie_uri, [crew_member], job, g)\n",
        "    vote_average = movie_data.get('vote_average', None)\n",
        "\n",
        "    if vote_average is not None:\n",
        "        rating_property = MOVIE_NS.rating\n",
        "        g.add((movie_uri, rating_property, Literal(vote_average, datatype=XSD.float)))\n",
        "    return g"
      ],
      "metadata": {
        "id": "uPF7Ew5toR2m"
      },
      "execution_count": 12,
      "outputs": []
    },
    {
      "cell_type": "code",
      "source": [
        "movie_id = '207'\n",
        "\n",
        "\n",
        "create_movie_rdf_graph(movie_id)\n",
        "\n",
        "create_movie_rdf_graph(movie_id)\n"
      ],
      "metadata": {
        "colab": {
          "base_uri": "https://localhost:8080/",
          "height": 381
        },
        "id": "AIXJju8nqBgI",
        "outputId": "6fdace59-631c-4d13-bac3-6f1fedf98590"
      },
      "execution_count": 23,
      "outputs": [
        {
          "output_type": "stream",
          "name": "stdout",
          "text": [
            "Movie 207 already exists in the graph.\n"
          ]
        },
        {
          "output_type": "error",
          "ename": "KeyboardInterrupt",
          "evalue": "ignored",
          "traceback": [
            "\u001b[0;31m---------------------------------------------------------------------------\u001b[0m",
            "\u001b[0;31mKeyboardInterrupt\u001b[0m                         Traceback (most recent call last)",
            "\u001b[0;32m<ipython-input-23-86d5abb37009>\u001b[0m in \u001b[0;36m<cell line: 6>\u001b[0;34m()\u001b[0m\n\u001b[1;32m      4\u001b[0m \u001b[0mcreate_movie_rdf_graph\u001b[0m\u001b[0;34m(\u001b[0m\u001b[0mmovie_id\u001b[0m\u001b[0;34m)\u001b[0m\u001b[0;34m\u001b[0m\u001b[0;34m\u001b[0m\u001b[0m\n\u001b[1;32m      5\u001b[0m \u001b[0;34m\u001b[0m\u001b[0m\n\u001b[0;32m----> 6\u001b[0;31m \u001b[0mcreate_movie_rdf_graph\u001b[0m\u001b[0;34m(\u001b[0m\u001b[0mmovie_id\u001b[0m\u001b[0;34m)\u001b[0m\u001b[0;34m\u001b[0m\u001b[0;34m\u001b[0m\u001b[0m\n\u001b[0m",
            "\u001b[0;32m<ipython-input-13-0cc22470ee3a>\u001b[0m in \u001b[0;36mcreate_movie_rdf_graph\u001b[0;34m(movie_id)\u001b[0m\n\u001b[1;32m      1\u001b[0m \u001b[0;32mdef\u001b[0m \u001b[0mcreate_movie_rdf_graph\u001b[0m\u001b[0;34m(\u001b[0m\u001b[0mmovie_id\u001b[0m\u001b[0;34m)\u001b[0m\u001b[0;34m:\u001b[0m\u001b[0;34m\u001b[0m\u001b[0;34m\u001b[0m\u001b[0m\n\u001b[1;32m      2\u001b[0m     \u001b[0mMOVIE\u001b[0m \u001b[0;34m=\u001b[0m \u001b[0mNamespace\u001b[0m\u001b[0;34m(\u001b[0m\u001b[0;34m\"http://www.semanticweb.org/jalal/ontologies/2023/10/movie-ontology#\"\u001b[0m\u001b[0;34m)\u001b[0m\u001b[0;34m\u001b[0m\u001b[0;34m\u001b[0m\u001b[0m\n\u001b[0;32m----> 3\u001b[0;31m     \u001b[0mmovie_data\u001b[0m \u001b[0;34m=\u001b[0m \u001b[0mtmdb_api_request\u001b[0m\u001b[0;34m(\u001b[0m\u001b[0;34mf\"movie/{movie_id}\"\u001b[0m\u001b[0;34m)\u001b[0m\u001b[0;34m\u001b[0m\u001b[0;34m\u001b[0m\u001b[0m\n\u001b[0m\u001b[1;32m      4\u001b[0m     \u001b[0mmovie_id_in\u001b[0m \u001b[0;34m=\u001b[0m \u001b[0;34mf\"Movie_{movie_id}\"\u001b[0m\u001b[0;34m\u001b[0m\u001b[0;34m\u001b[0m\u001b[0m\n\u001b[1;32m      5\u001b[0m     \u001b[0mmovie_uri\u001b[0m \u001b[0;34m=\u001b[0m \u001b[0mURIRef\u001b[0m\u001b[0;34m(\u001b[0m\u001b[0mMOVIE\u001b[0m\u001b[0;34m[\u001b[0m\u001b[0mstr\u001b[0m\u001b[0;34m(\u001b[0m\u001b[0mmovie_id_in\u001b[0m\u001b[0;34m)\u001b[0m\u001b[0;34m]\u001b[0m\u001b[0;34m)\u001b[0m\u001b[0;34m\u001b[0m\u001b[0;34m\u001b[0m\u001b[0m\n",
            "\u001b[0;32m<ipython-input-6-3c3c7006bb59>\u001b[0m in \u001b[0;36mtmdb_api_request\u001b[0;34m(endpoint, params)\u001b[0m\n\u001b[1;32m      6\u001b[0m     }\n\u001b[1;32m      7\u001b[0m     \u001b[0mparams\u001b[0m \u001b[0;34m=\u001b[0m \u001b[0mparams\u001b[0m \u001b[0;32mor\u001b[0m \u001b[0;34m{\u001b[0m\u001b[0;34m}\u001b[0m\u001b[0;34m\u001b[0m\u001b[0;34m\u001b[0m\u001b[0m\n\u001b[0;32m----> 8\u001b[0;31m     \u001b[0mresponse\u001b[0m \u001b[0;34m=\u001b[0m \u001b[0mrequests\u001b[0m\u001b[0;34m.\u001b[0m\u001b[0mget\u001b[0m\u001b[0;34m(\u001b[0m\u001b[0;34mf\"{base_url}/{endpoint}\"\u001b[0m\u001b[0;34m,\u001b[0m \u001b[0mparams\u001b[0m\u001b[0;34m=\u001b[0m\u001b[0mparams\u001b[0m\u001b[0;34m,\u001b[0m \u001b[0mheaders\u001b[0m\u001b[0;34m=\u001b[0m\u001b[0mheaders\u001b[0m\u001b[0;34m)\u001b[0m\u001b[0;34m\u001b[0m\u001b[0;34m\u001b[0m\u001b[0m\n\u001b[0m\u001b[1;32m      9\u001b[0m     \u001b[0;32mreturn\u001b[0m \u001b[0mresponse\u001b[0m\u001b[0;34m.\u001b[0m\u001b[0mjson\u001b[0m\u001b[0;34m(\u001b[0m\u001b[0;34m)\u001b[0m\u001b[0;34m\u001b[0m\u001b[0;34m\u001b[0m\u001b[0m\n",
            "\u001b[0;32m/usr/local/lib/python3.10/dist-packages/requests/api.py\u001b[0m in \u001b[0;36mget\u001b[0;34m(url, params, **kwargs)\u001b[0m\n\u001b[1;32m     71\u001b[0m     \"\"\"\n\u001b[1;32m     72\u001b[0m \u001b[0;34m\u001b[0m\u001b[0m\n\u001b[0;32m---> 73\u001b[0;31m     \u001b[0;32mreturn\u001b[0m \u001b[0mrequest\u001b[0m\u001b[0;34m(\u001b[0m\u001b[0;34m\"get\"\u001b[0m\u001b[0;34m,\u001b[0m \u001b[0murl\u001b[0m\u001b[0;34m,\u001b[0m \u001b[0mparams\u001b[0m\u001b[0;34m=\u001b[0m\u001b[0mparams\u001b[0m\u001b[0;34m,\u001b[0m \u001b[0;34m**\u001b[0m\u001b[0mkwargs\u001b[0m\u001b[0;34m)\u001b[0m\u001b[0;34m\u001b[0m\u001b[0;34m\u001b[0m\u001b[0m\n\u001b[0m\u001b[1;32m     74\u001b[0m \u001b[0;34m\u001b[0m\u001b[0m\n\u001b[1;32m     75\u001b[0m \u001b[0;34m\u001b[0m\u001b[0m\n",
            "\u001b[0;32m/usr/local/lib/python3.10/dist-packages/requests/api.py\u001b[0m in \u001b[0;36mrequest\u001b[0;34m(method, url, **kwargs)\u001b[0m\n\u001b[1;32m     57\u001b[0m     \u001b[0;31m# cases, and look like a memory leak in others.\u001b[0m\u001b[0;34m\u001b[0m\u001b[0;34m\u001b[0m\u001b[0m\n\u001b[1;32m     58\u001b[0m     \u001b[0;32mwith\u001b[0m \u001b[0msessions\u001b[0m\u001b[0;34m.\u001b[0m\u001b[0mSession\u001b[0m\u001b[0;34m(\u001b[0m\u001b[0;34m)\u001b[0m \u001b[0;32mas\u001b[0m \u001b[0msession\u001b[0m\u001b[0;34m:\u001b[0m\u001b[0;34m\u001b[0m\u001b[0;34m\u001b[0m\u001b[0m\n\u001b[0;32m---> 59\u001b[0;31m         \u001b[0;32mreturn\u001b[0m \u001b[0msession\u001b[0m\u001b[0;34m.\u001b[0m\u001b[0mrequest\u001b[0m\u001b[0;34m(\u001b[0m\u001b[0mmethod\u001b[0m\u001b[0;34m=\u001b[0m\u001b[0mmethod\u001b[0m\u001b[0;34m,\u001b[0m \u001b[0murl\u001b[0m\u001b[0;34m=\u001b[0m\u001b[0murl\u001b[0m\u001b[0;34m,\u001b[0m \u001b[0;34m**\u001b[0m\u001b[0mkwargs\u001b[0m\u001b[0;34m)\u001b[0m\u001b[0;34m\u001b[0m\u001b[0;34m\u001b[0m\u001b[0m\n\u001b[0m\u001b[1;32m     60\u001b[0m \u001b[0;34m\u001b[0m\u001b[0m\n\u001b[1;32m     61\u001b[0m \u001b[0;34m\u001b[0m\u001b[0m\n",
            "\u001b[0;32m/usr/local/lib/python3.10/dist-packages/requests/sessions.py\u001b[0m in \u001b[0;36mrequest\u001b[0;34m(self, method, url, params, data, headers, cookies, files, auth, timeout, allow_redirects, proxies, hooks, stream, verify, cert, json)\u001b[0m\n\u001b[1;32m    587\u001b[0m         }\n\u001b[1;32m    588\u001b[0m         \u001b[0msend_kwargs\u001b[0m\u001b[0;34m.\u001b[0m\u001b[0mupdate\u001b[0m\u001b[0;34m(\u001b[0m\u001b[0msettings\u001b[0m\u001b[0;34m)\u001b[0m\u001b[0;34m\u001b[0m\u001b[0;34m\u001b[0m\u001b[0m\n\u001b[0;32m--> 589\u001b[0;31m         \u001b[0mresp\u001b[0m \u001b[0;34m=\u001b[0m \u001b[0mself\u001b[0m\u001b[0;34m.\u001b[0m\u001b[0msend\u001b[0m\u001b[0;34m(\u001b[0m\u001b[0mprep\u001b[0m\u001b[0;34m,\u001b[0m \u001b[0;34m**\u001b[0m\u001b[0msend_kwargs\u001b[0m\u001b[0;34m)\u001b[0m\u001b[0;34m\u001b[0m\u001b[0;34m\u001b[0m\u001b[0m\n\u001b[0m\u001b[1;32m    590\u001b[0m \u001b[0;34m\u001b[0m\u001b[0m\n\u001b[1;32m    591\u001b[0m         \u001b[0;32mreturn\u001b[0m \u001b[0mresp\u001b[0m\u001b[0;34m\u001b[0m\u001b[0;34m\u001b[0m\u001b[0m\n",
            "\u001b[0;32m/usr/local/lib/python3.10/dist-packages/requests/sessions.py\u001b[0m in \u001b[0;36msend\u001b[0;34m(self, request, **kwargs)\u001b[0m\n\u001b[1;32m    701\u001b[0m \u001b[0;34m\u001b[0m\u001b[0m\n\u001b[1;32m    702\u001b[0m         \u001b[0;31m# Send the request\u001b[0m\u001b[0;34m\u001b[0m\u001b[0;34m\u001b[0m\u001b[0m\n\u001b[0;32m--> 703\u001b[0;31m         \u001b[0mr\u001b[0m \u001b[0;34m=\u001b[0m \u001b[0madapter\u001b[0m\u001b[0;34m.\u001b[0m\u001b[0msend\u001b[0m\u001b[0;34m(\u001b[0m\u001b[0mrequest\u001b[0m\u001b[0;34m,\u001b[0m \u001b[0;34m**\u001b[0m\u001b[0mkwargs\u001b[0m\u001b[0;34m)\u001b[0m\u001b[0;34m\u001b[0m\u001b[0;34m\u001b[0m\u001b[0m\n\u001b[0m\u001b[1;32m    704\u001b[0m \u001b[0;34m\u001b[0m\u001b[0m\n\u001b[1;32m    705\u001b[0m         \u001b[0;31m# Total elapsed time of the request (approximately)\u001b[0m\u001b[0;34m\u001b[0m\u001b[0;34m\u001b[0m\u001b[0m\n",
            "\u001b[0;32m/usr/local/lib/python3.10/dist-packages/requests/adapters.py\u001b[0m in \u001b[0;36msend\u001b[0;34m(self, request, stream, timeout, verify, cert, proxies)\u001b[0m\n\u001b[1;32m    484\u001b[0m \u001b[0;34m\u001b[0m\u001b[0m\n\u001b[1;32m    485\u001b[0m         \u001b[0;32mtry\u001b[0m\u001b[0;34m:\u001b[0m\u001b[0;34m\u001b[0m\u001b[0;34m\u001b[0m\u001b[0m\n\u001b[0;32m--> 486\u001b[0;31m             resp = conn.urlopen(\n\u001b[0m\u001b[1;32m    487\u001b[0m                 \u001b[0mmethod\u001b[0m\u001b[0;34m=\u001b[0m\u001b[0mrequest\u001b[0m\u001b[0;34m.\u001b[0m\u001b[0mmethod\u001b[0m\u001b[0;34m,\u001b[0m\u001b[0;34m\u001b[0m\u001b[0;34m\u001b[0m\u001b[0m\n\u001b[1;32m    488\u001b[0m                 \u001b[0murl\u001b[0m\u001b[0;34m=\u001b[0m\u001b[0murl\u001b[0m\u001b[0;34m,\u001b[0m\u001b[0;34m\u001b[0m\u001b[0;34m\u001b[0m\u001b[0m\n",
            "\u001b[0;32m/usr/local/lib/python3.10/dist-packages/urllib3/connectionpool.py\u001b[0m in \u001b[0;36murlopen\u001b[0;34m(self, method, url, body, headers, retries, redirect, assert_same_host, timeout, pool_timeout, release_conn, chunked, body_pos, preload_content, decode_content, **response_kw)\u001b[0m\n\u001b[1;32m    789\u001b[0m \u001b[0;34m\u001b[0m\u001b[0m\n\u001b[1;32m    790\u001b[0m             \u001b[0;31m# Make the request on the HTTPConnection object\u001b[0m\u001b[0;34m\u001b[0m\u001b[0;34m\u001b[0m\u001b[0m\n\u001b[0;32m--> 791\u001b[0;31m             response = self._make_request(\n\u001b[0m\u001b[1;32m    792\u001b[0m                 \u001b[0mconn\u001b[0m\u001b[0;34m,\u001b[0m\u001b[0;34m\u001b[0m\u001b[0;34m\u001b[0m\u001b[0m\n\u001b[1;32m    793\u001b[0m                 \u001b[0mmethod\u001b[0m\u001b[0;34m,\u001b[0m\u001b[0;34m\u001b[0m\u001b[0;34m\u001b[0m\u001b[0m\n",
            "\u001b[0;32m/usr/local/lib/python3.10/dist-packages/urllib3/connectionpool.py\u001b[0m in \u001b[0;36m_make_request\u001b[0;34m(self, conn, method, url, body, headers, retries, timeout, chunked, response_conn, preload_content, decode_content, enforce_content_length)\u001b[0m\n\u001b[1;32m    466\u001b[0m             \u001b[0;31m# Trigger any extra validation we need to do.\u001b[0m\u001b[0;34m\u001b[0m\u001b[0;34m\u001b[0m\u001b[0m\n\u001b[1;32m    467\u001b[0m             \u001b[0;32mtry\u001b[0m\u001b[0;34m:\u001b[0m\u001b[0;34m\u001b[0m\u001b[0;34m\u001b[0m\u001b[0m\n\u001b[0;32m--> 468\u001b[0;31m                 \u001b[0mself\u001b[0m\u001b[0;34m.\u001b[0m\u001b[0m_validate_conn\u001b[0m\u001b[0;34m(\u001b[0m\u001b[0mconn\u001b[0m\u001b[0;34m)\u001b[0m\u001b[0;34m\u001b[0m\u001b[0;34m\u001b[0m\u001b[0m\n\u001b[0m\u001b[1;32m    469\u001b[0m             \u001b[0;32mexcept\u001b[0m \u001b[0;34m(\u001b[0m\u001b[0mSocketTimeout\u001b[0m\u001b[0;34m,\u001b[0m \u001b[0mBaseSSLError\u001b[0m\u001b[0;34m)\u001b[0m \u001b[0;32mas\u001b[0m \u001b[0me\u001b[0m\u001b[0;34m:\u001b[0m\u001b[0;34m\u001b[0m\u001b[0;34m\u001b[0m\u001b[0m\n\u001b[1;32m    470\u001b[0m                 \u001b[0mself\u001b[0m\u001b[0;34m.\u001b[0m\u001b[0m_raise_timeout\u001b[0m\u001b[0;34m(\u001b[0m\u001b[0merr\u001b[0m\u001b[0;34m=\u001b[0m\u001b[0me\u001b[0m\u001b[0;34m,\u001b[0m \u001b[0murl\u001b[0m\u001b[0;34m=\u001b[0m\u001b[0murl\u001b[0m\u001b[0;34m,\u001b[0m \u001b[0mtimeout_value\u001b[0m\u001b[0;34m=\u001b[0m\u001b[0mconn\u001b[0m\u001b[0;34m.\u001b[0m\u001b[0mtimeout\u001b[0m\u001b[0;34m)\u001b[0m\u001b[0;34m\u001b[0m\u001b[0;34m\u001b[0m\u001b[0m\n",
            "\u001b[0;32m/usr/local/lib/python3.10/dist-packages/urllib3/connectionpool.py\u001b[0m in \u001b[0;36m_validate_conn\u001b[0;34m(self, conn)\u001b[0m\n\u001b[1;32m   1095\u001b[0m         \u001b[0;31m# Force connect early to allow us to validate the connection.\u001b[0m\u001b[0;34m\u001b[0m\u001b[0;34m\u001b[0m\u001b[0m\n\u001b[1;32m   1096\u001b[0m         \u001b[0;32mif\u001b[0m \u001b[0mconn\u001b[0m\u001b[0;34m.\u001b[0m\u001b[0mis_closed\u001b[0m\u001b[0;34m:\u001b[0m\u001b[0;34m\u001b[0m\u001b[0;34m\u001b[0m\u001b[0m\n\u001b[0;32m-> 1097\u001b[0;31m             \u001b[0mconn\u001b[0m\u001b[0;34m.\u001b[0m\u001b[0mconnect\u001b[0m\u001b[0;34m(\u001b[0m\u001b[0;34m)\u001b[0m\u001b[0;34m\u001b[0m\u001b[0;34m\u001b[0m\u001b[0m\n\u001b[0m\u001b[1;32m   1098\u001b[0m \u001b[0;34m\u001b[0m\u001b[0m\n\u001b[1;32m   1099\u001b[0m         \u001b[0;32mif\u001b[0m \u001b[0;32mnot\u001b[0m \u001b[0mconn\u001b[0m\u001b[0;34m.\u001b[0m\u001b[0mis_verified\u001b[0m\u001b[0;34m:\u001b[0m\u001b[0;34m\u001b[0m\u001b[0;34m\u001b[0m\u001b[0m\n",
            "\u001b[0;32m/usr/local/lib/python3.10/dist-packages/urllib3/connection.py\u001b[0m in \u001b[0;36mconnect\u001b[0;34m(self)\u001b[0m\n\u001b[1;32m    609\u001b[0m     \u001b[0;32mdef\u001b[0m \u001b[0mconnect\u001b[0m\u001b[0;34m(\u001b[0m\u001b[0mself\u001b[0m\u001b[0;34m)\u001b[0m \u001b[0;34m->\u001b[0m \u001b[0;32mNone\u001b[0m\u001b[0;34m:\u001b[0m\u001b[0;34m\u001b[0m\u001b[0;34m\u001b[0m\u001b[0m\n\u001b[1;32m    610\u001b[0m         \u001b[0msock\u001b[0m\u001b[0;34m:\u001b[0m \u001b[0msocket\u001b[0m\u001b[0;34m.\u001b[0m\u001b[0msocket\u001b[0m \u001b[0;34m|\u001b[0m \u001b[0mssl\u001b[0m\u001b[0;34m.\u001b[0m\u001b[0mSSLSocket\u001b[0m\u001b[0;34m\u001b[0m\u001b[0;34m\u001b[0m\u001b[0m\n\u001b[0;32m--> 611\u001b[0;31m         \u001b[0mself\u001b[0m\u001b[0;34m.\u001b[0m\u001b[0msock\u001b[0m \u001b[0;34m=\u001b[0m \u001b[0msock\u001b[0m \u001b[0;34m=\u001b[0m \u001b[0mself\u001b[0m\u001b[0;34m.\u001b[0m\u001b[0m_new_conn\u001b[0m\u001b[0;34m(\u001b[0m\u001b[0;34m)\u001b[0m\u001b[0;34m\u001b[0m\u001b[0;34m\u001b[0m\u001b[0m\n\u001b[0m\u001b[1;32m    612\u001b[0m         \u001b[0mserver_hostname\u001b[0m\u001b[0;34m:\u001b[0m \u001b[0mstr\u001b[0m \u001b[0;34m=\u001b[0m \u001b[0mself\u001b[0m\u001b[0;34m.\u001b[0m\u001b[0mhost\u001b[0m\u001b[0;34m\u001b[0m\u001b[0;34m\u001b[0m\u001b[0m\n\u001b[1;32m    613\u001b[0m         \u001b[0mtls_in_tls\u001b[0m \u001b[0;34m=\u001b[0m \u001b[0;32mFalse\u001b[0m\u001b[0;34m\u001b[0m\u001b[0;34m\u001b[0m\u001b[0m\n",
            "\u001b[0;32m/usr/local/lib/python3.10/dist-packages/urllib3/connection.py\u001b[0m in \u001b[0;36m_new_conn\u001b[0;34m(self)\u001b[0m\n\u001b[1;32m    201\u001b[0m         \"\"\"\n\u001b[1;32m    202\u001b[0m         \u001b[0;32mtry\u001b[0m\u001b[0;34m:\u001b[0m\u001b[0;34m\u001b[0m\u001b[0;34m\u001b[0m\u001b[0m\n\u001b[0;32m--> 203\u001b[0;31m             sock = connection.create_connection(\n\u001b[0m\u001b[1;32m    204\u001b[0m                 \u001b[0;34m(\u001b[0m\u001b[0mself\u001b[0m\u001b[0;34m.\u001b[0m\u001b[0m_dns_host\u001b[0m\u001b[0;34m,\u001b[0m \u001b[0mself\u001b[0m\u001b[0;34m.\u001b[0m\u001b[0mport\u001b[0m\u001b[0;34m)\u001b[0m\u001b[0;34m,\u001b[0m\u001b[0;34m\u001b[0m\u001b[0;34m\u001b[0m\u001b[0m\n\u001b[1;32m    205\u001b[0m                 \u001b[0mself\u001b[0m\u001b[0;34m.\u001b[0m\u001b[0mtimeout\u001b[0m\u001b[0;34m,\u001b[0m\u001b[0;34m\u001b[0m\u001b[0;34m\u001b[0m\u001b[0m\n",
            "\u001b[0;32m/usr/local/lib/python3.10/dist-packages/urllib3/util/connection.py\u001b[0m in \u001b[0;36mcreate_connection\u001b[0;34m(address, timeout, source_address, socket_options)\u001b[0m\n\u001b[1;32m     71\u001b[0m             \u001b[0;32mif\u001b[0m \u001b[0msource_address\u001b[0m\u001b[0;34m:\u001b[0m\u001b[0;34m\u001b[0m\u001b[0;34m\u001b[0m\u001b[0m\n\u001b[1;32m     72\u001b[0m                 \u001b[0msock\u001b[0m\u001b[0;34m.\u001b[0m\u001b[0mbind\u001b[0m\u001b[0;34m(\u001b[0m\u001b[0msource_address\u001b[0m\u001b[0;34m)\u001b[0m\u001b[0;34m\u001b[0m\u001b[0;34m\u001b[0m\u001b[0m\n\u001b[0;32m---> 73\u001b[0;31m             \u001b[0msock\u001b[0m\u001b[0;34m.\u001b[0m\u001b[0mconnect\u001b[0m\u001b[0;34m(\u001b[0m\u001b[0msa\u001b[0m\u001b[0;34m)\u001b[0m\u001b[0;34m\u001b[0m\u001b[0;34m\u001b[0m\u001b[0m\n\u001b[0m\u001b[1;32m     74\u001b[0m             \u001b[0;31m# Break explicitly a reference cycle\u001b[0m\u001b[0;34m\u001b[0m\u001b[0;34m\u001b[0m\u001b[0m\n\u001b[1;32m     75\u001b[0m             \u001b[0merr\u001b[0m \u001b[0;34m=\u001b[0m \u001b[0;32mNone\u001b[0m\u001b[0;34m\u001b[0m\u001b[0;34m\u001b[0m\u001b[0m\n",
            "\u001b[0;31mKeyboardInterrupt\u001b[0m: "
          ]
        }
      ]
    },
    {
      "cell_type": "code",
      "source": [
        "from rdflib import Graph, RDF, RDFS, OWL"
      ],
      "metadata": {
        "id": "IKt5IDQXgnNG"
      },
      "execution_count": 13,
      "outputs": []
    },
    {
      "cell_type": "code",
      "source": [
        "import concurrent.futures\n",
        "from tqdm import tqdm\n",
        "\n",
        "num_workers = 20\n",
        "\n",
        "ids = range(1, 2001)\n",
        "with concurrent.futures.ThreadPoolExecutor(max_workers=num_workers) as executor:\n",
        "    futures = [executor.submit(create_movie_rdf_graph, movie_id) for movie_id in ids]\n",
        "\n",
        "    for future in tqdm(concurrent.futures.as_completed(futures), total=len(ids), desc=\"Processing Movies\"):\n",
        "        try:\n",
        "            result = future.result()\n",
        "        except Exception as e:\n",
        "            print(f\"Error processing movie: {e}\")"
      ],
      "metadata": {
        "colab": {
          "base_uri": "https://localhost:8080/",
          "height": 1000
        },
        "id": "8apb-WbKPzpI",
        "outputId": "d7f3b9e0-9ffe-4d2b-fc61-7a37389afb91"
      },
      "execution_count": 14,
      "outputs": [
        {
          "output_type": "stream",
          "name": "stderr",
          "text": [
            "Processing Movies:   0%|          | 5/2000 [00:06<37:34,  1.13s/it]"
          ]
        },
        {
          "output_type": "stream",
          "name": "stdout",
          "text": [
            "No Wikidata entry found for Four Rooms\n",
            "No Wikidata entry found for Life in Loops (A Megacities RMX)\n"
          ]
        },
        {
          "output_type": "stream",
          "name": "stderr",
          "text": [
            "Processing Movies:   0%|          | 8/2000 [00:07<17:50,  1.86it/s]"
          ]
        },
        {
          "output_type": "stream",
          "name": "stdout",
          "text": [
            "No Wikidata entry found for Finding Nemo\n"
          ]
        },
        {
          "output_type": "stream",
          "name": "stderr",
          "text": [
            "Processing Movies:   1%|          | 20/2000 [00:07<03:51,  8.55it/s]"
          ]
        },
        {
          "output_type": "stream",
          "name": "stdout",
          "text": [
            "No Wikidata entry found for The Endless Summer\n"
          ]
        },
        {
          "output_type": "stream",
          "name": "stderr",
          "text": [
            "Processing Movies:   2%|▏         | 33/2000 [00:12<07:33,  4.34it/s]"
          ]
        },
        {
          "output_type": "stream",
          "name": "stdout",
          "text": [
            "No Wikidata entry found for Kill Bill: Vol. 1\n"
          ]
        },
        {
          "output_type": "stream",
          "name": "stderr",
          "text": [
            "Processing Movies:   2%|▏         | 49/2000 [00:14<04:13,  7.69it/s]"
          ]
        },
        {
          "output_type": "stream",
          "name": "stdout",
          "text": [
            "No Wikidata entry found for The Simpsons Movie\n"
          ]
        },
        {
          "output_type": "stream",
          "name": "stderr",
          "text": [
            "Processing Movies:   3%|▎         | 59/2000 [00:19<19:10,  1.69it/s]"
          ]
        },
        {
          "output_type": "stream",
          "name": "stdout",
          "text": [
            "No Wikidata entry found for Amores Perros\n"
          ]
        },
        {
          "output_type": "stream",
          "name": "stderr",
          "text": [
            "Processing Movies:   3%|▎         | 61/2000 [00:20<17:33,  1.84it/s]"
          ]
        },
        {
          "output_type": "stream",
          "name": "stdout",
          "text": [
            "No Wikidata entry found for Twelve Monkeys\n"
          ]
        },
        {
          "output_type": "stream",
          "name": "stderr",
          "text": [
            "Processing Movies:   4%|▍         | 81/2000 [00:25<09:43,  3.29it/s]"
          ]
        },
        {
          "output_type": "stream",
          "name": "stdout",
          "text": [
            "No Wikidata entry found for Nausicaä of the Valley of the Wind\n"
          ]
        },
        {
          "output_type": "stream",
          "name": "stderr",
          "text": [
            "Processing Movies:   4%|▍         | 84/2000 [00:26<07:41,  4.15it/s]"
          ]
        },
        {
          "output_type": "stream",
          "name": "stdout",
          "text": [
            "No Wikidata entry found for The Elementary Particles\n"
          ]
        },
        {
          "output_type": "stream",
          "name": "stderr",
          "text": [
            "Processing Movies:   4%|▍         | 90/2000 [00:27<05:13,  6.09it/s]"
          ]
        },
        {
          "output_type": "stream",
          "name": "stdout",
          "text": [
            "No Wikidata entry found for Land Without Bread\n",
            "No Wikidata entry found for Kunstgriff\n"
          ]
        },
        {
          "output_type": "stream",
          "name": "stderr",
          "text": [
            "Processing Movies:   5%|▍         | 95/2000 [00:28<05:50,  5.44it/s]"
          ]
        },
        {
          "output_type": "stream",
          "name": "stdout",
          "text": [
            "No Wikidata entry found for Tron\n"
          ]
        },
        {
          "output_type": "stream",
          "name": "stderr",
          "text": [
            "Processing Movies:   5%|▌         | 103/2000 [00:34<14:25,  2.19it/s]"
          ]
        },
        {
          "output_type": "stream",
          "name": "stdout",
          "text": [
            "No Wikidata entry found for Three Colors: Blue\n",
            "No Wikidata entry found for Three Colors: White\n"
          ]
        },
        {
          "output_type": "stream",
          "name": "stderr",
          "text": [
            "\rProcessing Movies:   5%|▌         | 105/2000 [00:34<10:11,  3.10it/s]"
          ]
        },
        {
          "output_type": "stream",
          "name": "stdout",
          "text": [
            "No Wikidata entry found for Three Colors: Red\n"
          ]
        },
        {
          "output_type": "stream",
          "name": "stderr",
          "text": [
            "Processing Movies:   6%|▌         | 124/2000 [00:39<07:23,  4.23it/s]"
          ]
        },
        {
          "output_type": "stream",
          "name": "stdout",
          "text": [
            "No Wikidata entry found for Railway Station\n"
          ]
        },
        {
          "output_type": "stream",
          "name": "stderr",
          "text": [
            "Processing Movies:   6%|▋         | 128/2000 [00:40<05:34,  5.60it/s]"
          ]
        },
        {
          "output_type": "stream",
          "name": "stdout",
          "text": [
            "No Wikidata entry found for Princess Mononoke\n",
            "No Wikidata entry found for Spirited Away\n"
          ]
        },
        {
          "output_type": "stream",
          "name": "stderr",
          "text": [
            "Processing Movies:   7%|▋         | 134/2000 [00:42<08:58,  3.47it/s]"
          ]
        },
        {
          "output_type": "stream",
          "name": "stdout",
          "text": [
            "No Wikidata entry found for Bob Dylan - Dont Look Back\n",
            "No Wikidata entry found for Mifune\n"
          ]
        },
        {
          "output_type": "stream",
          "name": "stderr",
          "text": [
            "Processing Movies:   8%|▊         | 156/2000 [00:48<06:46,  4.54it/s]"
          ]
        },
        {
          "output_type": "stream",
          "name": "stdout",
          "text": [
            "No Wikidata entry found for Maybe... Maybe Not\n"
          ]
        },
        {
          "output_type": "stream",
          "name": "stderr",
          "text": [
            "\rProcessing Movies:   8%|▊         | 157/2000 [00:49<08:21,  3.67it/s]"
          ]
        },
        {
          "output_type": "stream",
          "name": "stdout",
          "text": [
            "No Wikidata entry found for The Arrival of a Train at La Ciotat\n"
          ]
        },
        {
          "output_type": "stream",
          "name": "stderr",
          "text": [
            "Processing Movies:   8%|▊         | 161/2000 [00:50<08:24,  3.65it/s]"
          ]
        },
        {
          "output_type": "stream",
          "name": "stdout",
          "text": [
            "No Wikidata entry found for Back to the Future Part II\n"
          ]
        },
        {
          "output_type": "stream",
          "name": "stderr",
          "text": [
            "Processing Movies:   8%|▊         | 168/2000 [00:52<11:53,  2.57it/s]"
          ]
        },
        {
          "output_type": "stream",
          "name": "stdout",
          "text": [
            "No Wikidata entry found for The Party 2\n"
          ]
        },
        {
          "output_type": "stream",
          "name": "stderr",
          "text": [
            "Processing Movies:   9%|▉         | 186/2000 [00:56<08:19,  3.63it/s]"
          ]
        },
        {
          "output_type": "stream",
          "name": "stdout",
          "text": [
            "No Wikidata entry found for Das Dorf der Freundschaft\n"
          ]
        },
        {
          "output_type": "stream",
          "name": "stderr",
          "text": [
            "\rProcessing Movies:   9%|▉         | 187/2000 [00:56<07:19,  4.13it/s]"
          ]
        },
        {
          "output_type": "stream",
          "name": "stdout",
          "text": [
            "No Wikidata entry found for Star Trek: Generations\n",
            "No Wikidata entry found for Back to the Future Part III\n"
          ]
        },
        {
          "output_type": "stream",
          "name": "stderr",
          "text": [
            "Processing Movies:  11%|█         | 217/2000 [01:04<05:07,  5.80it/s]"
          ]
        },
        {
          "output_type": "stream",
          "name": "stdout",
          "text": [
            "No Wikidata entry found for Berlin: Symphony of a Great City\n"
          ]
        },
        {
          "output_type": "stream",
          "name": "stderr",
          "text": [
            "Processing Movies:  11%|█▏        | 225/2000 [01:06<08:15,  3.58it/s]"
          ]
        },
        {
          "output_type": "stream",
          "name": "stdout",
          "text": [
            "No Wikidata entry found for The Bride of Frankenstein\n"
          ]
        },
        {
          "output_type": "stream",
          "name": "stderr",
          "text": [
            "Processing Movies:  13%|█▎        | 252/2000 [01:14<09:39,  3.02it/s]"
          ]
        },
        {
          "output_type": "stream",
          "name": "stdout",
          "text": [
            "No Wikidata entry found for Antoine and Colette\n"
          ]
        },
        {
          "output_type": "stream",
          "name": "stderr",
          "text": [
            "Processing Movies:  13%|█▎        | 264/2000 [01:17<04:53,  5.91it/s]"
          ]
        },
        {
          "output_type": "stream",
          "name": "stdout",
          "text": [
            "No Wikidata entry found for Wir sagen Du! Schatz.\n"
          ]
        },
        {
          "output_type": "stream",
          "name": "stderr",
          "text": [
            "\rProcessing Movies:  13%|█▎        | 265/2000 [01:17<06:30,  4.45it/s]"
          ]
        },
        {
          "output_type": "stream",
          "name": "stdout",
          "text": [
            "No Wikidata entry found for Ronia, The Robber's Daughter\n"
          ]
        },
        {
          "output_type": "stream",
          "name": "stderr",
          "text": [
            "Processing Movies:  14%|█▍        | 278/2000 [01:21<08:26,  3.40it/s]"
          ]
        },
        {
          "output_type": "stream",
          "name": "stdout",
          "text": [
            "No Wikidata entry found for Germany: A Summer's Fairytale\n"
          ]
        },
        {
          "output_type": "stream",
          "name": "stderr",
          "text": [
            "Processing Movies:  16%|█▌        | 311/2000 [01:29<04:39,  6.05it/s]"
          ]
        },
        {
          "output_type": "stream",
          "name": "stdout",
          "text": [
            "No Wikidata entry found for Grbavica: The Land of My Dreams\n"
          ]
        },
        {
          "output_type": "stream",
          "name": "stderr",
          "text": [
            "Processing Movies:  16%|█▌        | 322/2000 [01:32<07:18,  3.82it/s]"
          ]
        },
        {
          "output_type": "stream",
          "name": "stdout",
          "text": [
            "No Wikidata entry found for Inspector Gadget\n"
          ]
        },
        {
          "output_type": "stream",
          "name": "stderr",
          "text": [
            "Processing Movies:  16%|█▋        | 326/2000 [01:33<05:30,  5.07it/s]"
          ]
        },
        {
          "output_type": "stream",
          "name": "stdout",
          "text": [
            "No Wikidata entry found for Duck, You Sucker\n"
          ]
        },
        {
          "output_type": "stream",
          "name": "stderr",
          "text": [
            "\rProcessing Movies:  16%|█▋        | 329/2000 [01:34<09:04,  3.07it/s]"
          ]
        },
        {
          "output_type": "stream",
          "name": "stdout",
          "text": [
            "No Wikidata entry found for Night on Earth\n",
            "No Wikidata entry found for Good Bye, Lenin!\n"
          ]
        },
        {
          "output_type": "stream",
          "name": "stderr",
          "text": [
            "Processing Movies:  17%|█▋        | 333/2000 [01:35<07:06,  3.91it/s]"
          ]
        },
        {
          "output_type": "stream",
          "name": "stdout",
          "text": [
            "No Wikidata entry found for Bang, Boom, Bang\n"
          ]
        },
        {
          "output_type": "stream",
          "name": "stderr",
          "text": [
            "Processing Movies:  17%|█▋        | 345/2000 [01:37<02:55,  9.42it/s]"
          ]
        },
        {
          "output_type": "stream",
          "name": "stdout",
          "text": [
            "No Wikidata entry found for Cockles and Muscles\n"
          ]
        },
        {
          "output_type": "stream",
          "name": "stderr",
          "text": [
            "Processing Movies:  19%|█▉        | 387/2000 [01:46<05:11,  5.17it/s]"
          ]
        },
        {
          "output_type": "stream",
          "name": "stdout",
          "text": [
            "No Wikidata entry found for Kill Bill: Vol. 2\n",
            "No Wikidata entry found for AVP: Alien vs. Predator\n"
          ]
        },
        {
          "output_type": "stream",
          "name": "stderr",
          "text": [
            "Processing Movies:  20%|█▉        | 393/2000 [01:48<07:15,  3.69it/s]"
          ]
        },
        {
          "output_type": "stream",
          "name": "stdout",
          "text": [
            "No Wikidata entry found for The Straight Story\n"
          ]
        },
        {
          "output_type": "stream",
          "name": "stderr",
          "text": [
            "Processing Movies:  20%|██        | 406/2000 [01:50<03:43,  7.13it/s]"
          ]
        },
        {
          "output_type": "stream",
          "name": "stdout",
          "text": [
            "No Wikidata entry found for The Chronicles of Narnia: The Lion, the Witch and the Wardrobe\n"
          ]
        },
        {
          "output_type": "stream",
          "name": "stderr",
          "text": [
            "Processing Movies:  21%|██        | 424/2000 [01:57<11:19,  2.32it/s]"
          ]
        },
        {
          "output_type": "stream",
          "name": "stdout",
          "text": [
            "No Wikidata entry found for Mary Poppins\n"
          ]
        },
        {
          "output_type": "stream",
          "name": "stderr",
          "text": [
            "Processing Movies:  22%|██▏       | 432/2000 [01:58<04:34,  5.72it/s]"
          ]
        },
        {
          "output_type": "stream",
          "name": "stdout",
          "text": [
            "No Wikidata entry found for Aliens vs Predator: Requiem\n"
          ]
        },
        {
          "output_type": "stream",
          "name": "stderr",
          "text": [
            "Processing Movies:  22%|██▏       | 449/2000 [02:02<04:19,  5.97it/s]"
          ]
        },
        {
          "output_type": "stream",
          "name": "stdout",
          "text": [
            "No Wikidata entry found for Sissi: The Young Empress\n"
          ]
        },
        {
          "output_type": "stream",
          "name": "stderr",
          "text": [
            "Processing Movies:  23%|██▎       | 451/2000 [02:02<04:57,  5.20it/s]"
          ]
        },
        {
          "output_type": "stream",
          "name": "stdout",
          "text": [
            "No Wikidata entry found for Sissi: The Fateful Years of an Empress\n"
          ]
        },
        {
          "output_type": "stream",
          "name": "stderr",
          "text": [
            "\rProcessing Movies:  23%|██▎       | 453/2000 [02:03<06:13,  4.15it/s]"
          ]
        },
        {
          "output_type": "stream",
          "name": "stdout",
          "text": [
            "No Wikidata entry found for Go for Zucker\n"
          ]
        },
        {
          "output_type": "stream",
          "name": "stderr",
          "text": [
            "Processing Movies:  23%|██▎       | 462/2000 [02:04<04:50,  5.30it/s]"
          ]
        },
        {
          "output_type": "stream",
          "name": "stdout",
          "text": [
            "No Wikidata entry found for Bandyta\n"
          ]
        },
        {
          "output_type": "stream",
          "name": "stderr",
          "text": [
            "Processing Movies:  24%|██▍       | 483/2000 [02:10<06:18,  4.00it/s]"
          ]
        },
        {
          "output_type": "stream",
          "name": "stdout",
          "text": [
            "No Wikidata entry found for Ghettokids - Brüder ohne Heimat\n"
          ]
        },
        {
          "output_type": "stream",
          "name": "stderr",
          "text": [
            "Processing Movies:  24%|██▍       | 486/2000 [02:11<04:35,  5.50it/s]"
          ]
        },
        {
          "output_type": "stream",
          "name": "stdout",
          "text": [
            "No Wikidata entry found for Shaft's Big Score!\n"
          ]
        },
        {
          "output_type": "stream",
          "name": "stderr",
          "text": [
            "\rProcessing Movies:  24%|██▍       | 487/2000 [02:11<04:37,  5.46it/s]"
          ]
        },
        {
          "output_type": "stream",
          "name": "stdout",
          "text": [
            "No Wikidata entry found for Borat: Cultural Learnings of America for Make Benefit Glorious Nation of Kazakhstan\n"
          ]
        },
        {
          "output_type": "stream",
          "name": "stderr",
          "text": [
            "Processing Movies:  25%|██▍       | 493/2000 [02:14<08:33,  2.93it/s]"
          ]
        },
        {
          "output_type": "stream",
          "name": "stdout",
          "text": [
            "No Wikidata entry found for Fail Safe\n"
          ]
        },
        {
          "output_type": "stream",
          "name": "stderr",
          "text": [
            "Processing Movies:  26%|██▌       | 520/2000 [02:18<04:09,  5.94it/s]"
          ]
        },
        {
          "output_type": "stream",
          "name": "stdout",
          "text": [
            "No Wikidata entry found for A Grand Day Out\n"
          ]
        },
        {
          "output_type": "stream",
          "name": "stderr",
          "text": [
            "\rProcessing Movies:  26%|██▌       | 521/2000 [02:19<07:22,  3.34it/s]"
          ]
        },
        {
          "output_type": "stream",
          "name": "stdout",
          "text": [
            "No Wikidata entry found for The Wrong Trousers\n"
          ]
        },
        {
          "output_type": "stream",
          "name": "stderr",
          "text": [
            "\rProcessing Movies:  26%|██▌       | 522/2000 [02:19<06:53,  3.57it/s]"
          ]
        },
        {
          "output_type": "stream",
          "name": "stdout",
          "text": [
            "No Wikidata entry found for A Close Shave\n"
          ]
        },
        {
          "output_type": "stream",
          "name": "stderr",
          "text": [
            "\rProcessing Movies:  26%|██▌       | 523/2000 [02:20<08:40,  2.84it/s]"
          ]
        },
        {
          "output_type": "stream",
          "name": "stdout",
          "text": [
            "No Wikidata entry found for Wallace & Gromit: The Curse of the Were-Rabbit\n"
          ]
        },
        {
          "output_type": "stream",
          "name": "stderr",
          "text": [
            "Processing Movies:  26%|██▋       | 526/2000 [02:21<05:57,  4.12it/s]"
          ]
        },
        {
          "output_type": "stream",
          "name": "stdout",
          "text": [
            "No Wikidata entry found for Stuttgart Shanghai\n",
            "No Wikidata entry found for Janine F.\n"
          ]
        },
        {
          "output_type": "stream",
          "name": "stderr",
          "text": [
            "Processing Movies:  27%|██▋       | 532/2000 [02:23<08:26,  2.90it/s]"
          ]
        },
        {
          "output_type": "stream",
          "name": "stdout",
          "text": [
            "No Wikidata entry found for The Crime of Padre Amaro\n"
          ]
        },
        {
          "output_type": "stream",
          "name": "stderr",
          "text": [
            "Processing Movies:  27%|██▋       | 548/2000 [02:27<06:34,  3.68it/s]"
          ]
        },
        {
          "output_type": "stream",
          "name": "stdout",
          "text": [
            "No Wikidata entry found for Secret Beyond the Door...\n"
          ]
        },
        {
          "output_type": "stream",
          "name": "stderr",
          "text": [
            "Processing Movies:  29%|██▊       | 573/2000 [02:33<05:47,  4.11it/s]"
          ]
        },
        {
          "output_type": "stream",
          "name": "stdout",
          "text": [
            "No Wikidata entry found for Life of Brian\n",
            "No Wikidata entry found for Monsters, Inc.\n"
          ]
        },
        {
          "output_type": "stream",
          "name": "stderr",
          "text": [
            "Processing Movies:  30%|███       | 608/2000 [02:43<04:36,  5.04it/s]"
          ]
        },
        {
          "output_type": "stream",
          "name": "stdout",
          "text": [
            "No Wikidata entry found for Ghostbusters\n"
          ]
        },
        {
          "output_type": "stream",
          "name": "stderr",
          "text": [
            "Processing Movies:  31%|███       | 611/2000 [02:45<06:54,  3.35it/s]"
          ]
        },
        {
          "output_type": "stream",
          "name": "stdout",
          "text": [
            "No Wikidata entry found for Un Chien Andalou\n"
          ]
        },
        {
          "output_type": "stream",
          "name": "stderr",
          "text": [
            "Processing Movies:  31%|███       | 618/2000 [02:47<06:16,  3.67it/s]"
          ]
        },
        {
          "output_type": "stream",
          "name": "stdout",
          "text": [
            "No Wikidata entry found for Sunrise: A Song of Two Humans\n"
          ]
        },
        {
          "output_type": "stream",
          "name": "stderr",
          "text": [
            "Processing Movies:  31%|███▏      | 625/2000 [02:49<07:51,  2.92it/s]"
          ]
        },
        {
          "output_type": "stream",
          "name": "stdout",
          "text": [
            "No Wikidata entry found for When Harry Met Sally...\n"
          ]
        },
        {
          "output_type": "stream",
          "name": "stderr",
          "text": [
            "Processing Movies:  32%|███▏      | 637/2000 [02:53<05:48,  3.91it/s]"
          ]
        },
        {
          "output_type": "stream",
          "name": "stdout",
          "text": [
            "No Wikidata entry found for Final Fantasy VII: Advent Children\n"
          ]
        },
        {
          "output_type": "stream",
          "name": "stderr",
          "text": [
            "Processing Movies:  32%|███▏      | 639/2000 [02:53<04:58,  4.56it/s]"
          ]
        },
        {
          "output_type": "stream",
          "name": "stdout",
          "text": [
            "No Wikidata entry found for M*A*S*H\n"
          ]
        },
        {
          "output_type": "stream",
          "name": "stderr",
          "text": [
            "Processing Movies:  32%|███▏      | 648/2000 [02:56<06:21,  3.54it/s]"
          ]
        },
        {
          "output_type": "stream",
          "name": "stdout",
          "text": [
            "No Wikidata entry found for La Jetée\n"
          ]
        },
        {
          "output_type": "stream",
          "name": "stderr",
          "text": [
            "Processing Movies:  33%|███▎      | 662/2000 [02:59<05:54,  3.78it/s]"
          ]
        },
        {
          "output_type": "stream",
          "name": "stdout",
          "text": [
            "No Wikidata entry found for Harry Potter and the Prisoner of Azkaban\n"
          ]
        },
        {
          "output_type": "stream",
          "name": "stderr",
          "text": [
            "Processing Movies:  34%|███▍      | 685/2000 [03:07<06:37,  3.31it/s]"
          ]
        },
        {
          "output_type": "stream",
          "name": "stdout",
          "text": [
            "No Wikidata entry found for October (Ten Days that Shook the World)\n"
          ]
        },
        {
          "output_type": "stream",
          "name": "stderr",
          "text": [
            "Processing Movies:  37%|███▋      | 734/2000 [03:16<05:50,  3.62it/s]"
          ]
        },
        {
          "output_type": "stream",
          "name": "stdout",
          "text": [
            "No Wikidata entry found for Train Birds\n"
          ]
        },
        {
          "output_type": "stream",
          "name": "stderr",
          "text": [
            "Processing Movies:  37%|███▋      | 740/2000 [03:17<04:18,  4.87it/s]"
          ]
        },
        {
          "output_type": "stream",
          "name": "stdout",
          "text": [
            "No Wikidata entry found for Murder She Said\n"
          ]
        },
        {
          "output_type": "stream",
          "name": "stderr",
          "text": [
            "Processing Movies:  37%|███▋      | 748/2000 [03:20<04:51,  4.29it/s]"
          ]
        },
        {
          "output_type": "stream",
          "name": "stdout",
          "text": [
            "No Wikidata entry found for Murder Ahoy\n"
          ]
        },
        {
          "output_type": "stream",
          "name": "stderr",
          "text": [
            "Processing Movies:  38%|███▊      | 750/2000 [03:20<04:44,  4.39it/s]"
          ]
        },
        {
          "output_type": "stream",
          "name": "stdout",
          "text": [
            "No Wikidata entry found for The Wing or the Thigh?\n"
          ]
        },
        {
          "output_type": "stream",
          "name": "stderr",
          "text": [
            "\rProcessing Movies:  38%|███▊      | 752/2000 [03:21<06:57,  2.99it/s]"
          ]
        },
        {
          "output_type": "stream",
          "name": "stdout",
          "text": [
            "No Wikidata entry found for Monty Python and the Holy Grail\n"
          ]
        },
        {
          "output_type": "stream",
          "name": "stderr",
          "text": [
            "Processing Movies:  38%|███▊      | 758/2000 [03:23<04:37,  4.47it/s]"
          ]
        },
        {
          "output_type": "stream",
          "name": "stdout",
          "text": [
            "No Wikidata entry found for GoodFellas\n"
          ]
        },
        {
          "output_type": "stream",
          "name": "stderr",
          "text": [
            "Processing Movies:  38%|███▊      | 766/2000 [03:26<06:18,  3.26it/s]"
          ]
        },
        {
          "output_type": "stream",
          "name": "stdout",
          "text": [
            "No Wikidata entry found for Monsieur Hulot's Holiday\n",
            "No Wikidata entry found for Workers Leaving the Lumière Factory\n"
          ]
        },
        {
          "output_type": "stream",
          "name": "stderr",
          "text": [
            "\rProcessing Movies:  38%|███▊      | 769/2000 [03:26<03:18,  6.21it/s]"
          ]
        },
        {
          "output_type": "stream",
          "name": "stdout",
          "text": [
            "No Wikidata entry found for The Passion of Joan of Arc\n",
            "No Wikidata entry found for Wintersleepers\n"
          ]
        },
        {
          "output_type": "stream",
          "name": "stderr",
          "text": [
            "Processing Movies:  39%|███▉      | 775/2000 [03:28<05:47,  3.53it/s]"
          ]
        },
        {
          "output_type": "stream",
          "name": "stdout",
          "text": [
            "No Wikidata entry found for Kuhle Wampe or Who Owns the World?\n"
          ]
        },
        {
          "output_type": "stream",
          "name": "stderr",
          "text": [
            "Processing Movies:  39%|███▉      | 787/2000 [03:33<09:07,  2.21it/s]"
          ]
        },
        {
          "output_type": "stream",
          "name": "stdout",
          "text": [
            "No Wikidata entry found for The Young and the Damned\n"
          ]
        },
        {
          "output_type": "stream",
          "name": "stderr",
          "text": [
            "Processing Movies:  40%|███▉      | 796/2000 [03:36<05:05,  3.94it/s]"
          ]
        },
        {
          "output_type": "stream",
          "name": "stdout",
          "text": [
            "No Wikidata entry found for Shrek\n",
            "No Wikidata entry found for Shrek 2\n",
            "No Wikidata entry found for Se7en\n"
          ]
        },
        {
          "output_type": "stream",
          "name": "stderr",
          "text": [
            "\rProcessing Movies:  40%|███▉      | 799/2000 [03:36<03:14,  6.17it/s]"
          ]
        },
        {
          "output_type": "stream",
          "name": "stdout",
          "text": [
            "No Wikidata entry found for Shrek the Third\n"
          ]
        },
        {
          "output_type": "stream",
          "name": "stderr",
          "text": [
            "Processing Movies:  40%|████      | 810/2000 [03:41<10:05,  1.96it/s]"
          ]
        },
        {
          "output_type": "stream",
          "name": "stdout",
          "text": [
            "No Wikidata entry found for The Music Room\n"
          ]
        },
        {
          "output_type": "stream",
          "name": "stderr",
          "text": [
            "Processing Movies:  41%|████▏     | 825/2000 [03:44<03:24,  5.75it/s]"
          ]
        },
        {
          "output_type": "stream",
          "name": "stdout",
          "text": [
            "No Wikidata entry found for F.P.1 Doesn't Answer\n"
          ]
        },
        {
          "output_type": "stream",
          "name": "stderr",
          "text": [
            "Processing Movies:  42%|████▏     | 834/2000 [03:47<05:56,  3.27it/s]"
          ]
        },
        {
          "output_type": "stream",
          "name": "stdout",
          "text": [
            "No Wikidata entry found for The X Files\n"
          ]
        },
        {
          "output_type": "stream",
          "name": "stderr",
          "text": [
            "Processing Movies:  42%|████▏     | 842/2000 [03:50<06:07,  3.15it/s]"
          ]
        },
        {
          "output_type": "stream",
          "name": "stdout",
          "text": [
            "No Wikidata entry found for Who Framed Roger Rabbit\n"
          ]
        },
        {
          "output_type": "stream",
          "name": "stderr",
          "text": [
            "Processing Movies:  42%|████▎     | 850/2000 [03:52<08:48,  2.17it/s]"
          ]
        },
        {
          "output_type": "stream",
          "name": "stdout",
          "text": [
            "No Wikidata entry found for Toy Story 2\n",
            "No Wikidata entry found for Cool Runnings\n"
          ]
        },
        {
          "output_type": "stream",
          "name": "stderr",
          "text": [
            "Processing Movies:  43%|████▎     | 868/2000 [03:56<04:38,  4.07it/s]"
          ]
        },
        {
          "output_type": "stream",
          "name": "stdout",
          "text": [
            "No Wikidata entry found for Hook\n"
          ]
        },
        {
          "output_type": "stream",
          "name": "stderr",
          "text": [
            "Processing Movies:  44%|████▎     | 872/2000 [03:57<05:19,  3.53it/s]"
          ]
        },
        {
          "output_type": "stream",
          "name": "stdout",
          "text": [
            "No Wikidata entry found for Coffee and Cigarettes\n"
          ]
        },
        {
          "output_type": "stream",
          "name": "stderr",
          "text": [
            "Processing Movies:  44%|████▍     | 877/2000 [03:59<04:41,  3.99it/s]"
          ]
        },
        {
          "output_type": "stream",
          "name": "stdout",
          "text": [
            "No Wikidata entry found for The Flintstones\n"
          ]
        },
        {
          "output_type": "stream",
          "name": "stderr",
          "text": [
            "Processing Movies:  45%|████▍     | 893/2000 [04:04<04:23,  4.21it/s]"
          ]
        },
        {
          "output_type": "stream",
          "name": "stdout",
          "text": [
            "No Wikidata entry found for The Pride of the Firm\n"
          ]
        },
        {
          "output_type": "stream",
          "name": "stderr",
          "text": [
            "Processing Movies:  45%|████▌     | 909/2000 [04:08<04:29,  4.06it/s]"
          ]
        },
        {
          "output_type": "stream",
          "name": "stdout",
          "text": [
            "No Wikidata entry found for Cars\n"
          ]
        },
        {
          "output_type": "stream",
          "name": "stderr",
          "text": [
            "Processing Movies:  46%|████▌     | 915/2000 [04:10<06:04,  2.98it/s]"
          ]
        },
        {
          "output_type": "stream",
          "name": "stdout",
          "text": [
            "No Wikidata entry found for Gremlins\n"
          ]
        },
        {
          "output_type": "stream",
          "name": "stderr",
          "text": [
            "Processing Movies:  46%|████▌     | 922/2000 [04:11<02:48,  6.42it/s]"
          ]
        },
        {
          "output_type": "stream",
          "name": "stdout",
          "text": [
            "No Wikidata entry found for Hot Summer\n",
            "No Wikidata entry found for The Murderers Are Among Us\n"
          ]
        },
        {
          "output_type": "stream",
          "name": "stderr",
          "text": [
            "Processing Movies:  46%|████▋     | 925/2000 [04:13<07:13,  2.48it/s]"
          ]
        },
        {
          "output_type": "stream",
          "name": "stdout",
          "text": [
            "No Wikidata entry found for Dr. Strangelove or: How I Learned to Stop Worrying and Love the Bomb\n"
          ]
        },
        {
          "output_type": "stream",
          "name": "stderr",
          "text": [
            "Processing Movies:  47%|████▋     | 942/2000 [04:18<03:45,  4.69it/s]"
          ]
        },
        {
          "output_type": "stream",
          "name": "stdout",
          "text": [
            "No Wikidata entry found for Ice Age: The Meltdown\n",
            "No Wikidata entry found for Mission: Impossible II\n"
          ]
        },
        {
          "output_type": "stream",
          "name": "stderr",
          "text": [
            "Processing Movies:  48%|████▊     | 968/2000 [04:24<04:00,  4.30it/s]"
          ]
        },
        {
          "output_type": "stream",
          "name": "stdout",
          "text": [
            "No Wikidata entry found for Irreversible\n"
          ]
        },
        {
          "output_type": "stream",
          "name": "stderr",
          "text": [
            "Processing Movies:  49%|████▉     | 982/2000 [04:30<04:13,  4.02it/s]"
          ]
        },
        {
          "output_type": "stream",
          "name": "stdout",
          "text": [
            "No Wikidata entry found for Sherlock Jr.\n"
          ]
        },
        {
          "output_type": "stream",
          "name": "stderr",
          "text": [
            "Processing Movies:  52%|█████▏    | 1048/2000 [04:40<02:25,  6.53it/s]"
          ]
        },
        {
          "output_type": "stream",
          "name": "stdout",
          "text": [
            "No Wikidata entry found for Blow-Up\n"
          ]
        },
        {
          "output_type": "stream",
          "name": "stderr",
          "text": [
            "Processing Movies:  62%|██████▏   | 1243/2000 [05:12<02:05,  6.05it/s]"
          ]
        },
        {
          "output_type": "stream",
          "name": "stdout",
          "text": [
            "No Wikidata entry found for Don't Worry, I'm Fine\n"
          ]
        },
        {
          "output_type": "stream",
          "name": "stderr",
          "text": [
            "Processing Movies:  62%|██████▏   | 1249/2000 [05:14<04:24,  2.84it/s]"
          ]
        },
        {
          "output_type": "stream",
          "name": "stdout",
          "text": [
            "No Wikidata entry found for Dead in 3 days\n"
          ]
        },
        {
          "output_type": "stream",
          "name": "stderr",
          "text": [
            "Processing Movies:  63%|██████▎   | 1253/2000 [05:15<02:21,  5.27it/s]"
          ]
        },
        {
          "output_type": "stream",
          "name": "stdout",
          "text": [
            "No Wikidata entry found for Lotte from Gadgetville\n",
            "No Wikidata entry found for The Wild Soccer Bunch 4\n"
          ]
        },
        {
          "output_type": "stream",
          "name": "stderr",
          "text": [
            "Processing Movies:  63%|██████▎   | 1261/2000 [05:16<02:00,  6.11it/s]"
          ]
        },
        {
          "output_type": "stream",
          "name": "stdout",
          "text": [
            "No Wikidata entry found for Meet the Robinsons\n"
          ]
        },
        {
          "output_type": "stream",
          "name": "stderr",
          "text": [
            "Processing Movies:  63%|██████▎   | 1264/2000 [05:17<03:03,  4.00it/s]"
          ]
        },
        {
          "output_type": "stream",
          "name": "stdout",
          "text": [
            "No Wikidata entry found for The Vexxer\n"
          ]
        },
        {
          "output_type": "stream",
          "name": "stderr",
          "text": [
            "Processing Movies:  63%|██████▎   | 1267/2000 [05:18<02:41,  4.54it/s]"
          ]
        },
        {
          "output_type": "stream",
          "name": "stdout",
          "text": [
            "No Wikidata entry found for Gloomy Sunday\n"
          ]
        },
        {
          "output_type": "stream",
          "name": "stderr",
          "text": [
            "Processing Movies:  64%|██████▍   | 1275/2000 [05:19<01:24,  8.62it/s]"
          ]
        },
        {
          "output_type": "stream",
          "name": "stdout",
          "text": [
            "No Wikidata entry found for Torrente, the Dumb Arm of the Law\n"
          ]
        },
        {
          "output_type": "stream",
          "name": "stderr",
          "text": [
            "\rProcessing Movies:  64%|██████▍   | 1277/2000 [05:20<02:09,  5.58it/s]"
          ]
        },
        {
          "output_type": "stream",
          "name": "stdout",
          "text": [
            "No Wikidata entry found for Torrente 2: Mission in Marbella\n"
          ]
        },
        {
          "output_type": "stream",
          "name": "stderr",
          "text": [
            "Processing Movies:  64%|██████▍   | 1282/2000 [05:20<01:21,  8.86it/s]"
          ]
        },
        {
          "output_type": "stream",
          "name": "stdout",
          "text": [
            "No Wikidata entry found for Torrente 3: The Protector\n"
          ]
        },
        {
          "output_type": "stream",
          "name": "stderr",
          "text": [
            "Processing Movies:  67%|██████▋   | 1349/2000 [05:30<02:27,  4.41it/s]"
          ]
        },
        {
          "output_type": "stream",
          "name": "stdout",
          "text": [
            "No Wikidata entry found for The Hobbit\n",
            "No Wikidata entry found for Sex and Lucía\n"
          ]
        },
        {
          "output_type": "stream",
          "name": "stderr",
          "text": [
            "Processing Movies:  69%|██████▉   | 1376/2000 [05:37<03:18,  3.15it/s]"
          ]
        },
        {
          "output_type": "stream",
          "name": "stdout",
          "text": [
            "No Wikidata entry found for The Way Things Go\n"
          ]
        },
        {
          "output_type": "stream",
          "name": "stderr",
          "text": [
            "\rProcessing Movies:  69%|██████▉   | 1377/2000 [05:38<03:23,  3.06it/s]"
          ]
        },
        {
          "output_type": "stream",
          "name": "stdout",
          "text": [
            "No Wikidata entry found for Y Tu Mamá También\n"
          ]
        },
        {
          "output_type": "stream",
          "name": "stderr",
          "text": [
            "\rProcessing Movies:  69%|██████▉   | 1379/2000 [05:38<02:48,  3.70it/s]"
          ]
        },
        {
          "output_type": "stream",
          "name": "stdout",
          "text": [
            "No Wikidata entry found for Born Into Brothels: Calcutta's Red Light Kids\n"
          ]
        },
        {
          "output_type": "stream",
          "name": "stderr",
          "text": [
            "Processing Movies:  69%|██████▉   | 1388/2000 [05:40<01:39,  6.15it/s]"
          ]
        },
        {
          "output_type": "stream",
          "name": "stdout",
          "text": [
            "No Wikidata entry found for Wege Gottes\n"
          ]
        },
        {
          "output_type": "stream",
          "name": "stderr",
          "text": [
            "Processing Movies:  70%|███████   | 1402/2000 [05:44<02:14,  4.43it/s]"
          ]
        },
        {
          "output_type": "stream",
          "name": "stdout",
          "text": [
            "No Wikidata entry found for sex, lies, and videotape\n"
          ]
        },
        {
          "output_type": "stream",
          "name": "stderr",
          "text": [
            "Processing Movies:  71%|███████   | 1414/2000 [05:47<01:43,  5.64it/s]"
          ]
        },
        {
          "output_type": "stream",
          "name": "stdout",
          "text": [
            "No Wikidata entry found for Flying Saucer Rock 'N' Roll\n"
          ]
        },
        {
          "output_type": "stream",
          "name": "stderr",
          "text": [
            "\rProcessing Movies:  71%|███████   | 1415/2000 [05:47<02:01,  4.82it/s]"
          ]
        },
        {
          "output_type": "stream",
          "name": "stdout",
          "text": [
            "No Wikidata entry found for Maria am Wasser\n"
          ]
        },
        {
          "output_type": "stream",
          "name": "stderr",
          "text": [
            "Processing Movies:  71%|███████   | 1423/2000 [05:49<03:44,  2.57it/s]"
          ]
        },
        {
          "output_type": "stream",
          "name": "stdout",
          "text": [
            "No Wikidata entry found for Regoch\n"
          ]
        },
        {
          "output_type": "stream",
          "name": "stderr",
          "text": [
            "Processing Movies:  72%|███████▏  | 1448/2000 [05:54<01:19,  6.97it/s]"
          ]
        },
        {
          "output_type": "stream",
          "name": "stdout",
          "text": [
            "No Wikidata entry found for Superman Returns\n"
          ]
        },
        {
          "output_type": "stream",
          "name": "stderr",
          "text": [
            "Processing Movies:  74%|███████▎  | 1472/2000 [05:58<01:41,  5.21it/s]"
          ]
        },
        {
          "output_type": "stream",
          "name": "stdout",
          "text": [
            "No Wikidata entry found for The Deathmaker\n",
            "No Wikidata entry found for Begotten\n"
          ]
        },
        {
          "output_type": "stream",
          "name": "stderr",
          "text": [
            "Processing Movies:  74%|███████▍  | 1479/2000 [06:00<03:11,  2.72it/s]"
          ]
        },
        {
          "output_type": "stream",
          "name": "stdout",
          "text": [
            "No Wikidata entry found for 1492: Conquest of Paradise\n",
            "No Wikidata entry found for Singendes Wasser\n"
          ]
        },
        {
          "output_type": "stream",
          "name": "stderr",
          "text": [
            "Processing Movies:  74%|███████▍  | 1485/2000 [06:01<01:36,  5.34it/s]"
          ]
        },
        {
          "output_type": "stream",
          "name": "stdout",
          "text": [
            "No Wikidata entry found for Teenage Mutant Ninja Turtles II: The Secret of the Ooze\n"
          ]
        },
        {
          "output_type": "stream",
          "name": "stderr",
          "text": [
            "Processing Movies:  75%|███████▍  | 1493/2000 [06:02<00:57,  8.83it/s]"
          ]
        },
        {
          "output_type": "stream",
          "name": "stdout",
          "text": [
            "No Wikidata entry found for Teenage Mutant Ninja Turtles\n"
          ]
        },
        {
          "output_type": "stream",
          "name": "stderr",
          "text": [
            "Processing Movies:  75%|███████▍  | 1498/2000 [06:03<01:05,  7.69it/s]"
          ]
        },
        {
          "output_type": "stream",
          "name": "stdout",
          "text": [
            "No Wikidata entry found for Teenage Mutant Ninja Turtles III\n"
          ]
        },
        {
          "output_type": "stream",
          "name": "stderr",
          "text": [
            "Processing Movies:  77%|███████▋  | 1543/2000 [06:14<02:19,  3.27it/s]"
          ]
        },
        {
          "output_type": "stream",
          "name": "stdout",
          "text": [
            "No Wikidata entry found for The Spanish Apartment\n"
          ]
        },
        {
          "output_type": "stream",
          "name": "stderr",
          "text": [
            "Processing Movies:  78%|███████▊  | 1559/2000 [06:18<02:35,  2.83it/s]"
          ]
        },
        {
          "output_type": "stream",
          "name": "stdout",
          "text": [
            "No Wikidata entry found for Die Hard: With a Vengeance\n"
          ]
        },
        {
          "output_type": "stream",
          "name": "stderr",
          "text": [
            "Processing Movies:  79%|███████▉  | 1579/2000 [06:24<02:18,  3.04it/s]"
          ]
        },
        {
          "output_type": "stream",
          "name": "stdout",
          "text": [
            "No Wikidata entry found for The Boys & Girl from County Clare\n"
          ]
        },
        {
          "output_type": "stream",
          "name": "stderr",
          "text": [
            "Processing Movies:  80%|███████▉  | 1593/2000 [06:27<01:30,  4.50it/s]"
          ]
        },
        {
          "output_type": "stream",
          "name": "stdout",
          "text": [
            "No Wikidata entry found for I ♥ Huckabees\n"
          ]
        },
        {
          "output_type": "stream",
          "name": "stderr",
          "text": [
            "Processing Movies:  80%|████████  | 1607/2000 [06:30<01:03,  6.23it/s]"
          ]
        },
        {
          "output_type": "stream",
          "name": "stdout",
          "text": [
            "No Wikidata entry found for Erkan & Stefan 2\n",
            "No Wikidata entry found for Erkan & Stefan 3\n"
          ]
        },
        {
          "output_type": "stream",
          "name": "stderr",
          "text": [
            "Processing Movies:  81%|████████  | 1617/2000 [06:33<01:37,  3.92it/s]"
          ]
        },
        {
          "output_type": "stream",
          "name": "stdout",
          "text": [
            "No Wikidata entry found for Vivre Sa Vie\n"
          ]
        },
        {
          "output_type": "stream",
          "name": "stderr",
          "text": [
            "Processing Movies:  82%|████████▏ | 1633/2000 [06:39<02:38,  2.31it/s]"
          ]
        },
        {
          "output_type": "stream",
          "name": "stdout",
          "text": [
            "No Wikidata entry found for Freedom Writers\n"
          ]
        },
        {
          "output_type": "stream",
          "name": "stderr",
          "text": [
            "Processing Movies:  82%|████████▏ | 1647/2000 [06:42<01:10,  5.02it/s]"
          ]
        },
        {
          "output_type": "stream",
          "name": "stdout",
          "text": [
            "No Wikidata entry found for 00 Schneider - Jagd auf Nihil Baxter\n"
          ]
        },
        {
          "output_type": "stream",
          "name": "stderr",
          "text": [
            "Processing Movies:  83%|████████▎ | 1663/2000 [06:46<02:01,  2.78it/s]"
          ]
        },
        {
          "output_type": "stream",
          "name": "stdout",
          "text": [
            "No Wikidata entry found for The Monster of Blackwood Castle\n"
          ]
        },
        {
          "output_type": "stream",
          "name": "stderr",
          "text": [
            "Processing Movies:  84%|████████▍ | 1675/2000 [06:50<01:14,  4.38it/s]"
          ]
        },
        {
          "output_type": "stream",
          "name": "stdout",
          "text": [
            "No Wikidata entry found for Prinzessinnenbad\n"
          ]
        },
        {
          "output_type": "stream",
          "name": "stderr",
          "text": [
            "Processing Movies:  85%|████████▌ | 1703/2000 [06:56<01:36,  3.08it/s]"
          ]
        },
        {
          "output_type": "stream",
          "name": "stdout",
          "text": [
            "No Wikidata entry found for No Code of Conduct\n"
          ]
        },
        {
          "output_type": "stream",
          "name": "stderr",
          "text": [
            "Processing Movies:  86%|████████▌ | 1712/2000 [06:58<00:45,  6.39it/s]"
          ]
        },
        {
          "output_type": "stream",
          "name": "stdout",
          "text": [
            "No Wikidata entry found for All the Way Boys\n"
          ]
        },
        {
          "output_type": "stream",
          "name": "stderr",
          "text": [
            "Processing Movies:  86%|████████▌ | 1715/2000 [07:00<01:39,  2.85it/s]"
          ]
        },
        {
          "output_type": "stream",
          "name": "stdout",
          "text": [
            "No Wikidata entry found for The Incredible Hulk\n"
          ]
        },
        {
          "output_type": "stream",
          "name": "stderr",
          "text": [
            "Processing Movies:  87%|████████▋ | 1737/2000 [07:04<00:43,  6.01it/s]"
          ]
        },
        {
          "output_type": "stream",
          "name": "stdout",
          "text": [
            "No Wikidata entry found for Weißer Holunder\n"
          ]
        },
        {
          "output_type": "stream",
          "name": "stderr",
          "text": [
            "Processing Movies:  89%|████████▉ | 1775/2000 [07:12<01:03,  3.56it/s]"
          ]
        },
        {
          "output_type": "stream",
          "name": "stdout",
          "text": [
            "No Wikidata entry found for Au Revoir les Enfants\n"
          ]
        },
        {
          "output_type": "stream",
          "name": "stderr",
          "text": [
            "Processing Movies:  90%|████████▉ | 1794/2000 [07:16<01:00,  3.41it/s]"
          ]
        },
        {
          "output_type": "stream",
          "name": "stdout",
          "text": [
            "No Wikidata entry found for La Ceremonie\n"
          ]
        },
        {
          "output_type": "stream",
          "name": "stderr",
          "text": [
            "Processing Movies:  90%|█████████ | 1803/2000 [07:18<00:50,  3.93it/s]"
          ]
        },
        {
          "output_type": "stream",
          "name": "stdout",
          "text": [
            "No Wikidata entry found for Schröders wunderbare Welt\n"
          ]
        },
        {
          "output_type": "stream",
          "name": "stderr",
          "text": [
            "Processing Movies:  91%|█████████▏| 1828/2000 [07:24<00:43,  3.96it/s]"
          ]
        },
        {
          "output_type": "stream",
          "name": "stdout",
          "text": [
            "No Wikidata entry found for We Shall Overcome\n"
          ]
        },
        {
          "output_type": "stream",
          "name": "stderr",
          "text": [
            "Processing Movies:  92%|█████████▏| 1830/2000 [07:25<00:42,  4.02it/s]"
          ]
        },
        {
          "output_type": "stream",
          "name": "stdout",
          "text": [
            "No Wikidata entry found for Dig!\n"
          ]
        },
        {
          "output_type": "stream",
          "name": "stderr",
          "text": [
            "Processing Movies:  92%|█████████▏| 1834/2000 [07:26<00:42,  3.91it/s]"
          ]
        },
        {
          "output_type": "stream",
          "name": "stdout",
          "text": [
            "No Wikidata entry found for TMNT\n"
          ]
        },
        {
          "output_type": "stream",
          "name": "stderr",
          "text": [
            "Processing Movies:  92%|█████████▏| 1837/2000 [07:27<00:44,  3.67it/s]"
          ]
        },
        {
          "output_type": "stream",
          "name": "stdout",
          "text": [
            "No Wikidata entry found for Poodle Springs\n"
          ]
        },
        {
          "output_type": "stream",
          "name": "stderr",
          "text": [
            "Processing Movies:  92%|█████████▏| 1840/2000 [07:28<00:45,  3.51it/s]"
          ]
        },
        {
          "output_type": "stream",
          "name": "stdout",
          "text": [
            "No Wikidata entry found for The Amazing Captain Nemo\n"
          ]
        },
        {
          "output_type": "stream",
          "name": "stderr",
          "text": [
            "Processing Movies:  92%|█████████▏| 1845/2000 [07:29<00:46,  3.32it/s]"
          ]
        },
        {
          "output_type": "stream",
          "name": "stdout",
          "text": [
            "No Wikidata entry found for ...But Johnny!\n"
          ]
        },
        {
          "output_type": "stream",
          "name": "stderr",
          "text": [
            "Processing Movies:  92%|█████████▏| 1847/2000 [07:30<00:54,  2.80it/s]"
          ]
        },
        {
          "output_type": "stream",
          "name": "stdout",
          "text": [
            "No Wikidata entry found for The Transformers: The Movie\n"
          ]
        },
        {
          "output_type": "stream",
          "name": "stderr",
          "text": [
            "Processing Movies:  93%|█████████▎| 1853/2000 [07:31<00:32,  4.54it/s]"
          ]
        },
        {
          "output_type": "stream",
          "name": "stdout",
          "text": [
            "No Wikidata entry found for Take The Bridge\n",
            "No Wikidata entry found for Berlin Tunnel 21\n"
          ]
        },
        {
          "output_type": "stream",
          "name": "stderr",
          "text": [
            "Processing Movies:  93%|█████████▎| 1860/2000 [07:33<00:52,  2.67it/s]"
          ]
        },
        {
          "output_type": "stream",
          "name": "stdout",
          "text": [
            "No Wikidata entry found for Fantomas Unleashed\n",
            "No Wikidata entry found for Ankle Bone\n"
          ]
        },
        {
          "output_type": "stream",
          "name": "stderr",
          "text": [
            "\rProcessing Movies:  93%|█████████▎| 1862/2000 [07:34<00:39,  3.53it/s]"
          ]
        },
        {
          "output_type": "stream",
          "name": "stdout",
          "text": [
            "No Wikidata entry found for Fantomas\n"
          ]
        },
        {
          "output_type": "stream",
          "name": "stderr",
          "text": [
            "Processing Movies:  93%|█████████▎| 1866/2000 [07:35<00:29,  4.47it/s]"
          ]
        },
        {
          "output_type": "stream",
          "name": "stdout",
          "text": [
            "No Wikidata entry found for Fantomas vs. Scotland Yard\n"
          ]
        },
        {
          "output_type": "stream",
          "name": "stderr",
          "text": [
            "\rProcessing Movies:  93%|█████████▎| 1867/2000 [07:35<00:32,  4.05it/s]"
          ]
        },
        {
          "output_type": "stream",
          "name": "stdout",
          "text": [
            "No Wikidata entry found for The Penalty King\n"
          ]
        },
        {
          "output_type": "stream",
          "name": "stderr",
          "text": [
            "Processing Movies:  94%|█████████▎| 1873/2000 [07:37<00:34,  3.63it/s]"
          ]
        },
        {
          "output_type": "stream",
          "name": "stdout",
          "text": [
            "No Wikidata entry found for Les yeux dans les Bleus\n"
          ]
        },
        {
          "output_type": "stream",
          "name": "stderr",
          "text": [
            "Processing Movies:  94%|█████████▍| 1876/2000 [07:37<00:27,  4.52it/s]"
          ]
        },
        {
          "output_type": "stream",
          "name": "stdout",
          "text": [
            "No Wikidata entry found for The Ewok Adventure\n"
          ]
        },
        {
          "output_type": "stream",
          "name": "stderr",
          "text": [
            "Processing Movies:  94%|█████████▍| 1878/2000 [07:38<00:40,  2.99it/s]"
          ]
        },
        {
          "output_type": "stream",
          "name": "stdout",
          "text": [
            "No Wikidata entry found for Place Your Bets, Ladies\n"
          ]
        },
        {
          "output_type": "stream",
          "name": "stderr",
          "text": [
            "Processing Movies:  94%|█████████▍| 1881/2000 [07:38<00:30,  3.94it/s]"
          ]
        },
        {
          "output_type": "stream",
          "name": "stdout",
          "text": [
            "No Wikidata entry found for The Empire Strikes Back\n"
          ]
        },
        {
          "output_type": "stream",
          "name": "stderr",
          "text": [
            "Processing Movies:  94%|█████████▍| 1884/2000 [07:39<00:25,  4.50it/s]"
          ]
        },
        {
          "output_type": "stream",
          "name": "stdout",
          "text": [
            "No Wikidata entry found for Star Wars: Episode I - The Phantom Menace\n",
            "No Wikidata entry found for Return of the Jedi\n"
          ]
        },
        {
          "output_type": "stream",
          "name": "stderr",
          "text": [
            "\rProcessing Movies:  94%|█████████▍| 1885/2000 [07:42<01:29,  1.29it/s]"
          ]
        },
        {
          "output_type": "stream",
          "name": "stdout",
          "text": [
            "No Wikidata entry found for Star Wars: Episode II - Attack of the Clones\n",
            "No Wikidata entry found for Salvador (Puig Antich)\n"
          ]
        },
        {
          "output_type": "stream",
          "name": "stderr",
          "text": [
            "Processing Movies:  94%|█████████▍| 1887/2000 [07:42<00:59,  1.90it/s]"
          ]
        },
        {
          "output_type": "stream",
          "name": "stdout",
          "text": [
            "No Wikidata entry found for Star Wars: Episode III - Revenge of the Sith\n"
          ]
        },
        {
          "output_type": "stream",
          "name": "stderr",
          "text": [
            "Processing Movies:  95%|█████████▍| 1892/2000 [07:44<00:39,  2.76it/s]"
          ]
        },
        {
          "output_type": "stream",
          "name": "stdout",
          "text": [
            "No Wikidata entry found for The Return of the King\n"
          ]
        },
        {
          "output_type": "stream",
          "name": "stderr",
          "text": [
            "Processing Movies:  96%|█████████▌| 1912/2000 [07:49<00:32,  2.69it/s]"
          ]
        },
        {
          "output_type": "stream",
          "name": "stdout",
          "text": [
            "No Wikidata entry found for Or (My Treasure)\n"
          ]
        },
        {
          "output_type": "stream",
          "name": "stderr",
          "text": [
            "Processing Movies:  96%|█████████▌| 1923/2000 [07:51<00:10,  7.47it/s]"
          ]
        },
        {
          "output_type": "stream",
          "name": "stdout",
          "text": [
            "No Wikidata entry found for 11'09''01 September 11\n"
          ]
        },
        {
          "output_type": "stream",
          "name": "stderr",
          "text": [
            "Processing Movies:  96%|█████████▋| 1930/2000 [07:53<00:19,  3.62it/s]"
          ]
        },
        {
          "output_type": "stream",
          "name": "stdout",
          "text": [
            "No Wikidata entry found for Bonjour Tristesse\n"
          ]
        },
        {
          "output_type": "stream",
          "name": "stderr",
          "text": [
            "Processing Movies:  97%|█████████▋| 1941/2000 [07:57<00:19,  3.07it/s]"
          ]
        },
        {
          "output_type": "stream",
          "name": "stdout",
          "text": [
            "No Wikidata entry found for eXistenZ\n"
          ]
        },
        {
          "output_type": "stream",
          "name": "stderr",
          "text": [
            "Processing Movies:  99%|█████████▉| 1976/2000 [08:05<00:05,  4.60it/s]"
          ]
        },
        {
          "output_type": "stream",
          "name": "stdout",
          "text": [
            "No Wikidata entry found for Bra Boys\n"
          ]
        },
        {
          "output_type": "stream",
          "name": "stderr",
          "text": [
            "Processing Movies:  99%|█████████▉| 1987/2000 [08:08<00:02,  5.67it/s]"
          ]
        },
        {
          "output_type": "stream",
          "name": "stdout",
          "text": [
            "No Wikidata entry found for Golden Door\n"
          ]
        },
        {
          "output_type": "stream",
          "name": "stderr",
          "text": [
            "\rProcessing Movies:  99%|█████████▉| 1988/2000 [08:08<00:02,  4.88it/s]"
          ]
        },
        {
          "output_type": "stream",
          "name": "stdout",
          "text": [
            "No Wikidata entry found for Lara Croft: Tomb Raider - The Cradle of Life\n"
          ]
        },
        {
          "output_type": "stream",
          "name": "stderr",
          "text": [
            "Processing Movies: 100%|█████████▉| 1997/2000 [09:31<00:00,  3.50it/s]\n"
          ]
        },
        {
          "output_type": "error",
          "ename": "KeyboardInterrupt",
          "evalue": "ignored",
          "traceback": [
            "\u001b[0;31m---------------------------------------------------------------------------\u001b[0m",
            "\u001b[0;31mKeyboardInterrupt\u001b[0m                         Traceback (most recent call last)",
            "\u001b[0;32m<ipython-input-14-3c52f904f4fe>\u001b[0m in \u001b[0;36m<cell line: 7>\u001b[0;34m()\u001b[0m\n\u001b[1;32m      9\u001b[0m \u001b[0;34m\u001b[0m\u001b[0m\n\u001b[0;32m---> 10\u001b[0;31m     \u001b[0;32mfor\u001b[0m \u001b[0mfuture\u001b[0m \u001b[0;32min\u001b[0m \u001b[0mtqdm\u001b[0m\u001b[0;34m(\u001b[0m\u001b[0mconcurrent\u001b[0m\u001b[0;34m.\u001b[0m\u001b[0mfutures\u001b[0m\u001b[0;34m.\u001b[0m\u001b[0mas_completed\u001b[0m\u001b[0;34m(\u001b[0m\u001b[0mfutures\u001b[0m\u001b[0;34m)\u001b[0m\u001b[0;34m,\u001b[0m \u001b[0mtotal\u001b[0m\u001b[0;34m=\u001b[0m\u001b[0mlen\u001b[0m\u001b[0;34m(\u001b[0m\u001b[0mids\u001b[0m\u001b[0;34m)\u001b[0m\u001b[0;34m,\u001b[0m \u001b[0mdesc\u001b[0m\u001b[0;34m=\u001b[0m\u001b[0;34m\"Processing Movies\"\u001b[0m\u001b[0;34m)\u001b[0m\u001b[0;34m:\u001b[0m\u001b[0;34m\u001b[0m\u001b[0;34m\u001b[0m\u001b[0m\n\u001b[0m\u001b[1;32m     11\u001b[0m         \u001b[0;32mtry\u001b[0m\u001b[0;34m:\u001b[0m\u001b[0;34m\u001b[0m\u001b[0;34m\u001b[0m\u001b[0m\n",
            "\u001b[0;32m/usr/local/lib/python3.10/dist-packages/tqdm/std.py\u001b[0m in \u001b[0;36m__iter__\u001b[0;34m(self)\u001b[0m\n\u001b[1;32m   1181\u001b[0m         \u001b[0;32mtry\u001b[0m\u001b[0;34m:\u001b[0m\u001b[0;34m\u001b[0m\u001b[0;34m\u001b[0m\u001b[0m\n\u001b[0;32m-> 1182\u001b[0;31m             \u001b[0;32mfor\u001b[0m \u001b[0mobj\u001b[0m \u001b[0;32min\u001b[0m \u001b[0miterable\u001b[0m\u001b[0;34m:\u001b[0m\u001b[0;34m\u001b[0m\u001b[0;34m\u001b[0m\u001b[0m\n\u001b[0m\u001b[1;32m   1183\u001b[0m                 \u001b[0;32myield\u001b[0m \u001b[0mobj\u001b[0m\u001b[0;34m\u001b[0m\u001b[0;34m\u001b[0m\u001b[0m\n",
            "\u001b[0;32m/usr/lib/python3.10/concurrent/futures/_base.py\u001b[0m in \u001b[0;36mas_completed\u001b[0;34m(fs, timeout)\u001b[0m\n\u001b[1;32m    244\u001b[0m \u001b[0;34m\u001b[0m\u001b[0m\n\u001b[0;32m--> 245\u001b[0;31m             \u001b[0mwaiter\u001b[0m\u001b[0;34m.\u001b[0m\u001b[0mevent\u001b[0m\u001b[0;34m.\u001b[0m\u001b[0mwait\u001b[0m\u001b[0;34m(\u001b[0m\u001b[0mwait_timeout\u001b[0m\u001b[0;34m)\u001b[0m\u001b[0;34m\u001b[0m\u001b[0;34m\u001b[0m\u001b[0m\n\u001b[0m\u001b[1;32m    246\u001b[0m \u001b[0;34m\u001b[0m\u001b[0m\n",
            "\u001b[0;32m/usr/lib/python3.10/threading.py\u001b[0m in \u001b[0;36mwait\u001b[0;34m(self, timeout)\u001b[0m\n\u001b[1;32m    606\u001b[0m             \u001b[0;32mif\u001b[0m \u001b[0;32mnot\u001b[0m \u001b[0msignaled\u001b[0m\u001b[0;34m:\u001b[0m\u001b[0;34m\u001b[0m\u001b[0;34m\u001b[0m\u001b[0m\n\u001b[0;32m--> 607\u001b[0;31m                 \u001b[0msignaled\u001b[0m \u001b[0;34m=\u001b[0m \u001b[0mself\u001b[0m\u001b[0;34m.\u001b[0m\u001b[0m_cond\u001b[0m\u001b[0;34m.\u001b[0m\u001b[0mwait\u001b[0m\u001b[0;34m(\u001b[0m\u001b[0mtimeout\u001b[0m\u001b[0;34m)\u001b[0m\u001b[0;34m\u001b[0m\u001b[0;34m\u001b[0m\u001b[0m\n\u001b[0m\u001b[1;32m    608\u001b[0m             \u001b[0;32mreturn\u001b[0m \u001b[0msignaled\u001b[0m\u001b[0;34m\u001b[0m\u001b[0;34m\u001b[0m\u001b[0m\n",
            "\u001b[0;32m/usr/lib/python3.10/threading.py\u001b[0m in \u001b[0;36mwait\u001b[0;34m(self, timeout)\u001b[0m\n\u001b[1;32m    319\u001b[0m             \u001b[0;32mif\u001b[0m \u001b[0mtimeout\u001b[0m \u001b[0;32mis\u001b[0m \u001b[0;32mNone\u001b[0m\u001b[0;34m:\u001b[0m\u001b[0;34m\u001b[0m\u001b[0;34m\u001b[0m\u001b[0m\n\u001b[0;32m--> 320\u001b[0;31m                 \u001b[0mwaiter\u001b[0m\u001b[0;34m.\u001b[0m\u001b[0macquire\u001b[0m\u001b[0;34m(\u001b[0m\u001b[0;34m)\u001b[0m\u001b[0;34m\u001b[0m\u001b[0;34m\u001b[0m\u001b[0m\n\u001b[0m\u001b[1;32m    321\u001b[0m                 \u001b[0mgotit\u001b[0m \u001b[0;34m=\u001b[0m \u001b[0;32mTrue\u001b[0m\u001b[0;34m\u001b[0m\u001b[0;34m\u001b[0m\u001b[0m\n",
            "\u001b[0;31mKeyboardInterrupt\u001b[0m: ",
            "\nDuring handling of the above exception, another exception occurred:\n",
            "\u001b[0;31mKeyboardInterrupt\u001b[0m                         Traceback (most recent call last)",
            "\u001b[0;32m<ipython-input-14-3c52f904f4fe>\u001b[0m in \u001b[0;36m<cell line: 7>\u001b[0;34m()\u001b[0m\n\u001b[1;32m      5\u001b[0m \u001b[0;34m\u001b[0m\u001b[0m\n\u001b[1;32m      6\u001b[0m \u001b[0mids\u001b[0m \u001b[0;34m=\u001b[0m \u001b[0mrange\u001b[0m\u001b[0;34m(\u001b[0m\u001b[0;36m1\u001b[0m\u001b[0;34m,\u001b[0m \u001b[0;36m2001\u001b[0m\u001b[0;34m)\u001b[0m\u001b[0;34m\u001b[0m\u001b[0;34m\u001b[0m\u001b[0m\n\u001b[0;32m----> 7\u001b[0;31m \u001b[0;32mwith\u001b[0m \u001b[0mconcurrent\u001b[0m\u001b[0;34m.\u001b[0m\u001b[0mfutures\u001b[0m\u001b[0;34m.\u001b[0m\u001b[0mThreadPoolExecutor\u001b[0m\u001b[0;34m(\u001b[0m\u001b[0mmax_workers\u001b[0m\u001b[0;34m=\u001b[0m\u001b[0mnum_workers\u001b[0m\u001b[0;34m)\u001b[0m \u001b[0;32mas\u001b[0m \u001b[0mexecutor\u001b[0m\u001b[0;34m:\u001b[0m\u001b[0;34m\u001b[0m\u001b[0;34m\u001b[0m\u001b[0m\n\u001b[0m\u001b[1;32m      8\u001b[0m     \u001b[0mfutures\u001b[0m \u001b[0;34m=\u001b[0m \u001b[0;34m[\u001b[0m\u001b[0mexecutor\u001b[0m\u001b[0;34m.\u001b[0m\u001b[0msubmit\u001b[0m\u001b[0;34m(\u001b[0m\u001b[0mcreate_movie_rdf_graph\u001b[0m\u001b[0;34m,\u001b[0m \u001b[0mmovie_id\u001b[0m\u001b[0;34m)\u001b[0m \u001b[0;32mfor\u001b[0m \u001b[0mmovie_id\u001b[0m \u001b[0;32min\u001b[0m \u001b[0mids\u001b[0m\u001b[0;34m]\u001b[0m\u001b[0;34m\u001b[0m\u001b[0;34m\u001b[0m\u001b[0m\n\u001b[1;32m      9\u001b[0m \u001b[0;34m\u001b[0m\u001b[0m\n",
            "\u001b[0;32m/usr/lib/python3.10/concurrent/futures/_base.py\u001b[0m in \u001b[0;36m__exit__\u001b[0;34m(self, exc_type, exc_val, exc_tb)\u001b[0m\n\u001b[1;32m    647\u001b[0m \u001b[0;34m\u001b[0m\u001b[0m\n\u001b[1;32m    648\u001b[0m     \u001b[0;32mdef\u001b[0m \u001b[0m__exit__\u001b[0m\u001b[0;34m(\u001b[0m\u001b[0mself\u001b[0m\u001b[0;34m,\u001b[0m \u001b[0mexc_type\u001b[0m\u001b[0;34m,\u001b[0m \u001b[0mexc_val\u001b[0m\u001b[0;34m,\u001b[0m \u001b[0mexc_tb\u001b[0m\u001b[0;34m)\u001b[0m\u001b[0;34m:\u001b[0m\u001b[0;34m\u001b[0m\u001b[0;34m\u001b[0m\u001b[0m\n\u001b[0;32m--> 649\u001b[0;31m         \u001b[0mself\u001b[0m\u001b[0;34m.\u001b[0m\u001b[0mshutdown\u001b[0m\u001b[0;34m(\u001b[0m\u001b[0mwait\u001b[0m\u001b[0;34m=\u001b[0m\u001b[0;32mTrue\u001b[0m\u001b[0;34m)\u001b[0m\u001b[0;34m\u001b[0m\u001b[0;34m\u001b[0m\u001b[0m\n\u001b[0m\u001b[1;32m    650\u001b[0m         \u001b[0;32mreturn\u001b[0m \u001b[0;32mFalse\u001b[0m\u001b[0;34m\u001b[0m\u001b[0;34m\u001b[0m\u001b[0m\n\u001b[1;32m    651\u001b[0m \u001b[0;34m\u001b[0m\u001b[0m\n",
            "\u001b[0;32m/usr/lib/python3.10/concurrent/futures/thread.py\u001b[0m in \u001b[0;36mshutdown\u001b[0;34m(self, wait, cancel_futures)\u001b[0m\n\u001b[1;32m    233\u001b[0m         \u001b[0;32mif\u001b[0m \u001b[0mwait\u001b[0m\u001b[0;34m:\u001b[0m\u001b[0;34m\u001b[0m\u001b[0;34m\u001b[0m\u001b[0m\n\u001b[1;32m    234\u001b[0m             \u001b[0;32mfor\u001b[0m \u001b[0mt\u001b[0m \u001b[0;32min\u001b[0m \u001b[0mself\u001b[0m\u001b[0;34m.\u001b[0m\u001b[0m_threads\u001b[0m\u001b[0;34m:\u001b[0m\u001b[0;34m\u001b[0m\u001b[0;34m\u001b[0m\u001b[0m\n\u001b[0;32m--> 235\u001b[0;31m                 \u001b[0mt\u001b[0m\u001b[0;34m.\u001b[0m\u001b[0mjoin\u001b[0m\u001b[0;34m(\u001b[0m\u001b[0;34m)\u001b[0m\u001b[0;34m\u001b[0m\u001b[0;34m\u001b[0m\u001b[0m\n\u001b[0m\u001b[1;32m    236\u001b[0m     \u001b[0mshutdown\u001b[0m\u001b[0;34m.\u001b[0m\u001b[0m__doc__\u001b[0m \u001b[0;34m=\u001b[0m \u001b[0m_base\u001b[0m\u001b[0;34m.\u001b[0m\u001b[0mExecutor\u001b[0m\u001b[0;34m.\u001b[0m\u001b[0mshutdown\u001b[0m\u001b[0;34m.\u001b[0m\u001b[0m__doc__\u001b[0m\u001b[0;34m\u001b[0m\u001b[0;34m\u001b[0m\u001b[0m\n",
            "\u001b[0;32m/usr/lib/python3.10/threading.py\u001b[0m in \u001b[0;36mjoin\u001b[0;34m(self, timeout)\u001b[0m\n\u001b[1;32m   1094\u001b[0m \u001b[0;34m\u001b[0m\u001b[0m\n\u001b[1;32m   1095\u001b[0m         \u001b[0;32mif\u001b[0m \u001b[0mtimeout\u001b[0m \u001b[0;32mis\u001b[0m \u001b[0;32mNone\u001b[0m\u001b[0;34m:\u001b[0m\u001b[0;34m\u001b[0m\u001b[0;34m\u001b[0m\u001b[0m\n\u001b[0;32m-> 1096\u001b[0;31m             \u001b[0mself\u001b[0m\u001b[0;34m.\u001b[0m\u001b[0m_wait_for_tstate_lock\u001b[0m\u001b[0;34m(\u001b[0m\u001b[0;34m)\u001b[0m\u001b[0;34m\u001b[0m\u001b[0;34m\u001b[0m\u001b[0m\n\u001b[0m\u001b[1;32m   1097\u001b[0m         \u001b[0;32melse\u001b[0m\u001b[0;34m:\u001b[0m\u001b[0;34m\u001b[0m\u001b[0;34m\u001b[0m\u001b[0m\n\u001b[1;32m   1098\u001b[0m             \u001b[0;31m# the behavior of a negative timeout isn't documented, but\u001b[0m\u001b[0;34m\u001b[0m\u001b[0;34m\u001b[0m\u001b[0m\n",
            "\u001b[0;32m/usr/lib/python3.10/threading.py\u001b[0m in \u001b[0;36m_wait_for_tstate_lock\u001b[0;34m(self, block, timeout)\u001b[0m\n\u001b[1;32m   1114\u001b[0m \u001b[0;34m\u001b[0m\u001b[0m\n\u001b[1;32m   1115\u001b[0m         \u001b[0;32mtry\u001b[0m\u001b[0;34m:\u001b[0m\u001b[0;34m\u001b[0m\u001b[0;34m\u001b[0m\u001b[0m\n\u001b[0;32m-> 1116\u001b[0;31m             \u001b[0;32mif\u001b[0m \u001b[0mlock\u001b[0m\u001b[0;34m.\u001b[0m\u001b[0macquire\u001b[0m\u001b[0;34m(\u001b[0m\u001b[0mblock\u001b[0m\u001b[0;34m,\u001b[0m \u001b[0mtimeout\u001b[0m\u001b[0;34m)\u001b[0m\u001b[0;34m:\u001b[0m\u001b[0;34m\u001b[0m\u001b[0;34m\u001b[0m\u001b[0m\n\u001b[0m\u001b[1;32m   1117\u001b[0m                 \u001b[0mlock\u001b[0m\u001b[0;34m.\u001b[0m\u001b[0mrelease\u001b[0m\u001b[0;34m(\u001b[0m\u001b[0;34m)\u001b[0m\u001b[0;34m\u001b[0m\u001b[0;34m\u001b[0m\u001b[0m\n\u001b[1;32m   1118\u001b[0m                 \u001b[0mself\u001b[0m\u001b[0;34m.\u001b[0m\u001b[0m_stop\u001b[0m\u001b[0;34m(\u001b[0m\u001b[0;34m)\u001b[0m\u001b[0;34m\u001b[0m\u001b[0;34m\u001b[0m\u001b[0m\n",
            "\u001b[0;31mKeyboardInterrupt\u001b[0m: "
          ]
        }
      ]
    },
    {
      "cell_type": "code",
      "source": [
        "from rdflib.namespace import RDF, VOID, XSD"
      ],
      "metadata": {
        "id": "9BmPeYwWDSVW"
      },
      "execution_count": 15,
      "outputs": []
    },
    {
      "cell_type": "code",
      "source": [
        "!pip install rdflib-void"
      ],
      "metadata": {
        "colab": {
          "base_uri": "https://localhost:8080/"
        },
        "id": "-eFUWJQ4FLeH",
        "outputId": "e64707d1-6f87-4bd7-d660-3d067ca85b9a"
      },
      "execution_count": 19,
      "outputs": [
        {
          "output_type": "stream",
          "name": "stdout",
          "text": [
            "\u001b[31mERROR: Could not find a version that satisfies the requirement rdflib-void (from versions: none)\u001b[0m\u001b[31m\n",
            "\u001b[0m\u001b[31mERROR: No matching distribution found for rdflib-void\u001b[0m\u001b[31m\n",
            "\u001b[0m"
          ]
        }
      ]
    },
    {
      "cell_type": "code",
      "source": [
        "import rdflib.void as vo"
      ],
      "metadata": {
        "id": "zbJA8zzgGPcW"
      },
      "execution_count": 28,
      "outputs": []
    },
    {
      "cell_type": "code",
      "source": [
        "from rdflib import Graph, Namespace\n",
        "from rdflib.plugins.sparql import prepareQuery"
      ],
      "metadata": {
        "id": "Zb4Nl89oLcQD"
      },
      "execution_count": 46,
      "outputs": []
    },
    {
      "cell_type": "code",
      "source": [
        "MOVIE = Namespace(\"http://www.semanticweb.org/jalal/ontologies/2023/10/movie-ontology#\")\n",
        "\n",
        "movie_count = len(set(g.subjects(RDF.type, MOVIE.Movie)))\n",
        "\n",
        "person_count = len(set(g.subjects(RDF.type, MOVIE.Person)))\n",
        "\n",
        "char_count = len(set(g.subjects(RDF.type,MOVIE.CHARACTER)))\n",
        "\n",
        "hasAward_count = len(set(g.triples((None, MOVIE.hasAward, None))))\n",
        "\n",
        "hasActor_count = len(set(g.triples((None, MOVIE.hasActor, None))))\n",
        "\n",
        "movie_count, person_count, char_count, hasAward_count, hasActor_count"
      ],
      "metadata": {
        "colab": {
          "base_uri": "https://localhost:8080/"
        },
        "id": "4jfPAi-IGsNW",
        "outputId": "b3717c63-960e-46b3-d753-9b5a7d268dbe"
      },
      "execution_count": 53,
      "outputs": [
        {
          "output_type": "execute_result",
          "data": {
            "text/plain": [
              "(1354, 42476, 0, 1527, 52279)"
            ]
          },
          "metadata": {},
          "execution_count": 53
        }
      ]
    },
    {
      "cell_type": "code",
      "source": [
        "a , b = vo.generateVoID(g)"
      ],
      "metadata": {
        "id": "EVJR7QacFBFv"
      },
      "execution_count": 37,
      "outputs": []
    },
    {
      "cell_type": "code",
      "source": [
        "a"
      ],
      "metadata": {
        "colab": {
          "base_uri": "https://localhost:8080/"
        },
        "id": "KWeHj_pJE5ys",
        "outputId": "b8cbf93c-aca7-47b2-e417-438b0719c600"
      },
      "execution_count": 38,
      "outputs": [
        {
          "output_type": "execute_result",
          "data": {
            "text/plain": [
              "<Graph identifier=N1da040b761544697ae568655741b12ff (<class 'rdflib.graph.Graph'>)>"
            ]
          },
          "metadata": {},
          "execution_count": 38
        }
      ]
    },
    {
      "cell_type": "code",
      "source": [
        "b"
      ],
      "metadata": {
        "colab": {
          "base_uri": "https://localhost:8080/",
          "height": 35
        },
        "id": "neyZY1KC3Vct",
        "outputId": "f5cadc00-4339-40ca-8d23-7e198bec9f4d"
      },
      "execution_count": 43,
      "outputs": [
        {
          "output_type": "execute_result",
          "data": {
            "text/plain": [
              "rdflib.term.URIRef('http://example.org/Dataset')"
            ],
            "application/vnd.google.colaboratory.intrinsic+json": {
              "type": "string"
            }
          },
          "metadata": {},
          "execution_count": 43
        }
      ]
    },
    {
      "cell_type": "code",
      "source": [
        "a.serialize(destination=\"sm.rdf\", format='application/rdf+xml')"
      ],
      "metadata": {
        "colab": {
          "base_uri": "https://localhost:8080/"
        },
        "id": "muLtQOg86iFK",
        "outputId": "56391230-52c8-4a37-aeba-186f5332746f"
      },
      "execution_count": 42,
      "outputs": [
        {
          "output_type": "execute_result",
          "data": {
            "text/plain": [
              "<Graph identifier=N1da040b761544697ae568655741b12ff (<class 'rdflib.graph.Graph'>)>"
            ]
          },
          "metadata": {},
          "execution_count": 42
        }
      ]
    },
    {
      "cell_type": "code",
      "source": [
        "query = \"\"\"\n",
        "PREFIX : <http://www.semanticweb.org/jalal/ontologies/2023/10/movie-ontology#>\n",
        "\n",
        "SELECT ?actor (COUNT(?movie) AS ?movieCount)\n",
        "WHERE {\n",
        "    ?movie :hasActor ?actor .\n",
        "}\n",
        "GROUP BY ?actor\n",
        "HAVING (COUNT(?movie) > 5)\n",
        "\"\"\"\n",
        "\n",
        "for row in g.query(query):\n",
        "    print(f\"Actor: {row.actor}, Movie Count: {row.movieCount}\")"
      ],
      "metadata": {
        "colab": {
          "base_uri": "https://localhost:8080/"
        },
        "id": "jdSmw6TfDJwu",
        "outputId": "3fea0cb3-9229-4420-e22e-bc726546cb99"
      },
      "execution_count": 54,
      "outputs": [
        {
          "output_type": "stream",
          "name": "stdout",
          "text": [
            "Actor: http://www.semanticweb.org/jalal/ontologies/2023/10/movie-ontology#Person_3129, Movie Count: 6\n",
            "Actor: http://www.semanticweb.org/jalal/ontologies/2023/10/movie-ontology#Person_3131, Movie Count: 8\n",
            "Actor: http://www.semanticweb.org/jalal/ontologies/2023/10/movie-ontology#Person_3136, Movie Count: 10\n",
            "Actor: http://www.semanticweb.org/jalal/ontologies/2023/10/movie-ontology#Person_138, Movie Count: 7\n",
            "Actor: http://www.semanticweb.org/jalal/ontologies/2023/10/movie-ontology#Person_62, Movie Count: 16\n",
            "Actor: http://www.semanticweb.org/jalal/ontologies/2023/10/movie-ontology#Person_1979, Movie Count: 7\n",
            "Actor: http://www.semanticweb.org/jalal/ontologies/2023/10/movie-ontology#Person_53, Movie Count: 9\n",
            "Actor: http://www.semanticweb.org/jalal/ontologies/2023/10/movie-ontology#Person_1642, Movie Count: 6\n",
            "Actor: http://www.semanticweb.org/jalal/ontologies/2023/10/movie-ontology#Person_1646, Movie Count: 7\n",
            "Actor: http://www.semanticweb.org/jalal/ontologies/2023/10/movie-ontology#Person_1640, Movie Count: 7\n",
            "Actor: http://www.semanticweb.org/jalal/ontologies/2023/10/movie-ontology#Person_4458, Movie Count: 6\n",
            "Actor: http://www.semanticweb.org/jalal/ontologies/2023/10/movie-ontology#Person_2955, Movie Count: 7\n",
            "Actor: http://www.semanticweb.org/jalal/ontologies/2023/10/movie-ontology#Person_5293, Movie Count: 17\n",
            "Actor: http://www.semanticweb.org/jalal/ontologies/2023/10/movie-ontology#Person_118, Movie Count: 8\n",
            "Actor: http://www.semanticweb.org/jalal/ontologies/2023/10/movie-ontology#Person_17401, Movie Count: 6\n",
            "Actor: http://www.semanticweb.org/jalal/ontologies/2023/10/movie-ontology#Person_8783, Movie Count: 6\n",
            "Actor: http://www.semanticweb.org/jalal/ontologies/2023/10/movie-ontology#Person_7907, Movie Count: 8\n",
            "Actor: http://www.semanticweb.org/jalal/ontologies/2023/10/movie-ontology#Person_78317, Movie Count: 7\n",
            "Actor: http://www.semanticweb.org/jalal/ontologies/2023/10/movie-ontology#Person_61969, Movie Count: 7\n",
            "Actor: http://www.semanticweb.org/jalal/ontologies/2023/10/movie-ontology#Person_64, Movie Count: 11\n",
            "Actor: http://www.semanticweb.org/jalal/ontologies/2023/10/movie-ontology#Person_65, Movie Count: 11\n",
            "Actor: http://www.semanticweb.org/jalal/ontologies/2023/10/movie-ontology#Person_8396, Movie Count: 7\n",
            "Actor: http://www.semanticweb.org/jalal/ontologies/2023/10/movie-ontology#Person_84495, Movie Count: 6\n",
            "Actor: http://www.semanticweb.org/jalal/ontologies/2023/10/movie-ontology#Person_3, Movie Count: 11\n",
            "Actor: http://www.semanticweb.org/jalal/ontologies/2023/10/movie-ontology#Person_4, Movie Count: 7\n",
            "Actor: http://www.semanticweb.org/jalal/ontologies/2023/10/movie-ontology#Person_12248, Movie Count: 6\n",
            "Actor: http://www.semanticweb.org/jalal/ontologies/2023/10/movie-ontology#Person_6, Movie Count: 7\n",
            "Actor: http://www.semanticweb.org/jalal/ontologies/2023/10/movie-ontology#Person_130, Movie Count: 9\n",
            "Actor: http://www.semanticweb.org/jalal/ontologies/2023/10/movie-ontology#Person_15152, Movie Count: 7\n",
            "Actor: http://www.semanticweb.org/jalal/ontologies/2023/10/movie-ontology#Person_17356, Movie Count: 7\n",
            "Actor: http://www.semanticweb.org/jalal/ontologies/2023/10/movie-ontology#Person_214701, Movie Count: 7\n",
            "Actor: http://www.semanticweb.org/jalal/ontologies/2023/10/movie-ontology#Person_84493, Movie Count: 9\n",
            "Actor: http://www.semanticweb.org/jalal/ontologies/2023/10/movie-ontology#Person_19545, Movie Count: 10\n",
            "Actor: http://www.semanticweb.org/jalal/ontologies/2023/10/movie-ontology#Person_35159, Movie Count: 6\n",
            "Actor: http://www.semanticweb.org/jalal/ontologies/2023/10/movie-ontology#Person_17072, Movie Count: 6\n",
            "Actor: http://www.semanticweb.org/jalal/ontologies/2023/10/movie-ontology#Person_157626, Movie Count: 6\n",
            "Actor: http://www.semanticweb.org/jalal/ontologies/2023/10/movie-ontology#Person_658, Movie Count: 10\n",
            "Actor: http://www.semanticweb.org/jalal/ontologies/2023/10/movie-ontology#Person_10657, Movie Count: 9\n",
            "Actor: http://www.semanticweb.org/jalal/ontologies/2023/10/movie-ontology#Person_48, Movie Count: 9\n",
            "Actor: http://www.semanticweb.org/jalal/ontologies/2023/10/movie-ontology#Person_184980, Movie Count: 8\n",
            "Actor: http://www.semanticweb.org/jalal/ontologies/2023/10/movie-ontology#Person_1271131, Movie Count: 7\n",
            "Actor: http://www.semanticweb.org/jalal/ontologies/2023/10/movie-ontology#Person_5724, Movie Count: 6\n",
            "Actor: http://www.semanticweb.org/jalal/ontologies/2023/10/movie-ontology#Person_11803, Movie Count: 6\n",
            "Actor: http://www.semanticweb.org/jalal/ontologies/2023/10/movie-ontology#Person_31, Movie Count: 12\n",
            "Actor: http://www.semanticweb.org/jalal/ontologies/2023/10/movie-ontology#Person_34, Movie Count: 6\n",
            "Actor: http://www.semanticweb.org/jalal/ontologies/2023/10/movie-ontology#Person_2428975, Movie Count: 6\n",
            "Actor: http://www.semanticweb.org/jalal/ontologies/2023/10/movie-ontology#Person_81692, Movie Count: 6\n",
            "Actor: http://www.semanticweb.org/jalal/ontologies/2023/10/movie-ontology#Person_6856, Movie Count: 6\n",
            "Actor: http://www.semanticweb.org/jalal/ontologies/2023/10/movie-ontology#Person_23967, Movie Count: 7\n",
            "Actor: http://www.semanticweb.org/jalal/ontologies/2023/10/movie-ontology#Person_40, Movie Count: 7\n",
            "Actor: http://www.semanticweb.org/jalal/ontologies/2023/10/movie-ontology#Person_9096, Movie Count: 9\n",
            "Actor: http://www.semanticweb.org/jalal/ontologies/2023/10/movie-ontology#Person_1596347, Movie Count: 7\n",
            "Actor: http://www.semanticweb.org/jalal/ontologies/2023/10/movie-ontology#Person_198219, Movie Count: 7\n",
            "Actor: http://www.semanticweb.org/jalal/ontologies/2023/10/movie-ontology#Person_1543340, Movie Count: 6\n",
            "Actor: http://www.semanticweb.org/jalal/ontologies/2023/10/movie-ontology#Person_122984, Movie Count: 6\n",
            "Actor: http://www.semanticweb.org/jalal/ontologies/2023/10/movie-ontology#Person_1550460, Movie Count: 6\n",
            "Actor: http://www.semanticweb.org/jalal/ontologies/2023/10/movie-ontology#Person_1413586, Movie Count: 8\n",
            "Actor: http://www.semanticweb.org/jalal/ontologies/2023/10/movie-ontology#Person_569144, Movie Count: 6\n",
            "Actor: http://www.semanticweb.org/jalal/ontologies/2023/10/movie-ontology#Person_1176510, Movie Count: 16\n",
            "Actor: http://www.semanticweb.org/jalal/ontologies/2023/10/movie-ontology#Person_121127, Movie Count: 6\n",
            "Actor: http://www.semanticweb.org/jalal/ontologies/2023/10/movie-ontology#Person_1208035, Movie Count: 15\n",
            "Actor: http://www.semanticweb.org/jalal/ontologies/2023/10/movie-ontology#Person_85, Movie Count: 19\n",
            "Actor: http://www.semanticweb.org/jalal/ontologies/2023/10/movie-ontology#Person_114, Movie Count: 9\n",
            "Actor: http://www.semanticweb.org/jalal/ontologies/2023/10/movie-ontology#Person_116, Movie Count: 7\n",
            "Actor: http://www.semanticweb.org/jalal/ontologies/2023/10/movie-ontology#Person_2449, Movie Count: 7\n",
            "Actor: http://www.semanticweb.org/jalal/ontologies/2023/10/movie-ontology#Person_4031, Movie Count: 6\n",
            "Actor: http://www.semanticweb.org/jalal/ontologies/2023/10/movie-ontology#Person_139, Movie Count: 6\n",
            "Actor: http://www.semanticweb.org/jalal/ontologies/2023/10/movie-ontology#Person_141, Movie Count: 6\n",
            "Actor: http://www.semanticweb.org/jalal/ontologies/2023/10/movie-ontology#Person_147, Movie Count: 8\n",
            "Actor: http://www.semanticweb.org/jalal/ontologies/2023/10/movie-ontology#Person_2234, Movie Count: 6\n",
            "Actor: http://www.semanticweb.org/jalal/ontologies/2023/10/movie-ontology#Person_131, Movie Count: 6\n",
            "Actor: http://www.semanticweb.org/jalal/ontologies/2023/10/movie-ontology#Person_352, Movie Count: 6\n",
            "Actor: http://www.semanticweb.org/jalal/ontologies/2023/10/movie-ontology#Person_8349, Movie Count: 7\n",
            "Actor: http://www.semanticweb.org/jalal/ontologies/2023/10/movie-ontology#Person_2975, Movie Count: 11\n",
            "Actor: http://www.semanticweb.org/jalal/ontologies/2023/10/movie-ontology#Person_3084, Movie Count: 10\n",
            "Actor: http://www.semanticweb.org/jalal/ontologies/2023/10/movie-ontology#Person_3087, Movie Count: 9\n",
            "Actor: http://www.semanticweb.org/jalal/ontologies/2023/10/movie-ontology#Person_2778, Movie Count: 10\n",
            "Actor: http://www.semanticweb.org/jalal/ontologies/2023/10/movie-ontology#Person_3173, Movie Count: 6\n",
            "Actor: http://www.semanticweb.org/jalal/ontologies/2023/10/movie-ontology#Person_349, Movie Count: 6\n",
            "Actor: http://www.semanticweb.org/jalal/ontologies/2023/10/movie-ontology#Person_13023, Movie Count: 6\n",
            "Actor: http://www.semanticweb.org/jalal/ontologies/2023/10/movie-ontology#Person_8655, Movie Count: 10\n",
            "Actor: http://www.semanticweb.org/jalal/ontologies/2023/10/movie-ontology#Person_206, Movie Count: 6\n",
            "Actor: http://www.semanticweb.org/jalal/ontologies/2023/10/movie-ontology#Person_204, Movie Count: 7\n",
            "Actor: http://www.semanticweb.org/jalal/ontologies/2023/10/movie-ontology#Person_205, Movie Count: 9\n",
            "Actor: http://www.semanticweb.org/jalal/ontologies/2023/10/movie-ontology#Person_109, Movie Count: 7\n",
            "Actor: http://www.semanticweb.org/jalal/ontologies/2023/10/movie-ontology#Person_190, Movie Count: 8\n",
            "Actor: http://www.semanticweb.org/jalal/ontologies/2023/10/movie-ontology#Person_193, Movie Count: 8\n",
            "Actor: http://www.semanticweb.org/jalal/ontologies/2023/10/movie-ontology#Person_192, Movie Count: 15\n",
            "Actor: http://www.semanticweb.org/jalal/ontologies/2023/10/movie-ontology#Person_258, Movie Count: 7\n",
            "Actor: http://www.semanticweb.org/jalal/ontologies/2023/10/movie-ontology#Person_228, Movie Count: 8\n",
            "Actor: http://www.semanticweb.org/jalal/ontologies/2023/10/movie-ontology#Person_227, Movie Count: 7\n",
            "Actor: http://www.semanticweb.org/jalal/ontologies/2023/10/movie-ontology#Person_2440, Movie Count: 9\n",
            "Actor: http://www.semanticweb.org/jalal/ontologies/2023/10/movie-ontology#Person_287, Movie Count: 19\n",
            "Actor: http://www.semanticweb.org/jalal/ontologies/2023/10/movie-ontology#Person_290, Movie Count: 8\n",
            "Actor: http://www.semanticweb.org/jalal/ontologies/2023/10/movie-ontology#Person_335, Movie Count: 6\n",
            "Actor: http://www.semanticweb.org/jalal/ontologies/2023/10/movie-ontology#Person_380, Movie Count: 21\n",
            "Actor: http://www.semanticweb.org/jalal/ontologies/2023/10/movie-ontology#Person_388, Movie Count: 6\n",
            "Actor: http://www.semanticweb.org/jalal/ontologies/2023/10/movie-ontology#Person_1610, Movie Count: 6\n",
            "Actor: http://www.semanticweb.org/jalal/ontologies/2023/10/movie-ontology#Person_8591, Movie Count: 6\n",
            "Actor: http://www.semanticweb.org/jalal/ontologies/2023/10/movie-ontology#Person_8693, Movie Count: 8\n",
            "Actor: http://www.semanticweb.org/jalal/ontologies/2023/10/movie-ontology#Person_819, Movie Count: 9\n",
            "Actor: http://www.semanticweb.org/jalal/ontologies/2023/10/movie-ontology#Person_827, Movie Count: 6\n",
            "Actor: http://www.semanticweb.org/jalal/ontologies/2023/10/movie-ontology#Person_477, Movie Count: 6\n",
            "Actor: http://www.semanticweb.org/jalal/ontologies/2023/10/movie-ontology#Person_500, Movie Count: 16\n",
            "Actor: http://www.semanticweb.org/jalal/ontologies/2023/10/movie-ontology#Person_504, Movie Count: 13\n",
            "Actor: http://www.semanticweb.org/jalal/ontologies/2023/10/movie-ontology#Person_1341865, Movie Count: 7\n",
            "Actor: http://www.semanticweb.org/jalal/ontologies/2023/10/movie-ontology#Person_514, Movie Count: 8\n",
            "Actor: http://www.semanticweb.org/jalal/ontologies/2023/10/movie-ontology#Person_530, Movie Count: 6\n",
            "Actor: http://www.semanticweb.org/jalal/ontologies/2023/10/movie-ontology#Person_534, Movie Count: 6\n",
            "Actor: http://www.semanticweb.org/jalal/ontologies/2023/10/movie-ontology#Person_537, Movie Count: 7\n",
            "Actor: http://www.semanticweb.org/jalal/ontologies/2023/10/movie-ontology#Person_518, Movie Count: 9\n",
            "Actor: http://www.semanticweb.org/jalal/ontologies/2023/10/movie-ontology#Person_524, Movie Count: 9\n",
            "Actor: http://www.semanticweb.org/jalal/ontologies/2023/10/movie-ontology#Person_70851, Movie Count: 7\n",
            "Actor: http://www.semanticweb.org/jalal/ontologies/2023/10/movie-ontology#Person_10671, Movie Count: 7\n",
            "Actor: http://www.semanticweb.org/jalal/ontologies/2023/10/movie-ontology#Person_22250, Movie Count: 9\n",
            "Actor: http://www.semanticweb.org/jalal/ontologies/2023/10/movie-ontology#Person_15831, Movie Count: 15\n",
            "Actor: http://www.semanticweb.org/jalal/ontologies/2023/10/movie-ontology#Person_1146, Movie Count: 8\n",
            "Actor: http://www.semanticweb.org/jalal/ontologies/2023/10/movie-ontology#Person_585, Movie Count: 6\n",
            "Actor: http://www.semanticweb.org/jalal/ontologies/2023/10/movie-ontology#Person_588, Movie Count: 6\n",
            "Actor: http://www.semanticweb.org/jalal/ontologies/2023/10/movie-ontology#Person_1339, Movie Count: 6\n",
            "Actor: http://www.semanticweb.org/jalal/ontologies/2023/10/movie-ontology#Person_72466, Movie Count: 6\n",
            "Actor: http://www.semanticweb.org/jalal/ontologies/2023/10/movie-ontology#Person_1665, Movie Count: 7\n",
            "Actor: http://www.semanticweb.org/jalal/ontologies/2023/10/movie-ontology#Person_2220, Movie Count: 6\n",
            "Actor: http://www.semanticweb.org/jalal/ontologies/2023/10/movie-ontology#Person_6908, Movie Count: 6\n",
            "Actor: http://www.semanticweb.org/jalal/ontologies/2023/10/movie-ontology#Person_677, Movie Count: 9\n",
            "Actor: http://www.semanticweb.org/jalal/ontologies/2023/10/movie-ontology#Person_1081, Movie Count: 7\n",
            "Actor: http://www.semanticweb.org/jalal/ontologies/2023/10/movie-ontology#Person_707, Movie Count: 8\n",
            "Actor: http://www.semanticweb.org/jalal/ontologies/2023/10/movie-ontology#Person_488, Movie Count: 8\n",
            "Actor: http://www.semanticweb.org/jalal/ontologies/2023/10/movie-ontology#Person_650, Movie Count: 6\n",
            "Actor: http://www.semanticweb.org/jalal/ontologies/2023/10/movie-ontology#Person_655, Movie Count: 6\n",
            "Actor: http://www.semanticweb.org/jalal/ontologies/2023/10/movie-ontology#Person_738, Movie Count: 15\n",
            "Actor: http://www.semanticweb.org/jalal/ontologies/2023/10/movie-ontology#Person_740, Movie Count: 6\n",
            "Actor: http://www.semanticweb.org/jalal/ontologies/2023/10/movie-ontology#Person_55911, Movie Count: 6\n",
            "Actor: http://www.semanticweb.org/jalal/ontologies/2023/10/movie-ontology#Person_723, Movie Count: 6\n",
            "Actor: http://www.semanticweb.org/jalal/ontologies/2023/10/movie-ontology#Person_4201, Movie Count: 7\n",
            "Actor: http://www.semanticweb.org/jalal/ontologies/2023/10/movie-ontology#Person_854, Movie Count: 9\n",
            "Actor: http://www.semanticweb.org/jalal/ontologies/2023/10/movie-ontology#Person_8608, Movie Count: 6\n",
            "Actor: http://www.semanticweb.org/jalal/ontologies/2023/10/movie-ontology#Person_776, Movie Count: 9\n",
            "Actor: http://www.semanticweb.org/jalal/ontologies/2023/10/movie-ontology#Person_920, Movie Count: 7\n",
            "Actor: http://www.semanticweb.org/jalal/ontologies/2023/10/movie-ontology#Person_2632, Movie Count: 6\n",
            "Actor: http://www.semanticweb.org/jalal/ontologies/2023/10/movie-ontology#Person_880, Movie Count: 9\n",
            "Actor: http://www.semanticweb.org/jalal/ontologies/2023/10/movie-ontology#Person_884, Movie Count: 15\n",
            "Actor: http://www.semanticweb.org/jalal/ontologies/2023/10/movie-ontology#Person_886, Movie Count: 10\n",
            "Actor: http://www.semanticweb.org/jalal/ontologies/2023/10/movie-ontology#Person_887, Movie Count: 7\n",
            "Actor: http://www.semanticweb.org/jalal/ontologies/2023/10/movie-ontology#Person_61981, Movie Count: 6\n",
            "Actor: http://www.semanticweb.org/jalal/ontologies/2023/10/movie-ontology#Person_65827, Movie Count: 8\n",
            "Actor: http://www.semanticweb.org/jalal/ontologies/2023/10/movie-ontology#Person_8191, Movie Count: 12\n",
            "Actor: http://www.semanticweb.org/jalal/ontologies/2023/10/movie-ontology#Person_11355, Movie Count: 7\n",
            "Actor: http://www.semanticweb.org/jalal/ontologies/2023/10/movie-ontology#Person_58950, Movie Count: 6\n",
            "Actor: http://www.semanticweb.org/jalal/ontologies/2023/10/movie-ontology#Person_6465, Movie Count: 8\n",
            "Actor: http://www.semanticweb.org/jalal/ontologies/2023/10/movie-ontology#Person_9258, Movie Count: 8\n",
            "Actor: http://www.semanticweb.org/jalal/ontologies/2023/10/movie-ontology#Person_2138, Movie Count: 8\n",
            "Actor: http://www.semanticweb.org/jalal/ontologies/2023/10/movie-ontology#Person_19208, Movie Count: 6\n",
            "Actor: http://www.semanticweb.org/jalal/ontologies/2023/10/movie-ontology#Person_10017, Movie Count: 8\n",
            "Actor: http://www.semanticweb.org/jalal/ontologies/2023/10/movie-ontology#Person_1229, Movie Count: 9\n",
            "Actor: http://www.semanticweb.org/jalal/ontologies/2023/10/movie-ontology#Person_2076, Movie Count: 8\n",
            "Actor: http://www.semanticweb.org/jalal/ontologies/2023/10/movie-ontology#Person_938, Movie Count: 6\n",
            "Actor: http://www.semanticweb.org/jalal/ontologies/2023/10/movie-ontology#Person_20761, Movie Count: 7\n",
            "Actor: http://www.semanticweb.org/jalal/ontologies/2023/10/movie-ontology#Person_955, Movie Count: 9\n",
            "Actor: http://www.semanticweb.org/jalal/ontologies/2023/10/movie-ontology#Person_1003, Movie Count: 7\n",
            "Actor: http://www.semanticweb.org/jalal/ontologies/2023/10/movie-ontology#Person_1004, Movie Count: 6\n",
            "Actor: http://www.semanticweb.org/jalal/ontologies/2023/10/movie-ontology#Person_1010, Movie Count: 7\n",
            "Actor: http://www.semanticweb.org/jalal/ontologies/2023/10/movie-ontology#Person_1038, Movie Count: 7\n",
            "Actor: http://www.semanticweb.org/jalal/ontologies/2023/10/movie-ontology#Person_1037, Movie Count: 8\n",
            "Actor: http://www.semanticweb.org/jalal/ontologies/2023/10/movie-ontology#Person_16525, Movie Count: 7\n",
            "Actor: http://www.semanticweb.org/jalal/ontologies/2023/10/movie-ontology#Person_11483, Movie Count: 7\n",
            "Actor: http://www.semanticweb.org/jalal/ontologies/2023/10/movie-ontology#Person_1062, Movie Count: 9\n",
            "Actor: http://www.semanticweb.org/jalal/ontologies/2023/10/movie-ontology#Person_1064, Movie Count: 6\n",
            "Actor: http://www.semanticweb.org/jalal/ontologies/2023/10/movie-ontology#Person_1208039, Movie Count: 13\n",
            "Actor: http://www.semanticweb.org/jalal/ontologies/2023/10/movie-ontology#Person_1137, Movie Count: 7\n",
            "Actor: http://www.semanticweb.org/jalal/ontologies/2023/10/movie-ontology#Person_1145, Movie Count: 6\n",
            "Actor: http://www.semanticweb.org/jalal/ontologies/2023/10/movie-ontology#Person_1100, Movie Count: 9\n",
            "Actor: http://www.semanticweb.org/jalal/ontologies/2023/10/movie-ontology#Person_1101, Movie Count: 6\n",
            "Actor: http://www.semanticweb.org/jalal/ontologies/2023/10/movie-ontology#Person_1121, Movie Count: 9\n",
            "Actor: http://www.semanticweb.org/jalal/ontologies/2023/10/movie-ontology#Person_1125, Movie Count: 6\n",
            "Actor: http://www.semanticweb.org/jalal/ontologies/2023/10/movie-ontology#Person_1158, Movie Count: 10\n",
            "Actor: http://www.semanticweb.org/jalal/ontologies/2023/10/movie-ontology#Person_1164, Movie Count: 6\n",
            "Actor: http://www.semanticweb.org/jalal/ontologies/2023/10/movie-ontology#Person_1173, Movie Count: 7\n",
            "Actor: http://www.semanticweb.org/jalal/ontologies/2023/10/movie-ontology#Person_1204, Movie Count: 8\n",
            "Actor: http://www.semanticweb.org/jalal/ontologies/2023/10/movie-ontology#Person_1230, Movie Count: 7\n",
            "Actor: http://www.semanticweb.org/jalal/ontologies/2023/10/movie-ontology#Person_1231, Movie Count: 6\n",
            "Actor: http://www.semanticweb.org/jalal/ontologies/2023/10/movie-ontology#Person_1233, Movie Count: 8\n",
            "Actor: http://www.semanticweb.org/jalal/ontologies/2023/10/movie-ontology#Person_1237, Movie Count: 6\n",
            "Actor: http://www.semanticweb.org/jalal/ontologies/2023/10/movie-ontology#Person_1240, Movie Count: 7\n",
            "Actor: http://www.semanticweb.org/jalal/ontologies/2023/10/movie-ontology#Person_1241, Movie Count: 11\n",
            "Actor: http://www.semanticweb.org/jalal/ontologies/2023/10/movie-ontology#Person_11207, Movie Count: 7\n",
            "Actor: http://www.semanticweb.org/jalal/ontologies/2023/10/movie-ontology#Person_1244, Movie Count: 6\n",
            "Actor: http://www.semanticweb.org/jalal/ontologies/2023/10/movie-ontology#Person_1245, Movie Count: 8\n",
            "Actor: http://www.semanticweb.org/jalal/ontologies/2023/10/movie-ontology#Person_1248, Movie Count: 7\n",
            "Actor: http://www.semanticweb.org/jalal/ontologies/2023/10/movie-ontology#Person_5414, Movie Count: 6\n",
            "Actor: http://www.semanticweb.org/jalal/ontologies/2023/10/movie-ontology#Person_4145637, Movie Count: 6\n",
            "Actor: http://www.semanticweb.org/jalal/ontologies/2023/10/movie-ontology#Person_1271, Movie Count: 6\n",
            "Actor: http://www.semanticweb.org/jalal/ontologies/2023/10/movie-ontology#Person_1276, Movie Count: 6\n",
            "Actor: http://www.semanticweb.org/jalal/ontologies/2023/10/movie-ontology#Person_1283, Movie Count: 8\n",
            "Actor: http://www.semanticweb.org/jalal/ontologies/2023/10/movie-ontology#Person_1284, Movie Count: 6\n",
            "Actor: http://www.semanticweb.org/jalal/ontologies/2023/10/movie-ontology#Person_113, Movie Count: 7\n",
            "Actor: http://www.semanticweb.org/jalal/ontologies/2023/10/movie-ontology#Person_1370, Movie Count: 7\n",
            "Actor: http://www.semanticweb.org/jalal/ontologies/2023/10/movie-ontology#Person_112, Movie Count: 11\n",
            "Actor: http://www.semanticweb.org/jalal/ontologies/2023/10/movie-ontology#Person_1331, Movie Count: 9\n",
            "Actor: http://www.semanticweb.org/jalal/ontologies/2023/10/movie-ontology#Person_173451, Movie Count: 6\n",
            "Actor: http://www.semanticweb.org/jalal/ontologies/2023/10/movie-ontology#Person_108, Movie Count: 6\n",
            "Actor: http://www.semanticweb.org/jalal/ontologies/2023/10/movie-ontology#Person_20982, Movie Count: 6\n",
            "Actor: http://www.semanticweb.org/jalal/ontologies/2023/10/movie-ontology#Person_5049, Movie Count: 16\n",
            "Actor: http://www.semanticweb.org/jalal/ontologies/2023/10/movie-ontology#Person_35219, Movie Count: 7\n",
            "Actor: http://www.semanticweb.org/jalal/ontologies/2023/10/movie-ontology#Person_1461, Movie Count: 9\n",
            "Actor: http://www.semanticweb.org/jalal/ontologies/2023/10/movie-ontology#Person_97999, Movie Count: 7\n",
            "Actor: http://www.semanticweb.org/jalal/ontologies/2023/10/movie-ontology#Person_1532, Movie Count: 8\n",
            "Actor: http://www.semanticweb.org/jalal/ontologies/2023/10/movie-ontology#Person_5151, Movie Count: 8\n",
            "Actor: http://www.semanticweb.org/jalal/ontologies/2023/10/movie-ontology#Person_1653, Movie Count: 10\n",
            "Actor: http://www.semanticweb.org/jalal/ontologies/2023/10/movie-ontology#Person_1650, Movie Count: 9\n",
            "Actor: http://www.semanticweb.org/jalal/ontologies/2023/10/movie-ontology#Person_1643, Movie Count: 6\n",
            "Actor: http://www.semanticweb.org/jalal/ontologies/2023/10/movie-ontology#Person_1666, Movie Count: 8\n",
            "Actor: http://www.semanticweb.org/jalal/ontologies/2023/10/movie-ontology#Person_1735, Movie Count: 6\n",
            "Actor: http://www.semanticweb.org/jalal/ontologies/2023/10/movie-ontology#Person_1748, Movie Count: 9\n",
            "Actor: http://www.semanticweb.org/jalal/ontologies/2023/10/movie-ontology#Person_1749, Movie Count: 7\n",
            "Actor: http://www.semanticweb.org/jalal/ontologies/2023/10/movie-ontology#Person_1750, Movie Count: 7\n",
            "Actor: http://www.semanticweb.org/jalal/ontologies/2023/10/movie-ontology#Person_1751, Movie Count: 7\n",
            "Actor: http://www.semanticweb.org/jalal/ontologies/2023/10/movie-ontology#Person_1752, Movie Count: 6\n",
            "Actor: http://www.semanticweb.org/jalal/ontologies/2023/10/movie-ontology#Person_1754, Movie Count: 7\n",
            "Actor: http://www.semanticweb.org/jalal/ontologies/2023/10/movie-ontology#Person_1753, Movie Count: 7\n",
            "Actor: http://www.semanticweb.org/jalal/ontologies/2023/10/movie-ontology#Person_1759, Movie Count: 6\n",
            "Actor: http://www.semanticweb.org/jalal/ontologies/2023/10/movie-ontology#Person_3894, Movie Count: 8\n",
            "Actor: http://www.semanticweb.org/jalal/ontologies/2023/10/movie-ontology#Person_3895, Movie Count: 10\n",
            "Actor: http://www.semanticweb.org/jalal/ontologies/2023/10/movie-ontology#Person_2037, Movie Count: 6\n",
            "Actor: http://www.semanticweb.org/jalal/ontologies/2023/10/movie-ontology#Person_18070, Movie Count: 12\n",
            "Actor: http://www.semanticweb.org/jalal/ontologies/2023/10/movie-ontology#Person_1834, Movie Count: 6\n",
            "Actor: http://www.semanticweb.org/jalal/ontologies/2023/10/movie-ontology#Person_1844, Movie Count: 7\n",
            "Actor: http://www.semanticweb.org/jalal/ontologies/2023/10/movie-ontology#Person_1892, Movie Count: 13\n",
            "Actor: http://www.semanticweb.org/jalal/ontologies/2023/10/movie-ontology#Person_1893, Movie Count: 6\n",
            "Actor: http://www.semanticweb.org/jalal/ontologies/2023/10/movie-ontology#Person_88702, Movie Count: 6\n",
            "Actor: http://www.semanticweb.org/jalal/ontologies/2023/10/movie-ontology#Person_1896, Movie Count: 9\n",
            "Actor: http://www.semanticweb.org/jalal/ontologies/2023/10/movie-ontology#Person_43010, Movie Count: 17\n",
            "Actor: http://www.semanticweb.org/jalal/ontologies/2023/10/movie-ontology#Person_1922, Movie Count: 7\n",
            "Actor: http://www.semanticweb.org/jalal/ontologies/2023/10/movie-ontology#Person_1923, Movie Count: 10\n",
            "Actor: http://www.semanticweb.org/jalal/ontologies/2023/10/movie-ontology#Person_1936, Movie Count: 6\n",
            "Actor: http://www.semanticweb.org/jalal/ontologies/2023/10/movie-ontology#Person_16669, Movie Count: 8\n",
            "Actor: http://www.semanticweb.org/jalal/ontologies/2023/10/movie-ontology#Person_120048, Movie Count: 7\n",
            "Actor: http://www.semanticweb.org/jalal/ontologies/2023/10/movie-ontology#Person_1216356, Movie Count: 16\n",
            "Actor: http://www.semanticweb.org/jalal/ontologies/2023/10/movie-ontology#Person_983505, Movie Count: 7\n",
            "Actor: http://www.semanticweb.org/jalal/ontologies/2023/10/movie-ontology#Person_171111, Movie Count: 10\n",
            "Actor: http://www.semanticweb.org/jalal/ontologies/2023/10/movie-ontology#Person_1989, Movie Count: 6\n",
            "Actor: http://www.semanticweb.org/jalal/ontologies/2023/10/movie-ontology#Person_19647, Movie Count: 6\n",
            "Actor: http://www.semanticweb.org/jalal/ontologies/2023/10/movie-ontology#Person_2047, Movie Count: 9\n",
            "Actor: http://www.semanticweb.org/jalal/ontologies/2023/10/movie-ontology#Person_2053, Movie Count: 6\n",
            "Actor: http://www.semanticweb.org/jalal/ontologies/2023/10/movie-ontology#Person_14328, Movie Count: 6\n",
            "Actor: http://www.semanticweb.org/jalal/ontologies/2023/10/movie-ontology#Person_20582, Movie Count: 9\n",
            "Actor: http://www.semanticweb.org/jalal/ontologies/2023/10/movie-ontology#Person_2094, Movie Count: 6\n",
            "Actor: http://www.semanticweb.org/jalal/ontologies/2023/10/movie-ontology#Person_2039, Movie Count: 10\n",
            "Actor: http://www.semanticweb.org/jalal/ontologies/2023/10/movie-ontology#Person_58535, Movie Count: 6\n",
            "Actor: http://www.semanticweb.org/jalal/ontologies/2023/10/movie-ontology#Person_2157, Movie Count: 10\n",
            "Actor: http://www.semanticweb.org/jalal/ontologies/2023/10/movie-ontology#Person_2887, Movie Count: 6\n",
            "Actor: http://www.semanticweb.org/jalal/ontologies/2023/10/movie-ontology#Person_2133, Movie Count: 7\n",
            "Actor: http://www.semanticweb.org/jalal/ontologies/2023/10/movie-ontology#Person_2144, Movie Count: 7\n",
            "Actor: http://www.semanticweb.org/jalal/ontologies/2023/10/movie-ontology#Person_2141, Movie Count: 6\n",
            "Actor: http://www.semanticweb.org/jalal/ontologies/2023/10/movie-ontology#Person_2227, Movie Count: 8\n",
            "Actor: http://www.semanticweb.org/jalal/ontologies/2023/10/movie-ontology#Person_2228, Movie Count: 9\n",
            "Actor: http://www.semanticweb.org/jalal/ontologies/2023/10/movie-ontology#Person_2176, Movie Count: 7\n",
            "Actor: http://www.semanticweb.org/jalal/ontologies/2023/10/movie-ontology#Person_2178, Movie Count: 7\n",
            "Actor: http://www.semanticweb.org/jalal/ontologies/2023/10/movie-ontology#Person_2207, Movie Count: 6\n",
            "Actor: http://www.semanticweb.org/jalal/ontologies/2023/10/movie-ontology#Person_15318, Movie Count: 6\n",
            "Actor: http://www.semanticweb.org/jalal/ontologies/2023/10/movie-ontology#Person_15338, Movie Count: 8\n",
            "Actor: http://www.semanticweb.org/jalal/ontologies/2023/10/movie-ontology#Person_6941, Movie Count: 10\n",
            "Actor: http://www.semanticweb.org/jalal/ontologies/2023/10/movie-ontology#Person_2219, Movie Count: 7\n",
            "Actor: http://www.semanticweb.org/jalal/ontologies/2023/10/movie-ontology#Person_2224, Movie Count: 7\n",
            "Actor: http://www.semanticweb.org/jalal/ontologies/2023/10/movie-ontology#Person_2231, Movie Count: 20\n",
            "Actor: http://www.semanticweb.org/jalal/ontologies/2023/10/movie-ontology#Person_2295, Movie Count: 6\n",
            "Actor: http://www.semanticweb.org/jalal/ontologies/2023/10/movie-ontology#Person_5916, Movie Count: 7\n",
            "Actor: http://www.semanticweb.org/jalal/ontologies/2023/10/movie-ontology#Person_1353645, Movie Count: 7\n",
            "Actor: http://www.semanticweb.org/jalal/ontologies/2023/10/movie-ontology#Person_2387, Movie Count: 7\n",
            "Actor: http://www.semanticweb.org/jalal/ontologies/2023/10/movie-ontology#Person_2391, Movie Count: 6\n",
            "Actor: http://www.semanticweb.org/jalal/ontologies/2023/10/movie-ontology#Person_2393, Movie Count: 6\n",
            "Actor: http://www.semanticweb.org/jalal/ontologies/2023/10/movie-ontology#Person_3981, Movie Count: 6\n",
            "Actor: http://www.semanticweb.org/jalal/ontologies/2023/10/movie-ontology#Person_12797, Movie Count: 7\n",
            "Actor: http://www.semanticweb.org/jalal/ontologies/2023/10/movie-ontology#Person_1091420, Movie Count: 6\n",
            "Actor: http://www.semanticweb.org/jalal/ontologies/2023/10/movie-ontology#Person_1468755, Movie Count: 8\n",
            "Actor: http://www.semanticweb.org/jalal/ontologies/2023/10/movie-ontology#Person_2461, Movie Count: 7\n",
            "Actor: http://www.semanticweb.org/jalal/ontologies/2023/10/movie-ontology#Person_2629, Movie Count: 6\n",
            "Actor: http://www.semanticweb.org/jalal/ontologies/2023/10/movie-ontology#Person_2516, Movie Count: 7\n",
            "Actor: http://www.semanticweb.org/jalal/ontologies/2023/10/movie-ontology#Person_2628, Movie Count: 11\n",
            "Actor: http://www.semanticweb.org/jalal/ontologies/2023/10/movie-ontology#Person_25711, Movie Count: 6\n",
            "Actor: http://www.semanticweb.org/jalal/ontologies/2023/10/movie-ontology#Person_2638, Movie Count: 7\n",
            "Actor: http://www.semanticweb.org/jalal/ontologies/2023/10/movie-ontology#Person_13856, Movie Count: 8\n",
            "Actor: http://www.semanticweb.org/jalal/ontologies/2023/10/movie-ontology#Person_121323, Movie Count: 21\n",
            "Actor: http://www.semanticweb.org/jalal/ontologies/2023/10/movie-ontology#Person_2636, Movie Count: 18\n",
            "Actor: http://www.semanticweb.org/jalal/ontologies/2023/10/movie-ontology#Person_119542, Movie Count: 6\n",
            "Actor: http://www.semanticweb.org/jalal/ontologies/2023/10/movie-ontology#Person_1130451, Movie Count: 10\n",
            "Actor: http://www.semanticweb.org/jalal/ontologies/2023/10/movie-ontology#Person_120445, Movie Count: 9\n",
            "Actor: http://www.semanticweb.org/jalal/ontologies/2023/10/movie-ontology#Person_1417927, Movie Count: 7\n",
            "Actor: http://www.semanticweb.org/jalal/ontologies/2023/10/movie-ontology#Person_1469587, Movie Count: 8\n",
            "Actor: http://www.semanticweb.org/jalal/ontologies/2023/10/movie-ontology#Person_179327, Movie Count: 8\n",
            "Actor: http://www.semanticweb.org/jalal/ontologies/2023/10/movie-ontology#Person_1364421, Movie Count: 7\n",
            "Actor: http://www.semanticweb.org/jalal/ontologies/2023/10/movie-ontology#Person_120070, Movie Count: 8\n",
            "Actor: http://www.semanticweb.org/jalal/ontologies/2023/10/movie-ontology#Person_1537729, Movie Count: 7\n",
            "Actor: http://www.semanticweb.org/jalal/ontologies/2023/10/movie-ontology#Person_2683, Movie Count: 6\n",
            "Actor: http://www.semanticweb.org/jalal/ontologies/2023/10/movie-ontology#Person_2714, Movie Count: 7\n",
            "Actor: http://www.semanticweb.org/jalal/ontologies/2023/10/movie-ontology#Person_27164, Movie Count: 6\n",
            "Actor: http://www.semanticweb.org/jalal/ontologies/2023/10/movie-ontology#Person_975597, Movie Count: 7\n",
            "Actor: http://www.semanticweb.org/jalal/ontologies/2023/10/movie-ontology#Person_1551605, Movie Count: 6\n",
            "Actor: http://www.semanticweb.org/jalal/ontologies/2023/10/movie-ontology#Person_1432701, Movie Count: 7\n",
            "Actor: http://www.semanticweb.org/jalal/ontologies/2023/10/movie-ontology#Person_572525, Movie Count: 6\n",
            "Actor: http://www.semanticweb.org/jalal/ontologies/2023/10/movie-ontology#Person_120178, Movie Count: 6\n",
            "Actor: http://www.semanticweb.org/jalal/ontologies/2023/10/movie-ontology#Person_25579, Movie Count: 7\n",
            "Actor: http://www.semanticweb.org/jalal/ontologies/2023/10/movie-ontology#Person_2838, Movie Count: 7\n",
            "Actor: http://www.semanticweb.org/jalal/ontologies/2023/10/movie-ontology#Person_2876, Movie Count: 8\n",
            "Actor: http://www.semanticweb.org/jalal/ontologies/2023/10/movie-ontology#Person_1769, Movie Count: 6\n",
            "Actor: http://www.semanticweb.org/jalal/ontologies/2023/10/movie-ontology#Person_2963, Movie Count: 13\n",
            "Actor: http://www.semanticweb.org/jalal/ontologies/2023/10/movie-ontology#Person_3801, Movie Count: 7\n",
            "Actor: http://www.semanticweb.org/jalal/ontologies/2023/10/movie-ontology#Person_3041, Movie Count: 6\n",
            "Actor: http://www.semanticweb.org/jalal/ontologies/2023/10/movie-ontology#Person_3051, Movie Count: 8\n",
            "Actor: http://www.semanticweb.org/jalal/ontologies/2023/10/movie-ontology#Person_3151, Movie Count: 7\n",
            "Actor: http://www.semanticweb.org/jalal/ontologies/2023/10/movie-ontology#Person_1543059, Movie Count: 6\n",
            "Actor: http://www.semanticweb.org/jalal/ontologies/2023/10/movie-ontology#Person_16417, Movie Count: 6\n",
            "Actor: http://www.semanticweb.org/jalal/ontologies/2023/10/movie-ontology#Person_115331, Movie Count: 6\n",
            "Actor: http://www.semanticweb.org/jalal/ontologies/2023/10/movie-ontology#Person_3085, Movie Count: 6\n",
            "Actor: http://www.semanticweb.org/jalal/ontologies/2023/10/movie-ontology#Person_3092, Movie Count: 6\n",
            "Actor: http://www.semanticweb.org/jalal/ontologies/2023/10/movie-ontology#Person_3094, Movie Count: 10\n",
            "Actor: http://www.semanticweb.org/jalal/ontologies/2023/10/movie-ontology#Person_1074209, Movie Count: 6\n",
            "Actor: http://www.semanticweb.org/jalal/ontologies/2023/10/movie-ontology#Person_3061, Movie Count: 10\n",
            "Actor: http://www.semanticweb.org/jalal/ontologies/2023/10/movie-ontology#Person_3063, Movie Count: 7\n",
            "Actor: http://www.semanticweb.org/jalal/ontologies/2023/10/movie-ontology#Person_5048, Movie Count: 15\n",
            "Actor: http://www.semanticweb.org/jalal/ontologies/2023/10/movie-ontology#Person_3196, Movie Count: 7\n",
            "Actor: http://www.semanticweb.org/jalal/ontologies/2023/10/movie-ontology#Person_3223, Movie Count: 6\n",
            "Actor: http://www.semanticweb.org/jalal/ontologies/2023/10/movie-ontology#Person_3197, Movie Count: 8\n",
            "Actor: http://www.semanticweb.org/jalal/ontologies/2023/10/movie-ontology#Person_3201, Movie Count: 7\n",
            "Actor: http://www.semanticweb.org/jalal/ontologies/2023/10/movie-ontology#Person_3211, Movie Count: 8\n",
            "Actor: http://www.semanticweb.org/jalal/ontologies/2023/10/movie-ontology#Person_42824, Movie Count: 6\n",
            "Actor: http://www.semanticweb.org/jalal/ontologies/2023/10/movie-ontology#Person_3291, Movie Count: 6\n",
            "Actor: http://www.semanticweb.org/jalal/ontologies/2023/10/movie-ontology#Person_3293, Movie Count: 10\n",
            "Actor: http://www.semanticweb.org/jalal/ontologies/2023/10/movie-ontology#Person_955691, Movie Count: 6\n",
            "Actor: http://www.semanticweb.org/jalal/ontologies/2023/10/movie-ontology#Person_3392, Movie Count: 7\n",
            "Actor: http://www.semanticweb.org/jalal/ontologies/2023/10/movie-ontology#Person_164809, Movie Count: 7\n",
            "Actor: http://www.semanticweb.org/jalal/ontologies/2023/10/movie-ontology#Person_126836, Movie Count: 6\n",
            "Actor: http://www.semanticweb.org/jalal/ontologies/2023/10/movie-ontology#Person_3418, Movie Count: 8\n",
            "Actor: http://www.semanticweb.org/jalal/ontologies/2023/10/movie-ontology#Person_3489, Movie Count: 7\n",
            "Actor: http://www.semanticweb.org/jalal/ontologies/2023/10/movie-ontology#Person_10222, Movie Count: 7\n",
            "Actor: http://www.semanticweb.org/jalal/ontologies/2023/10/movie-ontology#Person_9874, Movie Count: 12\n",
            "Actor: http://www.semanticweb.org/jalal/ontologies/2023/10/movie-ontology#Person_9878, Movie Count: 15\n",
            "Actor: http://www.semanticweb.org/jalal/ontologies/2023/10/movie-ontology#Person_3524, Movie Count: 7\n",
            "Actor: http://www.semanticweb.org/jalal/ontologies/2023/10/movie-ontology#Person_3636, Movie Count: 6\n",
            "Actor: http://www.semanticweb.org/jalal/ontologies/2023/10/movie-ontology#Person_3798, Movie Count: 6\n",
            "Actor: http://www.semanticweb.org/jalal/ontologies/2023/10/movie-ontology#Person_3896, Movie Count: 10\n",
            "Actor: http://www.semanticweb.org/jalal/ontologies/2023/10/movie-ontology#Person_3872, Movie Count: 7\n",
            "Actor: http://www.semanticweb.org/jalal/ontologies/2023/10/movie-ontology#Person_4173, Movie Count: 7\n",
            "Actor: http://www.semanticweb.org/jalal/ontologies/2023/10/movie-ontology#Person_13936, Movie Count: 8\n",
            "Actor: http://www.semanticweb.org/jalal/ontologies/2023/10/movie-ontology#Person_3905, Movie Count: 7\n",
            "Actor: http://www.semanticweb.org/jalal/ontologies/2023/10/movie-ontology#Person_3910, Movie Count: 9\n",
            "Actor: http://www.semanticweb.org/jalal/ontologies/2023/10/movie-ontology#Person_11357, Movie Count: 8\n",
            "Actor: http://www.semanticweb.org/jalal/ontologies/2023/10/movie-ontology#Person_3952, Movie Count: 6\n",
            "Actor: http://www.semanticweb.org/jalal/ontologies/2023/10/movie-ontology#Person_3982, Movie Count: 6\n",
            "Actor: http://www.semanticweb.org/jalal/ontologies/2023/10/movie-ontology#Person_14329, Movie Count: 7\n",
            "Actor: http://www.semanticweb.org/jalal/ontologies/2023/10/movie-ontology#Person_1598135, Movie Count: 7\n",
            "Actor: http://www.semanticweb.org/jalal/ontologies/2023/10/movie-ontology#Person_5469, Movie Count: 7\n",
            "Actor: http://www.semanticweb.org/jalal/ontologies/2023/10/movie-ontology#Person_9780, Movie Count: 8\n",
            "Actor: http://www.semanticweb.org/jalal/ontologies/2023/10/movie-ontology#Person_7132, Movie Count: 8\n",
            "Actor: http://www.semanticweb.org/jalal/ontologies/2023/10/movie-ontology#Person_6396, Movie Count: 7\n",
            "Actor: http://www.semanticweb.org/jalal/ontologies/2023/10/movie-ontology#Person_14792, Movie Count: 6\n",
            "Actor: http://www.semanticweb.org/jalal/ontologies/2023/10/movie-ontology#Person_4252, Movie Count: 6\n",
            "Actor: http://www.semanticweb.org/jalal/ontologies/2023/10/movie-ontology#Person_4121, Movie Count: 6\n",
            "Actor: http://www.semanticweb.org/jalal/ontologies/2023/10/movie-ontology#Person_1471682, Movie Count: 6\n",
            "Actor: http://www.semanticweb.org/jalal/ontologies/2023/10/movie-ontology#Person_4139, Movie Count: 6\n",
            "Actor: http://www.semanticweb.org/jalal/ontologies/2023/10/movie-ontology#Person_4135, Movie Count: 8\n",
            "Actor: http://www.semanticweb.org/jalal/ontologies/2023/10/movie-ontology#Person_44079, Movie Count: 7\n",
            "Actor: http://www.semanticweb.org/jalal/ontologies/2023/10/movie-ontology#Person_81687, Movie Count: 6\n",
            "Actor: http://www.semanticweb.org/jalal/ontologies/2023/10/movie-ontology#Person_61704, Movie Count: 6\n",
            "Actor: http://www.semanticweb.org/jalal/ontologies/2023/10/movie-ontology#Person_4430, Movie Count: 6\n",
            "Actor: http://www.semanticweb.org/jalal/ontologies/2023/10/movie-ontology#Person_4492, Movie Count: 6\n",
            "Actor: http://www.semanticweb.org/jalal/ontologies/2023/10/movie-ontology#Person_53257, Movie Count: 6\n",
            "Actor: http://www.semanticweb.org/jalal/ontologies/2023/10/movie-ontology#Person_233298, Movie Count: 6\n",
            "Actor: http://www.semanticweb.org/jalal/ontologies/2023/10/movie-ontology#Person_4517, Movie Count: 12\n",
            "Actor: http://www.semanticweb.org/jalal/ontologies/2023/10/movie-ontology#Person_4521, Movie Count: 10\n",
            "Actor: http://www.semanticweb.org/jalal/ontologies/2023/10/movie-ontology#Person_6161, Movie Count: 6\n",
            "Actor: http://www.semanticweb.org/jalal/ontologies/2023/10/movie-ontology#Person_4566, Movie Count: 14\n",
            "Actor: http://www.semanticweb.org/jalal/ontologies/2023/10/movie-ontology#Person_10205, Movie Count: 8\n",
            "Actor: http://www.semanticweb.org/jalal/ontologies/2023/10/movie-ontology#Person_4654, Movie Count: 6\n",
            "Actor: http://www.semanticweb.org/jalal/ontologies/2023/10/movie-ontology#Person_4971, Movie Count: 6\n",
            "Actor: http://www.semanticweb.org/jalal/ontologies/2023/10/movie-ontology#Person_4687, Movie Count: 6\n",
            "Actor: http://www.semanticweb.org/jalal/ontologies/2023/10/movie-ontology#Person_4690, Movie Count: 8\n",
            "Actor: http://www.semanticweb.org/jalal/ontologies/2023/10/movie-ontology#Person_5576, Movie Count: 6\n",
            "Actor: http://www.semanticweb.org/jalal/ontologies/2023/10/movie-ontology#Person_4935, Movie Count: 8\n",
            "Actor: http://www.semanticweb.org/jalal/ontologies/2023/10/movie-ontology#Person_31028, Movie Count: 7\n",
            "Actor: http://www.semanticweb.org/jalal/ontologies/2023/10/movie-ontology#Person_4784, Movie Count: 6\n",
            "Actor: http://www.semanticweb.org/jalal/ontologies/2023/10/movie-ontology#Person_4942, Movie Count: 6\n",
            "Actor: http://www.semanticweb.org/jalal/ontologies/2023/10/movie-ontology#Person_17413, Movie Count: 7\n",
            "Actor: http://www.semanticweb.org/jalal/ontologies/2023/10/movie-ontology#Person_4757, Movie Count: 6\n",
            "Actor: http://www.semanticweb.org/jalal/ontologies/2023/10/movie-ontology#Person_10691, Movie Count: 7\n",
            "Actor: http://www.semanticweb.org/jalal/ontologies/2023/10/movie-ontology#Person_4776, Movie Count: 6\n",
            "Actor: http://www.semanticweb.org/jalal/ontologies/2023/10/movie-ontology#Person_9291, Movie Count: 7\n",
            "Actor: http://www.semanticweb.org/jalal/ontologies/2023/10/movie-ontology#Person_1383838, Movie Count: 9\n",
            "Actor: http://www.semanticweb.org/jalal/ontologies/2023/10/movie-ontology#Person_49895, Movie Count: 7\n",
            "Actor: http://www.semanticweb.org/jalal/ontologies/2023/10/movie-ontology#Person_4958, Movie Count: 6\n",
            "Actor: http://www.semanticweb.org/jalal/ontologies/2023/10/movie-ontology#Person_2650253, Movie Count: 6\n",
            "Actor: http://www.semanticweb.org/jalal/ontologies/2023/10/movie-ontology#Person_235722, Movie Count: 6\n",
            "Actor: http://www.semanticweb.org/jalal/ontologies/2023/10/movie-ontology#Person_5064, Movie Count: 7\n",
            "Actor: http://www.semanticweb.org/jalal/ontologies/2023/10/movie-ontology#Person_17005, Movie Count: 6\n",
            "Actor: http://www.semanticweb.org/jalal/ontologies/2023/10/movie-ontology#Person_4483, Movie Count: 12\n",
            "Actor: http://www.semanticweb.org/jalal/ontologies/2023/10/movie-ontology#Person_7623, Movie Count: 6\n",
            "Actor: http://www.semanticweb.org/jalal/ontologies/2023/10/movie-ontology#Person_5216, Movie Count: 6\n",
            "Actor: http://www.semanticweb.org/jalal/ontologies/2023/10/movie-ontology#Person_5309, Movie Count: 6\n",
            "Actor: http://www.semanticweb.org/jalal/ontologies/2023/10/movie-ontology#Person_5502, Movie Count: 6\n",
            "Actor: http://www.semanticweb.org/jalal/ontologies/2023/10/movie-ontology#Person_5578, Movie Count: 6\n",
            "Actor: http://www.semanticweb.org/jalal/ontologies/2023/10/movie-ontology#Person_16580, Movie Count: 7\n",
            "Actor: http://www.semanticweb.org/jalal/ontologies/2023/10/movie-ontology#Person_16643, Movie Count: 6\n",
            "Actor: http://www.semanticweb.org/jalal/ontologies/2023/10/movie-ontology#Person_5658, Movie Count: 7\n",
            "Actor: http://www.semanticweb.org/jalal/ontologies/2023/10/movie-ontology#Person_141067, Movie Count: 6\n",
            "Actor: http://www.semanticweb.org/jalal/ontologies/2023/10/movie-ontology#Person_6368, Movie Count: 6\n",
            "Actor: http://www.semanticweb.org/jalal/ontologies/2023/10/movie-ontology#Person_5789, Movie Count: 10\n",
            "Actor: http://www.semanticweb.org/jalal/ontologies/2023/10/movie-ontology#Person_6193, Movie Count: 7\n",
            "Actor: http://www.semanticweb.org/jalal/ontologies/2023/10/movie-ontology#Person_55636, Movie Count: 9\n",
            "Actor: http://www.semanticweb.org/jalal/ontologies/2023/10/movie-ontology#Person_16483, Movie Count: 13\n",
            "Actor: http://www.semanticweb.org/jalal/ontologies/2023/10/movie-ontology#Person_6384, Movie Count: 17\n",
            "Actor: http://www.semanticweb.org/jalal/ontologies/2023/10/movie-ontology#Person_6450, Movie Count: 6\n",
            "Actor: http://www.semanticweb.org/jalal/ontologies/2023/10/movie-ontology#Person_6610, Movie Count: 10\n",
            "Actor: http://www.semanticweb.org/jalal/ontologies/2023/10/movie-ontology#Person_6914, Movie Count: 8\n",
            "Actor: http://www.semanticweb.org/jalal/ontologies/2023/10/movie-ontology#Person_219736, Movie Count: 6\n",
            "Actor: http://www.semanticweb.org/jalal/ontologies/2023/10/movie-ontology#Person_7180, Movie Count: 6\n",
            "Actor: http://www.semanticweb.org/jalal/ontologies/2023/10/movie-ontology#Person_7908, Movie Count: 9\n",
            "Actor: http://www.semanticweb.org/jalal/ontologies/2023/10/movie-ontology#Person_4610, Movie Count: 6\n",
            "Actor: http://www.semanticweb.org/jalal/ontologies/2023/10/movie-ontology#Person_18262, Movie Count: 6\n",
            "Actor: http://www.semanticweb.org/jalal/ontologies/2023/10/movie-ontology#Person_7248, Movie Count: 6\n",
            "Actor: http://www.semanticweb.org/jalal/ontologies/2023/10/movie-ontology#Person_7499, Movie Count: 7\n",
            "Actor: http://www.semanticweb.org/jalal/ontologies/2023/10/movie-ontology#Person_17449, Movie Count: 6\n",
            "Actor: http://www.semanticweb.org/jalal/ontologies/2023/10/movie-ontology#Person_7502, Movie Count: 6\n",
            "Actor: http://www.semanticweb.org/jalal/ontologies/2023/10/movie-ontology#Person_7505, Movie Count: 7\n",
            "Actor: http://www.semanticweb.org/jalal/ontologies/2023/10/movie-ontology#Person_19468, Movie Count: 6\n",
            "Actor: http://www.semanticweb.org/jalal/ontologies/2023/10/movie-ontology#Person_11769, Movie Count: 8\n",
            "Actor: http://www.semanticweb.org/jalal/ontologies/2023/10/movie-ontology#Person_7624, Movie Count: 9\n",
            "Actor: http://www.semanticweb.org/jalal/ontologies/2023/10/movie-ontology#Person_4724, Movie Count: 8\n",
            "Actor: http://www.semanticweb.org/jalal/ontologies/2023/10/movie-ontology#Person_15661, Movie Count: 6\n",
            "Actor: http://www.semanticweb.org/jalal/ontologies/2023/10/movie-ontology#Person_8930, Movie Count: 7\n",
            "Actor: http://www.semanticweb.org/jalal/ontologies/2023/10/movie-ontology#Person_14991, Movie Count: 6\n",
            "Actor: http://www.semanticweb.org/jalal/ontologies/2023/10/movie-ontology#Person_8289, Movie Count: 6\n",
            "Actor: http://www.semanticweb.org/jalal/ontologies/2023/10/movie-ontology#Person_1511945, Movie Count: 6\n",
            "Actor: http://www.semanticweb.org/jalal/ontologies/2023/10/movie-ontology#Person_4303, Movie Count: 8\n",
            "Actor: http://www.semanticweb.org/jalal/ontologies/2023/10/movie-ontology#Person_8984, Movie Count: 6\n",
            "Actor: http://www.semanticweb.org/jalal/ontologies/2023/10/movie-ontology#Person_9626, Movie Count: 6\n",
            "Actor: http://www.semanticweb.org/jalal/ontologies/2023/10/movie-ontology#Person_9191, Movie Count: 8\n",
            "Actor: http://www.semanticweb.org/jalal/ontologies/2023/10/movie-ontology#Person_18023, Movie Count: 6\n",
            "Actor: http://www.semanticweb.org/jalal/ontologies/2023/10/movie-ontology#Person_9029, Movie Count: 7\n",
            "Actor: http://www.semanticweb.org/jalal/ontologies/2023/10/movie-ontology#Person_9221, Movie Count: 6\n",
            "Actor: http://www.semanticweb.org/jalal/ontologies/2023/10/movie-ontology#Person_9642, Movie Count: 11\n",
            "Actor: http://www.semanticweb.org/jalal/ontologies/2023/10/movie-ontology#Person_9906, Movie Count: 16\n",
            "Actor: http://www.semanticweb.org/jalal/ontologies/2023/10/movie-ontology#Person_10513, Movie Count: 6\n",
            "Actor: http://www.semanticweb.org/jalal/ontologies/2023/10/movie-ontology#Person_10980, Movie Count: 6\n",
            "Actor: http://www.semanticweb.org/jalal/ontologies/2023/10/movie-ontology#Person_10989, Movie Count: 6\n",
            "Actor: http://www.semanticweb.org/jalal/ontologies/2023/10/movie-ontology#Person_10990, Movie Count: 6\n",
            "Actor: http://www.semanticweb.org/jalal/ontologies/2023/10/movie-ontology#Person_10993, Movie Count: 7\n",
            "Actor: http://www.semanticweb.org/jalal/ontologies/2023/10/movie-ontology#Person_10978, Movie Count: 7\n",
            "Actor: http://www.semanticweb.org/jalal/ontologies/2023/10/movie-ontology#Person_10983, Movie Count: 6\n",
            "Actor: http://www.semanticweb.org/jalal/ontologies/2023/10/movie-ontology#Person_11180, Movie Count: 7\n",
            "Actor: http://www.semanticweb.org/jalal/ontologies/2023/10/movie-ontology#Person_96841, Movie Count: 6\n",
            "Actor: http://www.semanticweb.org/jalal/ontologies/2023/10/movie-ontology#Person_11184, Movie Count: 11\n",
            "Actor: http://www.semanticweb.org/jalal/ontologies/2023/10/movie-ontology#Person_96851, Movie Count: 6\n",
            "Actor: http://www.semanticweb.org/jalal/ontologies/2023/10/movie-ontology#Person_140368, Movie Count: 6\n",
            "Actor: http://www.semanticweb.org/jalal/ontologies/2023/10/movie-ontology#Person_234923, Movie Count: 6\n",
            "Actor: http://www.semanticweb.org/jalal/ontologies/2023/10/movie-ontology#Person_234922, Movie Count: 6\n",
            "Actor: http://www.semanticweb.org/jalal/ontologies/2023/10/movie-ontology#Person_956224, Movie Count: 6\n",
            "Actor: http://www.semanticweb.org/jalal/ontologies/2023/10/movie-ontology#Person_11212, Movie Count: 6\n",
            "Actor: http://www.semanticweb.org/jalal/ontologies/2023/10/movie-ontology#Person_10991, Movie Count: 6\n",
            "Actor: http://www.semanticweb.org/jalal/ontologies/2023/10/movie-ontology#Person_20999, Movie Count: 6\n",
            "Actor: http://www.semanticweb.org/jalal/ontologies/2023/10/movie-ontology#Person_10279, Movie Count: 6\n",
            "Actor: http://www.semanticweb.org/jalal/ontologies/2023/10/movie-ontology#Person_10158, Movie Count: 7\n",
            "Actor: http://www.semanticweb.org/jalal/ontologies/2023/10/movie-ontology#Person_10182, Movie Count: 8\n",
            "Actor: http://www.semanticweb.org/jalal/ontologies/2023/10/movie-ontology#Person_13697, Movie Count: 7\n",
            "Actor: http://www.semanticweb.org/jalal/ontologies/2023/10/movie-ontology#Person_10462, Movie Count: 7\n",
            "Actor: http://www.semanticweb.org/jalal/ontologies/2023/10/movie-ontology#Person_33185, Movie Count: 6\n",
            "Actor: http://www.semanticweb.org/jalal/ontologies/2023/10/movie-ontology#Person_16504, Movie Count: 8\n",
            "Actor: http://www.semanticweb.org/jalal/ontologies/2023/10/movie-ontology#Person_11160, Movie Count: 6\n",
            "Actor: http://www.semanticweb.org/jalal/ontologies/2023/10/movie-ontology#Person_11701, Movie Count: 7\n",
            "Actor: http://www.semanticweb.org/jalal/ontologies/2023/10/movie-ontology#Person_12073, Movie Count: 6\n",
            "Actor: http://www.semanticweb.org/jalal/ontologies/2023/10/movie-ontology#Person_12052, Movie Count: 7\n",
            "Actor: http://www.semanticweb.org/jalal/ontologies/2023/10/movie-ontology#Person_12515, Movie Count: 6\n",
            "Actor: http://www.semanticweb.org/jalal/ontologies/2023/10/movie-ontology#Person_14721, Movie Count: 6\n",
            "Actor: http://www.semanticweb.org/jalal/ontologies/2023/10/movie-ontology#Person_16543, Movie Count: 6\n",
            "Actor: http://www.semanticweb.org/jalal/ontologies/2023/10/movie-ontology#Person_16523, Movie Count: 7\n",
            "Actor: http://www.semanticweb.org/jalal/ontologies/2023/10/movie-ontology#Person_18277, Movie Count: 8\n",
            "Actor: http://www.semanticweb.org/jalal/ontologies/2023/10/movie-ontology#Person_17882, Movie Count: 6\n"
          ]
        }
      ]
    },
    {
      "cell_type": "code",
      "source": [
        "query = \"\"\"\n",
        "PREFIX : <http://www.semanticweb.org/jalal/ontologies/2023/10/movie-ontology#>\n",
        "\n",
        "SELECT ?movieTitle (GROUP_CONCAT(DISTINCT ?role;separator=\", \") AS ?roles) ?personName\n",
        "WHERE {\n",
        "    {\n",
        "        ?movie :hasActor ?person ;\n",
        "               :title ?movieTitle .\n",
        "        ?person :name ?personName .\n",
        "        BIND(\"Actor\" AS ?role)\n",
        "    } UNION {\n",
        "        ?movie :filmedBy ?person ;\n",
        "               :title ?movieTitle .\n",
        "        ?person :name ?personName .\n",
        "        BIND(\"Director\" AS ?role)\n",
        "    } UNION {\n",
        "        ?movie :producedBy ?person ;\n",
        "               :title ?movieTitle .\n",
        "        ?person :name ?personName .\n",
        "        BIND(\"Producer\" AS ?role)\n",
        "    } UNION {\n",
        "        ?movie :writtenBy ?person ;\n",
        "               :title ?movieTitle .\n",
        "        ?person :name ?personName .\n",
        "        BIND(\"Writer\" AS ?role)\n",
        "    }\n",
        "}\n",
        "GROUP BY ?movieTitle ?personName\n",
        "HAVING (COUNT(DISTINCT ?role) > 1)\n",
        "\"\"\"\n",
        "for row in g.query(query):\n",
        "    print(f\"Movie: {row.movieTitle}, Person: {row.personName}, Roles: {row.roles}\")\n"
      ],
      "metadata": {
        "colab": {
          "base_uri": "https://localhost:8080/"
        },
        "id": "vbkPyk98I0Zy",
        "outputId": "365238dd-fe6f-4de1-c120-ab49596d68b0"
      },
      "execution_count": 26,
      "outputs": [
        {
          "output_type": "stream",
          "name": "stdout",
          "text": [
            "Movie: Frida, Person: Salma Hayek Pinault, Roles: Actor, Director\n",
            "Movie: Jackie Brown, Person: Quentin Tarantino, Roles: Actor, Writer\n",
            "Movie: Pulp Fiction, Person: Quentin Tarantino, Roles: Actor, Writer\n",
            "Movie: From Dusk Till Dawn, Person: Quentin Tarantino, Roles: Actor, Writer\n",
            "Movie: Death Proof, Person: Quentin Tarantino, Roles: Actor, Director, Writer\n",
            "Movie: Planet Terror, Person: Quentin Tarantino, Roles: Actor, Director\n",
            "Movie: Four Rooms, Person: Lawrence Bender, Roles: Actor, Director\n",
            "Movie: Reservoir Dogs, Person: Lawrence Bender, Roles: Actor, Director\n",
            "Movie: Pulp Fiction, Person: Lawrence Bender, Roles: Actor, Director\n",
            "Movie: American Beauty, Person: Bruce Cohen, Roles: Actor, Director\n",
            "Movie: Cars, Person: Joe Ranft, Roles: Actor, Writer\n",
            "Movie: Finding Nemo, Person: Andrew Stanton, Roles: Actor, Writer\n",
            "Movie: Toy Story 2, Person: Andrew Stanton, Roles: Actor, Writer\n",
            "Movie: Toy Story, Person: Andrew Stanton, Roles: Actor, Writer\n",
            "Movie: Finding Nemo, Person: Bob Peterson, Roles: Actor, Writer\n",
            "Movie: La Haine, Person: Mathieu Kassovitz, Roles: Actor, Writer\n",
            "Movie: My Life Without Me, Person: Esther García, Roles: Actor, Director\n",
            "Movie: Citizen Kane, Person: Orson Welles, Roles: Actor, Director, Writer\n",
            "Movie: The Magnificent Ambersons, Person: Orson Welles, Roles: Actor, Director, Writer\n",
            "Movie: Chimes at Midnight, Person: Orson Welles, Roles: Actor, Writer\n",
            "Movie: Touch of Evil, Person: Orson Welles, Roles: Actor, Writer\n",
            "Movie: Citizen Kane, Person: Gregg Toland, Roles: Actor, Director\n",
            "Movie: Citizen Kane, Person: Herman J. Mankiewicz, Roles: Actor, Writer\n",
            "Movie: The Endless Summer, Person: Bruce Brown, Roles: Actor, Director\n",
            "Movie: Easy Rider, Person: Dennis Hopper, Roles: Actor, Writer\n",
            "Movie: Apocalypse Now, Person: Vittorio Storaro, Roles: Actor, Director\n",
            "Movie: Apocalypse Now, Person: Francis Ford Coppola, Roles: Actor, Director\n",
            "Movie: Bruce Almighty, Person: Jim Carrey, Roles: Actor, Director\n",
            "Movie: Unforgiven, Person: Clint Eastwood, Roles: Actor, Director\n",
            "Movie: Million Dollar Baby, Person: Clint Eastwood, Roles: Actor, Director\n",
            "Movie: Absolute Power, Person: Clint Eastwood, Roles: Actor, Director\n",
            "Movie: The Bridges of Madison County, Person: Clint Eastwood, Roles: Actor, Director\n",
            "Movie: Wag the Dog, Person: Robert De Niro, Roles: Actor, Director\n",
            "Movie: Meet the Fockers, Person: Robert De Niro, Roles: Actor, Director\n",
            "Movie: The Good Shepherd, Person: Robert De Niro, Roles: Actor, Director\n",
            "Movie: Meet the Parents, Person: Robert De Niro, Roles: Actor, Director\n",
            "Movie: A Bronx Tale, Person: Robert De Niro, Roles: Actor, Director\n",
            "Movie: Life of Brian, Person: Michael Palin, Roles: Actor, Writer\n",
            "Movie: Brazil, Person: Terry Gilliam, Roles: Actor, Writer\n",
            "Movie: Life of Brian, Person: Terry Gilliam, Roles: Actor, Writer\n",
            "Movie: Brazil, Person: Charles McKeown, Roles: Actor, Writer\n",
            "Movie: 2001: A Space Odyssey, Person: Stanley Kubrick, Roles: Actor, Director, Writer\n",
            "Movie: Eyes Wide Shut, Person: Stanley Kubrick, Roles: Actor, Director, Writer\n",
            "Movie: Full Metal Jacket, Person: Stanley Kubrick, Roles: Actor, Director, Writer\n",
            "Movie: Talk to Her, Person: Agustín Almodóvar, Roles: Actor, Director\n",
            "Movie: Bad Education, Person: Agustín Almodóvar, Roles: Actor, Director\n",
            "Movie: Walk the Line, Person: James Keach, Roles: Actor, Director\n",
            "Movie: The Last Samurai, Person: Tom Cruise, Roles: Actor, Director\n",
            "Movie: Mission: Impossible II, Person: Tom Cruise, Roles: Actor, Director\n",
            "Movie: Mission: Impossible, Person: Tom Cruise, Roles: Actor, Director\n",
            "Movie: Mission: Impossible III, Person: Tom Cruise, Roles: Actor, Director\n",
            "Movie: Vanilla Sky, Person: Tom Cruise, Roles: Actor, Director\n",
            "Movie: The Thomas Crown Affair, Person: Pierce Brosnan, Roles: Actor, Director\n",
            "Movie: Man on the Moon, Person: Danny DeVito, Roles: Actor, Director\n",
            "Movie: Before Sunset, Person: Ethan Hawke, Roles: Actor, Writer\n",
            "Movie: Before Sunset, Person: Julie Delpy, Roles: Actor, Writer\n",
            "Movie: 2 Days in Paris, Person: Julie Delpy, Roles: Actor, Director, Writer\n",
            "Movie: Reclaim Your Brain, Person: Hans Weingartner, Roles: Actor, Director, Writer\n",
            "Movie: Before Sunrise, Person: Richard Linklater, Roles: Actor, Writer\n",
            "Movie: Ghostbusters, Person: Dan Aykroyd, Roles: Actor, Writer\n",
            "Movie: Star Wars: Episode III - Revenge of the Sith, Person: George Lucas, Roles: Actor, Writer\n",
            "Movie: Raiders of the Lost Ark, Person: Frank Marshall, Roles: Actor, Director\n",
            "Movie: Finding Forrester, Person: Sean Connery, Roles: Actor, Director\n",
            "Movie: Entrapment, Person: Sean Connery, Roles: Actor, Director\n",
            "Movie: You, Me and Dupree, Person: Owen Wilson, Roles: Actor, Director\n",
            "Movie: Armageddon, Person: Michael Bay, Roles: Actor, Director\n",
            "Movie: Lock, Stock and Two Smoking Barrels, Person: Tim Maurice-Jones, Roles: Actor, Director\n",
            "Movie: Lock, Stock and Two Smoking Barrels, Person: Matthew Vaughn, Roles: Actor, Director\n",
            "Movie: Nell, Person: Jodie Foster, Roles: Actor, Director\n",
            "Movie: Mean Streets, Person: Martin Scorsese, Roles: Actor, Director, Writer\n",
            "Movie: Taxi Driver, Person: Michael Phillips, Roles: Actor, Director\n",
            "Movie: Pretty Woman, Person: Charles Minsky, Roles: Actor, Director\n",
            "Movie: Dances with Wolves, Person: Kevin Costner, Roles: Actor, Director\n",
            "Movie: The Bodyguard, Person: Kevin Costner, Roles: Actor, Director\n",
            "Movie: The Lord of the Rings: The Two Towers, Person: Peter Jackson, Roles: Actor, Director, Writer\n",
            "Movie: The Lord of the Rings: The Fellowship of the Ring, Person: Peter Jackson, Roles: Actor, Director, Writer\n",
            "Movie: The Lord of the Rings: The Return of the King, Person: Peter Jackson, Roles: Actor, Director, Writer\n",
            "Movie: King Kong, Person: Peter Jackson, Roles: Actor, Director\n",
            "Movie: Braindead, Person: Peter Jackson, Roles: Actor, Writer\n",
            "Movie: Heavenly Creatures, Person: Peter Jackson, Roles: Actor, Writer\n",
            "Movie: The Lord of the Rings: The Two Towers, Person: Barrie M. Osborne, Roles: Actor, Director\n",
            "Movie: The Lord of the Rings: The Return of the King, Person: Andrew Lesnie, Roles: Actor, Director\n",
            "Movie: Gimme Shelter, Person: Albert Maysles, Roles: Actor, Director\n",
            "Movie: Gimme Shelter, Person: David Maysles, Roles: Actor, Director\n",
            "Movie: Primary, Person: Robert Drew, Roles: Actor, Director\n",
            "Movie: Bob Dylan - Dont Look Back, Person: Albert Grossman, Roles: Actor, Director\n",
            "Movie: Dracula, Person: Tod Browning, Roles: Actor, Director\n",
            "Movie: Groundhog Day, Person: Harold Ramis, Roles: Actor, Director, Writer\n",
            "Movie: Ghostbusters, Person: Harold Ramis, Roles: Actor, Writer\n",
            "Movie: Chinatown, Person: C.O. Erickson, Roles: Actor, Director\n",
            "Movie: The 400 Blows, Person: François Truffaut, Roles: Actor, Director, Writer\n",
            "Movie: Bed and Board, Person: François Truffaut, Roles: Actor, Director, Writer\n",
            "Movie: The Man Who Loved Women, Person: François Truffaut, Roles: Actor, Director, Writer\n",
            "Movie: The Wild Child, Person: François Truffaut, Roles: Actor, Writer\n",
            "Movie: Small Change, Person: François Truffaut, Roles: Actor, Director, Writer\n",
            "Movie: Day for Night, Person: François Truffaut, Roles: Actor, Writer\n",
            "Movie: The Soft Skin, Person: François Truffaut, Roles: Actor, Director, Writer\n",
            "Movie: The Story of Adele H., Person: François Truffaut, Roles: Actor, Writer\n",
            "Movie: Brokeback Mountain, Person: Rodrigo Prieto, Roles: Actor, Director\n",
            "Movie: Wings of Desire, Person: Bernard Eisenschitz, Roles: Actor, Writer\n",
            "Movie: Get Carter, Person: Michael Caine, Roles: Actor, Director\n",
            "Movie: Knockin' on Heaven's Door, Person: Til Schweiger, Roles: Actor, Director\n",
            "Movie: Knockin' on Heaven's Door, Person: Christoph Ott, Roles: Actor, Director\n",
            "Movie: Ocean's Eleven, Person: Jerry Weintraub, Roles: Actor, Director\n",
            "Movie: Ocean's Twelve, Person: Jerry Weintraub, Roles: Actor, Director\n",
            "Movie: Ocean's Thirteen, Person: Jerry Weintraub, Roles: Actor, Director\n",
            "Movie: Crash, Person: Don Cheadle, Roles: Actor, Director\n",
            "Movie: Ocean's Eleven, Person: Steven Soderbergh, Roles: Actor, Director\n",
            "Movie: Paths of Glory, Person: Kirk Douglas, Roles: Actor, Director\n",
            "Movie: The Big Blue, Person: Luc Besson, Roles: Actor, Writer\n",
            "Movie: Star Trek V: The Final Frontier, Person: Harve Bennett, Roles: Actor, Director\n",
            "Movie: Mrs. Doubtfire, Person: Robin Williams, Roles: Actor, Director\n",
            "Movie: Saw II, Person: Leigh Whannell, Roles: Actor, Writer\n",
            "Movie: Saw III, Person: Leigh Whannell, Roles: Actor, Writer\n",
            "Movie: Saw, Person: Oren Koules, Roles: Actor, Director\n",
            "Movie: Saw IV, Person: Oren Koules, Roles: Actor, Director\n",
            "Movie: Magnolia, Person: Paul Thomas Anderson, Roles: Actor, Director\n",
            "Movie: Sin City, Person: Robert Rodriguez, Roles: Actor, Director\n",
            "Movie: Sin City: A Dame to Kill For, Person: Robert Rodriguez, Roles: Actor, Director\n",
            "Movie: Planet Terror, Person: Robert Rodriguez, Roles: Actor, Director, Writer\n",
            "Movie: Star Trek: Insurrection, Person: Patrick Stewart, Roles: Actor, Director\n",
            "Movie: Back to the Future Part III, Person: Dean Cundey, Roles: Actor, Director\n",
            "Movie: Jurassic Park, Person: Dean Cundey, Roles: Actor, Director\n",
            "Movie: The Flintstones, Person: Dean Cundey, Roles: Actor, Director\n",
            "Movie: The Name of the Rose, Person: Andrew Birkin, Roles: Actor, Writer\n",
            "Movie: Braveheart, Person: Mel Gibson, Roles: Actor, Director\n",
            "Movie: North by Northwest, Person: Alfred Hitchcock, Roles: Actor, Director\n",
            "Movie: Notorious, Person: Alfred Hitchcock, Roles: Actor, Director\n",
            "Movie: To Catch a Thief, Person: Alfred Hitchcock, Roles: Actor, Director\n",
            "Movie: Vertigo, Person: Alfred Hitchcock, Roles: Actor, Director\n",
            "Movie: Marnie, Person: Alfred Hitchcock, Roles: Actor, Director\n",
            "Movie: Dial M for Murder, Person: Alfred Hitchcock, Roles: Actor, Director\n",
            "Movie: Psycho, Person: Alfred Hitchcock, Roles: Actor, Director\n",
            "Movie: Blackmail, Person: Alfred Hitchcock, Roles: Actor, Writer\n",
            "Movie: Rear Window, Person: Alfred Hitchcock, Roles: Actor, Director\n",
            "Movie: The Birds, Person: Alfred Hitchcock, Roles: Actor, Director\n",
            "Movie: The Man Who Knew Too Much, Person: Alfred Hitchcock, Roles: Actor, Director\n",
            "Movie: Frenzy, Person: Alfred Hitchcock, Roles: Actor, Director\n",
            "Movie: Strangers on a Train, Person: Alfred Hitchcock, Roles: Actor, Director\n",
            "Movie: Rope, Person: Alfred Hitchcock, Roles: Actor, Director\n",
            "Movie: Stage Fright, Person: Alfred Hitchcock, Roles: Actor, Director\n",
            "Movie: Ali: Fear Eats the Soul, Person: Rainer Werner Fassbinder, Roles: Actor, Director\n",
            "Movie: Lili Marleen, Person: Rainer Werner Fassbinder, Roles: Actor, Writer\n",
            "Movie: Effi Briest, Person: Rainer Werner Fassbinder, Roles: Actor, Director, Writer\n",
            "Movie: Rumble Fish, Person: S.E. Hinton, Roles: Actor, Writer\n",
            "Movie: Next, Person: Nicolas Cage, Roles: Actor, Director\n",
            "Movie: Lord of War, Person: Nicolas Cage, Roles: Actor, Director\n",
            "Movie: High Fidelity, Person: John Cusack, Roles: Actor, Writer\n",
            "Movie: King Kong, Person: Merian C. Cooper, Roles: Actor, Director\n",
            "Movie: King Kong, Person: Ernest B. Schoedsack, Roles: Actor, Director\n",
            "Movie: The China Syndrome, Person: Michael Douglas, Roles: Actor, Director\n",
            "Movie: Zatoichi, Person: Takeshi Kitano, Roles: Actor, Writer\n",
            "Movie: Stolen Kisses, Person: Marcel Berbert, Roles: Actor, Director\n",
            "Movie: Bed and Board, Person: Marcel Berbert, Roles: Actor, Director\n",
            "Movie: The Man Who Loved Women, Person: Marcel Berbert, Roles: Actor, Director\n",
            "Movie: Small Change, Person: Marcel Berbert, Roles: Actor, Director\n",
            "Movie: Day for Night, Person: Marcel Berbert, Roles: Actor, Director\n",
            "Movie: Love on the Run, Person: Marie-France Pisier, Roles: Actor, Writer\n",
            "Movie: Raging Bull, Person: Mardik Martin, Roles: Actor, Writer\n",
            "Movie: Contempt, Person: Raoul Coutard, Roles: Actor, Director\n",
            "Movie: La Chinoise, Person: Raoul Coutard, Roles: Actor, Director\n",
            "Movie: Contempt, Person: Jean-Luc Godard, Roles: Actor, Writer\n",
            "Movie: Breathless, Person: Jean-Luc Godard, Roles: Actor, Writer\n",
            "Movie: The Soft Skin, Person: Jean-Louis Richard, Roles: Actor, Writer\n",
            "Movie: The Silence of the Lambs, Person: Kenneth Utt, Roles: Actor, Director\n",
            "Movie: Dawn of the Dead, Person: George A. Romero, Roles: Actor, Writer\n",
            "Movie: Army of Darkness, Person: Bruce Campbell, Roles: Actor, Director\n",
            "Movie: My Name Is Bruce, Person: Bruce Campbell, Roles: Actor, Director\n",
            "Movie: Underworld, Person: Danny McBride, Roles: Actor, Writer\n",
            "Movie: Terminator 2: Judgment Day, Person: Van Ling, Roles: Actor, Director\n",
            "Movie: Dave Chappelle's Block Party, Person: Dave Chappelle, Roles: Actor, Director\n",
            "Movie: A River Runs Through It, Person: Robert Redford, Roles: Actor, Director\n",
            "Movie: The Horse Whisperer, Person: Robert Redford, Roles: Actor, Director\n",
            "Movie: Desert Hearts, Person: Donna Deitch, Roles: Actor, Director\n",
            "Movie: Shaft, Person: John Singleton, Roles: Actor, Director, Writer\n",
            "Movie: The Celebration, Person: Thomas Vinterberg, Roles: Actor, Writer\n",
            "Movie: Once Upon a Time in America, Person: Arnon Milchan, Roles: Actor, Director\n",
            "Movie: The Million Dollar Hotel, Person: Bono, Roles: Actor, Director, Writer\n",
            "Movie: The Million Dollar Hotel, Person: Wim Wenders, Roles: Actor, Director\n",
            "Movie: Jurassic Park, Person: Gerald R. Molen, Roles: Actor, Director\n",
            "Movie: The Lost World: Jurassic Park, Person: David Koepp, Roles: Actor, Writer\n",
            "Movie: Hostel, Person: Eli Roth, Roles: Actor, Director\n",
            "Movie: Inspector Gadget, Person: Andy Heyward, Roles: Actor, Director\n",
            "Movie: 12 Angry Men, Person: Henry Fonda, Roles: Actor, Director\n",
            "Movie: Life Is Beautiful, Person: Roberto Benigni, Roles: Actor, Writer\n",
            "Movie: People on Sunday, Person: Moriz Seeler, Roles: Actor, Director\n",
            "Movie: Eyes Wide Shut, Person: Brian W. Cook, Roles: Actor, Director\n",
            "Movie: Head-On, Person: Mehmet Kurtuluş, Roles: Actor, Director\n",
            "Movie: Head-On, Person: Andreas Thiel, Roles: Actor, Director\n",
            "Movie: A Nightmare on Elm Street, Person: Robert Shaye, Roles: Actor, Director\n",
            "Movie: Evil Dead II, Person: Sam Raimi, Roles: Actor, Writer\n",
            "Movie: Army of Darkness, Person: Sam Raimi, Roles: Actor, Writer\n",
            "Movie: The Evil Dead, Person: Sam Raimi, Roles: Actor, Writer\n",
            "Movie: Mala Noche, Person: Gus Van Sant, Roles: Actor, Director, Writer\n",
            "Movie: My Own Private Idaho, Person: Gus Van Sant, Roles: Actor, Writer\n",
            "Movie: Drugstore Cowboy, Person: Gus Van Sant, Roles: Actor, Writer\n",
            "Movie: Last Days, Person: Gus Van Sant, Roles: Actor, Writer\n",
            "Movie: Paranoid Park, Person: Gus Van Sant, Roles: Actor, Writer\n",
            "Movie: French Kiss, Person: Meg Ryan, Roles: Actor, Director\n",
            "Movie: French Kiss, Person: Adam Brooks, Roles: Actor, Writer\n",
            "Movie: Garden State, Person: Zach Braff, Roles: Actor, Writer\n",
            "Movie: Garden State, Person: Gary Gilbert, Roles: Actor, Director\n",
            "Movie: La Haine, Person: Christophe Rossignon, Roles: Actor, Director\n",
            "Movie: Don't Worry, I'm Fine, Person: Christophe Rossignon, Roles: Actor, Director\n",
            "Movie: Short Sharp Shock, Person: Fatih Akin, Roles: Actor, Writer\n",
            "Movie: The Chronicles of Narnia: The Lion, the Witch and the Wardrobe, Person: Philip Steuer, Roles: Actor, Director\n",
            "Movie: The Life Aquatic with Steve Zissou, Person: Noah Baumbach, Roles: Actor, Writer\n",
            "Movie: Schindler's List, Person: Branko Lustig, Roles: Actor, Director\n",
            "Movie: Ice Age, Person: Peter Ackerman, Roles: Actor, Writer\n",
            "Movie: Mon Oncle, Person: Jacques Tati, Roles: Actor, Director\n",
            "Movie: Monsieur Hulot's Holiday, Person: Jacques Tati, Roles: Actor, Director, Writer\n",
            "Movie: Maria Full of Grace, Person: Jaime Osorio Gómez, Roles: Actor, Director\n",
            "Movie: Leaving Las Vegas, Person: Mike Figgis, Roles: Actor, Writer\n",
            "Movie: The Idiots, Person: Lars von Trier, Roles: Actor, Director, Writer\n",
            "Movie: Erin Brockovich, Person: Michael Shamberg, Roles: Actor, Director\n",
            "Movie: Rocky Balboa, Person: Sylvester Stallone, Roles: Actor, Writer\n",
            "Movie: Rocky II, Person: Sylvester Stallone, Roles: Actor, Writer\n",
            "Movie: Rocky, Person: Sylvester Stallone, Roles: Actor, Writer\n",
            "Movie: First Blood, Person: Sylvester Stallone, Roles: Actor, Writer\n",
            "Movie: Rambo III, Person: Sylvester Stallone, Roles: Actor, Writer\n",
            "Movie: Rocky III, Person: Sylvester Stallone, Roles: Actor, Writer\n",
            "Movie: Rambo: First Blood Part II, Person: Sylvester Stallone, Roles: Actor, Writer\n",
            "Movie: Rocky IV, Person: Sylvester Stallone, Roles: Actor, Writer\n",
            "Movie: Rocky V, Person: Sylvester Stallone, Roles: Actor, Writer\n",
            "Movie: Over the Top, Person: Sylvester Stallone, Roles: Actor, Writer\n",
            "Movie: Bonnie and Clyde, Person: Warren Beatty, Roles: Actor, Director\n",
            "Movie: No Code of Conduct, Person: Charlie Sheen, Roles: Actor, Writer\n",
            "Movie: Borat: Cultural Learnings of America for Make Benefit Glorious Nation of Kazakhstan, Person: Sacha Baron Cohen, Roles: Actor, Director, Writer\n",
            "Movie: Cléo from 5 to 7, Person: Georges de Beauregard, Roles: Actor, Director\n",
            "Movie: Grizzly Man, Person: Werner Herzog, Roles: Actor, Writer\n",
            "Movie: Love Actually, Person: Richard Curtis, Roles: Actor, Writer\n",
            "Movie: One Flew Over the Cuckoo's Nest, Person: Saul Zaentz, Roles: Actor, Director\n",
            "Movie: Manhattan, Person: Woody Allen, Roles: Actor, Writer\n",
            "Movie: An American Werewolf in London, Person: John Landis, Roles: Actor, Writer\n",
            "Movie: Thumbsucker, Person: Bob Stephenson, Roles: Actor, Director\n",
            "Movie: Evil Dead II, Person: Scott Spiegel, Roles: Actor, Writer\n",
            "Movie: Starship Troopers, Person: Edward Neumeier, Roles: Actor, Writer\n",
            "Movie: Starship Troopers, Person: Jon Davison, Roles: Actor, Director\n",
            "Movie: To Die For, Person: Buck Henry, Roles: Actor, Writer\n",
            "Movie: Crash, Person: David Cronenberg, Roles: Actor, Director\n",
            "Movie: Jaws, Person: Carl Gottlieb, Roles: Actor, Writer\n",
            "Movie: Jaws, Person: Peter Benchley, Roles: Actor, Writer\n",
            "Movie: Life of Brian, Person: Graham Chapman, Roles: Actor, Writer\n",
            "Movie: Life of Brian, Person: John Cleese, Roles: Actor, Writer\n",
            "Movie: Life of Brian, Person: Eric Idle, Roles: Actor, Writer\n",
            "Movie: Life of Brian, Person: Terry Jones, Roles: Actor, Writer\n",
            "Movie: Monsters, Inc., Person: Daniel Gerson, Roles: Actor, Writer\n",
            "Movie: Wag the Dog, Person: Barry Levinson, Roles: Actor, Director\n",
            "Movie: Wag the Dog, Person: Robert Richardson, Roles: Actor, Director\n",
            "Movie: 2 Fast 2 Furious, Person: Neal H. Moritz, Roles: Actor, Director\n",
            "Movie: Andrei Rublev, Person: Tamara Ogorodnikova, Roles: Actor, Director\n",
            "Movie: To Kill a Mockingbird, Person: Gregory Peck, Roles: Actor, Director\n",
            "Movie: Titanic, Person: James Cameron, Roles: Actor, Director\n",
            "Movie: City of God, Person: Paulo Lins, Roles: Actor, Writer\n",
            "Movie: Greed, Person: Erich von Stroheim, Roles: Actor, Writer\n",
            "Movie: Our Hospitality, Person: Buster Keaton, Roles: Actor, Director\n",
            "Movie: The General, Person: Buster Keaton, Roles: Actor, Director, Writer\n",
            "Movie: Sherlock Jr., Person: Buster Keaton, Roles: Actor, Director\n",
            "Movie: The Pursuit of Happyness, Person: Will Smith, Roles: Actor, Director\n",
            "Movie: E.T. the Extra-Terrestrial, Person: Melissa Mathison, Roles: Actor, Writer\n",
            "Movie: Ghostbusters, Person: Joe Medjuck, Roles: Actor, Director\n",
            "Movie: Ghostbusters, Person: Ivan Reitman, Roles: Actor, Director\n",
            "Movie: Fried Green Tomatoes, Person: Fannie Flagg, Roles: Actor, Writer\n",
            "Movie: Un Chien Andalou, Person: Luis Buñuel, Roles: Actor, Director, Writer\n",
            "Movie: Belle de Jour, Person: Luis Buñuel, Roles: Actor, Writer\n",
            "Movie: Un Chien Andalou, Person: Salvador Dalí, Roles: Actor, Writer\n",
            "Movie: Easy Rider, Person: Peter Fonda, Roles: Actor, Director, Writer\n",
            "Movie: A Bronx Tale, Person: Chazz Palminteri, Roles: Actor, Writer\n",
            "Movie: Dune, Person: David Lynch, Roles: Actor, Writer\n",
            "Movie: Inland Empire, Person: David Lynch, Roles: Actor, Director, Writer\n",
            "Movie: The Elephant Man, Person: David Lynch, Roles: Actor, Writer\n",
            "Movie: Requiem for a Dream, Person: Hubert Selby Jr., Roles: Actor, Writer\n",
            "Movie: Requiem for a Dream, Person: Darren Aronofsky, Roles: Actor, Writer\n",
            "Movie: Beauty and the Beast, Person: Jean Cocteau, Roles: Actor, Writer\n",
            "Movie: Thunderball, Person: Kevin McClory, Roles: Actor, Director\n",
            "Movie: The Marriage of Maria Braun, Person: Michael Ballhaus, Roles: Actor, Director\n",
            "Movie: Oldboy, Person: Syd Lim, Roles: Actor, Director\n",
            "Movie: Harry Potter and the Order of the Phoenix, Person: David Heyman, Roles: Actor, Director\n",
            "Movie: Olympia Part One: Festival of the Nations, Person: Leni Riefenstahl, Roles: Actor, Director, Writer\n",
            "Movie: Pink Flamingos, Person: John Waters, Roles: Actor, Director\n",
            "Movie: October (Ten Days that Shook the World), Person: Eduard Tisse, Roles: Actor, Director\n",
            "Movie: Octopussy, Person: Michael G. Wilson, Roles: Actor, Writer\n",
            "Movie: The Living Daylights, Person: Michael G. Wilson, Roles: Actor, Director, Writer\n",
            "Movie: A View to a Kill, Person: Michael G. Wilson, Roles: Actor, Director, Writer\n",
            "Movie: Moonraker, Person: Albert R. Broccoli, Roles: Actor, Director\n",
            "Movie: Four Weddings and a Funeral, Person: Duncan Kenworthy, Roles: Actor, Director\n",
            "Movie: Dirty Harry, Person: Don Siegel, Roles: Actor, Director\n",
            "Movie: Fantasia, Person: Walt Disney, Roles: Actor, Director\n",
            "Movie: The Wing or the Thigh?, Person: Claude Zidi, Roles: Actor, Writer\n",
            "Movie: Braindead, Person: Jim Booth, Roles: Actor, Director\n",
            "Movie: Braindead, Person: Fran Walsh, Roles: Actor, Writer\n",
            "Movie: Evil Dead II, Person: Robert Tapert, Roles: Actor, Director\n",
            "Movie: The Evil Dead, Person: Robert Tapert, Roles: Actor, Director\n",
            "Movie: Army of Darkness, Person: Ivan Raimi, Roles: Actor, Writer\n",
            "Movie: Little Miss Sunshine, Person: Marc Turtletaub, Roles: Actor, Director\n",
            "Movie: The Rules of the Game, Person: Jean Renoir, Roles: Actor, Director, Writer\n",
            "Movie: Monsieur Hulot's Holiday, Person: Henri Marquet, Roles: Actor, Writer\n",
            "Movie: A Trip to the Moon, Person: Georges Méliès, Roles: Actor, Director, Writer\n",
            "Movie: Vampyr, Person: Nicolas de Gunzburg, Roles: Actor, Director\n",
            "Movie: Kolya, Person: Zdeněk Svěrák, Roles: Actor, Writer\n",
            "Movie: Mr. & Mrs. Smith, Person: Simon Kinberg, Roles: Actor, Writer\n",
            "Movie: Closely Watched Trains, Person: Jiří Menzel, Roles: Actor, Writer\n",
            "Movie: The Fog, Person: John Carpenter, Roles: Actor, Director, Writer\n",
            "Movie: Halloween, Person: John Carpenter, Roles: Actor, Writer\n",
            "Movie: Escape from New York, Person: John Carpenter, Roles: Actor, Writer\n",
            "Movie: Dark Star, Person: John Carpenter, Roles: Actor, Director, Writer\n",
            "Movie: The Fog, Person: Debra Hill, Roles: Actor, Director, Writer\n",
            "Movie: Escape from New York, Person: Debra Hill, Roles: Actor, Director\n",
            "Movie: Platoon, Person: Oliver Stone, Roles: Actor, Writer\n",
            "Movie: Alexander, Person: Oliver Stone, Roles: Actor, Director, Writer\n",
            "Movie: Good Morning, Vietnam, Person: Mark Johnson, Roles: Actor, Director\n",
            "Movie: Rosemary's Baby, Person: William Castle, Roles: Actor, Director\n",
            "Movie: Austin Powers: The Spy Who Shagged Me, Person: Mike Myers, Roles: Actor, Director, Writer\n",
            "Movie: Austin Powers: International Man of Mystery, Person: Mike Myers, Roles: Actor, Director, Writer\n",
            "Movie: Austin Powers in Goldmember, Person: Mike Myers, Roles: Actor, Director, Writer\n",
            "Movie: Shrek the Third, Person: Chris Miller, Roles: Actor, Writer\n",
            "Movie: Shrek 2, Person: Andrew Adamson, Roles: Actor, Writer\n",
            "Movie: Shrek 2, Person: Aron Warner, Roles: Actor, Director\n",
            "Movie: Shrek the Third, Person: Aron Warner, Roles: Actor, Director, Writer\n",
            "Movie: Spartacus, Person: Peter Ustinov, Roles: Actor, Writer\n",
            "Movie: Office Space, Person: Mike Judge, Roles: Actor, Writer\n",
            "Movie: Brief Encounter, Person: Noël Coward, Roles: Actor, Director, Writer\n",
            "Movie: A Christmas Story, Person: Jean Shepherd, Roles: Actor, Writer\n",
            "Movie: A Christmas Story, Person: Leigh Brown, Roles: Actor, Writer\n",
            "Movie: A Christmas Story, Person: Bob Clark, Roles: Actor, Director, Writer\n",
            "Movie: The Punch Bowl, Person: Heinz Rühmann, Roles: Actor, Director\n",
            "Movie: Misery, Person: Rob Reiner, Roles: Actor, Director\n",
            "Movie: A Few Good Men, Person: Aaron Sorkin, Roles: Actor, Writer\n",
            "Movie: Delicatessen, Person: Marc Caro, Roles: Actor, Writer\n",
            "Movie: The City of Lost Children, Person: Marc Caro, Roles: Actor, Writer\n",
            "Movie: City Lights, Person: Charlie Chaplin, Roles: Actor, Director, Writer\n",
            "Movie: The Great Dictator, Person: Charlie Chaplin, Roles: Actor, Director\n",
            "Movie: The Gold Rush, Person: Charlie Chaplin, Roles: Actor, Director\n",
            "Movie: Cool Hand Luke, Person: Donn Pearce, Roles: Actor, Writer\n",
            "Movie: The Bank Dick, Person: W.C. Fields, Roles: Actor, Writer\n",
            "Movie: Dawn of the Dead, Person: Michael Gornick, Roles: Actor, Director\n",
            "Movie: Do the Right Thing, Person: Spike Lee, Roles: Actor, Director, Writer\n",
            "Movie: Jungle Fever, Person: Spike Lee, Roles: Actor, Director\n",
            "Movie: Malcolm X, Person: Spike Lee, Roles: Actor, Director, Writer\n",
            "Movie: For a Few Dollars More, Person: Sergio Leone, Roles: Actor, Writer\n",
            "Movie: Stranger Than Paradise, Person: Tom DiCillo, Roles: Actor, Director\n",
            "Movie: Stranger Than Paradise, Person: Sara Driver, Roles: Actor, Director\n",
            "Movie: Lethal Weapon 3, Person: Jan de Bont, Roles: Actor, Director\n",
            "Movie: Escape from New York, Person: Nick Castle, Roles: Actor, Writer\n",
            "Movie: Kindergarten Cop, Person: Michael Chapman, Roles: Actor, Director\n",
            "Movie: Lawrence of Arabia, Person: Robert Bolt, Roles: Actor, Writer\n",
            "Movie: Spaceballs, Person: Mel Brooks, Roles: Actor, Director, Writer\n",
            "Movie: Spaceballs, Person: Ronny Graham, Roles: Actor, Writer\n",
            "Movie: Paths of Glory, Person: James B. Harris, Roles: Actor, Director\n",
            "Movie: Sweet Smell of Success, Person: James Hill, Roles: Actor, Director\n",
            "Movie: Sweet Smell of Success, Person: Clifford Odets, Roles: Actor, Writer\n",
            "Movie: Irreversible, Person: Gaspar Noé, Roles: Actor, Director\n",
            "Movie: Monster, Person: Charlize Theron, Roles: Actor, Director\n",
            "Movie: Double Indemnity, Person: Raymond Chandler, Roles: Actor, Writer\n",
            "Movie: Breathless, Person: Martin Erlichman, Roles: Actor, Director\n",
            "Movie: The Third Man, Person: Carol Reed, Roles: Actor, Director\n",
            "Movie: Rocky Balboa, Person: Kevin King Templeton, Roles: Actor, Director\n",
            "Movie: Die Aufschneider, Person: Carsten Strauch, Roles: Actor, Writer\n",
            "Movie: Die Aufschneider, Person: Rainer Ewerrien, Roles: Actor, Writer\n",
            "Movie: Meet the Robinsons, Person: Aurian Redson, Roles: Actor, Writer\n",
            "Movie: The Vexxer, Person: Oliver Kalkofe, Roles: Actor, Writer\n",
            "Movie: The Vexxer, Person: Bastian Pastewka, Roles: Actor, Writer\n",
            "Movie: The Vexxer, Person: Oliver Welke, Roles: Actor, Writer\n",
            "Movie: Torrente 2: Mission in Marbella, Person: Santiago Segura, Roles: Actor, Writer\n",
            "Movie: Torrente 3: The Protector, Person: Santiago Segura, Roles: Actor, Writer\n",
            "Movie: Torrente 2: Mission in Marbella, Person: Juan Dakas, Roles: Actor, Director\n",
            "Movie: Hellboy, Person: Guillermo del Toro, Roles: Actor, Writer\n",
            "Movie: American Psycho, Person: Guinevere Turner, Roles: Actor, Writer\n",
            "Movie: My Name Is Bruce, Person: Kurt Rauf, Roles: Actor, Director\n",
            "Movie: Tarnation, Person: Jonathan Caouette, Roles: Actor, Director, Writer\n",
            "Movie: Shortbus, Person: John Cameron Mitchell, Roles: Actor, Director, Writer\n",
            "Movie: Superstar: The Karen Carpenter Story, Person: Cynthia Schneider, Roles: Actor, Director\n",
            "Movie: Superstar: The Karen Carpenter Story, Person: Todd Haynes, Roles: Actor, Director, Writer\n",
            "Movie: Y Tu Mamá También, Person: Jorge Vergara, Roles: Actor, Director\n",
            "Movie: Duel at Diablo, Person: James Garner, Roles: Actor, Director\n",
            "Movie: Duel at Diablo, Person: Ralph Nelson, Roles: Actor, Director\n",
            "Movie: The Omen, Person: Harvey Bernhard, Roles: Actor, Director\n",
            "Movie: Dark Star, Person: Dan O'Bannon, Roles: Actor, Writer\n",
            "Movie: The Man Who Loved Women, Person: Suzanne Schiffman, Roles: Actor, Writer\n",
            "Movie: Vollidiot, Person: Tommy Jaud, Roles: Actor, Writer\n",
            "Movie: Bowling for Columbine, Person: Michael Moore, Roles: Actor, Director, Writer\n",
            "Movie: Canadian Bacon, Person: Michael Moore, Roles: Actor, Writer\n",
            "Movie: Fahrenheit 9/11, Person: Michael Moore, Roles: Actor, Director, Writer\n",
            "Movie: The Big One, Person: Michael Moore, Roles: Actor, Writer\n",
            "Movie: Roger & Me, Person: Michael Moore, Roles: Actor, Director, Writer\n",
            "Movie: Little Children, Person: Tom Perrotta, Roles: Actor, Writer\n",
            "Movie: The Contract, Person: Les Weldon, Roles: Actor, Director\n",
            "Movie: Laws of Gravity, Person: Larry Meistrich, Roles: Actor, Director\n",
            "Movie: Miss Congeniality, Person: Sandra Bullock, Roles: Actor, Director\n",
            "Movie: Scarface, Person: Howard Hawks, Roles: Actor, Director\n",
            "Movie: The Spanish Apartment, Person: Cédric Klapisch, Roles: Actor, Writer\n",
            "Movie: Russian Dolls, Person: Cédric Klapisch, Roles: Actor, Writer\n",
            "Movie: Parenthood, Person: Lowell Ganz, Roles: Actor, Writer\n",
            "Movie: Sans Soleil, Person: Chris Marker, Roles: Actor, Director\n",
            "Movie: Carne, Person: Lucile Hadzihalilovic, Roles: Actor, Director\n",
            "Movie: Die Hard: With a Vengeance, Person: Michael Tadross, Roles: Actor, Director\n",
            "Movie: School of Rock, Person: Mike White, Roles: Actor, Writer\n",
            "Movie: The Wild Child, Person: Jean Gruault, Roles: Actor, Writer\n",
            "Movie: Mississippi Burning, Person: Robert F. Colesberry, Roles: Actor, Director\n",
            "Movie: Mississippi Burning, Person: Frederick Zollo, Roles: Actor, Director\n",
            "Movie: Bill & Ted's Bogus Journey, Person: Ed Solomon, Roles: Actor, Writer\n",
            "Movie: Bill & Ted's Bogus Journey, Person: Chris Matheson, Roles: Actor, Writer\n",
            "Movie: Bill & Ted's Excellent Adventure, Person: Michael S. Murphey, Roles: Actor, Director\n",
            "Movie: Texas - Doc Snyder hält die Welt in Atem, Person: Helge Schneider, Roles: Actor, Writer\n",
            "Movie: 00 Schneider - Jagd auf Nihil Baxter, Person: Hanno Huth, Roles: Actor, Director\n",
            "Movie: Texas - Doc Snyder hält die Welt in Atem, Person: Schringo van den Berg, Roles: Actor, Writer\n",
            "Movie: The Hunt for Red October, Person: Larry Ferguson, Roles: Actor, Writer\n",
            "Movie: Comanche Station, Person: Randolph Scott, Roles: Actor, Director\n",
            "Movie: No Code of Conduct, Person: Bret Michaels, Roles: Actor, Writer\n",
            "Movie: City of Hope, Person: Maggie Renzi, Roles: Actor, Director\n",
            "Movie: The Big One, Person: Brian Danitz, Roles: Actor, Director\n",
            "Movie: The Big One, Person: Chris Smith, Roles: Actor, Director\n",
            "Movie: Dogma, Person: Scott Mosier, Roles: Actor, Director\n",
            "Movie: In My Skin, Person: Marina de Van, Roles: Actor, Writer\n",
            "Movie: Star Wars: Episode I - The Phantom Menace, Person: Rick McCallum, Roles: Actor, Director\n",
            "Movie: Me and You and Everyone We Know, Person: Miranda July, Roles: Actor, Writer\n",
            "Movie: Rosebud, Person: Erik Lee Preminger, Roles: Actor, Writer\n",
            "Movie: The Elephant Man, Person: Eric Bergren, Roles: Actor, Writer\n",
            "Movie: The Elephant Man, Person: Christopher De Vore, Roles: Actor, Writer\n",
            "Movie: My Name Is Bruce, Person: Mike Richardson, Roles: Actor, Director\n",
            "Movie: Bra Boys, Person: Sunny Abberton, Roles: Actor, Director\n",
            "Movie: The Constant Gardener, Person: Jeffrey Caine, Roles: Actor, Writer\n",
            "Movie: Live and Become, Person: Marek Rozenbaum, Roles: Actor, Director\n",
            "Movie: Paranoid Park, Person: Christopher Doyle, Roles: Actor, Director\n",
            "Movie: Les Biches, Person: Claude Chabrol, Roles: Actor, Writer\n",
            "Movie: Life in Loops (A Megacities RMX), Person: Timo Novotny, Roles: Director, Writer\n",
            "Movie: The Godfather Part II, Person: Francis Ford Coppola, Roles: Director, Writer\n",
            "Movie: The Godfather Part III, Person: Francis Ford Coppola, Roles: Director, Writer\n",
            "Movie: The Conversation, Person: Francis Ford Coppola, Roles: Director, Writer\n",
            "Movie: The Simpsons Movie, Person: Matt Groening, Roles: Director, Writer\n",
            "Movie: The Simpsons Movie, Person: James L. Brooks, Roles: Director, Writer\n",
            "Movie: The Simpsons Movie, Person: Al Jean, Roles: Director, Writer\n",
            "Movie: The Simpsons Movie, Person: Mike Scully, Roles: Director, Writer\n",
            "Movie: Lucky You, Person: Curtis Hanson, Roles: Director, Writer\n",
            "Movie: A Clockwork Orange, Person: Stanley Kubrick, Roles: Director, Writer\n",
            "Movie: The Shining, Person: Stanley Kubrick, Roles: Director, Writer\n",
            "Movie: Dr. Strangelove or: How I Learned to Stop Worrying and Love the Bomb, Person: Stanley Kubrick, Roles: Director, Writer\n",
            "Movie: Million Dollar Baby, Person: Paul Haggis, Roles: Director, Writer\n",
            "Movie: Crash, Person: Paul Haggis, Roles: Director, Writer\n",
            "Movie: Before Sunset, Person: Richard Linklater, Roles: Director, Writer\n",
            "Movie: Downfall, Person: Bernd Eichinger, Roles: Director, Writer\n",
            "Movie: Perfume: The Story of a Murderer, Person: Bernd Eichinger, Roles: Director, Writer\n",
            "Movie: Land Without Bread, Person: Luis Buñuel, Roles: Director, Writer\n",
            "Movie: Gladiator, Person: David Franzoni, Roles: Director, Writer\n",
            "Movie: Back to the Future Part II, Person: Bob Gale, Roles: Director, Writer\n",
            "Movie: Back to the Future Part III, Person: Bob Gale, Roles: Director, Writer\n",
            "Movie: O Brother, Where Art Thou?, Person: Ethan Coen, Roles: Director, Writer\n",
            "Movie: Fargo, Person: Ethan Coen, Roles: Director, Writer\n",
            "Movie: Barton Fink, Person: Ethan Coen, Roles: Director, Writer\n",
            "Movie: Raising Arizona, Person: Ethan Coen, Roles: Director, Writer\n",
            "Movie: Miller's Crossing, Person: Ethan Coen, Roles: Director, Writer\n",
            "Movie: The Lord of the Rings: The Two Towers, Person: Fran Walsh, Roles: Director, Writer\n",
            "Movie: The Lord of the Rings: The Fellowship of the Ring, Person: Fran Walsh, Roles: Director, Writer\n",
            "Movie: The Lord of the Rings: The Return of the King, Person: Fran Walsh, Roles: Director, Writer\n",
            "Movie: Bedazzled, Person: Harold Ramis, Roles: Director, Writer\n",
            "Movie: Bad Education, Person: Pedro Almodóvar, Roles: Director, Writer\n",
            "Movie: Stolen Kisses, Person: François Truffaut, Roles: Director, Writer\n",
            "Movie: Love on the Run, Person: François Truffaut, Roles: Director, Writer\n",
            "Movie: The Last Metro, Person: François Truffaut, Roles: Director, Writer\n",
            "Movie: Brokeback Mountain, Person: Diana Ossana, Roles: Director, Writer\n",
            "Movie: Hulk, Person: James Schamus, Roles: Director, Writer\n",
            "Movie: The Secret Life of Words, Person: Isabel Coixet, Roles: Director, Writer\n",
            "Movie: Wings of Desire, Person: Wim Wenders, Roles: Director, Writer\n",
            "Movie: Lisbon Story, Person: Wim Wenders, Roles: Director, Writer\n",
            "Movie: Star Trek IV: The Voyage Home, Person: Harve Bennett, Roles: Director, Writer\n",
            "Movie: Lost in Translation, Person: Sofia Coppola, Roles: Director, Writer\n",
            "Movie: Marie Antoinette, Person: Sofia Coppola, Roles: Director, Writer\n",
            "Movie: The Dark Knight, Person: Christopher Nolan, Roles: Director, Writer\n",
            "Movie: The Prestige, Person: Christopher Nolan, Roles: Director, Writer\n",
            "Movie: Halloween, Person: Debra Hill, Roles: Director, Writer\n",
            "Movie: Once Upon a Time in Mexico, Person: Robert Rodriguez, Roles: Director, Writer\n",
            "Movie: The Passion of the Christ, Person: Mel Gibson, Roles: Director, Writer\n",
            "Movie: Star Trek: Insurrection, Person: Michael Piller, Roles: Director, Writer\n",
            "Movie: The Wages of Fear, Person: Henri-Georges Clouzot, Roles: Director, Writer\n",
            "Movie: Hotel Rwanda, Person: Terry George, Roles: Director, Writer\n",
            "Movie: It's a Wonderful Life, Person: Frank Capra, Roles: Director, Writer\n",
            "Movie: Stand by Me, Person: Bruce A. Evans, Roles: Director, Writer\n",
            "Movie: Stand by Me, Person: Raynold Gideon, Roles: Director, Writer\n",
            "Movie: Some Like It Hot, Person: Billy Wilder, Roles: Director, Writer\n",
            "Movie: The Apartment, Person: Billy Wilder, Roles: Director, Writer\n",
            "Movie: One, Two, Three, Person: Billy Wilder, Roles: Director, Writer\n",
            "Movie: The Fortune Cookie, Person: Billy Wilder, Roles: Director, Writer\n",
            "Movie: The Ninth Gate, Person: Roman Polanski, Roles: Director, Writer\n",
            "Movie: Strange Days, Person: James Cameron, Roles: Director, Writer\n",
            "Movie: Riding Giants, Person: Stacy Peralta, Roles: Director, Writer\n",
            "Movie: Rome, Open City, Person: Roberto Rossellini, Roles: Director, Writer\n",
            "Movie: Bruce Almighty, Person: Steve Koren, Roles: Director, Writer\n",
            "Movie: Bruce Almighty, Person: Mark O'Keefe, Roles: Director, Writer\n",
            "Movie: Grbavica: The Land of My Dreams, Person: Barbara Albert, Roles: Director, Writer\n",
            "Movie: The Million Dollar Hotel, Person: Nicholas Klein, Roles: Director, Writer\n",
            "Movie: Night on Earth, Person: Jim Jarmusch, Roles: Director, Writer\n",
            "Movie: 12 Angry Men, Person: Reginald Rose, Roles: Director, Writer\n",
            "Movie: Who's Afraid of Virginia Woolf?, Person: Ernest Lehman, Roles: Director, Writer\n",
            "Movie: The Straight Story, Person: Mary Sweeney, Roles: Director, Writer\n",
            "Movie: Driving Miss Daisy, Person: Alfred Uhry, Roles: Director, Writer\n",
            "Movie: About the Looking for and the Finding of Love, Person: Helmut Dietl, Roles: Director, Writer\n",
            "Movie: The Life Aquatic with Steve Zissou, Person: Wes Anderson, Roles: Director, Writer\n",
            "Movie: Poltergeist, Person: Steven Spielberg, Roles: Director, Writer\n",
            "Movie: A.I. Artificial Intelligence, Person: Steven Spielberg, Roles: Director, Writer\n",
            "Movie: Mary Poppins, Person: Bill Walsh, Roles: Director, Writer\n",
            "Movie: The Day After Tomorrow, Person: Roland Emmerich, Roles: Director, Writer\n",
            "Movie: Cube 2: Hypercube, Person: Ernie Barbarash, Roles: Director, Writer\n",
            "Movie: Bend It Like Beckham, Person: Gurinder Chadha, Roles: Director, Writer\n",
            "Movie: Bend It Like Beckham, Person: Paul Mayeda Berges, Roles: Director, Writer\n",
            "Movie: Romeo + Juliet, Person: Baz Luhrmann, Roles: Director, Writer\n",
            "Movie: Moulin Rouge!, Person: Baz Luhrmann, Roles: Director, Writer\n",
            "Movie: Sissi: The Young Empress, Person: Ernst Marischka, Roles: Director, Writer\n",
            "Movie: Sissi: The Fateful Years of an Empress, Person: Ernst Marischka, Roles: Director, Writer\n",
            "Movie: The Green Mile, Person: Frank Darabont, Roles: Director, Writer\n",
            "Movie: Fire, Person: Deepa Mehta, Roles: Director, Writer\n",
            "Movie: Wallace & Gromit: The Curse of the Were-Rabbit, Person: Nick Park, Roles: Director, Writer\n",
            "Movie: Absolut, Person: Romed Wyder, Roles: Director, Writer\n",
            "Movie: Sleepers, Person: Barry Levinson, Roles: Director, Writer\n",
            "Movie: Central Station, Person: Walter Salles, Roles: Director, Writer\n",
            "Movie: Sunset Boulevard, Person: Charles Brackett, Roles: Director, Writer\n",
            "Movie: Independence Day, Person: Dean Devlin, Roles: Director, Writer\n",
            "Movie: Godzilla, Person: Dean Devlin, Roles: Director, Writer\n",
            "Movie: The Last Samurai, Person: Edward Zwick, Roles: Director, Writer\n",
            "Movie: The Last Samurai, Person: Marshall Herskovitz, Roles: Director, Writer\n",
            "Movie: The Bodyguard, Person: Lawrence Kasdan, Roles: Director, Writer\n",
            "Movie: When Harry Met Sally..., Person: Nora Ephron, Roles: Director, Writer\n",
            "Movie: The Tin Drum, Person: Franz Seitz Junior, Roles: Director, Writer\n",
            "Movie: Twister, Person: Michael Crichton, Roles: Director, Writer\n",
            "Movie: Tabu, Person: Robert Flaherty, Roles: Director, Writer\n",
            "Movie: Olympia Part Two: Festival of Beauty, Person: Leni Riefenstahl, Roles: Director, Writer\n",
            "Movie: Licence to Kill, Person: Michael G. Wilson, Roles: Director, Writer\n",
            "Movie: V for Vendetta, Person: Lilly Wachowski, Roles: Director, Writer\n",
            "Movie: V for Vendetta, Person: Lana Wachowski, Roles: Director, Writer\n",
            "Movie: Home Alone, Person: John Hughes, Roles: Director, Writer\n",
            "Movie: Home Alone 2: Lost in New York, Person: John Hughes, Roles: Director, Writer\n",
            "Movie: Vampyr, Person: Carl Theodor Dreyer, Roles: Director, Writer\n",
            "Movie: Almost Famous, Person: Cameron Crowe, Roles: Director, Writer\n",
            "Movie: Vanilla Sky, Person: Cameron Crowe, Roles: Director, Writer\n",
            "Movie: Persona, Person: Ingmar Bergman, Roles: Director, Writer\n",
            "Movie: Aladdin, Person: Ron Clements, Roles: Director, Writer\n",
            "Movie: Aladdin, Person: John Musker, Roles: Director, Writer\n",
            "Movie: The Music Room, Person: Satyajit Ray, Roles: Director, Writer\n",
            "Movie: Apur Sansar, Person: Satyajit Ray, Roles: Director, Writer\n",
            "Movie: Aparajito, Person: Satyajit Ray, Roles: Director, Writer\n",
            "Movie: JFK, Person: Oliver Stone, Roles: Director, Writer\n",
            "Movie: Y Tu Mamá También, Person: Alfonso Cuarón, Roles: Director, Writer\n",
            "Movie: In the Mood for Love, Person: Wong Kar-wai, Roles: Director, Writer\n",
            "Movie: 2046, Person: Wong Kar-wai, Roles: Director, Writer\n",
            "Movie: My Blueberry Nights, Person: Wong Kar-wai, Roles: Director, Writer\n",
            "Movie: The X Files, Person: Chris Carter, Roles: Director, Writer\n",
            "Movie: Dragonslayer, Person: Hal Barwood, Roles: Director, Writer\n",
            "Movie: Enemy at the Gates, Person: Jean-Jacques Annaud, Roles: Director, Writer\n",
            "Movie: Two Brothers, Person: Jean-Jacques Annaud, Roles: Director, Writer\n",
            "Movie: Total Recall, Person: Ronald Shusett, Roles: Director, Writer\n",
            "Movie: eXistenZ, Person: David Cronenberg, Roles: Director, Writer\n",
            "Movie: Birdman of Alcatraz, Person: Guy Trosper, Roles: Director, Writer\n",
            "Movie: Hot Summer, Person: Joachim Hasler, Roles: Director, Writer\n",
            "Movie: Tabu, Person: F. W. Murnau, Roles: Director, Writer\n",
            "Movie: The Manchurian Candidate, Person: George Axelrod, Roles: Director, Writer\n",
            "Movie: The Ox-Bow Incident, Person: Lamar Trotti, Roles: Director, Writer\n",
            "Movie: Eraserhead, Person: David Lynch, Roles: Director, Writer\n",
            "Movie: The Hustler, Person: Robert Rossen, Roles: Director, Writer\n",
            "Movie: The Hidden Fortress, Person: Akira Kurosawa, Roles: Director, Writer\n",
            "Movie: The Story of the Weeping Camel, Person: Luigi Falorni, Roles: Director, Writer\n",
            "Movie: Breaking and Entering, Person: Anthony Minghella, Roles: Director, Writer\n",
            "Movie: Princesses, Person: Fernando León de Aranoa, Roles: Director, Writer\n",
            "Movie: Because I Said So, Person: Jessie Nelson, Roles: Director, Writer\n",
            "Movie: Die Aufschneider, Person: Nina Werth, Roles: Director, Writer\n",
            "Movie: 3-Iron, Person: Kim Ki-duk, Roles: Director, Writer\n",
            "Movie: The Bow, Person: Kim Ki-duk, Roles: Director, Writer\n",
            "Movie: 28 Weeks Later, Person: Enrique López Lavigne, Roles: Director, Writer\n",
            "Movie: The Cave of the Yellow Dog, Person: Byambasuren Davaa, Roles: Director, Writer\n",
            "Movie: Wege Gottes, Person: Eva Neymann, Roles: Director, Writer\n",
            "Movie: Party Monster, Person: Fenton Bailey, Roles: Director, Writer\n",
            "Movie: Party Monster, Person: Randy Barbato, Roles: Director, Writer\n",
            "Movie: Pan's Labyrinth, Person: Guillermo del Toro, Roles: Director, Writer\n",
            "Movie: Breakfast on Pluto, Person: Neil Jordan, Roles: Director, Writer\n",
            "Movie: Little Children, Person: Todd Field, Roles: Director, Writer\n",
            "Movie: In the Bedroom, Person: Todd Field, Roles: Director, Writer\n",
            "Movie: Clean, Shaven, Person: Lodge Kerrigan, Roles: Director, Writer\n",
            "Movie: The Deathmaker, Person: Romuald Karmakar, Roles: Director, Writer\n",
            "Movie: Begotten, Person: E. Elias Merhige, Roles: Director, Writer\n",
            "Movie: 1492: Conquest of Paradise, Person: Roselyne Bosch, Roles: Director, Writer\n",
            "Movie: Singapore Sling, Person: Nikos Nikolaidis, Roles: Director, Writer\n",
            "Movie: Copying Beethoven, Person: Christopher Wilkinson, Roles: Director, Writer\n",
            "Movie: A Shot in the Dark, Person: Blake Edwards, Roles: Director, Writer\n",
            "Movie: I ♥ Huckabees, Person: David O. Russell, Roles: Director, Writer\n",
            "Movie: When Saturday Comes, Person: James Daly, Roles: Director, Writer\n",
            "Movie: Crash, Person: Bobby Moresco, Roles: Director, Writer\n",
            "Movie: 2 or 3 Things I Know About Him, Person: Malte Ludin, Roles: Director, Writer\n",
            "Movie: The Devil's Rejects, Person: Rob Zombie, Roles: Director, Writer\n",
            "Movie: No Code of Conduct, Person: Shane Stanley, Roles: Director, Writer\n",
            "Movie: Shoppen, Person: Ralf Westhoff, Roles: Director, Writer\n",
            "Movie: May Fools, Person: Louis Malle, Roles: Director, Writer\n",
            "Movie: Au Revoir les Enfants, Person: Louis Malle, Roles: Director, Writer\n",
            "Movie: Stuck on You, Person: Bobby Farrelly, Roles: Director, Writer\n",
            "Movie: Stuck on You, Person: Peter Farrelly, Roles: Director, Writer\n",
            "Movie: The Big Sleep, Person: Michael Winner, Roles: Director, Writer\n",
            "Movie: Lord of War, Person: Andrew Niccol, Roles: Director, Writer\n",
            "Movie: Dig!, Person: Ondi Timoner, Roles: Director, Writer\n",
            "Movie: ...But Johnny!, Person: Herbert Reinecker, Roles: Director, Writer\n",
            "Movie: ...But Johnny!, Person: Alfred Weidenmann, Roles: Director, Writer\n",
            "Movie: ...But Johnny!, Person: Ernst W. Kalinke, Roles: Director, Writer\n",
            "Movie: And the Violins Stopped Playing, Person: Alexander Ramati, Roles: Director, Writer\n",
            "Movie: The Fortune Cookie, Person: I. A. L. Diamond, Roles: Director, Writer\n",
            "Movie: Star Wars: Episode II - Attack of the Clones, Person: George Lucas, Roles: Director, Writer\n",
            "Movie: In Good Company, Person: Paul Weitz, Roles: Director, Writer\n",
            "Movie: The Sea Inside, Person: Alejandro Amenábar, Roles: Director, Writer\n",
            "Movie: Shakespeare in Love, Person: Marc Norman, Roles: Director, Writer\n",
            "Movie: Zodiac, Person: James Vanderbilt, Roles: Director, Writer\n",
            "Movie: Live and Become, Person: Radu Mihăileanu, Roles: Director, Writer\n",
            "Movie: An Inconvenient Truth, Person: Davis Guggenheim, Roles: Director, Writer\n"
          ]
        }
      ]
    },
    {
      "cell_type": "code",
      "source": [
        "query = \"\"\"\n",
        "PREFIX : <http://www.semanticweb.org/jalal/ontologies/2023/10/movie-ontology#>\n",
        "PREFIX xsd: <http://www.w3.org/2001/XMLSchema#>\n",
        "\n",
        "SELECT ?director ?directorName (COUNT(?movie) AS ?movieCount)\n",
        "WHERE {\n",
        "    ?movie :directedBy ?director ;\n",
        "           :rating ?rating .\n",
        "    ?director :name ?directorName .\n",
        "    FILTER (xsd:float(?rating) > 8)\n",
        "}\n",
        "GROUP BY ?director ?directorName\n",
        "HAVING (COUNT(?movie) > 0)\n",
        "\"\"\"\n",
        "\n",
        "for row in g.query(query):\n",
        "    print(f\"Director: {row.director}, Name: {row.directorName}, Number of Movies with Vote Average in TMDB > 8: {row.movieCount}\")"
      ],
      "metadata": {
        "colab": {
          "base_uri": "https://localhost:8080/"
        },
        "id": "kZGRKUTk0fwV",
        "outputId": "d0c2995d-e0a0-4b67-c251-b564c5b321dd"
      },
      "execution_count": 55,
      "outputs": [
        {
          "output_type": "stream",
          "name": "stdout",
          "text": [
            "Director: http://www.semanticweb.org/jalal/ontologies/2023/10/movie-ontology#Person_138, Name: Quentin Tarantino, Number of Movies with Vote Average in TMDB > 8: 2\n",
            "Director: http://www.semanticweb.org/jalal/ontologies/2023/10/movie-ontology#Person_39, Name: Sam Mendes, Number of Movies with Vote Average in TMDB > 8: 1\n",
            "Director: http://www.semanticweb.org/jalal/ontologies/2023/10/movie-ontology#Person_68, Name: Fritz Lang, Number of Movies with Vote Average in TMDB > 8: 2\n",
            "Director: http://www.semanticweb.org/jalal/ontologies/2023/10/movie-ontology#Person_1, Name: George Lucas, Number of Movies with Vote Average in TMDB > 8: 1\n",
            "Director: http://www.semanticweb.org/jalal/ontologies/2023/10/movie-ontology#Person_59, Name: Luc Besson, Number of Movies with Vote Average in TMDB > 8: 1\n",
            "Director: http://www.semanticweb.org/jalal/ontologies/2023/10/movie-ontology#Person_24, Name: Robert Zemeckis, Number of Movies with Vote Average in TMDB > 8: 2\n",
            "Director: http://www.semanticweb.org/jalal/ontologies/2023/10/movie-ontology#Person_40, Name: Orson Welles, Number of Movies with Vote Average in TMDB > 8: 1\n",
            "Director: http://www.semanticweb.org/jalal/ontologies/2023/10/movie-ontology#Person_1776, Name: Francis Ford Coppola, Number of Movies with Vote Average in TMDB > 8: 3\n",
            "Director: http://www.semanticweb.org/jalal/ontologies/2023/10/movie-ontology#Person_201, Name: Michel Gondry, Number of Movies with Vote Average in TMDB > 8: 1\n",
            "Director: http://www.semanticweb.org/jalal/ontologies/2023/10/movie-ontology#Person_240, Name: Stanley Kubrick, Number of Movies with Vote Average in TMDB > 8: 6\n",
            "Director: http://www.semanticweb.org/jalal/ontologies/2023/10/movie-ontology#Person_814, Name: Tony Kaye, Number of Movies with Vote Average in TMDB > 8: 1\n",
            "Director: http://www.semanticweb.org/jalal/ontologies/2023/10/movie-ontology#Person_488, Name: Steven Spielberg, Number of Movies with Vote Average in TMDB > 8: 2\n",
            "Director: http://www.semanticweb.org/jalal/ontologies/2023/10/movie-ontology#Person_525, Name: Christopher Nolan, Number of Movies with Vote Average in TMDB > 8: 3\n",
            "Director: http://www.semanticweb.org/jalal/ontologies/2023/10/movie-ontology#Person_578, Name: Ridley Scott, Number of Movies with Vote Average in TMDB > 8: 2\n",
            "Director: http://www.semanticweb.org/jalal/ontologies/2023/10/movie-ontology#Person_608, Name: Hayao Miyazaki, Number of Movies with Vote Average in TMDB > 8: 2\n",
            "Director: http://www.semanticweb.org/jalal/ontologies/2023/10/movie-ontology#Person_793, Name: Luis Buñuel, Number of Movies with Vote Average in TMDB > 8: 1\n",
            "Director: http://www.semanticweb.org/jalal/ontologies/2023/10/movie-ontology#Person_956, Name: Guy Ritchie, Number of Movies with Vote Average in TMDB > 8: 1\n",
            "Director: http://www.semanticweb.org/jalal/ontologies/2023/10/movie-ontology#Person_1032, Name: Martin Scorsese, Number of Movies with Vote Average in TMDB > 8: 4\n",
            "Director: http://www.semanticweb.org/jalal/ontologies/2023/10/movie-ontology#Person_1150, Name: Brian De Palma, Number of Movies with Vote Average in TMDB > 8: 1\n",
            "Director: http://www.semanticweb.org/jalal/ontologies/2023/10/movie-ontology#Person_108, Name: Peter Jackson, Number of Movies with Vote Average in TMDB > 8: 3\n",
            "Director: http://www.semanticweb.org/jalal/ontologies/2023/10/movie-ontology#Person_1650, Name: François Truffaut, Number of Movies with Vote Average in TMDB > 8: 1\n",
            "Director: http://www.semanticweb.org/jalal/ontologies/2023/10/movie-ontology#Person_2303, Name: Wim Wenders, Number of Movies with Vote Average in TMDB > 8: 1\n",
            "Director: http://www.semanticweb.org/jalal/ontologies/2023/10/movie-ontology#Person_2300, Name: Timo Mugele, Number of Movies with Vote Average in TMDB > 8: 1\n",
            "Director: http://www.semanticweb.org/jalal/ontologies/2023/10/movie-ontology#Person_2301, Name: Marcus Niehaves, Number of Movies with Vote Average in TMDB > 8: 1\n",
            "Director: http://www.semanticweb.org/jalal/ontologies/2023/10/movie-ontology#Person_2690, Name: Peter Weir, Number of Movies with Vote Average in TMDB > 8: 1\n",
            "Director: http://www.semanticweb.org/jalal/ontologies/2023/10/movie-ontology#Person_2662, Name: Frank Capra, Number of Movies with Vote Average in TMDB > 8: 1\n",
            "Director: http://www.semanticweb.org/jalal/ontologies/2023/10/movie-ontology#Person_2636, Name: Alfred Hitchcock, Number of Movies with Vote Average in TMDB > 8: 4\n",
            "Director: http://www.semanticweb.org/jalal/ontologies/2023/10/movie-ontology#Person_2710, Name: James Cameron, Number of Movies with Vote Average in TMDB > 8: 1\n",
            "Director: http://www.semanticweb.org/jalal/ontologies/2023/10/movie-ontology#Person_3146, Name: Billy Wilder, Number of Movies with Vote Average in TMDB > 8: 4\n",
            "Director: http://www.semanticweb.org/jalal/ontologies/2023/10/movie-ontology#Person_3556, Name: Roman Polanski, Number of Movies with Vote Average in TMDB > 8: 1\n",
            "Director: http://www.semanticweb.org/jalal/ontologies/2023/10/movie-ontology#Person_16294, Name: Jonathan Demme, Number of Movies with Vote Average in TMDB > 8: 1\n",
            "Director: http://www.semanticweb.org/jalal/ontologies/2023/10/movie-ontology#Person_4027, Name: Frank Darabont, Number of Movies with Vote Average in TMDB > 8: 2\n",
            "Director: http://www.semanticweb.org/jalal/ontologies/2023/10/movie-ontology#Person_3974, Name: Miloš Forman, Number of Movies with Vote Average in TMDB > 8: 1\n",
            "Director: http://www.semanticweb.org/jalal/ontologies/2023/10/movie-ontology#Person_4109, Name: Michael Curtiz, Number of Movies with Vote Average in TMDB > 8: 1\n",
            "Director: http://www.semanticweb.org/jalal/ontologies/2023/10/movie-ontology#Person_4410, Name: Roberto Rossellini, Number of Movies with Vote Average in TMDB > 8: 1\n",
            "Director: http://www.semanticweb.org/jalal/ontologies/2023/10/movie-ontology#Person_4385, Name: Sergio Leone, Number of Movies with Vote Average in TMDB > 8: 4\n",
            "Director: http://www.semanticweb.org/jalal/ontologies/2023/10/movie-ontology#Person_5026, Name: Akira Kurosawa, Number of Movies with Vote Average in TMDB > 8: 2\n",
            "Director: http://www.semanticweb.org/jalal/ontologies/2023/10/movie-ontology#Person_5216, Name: Gus Van Sant, Number of Movies with Vote Average in TMDB > 8: 1\n",
            "Director: http://www.semanticweb.org/jalal/ontologies/2023/10/movie-ontology#Person_5231, Name: Wolfgang Petersen, Number of Movies with Vote Average in TMDB > 8: 1\n",
            "Director: http://www.semanticweb.org/jalal/ontologies/2023/10/movie-ontology#Person_39996, Name: Sidney Lumet, Number of Movies with Vote Average in TMDB > 8: 1\n",
            "Director: http://www.semanticweb.org/jalal/ontologies/2023/10/movie-ontology#Person_5602, Name: David Lynch, Number of Movies with Vote Average in TMDB > 8: 1\n",
            "Director: http://www.semanticweb.org/jalal/ontologies/2023/10/movie-ontology#Person_4415, Name: Federico Fellini, Number of Movies with Vote Average in TMDB > 8: 2\n",
            "Director: http://www.semanticweb.org/jalal/ontologies/2023/10/movie-ontology#Person_2406, Name: Mathieu Kassovitz, Number of Movies with Vote Average in TMDB > 8: 1\n",
            "Director: http://www.semanticweb.org/jalal/ontologies/2023/10/movie-ontology#Person_6431, Name: Darren Aronofsky, Number of Movies with Vote Average in TMDB > 8: 1\n",
            "Director: http://www.semanticweb.org/jalal/ontologies/2023/10/movie-ontology#Person_6648, Name: Ingmar Bergman, Number of Movies with Vote Average in TMDB > 8: 3\n",
            "Director: http://www.semanticweb.org/jalal/ontologies/2023/10/movie-ontology#Person_7467, Name: David Fincher, Number of Movies with Vote Average in TMDB > 8: 2\n",
            "Director: http://www.semanticweb.org/jalal/ontologies/2023/10/movie-ontology#Person_8193, Name: Florian Henckel von Donnersmarck, Number of Movies with Vote Average in TMDB > 8: 1\n",
            "Director: http://www.semanticweb.org/jalal/ontologies/2023/10/movie-ontology#Person_8452, Name: Andrei Tarkovsky, Number of Movies with Vote Average in TMDB > 8: 3\n",
            "Director: http://www.semanticweb.org/jalal/ontologies/2023/10/movie-ontology#Person_8557, Name: Fernando Meirelles, Number of Movies with Vote Average in TMDB > 8: 1\n",
            "Director: http://www.semanticweb.org/jalal/ontologies/2023/10/movie-ontology#Person_9339, Name: Lilly Wachowski, Number of Movies with Vote Average in TMDB > 8: 1\n",
            "Director: http://www.semanticweb.org/jalal/ontologies/2023/10/movie-ontology#Person_9340, Name: Lana Wachowski, Number of Movies with Vote Average in TMDB > 8: 1\n",
            "Director: http://www.semanticweb.org/jalal/ontologies/2023/10/movie-ontology#Person_9032, Name: Bryan Singer, Number of Movies with Vote Average in TMDB > 8: 1\n",
            "Director: http://www.semanticweb.org/jalal/ontologies/2023/10/movie-ontology#Person_4818, Name: Roberto Benigni, Number of Movies with Vote Average in TMDB > 8: 1\n",
            "Director: http://www.semanticweb.org/jalal/ontologies/2023/10/movie-ontology#Person_8574, Name: Walter Salles, Number of Movies with Vote Average in TMDB > 8: 1\n",
            "Director: http://www.semanticweb.org/jalal/ontologies/2023/10/movie-ontology#Person_10099, Name: Park Chan-wook, Number of Movies with Vote Average in TMDB > 8: 1\n",
            "Director: http://www.semanticweb.org/jalal/ontologies/2023/10/movie-ontology#Person_11218, Name: Alfonso Cuarón, Number of Movies with Vote Average in TMDB > 8: 1\n",
            "Director: http://www.semanticweb.org/jalal/ontologies/2023/10/movie-ontology#Person_8635, Name: Buster Keaton, Number of Movies with Vote Average in TMDB > 8: 1\n",
            "Director: http://www.semanticweb.org/jalal/ontologies/2023/10/movie-ontology#Person_10601, Name: Joseph L. Mankiewicz, Number of Movies with Vote Average in TMDB > 8: 1\n",
            "Director: http://www.semanticweb.org/jalal/ontologies/2023/10/movie-ontology#Person_11572, Name: Carl Theodor Dreyer, Number of Movies with Vote Average in TMDB > 8: 1\n",
            "Director: http://www.semanticweb.org/jalal/ontologies/2023/10/movie-ontology#Person_11770, Name: John Carpenter, Number of Movies with Vote Average in TMDB > 8: 1\n",
            "Director: http://www.semanticweb.org/jalal/ontologies/2023/10/movie-ontology#Person_12160, Name: Satyajit Ray, Number of Movies with Vote Average in TMDB > 8: 1\n",
            "Director: http://www.semanticweb.org/jalal/ontologies/2023/10/movie-ontology#Person_4081, Name: Stanley Kramer, Number of Movies with Vote Average in TMDB > 8: 1\n",
            "Director: http://www.semanticweb.org/jalal/ontologies/2023/10/movie-ontology#Person_12453, Name: Wong Kar-wai, Number of Movies with Vote Average in TMDB > 8: 1\n",
            "Director: http://www.semanticweb.org/jalal/ontologies/2023/10/movie-ontology#Person_13284, Name: Stanley Donen, Number of Movies with Vote Average in TMDB > 8: 1\n",
            "Director: http://www.semanticweb.org/jalal/ontologies/2023/10/movie-ontology#Person_13294, Name: Gene Kelly, Number of Movies with Vote Average in TMDB > 8: 1\n",
            "Director: http://www.semanticweb.org/jalal/ontologies/2023/10/movie-ontology#Person_13848, Name: Charlie Chaplin, Number of Movies with Vote Average in TMDB > 8: 3\n",
            "Director: http://www.semanticweb.org/jalal/ontologies/2023/10/movie-ontology#Person_1034547, Name: Janno Põldma, Number of Movies with Vote Average in TMDB > 8: 1\n",
            "Director: http://www.semanticweb.org/jalal/ontologies/2023/10/movie-ontology#Person_1034548, Name: Heiki Ernits, Number of Movies with Vote Average in TMDB > 8: 1\n",
            "Director: http://www.semanticweb.org/jalal/ontologies/2023/10/movie-ontology#Person_55511, Name: Eva Neymann, Number of Movies with Vote Average in TMDB > 8: 1\n",
            "Director: http://www.semanticweb.org/jalal/ontologies/2023/10/movie-ontology#Person_11983, Name: Alain Resnais, Number of Movies with Vote Average in TMDB > 8: 1\n",
            "Director: http://www.semanticweb.org/jalal/ontologies/2023/10/movie-ontology#Person_17151, Name: Helena Bulaja, Number of Movies with Vote Average in TMDB > 8: 1\n",
            "Director: http://www.semanticweb.org/jalal/ontologies/2023/10/movie-ontology#Person_19565, Name: Sergio M. Castilla, Number of Movies with Vote Average in TMDB > 8: 1\n",
            "Director: http://www.semanticweb.org/jalal/ontologies/2023/10/movie-ontology#Person_10930, Name: Irvin Kershner, Number of Movies with Vote Average in TMDB > 8: 1\n"
          ]
        }
      ]
    },
    {
      "cell_type": "markdown",
      "metadata": {
        "id": "0i4Up7T7HPVQ"
      },
      "source": [
        "##Main parse function"
      ]
    },
    {
      "cell_type": "markdown",
      "source": [],
      "metadata": {
        "id": "o4UEZAnfgwhj"
      }
    },
    {
      "cell_type": "code",
      "execution_count": null,
      "metadata": {
        "id": "lUfLnk1-sT4x"
      },
      "outputs": [],
      "source": [
        "sparql_query = \"\"\"\n",
        "PREFIX : <http://www.semanticweb.org/jalal/ontologies/2023/10/movie-ontology#>\n",
        "\n",
        "SELECT ?movie1 ?movie1Name ?movie2 ?movie2Name ?movie3 ?movie3Name (COUNT(DISTINCT ?actor) AS ?sharedActors)\n",
        "WHERE {\n",
        "    ?movie1 :hasActor ?actor ; :title ?movie1Name .\n",
        "    ?movie2 :hasActor ?actor ; :title ?movie2Name .\n",
        "    ?movie3 :hasActor ?actor ; :title ?movie3Name .\n",
        "    FILTER (?movie1 != ?movie2 && ?movie2 != ?movie3 && ?movie1 != ?movie3)\n",
        "}\n",
        "GROUP BY ?movie1 ?movie1Name ?movie2 ?movie2Name ?movie3 ?movie3Name\n",
        "ORDER BY DESC(?sharedActors)\n",
        "LIMIT 10\n",
        "\"\"\"\n",
        "\n",
        "\n",
        "for row in g.query(sparql_query):\n",
        "    print(f\"Movie 1: {row.movie1Name}, Movie 2: {row.movie2Name}, Movie 3: {row.movie3Name}, Shared Actors: {row.sharedActors}\")"
      ]
    },
    {
      "cell_type": "code",
      "source": [
        "!pip install owlrl"
      ],
      "metadata": {
        "id": "LLFvuhQTbT8Y"
      },
      "execution_count": null,
      "outputs": []
    },
    {
      "cell_type": "code",
      "source": [
        "import owlrl"
      ],
      "metadata": {
        "id": "d4kdn11DbTL2"
      },
      "execution_count": null,
      "outputs": []
    },
    {
      "cell_type": "code",
      "source": [
        "from rdflib import  OWL"
      ],
      "metadata": {
        "id": "kGypFIvGb2Ep"
      },
      "execution_count": null,
      "outputs": []
    },
    {
      "cell_type": "code",
      "source": [
        "from itertools import combinations"
      ],
      "metadata": {
        "id": "oSRfmuWwb8vb"
      },
      "execution_count": null,
      "outputs": []
    },
    {
      "cell_type": "code",
      "source": [
        "workedWith = MOVIE.workedWith\n",
        "g.add((workedWith, RDF.type, OWL.SymmetricProperty))"
      ],
      "metadata": {
        "id": "SsaxD8kBbcPv"
      },
      "execution_count": null,
      "outputs": []
    },
    {
      "cell_type": "code",
      "source": [
        "def add_worked_with():\n",
        "  for movie in g.subjects(RDF.type, MOVIE.Movie):\n",
        "      individuals = set()\n",
        "\n",
        "      for actor in g.objects(movie, MOVIE.hasActor):\n",
        "          individuals.add(actor)\n",
        "      for director in g.objects(movie, MOVIE.directedBy):\n",
        "          individuals.add(director)\n",
        "      for writer in g.objects(movie, MOVIE.writtenBy):\n",
        "          individuals.add(writer)\n",
        "\n",
        "      for individual1, individual2 in combinations(individuals, 2):\n",
        "          g.add((individual1, workedWith, individual2))\n",
        "          if True:\n",
        "            return"
      ],
      "metadata": {
        "id": "M7KyuDKuau_y"
      },
      "execution_count": null,
      "outputs": []
    },
    {
      "cell_type": "code",
      "source": [
        "add_worked_with()\n",
        "for subj, pred, obj in g.triples((None, workedWith, None)):\n",
        "    print(f\"{subj} worked with {obj}\")\n",
        "owlrl.DeductiveClosure(owlrl.OWLRL_Semantics).expand(g)\n",
        "for subj, pred, obj in g.triples((None, workedWith, None)):\n",
        "    print(f\"{subj} worked with {obj}\")"
      ],
      "metadata": {
        "id": "4EZEBRvLb_EK"
      },
      "execution_count": null,
      "outputs": []
    }
  ],
  "metadata": {
    "colab": {
      "provenance": []
    },
    "kernelspec": {
      "display_name": "Python 3",
      "name": "python3"
    },
    "language_info": {
      "name": "python"
    }
  },
  "nbformat": 4,
  "nbformat_minor": 0
}