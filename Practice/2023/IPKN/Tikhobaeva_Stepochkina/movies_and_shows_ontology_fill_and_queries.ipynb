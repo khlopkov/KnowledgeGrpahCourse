{
  "nbformat": 4,
  "nbformat_minor": 0,
  "metadata": {
    "colab": {
      "provenance": []
    },
    "kernelspec": {
      "name": "python3",
      "display_name": "Python 3"
    },
    "language_info": {
      "name": "python"
    }
  },
  "cells": [
    {
      "cell_type": "markdown",
      "metadata": {
        "id": "OWRLnO7R8Rlu"
      },
      "source": [
        "# Онтология \"Фильмы и шоу\""
      ]
    },
    {
      "cell_type": "code",
      "metadata": {
        "id": "HwWQePfh8Bw4",
        "colab": {
          "base_uri": "https://localhost:8080/"
        },
        "outputId": "308ed694-fc01-4ffd-800c-58af277c3129"
      },
      "source": [
        "# установка библиотек\n",
        "!pip install rdflib\n",
        "!pip install PyDrive"
      ],
      "execution_count": 159,
      "outputs": [
        {
          "output_type": "stream",
          "name": "stdout",
          "text": [
            "Requirement already satisfied: rdflib in /usr/local/lib/python3.10/dist-packages (7.0.0)\n",
            "Requirement already satisfied: isodate<0.7.0,>=0.6.0 in /usr/local/lib/python3.10/dist-packages (from rdflib) (0.6.1)\n",
            "Requirement already satisfied: pyparsing<4,>=2.1.0 in /usr/local/lib/python3.10/dist-packages (from rdflib) (3.1.1)\n",
            "Requirement already satisfied: six in /usr/local/lib/python3.10/dist-packages (from isodate<0.7.0,>=0.6.0->rdflib) (1.16.0)\n",
            "Requirement already satisfied: PyDrive in /usr/local/lib/python3.10/dist-packages (1.3.1)\n",
            "Requirement already satisfied: google-api-python-client>=1.2 in /usr/local/lib/python3.10/dist-packages (from PyDrive) (2.84.0)\n",
            "Requirement already satisfied: oauth2client>=4.0.0 in /usr/local/lib/python3.10/dist-packages (from PyDrive) (4.1.3)\n",
            "Requirement already satisfied: PyYAML>=3.0 in /usr/local/lib/python3.10/dist-packages (from PyDrive) (6.0.1)\n",
            "Requirement already satisfied: httplib2<1dev,>=0.15.0 in /usr/local/lib/python3.10/dist-packages (from google-api-python-client>=1.2->PyDrive) (0.22.0)\n",
            "Requirement already satisfied: google-auth<3.0.0dev,>=1.19.0 in /usr/local/lib/python3.10/dist-packages (from google-api-python-client>=1.2->PyDrive) (2.17.3)\n",
            "Requirement already satisfied: google-auth-httplib2>=0.1.0 in /usr/local/lib/python3.10/dist-packages (from google-api-python-client>=1.2->PyDrive) (0.1.1)\n",
            "Requirement already satisfied: google-api-core!=2.0.*,!=2.1.*,!=2.2.*,!=2.3.0,<3.0.0dev,>=1.31.5 in /usr/local/lib/python3.10/dist-packages (from google-api-python-client>=1.2->PyDrive) (2.11.1)\n",
            "Requirement already satisfied: uritemplate<5,>=3.0.1 in /usr/local/lib/python3.10/dist-packages (from google-api-python-client>=1.2->PyDrive) (4.1.1)\n",
            "Requirement already satisfied: pyasn1>=0.1.7 in /usr/local/lib/python3.10/dist-packages (from oauth2client>=4.0.0->PyDrive) (0.5.1)\n",
            "Requirement already satisfied: pyasn1-modules>=0.0.5 in /usr/local/lib/python3.10/dist-packages (from oauth2client>=4.0.0->PyDrive) (0.3.0)\n",
            "Requirement already satisfied: rsa>=3.1.4 in /usr/local/lib/python3.10/dist-packages (from oauth2client>=4.0.0->PyDrive) (4.9)\n",
            "Requirement already satisfied: six>=1.6.1 in /usr/local/lib/python3.10/dist-packages (from oauth2client>=4.0.0->PyDrive) (1.16.0)\n",
            "Requirement already satisfied: googleapis-common-protos<2.0.dev0,>=1.56.2 in /usr/local/lib/python3.10/dist-packages (from google-api-core!=2.0.*,!=2.1.*,!=2.2.*,!=2.3.0,<3.0.0dev,>=1.31.5->google-api-python-client>=1.2->PyDrive) (1.61.0)\n",
            "Requirement already satisfied: protobuf!=3.20.0,!=3.20.1,!=4.21.0,!=4.21.1,!=4.21.2,!=4.21.3,!=4.21.4,!=4.21.5,<5.0.0.dev0,>=3.19.5 in /usr/local/lib/python3.10/dist-packages (from google-api-core!=2.0.*,!=2.1.*,!=2.2.*,!=2.3.0,<3.0.0dev,>=1.31.5->google-api-python-client>=1.2->PyDrive) (3.20.3)\n",
            "Requirement already satisfied: requests<3.0.0.dev0,>=2.18.0 in /usr/local/lib/python3.10/dist-packages (from google-api-core!=2.0.*,!=2.1.*,!=2.2.*,!=2.3.0,<3.0.0dev,>=1.31.5->google-api-python-client>=1.2->PyDrive) (2.31.0)\n",
            "Requirement already satisfied: cachetools<6.0,>=2.0.0 in /usr/local/lib/python3.10/dist-packages (from google-auth<3.0.0dev,>=1.19.0->google-api-python-client>=1.2->PyDrive) (5.3.2)\n",
            "Requirement already satisfied: pyparsing!=3.0.0,!=3.0.1,!=3.0.2,!=3.0.3,<4,>=2.4.2 in /usr/local/lib/python3.10/dist-packages (from httplib2<1dev,>=0.15.0->google-api-python-client>=1.2->PyDrive) (3.1.1)\n",
            "Requirement already satisfied: charset-normalizer<4,>=2 in /usr/local/lib/python3.10/dist-packages (from requests<3.0.0.dev0,>=2.18.0->google-api-core!=2.0.*,!=2.1.*,!=2.2.*,!=2.3.0,<3.0.0dev,>=1.31.5->google-api-python-client>=1.2->PyDrive) (3.3.2)\n",
            "Requirement already satisfied: idna<4,>=2.5 in /usr/local/lib/python3.10/dist-packages (from requests<3.0.0.dev0,>=2.18.0->google-api-core!=2.0.*,!=2.1.*,!=2.2.*,!=2.3.0,<3.0.0dev,>=1.31.5->google-api-python-client>=1.2->PyDrive) (3.6)\n",
            "Requirement already satisfied: urllib3<3,>=1.21.1 in /usr/local/lib/python3.10/dist-packages (from requests<3.0.0.dev0,>=2.18.0->google-api-core!=2.0.*,!=2.1.*,!=2.2.*,!=2.3.0,<3.0.0dev,>=1.31.5->google-api-python-client>=1.2->PyDrive) (2.0.7)\n",
            "Requirement already satisfied: certifi>=2017.4.17 in /usr/local/lib/python3.10/dist-packages (from requests<3.0.0.dev0,>=2.18.0->google-api-core!=2.0.*,!=2.1.*,!=2.2.*,!=2.3.0,<3.0.0dev,>=1.31.5->google-api-python-client>=1.2->PyDrive) (2023.11.17)\n"
          ]
        }
      ]
    },
    {
      "cell_type": "code",
      "metadata": {
        "id": "sKzl-L8P9c4S"
      },
      "source": [
        "from rdflib import URIRef, BNode, Literal, Namespace, Graph\n",
        "from rdflib.namespace import Namespace, NamespaceManager\n",
        "from rdflib.plugins import sparql\n",
        "from rdflib.namespace import RDF, RDFS, XSD\n",
        "from rdflib.serializer import Serializer"
      ],
      "execution_count": 160,
      "outputs": []
    },
    {
      "cell_type": "markdown",
      "metadata": {
        "id": "fUlYaNbm9fyF"
      },
      "source": [
        "## Загрузка онтологии"
      ]
    },
    {
      "cell_type": "code",
      "metadata": {
        "colab": {
          "base_uri": "https://localhost:8080/"
        },
        "id": "MR3XiYkm_1fZ",
        "outputId": "b71efb80-6a44-40d2-8d02-88155142ea39"
      },
      "source": [
        "g = Graph()\n",
        "g.parse('movies_and_shows_final.owl')"
      ],
      "execution_count": 161,
      "outputs": [
        {
          "output_type": "execute_result",
          "data": {
            "text/plain": [
              "<Graph identifier=N2b0f9d49f7ea47a0adc8554aad3d89c6 (<class 'rdflib.graph.Graph'>)>"
            ]
          },
          "metadata": {},
          "execution_count": 161
        }
      ]
    },
    {
      "cell_type": "markdown",
      "source": [
        "## Определение базовых сущностей"
      ],
      "metadata": {
        "id": "jPI6gheboLLo"
      }
    },
    {
      "cell_type": "code",
      "metadata": {
        "id": "ZGLaKE8HA1-0"
      },
      "source": [
        "# Classes\n",
        "FilmProduct_class = URIRef('http://www.semanticweb.org/otikhobaeva/ontologies/2023/9/movies_and_shows#FilmProduct')\n",
        "Movie_class = URIRef('http://www.semanticweb.org/otikhobaeva/ontologies/2023/9/movies_and_shows#Movie')\n",
        "Show_class = URIRef('http://www.semanticweb.org/otikhobaeva/ontologies/2023/9/movies_and_shows#Show')\n",
        "Character_class = URIRef('http://www.semanticweb.org/otikhobaeva/ontologies/2023/9/movies_and_shows#Character')\n",
        "Country_class = URIRef('http://www.semanticweb.org/otikhobaeva/ontologies/2023/9/movies_and_shows#Country')\n",
        "Genre_class = URIRef('http://www.semanticweb.org/otikhobaeva/ontologies/2023/9/movies_and_shows#Genre')\n",
        "Person_class = URIRef('http://www.semanticweb.org/otikhobaeva/ontologies/2023/9/movies_and_shows#Person')\n",
        "Actor_class = URIRef('http://www.semanticweb.org/otikhobaeva/ontologies/2023/9/movies_and_shows#Actor')\n",
        "Director_class = URIRef('http://www.semanticweb.org/otikhobaeva/ontologies/2023/9/movies_and_shows#Director')\n",
        "StreamingService_class = URIRef('http://www.semanticweb.org/otikhobaeva/ontologies/2023/9/movies_and_shows#StreamingService')\n",
        "Year_class = URIRef('http://www.semanticweb.org/otikhobaeva/ontologies/2023/9/movies_and_shows#Year')\n",
        "\n",
        "#object properties\n",
        "actedIn = URIRef('http://www.semanticweb.org/otikhobaeva/ontologies/2023/9/movies_and_shows#actedIn')\n",
        "appearedIn = URIRef('http://www.semanticweb.org/otikhobaeva/ontologies/2023/9/movies_and_shows#appearedIn')\n",
        "availableOn = URIRef('http://www.semanticweb.org/otikhobaeva/ontologies/2023/9/movies_and_shows#availableOn')\n",
        "directed = URIRef('http://www.semanticweb.org/otikhobaeva/ontologies/2023/9/movies_and_shows#directed')\n",
        "hasFilmProduct = URIRef('http://www.semanticweb.org/otikhobaeva/ontologies/2023/9/movies_and_shows#hasFilmProduct')\n",
        "hasGenre = URIRef('http://www.semanticweb.org/otikhobaeva/ontologies/2023/9/movies_and_shows#hasGenre')\n",
        "isDirectedBy = URIRef('http://www.semanticweb.org/otikhobaeva/ontologies/2023/9/movies_and_shows#isDirectedBy')\n",
        "playedBy = URIRef('http://www.semanticweb.org/otikhobaeva/ontologies/2023/9/movies_and_shows#playedBy')\n",
        "playRoleOf = URIRef('http://www.semanticweb.org/otikhobaeva/ontologies/2023/9/movies_and_shows#playRoleOf')\n",
        "producedIn = URIRef('http://www.semanticweb.org/otikhobaeva/ontologies/2023/9/movies_and_shows#producedIn')\n",
        "workedWith = URIRef('http://www.semanticweb.org/otikhobaeva/ontologies/2023/9/movies_and_shows#workedWith')\n",
        "hasInCast = URIRef('http://www.semanticweb.org/otikhobaeva/ontologies/2023/9/movies_and_shows#hasInCast')\n",
        "releasedIn = URIRef('http://www.semanticweb.org/otikhobaeva/ontologies/2023/9/movies_and_shows#releasedIn')\n",
        "\n",
        "#data properties\n",
        "duration = URIRef('http://www.semanticweb.org/otikhobaeva/ontologies/2023/9/movies_and_shows#duration')\n",
        "durationOfEpisode = URIRef('http://www.semanticweb.org/otikhobaeva/ontologies/2023/9/movies_and_shows#durationOfEpisode')\n",
        "hasAgeRating = URIRef('http://www.semanticweb.org/otikhobaeva/ontologies/2023/9/movies_and_shows#hasAgeRating')\n",
        "name = URIRef('http://www.semanticweb.org/otikhobaeva/ontologies/2023/9/movies_and_shows#name')\n",
        "genreName = URIRef('http://www.semanticweb.org/otikhobaeva/ontologies/2023/9/movies_and_shows#genreName')\n",
        "numberOfSeasons = URIRef('http://www.semanticweb.org/otikhobaeva/ontologies/2023/9/movies_and_shows#numberOfSeasons')\n",
        "title = URIRef('http://www.semanticweb.org/otikhobaeva/ontologies/2023/9/movies_and_shows#title')\n",
        "IMDBrating = URIRef('http://www.semanticweb.org/otikhobaeva/ontologies/2023/9/movies_and_shows#IMDBrating')\n",
        "TMDBrating = URIRef('http://www.semanticweb.org/otikhobaeva/ontologies/2023/9/movies_and_shows#TMDBrating')\n",
        "characterName = URIRef('http://www.semanticweb.org/otikhobaeva/ontologies/2023/9/movies_and_shows#characterName')\n",
        "birth_rate = URIRef('http://www.semanticweb.org/otikhobaeva/ontologies/2023/9/movies_and_shows#birth_rate')\n",
        "death_rate = URIRef('http://www.semanticweb.org/otikhobaeva/ontologies/2023/9/movies_and_shows#death_rate')\n",
        "yearValue = URIRef('http://www.semanticweb.org/otikhobaeva/ontologies/2023/9/movies_and_shows#yearValue')"
      ],
      "execution_count": 162,
      "outputs": []
    },
    {
      "cell_type": "markdown",
      "source": [
        "## Определение функций заполнения графа"
      ],
      "metadata": {
        "id": "2k3WsphdoWde"
      }
    },
    {
      "cell_type": "code",
      "source": [
        "def AddYear(year, birthRate, deathRate):\n",
        "    individual = URIRef('http://www.semanticweb.org/otikhobaeva/ontologies/2023/9/movies_and_shows#'+ str(int(year)))\n",
        "    g.add((individual, RDF.type, Year_class))\n",
        "    g.add((individual, yearValue, Literal(int(year))))\n",
        "    g.add((individual, birth_rate, Literal(float(birthRate))))\n",
        "    g.add((individual, death_rate, Literal(float(deathRate))))\n",
        "    return individual\n",
        "\n",
        "def AddStreamingIndividual(name_):\n",
        "    individual = URIRef('http://www.semanticweb.org/otikhobaeva/ontologies/2023/9/movies_and_shows#'+name_)\n",
        "    g.add((individual, RDF.type, StreamingService_class))\n",
        "    return individual\n",
        "\n",
        "def AddGenreIndividual(genre):\n",
        "    individual = URIRef('http://www.semanticweb.org/otikhobaeva/ontologies/2023/9/movies_and_shows#'+genre)\n",
        "    g.add((individual, RDF.type, Genre_class))\n",
        "    g.add((individual, genreName, Literal(genre)))\n",
        "    return individual\n",
        "\n",
        "def AddCountryIndividual(country):\n",
        "    individual = URIRef('http://www.semanticweb.org/otikhobaeva/ontologies/2023/9/movies_and_shows#'+country)\n",
        "    g.add((individual, RDF.type, Country_class))\n",
        "    return individual\n",
        "\n",
        "def AddActorIndividual(person_id, character_, character_id):\n",
        "    individual = URIRef('http://www.semanticweb.org/otikhobaeva/ontologies/2023/9/movies_and_shows#'+ str(person_id))\n",
        "    g.add((individual, RDF.type, Actor_class))\n",
        "    if character_ is not None:\n",
        "        character_individual = AddCharacterIndividual(character_, character_id)\n",
        "        g.add((individual, playRoleOf, character_individual))\n",
        "        g.add((character_individual, playedBy, individual))\n",
        "\n",
        "def AddDirectorIndividual(person_id):\n",
        "    individual = URIRef('http://www.semanticweb.org/otikhobaeva/ontologies/2023/9/movies_and_shows#'+ str(person_id))\n",
        "    g.add((individual, RDF.type, Director_class))\n",
        "\n",
        "def AddCharacterIndividual(character_, character_id):\n",
        "    individual = URIRef('http://www.semanticweb.org/otikhobaeva/ontologies/2023/9/movies_and_shows#'+ str(character_id))\n",
        "    g.add((individual, RDF.type, Character_class))\n",
        "    g.add((individual, characterName, Literal(character_)))\n",
        "\n",
        "    return individual\n",
        "\n",
        "def AddPersonIndividual(person_id, name_, role, character_, character_id):\n",
        "    individual = URIRef('http://www.semanticweb.org/otikhobaeva/ontologies/2023/9/movies_and_shows#'+str(person_id))\n",
        "    g.add((individual, RDF.type, Person_class))\n",
        "    g.add((individual, name, Literal(name_)))\n",
        "\n",
        "    if role == 'ACTOR':\n",
        "        AddActorIndividual(person_id, character_, character_id)\n",
        "    if role == 'DIRECTOR':\n",
        "        AddDirectorIndividual(person_id)\n",
        "\n",
        "    return individual\n",
        "\n",
        "def AddShowIndividual(film_id, seasons, duration_):\n",
        "    individual = URIRef('http://www.semanticweb.org/otikhobaeva/ontologies/2023/9/movies_and_shows#'+film_id)\n",
        "    g.add((individual, RDF.type, Show_class))\n",
        "    g.add((individual, numberOfSeasons, Literal(seasons)))\n",
        "    g.add((individual, duration, Literal(durationOfEpisode)))\n",
        "\n",
        "def AddMovieIndividual(film_id, duration_):\n",
        "    individual = URIRef('http://www.semanticweb.org/otikhobaeva/ontologies/2023/9/movies_and_shows#'+film_id)\n",
        "    g.add((individual, RDF.type, Movie_class))\n",
        "    g.add((individual, duration, Literal(duration_)))\n",
        "\n",
        "def AddFilmProductIndividual(film_id, duration_, age_certification, title_,\ttype_, release_year, genres, production_countries, seasons, streaming, imdb_score, tmdb_score):\n",
        "    individual = URIRef('http://www.semanticweb.org/otikhobaeva/ontologies/2023/9/movies_and_shows#'+film_id)\n",
        "    g.add((individual, RDF.type, FilmProduct_class))\n",
        "    if type_ == 'SHOW':\n",
        "        AddShowIndividual(film_id, seasons, duration_)\n",
        "    if type_ == 'MOVIE':\n",
        "        AddMovieIndividual(film_id, duration_)\n",
        "    if title is not None:\n",
        "        g.add((individual, title, Literal(title_)))\n",
        "    year_individual = URIRef('http://www.semanticweb.org/otikhobaeva/ontologies/2023/9/movies_and_shows#'+str(release_year))\n",
        "    g.add((individual, releasedIn, year_individual))\n",
        "\n",
        "    if imdb_score is not None and imdb_score is not np.nan:\n",
        "      g.add((individual, IMDBrating, Literal(imdb_score)))\n",
        "\n",
        "    if tmdb_score is not None and tmdb_score is not np.nan:\n",
        "      g.add((individual, TMDBrating, Literal(tmdb_score)))\n",
        "\n",
        "    if age_certification is not None and age_certification is not np.nan:\n",
        "        g.add((individual, hasAgeRating, Literal(age_certification)))\n",
        "\n",
        "    streaming_individual = AddStreamingIndividual(streaming)\n",
        "    g.add((individual, availableOn, streaming_individual))\n",
        "    g.add((streaming_individual, hasFilmProduct, individual))\n",
        "\n",
        "    for genre in genres:\n",
        "        genre_individual = AddGenreIndividual(genre)\n",
        "        g.add((individual, hasGenre, genre_individual))\n",
        "\n",
        "    for country in production_countries:\n",
        "        country_individual = AddCountryIndividual(country.replace(' ', '_'))\n",
        "        g.add((individual, producedIn, country_individual))\n",
        "\n",
        "def AddActedIn(person_id, film_id, role, character_id):\n",
        "    person_individual = URIRef('http://www.semanticweb.org/otikhobaeva/ontologies/2023/9/movies_and_shows#'+str(person_id))\n",
        "    film_individual = URIRef('http://www.semanticweb.org/otikhobaeva/ontologies/2023/9/movies_and_shows#'+film_id)\n",
        "    character_individual = URIRef('http://www.semanticweb.org/otikhobaeva/ontologies/2023/9/movies_and_shows#'+str(character_id))\n",
        "\n",
        "    if role == 'ACTOR':\n",
        "        g.add((person_individual, actedIn, film_individual))\n",
        "        g.add((film_individual, hasInCast, person_individual))\n",
        "        g.add((character_individual, appearedIn, film_individual))\n",
        "\n",
        "    if role == 'DIRECTOR':\n",
        "        g.add((person_individual, directed, film_individual))\n",
        "        g.add((film_individual, isDirectedBy, person_individual))\n",
        "\n"
      ],
      "metadata": {
        "id": "AyDilSDPHswP"
      },
      "execution_count": 163,
      "outputs": []
    },
    {
      "cell_type": "markdown",
      "source": [
        "## Загрузка данных"
      ],
      "metadata": {
        "id": "Z6qzq3IconDK"
      }
    },
    {
      "cell_type": "code",
      "source": [
        "import pandas as pd\n",
        "import ast\n",
        "import numpy as np\n",
        "\n",
        "# https://www.kaggle.com/datasets/dwdkills/russian-demography/versions/2?resource=download\n",
        "demography = pd.read_csv('russian_demography.csv').groupby('year').mean().reset_index()\n",
        "# https://www.kaggle.com/datasets/victorsoeiro/netflix-tv-shows-and-movies?select=titles.csv\n",
        "credits_netflix = pd.read_csv('credits_netflix.csv')\n",
        "titles_netflix = pd.read_csv('titles_netflix.csv')\n",
        "titles_netflix.loc[:, 'streaming'] = 'Netflix'\n",
        "# https://www.kaggle.com/datasets/victorsoeiro/amazon-prime-tv-shows-and-movies?select=titles.csv\n",
        "credits_amazon = pd.read_csv('credits_amazon.csv')\n",
        "titles_amazon = pd.read_csv('titles_amazon.csv')\n",
        "titles_amazon.loc[:, 'streaming'] = 'Amazon'\n",
        "# https://www.kaggle.com/datasets/victorsoeiro/hbo-max-tv-shows-and-movies?select=titles.csv\n",
        "credits_hbo = pd.read_csv('credits_hbo.csv')\n",
        "titles_hbo = pd.read_csv('titles_hbo.csv')\n",
        "titles_hbo.loc[:, 'streaming'] = 'HBO'\n",
        "\n",
        "titles = pd.concat([titles_netflix, titles_amazon, titles_hbo])\n",
        "titles['genres'] = titles['genres'].apply(lambda x: ast.literal_eval(x))\n",
        "titles['production_countries'] = titles['production_countries'].apply(lambda x: ast.literal_eval(x))\n",
        "titles.reset_index(drop = True, inplace = True)\n",
        "credits = pd.concat([credits_netflix, credits_amazon, credits_hbo])\n",
        "credits.reset_index(drop = True, inplace = True)\n",
        "credits['name'] = credits['name'].apply(lambda x: x.strip())"
      ],
      "metadata": {
        "id": "6cAmLUE3Hexj",
        "colab": {
          "base_uri": "https://localhost:8080/"
        },
        "outputId": "2d795889-e149-4c89-afaf-be4e81593e18"
      },
      "execution_count": 164,
      "outputs": [
        {
          "output_type": "stream",
          "name": "stderr",
          "text": [
            "<ipython-input-164-6942bff6014b>:6: FutureWarning: The default value of numeric_only in DataFrameGroupBy.mean is deprecated. In a future version, numeric_only will default to False. Either specify numeric_only or select only columns which should be valid for the function.\n",
            "  demography = pd.read_csv('russian_demography.csv').groupby('year').mean().reset_index()\n"
          ]
        }
      ]
    },
    {
      "cell_type": "code",
      "source": [
        "characters = credits[['id', 'character']].drop_duplicates()\n",
        "characters.reset_index(drop = True, inplace = True)\n",
        "characters.reset_index(inplace = True)\n",
        "characters = characters.rename(columns = {'index':'character_id'})\n",
        "characters['character_id'] = characters['character_id'].apply(lambda x: 'ch' + str(x))\n",
        "credits = credits.merge(characters, on = ['character', 'id'], how = 'left')"
      ],
      "metadata": {
        "id": "Hn8KGZNud6wj"
      },
      "execution_count": 165,
      "outputs": []
    },
    {
      "cell_type": "code",
      "source": [
        "credits.isna().sum()"
      ],
      "metadata": {
        "colab": {
          "base_uri": "https://localhost:8080/"
        },
        "id": "eRF8dQL87orr",
        "outputId": "5f3723b4-2205-43c6-8cdf-2bc9ef4b7941"
      },
      "execution_count": 166,
      "outputs": [
        {
          "output_type": "execute_result",
          "data": {
            "text/plain": [
              "person_id           0\n",
              "id                  0\n",
              "name                0\n",
              "character       30564\n",
              "role                0\n",
              "character_id        0\n",
              "dtype: int64"
            ]
          },
          "metadata": {},
          "execution_count": 166
        }
      ]
    },
    {
      "cell_type": "code",
      "source": [
        "titles.isna().sum()"
      ],
      "metadata": {
        "colab": {
          "base_uri": "https://localhost:8080/"
        },
        "id": "g43jQAGD-c7w",
        "outputId": "30347879-fc36-49f7-8605-b7e6a36d6909"
      },
      "execution_count": 167,
      "outputs": [
        {
          "output_type": "execute_result",
          "data": {
            "text/plain": [
              "id                          0\n",
              "title                       1\n",
              "type                        0\n",
              "description               149\n",
              "release_year                0\n",
              "age_certification       10314\n",
              "runtime                     0\n",
              "genres                      0\n",
              "production_countries        0\n",
              "seasons                 14796\n",
              "imdb_id                  1396\n",
              "imdb_score               1875\n",
              "imdb_votes               1912\n",
              "tmdb_popularity           671\n",
              "tmdb_score               2661\n",
              "streaming                   0\n",
              "dtype: int64"
            ]
          },
          "metadata": {},
          "execution_count": 167
        }
      ]
    },
    {
      "cell_type": "code",
      "source": [
        "# tmp = credits[credits['role'] == 'DIRECTOR'].groupby('id').count()['person_id']\n",
        "# tmp = pd.DataFrame(tmp)\n",
        "# tmp[tmp['person_id'] > 2]"
      ],
      "metadata": {
        "id": "6Qjc75G8Aez-"
      },
      "execution_count": 168,
      "outputs": []
    },
    {
      "cell_type": "code",
      "source": [
        "print('Количество уникальных фильмов и шоу:', len(titles['id'].unique()))\n",
        "print('Количество уникальных фильмов:', len(titles[titles['type'] == 'MOVIE']['id'].unique()))\n",
        "print('Количество уникальных фильмов:', len(titles[titles['type'] == 'SHOW']['id'].unique()))\n",
        "print('Количество уникальных актеров:', len(credits[credits['role'] == 'ACTOR']['person_id'].unique()))\n",
        "print('Количество уникальных режиссеров:', len(credits[credits['role'] == 'DIRECTOR']['person_id'].unique()))\n",
        "print('Количество уникальных персонажей:', len(credits['character_id'].unique()))"
      ],
      "metadata": {
        "colab": {
          "base_uri": "https://localhost:8080/"
        },
        "id": "5B6m_9ufkfXS",
        "outputId": "c5adc791-0bae-4445-f5aa-4d3b4134ceae"
      },
      "execution_count": 169,
      "outputs": [
        {
          "output_type": "stream",
          "name": "stdout",
          "text": [
            "Количество уникальных фильмов и шоу: 18788\n",
            "Количество уникальных фильмов: 14639\n",
            "Количество уникальных фильмов: 4149\n",
            "Количество уникальных актеров: 137953\n",
            "Количество уникальных режиссеров: 10323\n",
            "Количество уникальных персонажей: 227913\n"
          ]
        }
      ]
    },
    {
      "cell_type": "markdown",
      "source": [
        "## Сократим количество данных"
      ],
      "metadata": {
        "id": "CTxjJisriiWm"
      }
    },
    {
      "cell_type": "code",
      "source": [
        "import random\n",
        "\n",
        "random.seed(42)\n",
        "\n",
        "random_films = random.sample(titles['id'].values.tolist(), k = int(len(titles['id'].unique())/2))"
      ],
      "metadata": {
        "id": "HpfoA4ysjCGr"
      },
      "execution_count": 170,
      "outputs": []
    },
    {
      "cell_type": "code",
      "source": [
        "titles = titles[titles['id'].isin(random_films)]\n",
        "credits = credits[credits['id'].isin(random_films)]"
      ],
      "metadata": {
        "id": "XPuczbZAihwk"
      },
      "execution_count": 171,
      "outputs": []
    },
    {
      "cell_type": "code",
      "source": [
        "print('Количество уникальных фильмов и шоу:', len(titles['id'].unique()))\n",
        "print('Количество уникальных фильмов:', len(titles[titles['type'] == 'MOVIE']['id'].unique()))\n",
        "print('Количество уникальных фильмов:', len(titles[titles['type'] == 'SHOW']['id'].unique()))\n",
        "print('Количество уникальных актеров:', len(credits[credits['role'] == 'ACTOR']['person_id'].unique()))\n",
        "print('Количество уникальных режиссеров:', len(credits[credits['role'] == 'DIRECTOR']['person_id'].unique()))\n",
        "print('Количество уникальных персонажей:', len(credits['character_id'].unique()))"
      ],
      "metadata": {
        "colab": {
          "base_uri": "https://localhost:8080/"
        },
        "id": "ojU8F0-4lKas",
        "outputId": "e4ad2d73-7392-41ef-a5da-12e0b7233278"
      },
      "execution_count": 172,
      "outputs": [
        {
          "output_type": "stream",
          "name": "stdout",
          "text": [
            "Количество уникальных фильмов и шоу: 9326\n",
            "Количество уникальных фильмов: 7284\n",
            "Количество уникальных фильмов: 2042\n",
            "Количество уникальных актеров: 82379\n",
            "Количество уникальных режиссеров: 5923\n",
            "Количество уникальных персонажей: 113861\n"
          ]
        }
      ]
    },
    {
      "cell_type": "markdown",
      "source": [
        "## Заполнение графа данными"
      ],
      "metadata": {
        "id": "s5zevhn9o3R_"
      }
    },
    {
      "cell_type": "code",
      "source": [
        "demography.apply(lambda row: AddYear(row['year'], row['birth_rate'], row['death_rate']), axis = 1)"
      ],
      "metadata": {
        "colab": {
          "base_uri": "https://localhost:8080/"
        },
        "id": "YRbtWb7UhNt_",
        "outputId": "af21ff56-6327-4fed-d67a-dfeaa631d02c"
      },
      "execution_count": 173,
      "outputs": [
        {
          "output_type": "execute_result",
          "data": {
            "text/plain": [
              "0     http://www.semanticweb.org/otikhobaeva/ontolog...\n",
              "1     http://www.semanticweb.org/otikhobaeva/ontolog...\n",
              "2     http://www.semanticweb.org/otikhobaeva/ontolog...\n",
              "3     http://www.semanticweb.org/otikhobaeva/ontolog...\n",
              "4     http://www.semanticweb.org/otikhobaeva/ontolog...\n",
              "5     http://www.semanticweb.org/otikhobaeva/ontolog...\n",
              "6     http://www.semanticweb.org/otikhobaeva/ontolog...\n",
              "7     http://www.semanticweb.org/otikhobaeva/ontolog...\n",
              "8     http://www.semanticweb.org/otikhobaeva/ontolog...\n",
              "9     http://www.semanticweb.org/otikhobaeva/ontolog...\n",
              "10    http://www.semanticweb.org/otikhobaeva/ontolog...\n",
              "11    http://www.semanticweb.org/otikhobaeva/ontolog...\n",
              "12    http://www.semanticweb.org/otikhobaeva/ontolog...\n",
              "13    http://www.semanticweb.org/otikhobaeva/ontolog...\n",
              "14    http://www.semanticweb.org/otikhobaeva/ontolog...\n",
              "15    http://www.semanticweb.org/otikhobaeva/ontolog...\n",
              "16    http://www.semanticweb.org/otikhobaeva/ontolog...\n",
              "17    http://www.semanticweb.org/otikhobaeva/ontolog...\n",
              "18    http://www.semanticweb.org/otikhobaeva/ontolog...\n",
              "19    http://www.semanticweb.org/otikhobaeva/ontolog...\n",
              "20    http://www.semanticweb.org/otikhobaeva/ontolog...\n",
              "21    http://www.semanticweb.org/otikhobaeva/ontolog...\n",
              "22    http://www.semanticweb.org/otikhobaeva/ontolog...\n",
              "23    http://www.semanticweb.org/otikhobaeva/ontolog...\n",
              "24    http://www.semanticweb.org/otikhobaeva/ontolog...\n",
              "25    http://www.semanticweb.org/otikhobaeva/ontolog...\n",
              "26    http://www.semanticweb.org/otikhobaeva/ontolog...\n",
              "27    http://www.semanticweb.org/otikhobaeva/ontolog...\n",
              "dtype: object"
            ]
          },
          "metadata": {},
          "execution_count": 173
        }
      ]
    },
    {
      "cell_type": "code",
      "source": [
        "credits.apply(lambda row: AddPersonIndividual(row['person_id'], row['name'], row['role'], row['character'], row['character_id']), axis=1)"
      ],
      "metadata": {
        "colab": {
          "base_uri": "https://localhost:8080/"
        },
        "id": "zRHaVPlwKbcM",
        "outputId": "ea2d3652-4adf-4c09-c239-074f63bdaa10"
      },
      "execution_count": 174,
      "outputs": [
        {
          "output_type": "execute_result",
          "data": {
            "text/plain": [
              "0         http://www.semanticweb.org/otikhobaeva/ontolog...\n",
              "1         http://www.semanticweb.org/otikhobaeva/ontolog...\n",
              "2         http://www.semanticweb.org/otikhobaeva/ontolog...\n",
              "3         http://www.semanticweb.org/otikhobaeva/ontolog...\n",
              "4         http://www.semanticweb.org/otikhobaeva/ontolog...\n",
              "                                ...                        \n",
              "268424    http://www.semanticweb.org/otikhobaeva/ontolog...\n",
              "268425    http://www.semanticweb.org/otikhobaeva/ontolog...\n",
              "268426    http://www.semanticweb.org/otikhobaeva/ontolog...\n",
              "268427    http://www.semanticweb.org/otikhobaeva/ontolog...\n",
              "268428    http://www.semanticweb.org/otikhobaeva/ontolog...\n",
              "Length: 134694, dtype: object"
            ]
          },
          "metadata": {},
          "execution_count": 174
        }
      ]
    },
    {
      "cell_type": "code",
      "source": [
        "titles.apply(lambda row: AddFilmProductIndividual(row['id'], row['runtime'], row['age_certification'], row['title'], row['type'], row['release_year'], row['genres'], row['production_countries'], row['seasons'], row['streaming'], row['imdb_score'], row['tmdb_score']), axis = 1)"
      ],
      "metadata": {
        "colab": {
          "base_uri": "https://localhost:8080/"
        },
        "id": "O61OGd3oYKQ4",
        "outputId": "c89ada2a-5913-454e-ed95-7083bc6b4559"
      },
      "execution_count": 175,
      "outputs": [
        {
          "output_type": "execute_result",
          "data": {
            "text/plain": [
              "1        None\n",
              "2        None\n",
              "3        None\n",
              "4        None\n",
              "11       None\n",
              "         ... \n",
              "19006    None\n",
              "19009    None\n",
              "19011    None\n",
              "19012    None\n",
              "19014    None\n",
              "Length: 9507, dtype: object"
            ]
          },
          "metadata": {},
          "execution_count": 175
        }
      ]
    },
    {
      "cell_type": "code",
      "source": [
        "credits.apply(lambda row: AddActedIn(row['person_id'], row['id'], row['role'], row['character_id']), axis=1)"
      ],
      "metadata": {
        "colab": {
          "base_uri": "https://localhost:8080/"
        },
        "id": "T_RqG78_dW5H",
        "outputId": "07e8d901-5f25-4551-c4d7-24601f539244"
      },
      "execution_count": 176,
      "outputs": [
        {
          "output_type": "execute_result",
          "data": {
            "text/plain": [
              "0         None\n",
              "1         None\n",
              "2         None\n",
              "3         None\n",
              "4         None\n",
              "          ... \n",
              "268424    None\n",
              "268425    None\n",
              "268426    None\n",
              "268427    None\n",
              "268428    None\n",
              "Length: 134694, dtype: object"
            ]
          },
          "metadata": {},
          "execution_count": 176
        }
      ]
    },
    {
      "cell_type": "code",
      "source": [
        "g.serialize(destination='movies_and_shows_filled.owl', format='n3')"
      ],
      "metadata": {
        "colab": {
          "base_uri": "https://localhost:8080/"
        },
        "id": "7cAxxFv7-7bQ",
        "outputId": "a8f4fc94-c8cb-4e8a-a3a9-cef6c5081c1b"
      },
      "execution_count": 177,
      "outputs": [
        {
          "output_type": "execute_result",
          "data": {
            "text/plain": [
              "<Graph identifier=N2b0f9d49f7ea47a0adc8554aad3d89c6 (<class 'rdflib.graph.Graph'>)>"
            ]
          },
          "metadata": {},
          "execution_count": 177
        }
      ]
    },
    {
      "cell_type": "markdown",
      "source": [
        "# Запросы"
      ],
      "metadata": {
        "id": "YC5u8lJ26faX"
      }
    },
    {
      "cell_type": "code",
      "source": [
        "# g = Graph()\n",
        "# g.parse('movies_and_shows_filled.owl')"
      ],
      "metadata": {
        "id": "q8V1IlxpDgo6"
      },
      "execution_count": 119,
      "outputs": []
    },
    {
      "cell_type": "markdown",
      "source": [
        "## Запрос 1\n",
        "Топ-10 шоу по рейтингу IMDB"
      ],
      "metadata": {
        "id": "Q-jbLsfw7w6W"
      }
    },
    {
      "cell_type": "code",
      "source": [
        "qres1 = g.query(\"\"\"SELECT ?title ?imdb_rating\n",
        "                 WHERE {\n",
        "                     ?show rdf:type :Show.\n",
        "                     ?show :IMDBrating ?imdb_rating.\n",
        "                     ?show :title ?title\n",
        "                 }\n",
        "                 ORDER BY DESC(?imdb_rating)\n",
        "                 LIMIT 10\"\"\")"
      ],
      "metadata": {
        "id": "jXzvqZusn7BB"
      },
      "execution_count": null,
      "outputs": []
    },
    {
      "cell_type": "code",
      "source": [
        "n = 1\n",
        "for row in qres1:\n",
        "    print(str(n)+\": %s - %s\" % row)\n",
        "    n += 1"
      ],
      "metadata": {
        "colab": {
          "base_uri": "https://localhost:8080/"
        },
        "id": "_WmUVASApWez",
        "outputId": "40d51cba-54c4-4f61-9a3d-68370771c550"
      },
      "execution_count": null,
      "outputs": [
        {
          "output_type": "stream",
          "name": "stdout",
          "text": [
            "1: Couple of Mirrors - 9.5\n",
            "2: Band of Brothers - 9.4\n",
            "3: Chernobyl - 9.4\n",
            "4: Our Planet - 9.3\n",
            "5: The Wire - 9.3\n",
            "6: Game of Thrones - 9.2\n",
            "7: Kota Factory - 9.1\n",
            "8: Fullmetal Alchemist: Brotherhood - 9.1\n",
            "9: Arcane - 9.0\n",
            "10: The World Between Us - 9.0\n"
          ]
        }
      ]
    },
    {
      "cell_type": "markdown",
      "source": [
        "## Запрос 2\n",
        "\n",
        "Топ-10 актеров с наибольшим средним рейтингом фильмов, в которых они снимались"
      ],
      "metadata": {
        "id": "pw07eE0T76zb"
      }
    },
    {
      "cell_type": "code",
      "source": [
        "qres2 = g.query(\"\"\"SELECT ?name (AVG(?imdb_rating) as ?avg)\n",
        "                 WHERE {\n",
        "                     ?person_id rdf:type :Actor.\n",
        "                     ?person_id :actedIn ?film.\n",
        "                     ?film :IMDBrating ?imdb_rating.\n",
        "                     ?person_id :name ?name\n",
        "                 }\n",
        "                 GROUP BY ?person_id\n",
        "                 ORDER BY DESC(?avg)\n",
        "                 LIMIT 10\"\"\")"
      ],
      "metadata": {
        "id": "QOe3JVfvpgZT"
      },
      "execution_count": null,
      "outputs": []
    },
    {
      "cell_type": "code",
      "source": [
        "n = 1\n",
        "for row in qres2:\n",
        "    print(str(n)+\": %s - %s\" % row)\n",
        "    n += 1"
      ],
      "metadata": {
        "colab": {
          "base_uri": "https://localhost:8080/"
        },
        "id": "ubNtGsZV-t1J",
        "outputId": "598742ac-fae0-414f-8f96-b546dadddb7a"
      },
      "execution_count": null,
      "outputs": [
        {
          "output_type": "stream",
          "name": "stdout",
          "text": [
            "1: Ajay Purkar - 9.9\n",
            "2: Ruchi Savarn Mohan - 9.9\n",
            "3: Prajakta Mali - 9.9\n",
            "4: Surabhi Bhave - 9.9\n",
            "5: Ujwala Jog - 9.9\n",
            "6: Madhavi Nimkar - 9.9\n",
            "7: Astad Kale - 9.9\n",
            "8: Rishi Saxena - 9.9\n",
            "9: Ankit Mohan - 9.9\n",
            "10: Dipti Ketkar - 9.9\n"
          ]
        }
      ]
    },
    {
      "cell_type": "markdown",
      "source": [
        "## Запрос 3\n",
        "Фильмы и шоу, которые есть одновременно на трех платформах"
      ],
      "metadata": {
        "id": "_uh4_bZw-yPh"
      }
    },
    {
      "cell_type": "code",
      "source": [
        "qres3 = g.query(\"\"\"SELECT ?title\n",
        "                 WHERE {\n",
        "                     ?film rdf:type :FilmProduct.\n",
        "                     ?film :title ?title.\n",
        "                     ?film :availableOn ?streaming.\n",
        "                 }\n",
        "                 GROUP BY ?film\n",
        "                 HAVING (COUNT(?streaming)= 3)\n",
        "                 LIMIT 10\"\"\")"
      ],
      "metadata": {
        "id": "YKXsdbHb9ASB"
      },
      "execution_count": null,
      "outputs": []
    },
    {
      "cell_type": "code",
      "source": [
        "n = 1\n",
        "for row in qres3:\n",
        "    print(str(n)+\": %s\" % row)\n",
        "    n += 1"
      ],
      "metadata": {
        "colab": {
          "base_uri": "https://localhost:8080/"
        },
        "id": "0Rhn4y1LAOkI",
        "outputId": "57512d10-b481-4293-fa72-76b62bf45de3"
      },
      "execution_count": null,
      "outputs": [
        {
          "output_type": "stream",
          "name": "stdout",
          "text": [
            "1: Little Baby Bum\n"
          ]
        }
      ]
    },
    {
      "cell_type": "markdown",
      "source": [
        "## Запрос 4\n",
        "Режиссеры в порядке убывания количества фильмов и их средний рейтинг"
      ],
      "metadata": {
        "id": "IsAGFzOafqFO"
      }
    },
    {
      "cell_type": "code",
      "source": [
        "qres4 = g.query(\"\"\"SELECT ?name (COUNT(?film) AS ?cnt_films) (AVG(?rating) AS ?avg_rating)\n",
        "                 WHERE {\n",
        "                     ?person_id rdf:type :Director.\n",
        "                     ?person_id :name ?name.\n",
        "                     ?person_id :directed ?film.\n",
        "                     ?film rdf:type :Movie.\n",
        "                     ?film :IMDBrating ?rating.\n",
        "                 }\n",
        "                 GROUP BY ?person_id\n",
        "                 ORDER BY DESC(COUNT(?film))\n",
        "                 LIMIT 10\"\"\")"
      ],
      "metadata": {
        "id": "A42xZUnTfolQ"
      },
      "execution_count": null,
      "outputs": []
    },
    {
      "cell_type": "code",
      "source": [
        "n = 1\n",
        "for row in qres4:\n",
        "    print(str(n)+\": %s - %s фильмов, %s рейтинг\" % row)\n",
        "    n += 1"
      ],
      "metadata": {
        "colab": {
          "base_uri": "https://localhost:8080/"
        },
        "id": "GAiBxA8Cfonf",
        "outputId": "23088159-5a9f-4b3b-8242-9fb182c2c881"
      },
      "execution_count": null,
      "outputs": [
        {
          "output_type": "stream",
          "name": "stdout",
          "text": [
            "1: Jay Chapman - 44 фильмов, nan рейтинг\n",
            "2: Joseph Kane - 41 фильмов, 5.926829268292682 рейтинг\n",
            "3: Sam Newfield - 38 фильмов, 5.257894736842106 рейтинг\n",
            "4: Jay Karas - 24 фильмов, 6.629166666666667 рейтинг\n",
            "5: Ryan Polito - 23 фильмов, nan рейтинг\n",
            "6: Lesley Selander - 22 фильмов, 6.286363636363635 рейтинг\n",
            "7: Charlie Chaplin - 22 фильмов, nan рейтинг\n",
            "8: John English - 21 фильмов, 6.21904761904762 рейтинг\n",
            "9: Harry L. Fraser - 21 фильмов, 5.171428571428571 рейтинг\n",
            "10: Manny Rodriguez - 20 фильмов, nan рейтинг\n"
          ]
        }
      ]
    },
    {
      "cell_type": "markdown",
      "source": [
        "# Запрос 5"
      ],
      "metadata": {
        "id": "3NO1nbTumNud"
      }
    },
    {
      "cell_type": "markdown",
      "source": [
        "Топ годов по рождаемости и количество семейных фильмов, снятых в этот год"
      ],
      "metadata": {
        "id": "K1L9wYMdv3v1"
      }
    },
    {
      "cell_type": "code",
      "source": [
        "qres5 = g.query(\"\"\"SELECT ?year (AVG(?birth) AS ?birth) (COUNT(DISTINCT ?film) AS ?cnt_films)\n",
        "                 WHERE {\n",
        "                     ?film rdf:type :Movie.\n",
        "                     ?film :hasGenre ?genre.\n",
        "                     ?film :title ?title.\n",
        "                     ?genre :genreName \"family\".\n",
        "                     ?film :releasedIn ?Year.\n",
        "                     ?Year :yearValue ?year.\n",
        "                     ?Year :birth_rate ?birth.\n",
        "                 }\n",
        "                 GROUP BY ?year\n",
        "                 ORDER BY DESC(AVG(?birth))\n",
        "                 LIMIT 15\"\"\")"
      ],
      "metadata": {
        "id": "JtW0AetXmT3R"
      },
      "execution_count": 189,
      "outputs": []
    },
    {
      "cell_type": "code",
      "source": [
        "n = 1\n",
        "for row in qres5:\n",
        "    print(str(n)+\": %s: birth rate - %s, films -  %s\" % row)\n",
        "    n += 1"
      ],
      "metadata": {
        "colab": {
          "base_uri": "https://localhost:8080/"
        },
        "id": "AselBGHlm4ML",
        "outputId": "3d6a9ddc-f0c2-4837-f8f2-0779544543e9"
      },
      "execution_count": 190,
      "outputs": [
        {
          "output_type": "stream",
          "name": "stdout",
          "text": [
            "1: 1990: birth rate - 14.354878048780487, films -  2\n",
            "2: 2012: birth rate - 13.827710843373495, films -  10\n",
            "3: 2014: birth rate - 13.690588235294118, films -  21\n",
            "4: 2013: birth rate - 13.67469879518072, films -  21\n",
            "5: 2015: birth rate - 13.515294117647054, films -  21\n",
            "6: 2011: birth rate - 13.231325301204821, films -  13\n",
            "7: 2010: birth rate - 13.203614457831323, films -  11\n",
            "8: 2016: birth rate - 13.043529411764707, films -  28\n",
            "9: 1991: birth rate - 12.971951219512196, films -  2\n",
            "10: 2009: birth rate - 12.959036144578311, films -  3\n",
            "11: 2008: birth rate - 12.718072289156625, films -  12\n",
            "12: 2007: birth rate - 12.054216867469878, films -  15\n",
            "13: 2017: birth rate - 11.648235294117644, films -  32\n",
            "14: 2004: birth rate - 11.1, films -  3\n",
            "15: 2006: birth rate - 10.974698795180723, films -  6\n"
          ]
        }
      ]
    },
    {
      "cell_type": "code",
      "source": [],
      "metadata": {
        "id": "4FjjRR6StbQ2"
      },
      "execution_count": null,
      "outputs": []
    }
  ]
}