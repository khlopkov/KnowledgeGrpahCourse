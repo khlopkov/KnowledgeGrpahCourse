{
 "cells": [
  {
   "cell_type": "code",
   "execution_count": null,
   "metadata": {},
   "outputs": [],
   "source": [
    "import requests\n",
    "from bs4 import BeautifulSoup"
   ]
  },
  {
   "cell_type": "code",
   "execution_count": null,
   "metadata": {},
   "outputs": [],
   "source": [
    "def get_text(url: str):\n",
    "    res = requests.get(url=url)\n",
    "    soup = BeautifulSoup(res.text, 'html.parser')\n",
    "    links = soup.find_all('h2')\n",
    "    songs = []\n",
    "    for i in links:\n",
    "        song = i.findChild('a')['href']\n",
    "        res_new = requests.get(url=song)\n",
    "        soup_new = BeautifulSoup(res_new.text, 'html.parser')\n",
    "        song_text = soup_new.find_all('article')[0].text\n",
    "        songs.append(song_text)\n",
    "    return songs"
   ]
  },
  {
   "cell_type": "code",
   "execution_count": null,
   "metadata": {},
   "outputs": [],
   "source": [
    "kamnem_po_golove = get_text('https://korol-i-shut.su/albums/kamnem-po-golove/')\n",
    "korol_i_shut = get_text('https://korol-i-shut.su/albums/korol-i-shut/')\n",
    "acoustic_album = get_text('https://korol-i-shut.su/albums/akusticheskii-albom/')\n",
    "kak_v_staroi_skazke = get_text('https://korol-i-shut.su/albums/kak-v-staroi-skazke/')\n",
    "zhal_net_ruzhya = get_text('https://korol-i-shut.su/albums/zhal-net-ruzhya/')\n",
    "bunt_na_korable = get_text('https://korol-i-shut.su/albums/bunt-na-korable/')\n",
    "prodavets_koshmarov = get_text('https://korol-i-shut.su/albums/prodavets-koshmarov/')\n",
    "ten_klouna = get_text('https://korol-i-shut.su/albums/ten-klouna/')\n",
    "teatr_demona = get_text('https://korol-i-shut.su/albums/teatr-demona/')\n",
    "todd_1 = get_text('https://korol-i-shut.su/albums/todd-prazdnik-krovi/')\n",
    "todd_2 = get_text('https://korol-i-shut.su/albums/todd-na-krayu/')\n"
   ]
  },
  {
   "cell_type": "code",
   "execution_count": null,
   "metadata": {},
   "outputs": [],
   "source": [
    "albums = [kamnem_po_golove, korol_i_shut, acoustic_album, kak_v_staroi_skazke, zhal_net_ruzhya, \n",
    "          bunt_na_korable, prodavets_koshmarov, ten_klouna, teatr_demona, todd_1, todd_2]"
   ]
  },
  {
   "cell_type": "code",
   "execution_count": null,
   "metadata": {},
   "outputs": [],
   "source": [
    "names = ['kamnem_po_golove', 'korol_i_shut', 'acoustic_album', 'kak_v_staroi_skazke', 'zhal_net_ruzhya',\n",
    "         'bunt_na_korable', 'prodavets_koshmarov', 'ten_klouna', 'teatr_demona', 'todd_1', 'todd_2']"
   ]
  },
  {
   "cell_type": "code",
   "execution_count": null,
   "metadata": {},
   "outputs": [],
   "source": [
    "for album, name in zip(albums, names):\n",
    "    with open(f'{name}.txt', 'w') as f:\n",
    "        for line in album:\n",
    "            f.write(f'{line}\\n')"
   ]
  },
  {
   "cell_type": "code",
   "execution_count": null,
   "metadata": {},
   "outputs": [],
   "source": []
  }
 ],
 "metadata": {
  "kernelspec": {
   "display_name": ".venv",
   "language": "python",
   "name": "python3"
  },
  "language_info": {
   "codemirror_mode": {
    "name": "ipython",
    "version": 3
   },
   "file_extension": ".py",
   "mimetype": "text/x-python",
   "name": "python",
   "nbconvert_exporter": "python",
   "pygments_lexer": "ipython3",
   "version": "3.9.6"
  }
 },
 "nbformat": 4,
 "nbformat_minor": 2
}
