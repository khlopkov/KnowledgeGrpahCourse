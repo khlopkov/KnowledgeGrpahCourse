{
  "nbformat": 4,
  "nbformat_minor": 0,
  "metadata": {
    "colab": {
      "provenance": [],
      "authorship_tag": "ABX9TyNCaYOZfcmvYTTQ4OXeIL3D",
      "include_colab_link": true
    },
    "kernelspec": {
      "name": "python3",
      "display_name": "Python 3"
    },
    "language_info": {
      "name": "python"
    }
  },
  "cells": [
    {
      "cell_type": "markdown",
      "metadata": {
        "id": "view-in-github",
        "colab_type": "text"
      },
      "source": [
        "<a href=\"https://colab.research.google.com/github/IrinaProkofieva/KnowledgeGrpahCourse/blob/patch-1/Practice/2023/IPKN/Prokofieva_Gritsai/Dostoevskyi_Queries.ipynb\" target=\"_parent\"><img src=\"https://colab.research.google.com/assets/colab-badge.svg\" alt=\"Open In Colab\"/></a>"
      ]
    },
    {
      "cell_type": "code",
      "execution_count": null,
      "metadata": {
        "colab": {
          "base_uri": "https://localhost:8080/"
        },
        "id": "98r9kEghFmfn",
        "outputId": "fee3afff-6a43-458b-a15d-9b70fb496bdd"
      },
      "outputs": [
        {
          "output_type": "stream",
          "name": "stdout",
          "text": [
            "Requirement already satisfied: rdflib in /usr/local/lib/python3.10/dist-packages (7.0.0)\n",
            "Requirement already satisfied: isodate<0.7.0,>=0.6.0 in /usr/local/lib/python3.10/dist-packages (from rdflib) (0.6.1)\n",
            "Requirement already satisfied: pyparsing<4,>=2.1.0 in /usr/local/lib/python3.10/dist-packages (from rdflib) (3.1.1)\n",
            "Requirement already satisfied: six in /usr/local/lib/python3.10/dist-packages (from isodate<0.7.0,>=0.6.0->rdflib) (1.16.0)\n",
            "Requirement already satisfied: urllib3 in /usr/local/lib/python3.10/dist-packages (2.0.7)\n"
          ]
        }
      ],
      "source": [
        "!pip install rdflib\n",
        "!pip install urllib3"
      ]
    },
    {
      "cell_type": "code",
      "source": [
        "from rdflib import Graph"
      ],
      "metadata": {
        "id": "22p7fgC5F501"
      },
      "execution_count": null,
      "outputs": []
    },
    {
      "cell_type": "code",
      "source": [
        "from google.colab import drive\n",
        "drive.mount('/content/drive')"
      ],
      "metadata": {
        "colab": {
          "base_uri": "https://localhost:8080/"
        },
        "id": "CYv5SSb8GKi0",
        "outputId": "6a4f9275-4fe8-41fa-c2b4-755dddf6b256"
      },
      "execution_count": null,
      "outputs": [
        {
          "output_type": "stream",
          "name": "stdout",
          "text": [
            "Drive already mounted at /content/drive; to attempt to forcibly remount, call drive.mount(\"/content/drive\", force_remount=True).\n"
          ]
        }
      ]
    },
    {
      "cell_type": "markdown",
      "source": [
        "#Читаем граф"
      ],
      "metadata": {
        "id": "pzM6ZOBDslJX"
      }
    },
    {
      "cell_type": "code",
      "source": [
        "# Create an emprty graph\n",
        "g = Graph()\n",
        "\n",
        "g.parse('/content/drive/MyDrive/ontology-with-individuals.owl', format=\"turtle\")\n",
        "print(g.serialize(format='n3'))"
      ],
      "metadata": {
        "id": "EJHUoW9mGQvc"
      },
      "execution_count": null,
      "outputs": []
    },
    {
      "cell_type": "markdown",
      "source": [
        "# Делаем запросы"
      ],
      "metadata": {
        "id": "BNk9kqIUEGJi"
      }
    },
    {
      "cell_type": "code",
      "source": [
        "# Кто стал прототипом для наибольшего числа персонажей в романах Достоевского?\n",
        "most_influenced_person_query = \"\"\"\n",
        "  SELECT ?person (count(?character) AS ?number_of_characters) WHERE {\n",
        "    ?person a :Реальный_человек .\n",
        "    ?person :является_прототипом ?character .\n",
        "    ?character :описан_в ?roman .\n",
        "    ?roman a :Роман .\n",
        "    :Достоевский_Федор_Михайлович :является_автором ?roman .\n",
        "  }\n",
        "  GROUP BY ?person\n",
        "  ORDER BY DESC(?number_of_characters)\n",
        "  LIMIT 5\n",
        "\"\"\"\n",
        "\n",
        "for row in g.query(most_influenced_person_query):\n",
        "    print(f\"{row.person.fragment.replace('_', ' ')} послужил прототипом для {row.number_of_characters} персонажей\")"
      ],
      "metadata": {
        "colab": {
          "base_uri": "https://localhost:8080/"
        },
        "id": "01378No-sCqs",
        "outputId": "5c00e82e-0a6f-474c-8e24-d05cb0cc5aa8"
      },
      "execution_count": null,
      "outputs": [
        {
          "output_type": "stream",
          "name": "stdout",
          "text": [
            "Бочаров Иван Петрович послужил прототипом для 2 персонажей\n",
            "Суслова Аполлинария Прокофьевна послужил прототипом для 2 персонажей\n",
            "Достоевская Мария Федоровна послужил прототипом для 2 персонажей\n",
            "Лаврентьева Аграфена Тимофеевна послужил прототипом для 2 персонажей\n",
            "Писарев Дмитрий Иванович послужил прототипом для 2 персонажей\n"
          ]
        }
      ]
    },
    {
      "cell_type": "code",
      "source": [
        "# У какого персонажа наибольшее число прототипов в романах Достоевского?\n",
        "most_number_of_prototype = \"\"\"\n",
        "  SELECT ?character (count(?person) AS ?number_of_prototypes) WHERE {\n",
        "    ?character a ?type .\n",
        "    ?type rdfs:subClassOf* :Персонаж .\n",
        "    ?person :является_прототипом ?character .\n",
        "    ?person a :Реальный_человек .\n",
        "    ?character :описан_в ?roman .\n",
        "    ?roman a :Роман .\n",
        "    :Достоевский_Федор_Михайлович :является_автором ?roman .\n",
        "  }\n",
        "  GROUP BY ?character\n",
        "  ORDER BY DESC(?number_of_prototypes)\n",
        "  LIMIT 5\n",
        "\"\"\"\n",
        "\n",
        "for row in g.query(most_number_of_prototype):\n",
        "    print(f\"{row.character.fragment.replace('_', ' ')} имеет черты {row.number_of_prototypes} людей\")"
      ],
      "metadata": {
        "colab": {
          "base_uri": "https://localhost:8080/"
        },
        "id": "nQ5tc2aX2la4",
        "outputId": "95d9cccd-bcb4-47cb-fb0f-766ae38c976b"
      },
      "execution_count": null,
      "outputs": [
        {
          "output_type": "stream",
          "name": "stdout",
          "text": [
            "Версилов Андрей Петрович имеет черты 4 людей\n",
            "Верховенский Петр Степанович имеет черты 4 людей\n",
            "Липутин Сергей Васильевич имеет черты 3 людей\n",
            "Ракитин Михаил Осипович имеет черты 3 людей\n",
            "Карамазов Дмитрий Федорович имеет черты 3 людей\n"
          ]
        }
      ]
    },
    {
      "cell_type": "code",
      "source": [
        "# Список героев-самоубийц в романах Достоевского\n",
        "suicides = \"\"\"\n",
        "  SELECT ?character ?roman WHERE {\n",
        "    ?character a ?type .\n",
        "    ?type rdfs:subClassOf* :Персонаж .\n",
        "    ?character :причина_смерти \"самоубийство\" .\n",
        "    ?character :описан_в ?roman .\n",
        "    ?roman a :Роман .\n",
        "    :Достоевский_Федор_Михайлович :является_автором ?roman .\n",
        "  }\n",
        "  ORDER BY ?roman\n",
        "\"\"\"\n",
        "\n",
        "for row in g.query(suicides):\n",
        "    print(f\"{row.character.fragment.replace('_', ' ')} из романа {row.roman.fragment.replace('_', ' ')}\")"
      ],
      "metadata": {
        "colab": {
          "base_uri": "https://localhost:8080/"
        },
        "id": "BBVtofDE79Ky",
        "outputId": "3fcbf1f6-9886-4939-e0e2-7b1250c7bd03"
      },
      "execution_count": null,
      "outputs": [
        {
          "output_type": "stream",
          "name": "stdout",
          "text": [
            "Матреша из романа Бесы\n",
            "Кириллов Алексей Нилыч из романа Бесы\n",
            "Ставрогин Николай Всеволодович из романа Бесы\n",
            "Смердяков Павел Федорович из романа Братья Карамазовы\n",
            "Крафт из романа Подросток\n",
            "Оля из романа Подросток\n",
            "Ахмакова Лидия из романа Подросток\n",
            "Мальчик-самоубийца из романа Подросток\n",
            "Афросиньюшка из романа Преступление и наказание\n",
            "Филипп из романа Преступление и наказание\n",
            "Свидригайлов Аркадий Иванович из романа Преступление и наказание\n"
          ]
        }
      ]
    },
    {
      "cell_type": "code",
      "source": [
        "# Список персонажей, совершивших преступление, у которых прообразы также совершили приступление, в романах Достоевского\n",
        "crimes_prototype = \"\"\"\n",
        "  SELECT ?character ?roman ?char_crime ?person ?real_crime WHERE {\n",
        "    ?character a ?type .\n",
        "    ?type rdfs:subClassOf* :Персонаж .\n",
        "    ?person :является_прототипом ?character .\n",
        "    ?person a :Реальный_человек .\n",
        "    ?character :совершил ?char_crime .\n",
        "    ?char_crime a ?crime_type .\n",
        "    ?crime_type rdfs:subClassOf* :Преступление .\n",
        "    ?person :совершил ?real_crime .\n",
        "    ?real_crime a ?crime_type .\n",
        "    ?character :описан_в ?roman .\n",
        "    ?roman a :Роман .\n",
        "    :Достоевский_Федор_Михайлович :является_автором ?roman .\n",
        "  }\n",
        "  ORDER BY ?roman\n",
        "\"\"\"\n",
        "\n",
        "for row in g.query(crimes_prototype):\n",
        "    print(f\"{row.character.fragment.replace('_', ' ')} из романа {row.roman.fragment.replace('_', ' ')} совершил {row.char_crime.fragment.replace('_', ' ')}, а его прообраз, {row.person.fragment.replace('_', ' ')}, совершил {row.real_crime.fragment.replace('_', ' ')}\")"
      ],
      "metadata": {
        "colab": {
          "base_uri": "https://localhost:8080/"
        },
        "id": "eEI1XL5kBk6K",
        "outputId": "54b7b7fd-b324-47a0-f9ae-2190f7d6d515"
      },
      "execution_count": null,
      "outputs": [
        {
          "output_type": "stream",
          "name": "stdout",
          "text": [
            "Виргинский из романа Бесы совершил Убийство Шатова, а его прообраз, Кузнецов Алексей Кириллович, совершил Убийство студента Иванова\n",
            "Верховенский Петр Степанович из романа Бесы совершил Убийство Шатова, а его прообраз, Нечаев Сергей Геннадьевич, совершил Убийство студента Иванова\n",
            "Липутин Сергей Васильевич из романа Бесы совершил Убийство Шатова, а его прообраз, Успенский Пётр Гаврилович, совершил Убийство студента Иванова\n",
            "Виргинский из романа Бесы совершил Убийство Шатова, а его прообраз, Успенский Пётр Гаврилович, совершил Убийство студента Иванова\n",
            "Рогожин Парфен Семенович из романа Идиот совершил Убийство Настасьи Филипповны, а его прообраз, Мазурин В. Ф., совершил Убийство ювелира 1867\n"
          ]
        }
      ]
    },
    {
      "cell_type": "code",
      "source": [
        "# Количество экранизаций романов Достоевского\n",
        "most_screened_roman_query = \"\"\"\n",
        "  SELECT ?roman (count(?movie) AS ?number_of_movies) WHERE {\n",
        "    ?roman a :Роман .\n",
        "    :Достоевский_Федор_Михайлович :является_автором ?roman .\n",
        "    ?movie :снят_по_сюжету ?roman .\n",
        "  }\n",
        "  GROUP BY ?roman\n",
        "  ORDER BY DESC(?number_of_movies)\n",
        "\"\"\"\n",
        "\n",
        "for row in g.query(most_screened_roman_query):\n",
        "    print(f\"Роман {row.roman.fragment.replace('_', ' ')} экранизирован {row.number_of_movies} раз\")"
      ],
      "metadata": {
        "colab": {
          "base_uri": "https://localhost:8080/"
        },
        "id": "Fg71az_6D2xy",
        "outputId": "725aa86f-dc53-4e66-b19f-3eb92f0d1cd6"
      },
      "execution_count": null,
      "outputs": [
        {
          "output_type": "stream",
          "name": "stdout",
          "text": [
            "Роман Братья Карамазовы экранизирован 19 раз\n",
            "Роман Преступление и наказание экранизирован 18 раз\n",
            "Роман Бесы экранизирован 9 раз\n",
            "Роман Идиот экранизирован 5 раз\n",
            "Роман Подросток экранизирован 1 раз\n"
          ]
        }
      ]
    },
    {
      "cell_type": "code",
      "source": [
        "# Топ 7 актеров, снявшийся более, чем в одном фильме по романам Достоевского\n",
        "actor_with_multiple_movies_query = \"\"\"\n",
        "  SELECT ?actor ?number_of_movies ?list_of_movies (group_concat(?character; separator=', ') AS ?list_of_characters)\n",
        "  WHERE {\n",
        "    ?actor :играл_персонажа ?character\n",
        "    {\n",
        "      SELECT ?actor (count(?movie) AS ?number_of_movies) (group_concat(concat(?name, \" (\", str(?year), \")\"); separator=', ') AS ?list_of_movies)\n",
        "      WHERE {\n",
        "        ?roman a :Роман .\n",
        "        :Достоевский_Федор_Михайлович :является_автором ?roman .\n",
        "        ?movie :снят_по_сюжету ?roman .\n",
        "        ?actor :снимался_в ?movie .\n",
        "        ?movie :название ?name .\n",
        "        ?movie :год_создания ?year .\n",
        "      }\n",
        "      GROUP BY ?actor\n",
        "      HAVING (count(?movie) > 1)\n",
        "    }\n",
        "  }\n",
        "  GROUP BY ?actor\n",
        "  ORDER BY DESC(?number_of_movies)\n",
        "  LIMIT 7\n",
        "\"\"\"\n",
        "\n",
        "for row in g.query(actor_with_multiple_movies_query):\n",
        "    print(f\"{row.actor.fragment.replace('_', ' ')} снялся в {row.number_of_movies} экранизациях: {row.list_of_movies} и сыграл {', '.join([ch.split('#')[-1].replace('_', ' ') for ch in row.list_of_characters.split(', ')])}\")"
      ],
      "metadata": {
        "colab": {
          "base_uri": "https://localhost:8080/"
        },
        "id": "xZ2CWvkyjO8m",
        "outputId": "d2082487-4bfa-4abd-f8cb-fc70bef7633e"
      },
      "execution_count": null,
      "outputs": [
        {
          "output_type": "stream",
          "name": "stdout",
          "text": [
            "Евгений Меркурьев снялся в 3 экранизациях: Преступление и наказание (2007), Преступление и наказание (2007), Братья Карамазовы (2008) и сыграл старец Зосима\n",
            "Франко Скандурра снялся в 2 экранизациях: Братья Карамазовы (1947), Братья Карамазовы (1969) и сыграл Перхотин Петр Ильич, Герценштубе\n",
            "Евгений Миронов снялся в 2 экранизациях: Идиот (2003), Карамазовы и ад (1996) и сыграл Карамазов Иван Федорович, Мышкин Лев Николаевич\n",
            "Эме Кларион снялся в 2 экранизациях: Преступление и наказание (1935), Братья Карамазовы (1931) и сыграл Карамазов Иван Федорович, Лужин Петр Петрович\n",
            "Фоско Джакетти снялся в 2 экранизациях: Братья Карамазовы (1947), Братья Карамазовы (1969) и сыграл Самсонов Кузьма Кузьмич, Карамазов Дмитрий Федорович\n",
            "Сергей Андрейчук снялся в 2 экранизациях: Преступление и наказание (2007), Преступление и наказание (2007) и сыграл Порох Илья Петрович\n",
            "Мария Шалаева снялся в 2 экранизациях: Бесы (2014), Братья Карамазовы (2008) и сыграл Лебядкина Марья Тимофеевна\n"
          ]
        }
      ]
    },
    {
      "cell_type": "code",
      "source": [
        "# Экранизации романов Достоевского с лучшим рейтингом\n",
        "best_movies_query = \"\"\"\n",
        "  SELECT ?name ?year ?rating WHERE {\n",
        "    ?roman a :Роман .\n",
        "    :Достоевский_Федор_Михайлович :является_автором ?roman .\n",
        "    ?movie :снят_по_сюжету ?roman .\n",
        "    ?movie :название ?name .\n",
        "    ?movie :рейтинг ?rating .\n",
        "    ?movie :год_создания ?year .\n",
        "  }\n",
        "  ORDER BY DESC(?rating)\n",
        "  LIMIT 5\n",
        "\"\"\"\n",
        "\n",
        "for row in g.query(best_movies_query):\n",
        "    print(f\"{row.name} ({row.year}) рейтинг: {row.rating}\")"
      ],
      "metadata": {
        "colab": {
          "base_uri": "https://localhost:8080/"
        },
        "id": "javut2NAq9op",
        "outputId": "a5d91bad-456e-4a7e-c03a-cb5cd9062b89"
      },
      "execution_count": null,
      "outputs": [
        {
          "output_type": "stream",
          "name": "stdout",
          "text": [
            "Идиот (2003) рейтинг: 8.5\n",
            "Преступление и наказание (1969) рейтинг: 8.2\n",
            "Идиот (1991) рейтинг: 8.1\n",
            "Идиот (1958) рейтинг: 8.1\n",
            "Подросток (1983) рейтинг: 8.1\n"
          ]
        }
      ]
    },
    {
      "cell_type": "code",
      "source": [
        "# Страны, в которых сняты экранизации романов Достоевского\n",
        "country_movies_query = \"\"\"\n",
        "  SELECT ?country (count(?movie) AS ?number_of_movies) WHERE {\n",
        "    ?roman a :Роман .\n",
        "    :Достоевский_Федор_Михайлович :является_автором ?roman .\n",
        "    ?movie :снят_по_сюжету ?roman .\n",
        "    ?movie :снят_в_стране ?country .\n",
        "  }\n",
        "  GROUP BY ?country\n",
        "  ORDER BY DESC(?number_of_movies)\n",
        "\"\"\"\n",
        "\n",
        "for row in g.query(country_movies_query):\n",
        "    print(f\"В стране {row.country.fragment.replace('_', ' ')} снято {row.number_of_movies} экранизаций\")"
      ],
      "metadata": {
        "colab": {
          "base_uri": "https://localhost:8080/"
        },
        "id": "XCxPBuQ5vYM6",
        "outputId": "6ce23333-9686-41e1-bf84-ca61c26217a6"
      },
      "execution_count": null,
      "outputs": [
        {
          "output_type": "stream",
          "name": "stdout",
          "text": [
            "В стране Россия снято 15 экранизаций\n",
            "В стране Франция снято 8 экранизаций\n",
            "В стране США снято 7 экранизаций\n",
            "В стране СССР снято 6 экранизаций\n",
            "В стране Польша снято 4 экранизаций\n",
            "В стране Германия снято 3 экранизаций\n",
            "В стране Великобритания снято 3 экранизаций\n",
            "В стране Италия снято 2 экранизаций\n",
            "В стране Индия снято 1 экранизаций\n",
            "В стране Австрия снято 1 экранизаций\n",
            "В стране Югославия снято 1 экранизаций\n",
            "В стране Швеция снято 1 экранизаций\n",
            "В стране Финляндия снято 1 экранизаций\n",
            "В стране Российская империя снято 1 экранизаций\n",
            "В стране Иран снято 1 экранизаций\n",
            "В стране Канада снято 1 экранизаций\n",
            "В стране Чехия снято 1 экранизаций\n",
            "В стране Япония снято 1 экранизаций\n",
            "В стране Бельгия снято 1 экранизаций\n"
          ]
        }
      ]
    },
    {
      "cell_type": "code",
      "source": [],
      "metadata": {
        "id": "1RuoL4hRwP5y"
      },
      "execution_count": null,
      "outputs": []
    }
  ]
}