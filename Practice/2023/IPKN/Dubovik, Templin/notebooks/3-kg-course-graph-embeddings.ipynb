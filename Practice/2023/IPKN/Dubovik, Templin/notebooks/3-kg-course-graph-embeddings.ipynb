{
 "cells": [
  {
   "cell_type": "code",
   "execution_count": null,
   "id": "cec7bd7e-0b34-465d-abb6-c0c923fd6bff",
   "metadata": {},
   "outputs": [],
   "source": [
    "!pip install 'tensorflow[and-cuda]==2.9.0' ampligraph==2.0.1\n",
    "!pip install pipe\n",
    "!pip install gdown"
   ]
  },
  {
   "cell_type": "code",
   "execution_count": null,
   "id": "910174bc-3a61-483e-a2a4-7cabe4794c3a",
   "metadata": {},
   "outputs": [],
   "source": [
    "!gdown 1qO0gj4RTY0ErNb8VXyaSeF4p8Y1jRPHb"
   ]
  },
  {
   "cell_type": "code",
   "execution_count": 1,
   "id": "d24e113b-96d3-45d0-9090-2fa6986dd877",
   "metadata": {},
   "outputs": [
    {
     "name": "stderr",
     "output_type": "stream",
     "text": [
      "2023-12-12 16:02:59.630353: E external/local_xla/xla/stream_executor/cuda/cuda_dnn.cc:9261] Unable to register cuDNN factory: Attempting to register factory for plugin cuDNN when one has already been registered\n",
      "2023-12-12 16:02:59.630391: E external/local_xla/xla/stream_executor/cuda/cuda_fft.cc:607] Unable to register cuFFT factory: Attempting to register factory for plugin cuFFT when one has already been registered\n",
      "2023-12-12 16:02:59.632291: E external/local_xla/xla/stream_executor/cuda/cuda_blas.cc:1515] Unable to register cuBLAS factory: Attempting to register factory for plugin cuBLAS when one has already been registered\n",
      "2023-12-12 16:02:59.639980: I tensorflow/core/platform/cpu_feature_guard.cc:182] This TensorFlow binary is optimized to use available CPU instructions in performance-critical operations.\n",
      "To enable the following instructions: AVX2 FMA, in other operations, rebuild TensorFlow with the appropriate compiler flags.\n",
      "2023-12-12 16:03:00.368350: W tensorflow/compiler/tf2tensorrt/utils/py_utils.cc:38] TF-TRT Warning: Could not find TensorRT\n",
      "2023-12-12 16:03:01.053491: I external/local_xla/xla/stream_executor/cuda/cuda_executor.cc:901] successful NUMA node read from SysFS had negative value (-1), but there must be at least one NUMA node, so returning NUMA node zero. See more at https://github.com/torvalds/linux/blob/v6.0/Documentation/ABI/testing/sysfs-bus-pci#L344-L355\n"
     ]
    },
    {
     "data": {
      "text/plain": [
       "True"
      ]
     },
     "execution_count": 1,
     "metadata": {},
     "output_type": "execute_result"
    },
    {
     "name": "stderr",
     "output_type": "stream",
     "text": [
      "2023-12-12 16:03:01.093378: I external/local_xla/xla/stream_executor/cuda/cuda_executor.cc:901] successful NUMA node read from SysFS had negative value (-1), but there must be at least one NUMA node, so returning NUMA node zero. See more at https://github.com/torvalds/linux/blob/v6.0/Documentation/ABI/testing/sysfs-bus-pci#L344-L355\n",
      "2023-12-12 16:03:01.093616: I external/local_xla/xla/stream_executor/cuda/cuda_executor.cc:901] successful NUMA node read from SysFS had negative value (-1), but there must be at least one NUMA node, so returning NUMA node zero. See more at https://github.com/torvalds/linux/blob/v6.0/Documentation/ABI/testing/sysfs-bus-pci#L344-L355\n",
      "2023-12-12 16:03:01.152505: I external/local_xla/xla/stream_executor/cuda/cuda_executor.cc:901] successful NUMA node read from SysFS had negative value (-1), but there must be at least one NUMA node, so returning NUMA node zero. See more at https://github.com/torvalds/linux/blob/v6.0/Documentation/ABI/testing/sysfs-bus-pci#L344-L355\n",
      "2023-12-12 16:03:01.152719: I external/local_xla/xla/stream_executor/cuda/cuda_executor.cc:901] successful NUMA node read from SysFS had negative value (-1), but there must be at least one NUMA node, so returning NUMA node zero. See more at https://github.com/torvalds/linux/blob/v6.0/Documentation/ABI/testing/sysfs-bus-pci#L344-L355\n",
      "2023-12-12 16:03:01.152901: I external/local_xla/xla/stream_executor/cuda/cuda_executor.cc:901] successful NUMA node read from SysFS had negative value (-1), but there must be at least one NUMA node, so returning NUMA node zero. See more at https://github.com/torvalds/linux/blob/v6.0/Documentation/ABI/testing/sysfs-bus-pci#L344-L355\n",
      "2023-12-12 16:03:01.153061: I tensorflow/core/common_runtime/gpu/gpu_device.cc:1929] Created device /device:GPU:0 with 6044 MB memory:  -> device: 0, name: NVIDIA GeForce RTX 3070 Laptop GPU, pci bus id: 0000:01:00.0, compute capability: 8.6\n"
     ]
    }
   ],
   "source": [
    "import numpy as np\n",
    "import pandas as pd\n",
    "import ampligraph\n",
    "import tensorflow as tf\n",
    "\n",
    "tf.test.is_gpu_available()"
   ]
  },
  {
   "cell_type": "code",
   "execution_count": 2,
   "id": "9ff6cac6-0502-409b-b44c-279de81d0d72",
   "metadata": {},
   "outputs": [],
   "source": [
    "from pipe import select, where"
   ]
  },
  {
   "cell_type": "code",
   "execution_count": 3,
   "id": "7e598a0c-494e-4266-8d28-eca695ec88d8",
   "metadata": {},
   "outputs": [
    {
     "data": {
      "text/plain": [
       "<Graph identifier=N62c2499a13ae4a0fad1228235e913d64 (<class 'rdflib.graph.Graph'>)>"
      ]
     },
     "execution_count": 3,
     "metadata": {},
     "output_type": "execute_result"
    }
   ],
   "source": [
    "from rdflib import Graph, URIRef\n",
    "graph = Graph()\n",
    "graph.parse('res.ttl', format='ttl')"
   ]
  },
  {
   "cell_type": "code",
   "execution_count": 4,
   "id": "abcbce11-1caf-4133-8093-69458805816c",
   "metadata": {},
   "outputs": [],
   "source": [
    "def is_not_literal(triplet):\n",
    "    return isinstance(triplet[0], URIRef) and isinstance(triplet[2], URIRef)\n",
    "\n",
    "def is_not_rdf_ns(triplet, namespaces_to_skip=(\"http://www.w3.org/\",)):\n",
    "    predicate_uri = str(triplet[1])\n",
    "    if any(predicate_uri.startswith(namespace) for namespace in namespaces_to_skip):\n",
    "        return False\n",
    "    return True\n",
    "\n",
    "def normalize(triplet):\n",
    "    sub, pre, obj = triplet\n",
    "    \n",
    "    subject_fragment = sub.split(\"/\")[-1]\n",
    "    object_fragment = obj.split(\"/\")[-1]\n",
    "    predicate_fragment = pre.split(\"#\")[-1] if \"#\" in str(pre) else pre.split(\"/\")[-1]\n",
    "\n",
    "    return subject_fragment, predicate_fragment, object_fragment"
   ]
  },
  {
   "cell_type": "code",
   "execution_count": 5,
   "id": "a08bb104-c75b-4a69-bbca-c50f4d34777b",
   "metadata": {},
   "outputs": [],
   "source": [
    "triplets = list(graph.triples((None, None, None)) \n",
    "               | where(is_not_literal)\n",
    "               | where(is_not_rdf_ns)\n",
    "               | select(normalize))"
   ]
  },
  {
   "cell_type": "code",
   "execution_count": 6,
   "id": "3ed3a00e-800a-41d9-8f7b-67e2a3385c54",
   "metadata": {},
   "outputs": [
    {
     "data": {
      "text/plain": [
       "('70892', 'isWinner', 'Shibano_Ryunosuke')"
      ]
     },
     "execution_count": 6,
     "metadata": {},
     "output_type": "execute_result"
    }
   ],
   "source": [
    "triplets[1]"
   ]
  },
  {
   "cell_type": "code",
   "execution_count": 7,
   "id": "0baae127-a27f-420a-a525-a5973acd0e72",
   "metadata": {},
   "outputs": [],
   "source": [
    "df = pd.DataFrame(triplets, columns=['subject', 'predicate', 'object'])"
   ]
  },
  {
   "cell_type": "code",
   "execution_count": 8,
   "id": "6f811c99-e143-47ad-8681-08947ec2a1c6",
   "metadata": {},
   "outputs": [
    {
     "data": {
      "text/plain": [
       "array(['isLoser', 'isWinner', 'representsTheCountry',\n",
       "       'playedInTournament', 'isChampion', 'isRunnerup', 'inTheCountry'],\n",
       "      dtype=object)"
      ]
     },
     "execution_count": 8,
     "metadata": {},
     "output_type": "execute_result"
    }
   ],
   "source": [
    "df.predicate.unique()"
   ]
  },
  {
   "cell_type": "code",
   "execution_count": 9,
   "id": "ad7399ea-8885-4f13-9696-89ced35626c0",
   "metadata": {},
   "outputs": [
    {
     "data": {
      "text/html": [
       "<div>\n",
       "<style scoped>\n",
       "    .dataframe tbody tr th:only-of-type {\n",
       "        vertical-align: middle;\n",
       "    }\n",
       "\n",
       "    .dataframe tbody tr th {\n",
       "        vertical-align: top;\n",
       "    }\n",
       "\n",
       "    .dataframe thead th {\n",
       "        text-align: right;\n",
       "    }\n",
       "</style>\n",
       "<table border=\"1\" class=\"dataframe\">\n",
       "  <thead>\n",
       "    <tr style=\"text-align: right;\">\n",
       "      <th></th>\n",
       "      <th>subject</th>\n",
       "      <th>predicate</th>\n",
       "      <th>object</th>\n",
       "    </tr>\n",
       "  </thead>\n",
       "  <tbody>\n",
       "    <tr>\n",
       "      <th>64215</th>\n",
       "      <td>88506</td>\n",
       "      <td>isWinner</td>\n",
       "      <td>Lee_Jihyun_(m)</td>\n",
       "    </tr>\n",
       "    <tr>\n",
       "      <th>100792</th>\n",
       "      <td>88506</td>\n",
       "      <td>isLoser</td>\n",
       "      <td>Yun_Junsang</td>\n",
       "    </tr>\n",
       "  </tbody>\n",
       "</table>\n",
       "</div>"
      ],
      "text/plain": [
       "       subject predicate          object\n",
       "64215    88506  isWinner  Lee_Jihyun_(m)\n",
       "100792   88506   isLoser     Yun_Junsang"
      ]
     },
     "execution_count": 9,
     "metadata": {},
     "output_type": "execute_result"
    }
   ],
   "source": [
    "df[(df.subject==\"88506\") | (df.object==\"88506\")]"
   ]
  },
  {
   "cell_type": "code",
   "execution_count": 10,
   "id": "6f0cd934-9fb3-40fb-98b4-c8bd97aa8b0f",
   "metadata": {},
   "outputs": [],
   "source": [
    "from ampligraph.evaluation import train_test_split_no_unseen"
   ]
  },
  {
   "cell_type": "code",
   "execution_count": 11,
   "id": "55aa77c1-474f-462d-b913-8b14ae5b7ccd",
   "metadata": {},
   "outputs": [],
   "source": [
    "X_train, X_valid = train_test_split_no_unseen(np.array(triplets), test_size=10000)"
   ]
  },
  {
   "cell_type": "code",
   "execution_count": 12,
   "id": "e706f099-f61b-4cde-af4e-0af32c0ff0b4",
   "metadata": {},
   "outputs": [
    {
     "name": "stdout",
     "output_type": "stream",
     "text": [
      "Train set size:  (223386, 3)\n",
      "Test set size:  (10000, 3)\n"
     ]
    }
   ],
   "source": [
    "print('Train set size: ', X_train.shape)\n",
    "print('Test set size: ', X_valid.shape)"
   ]
  },
  {
   "cell_type": "code",
   "execution_count": 13,
   "id": "fc51ea91-9dd9-438c-926d-59f519f24642",
   "metadata": {},
   "outputs": [
    {
     "name": "stderr",
     "output_type": "stream",
     "text": [
      "2023-12-12 16:03:30.932044: I external/local_xla/xla/stream_executor/cuda/cuda_executor.cc:901] successful NUMA node read from SysFS had negative value (-1), but there must be at least one NUMA node, so returning NUMA node zero. See more at https://github.com/torvalds/linux/blob/v6.0/Documentation/ABI/testing/sysfs-bus-pci#L344-L355\n",
      "2023-12-12 16:03:30.932281: I external/local_xla/xla/stream_executor/cuda/cuda_executor.cc:901] successful NUMA node read from SysFS had negative value (-1), but there must be at least one NUMA node, so returning NUMA node zero. See more at https://github.com/torvalds/linux/blob/v6.0/Documentation/ABI/testing/sysfs-bus-pci#L344-L355\n",
      "2023-12-12 16:03:30.932465: I external/local_xla/xla/stream_executor/cuda/cuda_executor.cc:901] successful NUMA node read from SysFS had negative value (-1), but there must be at least one NUMA node, so returning NUMA node zero. See more at https://github.com/torvalds/linux/blob/v6.0/Documentation/ABI/testing/sysfs-bus-pci#L344-L355\n",
      "2023-12-12 16:03:30.932746: I external/local_xla/xla/stream_executor/cuda/cuda_executor.cc:901] successful NUMA node read from SysFS had negative value (-1), but there must be at least one NUMA node, so returning NUMA node zero. See more at https://github.com/torvalds/linux/blob/v6.0/Documentation/ABI/testing/sysfs-bus-pci#L344-L355\n",
      "2023-12-12 16:03:30.932935: I external/local_xla/xla/stream_executor/cuda/cuda_executor.cc:901] successful NUMA node read from SysFS had negative value (-1), but there must be at least one NUMA node, so returning NUMA node zero. See more at https://github.com/torvalds/linux/blob/v6.0/Documentation/ABI/testing/sysfs-bus-pci#L344-L355\n",
      "2023-12-12 16:03:30.933134: I external/local_xla/xla/stream_executor/cuda/cuda_executor.cc:901] successful NUMA node read from SysFS had negative value (-1), but there must be at least one NUMA node, so returning NUMA node zero. See more at https://github.com/torvalds/linux/blob/v6.0/Documentation/ABI/testing/sysfs-bus-pci#L344-L355\n",
      "2023-12-12 16:03:30.933350: I external/local_xla/xla/stream_executor/cuda/cuda_executor.cc:901] successful NUMA node read from SysFS had negative value (-1), but there must be at least one NUMA node, so returning NUMA node zero. See more at https://github.com/torvalds/linux/blob/v6.0/Documentation/ABI/testing/sysfs-bus-pci#L344-L355\n",
      "2023-12-12 16:03:30.933535: I external/local_xla/xla/stream_executor/cuda/cuda_executor.cc:901] successful NUMA node read from SysFS had negative value (-1), but there must be at least one NUMA node, so returning NUMA node zero. See more at https://github.com/torvalds/linux/blob/v6.0/Documentation/ABI/testing/sysfs-bus-pci#L344-L355\n",
      "2023-12-12 16:03:30.933686: I tensorflow/core/common_runtime/gpu/gpu_device.cc:1929] Created device /job:localhost/replica:0/task:0/device:GPU:0 with 6044 MB memory:  -> device: 0, name: NVIDIA GeForce RTX 3070 Laptop GPU, pci bus id: 0000:01:00.0, compute capability: 8.6\n"
     ]
    }
   ],
   "source": [
    "from ampligraph.latent_features import ScoringBasedEmbeddingModel\n",
    "from ampligraph.latent_features.loss_functions import get as get_loss\n",
    "from ampligraph.latent_features.regularizers import get as get_regularizer\n",
    "\n",
    "# Initialize a ComplEx neural embedding model\n",
    "model = ScoringBasedEmbeddingModel(k=128,\n",
    "                                   eta=30,\n",
    "                                   scoring_type='ComplEx')\n",
    "\n",
    "\n",
    "# Optimizer, loss and regularizer definition\n",
    "optim = tf.keras.optimizers.Adam(learning_rate=1e-4)\n",
    "loss = get_loss('multiclass_nll')\n",
    "regularizer = get_regularizer('LP', {'p': 3, 'lambda': 1e-5})\n",
    "\n",
    "# Compilation of the model\n",
    "model.compile(optimizer=optim,\n",
    "              loss=loss,\n",
    "              entity_relation_regularizer=regularizer)"
   ]
  },
  {
   "cell_type": "code",
   "execution_count": 14,
   "id": "b6034b27-7ce1-45cd-8ed6-51f2720050eb",
   "metadata": {},
   "outputs": [
    {
     "name": "stdout",
     "output_type": "stream",
     "text": [
      "Epoch 1/100\n"
     ]
    },
    {
     "name": "stderr",
     "output_type": "stream",
     "text": [
      "2023-12-12 16:03:45.700444: I external/local_tsl/tsl/platform/default/subprocess.cc:304] Start cannot spawn child process: No such file or directory\n",
      "2023-12-12 16:03:47.292708: I external/local_xla/xla/service/service.cc:168] XLA service 0x7fdf14494650 initialized for platform CUDA (this does not guarantee that XLA will be used). Devices:\n",
      "2023-12-12 16:03:47.292735: I external/local_xla/xla/service/service.cc:176]   StreamExecutor device (0): NVIDIA GeForce RTX 3070 Laptop GPU, Compute Capability 8.6\n",
      "2023-12-12 16:03:47.297401: I tensorflow/compiler/mlir/tensorflow/utils/dump_mlir_util.cc:269] disabling MLIR crash reproducer, set env var `MLIR_CRASH_REPRODUCER_DIRECTORY` to enable.\n",
      "2023-12-12 16:03:47.328914: I external/local_xla/xla/stream_executor/cuda/cuda_dnn.cc:454] Loaded cuDNN version 8904\n",
      "WARNING: All log messages before absl::InitializeLog() is called are written to STDERR\n",
      "I0000 00:00:1702386227.401497   28461 device_compiler.h:186] Compiled cluster using XLA!  This line is logged at most once for the lifetime of the process.\n"
     ]
    },
    {
     "name": "stdout",
     "output_type": "stream",
     "text": [
      "52/52 [==============================] - 5s 94ms/step - loss: 15041.2705\n",
      "Epoch 2/100\n",
      " 4/52 [=>............................] - ETA: 1s - loss: 15057.8301"
     ]
    },
    {
     "name": "stderr",
     "output_type": "stream",
     "text": [
      "2023-12-12 16:03:49.388379: I tensorflow/core/framework/local_rendezvous.cc:421] Local rendezvous recv item cancelled. Key hash: 17389022229631790751\n",
      "2023-12-12 16:03:49.388407: I tensorflow/core/framework/local_rendezvous.cc:421] Local rendezvous recv item cancelled. Key hash: 17404393642466714328\n"
     ]
    },
    {
     "name": "stdout",
     "output_type": "stream",
     "text": [
      "52/52 [==============================] - 2s 37ms/step - loss: 15041.1240\n",
      "Epoch 3/100\n",
      " 4/52 [=>............................] - ETA: 1s - loss: 15049.6309"
     ]
    },
    {
     "name": "stderr",
     "output_type": "stream",
     "text": [
      "2023-12-12 16:03:51.383922: I tensorflow/core/framework/local_rendezvous.cc:421] Local rendezvous recv item cancelled. Key hash: 17389022229631790751\n",
      "2023-12-12 16:03:51.383947: I tensorflow/core/framework/local_rendezvous.cc:421] Local rendezvous recv item cancelled. Key hash: 17404393642466714328\n"
     ]
    },
    {
     "name": "stdout",
     "output_type": "stream",
     "text": [
      "52/52 [==============================] - 2s 37ms/step - loss: 15040.8672\n",
      "Epoch 4/100\n",
      " 4/52 [=>............................] - ETA: 1s - loss: 15046.5771"
     ]
    },
    {
     "name": "stderr",
     "output_type": "stream",
     "text": [
      "2023-12-12 16:03:53.341034: I tensorflow/core/framework/local_rendezvous.cc:421] Local rendezvous recv item cancelled. Key hash: 17389022229631790751\n",
      "2023-12-12 16:03:53.341063: I tensorflow/core/framework/local_rendezvous.cc:421] Local rendezvous recv item cancelled. Key hash: 17404393642466714328\n"
     ]
    },
    {
     "name": "stdout",
     "output_type": "stream",
     "text": [
      "52/52 [==============================] - 2s 37ms/step - loss: 15040.3623\n",
      "Epoch 5/100\n",
      " 4/52 [=>............................] - ETA: 1s - loss: 15044.6377"
     ]
    },
    {
     "name": "stderr",
     "output_type": "stream",
     "text": [
      "2023-12-12 16:03:55.296002: I tensorflow/core/framework/local_rendezvous.cc:421] Local rendezvous recv item cancelled. Key hash: 17389022229631790751\n",
      "2023-12-12 16:03:55.296037: I tensorflow/core/framework/local_rendezvous.cc:421] Local rendezvous recv item cancelled. Key hash: 17404393642466714328\n"
     ]
    },
    {
     "name": "stdout",
     "output_type": "stream",
     "text": [
      "52/52 [==============================] - 2s 37ms/step - loss: 15039.4229\n",
      "Epoch 6/100\n",
      " 4/52 [=>............................] - ETA: 1s - loss: 15042.8086"
     ]
    },
    {
     "name": "stderr",
     "output_type": "stream",
     "text": [
      "2023-12-12 16:03:57.243013: I tensorflow/core/framework/local_rendezvous.cc:425] Local rendezvous send item cancelled. Key hash: 8150286900782272699\n",
      "2023-12-12 16:03:57.243041: I tensorflow/core/framework/local_rendezvous.cc:421] Local rendezvous recv item cancelled. Key hash: 17389022229631790751\n",
      "2023-12-12 16:03:57.243051: I tensorflow/core/framework/local_rendezvous.cc:421] Local rendezvous recv item cancelled. Key hash: 17404393642466714328\n",
      "2023-12-12 16:03:57.243058: I tensorflow/core/framework/local_rendezvous.cc:425] Local rendezvous send item cancelled. Key hash: 7824742045786975584\n"
     ]
    },
    {
     "name": "stdout",
     "output_type": "stream",
     "text": [
      "52/52 [==============================] - 2s 37ms/step - loss: 15037.8232\n",
      "Epoch 7/100\n",
      " 4/52 [=>............................] - ETA: 1s - loss: 15040.5869"
     ]
    },
    {
     "name": "stderr",
     "output_type": "stream",
     "text": [
      "2023-12-12 16:03:59.194050: I tensorflow/core/framework/local_rendezvous.cc:421] Local rendezvous recv item cancelled. Key hash: 17389022229631790751\n",
      "2023-12-12 16:03:59.194077: I tensorflow/core/framework/local_rendezvous.cc:421] Local rendezvous recv item cancelled. Key hash: 17404393642466714328\n"
     ]
    },
    {
     "name": "stdout",
     "output_type": "stream",
     "text": [
      "52/52 [==============================] - 2s 37ms/step - loss: 15035.3516\n",
      "Epoch 8/100\n",
      " 4/52 [=>............................] - ETA: 1s - loss: 15037.6455"
     ]
    },
    {
     "name": "stderr",
     "output_type": "stream",
     "text": [
      "2023-12-12 16:04:01.142975: I tensorflow/core/framework/local_rendezvous.cc:425] Local rendezvous send item cancelled. Key hash: 8150286900782272699\n",
      "2023-12-12 16:04:01.143002: I tensorflow/core/framework/local_rendezvous.cc:421] Local rendezvous recv item cancelled. Key hash: 17389022229631790751\n",
      "2023-12-12 16:04:01.143011: I tensorflow/core/framework/local_rendezvous.cc:425] Local rendezvous send item cancelled. Key hash: 7111154346305113817\n",
      "2023-12-12 16:04:01.143020: I tensorflow/core/framework/local_rendezvous.cc:421] Local rendezvous recv item cancelled. Key hash: 17404393642466714328\n",
      "2023-12-12 16:04:01.143027: I tensorflow/core/framework/local_rendezvous.cc:425] Local rendezvous send item cancelled. Key hash: 7824742045786975584\n"
     ]
    },
    {
     "name": "stdout",
     "output_type": "stream",
     "text": [
      "52/52 [==============================] - 2s 37ms/step - loss: 15031.8174\n",
      "Epoch 9/100\n",
      " 4/52 [=>............................] - ETA: 1s - loss: 15033.7295"
     ]
    },
    {
     "name": "stderr",
     "output_type": "stream",
     "text": [
      "2023-12-12 16:04:03.096536: I tensorflow/core/framework/local_rendezvous.cc:425] Local rendezvous send item cancelled. Key hash: 8150286900782272699\n",
      "2023-12-12 16:04:03.096566: I tensorflow/core/framework/local_rendezvous.cc:421] Local rendezvous recv item cancelled. Key hash: 17389022229631790751\n",
      "2023-12-12 16:04:03.096576: I tensorflow/core/framework/local_rendezvous.cc:421] Local rendezvous recv item cancelled. Key hash: 17404393642466714328\n",
      "2023-12-12 16:04:03.096584: I tensorflow/core/framework/local_rendezvous.cc:425] Local rendezvous send item cancelled. Key hash: 7824742045786975584\n"
     ]
    },
    {
     "name": "stdout",
     "output_type": "stream",
     "text": [
      "52/52 [==============================] - 2s 37ms/step - loss: 15027.0244\n",
      "Epoch 10/100\n",
      " 4/52 [=>............................] - ETA: 1s - loss: 15028.6133"
     ]
    },
    {
     "name": "stderr",
     "output_type": "stream",
     "text": [
      "2023-12-12 16:04:05.052170: I tensorflow/core/framework/local_rendezvous.cc:421] Local rendezvous recv item cancelled. Key hash: 17389022229631790751\n",
      "2023-12-12 16:04:05.052200: I tensorflow/core/framework/local_rendezvous.cc:421] Local rendezvous recv item cancelled. Key hash: 17404393642466714328\n"
     ]
    },
    {
     "name": "stdout",
     "output_type": "stream",
     "text": [
      "52/52 [==============================] - 2s 37ms/step - loss: 15020.8027\n",
      "Epoch 11/100\n",
      " 4/52 [=>............................] - ETA: 1s - loss: 15022.1074"
     ]
    },
    {
     "name": "stderr",
     "output_type": "stream",
     "text": [
      "2023-12-12 16:04:07.007793: I tensorflow/core/framework/local_rendezvous.cc:421] Local rendezvous recv item cancelled. Key hash: 17389022229631790751\n",
      "2023-12-12 16:04:07.007820: I tensorflow/core/framework/local_rendezvous.cc:421] Local rendezvous recv item cancelled. Key hash: 17404393642466714328\n"
     ]
    },
    {
     "name": "stdout",
     "output_type": "stream",
     "text": [
      "52/52 [==============================] - 2s 37ms/step - loss: 15012.9980\n",
      "Epoch 12/100\n",
      " 4/52 [=>............................] - ETA: 1s - loss: 15014.0430"
     ]
    },
    {
     "name": "stderr",
     "output_type": "stream",
     "text": [
      "2023-12-12 16:04:08.969158: I tensorflow/core/framework/local_rendezvous.cc:421] Local rendezvous recv item cancelled. Key hash: 17389022229631790751\n",
      "2023-12-12 16:04:08.969186: I tensorflow/core/framework/local_rendezvous.cc:421] Local rendezvous recv item cancelled. Key hash: 17404393642466714328\n"
     ]
    },
    {
     "name": "stdout",
     "output_type": "stream",
     "text": [
      "52/52 [==============================] - 2s 37ms/step - loss: 15003.4609\n",
      "Epoch 13/100\n",
      " 4/52 [=>............................] - ETA: 1s - loss: 15004.2637"
     ]
    },
    {
     "name": "stderr",
     "output_type": "stream",
     "text": [
      "2023-12-12 16:04:10.927109: I tensorflow/core/framework/local_rendezvous.cc:421] Local rendezvous recv item cancelled. Key hash: 17389022229631790751\n",
      "2023-12-12 16:04:10.927145: I tensorflow/core/framework/local_rendezvous.cc:421] Local rendezvous recv item cancelled. Key hash: 17404393642466714328\n"
     ]
    },
    {
     "name": "stdout",
     "output_type": "stream",
     "text": [
      "52/52 [==============================] - 2s 37ms/step - loss: 14992.0664\n",
      "Epoch 14/100\n",
      " 4/52 [=>............................] - ETA: 1s - loss: 14992.6377"
     ]
    },
    {
     "name": "stderr",
     "output_type": "stream",
     "text": [
      "2023-12-12 16:04:12.887411: I tensorflow/core/framework/local_rendezvous.cc:421] Local rendezvous recv item cancelled. Key hash: 17389022229631790751\n",
      "2023-12-12 16:04:12.887441: I tensorflow/core/framework/local_rendezvous.cc:421] Local rendezvous recv item cancelled. Key hash: 17404393642466714328\n"
     ]
    },
    {
     "name": "stdout",
     "output_type": "stream",
     "text": [
      "52/52 [==============================] - 2s 37ms/step - loss: 14978.6768\n",
      "Epoch 15/100\n",
      " 4/52 [=>............................] - ETA: 1s - loss: 14979.0283"
     ]
    },
    {
     "name": "stderr",
     "output_type": "stream",
     "text": [
      "2023-12-12 16:04:14.844768: I tensorflow/core/framework/local_rendezvous.cc:421] Local rendezvous recv item cancelled. Key hash: 17389022229631790751\n",
      "2023-12-12 16:04:14.844808: I tensorflow/core/framework/local_rendezvous.cc:421] Local rendezvous recv item cancelled. Key hash: 17404393642466714328\n"
     ]
    },
    {
     "name": "stdout",
     "output_type": "stream",
     "text": [
      "52/52 [==============================] - 2s 37ms/step - loss: 14963.1777\n",
      "Epoch 16/100\n",
      " 4/52 [=>............................] - ETA: 1s - loss: 14963.3135"
     ]
    },
    {
     "name": "stderr",
     "output_type": "stream",
     "text": [
      "2023-12-12 16:04:16.806142: I tensorflow/core/framework/local_rendezvous.cc:421] Local rendezvous recv item cancelled. Key hash: 17389022229631790751\n",
      "2023-12-12 16:04:16.806177: I tensorflow/core/framework/local_rendezvous.cc:421] Local rendezvous recv item cancelled. Key hash: 17404393642466714328\n"
     ]
    },
    {
     "name": "stdout",
     "output_type": "stream",
     "text": [
      "52/52 [==============================] - 2s 37ms/step - loss: 14945.4609\n",
      "Epoch 17/100\n",
      " 4/52 [=>............................] - ETA: 1s - loss: 14945.3857"
     ]
    },
    {
     "name": "stderr",
     "output_type": "stream",
     "text": [
      "2023-12-12 16:04:18.761044: I tensorflow/core/framework/local_rendezvous.cc:421] Local rendezvous recv item cancelled. Key hash: 17389022229631790751\n",
      "2023-12-12 16:04:18.761071: I tensorflow/core/framework/local_rendezvous.cc:421] Local rendezvous recv item cancelled. Key hash: 17404393642466714328\n"
     ]
    },
    {
     "name": "stdout",
     "output_type": "stream",
     "text": [
      "52/52 [==============================] - 2s 37ms/step - loss: 14925.4121\n",
      "Epoch 18/100\n",
      " 4/52 [=>............................] - ETA: 1s - loss: 14925.1260"
     ]
    },
    {
     "name": "stderr",
     "output_type": "stream",
     "text": [
      "2023-12-12 16:04:20.725770: I tensorflow/core/framework/local_rendezvous.cc:421] Local rendezvous recv item cancelled. Key hash: 17389022229631790751\n",
      "2023-12-12 16:04:20.725798: I tensorflow/core/framework/local_rendezvous.cc:421] Local rendezvous recv item cancelled. Key hash: 17404393642466714328\n"
     ]
    },
    {
     "name": "stdout",
     "output_type": "stream",
     "text": [
      "52/52 [==============================] - 2s 37ms/step - loss: 14902.9365\n",
      "Epoch 19/100\n",
      " 4/52 [=>............................] - ETA: 1s - loss: 14902.4434"
     ]
    },
    {
     "name": "stderr",
     "output_type": "stream",
     "text": [
      "2023-12-12 16:04:22.688254: I tensorflow/core/framework/local_rendezvous.cc:425] Local rendezvous send item cancelled. Key hash: 8150286900782272699\n",
      "2023-12-12 16:04:22.688282: I tensorflow/core/framework/local_rendezvous.cc:421] Local rendezvous recv item cancelled. Key hash: 17389022229631790751\n",
      "2023-12-12 16:04:22.688290: I tensorflow/core/framework/local_rendezvous.cc:425] Local rendezvous send item cancelled. Key hash: 7111154346305113817\n",
      "2023-12-12 16:04:22.688300: I tensorflow/core/framework/local_rendezvous.cc:421] Local rendezvous recv item cancelled. Key hash: 17404393642466714328\n",
      "2023-12-12 16:04:22.688306: I tensorflow/core/framework/local_rendezvous.cc:425] Local rendezvous send item cancelled. Key hash: 7824742045786975584\n"
     ]
    },
    {
     "name": "stdout",
     "output_type": "stream",
     "text": [
      "52/52 [==============================] - 2s 37ms/step - loss: 14877.9326\n",
      "Epoch 20/100\n",
      " 4/52 [=>............................] - ETA: 1s - loss: 14877.2314"
     ]
    },
    {
     "name": "stderr",
     "output_type": "stream",
     "text": [
      "2023-12-12 16:04:24.648739: I tensorflow/core/framework/local_rendezvous.cc:425] Local rendezvous send item cancelled. Key hash: 8150286900782272699\n",
      "2023-12-12 16:04:24.648769: I tensorflow/core/framework/local_rendezvous.cc:421] Local rendezvous recv item cancelled. Key hash: 17389022229631790751\n",
      "2023-12-12 16:04:24.648780: I tensorflow/core/framework/local_rendezvous.cc:421] Local rendezvous recv item cancelled. Key hash: 17404393642466714328\n"
     ]
    },
    {
     "name": "stdout",
     "output_type": "stream",
     "text": [
      "52/52 [==============================] - 2s 37ms/step - loss: 14850.3154\n",
      "Epoch 21/100\n",
      " 4/52 [=>............................] - ETA: 1s - loss: 14849.4062"
     ]
    },
    {
     "name": "stderr",
     "output_type": "stream",
     "text": [
      "2023-12-12 16:04:26.606149: I tensorflow/core/framework/local_rendezvous.cc:421] Local rendezvous recv item cancelled. Key hash: 17389022229631790751\n"
     ]
    },
    {
     "name": "stdout",
     "output_type": "stream",
     "text": [
      "52/52 [==============================] - 2s 37ms/step - loss: 14820.0010\n",
      "Epoch 22/100\n",
      " 4/52 [=>............................] - ETA: 1s - loss: 14818.8848"
     ]
    },
    {
     "name": "stderr",
     "output_type": "stream",
     "text": [
      "2023-12-12 16:04:28.563910: I tensorflow/core/framework/local_rendezvous.cc:425] Local rendezvous send item cancelled. Key hash: 8150286900782272699\n",
      "2023-12-12 16:04:28.563945: I tensorflow/core/framework/local_rendezvous.cc:421] Local rendezvous recv item cancelled. Key hash: 17389022229631790751\n",
      "2023-12-12 16:04:28.563961: I tensorflow/core/framework/local_rendezvous.cc:421] Local rendezvous recv item cancelled. Key hash: 17404393642466714328\n",
      "2023-12-12 16:04:28.563971: I tensorflow/core/framework/local_rendezvous.cc:425] Local rendezvous send item cancelled. Key hash: 7824742045786975584\n"
     ]
    },
    {
     "name": "stdout",
     "output_type": "stream",
     "text": [
      "52/52 [==============================] - 2s 37ms/step - loss: 14786.9141\n",
      "Epoch 23/100\n",
      " 4/52 [=>............................] - ETA: 1s - loss: 14785.5889"
     ]
    },
    {
     "name": "stderr",
     "output_type": "stream",
     "text": [
      "2023-12-12 16:04:30.524784: I tensorflow/core/framework/local_rendezvous.cc:421] Local rendezvous recv item cancelled. Key hash: 17389022229631790751\n",
      "2023-12-12 16:04:30.524820: I tensorflow/core/framework/local_rendezvous.cc:421] Local rendezvous recv item cancelled. Key hash: 17404393642466714328\n"
     ]
    },
    {
     "name": "stdout",
     "output_type": "stream",
     "text": [
      "52/52 [==============================] - 2s 37ms/step - loss: 14750.9854\n",
      "Epoch 24/100\n",
      " 4/52 [=>............................] - ETA: 1s - loss: 14749.4492"
     ]
    },
    {
     "name": "stderr",
     "output_type": "stream",
     "text": [
      "2023-12-12 16:04:32.478405: I tensorflow/core/framework/local_rendezvous.cc:425] Local rendezvous send item cancelled. Key hash: 8150286900782272699\n",
      "2023-12-12 16:04:32.478434: I tensorflow/core/framework/local_rendezvous.cc:421] Local rendezvous recv item cancelled. Key hash: 17389022229631790751\n",
      "2023-12-12 16:04:32.478444: I tensorflow/core/framework/local_rendezvous.cc:425] Local rendezvous send item cancelled. Key hash: 7111154346305113817\n",
      "2023-12-12 16:04:32.478453: I tensorflow/core/framework/local_rendezvous.cc:421] Local rendezvous recv item cancelled. Key hash: 17404393642466714328\n",
      "2023-12-12 16:04:32.478460: I tensorflow/core/framework/local_rendezvous.cc:425] Local rendezvous send item cancelled. Key hash: 7824742045786975584\n"
     ]
    },
    {
     "name": "stdout",
     "output_type": "stream",
     "text": [
      "52/52 [==============================] - 2s 37ms/step - loss: 14712.1357\n",
      "Epoch 25/100\n",
      " 4/52 [=>............................] - ETA: 1s - loss: 14710.3877"
     ]
    },
    {
     "name": "stderr",
     "output_type": "stream",
     "text": [
      "2023-12-12 16:04:34.444972: I tensorflow/core/framework/local_rendezvous.cc:425] Local rendezvous send item cancelled. Key hash: 8150286900782272699\n",
      "2023-12-12 16:04:34.445002: I tensorflow/core/framework/local_rendezvous.cc:421] Local rendezvous recv item cancelled. Key hash: 17389022229631790751\n",
      "2023-12-12 16:04:34.445020: I tensorflow/core/framework/local_rendezvous.cc:421] Local rendezvous recv item cancelled. Key hash: 17404393642466714328\n",
      "2023-12-12 16:04:34.445027: I tensorflow/core/framework/local_rendezvous.cc:425] Local rendezvous send item cancelled. Key hash: 7824742045786975584\n"
     ]
    },
    {
     "name": "stdout",
     "output_type": "stream",
     "text": [
      "52/52 [==============================] - 2s 37ms/step - loss: 14670.3232\n",
      "Epoch 26/100\n",
      " 4/52 [=>............................] - ETA: 1s - loss: 14668.3643"
     ]
    },
    {
     "name": "stderr",
     "output_type": "stream",
     "text": [
      "2023-12-12 16:04:36.408365: I tensorflow/core/framework/local_rendezvous.cc:421] Local rendezvous recv item cancelled. Key hash: 17389022229631790751\n",
      "2023-12-12 16:04:36.408393: I tensorflow/core/framework/local_rendezvous.cc:421] Local rendezvous recv item cancelled. Key hash: 17404393642466714328\n"
     ]
    },
    {
     "name": "stdout",
     "output_type": "stream",
     "text": [
      "52/52 [==============================] - 2s 37ms/step - loss: 14625.4688\n",
      "Epoch 27/100\n",
      " 4/52 [=>............................] - ETA: 1s - loss: 14623.2988"
     ]
    },
    {
     "name": "stderr",
     "output_type": "stream",
     "text": [
      "2023-12-12 16:04:38.367366: I tensorflow/core/framework/local_rendezvous.cc:425] Local rendezvous send item cancelled. Key hash: 8150286900782272699\n",
      "2023-12-12 16:04:38.367394: I tensorflow/core/framework/local_rendezvous.cc:421] Local rendezvous recv item cancelled. Key hash: 17389022229631790751\n",
      "2023-12-12 16:04:38.367402: I tensorflow/core/framework/local_rendezvous.cc:425] Local rendezvous send item cancelled. Key hash: 7111154346305113817\n",
      "2023-12-12 16:04:38.367411: I tensorflow/core/framework/local_rendezvous.cc:421] Local rendezvous recv item cancelled. Key hash: 17404393642466714328\n",
      "2023-12-12 16:04:38.367418: I tensorflow/core/framework/local_rendezvous.cc:425] Local rendezvous send item cancelled. Key hash: 7824742045786975584\n"
     ]
    },
    {
     "name": "stdout",
     "output_type": "stream",
     "text": [
      "52/52 [==============================] - 2s 37ms/step - loss: 14577.5449\n",
      "Epoch 28/100\n",
      " 4/52 [=>............................] - ETA: 1s - loss: 14575.1611"
     ]
    },
    {
     "name": "stderr",
     "output_type": "stream",
     "text": [
      "2023-12-12 16:04:40.331185: I tensorflow/core/framework/local_rendezvous.cc:425] Local rendezvous send item cancelled. Key hash: 8150286900782272699\n",
      "2023-12-12 16:04:40.331213: I tensorflow/core/framework/local_rendezvous.cc:421] Local rendezvous recv item cancelled. Key hash: 17389022229631790751\n",
      "2023-12-12 16:04:40.331223: I tensorflow/core/framework/local_rendezvous.cc:421] Local rendezvous recv item cancelled. Key hash: 17404393642466714328\n",
      "2023-12-12 16:04:40.331230: I tensorflow/core/framework/local_rendezvous.cc:425] Local rendezvous send item cancelled. Key hash: 7824742045786975584\n"
     ]
    },
    {
     "name": "stdout",
     "output_type": "stream",
     "text": [
      "52/52 [==============================] - 2s 37ms/step - loss: 14526.4893\n",
      "Epoch 29/100\n",
      " 4/52 [=>............................] - ETA: 1s - loss: 14523.8906"
     ]
    },
    {
     "name": "stderr",
     "output_type": "stream",
     "text": [
      "2023-12-12 16:04:42.298242: I tensorflow/core/framework/local_rendezvous.cc:421] Local rendezvous recv item cancelled. Key hash: 17389022229631790751\n",
      "2023-12-12 16:04:42.298270: I tensorflow/core/framework/local_rendezvous.cc:421] Local rendezvous recv item cancelled. Key hash: 17404393642466714328\n"
     ]
    },
    {
     "name": "stdout",
     "output_type": "stream",
     "text": [
      "52/52 [==============================] - 2s 37ms/step - loss: 14472.2715\n",
      "Epoch 30/100\n",
      " 4/52 [=>............................] - ETA: 1s - loss: 14469.4590"
     ]
    },
    {
     "name": "stderr",
     "output_type": "stream",
     "text": [
      "2023-12-12 16:04:44.257755: I tensorflow/core/framework/local_rendezvous.cc:421] Local rendezvous recv item cancelled. Key hash: 17389022229631790751\n",
      "2023-12-12 16:04:44.257783: I tensorflow/core/framework/local_rendezvous.cc:421] Local rendezvous recv item cancelled. Key hash: 17404393642466714328\n"
     ]
    },
    {
     "name": "stdout",
     "output_type": "stream",
     "text": [
      "52/52 [==============================] - 2s 37ms/step - loss: 14414.8457\n",
      "Epoch 31/100\n",
      " 4/52 [=>............................] - ETA: 1s - loss: 14411.8164"
     ]
    },
    {
     "name": "stderr",
     "output_type": "stream",
     "text": [
      "2023-12-12 16:04:46.225481: I tensorflow/core/framework/local_rendezvous.cc:421] Local rendezvous recv item cancelled. Key hash: 17389022229631790751\n",
      "2023-12-12 16:04:46.225522: I tensorflow/core/framework/local_rendezvous.cc:421] Local rendezvous recv item cancelled. Key hash: 17404393642466714328\n"
     ]
    },
    {
     "name": "stdout",
     "output_type": "stream",
     "text": [
      "52/52 [==============================] - 2s 37ms/step - loss: 14354.2041\n",
      "Epoch 32/100\n",
      " 4/52 [=>............................] - ETA: 1s - loss: 14350.9570"
     ]
    },
    {
     "name": "stderr",
     "output_type": "stream",
     "text": [
      "2023-12-12 16:04:48.198165: I tensorflow/core/framework/local_rendezvous.cc:421] Local rendezvous recv item cancelled. Key hash: 17389022229631790751\n",
      "2023-12-12 16:04:48.198194: I tensorflow/core/framework/local_rendezvous.cc:421] Local rendezvous recv item cancelled. Key hash: 17404393642466714328\n"
     ]
    },
    {
     "name": "stdout",
     "output_type": "stream",
     "text": [
      "52/52 [==============================] - 2s 37ms/step - loss: 14290.3203\n",
      "Epoch 33/100\n",
      " 4/52 [=>............................] - ETA: 1s - loss: 14286.8613"
     ]
    },
    {
     "name": "stderr",
     "output_type": "stream",
     "text": [
      "2023-12-12 16:04:50.153941: I tensorflow/core/framework/local_rendezvous.cc:421] Local rendezvous recv item cancelled. Key hash: 17389022229631790751\n",
      "2023-12-12 16:04:50.153973: I tensorflow/core/framework/local_rendezvous.cc:421] Local rendezvous recv item cancelled. Key hash: 17404393642466714328\n"
     ]
    },
    {
     "name": "stdout",
     "output_type": "stream",
     "text": [
      "52/52 [==============================] - 2s 37ms/step - loss: 14223.1719\n",
      "Epoch 34/100\n",
      " 4/52 [=>............................] - ETA: 1s - loss: 14219.4980"
     ]
    },
    {
     "name": "stderr",
     "output_type": "stream",
     "text": [
      "2023-12-12 16:04:52.119190: I tensorflow/core/framework/local_rendezvous.cc:421] Local rendezvous recv item cancelled. Key hash: 17389022229631790751\n",
      "2023-12-12 16:04:52.119221: I tensorflow/core/framework/local_rendezvous.cc:421] Local rendezvous recv item cancelled. Key hash: 17404393642466714328\n"
     ]
    },
    {
     "name": "stdout",
     "output_type": "stream",
     "text": [
      "52/52 [==============================] - 2s 37ms/step - loss: 14152.7666\n",
      "Epoch 35/100\n",
      " 4/52 [=>............................] - ETA: 1s - loss: 14148.8789"
     ]
    },
    {
     "name": "stderr",
     "output_type": "stream",
     "text": [
      "2023-12-12 16:04:54.083883: I tensorflow/core/framework/local_rendezvous.cc:421] Local rendezvous recv item cancelled. Key hash: 17389022229631790751\n",
      "2023-12-12 16:04:54.083908: I tensorflow/core/framework/local_rendezvous.cc:421] Local rendezvous recv item cancelled. Key hash: 17404393642466714328\n"
     ]
    },
    {
     "name": "stdout",
     "output_type": "stream",
     "text": [
      "52/52 [==============================] - 2s 37ms/step - loss: 14079.1035\n",
      "Epoch 36/100\n",
      " 4/52 [=>............................] - ETA: 1s - loss: 14075.0049"
     ]
    },
    {
     "name": "stderr",
     "output_type": "stream",
     "text": [
      "2023-12-12 16:04:56.046744: I tensorflow/core/framework/local_rendezvous.cc:425] Local rendezvous send item cancelled. Key hash: 8150286900782272699\n",
      "2023-12-12 16:04:56.046775: I tensorflow/core/framework/local_rendezvous.cc:421] Local rendezvous recv item cancelled. Key hash: 17389022229631790751\n",
      "2023-12-12 16:04:56.046786: I tensorflow/core/framework/local_rendezvous.cc:421] Local rendezvous recv item cancelled. Key hash: 17404393642466714328\n",
      "2023-12-12 16:04:56.046793: I tensorflow/core/framework/local_rendezvous.cc:425] Local rendezvous send item cancelled. Key hash: 7824742045786975584\n"
     ]
    },
    {
     "name": "stdout",
     "output_type": "stream",
     "text": [
      "52/52 [==============================] - 2s 37ms/step - loss: 14002.2021\n",
      "Epoch 37/100\n",
      " 4/52 [=>............................] - ETA: 1s - loss: 13997.8916"
     ]
    },
    {
     "name": "stderr",
     "output_type": "stream",
     "text": [
      "2023-12-12 16:04:58.011472: I tensorflow/core/framework/local_rendezvous.cc:425] Local rendezvous send item cancelled. Key hash: 8150286900782272699\n",
      "2023-12-12 16:04:58.011521: I tensorflow/core/framework/local_rendezvous.cc:421] Local rendezvous recv item cancelled. Key hash: 17389022229631790751\n",
      "2023-12-12 16:04:58.011532: I tensorflow/core/framework/local_rendezvous.cc:425] Local rendezvous send item cancelled. Key hash: 7111154346305113817\n",
      "2023-12-12 16:04:58.011542: I tensorflow/core/framework/local_rendezvous.cc:421] Local rendezvous recv item cancelled. Key hash: 17404393642466714328\n",
      "2023-12-12 16:04:58.011549: I tensorflow/core/framework/local_rendezvous.cc:425] Local rendezvous send item cancelled. Key hash: 7824742045786975584\n"
     ]
    },
    {
     "name": "stdout",
     "output_type": "stream",
     "text": [
      "52/52 [==============================] - 2s 37ms/step - loss: 13922.0732\n",
      "Epoch 38/100\n",
      " 4/52 [=>............................] - ETA: 1s - loss: 13917.5566"
     ]
    },
    {
     "name": "stderr",
     "output_type": "stream",
     "text": [
      "2023-12-12 16:04:59.977329: I tensorflow/core/framework/local_rendezvous.cc:421] Local rendezvous recv item cancelled. Key hash: 17389022229631790751\n",
      "2023-12-12 16:04:59.977360: I tensorflow/core/framework/local_rendezvous.cc:421] Local rendezvous recv item cancelled. Key hash: 17404393642466714328\n"
     ]
    },
    {
     "name": "stdout",
     "output_type": "stream",
     "text": [
      "52/52 [==============================] - 2s 37ms/step - loss: 13838.7617\n",
      "Epoch 39/100\n",
      " 4/52 [=>............................] - ETA: 1s - loss: 13834.0361"
     ]
    },
    {
     "name": "stderr",
     "output_type": "stream",
     "text": [
      "2023-12-12 16:05:01.938230: I tensorflow/core/framework/local_rendezvous.cc:421] Local rendezvous recv item cancelled. Key hash: 17389022229631790751\n",
      "2023-12-12 16:05:01.938255: I tensorflow/core/framework/local_rendezvous.cc:421] Local rendezvous recv item cancelled. Key hash: 17404393642466714328\n"
     ]
    },
    {
     "name": "stdout",
     "output_type": "stream",
     "text": [
      "52/52 [==============================] - 2s 37ms/step - loss: 13752.2822\n",
      "Epoch 40/100\n",
      " 4/52 [=>............................] - ETA: 1s - loss: 13747.3564"
     ]
    },
    {
     "name": "stderr",
     "output_type": "stream",
     "text": [
      "2023-12-12 16:05:03.902515: I tensorflow/core/framework/local_rendezvous.cc:421] Local rendezvous recv item cancelled. Key hash: 17389022229631790751\n",
      "2023-12-12 16:05:03.902542: I tensorflow/core/framework/local_rendezvous.cc:421] Local rendezvous recv item cancelled. Key hash: 17404393642466714328\n"
     ]
    },
    {
     "name": "stdout",
     "output_type": "stream",
     "text": [
      "52/52 [==============================] - 2s 37ms/step - loss: 13662.7168\n",
      "Epoch 41/100\n",
      " 4/52 [=>............................] - ETA: 1s - loss: 13657.5967"
     ]
    },
    {
     "name": "stderr",
     "output_type": "stream",
     "text": [
      "2023-12-12 16:05:05.864511: I tensorflow/core/framework/local_rendezvous.cc:421] Local rendezvous recv item cancelled. Key hash: 17389022229631790751\n",
      "2023-12-12 16:05:05.864540: I tensorflow/core/framework/local_rendezvous.cc:421] Local rendezvous recv item cancelled. Key hash: 17404393642466714328\n"
     ]
    },
    {
     "name": "stdout",
     "output_type": "stream",
     "text": [
      "52/52 [==============================] - 2s 37ms/step - loss: 13570.1367\n",
      "Epoch 42/100\n",
      " 4/52 [=>............................] - ETA: 1s - loss: 13564.8252"
     ]
    },
    {
     "name": "stderr",
     "output_type": "stream",
     "text": [
      "2023-12-12 16:05:07.828466: I tensorflow/core/framework/local_rendezvous.cc:425] Local rendezvous send item cancelled. Key hash: 8150286900782272699\n",
      "2023-12-12 16:05:07.828493: I tensorflow/core/framework/local_rendezvous.cc:421] Local rendezvous recv item cancelled. Key hash: 17389022229631790751\n",
      "2023-12-12 16:05:07.828503: I tensorflow/core/framework/local_rendezvous.cc:421] Local rendezvous recv item cancelled. Key hash: 17404393642466714328\n",
      "2023-12-12 16:05:07.828511: I tensorflow/core/framework/local_rendezvous.cc:425] Local rendezvous send item cancelled. Key hash: 7824742045786975584\n"
     ]
    },
    {
     "name": "stdout",
     "output_type": "stream",
     "text": [
      "52/52 [==============================] - 2s 37ms/step - loss: 13474.6064\n",
      "Epoch 43/100\n",
      " 4/52 [=>............................] - ETA: 1s - loss: 13469.1055"
     ]
    },
    {
     "name": "stderr",
     "output_type": "stream",
     "text": [
      "2023-12-12 16:05:09.799544: I tensorflow/core/framework/local_rendezvous.cc:421] Local rendezvous recv item cancelled. Key hash: 17389022229631790751\n",
      "2023-12-12 16:05:09.799581: I tensorflow/core/framework/local_rendezvous.cc:421] Local rendezvous recv item cancelled. Key hash: 17404393642466714328\n"
     ]
    },
    {
     "name": "stdout",
     "output_type": "stream",
     "text": [
      "52/52 [==============================] - 2s 37ms/step - loss: 13376.2188\n",
      "Epoch 44/100\n",
      " 4/52 [=>............................] - ETA: 1s - loss: 13370.5391"
     ]
    },
    {
     "name": "stderr",
     "output_type": "stream",
     "text": [
      "2023-12-12 16:05:11.768333: I tensorflow/core/framework/local_rendezvous.cc:425] Local rendezvous send item cancelled. Key hash: 8150286900782272699\n",
      "2023-12-12 16:05:11.768362: I tensorflow/core/framework/local_rendezvous.cc:421] Local rendezvous recv item cancelled. Key hash: 17389022229631790751\n",
      "2023-12-12 16:05:11.768372: I tensorflow/core/framework/local_rendezvous.cc:421] Local rendezvous recv item cancelled. Key hash: 17404393642466714328\n",
      "2023-12-12 16:05:11.768380: I tensorflow/core/framework/local_rendezvous.cc:425] Local rendezvous send item cancelled. Key hash: 7824742045786975584\n"
     ]
    },
    {
     "name": "stdout",
     "output_type": "stream",
     "text": [
      "52/52 [==============================] - 2s 37ms/step - loss: 13275.0693\n",
      "Epoch 45/100\n",
      " 4/52 [=>............................] - ETA: 1s - loss: 13269.2178"
     ]
    },
    {
     "name": "stderr",
     "output_type": "stream",
     "text": [
      "2023-12-12 16:05:13.729087: I tensorflow/core/framework/local_rendezvous.cc:421] Local rendezvous recv item cancelled. Key hash: 17389022229631790751\n",
      "2023-12-12 16:05:13.729117: I tensorflow/core/framework/local_rendezvous.cc:421] Local rendezvous recv item cancelled. Key hash: 17404393642466714328\n"
     ]
    },
    {
     "name": "stdout",
     "output_type": "stream",
     "text": [
      "52/52 [==============================] - 2s 37ms/step - loss: 13171.3086\n",
      "Epoch 46/100\n",
      " 4/52 [=>............................] - ETA: 1s - loss: 13165.2920"
     ]
    },
    {
     "name": "stderr",
     "output_type": "stream",
     "text": [
      "2023-12-12 16:05:15.691713: I tensorflow/core/framework/local_rendezvous.cc:421] Local rendezvous recv item cancelled. Key hash: 17389022229631790751\n",
      "2023-12-12 16:05:15.691741: I tensorflow/core/framework/local_rendezvous.cc:421] Local rendezvous recv item cancelled. Key hash: 17404393642466714328\n"
     ]
    },
    {
     "name": "stdout",
     "output_type": "stream",
     "text": [
      "52/52 [==============================] - 2s 37ms/step - loss: 13065.0322\n",
      "Epoch 47/100\n",
      " 4/52 [=>............................] - ETA: 1s - loss: 13058.8662"
     ]
    },
    {
     "name": "stderr",
     "output_type": "stream",
     "text": [
      "2023-12-12 16:05:17.652441: I tensorflow/core/framework/local_rendezvous.cc:421] Local rendezvous recv item cancelled. Key hash: 17389022229631790751\n",
      "2023-12-12 16:05:17.652468: I tensorflow/core/framework/local_rendezvous.cc:421] Local rendezvous recv item cancelled. Key hash: 17404393642466714328\n"
     ]
    },
    {
     "name": "stdout",
     "output_type": "stream",
     "text": [
      "52/52 [==============================] - 2s 37ms/step - loss: 12956.4209\n",
      "Epoch 48/100\n",
      " 4/52 [=>............................] - ETA: 1s - loss: 12950.1055"
     ]
    },
    {
     "name": "stderr",
     "output_type": "stream",
     "text": [
      "2023-12-12 16:05:19.626861: I tensorflow/core/framework/local_rendezvous.cc:421] Local rendezvous recv item cancelled. Key hash: 17389022229631790751\n",
      "2023-12-12 16:05:19.626889: I tensorflow/core/framework/local_rendezvous.cc:421] Local rendezvous recv item cancelled. Key hash: 17404393642466714328\n"
     ]
    },
    {
     "name": "stdout",
     "output_type": "stream",
     "text": [
      "52/52 [==============================] - 2s 37ms/step - loss: 12845.6572\n",
      "Epoch 49/100\n",
      " 4/52 [=>............................] - ETA: 1s - loss: 12839.2100"
     ]
    },
    {
     "name": "stderr",
     "output_type": "stream",
     "text": [
      "2023-12-12 16:05:21.594491: I tensorflow/core/framework/local_rendezvous.cc:421] Local rendezvous recv item cancelled. Key hash: 17389022229631790751\n",
      "2023-12-12 16:05:21.594520: I tensorflow/core/framework/local_rendezvous.cc:421] Local rendezvous recv item cancelled. Key hash: 17404393642466714328\n"
     ]
    },
    {
     "name": "stdout",
     "output_type": "stream",
     "text": [
      "52/52 [==============================] - 2s 37ms/step - loss: 12732.8965\n",
      "Epoch 50/100\n",
      " 4/52 [=>............................] - ETA: 1s - loss: 12726.3213"
     ]
    },
    {
     "name": "stderr",
     "output_type": "stream",
     "text": [
      "2023-12-12 16:05:23.563174: I tensorflow/core/framework/local_rendezvous.cc:421] Local rendezvous recv item cancelled. Key hash: 17389022229631790751\n",
      "2023-12-12 16:05:23.563201: I tensorflow/core/framework/local_rendezvous.cc:421] Local rendezvous recv item cancelled. Key hash: 17404393642466714328\n"
     ]
    },
    {
     "name": "stdout",
     "output_type": "stream",
     "text": [
      "52/52 [==============================] - 2s 37ms/step - loss: 12618.3145\n",
      "Epoch 51/100\n",
      " 4/52 [=>............................] - ETA: 1s - loss: 12611.6357"
     ]
    },
    {
     "name": "stderr",
     "output_type": "stream",
     "text": [
      "2023-12-12 16:05:25.533321: I tensorflow/core/framework/local_rendezvous.cc:421] Local rendezvous recv item cancelled. Key hash: 17389022229631790751\n"
     ]
    },
    {
     "name": "stdout",
     "output_type": "stream",
     "text": [
      "52/52 [==============================] - 2s 37ms/step - loss: 12502.1182\n",
      "Epoch 52/100\n",
      " 4/52 [=>............................] - ETA: 1s - loss: 12495.3379"
     ]
    },
    {
     "name": "stderr",
     "output_type": "stream",
     "text": [
      "2023-12-12 16:05:27.501628: I tensorflow/core/framework/local_rendezvous.cc:421] Local rendezvous recv item cancelled. Key hash: 17389022229631790751\n"
     ]
    },
    {
     "name": "stdout",
     "output_type": "stream",
     "text": [
      "52/52 [==============================] - 2s 37ms/step - loss: 12384.5352\n",
      "Epoch 53/100\n",
      " 4/52 [=>............................] - ETA: 1s - loss: 12377.6689"
     ]
    },
    {
     "name": "stderr",
     "output_type": "stream",
     "text": [
      "2023-12-12 16:05:29.477494: I tensorflow/core/framework/local_rendezvous.cc:421] Local rendezvous recv item cancelled. Key hash: 17389022229631790751\n",
      "2023-12-12 16:05:29.477527: I tensorflow/core/framework/local_rendezvous.cc:421] Local rendezvous recv item cancelled. Key hash: 17404393642466714328\n"
     ]
    },
    {
     "name": "stdout",
     "output_type": "stream",
     "text": [
      "52/52 [==============================] - 2s 37ms/step - loss: 12265.7686\n",
      "Epoch 54/100\n",
      " 4/52 [=>............................] - ETA: 1s - loss: 12258.8350"
     ]
    },
    {
     "name": "stderr",
     "output_type": "stream",
     "text": [
      "2023-12-12 16:05:31.449212: I tensorflow/core/framework/local_rendezvous.cc:421] Local rendezvous recv item cancelled. Key hash: 17389022229631790751\n",
      "2023-12-12 16:05:31.449248: I tensorflow/core/framework/local_rendezvous.cc:421] Local rendezvous recv item cancelled. Key hash: 17404393642466714328\n"
     ]
    },
    {
     "name": "stdout",
     "output_type": "stream",
     "text": [
      "52/52 [==============================] - 2s 37ms/step - loss: 12146.0068\n",
      "Epoch 55/100\n",
      " 4/52 [=>............................] - ETA: 1s - loss: 12139.0137"
     ]
    },
    {
     "name": "stderr",
     "output_type": "stream",
     "text": [
      "2023-12-12 16:05:33.419787: I tensorflow/core/framework/local_rendezvous.cc:421] Local rendezvous recv item cancelled. Key hash: 17389022229631790751\n",
      "2023-12-12 16:05:33.419815: I tensorflow/core/framework/local_rendezvous.cc:421] Local rendezvous recv item cancelled. Key hash: 17404393642466714328\n"
     ]
    },
    {
     "name": "stdout",
     "output_type": "stream",
     "text": [
      "52/52 [==============================] - 2s 37ms/step - loss: 12025.5273\n",
      "Epoch 56/100\n",
      " 4/52 [=>............................] - ETA: 1s - loss: 12018.4883"
     ]
    },
    {
     "name": "stderr",
     "output_type": "stream",
     "text": [
      "2023-12-12 16:05:35.388040: I tensorflow/core/framework/local_rendezvous.cc:425] Local rendezvous send item cancelled. Key hash: 8150286900782272699\n",
      "2023-12-12 16:05:35.388074: I tensorflow/core/framework/local_rendezvous.cc:421] Local rendezvous recv item cancelled. Key hash: 17389022229631790751\n",
      "2023-12-12 16:05:35.388083: I tensorflow/core/framework/local_rendezvous.cc:425] Local rendezvous send item cancelled. Key hash: 7111154346305113817\n",
      "2023-12-12 16:05:35.388092: I tensorflow/core/framework/local_rendezvous.cc:421] Local rendezvous recv item cancelled. Key hash: 17404393642466714328\n",
      "2023-12-12 16:05:35.388100: I tensorflow/core/framework/local_rendezvous.cc:425] Local rendezvous send item cancelled. Key hash: 7824742045786975584\n"
     ]
    },
    {
     "name": "stdout",
     "output_type": "stream",
     "text": [
      "52/52 [==============================] - 2s 37ms/step - loss: 11904.5156\n",
      "Epoch 57/100\n",
      " 4/52 [=>............................] - ETA: 1s - loss: 11897.4521"
     ]
    },
    {
     "name": "stderr",
     "output_type": "stream",
     "text": [
      "2023-12-12 16:05:37.360660: I tensorflow/core/framework/local_rendezvous.cc:421] Local rendezvous recv item cancelled. Key hash: 17389022229631790751\n",
      "2023-12-12 16:05:37.360687: I tensorflow/core/framework/local_rendezvous.cc:421] Local rendezvous recv item cancelled. Key hash: 17404393642466714328\n"
     ]
    },
    {
     "name": "stdout",
     "output_type": "stream",
     "text": [
      "52/52 [==============================] - 2s 37ms/step - loss: 11783.1680\n",
      "Epoch 58/100\n",
      " 4/52 [=>............................] - ETA: 1s - loss: 11776.0869"
     ]
    },
    {
     "name": "stderr",
     "output_type": "stream",
     "text": [
      "2023-12-12 16:05:39.327100: I tensorflow/core/framework/local_rendezvous.cc:421] Local rendezvous recv item cancelled. Key hash: 17389022229631790751\n",
      "2023-12-12 16:05:39.327128: I tensorflow/core/framework/local_rendezvous.cc:421] Local rendezvous recv item cancelled. Key hash: 17404393642466714328\n"
     ]
    },
    {
     "name": "stdout",
     "output_type": "stream",
     "text": [
      "52/52 [==============================] - 2s 37ms/step - loss: 11661.7188\n",
      "Epoch 59/100\n",
      " 4/52 [=>............................] - ETA: 1s - loss: 11654.6250"
     ]
    },
    {
     "name": "stderr",
     "output_type": "stream",
     "text": [
      "2023-12-12 16:05:41.299524: I tensorflow/core/framework/local_rendezvous.cc:421] Local rendezvous recv item cancelled. Key hash: 17389022229631790751\n",
      "2023-12-12 16:05:41.299552: I tensorflow/core/framework/local_rendezvous.cc:421] Local rendezvous recv item cancelled. Key hash: 17404393642466714328\n"
     ]
    },
    {
     "name": "stdout",
     "output_type": "stream",
     "text": [
      "52/52 [==============================] - 2s 37ms/step - loss: 11540.3779\n",
      "Epoch 60/100\n",
      " 4/52 [=>............................] - ETA: 1s - loss: 11533.2949"
     ]
    },
    {
     "name": "stderr",
     "output_type": "stream",
     "text": [
      "2023-12-12 16:05:43.265330: I tensorflow/core/framework/local_rendezvous.cc:421] Local rendezvous recv item cancelled. Key hash: 17389022229631790751\n",
      "2023-12-12 16:05:43.265358: I tensorflow/core/framework/local_rendezvous.cc:421] Local rendezvous recv item cancelled. Key hash: 17404393642466714328\n"
     ]
    },
    {
     "name": "stdout",
     "output_type": "stream",
     "text": [
      "52/52 [==============================] - 2s 37ms/step - loss: 11419.2979\n",
      "Epoch 61/100\n",
      " 4/52 [=>............................] - ETA: 1s - loss: 11412.2314"
     ]
    },
    {
     "name": "stderr",
     "output_type": "stream",
     "text": [
      "2023-12-12 16:05:45.244637: I tensorflow/core/framework/local_rendezvous.cc:421] Local rendezvous recv item cancelled. Key hash: 17389022229631790751\n",
      "2023-12-12 16:05:45.244666: I tensorflow/core/framework/local_rendezvous.cc:421] Local rendezvous recv item cancelled. Key hash: 17404393642466714328\n"
     ]
    },
    {
     "name": "stdout",
     "output_type": "stream",
     "text": [
      "52/52 [==============================] - 2s 37ms/step - loss: 11298.6514\n",
      "Epoch 62/100\n",
      " 4/52 [=>............................] - ETA: 1s - loss: 11291.6123"
     ]
    },
    {
     "name": "stderr",
     "output_type": "stream",
     "text": [
      "2023-12-12 16:05:47.211871: I tensorflow/core/framework/local_rendezvous.cc:425] Local rendezvous send item cancelled. Key hash: 8150286900782272699\n",
      "2023-12-12 16:05:47.211907: I tensorflow/core/framework/local_rendezvous.cc:421] Local rendezvous recv item cancelled. Key hash: 17389022229631790751\n",
      "2023-12-12 16:05:47.211922: I tensorflow/core/framework/local_rendezvous.cc:421] Local rendezvous recv item cancelled. Key hash: 17404393642466714328\n",
      "2023-12-12 16:05:47.211933: I tensorflow/core/framework/local_rendezvous.cc:425] Local rendezvous send item cancelled. Key hash: 7824742045786975584\n"
     ]
    },
    {
     "name": "stdout",
     "output_type": "stream",
     "text": [
      "52/52 [==============================] - 2s 37ms/step - loss: 11178.6250\n",
      "Epoch 63/100\n",
      " 4/52 [=>............................] - ETA: 1s - loss: 11171.6250"
     ]
    },
    {
     "name": "stderr",
     "output_type": "stream",
     "text": [
      "2023-12-12 16:05:49.177557: I tensorflow/core/framework/local_rendezvous.cc:421] Local rendezvous recv item cancelled. Key hash: 17389022229631790751\n",
      "2023-12-12 16:05:49.177588: I tensorflow/core/framework/local_rendezvous.cc:421] Local rendezvous recv item cancelled. Key hash: 17404393642466714328\n"
     ]
    },
    {
     "name": "stdout",
     "output_type": "stream",
     "text": [
      "52/52 [==============================] - 2s 37ms/step - loss: 11059.3535\n",
      "Epoch 64/100\n",
      " 4/52 [=>............................] - ETA: 1s - loss: 11052.3926"
     ]
    },
    {
     "name": "stderr",
     "output_type": "stream",
     "text": [
      "2023-12-12 16:05:51.156538: I tensorflow/core/framework/local_rendezvous.cc:421] Local rendezvous recv item cancelled. Key hash: 17389022229631790751\n",
      "2023-12-12 16:05:51.156564: I tensorflow/core/framework/local_rendezvous.cc:421] Local rendezvous recv item cancelled. Key hash: 17404393642466714328\n"
     ]
    },
    {
     "name": "stdout",
     "output_type": "stream",
     "text": [
      "52/52 [==============================] - 2s 37ms/step - loss: 10940.9346\n",
      "Epoch 65/100\n",
      " 4/52 [=>............................] - ETA: 1s - loss: 10934.0303"
     ]
    },
    {
     "name": "stderr",
     "output_type": "stream",
     "text": [
      "2023-12-12 16:05:53.125365: I tensorflow/core/framework/local_rendezvous.cc:421] Local rendezvous recv item cancelled. Key hash: 17389022229631790751\n",
      "2023-12-12 16:05:53.125399: I tensorflow/core/framework/local_rendezvous.cc:421] Local rendezvous recv item cancelled. Key hash: 17404393642466714328\n"
     ]
    },
    {
     "name": "stdout",
     "output_type": "stream",
     "text": [
      "52/52 [==============================] - 2s 37ms/step - loss: 10823.5557\n",
      "Epoch 66/100\n",
      " 4/52 [=>............................] - ETA: 1s - loss: 10816.7100"
     ]
    },
    {
     "name": "stderr",
     "output_type": "stream",
     "text": [
      "2023-12-12 16:05:55.101526: I tensorflow/core/framework/local_rendezvous.cc:421] Local rendezvous recv item cancelled. Key hash: 17389022229631790751\n",
      "2023-12-12 16:05:55.101555: I tensorflow/core/framework/local_rendezvous.cc:421] Local rendezvous recv item cancelled. Key hash: 17404393642466714328\n"
     ]
    },
    {
     "name": "stdout",
     "output_type": "stream",
     "text": [
      "52/52 [==============================] - 2s 37ms/step - loss: 10707.2939\n",
      "Epoch 67/100\n",
      " 4/52 [=>............................] - ETA: 1s - loss: 10700.5166"
     ]
    },
    {
     "name": "stderr",
     "output_type": "stream",
     "text": [
      "2023-12-12 16:05:57.073030: I tensorflow/core/framework/local_rendezvous.cc:421] Local rendezvous recv item cancelled. Key hash: 17389022229631790751\n",
      "2023-12-12 16:05:57.073059: I tensorflow/core/framework/local_rendezvous.cc:421] Local rendezvous recv item cancelled. Key hash: 17404393642466714328\n"
     ]
    },
    {
     "name": "stdout",
     "output_type": "stream",
     "text": [
      "52/52 [==============================] - 2s 37ms/step - loss: 10592.1885\n",
      "Epoch 68/100\n",
      " 4/52 [=>............................] - ETA: 1s - loss: 10585.4834"
     ]
    },
    {
     "name": "stderr",
     "output_type": "stream",
     "text": [
      "2023-12-12 16:05:59.044408: I tensorflow/core/framework/local_rendezvous.cc:421] Local rendezvous recv item cancelled. Key hash: 17389022229631790751\n",
      "2023-12-12 16:05:59.044436: I tensorflow/core/framework/local_rendezvous.cc:421] Local rendezvous recv item cancelled. Key hash: 17404393642466714328\n"
     ]
    },
    {
     "name": "stdout",
     "output_type": "stream",
     "text": [
      "52/52 [==============================] - 2s 37ms/step - loss: 10478.4082\n",
      "Epoch 69/100\n",
      " 4/52 [=>............................] - ETA: 1s - loss: 10471.7812"
     ]
    },
    {
     "name": "stderr",
     "output_type": "stream",
     "text": [
      "2023-12-12 16:06:01.019069: I tensorflow/core/framework/local_rendezvous.cc:425] Local rendezvous send item cancelled. Key hash: 8150286900782272699\n",
      "2023-12-12 16:06:01.019096: I tensorflow/core/framework/local_rendezvous.cc:421] Local rendezvous recv item cancelled. Key hash: 17389022229631790751\n",
      "2023-12-12 16:06:01.019107: I tensorflow/core/framework/local_rendezvous.cc:421] Local rendezvous recv item cancelled. Key hash: 17404393642466714328\n",
      "2023-12-12 16:06:01.019114: I tensorflow/core/framework/local_rendezvous.cc:425] Local rendezvous send item cancelled. Key hash: 7824742045786975584\n"
     ]
    },
    {
     "name": "stdout",
     "output_type": "stream",
     "text": [
      "52/52 [==============================] - 2s 38ms/step - loss: 10365.9941\n",
      "Epoch 70/100\n",
      " 4/52 [=>............................] - ETA: 1s - loss: 10359.4443"
     ]
    },
    {
     "name": "stderr",
     "output_type": "stream",
     "text": [
      "2023-12-12 16:06:03.000071: I tensorflow/core/framework/local_rendezvous.cc:421] Local rendezvous recv item cancelled. Key hash: 17389022229631790751\n",
      "2023-12-12 16:06:03.000099: I tensorflow/core/framework/local_rendezvous.cc:421] Local rendezvous recv item cancelled. Key hash: 17404393642466714328\n"
     ]
    },
    {
     "name": "stdout",
     "output_type": "stream",
     "text": [
      "52/52 [==============================] - 2s 38ms/step - loss: 10254.9912\n",
      "Epoch 71/100\n",
      " 4/52 [=>............................] - ETA: 1s - loss: 10248.5215"
     ]
    },
    {
     "name": "stderr",
     "output_type": "stream",
     "text": [
      "2023-12-12 16:06:04.990521: I tensorflow/core/framework/local_rendezvous.cc:421] Local rendezvous recv item cancelled. Key hash: 17389022229631790751\n",
      "2023-12-12 16:06:04.990550: I tensorflow/core/framework/local_rendezvous.cc:421] Local rendezvous recv item cancelled. Key hash: 17404393642466714328\n"
     ]
    },
    {
     "name": "stdout",
     "output_type": "stream",
     "text": [
      "52/52 [==============================] - 2s 38ms/step - loss: 10145.4385\n",
      "Epoch 72/100\n",
      " 4/52 [=>............................] - ETA: 1s - loss: 10139.0615"
     ]
    },
    {
     "name": "stderr",
     "output_type": "stream",
     "text": [
      "2023-12-12 16:06:06.989941: I tensorflow/core/framework/local_rendezvous.cc:421] Local rendezvous recv item cancelled. Key hash: 17389022229631790751\n",
      "2023-12-12 16:06:06.989969: I tensorflow/core/framework/local_rendezvous.cc:421] Local rendezvous recv item cancelled. Key hash: 17404393642466714328\n"
     ]
    },
    {
     "name": "stdout",
     "output_type": "stream",
     "text": [
      "52/52 [==============================] - 2s 38ms/step - loss: 10037.3867\n",
      "Epoch 73/100\n",
      " 4/52 [=>............................] - ETA: 1s - loss: 10031.0908"
     ]
    },
    {
     "name": "stderr",
     "output_type": "stream",
     "text": [
      "2023-12-12 16:06:09.001727: I tensorflow/core/framework/local_rendezvous.cc:425] Local rendezvous send item cancelled. Key hash: 8150286900782272699\n",
      "2023-12-12 16:06:09.001757: I tensorflow/core/framework/local_rendezvous.cc:421] Local rendezvous recv item cancelled. Key hash: 17389022229631790751\n",
      "2023-12-12 16:06:09.001774: I tensorflow/core/framework/local_rendezvous.cc:425] Local rendezvous send item cancelled. Key hash: 7111154346305113817\n",
      "2023-12-12 16:06:09.001782: I tensorflow/core/framework/local_rendezvous.cc:421] Local rendezvous recv item cancelled. Key hash: 17404393642466714328\n",
      "2023-12-12 16:06:09.001789: I tensorflow/core/framework/local_rendezvous.cc:425] Local rendezvous send item cancelled. Key hash: 7824742045786975584\n"
     ]
    },
    {
     "name": "stdout",
     "output_type": "stream",
     "text": [
      "52/52 [==============================] - 2s 38ms/step - loss: 9930.8652\n",
      "Epoch 74/100\n",
      " 4/52 [=>............................] - ETA: 1s - loss: 9924.6523"
     ]
    },
    {
     "name": "stderr",
     "output_type": "stream",
     "text": [
      "2023-12-12 16:06:11.002111: I tensorflow/core/framework/local_rendezvous.cc:421] Local rendezvous recv item cancelled. Key hash: 17389022229631790751\n",
      "2023-12-12 16:06:11.002150: I tensorflow/core/framework/local_rendezvous.cc:421] Local rendezvous recv item cancelled. Key hash: 17404393642466714328\n"
     ]
    },
    {
     "name": "stdout",
     "output_type": "stream",
     "text": [
      "52/52 [==============================] - 2s 38ms/step - loss: 9825.8789\n",
      "Epoch 75/100\n",
      " 4/52 [=>............................] - ETA: 1s - loss: 9819.7686"
     ]
    },
    {
     "name": "stderr",
     "output_type": "stream",
     "text": [
      "2023-12-12 16:06:13.016236: I tensorflow/core/framework/local_rendezvous.cc:425] Local rendezvous send item cancelled. Key hash: 8150286900782272699\n",
      "2023-12-12 16:06:13.016265: I tensorflow/core/framework/local_rendezvous.cc:421] Local rendezvous recv item cancelled. Key hash: 17389022229631790751\n",
      "2023-12-12 16:06:13.016274: I tensorflow/core/framework/local_rendezvous.cc:425] Local rendezvous send item cancelled. Key hash: 7111154346305113817\n",
      "2023-12-12 16:06:13.016283: I tensorflow/core/framework/local_rendezvous.cc:421] Local rendezvous recv item cancelled. Key hash: 17404393642466714328\n",
      "2023-12-12 16:06:13.016290: I tensorflow/core/framework/local_rendezvous.cc:425] Local rendezvous send item cancelled. Key hash: 7824742045786975584\n"
     ]
    },
    {
     "name": "stdout",
     "output_type": "stream",
     "text": [
      "52/52 [==============================] - 2s 38ms/step - loss: 9722.4697\n",
      "Epoch 76/100\n",
      " 4/52 [=>............................] - ETA: 1s - loss: 9716.4463"
     ]
    },
    {
     "name": "stderr",
     "output_type": "stream",
     "text": [
      "2023-12-12 16:06:15.018191: I tensorflow/core/framework/local_rendezvous.cc:421] Local rendezvous recv item cancelled. Key hash: 17389022229631790751\n",
      "2023-12-12 16:06:15.018219: I tensorflow/core/framework/local_rendezvous.cc:421] Local rendezvous recv item cancelled. Key hash: 17404393642466714328\n"
     ]
    },
    {
     "name": "stdout",
     "output_type": "stream",
     "text": [
      "52/52 [==============================] - 2s 38ms/step - loss: 9620.6211\n",
      "Epoch 77/100\n",
      " 4/52 [=>............................] - ETA: 1s - loss: 9614.6836"
     ]
    },
    {
     "name": "stderr",
     "output_type": "stream",
     "text": [
      "2023-12-12 16:06:17.023448: I tensorflow/core/framework/local_rendezvous.cc:425] Local rendezvous send item cancelled. Key hash: 8150286900782272699\n",
      "2023-12-12 16:06:17.023485: I tensorflow/core/framework/local_rendezvous.cc:421] Local rendezvous recv item cancelled. Key hash: 17389022229631790751\n",
      "2023-12-12 16:06:17.023502: I tensorflow/core/framework/local_rendezvous.cc:421] Local rendezvous recv item cancelled. Key hash: 17404393642466714328\n",
      "2023-12-12 16:06:17.023514: I tensorflow/core/framework/local_rendezvous.cc:425] Local rendezvous send item cancelled. Key hash: 7824742045786975584\n"
     ]
    },
    {
     "name": "stdout",
     "output_type": "stream",
     "text": [
      "52/52 [==============================] - 2s 38ms/step - loss: 9520.3330\n",
      "Epoch 78/100\n",
      " 4/52 [=>............................] - ETA: 1s - loss: 9514.4971"
     ]
    },
    {
     "name": "stderr",
     "output_type": "stream",
     "text": [
      "2023-12-12 16:06:19.047482: I tensorflow/core/framework/local_rendezvous.cc:421] Local rendezvous recv item cancelled. Key hash: 17389022229631790751\n",
      "2023-12-12 16:06:19.047529: I tensorflow/core/framework/local_rendezvous.cc:421] Local rendezvous recv item cancelled. Key hash: 17404393642466714328\n"
     ]
    },
    {
     "name": "stdout",
     "output_type": "stream",
     "text": [
      "52/52 [==============================] - 2s 39ms/step - loss: 9421.6338\n",
      "Epoch 79/100\n",
      " 4/52 [=>............................] - ETA: 1s - loss: 9415.8887"
     ]
    },
    {
     "name": "stderr",
     "output_type": "stream",
     "text": [
      "2023-12-12 16:06:21.091331: I tensorflow/core/framework/local_rendezvous.cc:421] Local rendezvous recv item cancelled. Key hash: 17389022229631790751\n",
      "2023-12-12 16:06:21.091361: I tensorflow/core/framework/local_rendezvous.cc:421] Local rendezvous recv item cancelled. Key hash: 17404393642466714328\n"
     ]
    },
    {
     "name": "stdout",
     "output_type": "stream",
     "text": [
      "52/52 [==============================] - 2s 39ms/step - loss: 9324.5117\n",
      "Epoch 80/100\n",
      " 4/52 [=>............................] - ETA: 1s - loss: 9318.8564"
     ]
    },
    {
     "name": "stderr",
     "output_type": "stream",
     "text": [
      "2023-12-12 16:06:23.131432: I tensorflow/core/framework/local_rendezvous.cc:421] Local rendezvous recv item cancelled. Key hash: 17389022229631790751\n",
      "2023-12-12 16:06:23.131457: I tensorflow/core/framework/local_rendezvous.cc:421] Local rendezvous recv item cancelled. Key hash: 17404393642466714328\n"
     ]
    },
    {
     "name": "stdout",
     "output_type": "stream",
     "text": [
      "52/52 [==============================] - 2s 39ms/step - loss: 9228.9697\n",
      "Epoch 81/100\n",
      " 4/52 [=>............................] - ETA: 1s - loss: 9223.4072"
     ]
    },
    {
     "name": "stderr",
     "output_type": "stream",
     "text": [
      "2023-12-12 16:06:25.175038: I tensorflow/core/framework/local_rendezvous.cc:425] Local rendezvous send item cancelled. Key hash: 8150286900782272699\n",
      "2023-12-12 16:06:25.175075: I tensorflow/core/framework/local_rendezvous.cc:421] Local rendezvous recv item cancelled. Key hash: 17389022229631790751\n",
      "2023-12-12 16:06:25.175084: I tensorflow/core/framework/local_rendezvous.cc:425] Local rendezvous send item cancelled. Key hash: 7111154346305113817\n",
      "2023-12-12 16:06:25.175093: I tensorflow/core/framework/local_rendezvous.cc:421] Local rendezvous recv item cancelled. Key hash: 17404393642466714328\n",
      "2023-12-12 16:06:25.175100: I tensorflow/core/framework/local_rendezvous.cc:425] Local rendezvous send item cancelled. Key hash: 7824742045786975584\n"
     ]
    },
    {
     "name": "stdout",
     "output_type": "stream",
     "text": [
      "52/52 [==============================] - 2s 39ms/step - loss: 9134.9580\n",
      "Epoch 82/100\n",
      " 4/52 [=>............................] - ETA: 1s - loss: 9129.4775"
     ]
    },
    {
     "name": "stderr",
     "output_type": "stream",
     "text": [
      "2023-12-12 16:06:27.215840: I tensorflow/core/framework/local_rendezvous.cc:425] Local rendezvous send item cancelled. Key hash: 8150286900782272699\n",
      "2023-12-12 16:06:27.215869: I tensorflow/core/framework/local_rendezvous.cc:421] Local rendezvous recv item cancelled. Key hash: 17389022229631790751\n",
      "2023-12-12 16:06:27.215880: I tensorflow/core/framework/local_rendezvous.cc:421] Local rendezvous recv item cancelled. Key hash: 17404393642466714328\n",
      "2023-12-12 16:06:27.215888: I tensorflow/core/framework/local_rendezvous.cc:425] Local rendezvous send item cancelled. Key hash: 7824742045786975584\n"
     ]
    },
    {
     "name": "stdout",
     "output_type": "stream",
     "text": [
      "52/52 [==============================] - 2s 39ms/step - loss: 9042.4766\n",
      "Epoch 83/100\n",
      " 4/52 [=>............................] - ETA: 1s - loss: 9037.0879"
     ]
    },
    {
     "name": "stderr",
     "output_type": "stream",
     "text": [
      "2023-12-12 16:06:29.255314: I tensorflow/core/framework/local_rendezvous.cc:421] Local rendezvous recv item cancelled. Key hash: 17389022229631790751\n",
      "2023-12-12 16:06:29.255350: I tensorflow/core/framework/local_rendezvous.cc:421] Local rendezvous recv item cancelled. Key hash: 17404393642466714328\n"
     ]
    },
    {
     "name": "stdout",
     "output_type": "stream",
     "text": [
      "52/52 [==============================] - 2s 39ms/step - loss: 8951.5459\n",
      "Epoch 84/100\n",
      " 4/52 [=>............................] - ETA: 1s - loss: 8946.2471"
     ]
    },
    {
     "name": "stderr",
     "output_type": "stream",
     "text": [
      "2023-12-12 16:06:31.292510: I tensorflow/core/framework/local_rendezvous.cc:425] Local rendezvous send item cancelled. Key hash: 8150286900782272699\n",
      "2023-12-12 16:06:31.292537: I tensorflow/core/framework/local_rendezvous.cc:421] Local rendezvous recv item cancelled. Key hash: 17389022229631790751\n",
      "2023-12-12 16:06:31.292548: I tensorflow/core/framework/local_rendezvous.cc:421] Local rendezvous recv item cancelled. Key hash: 17404393642466714328\n",
      "2023-12-12 16:06:31.292555: I tensorflow/core/framework/local_rendezvous.cc:425] Local rendezvous send item cancelled. Key hash: 7824742045786975584\n"
     ]
    },
    {
     "name": "stdout",
     "output_type": "stream",
     "text": [
      "52/52 [==============================] - 2s 39ms/step - loss: 8862.0947\n",
      "Epoch 85/100\n",
      " 4/52 [=>............................] - ETA: 1s - loss: 8856.8838"
     ]
    },
    {
     "name": "stderr",
     "output_type": "stream",
     "text": [
      "2023-12-12 16:06:33.335642: I tensorflow/core/framework/local_rendezvous.cc:421] Local rendezvous recv item cancelled. Key hash: 17389022229631790751\n",
      "2023-12-12 16:06:33.335669: I tensorflow/core/framework/local_rendezvous.cc:421] Local rendezvous recv item cancelled. Key hash: 17404393642466714328\n"
     ]
    },
    {
     "name": "stdout",
     "output_type": "stream",
     "text": [
      "52/52 [==============================] - 2s 39ms/step - loss: 8774.1348\n",
      "Epoch 86/100\n",
      " 4/52 [=>............................] - ETA: 1s - loss: 8769.0166"
     ]
    },
    {
     "name": "stderr",
     "output_type": "stream",
     "text": [
      "2023-12-12 16:06:35.381460: I tensorflow/core/framework/local_rendezvous.cc:421] Local rendezvous recv item cancelled. Key hash: 17389022229631790751\n",
      "2023-12-12 16:06:35.381488: I tensorflow/core/framework/local_rendezvous.cc:421] Local rendezvous recv item cancelled. Key hash: 17404393642466714328\n"
     ]
    },
    {
     "name": "stdout",
     "output_type": "stream",
     "text": [
      "52/52 [==============================] - 2s 39ms/step - loss: 8687.6523\n",
      "Epoch 87/100\n",
      " 4/52 [=>............................] - ETA: 1s - loss: 8682.6123"
     ]
    },
    {
     "name": "stderr",
     "output_type": "stream",
     "text": [
      "2023-12-12 16:06:37.416419: I tensorflow/core/framework/local_rendezvous.cc:425] Local rendezvous send item cancelled. Key hash: 8150286900782272699\n",
      "2023-12-12 16:06:37.416446: I tensorflow/core/framework/local_rendezvous.cc:421] Local rendezvous recv item cancelled. Key hash: 17389022229631790751\n",
      "2023-12-12 16:06:37.416457: I tensorflow/core/framework/local_rendezvous.cc:421] Local rendezvous recv item cancelled. Key hash: 17404393642466714328\n",
      "2023-12-12 16:06:37.416464: I tensorflow/core/framework/local_rendezvous.cc:425] Local rendezvous send item cancelled. Key hash: 7824742045786975584\n"
     ]
    },
    {
     "name": "stdout",
     "output_type": "stream",
     "text": [
      "52/52 [==============================] - 2s 39ms/step - loss: 8602.5850\n",
      "Epoch 88/100\n",
      " 4/52 [=>............................] - ETA: 1s - loss: 8597.6270"
     ]
    },
    {
     "name": "stderr",
     "output_type": "stream",
     "text": [
      "2023-12-12 16:06:39.460639: I tensorflow/core/framework/local_rendezvous.cc:421] Local rendezvous recv item cancelled. Key hash: 17389022229631790751\n",
      "2023-12-12 16:06:39.460668: I tensorflow/core/framework/local_rendezvous.cc:421] Local rendezvous recv item cancelled. Key hash: 17404393642466714328\n"
     ]
    },
    {
     "name": "stdout",
     "output_type": "stream",
     "text": [
      "52/52 [==============================] - 2s 39ms/step - loss: 8518.9287\n",
      "Epoch 89/100\n",
      " 4/52 [=>............................] - ETA: 1s - loss: 8514.0527"
     ]
    },
    {
     "name": "stderr",
     "output_type": "stream",
     "text": [
      "2023-12-12 16:06:41.500404: I tensorflow/core/framework/local_rendezvous.cc:421] Local rendezvous recv item cancelled. Key hash: 17389022229631790751\n",
      "2023-12-12 16:06:41.500432: I tensorflow/core/framework/local_rendezvous.cc:421] Local rendezvous recv item cancelled. Key hash: 17404393642466714328\n"
     ]
    },
    {
     "name": "stdout",
     "output_type": "stream",
     "text": [
      "52/52 [==============================] - 2s 39ms/step - loss: 8436.6709\n",
      "Epoch 90/100\n",
      " 4/52 [=>............................] - ETA: 1s - loss: 8431.8818"
     ]
    },
    {
     "name": "stderr",
     "output_type": "stream",
     "text": [
      "2023-12-12 16:06:43.551304: I tensorflow/core/framework/local_rendezvous.cc:421] Local rendezvous recv item cancelled. Key hash: 17389022229631790751\n",
      "2023-12-12 16:06:43.551350: I tensorflow/core/framework/local_rendezvous.cc:421] Local rendezvous recv item cancelled. Key hash: 17404393642466714328\n"
     ]
    },
    {
     "name": "stdout",
     "output_type": "stream",
     "text": [
      "52/52 [==============================] - 2s 39ms/step - loss: 8355.7998\n",
      "Epoch 91/100\n",
      " 4/52 [=>............................] - ETA: 1s - loss: 8351.0840"
     ]
    },
    {
     "name": "stderr",
     "output_type": "stream",
     "text": [
      "2023-12-12 16:06:45.592513: I tensorflow/core/framework/local_rendezvous.cc:421] Local rendezvous recv item cancelled. Key hash: 17389022229631790751\n",
      "2023-12-12 16:06:45.592547: I tensorflow/core/framework/local_rendezvous.cc:421] Local rendezvous recv item cancelled. Key hash: 17404393642466714328\n"
     ]
    },
    {
     "name": "stdout",
     "output_type": "stream",
     "text": [
      "52/52 [==============================] - 2s 39ms/step - loss: 8276.2676\n",
      "Epoch 92/100\n",
      " 4/52 [=>............................] - ETA: 1s - loss: 8271.6318"
     ]
    },
    {
     "name": "stderr",
     "output_type": "stream",
     "text": [
      "2023-12-12 16:06:47.632998: I tensorflow/core/framework/local_rendezvous.cc:421] Local rendezvous recv item cancelled. Key hash: 17389022229631790751\n",
      "2023-12-12 16:06:47.633027: I tensorflow/core/framework/local_rendezvous.cc:421] Local rendezvous recv item cancelled. Key hash: 17404393642466714328\n"
     ]
    },
    {
     "name": "stdout",
     "output_type": "stream",
     "text": [
      "52/52 [==============================] - 2s 39ms/step - loss: 8198.0508\n",
      "Epoch 93/100\n",
      " 4/52 [=>............................] - ETA: 1s - loss: 8193.4941"
     ]
    },
    {
     "name": "stderr",
     "output_type": "stream",
     "text": [
      "2023-12-12 16:06:49.683489: I tensorflow/core/framework/local_rendezvous.cc:421] Local rendezvous recv item cancelled. Key hash: 17389022229631790751\n",
      "2023-12-12 16:06:49.683517: I tensorflow/core/framework/local_rendezvous.cc:421] Local rendezvous recv item cancelled. Key hash: 17404393642466714328\n"
     ]
    },
    {
     "name": "stdout",
     "output_type": "stream",
     "text": [
      "52/52 [==============================] - 2s 39ms/step - loss: 8121.1387\n",
      "Epoch 94/100\n",
      " 4/52 [=>............................] - ETA: 1s - loss: 8116.6582"
     ]
    },
    {
     "name": "stderr",
     "output_type": "stream",
     "text": [
      "2023-12-12 16:06:51.722842: I tensorflow/core/framework/local_rendezvous.cc:421] Local rendezvous recv item cancelled. Key hash: 17389022229631790751\n",
      "2023-12-12 16:06:51.722880: I tensorflow/core/framework/local_rendezvous.cc:421] Local rendezvous recv item cancelled. Key hash: 17404393642466714328\n"
     ]
    },
    {
     "name": "stdout",
     "output_type": "stream",
     "text": [
      "52/52 [==============================] - 2s 39ms/step - loss: 8045.5059\n",
      "Epoch 95/100\n",
      " 4/52 [=>............................] - ETA: 1s - loss: 8041.0957"
     ]
    },
    {
     "name": "stderr",
     "output_type": "stream",
     "text": [
      "2023-12-12 16:06:53.768915: I tensorflow/core/framework/local_rendezvous.cc:421] Local rendezvous recv item cancelled. Key hash: 17389022229631790751\n",
      "2023-12-12 16:06:53.768946: I tensorflow/core/framework/local_rendezvous.cc:421] Local rendezvous recv item cancelled. Key hash: 17404393642466714328\n"
     ]
    },
    {
     "name": "stdout",
     "output_type": "stream",
     "text": [
      "52/52 [==============================] - 2s 38ms/step - loss: 7971.1025\n",
      "Epoch 96/100\n",
      " 4/52 [=>............................] - ETA: 1s - loss: 7966.7593"
     ]
    },
    {
     "name": "stderr",
     "output_type": "stream",
     "text": [
      "2023-12-12 16:06:55.802782: I tensorflow/core/framework/local_rendezvous.cc:425] Local rendezvous send item cancelled. Key hash: 8150286900782272699\n",
      "2023-12-12 16:06:55.802810: I tensorflow/core/framework/local_rendezvous.cc:421] Local rendezvous recv item cancelled. Key hash: 17389022229631790751\n",
      "2023-12-12 16:06:55.802818: I tensorflow/core/framework/local_rendezvous.cc:425] Local rendezvous send item cancelled. Key hash: 7111154346305113817\n",
      "2023-12-12 16:06:55.802828: I tensorflow/core/framework/local_rendezvous.cc:421] Local rendezvous recv item cancelled. Key hash: 17404393642466714328\n",
      "2023-12-12 16:06:55.802835: I tensorflow/core/framework/local_rendezvous.cc:425] Local rendezvous send item cancelled. Key hash: 7824742045786975584\n"
     ]
    },
    {
     "name": "stdout",
     "output_type": "stream",
     "text": [
      "52/52 [==============================] - 2s 39ms/step - loss: 7897.9624\n",
      "Epoch 97/100\n",
      " 4/52 [=>............................] - ETA: 1s - loss: 7893.6919"
     ]
    },
    {
     "name": "stderr",
     "output_type": "stream",
     "text": [
      "2023-12-12 16:06:57.842830: I tensorflow/core/framework/local_rendezvous.cc:421] Local rendezvous recv item cancelled. Key hash: 17389022229631790751\n",
      "2023-12-12 16:06:57.842858: I tensorflow/core/framework/local_rendezvous.cc:421] Local rendezvous recv item cancelled. Key hash: 17404393642466714328\n"
     ]
    },
    {
     "name": "stdout",
     "output_type": "stream",
     "text": [
      "52/52 [==============================] - 2s 39ms/step - loss: 7825.9956\n",
      "Epoch 98/100\n",
      " 4/52 [=>............................] - ETA: 1s - loss: 7821.7974"
     ]
    },
    {
     "name": "stderr",
     "output_type": "stream",
     "text": [
      "2023-12-12 16:06:59.882104: I tensorflow/core/framework/local_rendezvous.cc:421] Local rendezvous recv item cancelled. Key hash: 17389022229631790751\n",
      "2023-12-12 16:06:59.882134: I tensorflow/core/framework/local_rendezvous.cc:421] Local rendezvous recv item cancelled. Key hash: 17404393642466714328\n"
     ]
    },
    {
     "name": "stdout",
     "output_type": "stream",
     "text": [
      "52/52 [==============================] - 2s 39ms/step - loss: 7755.2163\n",
      "Epoch 99/100\n",
      " 4/52 [=>............................] - ETA: 1s - loss: 7751.0859"
     ]
    },
    {
     "name": "stderr",
     "output_type": "stream",
     "text": [
      "2023-12-12 16:07:01.918800: I tensorflow/core/framework/local_rendezvous.cc:421] Local rendezvous recv item cancelled. Key hash: 17389022229631790751\n",
      "2023-12-12 16:07:01.918846: I tensorflow/core/framework/local_rendezvous.cc:421] Local rendezvous recv item cancelled. Key hash: 17404393642466714328\n"
     ]
    },
    {
     "name": "stdout",
     "output_type": "stream",
     "text": [
      "52/52 [==============================] - 2s 39ms/step - loss: 7685.5771\n",
      "Epoch 100/100\n",
      " 4/52 [=>............................] - ETA: 1s - loss: 7681.5161"
     ]
    },
    {
     "name": "stderr",
     "output_type": "stream",
     "text": [
      "2023-12-12 16:07:03.955608: I tensorflow/core/framework/local_rendezvous.cc:421] Local rendezvous recv item cancelled. Key hash: 17389022229631790751\n",
      "2023-12-12 16:07:03.955639: I tensorflow/core/framework/local_rendezvous.cc:421] Local rendezvous recv item cancelled. Key hash: 17404393642466714328\n"
     ]
    },
    {
     "name": "stdout",
     "output_type": "stream",
     "text": [
      "52/52 [==============================] - 2s 39ms/step - loss: 7617.0518\n"
     ]
    },
    {
     "name": "stderr",
     "output_type": "stream",
     "text": [
      "2023-12-12 16:07:05.994181: I tensorflow/core/framework/local_rendezvous.cc:421] Local rendezvous recv item cancelled. Key hash: 17389022229631790751\n",
      "2023-12-12 16:07:05.994209: I tensorflow/core/framework/local_rendezvous.cc:421] Local rendezvous recv item cancelled. Key hash: 17404393642466714328\n"
     ]
    },
    {
     "data": {
      "text/plain": [
       "<tensorflow.python.keras.callbacks.History at 0x7fdf625595d0>"
      ]
     },
     "execution_count": 14,
     "metadata": {},
     "output_type": "execute_result"
    }
   ],
   "source": [
    "import tensorflow as tf\n",
    "# tf.logging.set_verbosity(tf.logging.ERROR)\n",
    "\n",
    "\n",
    "# Fit the model\n",
    "model.fit(X_train,\n",
    "          batch_size=int(X_train.shape[0] / 50),\n",
    "          epochs=100,  # Number of training epochs\n",
    "          verbose=True  # Enable stdout messages\n",
    "          )"
   ]
  },
  {
   "cell_type": "code",
   "execution_count": null,
   "id": "97511363-f734-4c67-9728-848b8444d677",
   "metadata": {},
   "outputs": [],
   "source": [
    "list(df.itertuples(index=False, name=None))"
   ]
  },
  {
   "cell_type": "code",
   "execution_count": 17,
   "id": "ea206048-54f4-4168-8863-aa0b3a30c30a",
   "metadata": {},
   "outputs": [],
   "source": [
    "from ampligraph.utils import save_model, restore_model\n",
    "\n",
    "save_model(model, model_name_path='goemb.pkl')"
   ]
  },
  {
   "cell_type": "code",
   "execution_count": 18,
   "id": "95757c7c-bcae-4394-9276-c00f102bfcd2",
   "metadata": {},
   "outputs": [
    {
     "name": "stdout",
     "output_type": "stream",
     "text": [
      "Saved model does not include a db file. Skipping.\n"
     ]
    }
   ],
   "source": [
    "model = restore_model(model_name_path='goemb.pkl')"
   ]
  },
  {
   "cell_type": "code",
   "execution_count": 19,
   "id": "420bb197-528c-4f44-89dd-487b8d8d4a9d",
   "metadata": {},
   "outputs": [
    {
     "data": {
      "text/plain": [
       "<ampligraph.latent_features.models.ScoringBasedEmbeddingModel.ScoringBasedEmbeddingModel at 0x7fdf5a1a00a0>"
      ]
     },
     "execution_count": 19,
     "metadata": {},
     "output_type": "execute_result"
    }
   ],
   "source": [
    "model"
   ]
  },
  {
   "cell_type": "code",
   "execution_count": 20,
   "id": "db080b6e-bac9-472f-a0bf-72a22034003f",
   "metadata": {},
   "outputs": [
    {
     "data": {
      "text/plain": [
       "array([['39018', 'isLoser', 'Nishida_Terumi'],\n",
       "       ['75385', 'isWinner', 'Fan_Yin'],\n",
       "       ['68344', 'isWinner', 'Lin_Junyan'],\n",
       "       ...,\n",
       "       ['75643', 'isWinner', 'Kang_Hun'],\n",
       "       ['7637', 'isLoser', 'Rui_Naiwei'],\n",
       "       ['90344', 'isWinner', 'Kim_Yeonghwan']], dtype='<U49')"
      ]
     },
     "execution_count": 20,
     "metadata": {},
     "output_type": "execute_result"
    }
   ],
   "source": [
    "X_train"
   ]
  },
  {
   "cell_type": "code",
   "execution_count": 21,
   "id": "42f7c8a6-4300-4851-8fcf-f57560cfba7c",
   "metadata": {},
   "outputs": [
    {
     "data": {
      "text/plain": [
       "array([['19362', 'isLoser', 'Dang_Yifei'],\n",
       "       ['90982', 'isWinner', 'Lin_Lixiang'],\n",
       "       ['40723', 'isLoser', 'Yi_Lingtao'],\n",
       "       ...,\n",
       "       ['109813', 'isLoser', 'Li_Weiqing'],\n",
       "       ['91006', 'isWinner', 'Lu_Yuhua'],\n",
       "       ['8th_Korean_LG_Cup', 'isChampion', 'Lee_Changho']], dtype='<U49')"
      ]
     },
     "execution_count": 21,
     "metadata": {},
     "output_type": "execute_result"
    }
   ],
   "source": [
    "X_valid"
   ]
  },
  {
   "cell_type": "code",
   "execution_count": 22,
   "id": "4baffd24-b17f-447f-81bb-54004c8a3fc2",
   "metadata": {},
   "outputs": [],
   "source": [
    "filter_triples = {'test': np.concatenate((X_train, X_valid))}"
   ]
  },
  {
   "cell_type": "code",
   "execution_count": 23,
   "id": "28bbd5e2-2331-4df5-8d71-981b4ef148c9",
   "metadata": {},
   "outputs": [
    {
     "name": "stdout",
     "output_type": "stream",
     "text": [
      "314/314 [==============================] - 89s 283ms/step\n"
     ]
    },
    {
     "name": "stderr",
     "output_type": "stream",
     "text": [
      "2023-12-12 16:14:33.808639: I tensorflow/core/framework/local_rendezvous.cc:421] Local rendezvous recv item cancelled. Key hash: 363017895887990967\n",
      "2023-12-12 16:14:33.808669: I tensorflow/core/framework/local_rendezvous.cc:421] Local rendezvous recv item cancelled. Key hash: 5159017537505981313\n",
      "2023-12-12 16:14:33.808684: I tensorflow/core/framework/local_rendezvous.cc:421] Local rendezvous recv item cancelled. Key hash: 15734846863950841227\n",
      "2023-12-12 16:14:33.808695: I tensorflow/core/framework/local_rendezvous.cc:421] Local rendezvous recv item cancelled. Key hash: 4823147363026306933\n",
      "2023-12-12 16:14:33.808705: I tensorflow/core/framework/local_rendezvous.cc:421] Local rendezvous recv item cancelled. Key hash: 2752503148928082198\n",
      "2023-12-12 16:14:33.808734: I tensorflow/core/framework/local_rendezvous.cc:421] Local rendezvous recv item cancelled. Key hash: 8418342793312690848\n",
      "2023-12-12 16:14:33.808746: I tensorflow/core/framework/local_rendezvous.cc:421] Local rendezvous recv item cancelled. Key hash: 5713363798032749094\n",
      "2023-12-12 16:14:33.808757: I tensorflow/core/framework/local_rendezvous.cc:421] Local rendezvous recv item cancelled. Key hash: 15188022843725276170\n",
      "2023-12-12 16:14:33.808768: I tensorflow/core/framework/local_rendezvous.cc:425] Local rendezvous send item cancelled. Key hash: 8278654637419840826\n",
      "2023-12-12 16:14:33.808779: I tensorflow/core/framework/local_rendezvous.cc:421] Local rendezvous recv item cancelled. Key hash: 6983256960545474170\n",
      "2023-12-12 16:14:33.808789: I tensorflow/core/framework/local_rendezvous.cc:421] Local rendezvous recv item cancelled. Key hash: 3873601023598192388\n",
      "2023-12-12 16:14:33.808801: I tensorflow/core/framework/local_rendezvous.cc:421] Local rendezvous recv item cancelled. Key hash: 10093922754180997478\n",
      "2023-12-12 16:14:33.808813: I tensorflow/core/framework/local_rendezvous.cc:421] Local rendezvous recv item cancelled. Key hash: 13091746156277877828\n",
      "2023-12-12 16:14:33.808824: I tensorflow/core/framework/local_rendezvous.cc:421] Local rendezvous recv item cancelled. Key hash: 15425498433615359482\n",
      "2023-12-12 16:14:33.808836: I tensorflow/core/framework/local_rendezvous.cc:421] Local rendezvous recv item cancelled. Key hash: 16165662639253859768\n",
      "2023-12-12 16:14:33.808848: I tensorflow/core/framework/local_rendezvous.cc:421] Local rendezvous recv item cancelled. Key hash: 8187462388921907291\n",
      "2023-12-12 16:14:33.808858: I tensorflow/core/framework/local_rendezvous.cc:425] Local rendezvous send item cancelled. Key hash: 9107891299709660999\n",
      "2023-12-12 16:14:33.808872: I tensorflow/core/framework/local_rendezvous.cc:421] Local rendezvous recv item cancelled. Key hash: 17650839551073581503\n",
      "2023-12-12 16:14:33.808888: I tensorflow/core/framework/local_rendezvous.cc:421] Local rendezvous recv item cancelled. Key hash: 12744186551798868485\n",
      "2023-12-12 16:14:33.808896: I tensorflow/core/framework/local_rendezvous.cc:421] Local rendezvous recv item cancelled. Key hash: 15282357719368555129\n",
      "2023-12-12 16:14:33.808904: I tensorflow/core/framework/local_rendezvous.cc:421] Local rendezvous recv item cancelled. Key hash: 15304028075712896777\n"
     ]
    }
   ],
   "source": [
    "ranks = model.evaluate(X_valid,\n",
    "                      #  model=model,\n",
    "                       use_filter=filter_triples,\n",
    "                      #  use_default_protocol=True,\n",
    "                       verbose=True)"
   ]
  },
  {
   "cell_type": "code",
   "execution_count": 24,
   "id": "c29b7419-3ad3-4cc4-b593-8fc451defd3f",
   "metadata": {},
   "outputs": [
    {
     "name": "stdout",
     "output_type": "stream",
     "text": [
      "MRR: 0.03\n",
      "MR: 41115.73\n",
      "Hits@10 0.04585\n",
      "Hits@3 0.0275\n",
      "Hits@1 0.01785\n"
     ]
    }
   ],
   "source": [
    "from ampligraph.evaluation import mr_score, mrr_score, hits_at_n_score\n",
    "\n",
    "mr = mr_score(ranks)\n",
    "mrr = mrr_score(ranks)\n",
    "\n",
    "print(\"MRR: %.2f\" % (mrr))\n",
    "print(\"MR: %.2f\" % (mr))\n",
    "\n",
    "hits_10 = hits_at_n_score(ranks, n=10)\n",
    "print(\"Hits@10\", (hits_10))\n",
    "hits_3 = hits_at_n_score(ranks, n=3)\n",
    "print(\"Hits@3\", hits_3)\n",
    "hits_1 = hits_at_n_score(ranks, n=1)\n",
    "print(\"Hits@1\", hits_1)"
   ]
  },
  {
   "cell_type": "markdown",
   "id": "81b729e5-e204-4cb9-a801-9f2411d41570",
   "metadata": {},
   "source": [
    "# Links prediction"
   ]
  },
  {
   "cell_type": "code",
   "execution_count": 25,
   "id": "3cd0a015-20b4-481d-aa17-15350dcd2c41",
   "metadata": {},
   "outputs": [
    {
     "name": "stdout",
     "output_type": "stream",
     "text": [
      "       subject predicate          object\n",
      "133751   88506   isLoser     Yun_Junsang\n",
      "135774   88506  isWinner  Lee_Jihyun_(m)\n"
     ]
    }
   ],
   "source": [
    "df = pd.DataFrame(X_train,columns = ['subject','predicate','object'])\n",
    "matchSubject = \"88506\"\n",
    "print(df[df.subject==matchSubject])"
   ]
  },
  {
   "cell_type": "code",
   "execution_count": 26,
   "id": "904325d4-b845-4bb8-83cb-dd2a7759b652",
   "metadata": {},
   "outputs": [
    {
     "data": {
      "text/plain": [
       "0      Nishida_Terumi\n",
       "1             Fan_Yin\n",
       "2          Lin_Junyan\n",
       "3       Park_Yeonghun\n",
       "4         Cho_Hunhyun\n",
       "5       Huang_Yizhong\n",
       "6     Nakamura_Shinya\n",
       "7       Onishi_Ryuhei\n",
       "8    Shibano_Toramaru\n",
       "9       Fang_Tianfeng\n",
       "Name: object, dtype: object"
      ]
     },
     "execution_count": 26,
     "metadata": {},
     "output_type": "execute_result"
    }
   ],
   "source": [
    "df['object'].iloc[:10]"
   ]
  },
  {
   "cell_type": "code",
   "execution_count": 30,
   "id": "c6f98287-408e-4f8c-b137-260e1433a1e2",
   "metadata": {},
   "outputs": [],
   "source": [
    "dfFiltered = np.array(\n",
    "    df[\n",
    "        (df.subject != matchSubject)\n",
    "        | ((df.subject == matchSubject) & ~df.predicate.isin(['isLoser', 'isWinner']))\n",
    "    ]\n",
    ")"
   ]
  },
  {
   "cell_type": "code",
   "execution_count": 31,
   "id": "a467ded3-57be-465e-ba89-6c707d174e46",
   "metadata": {},
   "outputs": [],
   "source": [
    "statements = np.array([\n",
    "    [f'{matchSubject}', 'isWinner', 'Lee_Jihyun_(m)'],\n",
    "    [f'{matchSubject}', 'isWinner', 'Yun_Junsang'],\n",
    "    [f'{matchSubject}', 'isLoser', 'Lee_Jihyun_(m)'],\n",
    "    [f'{matchSubject}', 'isLoser', 'Yun_Junsang'],\n",
    "    [f'{matchSubject}', 'isWinner', 'Nishida_Terumi'],\n",
    "    [f'{matchSubject}', 'isWinner', 'Lin_Junyan'],\n",
    "])"
   ]
  },
  {
   "cell_type": "code",
   "execution_count": 32,
   "id": "36bef8f9-42b7-4df5-9c1e-66436641d9cc",
   "metadata": {},
   "outputs": [
    {
     "data": {
      "text/plain": [
       "{'test': array([['65298', 'isLoser', 'So_Yokoku'],\n",
       "        ['80941', 'isLoser', 'Uchida_Shuhei'],\n",
       "        ['86400', 'isWinner', 'Zheng_Xu'],\n",
       "        ...,\n",
       "        ['49758', 'isLoser', 'Kim_Hyemin'],\n",
       "        ['1178', 'isLoser', 'Yoda_Norimoto'],\n",
       "        ['25509', 'playedInTournament', '15th_LG_Cup']], dtype='<U49')}"
      ]
     },
     "execution_count": 32,
     "metadata": {},
     "output_type": "execute_result"
    }
   ],
   "source": [
    "statements_filter = {'test': np.array(list({tuple(i) for i in np.vstack((dfFiltered, statements))}))}\n",
    "statements_filter"
   ]
  },
  {
   "cell_type": "code",
   "execution_count": 33,
   "id": "a5ef6ad5-40da-4555-a9ac-62cd5a7e169a",
   "metadata": {},
   "outputs": [
    {
     "name": "stdout",
     "output_type": "stream",
     "text": [
      "6982/6982 [==============================] - 1927s 276ms/step\n"
     ]
    },
    {
     "name": "stderr",
     "output_type": "stream",
     "text": [
      "2023-12-12 16:59:22.397518: I tensorflow/core/framework/local_rendezvous.cc:421] Local rendezvous recv item cancelled. Key hash: 6727112693315944653\n",
      "2023-12-12 16:59:22.397561: I tensorflow/core/framework/local_rendezvous.cc:421] Local rendezvous recv item cancelled. Key hash: 15853317699967754649\n",
      "2023-12-12 16:59:22.397574: I tensorflow/core/framework/local_rendezvous.cc:421] Local rendezvous recv item cancelled. Key hash: 14661881145944039943\n",
      "2023-12-12 16:59:22.397585: I tensorflow/core/framework/local_rendezvous.cc:421] Local rendezvous recv item cancelled. Key hash: 5558320293950874615\n",
      "2023-12-12 16:59:22.397595: I tensorflow/core/framework/local_rendezvous.cc:421] Local rendezvous recv item cancelled. Key hash: 10480725463224738745\n",
      "2023-12-12 16:59:22.397605: I tensorflow/core/framework/local_rendezvous.cc:421] Local rendezvous recv item cancelled. Key hash: 4197363760740976369\n",
      "2023-12-12 16:59:22.397615: I tensorflow/core/framework/local_rendezvous.cc:421] Local rendezvous recv item cancelled. Key hash: 9700363827549055377\n",
      "2023-12-12 16:59:22.397625: I tensorflow/core/framework/local_rendezvous.cc:421] Local rendezvous recv item cancelled. Key hash: 13665324918700190435\n",
      "2023-12-12 16:59:22.397635: I tensorflow/core/framework/local_rendezvous.cc:421] Local rendezvous recv item cancelled. Key hash: 9258600196829146427\n",
      "2023-12-12 16:59:22.397645: I tensorflow/core/framework/local_rendezvous.cc:421] Local rendezvous recv item cancelled. Key hash: 18149843309098766561\n",
      "2023-12-12 16:59:22.397655: I tensorflow/core/framework/local_rendezvous.cc:421] Local rendezvous recv item cancelled. Key hash: 15182472306428768543\n",
      "2023-12-12 16:59:22.397665: I tensorflow/core/framework/local_rendezvous.cc:421] Local rendezvous recv item cancelled. Key hash: 5159017537505981313\n",
      "2023-12-12 16:59:22.397675: I tensorflow/core/framework/local_rendezvous.cc:421] Local rendezvous recv item cancelled. Key hash: 4079308876376298625\n",
      "2023-12-12 16:59:22.397684: I tensorflow/core/framework/local_rendezvous.cc:421] Local rendezvous recv item cancelled. Key hash: 8861240857949254319\n",
      "2023-12-12 16:59:22.397694: I tensorflow/core/framework/local_rendezvous.cc:421] Local rendezvous recv item cancelled. Key hash: 9709580043336251083\n",
      "2023-12-12 16:59:22.397704: I tensorflow/core/framework/local_rendezvous.cc:421] Local rendezvous recv item cancelled. Key hash: 9143213981197374011\n",
      "2023-12-12 16:59:22.397713: I tensorflow/core/framework/local_rendezvous.cc:421] Local rendezvous recv item cancelled. Key hash: 17650839551073581503\n",
      "2023-12-12 16:59:22.397724: I tensorflow/core/framework/local_rendezvous.cc:421] Local rendezvous recv item cancelled. Key hash: 10471688926147132145\n",
      "2023-12-12 16:59:22.397733: I tensorflow/core/framework/local_rendezvous.cc:421] Local rendezvous recv item cancelled. Key hash: 6704885246705048495\n",
      "2023-12-12 16:59:22.397748: I tensorflow/core/framework/local_rendezvous.cc:421] Local rendezvous recv item cancelled. Key hash: 4784080642077729114\n",
      "2023-12-12 16:59:22.397757: I tensorflow/core/framework/local_rendezvous.cc:421] Local rendezvous recv item cancelled. Key hash: 6106445932653076784\n",
      "2023-12-12 16:59:22.397767: I tensorflow/core/framework/local_rendezvous.cc:421] Local rendezvous recv item cancelled. Key hash: 13016237595145847468\n",
      "2023-12-12 16:59:22.397776: I tensorflow/core/framework/local_rendezvous.cc:421] Local rendezvous recv item cancelled. Key hash: 11444765981711327536\n",
      "2023-12-12 16:59:22.397786: I tensorflow/core/framework/local_rendezvous.cc:421] Local rendezvous recv item cancelled. Key hash: 2752503148928082198\n",
      "2023-12-12 16:59:22.397795: I tensorflow/core/framework/local_rendezvous.cc:421] Local rendezvous recv item cancelled. Key hash: 11794683414340397416\n",
      "2023-12-12 16:59:22.397804: I tensorflow/core/framework/local_rendezvous.cc:421] Local rendezvous recv item cancelled. Key hash: 13091746156277877828\n",
      "2023-12-12 16:59:22.397813: I tensorflow/core/framework/local_rendezvous.cc:421] Local rendezvous recv item cancelled. Key hash: 8583335734473649312\n",
      "2023-12-12 16:59:22.397823: I tensorflow/core/framework/local_rendezvous.cc:421] Local rendezvous recv item cancelled. Key hash: 13266038865265422374\n",
      "2023-12-12 16:59:22.397832: I tensorflow/core/framework/local_rendezvous.cc:421] Local rendezvous recv item cancelled. Key hash: 10343103395569480378\n",
      "2023-12-12 16:59:22.397843: I tensorflow/core/framework/local_rendezvous.cc:421] Local rendezvous recv item cancelled. Key hash: 12699647666192979122\n",
      "2023-12-12 16:59:22.397853: I tensorflow/core/framework/local_rendezvous.cc:421] Local rendezvous recv item cancelled. Key hash: 14217412330197972962\n",
      "2023-12-12 16:59:22.397879: I tensorflow/core/framework/local_rendezvous.cc:421] Local rendezvous recv item cancelled. Key hash: 14167528108622388970\n"
     ]
    }
   ],
   "source": [
    "ranks_statements = model.evaluate(dfFiltered,\n",
    "                      #  model=model,\n",
    "                        use_filter=statements_filter,\n",
    "                      #  use_default_protocol=True,\n",
    "                       corrupt_side = 's+o',\n",
    "                        verbose=True)"
   ]
  },
  {
   "cell_type": "code",
   "execution_count": 35,
   "id": "c83ab124-9565-4673-bc52-1ca18ac4af69",
   "metadata": {},
   "outputs": [
    {
     "name": "stdout",
     "output_type": "stream",
     "text": [
      "Requirement already satisfied: joblib in /home/qnbhd/anaconda3/envs/env-t2s/lib/python3.10/site-packages (1.3.2)\n"
     ]
    }
   ],
   "source": [
    "!pip install joblib"
   ]
  },
  {
   "cell_type": "code",
   "execution_count": 36,
   "id": "70782ddd-56dc-4995-b366-fb821cb1b1eb",
   "metadata": {},
   "outputs": [
    {
     "data": {
      "text/plain": [
       "['ranks_statements.joblib']"
      ]
     },
     "execution_count": 36,
     "metadata": {},
     "output_type": "execute_result"
    }
   ],
   "source": [
    "import joblib\n",
    "\n",
    "joblib.dump(ranks_statements, \"ranks_statements.joblib\")"
   ]
  },
  {
   "cell_type": "code",
   "execution_count": 34,
   "id": "78be41e0-35a6-4121-9957-51797e717634",
   "metadata": {},
   "outputs": [
    {
     "name": "stderr",
     "output_type": "stream",
     "text": [
      "2023-12-12 17:18:48.102539: I tensorflow/core/framework/local_rendezvous.cc:421] Local rendezvous recv item cancelled. Key hash: 5339189334493540054\n"
     ]
    },
    {
     "data": {
      "text/plain": [
       "array([ 6.107538  ,  0.38355687,  0.8535739 ,  6.422471  ,  0.04226655,\n",
       "       -0.7592815 ], dtype=float32)"
      ]
     },
     "execution_count": 34,
     "metadata": {},
     "output_type": "execute_result"
    }
   ],
   "source": [
    "scores = model.predict(statements)\n",
    "scores"
   ]
  },
  {
   "cell_type": "code",
   "execution_count": 38,
   "id": "33ab5975-0331-4a5e-9543-5ba6e446276a",
   "metadata": {},
   "outputs": [
    {
     "data": {
      "text/html": [
       "<div>\n",
       "<style scoped>\n",
       "    .dataframe tbody tr th:only-of-type {\n",
       "        vertical-align: middle;\n",
       "    }\n",
       "\n",
       "    .dataframe tbody tr th {\n",
       "        vertical-align: top;\n",
       "    }\n",
       "\n",
       "    .dataframe thead th {\n",
       "        text-align: right;\n",
       "    }\n",
       "</style>\n",
       "<table border=\"1\" class=\"dataframe\">\n",
       "  <thead>\n",
       "    <tr style=\"text-align: right;\">\n",
       "      <th></th>\n",
       "      <th>statement</th>\n",
       "      <th>rank</th>\n",
       "      <th>score</th>\n",
       "      <th>prob</th>\n",
       "    </tr>\n",
       "  </thead>\n",
       "  <tbody>\n",
       "    <tr>\n",
       "      <th>5</th>\n",
       "      <td>88506 isWinner Lin_Junyan</td>\n",
       "      <td>[9]</td>\n",
       "      <td>-0.759282</td>\n",
       "      <td>0.318802</td>\n",
       "    </tr>\n",
       "    <tr>\n",
       "      <th>4</th>\n",
       "      <td>88506 isWinner Nishida_Terumi</td>\n",
       "      <td>[16]</td>\n",
       "      <td>0.042267</td>\n",
       "      <td>0.510565</td>\n",
       "    </tr>\n",
       "    <tr>\n",
       "      <th>1</th>\n",
       "      <td>88506 isWinner Yun_Junsang</td>\n",
       "      <td>[14]</td>\n",
       "      <td>0.383557</td>\n",
       "      <td>0.594731</td>\n",
       "    </tr>\n",
       "    <tr>\n",
       "      <th>2</th>\n",
       "      <td>88506 isLoser Lee_Jihyun_(m)</td>\n",
       "      <td>[7]</td>\n",
       "      <td>0.853574</td>\n",
       "      <td>0.701316</td>\n",
       "    </tr>\n",
       "    <tr>\n",
       "      <th>0</th>\n",
       "      <td>88506 isWinner Lee_Jihyun_(m)</td>\n",
       "      <td>[5]</td>\n",
       "      <td>6.107538</td>\n",
       "      <td>0.997779</td>\n",
       "    </tr>\n",
       "    <tr>\n",
       "      <th>3</th>\n",
       "      <td>88506 isLoser Yun_Junsang</td>\n",
       "      <td>[12]</td>\n",
       "      <td>6.422471</td>\n",
       "      <td>0.998378</td>\n",
       "    </tr>\n",
       "  </tbody>\n",
       "</table>\n",
       "</div>"
      ],
      "text/plain": [
       "                       statement  rank     score      prob\n",
       "5      88506 isWinner Lin_Junyan   [9] -0.759282  0.318802\n",
       "4  88506 isWinner Nishida_Terumi  [16]  0.042267  0.510565\n",
       "1     88506 isWinner Yun_Junsang  [14]  0.383557  0.594731\n",
       "2   88506 isLoser Lee_Jihyun_(m)   [7]  0.853574  0.701316\n",
       "0  88506 isWinner Lee_Jihyun_(m)   [5]  6.107538  0.997779\n",
       "3      88506 isLoser Yun_Junsang  [12]  6.422471  0.998378"
      ]
     },
     "execution_count": 38,
     "metadata": {},
     "output_type": "execute_result"
    }
   ],
   "source": [
    "from scipy.special import expit\n",
    "probs = expit(scores)\n",
    "\n",
    "pd.DataFrame(list(zip([' '.join(x) for x in statements],\n",
    "                      ranks_statements,\n",
    "                      np.squeeze(scores),\n",
    "                      np.squeeze(probs))),\n",
    "             columns=['statement', 'rank', 'score', 'prob']).sort_values(\"prob\")"
   ]
  },
  {
   "cell_type": "raw",
   "id": "be998bda-66e1-43ec-9290-e5e770bde520",
   "metadata": {},
   "source": [
    "133751   88506   isLoser     Yun_Junsang\n",
    "135774   88506  isWinner  Lee_Jihyun_(m)"
   ]
  },
  {
   "cell_type": "code",
   "execution_count": null,
   "id": "d06265c4-4da9-4ef7-8151-81b7bd702886",
   "metadata": {},
   "outputs": [],
   "source": []
  }
 ],
 "metadata": {
  "kernelspec": {
   "display_name": "Python 3 (ipykernel)",
   "language": "python",
   "name": "python3"
  },
  "language_info": {
   "codemirror_mode": {
    "name": "ipython",
    "version": 3
   },
   "file_extension": ".py",
   "mimetype": "text/x-python",
   "name": "python",
   "nbconvert_exporter": "python",
   "pygments_lexer": "ipython3",
   "version": "3.10.13"
  }
 },
 "nbformat": 4,
 "nbformat_minor": 5
}
