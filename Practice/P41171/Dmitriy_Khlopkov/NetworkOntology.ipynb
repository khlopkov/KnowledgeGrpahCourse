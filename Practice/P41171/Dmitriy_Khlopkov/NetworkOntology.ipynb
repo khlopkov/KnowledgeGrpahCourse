{
  "nbformat": 4,
  "nbformat_minor": 0,
  "metadata": {
    "colab": {
      "name": "Copy of NetworkOntology.ipynb",
      "provenance": [],
      "collapsed_sections": [],
      "toc_visible": true
    },
    "kernelspec": {
      "name": "python3",
      "display_name": "Python 3"
    },
    "language_info": {
      "name": "python"
    }
  },
  "cells": [
    {
      "cell_type": "code",
      "metadata": {
        "colab": {
          "base_uri": "https://localhost:8080/"
        },
        "id": "GskOMvZvhSub",
        "outputId": "66437143-09f7-4618-c662-8ca30286bffa"
      },
      "source": [
        "!pip install rdflib\n",
        "import types\n",
        "import typing\n",
        "import os\n",
        "import re\n",
        "\n",
        "import pandas\n",
        "\n",
        "import rdflib\n",
        "from rdflib import RDF, OWL, XSD"
      ],
      "execution_count": null,
      "outputs": [
        {
          "output_type": "stream",
          "text": [
            "Requirement already satisfied: rdflib in /usr/local/lib/python3.7/dist-packages (5.0.0)\n",
            "Requirement already satisfied: pyparsing in /usr/local/lib/python3.7/dist-packages (from rdflib) (2.4.7)\n",
            "Requirement already satisfied: six in /usr/local/lib/python3.7/dist-packages (from rdflib) (1.15.0)\n",
            "Requirement already satisfied: isodate in /usr/local/lib/python3.7/dist-packages (from rdflib) (0.6.0)\n"
          ],
          "name": "stdout"
        }
      ]
    },
    {
      "cell_type": "markdown",
      "metadata": {
        "id": "hSR8l-mfiwUZ"
      },
      "source": [
        "## Parsing and printing ontology:"
      ]
    },
    {
      "cell_type": "code",
      "metadata": {
        "colab": {
          "base_uri": "https://localhost:8080/"
        },
        "id": "Sa9NZj2XhvFD",
        "outputId": "96b7fbd3-6859-4046-d777-1943fadb23e4"
      },
      "source": [
        "g = rdflib.Graph()\n",
        "\n",
        "g.parse(\"NetworkOntology.owl\", format=\"xml\")\n",
        "\n",
        "print(\"graph has {} statements.\".format(len(g)))\n",
        "print(g.serialize(format=\"turtle\").decode(\"utf-8\"))\n"
      ],
      "execution_count": null,
      "outputs": [
        {
          "output_type": "stream",
          "text": [
            "graph has 225 statements.\n",
            "@prefix : <https://ifmo.ru/etsilence/ontologies/2021/4/network-ontology#> .\n",
            "@prefix owl: <http://www.w3.org/2002/07/owl#> .\n",
            "@prefix rdf: <http://www.w3.org/1999/02/22-rdf-syntax-ns#> .\n",
            "@prefix rdfs: <http://www.w3.org/2000/01/rdf-schema#> .\n",
            "@prefix xsd: <http://www.w3.org/2001/XMLSchema#> .\n",
            "\n",
            "<https://ifmo.ru/etsilence/ontologies/2021/4/network-ontology> a owl:Ontology .\n",
            "\n",
            "<https://ifmo.ru/etsilence/ontologies/2021/4/network-ontology#802.11a/h/j/n/ac/ax_frequencyRange> a owl:NamedIndividual,\n",
            "        :FrequencyRange ;\n",
            "    :frequencyRangeHigherBound 5.895e+03 ;\n",
            "    :frequencyRangeLowerBound 4.91e+03 .\n",
            "\n",
            "<https://ifmo.ru/etsilence/ontologies/2021/4/network-ontology#802.11ad/ay__frequencyRange> a owl:NamedIndividual,\n",
            "        :FrequencyRange ;\n",
            "    :frequencyRangeHigherBound 7.02e+04 ;\n",
            "    :frequencyRangeLowerBound 5.724e+04 .\n",
            "\n",
            ":802.11ah_frequencyRange a owl:NamedIndividual,\n",
            "        :FrequencyRange ;\n",
            "    :frequencyRangeHigherBound 9.28e+02 ;\n",
            "    :frequencyRangeLowerBound 7.55e+02 .\n",
            "\n",
            ":802.11j_frequencyRange a owl:NamedIndividual,\n",
            "        :FrequencyRange ;\n",
            "    :frequencyRangeHigherBound 5e+03 ;\n",
            "    :frequencyRangeLowerBound 4.9e+03 .\n",
            "\n",
            ":802.11n a owl:NamedIndividual,\n",
            "        :802.11 ;\n",
            "    :hasFrequencyRange <https://ifmo.ru/etsilence/ontologies/2021/4/network-ontology#802.11b/g/n/ax__frequencyRange> .\n",
            "\n",
            ":Bluetooth1.0 a owl:NamedIndividual,\n",
            "        :802.15.1 .\n",
            "\n",
            ":Bluetooth1.1 a owl:NamedIndividual,\n",
            "        :802.15.1 .\n",
            "\n",
            ":Bluetooth1.2 a owl:NamedIndividual,\n",
            "        :802.15.1 .\n",
            "\n",
            ":Bluetooth2.0 a owl:NamedIndividual,\n",
            "        :802.15.1 .\n",
            "\n",
            ":Bluetooth2.1 a owl:NamedIndividual,\n",
            "        :802.15.1 .\n",
            "\n",
            ":Bluetooth3.0 a owl:NamedIndividual,\n",
            "        :802.15.1 .\n",
            "\n",
            ":Bluetooth4.0 a owl:NamedIndividual,\n",
            "        :802.15.1 .\n",
            "\n",
            ":Bluetooth4.1 a owl:NamedIndividual,\n",
            "        :802.15.1 .\n",
            "\n",
            ":Bluetooth4.2 a owl:NamedIndividual,\n",
            "        :802.15.1 .\n",
            "\n",
            ":Bluetooth5.0 a owl:NamedIndividual,\n",
            "        :802.15.1 .\n",
            "\n",
            ":Bluetooth5.1 a owl:NamedIndividual,\n",
            "        :802.15.1 .\n",
            "\n",
            ":BluetoothModule a owl:Class ;\n",
            "    rdfs:subClassOf :WirelessPhysicalNetworkDevice .\n",
            "\n",
            ":InvalidFrequencyRange a owl:NamedIndividual,\n",
            "        :FrequencyRange ;\n",
            "    :frequencyRangeHigherBound 1e+01 ;\n",
            "    :frequencyRangeLowerBound 1.1e+01 .\n",
            "\n",
            ":WiFiNetworkModule a owl:Class ;\n",
            "    rdfs:subClassOf [ a owl:Class ;\n",
            "            owl:intersectionOf ( :WirelessPhysicalNetworkDevice [ a owl:Restriction ;\n",
            "                        owl:onProperty :deviceForProtocol ;\n",
            "                        owl:someValuesFrom :802.11 ] ) ] .\n",
            "\n",
            ":WiredPhysicalProtocol a owl:Class ;\n",
            "    rdfs:subClassOf :PhysicalProtocol .\n",
            "\n",
            ":application a owl:NamedIndividual,\n",
            "        :OSILayer ;\n",
            "    :hasLayerNumber 7 .\n",
            "\n",
            ":datagram a owl:NamedIndividual,\n",
            "        :ProtocolDataType ;\n",
            "    :usedInLayer :transport .\n",
            "\n",
            ":deviceDataRate a owl:DatatypeProperty ;\n",
            "    rdfs:domain :PhysicalNetworkDevice ;\n",
            "    rdfs:subPropertyOf owl:topDataProperty .\n",
            "\n",
            ":deviceHasFrequencyRange a owl:ObjectProperty ;\n",
            "    rdfs:domain :WirelessPhysicalNetworkDevice ;\n",
            "    rdfs:range :FrequencyRange ;\n",
            "    rdfs:subPropertyOf owl:topObjectProperty .\n",
            "\n",
            ":deviceManufacturer a owl:DatatypeProperty ;\n",
            "    rdfs:domain :NetworkDevice ;\n",
            "    rdfs:subPropertyOf owl:topDataProperty .\n",
            "\n",
            ":deviceMaxTemperature a owl:DatatypeProperty ;\n",
            "    rdfs:domain :NetworkDevice ;\n",
            "    rdfs:range xsd:double ;\n",
            "    rdfs:subPropertyOf owl:topDataProperty .\n",
            "\n",
            ":deviceMinTemperature a owl:DatatypeProperty ;\n",
            "    rdfs:domain :NetworkDevice ;\n",
            "    rdfs:range xsd:double ;\n",
            "    rdfs:subPropertyOf owl:topDataProperty .\n",
            "\n",
            ":frame a owl:NamedIndividual,\n",
            "        :ProtocolDataType ;\n",
            "    :usedInLayer :dataLink .\n",
            "\n",
            ":frequencyRangeHigherBound a owl:DatatypeProperty ;\n",
            "    rdfs:domain :FrequencyRange ;\n",
            "    rdfs:range xsd:double ;\n",
            "    rdfs:subPropertyOf owl:topDataProperty .\n",
            "\n",
            ":frequencyRangeLowerBound a owl:DatatypeProperty ;\n",
            "    rdfs:domain :FrequencyRange ;\n",
            "    rdfs:range xsd:double .\n",
            "\n",
            ":hasLayerNumber a owl:DatatypeProperty ;\n",
            "    rdfs:domain :OSILayer ;\n",
            "    rdfs:range xsd:int ;\n",
            "    rdfs:subPropertyOf owl:topDataProperty .\n",
            "\n",
            ":packet a owl:NamedIndividual,\n",
            "        :ProtocolDataType ;\n",
            "    :usedInLayer :network .\n",
            "\n",
            ":presentation a owl:NamedIndividual,\n",
            "        :OSILayer ;\n",
            "    :hasLayerNumber 6 .\n",
            "\n",
            ":segment a owl:NamedIndividual,\n",
            "        :ProtocolDataType ;\n",
            "    :usedInLayer :transport .\n",
            "\n",
            ":session a owl:NamedIndividual,\n",
            "        :OSILayer ;\n",
            "    :hasLayerNumber 5 .\n",
            "\n",
            ":usedInLayer a owl:ObjectProperty ;\n",
            "    rdfs:domain :ProtocolDataType ;\n",
            "    rdfs:range :OSILayer ;\n",
            "    rdfs:subPropertyOf owl:topObjectProperty .\n",
            "\n",
            "<https://ifmo.ru/etsilence/ontologies/2021/4/network-ontology#802.11b/g/n/ax__frequencyRange> a owl:NamedIndividual,\n",
            "        :FrequencyRange ;\n",
            "    :frequencyRangeHigherBound 2.495e+03 ;\n",
            "    :frequencyRangeLowerBound 2.401e+03 .\n",
            "\n",
            ":ISM_FrequencyRange a owl:NamedIndividual,\n",
            "        :FrequencyRange ;\n",
            "    :frequencyRangeHigherBound 2.48e+03 ;\n",
            "    :frequencyRangeLowerBound 2.402e+03 .\n",
            "\n",
            ":belongsToLayer a owl:ObjectProperty ;\n",
            "    rdfs:domain :OSIProtocol ;\n",
            "    rdfs:range :OSILayer ;\n",
            "    rdfs:subPropertyOf owl:topObjectProperty .\n",
            "\n",
            ":bit a owl:NamedIndividual,\n",
            "        :ProtocolDataType ;\n",
            "    :usedInLayer :physical .\n",
            "\n",
            ":dataLink a owl:NamedIndividual,\n",
            "        :OSILayer ;\n",
            "    :hasLayerNumber \"2\"^^xsd:int .\n",
            "\n",
            ":deviceForOsiLayer a owl:ObjectProperty ;\n",
            "    rdfs:domain :NetworkDevice ;\n",
            "    rdfs:range :OSILayer ;\n",
            "    rdfs:subPropertyOf owl:topObjectProperty .\n",
            "\n",
            ":hasFrequencyRange a owl:ObjectProperty ;\n",
            "    rdfs:domain :WirelessPhysicalProtocol ;\n",
            "    rdfs:range :FrequencyRange ;\n",
            "    rdfs:subPropertyOf owl:topObjectProperty .\n",
            "\n",
            ":hasPDU a owl:ObjectProperty ;\n",
            "    rdfs:domain :OSIProtocol ;\n",
            "    rdfs:range :ProtocolDataType .\n",
            "\n",
            ":network a owl:NamedIndividual,\n",
            "        :OSILayer ;\n",
            "    :hasLayerNumber \"3\"^^xsd:int .\n",
            "\n",
            ":802.11 a owl:Class ;\n",
            "    rdfs:subClassOf :WirelessPhysicalProtocol .\n",
            "\n",
            ":PhysicalNetworkDevice a owl:Class ;\n",
            "    rdfs:subClassOf [ a owl:Class ;\n",
            "            owl:intersectionOf ( :NetworkDevice [ a owl:Restriction ;\n",
            "                        owl:onProperty :deviceForProtocol ;\n",
            "                        owl:someValuesFrom :PhysicalProtocol ] [ a owl:Restriction ;\n",
            "                        owl:hasValue :physical ;\n",
            "                        owl:onProperty :deviceForOsiLayer ] ) ] .\n",
            "\n",
            ":transport a owl:NamedIndividual,\n",
            "        :OSILayer ;\n",
            "    :hasLayerNumber 4 .\n",
            "\n",
            ":OSIModel a owl:Class .\n",
            "\n",
            ":PhysicalProtocol a owl:Class ;\n",
            "    rdfs:subClassOf [ a owl:Class ;\n",
            "            owl:intersectionOf ( :OSIProtocol [ a owl:Restriction ;\n",
            "                        owl:hasValue :physical ;\n",
            "                        owl:onProperty :belongsToLayer ] [ a owl:Restriction ;\n",
            "                        owl:hasValue :bit ;\n",
            "                        owl:onProperty :hasPDU ] ) ] .\n",
            "\n",
            ":WirelessPhysicalNetworkDevice a owl:Class ;\n",
            "    rdfs:subClassOf [ a owl:Class ;\n",
            "            owl:intersectionOf ( :PhysicalNetworkDevice [ a owl:Restriction ;\n",
            "                        owl:onProperty :deviceForProtocol ;\n",
            "                        owl:someValuesFrom :WirelessPhysicalProtocol ] ) ] .\n",
            "\n",
            ":deviceForProtocol a owl:ObjectProperty ;\n",
            "    rdfs:domain :NetworkDevice ;\n",
            "    rdfs:range :OSIProtocol ;\n",
            "    rdfs:subPropertyOf owl:topObjectProperty .\n",
            "\n",
            ":physical a owl:NamedIndividual,\n",
            "        :OSILayer ;\n",
            "    :hasLayerNumber 1 .\n",
            "\n",
            ":OSIProtocol a owl:Class ;\n",
            "    rdfs:subClassOf :OSIModel .\n",
            "\n",
            ":WirelessPhysicalProtocol a owl:Class ;\n",
            "    rdfs:subClassOf :PhysicalProtocol .\n",
            "\n",
            ":NetworkDevice a owl:Class .\n",
            "\n",
            ":ProtocolDataType a owl:Class ;\n",
            "    rdfs:subClassOf :OSIModel .\n",
            "\n",
            ":802.15.1 a owl:Class ;\n",
            "    rdfs:subClassOf [ a owl:Class ;\n",
            "            owl:intersectionOf ( :WirelessPhysicalProtocol [ a owl:Restriction ;\n",
            "                        owl:hasValue :ISM_FrequencyRange ;\n",
            "                        owl:onProperty :hasFrequencyRange ] ) ] .\n",
            "\n",
            ":FrequencyRange a owl:Class ;\n",
            "    rdfs:subClassOf :WirelessPhysicalProtocol .\n",
            "\n",
            ":OSILayer a owl:Class ;\n",
            "    rdfs:subClassOf :OSIModel .\n",
            "\n",
            "\n"
          ],
          "name": "stdout"
        }
      ]
    },
    {
      "cell_type": "markdown",
      "metadata": {
        "id": "r-OUKQ3ilTRc"
      },
      "source": [
        "### Print all classes in ontology"
      ]
    },
    {
      "cell_type": "code",
      "metadata": {
        "colab": {
          "base_uri": "https://localhost:8080/"
        },
        "id": "nxsFvtR5jAsC",
        "outputId": "40d44143-2aea-42d7-ce7e-3c23be249382"
      },
      "source": [
        "classes = g.triples((None, RDF.type, OWL.Class))\n",
        "for s,v,o in classes:\n",
        "  print(s, v, o)\n"
      ],
      "execution_count": null,
      "outputs": [
        {
          "output_type": "stream",
          "text": [
            "https://ifmo.ru/etsilence/ontologies/2021/4/network-ontology#BluetoothModule http://www.w3.org/1999/02/22-rdf-syntax-ns#type http://www.w3.org/2002/07/owl#Class\n",
            "https://ifmo.ru/etsilence/ontologies/2021/4/network-ontology#FrequencyRange http://www.w3.org/1999/02/22-rdf-syntax-ns#type http://www.w3.org/2002/07/owl#Class\n",
            "https://ifmo.ru/etsilence/ontologies/2021/4/network-ontology#NetworkDevice http://www.w3.org/1999/02/22-rdf-syntax-ns#type http://www.w3.org/2002/07/owl#Class\n",
            "https://ifmo.ru/etsilence/ontologies/2021/4/network-ontology#OSILayer http://www.w3.org/1999/02/22-rdf-syntax-ns#type http://www.w3.org/2002/07/owl#Class\n",
            "https://ifmo.ru/etsilence/ontologies/2021/4/network-ontology#OSIModel http://www.w3.org/1999/02/22-rdf-syntax-ns#type http://www.w3.org/2002/07/owl#Class\n",
            "https://ifmo.ru/etsilence/ontologies/2021/4/network-ontology#OSIProtocol http://www.w3.org/1999/02/22-rdf-syntax-ns#type http://www.w3.org/2002/07/owl#Class\n",
            "https://ifmo.ru/etsilence/ontologies/2021/4/network-ontology#PhysicalNetworkDevice http://www.w3.org/1999/02/22-rdf-syntax-ns#type http://www.w3.org/2002/07/owl#Class\n",
            "N8ac16365f57f4342bcea0d0639fc2892 http://www.w3.org/1999/02/22-rdf-syntax-ns#type http://www.w3.org/2002/07/owl#Class\n",
            "https://ifmo.ru/etsilence/ontologies/2021/4/network-ontology#PhysicalProtocol http://www.w3.org/1999/02/22-rdf-syntax-ns#type http://www.w3.org/2002/07/owl#Class\n",
            "N4855a1581025481ca37dd86a4b42865b http://www.w3.org/1999/02/22-rdf-syntax-ns#type http://www.w3.org/2002/07/owl#Class\n",
            "https://ifmo.ru/etsilence/ontologies/2021/4/network-ontology#ProtocolDataType http://www.w3.org/1999/02/22-rdf-syntax-ns#type http://www.w3.org/2002/07/owl#Class\n",
            "https://ifmo.ru/etsilence/ontologies/2021/4/network-ontology#WiFiNetworkModule http://www.w3.org/1999/02/22-rdf-syntax-ns#type http://www.w3.org/2002/07/owl#Class\n",
            "N2e8329fff2d64a48a9f70b1572cb1561 http://www.w3.org/1999/02/22-rdf-syntax-ns#type http://www.w3.org/2002/07/owl#Class\n",
            "https://ifmo.ru/etsilence/ontologies/2021/4/network-ontology#WiredPhysicalProtocol http://www.w3.org/1999/02/22-rdf-syntax-ns#type http://www.w3.org/2002/07/owl#Class\n",
            "https://ifmo.ru/etsilence/ontologies/2021/4/network-ontology#WirelessPhysicalNetworkDevice http://www.w3.org/1999/02/22-rdf-syntax-ns#type http://www.w3.org/2002/07/owl#Class\n",
            "N1392593bf3464a569a1c5500ff89c0db http://www.w3.org/1999/02/22-rdf-syntax-ns#type http://www.w3.org/2002/07/owl#Class\n",
            "https://ifmo.ru/etsilence/ontologies/2021/4/network-ontology#WirelessPhysicalProtocol http://www.w3.org/1999/02/22-rdf-syntax-ns#type http://www.w3.org/2002/07/owl#Class\n",
            "https://ifmo.ru/etsilence/ontologies/2021/4/network-ontology#802.11 http://www.w3.org/1999/02/22-rdf-syntax-ns#type http://www.w3.org/2002/07/owl#Class\n",
            "https://ifmo.ru/etsilence/ontologies/2021/4/network-ontology#802.15.1 http://www.w3.org/1999/02/22-rdf-syntax-ns#type http://www.w3.org/2002/07/owl#Class\n",
            "Nb9c6e5e3576149e8b82463b003ab1444 http://www.w3.org/1999/02/22-rdf-syntax-ns#type http://www.w3.org/2002/07/owl#Class\n"
          ],
          "name": "stdout"
        }
      ]
    },
    {
      "cell_type": "markdown",
      "metadata": {
        "id": "dWVUZGc_spmq"
      },
      "source": [
        "### Print Object Properties:"
      ]
    },
    {
      "cell_type": "code",
      "metadata": {
        "colab": {
          "base_uri": "https://localhost:8080/"
        },
        "id": "ImAcpNVpshRL",
        "outputId": "89f22fc4-9b69-411b-b9a8-4271ca4b090f"
      },
      "source": [
        "objectProps = g.triples((None, RDF.type, OWL.ObjectProperty))\n",
        "for s,v,o in objectProps:\n",
        "  print(s, v, o)\n"
      ],
      "execution_count": null,
      "outputs": [
        {
          "output_type": "stream",
          "text": [
            "https://ifmo.ru/etsilence/ontologies/2021/4/network-ontology#belongsToLayer http://www.w3.org/1999/02/22-rdf-syntax-ns#type http://www.w3.org/2002/07/owl#ObjectProperty\n",
            "https://ifmo.ru/etsilence/ontologies/2021/4/network-ontology#deviceForOsiLayer http://www.w3.org/1999/02/22-rdf-syntax-ns#type http://www.w3.org/2002/07/owl#ObjectProperty\n",
            "https://ifmo.ru/etsilence/ontologies/2021/4/network-ontology#deviceForProtocol http://www.w3.org/1999/02/22-rdf-syntax-ns#type http://www.w3.org/2002/07/owl#ObjectProperty\n",
            "https://ifmo.ru/etsilence/ontologies/2021/4/network-ontology#deviceHasFrequencyRange http://www.w3.org/1999/02/22-rdf-syntax-ns#type http://www.w3.org/2002/07/owl#ObjectProperty\n",
            "https://ifmo.ru/etsilence/ontologies/2021/4/network-ontology#hasFrequencyRange http://www.w3.org/1999/02/22-rdf-syntax-ns#type http://www.w3.org/2002/07/owl#ObjectProperty\n",
            "https://ifmo.ru/etsilence/ontologies/2021/4/network-ontology#hasPDU http://www.w3.org/1999/02/22-rdf-syntax-ns#type http://www.w3.org/2002/07/owl#ObjectProperty\n",
            "https://ifmo.ru/etsilence/ontologies/2021/4/network-ontology#usedInLayer http://www.w3.org/1999/02/22-rdf-syntax-ns#type http://www.w3.org/2002/07/owl#ObjectProperty\n"
          ],
          "name": "stdout"
        }
      ]
    },
    {
      "cell_type": "markdown",
      "metadata": {
        "id": "zJGmRvohzDqB"
      },
      "source": [
        "## Populate data"
      ]
    },
    {
      "cell_type": "markdown",
      "metadata": {
        "id": "K5p20IOvwlxX"
      },
      "source": [
        "### Get Classes and required data properties:"
      ]
    },
    {
      "cell_type": "code",
      "metadata": {
        "id": "JO0KUiq3laFu"
      },
      "source": [
        "namespace = rdflib.Namespace('https://ifmo.ru/etsilence/ontologies/2021/4/network-ontology#')\n",
        "\n",
        "wifiNetworkModuleClass = namespace.WiFiNetworkModule\n",
        "bluetoothNetworkModuleClass = namespace.BluetoothModule\n",
        "\n",
        "deviceMinTemperature = namespace.deviceMinTemperature\n",
        "deviceMaxTemperature = namespace.deviceMaxTemperature\n",
        "deviceDataRate = namespace.deviceDataRate\n",
        "deviceManufacturer = namespace.deviceManufacturer\n",
        "deviceForProtocol = namespace.deviceForProtocol\n"
      ],
      "execution_count": null,
      "outputs": []
    },
    {
      "cell_type": "markdown",
      "metadata": {
        "id": "8eHUrzqLUu0c"
      },
      "source": [
        "### Defining helpers for filling RDF graph from pandas "
      ]
    },
    {
      "cell_type": "code",
      "metadata": {
        "id": "RW1poM8I-9rg"
      },
      "source": [
        "\n",
        "RowToSubject = typing.Callable[[pandas.Series], typing.Tuple[rdflib.URIRef, rdflib.URIRef, rdflib.URIRef]]\n",
        "ColToPredicate = typing.Callable[[pandas.Series], rdflib.URIRef]\n",
        "CellToObject = typing.Callable[[str], rdflib.URIRef]\n",
        "\n",
        "def col_to_predicate_from_dict(col_to_predicate_dict: typing.Dict[str, rdflib.URIRef]) -> ColToPredicate:\n",
        "  return lambda col: col_to_predicate_dict[col.name] if col.name in col_to_predicate_dict else None\n",
        "\n",
        "def cell_to_literal(datatype: rdflib.URIRef):\n",
        "  return lambda v: rdflib.Literal(v, datatype=datatype) if v is not None and len(str(v)) != 0 else None\n",
        "\n",
        "class RdfGraphFiller:\n",
        "  def __init__(self, row_to_subject: RowToSubject, col_to_predicate: ColToPredicate, cell_to_object: typing.Dict[str, CellToObject]):\n",
        "    self.row_to_subject = row_to_subject\n",
        "    self.col_to_predicate = col_to_predicate\n",
        "    self.cell_to_object = cell_to_object\n",
        "  \n",
        "  def fill_from_dataframe(self, graph: rdflib.Graph, df: pandas.DataFrame):\n",
        "    for idx, r in df.iterrows():\n",
        "      subject = self.__get_subject(graph, r)\n",
        "      for col_name, cell_value in r.items():\n",
        "        col = df[col_name]\n",
        "        predicate = self.col_to_predicate(col)\n",
        "        objects = self.__get_objects(g, col, cell_value)\n",
        "        if subject is not None and predicate is not None:\n",
        "          for obj in objects:\n",
        "            g.add((subject, predicate, obj))\n",
        "  \n",
        "\n",
        "  def __get_subject(self, graph: rdflib.Graph, r: pandas.Series):\n",
        "    subject = self.row_to_subject(r)\n",
        "    self.__add_to_graph_if_required(graph, subject)\n",
        "    return subject[0]\n",
        "\n",
        "  def __get_objects(self, graph: rdflib.Graph, col: pandas.Series, cell_value):\n",
        "    objs = self.cell_to_object[col.name](cell_value) if col.name in self.cell_to_object else None\n",
        "    if type(objs) is not list:\n",
        "      objs = [objs]\n",
        "    objs_converted = []\n",
        "    for obj in objs:\n",
        "      if self.__add_to_graph_if_required(graph, obj):\n",
        "        objs_converted.append(obj[0])\n",
        "      elif obj is not None:\n",
        "        objs_converted.append(obj) \n",
        "    return objs_converted\n",
        "\n",
        "  def __add_to_graph_if_required(self, graph: rdflib.Graph, v):\n",
        "    if type(v) is tuple and len(v) == 3:\n",
        "      g.add(v)\n",
        "      return True\n",
        "    return False\n"
      ],
      "execution_count": null,
      "outputs": []
    },
    {
      "cell_type": "markdown",
      "metadata": {
        "id": "eyrTvKf5gpl8"
      },
      "source": [
        "### Add 802.11 protocols"
      ]
    },
    {
      "cell_type": "code",
      "metadata": {
        "id": "EpuvOg7GgxID"
      },
      "source": [
        "def char_range(c1, c2):\n",
        "    \"\"\"Generates the characters from `c1` to `c2`, inclusive.\"\"\"\n",
        "    for c in range(ord(c1), ord(c2)+1):\n",
        "        yield chr(c)\n",
        "\n",
        "OSIProtocol802_11 = rdflib.URIRef(namespace + '802.11')\n",
        "protocols_postfixes = [c for c in char_range('a', 'y')]\n",
        "protocols_postfixes += ['ac', 'ad', 'ax', 'ay', 'az', 'be']\n",
        "\n",
        "protocols_802_11 = set([rdflib.URIRef(namespace + '802.11' + postfix) for postfix in protocols_postfixes])\n",
        "frequency_ranges = list(g.triples((None, RDF.type, namespace.FrequencyRange)))\n",
        "\n",
        "for protocol in protocols_802_11:\n",
        "  g.add((protocol, RDF.type, OSIProtocol802_11))\n",
        "  proto_letter = protocol[protocol.index('802.11') + len('802.11'):]\n",
        "  freq_range_regex = r'.*802\\.1(1' + proto_letter + '(/|_)|1.*/' + proto_letter +'(/|_))'\n",
        "  matched_freq_ranges = list(filter(lambda r: re.match(freq_range_regex, r[0]) is not None, frequency_ranges))\n",
        "  for (r, _, _) in matched_freq_ranges:\n",
        "    g.add((protocol, namespace.hasFrequencyRange, r))"
      ],
      "execution_count": null,
      "outputs": []
    },
    {
      "cell_type": "markdown",
      "metadata": {
        "id": "yXZP8Ih0Yi1U"
      },
      "source": [
        "### Filling WiFiNetwrokModules properties"
      ]
    },
    {
      "cell_type": "code",
      "metadata": {
        "id": "ZzAoQTgOYrfX"
      },
      "source": [
        "manufacturer_key = 'Mfr.'\n",
        "max_temp_key = 'Maximum Operating Temperature'\n",
        "min_temp_key = 'Minimum Operating Temperature'\n",
        "data_rate_key = 'Data Rate'\n",
        "wifi_protocol_key = 'Protocol Supported'\n",
        "\n",
        "non_decimal = re.compile(r'[^\\d.-]+')\n",
        "\n",
        "wifi_row_to_subject: RowToSubject = lambda r: (rdflib.URIRef(namespace + r['Mouser Part Number']), RDF.type, wifiNetworkModuleClass)\n",
        "wifi_col_to_predicate: ColToPredicate = col_to_predicate_from_dict(\n",
        "    {\n",
        "      manufacturer_key: deviceManufacturer,\n",
        "      max_temp_key: deviceMaxTemperature,\n",
        "      min_temp_key: deviceMinTemperature,\n",
        "      data_rate_key: deviceDataRate,\n",
        "      wifi_protocol_key: deviceForProtocol\n",
        "    }\n",
        ")\n",
        "\n",
        "def str_to_wifi_protocol(protocol):\n",
        "  protocol = str(protocol).replace(' ', '')\n",
        "  if not protocol.startswith('802.11'):\n",
        "    return None\n",
        "  \n",
        "  protocol_sections = protocol.split('/')\n",
        "  protocols = [protocol_sections[0]]\n",
        "  for protocol_postfix in protocol_sections[1:]:\n",
        "    protocols.append(\"802.11\" + protocol_postfix)\n",
        "  \n",
        "  protocols = [rdflib.URIRef(namespace + protocol_name) for protocol_name in protocols]\n",
        "  protocols = filter(lambda p: p in protocols_802_11, protocols)\n",
        "  return [protocol for protocol in protocols]\n",
        "  \n",
        "\n",
        "\n",
        "def temperature_str_to_literal(cell_value):\n",
        "  digits = non_decimal.sub('', str(cell_value))\n",
        "  if len(digits) == 0:\n",
        "    return None\n",
        "  else:\n",
        "    return rdflib.Literal(digits, datatype=XSD.double)\n",
        "\n",
        "wifi_col_and_cel_to_object: typing.Dict[str, CellToObject] = {\n",
        "  manufacturer_key: cell_to_literal(XSD.string),\n",
        "  max_temp_key: temperature_str_to_literal,\n",
        "  min_temp_key: temperature_str_to_literal,\n",
        "  data_rate_key: cell_to_literal(XSD.string),\n",
        "  wifi_protocol_key: str_to_wifi_protocol\n",
        "}\n",
        "wifi_modules = pandas.read_csv(\"wifi-data.csv\").fillna('')\n",
        "\n",
        "converter = RdfGraphFiller(wifi_row_to_subject, wifi_col_to_predicate, wifi_col_and_cel_to_object)\n",
        "converter.fill_from_dataframe(g, wifi_modules)"
      ],
      "execution_count": null,
      "outputs": []
    },
    {
      "cell_type": "markdown",
      "metadata": {
        "id": "eDZkRnLOaZh5"
      },
      "source": [
        "### Filling BluetoothNetworkDevice module"
      ]
    },
    {
      "cell_type": "code",
      "metadata": {
        "id": "_qYe_EIKaeUG"
      },
      "source": [
        "manufacturer_key = 'Mfr.'\n",
        "max_temp_key = 'Maximum Operating Temperature'\n",
        "min_temp_key = 'Minimum Operating Temperature'\n",
        "data_rate_key = 'Data Rate'\n",
        "bluetooth_protocol_key = 'Protocol'\n",
        "\n",
        "non_decimal = re.compile(r'[^\\d.-]+')\n",
        "\n",
        "def str_to_bluetooth_protocol(protocol):\n",
        "  protocol = str(protocol).replace(' ', '')\n",
        "  if not protocol.startswith('Bluetooth'):\n",
        "    return None\n",
        "  \n",
        "  m = re.search(r'Bluetooth\\d\\.\\d', protocol)\n",
        "  if m is None:\n",
        "    return None\n",
        "  protocol_name = m.group(0)\n",
        "  return [rdflib.URIRef(namespace + protocol_name)]\n",
        "  \n",
        "\n",
        "bluetooth_row_to_subject: RowToSubject = lambda r: (rdflib.URIRef(namespace + r['Mouser Part Number']), RDF.type, bluetoothNetworkModuleClass)\n",
        "bluetooth_col_to_predicate: ColToPredicate = col_to_predicate_from_dict(\n",
        "    {\n",
        "      manufacturer_key: deviceManufacturer,\n",
        "      max_temp_key: deviceMaxTemperature,\n",
        "      min_temp_key: deviceMinTemperature,\n",
        "      data_rate_key: deviceDataRate,\n",
        "      bluetooth_protocol_key: deviceForProtocol\n",
        "    }\n",
        ")\n",
        "\n",
        "bluetooth_col_and_cel_to_object: typing.Dict[str, CellToObject] = {\n",
        "  manufacturer_key: cell_to_literal(XSD.string),\n",
        "  max_temp_key: temperature_str_to_literal,\n",
        "  min_temp_key: temperature_str_to_literal,\n",
        "  data_rate_key: cell_to_literal(XSD.string),\n",
        "  bluetooth_protocol_key: str_to_bluetooth_protocol,\n",
        "}\n",
        "bluetooth_modules = pandas.read_csv(\"bluetooth-data.csv\").fillna('')\n",
        "\n",
        "converter = RdfGraphFiller(bluetooth_row_to_subject, bluetooth_col_to_predicate, bluetooth_col_and_cel_to_object)\n",
        "converter.fill_from_dataframe(g, bluetooth_modules)"
      ],
      "execution_count": null,
      "outputs": []
    },
    {
      "cell_type": "markdown",
      "metadata": {
        "id": "sg-XiAZGx7Tj"
      },
      "source": [
        "### Saving ontology\n"
      ]
    },
    {
      "cell_type": "code",
      "metadata": {
        "id": "KrdYRlRqpddF"
      },
      "source": [
        "g.serialize(\"OutputOntology.owl\")"
      ],
      "execution_count": null,
      "outputs": []
    },
    {
      "cell_type": "markdown",
      "metadata": {
        "id": "_Xfj5NOAQWzB"
      },
      "source": [
        "## Generate Documentation"
      ]
    },
    {
      "cell_type": "code",
      "metadata": {
        "colab": {
          "base_uri": "https://localhost:8080/"
        },
        "id": "_JUgRuYLOq25",
        "outputId": "efe5c80d-5347-439c-fe8d-a79ed280e435"
      },
      "source": [
        "!pip install pylode"
      ],
      "execution_count": null,
      "outputs": [
        {
          "output_type": "stream",
          "text": [
            "Requirement already satisfied: pylode in /usr/local/lib/python3.7/dist-packages (2.10.3)\n",
            "Requirement already satisfied: jinja2 in /usr/local/lib/python3.7/dist-packages (from pylode) (2.11.3)\n",
            "Requirement already satisfied: requests in /usr/local/lib/python3.7/dist-packages (from pylode) (2.23.0)\n",
            "Requirement already satisfied: rdflib-jsonld>=0.5.0 in /usr/local/lib/python3.7/dist-packages (from pylode) (0.5.0)\n",
            "Requirement already satisfied: rdflib>=5.0.0 in /usr/local/lib/python3.7/dist-packages (from pylode) (5.0.0)\n",
            "Requirement already satisfied: markdown in /usr/local/lib/python3.7/dist-packages (from pylode) (3.3.4)\n",
            "Requirement already satisfied: MarkupSafe>=0.23 in /usr/local/lib/python3.7/dist-packages (from jinja2->pylode) (2.0.0)\n",
            "Requirement already satisfied: urllib3!=1.25.0,!=1.25.1,<1.26,>=1.21.1 in /usr/local/lib/python3.7/dist-packages (from requests->pylode) (1.24.3)\n",
            "Requirement already satisfied: idna<3,>=2.5 in /usr/local/lib/python3.7/dist-packages (from requests->pylode) (2.10)\n",
            "Requirement already satisfied: certifi>=2017.4.17 in /usr/local/lib/python3.7/dist-packages (from requests->pylode) (2020.12.5)\n",
            "Requirement already satisfied: chardet<4,>=3.0.2 in /usr/local/lib/python3.7/dist-packages (from requests->pylode) (3.0.4)\n",
            "Requirement already satisfied: isodate in /usr/local/lib/python3.7/dist-packages (from rdflib>=5.0.0->pylode) (0.6.0)\n",
            "Requirement already satisfied: six in /usr/local/lib/python3.7/dist-packages (from rdflib>=5.0.0->pylode) (1.15.0)\n",
            "Requirement already satisfied: pyparsing in /usr/local/lib/python3.7/dist-packages (from rdflib>=5.0.0->pylode) (2.4.7)\n",
            "Requirement already satisfied: importlib-metadata; python_version < \"3.8\" in /usr/local/lib/python3.7/dist-packages (from markdown->pylode) (4.0.1)\n",
            "Requirement already satisfied: typing-extensions>=3.6.4; python_version < \"3.8\" in /usr/local/lib/python3.7/dist-packages (from importlib-metadata; python_version < \"3.8\"->markdown->pylode) (3.7.4.3)\n",
            "Requirement already satisfied: zipp>=0.5 in /usr/local/lib/python3.7/dist-packages (from importlib-metadata; python_version < \"3.8\"->markdown->pylode) (3.4.1)\n"
          ],
          "name": "stdout"
        }
      ]
    },
    {
      "cell_type": "code",
      "metadata": {
        "id": "5mwsMkWsPMeh"
      },
      "source": [
        "import pylode\n",
        "\n",
        "html = pylode.MakeDocco(\n",
        "    input_data_file=\"OutputOntology.owl\",\n",
        "    outputformat=\"html\"\n",
        ").document()\n",
        "\n",
        "file = open('doc.html', 'w')\n",
        "file.write(html)\n",
        "file.close()"
      ],
      "execution_count": null,
      "outputs": []
    },
    {
      "cell_type": "markdown",
      "metadata": {
        "id": "GhLKHRqdVbcQ"
      },
      "source": [
        "## Generaiting VoID"
      ]
    },
    {
      "cell_type": "code",
      "metadata": {
        "colab": {
          "base_uri": "https://localhost:8080/"
        },
        "id": "EIpgZ2kXQ18B",
        "outputId": "67781808-d414-4ce1-99e6-491385aa9b07"
      },
      "source": [
        "from rdflib.void import generateVoID\n",
        "\n",
        "void_graph = generateVoID(g)[0]\n",
        "void_graph.serialize('void.rdf')\n",
        "print(void_graph.serialize(format=\"turtle\").decode(\"utf-8\"))"
      ],
      "execution_count": null,
      "outputs": [
        {
          "output_type": "stream",
          "text": [
            "@prefix ns1: <http://rdfs.org/ns/void#> .\n",
            "@prefix rdf: <http://www.w3.org/1999/02/22-rdf-syntax-ns#> .\n",
            "@prefix rdfs: <http://www.w3.org/2000/01/rdf-schema#> .\n",
            "@prefix xsd: <http://www.w3.org/2001/XMLSchema#> .\n",
            "\n",
            "<http://example.org/Dataset> a ns1:Dataset ;\n",
            "    ns1:classPartition <http://example.org/Dataset_class0>,\n",
            "        <http://example.org/Dataset_class1>,\n",
            "        <http://example.org/Dataset_class10>,\n",
            "        <http://example.org/Dataset_class11>,\n",
            "        <http://example.org/Dataset_class12>,\n",
            "        <http://example.org/Dataset_class2>,\n",
            "        <http://example.org/Dataset_class3>,\n",
            "        <http://example.org/Dataset_class4>,\n",
            "        <http://example.org/Dataset_class5>,\n",
            "        <http://example.org/Dataset_class6>,\n",
            "        <http://example.org/Dataset_class7>,\n",
            "        <http://example.org/Dataset_class8>,\n",
            "        <http://example.org/Dataset_class9> ;\n",
            "    ns1:classes 13 ;\n",
            "    ns1:distinctObjects 210 ;\n",
            "    ns1:distinctSubjects 490 ;\n",
            "    ns1:properties 21 ;\n",
            "    ns1:propertyPartition <http://example.org/Dataset_property0>,\n",
            "        <http://example.org/Dataset_property1>,\n",
            "        <http://example.org/Dataset_property10>,\n",
            "        <http://example.org/Dataset_property11>,\n",
            "        <http://example.org/Dataset_property12>,\n",
            "        <http://example.org/Dataset_property13>,\n",
            "        <http://example.org/Dataset_property14>,\n",
            "        <http://example.org/Dataset_property15>,\n",
            "        <http://example.org/Dataset_property16>,\n",
            "        <http://example.org/Dataset_property17>,\n",
            "        <http://example.org/Dataset_property18>,\n",
            "        <http://example.org/Dataset_property19>,\n",
            "        <http://example.org/Dataset_property2>,\n",
            "        <http://example.org/Dataset_property20>,\n",
            "        <http://example.org/Dataset_property3>,\n",
            "        <http://example.org/Dataset_property4>,\n",
            "        <http://example.org/Dataset_property5>,\n",
            "        <http://example.org/Dataset_property6>,\n",
            "        <http://example.org/Dataset_property7>,\n",
            "        <http://example.org/Dataset_property8>,\n",
            "        <http://example.org/Dataset_property9> ;\n",
            "    ns1:triples 2397 .\n",
            "\n",
            "<http://example.org/Dataset_class0> a ns1:Dataset ;\n",
            "    ns1:class <http://www.w3.org/2002/07/owl#Ontology> ;\n",
            "    ns1:classes 1 ;\n",
            "    ns1:distinctObjects 1 ;\n",
            "    ns1:distinctSubjects 1 ;\n",
            "    ns1:entities 1 ;\n",
            "    ns1:properties 1 ;\n",
            "    ns1:triples 1 .\n",
            "\n",
            "<http://example.org/Dataset_class1> a ns1:Dataset ;\n",
            "    ns1:class <http://www.w3.org/2002/07/owl#ObjectProperty> ;\n",
            "    ns1:classes 1 ;\n",
            "    ns1:distinctObjects 9 ;\n",
            "    ns1:distinctSubjects 7 ;\n",
            "    ns1:entities 7 ;\n",
            "    ns1:properties 4 ;\n",
            "    ns1:triples 27 .\n",
            "\n",
            "<http://example.org/Dataset_class10> a ns1:Dataset ;\n",
            "    ns1:class <https://ifmo.ru/etsilence/ontologies/2021/4/network-ontology#802.11> ;\n",
            "    ns1:classes 1 ;\n",
            "    ns1:distinctObjects 6 ;\n",
            "    ns1:distinctSubjects 31 ;\n",
            "    ns1:entities 31 ;\n",
            "    ns1:properties 2 ;\n",
            "    ns1:triples 45 .\n",
            "\n",
            "<http://example.org/Dataset_class11> a ns1:Dataset ;\n",
            "    ns1:class <https://ifmo.ru/etsilence/ontologies/2021/4/network-ontology#WiFiNetworkModule> ;\n",
            "    ns1:classes 1 ;\n",
            "    ns1:distinctObjects 91 ;\n",
            "    ns1:distinctSubjects 175 ;\n",
            "    ns1:entities 175 ;\n",
            "    ns1:properties 6 ;\n",
            "    ns1:triples 1103 .\n",
            "\n",
            "<http://example.org/Dataset_class12> a ns1:Dataset ;\n",
            "    ns1:class <https://ifmo.ru/etsilence/ontologies/2021/4/network-ontology#BluetoothModule> ;\n",
            "    ns1:classes 1 ;\n",
            "    ns1:distinctObjects 69 ;\n",
            "    ns1:distinctSubjects 200 ;\n",
            "    ns1:entities 200 ;\n",
            "    ns1:properties 6 ;\n",
            "    ns1:triples 1027 .\n",
            "\n",
            "<http://example.org/Dataset_class2> a ns1:Dataset ;\n",
            "    ns1:class <http://www.w3.org/2002/07/owl#DatatypeProperty> ;\n",
            "    ns1:classes 1 ;\n",
            "    ns1:distinctObjects 8 ;\n",
            "    ns1:distinctSubjects 7 ;\n",
            "    ns1:entities 7 ;\n",
            "    ns1:properties 4 ;\n",
            "    ns1:triples 25 .\n",
            "\n",
            "<http://example.org/Dataset_class3> a ns1:Dataset ;\n",
            "    ns1:class <http://www.w3.org/2002/07/owl#Class> ;\n",
            "    ns1:classes 1 ;\n",
            "    ns1:distinctObjects 15 ;\n",
            "    ns1:distinctSubjects 20 ;\n",
            "    ns1:entities 20 ;\n",
            "    ns1:properties 3 ;\n",
            "    ns1:triples 38 .\n",
            "\n",
            "<http://example.org/Dataset_class4> a ns1:Dataset ;\n",
            "    ns1:class <http://www.w3.org/2002/07/owl#Restriction> ;\n",
            "    ns1:classes 1 ;\n",
            "    ns1:distinctObjects 12 ;\n",
            "    ns1:distinctSubjects 7 ;\n",
            "    ns1:entities 7 ;\n",
            "    ns1:properties 4 ;\n",
            "    ns1:triples 21 .\n",
            "\n",
            "<http://example.org/Dataset_class5> a ns1:Dataset ;\n",
            "    ns1:class <http://www.w3.org/2002/07/owl#NamedIndividual> ;\n",
            "    ns1:classes 1 ;\n",
            "    ns1:distinctObjects 33 ;\n",
            "    ns1:distinctSubjects 31 ;\n",
            "    ns1:entities 31 ;\n",
            "    ns1:properties 6 ;\n",
            "    ns1:triples 90 .\n",
            "\n",
            "<http://example.org/Dataset_class6> a ns1:Dataset ;\n",
            "    ns1:class <https://ifmo.ru/etsilence/ontologies/2021/4/network-ontology#802.15.1> ;\n",
            "    ns1:classes 1 ;\n",
            "    ns1:distinctObjects 2 ;\n",
            "    ns1:distinctSubjects 11 ;\n",
            "    ns1:entities 11 ;\n",
            "    ns1:properties 1 ;\n",
            "    ns1:triples 22 .\n",
            "\n",
            "<http://example.org/Dataset_class7> a ns1:Dataset ;\n",
            "    ns1:class <https://ifmo.ru/etsilence/ontologies/2021/4/network-ontology#FrequencyRange> ;\n",
            "    ns1:classes 1 ;\n",
            "    ns1:distinctObjects 16 ;\n",
            "    ns1:distinctSubjects 7 ;\n",
            "    ns1:entities 7 ;\n",
            "    ns1:properties 3 ;\n",
            "    ns1:triples 28 .\n",
            "\n",
            "<http://example.org/Dataset_class8> a ns1:Dataset ;\n",
            "    ns1:class <https://ifmo.ru/etsilence/ontologies/2021/4/network-ontology#OSILayer> ;\n",
            "    ns1:classes 1 ;\n",
            "    ns1:distinctObjects 9 ;\n",
            "    ns1:distinctSubjects 7 ;\n",
            "    ns1:entities 7 ;\n",
            "    ns1:properties 2 ;\n",
            "    ns1:triples 21 .\n",
            "\n",
            "<http://example.org/Dataset_class9> a ns1:Dataset ;\n",
            "    ns1:class <https://ifmo.ru/etsilence/ontologies/2021/4/network-ontology#ProtocolDataType> ;\n",
            "    ns1:classes 1 ;\n",
            "    ns1:distinctObjects 6 ;\n",
            "    ns1:distinctSubjects 5 ;\n",
            "    ns1:entities 5 ;\n",
            "    ns1:properties 2 ;\n",
            "    ns1:triples 15 .\n",
            "\n",
            "<http://example.org/Dataset_property0> a ns1:Dataset ;\n",
            "    ns1:classes 2 ;\n",
            "    ns1:distinctObjects 10 ;\n",
            "    ns1:distinctSubjects 309 ;\n",
            "    ns1:entities 309 ;\n",
            "    ns1:properties 1 ;\n",
            "    ns1:property <https://ifmo.ru/etsilence/ontologies/2021/4/network-ontology#deviceMaxTemperature> ;\n",
            "    ns1:triples 309 .\n",
            "\n",
            "<http://example.org/Dataset_property1> a ns1:Dataset ;\n",
            "    ns1:classes 2 ;\n",
            "    ns1:distinctObjects 4 ;\n",
            "    ns1:distinctSubjects 5 ;\n",
            "    ns1:entities 5 ;\n",
            "    ns1:properties 1 ;\n",
            "    ns1:property <https://ifmo.ru/etsilence/ontologies/2021/4/network-ontology#usedInLayer> ;\n",
            "    ns1:triples 5 .\n",
            "\n",
            "<http://example.org/Dataset_property10> a ns1:Dataset ;\n",
            "    ns1:classes 0 ;\n",
            "    ns1:distinctObjects 8 ;\n",
            "    ns1:distinctSubjects 12 ;\n",
            "    ns1:entities 12 ;\n",
            "    ns1:properties 1 ;\n",
            "    ns1:property rdf:rest ;\n",
            "    ns1:triples 12 .\n",
            "\n",
            "<http://example.org/Dataset_property11> a ns1:Dataset ;\n",
            "    ns1:classes 2 ;\n",
            "    ns1:distinctObjects 2 ;\n",
            "    ns1:distinctSubjects 12 ;\n",
            "    ns1:entities 12 ;\n",
            "    ns1:properties 1 ;\n",
            "    ns1:property rdfs:subPropertyOf ;\n",
            "    ns1:triples 12 .\n",
            "\n",
            "<http://example.org/Dataset_property12> a ns1:Dataset ;\n",
            "    ns1:classes 1 ;\n",
            "    ns1:distinctObjects 3 ;\n",
            "    ns1:distinctSubjects 3 ;\n",
            "    ns1:entities 3 ;\n",
            "    ns1:properties 1 ;\n",
            "    ns1:property <http://www.w3.org/2002/07/owl#someValuesFrom> ;\n",
            "    ns1:triples 3 .\n",
            "\n",
            "<http://example.org/Dataset_property13> a ns1:Dataset ;\n",
            "    ns1:classes 2 ;\n",
            "    ns1:distinctObjects 8 ;\n",
            "    ns1:distinctSubjects 14 ;\n",
            "    ns1:entities 14 ;\n",
            "    ns1:properties 1 ;\n",
            "    ns1:property rdfs:domain ;\n",
            "    ns1:triples 14 .\n",
            "\n",
            "<http://example.org/Dataset_property14> a ns1:Dataset ;\n",
            "    ns1:classes 2 ;\n",
            "    ns1:distinctObjects 7 ;\n",
            "    ns1:distinctSubjects 7 ;\n",
            "    ns1:entities 7 ;\n",
            "    ns1:properties 1 ;\n",
            "    ns1:property <https://ifmo.ru/etsilence/ontologies/2021/4/network-ontology#frequencyRangeLowerBound> ;\n",
            "    ns1:triples 7 .\n",
            "\n",
            "<http://example.org/Dataset_property15> a ns1:Dataset ;\n",
            "    ns1:classes 2 ;\n",
            "    ns1:distinctObjects 4 ;\n",
            "    ns1:distinctSubjects 10 ;\n",
            "    ns1:entities 10 ;\n",
            "    ns1:properties 1 ;\n",
            "    ns1:property <https://ifmo.ru/etsilence/ontologies/2021/4/network-ontology#hasFrequencyRange> ;\n",
            "    ns1:triples 13 .\n",
            "\n",
            "<http://example.org/Dataset_property16> a ns1:Dataset ;\n",
            "    ns1:classes 1 ;\n",
            "    ns1:distinctObjects 5 ;\n",
            "    ns1:distinctSubjects 5 ;\n",
            "    ns1:entities 5 ;\n",
            "    ns1:properties 1 ;\n",
            "    ns1:property <http://www.w3.org/2002/07/owl#intersectionOf> ;\n",
            "    ns1:triples 5 .\n",
            "\n",
            "<http://example.org/Dataset_property17> a ns1:Dataset ;\n",
            "    ns1:classes 2 ;\n",
            "    ns1:distinctObjects 54 ;\n",
            "    ns1:distinctSubjects 375 ;\n",
            "    ns1:entities 375 ;\n",
            "    ns1:properties 1 ;\n",
            "    ns1:property <https://ifmo.ru/etsilence/ontologies/2021/4/network-ontology#deviceManufacturer> ;\n",
            "    ns1:triples 375 .\n",
            "\n",
            "<http://example.org/Dataset_property18> a ns1:Dataset ;\n",
            "    ns1:classes 1 ;\n",
            "    ns1:distinctObjects 9 ;\n",
            "    ns1:distinctSubjects 13 ;\n",
            "    ns1:entities 13 ;\n",
            "    ns1:properties 1 ;\n",
            "    ns1:property rdfs:subClassOf ;\n",
            "    ns1:triples 13 .\n",
            "\n",
            "<http://example.org/Dataset_property19> a ns1:Dataset ;\n",
            "    ns1:classes 2 ;\n",
            "    ns1:distinctObjects 7 ;\n",
            "    ns1:distinctSubjects 7 ;\n",
            "    ns1:entities 7 ;\n",
            "    ns1:properties 1 ;\n",
            "    ns1:property <https://ifmo.ru/etsilence/ontologies/2021/4/network-ontology#hasLayerNumber> ;\n",
            "    ns1:triples 7 .\n",
            "\n",
            "<http://example.org/Dataset_property2> a ns1:Dataset ;\n",
            "    ns1:classes 1 ;\n",
            "    ns1:distinctObjects 5 ;\n",
            "    ns1:distinctSubjects 7 ;\n",
            "    ns1:entities 7 ;\n",
            "    ns1:properties 1 ;\n",
            "    ns1:property <http://www.w3.org/2002/07/owl#onProperty> ;\n",
            "    ns1:triples 7 .\n",
            "\n",
            "<http://example.org/Dataset_property20> a ns1:Dataset ;\n",
            "    ns1:classes 13 ;\n",
            "    ns1:distinctObjects 13 ;\n",
            "    ns1:distinctSubjects 478 ;\n",
            "    ns1:entities 478 ;\n",
            "    ns1:properties 1 ;\n",
            "    ns1:property rdf:type ;\n",
            "    ns1:triples 509 .\n",
            "\n",
            "<http://example.org/Dataset_property3> a ns1:Dataset ;\n",
            "    ns1:classes 2 ;\n",
            "    ns1:distinctObjects 7 ;\n",
            "    ns1:distinctSubjects 7 ;\n",
            "    ns1:entities 7 ;\n",
            "    ns1:properties 1 ;\n",
            "    ns1:property <https://ifmo.ru/etsilence/ontologies/2021/4/network-ontology#frequencyRangeHigherBound> ;\n",
            "    ns1:triples 7 .\n",
            "\n",
            "<http://example.org/Dataset_property4> a ns1:Dataset ;\n",
            "    ns1:classes 2 ;\n",
            "    ns1:distinctObjects 7 ;\n",
            "    ns1:distinctSubjects 309 ;\n",
            "    ns1:entities 309 ;\n",
            "    ns1:properties 1 ;\n",
            "    ns1:property <https://ifmo.ru/etsilence/ontologies/2021/4/network-ontology#deviceMinTemperature> ;\n",
            "    ns1:triples 309 .\n",
            "\n",
            "<http://example.org/Dataset_property5> a ns1:Dataset ;\n",
            "    ns1:classes 2 ;\n",
            "    ns1:distinctObjects 39 ;\n",
            "    ns1:distinctSubjects 267 ;\n",
            "    ns1:entities 267 ;\n",
            "    ns1:properties 1 ;\n",
            "    ns1:property <https://ifmo.ru/etsilence/ontologies/2021/4/network-ontology#deviceDataRate> ;\n",
            "    ns1:triples 267 .\n",
            "\n",
            "<http://example.org/Dataset_property6> a ns1:Dataset ;\n",
            "    ns1:classes 1 ;\n",
            "    ns1:distinctObjects 3 ;\n",
            "    ns1:distinctSubjects 4 ;\n",
            "    ns1:entities 4 ;\n",
            "    ns1:properties 1 ;\n",
            "    ns1:property <http://www.w3.org/2002/07/owl#hasValue> ;\n",
            "    ns1:triples 4 .\n",
            "\n",
            "<http://example.org/Dataset_property7> a ns1:Dataset ;\n",
            "    ns1:classes 0 ;\n",
            "    ns1:distinctObjects 12 ;\n",
            "    ns1:distinctSubjects 12 ;\n",
            "    ns1:entities 0 ;\n",
            "    ns1:properties 1 ;\n",
            "    ns1:property rdf:first ;\n",
            "    ns1:triples 12 .\n",
            "\n",
            "<http://example.org/Dataset_property8> a ns1:Dataset ;\n",
            "    ns1:classes 2 ;\n",
            "    ns1:distinctObjects 15 ;\n",
            "    ns1:distinctSubjects 283 ;\n",
            "    ns1:entities 283 ;\n",
            "    ns1:properties 1 ;\n",
            "    ns1:property <https://ifmo.ru/etsilence/ontologies/2021/4/network-ontology#deviceForProtocol> ;\n",
            "    ns1:triples 495 .\n",
            "\n",
            "<http://example.org/Dataset_property9> a ns1:Dataset ;\n",
            "    ns1:classes 2 ;\n",
            "    ns1:distinctObjects 6 ;\n",
            "    ns1:distinctSubjects 12 ;\n",
            "    ns1:entities 12 ;\n",
            "    ns1:properties 1 ;\n",
            "    ns1:property rdfs:range ;\n",
            "    ns1:triples 12 .\n",
            "\n",
            "\n"
          ],
          "name": "stdout"
        }
      ]
    },
    {
      "cell_type": "markdown",
      "metadata": {
        "id": "5Tv4ctN8kp35"
      },
      "source": [
        "## Reasoning"
      ]
    },
    {
      "cell_type": "code",
      "metadata": {
        "colab": {
          "base_uri": "https://localhost:8080/"
        },
        "id": "vTHZ3qWJksan",
        "outputId": "097f94b9-0195-434d-93b1-61ffd1705343"
      },
      "source": [
        "!apt-get install -y openjdk8-jdk-headless -qq > /dev/null\n",
        "os.environ[\"JAVA_HOME\"] = 'usr/lib/jvm/java8-openjdk-amd64'\n",
        "!java -version\n",
        "!pip install owlready2"
      ],
      "execution_count": null,
      "outputs": [
        {
          "output_type": "stream",
          "text": [
            "E: Unable to locate package openjdk8-jdk-headless\n",
            "openjdk version \"11.0.11\" 2021-04-20\n",
            "OpenJDK Runtime Environment (build 11.0.11+9-Ubuntu-0ubuntu2.18.04)\n",
            "OpenJDK 64-Bit Server VM (build 11.0.11+9-Ubuntu-0ubuntu2.18.04, mixed mode, sharing)\n",
            "Requirement already satisfied: owlready2 in /usr/local/lib/python3.7/dist-packages (0.31)\n"
          ],
          "name": "stdout"
        }
      ]
    },
    {
      "cell_type": "code",
      "metadata": {
        "id": "LPzhspfcmWZR",
        "colab": {
          "base_uri": "https://localhost:8080/"
        },
        "outputId": "3afdc73c-6962-4127-8c2d-b670f06e5c4e"
      },
      "source": [
        "from owlready2 import *\n",
        "import owlready2\n",
        "\n",
        "ontology = get_ontology('OutputOntology.owl').load()\n",
        "\n",
        "with ontology:\n",
        "  sync_reasoner(infer_property_values=True)\n",
        "  ontology.save('network-ontology-inferred.owl', format=\"ntriples\")"
      ],
      "execution_count": null,
      "outputs": [
        {
          "output_type": "stream",
          "text": [
            "* Owlready2 * Running HermiT...\n",
            "    java -Xmx2000M -cp /usr/local/lib/python3.7/dist-packages/owlready2/hermit:/usr/local/lib/python3.7/dist-packages/owlready2/hermit/HermiT.jar org.semanticweb.HermiT.cli.CommandLine -c -O -D -I file:////tmp/tmpqoqga4xj -Y\n",
            "* Owlready2 * HermiT took 3.5510876178741455 seconds\n",
            "* Owlready * (NB: only changes on entities loaded in Python are shown, other changes are done but not listed)\n"
          ],
          "name": "stderr"
        }
      ]
    },
    {
      "cell_type": "markdown",
      "metadata": {
        "id": "8Q5PJSU0T6lp"
      },
      "source": [
        "#SPARQL queries"
      ]
    },
    {
      "cell_type": "markdown",
      "metadata": {
        "id": "f22YFNDQT_Bi"
      },
      "source": [
        "### Open Inferred OWL"
      ]
    },
    {
      "cell_type": "code",
      "metadata": {
        "id": "hkxHBtWrUj_Q"
      },
      "source": [
        "g = g.parse(\"network-ontology-inferred.owl\", format=\"ntriples\")"
      ],
      "execution_count": null,
      "outputs": []
    },
    {
      "cell_type": "markdown",
      "metadata": {
        "id": "tOb3B4FAU7WE"
      },
      "source": [
        "### Which protocols belongs to OSI layer #1?"
      ]
    },
    {
      "cell_type": "code",
      "metadata": {
        "id": "GpXz6mhaT9QL"
      },
      "source": [
        "qres = g.query(\"\"\"\n",
        "  PREFIX rdf: <http://www.w3.org/1999/02/22-rdf-syntax-ns#>\n",
        "  PREFIX owl: <http://www.w3.org/2002/07/owl#>\n",
        "  PREFIX rdfs: <http://www.w3.org/2000/01/rdf-schema#>\n",
        "  PREFIX xsd: <http://www.w3.org/2001/XMLSchema#>\n",
        "  PREFIX : <https://ifmo.ru/etsilence/ontologies/2021/4/network-ontology#>\n",
        "  PREFIX inferred: <https://ifmo.ru/etsilence/ontologies/2021/4/network-ontology-inferred#>\n",
        "\n",
        "  SELECT ?protocol ?layer ?layerNumber\n",
        "\t  WHERE  { \n",
        "\t\t  ?protocol rdf:type :OSIProtocol.\n",
        "\t\t  ?protocol :belongsToLayer ?layer.\n",
        "\t\t  ?layer :hasLayerNumber ?layerNumber.\n",
        "\t\t  FILTER(?layerNumber = 1)\n",
        "\t  }\n",
        "\"\"\")\n",
        "\n",
        "for row in qres:\n",
        "  print(row)"
      ],
      "execution_count": null,
      "outputs": []
    },
    {
      "cell_type": "markdown",
      "metadata": {
        "id": "xa3eGYsGVEbp"
      },
      "source": [
        "### Which devices support 802.11n protocol?"
      ]
    },
    {
      "cell_type": "code",
      "metadata": {
        "id": "d4lXSJJ4VLpX"
      },
      "source": [
        "qres = g.query(\"\"\"\n",
        "  PREFIX rdf: <http://www.w3.org/1999/02/22-rdf-syntax-ns#>\n",
        "  PREFIX owl: <http://www.w3.org/2002/07/owl#>\n",
        "  PREFIX rdfs: <http://www.w3.org/2000/01/rdf-schema#>\n",
        "  PREFIX xsd: <http://www.w3.org/2001/XMLSchema#>\n",
        "  PREFIX : <https://ifmo.ru/etsilence/ontologies/2021/4/network-ontology#>\n",
        "  PREFIX inferred: <https://ifmo.ru/etsilence/ontologies/2021/4/network-ontology-inferred#>\n",
        "\n",
        "  \n",
        "  SELECT ?device ?protocol\n",
        "\t  WHERE { \n",
        "\t\t  ?protocol rdf:type :OSIProtocol.\n",
        "\t\t  ?device :deviceForProtocol ?protocol.\n",
        "\t\t  FILTER(?protocol = :802.11n)\n",
        "\t  }\n",
        "\"\"\")\n",
        "\n",
        "for row in qres:\n",
        "  print(row)"
      ],
      "execution_count": null,
      "outputs": []
    },
    {
      "cell_type": "markdown",
      "metadata": {
        "id": "omNjoJfIWx6F"
      },
      "source": [
        "### Which devices can work on temperature +100 C"
      ]
    },
    {
      "cell_type": "code",
      "metadata": {
        "id": "zuMppdrrWxY5"
      },
      "source": [
        "qres = g.query(\"\"\"\n",
        "  PREFIX rdf: <http://www.w3.org/1999/02/22-rdf-syntax-ns#>\n",
        "  PREFIX owl: <http://www.w3.org/2002/07/owl#>\n",
        "  PREFIX rdfs: <http://www.w3.org/2000/01/rdf-schema#>\n",
        "  PREFIX xsd: <http://www.w3.org/2001/XMLSchema#>\n",
        "  PREFIX : <https://ifmo.ru/etsilence/ontologies/2021/4/network-ontology#>\n",
        "  PREFIX inferred: <https://ifmo.ru/etsilence/ontologies/2021/4/network-ontology-inferred#>\n",
        "\n",
        "  \n",
        "  SELECT ?device ?minTemperature ?maxTemperature\n",
        "\t  WHERE { \n",
        "\t\t  ?device rdf:type :NetworkDevice.\n",
        "\t\t  ?device :deviceMaxTemperature ?maxTemperature.\n",
        "\t\t  ?device :deviceMinTemperature ?minTemperature.\n",
        "\t\t  FILTER(?maxTemperature >= 100 && ?minTemperature <= 100)\n",
        "\t  }\n",
        "\"\"\")\n",
        "\n",
        "for row in qres:\n",
        "  print(row)\n",
        "\n"
      ],
      "execution_count": null,
      "outputs": []
    },
    {
      "cell_type": "markdown",
      "metadata": {
        "id": "Jnmor2YBXX6g"
      },
      "source": [
        "### Which devices can work with temperature -30 C"
      ]
    },
    {
      "cell_type": "code",
      "metadata": {
        "id": "2GyLFcTwXGFA"
      },
      "source": [
        "qres = g.query(\"\"\"\n",
        "  PREFIX rdf: <http://www.w3.org/1999/02/22-rdf-syntax-ns#>\n",
        "  PREFIX owl: <http://www.w3.org/2002/07/owl#>\n",
        "  PREFIX rdfs: <http://www.w3.org/2000/01/rdf-schema#>\n",
        "  PREFIX xsd: <http://www.w3.org/2001/XMLSchema#>\n",
        "  PREFIX : <https://ifmo.ru/etsilence/ontologies/2021/4/network-ontology#>\n",
        "  PREFIX inferred: <https://ifmo.ru/etsilence/ontologies/2021/4/network-ontology-inferred#>\n",
        "\n",
        "  \n",
        "  SELECT ?device ?minTemperature ?maxTemperature\n",
        "\t  WHERE { \n",
        "\t\t  ?device rdf:type :NetworkDevice.\n",
        "\t\t  ?device :deviceMaxTemperature ?maxTemperature.\n",
        "\t\t  ?device :deviceMinTemperature ?minTemperature.\n",
        "\t\t  FILTER(?maxTemperature >= -30 && ?minTemperature <= -30)\n",
        "\t  }\n",
        "\"\"\")\n",
        "\n",
        "for row in qres:\n",
        "  print(row)\n"
      ],
      "execution_count": null,
      "outputs": []
    },
    {
      "cell_type": "markdown",
      "metadata": {
        "id": "plps6q3H5Md0"
      },
      "source": [
        "### Which physical devices can work in frequency 5000MHz"
      ]
    },
    {
      "cell_type": "code",
      "metadata": {
        "id": "UpC9gA0y5XxZ"
      },
      "source": [
        "qres = g.query(\"\"\"\n",
        "  PREFIX rdf: <http://www.w3.org/1999/02/22-rdf-syntax-ns#>\n",
        "  PREFIX owl: <http://www.w3.org/2002/07/owl#>\n",
        "  PREFIX rdfs: <http://www.w3.org/2000/01/rdf-schema#>\n",
        "  PREFIX xsd: <http://www.w3.org/2001/XMLSchema#>\n",
        "  PREFIX : <https://ifmo.ru/etsilence/ontologies/2021/4/network-ontology#>\n",
        "  PREFIX inferred: <https://ifmo.ru/etsilence/ontologies/2021/4/network-ontology-inferred#>\n",
        "\n",
        "  \n",
        "  SELECT ?device ?protocol ?freqLow ?freqHigh \n",
        "\t  WHERE { \n",
        "\t\t  ?device rdf:type :NetworkDevice.\n",
        "\t\t  ?device :deviceForOsiLayer :physical.\n",
        "      ?device :deviceForProtocol ?protocol.\n",
        "      ?protocol :hasFrequencyRange ?freqRange.\n",
        "      ?freqRange :frequencyRangeLowerBound ?freqLow.\n",
        "      ?freqRange :frequencyRangeHigherBound ?freqHigh.\n",
        "      FILTER (?freqHigh >= 5000 && ?freqLow <= 5000)\n",
        "\t  }\n",
        "\"\"\")\n",
        "\n",
        "for row in qres:\n",
        "  print(row)\n"
      ],
      "execution_count": null,
      "outputs": []
    },
    {
      "cell_type": "markdown",
      "metadata": {
        "id": "LvEce5UG8oue"
      },
      "source": [
        "### Which Manufacturers produce devices for Bluetooth protocols"
      ]
    },
    {
      "cell_type": "code",
      "metadata": {
        "id": "922p5bJx8HTb"
      },
      "source": [
        "qres = g.query(\"\"\"\n",
        "  PREFIX rdf: <http://www.w3.org/1999/02/22-rdf-syntax-ns#>\n",
        "  PREFIX owl: <http://www.w3.org/2002/07/owl#>\n",
        "  PREFIX rdfs: <http://www.w3.org/2000/01/rdf-schema#>\n",
        "  PREFIX xsd: <http://www.w3.org/2001/XMLSchema#>\n",
        "  PREFIX : <https://ifmo.ru/etsilence/ontologies/2021/4/network-ontology#>\n",
        "  PREFIX inferred: <https://ifmo.ru/etsilence/ontologies/2021/4/network-ontology-inferred#>\n",
        "\n",
        "  \n",
        "  SELECT ?manufacturer ?protocol\n",
        "\t  WHERE { \n",
        "\t\t  ?device rdf:type :NetworkDevice.\n",
        "      ?device :deviceForProtocol ?protocol.\n",
        "      ?device :deviceManufacturer ?manufacturer.\n",
        "      FILTER (regex(str(?protocol), \"Bluetooth\", \"i\"))\n",
        "\t  }\n",
        "\"\"\")\n",
        "\n",
        "for row in qres:\n",
        "  print(row)\n"
      ],
      "execution_count": null,
      "outputs": []
    },
    {
      "cell_type": "markdown",
      "metadata": {
        "id": "csuinUTLyu8O"
      },
      "source": [
        "# SHACL"
      ]
    },
    {
      "cell_type": "markdown",
      "metadata": {
        "id": "PAUqc92kzYfj"
      },
      "source": [
        "### Install dependencies for SHACL"
      ]
    },
    {
      "cell_type": "code",
      "metadata": {
        "colab": {
          "base_uri": "https://localhost:8080/"
        },
        "id": "jZ9UM_KfyudO",
        "outputId": "bd6d78be-e0b5-437d-eaed-4713ff1a7e06"
      },
      "source": [
        "!pip install SPARQLWrapper\n",
        "!apt-get install netbase\n",
        "!pip install pyshacl\n",
        "\n"
      ],
      "execution_count": null,
      "outputs": [
        {
          "output_type": "stream",
          "text": [
            "Requirement already satisfied: SPARQLWrapper in /usr/local/lib/python3.7/dist-packages (1.8.5)\n",
            "Requirement already satisfied: rdflib>=4.0 in /usr/local/lib/python3.7/dist-packages (from SPARQLWrapper) (5.0.0)\n",
            "Requirement already satisfied: pyparsing in /usr/local/lib/python3.7/dist-packages (from rdflib>=4.0->SPARQLWrapper) (2.4.7)\n",
            "Requirement already satisfied: six in /usr/local/lib/python3.7/dist-packages (from rdflib>=4.0->SPARQLWrapper) (1.15.0)\n",
            "Requirement already satisfied: isodate in /usr/local/lib/python3.7/dist-packages (from rdflib>=4.0->SPARQLWrapper) (0.6.0)\n",
            "Reading package lists... Done\n",
            "Building dependency tree       \n",
            "Reading state information... Done\n",
            "netbase is already the newest version (5.4).\n",
            "The following package was automatically installed and is no longer required:\n",
            "  libnvidia-common-460\n",
            "Use 'apt autoremove' to remove it.\n",
            "0 upgraded, 0 newly installed, 0 to remove and 34 not upgraded.\n",
            "Requirement already satisfied: pyshacl in /usr/local/lib/python3.7/dist-packages (0.14.3)\n",
            "Requirement already satisfied: rdflib-jsonld<0.6.0,>=0.5.0 in /usr/local/lib/python3.7/dist-packages (from pyshacl) (0.5.0)\n",
            "Requirement already satisfied: owlrl<6.0.0,>=5.2.1 in /usr/local/lib/python3.7/dist-packages (from pyshacl) (5.2.1)\n",
            "Requirement already satisfied: rdflib<6.0.0,>=5.0.0 in /usr/local/lib/python3.7/dist-packages (from pyshacl) (5.0.0)\n",
            "Requirement already satisfied: isodate in /usr/local/lib/python3.7/dist-packages (from rdflib<6.0.0,>=5.0.0->pyshacl) (0.6.0)\n",
            "Requirement already satisfied: pyparsing in /usr/local/lib/python3.7/dist-packages (from rdflib<6.0.0,>=5.0.0->pyshacl) (2.4.7)\n",
            "Requirement already satisfied: six in /usr/local/lib/python3.7/dist-packages (from rdflib<6.0.0,>=5.0.0->pyshacl) (1.15.0)\n"
          ],
          "name": "stdout"
        }
      ]
    },
    {
      "cell_type": "code",
      "metadata": {
        "id": "OVm1u3v-0VXU"
      },
      "source": [
        "shapes_file = '''\n",
        "@prefix rdf:   <http://www.w3.org/1999/02/22-rdf-syntax-ns#> .\n",
        "@prefix sh:    <http://www.w3.org/ns/shacl#> .\n",
        "@prefix xsd:   <http://www.w3.org/2001/XMLSchema#> .\n",
        "@prefix rdfs:  <http://www.w3.org/2000/01/rdf-schema#> .\n",
        "@prefix owl:   <http://www.w3.org/2002/07/owl#> .\n",
        "@prefix :   <https://ifmo.ru/etsilence/ontologies/2021/4/network-ontology#> .\n",
        "\n",
        "\n",
        ":FrequencyRangeConstraints\n",
        "    a sh:NodeShape ;\n",
        "    sh:targetClass :FrequencyRange ; # Applies to all persons\n",
        "    sh:property [              # _:b0\n",
        "        sh:path :frequencyRangeLowerBound ;       # constrains the values of ex:ssn\n",
        "        sh:lessThanOrEquals :frequencyRangeHigherBound ;\n",
        "        sh:maxCount 1\n",
        "    ] ;\n",
        "    sh:property [              # _:b0\n",
        "        sh:path :frequencyRangeHigherBound ;       # constrains the values of ex:ssn\n",
        "        sh:maxCount 1\n",
        "    ] ;\n",
        ".\n",
        "\n",
        ":NetworkDeviceConstraints\n",
        "    a sh:NodeShape ;\n",
        "    sh:targetClass :NetworkDevice ; # Applies to all persons\n",
        "    sh:property [              # _:b0\n",
        "        sh:path :deviceMinTemperature ;       # constrains the values of ex:ssn\n",
        "        sh:lessThanOrEquals :deviceMaxTemperature ;\n",
        "        sh:maxCount 1\n",
        "    ] ;\n",
        "    sh:property [              # _:b0\n",
        "        sh:path :deviceMaxTemperature ;       # constrains the values of ex:ssn\n",
        "        sh:maxCount 1\n",
        "    ] ;\n",
        " .\n",
        " ###### add SHACL vocabulary ###### \n",
        "\n",
        "'''\n",
        "\n",
        "shapes_file_format = 'turtle'\n",
        "\n"
      ],
      "execution_count": null,
      "outputs": []
    },
    {
      "cell_type": "code",
      "metadata": {
        "colab": {
          "base_uri": "https://localhost:8080/"
        },
        "id": "6pZlwnnp0jqS",
        "outputId": "9cbab00e-dd38-4f87-a384-bf1208ab3da4"
      },
      "source": [
        "from pyshacl import validate\n",
        "\n",
        "conforms, v_graph, v_text = validate(g,\n",
        "                                     shacl_graph=shapes_file,\n",
        "                                     target_graph_format='rdfxml',\n",
        "                                     shacl_graph_format=shapes_file_format,\n",
        "                                     inference='rdfs')\n",
        "print(conforms)"
      ],
      "execution_count": null,
      "outputs": [
        {
          "output_type": "stream",
          "text": [
            "False\n"
          ],
          "name": "stdout"
        }
      ]
    }
  ]
}